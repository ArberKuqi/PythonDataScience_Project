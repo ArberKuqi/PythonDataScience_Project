{
 "cells": [
  {
   "cell_type": "code",
   "id": "initial_id",
   "metadata": {
    "collapsed": true,
    "ExecuteTime": {
     "end_time": "2025-06-15T12:05:46.433574Z",
     "start_time": "2025-06-15T12:05:43.090582Z"
    }
   },
   "source": [
    "import pandas as pd\n",
    "import numpy as np\n",
    "from sklearn.model_selection import train_test_split\n",
    "from sklearn.preprocessing import OneHotEncoder, StandardScaler\n",
    "from sklearn.compose import ColumnTransformer\n",
    "from sklearn.pipeline import Pipeline\n",
    "from sklearn.impute import SimpleImputer\n",
    "from sklearn.linear_model import LinearRegression\n",
    "import matplotlib.pyplot as plt\n",
    "import plotly.express as px\n",
    "import plotly.graph_objects as go"
   ],
   "outputs": [],
   "execution_count": 1
  },
  {
   "metadata": {
    "ExecuteTime": {
     "end_time": "2025-06-15T12:05:47.165583Z",
     "start_time": "2025-06-15T12:05:46.725520Z"
    }
   },
   "cell_type": "code",
   "source": "ucl = pd.read_excel('UCL_playerstats_orig.xlsx')",
   "id": "cdf25b386f7fc5be",
   "outputs": [],
   "execution_count": 2
  },
  {
   "metadata": {},
   "cell_type": "markdown",
   "source": "#### HAPI 1️⃣: Krijojmë kolonen target → High_Market_Potential",
   "id": "6b5eb3d37e4b7206"
  },
  {
   "metadata": {
    "ExecuteTime": {
     "end_time": "2025-06-15T12:19:34.541646Z",
     "start_time": "2025-06-15T12:19:34.529702Z"
    }
   },
   "cell_type": "code",
   "source": [
    "ucl['High_Market_Potential'] = (\n",
    "    (ucl['Age'] <= 23) &\n",
    "    (\n",
    "        (ucl['Rating'] > 7.40) |\n",
    "        (ucl['Goals'] > 4 ) |\n",
    "        (ucl['Assists'] > 4 )\n",
    "    )\n",
    ").astype(int)"
   ],
   "id": "e0abaae729b63ba7",
   "outputs": [],
   "execution_count": 134
  },
  {
   "metadata": {
    "ExecuteTime": {
     "end_time": "2025-06-15T12:19:35.803195Z",
     "start_time": "2025-06-15T12:19:35.791429Z"
    }
   },
   "cell_type": "code",
   "source": "ucl['High_Market_Potential']",
   "id": "e3bb4a98b71661e8",
   "outputs": [
    {
     "data": {
      "text/plain": [
       "0      0\n",
       "1      0\n",
       "2      0\n",
       "3      0\n",
       "4      0\n",
       "      ..\n",
       "205    0\n",
       "206    0\n",
       "207    0\n",
       "208    0\n",
       "209    0\n",
       "Name: High_Market_Potential, Length: 210, dtype: int64"
      ]
     },
     "execution_count": 135,
     "metadata": {},
     "output_type": "execute_result"
    }
   ],
   "execution_count": 135
  },
  {
   "metadata": {},
   "cell_type": "markdown",
   "source": "#### Hapi 2️⃣ veqorit per klasifikim",
   "id": "e00de58a8ae0623c"
  },
  {
   "metadata": {
    "ExecuteTime": {
     "end_time": "2025-06-15T12:23:01.931910Z",
     "start_time": "2025-06-15T12:23:01.922828Z"
    }
   },
   "cell_type": "code",
   "source": [
    "features = [\n",
    "    'Age', 'Position', 'Team', 'Rating','Goals','Assists'\n",
    "]\n",
    "\n",
    "X = pd.get_dummies(ucl[features], drop_first=True)\n",
    "y = ucl['High_Market_Potential']"
   ],
   "id": "f63a550ab331b4f5",
   "outputs": [],
   "execution_count": 154
  },
  {
   "metadata": {},
   "cell_type": "markdown",
   "source": "#### HAPI 3️⃣: Train/test split dhe modelimi me Logistic Regression",
   "id": "823c23fa100b9806"
  },
  {
   "metadata": {
    "ExecuteTime": {
     "end_time": "2025-06-15T12:23:04.985522Z",
     "start_time": "2025-06-15T12:23:04.902316Z"
    }
   },
   "cell_type": "code",
   "source": [
    "from sklearn.linear_model import LogisticRegression\n",
    "from sklearn.metrics import accuracy_score, precision_score, recall_score, f1_score, confusion_matrix\n",
    "\n",
    "X_train, X_test, y_train, y_test = train_test_split(X, y, test_size=0.8, random_state=42)\n",
    "\n",
    "model = LogisticRegression(max_iter=1000,)\n",
    "model.fit(X_train, y_train)\n",
    "preds = model.predict(X_test)"
   ],
   "id": "5c6ee5209996bad1",
   "outputs": [],
   "execution_count": 155
  },
  {
   "metadata": {
    "ExecuteTime": {
     "end_time": "2025-06-15T12:23:05.428474Z",
     "start_time": "2025-06-15T12:23:05.396525Z"
    }
   },
   "cell_type": "code",
   "source": [
    "\n",
    "print(\"Logistic Regression PER High Market Potential:\")\n",
    "print(\"Accuracy :\", round(accuracy_score(y_test, preds), 2))\n",
    "print(\"Precision:\", round(precision_score(y_test, preds), 2))\n",
    "print(\"Recall   :\", round(recall_score(y_test, preds), 2))\n",
    "print(\"F1-Score :\", round(f1_score(y_test, preds), 2))"
   ],
   "id": "28af398bfb69f2c5",
   "outputs": [
    {
     "name": "stdout",
     "output_type": "stream",
     "text": [
      "Logistic Regression PER High Market Potential:\n",
      "Accuracy : 0.95\n",
      "Precision: 0.64\n",
      "Recall   : 0.69\n",
      "F1-Score : 0.67\n"
     ]
    }
   ],
   "execution_count": 156
  },
  {
   "metadata": {},
   "cell_type": "markdown",
   "source": "#### HAPI 4️⃣: Vlersimi i modelit",
   "id": "2e1cb62a6321b62"
  },
  {
   "metadata": {
    "ExecuteTime": {
     "end_time": "2025-06-15T12:23:07.685269Z",
     "start_time": "2025-06-15T12:23:07.670723Z"
    }
   },
   "cell_type": "code",
   "source": [
    "ucl['Predicted_Potential'] = model.predict(X)\n",
    "\n",
    "potential_players = ucl[ucl['Predicted_Potential'] == 1][['Player', 'Team' ,'Age', 'Goals', 'Assists','Rating']]"
   ],
   "id": "88ac1c4ca8682c01",
   "outputs": [],
   "execution_count": 157
  },
  {
   "metadata": {
    "ExecuteTime": {
     "end_time": "2025-06-15T12:23:08.853317Z",
     "start_time": "2025-06-15T12:23:08.835411Z"
    }
   },
   "cell_type": "code",
   "source": "potential_players",
   "id": "ae1caedbd0c77fd5",
   "outputs": [
    {
     "data": {
      "text/plain": [
       "               Player              Team  Age  Goals  Assists  Rating\n",
       "5     Jude Bellingham       Real Madrid   21      3        2    7.60\n",
       "15              Yamal         Barcelona   17      5        3    7.92\n",
       "37        Vinicius Jr       Real Madrid   24      8        3    7.79\n",
       "50   Santiago Gimenez             Milan   23      6        1    7.33\n",
       "63     Benjamin Sesko           Leipzig   21      4        0    6.91\n",
       "81             Quenda       Sporting CP   18      0        0    6.90\n",
       "82            Barcola          Paris SG   22      3        4    7.22\n",
       "88        Bukayo Saka        Arsenal FC   23      6        2    7.49\n",
       "90       Kenan Yildiz         Juventus    20      1        1    6.97\n",
       "93        Desire Doue          Paris SG   19      5        5    7.39\n",
       "119     Lamine Camara            Monaco   20      0        0    7.11\n",
       "129       Nuno Mendes          Paris SG   22      4        2    7.74\n",
       "145       Arne Engels            Celtic   21      1        3    7.06\n",
       "155           Tillman     PSV Eindhoven   22      3        2    7.75\n",
       "164           Gittens      BVB Dortmund   20      4        0    7.00\n",
       "167     Jamal Musiala     Bayern Munich   22      3        4    7.55\n",
       "175        Joao Neves          Paris SG   20      1        1    7.53\n",
       "176           Haaland   Manchester City   24      8        0    7.61\n",
       "181     Florian Wirtz  Bayer Leverkusen   22      6        1    7.71\n",
       "188            Rogers       Aston Villa   22      4        3    7.20\n",
       "190           Milambo         Feyenoord   20      3        1    7.13"
      ],
      "text/html": [
       "<div>\n",
       "<style scoped>\n",
       "    .dataframe tbody tr th:only-of-type {\n",
       "        vertical-align: middle;\n",
       "    }\n",
       "\n",
       "    .dataframe tbody tr th {\n",
       "        vertical-align: top;\n",
       "    }\n",
       "\n",
       "    .dataframe thead th {\n",
       "        text-align: right;\n",
       "    }\n",
       "</style>\n",
       "<table border=\"1\" class=\"dataframe\">\n",
       "  <thead>\n",
       "    <tr style=\"text-align: right;\">\n",
       "      <th></th>\n",
       "      <th>Player</th>\n",
       "      <th>Team</th>\n",
       "      <th>Age</th>\n",
       "      <th>Goals</th>\n",
       "      <th>Assists</th>\n",
       "      <th>Rating</th>\n",
       "    </tr>\n",
       "  </thead>\n",
       "  <tbody>\n",
       "    <tr>\n",
       "      <th>5</th>\n",
       "      <td>Jude Bellingham</td>\n",
       "      <td>Real Madrid</td>\n",
       "      <td>21</td>\n",
       "      <td>3</td>\n",
       "      <td>2</td>\n",
       "      <td>7.60</td>\n",
       "    </tr>\n",
       "    <tr>\n",
       "      <th>15</th>\n",
       "      <td>Yamal</td>\n",
       "      <td>Barcelona</td>\n",
       "      <td>17</td>\n",
       "      <td>5</td>\n",
       "      <td>3</td>\n",
       "      <td>7.92</td>\n",
       "    </tr>\n",
       "    <tr>\n",
       "      <th>37</th>\n",
       "      <td>Vinicius Jr</td>\n",
       "      <td>Real Madrid</td>\n",
       "      <td>24</td>\n",
       "      <td>8</td>\n",
       "      <td>3</td>\n",
       "      <td>7.79</td>\n",
       "    </tr>\n",
       "    <tr>\n",
       "      <th>50</th>\n",
       "      <td>Santiago Gimenez</td>\n",
       "      <td>Milan</td>\n",
       "      <td>23</td>\n",
       "      <td>6</td>\n",
       "      <td>1</td>\n",
       "      <td>7.33</td>\n",
       "    </tr>\n",
       "    <tr>\n",
       "      <th>63</th>\n",
       "      <td>Benjamin Sesko</td>\n",
       "      <td>Leipzig</td>\n",
       "      <td>21</td>\n",
       "      <td>4</td>\n",
       "      <td>0</td>\n",
       "      <td>6.91</td>\n",
       "    </tr>\n",
       "    <tr>\n",
       "      <th>81</th>\n",
       "      <td>Quenda</td>\n",
       "      <td>Sporting CP</td>\n",
       "      <td>18</td>\n",
       "      <td>0</td>\n",
       "      <td>0</td>\n",
       "      <td>6.90</td>\n",
       "    </tr>\n",
       "    <tr>\n",
       "      <th>82</th>\n",
       "      <td>Barcola</td>\n",
       "      <td>Paris SG</td>\n",
       "      <td>22</td>\n",
       "      <td>3</td>\n",
       "      <td>4</td>\n",
       "      <td>7.22</td>\n",
       "    </tr>\n",
       "    <tr>\n",
       "      <th>88</th>\n",
       "      <td>Bukayo Saka</td>\n",
       "      <td>Arsenal FC</td>\n",
       "      <td>23</td>\n",
       "      <td>6</td>\n",
       "      <td>2</td>\n",
       "      <td>7.49</td>\n",
       "    </tr>\n",
       "    <tr>\n",
       "      <th>90</th>\n",
       "      <td>Kenan Yildiz</td>\n",
       "      <td>Juventus</td>\n",
       "      <td>20</td>\n",
       "      <td>1</td>\n",
       "      <td>1</td>\n",
       "      <td>6.97</td>\n",
       "    </tr>\n",
       "    <tr>\n",
       "      <th>93</th>\n",
       "      <td>Desire Doue</td>\n",
       "      <td>Paris SG</td>\n",
       "      <td>19</td>\n",
       "      <td>5</td>\n",
       "      <td>5</td>\n",
       "      <td>7.39</td>\n",
       "    </tr>\n",
       "    <tr>\n",
       "      <th>119</th>\n",
       "      <td>Lamine Camara</td>\n",
       "      <td>Monaco</td>\n",
       "      <td>20</td>\n",
       "      <td>0</td>\n",
       "      <td>0</td>\n",
       "      <td>7.11</td>\n",
       "    </tr>\n",
       "    <tr>\n",
       "      <th>129</th>\n",
       "      <td>Nuno Mendes</td>\n",
       "      <td>Paris SG</td>\n",
       "      <td>22</td>\n",
       "      <td>4</td>\n",
       "      <td>2</td>\n",
       "      <td>7.74</td>\n",
       "    </tr>\n",
       "    <tr>\n",
       "      <th>145</th>\n",
       "      <td>Arne Engels</td>\n",
       "      <td>Celtic</td>\n",
       "      <td>21</td>\n",
       "      <td>1</td>\n",
       "      <td>3</td>\n",
       "      <td>7.06</td>\n",
       "    </tr>\n",
       "    <tr>\n",
       "      <th>155</th>\n",
       "      <td>Tillman</td>\n",
       "      <td>PSV Eindhoven</td>\n",
       "      <td>22</td>\n",
       "      <td>3</td>\n",
       "      <td>2</td>\n",
       "      <td>7.75</td>\n",
       "    </tr>\n",
       "    <tr>\n",
       "      <th>164</th>\n",
       "      <td>Gittens</td>\n",
       "      <td>BVB Dortmund</td>\n",
       "      <td>20</td>\n",
       "      <td>4</td>\n",
       "      <td>0</td>\n",
       "      <td>7.00</td>\n",
       "    </tr>\n",
       "    <tr>\n",
       "      <th>167</th>\n",
       "      <td>Jamal Musiala</td>\n",
       "      <td>Bayern Munich</td>\n",
       "      <td>22</td>\n",
       "      <td>3</td>\n",
       "      <td>4</td>\n",
       "      <td>7.55</td>\n",
       "    </tr>\n",
       "    <tr>\n",
       "      <th>175</th>\n",
       "      <td>Joao Neves</td>\n",
       "      <td>Paris SG</td>\n",
       "      <td>20</td>\n",
       "      <td>1</td>\n",
       "      <td>1</td>\n",
       "      <td>7.53</td>\n",
       "    </tr>\n",
       "    <tr>\n",
       "      <th>176</th>\n",
       "      <td>Haaland</td>\n",
       "      <td>Manchester City</td>\n",
       "      <td>24</td>\n",
       "      <td>8</td>\n",
       "      <td>0</td>\n",
       "      <td>7.61</td>\n",
       "    </tr>\n",
       "    <tr>\n",
       "      <th>181</th>\n",
       "      <td>Florian Wirtz</td>\n",
       "      <td>Bayer Leverkusen</td>\n",
       "      <td>22</td>\n",
       "      <td>6</td>\n",
       "      <td>1</td>\n",
       "      <td>7.71</td>\n",
       "    </tr>\n",
       "    <tr>\n",
       "      <th>188</th>\n",
       "      <td>Rogers</td>\n",
       "      <td>Aston Villa</td>\n",
       "      <td>22</td>\n",
       "      <td>4</td>\n",
       "      <td>3</td>\n",
       "      <td>7.20</td>\n",
       "    </tr>\n",
       "    <tr>\n",
       "      <th>190</th>\n",
       "      <td>Milambo</td>\n",
       "      <td>Feyenoord</td>\n",
       "      <td>20</td>\n",
       "      <td>3</td>\n",
       "      <td>1</td>\n",
       "      <td>7.13</td>\n",
       "    </tr>\n",
       "  </tbody>\n",
       "</table>\n",
       "</div>"
      ]
     },
     "execution_count": 158,
     "metadata": {},
     "output_type": "execute_result"
    }
   ],
   "execution_count": 158
  },
  {
   "metadata": {
    "ExecuteTime": {
     "end_time": "2025-06-15T12:05:47.832166Z",
     "start_time": "2025-06-15T12:05:47.828436Z"
    }
   },
   "cell_type": "code",
   "source": "",
   "id": "34119dc1415072e",
   "outputs": [],
   "execution_count": null
  },
  {
   "metadata": {
    "ExecuteTime": {
     "end_time": "2025-06-15T12:05:47.874309Z",
     "start_time": "2025-06-15T12:05:47.870447Z"
    }
   },
   "cell_type": "code",
   "source": "",
   "id": "da730cfd1659fe28",
   "outputs": [],
   "execution_count": null
  }
 ],
 "metadata": {
  "kernelspec": {
   "display_name": "Python 3",
   "language": "python",
   "name": "python3"
  },
  "language_info": {
   "codemirror_mode": {
    "name": "ipython",
    "version": 2
   },
   "file_extension": ".py",
   "mimetype": "text/x-python",
   "name": "python",
   "nbconvert_exporter": "python",
   "pygments_lexer": "ipython2",
   "version": "2.7.6"
  }
 },
 "nbformat": 4,
 "nbformat_minor": 5
}
