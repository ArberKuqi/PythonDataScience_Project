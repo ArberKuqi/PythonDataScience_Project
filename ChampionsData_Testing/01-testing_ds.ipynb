{
 "cells": [
  {
   "cell_type": "code",
   "id": "initial_id",
   "metadata": {
    "collapsed": true,
    "ExecuteTime": {
     "end_time": "2025-06-02T12:39:47.271630Z",
     "start_time": "2025-06-02T12:39:47.265751Z"
    }
   },
   "source": [
    "import pandas as pd\n",
    "import numpy as np\n",
    "import seaborn as sns\n",
    "import plotly.express as px\n",
    "import matplotlib.pyplot as plt\n",
    "import plotly.graph_objects as go"
   ],
   "outputs": [],
   "execution_count": 2
  },
  {
   "metadata": {
    "ExecuteTime": {
     "end_time": "2025-06-02T12:39:47.828866Z",
     "start_time": "2025-06-02T12:39:47.312046Z"
    }
   },
   "cell_type": "code",
   "source": "ucl = pd.read_excel('UCL_playerstats_Original.xlsx')",
   "id": "be395c79d44da33c",
   "outputs": [],
   "execution_count": 3
  },
  {
   "metadata": {
    "ExecuteTime": {
     "end_time": "2025-06-02T12:39:47.884904Z",
     "start_time": "2025-06-02T12:39:47.858165Z"
    }
   },
   "cell_type": "code",
   "source": "ucl",
   "id": "f2fa06820474cc0f",
   "outputs": [
    {
     "data": {
      "text/plain": [
       "     PlayerID          Player    Position  Age  Nationality              Team  \\\n",
       "0           1  Theo Hernandez    Defender   27       France             Milan   \n",
       "1           2  Nicolo Barella  Midfielder   28        Italy             Inter   \n",
       "2           3     Lewandowski     Forward   36       Poland         Barcelona   \n",
       "3           4        Raphinha     Forward   28       Brazil         Barcelona   \n",
       "4           5        Van Dijk    Defender   33  Netherlands      Liverpool FC   \n",
       "..        ...             ...         ...  ...          ...               ...   \n",
       "205       206           Kevin     Forward   22       Brazil  Shakhtar Donetsk   \n",
       "206       207         Cabella  Midfielder   35       France            Lille    \n",
       "207       208       Locatelli  Midfielder   27        Italy         Juventus    \n",
       "208       209        Palacios  Midfielder   26    Argentina  Bayer Leverkusen   \n",
       "209       210          Lucumi    Defender   26     Colombia           Bologna   \n",
       "\n",
       "       Competitions           Phase Phase_Tier  Value10^6  ...  \\\n",
       "0           Serie A  Knockout_phase          D       40.0  ...   \n",
       "1           Serie A           Final          S       80.0  ...   \n",
       "2           La Liga    Semi_finals           A       15.0  ...   \n",
       "3           La Liga    Semi_finals           A       80.0  ...   \n",
       "4    Premier League         Round16          C       50.0  ...   \n",
       "..              ...             ...        ...        ...  ...   \n",
       "205    Premier Liga    League_phase          E       12.0  ...   \n",
       "206         Ligue 1         Round16          C        3.0  ...   \n",
       "207         Serie A  Knockout_phase          D       35.0  ...   \n",
       "208      Bundesliga         Round16          C       40.0  ...   \n",
       "209         Serie A    League_phase          E       18.0  ...   \n",
       "\n",
       "     Balls_recovered  Tackles_Won  Tackles_Lost  Saves  Goals_Conceded  \\\n",
       "0                 53            2             5      0               0   \n",
       "1                 32            8            15      0               0   \n",
       "2                 11            4             1      0               0   \n",
       "3                 18            2             7      0               0   \n",
       "4                 51            3             3      0               0   \n",
       "..               ...          ...           ...    ...             ...   \n",
       "205               17            7             0      0               0   \n",
       "206               13            3             4      0               0   \n",
       "207               51           19            17      0               0   \n",
       "208               48           10            13      0               0   \n",
       "209               40            1             4      0               0   \n",
       "\n",
       "     Clean_Sheets  MOTM_Awards  Minutes_played  Match_played  DNP  \n",
       "0               0            0             861            10    0  \n",
       "1               0            2             994            13    2  \n",
       "2               0            2             985            13    1  \n",
       "3               0            3            1225            14    0  \n",
       "4               0            0             840             9    1  \n",
       "..            ...          ...             ...           ...  ...  \n",
       "205             0            0             460             7    1  \n",
       "206             0            0             388             7    3  \n",
       "207             0            0             673             9    1  \n",
       "208             0            0             666            10    0  \n",
       "209             0            0             531             7    1  \n",
       "\n",
       "[210 rows x 31 columns]"
      ],
      "text/html": [
       "<div>\n",
       "<style scoped>\n",
       "    .dataframe tbody tr th:only-of-type {\n",
       "        vertical-align: middle;\n",
       "    }\n",
       "\n",
       "    .dataframe tbody tr th {\n",
       "        vertical-align: top;\n",
       "    }\n",
       "\n",
       "    .dataframe thead th {\n",
       "        text-align: right;\n",
       "    }\n",
       "</style>\n",
       "<table border=\"1\" class=\"dataframe\">\n",
       "  <thead>\n",
       "    <tr style=\"text-align: right;\">\n",
       "      <th></th>\n",
       "      <th>PlayerID</th>\n",
       "      <th>Player</th>\n",
       "      <th>Position</th>\n",
       "      <th>Age</th>\n",
       "      <th>Nationality</th>\n",
       "      <th>Team</th>\n",
       "      <th>Competitions</th>\n",
       "      <th>Phase</th>\n",
       "      <th>Phase_Tier</th>\n",
       "      <th>Value10^6</th>\n",
       "      <th>...</th>\n",
       "      <th>Balls_recovered</th>\n",
       "      <th>Tackles_Won</th>\n",
       "      <th>Tackles_Lost</th>\n",
       "      <th>Saves</th>\n",
       "      <th>Goals_Conceded</th>\n",
       "      <th>Clean_Sheets</th>\n",
       "      <th>MOTM_Awards</th>\n",
       "      <th>Minutes_played</th>\n",
       "      <th>Match_played</th>\n",
       "      <th>DNP</th>\n",
       "    </tr>\n",
       "  </thead>\n",
       "  <tbody>\n",
       "    <tr>\n",
       "      <th>0</th>\n",
       "      <td>1</td>\n",
       "      <td>Theo Hernandez</td>\n",
       "      <td>Defender</td>\n",
       "      <td>27</td>\n",
       "      <td>France</td>\n",
       "      <td>Milan</td>\n",
       "      <td>Serie A</td>\n",
       "      <td>Knockout_phase</td>\n",
       "      <td>D</td>\n",
       "      <td>40.0</td>\n",
       "      <td>...</td>\n",
       "      <td>53</td>\n",
       "      <td>2</td>\n",
       "      <td>5</td>\n",
       "      <td>0</td>\n",
       "      <td>0</td>\n",
       "      <td>0</td>\n",
       "      <td>0</td>\n",
       "      <td>861</td>\n",
       "      <td>10</td>\n",
       "      <td>0</td>\n",
       "    </tr>\n",
       "    <tr>\n",
       "      <th>1</th>\n",
       "      <td>2</td>\n",
       "      <td>Nicolo Barella</td>\n",
       "      <td>Midfielder</td>\n",
       "      <td>28</td>\n",
       "      <td>Italy</td>\n",
       "      <td>Inter</td>\n",
       "      <td>Serie A</td>\n",
       "      <td>Final</td>\n",
       "      <td>S</td>\n",
       "      <td>80.0</td>\n",
       "      <td>...</td>\n",
       "      <td>32</td>\n",
       "      <td>8</td>\n",
       "      <td>15</td>\n",
       "      <td>0</td>\n",
       "      <td>0</td>\n",
       "      <td>0</td>\n",
       "      <td>2</td>\n",
       "      <td>994</td>\n",
       "      <td>13</td>\n",
       "      <td>2</td>\n",
       "    </tr>\n",
       "    <tr>\n",
       "      <th>2</th>\n",
       "      <td>3</td>\n",
       "      <td>Lewandowski</td>\n",
       "      <td>Forward</td>\n",
       "      <td>36</td>\n",
       "      <td>Poland</td>\n",
       "      <td>Barcelona</td>\n",
       "      <td>La Liga</td>\n",
       "      <td>Semi_finals</td>\n",
       "      <td>A</td>\n",
       "      <td>15.0</td>\n",
       "      <td>...</td>\n",
       "      <td>11</td>\n",
       "      <td>4</td>\n",
       "      <td>1</td>\n",
       "      <td>0</td>\n",
       "      <td>0</td>\n",
       "      <td>0</td>\n",
       "      <td>2</td>\n",
       "      <td>985</td>\n",
       "      <td>13</td>\n",
       "      <td>1</td>\n",
       "    </tr>\n",
       "    <tr>\n",
       "      <th>3</th>\n",
       "      <td>4</td>\n",
       "      <td>Raphinha</td>\n",
       "      <td>Forward</td>\n",
       "      <td>28</td>\n",
       "      <td>Brazil</td>\n",
       "      <td>Barcelona</td>\n",
       "      <td>La Liga</td>\n",
       "      <td>Semi_finals</td>\n",
       "      <td>A</td>\n",
       "      <td>80.0</td>\n",
       "      <td>...</td>\n",
       "      <td>18</td>\n",
       "      <td>2</td>\n",
       "      <td>7</td>\n",
       "      <td>0</td>\n",
       "      <td>0</td>\n",
       "      <td>0</td>\n",
       "      <td>3</td>\n",
       "      <td>1225</td>\n",
       "      <td>14</td>\n",
       "      <td>0</td>\n",
       "    </tr>\n",
       "    <tr>\n",
       "      <th>4</th>\n",
       "      <td>5</td>\n",
       "      <td>Van Dijk</td>\n",
       "      <td>Defender</td>\n",
       "      <td>33</td>\n",
       "      <td>Netherlands</td>\n",
       "      <td>Liverpool FC</td>\n",
       "      <td>Premier League</td>\n",
       "      <td>Round16</td>\n",
       "      <td>C</td>\n",
       "      <td>50.0</td>\n",
       "      <td>...</td>\n",
       "      <td>51</td>\n",
       "      <td>3</td>\n",
       "      <td>3</td>\n",
       "      <td>0</td>\n",
       "      <td>0</td>\n",
       "      <td>0</td>\n",
       "      <td>0</td>\n",
       "      <td>840</td>\n",
       "      <td>9</td>\n",
       "      <td>1</td>\n",
       "    </tr>\n",
       "    <tr>\n",
       "      <th>...</th>\n",
       "      <td>...</td>\n",
       "      <td>...</td>\n",
       "      <td>...</td>\n",
       "      <td>...</td>\n",
       "      <td>...</td>\n",
       "      <td>...</td>\n",
       "      <td>...</td>\n",
       "      <td>...</td>\n",
       "      <td>...</td>\n",
       "      <td>...</td>\n",
       "      <td>...</td>\n",
       "      <td>...</td>\n",
       "      <td>...</td>\n",
       "      <td>...</td>\n",
       "      <td>...</td>\n",
       "      <td>...</td>\n",
       "      <td>...</td>\n",
       "      <td>...</td>\n",
       "      <td>...</td>\n",
       "      <td>...</td>\n",
       "      <td>...</td>\n",
       "    </tr>\n",
       "    <tr>\n",
       "      <th>205</th>\n",
       "      <td>206</td>\n",
       "      <td>Kevin</td>\n",
       "      <td>Forward</td>\n",
       "      <td>22</td>\n",
       "      <td>Brazil</td>\n",
       "      <td>Shakhtar Donetsk</td>\n",
       "      <td>Premier Liga</td>\n",
       "      <td>League_phase</td>\n",
       "      <td>E</td>\n",
       "      <td>12.0</td>\n",
       "      <td>...</td>\n",
       "      <td>17</td>\n",
       "      <td>7</td>\n",
       "      <td>0</td>\n",
       "      <td>0</td>\n",
       "      <td>0</td>\n",
       "      <td>0</td>\n",
       "      <td>0</td>\n",
       "      <td>460</td>\n",
       "      <td>7</td>\n",
       "      <td>1</td>\n",
       "    </tr>\n",
       "    <tr>\n",
       "      <th>206</th>\n",
       "      <td>207</td>\n",
       "      <td>Cabella</td>\n",
       "      <td>Midfielder</td>\n",
       "      <td>35</td>\n",
       "      <td>France</td>\n",
       "      <td>Lille</td>\n",
       "      <td>Ligue 1</td>\n",
       "      <td>Round16</td>\n",
       "      <td>C</td>\n",
       "      <td>3.0</td>\n",
       "      <td>...</td>\n",
       "      <td>13</td>\n",
       "      <td>3</td>\n",
       "      <td>4</td>\n",
       "      <td>0</td>\n",
       "      <td>0</td>\n",
       "      <td>0</td>\n",
       "      <td>0</td>\n",
       "      <td>388</td>\n",
       "      <td>7</td>\n",
       "      <td>3</td>\n",
       "    </tr>\n",
       "    <tr>\n",
       "      <th>207</th>\n",
       "      <td>208</td>\n",
       "      <td>Locatelli</td>\n",
       "      <td>Midfielder</td>\n",
       "      <td>27</td>\n",
       "      <td>Italy</td>\n",
       "      <td>Juventus</td>\n",
       "      <td>Serie A</td>\n",
       "      <td>Knockout_phase</td>\n",
       "      <td>D</td>\n",
       "      <td>35.0</td>\n",
       "      <td>...</td>\n",
       "      <td>51</td>\n",
       "      <td>19</td>\n",
       "      <td>17</td>\n",
       "      <td>0</td>\n",
       "      <td>0</td>\n",
       "      <td>0</td>\n",
       "      <td>0</td>\n",
       "      <td>673</td>\n",
       "      <td>9</td>\n",
       "      <td>1</td>\n",
       "    </tr>\n",
       "    <tr>\n",
       "      <th>208</th>\n",
       "      <td>209</td>\n",
       "      <td>Palacios</td>\n",
       "      <td>Midfielder</td>\n",
       "      <td>26</td>\n",
       "      <td>Argentina</td>\n",
       "      <td>Bayer Leverkusen</td>\n",
       "      <td>Bundesliga</td>\n",
       "      <td>Round16</td>\n",
       "      <td>C</td>\n",
       "      <td>40.0</td>\n",
       "      <td>...</td>\n",
       "      <td>48</td>\n",
       "      <td>10</td>\n",
       "      <td>13</td>\n",
       "      <td>0</td>\n",
       "      <td>0</td>\n",
       "      <td>0</td>\n",
       "      <td>0</td>\n",
       "      <td>666</td>\n",
       "      <td>10</td>\n",
       "      <td>0</td>\n",
       "    </tr>\n",
       "    <tr>\n",
       "      <th>209</th>\n",
       "      <td>210</td>\n",
       "      <td>Lucumi</td>\n",
       "      <td>Defender</td>\n",
       "      <td>26</td>\n",
       "      <td>Colombia</td>\n",
       "      <td>Bologna</td>\n",
       "      <td>Serie A</td>\n",
       "      <td>League_phase</td>\n",
       "      <td>E</td>\n",
       "      <td>18.0</td>\n",
       "      <td>...</td>\n",
       "      <td>40</td>\n",
       "      <td>1</td>\n",
       "      <td>4</td>\n",
       "      <td>0</td>\n",
       "      <td>0</td>\n",
       "      <td>0</td>\n",
       "      <td>0</td>\n",
       "      <td>531</td>\n",
       "      <td>7</td>\n",
       "      <td>1</td>\n",
       "    </tr>\n",
       "  </tbody>\n",
       "</table>\n",
       "<p>210 rows × 31 columns</p>\n",
       "</div>"
      ]
     },
     "execution_count": 4,
     "metadata": {},
     "output_type": "execute_result"
    }
   ],
   "execution_count": 4
  },
  {
   "metadata": {
    "ExecuteTime": {
     "end_time": "2025-06-02T12:39:47.982901Z",
     "start_time": "2025-06-02T12:39:47.976171Z"
    }
   },
   "cell_type": "code",
   "source": [
    "print(\"Competitions of UCL\")\n",
    "print(sorted(ucl.Team.unique()))"
   ],
   "id": "96a4cdc13a29128c",
   "outputs": [
    {
     "name": "stdout",
     "output_type": "stream",
     "text": [
      "Competitions of UCL\n",
      "['Arsenal FC', 'Aston Villa', 'Atalanta BC', 'Atletico Madrid', 'BVB Dortmund', 'Barcelona', 'Bayer Leverkusen', 'Bayern Munich', 'Benfica', 'Bologna', 'Brest ', 'Celtic', 'Club Brugge', 'Dinamo Zagreb', 'Feyenoord', 'Girona', 'Inter', 'Juventus ', 'Leipzig', 'Lille ', 'Liverpool FC', 'Manchester City', 'Milan', 'Monaco', 'PSV Eindhoven', 'Paris SG', 'Real Madrid', 'Real Madrid ', 'Shakhtar Donetsk', 'Sporting CP', 'Sturm Graz', 'VfB Stuttgart']\n"
     ]
    }
   ],
   "execution_count": 5
  },
  {
   "metadata": {},
   "cell_type": "markdown",
   "source": "#### Statistikat përmbledhëse me metoden .describe() Kjo do të tregojë: minimum, maksimum, mesatare (mean), devijim standard (std), kuartilet...",
   "id": "776ff5bc16398543"
  },
  {
   "metadata": {
    "ExecuteTime": {
     "end_time": "2025-06-02T12:39:48.266837Z",
     "start_time": "2025-06-02T12:39:48.222908Z"
    }
   },
   "cell_type": "code",
   "source": "ucl.describe().transpose()",
   "id": "a4950ebd7962ac4f",
   "outputs": [
    {
     "data": {
      "text/plain": [
       "                     count        mean         std     min       25%     50%  \\\n",
       "PlayerID             210.0  105.500000   60.765944    1.00   53.2500  105.50   \n",
       "Age                  210.0   26.780952    4.416110   17.00   24.0000   26.00   \n",
       "Value10^6            210.0   39.684524   36.107141    0.75   16.2500   30.00   \n",
       "Jersey_Num           210.0   17.700000   16.084124    1.00    8.0000   12.50   \n",
       "Rating               210.0    7.232667    0.243964    6.88    7.0525    7.18   \n",
       "Goals                210.0    1.819048    2.430984    0.00    0.0000    1.00   \n",
       "Assists              210.0    1.352381    1.509022    0.00    0.0000    1.00   \n",
       "TopSpeed(km/h)       210.0   32.495238    2.448977   22.60   31.8000   32.90   \n",
       "DistanceCovered(km)  210.0   85.780952   30.959866   12.60   65.1500   86.35   \n",
       "Total_attempts       210.0   12.661905   11.322374    0.00    5.0000   10.00   \n",
       "Dribbles             210.0   13.933333   16.273833    0.00    3.0000    9.00   \n",
       "Passes_completed     210.0  364.223810  216.590771   47.00  209.2500  319.00   \n",
       "Chances_Created      210.0   10.123810    7.911224    0.00    4.0000    9.00   \n",
       "Key_Passes           210.0   10.023810    7.874883    0.00    4.0000    9.00   \n",
       "Balls_recovered      210.0   29.719048   22.952252    0.00   13.0000   25.50   \n",
       "Tackles_Won          210.0    4.590476    4.616789    0.00    1.0000    3.00   \n",
       "Tackles_Lost         210.0    6.100000    4.886707    0.00    3.0000    5.00   \n",
       "Saves                210.0    3.228571   10.454968    0.00    0.0000    0.00   \n",
       "Goals_Conceded       210.0    1.266667    4.183052    0.00    0.0000    0.00   \n",
       "Clean_Sheets         210.0    0.276190    1.025934    0.00    0.0000    0.00   \n",
       "MOTM_Awards          210.0    0.619048    0.862631    0.00    0.0000    0.00   \n",
       "Minutes_played       210.0  798.100000  239.505580  267.00  634.0000  782.50   \n",
       "Match_played         210.0   10.380952    2.501219    4.00    9.0000   10.00   \n",
       "DNP                  210.0    1.619048    1.765599    0.00    0.0000    1.00   \n",
       "\n",
       "                          75%      max  \n",
       "PlayerID             157.7500   210.00  \n",
       "Age                   29.7500    39.00  \n",
       "Value10^6             50.0000   200.00  \n",
       "Jersey_Num            24.5000    99.00  \n",
       "Rating                 7.3375     8.31  \n",
       "Goals                  3.0000    13.00  \n",
       "Assists                2.0000     9.00  \n",
       "TopSpeed(km/h)        33.9000    36.90  \n",
       "DistanceCovered(km)  101.2000   184.30  \n",
       "Total_attempts        18.0000    64.00  \n",
       "Dribbles              19.7500   109.00  \n",
       "Passes_completed     450.0000  1308.00  \n",
       "Chances_Created       15.0000    39.00  \n",
       "Key_Passes            15.0000    39.00  \n",
       "Balls_recovered       44.0000   124.00  \n",
       "Tackles_Won            6.0000    23.00  \n",
       "Tackles_Lost           9.0000    28.00  \n",
       "Saves                  0.0000    54.00  \n",
       "Goals_Conceded         0.0000    25.00  \n",
       "Clean_Sheets           0.0000     7.00  \n",
       "MOTM_Awards            1.0000     4.00  \n",
       "Minutes_played       927.7500  1542.00  \n",
       "Match_played          12.0000    17.00  \n",
       "DNP                    2.0000     8.00  "
      ],
      "text/html": [
       "<div>\n",
       "<style scoped>\n",
       "    .dataframe tbody tr th:only-of-type {\n",
       "        vertical-align: middle;\n",
       "    }\n",
       "\n",
       "    .dataframe tbody tr th {\n",
       "        vertical-align: top;\n",
       "    }\n",
       "\n",
       "    .dataframe thead th {\n",
       "        text-align: right;\n",
       "    }\n",
       "</style>\n",
       "<table border=\"1\" class=\"dataframe\">\n",
       "  <thead>\n",
       "    <tr style=\"text-align: right;\">\n",
       "      <th></th>\n",
       "      <th>count</th>\n",
       "      <th>mean</th>\n",
       "      <th>std</th>\n",
       "      <th>min</th>\n",
       "      <th>25%</th>\n",
       "      <th>50%</th>\n",
       "      <th>75%</th>\n",
       "      <th>max</th>\n",
       "    </tr>\n",
       "  </thead>\n",
       "  <tbody>\n",
       "    <tr>\n",
       "      <th>PlayerID</th>\n",
       "      <td>210.0</td>\n",
       "      <td>105.500000</td>\n",
       "      <td>60.765944</td>\n",
       "      <td>1.00</td>\n",
       "      <td>53.2500</td>\n",
       "      <td>105.50</td>\n",
       "      <td>157.7500</td>\n",
       "      <td>210.00</td>\n",
       "    </tr>\n",
       "    <tr>\n",
       "      <th>Age</th>\n",
       "      <td>210.0</td>\n",
       "      <td>26.780952</td>\n",
       "      <td>4.416110</td>\n",
       "      <td>17.00</td>\n",
       "      <td>24.0000</td>\n",
       "      <td>26.00</td>\n",
       "      <td>29.7500</td>\n",
       "      <td>39.00</td>\n",
       "    </tr>\n",
       "    <tr>\n",
       "      <th>Value10^6</th>\n",
       "      <td>210.0</td>\n",
       "      <td>39.684524</td>\n",
       "      <td>36.107141</td>\n",
       "      <td>0.75</td>\n",
       "      <td>16.2500</td>\n",
       "      <td>30.00</td>\n",
       "      <td>50.0000</td>\n",
       "      <td>200.00</td>\n",
       "    </tr>\n",
       "    <tr>\n",
       "      <th>Jersey_Num</th>\n",
       "      <td>210.0</td>\n",
       "      <td>17.700000</td>\n",
       "      <td>16.084124</td>\n",
       "      <td>1.00</td>\n",
       "      <td>8.0000</td>\n",
       "      <td>12.50</td>\n",
       "      <td>24.5000</td>\n",
       "      <td>99.00</td>\n",
       "    </tr>\n",
       "    <tr>\n",
       "      <th>Rating</th>\n",
       "      <td>210.0</td>\n",
       "      <td>7.232667</td>\n",
       "      <td>0.243964</td>\n",
       "      <td>6.88</td>\n",
       "      <td>7.0525</td>\n",
       "      <td>7.18</td>\n",
       "      <td>7.3375</td>\n",
       "      <td>8.31</td>\n",
       "    </tr>\n",
       "    <tr>\n",
       "      <th>Goals</th>\n",
       "      <td>210.0</td>\n",
       "      <td>1.819048</td>\n",
       "      <td>2.430984</td>\n",
       "      <td>0.00</td>\n",
       "      <td>0.0000</td>\n",
       "      <td>1.00</td>\n",
       "      <td>3.0000</td>\n",
       "      <td>13.00</td>\n",
       "    </tr>\n",
       "    <tr>\n",
       "      <th>Assists</th>\n",
       "      <td>210.0</td>\n",
       "      <td>1.352381</td>\n",
       "      <td>1.509022</td>\n",
       "      <td>0.00</td>\n",
       "      <td>0.0000</td>\n",
       "      <td>1.00</td>\n",
       "      <td>2.0000</td>\n",
       "      <td>9.00</td>\n",
       "    </tr>\n",
       "    <tr>\n",
       "      <th>TopSpeed(km/h)</th>\n",
       "      <td>210.0</td>\n",
       "      <td>32.495238</td>\n",
       "      <td>2.448977</td>\n",
       "      <td>22.60</td>\n",
       "      <td>31.8000</td>\n",
       "      <td>32.90</td>\n",
       "      <td>33.9000</td>\n",
       "      <td>36.90</td>\n",
       "    </tr>\n",
       "    <tr>\n",
       "      <th>DistanceCovered(km)</th>\n",
       "      <td>210.0</td>\n",
       "      <td>85.780952</td>\n",
       "      <td>30.959866</td>\n",
       "      <td>12.60</td>\n",
       "      <td>65.1500</td>\n",
       "      <td>86.35</td>\n",
       "      <td>101.2000</td>\n",
       "      <td>184.30</td>\n",
       "    </tr>\n",
       "    <tr>\n",
       "      <th>Total_attempts</th>\n",
       "      <td>210.0</td>\n",
       "      <td>12.661905</td>\n",
       "      <td>11.322374</td>\n",
       "      <td>0.00</td>\n",
       "      <td>5.0000</td>\n",
       "      <td>10.00</td>\n",
       "      <td>18.0000</td>\n",
       "      <td>64.00</td>\n",
       "    </tr>\n",
       "    <tr>\n",
       "      <th>Dribbles</th>\n",
       "      <td>210.0</td>\n",
       "      <td>13.933333</td>\n",
       "      <td>16.273833</td>\n",
       "      <td>0.00</td>\n",
       "      <td>3.0000</td>\n",
       "      <td>9.00</td>\n",
       "      <td>19.7500</td>\n",
       "      <td>109.00</td>\n",
       "    </tr>\n",
       "    <tr>\n",
       "      <th>Passes_completed</th>\n",
       "      <td>210.0</td>\n",
       "      <td>364.223810</td>\n",
       "      <td>216.590771</td>\n",
       "      <td>47.00</td>\n",
       "      <td>209.2500</td>\n",
       "      <td>319.00</td>\n",
       "      <td>450.0000</td>\n",
       "      <td>1308.00</td>\n",
       "    </tr>\n",
       "    <tr>\n",
       "      <th>Chances_Created</th>\n",
       "      <td>210.0</td>\n",
       "      <td>10.123810</td>\n",
       "      <td>7.911224</td>\n",
       "      <td>0.00</td>\n",
       "      <td>4.0000</td>\n",
       "      <td>9.00</td>\n",
       "      <td>15.0000</td>\n",
       "      <td>39.00</td>\n",
       "    </tr>\n",
       "    <tr>\n",
       "      <th>Key_Passes</th>\n",
       "      <td>210.0</td>\n",
       "      <td>10.023810</td>\n",
       "      <td>7.874883</td>\n",
       "      <td>0.00</td>\n",
       "      <td>4.0000</td>\n",
       "      <td>9.00</td>\n",
       "      <td>15.0000</td>\n",
       "      <td>39.00</td>\n",
       "    </tr>\n",
       "    <tr>\n",
       "      <th>Balls_recovered</th>\n",
       "      <td>210.0</td>\n",
       "      <td>29.719048</td>\n",
       "      <td>22.952252</td>\n",
       "      <td>0.00</td>\n",
       "      <td>13.0000</td>\n",
       "      <td>25.50</td>\n",
       "      <td>44.0000</td>\n",
       "      <td>124.00</td>\n",
       "    </tr>\n",
       "    <tr>\n",
       "      <th>Tackles_Won</th>\n",
       "      <td>210.0</td>\n",
       "      <td>4.590476</td>\n",
       "      <td>4.616789</td>\n",
       "      <td>0.00</td>\n",
       "      <td>1.0000</td>\n",
       "      <td>3.00</td>\n",
       "      <td>6.0000</td>\n",
       "      <td>23.00</td>\n",
       "    </tr>\n",
       "    <tr>\n",
       "      <th>Tackles_Lost</th>\n",
       "      <td>210.0</td>\n",
       "      <td>6.100000</td>\n",
       "      <td>4.886707</td>\n",
       "      <td>0.00</td>\n",
       "      <td>3.0000</td>\n",
       "      <td>5.00</td>\n",
       "      <td>9.0000</td>\n",
       "      <td>28.00</td>\n",
       "    </tr>\n",
       "    <tr>\n",
       "      <th>Saves</th>\n",
       "      <td>210.0</td>\n",
       "      <td>3.228571</td>\n",
       "      <td>10.454968</td>\n",
       "      <td>0.00</td>\n",
       "      <td>0.0000</td>\n",
       "      <td>0.00</td>\n",
       "      <td>0.0000</td>\n",
       "      <td>54.00</td>\n",
       "    </tr>\n",
       "    <tr>\n",
       "      <th>Goals_Conceded</th>\n",
       "      <td>210.0</td>\n",
       "      <td>1.266667</td>\n",
       "      <td>4.183052</td>\n",
       "      <td>0.00</td>\n",
       "      <td>0.0000</td>\n",
       "      <td>0.00</td>\n",
       "      <td>0.0000</td>\n",
       "      <td>25.00</td>\n",
       "    </tr>\n",
       "    <tr>\n",
       "      <th>Clean_Sheets</th>\n",
       "      <td>210.0</td>\n",
       "      <td>0.276190</td>\n",
       "      <td>1.025934</td>\n",
       "      <td>0.00</td>\n",
       "      <td>0.0000</td>\n",
       "      <td>0.00</td>\n",
       "      <td>0.0000</td>\n",
       "      <td>7.00</td>\n",
       "    </tr>\n",
       "    <tr>\n",
       "      <th>MOTM_Awards</th>\n",
       "      <td>210.0</td>\n",
       "      <td>0.619048</td>\n",
       "      <td>0.862631</td>\n",
       "      <td>0.00</td>\n",
       "      <td>0.0000</td>\n",
       "      <td>0.00</td>\n",
       "      <td>1.0000</td>\n",
       "      <td>4.00</td>\n",
       "    </tr>\n",
       "    <tr>\n",
       "      <th>Minutes_played</th>\n",
       "      <td>210.0</td>\n",
       "      <td>798.100000</td>\n",
       "      <td>239.505580</td>\n",
       "      <td>267.00</td>\n",
       "      <td>634.0000</td>\n",
       "      <td>782.50</td>\n",
       "      <td>927.7500</td>\n",
       "      <td>1542.00</td>\n",
       "    </tr>\n",
       "    <tr>\n",
       "      <th>Match_played</th>\n",
       "      <td>210.0</td>\n",
       "      <td>10.380952</td>\n",
       "      <td>2.501219</td>\n",
       "      <td>4.00</td>\n",
       "      <td>9.0000</td>\n",
       "      <td>10.00</td>\n",
       "      <td>12.0000</td>\n",
       "      <td>17.00</td>\n",
       "    </tr>\n",
       "    <tr>\n",
       "      <th>DNP</th>\n",
       "      <td>210.0</td>\n",
       "      <td>1.619048</td>\n",
       "      <td>1.765599</td>\n",
       "      <td>0.00</td>\n",
       "      <td>0.0000</td>\n",
       "      <td>1.00</td>\n",
       "      <td>2.0000</td>\n",
       "      <td>8.00</td>\n",
       "    </tr>\n",
       "  </tbody>\n",
       "</table>\n",
       "</div>"
      ]
     },
     "execution_count": 6,
     "metadata": {},
     "output_type": "execute_result"
    }
   ],
   "execution_count": 6
  },
  {
   "metadata": {
    "ExecuteTime": {
     "end_time": "2025-06-02T12:39:48.899245Z",
     "start_time": "2025-06-02T12:39:48.469502Z"
    }
   },
   "cell_type": "code",
   "source": [
    "position_counts = ucl['Position'].value_counts()\n",
    "\n",
    "fig = px.bar(position_counts, title=\"Moda e Pozicioneve të Lojtarëve\")\n",
    "fig.show()\n"
   ],
   "id": "ad048edc35c62d0f",
   "outputs": [
    {
     "data": {
      "application/vnd.plotly.v1+json": {
       "data": [
        {
         "hovertemplate": "variable=count<br>Position=%{x}<br>value=%{y}<extra></extra>",
         "legendgroup": "count",
         "marker": {
          "color": "#636efa",
          "pattern": {
           "shape": ""
          }
         },
         "name": "count",
         "orientation": "v",
         "showlegend": true,
         "textposition": "auto",
         "x": [
          "Midfielder",
          "Forward",
          "Defender",
          "Goalkeeper"
         ],
         "xaxis": "x",
         "y": {
          "dtype": "i1",
          "bdata": "QkA8FA=="
         },
         "yaxis": "y",
         "type": "bar"
        }
       ],
       "layout": {
        "template": {
         "data": {
          "histogram2dcontour": [
           {
            "type": "histogram2dcontour",
            "colorbar": {
             "outlinewidth": 0,
             "ticks": ""
            },
            "colorscale": [
             [
              0.0,
              "#0d0887"
             ],
             [
              0.1111111111111111,
              "#46039f"
             ],
             [
              0.2222222222222222,
              "#7201a8"
             ],
             [
              0.3333333333333333,
              "#9c179e"
             ],
             [
              0.4444444444444444,
              "#bd3786"
             ],
             [
              0.5555555555555556,
              "#d8576b"
             ],
             [
              0.6666666666666666,
              "#ed7953"
             ],
             [
              0.7777777777777778,
              "#fb9f3a"
             ],
             [
              0.8888888888888888,
              "#fdca26"
             ],
             [
              1.0,
              "#f0f921"
             ]
            ]
           }
          ],
          "choropleth": [
           {
            "type": "choropleth",
            "colorbar": {
             "outlinewidth": 0,
             "ticks": ""
            }
           }
          ],
          "histogram2d": [
           {
            "type": "histogram2d",
            "colorbar": {
             "outlinewidth": 0,
             "ticks": ""
            },
            "colorscale": [
             [
              0.0,
              "#0d0887"
             ],
             [
              0.1111111111111111,
              "#46039f"
             ],
             [
              0.2222222222222222,
              "#7201a8"
             ],
             [
              0.3333333333333333,
              "#9c179e"
             ],
             [
              0.4444444444444444,
              "#bd3786"
             ],
             [
              0.5555555555555556,
              "#d8576b"
             ],
             [
              0.6666666666666666,
              "#ed7953"
             ],
             [
              0.7777777777777778,
              "#fb9f3a"
             ],
             [
              0.8888888888888888,
              "#fdca26"
             ],
             [
              1.0,
              "#f0f921"
             ]
            ]
           }
          ],
          "heatmap": [
           {
            "type": "heatmap",
            "colorbar": {
             "outlinewidth": 0,
             "ticks": ""
            },
            "colorscale": [
             [
              0.0,
              "#0d0887"
             ],
             [
              0.1111111111111111,
              "#46039f"
             ],
             [
              0.2222222222222222,
              "#7201a8"
             ],
             [
              0.3333333333333333,
              "#9c179e"
             ],
             [
              0.4444444444444444,
              "#bd3786"
             ],
             [
              0.5555555555555556,
              "#d8576b"
             ],
             [
              0.6666666666666666,
              "#ed7953"
             ],
             [
              0.7777777777777778,
              "#fb9f3a"
             ],
             [
              0.8888888888888888,
              "#fdca26"
             ],
             [
              1.0,
              "#f0f921"
             ]
            ]
           }
          ],
          "contourcarpet": [
           {
            "type": "contourcarpet",
            "colorbar": {
             "outlinewidth": 0,
             "ticks": ""
            }
           }
          ],
          "contour": [
           {
            "type": "contour",
            "colorbar": {
             "outlinewidth": 0,
             "ticks": ""
            },
            "colorscale": [
             [
              0.0,
              "#0d0887"
             ],
             [
              0.1111111111111111,
              "#46039f"
             ],
             [
              0.2222222222222222,
              "#7201a8"
             ],
             [
              0.3333333333333333,
              "#9c179e"
             ],
             [
              0.4444444444444444,
              "#bd3786"
             ],
             [
              0.5555555555555556,
              "#d8576b"
             ],
             [
              0.6666666666666666,
              "#ed7953"
             ],
             [
              0.7777777777777778,
              "#fb9f3a"
             ],
             [
              0.8888888888888888,
              "#fdca26"
             ],
             [
              1.0,
              "#f0f921"
             ]
            ]
           }
          ],
          "surface": [
           {
            "type": "surface",
            "colorbar": {
             "outlinewidth": 0,
             "ticks": ""
            },
            "colorscale": [
             [
              0.0,
              "#0d0887"
             ],
             [
              0.1111111111111111,
              "#46039f"
             ],
             [
              0.2222222222222222,
              "#7201a8"
             ],
             [
              0.3333333333333333,
              "#9c179e"
             ],
             [
              0.4444444444444444,
              "#bd3786"
             ],
             [
              0.5555555555555556,
              "#d8576b"
             ],
             [
              0.6666666666666666,
              "#ed7953"
             ],
             [
              0.7777777777777778,
              "#fb9f3a"
             ],
             [
              0.8888888888888888,
              "#fdca26"
             ],
             [
              1.0,
              "#f0f921"
             ]
            ]
           }
          ],
          "mesh3d": [
           {
            "type": "mesh3d",
            "colorbar": {
             "outlinewidth": 0,
             "ticks": ""
            }
           }
          ],
          "scatter": [
           {
            "fillpattern": {
             "fillmode": "overlay",
             "size": 10,
             "solidity": 0.2
            },
            "type": "scatter"
           }
          ],
          "parcoords": [
           {
            "type": "parcoords",
            "line": {
             "colorbar": {
              "outlinewidth": 0,
              "ticks": ""
             }
            }
           }
          ],
          "scatterpolargl": [
           {
            "type": "scatterpolargl",
            "marker": {
             "colorbar": {
              "outlinewidth": 0,
              "ticks": ""
             }
            }
           }
          ],
          "bar": [
           {
            "error_x": {
             "color": "#2a3f5f"
            },
            "error_y": {
             "color": "#2a3f5f"
            },
            "marker": {
             "line": {
              "color": "#E5ECF6",
              "width": 0.5
             },
             "pattern": {
              "fillmode": "overlay",
              "size": 10,
              "solidity": 0.2
             }
            },
            "type": "bar"
           }
          ],
          "scattergeo": [
           {
            "type": "scattergeo",
            "marker": {
             "colorbar": {
              "outlinewidth": 0,
              "ticks": ""
             }
            }
           }
          ],
          "scatterpolar": [
           {
            "type": "scatterpolar",
            "marker": {
             "colorbar": {
              "outlinewidth": 0,
              "ticks": ""
             }
            }
           }
          ],
          "histogram": [
           {
            "marker": {
             "pattern": {
              "fillmode": "overlay",
              "size": 10,
              "solidity": 0.2
             }
            },
            "type": "histogram"
           }
          ],
          "scattergl": [
           {
            "type": "scattergl",
            "marker": {
             "colorbar": {
              "outlinewidth": 0,
              "ticks": ""
             }
            }
           }
          ],
          "scatter3d": [
           {
            "type": "scatter3d",
            "line": {
             "colorbar": {
              "outlinewidth": 0,
              "ticks": ""
             }
            },
            "marker": {
             "colorbar": {
              "outlinewidth": 0,
              "ticks": ""
             }
            }
           }
          ],
          "scattermap": [
           {
            "type": "scattermap",
            "marker": {
             "colorbar": {
              "outlinewidth": 0,
              "ticks": ""
             }
            }
           }
          ],
          "scattermapbox": [
           {
            "type": "scattermapbox",
            "marker": {
             "colorbar": {
              "outlinewidth": 0,
              "ticks": ""
             }
            }
           }
          ],
          "scatterternary": [
           {
            "type": "scatterternary",
            "marker": {
             "colorbar": {
              "outlinewidth": 0,
              "ticks": ""
             }
            }
           }
          ],
          "scattercarpet": [
           {
            "type": "scattercarpet",
            "marker": {
             "colorbar": {
              "outlinewidth": 0,
              "ticks": ""
             }
            }
           }
          ],
          "carpet": [
           {
            "aaxis": {
             "endlinecolor": "#2a3f5f",
             "gridcolor": "white",
             "linecolor": "white",
             "minorgridcolor": "white",
             "startlinecolor": "#2a3f5f"
            },
            "baxis": {
             "endlinecolor": "#2a3f5f",
             "gridcolor": "white",
             "linecolor": "white",
             "minorgridcolor": "white",
             "startlinecolor": "#2a3f5f"
            },
            "type": "carpet"
           }
          ],
          "table": [
           {
            "cells": {
             "fill": {
              "color": "#EBF0F8"
             },
             "line": {
              "color": "white"
             }
            },
            "header": {
             "fill": {
              "color": "#C8D4E3"
             },
             "line": {
              "color": "white"
             }
            },
            "type": "table"
           }
          ],
          "barpolar": [
           {
            "marker": {
             "line": {
              "color": "#E5ECF6",
              "width": 0.5
             },
             "pattern": {
              "fillmode": "overlay",
              "size": 10,
              "solidity": 0.2
             }
            },
            "type": "barpolar"
           }
          ],
          "pie": [
           {
            "automargin": true,
            "type": "pie"
           }
          ]
         },
         "layout": {
          "autotypenumbers": "strict",
          "colorway": [
           "#636efa",
           "#EF553B",
           "#00cc96",
           "#ab63fa",
           "#FFA15A",
           "#19d3f3",
           "#FF6692",
           "#B6E880",
           "#FF97FF",
           "#FECB52"
          ],
          "font": {
           "color": "#2a3f5f"
          },
          "hovermode": "closest",
          "hoverlabel": {
           "align": "left"
          },
          "paper_bgcolor": "white",
          "plot_bgcolor": "#E5ECF6",
          "polar": {
           "bgcolor": "#E5ECF6",
           "angularaxis": {
            "gridcolor": "white",
            "linecolor": "white",
            "ticks": ""
           },
           "radialaxis": {
            "gridcolor": "white",
            "linecolor": "white",
            "ticks": ""
           }
          },
          "ternary": {
           "bgcolor": "#E5ECF6",
           "aaxis": {
            "gridcolor": "white",
            "linecolor": "white",
            "ticks": ""
           },
           "baxis": {
            "gridcolor": "white",
            "linecolor": "white",
            "ticks": ""
           },
           "caxis": {
            "gridcolor": "white",
            "linecolor": "white",
            "ticks": ""
           }
          },
          "coloraxis": {
           "colorbar": {
            "outlinewidth": 0,
            "ticks": ""
           }
          },
          "colorscale": {
           "sequential": [
            [
             0.0,
             "#0d0887"
            ],
            [
             0.1111111111111111,
             "#46039f"
            ],
            [
             0.2222222222222222,
             "#7201a8"
            ],
            [
             0.3333333333333333,
             "#9c179e"
            ],
            [
             0.4444444444444444,
             "#bd3786"
            ],
            [
             0.5555555555555556,
             "#d8576b"
            ],
            [
             0.6666666666666666,
             "#ed7953"
            ],
            [
             0.7777777777777778,
             "#fb9f3a"
            ],
            [
             0.8888888888888888,
             "#fdca26"
            ],
            [
             1.0,
             "#f0f921"
            ]
           ],
           "sequentialminus": [
            [
             0.0,
             "#0d0887"
            ],
            [
             0.1111111111111111,
             "#46039f"
            ],
            [
             0.2222222222222222,
             "#7201a8"
            ],
            [
             0.3333333333333333,
             "#9c179e"
            ],
            [
             0.4444444444444444,
             "#bd3786"
            ],
            [
             0.5555555555555556,
             "#d8576b"
            ],
            [
             0.6666666666666666,
             "#ed7953"
            ],
            [
             0.7777777777777778,
             "#fb9f3a"
            ],
            [
             0.8888888888888888,
             "#fdca26"
            ],
            [
             1.0,
             "#f0f921"
            ]
           ],
           "diverging": [
            [
             0,
             "#8e0152"
            ],
            [
             0.1,
             "#c51b7d"
            ],
            [
             0.2,
             "#de77ae"
            ],
            [
             0.3,
             "#f1b6da"
            ],
            [
             0.4,
             "#fde0ef"
            ],
            [
             0.5,
             "#f7f7f7"
            ],
            [
             0.6,
             "#e6f5d0"
            ],
            [
             0.7,
             "#b8e186"
            ],
            [
             0.8,
             "#7fbc41"
            ],
            [
             0.9,
             "#4d9221"
            ],
            [
             1,
             "#276419"
            ]
           ]
          },
          "xaxis": {
           "gridcolor": "white",
           "linecolor": "white",
           "ticks": "",
           "title": {
            "standoff": 15
           },
           "zerolinecolor": "white",
           "automargin": true,
           "zerolinewidth": 2
          },
          "yaxis": {
           "gridcolor": "white",
           "linecolor": "white",
           "ticks": "",
           "title": {
            "standoff": 15
           },
           "zerolinecolor": "white",
           "automargin": true,
           "zerolinewidth": 2
          },
          "scene": {
           "xaxis": {
            "backgroundcolor": "#E5ECF6",
            "gridcolor": "white",
            "linecolor": "white",
            "showbackground": true,
            "ticks": "",
            "zerolinecolor": "white",
            "gridwidth": 2
           },
           "yaxis": {
            "backgroundcolor": "#E5ECF6",
            "gridcolor": "white",
            "linecolor": "white",
            "showbackground": true,
            "ticks": "",
            "zerolinecolor": "white",
            "gridwidth": 2
           },
           "zaxis": {
            "backgroundcolor": "#E5ECF6",
            "gridcolor": "white",
            "linecolor": "white",
            "showbackground": true,
            "ticks": "",
            "zerolinecolor": "white",
            "gridwidth": 2
           }
          },
          "shapedefaults": {
           "line": {
            "color": "#2a3f5f"
           }
          },
          "annotationdefaults": {
           "arrowcolor": "#2a3f5f",
           "arrowhead": 0,
           "arrowwidth": 1
          },
          "geo": {
           "bgcolor": "white",
           "landcolor": "#E5ECF6",
           "subunitcolor": "white",
           "showland": true,
           "showlakes": true,
           "lakecolor": "white"
          },
          "title": {
           "x": 0.05
          },
          "mapbox": {
           "style": "light"
          }
         }
        },
        "xaxis": {
         "anchor": "y",
         "domain": [
          0.0,
          1.0
         ],
         "title": {
          "text": "Position"
         }
        },
        "yaxis": {
         "anchor": "x",
         "domain": [
          0.0,
          1.0
         ],
         "title": {
          "text": "value"
         }
        },
        "legend": {
         "title": {
          "text": "variable"
         },
         "tracegroupgap": 0
        },
        "title": {
         "text": "Moda e Pozicioneve të Lojtarëve"
        },
        "barmode": "relative"
       },
       "config": {
        "plotlyServerURL": "https://plot.ly"
       }
      }
     },
     "metadata": {},
     "output_type": "display_data"
    }
   ],
   "execution_count": 7
  },
  {
   "metadata": {
    "ExecuteTime": {
     "end_time": "2025-06-02T12:39:48.964579Z",
     "start_time": "2025-06-02T12:39:48.955592Z"
    }
   },
   "cell_type": "code",
   "source": "ucl.groupby('Competitions')['Team'].count().nunique()",
   "id": "afcf1646cb5e48e9",
   "outputs": [
    {
     "data": {
      "text/plain": [
       "11"
      ]
     },
     "execution_count": 8,
     "metadata": {},
     "output_type": "execute_result"
    }
   ],
   "execution_count": 8
  },
  {
   "metadata": {
    "ExecuteTime": {
     "end_time": "2025-06-02T12:39:49.156960Z",
     "start_time": "2025-06-02T12:39:49.148971Z"
    }
   },
   "cell_type": "code",
   "source": [
    "\n",
    "print(\"Teams🛡️ in UCL Number:\", ucl['Team'].nunique())\n",
    "\n",
    "print(\"Competitions in UCL⚽🏆 Number:\", ucl['Competitions'].nunique())"
   ],
   "id": "ced5185ff4857ad4",
   "outputs": [
    {
     "name": "stdout",
     "output_type": "stream",
     "text": [
      "Teams🛡️ in UCL Number: 32\n",
      "Competitions in UCL⚽🏆 Number: 15\n"
     ]
    }
   ],
   "execution_count": 9
  },
  {
   "metadata": {},
   "cell_type": "markdown",
   "source": "#### Metoda `str.strip()` do ti heqet space brenda nje vlere ne nje rresht",
   "id": "e71472b713f1976a"
  },
  {
   "metadata": {
    "ExecuteTime": {
     "end_time": "2025-06-02T12:39:49.355139Z",
     "start_time": "2025-06-02T12:39:49.347978Z"
    }
   },
   "cell_type": "code",
   "source": "ucl['Competitions'] = ucl['Competitions'].str.strip()",
   "id": "1df646b57aca5e5d",
   "outputs": [],
   "execution_count": 10
  },
  {
   "metadata": {
    "ExecuteTime": {
     "end_time": "2025-06-02T12:39:49.488691Z",
     "start_time": "2025-06-02T12:39:49.473831Z"
    }
   },
   "cell_type": "code",
   "source": "ucl.groupby('Competitions')['Team'].unique()",
   "id": "496c4c2f5225905",
   "outputs": [
    {
     "data": {
      "text/plain": [
       "Competitions\n",
       "ABundesliga                                            [Sturm Graz]\n",
       "Bundesliga        [Bayer Leverkusen, BVB Dortmund, Leipzig, Baye...\n",
       "Eredivisie                               [PSV Eindhoven, Feyenoord]\n",
       "La Liga           [Barcelona, Real Madrid, Atletico Madrid, Real...\n",
       "Liga Portugal                                [Benfica, Sporting CP]\n",
       "Ligue 1                          [Paris SG, Brest , Lille , Monaco]\n",
       "Premier League    [Liverpool FC, Arsenal FC, Manchester City, As...\n",
       "Premier Liga                                     [Shakhtar Donetsk]\n",
       "Premiership                                                [Celtic]\n",
       "Pro League                                            [Club Brugge]\n",
       "Serie A             [Milan, Inter, Juventus , Atalanta BC, Bologna]\n",
       "SuperSport HNL                                      [Dinamo Zagreb]\n",
       "Name: Team, dtype: object"
      ]
     },
     "execution_count": 11,
     "metadata": {},
     "output_type": "execute_result"
    }
   ],
   "execution_count": 11
  },
  {
   "metadata": {
    "ExecuteTime": {
     "end_time": "2025-06-02T12:39:49.696131Z",
     "start_time": "2025-06-02T12:39:49.689868Z"
    }
   },
   "cell_type": "code",
   "source": "ucl['Competitions'].unique()",
   "id": "3896332c8553de98",
   "outputs": [
    {
     "data": {
      "text/plain": [
       "array(['Serie A', 'La Liga', 'Premier League', 'Pro League',\n",
       "       'Liga Portugal', 'Premiership', 'Ligue 1', 'Eredivisie',\n",
       "       'Bundesliga', 'ABundesliga', 'Premier Liga', 'SuperSport HNL'],\n",
       "      dtype=object)"
      ]
     },
     "execution_count": 12,
     "metadata": {},
     "output_type": "execute_result"
    }
   ],
   "execution_count": 12
  },
  {
   "metadata": {
    "ExecuteTime": {
     "end_time": "2025-06-02T12:39:49.918047Z",
     "start_time": "2025-06-02T12:39:49.909913Z"
    }
   },
   "cell_type": "code",
   "source": "team_realmadrid = ucl[ucl['Team'] == 'Real Madrid']",
   "id": "ba875a3de367e668",
   "outputs": [],
   "execution_count": 13
  },
  {
   "metadata": {
    "ExecuteTime": {
     "end_time": "2025-06-02T12:39:50.102804Z",
     "start_time": "2025-06-02T12:39:50.084354Z"
    }
   },
   "cell_type": "code",
   "source": "team_realmadrid",
   "id": "e1d385bad89cdbb7",
   "outputs": [
    {
     "data": {
      "text/plain": [
       "     PlayerID           Player    Position  Age Nationality         Team  \\\n",
       "5           6  Jude Bellingham     Forward   21     England  Real Madrid   \n",
       "7           8      Brahim Diaz     Forward   25     Morocco  Real Madrid   \n",
       "33         34         Courtois  Goalkeeper   32     Belgium  Real Madrid   \n",
       "37         38      Vinicius Jr     Forward   24      Brazil  Real Madrid   \n",
       "39         40     Raul Asencio    Defender   22       Spain  Real Madrid   \n",
       "70         71           Modric  Midfielder   39     Croatia  Real Madrid   \n",
       "133       134       Tchouameni  Midfielder   25      France  Real Madrid   \n",
       "138       139          Rodrygo     Forward   24      Brazil  Real Madrid   \n",
       "179       180    Lucas Vazquez     Forward   33       Spain  Real Madrid   \n",
       "198       199         Valverde  Midfielder   26     Uruguay  Real Madrid   \n",
       "\n",
       "    Competitions            Phase Phase_Tier  Value10^6  ...  Balls_recovered  \\\n",
       "5        La Liga  Quarter_finals           B      180.0  ...               30   \n",
       "7        La Liga   Quarter_finals          B       45.0  ...               16   \n",
       "33       La Liga  Quarter_finals           B       25.0  ...                0   \n",
       "37       La Liga  Quarter_finals           B      200.0  ...               20   \n",
       "39       La Liga  Quarter_finals           B       30.0  ...               29   \n",
       "70       La Liga   Quarter_finals          B        5.0  ...               24   \n",
       "133      La Liga   Quarter_finals          B       80.0  ...               37   \n",
       "138      La Liga  Quarter_finals           B      100.0  ...               14   \n",
       "179      La Liga   Quarter_finals          B        3.0  ...               21   \n",
       "198      La Liga   Quarter_finals          B      130.0  ...               65   \n",
       "\n",
       "     Tackles_Won  Tackles_Lost  Saves  Goals_Conceded  Clean_Sheets  \\\n",
       "5             19            23      0               0             0   \n",
       "7              1             6      0               0             0   \n",
       "33             0             0     52              18             1   \n",
       "37             3            11      0               0             0   \n",
       "39             7             4      0               0             0   \n",
       "70             5            12      0               0             0   \n",
       "133            8            11      0               0             0   \n",
       "138            1             7      0               0             0   \n",
       "179            5             5      0               0             0   \n",
       "198           14            12      0               0             0   \n",
       "\n",
       "     MOTM_Awards  Minutes_played  Match_played  DNP  \n",
       "5              1            1136            13    1  \n",
       "7              0             479            11    3  \n",
       "33             1            1110            12    2  \n",
       "37             3            1104            12    2  \n",
       "39             0             748            10    4  \n",
       "70             0             647            14    0  \n",
       "133            0             800            11    3  \n",
       "138            1             880            12    2  \n",
       "179            0             575            10    4  \n",
       "198            0            1236            14    0  \n",
       "\n",
       "[10 rows x 31 columns]"
      ],
      "text/html": [
       "<div>\n",
       "<style scoped>\n",
       "    .dataframe tbody tr th:only-of-type {\n",
       "        vertical-align: middle;\n",
       "    }\n",
       "\n",
       "    .dataframe tbody tr th {\n",
       "        vertical-align: top;\n",
       "    }\n",
       "\n",
       "    .dataframe thead th {\n",
       "        text-align: right;\n",
       "    }\n",
       "</style>\n",
       "<table border=\"1\" class=\"dataframe\">\n",
       "  <thead>\n",
       "    <tr style=\"text-align: right;\">\n",
       "      <th></th>\n",
       "      <th>PlayerID</th>\n",
       "      <th>Player</th>\n",
       "      <th>Position</th>\n",
       "      <th>Age</th>\n",
       "      <th>Nationality</th>\n",
       "      <th>Team</th>\n",
       "      <th>Competitions</th>\n",
       "      <th>Phase</th>\n",
       "      <th>Phase_Tier</th>\n",
       "      <th>Value10^6</th>\n",
       "      <th>...</th>\n",
       "      <th>Balls_recovered</th>\n",
       "      <th>Tackles_Won</th>\n",
       "      <th>Tackles_Lost</th>\n",
       "      <th>Saves</th>\n",
       "      <th>Goals_Conceded</th>\n",
       "      <th>Clean_Sheets</th>\n",
       "      <th>MOTM_Awards</th>\n",
       "      <th>Minutes_played</th>\n",
       "      <th>Match_played</th>\n",
       "      <th>DNP</th>\n",
       "    </tr>\n",
       "  </thead>\n",
       "  <tbody>\n",
       "    <tr>\n",
       "      <th>5</th>\n",
       "      <td>6</td>\n",
       "      <td>Jude Bellingham</td>\n",
       "      <td>Forward</td>\n",
       "      <td>21</td>\n",
       "      <td>England</td>\n",
       "      <td>Real Madrid</td>\n",
       "      <td>La Liga</td>\n",
       "      <td>Quarter_finals</td>\n",
       "      <td>B</td>\n",
       "      <td>180.0</td>\n",
       "      <td>...</td>\n",
       "      <td>30</td>\n",
       "      <td>19</td>\n",
       "      <td>23</td>\n",
       "      <td>0</td>\n",
       "      <td>0</td>\n",
       "      <td>0</td>\n",
       "      <td>1</td>\n",
       "      <td>1136</td>\n",
       "      <td>13</td>\n",
       "      <td>1</td>\n",
       "    </tr>\n",
       "    <tr>\n",
       "      <th>7</th>\n",
       "      <td>8</td>\n",
       "      <td>Brahim Diaz</td>\n",
       "      <td>Forward</td>\n",
       "      <td>25</td>\n",
       "      <td>Morocco</td>\n",
       "      <td>Real Madrid</td>\n",
       "      <td>La Liga</td>\n",
       "      <td>Quarter_finals</td>\n",
       "      <td>B</td>\n",
       "      <td>45.0</td>\n",
       "      <td>...</td>\n",
       "      <td>16</td>\n",
       "      <td>1</td>\n",
       "      <td>6</td>\n",
       "      <td>0</td>\n",
       "      <td>0</td>\n",
       "      <td>0</td>\n",
       "      <td>0</td>\n",
       "      <td>479</td>\n",
       "      <td>11</td>\n",
       "      <td>3</td>\n",
       "    </tr>\n",
       "    <tr>\n",
       "      <th>33</th>\n",
       "      <td>34</td>\n",
       "      <td>Courtois</td>\n",
       "      <td>Goalkeeper</td>\n",
       "      <td>32</td>\n",
       "      <td>Belgium</td>\n",
       "      <td>Real Madrid</td>\n",
       "      <td>La Liga</td>\n",
       "      <td>Quarter_finals</td>\n",
       "      <td>B</td>\n",
       "      <td>25.0</td>\n",
       "      <td>...</td>\n",
       "      <td>0</td>\n",
       "      <td>0</td>\n",
       "      <td>0</td>\n",
       "      <td>52</td>\n",
       "      <td>18</td>\n",
       "      <td>1</td>\n",
       "      <td>1</td>\n",
       "      <td>1110</td>\n",
       "      <td>12</td>\n",
       "      <td>2</td>\n",
       "    </tr>\n",
       "    <tr>\n",
       "      <th>37</th>\n",
       "      <td>38</td>\n",
       "      <td>Vinicius Jr</td>\n",
       "      <td>Forward</td>\n",
       "      <td>24</td>\n",
       "      <td>Brazil</td>\n",
       "      <td>Real Madrid</td>\n",
       "      <td>La Liga</td>\n",
       "      <td>Quarter_finals</td>\n",
       "      <td>B</td>\n",
       "      <td>200.0</td>\n",
       "      <td>...</td>\n",
       "      <td>20</td>\n",
       "      <td>3</td>\n",
       "      <td>11</td>\n",
       "      <td>0</td>\n",
       "      <td>0</td>\n",
       "      <td>0</td>\n",
       "      <td>3</td>\n",
       "      <td>1104</td>\n",
       "      <td>12</td>\n",
       "      <td>2</td>\n",
       "    </tr>\n",
       "    <tr>\n",
       "      <th>39</th>\n",
       "      <td>40</td>\n",
       "      <td>Raul Asencio</td>\n",
       "      <td>Defender</td>\n",
       "      <td>22</td>\n",
       "      <td>Spain</td>\n",
       "      <td>Real Madrid</td>\n",
       "      <td>La Liga</td>\n",
       "      <td>Quarter_finals</td>\n",
       "      <td>B</td>\n",
       "      <td>30.0</td>\n",
       "      <td>...</td>\n",
       "      <td>29</td>\n",
       "      <td>7</td>\n",
       "      <td>4</td>\n",
       "      <td>0</td>\n",
       "      <td>0</td>\n",
       "      <td>0</td>\n",
       "      <td>0</td>\n",
       "      <td>748</td>\n",
       "      <td>10</td>\n",
       "      <td>4</td>\n",
       "    </tr>\n",
       "    <tr>\n",
       "      <th>70</th>\n",
       "      <td>71</td>\n",
       "      <td>Modric</td>\n",
       "      <td>Midfielder</td>\n",
       "      <td>39</td>\n",
       "      <td>Croatia</td>\n",
       "      <td>Real Madrid</td>\n",
       "      <td>La Liga</td>\n",
       "      <td>Quarter_finals</td>\n",
       "      <td>B</td>\n",
       "      <td>5.0</td>\n",
       "      <td>...</td>\n",
       "      <td>24</td>\n",
       "      <td>5</td>\n",
       "      <td>12</td>\n",
       "      <td>0</td>\n",
       "      <td>0</td>\n",
       "      <td>0</td>\n",
       "      <td>0</td>\n",
       "      <td>647</td>\n",
       "      <td>14</td>\n",
       "      <td>0</td>\n",
       "    </tr>\n",
       "    <tr>\n",
       "      <th>133</th>\n",
       "      <td>134</td>\n",
       "      <td>Tchouameni</td>\n",
       "      <td>Midfielder</td>\n",
       "      <td>25</td>\n",
       "      <td>France</td>\n",
       "      <td>Real Madrid</td>\n",
       "      <td>La Liga</td>\n",
       "      <td>Quarter_finals</td>\n",
       "      <td>B</td>\n",
       "      <td>80.0</td>\n",
       "      <td>...</td>\n",
       "      <td>37</td>\n",
       "      <td>8</td>\n",
       "      <td>11</td>\n",
       "      <td>0</td>\n",
       "      <td>0</td>\n",
       "      <td>0</td>\n",
       "      <td>0</td>\n",
       "      <td>800</td>\n",
       "      <td>11</td>\n",
       "      <td>3</td>\n",
       "    </tr>\n",
       "    <tr>\n",
       "      <th>138</th>\n",
       "      <td>139</td>\n",
       "      <td>Rodrygo</td>\n",
       "      <td>Forward</td>\n",
       "      <td>24</td>\n",
       "      <td>Brazil</td>\n",
       "      <td>Real Madrid</td>\n",
       "      <td>La Liga</td>\n",
       "      <td>Quarter_finals</td>\n",
       "      <td>B</td>\n",
       "      <td>100.0</td>\n",
       "      <td>...</td>\n",
       "      <td>14</td>\n",
       "      <td>1</td>\n",
       "      <td>7</td>\n",
       "      <td>0</td>\n",
       "      <td>0</td>\n",
       "      <td>0</td>\n",
       "      <td>1</td>\n",
       "      <td>880</td>\n",
       "      <td>12</td>\n",
       "      <td>2</td>\n",
       "    </tr>\n",
       "    <tr>\n",
       "      <th>179</th>\n",
       "      <td>180</td>\n",
       "      <td>Lucas Vazquez</td>\n",
       "      <td>Forward</td>\n",
       "      <td>33</td>\n",
       "      <td>Spain</td>\n",
       "      <td>Real Madrid</td>\n",
       "      <td>La Liga</td>\n",
       "      <td>Quarter_finals</td>\n",
       "      <td>B</td>\n",
       "      <td>3.0</td>\n",
       "      <td>...</td>\n",
       "      <td>21</td>\n",
       "      <td>5</td>\n",
       "      <td>5</td>\n",
       "      <td>0</td>\n",
       "      <td>0</td>\n",
       "      <td>0</td>\n",
       "      <td>0</td>\n",
       "      <td>575</td>\n",
       "      <td>10</td>\n",
       "      <td>4</td>\n",
       "    </tr>\n",
       "    <tr>\n",
       "      <th>198</th>\n",
       "      <td>199</td>\n",
       "      <td>Valverde</td>\n",
       "      <td>Midfielder</td>\n",
       "      <td>26</td>\n",
       "      <td>Uruguay</td>\n",
       "      <td>Real Madrid</td>\n",
       "      <td>La Liga</td>\n",
       "      <td>Quarter_finals</td>\n",
       "      <td>B</td>\n",
       "      <td>130.0</td>\n",
       "      <td>...</td>\n",
       "      <td>65</td>\n",
       "      <td>14</td>\n",
       "      <td>12</td>\n",
       "      <td>0</td>\n",
       "      <td>0</td>\n",
       "      <td>0</td>\n",
       "      <td>0</td>\n",
       "      <td>1236</td>\n",
       "      <td>14</td>\n",
       "      <td>0</td>\n",
       "    </tr>\n",
       "  </tbody>\n",
       "</table>\n",
       "<p>10 rows × 31 columns</p>\n",
       "</div>"
      ]
     },
     "execution_count": 14,
     "metadata": {},
     "output_type": "execute_result"
    }
   ],
   "execution_count": 14
  },
  {
   "metadata": {
    "ExecuteTime": {
     "end_time": "2025-06-02T12:39:50.262504Z",
     "start_time": "2025-06-02T12:39:50.255674Z"
    }
   },
   "cell_type": "code",
   "source": [
    "competitions_real_madrid = team_realmadrid['Competitions'].unique()\n",
    "print(f\"Competitions of Real Madrid: {competitions_real_madrid}\")"
   ],
   "id": "c321c20ed4bd370f",
   "outputs": [
    {
     "name": "stdout",
     "output_type": "stream",
     "text": [
      "Competitions of Real Madrid: ['La Liga']\n"
     ]
    }
   ],
   "execution_count": 15
  },
  {
   "metadata": {
    "ExecuteTime": {
     "end_time": "2025-06-02T12:39:50.550761Z",
     "start_time": "2025-06-02T12:39:50.546543Z"
    }
   },
   "cell_type": "code",
   "source": [
    "for competition in competitions_real_madrid:\n",
    "    print(f\"Players of Real Madrid in: {competition}\")"
   ],
   "id": "82fa8025417ba272",
   "outputs": [
    {
     "name": "stdout",
     "output_type": "stream",
     "text": [
      "Players of Real Madrid in: La Liga\n"
     ]
    }
   ],
   "execution_count": 16
  },
  {
   "metadata": {
    "ExecuteTime": {
     "end_time": "2025-06-02T12:39:50.821621Z",
     "start_time": "2025-06-02T12:39:50.814165Z"
    }
   },
   "cell_type": "code",
   "source": [
    "teams_per_comp = ucl.groupby(['Competitions'])['Team'].nunique().sort_values(ascending=False)\n",
    "\n",
    "print(teams_per_comp)"
   ],
   "id": "5a16bf9cb97ca0e4",
   "outputs": [
    {
     "name": "stdout",
     "output_type": "stream",
     "text": [
      "Competitions\n",
      "Bundesliga        5\n",
      "La Liga           5\n",
      "Serie A           5\n",
      "Ligue 1           4\n",
      "Premier League    4\n",
      "Eredivisie        2\n",
      "Liga Portugal     2\n",
      "ABundesliga       1\n",
      "Premier Liga      1\n",
      "Premiership       1\n",
      "Pro League        1\n",
      "SuperSport HNL    1\n",
      "Name: Team, dtype: int64\n"
     ]
    }
   ],
   "execution_count": 17
  },
  {
   "metadata": {
    "ExecuteTime": {
     "end_time": "2025-06-02T12:39:51.093838Z",
     "start_time": "2025-06-02T12:39:51.019815Z"
    }
   },
   "cell_type": "code",
   "source": [
    "teams_ucl = teams_per_comp.reset_index()\n",
    "teams_ucl.columns = ['Competitions', 'Num_Teams']\n",
    "\n",
    "fig = px.bar(teams_ucl, x='Competitions', y='Num_Teams',\n",
    "             title='Number of teams🛡️ in the Champions League⚽🏆 by Competition',\n",
    "             color='Num_Teams', text='Num_Teams')\n",
    "fig.show()"
   ],
   "id": "4a8c2623eaa04e16",
   "outputs": [
    {
     "data": {
      "application/vnd.plotly.v1+json": {
       "data": [
        {
         "hovertemplate": "Competitions=%{x}<br>Num_Teams=%{marker.color}<extra></extra>",
         "legendgroup": "",
         "marker": {
          "color": {
           "dtype": "i1",
           "bdata": "BQUFBAQCAgEBAQEB"
          },
          "coloraxis": "coloraxis",
          "pattern": {
           "shape": ""
          }
         },
         "name": "",
         "orientation": "v",
         "showlegend": false,
         "text": {
          "dtype": "f8",
          "bdata": "AAAAAAAAFEAAAAAAAAAUQAAAAAAAABRAAAAAAAAAEEAAAAAAAAAQQAAAAAAAAABAAAAAAAAAAEAAAAAAAADwPwAAAAAAAPA/AAAAAAAA8D8AAAAAAADwPwAAAAAAAPA/"
         },
         "textposition": "auto",
         "x": [
          "Bundesliga",
          "La Liga",
          "Serie A",
          "Ligue 1",
          "Premier League",
          "Eredivisie",
          "Liga Portugal",
          "ABundesliga",
          "Premier Liga",
          "Premiership",
          "Pro League",
          "SuperSport HNL"
         ],
         "xaxis": "x",
         "y": {
          "dtype": "i1",
          "bdata": "BQUFBAQCAgEBAQEB"
         },
         "yaxis": "y",
         "type": "bar"
        }
       ],
       "layout": {
        "template": {
         "data": {
          "histogram2dcontour": [
           {
            "type": "histogram2dcontour",
            "colorbar": {
             "outlinewidth": 0,
             "ticks": ""
            },
            "colorscale": [
             [
              0.0,
              "#0d0887"
             ],
             [
              0.1111111111111111,
              "#46039f"
             ],
             [
              0.2222222222222222,
              "#7201a8"
             ],
             [
              0.3333333333333333,
              "#9c179e"
             ],
             [
              0.4444444444444444,
              "#bd3786"
             ],
             [
              0.5555555555555556,
              "#d8576b"
             ],
             [
              0.6666666666666666,
              "#ed7953"
             ],
             [
              0.7777777777777778,
              "#fb9f3a"
             ],
             [
              0.8888888888888888,
              "#fdca26"
             ],
             [
              1.0,
              "#f0f921"
             ]
            ]
           }
          ],
          "choropleth": [
           {
            "type": "choropleth",
            "colorbar": {
             "outlinewidth": 0,
             "ticks": ""
            }
           }
          ],
          "histogram2d": [
           {
            "type": "histogram2d",
            "colorbar": {
             "outlinewidth": 0,
             "ticks": ""
            },
            "colorscale": [
             [
              0.0,
              "#0d0887"
             ],
             [
              0.1111111111111111,
              "#46039f"
             ],
             [
              0.2222222222222222,
              "#7201a8"
             ],
             [
              0.3333333333333333,
              "#9c179e"
             ],
             [
              0.4444444444444444,
              "#bd3786"
             ],
             [
              0.5555555555555556,
              "#d8576b"
             ],
             [
              0.6666666666666666,
              "#ed7953"
             ],
             [
              0.7777777777777778,
              "#fb9f3a"
             ],
             [
              0.8888888888888888,
              "#fdca26"
             ],
             [
              1.0,
              "#f0f921"
             ]
            ]
           }
          ],
          "heatmap": [
           {
            "type": "heatmap",
            "colorbar": {
             "outlinewidth": 0,
             "ticks": ""
            },
            "colorscale": [
             [
              0.0,
              "#0d0887"
             ],
             [
              0.1111111111111111,
              "#46039f"
             ],
             [
              0.2222222222222222,
              "#7201a8"
             ],
             [
              0.3333333333333333,
              "#9c179e"
             ],
             [
              0.4444444444444444,
              "#bd3786"
             ],
             [
              0.5555555555555556,
              "#d8576b"
             ],
             [
              0.6666666666666666,
              "#ed7953"
             ],
             [
              0.7777777777777778,
              "#fb9f3a"
             ],
             [
              0.8888888888888888,
              "#fdca26"
             ],
             [
              1.0,
              "#f0f921"
             ]
            ]
           }
          ],
          "contourcarpet": [
           {
            "type": "contourcarpet",
            "colorbar": {
             "outlinewidth": 0,
             "ticks": ""
            }
           }
          ],
          "contour": [
           {
            "type": "contour",
            "colorbar": {
             "outlinewidth": 0,
             "ticks": ""
            },
            "colorscale": [
             [
              0.0,
              "#0d0887"
             ],
             [
              0.1111111111111111,
              "#46039f"
             ],
             [
              0.2222222222222222,
              "#7201a8"
             ],
             [
              0.3333333333333333,
              "#9c179e"
             ],
             [
              0.4444444444444444,
              "#bd3786"
             ],
             [
              0.5555555555555556,
              "#d8576b"
             ],
             [
              0.6666666666666666,
              "#ed7953"
             ],
             [
              0.7777777777777778,
              "#fb9f3a"
             ],
             [
              0.8888888888888888,
              "#fdca26"
             ],
             [
              1.0,
              "#f0f921"
             ]
            ]
           }
          ],
          "surface": [
           {
            "type": "surface",
            "colorbar": {
             "outlinewidth": 0,
             "ticks": ""
            },
            "colorscale": [
             [
              0.0,
              "#0d0887"
             ],
             [
              0.1111111111111111,
              "#46039f"
             ],
             [
              0.2222222222222222,
              "#7201a8"
             ],
             [
              0.3333333333333333,
              "#9c179e"
             ],
             [
              0.4444444444444444,
              "#bd3786"
             ],
             [
              0.5555555555555556,
              "#d8576b"
             ],
             [
              0.6666666666666666,
              "#ed7953"
             ],
             [
              0.7777777777777778,
              "#fb9f3a"
             ],
             [
              0.8888888888888888,
              "#fdca26"
             ],
             [
              1.0,
              "#f0f921"
             ]
            ]
           }
          ],
          "mesh3d": [
           {
            "type": "mesh3d",
            "colorbar": {
             "outlinewidth": 0,
             "ticks": ""
            }
           }
          ],
          "scatter": [
           {
            "fillpattern": {
             "fillmode": "overlay",
             "size": 10,
             "solidity": 0.2
            },
            "type": "scatter"
           }
          ],
          "parcoords": [
           {
            "type": "parcoords",
            "line": {
             "colorbar": {
              "outlinewidth": 0,
              "ticks": ""
             }
            }
           }
          ],
          "scatterpolargl": [
           {
            "type": "scatterpolargl",
            "marker": {
             "colorbar": {
              "outlinewidth": 0,
              "ticks": ""
             }
            }
           }
          ],
          "bar": [
           {
            "error_x": {
             "color": "#2a3f5f"
            },
            "error_y": {
             "color": "#2a3f5f"
            },
            "marker": {
             "line": {
              "color": "#E5ECF6",
              "width": 0.5
             },
             "pattern": {
              "fillmode": "overlay",
              "size": 10,
              "solidity": 0.2
             }
            },
            "type": "bar"
           }
          ],
          "scattergeo": [
           {
            "type": "scattergeo",
            "marker": {
             "colorbar": {
              "outlinewidth": 0,
              "ticks": ""
             }
            }
           }
          ],
          "scatterpolar": [
           {
            "type": "scatterpolar",
            "marker": {
             "colorbar": {
              "outlinewidth": 0,
              "ticks": ""
             }
            }
           }
          ],
          "histogram": [
           {
            "marker": {
             "pattern": {
              "fillmode": "overlay",
              "size": 10,
              "solidity": 0.2
             }
            },
            "type": "histogram"
           }
          ],
          "scattergl": [
           {
            "type": "scattergl",
            "marker": {
             "colorbar": {
              "outlinewidth": 0,
              "ticks": ""
             }
            }
           }
          ],
          "scatter3d": [
           {
            "type": "scatter3d",
            "line": {
             "colorbar": {
              "outlinewidth": 0,
              "ticks": ""
             }
            },
            "marker": {
             "colorbar": {
              "outlinewidth": 0,
              "ticks": ""
             }
            }
           }
          ],
          "scattermap": [
           {
            "type": "scattermap",
            "marker": {
             "colorbar": {
              "outlinewidth": 0,
              "ticks": ""
             }
            }
           }
          ],
          "scattermapbox": [
           {
            "type": "scattermapbox",
            "marker": {
             "colorbar": {
              "outlinewidth": 0,
              "ticks": ""
             }
            }
           }
          ],
          "scatterternary": [
           {
            "type": "scatterternary",
            "marker": {
             "colorbar": {
              "outlinewidth": 0,
              "ticks": ""
             }
            }
           }
          ],
          "scattercarpet": [
           {
            "type": "scattercarpet",
            "marker": {
             "colorbar": {
              "outlinewidth": 0,
              "ticks": ""
             }
            }
           }
          ],
          "carpet": [
           {
            "aaxis": {
             "endlinecolor": "#2a3f5f",
             "gridcolor": "white",
             "linecolor": "white",
             "minorgridcolor": "white",
             "startlinecolor": "#2a3f5f"
            },
            "baxis": {
             "endlinecolor": "#2a3f5f",
             "gridcolor": "white",
             "linecolor": "white",
             "minorgridcolor": "white",
             "startlinecolor": "#2a3f5f"
            },
            "type": "carpet"
           }
          ],
          "table": [
           {
            "cells": {
             "fill": {
              "color": "#EBF0F8"
             },
             "line": {
              "color": "white"
             }
            },
            "header": {
             "fill": {
              "color": "#C8D4E3"
             },
             "line": {
              "color": "white"
             }
            },
            "type": "table"
           }
          ],
          "barpolar": [
           {
            "marker": {
             "line": {
              "color": "#E5ECF6",
              "width": 0.5
             },
             "pattern": {
              "fillmode": "overlay",
              "size": 10,
              "solidity": 0.2
             }
            },
            "type": "barpolar"
           }
          ],
          "pie": [
           {
            "automargin": true,
            "type": "pie"
           }
          ]
         },
         "layout": {
          "autotypenumbers": "strict",
          "colorway": [
           "#636efa",
           "#EF553B",
           "#00cc96",
           "#ab63fa",
           "#FFA15A",
           "#19d3f3",
           "#FF6692",
           "#B6E880",
           "#FF97FF",
           "#FECB52"
          ],
          "font": {
           "color": "#2a3f5f"
          },
          "hovermode": "closest",
          "hoverlabel": {
           "align": "left"
          },
          "paper_bgcolor": "white",
          "plot_bgcolor": "#E5ECF6",
          "polar": {
           "bgcolor": "#E5ECF6",
           "angularaxis": {
            "gridcolor": "white",
            "linecolor": "white",
            "ticks": ""
           },
           "radialaxis": {
            "gridcolor": "white",
            "linecolor": "white",
            "ticks": ""
           }
          },
          "ternary": {
           "bgcolor": "#E5ECF6",
           "aaxis": {
            "gridcolor": "white",
            "linecolor": "white",
            "ticks": ""
           },
           "baxis": {
            "gridcolor": "white",
            "linecolor": "white",
            "ticks": ""
           },
           "caxis": {
            "gridcolor": "white",
            "linecolor": "white",
            "ticks": ""
           }
          },
          "coloraxis": {
           "colorbar": {
            "outlinewidth": 0,
            "ticks": ""
           }
          },
          "colorscale": {
           "sequential": [
            [
             0.0,
             "#0d0887"
            ],
            [
             0.1111111111111111,
             "#46039f"
            ],
            [
             0.2222222222222222,
             "#7201a8"
            ],
            [
             0.3333333333333333,
             "#9c179e"
            ],
            [
             0.4444444444444444,
             "#bd3786"
            ],
            [
             0.5555555555555556,
             "#d8576b"
            ],
            [
             0.6666666666666666,
             "#ed7953"
            ],
            [
             0.7777777777777778,
             "#fb9f3a"
            ],
            [
             0.8888888888888888,
             "#fdca26"
            ],
            [
             1.0,
             "#f0f921"
            ]
           ],
           "sequentialminus": [
            [
             0.0,
             "#0d0887"
            ],
            [
             0.1111111111111111,
             "#46039f"
            ],
            [
             0.2222222222222222,
             "#7201a8"
            ],
            [
             0.3333333333333333,
             "#9c179e"
            ],
            [
             0.4444444444444444,
             "#bd3786"
            ],
            [
             0.5555555555555556,
             "#d8576b"
            ],
            [
             0.6666666666666666,
             "#ed7953"
            ],
            [
             0.7777777777777778,
             "#fb9f3a"
            ],
            [
             0.8888888888888888,
             "#fdca26"
            ],
            [
             1.0,
             "#f0f921"
            ]
           ],
           "diverging": [
            [
             0,
             "#8e0152"
            ],
            [
             0.1,
             "#c51b7d"
            ],
            [
             0.2,
             "#de77ae"
            ],
            [
             0.3,
             "#f1b6da"
            ],
            [
             0.4,
             "#fde0ef"
            ],
            [
             0.5,
             "#f7f7f7"
            ],
            [
             0.6,
             "#e6f5d0"
            ],
            [
             0.7,
             "#b8e186"
            ],
            [
             0.8,
             "#7fbc41"
            ],
            [
             0.9,
             "#4d9221"
            ],
            [
             1,
             "#276419"
            ]
           ]
          },
          "xaxis": {
           "gridcolor": "white",
           "linecolor": "white",
           "ticks": "",
           "title": {
            "standoff": 15
           },
           "zerolinecolor": "white",
           "automargin": true,
           "zerolinewidth": 2
          },
          "yaxis": {
           "gridcolor": "white",
           "linecolor": "white",
           "ticks": "",
           "title": {
            "standoff": 15
           },
           "zerolinecolor": "white",
           "automargin": true,
           "zerolinewidth": 2
          },
          "scene": {
           "xaxis": {
            "backgroundcolor": "#E5ECF6",
            "gridcolor": "white",
            "linecolor": "white",
            "showbackground": true,
            "ticks": "",
            "zerolinecolor": "white",
            "gridwidth": 2
           },
           "yaxis": {
            "backgroundcolor": "#E5ECF6",
            "gridcolor": "white",
            "linecolor": "white",
            "showbackground": true,
            "ticks": "",
            "zerolinecolor": "white",
            "gridwidth": 2
           },
           "zaxis": {
            "backgroundcolor": "#E5ECF6",
            "gridcolor": "white",
            "linecolor": "white",
            "showbackground": true,
            "ticks": "",
            "zerolinecolor": "white",
            "gridwidth": 2
           }
          },
          "shapedefaults": {
           "line": {
            "color": "#2a3f5f"
           }
          },
          "annotationdefaults": {
           "arrowcolor": "#2a3f5f",
           "arrowhead": 0,
           "arrowwidth": 1
          },
          "geo": {
           "bgcolor": "white",
           "landcolor": "#E5ECF6",
           "subunitcolor": "white",
           "showland": true,
           "showlakes": true,
           "lakecolor": "white"
          },
          "title": {
           "x": 0.05
          },
          "mapbox": {
           "style": "light"
          }
         }
        },
        "xaxis": {
         "anchor": "y",
         "domain": [
          0.0,
          1.0
         ],
         "title": {
          "text": "Competitions"
         }
        },
        "yaxis": {
         "anchor": "x",
         "domain": [
          0.0,
          1.0
         ],
         "title": {
          "text": "Num_Teams"
         }
        },
        "coloraxis": {
         "colorbar": {
          "title": {
           "text": "Num_Teams"
          }
         },
         "colorscale": [
          [
           0.0,
           "#0d0887"
          ],
          [
           0.1111111111111111,
           "#46039f"
          ],
          [
           0.2222222222222222,
           "#7201a8"
          ],
          [
           0.3333333333333333,
           "#9c179e"
          ],
          [
           0.4444444444444444,
           "#bd3786"
          ],
          [
           0.5555555555555556,
           "#d8576b"
          ],
          [
           0.6666666666666666,
           "#ed7953"
          ],
          [
           0.7777777777777778,
           "#fb9f3a"
          ],
          [
           0.8888888888888888,
           "#fdca26"
          ],
          [
           1.0,
           "#f0f921"
          ]
         ]
        },
        "legend": {
         "tracegroupgap": 0
        },
        "title": {
         "text": "Number of teams🛡️ in the Champions League⚽🏆 by Competition"
        },
        "barmode": "relative"
       },
       "config": {
        "plotlyServerURL": "https://plot.ly"
       }
      }
     },
     "metadata": {},
     "output_type": "display_data"
    }
   ],
   "execution_count": 18
  },
  {
   "metadata": {
    "ExecuteTime": {
     "end_time": "2025-06-02T12:39:51.159862Z",
     "start_time": "2025-06-02T12:39:51.153086Z"
    }
   },
   "cell_type": "code",
   "source": "ucl[ucl['Competitions'] == 'Premier League' ]['Team'].unique()",
   "id": "fc3d8e844cd641bd",
   "outputs": [
    {
     "data": {
      "text/plain": [
       "array(['Liverpool FC', 'Arsenal FC', 'Manchester City', 'Aston Villa'],\n",
       "      dtype=object)"
      ]
     },
     "execution_count": 19,
     "metadata": {},
     "output_type": "execute_result"
    }
   ],
   "execution_count": 19
  },
  {
   "metadata": {
    "ExecuteTime": {
     "end_time": "2025-06-02T12:39:51.225733Z",
     "start_time": "2025-06-02T12:39:51.219765Z"
    }
   },
   "cell_type": "code",
   "source": "teams_per_comp",
   "id": "f19d5f94d7361e4e",
   "outputs": [
    {
     "data": {
      "text/plain": [
       "Competitions\n",
       "Bundesliga        5\n",
       "La Liga           5\n",
       "Serie A           5\n",
       "Ligue 1           4\n",
       "Premier League    4\n",
       "Eredivisie        2\n",
       "Liga Portugal     2\n",
       "ABundesliga       1\n",
       "Premier Liga      1\n",
       "Premiership       1\n",
       "Pro League        1\n",
       "SuperSport HNL    1\n",
       "Name: Team, dtype: int64"
      ]
     },
     "execution_count": 20,
     "metadata": {},
     "output_type": "execute_result"
    }
   ],
   "execution_count": 20
  },
  {
   "metadata": {
    "ExecuteTime": {
     "end_time": "2025-06-02T12:39:51.317719Z",
     "start_time": "2025-06-02T12:39:51.310849Z"
    }
   },
   "cell_type": "code",
   "source": [
    "kolonat_correlation = ['Goals', 'Assists', 'Chances_Created']\n",
    "\n",
    "# Llogaritja e matricës së korrelacionit\n",
    "corr_goals_assists_cc = ucl[kolonat_correlation].corr()"
   ],
   "id": "c80d3826698f971f",
   "outputs": [],
   "execution_count": 21
  },
  {
   "metadata": {
    "ExecuteTime": {
     "end_time": "2025-06-02T12:39:51.480741Z",
     "start_time": "2025-06-02T12:39:51.470589Z"
    }
   },
   "cell_type": "code",
   "source": "corr_goals_assists_cc",
   "id": "7618538fc9f2f90d",
   "outputs": [
    {
     "data": {
      "text/plain": [
       "                    Goals   Assists  Chances_Created\n",
       "Goals            1.000000  0.322670         0.399727\n",
       "Assists          0.322670  1.000000         0.653219\n",
       "Chances_Created  0.399727  0.653219         1.000000"
      ],
      "text/html": [
       "<div>\n",
       "<style scoped>\n",
       "    .dataframe tbody tr th:only-of-type {\n",
       "        vertical-align: middle;\n",
       "    }\n",
       "\n",
       "    .dataframe tbody tr th {\n",
       "        vertical-align: top;\n",
       "    }\n",
       "\n",
       "    .dataframe thead th {\n",
       "        text-align: right;\n",
       "    }\n",
       "</style>\n",
       "<table border=\"1\" class=\"dataframe\">\n",
       "  <thead>\n",
       "    <tr style=\"text-align: right;\">\n",
       "      <th></th>\n",
       "      <th>Goals</th>\n",
       "      <th>Assists</th>\n",
       "      <th>Chances_Created</th>\n",
       "    </tr>\n",
       "  </thead>\n",
       "  <tbody>\n",
       "    <tr>\n",
       "      <th>Goals</th>\n",
       "      <td>1.000000</td>\n",
       "      <td>0.322670</td>\n",
       "      <td>0.399727</td>\n",
       "    </tr>\n",
       "    <tr>\n",
       "      <th>Assists</th>\n",
       "      <td>0.322670</td>\n",
       "      <td>1.000000</td>\n",
       "      <td>0.653219</td>\n",
       "    </tr>\n",
       "    <tr>\n",
       "      <th>Chances_Created</th>\n",
       "      <td>0.399727</td>\n",
       "      <td>0.653219</td>\n",
       "      <td>1.000000</td>\n",
       "    </tr>\n",
       "  </tbody>\n",
       "</table>\n",
       "</div>"
      ]
     },
     "execution_count": 22,
     "metadata": {},
     "output_type": "execute_result"
    }
   ],
   "execution_count": 22
  },
  {
   "metadata": {
    "ExecuteTime": {
     "end_time": "2025-06-02T12:40:34.175426Z",
     "start_time": "2025-06-02T12:40:34.160672Z"
    }
   },
   "cell_type": "code",
   "source": "ucl[['Goals','Assists','Chances_Created']].corr()",
   "id": "32db7079b4bf66",
   "outputs": [
    {
     "data": {
      "text/plain": [
       "                    Goals   Assists  Chances_Created\n",
       "Goals            1.000000  0.322670         0.399727\n",
       "Assists          0.322670  1.000000         0.653219\n",
       "Chances_Created  0.399727  0.653219         1.000000"
      ],
      "text/html": [
       "<div>\n",
       "<style scoped>\n",
       "    .dataframe tbody tr th:only-of-type {\n",
       "        vertical-align: middle;\n",
       "    }\n",
       "\n",
       "    .dataframe tbody tr th {\n",
       "        vertical-align: top;\n",
       "    }\n",
       "\n",
       "    .dataframe thead th {\n",
       "        text-align: right;\n",
       "    }\n",
       "</style>\n",
       "<table border=\"1\" class=\"dataframe\">\n",
       "  <thead>\n",
       "    <tr style=\"text-align: right;\">\n",
       "      <th></th>\n",
       "      <th>Goals</th>\n",
       "      <th>Assists</th>\n",
       "      <th>Chances_Created</th>\n",
       "    </tr>\n",
       "  </thead>\n",
       "  <tbody>\n",
       "    <tr>\n",
       "      <th>Goals</th>\n",
       "      <td>1.000000</td>\n",
       "      <td>0.322670</td>\n",
       "      <td>0.399727</td>\n",
       "    </tr>\n",
       "    <tr>\n",
       "      <th>Assists</th>\n",
       "      <td>0.322670</td>\n",
       "      <td>1.000000</td>\n",
       "      <td>0.653219</td>\n",
       "    </tr>\n",
       "    <tr>\n",
       "      <th>Chances_Created</th>\n",
       "      <td>0.399727</td>\n",
       "      <td>0.653219</td>\n",
       "      <td>1.000000</td>\n",
       "    </tr>\n",
       "  </tbody>\n",
       "</table>\n",
       "</div>"
      ]
     },
     "execution_count": 24,
     "metadata": {},
     "output_type": "execute_result"
    }
   ],
   "execution_count": 24
  },
  {
   "metadata": {
    "ExecuteTime": {
     "end_time": "2025-06-02T12:40:36.226081Z",
     "start_time": "2025-06-02T12:40:36.120224Z"
    }
   },
   "cell_type": "code",
   "source": [
    "goals_per_player = ucl.groupby(['Player', 'Position','Team'])['Goals'].sum().reset_index()\n",
    "goals_per_player = goals_per_player.sort_values(by='Goals', ascending=False).head(20)\n",
    "fig2 = px.pie(goals_per_player,\n",
    "              values='Goals',\n",
    "              names='Player',\n",
    "              title='Top 20 lojtaret me me se shumti gola ne Champions League 2025',\n",
    "              hover_data=['Position'])\n",
    "fig2.update_traces(textposition='inside', textinfo='label+value', textfont_size=16)\n",
    "fig2.show()"
   ],
   "id": "bd77af7696b272ba",
   "outputs": [
    {
     "data": {
      "application/vnd.plotly.v1+json": {
       "data": [
        {
         "customdata": [
          [
           "Forward"
          ],
          [
           "Forward"
          ],
          [
           "Forward"
          ],
          [
           "Forward"
          ],
          [
           "Forward"
          ],
          [
           "Forward"
          ],
          [
           "Forward"
          ],
          [
           "Forward"
          ],
          [
           "Forward"
          ],
          [
           "Forward"
          ],
          [
           "Forward"
          ],
          [
           "Forward"
          ],
          [
           "Forward"
          ],
          [
           "Midfielder"
          ],
          [
           "Forward"
          ],
          [
           "Forward"
          ],
          [
           "Forward"
          ],
          [
           "Forward"
          ],
          [
           "Forward"
          ],
          [
           "Forward"
          ]
         ],
         "domain": {
          "x": [
           0.0,
           1.0
          ],
          "y": [
           0.0,
           1.0
          ]
         },
         "hovertemplate": "Player=%{label}<br>Goals=%{value}<br>Position=%{customdata[0]}<extra></extra>",
         "labels": [
          "Guirassy",
          "Raphinha",
          "Lewandowski",
          "Harry Kane",
          "Lautaro Martinez",
          "Haaland",
          "Vinicius Jr",
          "Dembele",
          "Pavlidis",
          "Julian Alvarez",
          "Jonathan David",
          "Kylian Mbappe",
          "Bukayo Saka",
          "Florian Wirtz",
          "Griezmann",
          "Santiago Gimenez",
          "Viktor Gyokeres",
          "Desire Doue",
          "Rodrygo",
          "Yamal"
         ],
         "legendgroup": "",
         "name": "",
         "showlegend": true,
         "values": {
          "dtype": "i1",
          "bdata": "DQ0LCwkICAgHBwcHBgYGBgYFBQU="
         },
         "type": "pie",
         "textfont": {
          "size": 16
         },
         "textinfo": "label+value",
         "textposition": "inside"
        }
       ],
       "layout": {
        "template": {
         "data": {
          "histogram2dcontour": [
           {
            "type": "histogram2dcontour",
            "colorbar": {
             "outlinewidth": 0,
             "ticks": ""
            },
            "colorscale": [
             [
              0.0,
              "#0d0887"
             ],
             [
              0.1111111111111111,
              "#46039f"
             ],
             [
              0.2222222222222222,
              "#7201a8"
             ],
             [
              0.3333333333333333,
              "#9c179e"
             ],
             [
              0.4444444444444444,
              "#bd3786"
             ],
             [
              0.5555555555555556,
              "#d8576b"
             ],
             [
              0.6666666666666666,
              "#ed7953"
             ],
             [
              0.7777777777777778,
              "#fb9f3a"
             ],
             [
              0.8888888888888888,
              "#fdca26"
             ],
             [
              1.0,
              "#f0f921"
             ]
            ]
           }
          ],
          "choropleth": [
           {
            "type": "choropleth",
            "colorbar": {
             "outlinewidth": 0,
             "ticks": ""
            }
           }
          ],
          "histogram2d": [
           {
            "type": "histogram2d",
            "colorbar": {
             "outlinewidth": 0,
             "ticks": ""
            },
            "colorscale": [
             [
              0.0,
              "#0d0887"
             ],
             [
              0.1111111111111111,
              "#46039f"
             ],
             [
              0.2222222222222222,
              "#7201a8"
             ],
             [
              0.3333333333333333,
              "#9c179e"
             ],
             [
              0.4444444444444444,
              "#bd3786"
             ],
             [
              0.5555555555555556,
              "#d8576b"
             ],
             [
              0.6666666666666666,
              "#ed7953"
             ],
             [
              0.7777777777777778,
              "#fb9f3a"
             ],
             [
              0.8888888888888888,
              "#fdca26"
             ],
             [
              1.0,
              "#f0f921"
             ]
            ]
           }
          ],
          "heatmap": [
           {
            "type": "heatmap",
            "colorbar": {
             "outlinewidth": 0,
             "ticks": ""
            },
            "colorscale": [
             [
              0.0,
              "#0d0887"
             ],
             [
              0.1111111111111111,
              "#46039f"
             ],
             [
              0.2222222222222222,
              "#7201a8"
             ],
             [
              0.3333333333333333,
              "#9c179e"
             ],
             [
              0.4444444444444444,
              "#bd3786"
             ],
             [
              0.5555555555555556,
              "#d8576b"
             ],
             [
              0.6666666666666666,
              "#ed7953"
             ],
             [
              0.7777777777777778,
              "#fb9f3a"
             ],
             [
              0.8888888888888888,
              "#fdca26"
             ],
             [
              1.0,
              "#f0f921"
             ]
            ]
           }
          ],
          "contourcarpet": [
           {
            "type": "contourcarpet",
            "colorbar": {
             "outlinewidth": 0,
             "ticks": ""
            }
           }
          ],
          "contour": [
           {
            "type": "contour",
            "colorbar": {
             "outlinewidth": 0,
             "ticks": ""
            },
            "colorscale": [
             [
              0.0,
              "#0d0887"
             ],
             [
              0.1111111111111111,
              "#46039f"
             ],
             [
              0.2222222222222222,
              "#7201a8"
             ],
             [
              0.3333333333333333,
              "#9c179e"
             ],
             [
              0.4444444444444444,
              "#bd3786"
             ],
             [
              0.5555555555555556,
              "#d8576b"
             ],
             [
              0.6666666666666666,
              "#ed7953"
             ],
             [
              0.7777777777777778,
              "#fb9f3a"
             ],
             [
              0.8888888888888888,
              "#fdca26"
             ],
             [
              1.0,
              "#f0f921"
             ]
            ]
           }
          ],
          "surface": [
           {
            "type": "surface",
            "colorbar": {
             "outlinewidth": 0,
             "ticks": ""
            },
            "colorscale": [
             [
              0.0,
              "#0d0887"
             ],
             [
              0.1111111111111111,
              "#46039f"
             ],
             [
              0.2222222222222222,
              "#7201a8"
             ],
             [
              0.3333333333333333,
              "#9c179e"
             ],
             [
              0.4444444444444444,
              "#bd3786"
             ],
             [
              0.5555555555555556,
              "#d8576b"
             ],
             [
              0.6666666666666666,
              "#ed7953"
             ],
             [
              0.7777777777777778,
              "#fb9f3a"
             ],
             [
              0.8888888888888888,
              "#fdca26"
             ],
             [
              1.0,
              "#f0f921"
             ]
            ]
           }
          ],
          "mesh3d": [
           {
            "type": "mesh3d",
            "colorbar": {
             "outlinewidth": 0,
             "ticks": ""
            }
           }
          ],
          "scatter": [
           {
            "fillpattern": {
             "fillmode": "overlay",
             "size": 10,
             "solidity": 0.2
            },
            "type": "scatter"
           }
          ],
          "parcoords": [
           {
            "type": "parcoords",
            "line": {
             "colorbar": {
              "outlinewidth": 0,
              "ticks": ""
             }
            }
           }
          ],
          "scatterpolargl": [
           {
            "type": "scatterpolargl",
            "marker": {
             "colorbar": {
              "outlinewidth": 0,
              "ticks": ""
             }
            }
           }
          ],
          "bar": [
           {
            "error_x": {
             "color": "#2a3f5f"
            },
            "error_y": {
             "color": "#2a3f5f"
            },
            "marker": {
             "line": {
              "color": "#E5ECF6",
              "width": 0.5
             },
             "pattern": {
              "fillmode": "overlay",
              "size": 10,
              "solidity": 0.2
             }
            },
            "type": "bar"
           }
          ],
          "scattergeo": [
           {
            "type": "scattergeo",
            "marker": {
             "colorbar": {
              "outlinewidth": 0,
              "ticks": ""
             }
            }
           }
          ],
          "scatterpolar": [
           {
            "type": "scatterpolar",
            "marker": {
             "colorbar": {
              "outlinewidth": 0,
              "ticks": ""
             }
            }
           }
          ],
          "histogram": [
           {
            "marker": {
             "pattern": {
              "fillmode": "overlay",
              "size": 10,
              "solidity": 0.2
             }
            },
            "type": "histogram"
           }
          ],
          "scattergl": [
           {
            "type": "scattergl",
            "marker": {
             "colorbar": {
              "outlinewidth": 0,
              "ticks": ""
             }
            }
           }
          ],
          "scatter3d": [
           {
            "type": "scatter3d",
            "line": {
             "colorbar": {
              "outlinewidth": 0,
              "ticks": ""
             }
            },
            "marker": {
             "colorbar": {
              "outlinewidth": 0,
              "ticks": ""
             }
            }
           }
          ],
          "scattermap": [
           {
            "type": "scattermap",
            "marker": {
             "colorbar": {
              "outlinewidth": 0,
              "ticks": ""
             }
            }
           }
          ],
          "scattermapbox": [
           {
            "type": "scattermapbox",
            "marker": {
             "colorbar": {
              "outlinewidth": 0,
              "ticks": ""
             }
            }
           }
          ],
          "scatterternary": [
           {
            "type": "scatterternary",
            "marker": {
             "colorbar": {
              "outlinewidth": 0,
              "ticks": ""
             }
            }
           }
          ],
          "scattercarpet": [
           {
            "type": "scattercarpet",
            "marker": {
             "colorbar": {
              "outlinewidth": 0,
              "ticks": ""
             }
            }
           }
          ],
          "carpet": [
           {
            "aaxis": {
             "endlinecolor": "#2a3f5f",
             "gridcolor": "white",
             "linecolor": "white",
             "minorgridcolor": "white",
             "startlinecolor": "#2a3f5f"
            },
            "baxis": {
             "endlinecolor": "#2a3f5f",
             "gridcolor": "white",
             "linecolor": "white",
             "minorgridcolor": "white",
             "startlinecolor": "#2a3f5f"
            },
            "type": "carpet"
           }
          ],
          "table": [
           {
            "cells": {
             "fill": {
              "color": "#EBF0F8"
             },
             "line": {
              "color": "white"
             }
            },
            "header": {
             "fill": {
              "color": "#C8D4E3"
             },
             "line": {
              "color": "white"
             }
            },
            "type": "table"
           }
          ],
          "barpolar": [
           {
            "marker": {
             "line": {
              "color": "#E5ECF6",
              "width": 0.5
             },
             "pattern": {
              "fillmode": "overlay",
              "size": 10,
              "solidity": 0.2
             }
            },
            "type": "barpolar"
           }
          ],
          "pie": [
           {
            "automargin": true,
            "type": "pie"
           }
          ]
         },
         "layout": {
          "autotypenumbers": "strict",
          "colorway": [
           "#636efa",
           "#EF553B",
           "#00cc96",
           "#ab63fa",
           "#FFA15A",
           "#19d3f3",
           "#FF6692",
           "#B6E880",
           "#FF97FF",
           "#FECB52"
          ],
          "font": {
           "color": "#2a3f5f"
          },
          "hovermode": "closest",
          "hoverlabel": {
           "align": "left"
          },
          "paper_bgcolor": "white",
          "plot_bgcolor": "#E5ECF6",
          "polar": {
           "bgcolor": "#E5ECF6",
           "angularaxis": {
            "gridcolor": "white",
            "linecolor": "white",
            "ticks": ""
           },
           "radialaxis": {
            "gridcolor": "white",
            "linecolor": "white",
            "ticks": ""
           }
          },
          "ternary": {
           "bgcolor": "#E5ECF6",
           "aaxis": {
            "gridcolor": "white",
            "linecolor": "white",
            "ticks": ""
           },
           "baxis": {
            "gridcolor": "white",
            "linecolor": "white",
            "ticks": ""
           },
           "caxis": {
            "gridcolor": "white",
            "linecolor": "white",
            "ticks": ""
           }
          },
          "coloraxis": {
           "colorbar": {
            "outlinewidth": 0,
            "ticks": ""
           }
          },
          "colorscale": {
           "sequential": [
            [
             0.0,
             "#0d0887"
            ],
            [
             0.1111111111111111,
             "#46039f"
            ],
            [
             0.2222222222222222,
             "#7201a8"
            ],
            [
             0.3333333333333333,
             "#9c179e"
            ],
            [
             0.4444444444444444,
             "#bd3786"
            ],
            [
             0.5555555555555556,
             "#d8576b"
            ],
            [
             0.6666666666666666,
             "#ed7953"
            ],
            [
             0.7777777777777778,
             "#fb9f3a"
            ],
            [
             0.8888888888888888,
             "#fdca26"
            ],
            [
             1.0,
             "#f0f921"
            ]
           ],
           "sequentialminus": [
            [
             0.0,
             "#0d0887"
            ],
            [
             0.1111111111111111,
             "#46039f"
            ],
            [
             0.2222222222222222,
             "#7201a8"
            ],
            [
             0.3333333333333333,
             "#9c179e"
            ],
            [
             0.4444444444444444,
             "#bd3786"
            ],
            [
             0.5555555555555556,
             "#d8576b"
            ],
            [
             0.6666666666666666,
             "#ed7953"
            ],
            [
             0.7777777777777778,
             "#fb9f3a"
            ],
            [
             0.8888888888888888,
             "#fdca26"
            ],
            [
             1.0,
             "#f0f921"
            ]
           ],
           "diverging": [
            [
             0,
             "#8e0152"
            ],
            [
             0.1,
             "#c51b7d"
            ],
            [
             0.2,
             "#de77ae"
            ],
            [
             0.3,
             "#f1b6da"
            ],
            [
             0.4,
             "#fde0ef"
            ],
            [
             0.5,
             "#f7f7f7"
            ],
            [
             0.6,
             "#e6f5d0"
            ],
            [
             0.7,
             "#b8e186"
            ],
            [
             0.8,
             "#7fbc41"
            ],
            [
             0.9,
             "#4d9221"
            ],
            [
             1,
             "#276419"
            ]
           ]
          },
          "xaxis": {
           "gridcolor": "white",
           "linecolor": "white",
           "ticks": "",
           "title": {
            "standoff": 15
           },
           "zerolinecolor": "white",
           "automargin": true,
           "zerolinewidth": 2
          },
          "yaxis": {
           "gridcolor": "white",
           "linecolor": "white",
           "ticks": "",
           "title": {
            "standoff": 15
           },
           "zerolinecolor": "white",
           "automargin": true,
           "zerolinewidth": 2
          },
          "scene": {
           "xaxis": {
            "backgroundcolor": "#E5ECF6",
            "gridcolor": "white",
            "linecolor": "white",
            "showbackground": true,
            "ticks": "",
            "zerolinecolor": "white",
            "gridwidth": 2
           },
           "yaxis": {
            "backgroundcolor": "#E5ECF6",
            "gridcolor": "white",
            "linecolor": "white",
            "showbackground": true,
            "ticks": "",
            "zerolinecolor": "white",
            "gridwidth": 2
           },
           "zaxis": {
            "backgroundcolor": "#E5ECF6",
            "gridcolor": "white",
            "linecolor": "white",
            "showbackground": true,
            "ticks": "",
            "zerolinecolor": "white",
            "gridwidth": 2
           }
          },
          "shapedefaults": {
           "line": {
            "color": "#2a3f5f"
           }
          },
          "annotationdefaults": {
           "arrowcolor": "#2a3f5f",
           "arrowhead": 0,
           "arrowwidth": 1
          },
          "geo": {
           "bgcolor": "white",
           "landcolor": "#E5ECF6",
           "subunitcolor": "white",
           "showland": true,
           "showlakes": true,
           "lakecolor": "white"
          },
          "title": {
           "x": 0.05
          },
          "mapbox": {
           "style": "light"
          }
         }
        },
        "legend": {
         "tracegroupgap": 0
        },
        "title": {
         "text": "Top 20 lojtaret me me se shumti gola ne Champions League 2025"
        }
       },
       "config": {
        "plotlyServerURL": "https://plot.ly"
       }
      }
     },
     "metadata": {},
     "output_type": "display_data"
    }
   ],
   "execution_count": 25
  }
 ],
 "metadata": {
  "kernelspec": {
   "display_name": "Python 3",
   "language": "python",
   "name": "python3"
  },
  "language_info": {
   "codemirror_mode": {
    "name": "ipython",
    "version": 2
   },
   "file_extension": ".py",
   "mimetype": "text/x-python",
   "name": "python",
   "nbconvert_exporter": "python",
   "pygments_lexer": "ipython2",
   "version": "2.7.6"
  }
 },
 "nbformat": 4,
 "nbformat_minor": 5
}
