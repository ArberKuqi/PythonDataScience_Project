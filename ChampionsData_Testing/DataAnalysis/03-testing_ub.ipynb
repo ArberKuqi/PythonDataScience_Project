{
 "cells": [
  {
   "cell_type": "code",
   "id": "initial_id",
   "metadata": {
    "collapsed": true,
    "ExecuteTime": {
     "end_time": "2025-06-15T11:37:40.539200Z",
     "start_time": "2025-06-15T11:37:40.382392Z"
    }
   },
   "source": [
    "import pandas as pd\n",
    "import numpy as np\n",
    "import matplotlib as plt\n",
    "import seaborn as sns\n",
    "import plotly.express as px\n",
    "import plotly.graph_objects as go\n",
    "import matplotlib.pyplot as plt"
   ],
   "outputs": [],
   "execution_count": 1
  },
  {
   "metadata": {
    "ExecuteTime": {
     "end_time": "2025-06-15T11:37:41.351346Z",
     "start_time": "2025-06-15T11:37:40.894615Z"
    }
   },
   "cell_type": "code",
   "source": "ucl = pd.read_excel('UCL_playerstats_orig.xlsx')",
   "id": "b6282a8e0559e818",
   "outputs": [],
   "execution_count": 2
  },
  {
   "metadata": {
    "ExecuteTime": {
     "end_time": "2025-06-15T11:37:41.424001Z",
     "start_time": "2025-06-15T11:37:41.385932Z"
    }
   },
   "cell_type": "code",
   "source": "ucl",
   "id": "cee9a2e7a0297a3f",
   "outputs": [
    {
     "data": {
      "text/plain": [
       "     PlayerID          Player    Position  Age  Nationality              Team  \\\n",
       "0           1  Theo Hernandez    Defender   27       France             Milan   \n",
       "1           2  Nicolo Barella  Midfielder   28        Italy             Inter   \n",
       "2           3     Lewandowski     Forward   36       Poland         Barcelona   \n",
       "3           4        Raphinha     Forward   28       Brazil         Barcelona   \n",
       "4           5        Van Dijk    Defender   33  Netherlands      Liverpool FC   \n",
       "..        ...             ...         ...  ...          ...               ...   \n",
       "205       206           Kevin     Forward   22       Brazil  Shakhtar Donetsk   \n",
       "206       207         Cabella  Midfielder   35       France            Lille    \n",
       "207       208       Locatelli  Midfielder   27        Italy         Juventus    \n",
       "208       209        Palacios  Midfielder   26    Argentina  Bayer Leverkusen   \n",
       "209       210          Lucumi    Defender   26     Colombia           Bologna   \n",
       "\n",
       "       Competitions           Phase Phase_Tier  Value10^6  ...  \\\n",
       "0           Serie A  Knockout_phase          D       40.0  ...   \n",
       "1           Serie A           Final          S       80.0  ...   \n",
       "2           La Liga    Semi_finals           A       15.0  ...   \n",
       "3           La Liga    Semi_finals           A       80.0  ...   \n",
       "4    Premier League         Round16          C       50.0  ...   \n",
       "..              ...             ...        ...        ...  ...   \n",
       "205    Premier Liga    League_phase          E       12.0  ...   \n",
       "206         Ligue 1         Round16          C        3.0  ...   \n",
       "207         Serie A  Knockout_phase          D       35.0  ...   \n",
       "208      Bundesliga         Round16          C       40.0  ...   \n",
       "209         Serie A    League_phase          E       18.0  ...   \n",
       "\n",
       "     Balls_recovered  Tackles_Won  Tackles_Lost  Saves  Goals_Conceded  \\\n",
       "0                 53            2             5      0               0   \n",
       "1                 32            8            15      0               0   \n",
       "2                 11            4             1      0               0   \n",
       "3                 18            2             7      0               0   \n",
       "4                 51            3             3      0               0   \n",
       "..               ...          ...           ...    ...             ...   \n",
       "205               17            7             0      0               0   \n",
       "206               13            3             4      0               0   \n",
       "207               51           19            17      0               0   \n",
       "208               48           10            13      0               0   \n",
       "209               40            1             4      0               0   \n",
       "\n",
       "     Clean_Sheets  MOTM_Awards  Minutes_played  Match_played  DNP  \n",
       "0               0            0             861            10    0  \n",
       "1               0            2             994            13    2  \n",
       "2               0            2             985            13    1  \n",
       "3               0            3            1225            14    0  \n",
       "4               0            0             840             9    1  \n",
       "..            ...          ...             ...           ...  ...  \n",
       "205             0            0             460             7    1  \n",
       "206             0            0             388             7    3  \n",
       "207             0            0             673             9    1  \n",
       "208             0            0             666            10    0  \n",
       "209             0            0             531             7    1  \n",
       "\n",
       "[210 rows x 30 columns]"
      ],
      "text/html": [
       "<div>\n",
       "<style scoped>\n",
       "    .dataframe tbody tr th:only-of-type {\n",
       "        vertical-align: middle;\n",
       "    }\n",
       "\n",
       "    .dataframe tbody tr th {\n",
       "        vertical-align: top;\n",
       "    }\n",
       "\n",
       "    .dataframe thead th {\n",
       "        text-align: right;\n",
       "    }\n",
       "</style>\n",
       "<table border=\"1\" class=\"dataframe\">\n",
       "  <thead>\n",
       "    <tr style=\"text-align: right;\">\n",
       "      <th></th>\n",
       "      <th>PlayerID</th>\n",
       "      <th>Player</th>\n",
       "      <th>Position</th>\n",
       "      <th>Age</th>\n",
       "      <th>Nationality</th>\n",
       "      <th>Team</th>\n",
       "      <th>Competitions</th>\n",
       "      <th>Phase</th>\n",
       "      <th>Phase_Tier</th>\n",
       "      <th>Value10^6</th>\n",
       "      <th>...</th>\n",
       "      <th>Balls_recovered</th>\n",
       "      <th>Tackles_Won</th>\n",
       "      <th>Tackles_Lost</th>\n",
       "      <th>Saves</th>\n",
       "      <th>Goals_Conceded</th>\n",
       "      <th>Clean_Sheets</th>\n",
       "      <th>MOTM_Awards</th>\n",
       "      <th>Minutes_played</th>\n",
       "      <th>Match_played</th>\n",
       "      <th>DNP</th>\n",
       "    </tr>\n",
       "  </thead>\n",
       "  <tbody>\n",
       "    <tr>\n",
       "      <th>0</th>\n",
       "      <td>1</td>\n",
       "      <td>Theo Hernandez</td>\n",
       "      <td>Defender</td>\n",
       "      <td>27</td>\n",
       "      <td>France</td>\n",
       "      <td>Milan</td>\n",
       "      <td>Serie A</td>\n",
       "      <td>Knockout_phase</td>\n",
       "      <td>D</td>\n",
       "      <td>40.0</td>\n",
       "      <td>...</td>\n",
       "      <td>53</td>\n",
       "      <td>2</td>\n",
       "      <td>5</td>\n",
       "      <td>0</td>\n",
       "      <td>0</td>\n",
       "      <td>0</td>\n",
       "      <td>0</td>\n",
       "      <td>861</td>\n",
       "      <td>10</td>\n",
       "      <td>0</td>\n",
       "    </tr>\n",
       "    <tr>\n",
       "      <th>1</th>\n",
       "      <td>2</td>\n",
       "      <td>Nicolo Barella</td>\n",
       "      <td>Midfielder</td>\n",
       "      <td>28</td>\n",
       "      <td>Italy</td>\n",
       "      <td>Inter</td>\n",
       "      <td>Serie A</td>\n",
       "      <td>Final</td>\n",
       "      <td>S</td>\n",
       "      <td>80.0</td>\n",
       "      <td>...</td>\n",
       "      <td>32</td>\n",
       "      <td>8</td>\n",
       "      <td>15</td>\n",
       "      <td>0</td>\n",
       "      <td>0</td>\n",
       "      <td>0</td>\n",
       "      <td>2</td>\n",
       "      <td>994</td>\n",
       "      <td>13</td>\n",
       "      <td>2</td>\n",
       "    </tr>\n",
       "    <tr>\n",
       "      <th>2</th>\n",
       "      <td>3</td>\n",
       "      <td>Lewandowski</td>\n",
       "      <td>Forward</td>\n",
       "      <td>36</td>\n",
       "      <td>Poland</td>\n",
       "      <td>Barcelona</td>\n",
       "      <td>La Liga</td>\n",
       "      <td>Semi_finals</td>\n",
       "      <td>A</td>\n",
       "      <td>15.0</td>\n",
       "      <td>...</td>\n",
       "      <td>11</td>\n",
       "      <td>4</td>\n",
       "      <td>1</td>\n",
       "      <td>0</td>\n",
       "      <td>0</td>\n",
       "      <td>0</td>\n",
       "      <td>2</td>\n",
       "      <td>985</td>\n",
       "      <td>13</td>\n",
       "      <td>1</td>\n",
       "    </tr>\n",
       "    <tr>\n",
       "      <th>3</th>\n",
       "      <td>4</td>\n",
       "      <td>Raphinha</td>\n",
       "      <td>Forward</td>\n",
       "      <td>28</td>\n",
       "      <td>Brazil</td>\n",
       "      <td>Barcelona</td>\n",
       "      <td>La Liga</td>\n",
       "      <td>Semi_finals</td>\n",
       "      <td>A</td>\n",
       "      <td>80.0</td>\n",
       "      <td>...</td>\n",
       "      <td>18</td>\n",
       "      <td>2</td>\n",
       "      <td>7</td>\n",
       "      <td>0</td>\n",
       "      <td>0</td>\n",
       "      <td>0</td>\n",
       "      <td>3</td>\n",
       "      <td>1225</td>\n",
       "      <td>14</td>\n",
       "      <td>0</td>\n",
       "    </tr>\n",
       "    <tr>\n",
       "      <th>4</th>\n",
       "      <td>5</td>\n",
       "      <td>Van Dijk</td>\n",
       "      <td>Defender</td>\n",
       "      <td>33</td>\n",
       "      <td>Netherlands</td>\n",
       "      <td>Liverpool FC</td>\n",
       "      <td>Premier League</td>\n",
       "      <td>Round16</td>\n",
       "      <td>C</td>\n",
       "      <td>50.0</td>\n",
       "      <td>...</td>\n",
       "      <td>51</td>\n",
       "      <td>3</td>\n",
       "      <td>3</td>\n",
       "      <td>0</td>\n",
       "      <td>0</td>\n",
       "      <td>0</td>\n",
       "      <td>0</td>\n",
       "      <td>840</td>\n",
       "      <td>9</td>\n",
       "      <td>1</td>\n",
       "    </tr>\n",
       "    <tr>\n",
       "      <th>...</th>\n",
       "      <td>...</td>\n",
       "      <td>...</td>\n",
       "      <td>...</td>\n",
       "      <td>...</td>\n",
       "      <td>...</td>\n",
       "      <td>...</td>\n",
       "      <td>...</td>\n",
       "      <td>...</td>\n",
       "      <td>...</td>\n",
       "      <td>...</td>\n",
       "      <td>...</td>\n",
       "      <td>...</td>\n",
       "      <td>...</td>\n",
       "      <td>...</td>\n",
       "      <td>...</td>\n",
       "      <td>...</td>\n",
       "      <td>...</td>\n",
       "      <td>...</td>\n",
       "      <td>...</td>\n",
       "      <td>...</td>\n",
       "      <td>...</td>\n",
       "    </tr>\n",
       "    <tr>\n",
       "      <th>205</th>\n",
       "      <td>206</td>\n",
       "      <td>Kevin</td>\n",
       "      <td>Forward</td>\n",
       "      <td>22</td>\n",
       "      <td>Brazil</td>\n",
       "      <td>Shakhtar Donetsk</td>\n",
       "      <td>Premier Liga</td>\n",
       "      <td>League_phase</td>\n",
       "      <td>E</td>\n",
       "      <td>12.0</td>\n",
       "      <td>...</td>\n",
       "      <td>17</td>\n",
       "      <td>7</td>\n",
       "      <td>0</td>\n",
       "      <td>0</td>\n",
       "      <td>0</td>\n",
       "      <td>0</td>\n",
       "      <td>0</td>\n",
       "      <td>460</td>\n",
       "      <td>7</td>\n",
       "      <td>1</td>\n",
       "    </tr>\n",
       "    <tr>\n",
       "      <th>206</th>\n",
       "      <td>207</td>\n",
       "      <td>Cabella</td>\n",
       "      <td>Midfielder</td>\n",
       "      <td>35</td>\n",
       "      <td>France</td>\n",
       "      <td>Lille</td>\n",
       "      <td>Ligue 1</td>\n",
       "      <td>Round16</td>\n",
       "      <td>C</td>\n",
       "      <td>3.0</td>\n",
       "      <td>...</td>\n",
       "      <td>13</td>\n",
       "      <td>3</td>\n",
       "      <td>4</td>\n",
       "      <td>0</td>\n",
       "      <td>0</td>\n",
       "      <td>0</td>\n",
       "      <td>0</td>\n",
       "      <td>388</td>\n",
       "      <td>7</td>\n",
       "      <td>3</td>\n",
       "    </tr>\n",
       "    <tr>\n",
       "      <th>207</th>\n",
       "      <td>208</td>\n",
       "      <td>Locatelli</td>\n",
       "      <td>Midfielder</td>\n",
       "      <td>27</td>\n",
       "      <td>Italy</td>\n",
       "      <td>Juventus</td>\n",
       "      <td>Serie A</td>\n",
       "      <td>Knockout_phase</td>\n",
       "      <td>D</td>\n",
       "      <td>35.0</td>\n",
       "      <td>...</td>\n",
       "      <td>51</td>\n",
       "      <td>19</td>\n",
       "      <td>17</td>\n",
       "      <td>0</td>\n",
       "      <td>0</td>\n",
       "      <td>0</td>\n",
       "      <td>0</td>\n",
       "      <td>673</td>\n",
       "      <td>9</td>\n",
       "      <td>1</td>\n",
       "    </tr>\n",
       "    <tr>\n",
       "      <th>208</th>\n",
       "      <td>209</td>\n",
       "      <td>Palacios</td>\n",
       "      <td>Midfielder</td>\n",
       "      <td>26</td>\n",
       "      <td>Argentina</td>\n",
       "      <td>Bayer Leverkusen</td>\n",
       "      <td>Bundesliga</td>\n",
       "      <td>Round16</td>\n",
       "      <td>C</td>\n",
       "      <td>40.0</td>\n",
       "      <td>...</td>\n",
       "      <td>48</td>\n",
       "      <td>10</td>\n",
       "      <td>13</td>\n",
       "      <td>0</td>\n",
       "      <td>0</td>\n",
       "      <td>0</td>\n",
       "      <td>0</td>\n",
       "      <td>666</td>\n",
       "      <td>10</td>\n",
       "      <td>0</td>\n",
       "    </tr>\n",
       "    <tr>\n",
       "      <th>209</th>\n",
       "      <td>210</td>\n",
       "      <td>Lucumi</td>\n",
       "      <td>Defender</td>\n",
       "      <td>26</td>\n",
       "      <td>Colombia</td>\n",
       "      <td>Bologna</td>\n",
       "      <td>Serie A</td>\n",
       "      <td>League_phase</td>\n",
       "      <td>E</td>\n",
       "      <td>18.0</td>\n",
       "      <td>...</td>\n",
       "      <td>40</td>\n",
       "      <td>1</td>\n",
       "      <td>4</td>\n",
       "      <td>0</td>\n",
       "      <td>0</td>\n",
       "      <td>0</td>\n",
       "      <td>0</td>\n",
       "      <td>531</td>\n",
       "      <td>7</td>\n",
       "      <td>1</td>\n",
       "    </tr>\n",
       "  </tbody>\n",
       "</table>\n",
       "<p>210 rows × 30 columns</p>\n",
       "</div>"
      ]
     },
     "execution_count": 3,
     "metadata": {},
     "output_type": "execute_result"
    }
   ],
   "execution_count": 3
  },
  {
   "metadata": {
    "ExecuteTime": {
     "end_time": "2025-06-15T11:37:41.546941Z",
     "start_time": "2025-06-15T11:37:41.534790Z"
    }
   },
   "cell_type": "code",
   "source": "ucl['Team'] = ucl['Team'].str.strip()",
   "id": "34a241afd4f7fd81",
   "outputs": [],
   "execution_count": 4
  },
  {
   "metadata": {
    "ExecuteTime": {
     "end_time": "2025-06-15T11:37:42.001039Z",
     "start_time": "2025-06-15T11:37:41.961660Z"
    }
   },
   "cell_type": "code",
   "source": "ucl[['Age','Total_attempts','Passes_completed','Chances_Created']].describe()",
   "id": "29b7855ed1179761",
   "outputs": [
    {
     "data": {
      "text/plain": [
       "              Age  Total_attempts  Passes_completed  Chances_Created\n",
       "count  210.000000      210.000000        210.000000       210.000000\n",
       "mean    26.780952       12.661905        364.223810        10.123810\n",
       "std      4.416110       11.322374        216.590771         7.911224\n",
       "min     17.000000        0.000000         47.000000         0.000000\n",
       "25%     24.000000        5.000000        209.250000         4.000000\n",
       "50%     26.000000       10.000000        319.000000         9.000000\n",
       "75%     29.750000       18.000000        450.000000        15.000000\n",
       "max     39.000000       64.000000       1308.000000        39.000000"
      ],
      "text/html": [
       "<div>\n",
       "<style scoped>\n",
       "    .dataframe tbody tr th:only-of-type {\n",
       "        vertical-align: middle;\n",
       "    }\n",
       "\n",
       "    .dataframe tbody tr th {\n",
       "        vertical-align: top;\n",
       "    }\n",
       "\n",
       "    .dataframe thead th {\n",
       "        text-align: right;\n",
       "    }\n",
       "</style>\n",
       "<table border=\"1\" class=\"dataframe\">\n",
       "  <thead>\n",
       "    <tr style=\"text-align: right;\">\n",
       "      <th></th>\n",
       "      <th>Age</th>\n",
       "      <th>Total_attempts</th>\n",
       "      <th>Passes_completed</th>\n",
       "      <th>Chances_Created</th>\n",
       "    </tr>\n",
       "  </thead>\n",
       "  <tbody>\n",
       "    <tr>\n",
       "      <th>count</th>\n",
       "      <td>210.000000</td>\n",
       "      <td>210.000000</td>\n",
       "      <td>210.000000</td>\n",
       "      <td>210.000000</td>\n",
       "    </tr>\n",
       "    <tr>\n",
       "      <th>mean</th>\n",
       "      <td>26.780952</td>\n",
       "      <td>12.661905</td>\n",
       "      <td>364.223810</td>\n",
       "      <td>10.123810</td>\n",
       "    </tr>\n",
       "    <tr>\n",
       "      <th>std</th>\n",
       "      <td>4.416110</td>\n",
       "      <td>11.322374</td>\n",
       "      <td>216.590771</td>\n",
       "      <td>7.911224</td>\n",
       "    </tr>\n",
       "    <tr>\n",
       "      <th>min</th>\n",
       "      <td>17.000000</td>\n",
       "      <td>0.000000</td>\n",
       "      <td>47.000000</td>\n",
       "      <td>0.000000</td>\n",
       "    </tr>\n",
       "    <tr>\n",
       "      <th>25%</th>\n",
       "      <td>24.000000</td>\n",
       "      <td>5.000000</td>\n",
       "      <td>209.250000</td>\n",
       "      <td>4.000000</td>\n",
       "    </tr>\n",
       "    <tr>\n",
       "      <th>50%</th>\n",
       "      <td>26.000000</td>\n",
       "      <td>10.000000</td>\n",
       "      <td>319.000000</td>\n",
       "      <td>9.000000</td>\n",
       "    </tr>\n",
       "    <tr>\n",
       "      <th>75%</th>\n",
       "      <td>29.750000</td>\n",
       "      <td>18.000000</td>\n",
       "      <td>450.000000</td>\n",
       "      <td>15.000000</td>\n",
       "    </tr>\n",
       "    <tr>\n",
       "      <th>max</th>\n",
       "      <td>39.000000</td>\n",
       "      <td>64.000000</td>\n",
       "      <td>1308.000000</td>\n",
       "      <td>39.000000</td>\n",
       "    </tr>\n",
       "  </tbody>\n",
       "</table>\n",
       "</div>"
      ]
     },
     "execution_count": 5,
     "metadata": {},
     "output_type": "execute_result"
    }
   ],
   "execution_count": 5
  },
  {
   "metadata": {
    "ExecuteTime": {
     "end_time": "2025-06-15T11:37:42.527515Z",
     "start_time": "2025-06-15T11:37:42.359537Z"
    }
   },
   "cell_type": "code",
   "source": "sns.countplot(ucl.Position)",
   "id": "d3874e79ad768f70",
   "outputs": [
    {
     "data": {
      "text/plain": [
       "<Axes: xlabel='count', ylabel='Position'>"
      ]
     },
     "execution_count": 6,
     "metadata": {},
     "output_type": "execute_result"
    },
    {
     "data": {
      "text/plain": [
       "<Figure size 640x480 with 1 Axes>"
      ],
      "image/png": "[encoded data removed]"
     },
     "metadata": {},
     "output_type": "display_data"
    }
   ],
   "execution_count": 6
  },
  {
   "metadata": {
    "ExecuteTime": {
     "end_time": "2025-06-15T11:37:42.704626Z",
     "start_time": "2025-06-15T11:37:42.697862Z"
    }
   },
   "cell_type": "code",
   "source": "bestplayer = ucl[ucl['MOTM_Awards'] > 2]",
   "id": "6df4e74a59434d37",
   "outputs": [],
   "execution_count": 7
  },
  {
   "metadata": {
    "ExecuteTime": {
     "end_time": "2025-06-15T11:37:42.852307Z",
     "start_time": "2025-06-15T11:37:42.829917Z"
    }
   },
   "cell_type": "code",
   "source": "bestplayer.value_counts()",
   "id": "39dd04db0ae52eaa",
   "outputs": [
    {
     "data": {
      "text/plain": [
       "PlayerID  Player            Position    Age  Nationality  Team             Competitions  Phase            Phase_Tier  Value10^6  Jersey_Num  Rating  Goals  Assists  TopSpeed(km/h)  DistanceCovered(km)  Total_attempts  Dribbles  Passes_completed  Chances_Created  Balls_recovered  Tackles_Won  Tackles_Lost  Saves  Goals_Conceded  Clean_Sheets  MOTM_Awards  Minutes_played  Match_played  DNP\n",
       "4         Raphinha          Forward     28   Brazil       Barcelona        La Liga       Semi_finals      A           80.0       11          8.31    13     9        34.7            126.8                52              24        433               39               18               2            7             0      0               0             3            1225            14            0      1\n",
       "38        Vinicius Jr       Forward     24   Brazil       Real Madrid      La Liga       Quarter_finals   B           200.0      7           7.79    8      3        35.5            118.9                42              82        269               23               20               3            11            0      0               0             3            1104            12            2      1\n",
       "42        Julian Alvarez    Forward     25   Argentina    Atletico Madrid  La Liga       Round16          C           90.0       19          7.60    7      1        34.3            96.5                 21              14        216               13               23               1            4             0      0               0             3            790             10            0      1\n",
       "48        Griezmann         Forward     34   France       Atletico Madrid  La Liga       Round16          C           22.0       7           7.85    6      3        30.9            89.6                 19              6         379               11               21               5            3             0      0               0             3            732             10            0      1\n",
       "56        Vitinha           Midfielder  25   Portugal     Paris SG         Ligue 1       Final            S           50.0       17          7.59    2      2        32.3            180.2                22              20        1308              25               66               5            9             0      0               0             3            1448            17            0      1\n",
       "61        Lautaro Martinez  Forward     27   Argentina    Inter            Serie A       Final            S           100.0      10          7.42    9      0        31.3            62.0                 23              14        167               7                14               4            12            0      0               0             4            857             14            1      1\n",
       "85        Rafael Leao       Forward     25   Portugal     Milan            Serie A       Knockout_phase   D           75.0       10          7.22    3      2        35.5            84.9                 17              64        221               10               3                1            8             0      0               0             3            797             10            0      1\n",
       "135       Guirassy          Forward     29   Nigeria      BVB Dortmund     Bundesliga    Quarter_finals   B           40.0       9           7.80    13     4        32.5            92.6                 40              11        218               12               7                0            1             0      0               0             3            1084            14            0      1\n",
       "145       Harry Kane        Forward     31   England      Bayern Munich    Bundesliga    Quarter_finals   B           90.0       9           7.87    11     2        30.4            139.7                49              13        233               23               10               2            6             0      0               0             3            1120            13            1      1\n",
       "Name: count, dtype: int64"
      ]
     },
     "execution_count": 8,
     "metadata": {},
     "output_type": "execute_result"
    }
   ],
   "execution_count": 8
  },
  {
   "metadata": {
    "ExecuteTime": {
     "end_time": "2025-06-15T11:37:43.012467Z",
     "start_time": "2025-06-15T11:37:43.002078Z"
    }
   },
   "cell_type": "code",
   "source": "young_age_old = ucl.Age.min(), ucl.Age.max()",
   "id": "b82bab12a9034d8d",
   "outputs": [],
   "execution_count": 9
  },
  {
   "metadata": {
    "ExecuteTime": {
     "end_time": "2025-06-15T11:37:43.324982Z",
     "start_time": "2025-06-15T11:37:43.320739Z"
    }
   },
   "cell_type": "code",
   "source": "print(young_age_old)",
   "id": "52d2320e8734a6f2",
   "outputs": [
    {
     "name": "stdout",
     "output_type": "stream",
     "text": [
      "(np.int64(17), np.int64(39))\n"
     ]
    }
   ],
   "execution_count": 10
  },
  {
   "metadata": {
    "ExecuteTime": {
     "end_time": "2025-06-15T11:37:43.507241Z",
     "start_time": "2025-06-15T11:37:43.491635Z"
    }
   },
   "cell_type": "code",
   "source": "ucl.groupby(\"Player\").mean",
   "id": "6f7a04d9e7f60489",
   "outputs": [
    {
     "data": {
      "text/plain": [
       "<bound method GroupBy.mean of <pandas.core.groupby.generic.DataFrameGroupBy object at 0x000001330C0D8260>>"
      ]
     },
     "execution_count": 11,
     "metadata": {},
     "output_type": "execute_result"
    }
   ],
   "execution_count": 11
  },
  {
   "metadata": {
    "ExecuteTime": {
     "end_time": "2025-06-15T11:37:43.682130Z",
     "start_time": "2025-06-15T11:37:43.671700Z"
    }
   },
   "cell_type": "code",
   "source": [
    "values_stats = ucl['Value10^6'].describe()\n",
    "\n",
    "values_stats"
   ],
   "id": "161b5527e732c47c",
   "outputs": [
    {
     "data": {
      "text/plain": [
       "count    210.000000\n",
       "mean      39.684524\n",
       "std       36.107141\n",
       "min        0.750000\n",
       "25%       16.250000\n",
       "50%       30.000000\n",
       "75%       50.000000\n",
       "max      200.000000\n",
       "Name: Value10^6, dtype: float64"
      ]
     },
     "execution_count": 12,
     "metadata": {},
     "output_type": "execute_result"
    }
   ],
   "execution_count": 12
  },
  {
   "metadata": {
    "ExecuteTime": {
     "end_time": "2025-06-15T11:37:43.798064Z",
     "start_time": "2025-06-15T11:37:43.790949Z"
    }
   },
   "cell_type": "code",
   "source": "barcelona_players = ucl[ucl['Team'] == 'Barcelona']\n",
   "id": "3f684987bd0d21b0",
   "outputs": [],
   "execution_count": 13
  },
  {
   "metadata": {
    "ExecuteTime": {
     "end_time": "2025-06-15T11:37:44.004894Z",
     "start_time": "2025-06-15T11:37:43.990440Z"
    }
   },
   "cell_type": "code",
   "source": "barcelona_players",
   "id": "e19e4d6be2e2b8d4",
   "outputs": [
    {
     "data": {
      "text/plain": [
       "     PlayerID          Player    Position  Age Nationality       Team  \\\n",
       "2           3     Lewandowski     Forward   36      Poland  Barcelona   \n",
       "3           4        Raphinha     Forward   28      Brazil  Barcelona   \n",
       "15         16           Yamal     Forward   17       Spain  Barcelona   \n",
       "40         41          Kounde    Defender   26      France  Barcelona   \n",
       "56         57           Pedri  Midfielder   22       Spain  Barcelona   \n",
       "89         90  Inigo Martinez    Defender   33       Spain  Barcelona   \n",
       "111       112       Dani Olmo  Midfielder   27       Spain  Barcelona   \n",
       "141       142           Balde    Defender   21       Spain  Barcelona   \n",
       "147       148          Casado  Midfielder   21       Spain  Barcelona   \n",
       "162       163        Szczesny  Goalkeeper   35      Poland  Barcelona   \n",
       "163       164   Ferran Torres     Forward   25       Spain  Barcelona   \n",
       "180       181    Fermin Lopez  Midfielder   22       Spain  Barcelona   \n",
       "\n",
       "    Competitions         Phase Phase_Tier  Value10^6  ...  Balls_recovered  \\\n",
       "2        La Liga  Semi_finals           A       15.0  ...               11   \n",
       "3        La Liga  Semi_finals           A       80.0  ...               18   \n",
       "15       La Liga  Semi_finals           A      180.0  ...               19   \n",
       "40       La Liga  Semi_finals           A       60.0  ...               56   \n",
       "56       La Liga  Semi_finals           A       80.0  ...               52   \n",
       "89       La Liga   Semi_finals          A        5.0  ...               50   \n",
       "111      La Liga   Semi_finals          A       60.0  ...               16   \n",
       "141      La Liga  Semi_finals           A       60.0  ...               31   \n",
       "147      La Liga  Semi_finals           A       30.0  ...               40   \n",
       "162      La Liga  Semi_finals           A        1.0  ...                0   \n",
       "163      La Liga  Semi_finals           A       28.0  ...                3   \n",
       "180      La Liga   Semi_finals          A       50.0  ...               14   \n",
       "\n",
       "     Tackles_Won  Tackles_Lost  Saves  Goals_Conceded  Clean_Sheets  \\\n",
       "2              4             1      0               0             0   \n",
       "3              2             7      0               0             0   \n",
       "15             5             5      0               0             0   \n",
       "40             8             5      0               0             0   \n",
       "56             3             4      0               0             0   \n",
       "89             4             8      0               0             0   \n",
       "111            2             2      0               0             0   \n",
       "141            6             3      0               0             0   \n",
       "147           20            15      0               0             0   \n",
       "162            0             0     28              17             2   \n",
       "163            3             4      0               0             0   \n",
       "180            5             7      0               0             0   \n",
       "\n",
       "     MOTM_Awards  Minutes_played  Match_played  DNP  \n",
       "2              2             985            13    1  \n",
       "3              3            1225            14    0  \n",
       "15             1            1101            13    1  \n",
       "40             0            1106            13    1  \n",
       "56             2            1117            14    0  \n",
       "89             1             958            11    3  \n",
       "111            0             440             9    5  \n",
       "141            0             804            10    4  \n",
       "147            0             631            10    4  \n",
       "162            0             750             8    6  \n",
       "163            0             421            11    3  \n",
       "180            0             451            11    3  \n",
       "\n",
       "[12 rows x 30 columns]"
      ],
      "text/html": [
       "<div>\n",
       "<style scoped>\n",
       "    .dataframe tbody tr th:only-of-type {\n",
       "        vertical-align: middle;\n",
       "    }\n",
       "\n",
       "    .dataframe tbody tr th {\n",
       "        vertical-align: top;\n",
       "    }\n",
       "\n",
       "    .dataframe thead th {\n",
       "        text-align: right;\n",
       "    }\n",
       "</style>\n",
       "<table border=\"1\" class=\"dataframe\">\n",
       "  <thead>\n",
       "    <tr style=\"text-align: right;\">\n",
       "      <th></th>\n",
       "      <th>PlayerID</th>\n",
       "      <th>Player</th>\n",
       "      <th>Position</th>\n",
       "      <th>Age</th>\n",
       "      <th>Nationality</th>\n",
       "      <th>Team</th>\n",
       "      <th>Competitions</th>\n",
       "      <th>Phase</th>\n",
       "      <th>Phase_Tier</th>\n",
       "      <th>Value10^6</th>\n",
       "      <th>...</th>\n",
       "      <th>Balls_recovered</th>\n",
       "      <th>Tackles_Won</th>\n",
       "      <th>Tackles_Lost</th>\n",
       "      <th>Saves</th>\n",
       "      <th>Goals_Conceded</th>\n",
       "      <th>Clean_Sheets</th>\n",
       "      <th>MOTM_Awards</th>\n",
       "      <th>Minutes_played</th>\n",
       "      <th>Match_played</th>\n",
       "      <th>DNP</th>\n",
       "    </tr>\n",
       "  </thead>\n",
       "  <tbody>\n",
       "    <tr>\n",
       "      <th>2</th>\n",
       "      <td>3</td>\n",
       "      <td>Lewandowski</td>\n",
       "      <td>Forward</td>\n",
       "      <td>36</td>\n",
       "      <td>Poland</td>\n",
       "      <td>Barcelona</td>\n",
       "      <td>La Liga</td>\n",
       "      <td>Semi_finals</td>\n",
       "      <td>A</td>\n",
       "      <td>15.0</td>\n",
       "      <td>...</td>\n",
       "      <td>11</td>\n",
       "      <td>4</td>\n",
       "      <td>1</td>\n",
       "      <td>0</td>\n",
       "      <td>0</td>\n",
       "      <td>0</td>\n",
       "      <td>2</td>\n",
       "      <td>985</td>\n",
       "      <td>13</td>\n",
       "      <td>1</td>\n",
       "    </tr>\n",
       "    <tr>\n",
       "      <th>3</th>\n",
       "      <td>4</td>\n",
       "      <td>Raphinha</td>\n",
       "      <td>Forward</td>\n",
       "      <td>28</td>\n",
       "      <td>Brazil</td>\n",
       "      <td>Barcelona</td>\n",
       "      <td>La Liga</td>\n",
       "      <td>Semi_finals</td>\n",
       "      <td>A</td>\n",
       "      <td>80.0</td>\n",
       "      <td>...</td>\n",
       "      <td>18</td>\n",
       "      <td>2</td>\n",
       "      <td>7</td>\n",
       "      <td>0</td>\n",
       "      <td>0</td>\n",
       "      <td>0</td>\n",
       "      <td>3</td>\n",
       "      <td>1225</td>\n",
       "      <td>14</td>\n",
       "      <td>0</td>\n",
       "    </tr>\n",
       "    <tr>\n",
       "      <th>15</th>\n",
       "      <td>16</td>\n",
       "      <td>Yamal</td>\n",
       "      <td>Forward</td>\n",
       "      <td>17</td>\n",
       "      <td>Spain</td>\n",
       "      <td>Barcelona</td>\n",
       "      <td>La Liga</td>\n",
       "      <td>Semi_finals</td>\n",
       "      <td>A</td>\n",
       "      <td>180.0</td>\n",
       "      <td>...</td>\n",
       "      <td>19</td>\n",
       "      <td>5</td>\n",
       "      <td>5</td>\n",
       "      <td>0</td>\n",
       "      <td>0</td>\n",
       "      <td>0</td>\n",
       "      <td>1</td>\n",
       "      <td>1101</td>\n",
       "      <td>13</td>\n",
       "      <td>1</td>\n",
       "    </tr>\n",
       "    <tr>\n",
       "      <th>40</th>\n",
       "      <td>41</td>\n",
       "      <td>Kounde</td>\n",
       "      <td>Defender</td>\n",
       "      <td>26</td>\n",
       "      <td>France</td>\n",
       "      <td>Barcelona</td>\n",
       "      <td>La Liga</td>\n",
       "      <td>Semi_finals</td>\n",
       "      <td>A</td>\n",
       "      <td>60.0</td>\n",
       "      <td>...</td>\n",
       "      <td>56</td>\n",
       "      <td>8</td>\n",
       "      <td>5</td>\n",
       "      <td>0</td>\n",
       "      <td>0</td>\n",
       "      <td>0</td>\n",
       "      <td>0</td>\n",
       "      <td>1106</td>\n",
       "      <td>13</td>\n",
       "      <td>1</td>\n",
       "    </tr>\n",
       "    <tr>\n",
       "      <th>56</th>\n",
       "      <td>57</td>\n",
       "      <td>Pedri</td>\n",
       "      <td>Midfielder</td>\n",
       "      <td>22</td>\n",
       "      <td>Spain</td>\n",
       "      <td>Barcelona</td>\n",
       "      <td>La Liga</td>\n",
       "      <td>Semi_finals</td>\n",
       "      <td>A</td>\n",
       "      <td>80.0</td>\n",
       "      <td>...</td>\n",
       "      <td>52</td>\n",
       "      <td>3</td>\n",
       "      <td>4</td>\n",
       "      <td>0</td>\n",
       "      <td>0</td>\n",
       "      <td>0</td>\n",
       "      <td>2</td>\n",
       "      <td>1117</td>\n",
       "      <td>14</td>\n",
       "      <td>0</td>\n",
       "    </tr>\n",
       "    <tr>\n",
       "      <th>89</th>\n",
       "      <td>90</td>\n",
       "      <td>Inigo Martinez</td>\n",
       "      <td>Defender</td>\n",
       "      <td>33</td>\n",
       "      <td>Spain</td>\n",
       "      <td>Barcelona</td>\n",
       "      <td>La Liga</td>\n",
       "      <td>Semi_finals</td>\n",
       "      <td>A</td>\n",
       "      <td>5.0</td>\n",
       "      <td>...</td>\n",
       "      <td>50</td>\n",
       "      <td>4</td>\n",
       "      <td>8</td>\n",
       "      <td>0</td>\n",
       "      <td>0</td>\n",
       "      <td>0</td>\n",
       "      <td>1</td>\n",
       "      <td>958</td>\n",
       "      <td>11</td>\n",
       "      <td>3</td>\n",
       "    </tr>\n",
       "    <tr>\n",
       "      <th>111</th>\n",
       "      <td>112</td>\n",
       "      <td>Dani Olmo</td>\n",
       "      <td>Midfielder</td>\n",
       "      <td>27</td>\n",
       "      <td>Spain</td>\n",
       "      <td>Barcelona</td>\n",
       "      <td>La Liga</td>\n",
       "      <td>Semi_finals</td>\n",
       "      <td>A</td>\n",
       "      <td>60.0</td>\n",
       "      <td>...</td>\n",
       "      <td>16</td>\n",
       "      <td>2</td>\n",
       "      <td>2</td>\n",
       "      <td>0</td>\n",
       "      <td>0</td>\n",
       "      <td>0</td>\n",
       "      <td>0</td>\n",
       "      <td>440</td>\n",
       "      <td>9</td>\n",
       "      <td>5</td>\n",
       "    </tr>\n",
       "    <tr>\n",
       "      <th>141</th>\n",
       "      <td>142</td>\n",
       "      <td>Balde</td>\n",
       "      <td>Defender</td>\n",
       "      <td>21</td>\n",
       "      <td>Spain</td>\n",
       "      <td>Barcelona</td>\n",
       "      <td>La Liga</td>\n",
       "      <td>Semi_finals</td>\n",
       "      <td>A</td>\n",
       "      <td>60.0</td>\n",
       "      <td>...</td>\n",
       "      <td>31</td>\n",
       "      <td>6</td>\n",
       "      <td>3</td>\n",
       "      <td>0</td>\n",
       "      <td>0</td>\n",
       "      <td>0</td>\n",
       "      <td>0</td>\n",
       "      <td>804</td>\n",
       "      <td>10</td>\n",
       "      <td>4</td>\n",
       "    </tr>\n",
       "    <tr>\n",
       "      <th>147</th>\n",
       "      <td>148</td>\n",
       "      <td>Casado</td>\n",
       "      <td>Midfielder</td>\n",
       "      <td>21</td>\n",
       "      <td>Spain</td>\n",
       "      <td>Barcelona</td>\n",
       "      <td>La Liga</td>\n",
       "      <td>Semi_finals</td>\n",
       "      <td>A</td>\n",
       "      <td>30.0</td>\n",
       "      <td>...</td>\n",
       "      <td>40</td>\n",
       "      <td>20</td>\n",
       "      <td>15</td>\n",
       "      <td>0</td>\n",
       "      <td>0</td>\n",
       "      <td>0</td>\n",
       "      <td>0</td>\n",
       "      <td>631</td>\n",
       "      <td>10</td>\n",
       "      <td>4</td>\n",
       "    </tr>\n",
       "    <tr>\n",
       "      <th>162</th>\n",
       "      <td>163</td>\n",
       "      <td>Szczesny</td>\n",
       "      <td>Goalkeeper</td>\n",
       "      <td>35</td>\n",
       "      <td>Poland</td>\n",
       "      <td>Barcelona</td>\n",
       "      <td>La Liga</td>\n",
       "      <td>Semi_finals</td>\n",
       "      <td>A</td>\n",
       "      <td>1.0</td>\n",
       "      <td>...</td>\n",
       "      <td>0</td>\n",
       "      <td>0</td>\n",
       "      <td>0</td>\n",
       "      <td>28</td>\n",
       "      <td>17</td>\n",
       "      <td>2</td>\n",
       "      <td>0</td>\n",
       "      <td>750</td>\n",
       "      <td>8</td>\n",
       "      <td>6</td>\n",
       "    </tr>\n",
       "    <tr>\n",
       "      <th>163</th>\n",
       "      <td>164</td>\n",
       "      <td>Ferran Torres</td>\n",
       "      <td>Forward</td>\n",
       "      <td>25</td>\n",
       "      <td>Spain</td>\n",
       "      <td>Barcelona</td>\n",
       "      <td>La Liga</td>\n",
       "      <td>Semi_finals</td>\n",
       "      <td>A</td>\n",
       "      <td>28.0</td>\n",
       "      <td>...</td>\n",
       "      <td>3</td>\n",
       "      <td>3</td>\n",
       "      <td>4</td>\n",
       "      <td>0</td>\n",
       "      <td>0</td>\n",
       "      <td>0</td>\n",
       "      <td>0</td>\n",
       "      <td>421</td>\n",
       "      <td>11</td>\n",
       "      <td>3</td>\n",
       "    </tr>\n",
       "    <tr>\n",
       "      <th>180</th>\n",
       "      <td>181</td>\n",
       "      <td>Fermin Lopez</td>\n",
       "      <td>Midfielder</td>\n",
       "      <td>22</td>\n",
       "      <td>Spain</td>\n",
       "      <td>Barcelona</td>\n",
       "      <td>La Liga</td>\n",
       "      <td>Semi_finals</td>\n",
       "      <td>A</td>\n",
       "      <td>50.0</td>\n",
       "      <td>...</td>\n",
       "      <td>14</td>\n",
       "      <td>5</td>\n",
       "      <td>7</td>\n",
       "      <td>0</td>\n",
       "      <td>0</td>\n",
       "      <td>0</td>\n",
       "      <td>0</td>\n",
       "      <td>451</td>\n",
       "      <td>11</td>\n",
       "      <td>3</td>\n",
       "    </tr>\n",
       "  </tbody>\n",
       "</table>\n",
       "<p>12 rows × 30 columns</p>\n",
       "</div>"
      ]
     },
     "execution_count": 14,
     "metadata": {},
     "output_type": "execute_result"
    }
   ],
   "execution_count": 14
  },
  {
   "metadata": {
    "ExecuteTime": {
     "end_time": "2025-06-15T11:37:44.816144Z",
     "start_time": "2025-06-15T11:37:44.146824Z"
    }
   },
   "cell_type": "code",
   "source": [
    "fig = px.histogram(ucl,x='Age',nbins=12,title='Age distribution of players in the Champions League')\n",
    "\n",
    "fig.update_layout(\n",
    "    bargap=0.1,\n",
    "    xaxis_title='Age',\n",
    "    yaxis_title='Numbers of Players'\n",
    ")\n",
    "\n",
    "fig.show()"
   ],
   "id": "a79442085d745167",
   "outputs": [
    {
     "data": {
      "application/vnd.plotly.v1+json": {
       "data": [
        {
         "bingroup": "x",
         "hovertemplate": "Age=%{x}<br>count=%{y}<extra></extra>",
         "legendgroup": "",
         "marker": {
          "color": "#636efa",
          "pattern": {
           "shape": ""
          }
         },
         "name": "",
         "nbinsx": 12,
         "orientation": "v",
         "showlegend": false,
         "x": {
          "dtype": "i1",
          "bdata": "GxwkHCEVGhkgJRoZGhYaESIdFxkYFBoeGRkZGBobFxgeIBkaHxgaFhoZHRYdFyAiFxgXGiAYHRkWGx0YGxglFR0eIR4eGycYIRodGxcYHxkcEhYZGRoZGxchFBcXEyQiHRcdGRsYGh4fIhgeGhsaGyQXIBsbGBcUFRcWGBggGhYaFiAdHBkdGxwiGBcYFRYWHxUaFRslHSAfFxsWGR8ZHR4eIxkUGhsWGx8eFyUjGhQYHBohFhYWGBYZIhYWIhQYGyEcGSYaGhYkHCEXIRYjGxoa"
         },
         "xaxis": "x",
         "yaxis": "y",
         "type": "histogram"
        }
       ],
       "layout": {
        "template": {
         "data": {
          "histogram2dcontour": [
           {
            "type": "histogram2dcontour",
            "colorbar": {
             "outlinewidth": 0,
             "ticks": ""
            },
            "colorscale": [
             [
              0.0,
              "#0d0887"
             ],
             [
              0.1111111111111111,
              "#46039f"
             ],
             [
              0.2222222222222222,
              "#7201a8"
             ],
             [
              0.3333333333333333,
              "#9c179e"
             ],
             [
              0.4444444444444444,
              "#bd3786"
             ],
             [
              0.5555555555555556,
              "#d8576b"
             ],
             [
              0.6666666666666666,
              "#ed7953"
             ],
             [
              0.7777777777777778,
              "#fb9f3a"
             ],
             [
              0.8888888888888888,
              "#fdca26"
             ],
             [
              1.0,
              "#f0f921"
             ]
            ]
           }
          ],
          "choropleth": [
           {
            "type": "choropleth",
            "colorbar": {
             "outlinewidth": 0,
             "ticks": ""
            }
           }
          ],
          "histogram2d": [
           {
            "type": "histogram2d",
            "colorbar": {
             "outlinewidth": 0,
             "ticks": ""
            },
            "colorscale": [
             [
              0.0,
              "#0d0887"
             ],
             [
              0.1111111111111111,
              "#46039f"
             ],
             [
              0.2222222222222222,
              "#7201a8"
             ],
             [
              0.3333333333333333,
              "#9c179e"
             ],
             [
              0.4444444444444444,
              "#bd3786"
             ],
             [
              0.5555555555555556,
              "#d8576b"
             ],
             [
              0.6666666666666666,
              "#ed7953"
             ],
             [
              0.7777777777777778,
              "#fb9f3a"
             ],
             [
              0.8888888888888888,
              "#fdca26"
             ],
             [
              1.0,
              "#f0f921"
             ]
            ]
           }
          ],
          "heatmap": [
           {
            "type": "heatmap",
            "colorbar": {
             "outlinewidth": 0,
             "ticks": ""
            },
            "colorscale": [
             [
              0.0,
              "#0d0887"
             ],
             [
              0.1111111111111111,
              "#46039f"
             ],
             [
              0.2222222222222222,
              "#7201a8"
             ],
             [
              0.3333333333333333,
              "#9c179e"
             ],
             [
              0.4444444444444444,
              "#bd3786"
             ],
             [
              0.5555555555555556,
              "#d8576b"
             ],
             [
              0.6666666666666666,
              "#ed7953"
             ],
             [
              0.7777777777777778,
              "#fb9f3a"
             ],
             [
              0.8888888888888888,
              "#fdca26"
             ],
             [
              1.0,
              "#f0f921"
             ]
            ]
           }
          ],
          "contourcarpet": [
           {
            "type": "contourcarpet",
            "colorbar": {
             "outlinewidth": 0,
             "ticks": ""
            }
           }
          ],
          "contour": [
           {
            "type": "contour",
            "colorbar": {
             "outlinewidth": 0,
             "ticks": ""
            },
            "colorscale": [
             [
              0.0,
              "#0d0887"
             ],
             [
              0.1111111111111111,
              "#46039f"
             ],
             [
              0.2222222222222222,
              "#7201a8"
             ],
             [
              0.3333333333333333,
              "#9c179e"
             ],
             [
              0.4444444444444444,
              "#bd3786"
             ],
             [
              0.5555555555555556,
              "#d8576b"
             ],
             [
              0.6666666666666666,
              "#ed7953"
             ],
             [
              0.7777777777777778,
              "#fb9f3a"
             ],
             [
              0.8888888888888888,
              "#fdca26"
             ],
             [
              1.0,
              "#f0f921"
             ]
            ]
           }
          ],
          "surface": [
           {
            "type": "surface",
            "colorbar": {
             "outlinewidth": 0,
             "ticks": ""
            },
            "colorscale": [
             [
              0.0,
              "#0d0887"
             ],
             [
              0.1111111111111111,
              "#46039f"
             ],
             [
              0.2222222222222222,
              "#7201a8"
             ],
             [
              0.3333333333333333,
              "#9c179e"
             ],
             [
              0.4444444444444444,
              "#bd3786"
             ],
             [
              0.5555555555555556,
              "#d8576b"
             ],
             [
              0.6666666666666666,
              "#ed7953"
             ],
             [
              0.7777777777777778,
              "#fb9f3a"
             ],
             [
              0.8888888888888888,
              "#fdca26"
             ],
             [
              1.0,
              "#f0f921"
             ]
            ]
           }
          ],
          "mesh3d": [
           {
            "type": "mesh3d",
            "colorbar": {
             "outlinewidth": 0,
             "ticks": ""
            }
           }
          ],
          "scatter": [
           {
            "fillpattern": {
             "fillmode": "overlay",
             "size": 10,
             "solidity": 0.2
            },
            "type": "scatter"
           }
          ],
          "parcoords": [
           {
            "type": "parcoords",
            "line": {
             "colorbar": {
              "outlinewidth": 0,
              "ticks": ""
             }
            }
           }
          ],
          "scatterpolargl": [
           {
            "type": "scatterpolargl",
            "marker": {
             "colorbar": {
              "outlinewidth": 0,
              "ticks": ""
             }
            }
           }
          ],
          "bar": [
           {
            "error_x": {
             "color": "#2a3f5f"
            },
            "error_y": {
             "color": "#2a3f5f"
            },
            "marker": {
             "line": {
              "color": "#E5ECF6",
              "width": 0.5
             },
             "pattern": {
              "fillmode": "overlay",
              "size": 10,
              "solidity": 0.2
             }
            },
            "type": "bar"
           }
          ],
          "scattergeo": [
           {
            "type": "scattergeo",
            "marker": {
             "colorbar": {
              "outlinewidth": 0,
              "ticks": ""
             }
            }
           }
          ],
          "scatterpolar": [
           {
            "type": "scatterpolar",
            "marker": {
             "colorbar": {
              "outlinewidth": 0,
              "ticks": ""
             }
            }
           }
          ],
          "histogram": [
           {
            "marker": {
             "pattern": {
              "fillmode": "overlay",
              "size": 10,
              "solidity": 0.2
             }
            },
            "type": "histogram"
           }
          ],
          "scattergl": [
           {
            "type": "scattergl",
            "marker": {
             "colorbar": {
              "outlinewidth": 0,
              "ticks": ""
             }
            }
           }
          ],
          "scatter3d": [
           {
            "type": "scatter3d",
            "line": {
             "colorbar": {
              "outlinewidth": 0,
              "ticks": ""
             }
            },
            "marker": {
             "colorbar": {
              "outlinewidth": 0,
              "ticks": ""
             }
            }
           }
          ],
          "scattermap": [
           {
            "type": "scattermap",
            "marker": {
             "colorbar": {
              "outlinewidth": 0,
              "ticks": ""
             }
            }
           }
          ],
          "scattermapbox": [
           {
            "type": "scattermapbox",
            "marker": {
             "colorbar": {
              "outlinewidth": 0,
              "ticks": ""
             }
            }
           }
          ],
          "scatterternary": [
           {
            "type": "scatterternary",
            "marker": {
             "colorbar": {
              "outlinewidth": 0,
              "ticks": ""
             }
            }
           }
          ],
          "scattercarpet": [
           {
            "type": "scattercarpet",
            "marker": {
             "colorbar": {
              "outlinewidth": 0,
              "ticks": ""
             }
            }
           }
          ],
          "carpet": [
           {
            "aaxis": {
             "endlinecolor": "#2a3f5f",
             "gridcolor": "white",
             "linecolor": "white",
             "minorgridcolor": "white",
             "startlinecolor": "#2a3f5f"
            },
            "baxis": {
             "endlinecolor": "#2a3f5f",
             "gridcolor": "white",
             "linecolor": "white",
             "minorgridcolor": "white",
             "startlinecolor": "#2a3f5f"
            },
            "type": "carpet"
           }
          ],
          "table": [
           {
            "cells": {
             "fill": {
              "color": "#EBF0F8"
             },
             "line": {
              "color": "white"
             }
            },
            "header": {
             "fill": {
              "color": "#C8D4E3"
             },
             "line": {
              "color": "white"
             }
            },
            "type": "table"
           }
          ],
          "barpolar": [
           {
            "marker": {
             "line": {
              "color": "#E5ECF6",
              "width": 0.5
             },
             "pattern": {
              "fillmode": "overlay",
              "size": 10,
              "solidity": 0.2
             }
            },
            "type": "barpolar"
           }
          ],
          "pie": [
           {
            "automargin": true,
            "type": "pie"
           }
          ]
         },
         "layout": {
          "autotypenumbers": "strict",
          "colorway": [
           "#636efa",
           "#EF553B",
           "#00cc96",
           "#ab63fa",
           "#FFA15A",
           "#19d3f3",
           "#FF6692",
           "#B6E880",
           "#FF97FF",
           "#FECB52"
          ],
          "font": {
           "color": "#2a3f5f"
          },
          "hovermode": "closest",
          "hoverlabel": {
           "align": "left"
          },
          "paper_bgcolor": "white",
          "plot_bgcolor": "#E5ECF6",
          "polar": {
           "bgcolor": "#E5ECF6",
           "angularaxis": {
            "gridcolor": "white",
            "linecolor": "white",
            "ticks": ""
           },
           "radialaxis": {
            "gridcolor": "white",
            "linecolor": "white",
            "ticks": ""
           }
          },
          "ternary": {
           "bgcolor": "#E5ECF6",
           "aaxis": {
            "gridcolor": "white",
            "linecolor": "white",
            "ticks": ""
           },
           "baxis": {
            "gridcolor": "white",
            "linecolor": "white",
            "ticks": ""
           },
           "caxis": {
            "gridcolor": "white",
            "linecolor": "white",
            "ticks": ""
           }
          },
          "coloraxis": {
           "colorbar": {
            "outlinewidth": 0,
            "ticks": ""
           }
          },
          "colorscale": {
           "sequential": [
            [
             0.0,
             "#0d0887"
            ],
            [
             0.1111111111111111,
             "#46039f"
            ],
            [
             0.2222222222222222,
             "#7201a8"
            ],
            [
             0.3333333333333333,
             "#9c179e"
            ],
            [
             0.4444444444444444,
             "#bd3786"
            ],
            [
             0.5555555555555556,
             "#d8576b"
            ],
            [
             0.6666666666666666,
             "#ed7953"
            ],
            [
             0.7777777777777778,
             "#fb9f3a"
            ],
            [
             0.8888888888888888,
             "#fdca26"
            ],
            [
             1.0,
             "#f0f921"
            ]
           ],
           "sequentialminus": [
            [
             0.0,
             "#0d0887"
            ],
            [
             0.1111111111111111,
             "#46039f"
            ],
            [
             0.2222222222222222,
             "#7201a8"
            ],
            [
             0.3333333333333333,
             "#9c179e"
            ],
            [
             0.4444444444444444,
             "#bd3786"
            ],
            [
             0.5555555555555556,
             "#d8576b"
            ],
            [
             0.6666666666666666,
             "#ed7953"
            ],
            [
             0.7777777777777778,
             "#fb9f3a"
            ],
            [
             0.8888888888888888,
             "#fdca26"
            ],
            [
             1.0,
             "#f0f921"
            ]
           ],
           "diverging": [
            [
             0,
             "#8e0152"
            ],
            [
             0.1,
             "#c51b7d"
            ],
            [
             0.2,
             "#de77ae"
            ],
            [
             0.3,
             "#f1b6da"
            ],
            [
             0.4,
             "#fde0ef"
            ],
            [
             0.5,
             "#f7f7f7"
            ],
            [
             0.6,
             "#e6f5d0"
            ],
            [
             0.7,
             "#b8e186"
            ],
            [
             0.8,
             "#7fbc41"
            ],
            [
             0.9,
             "#4d9221"
            ],
            [
             1,
             "#276419"
            ]
           ]
          },
          "xaxis": {
           "gridcolor": "white",
           "linecolor": "white",
           "ticks": "",
           "title": {
            "standoff": 15
           },
           "zerolinecolor": "white",
           "automargin": true,
           "zerolinewidth": 2
          },
          "yaxis": {
           "gridcolor": "white",
           "linecolor": "white",
           "ticks": "",
           "title": {
            "standoff": 15
           },
           "zerolinecolor": "white",
           "automargin": true,
           "zerolinewidth": 2
          },
          "scene": {
           "xaxis": {
            "backgroundcolor": "#E5ECF6",
            "gridcolor": "white",
            "linecolor": "white",
            "showbackground": true,
            "ticks": "",
            "zerolinecolor": "white",
            "gridwidth": 2
           },
           "yaxis": {
            "backgroundcolor": "#E5ECF6",
            "gridcolor": "white",
            "linecolor": "white",
            "showbackground": true,
            "ticks": "",
            "zerolinecolor": "white",
            "gridwidth": 2
           },
           "zaxis": {
            "backgroundcolor": "#E5ECF6",
            "gridcolor": "white",
            "linecolor": "white",
            "showbackground": true,
            "ticks": "",
            "zerolinecolor": "white",
            "gridwidth": 2
           }
          },
          "shapedefaults": {
           "line": {
            "color": "#2a3f5f"
           }
          },
          "annotationdefaults": {
           "arrowcolor": "#2a3f5f",
           "arrowhead": 0,
           "arrowwidth": 1
          },
          "geo": {
           "bgcolor": "white",
           "landcolor": "#E5ECF6",
           "subunitcolor": "white",
           "showland": true,
           "showlakes": true,
           "lakecolor": "white"
          },
          "title": {
           "x": 0.05
          },
          "mapbox": {
           "style": "light"
          }
         }
        },
        "xaxis": {
         "anchor": "y",
         "domain": [
          0.0,
          1.0
         ],
         "title": {
          "text": "Age"
         }
        },
        "yaxis": {
         "anchor": "x",
         "domain": [
          0.0,
          1.0
         ],
         "title": {
          "text": "Numbers of Players"
         }
        },
        "legend": {
         "tracegroupgap": 0
        },
        "title": {
         "text": "Age distribution of players in the Champions League"
        },
        "barmode": "relative",
        "bargap": 0.1
       },
       "config": {
        "plotlyServerURL": "https://plot.ly"
       }
      }
     },
     "metadata": {},
     "output_type": "display_data"
    }
   ],
   "execution_count": 15
  },
  {
   "metadata": {
    "ExecuteTime": {
     "end_time": "2025-06-15T11:37:44.911504Z",
     "start_time": "2025-06-15T11:37:44.903373Z"
    }
   },
   "cell_type": "code",
   "source": [
    "def age_group(age):\n",
    "    if age <= 20:\n",
    "        return '17 & 20'\n",
    "    elif 20 < age <= 25:\n",
    "        return '20 & 25'\n",
    "    elif 25 < age <= 30:\n",
    "        return '25 & 32'\n",
    "    else:\n",
    "        return '32'\n"
   ],
   "id": "46c199230d8706cf",
   "outputs": [],
   "execution_count": 16
  },
  {
   "metadata": {
    "ExecuteTime": {
     "end_time": "2025-06-15T11:37:45.174266Z",
     "start_time": "2025-06-15T11:37:45.169611Z"
    }
   },
   "cell_type": "code",
   "source": "ucl_group_age = ucl['Age'].apply(age_group)",
   "id": "6d5fd7751fdd0bf2",
   "outputs": [],
   "execution_count": 17
  },
  {
   "metadata": {
    "ExecuteTime": {
     "end_time": "2025-06-15T11:37:45.293459Z",
     "start_time": "2025-06-15T11:37:45.284524Z"
    }
   },
   "cell_type": "code",
   "source": "age_group_counts = ucl_group_age.value_counts().reset_index()",
   "id": "d090342f84071504",
   "outputs": [],
   "execution_count": 18
  },
  {
   "metadata": {
    "ExecuteTime": {
     "end_time": "2025-06-15T11:37:45.435632Z",
     "start_time": "2025-06-15T11:37:45.332769Z"
    }
   },
   "cell_type": "code",
   "source": [
    "age_group_counts.columns = ['Age Group', 'Count']\n",
    "\n",
    "# Pie chart\n",
    "fig = px.pie(\n",
    "    age_group_counts,\n",
    "    names='Age Group',\n",
    "    values='Count',\n",
    "    title='Total Players by Age Groups',\n",
    "    color_discrete_sequence=px.colors.qualitative.Bold\n",
    ")\n",
    "\n",
    "fig.update_traces(textposition='inside', textinfo='percent+label')\n",
    "fig.show()"
   ],
   "id": "cd14f891102c734e",
   "outputs": [
    {
     "data": {
      "application/vnd.plotly.v1+json": {
       "data": [
        {
         "domain": {
          "x": [
           0.0,
           1.0
          ],
          "y": [
           0.0,
           1.0
          ]
         },
         "hovertemplate": "Age Group=%{label}<br>Count=%{value}<extra></extra>",
         "labels": [
          "20 & 25",
          "25 & 32",
          "32",
          "17 & 20"
         ],
         "legendgroup": "",
         "name": "",
         "showlegend": true,
         "values": {
          "dtype": "i1",
          "bdata": "U0srCQ=="
         },
         "type": "pie",
         "textinfo": "percent+label",
         "textposition": "inside"
        }
       ],
       "layout": {
        "template": {
         "data": {
          "histogram2dcontour": [
           {
            "type": "histogram2dcontour",
            "colorbar": {
             "outlinewidth": 0,
             "ticks": ""
            },
            "colorscale": [
             [
              0.0,
              "#0d0887"
             ],
             [
              0.1111111111111111,
              "#46039f"
             ],
             [
              0.2222222222222222,
              "#7201a8"
             ],
             [
              0.3333333333333333,
              "#9c179e"
             ],
             [
              0.4444444444444444,
              "#bd3786"
             ],
             [
              0.5555555555555556,
              "#d8576b"
             ],
             [
              0.6666666666666666,
              "#ed7953"
             ],
             [
              0.7777777777777778,
              "#fb9f3a"
             ],
             [
              0.8888888888888888,
              "#fdca26"
             ],
             [
              1.0,
              "#f0f921"
             ]
            ]
           }
          ],
          "choropleth": [
           {
            "type": "choropleth",
            "colorbar": {
             "outlinewidth": 0,
             "ticks": ""
            }
           }
          ],
          "histogram2d": [
           {
            "type": "histogram2d",
            "colorbar": {
             "outlinewidth": 0,
             "ticks": ""
            },
            "colorscale": [
             [
              0.0,
              "#0d0887"
             ],
             [
              0.1111111111111111,
              "#46039f"
             ],
             [
              0.2222222222222222,
              "#7201a8"
             ],
             [
              0.3333333333333333,
              "#9c179e"
             ],
             [
              0.4444444444444444,
              "#bd3786"
             ],
             [
              0.5555555555555556,
              "#d8576b"
             ],
             [
              0.6666666666666666,
              "#ed7953"
             ],
             [
              0.7777777777777778,
              "#fb9f3a"
             ],
             [
              0.8888888888888888,
              "#fdca26"
             ],
             [
              1.0,
              "#f0f921"
             ]
            ]
           }
          ],
          "heatmap": [
           {
            "type": "heatmap",
            "colorbar": {
             "outlinewidth": 0,
             "ticks": ""
            },
            "colorscale": [
             [
              0.0,
              "#0d0887"
             ],
             [
              0.1111111111111111,
              "#46039f"
             ],
             [
              0.2222222222222222,
              "#7201a8"
             ],
             [
              0.3333333333333333,
              "#9c179e"
             ],
             [
              0.4444444444444444,
              "#bd3786"
             ],
             [
              0.5555555555555556,
              "#d8576b"
             ],
             [
              0.6666666666666666,
              "#ed7953"
             ],
             [
              0.7777777777777778,
              "#fb9f3a"
             ],
             [
              0.8888888888888888,
              "#fdca26"
             ],
             [
              1.0,
              "#f0f921"
             ]
            ]
           }
          ],
          "contourcarpet": [
           {
            "type": "contourcarpet",
            "colorbar": {
             "outlinewidth": 0,
             "ticks": ""
            }
           }
          ],
          "contour": [
           {
            "type": "contour",
            "colorbar": {
             "outlinewidth": 0,
             "ticks": ""
            },
            "colorscale": [
             [
              0.0,
              "#0d0887"
             ],
             [
              0.1111111111111111,
              "#46039f"
             ],
             [
              0.2222222222222222,
              "#7201a8"
             ],
             [
              0.3333333333333333,
              "#9c179e"
             ],
             [
              0.4444444444444444,
              "#bd3786"
             ],
             [
              0.5555555555555556,
              "#d8576b"
             ],
             [
              0.6666666666666666,
              "#ed7953"
             ],
             [
              0.7777777777777778,
              "#fb9f3a"
             ],
             [
              0.8888888888888888,
              "#fdca26"
             ],
             [
              1.0,
              "#f0f921"
             ]
            ]
           }
          ],
          "surface": [
           {
            "type": "surface",
            "colorbar": {
             "outlinewidth": 0,
             "ticks": ""
            },
            "colorscale": [
             [
              0.0,
              "#0d0887"
             ],
             [
              0.1111111111111111,
              "#46039f"
             ],
             [
              0.2222222222222222,
              "#7201a8"
             ],
             [
              0.3333333333333333,
              "#9c179e"
             ],
             [
              0.4444444444444444,
              "#bd3786"
             ],
             [
              0.5555555555555556,
              "#d8576b"
             ],
             [
              0.6666666666666666,
              "#ed7953"
             ],
             [
              0.7777777777777778,
              "#fb9f3a"
             ],
             [
              0.8888888888888888,
              "#fdca26"
             ],
             [
              1.0,
              "#f0f921"
             ]
            ]
           }
          ],
          "mesh3d": [
           {
            "type": "mesh3d",
            "colorbar": {
             "outlinewidth": 0,
             "ticks": ""
            }
           }
          ],
          "scatter": [
           {
            "fillpattern": {
             "fillmode": "overlay",
             "size": 10,
             "solidity": 0.2
            },
            "type": "scatter"
           }
          ],
          "parcoords": [
           {
            "type": "parcoords",
            "line": {
             "colorbar": {
              "outlinewidth": 0,
              "ticks": ""
             }
            }
           }
          ],
          "scatterpolargl": [
           {
            "type": "scatterpolargl",
            "marker": {
             "colorbar": {
              "outlinewidth": 0,
              "ticks": ""
             }
            }
           }
          ],
          "bar": [
           {
            "error_x": {
             "color": "#2a3f5f"
            },
            "error_y": {
             "color": "#2a3f5f"
            },
            "marker": {
             "line": {
              "color": "#E5ECF6",
              "width": 0.5
             },
             "pattern": {
              "fillmode": "overlay",
              "size": 10,
              "solidity": 0.2
             }
            },
            "type": "bar"
           }
          ],
          "scattergeo": [
           {
            "type": "scattergeo",
            "marker": {
             "colorbar": {
              "outlinewidth": 0,
              "ticks": ""
             }
            }
           }
          ],
          "scatterpolar": [
           {
            "type": "scatterpolar",
            "marker": {
             "colorbar": {
              "outlinewidth": 0,
              "ticks": ""
             }
            }
           }
          ],
          "histogram": [
           {
            "marker": {
             "pattern": {
              "fillmode": "overlay",
              "size": 10,
              "solidity": 0.2
             }
            },
            "type": "histogram"
           }
          ],
          "scattergl": [
           {
            "type": "scattergl",
            "marker": {
             "colorbar": {
              "outlinewidth": 0,
              "ticks": ""
             }
            }
           }
          ],
          "scatter3d": [
           {
            "type": "scatter3d",
            "line": {
             "colorbar": {
              "outlinewidth": 0,
              "ticks": ""
             }
            },
            "marker": {
             "colorbar": {
              "outlinewidth": 0,
              "ticks": ""
             }
            }
           }
          ],
          "scattermap": [
           {
            "type": "scattermap",
            "marker": {
             "colorbar": {
              "outlinewidth": 0,
              "ticks": ""
             }
            }
           }
          ],
          "scattermapbox": [
           {
            "type": "scattermapbox",
            "marker": {
             "colorbar": {
              "outlinewidth": 0,
              "ticks": ""
             }
            }
           }
          ],
          "scatterternary": [
           {
            "type": "scatterternary",
            "marker": {
             "colorbar": {
              "outlinewidth": 0,
              "ticks": ""
             }
            }
           }
          ],
          "scattercarpet": [
           {
            "type": "scattercarpet",
            "marker": {
             "colorbar": {
              "outlinewidth": 0,
              "ticks": ""
             }
            }
           }
          ],
          "carpet": [
           {
            "aaxis": {
             "endlinecolor": "#2a3f5f",
             "gridcolor": "white",
             "linecolor": "white",
             "minorgridcolor": "white",
             "startlinecolor": "#2a3f5f"
            },
            "baxis": {
             "endlinecolor": "#2a3f5f",
             "gridcolor": "white",
             "linecolor": "white",
             "minorgridcolor": "white",
             "startlinecolor": "#2a3f5f"
            },
            "type": "carpet"
           }
          ],
          "table": [
           {
            "cells": {
             "fill": {
              "color": "#EBF0F8"
             },
             "line": {
              "color": "white"
             }
            },
            "header": {
             "fill": {
              "color": "#C8D4E3"
             },
             "line": {
              "color": "white"
             }
            },
            "type": "table"
           }
          ],
          "barpolar": [
           {
            "marker": {
             "line": {
              "color": "#E5ECF6",
              "width": 0.5
             },
             "pattern": {
              "fillmode": "overlay",
              "size": 10,
              "solidity": 0.2
             }
            },
            "type": "barpolar"
           }
          ],
          "pie": [
           {
            "automargin": true,
            "type": "pie"
           }
          ]
         },
         "layout": {
          "autotypenumbers": "strict",
          "colorway": [
           "#636efa",
           "#EF553B",
           "#00cc96",
           "#ab63fa",
           "#FFA15A",
           "#19d3f3",
           "#FF6692",
           "#B6E880",
           "#FF97FF",
           "#FECB52"
          ],
          "font": {
           "color": "#2a3f5f"
          },
          "hovermode": "closest",
          "hoverlabel": {
           "align": "left"
          },
          "paper_bgcolor": "white",
          "plot_bgcolor": "#E5ECF6",
          "polar": {
           "bgcolor": "#E5ECF6",
           "angularaxis": {
            "gridcolor": "white",
            "linecolor": "white",
            "ticks": ""
           },
           "radialaxis": {
            "gridcolor": "white",
            "linecolor": "white",
            "ticks": ""
           }
          },
          "ternary": {
           "bgcolor": "#E5ECF6",
           "aaxis": {
            "gridcolor": "white",
            "linecolor": "white",
            "ticks": ""
           },
           "baxis": {
            "gridcolor": "white",
            "linecolor": "white",
            "ticks": ""
           },
           "caxis": {
            "gridcolor": "white",
            "linecolor": "white",
            "ticks": ""
           }
          },
          "coloraxis": {
           "colorbar": {
            "outlinewidth": 0,
            "ticks": ""
           }
          },
          "colorscale": {
           "sequential": [
            [
             0.0,
             "#0d0887"
            ],
            [
             0.1111111111111111,
             "#46039f"
            ],
            [
             0.2222222222222222,
             "#7201a8"
            ],
            [
             0.3333333333333333,
             "#9c179e"
            ],
            [
             0.4444444444444444,
             "#bd3786"
            ],
            [
             0.5555555555555556,
             "#d8576b"
            ],
            [
             0.6666666666666666,
             "#ed7953"
            ],
            [
             0.7777777777777778,
             "#fb9f3a"
            ],
            [
             0.8888888888888888,
             "#fdca26"
            ],
            [
             1.0,
             "#f0f921"
            ]
           ],
           "sequentialminus": [
            [
             0.0,
             "#0d0887"
            ],
            [
             0.1111111111111111,
             "#46039f"
            ],
            [
             0.2222222222222222,
             "#7201a8"
            ],
            [
             0.3333333333333333,
             "#9c179e"
            ],
            [
             0.4444444444444444,
             "#bd3786"
            ],
            [
             0.5555555555555556,
             "#d8576b"
            ],
            [
             0.6666666666666666,
             "#ed7953"
            ],
            [
             0.7777777777777778,
             "#fb9f3a"
            ],
            [
             0.8888888888888888,
             "#fdca26"
            ],
            [
             1.0,
             "#f0f921"
            ]
           ],
           "diverging": [
            [
             0,
             "#8e0152"
            ],
            [
             0.1,
             "#c51b7d"
            ],
            [
             0.2,
             "#de77ae"
            ],
            [
             0.3,
             "#f1b6da"
            ],
            [
             0.4,
             "#fde0ef"
            ],
            [
             0.5,
             "#f7f7f7"
            ],
            [
             0.6,
             "#e6f5d0"
            ],
            [
             0.7,
             "#b8e186"
            ],
            [
             0.8,
             "#7fbc41"
            ],
            [
             0.9,
             "#4d9221"
            ],
            [
             1,
             "#276419"
            ]
           ]
          },
          "xaxis": {
           "gridcolor": "white",
           "linecolor": "white",
           "ticks": "",
           "title": {
            "standoff": 15
           },
           "zerolinecolor": "white",
           "automargin": true,
           "zerolinewidth": 2
          },
          "yaxis": {
           "gridcolor": "white",
           "linecolor": "white",
           "ticks": "",
           "title": {
            "standoff": 15
           },
           "zerolinecolor": "white",
           "automargin": true,
           "zerolinewidth": 2
          },
          "scene": {
           "xaxis": {
            "backgroundcolor": "#E5ECF6",
            "gridcolor": "white",
            "linecolor": "white",
            "showbackground": true,
            "ticks": "",
            "zerolinecolor": "white",
            "gridwidth": 2
           },
           "yaxis": {
            "backgroundcolor": "#E5ECF6",
            "gridcolor": "white",
            "linecolor": "white",
            "showbackground": true,
            "ticks": "",
            "zerolinecolor": "white",
            "gridwidth": 2
           },
           "zaxis": {
            "backgroundcolor": "#E5ECF6",
            "gridcolor": "white",
            "linecolor": "white",
            "showbackground": true,
            "ticks": "",
            "zerolinecolor": "white",
            "gridwidth": 2
           }
          },
          "shapedefaults": {
           "line": {
            "color": "#2a3f5f"
           }
          },
          "annotationdefaults": {
           "arrowcolor": "#2a3f5f",
           "arrowhead": 0,
           "arrowwidth": 1
          },
          "geo": {
           "bgcolor": "white",
           "landcolor": "#E5ECF6",
           "subunitcolor": "white",
           "showland": true,
           "showlakes": true,
           "lakecolor": "white"
          },
          "title": {
           "x": 0.05
          },
          "mapbox": {
           "style": "light"
          }
         }
        },
        "legend": {
         "tracegroupgap": 0
        },
        "title": {
         "text": "Total Players by Age Groups"
        },
        "piecolorway": [
         "rgb(127, 60, 141)",
         "rgb(17, 165, 121)",
         "rgb(57, 105, 172)",
         "rgb(242, 183, 1)",
         "rgb(231, 63, 116)",
         "rgb(128, 186, 90)",
         "rgb(230, 131, 16)",
         "rgb(0, 134, 149)",
         "rgb(207, 28, 144)",
         "rgb(249, 123, 114)",
         "rgb(165, 170, 153)"
        ]
       },
       "config": {
        "plotlyServerURL": "https://plot.ly"
       }
      }
     },
     "metadata": {},
     "output_type": "display_data"
    }
   ],
   "execution_count": 19
  },
  {
   "metadata": {
    "ExecuteTime": {
     "end_time": "2025-06-15T11:37:45.479292Z",
     "start_time": "2025-06-15T11:37:45.471121Z"
    }
   },
   "cell_type": "code",
   "source": [
    "team_counts = ucl['Team'].value_counts()\n",
    "\n",
    "team_counts"
   ],
   "id": "2aa5e728d0aacc62",
   "outputs": [
    {
     "data": {
      "text/plain": [
       "Team\n",
       "Inter               13\n",
       "Barcelona           12\n",
       "Arsenal FC          12\n",
       "Paris SG            12\n",
       "Real Madrid         11\n",
       "BVB Dortmund        11\n",
       "PSV Eindhoven       10\n",
       "Bayern Munich       10\n",
       "Liverpool FC        10\n",
       "Benfica              9\n",
       "Atalanta BC          9\n",
       "Aston Villa          8\n",
       "Atletico Madrid      8\n",
       "Bayer Leverkusen     7\n",
       "Milan                7\n",
       "Monaco               7\n",
       "Manchester City      7\n",
       "Celtic               6\n",
       "Lille                6\n",
       "Sporting CP          6\n",
       "Club Brugge          5\n",
       "Juventus             5\n",
       "Feyenoord            4\n",
       "Bologna              4\n",
       "Shakhtar Donetsk     3\n",
       "Brest                2\n",
       "VfB Stuttgart        2\n",
       "Sturm Graz           1\n",
       "Leipzig              1\n",
       "Dinamo Zagreb        1\n",
       "Girona               1\n",
       "Name: count, dtype: int64"
      ]
     },
     "execution_count": 20,
     "metadata": {},
     "output_type": "execute_result"
    }
   ],
   "execution_count": 20
  },
  {
   "metadata": {
    "ExecuteTime": {
     "end_time": "2025-06-15T11:37:45.643877Z",
     "start_time": "2025-06-15T11:37:45.633222Z"
    }
   },
   "cell_type": "code",
   "source": [
    "team_counts = ucl['Team'].value_counts()\n",
    "valid_teams = team_counts[team_counts >= 8].index\n",
    "\n",
    "# Create a new DataFrame with exactly 8 players from each valid team\n",
    "winner_team_probabilities = ucl[ucl['Team'].isin(valid_teams)].groupby('Team').head(8)\n",
    "\n",
    "# Now you can do value_counts() on the balanced dataset\n",
    "balanced_team_counts = winner_team_probabilities['Team'].value_counts()\n"
   ],
   "id": "b62ab80f4cfbaf40",
   "outputs": [],
   "execution_count": 21
  },
  {
   "metadata": {
    "ExecuteTime": {
     "end_time": "2025-06-15T11:37:45.920934Z",
     "start_time": "2025-06-15T11:37:45.913258Z"
    }
   },
   "cell_type": "code",
   "source": "balanced_team_counts",
   "id": "7b88451eb512a5ae",
   "outputs": [
    {
     "data": {
      "text/plain": [
       "Team\n",
       "Inter              8\n",
       "Barcelona          8\n",
       "Liverpool FC       8\n",
       "Real Madrid        8\n",
       "Arsenal FC         8\n",
       "Benfica            8\n",
       "Atletico Madrid    8\n",
       "Paris SG           8\n",
       "PSV Eindhoven      8\n",
       "BVB Dortmund       8\n",
       "Aston Villa        8\n",
       "Atalanta BC        8\n",
       "Bayern Munich      8\n",
       "Name: count, dtype: int64"
      ]
     },
     "execution_count": 22,
     "metadata": {},
     "output_type": "execute_result"
    }
   ],
   "execution_count": 22
  },
  {
   "metadata": {
    "ExecuteTime": {
     "end_time": "2025-06-15T11:37:46.077426Z",
     "start_time": "2025-06-15T11:37:46.058418Z"
    }
   },
   "cell_type": "code",
   "source": [
    "winner_team_probabilities = (\n",
    "    ucl[ucl['Team'].isin(valid_teams)]\n",
    "    .sort_values(by='Value10^6', ascending=False)\n",
    "    .groupby('Team')\n",
    "    .head(8)\n",
    "    .groupby('Team')['Value10^6']\n",
    "    .sum()\n",
    "    .sort_values(ascending=False)\n",
    ")\n",
    "\n",
    "winner_team_probabilities"
   ],
   "id": "a0c7bdc3f8080348",
   "outputs": [
    {
     "data": {
      "text/plain": [
       "Team\n",
       "Real Madrid        945.0\n",
       "Arsenal FC         740.0\n",
       "Barcelona          600.0\n",
       "Bayern Munich      522.0\n",
       "Liverpool FC       505.0\n",
       "Inter              503.0\n",
       "Paris SG           490.0\n",
       "Aston Villa        281.0\n",
       "Atletico Madrid    260.0\n",
       "BVB Dortmund       256.0\n",
       "Atalanta BC        220.0\n",
       "PSV Eindhoven      192.0\n",
       "Benfica            163.0\n",
       "Name: Value10^6, dtype: float64"
      ]
     },
     "execution_count": 23,
     "metadata": {},
     "output_type": "execute_result"
    }
   ],
   "execution_count": 23
  },
  {
   "metadata": {
    "ExecuteTime": {
     "end_time": "2025-06-15T11:37:46.422680Z",
     "start_time": "2025-06-15T11:37:46.415049Z"
    }
   },
   "cell_type": "code",
   "source": "180 + 45 + 180 + 200 + 30 + 80 + 100 + 130",
   "id": "f74c2c6e9f1e600d",
   "outputs": [
    {
     "data": {
      "text/plain": [
       "945"
      ]
     },
     "execution_count": 24,
     "metadata": {},
     "output_type": "execute_result"
    }
   ],
   "execution_count": 24
  },
  {
   "metadata": {
    "ExecuteTime": {
     "end_time": "2025-06-15T11:37:46.766589Z",
     "start_time": "2025-06-15T11:37:46.751527Z"
    }
   },
   "cell_type": "code",
   "source": "top_dribblers = ucl.sort_values(by='Dribbles', ascending=False).head(20)",
   "id": "ccbcec6e818f2363",
   "outputs": [],
   "execution_count": 25
  },
  {
   "metadata": {
    "ExecuteTime": {
     "end_time": "2025-06-15T11:37:46.933151Z",
     "start_time": "2025-06-15T11:37:46.912071Z"
    }
   },
   "cell_type": "code",
   "source": "top_dribblers",
   "id": "27bb8efaa843bdf5",
   "outputs": [
    {
     "data": {
      "text/plain": [
       "     PlayerID          Player    Position  Age Nationality              Team  \\\n",
       "15         16           Yamal     Forward   17       Spain         Barcelona   \n",
       "37         38     Vinicius Jr     Forward   24      Brazil       Real Madrid   \n",
       "84         85     Rafael Leao     Forward   25    Portugal             Milan   \n",
       "75         76         Dembele     Forward   27      France          Paris SG   \n",
       "167       168   Jamal Musiala     Forward   22     Germany     Bayern Munich   \n",
       "164       165         Gittens     Forward   20     England      BVB Dortmund   \n",
       "82         83         Barcola     Forward   22      France          Paris SG   \n",
       "188       189          Rogers  Midfielder   22     England       Aston Villa   \n",
       "93         94     Desire Doue     Forward   19      France          Paris SG   \n",
       "171       172           Olise     Forward   23      France     Bayern Munich   \n",
       "142       143       Conceiçao     Forward   22    Portugal          Juventus   \n",
       "19         20   Kylian Mbappe     Forward   25      France       Real Madrid   \n",
       "13         14  Johan Bakayoko     Forward   22     Belgium     PSV Eindhoven   \n",
       "88         89     Bukayo Saka     Forward   23     England        Arsenal FC   \n",
       "181       182   Florian Wirtz  Midfielder   22     Germany  Bayer Leverkusen   \n",
       "141       142           Balde    Defender   21       Spain         Barcelona   \n",
       "120       121         Savinho     Forward   21      Brazil   Manchester City   \n",
       "12         13          Hakimi    Defender   26     Morocco          Paris SG   \n",
       "27         28   Kvaratskhelia     Forward   24     Georgia          Paris SG   \n",
       "26         27            Kuhn     Forward   25     Germany            Celtic   \n",
       "\n",
       "       Competitions            Phase Phase_Tier  Value10^6  ...  \\\n",
       "15          La Liga     Semi_finals           A      180.0  ...   \n",
       "37          La Liga  Quarter_finals           B      200.0  ...   \n",
       "84          Serie A   Knockout_phase          D       75.0  ...   \n",
       "75          Ligue 1            Final          S       75.0  ...   \n",
       "167      Bundesliga   Quarter_finals          B      150.0  ...   \n",
       "164      Bundesliga   Quarter_finals          B       50.0  ...   \n",
       "82          Ligue 1            Final          S       45.0  ...   \n",
       "188  Premier League   Quarter_finals          B       50.0  ...   \n",
       "93          Ligue 1            Final          S       60.0  ...   \n",
       "171      Bundesliga   Quarter_finals          B       58.0  ...   \n",
       "142         Serie A   Knockout_phase          D       36.0  ...   \n",
       "19         La Liga   Quarter_finals           B      180.0  ...   \n",
       "13       Eredivisie          Round16          C       35.0  ...   \n",
       "88   Premier League      Semi_finals          A      150.0  ...   \n",
       "181      Bundesliga          Round16          C      140.0  ...   \n",
       "141         La Liga     Semi_finals           A       60.0  ...   \n",
       "120  Premier League   Knockout_phase          D       55.0  ...   \n",
       "12          Ligue 1            Final          S       60.0  ...   \n",
       "27          Ligue 1            Final          S       80.0  ...   \n",
       "26      Premiership   Knockout_phase          D       12.0  ...   \n",
       "\n",
       "     Balls_recovered  Tackles_Won  Tackles_Lost  Saves  Goals_Conceded  \\\n",
       "15                19            5             5      0               0   \n",
       "37                20            3            11      0               0   \n",
       "84                 3            1             8      0               0   \n",
       "75                14            1             5      0               0   \n",
       "167               29            5             6      0               0   \n",
       "164               21            1             3      0               0   \n",
       "82                18            4             5      0               0   \n",
       "188               12            4             4      0               0   \n",
       "93                20            5             9      0               0   \n",
       "171               24            3            11      0               0   \n",
       "142               11            4             6      0               0   \n",
       "19                 9            3             3      0               0   \n",
       "13                32            2             2      0               0   \n",
       "88                10            2             7      0               0   \n",
       "181               22            0             2      0               0   \n",
       "141               31            6             3      0               0   \n",
       "120               10            3             2      0               0   \n",
       "12                74           11            15      0               0   \n",
       "27                22            6             5      0               0   \n",
       "26                26            4             7      0               0   \n",
       "\n",
       "     Clean_Sheets  MOTM_Awards  Minutes_played  Match_played  DNP  \n",
       "15              0            1            1101            13    1  \n",
       "37              0            3            1104            12    2  \n",
       "84              0            3             797            10    0  \n",
       "75              0            2            1163            15    2  \n",
       "167             0            1             866            12    2  \n",
       "164             0            1             848            14    0  \n",
       "82              0            1            1096            17    0  \n",
       "188             0            2            1025            12    0  \n",
       "93              0            1             742            16    1  \n",
       "171             0            1            1033            14    0  \n",
       "142             0            1             606             9    1  \n",
       "19              0            1            1132            14    0  \n",
       "13              0            1             860            12    0  \n",
       "88              0            2             763             9    5  \n",
       "181             0            2             765             9    1  \n",
       "141             0            0             804            10    4  \n",
       "120             0            0             578             9    1  \n",
       "12              0            2            1540            17    0  \n",
       "27              0            1             735             9    8  \n",
       "26              0            1             792            10    0  \n",
       "\n",
       "[20 rows x 30 columns]"
      ],
      "text/html": [
       "<div>\n",
       "<style scoped>\n",
       "    .dataframe tbody tr th:only-of-type {\n",
       "        vertical-align: middle;\n",
       "    }\n",
       "\n",
       "    .dataframe tbody tr th {\n",
       "        vertical-align: top;\n",
       "    }\n",
       "\n",
       "    .dataframe thead th {\n",
       "        text-align: right;\n",
       "    }\n",
       "</style>\n",
       "<table border=\"1\" class=\"dataframe\">\n",
       "  <thead>\n",
       "    <tr style=\"text-align: right;\">\n",
       "      <th></th>\n",
       "      <th>PlayerID</th>\n",
       "      <th>Player</th>\n",
       "      <th>Position</th>\n",
       "      <th>Age</th>\n",
       "      <th>Nationality</th>\n",
       "      <th>Team</th>\n",
       "      <th>Competitions</th>\n",
       "      <th>Phase</th>\n",
       "      <th>Phase_Tier</th>\n",
       "      <th>Value10^6</th>\n",
       "      <th>...</th>\n",
       "      <th>Balls_recovered</th>\n",
       "      <th>Tackles_Won</th>\n",
       "      <th>Tackles_Lost</th>\n",
       "      <th>Saves</th>\n",
       "      <th>Goals_Conceded</th>\n",
       "      <th>Clean_Sheets</th>\n",
       "      <th>MOTM_Awards</th>\n",
       "      <th>Minutes_played</th>\n",
       "      <th>Match_played</th>\n",
       "      <th>DNP</th>\n",
       "    </tr>\n",
       "  </thead>\n",
       "  <tbody>\n",
       "    <tr>\n",
       "      <th>15</th>\n",
       "      <td>16</td>\n",
       "      <td>Yamal</td>\n",
       "      <td>Forward</td>\n",
       "      <td>17</td>\n",
       "      <td>Spain</td>\n",
       "      <td>Barcelona</td>\n",
       "      <td>La Liga</td>\n",
       "      <td>Semi_finals</td>\n",
       "      <td>A</td>\n",
       "      <td>180.0</td>\n",
       "      <td>...</td>\n",
       "      <td>19</td>\n",
       "      <td>5</td>\n",
       "      <td>5</td>\n",
       "      <td>0</td>\n",
       "      <td>0</td>\n",
       "      <td>0</td>\n",
       "      <td>1</td>\n",
       "      <td>1101</td>\n",
       "      <td>13</td>\n",
       "      <td>1</td>\n",
       "    </tr>\n",
       "    <tr>\n",
       "      <th>37</th>\n",
       "      <td>38</td>\n",
       "      <td>Vinicius Jr</td>\n",
       "      <td>Forward</td>\n",
       "      <td>24</td>\n",
       "      <td>Brazil</td>\n",
       "      <td>Real Madrid</td>\n",
       "      <td>La Liga</td>\n",
       "      <td>Quarter_finals</td>\n",
       "      <td>B</td>\n",
       "      <td>200.0</td>\n",
       "      <td>...</td>\n",
       "      <td>20</td>\n",
       "      <td>3</td>\n",
       "      <td>11</td>\n",
       "      <td>0</td>\n",
       "      <td>0</td>\n",
       "      <td>0</td>\n",
       "      <td>3</td>\n",
       "      <td>1104</td>\n",
       "      <td>12</td>\n",
       "      <td>2</td>\n",
       "    </tr>\n",
       "    <tr>\n",
       "      <th>84</th>\n",
       "      <td>85</td>\n",
       "      <td>Rafael Leao</td>\n",
       "      <td>Forward</td>\n",
       "      <td>25</td>\n",
       "      <td>Portugal</td>\n",
       "      <td>Milan</td>\n",
       "      <td>Serie A</td>\n",
       "      <td>Knockout_phase</td>\n",
       "      <td>D</td>\n",
       "      <td>75.0</td>\n",
       "      <td>...</td>\n",
       "      <td>3</td>\n",
       "      <td>1</td>\n",
       "      <td>8</td>\n",
       "      <td>0</td>\n",
       "      <td>0</td>\n",
       "      <td>0</td>\n",
       "      <td>3</td>\n",
       "      <td>797</td>\n",
       "      <td>10</td>\n",
       "      <td>0</td>\n",
       "    </tr>\n",
       "    <tr>\n",
       "      <th>75</th>\n",
       "      <td>76</td>\n",
       "      <td>Dembele</td>\n",
       "      <td>Forward</td>\n",
       "      <td>27</td>\n",
       "      <td>France</td>\n",
       "      <td>Paris SG</td>\n",
       "      <td>Ligue 1</td>\n",
       "      <td>Final</td>\n",
       "      <td>S</td>\n",
       "      <td>75.0</td>\n",
       "      <td>...</td>\n",
       "      <td>14</td>\n",
       "      <td>1</td>\n",
       "      <td>5</td>\n",
       "      <td>0</td>\n",
       "      <td>0</td>\n",
       "      <td>0</td>\n",
       "      <td>2</td>\n",
       "      <td>1163</td>\n",
       "      <td>15</td>\n",
       "      <td>2</td>\n",
       "    </tr>\n",
       "    <tr>\n",
       "      <th>167</th>\n",
       "      <td>168</td>\n",
       "      <td>Jamal Musiala</td>\n",
       "      <td>Forward</td>\n",
       "      <td>22</td>\n",
       "      <td>Germany</td>\n",
       "      <td>Bayern Munich</td>\n",
       "      <td>Bundesliga</td>\n",
       "      <td>Quarter_finals</td>\n",
       "      <td>B</td>\n",
       "      <td>150.0</td>\n",
       "      <td>...</td>\n",
       "      <td>29</td>\n",
       "      <td>5</td>\n",
       "      <td>6</td>\n",
       "      <td>0</td>\n",
       "      <td>0</td>\n",
       "      <td>0</td>\n",
       "      <td>1</td>\n",
       "      <td>866</td>\n",
       "      <td>12</td>\n",
       "      <td>2</td>\n",
       "    </tr>\n",
       "    <tr>\n",
       "      <th>164</th>\n",
       "      <td>165</td>\n",
       "      <td>Gittens</td>\n",
       "      <td>Forward</td>\n",
       "      <td>20</td>\n",
       "      <td>England</td>\n",
       "      <td>BVB Dortmund</td>\n",
       "      <td>Bundesliga</td>\n",
       "      <td>Quarter_finals</td>\n",
       "      <td>B</td>\n",
       "      <td>50.0</td>\n",
       "      <td>...</td>\n",
       "      <td>21</td>\n",
       "      <td>1</td>\n",
       "      <td>3</td>\n",
       "      <td>0</td>\n",
       "      <td>0</td>\n",
       "      <td>0</td>\n",
       "      <td>1</td>\n",
       "      <td>848</td>\n",
       "      <td>14</td>\n",
       "      <td>0</td>\n",
       "    </tr>\n",
       "    <tr>\n",
       "      <th>82</th>\n",
       "      <td>83</td>\n",
       "      <td>Barcola</td>\n",
       "      <td>Forward</td>\n",
       "      <td>22</td>\n",
       "      <td>France</td>\n",
       "      <td>Paris SG</td>\n",
       "      <td>Ligue 1</td>\n",
       "      <td>Final</td>\n",
       "      <td>S</td>\n",
       "      <td>45.0</td>\n",
       "      <td>...</td>\n",
       "      <td>18</td>\n",
       "      <td>4</td>\n",
       "      <td>5</td>\n",
       "      <td>0</td>\n",
       "      <td>0</td>\n",
       "      <td>0</td>\n",
       "      <td>1</td>\n",
       "      <td>1096</td>\n",
       "      <td>17</td>\n",
       "      <td>0</td>\n",
       "    </tr>\n",
       "    <tr>\n",
       "      <th>188</th>\n",
       "      <td>189</td>\n",
       "      <td>Rogers</td>\n",
       "      <td>Midfielder</td>\n",
       "      <td>22</td>\n",
       "      <td>England</td>\n",
       "      <td>Aston Villa</td>\n",
       "      <td>Premier League</td>\n",
       "      <td>Quarter_finals</td>\n",
       "      <td>B</td>\n",
       "      <td>50.0</td>\n",
       "      <td>...</td>\n",
       "      <td>12</td>\n",
       "      <td>4</td>\n",
       "      <td>4</td>\n",
       "      <td>0</td>\n",
       "      <td>0</td>\n",
       "      <td>0</td>\n",
       "      <td>2</td>\n",
       "      <td>1025</td>\n",
       "      <td>12</td>\n",
       "      <td>0</td>\n",
       "    </tr>\n",
       "    <tr>\n",
       "      <th>93</th>\n",
       "      <td>94</td>\n",
       "      <td>Desire Doue</td>\n",
       "      <td>Forward</td>\n",
       "      <td>19</td>\n",
       "      <td>France</td>\n",
       "      <td>Paris SG</td>\n",
       "      <td>Ligue 1</td>\n",
       "      <td>Final</td>\n",
       "      <td>S</td>\n",
       "      <td>60.0</td>\n",
       "      <td>...</td>\n",
       "      <td>20</td>\n",
       "      <td>5</td>\n",
       "      <td>9</td>\n",
       "      <td>0</td>\n",
       "      <td>0</td>\n",
       "      <td>0</td>\n",
       "      <td>1</td>\n",
       "      <td>742</td>\n",
       "      <td>16</td>\n",
       "      <td>1</td>\n",
       "    </tr>\n",
       "    <tr>\n",
       "      <th>171</th>\n",
       "      <td>172</td>\n",
       "      <td>Olise</td>\n",
       "      <td>Forward</td>\n",
       "      <td>23</td>\n",
       "      <td>France</td>\n",
       "      <td>Bayern Munich</td>\n",
       "      <td>Bundesliga</td>\n",
       "      <td>Quarter_finals</td>\n",
       "      <td>B</td>\n",
       "      <td>58.0</td>\n",
       "      <td>...</td>\n",
       "      <td>24</td>\n",
       "      <td>3</td>\n",
       "      <td>11</td>\n",
       "      <td>0</td>\n",
       "      <td>0</td>\n",
       "      <td>0</td>\n",
       "      <td>1</td>\n",
       "      <td>1033</td>\n",
       "      <td>14</td>\n",
       "      <td>0</td>\n",
       "    </tr>\n",
       "    <tr>\n",
       "      <th>142</th>\n",
       "      <td>143</td>\n",
       "      <td>Conceiçao</td>\n",
       "      <td>Forward</td>\n",
       "      <td>22</td>\n",
       "      <td>Portugal</td>\n",
       "      <td>Juventus</td>\n",
       "      <td>Serie A</td>\n",
       "      <td>Knockout_phase</td>\n",
       "      <td>D</td>\n",
       "      <td>36.0</td>\n",
       "      <td>...</td>\n",
       "      <td>11</td>\n",
       "      <td>4</td>\n",
       "      <td>6</td>\n",
       "      <td>0</td>\n",
       "      <td>0</td>\n",
       "      <td>0</td>\n",
       "      <td>1</td>\n",
       "      <td>606</td>\n",
       "      <td>9</td>\n",
       "      <td>1</td>\n",
       "    </tr>\n",
       "    <tr>\n",
       "      <th>19</th>\n",
       "      <td>20</td>\n",
       "      <td>Kylian Mbappe</td>\n",
       "      <td>Forward</td>\n",
       "      <td>25</td>\n",
       "      <td>France</td>\n",
       "      <td>Real Madrid</td>\n",
       "      <td>La Liga</td>\n",
       "      <td>Quarter_finals</td>\n",
       "      <td>B</td>\n",
       "      <td>180.0</td>\n",
       "      <td>...</td>\n",
       "      <td>9</td>\n",
       "      <td>3</td>\n",
       "      <td>3</td>\n",
       "      <td>0</td>\n",
       "      <td>0</td>\n",
       "      <td>0</td>\n",
       "      <td>1</td>\n",
       "      <td>1132</td>\n",
       "      <td>14</td>\n",
       "      <td>0</td>\n",
       "    </tr>\n",
       "    <tr>\n",
       "      <th>13</th>\n",
       "      <td>14</td>\n",
       "      <td>Johan Bakayoko</td>\n",
       "      <td>Forward</td>\n",
       "      <td>22</td>\n",
       "      <td>Belgium</td>\n",
       "      <td>PSV Eindhoven</td>\n",
       "      <td>Eredivisie</td>\n",
       "      <td>Round16</td>\n",
       "      <td>C</td>\n",
       "      <td>35.0</td>\n",
       "      <td>...</td>\n",
       "      <td>32</td>\n",
       "      <td>2</td>\n",
       "      <td>2</td>\n",
       "      <td>0</td>\n",
       "      <td>0</td>\n",
       "      <td>0</td>\n",
       "      <td>1</td>\n",
       "      <td>860</td>\n",
       "      <td>12</td>\n",
       "      <td>0</td>\n",
       "    </tr>\n",
       "    <tr>\n",
       "      <th>88</th>\n",
       "      <td>89</td>\n",
       "      <td>Bukayo Saka</td>\n",
       "      <td>Forward</td>\n",
       "      <td>23</td>\n",
       "      <td>England</td>\n",
       "      <td>Arsenal FC</td>\n",
       "      <td>Premier League</td>\n",
       "      <td>Semi_finals</td>\n",
       "      <td>A</td>\n",
       "      <td>150.0</td>\n",
       "      <td>...</td>\n",
       "      <td>10</td>\n",
       "      <td>2</td>\n",
       "      <td>7</td>\n",
       "      <td>0</td>\n",
       "      <td>0</td>\n",
       "      <td>0</td>\n",
       "      <td>2</td>\n",
       "      <td>763</td>\n",
       "      <td>9</td>\n",
       "      <td>5</td>\n",
       "    </tr>\n",
       "    <tr>\n",
       "      <th>181</th>\n",
       "      <td>182</td>\n",
       "      <td>Florian Wirtz</td>\n",
       "      <td>Midfielder</td>\n",
       "      <td>22</td>\n",
       "      <td>Germany</td>\n",
       "      <td>Bayer Leverkusen</td>\n",
       "      <td>Bundesliga</td>\n",
       "      <td>Round16</td>\n",
       "      <td>C</td>\n",
       "      <td>140.0</td>\n",
       "      <td>...</td>\n",
       "      <td>22</td>\n",
       "      <td>0</td>\n",
       "      <td>2</td>\n",
       "      <td>0</td>\n",
       "      <td>0</td>\n",
       "      <td>0</td>\n",
       "      <td>2</td>\n",
       "      <td>765</td>\n",
       "      <td>9</td>\n",
       "      <td>1</td>\n",
       "    </tr>\n",
       "    <tr>\n",
       "      <th>141</th>\n",
       "      <td>142</td>\n",
       "      <td>Balde</td>\n",
       "      <td>Defender</td>\n",
       "      <td>21</td>\n",
       "      <td>Spain</td>\n",
       "      <td>Barcelona</td>\n",
       "      <td>La Liga</td>\n",
       "      <td>Semi_finals</td>\n",
       "      <td>A</td>\n",
       "      <td>60.0</td>\n",
       "      <td>...</td>\n",
       "      <td>31</td>\n",
       "      <td>6</td>\n",
       "      <td>3</td>\n",
       "      <td>0</td>\n",
       "      <td>0</td>\n",
       "      <td>0</td>\n",
       "      <td>0</td>\n",
       "      <td>804</td>\n",
       "      <td>10</td>\n",
       "      <td>4</td>\n",
       "    </tr>\n",
       "    <tr>\n",
       "      <th>120</th>\n",
       "      <td>121</td>\n",
       "      <td>Savinho</td>\n",
       "      <td>Forward</td>\n",
       "      <td>21</td>\n",
       "      <td>Brazil</td>\n",
       "      <td>Manchester City</td>\n",
       "      <td>Premier League</td>\n",
       "      <td>Knockout_phase</td>\n",
       "      <td>D</td>\n",
       "      <td>55.0</td>\n",
       "      <td>...</td>\n",
       "      <td>10</td>\n",
       "      <td>3</td>\n",
       "      <td>2</td>\n",
       "      <td>0</td>\n",
       "      <td>0</td>\n",
       "      <td>0</td>\n",
       "      <td>0</td>\n",
       "      <td>578</td>\n",
       "      <td>9</td>\n",
       "      <td>1</td>\n",
       "    </tr>\n",
       "    <tr>\n",
       "      <th>12</th>\n",
       "      <td>13</td>\n",
       "      <td>Hakimi</td>\n",
       "      <td>Defender</td>\n",
       "      <td>26</td>\n",
       "      <td>Morocco</td>\n",
       "      <td>Paris SG</td>\n",
       "      <td>Ligue 1</td>\n",
       "      <td>Final</td>\n",
       "      <td>S</td>\n",
       "      <td>60.0</td>\n",
       "      <td>...</td>\n",
       "      <td>74</td>\n",
       "      <td>11</td>\n",
       "      <td>15</td>\n",
       "      <td>0</td>\n",
       "      <td>0</td>\n",
       "      <td>0</td>\n",
       "      <td>2</td>\n",
       "      <td>1540</td>\n",
       "      <td>17</td>\n",
       "      <td>0</td>\n",
       "    </tr>\n",
       "    <tr>\n",
       "      <th>27</th>\n",
       "      <td>28</td>\n",
       "      <td>Kvaratskhelia</td>\n",
       "      <td>Forward</td>\n",
       "      <td>24</td>\n",
       "      <td>Georgia</td>\n",
       "      <td>Paris SG</td>\n",
       "      <td>Ligue 1</td>\n",
       "      <td>Final</td>\n",
       "      <td>S</td>\n",
       "      <td>80.0</td>\n",
       "      <td>...</td>\n",
       "      <td>22</td>\n",
       "      <td>6</td>\n",
       "      <td>5</td>\n",
       "      <td>0</td>\n",
       "      <td>0</td>\n",
       "      <td>0</td>\n",
       "      <td>1</td>\n",
       "      <td>735</td>\n",
       "      <td>9</td>\n",
       "      <td>8</td>\n",
       "    </tr>\n",
       "    <tr>\n",
       "      <th>26</th>\n",
       "      <td>27</td>\n",
       "      <td>Kuhn</td>\n",
       "      <td>Forward</td>\n",
       "      <td>25</td>\n",
       "      <td>Germany</td>\n",
       "      <td>Celtic</td>\n",
       "      <td>Premiership</td>\n",
       "      <td>Knockout_phase</td>\n",
       "      <td>D</td>\n",
       "      <td>12.0</td>\n",
       "      <td>...</td>\n",
       "      <td>26</td>\n",
       "      <td>4</td>\n",
       "      <td>7</td>\n",
       "      <td>0</td>\n",
       "      <td>0</td>\n",
       "      <td>0</td>\n",
       "      <td>1</td>\n",
       "      <td>792</td>\n",
       "      <td>10</td>\n",
       "      <td>0</td>\n",
       "    </tr>\n",
       "  </tbody>\n",
       "</table>\n",
       "<p>20 rows × 30 columns</p>\n",
       "</div>"
      ]
     },
     "execution_count": 26,
     "metadata": {},
     "output_type": "execute_result"
    }
   ],
   "execution_count": 26
  },
  {
   "metadata": {
    "ExecuteTime": {
     "end_time": "2025-06-15T11:37:47.153833Z",
     "start_time": "2025-06-15T11:37:47.053855Z"
    }
   },
   "cell_type": "code",
   "source": [
    "fig = px.bar(\n",
    "    top_dribblers,\n",
    "    x='Player',\n",
    "    y='Dribbles',\n",
    "    color='Dribbles',\n",
    "    text='Dribbles',\n",
    "    hover_name='Team',\n",
    "    title='Top Dribblers Players in Champions League 2025 Season',\n",
    "\n",
    ")\n",
    "\n",
    "fig.update_traces(textposition='inside')\n",
    "fig.update_layout(xaxis_tickangle=-50, uniformtext_minsize=10)\n",
    "\n",
    "fig.show()"
   ],
   "id": "bdf135247694c46",
   "outputs": [
    {
     "data": {
      "application/vnd.plotly.v1+json": {
       "data": [
        {
         "hovertemplate": "<b>%{hovertext}</b><br><br>Player=%{x}<br>Dribbles=%{marker.color}<extra></extra>",
         "hovertext": [
          "Barcelona",
          "Real Madrid",
          "Milan",
          "Paris SG",
          "Bayern Munich",
          "BVB Dortmund",
          "Paris SG",
          "Aston Villa",
          "Paris SG",
          "Bayern Munich",
          "Juventus",
          "Real Madrid",
          "PSV Eindhoven",
          "Arsenal FC",
          "Bayer Leverkusen",
          "Barcelona",
          "Manchester City",
          "Paris SG",
          "Paris SG",
          "Celtic"
         ],
         "legendgroup": "",
         "marker": {
          "color": {
           "dtype": "i1",
           "bdata": "bVJAPj46OjY0MS8uKioqJiYlIyM="
          },
          "coloraxis": "coloraxis",
          "pattern": {
           "shape": ""
          }
         },
         "name": "",
         "orientation": "v",
         "showlegend": false,
         "text": {
          "dtype": "f8",
          "bdata": "AAAAAABAW0AAAAAAAIBUQAAAAAAAAFBAAAAAAAAAT0AAAAAAAABPQAAAAAAAAE1AAAAAAAAATUAAAAAAAABLQAAAAAAAAEpAAAAAAACASEAAAAAAAIBHQAAAAAAAAEdAAAAAAAAARUAAAAAAAABFQAAAAAAAAEVAAAAAAAAAQ0AAAAAAAABDQAAAAAAAgEJAAAAAAACAQUAAAAAAAIBBQA=="
         },
         "textposition": "inside",
         "x": [
          "Yamal",
          "Vinicius Jr",
          "Rafael Leao",
          "Dembele",
          "Jamal Musiala",
          "Gittens",
          "Barcola",
          "Rogers",
          "Desire Doue",
          "Olise",
          "Conceiçao",
          "Kylian Mbappe",
          "Johan Bakayoko",
          "Bukayo Saka",
          "Florian Wirtz",
          "Balde",
          "Savinho",
          "Hakimi",
          "Kvaratskhelia",
          "Kuhn"
         ],
         "xaxis": "x",
         "y": {
          "dtype": "i1",
          "bdata": "bVJAPj46OjY0MS8uKioqJiYlIyM="
         },
         "yaxis": "y",
         "type": "bar"
        }
       ],
       "layout": {
        "template": {
         "data": {
          "histogram2dcontour": [
           {
            "type": "histogram2dcontour",
            "colorbar": {
             "outlinewidth": 0,
             "ticks": ""
            },
            "colorscale": [
             [
              0.0,
              "#0d0887"
             ],
             [
              0.1111111111111111,
              "#46039f"
             ],
             [
              0.2222222222222222,
              "#7201a8"
             ],
             [
              0.3333333333333333,
              "#9c179e"
             ],
             [
              0.4444444444444444,
              "#bd3786"
             ],
             [
              0.5555555555555556,
              "#d8576b"
             ],
             [
              0.6666666666666666,
              "#ed7953"
             ],
             [
              0.7777777777777778,
              "#fb9f3a"
             ],
             [
              0.8888888888888888,
              "#fdca26"
             ],
             [
              1.0,
              "#f0f921"
             ]
            ]
           }
          ],
          "choropleth": [
           {
            "type": "choropleth",
            "colorbar": {
             "outlinewidth": 0,
             "ticks": ""
            }
           }
          ],
          "histogram2d": [
           {
            "type": "histogram2d",
            "colorbar": {
             "outlinewidth": 0,
             "ticks": ""
            },
            "colorscale": [
             [
              0.0,
              "#0d0887"
             ],
             [
              0.1111111111111111,
              "#46039f"
             ],
             [
              0.2222222222222222,
              "#7201a8"
             ],
             [
              0.3333333333333333,
              "#9c179e"
             ],
             [
              0.4444444444444444,
              "#bd3786"
             ],
             [
              0.5555555555555556,
              "#d8576b"
             ],
             [
              0.6666666666666666,
              "#ed7953"
             ],
             [
              0.7777777777777778,
              "#fb9f3a"
             ],
             [
              0.8888888888888888,
              "#fdca26"
             ],
             [
              1.0,
              "#f0f921"
             ]
            ]
           }
          ],
          "heatmap": [
           {
            "type": "heatmap",
            "colorbar": {
             "outlinewidth": 0,
             "ticks": ""
            },
            "colorscale": [
             [
              0.0,
              "#0d0887"
             ],
             [
              0.1111111111111111,
              "#46039f"
             ],
             [
              0.2222222222222222,
              "#7201a8"
             ],
             [
              0.3333333333333333,
              "#9c179e"
             ],
             [
              0.4444444444444444,
              "#bd3786"
             ],
             [
              0.5555555555555556,
              "#d8576b"
             ],
             [
              0.6666666666666666,
              "#ed7953"
             ],
             [
              0.7777777777777778,
              "#fb9f3a"
             ],
             [
              0.8888888888888888,
              "#fdca26"
             ],
             [
              1.0,
              "#f0f921"
             ]
            ]
           }
          ],
          "contourcarpet": [
           {
            "type": "contourcarpet",
            "colorbar": {
             "outlinewidth": 0,
             "ticks": ""
            }
           }
          ],
          "contour": [
           {
            "type": "contour",
            "colorbar": {
             "outlinewidth": 0,
             "ticks": ""
            },
            "colorscale": [
             [
              0.0,
              "#0d0887"
             ],
             [
              0.1111111111111111,
              "#46039f"
             ],
             [
              0.2222222222222222,
              "#7201a8"
             ],
             [
              0.3333333333333333,
              "#9c179e"
             ],
             [
              0.4444444444444444,
              "#bd3786"
             ],
             [
              0.5555555555555556,
              "#d8576b"
             ],
             [
              0.6666666666666666,
              "#ed7953"
             ],
             [
              0.7777777777777778,
              "#fb9f3a"
             ],
             [
              0.8888888888888888,
              "#fdca26"
             ],
             [
              1.0,
              "#f0f921"
             ]
            ]
           }
          ],
          "surface": [
           {
            "type": "surface",
            "colorbar": {
             "outlinewidth": 0,
             "ticks": ""
            },
            "colorscale": [
             [
              0.0,
              "#0d0887"
             ],
             [
              0.1111111111111111,
              "#46039f"
             ],
             [
              0.2222222222222222,
              "#7201a8"
             ],
             [
              0.3333333333333333,
              "#9c179e"
             ],
             [
              0.4444444444444444,
              "#bd3786"
             ],
             [
              0.5555555555555556,
              "#d8576b"
             ],
             [
              0.6666666666666666,
              "#ed7953"
             ],
             [
              0.7777777777777778,
              "#fb9f3a"
             ],
             [
              0.8888888888888888,
              "#fdca26"
             ],
             [
              1.0,
              "#f0f921"
             ]
            ]
           }
          ],
          "mesh3d": [
           {
            "type": "mesh3d",
            "colorbar": {
             "outlinewidth": 0,
             "ticks": ""
            }
           }
          ],
          "scatter": [
           {
            "fillpattern": {
             "fillmode": "overlay",
             "size": 10,
             "solidity": 0.2
            },
            "type": "scatter"
           }
          ],
          "parcoords": [
           {
            "type": "parcoords",
            "line": {
             "colorbar": {
              "outlinewidth": 0,
              "ticks": ""
             }
            }
           }
          ],
          "scatterpolargl": [
           {
            "type": "scatterpolargl",
            "marker": {
             "colorbar": {
              "outlinewidth": 0,
              "ticks": ""
             }
            }
           }
          ],
          "bar": [
           {
            "error_x": {
             "color": "#2a3f5f"
            },
            "error_y": {
             "color": "#2a3f5f"
            },
            "marker": {
             "line": {
              "color": "#E5ECF6",
              "width": 0.5
             },
             "pattern": {
              "fillmode": "overlay",
              "size": 10,
              "solidity": 0.2
             }
            },
            "type": "bar"
           }
          ],
          "scattergeo": [
           {
            "type": "scattergeo",
            "marker": {
             "colorbar": {
              "outlinewidth": 0,
              "ticks": ""
             }
            }
           }
          ],
          "scatterpolar": [
           {
            "type": "scatterpolar",
            "marker": {
             "colorbar": {
              "outlinewidth": 0,
              "ticks": ""
             }
            }
           }
          ],
          "histogram": [
           {
            "marker": {
             "pattern": {
              "fillmode": "overlay",
              "size": 10,
              "solidity": 0.2
             }
            },
            "type": "histogram"
           }
          ],
          "scattergl": [
           {
            "type": "scattergl",
            "marker": {
             "colorbar": {
              "outlinewidth": 0,
              "ticks": ""
             }
            }
           }
          ],
          "scatter3d": [
           {
            "type": "scatter3d",
            "line": {
             "colorbar": {
              "outlinewidth": 0,
              "ticks": ""
             }
            },
            "marker": {
             "colorbar": {
              "outlinewidth": 0,
              "ticks": ""
             }
            }
           }
          ],
          "scattermap": [
           {
            "type": "scattermap",
            "marker": {
             "colorbar": {
              "outlinewidth": 0,
              "ticks": ""
             }
            }
           }
          ],
          "scattermapbox": [
           {
            "type": "scattermapbox",
            "marker": {
             "colorbar": {
              "outlinewidth": 0,
              "ticks": ""
             }
            }
           }
          ],
          "scatterternary": [
           {
            "type": "scatterternary",
            "marker": {
             "colorbar": {
              "outlinewidth": 0,
              "ticks": ""
             }
            }
           }
          ],
          "scattercarpet": [
           {
            "type": "scattercarpet",
            "marker": {
             "colorbar": {
              "outlinewidth": 0,
              "ticks": ""
             }
            }
           }
          ],
          "carpet": [
           {
            "aaxis": {
             "endlinecolor": "#2a3f5f",
             "gridcolor": "white",
             "linecolor": "white",
             "minorgridcolor": "white",
             "startlinecolor": "#2a3f5f"
            },
            "baxis": {
             "endlinecolor": "#2a3f5f",
             "gridcolor": "white",
             "linecolor": "white",
             "minorgridcolor": "white",
             "startlinecolor": "#2a3f5f"
            },
            "type": "carpet"
           }
          ],
          "table": [
           {
            "cells": {
             "fill": {
              "color": "#EBF0F8"
             },
             "line": {
              "color": "white"
             }
            },
            "header": {
             "fill": {
              "color": "#C8D4E3"
             },
             "line": {
              "color": "white"
             }
            },
            "type": "table"
           }
          ],
          "barpolar": [
           {
            "marker": {
             "line": {
              "color": "#E5ECF6",
              "width": 0.5
             },
             "pattern": {
              "fillmode": "overlay",
              "size": 10,
              "solidity": 0.2
             }
            },
            "type": "barpolar"
           }
          ],
          "pie": [
           {
            "automargin": true,
            "type": "pie"
           }
          ]
         },
         "layout": {
          "autotypenumbers": "strict",
          "colorway": [
           "#636efa",
           "#EF553B",
           "#00cc96",
           "#ab63fa",
           "#FFA15A",
           "#19d3f3",
           "#FF6692",
           "#B6E880",
           "#FF97FF",
           "#FECB52"
          ],
          "font": {
           "color": "#2a3f5f"
          },
          "hovermode": "closest",
          "hoverlabel": {
           "align": "left"
          },
          "paper_bgcolor": "white",
          "plot_bgcolor": "#E5ECF6",
          "polar": {
           "bgcolor": "#E5ECF6",
           "angularaxis": {
            "gridcolor": "white",
            "linecolor": "white",
            "ticks": ""
           },
           "radialaxis": {
            "gridcolor": "white",
            "linecolor": "white",
            "ticks": ""
           }
          },
          "ternary": {
           "bgcolor": "#E5ECF6",
           "aaxis": {
            "gridcolor": "white",
            "linecolor": "white",
            "ticks": ""
           },
           "baxis": {
            "gridcolor": "white",
            "linecolor": "white",
            "ticks": ""
           },
           "caxis": {
            "gridcolor": "white",
            "linecolor": "white",
            "ticks": ""
           }
          },
          "coloraxis": {
           "colorbar": {
            "outlinewidth": 0,
            "ticks": ""
           }
          },
          "colorscale": {
           "sequential": [
            [
             0.0,
             "#0d0887"
            ],
            [
             0.1111111111111111,
             "#46039f"
            ],
            [
             0.2222222222222222,
             "#7201a8"
            ],
            [
             0.3333333333333333,
             "#9c179e"
            ],
            [
             0.4444444444444444,
             "#bd3786"
            ],
            [
             0.5555555555555556,
             "#d8576b"
            ],
            [
             0.6666666666666666,
             "#ed7953"
            ],
            [
             0.7777777777777778,
             "#fb9f3a"
            ],
            [
             0.8888888888888888,
             "#fdca26"
            ],
            [
             1.0,
             "#f0f921"
            ]
           ],
           "sequentialminus": [
            [
             0.0,
             "#0d0887"
            ],
            [
             0.1111111111111111,
             "#46039f"
            ],
            [
             0.2222222222222222,
             "#7201a8"
            ],
            [
             0.3333333333333333,
             "#9c179e"
            ],
            [
             0.4444444444444444,
             "#bd3786"
            ],
            [
             0.5555555555555556,
             "#d8576b"
            ],
            [
             0.6666666666666666,
             "#ed7953"
            ],
            [
             0.7777777777777778,
             "#fb9f3a"
            ],
            [
             0.8888888888888888,
             "#fdca26"
            ],
            [
             1.0,
             "#f0f921"
            ]
           ],
           "diverging": [
            [
             0,
             "#8e0152"
            ],
            [
             0.1,
             "#c51b7d"
            ],
            [
             0.2,
             "#de77ae"
            ],
            [
             0.3,
             "#f1b6da"
            ],
            [
             0.4,
             "#fde0ef"
            ],
            [
             0.5,
             "#f7f7f7"
            ],
            [
             0.6,
             "#e6f5d0"
            ],
            [
             0.7,
             "#b8e186"
            ],
            [
             0.8,
             "#7fbc41"
            ],
            [
             0.9,
             "#4d9221"
            ],
            [
             1,
             "#276419"
            ]
           ]
          },
          "xaxis": {
           "gridcolor": "white",
           "linecolor": "white",
           "ticks": "",
           "title": {
            "standoff": 15
           },
           "zerolinecolor": "white",
           "automargin": true,
           "zerolinewidth": 2
          },
          "yaxis": {
           "gridcolor": "white",
           "linecolor": "white",
           "ticks": "",
           "title": {
            "standoff": 15
           },
           "zerolinecolor": "white",
           "automargin": true,
           "zerolinewidth": 2
          },
          "scene": {
           "xaxis": {
            "backgroundcolor": "#E5ECF6",
            "gridcolor": "white",
            "linecolor": "white",
            "showbackground": true,
            "ticks": "",
            "zerolinecolor": "white",
            "gridwidth": 2
           },
           "yaxis": {
            "backgroundcolor": "#E5ECF6",
            "gridcolor": "white",
            "linecolor": "white",
            "showbackground": true,
            "ticks": "",
            "zerolinecolor": "white",
            "gridwidth": 2
           },
           "zaxis": {
            "backgroundcolor": "#E5ECF6",
            "gridcolor": "white",
            "linecolor": "white",
            "showbackground": true,
            "ticks": "",
            "zerolinecolor": "white",
            "gridwidth": 2
           }
          },
          "shapedefaults": {
           "line": {
            "color": "#2a3f5f"
           }
          },
          "annotationdefaults": {
           "arrowcolor": "#2a3f5f",
           "arrowhead": 0,
           "arrowwidth": 1
          },
          "geo": {
           "bgcolor": "white",
           "landcolor": "#E5ECF6",
           "subunitcolor": "white",
           "showland": true,
           "showlakes": true,
           "lakecolor": "white"
          },
          "title": {
           "x": 0.05
          },
          "mapbox": {
           "style": "light"
          }
         }
        },
        "xaxis": {
         "anchor": "y",
         "domain": [
          0.0,
          1.0
         ],
         "title": {
          "text": "Player"
         },
         "tickangle": -50
        },
        "yaxis": {
         "anchor": "x",
         "domain": [
          0.0,
          1.0
         ],
         "title": {
          "text": "Dribbles"
         }
        },
        "coloraxis": {
         "colorbar": {
          "title": {
           "text": "Dribbles"
          }
         },
         "colorscale": [
          [
           0.0,
           "#0d0887"
          ],
          [
           0.1111111111111111,
           "#46039f"
          ],
          [
           0.2222222222222222,
           "#7201a8"
          ],
          [
           0.3333333333333333,
           "#9c179e"
          ],
          [
           0.4444444444444444,
           "#bd3786"
          ],
          [
           0.5555555555555556,
           "#d8576b"
          ],
          [
           0.6666666666666666,
           "#ed7953"
          ],
          [
           0.7777777777777778,
           "#fb9f3a"
          ],
          [
           0.8888888888888888,
           "#fdca26"
          ],
          [
           1.0,
           "#f0f921"
          ]
         ]
        },
        "legend": {
         "tracegroupgap": 0
        },
        "title": {
         "text": "Top Dribblers Players in Champions League 2025 Season"
        },
        "barmode": "relative",
        "uniformtext": {
         "minsize": 10
        }
       },
       "config": {
        "plotlyServerURL": "https://plot.ly"
       }
      }
     },
     "metadata": {},
     "output_type": "display_data"
    }
   ],
   "execution_count": 27
  },
  {
   "metadata": {
    "ExecuteTime": {
     "end_time": "2025-06-15T11:37:47.268854Z",
     "start_time": "2025-06-15T11:37:47.247703Z"
    }
   },
   "cell_type": "code",
   "source": "ucl.info()",
   "id": "8a906e4b13da1c26",
   "outputs": [
    {
     "name": "stdout",
     "output_type": "stream",
     "text": [
      "<class 'pandas.core.frame.DataFrame'>\n",
      "RangeIndex: 210 entries, 0 to 209\n",
      "Data columns (total 30 columns):\n",
      " #   Column               Non-Null Count  Dtype  \n",
      "---  ------               --------------  -----  \n",
      " 0   PlayerID             210 non-null    int64  \n",
      " 1   Player               210 non-null    object \n",
      " 2   Position             210 non-null    object \n",
      " 3   Age                  210 non-null    int64  \n",
      " 4   Nationality          210 non-null    object \n",
      " 5   Team                 210 non-null    object \n",
      " 6   Competitions         210 non-null    object \n",
      " 7   Phase                210 non-null    object \n",
      " 8   Phase_Tier           210 non-null    object \n",
      " 9   Value10^6            210 non-null    float64\n",
      " 10  Jersey_Num           210 non-null    int64  \n",
      " 11  Rating               210 non-null    float64\n",
      " 12  Goals                210 non-null    int64  \n",
      " 13  Assists              210 non-null    int64  \n",
      " 14  TopSpeed(km/h)       210 non-null    float64\n",
      " 15  DistanceCovered(km)  210 non-null    float64\n",
      " 16  Total_attempts       210 non-null    int64  \n",
      " 17  Dribbles             210 non-null    int64  \n",
      " 18  Passes_completed     210 non-null    int64  \n",
      " 19  Chances_Created      210 non-null    int64  \n",
      " 20  Balls_recovered      210 non-null    int64  \n",
      " 21  Tackles_Won          210 non-null    int64  \n",
      " 22  Tackles_Lost         210 non-null    int64  \n",
      " 23  Saves                210 non-null    int64  \n",
      " 24  Goals_Conceded       210 non-null    int64  \n",
      " 25  Clean_Sheets         210 non-null    int64  \n",
      " 26  MOTM_Awards          210 non-null    int64  \n",
      " 27  Minutes_played       210 non-null    int64  \n",
      " 28  Match_played         210 non-null    int64  \n",
      " 29  DNP                  210 non-null    int64  \n",
      "dtypes: float64(4), int64(19), object(7)\n",
      "memory usage: 49.3+ KB\n"
     ]
    }
   ],
   "execution_count": 28
  },
  {
   "metadata": {
    "ExecuteTime": {
     "end_time": "2025-06-15T11:37:47.866868Z",
     "start_time": "2025-06-15T11:37:47.734456Z"
    }
   },
   "cell_type": "code",
   "source": [
    "fig_scatter = px.scatter(\n",
    "    ucl,\n",
    "    x=\"Goals\",\n",
    "    y=\"Assists\",\n",
    "    color=\"Position\",\n",
    "    title=\"Goals vs Assists by Player Position\",\n",
    "    labels={\"Goals\": \"Goals Scored\", \"Assists\": \"Assists Made\"},\n",
    "    hover_data=[\"Player\", \"Team\"]  # tregon emrin e lojtarit dhe skuadrën kur kalon me mouse\n",
    ")\n",
    "fig_scatter.show()"
   ],
   "id": "6615c88beaf561d6",
   "outputs": [
    {
     "data": {
      "application/vnd.plotly.v1+json": {
       "data": [
        {
         "customdata": [
          [
           "Theo Hernandez",
           "Milan"
          ],
          [
           "Van Dijk",
           "Liverpool FC"
          ],
          [
           "Otamendi",
           "Benfica"
          ],
          [
           "Johnston",
           "Celtic"
          ],
          [
           "Hakimi",
           "Paris SG"
          ],
          [
           "Frimpong",
           "Bayer Leverkusen"
          ],
          [
           "Rico Lewis",
           "Manchester City"
          ],
          [
           "Bensebaini",
           "BVB Dortmund"
          ],
          [
           "Federico Gatti",
           "Juventus"
          ],
          [
           "Dimarco",
           "Inter"
          ],
          [
           "Mauro Junior",
           "PSV Eindhoven"
          ],
          [
           "Raul Asencio",
           "Real Madrid"
          ],
          [
           "Kounde",
           "Barcelona"
          ],
          [
           "Ryan Flamingo",
           "PSV Eindhoven"
          ],
          [
           "Hincapie",
           "Bayer Leverkusen"
          ],
          [
           "Saliba",
           "Arsenal FC"
          ],
          [
           "Grimaldo",
           "Bayer Leverkusen"
          ],
          [
           "Ezri Konsa",
           "Aston Villa"
          ],
          [
           "Stefan de Vrij",
           "Inter"
          ],
          [
           "Jose Gimenez",
           "Atletico Madrid"
          ],
          [
           "Ryerson",
           "BVB Dortmund"
          ],
          [
           "Pavard",
           "Inter"
          ],
          [
           "Vanderson",
           "Monaco"
          ],
          [
           "Alphonso Davies",
           "Bayern Munich"
          ],
          [
           "Alexsandro Ribeiro",
           "Lille"
          ],
          [
           "Upamecano",
           "Bayern Munich"
          ],
          [
           "Alexander Bah",
           "Benfica"
          ],
          [
           "Inigo Martinez",
           "Barcelona"
          ],
          [
           "Maatsen",
           "Aston Villa"
          ],
          [
           "Jurrien Timber",
           "Arsenal FC"
          ],
          [
           "Manuel Akanji",
           "Manchester City"
          ],
          [
           "Schlotterbeck",
           "BVB Dortmund"
          ],
          [
           "Mukiele",
           "Bayer Leverkusen"
          ],
          [
           "De Cuyper",
           "Club Brugge"
          ],
          [
           "Sam Beukema",
           "Bologna"
          ],
          [
           "Kolasinac",
           "Atalanta BC"
          ],
          [
           "Youssouf Fofana",
           "Milan"
          ],
          [
           "Gabriel Magalhaes",
           "Arsenal FC"
          ],
          [
           "Gonçalo Inacio",
           "Sporting CP"
          ],
          [
           "Alvaro Carreras",
           "Benfica"
          ],
          [
           "Singo",
           "Monaco"
          ],
          [
           "Nuno Mendes",
           "Paris SG"
          ],
          [
           "Dumfries",
           "Inter"
          ],
          [
           "Minjae Kim",
           "Bayern Munich"
          ],
          [
           "Pacho",
           "Paris SG"
          ],
          [
           "Balde",
           "Barcelona"
          ],
          [
           "Francesco Acerbi",
           "Inter"
          ],
          [
           "Robertson",
           "Liverpool FC"
          ],
          [
           "Calafiori",
           "Arsenal FC"
          ],
          [
           "Marquinhos",
           "Paris SG"
          ],
          [
           "Bastoni",
           "Inter"
          ],
          [
           "Boscagli",
           "PSV Eindhoven"
          ],
          [
           "Waldemar Anton",
           "BVB Dortmund"
          ],
          [
           "Kossounou",
           "Atalanta BC"
          ],
          [
           "Marten de Roon",
           "Atalanta BC"
          ],
          [
           "Laimer",
           "Bayern Munich"
          ],
          [
           "Thomas Meunier",
           "Lille"
          ],
          [
           "Ibrahima Konate",
           "Liverpool FC"
          ],
          [
           "Kenny Lala",
           "Brest"
          ],
          [
           "Lucumi",
           "Bologna"
          ]
         ],
         "hovertemplate": "Position=Defender<br>Goals Scored=%{x}<br>Assists Made=%{y}<br>Player=%{customdata[0]}<br>Team=%{customdata[1]}<extra></extra>",
         "legendgroup": "Defender",
         "marker": {
          "color": "#636efa",
          "symbol": "circle"
         },
         "mode": "markers",
         "name": "Defender",
         "orientation": "v",
         "showlegend": true,
         "x": {
          "dtype": "i1",
          "bdata": "AAEBAAQAAAIAAAAAAAMBAAIBAAEAAQACAAABAgEBAAABAQABAAEBAAIEAgEAAAEAAQAAAAAAAAEAAQAB"
         },
         "xaxis": "x",
         "y": {
          "dtype": "i1",
          "bdata": "AAAAAQUFAQEBAgABAwEAAAIAAAAAAAEAAQECAQABAQEBAAECAgAAAgECAwAABAEBAQABAAACAAEBAAAA"
         },
         "yaxis": "y",
         "type": "scatter"
        },
        {
         "customdata": [
          [
           "Nicolo Barella",
           "Inter"
          ],
          [
           "Odegaard",
           "Arsenal FC"
          ],
          [
           "Hans Vanaken",
           "Club Brugge"
          ],
          [
           "Fabian Ruiz",
           "Paris SG"
          ],
          [
           "Joey Veerman",
           "PSV Eindhoven"
          ],
          [
           "Florentino",
           "Benfica"
          ],
          [
           "Szoboszlai",
           "Liverpool FC"
          ],
          [
           "John McGinn",
           "Aston Villa"
          ],
          [
           "Calhanoglu",
           "Inter"
          ],
          [
           "Tijjani Reijnders",
           "Milan"
          ],
          [
           "Aursnes",
           "Benfica"
          ],
          [
           "Charles Ketelaere",
           "Atalanta BC"
          ],
          [
           "Vitinha",
           "Paris SG"
          ],
          [
           "Pedri",
           "Barcelona"
          ],
          [
           "Otar Kiteishvili",
           "Sturm Graz"
          ],
          [
           "Leon Goretzka",
           "Bayern Munich"
          ],
          [
           "Modric",
           "Real Madrid"
          ],
          [
           "Felix Nmecha",
           "BVB Dortmund"
          ],
          [
           "Pascal Gross",
           "BVB Dortmund"
          ],
          [
           "Emre Can",
           "BVB Dortmund"
          ],
          [
           "Ederson",
           "Atalanta BC"
          ],
          [
           "Jacob Ramsey",
           "Aston Villa"
          ],
          [
           "Mkhitaryan",
           "Inter"
          ],
          [
           "Gundogan",
           "Manchester City"
          ],
          [
           "Mario Pasalic",
           "Atalanta BC"
          ],
          [
           "Benjamin Andre",
           "Lille"
          ],
          [
           "Orkun Kökcü",
           "Benfica"
          ],
          [
           "De Paul",
           "Atletico Madrid"
          ],
          [
           "Dani Olmo",
           "Barcelona"
          ],
          [
           "Zappacosta",
           "Atalanta BC"
          ],
          [
           "Reo Hatate",
           "Celtic"
          ],
          [
           "Lamine Camara",
           "Monaco"
          ],
          [
           "Ismael Saibari",
           "PSV Eindhoven"
          ],
          [
           "Tchouameni",
           "Real Madrid"
          ],
          [
           "Youri Tielemans",
           "Aston Villa"
          ],
          [
           "Mikel Merino",
           "Arsenal FC"
          ],
          [
           "Angelo Stiller",
           "VfB Stuttgart"
          ],
          [
           "Georgiy Sudakov",
           "Shakhtar Donetsk"
          ],
          [
           "Arne Engels",
           "Celtic"
          ],
          [
           "Casado",
           "Barcelona"
          ],
          [
           "Julian Brandt",
           "BVB Dortmund"
          ],
          [
           "Granit Xhaka",
           "Bayer Leverkusen"
          ],
          [
           "Tillman",
           "PSV Eindhoven"
          ],
          [
           "Callum McGregor",
           "Celtic"
          ],
          [
           "Hjulmand",
           "Sporting CP"
          ],
          [
           "Kimmich",
           "Bayern Munich"
          ],
          [
           "Partey",
           "Arsenal FC"
          ],
          [
           "Llorente",
           "Atletico Madrid"
          ],
          [
           "Mac Allister",
           "Liverpool FC"
          ],
          [
           "Joao Neves",
           "Paris SG"
          ],
          [
           "Declan Rice",
           "Arsenal FC"
          ],
          [
           "Fermin Lopez",
           "Barcelona"
          ],
          [
           "Florian Wirtz",
           "Bayer Leverkusen"
          ],
          [
           "Enzo Millot",
           "VfB Stuttgart"
          ],
          [
           "Baturina",
           "Dinamo Zagreb"
          ],
          [
           "Jashari",
           "Club Brugge"
          ],
          [
           "Rogers",
           "Aston Villa"
          ],
          [
           "Milambo",
           "Feyenoord"
          ],
          [
           "Matheus Nunes",
           "Manchester City"
          ],
          [
           "Valverde",
           "Real Madrid"
          ],
          [
           "Gravenberch",
           "Liverpool FC"
          ],
          [
           "Golovin",
           "Monaco"
          ],
          [
           "Quinten Timber",
           "Feyenoord"
          ],
          [
           "Cabella",
           "Lille"
          ],
          [
           "Locatelli",
           "Juventus"
          ],
          [
           "Palacios",
           "Bayer Leverkusen"
          ]
         ],
         "hovertemplate": "Position=Midfielder<br>Goals Scored=%{x}<br>Assists Made=%{y}<br>Player=%{customdata[0]}<br>Team=%{customdata[1]}<extra></extra>",
         "legendgroup": "Midfielder",
         "marker": {
          "color": "#EF553B",
          "symbol": "circle"
         },
         "mode": "markers",
         "name": "Midfielder",
         "orientation": "v",
         "showlegend": true,
         "x": {
          "dtype": "i1",
          "bdata": "AAMBAQAAAQMEAwAEAgABAQABAQIBAQACAwAEAAIAAQADAAICAQIBAAAAAwAAAAACAgEEAQYCAgAEAwEAAAAAAQAA"
         },
         "xaxis": "x",
         "y": {
          "dtype": "i1",
          "bdata": "AgEBBAMAAQICAAEFAgIAAQMBAwEAAgEAAQAAAQEFAgABAAMEAAEDAgUAAgAABgEEAAECBQEEAQADAQMDAAEBAQAA"
         },
         "yaxis": "y",
         "type": "scatter"
        },
        {
         "customdata": [
          [
           "Lewandowski",
           "Barcelona"
          ],
          [
           "Raphinha",
           "Barcelona"
          ],
          [
           "Jude Bellingham",
           "Real Madrid"
          ],
          [
           "Brahim Diaz",
           "Real Madrid"
          ],
          [
           "Lino",
           "Atletico Madrid"
          ],
          [
           "Johan Bakayoko",
           "PSV Eindhoven"
          ],
          [
           "Pulisic",
           "Milan"
          ],
          [
           "Yamal",
           "Barcelona"
          ],
          [
           "Kylian Mbappe",
           "Real Madrid"
          ],
          [
           "Kai Havertz",
           "Arsenal FC"
          ],
          [
           "Kuhn",
           "Celtic"
          ],
          [
           "Kvaratskhelia",
           "Paris SG"
          ],
          [
           "Martinelli",
           "Arsenal FC"
          ],
          [
           "Noa Lang",
           "PSV Eindhoven"
          ],
          [
           "Vinicius Jr",
           "Real Madrid"
          ],
          [
           "Julian Alvarez",
           "Atletico Madrid"
          ],
          [
           "Christos Tzolis",
           "Club Brugge"
          ],
          [
           "Taremi",
           "Inter"
          ],
          [
           "Griezmann",
           "Atletico Madrid"
          ],
          [
           "Santiago Gimenez",
           "Milan"
          ],
          [
           "Pavlidis",
           "Benfica"
          ],
          [
           "Phil Foden",
           "Manchester City"
          ],
          [
           "Lautaro Martinez",
           "Inter"
          ],
          [
           "Di Maria",
           "Benfica"
          ],
          [
           "Benjamin Sesko",
           "Leipzig"
          ],
          [
           "Minamino",
           "Monaco"
          ],
          [
           "Gakpo",
           "Liverpool FC"
          ],
          [
           "Dembele",
           "Paris SG"
          ],
          [
           "Embolo",
           "Monaco"
          ],
          [
           "Quenda",
           "Sporting CP"
          ],
          [
           "Barcola",
           "Paris SG"
          ],
          [
           "Trincao",
           "Sporting CP"
          ],
          [
           "Rafael Leao",
           "Milan"
          ],
          [
           "Bukayo Saka",
           "Arsenal FC"
          ],
          [
           "Kenan Yildiz",
           "Juventus"
          ],
          [
           "Desire Doue",
           "Paris SG"
          ],
          [
           "Adeyemi",
           "BVB Dortmund"
          ],
          [
           "Igor Paixao",
           "Feyenoord"
          ],
          [
           "Maghnes Akliouche",
           "Monaco"
          ],
          [
           "Savinho",
           "Manchester City"
          ],
          [
           "Giuliano Simeone",
           "Atletico Madrid"
          ],
          [
           "Akturkoglu",
           "Benfica"
          ],
          [
           "Salah",
           "Liverpool FC"
          ],
          [
           "Guirassy",
           "BVB Dortmund"
          ],
          [
           "Luuk de Jong",
           "PSV Eindhoven"
          ],
          [
           "Rodrygo",
           "Real Madrid"
          ],
          [
           "Conceiçao",
           "Juventus"
          ],
          [
           "Harry Kane",
           "Bayern Munich"
          ],
          [
           "Viktor Gyokeres",
           "Sporting CP"
          ],
          [
           "Thuram",
           "Inter"
          ],
          [
           "Lookman",
           "Atalanta BC"
          ],
          [
           "Jonathan David",
           "Lille"
          ],
          [
           "Ferran Torres",
           "Barcelona"
          ],
          [
           "Gittens",
           "BVB Dortmund"
          ],
          [
           "Marcus Rashford",
           "Aston Villa"
          ],
          [
           "Jamal Musiala",
           "Bayern Munich"
          ],
          [
           "Olise",
           "Bayern Munich"
          ],
          [
           "Thomas Muller",
           "Bayern Munich"
          ],
          [
           "Haaland",
           "Manchester City"
          ],
          [
           "Lucas Vazquez",
           "Real Madrid"
          ],
          [
           "Dan Ndoye",
           "Bologna"
          ],
          [
           "Luis Diaz",
           "Liverpool FC"
          ],
          [
           "Ivan Perisic",
           "PSV Eindhoven"
          ],
          [
           "Kevin",
           "Shakhtar Donetsk"
          ]
         ],
         "hovertemplate": "Position=Forward<br>Goals Scored=%{x}<br>Assists Made=%{y}<br>Player=%{customdata[0]}<br>Team=%{customdata[1]}<extra></extra>",
         "legendgroup": "Forward",
         "marker": {
          "color": "#00cc96",
          "symbol": "circle"
         },
         "mode": "markers",
         "name": "Forward",
         "orientation": "v",
         "showlegend": true,
         "x": {
          "dtype": "i1",
          "bdata": "Cw0DAgACBAUHBAMDAgIIBwEBBgYHAwkBBAMDCAEAAwADBgEFBQICAQEEAw0CBQELBgQFBwMEAAMFAwgBAAMDAg=="
         },
         "xaxis": "x",
         "y": {
          "dtype": "i1",
          "bdata": "AAkCAQMBAQMCAQECAgIDAQMEAwEDAQACAAEBBgMABAECAgEFAQQCAQIBBAQCAgICAAECAgEAAgQBAQABAAAAAA=="
         },
         "yaxis": "y",
         "type": "scatter"
        },
        {
         "customdata": [
          [
           "Marco Bizot",
           "Brest"
          ],
          [
           "Chevalier",
           "Lille"
          ],
          [
           "Courtois",
           "Real Madrid"
          ],
          [
           "Mike Maignan",
           "Milan"
          ],
          [
           "Alisson Becker",
           "Liverpool FC"
          ],
          [
           "David Raya",
           "Arsenal FC"
          ],
          [
           "Carnesecchi",
           "Atalanta BC"
          ],
          [
           "Wellenreuther ",
           "Feyenoord"
          ],
          [
           "Donnarumma",
           "Paris SG"
          ],
          [
           "Yann Sommer",
           "Inter"
          ],
          [
           "Di Gregorio",
           "Juventus"
          ],
          [
           "Jan Oblak",
           "Atletico Madrid"
          ],
          [
           "Riznyk",
           "Shakhtar Donetsk"
          ],
          [
           "Emiliano Martinez",
           "Aston Villa"
          ],
          [
           "Szczesny",
           "Barcelona"
          ],
          [
           "Mignolet",
           "Club Brugge"
          ],
          [
           "Franco Israel",
           "Sporting CP"
          ],
          [
           "Skorupski",
           "Bologna"
          ],
          [
           "Schmeichel",
           "Celtic"
          ],
          [
           "Gazzaniga",
           "Girona"
          ]
         ],
         "hovertemplate": "Position=Goalkeeper<br>Goals Scored=%{x}<br>Assists Made=%{y}<br>Player=%{customdata[0]}<br>Team=%{customdata[1]}<extra></extra>",
         "legendgroup": "Goalkeeper",
         "marker": {
          "color": "#ab63fa",
          "symbol": "circle"
         },
         "mode": "markers",
         "name": "Goalkeeper",
         "orientation": "v",
         "showlegend": true,
         "x": {
          "dtype": "i1",
          "bdata": "AAAAAAAAAAAAAAAAAAAAAAAAAAA="
         },
         "xaxis": "x",
         "y": {
          "dtype": "i1",
          "bdata": "AAAAAAAAAAAAAAAAAAAAAAAAAAA="
         },
         "yaxis": "y",
         "type": "scatter"
        }
       ],
       "layout": {
        "template": {
         "data": {
          "histogram2dcontour": [
           {
            "type": "histogram2dcontour",
            "colorbar": {
             "outlinewidth": 0,
             "ticks": ""
            },
            "colorscale": [
             [
              0.0,
              "#0d0887"
             ],
             [
              0.1111111111111111,
              "#46039f"
             ],
             [
              0.2222222222222222,
              "#7201a8"
             ],
             [
              0.3333333333333333,
              "#9c179e"
             ],
             [
              0.4444444444444444,
              "#bd3786"
             ],
             [
              0.5555555555555556,
              "#d8576b"
             ],
             [
              0.6666666666666666,
              "#ed7953"
             ],
             [
              0.7777777777777778,
              "#fb9f3a"
             ],
             [
              0.8888888888888888,
              "#fdca26"
             ],
             [
              1.0,
              "#f0f921"
             ]
            ]
           }
          ],
          "choropleth": [
           {
            "type": "choropleth",
            "colorbar": {
             "outlinewidth": 0,
             "ticks": ""
            }
           }
          ],
          "histogram2d": [
           {
            "type": "histogram2d",
            "colorbar": {
             "outlinewidth": 0,
             "ticks": ""
            },
            "colorscale": [
             [
              0.0,
              "#0d0887"
             ],
             [
              0.1111111111111111,
              "#46039f"
             ],
             [
              0.2222222222222222,
              "#7201a8"
             ],
             [
              0.3333333333333333,
              "#9c179e"
             ],
             [
              0.4444444444444444,
              "#bd3786"
             ],
             [
              0.5555555555555556,
              "#d8576b"
             ],
             [
              0.6666666666666666,
              "#ed7953"
             ],
             [
              0.7777777777777778,
              "#fb9f3a"
             ],
             [
              0.8888888888888888,
              "#fdca26"
             ],
             [
              1.0,
              "#f0f921"
             ]
            ]
           }
          ],
          "heatmap": [
           {
            "type": "heatmap",
            "colorbar": {
             "outlinewidth": 0,
             "ticks": ""
            },
            "colorscale": [
             [
              0.0,
              "#0d0887"
             ],
             [
              0.1111111111111111,
              "#46039f"
             ],
             [
              0.2222222222222222,
              "#7201a8"
             ],
             [
              0.3333333333333333,
              "#9c179e"
             ],
             [
              0.4444444444444444,
              "#bd3786"
             ],
             [
              0.5555555555555556,
              "#d8576b"
             ],
             [
              0.6666666666666666,
              "#ed7953"
             ],
             [
              0.7777777777777778,
              "#fb9f3a"
             ],
             [
              0.8888888888888888,
              "#fdca26"
             ],
             [
              1.0,
              "#f0f921"
             ]
            ]
           }
          ],
          "contourcarpet": [
           {
            "type": "contourcarpet",
            "colorbar": {
             "outlinewidth": 0,
             "ticks": ""
            }
           }
          ],
          "contour": [
           {
            "type": "contour",
            "colorbar": {
             "outlinewidth": 0,
             "ticks": ""
            },
            "colorscale": [
             [
              0.0,
              "#0d0887"
             ],
             [
              0.1111111111111111,
              "#46039f"
             ],
             [
              0.2222222222222222,
              "#7201a8"
             ],
             [
              0.3333333333333333,
              "#9c179e"
             ],
             [
              0.4444444444444444,
              "#bd3786"
             ],
             [
              0.5555555555555556,
              "#d8576b"
             ],
             [
              0.6666666666666666,
              "#ed7953"
             ],
             [
              0.7777777777777778,
              "#fb9f3a"
             ],
             [
              0.8888888888888888,
              "#fdca26"
             ],
             [
              1.0,
              "#f0f921"
             ]
            ]
           }
          ],
          "surface": [
           {
            "type": "surface",
            "colorbar": {
             "outlinewidth": 0,
             "ticks": ""
            },
            "colorscale": [
             [
              0.0,
              "#0d0887"
             ],
             [
              0.1111111111111111,
              "#46039f"
             ],
             [
              0.2222222222222222,
              "#7201a8"
             ],
             [
              0.3333333333333333,
              "#9c179e"
             ],
             [
              0.4444444444444444,
              "#bd3786"
             ],
             [
              0.5555555555555556,
              "#d8576b"
             ],
             [
              0.6666666666666666,
              "#ed7953"
             ],
             [
              0.7777777777777778,
              "#fb9f3a"
             ],
             [
              0.8888888888888888,
              "#fdca26"
             ],
             [
              1.0,
              "#f0f921"
             ]
            ]
           }
          ],
          "mesh3d": [
           {
            "type": "mesh3d",
            "colorbar": {
             "outlinewidth": 0,
             "ticks": ""
            }
           }
          ],
          "scatter": [
           {
            "fillpattern": {
             "fillmode": "overlay",
             "size": 10,
             "solidity": 0.2
            },
            "type": "scatter"
           }
          ],
          "parcoords": [
           {
            "type": "parcoords",
            "line": {
             "colorbar": {
              "outlinewidth": 0,
              "ticks": ""
             }
            }
           }
          ],
          "scatterpolargl": [
           {
            "type": "scatterpolargl",
            "marker": {
             "colorbar": {
              "outlinewidth": 0,
              "ticks": ""
             }
            }
           }
          ],
          "bar": [
           {
            "error_x": {
             "color": "#2a3f5f"
            },
            "error_y": {
             "color": "#2a3f5f"
            },
            "marker": {
             "line": {
              "color": "#E5ECF6",
              "width": 0.5
             },
             "pattern": {
              "fillmode": "overlay",
              "size": 10,
              "solidity": 0.2
             }
            },
            "type": "bar"
           }
          ],
          "scattergeo": [
           {
            "type": "scattergeo",
            "marker": {
             "colorbar": {
              "outlinewidth": 0,
              "ticks": ""
             }
            }
           }
          ],
          "scatterpolar": [
           {
            "type": "scatterpolar",
            "marker": {
             "colorbar": {
              "outlinewidth": 0,
              "ticks": ""
             }
            }
           }
          ],
          "histogram": [
           {
            "marker": {
             "pattern": {
              "fillmode": "overlay",
              "size": 10,
              "solidity": 0.2
             }
            },
            "type": "histogram"
           }
          ],
          "scattergl": [
           {
            "type": "scattergl",
            "marker": {
             "colorbar": {
              "outlinewidth": 0,
              "ticks": ""
             }
            }
           }
          ],
          "scatter3d": [
           {
            "type": "scatter3d",
            "line": {
             "colorbar": {
              "outlinewidth": 0,
              "ticks": ""
             }
            },
            "marker": {
             "colorbar": {
              "outlinewidth": 0,
              "ticks": ""
             }
            }
           }
          ],
          "scattermap": [
           {
            "type": "scattermap",
            "marker": {
             "colorbar": {
              "outlinewidth": 0,
              "ticks": ""
             }
            }
           }
          ],
          "scattermapbox": [
           {
            "type": "scattermapbox",
            "marker": {
             "colorbar": {
              "outlinewidth": 0,
              "ticks": ""
             }
            }
           }
          ],
          "scatterternary": [
           {
            "type": "scatterternary",
            "marker": {
             "colorbar": {
              "outlinewidth": 0,
              "ticks": ""
             }
            }
           }
          ],
          "scattercarpet": [
           {
            "type": "scattercarpet",
            "marker": {
             "colorbar": {
              "outlinewidth": 0,
              "ticks": ""
             }
            }
           }
          ],
          "carpet": [
           {
            "aaxis": {
             "endlinecolor": "#2a3f5f",
             "gridcolor": "white",
             "linecolor": "white",
             "minorgridcolor": "white",
             "startlinecolor": "#2a3f5f"
            },
            "baxis": {
             "endlinecolor": "#2a3f5f",
             "gridcolor": "white",
             "linecolor": "white",
             "minorgridcolor": "white",
             "startlinecolor": "#2a3f5f"
            },
            "type": "carpet"
           }
          ],
          "table": [
           {
            "cells": {
             "fill": {
              "color": "#EBF0F8"
             },
             "line": {
              "color": "white"
             }
            },
            "header": {
             "fill": {
              "color": "#C8D4E3"
             },
             "line": {
              "color": "white"
             }
            },
            "type": "table"
           }
          ],
          "barpolar": [
           {
            "marker": {
             "line": {
              "color": "#E5ECF6",
              "width": 0.5
             },
             "pattern": {
              "fillmode": "overlay",
              "size": 10,
              "solidity": 0.2
             }
            },
            "type": "barpolar"
           }
          ],
          "pie": [
           {
            "automargin": true,
            "type": "pie"
           }
          ]
         },
         "layout": {
          "autotypenumbers": "strict",
          "colorway": [
           "#636efa",
           "#EF553B",
           "#00cc96",
           "#ab63fa",
           "#FFA15A",
           "#19d3f3",
           "#FF6692",
           "#B6E880",
           "#FF97FF",
           "#FECB52"
          ],
          "font": {
           "color": "#2a3f5f"
          },
          "hovermode": "closest",
          "hoverlabel": {
           "align": "left"
          },
          "paper_bgcolor": "white",
          "plot_bgcolor": "#E5ECF6",
          "polar": {
           "bgcolor": "#E5ECF6",
           "angularaxis": {
            "gridcolor": "white",
            "linecolor": "white",
            "ticks": ""
           },
           "radialaxis": {
            "gridcolor": "white",
            "linecolor": "white",
            "ticks": ""
           }
          },
          "ternary": {
           "bgcolor": "#E5ECF6",
           "aaxis": {
            "gridcolor": "white",
            "linecolor": "white",
            "ticks": ""
           },
           "baxis": {
            "gridcolor": "white",
            "linecolor": "white",
            "ticks": ""
           },
           "caxis": {
            "gridcolor": "white",
            "linecolor": "white",
            "ticks": ""
           }
          },
          "coloraxis": {
           "colorbar": {
            "outlinewidth": 0,
            "ticks": ""
           }
          },
          "colorscale": {
           "sequential": [
            [
             0.0,
             "#0d0887"
            ],
            [
             0.1111111111111111,
             "#46039f"
            ],
            [
             0.2222222222222222,
             "#7201a8"
            ],
            [
             0.3333333333333333,
             "#9c179e"
            ],
            [
             0.4444444444444444,
             "#bd3786"
            ],
            [
             0.5555555555555556,
             "#d8576b"
            ],
            [
             0.6666666666666666,
             "#ed7953"
            ],
            [
             0.7777777777777778,
             "#fb9f3a"
            ],
            [
             0.8888888888888888,
             "#fdca26"
            ],
            [
             1.0,
             "#f0f921"
            ]
           ],
           "sequentialminus": [
            [
             0.0,
             "#0d0887"
            ],
            [
             0.1111111111111111,
             "#46039f"
            ],
            [
             0.2222222222222222,
             "#7201a8"
            ],
            [
             0.3333333333333333,
             "#9c179e"
            ],
            [
             0.4444444444444444,
             "#bd3786"
            ],
            [
             0.5555555555555556,
             "#d8576b"
            ],
            [
             0.6666666666666666,
             "#ed7953"
            ],
            [
             0.7777777777777778,
             "#fb9f3a"
            ],
            [
             0.8888888888888888,
             "#fdca26"
            ],
            [
             1.0,
             "#f0f921"
            ]
           ],
           "diverging": [
            [
             0,
             "#8e0152"
            ],
            [
             0.1,
             "#c51b7d"
            ],
            [
             0.2,
             "#de77ae"
            ],
            [
             0.3,
             "#f1b6da"
            ],
            [
             0.4,
             "#fde0ef"
            ],
            [
             0.5,
             "#f7f7f7"
            ],
            [
             0.6,
             "#e6f5d0"
            ],
            [
             0.7,
             "#b8e186"
            ],
            [
             0.8,
             "#7fbc41"
            ],
            [
             0.9,
             "#4d9221"
            ],
            [
             1,
             "#276419"
            ]
           ]
          },
          "xaxis": {
           "gridcolor": "white",
           "linecolor": "white",
           "ticks": "",
           "title": {
            "standoff": 15
           },
           "zerolinecolor": "white",
           "automargin": true,
           "zerolinewidth": 2
          },
          "yaxis": {
           "gridcolor": "white",
           "linecolor": "white",
           "ticks": "",
           "title": {
            "standoff": 15
           },
           "zerolinecolor": "white",
           "automargin": true,
           "zerolinewidth": 2
          },
          "scene": {
           "xaxis": {
            "backgroundcolor": "#E5ECF6",
            "gridcolor": "white",
            "linecolor": "white",
            "showbackground": true,
            "ticks": "",
            "zerolinecolor": "white",
            "gridwidth": 2
           },
           "yaxis": {
            "backgroundcolor": "#E5ECF6",
            "gridcolor": "white",
            "linecolor": "white",
            "showbackground": true,
            "ticks": "",
            "zerolinecolor": "white",
            "gridwidth": 2
           },
           "zaxis": {
            "backgroundcolor": "#E5ECF6",
            "gridcolor": "white",
            "linecolor": "white",
            "showbackground": true,
            "ticks": "",
            "zerolinecolor": "white",
            "gridwidth": 2
           }
          },
          "shapedefaults": {
           "line": {
            "color": "#2a3f5f"
           }
          },
          "annotationdefaults": {
           "arrowcolor": "#2a3f5f",
           "arrowhead": 0,
           "arrowwidth": 1
          },
          "geo": {
           "bgcolor": "white",
           "landcolor": "#E5ECF6",
           "subunitcolor": "white",
           "showland": true,
           "showlakes": true,
           "lakecolor": "white"
          },
          "title": {
           "x": 0.05
          },
          "mapbox": {
           "style": "light"
          }
         }
        },
        "xaxis": {
         "anchor": "y",
         "domain": [
          0.0,
          1.0
         ],
         "title": {
          "text": "Goals Scored"
         }
        },
        "yaxis": {
         "anchor": "x",
         "domain": [
          0.0,
          1.0
         ],
         "title": {
          "text": "Assists Made"
         }
        },
        "legend": {
         "title": {
          "text": "Position"
         },
         "tracegroupgap": 0
        },
        "title": {
         "text": "Goals vs Assists by Player Position"
        }
       },
       "config": {
        "plotlyServerURL": "https://plot.ly"
       }
      }
     },
     "metadata": {},
     "output_type": "display_data"
    }
   ],
   "execution_count": 29
  },
  {
   "metadata": {
    "ExecuteTime": {
     "end_time": "2025-06-15T11:37:47.921690Z",
     "start_time": "2025-06-15T11:37:47.913907Z"
    }
   },
   "cell_type": "code",
   "source": "top_motm = ucl[['Player', 'Team', 'MOTM_Awards']].sort_values(by='MOTM_Awards', ascending=False).head(10)",
   "id": "8d60d7c68f73856c",
   "outputs": [],
   "execution_count": 30
  },
  {
   "metadata": {
    "ExecuteTime": {
     "end_time": "2025-06-15T11:37:47.992088Z",
     "start_time": "2025-06-15T11:37:47.976876Z"
    }
   },
   "cell_type": "code",
   "source": "top_motm",
   "id": "93ffbbd5a14f8035",
   "outputs": [
    {
     "data": {
      "text/plain": [
       "               Player             Team  MOTM_Awards\n",
       "60   Lautaro Martinez            Inter            4\n",
       "3            Raphinha        Barcelona            3\n",
       "47          Griezmann  Atletico Madrid            3\n",
       "37        Vinicius Jr      Real Madrid            3\n",
       "41     Julian Alvarez  Atletico Madrid            3\n",
       "55            Vitinha         Paris SG            3\n",
       "144        Harry Kane    Bayern Munich            3\n",
       "134          Guirassy     BVB Dortmund            3\n",
       "84        Rafael Leao            Milan            3\n",
       "12             Hakimi         Paris SG            2"
      ],
      "text/html": [
       "<div>\n",
       "<style scoped>\n",
       "    .dataframe tbody tr th:only-of-type {\n",
       "        vertical-align: middle;\n",
       "    }\n",
       "\n",
       "    .dataframe tbody tr th {\n",
       "        vertical-align: top;\n",
       "    }\n",
       "\n",
       "    .dataframe thead th {\n",
       "        text-align: right;\n",
       "    }\n",
       "</style>\n",
       "<table border=\"1\" class=\"dataframe\">\n",
       "  <thead>\n",
       "    <tr style=\"text-align: right;\">\n",
       "      <th></th>\n",
       "      <th>Player</th>\n",
       "      <th>Team</th>\n",
       "      <th>MOTM_Awards</th>\n",
       "    </tr>\n",
       "  </thead>\n",
       "  <tbody>\n",
       "    <tr>\n",
       "      <th>60</th>\n",
       "      <td>Lautaro Martinez</td>\n",
       "      <td>Inter</td>\n",
       "      <td>4</td>\n",
       "    </tr>\n",
       "    <tr>\n",
       "      <th>3</th>\n",
       "      <td>Raphinha</td>\n",
       "      <td>Barcelona</td>\n",
       "      <td>3</td>\n",
       "    </tr>\n",
       "    <tr>\n",
       "      <th>47</th>\n",
       "      <td>Griezmann</td>\n",
       "      <td>Atletico Madrid</td>\n",
       "      <td>3</td>\n",
       "    </tr>\n",
       "    <tr>\n",
       "      <th>37</th>\n",
       "      <td>Vinicius Jr</td>\n",
       "      <td>Real Madrid</td>\n",
       "      <td>3</td>\n",
       "    </tr>\n",
       "    <tr>\n",
       "      <th>41</th>\n",
       "      <td>Julian Alvarez</td>\n",
       "      <td>Atletico Madrid</td>\n",
       "      <td>3</td>\n",
       "    </tr>\n",
       "    <tr>\n",
       "      <th>55</th>\n",
       "      <td>Vitinha</td>\n",
       "      <td>Paris SG</td>\n",
       "      <td>3</td>\n",
       "    </tr>\n",
       "    <tr>\n",
       "      <th>144</th>\n",
       "      <td>Harry Kane</td>\n",
       "      <td>Bayern Munich</td>\n",
       "      <td>3</td>\n",
       "    </tr>\n",
       "    <tr>\n",
       "      <th>134</th>\n",
       "      <td>Guirassy</td>\n",
       "      <td>BVB Dortmund</td>\n",
       "      <td>3</td>\n",
       "    </tr>\n",
       "    <tr>\n",
       "      <th>84</th>\n",
       "      <td>Rafael Leao</td>\n",
       "      <td>Milan</td>\n",
       "      <td>3</td>\n",
       "    </tr>\n",
       "    <tr>\n",
       "      <th>12</th>\n",
       "      <td>Hakimi</td>\n",
       "      <td>Paris SG</td>\n",
       "      <td>2</td>\n",
       "    </tr>\n",
       "  </tbody>\n",
       "</table>\n",
       "</div>"
      ]
     },
     "execution_count": 31,
     "metadata": {},
     "output_type": "execute_result"
    }
   ],
   "execution_count": 31
  },
  {
   "metadata": {},
   "cell_type": "markdown",
   "source": "#### Performanca sipas fazave të Champions League  Mesatare e Rating në çdo fazë",
   "id": "1231b0bff65d3c16"
  },
  {
   "metadata": {
    "ExecuteTime": {
     "end_time": "2025-06-15T11:37:48.090575Z",
     "start_time": "2025-06-15T11:37:48.074957Z"
    }
   },
   "cell_type": "code",
   "source": "ucl.groupby('Phase')['Rating'].mean().sort_values(ascending=False)",
   "id": "62cb55d37398c07c",
   "outputs": [
    {
     "data": {
      "text/plain": [
       "Phase\n",
       "Quarter_finals     7.487500\n",
       "Final              7.322800\n",
       "Semi_finals        7.312778\n",
       "Round16            7.238103\n",
       "Semi_finals        7.206667\n",
       "Knockout_phase     7.164600\n",
       "Quarter_finals     7.157857\n",
       "League_phase       7.123846\n",
       "Name: Rating, dtype: float64"
      ]
     },
     "execution_count": 32,
     "metadata": {},
     "output_type": "execute_result"
    }
   ],
   "execution_count": 32
  },
  {
   "metadata": {
    "ExecuteTime": {
     "end_time": "2025-06-15T11:37:48.392620Z",
     "start_time": "2025-06-15T11:37:48.274676Z"
    }
   },
   "cell_type": "code",
   "source": "sns.boxplot(x='Position', y='DistanceCovered(km)', data=ucl)",
   "id": "c42672e5c3227954",
   "outputs": [
    {
     "data": {
      "text/plain": [
       "<Axes: xlabel='Position', ylabel='DistanceCovered(km)'>"
      ]
     },
     "execution_count": 33,
     "metadata": {},
     "output_type": "execute_result"
    },
    {
     "data": {
      "text/plain": [
       "<Figure size 640x480 with 1 Axes>"
      ],
      "image/png": "[encoded data removed]"
     },
     "metadata": {},
     "output_type": "display_data"
    }
   ],
   "execution_count": 33
  },
  {
   "metadata": {
    "ExecuteTime": {
     "end_time": "2025-06-15T11:37:48.745972Z",
     "start_time": "2025-06-15T11:37:48.619452Z"
    }
   },
   "cell_type": "code",
   "source": [
    "fig = px.box(ucl, x='Position', y='DistanceCovered(km)', title='Boxplot of Distance Covered by Position',color='Position')\n",
    "fig.show()"
   ],
   "id": "35dec166d40fd3a9",
   "outputs": [
    {
     "data": {
      "application/vnd.plotly.v1+json": {
       "data": [
        {
         "alignmentgroup": "True",
         "hovertemplate": "Position=%{x}<br>DistanceCovered(km)=%{y}<extra></extra>",
         "legendgroup": "Defender",
         "marker": {
          "color": "#636efa"
         },
         "name": "Defender",
         "notched": false,
         "offsetgroup": "Defender",
         "orientation": "v",
         "showlegend": true,
         "x": [
          "Defender",
          "Defender",
          "Defender",
          "Defender",
          "Defender",
          "Defender",
          "Defender",
          "Defender",
          "Defender",
          "Defender",
          "Defender",
          "Defender",
          "Defender",
          "Defender",
          "Defender",
          "Defender",
          "Defender",
          "Defender",
          "Defender",
          "Defender",
          "Defender",
          "Defender",
          "Defender",
          "Defender",
          "Defender",
          "Defender",
          "Defender",
          "Defender",
          "Defender",
          "Defender",
          "Defender",
          "Defender",
          "Defender",
          "Defender",
          "Defender",
          "Defender",
          "Defender",
          "Defender",
          "Defender",
          "Defender",
          "Defender",
          "Defender",
          "Defender",
          "Defender",
          "Defender",
          "Defender",
          "Defender",
          "Defender",
          "Defender",
          "Defender",
          "Defender",
          "Defender",
          "Defender",
          "Defender",
          "Defender",
          "Defender",
          "Defender",
          "Defender",
          "Defender",
          "Defender"
         ],
         "x0": " ",
         "xaxis": "x",
         "y": {
          "dtype": "f8",
          "bdata": "MzMzMzPzWEAAAAAAAOBVQDMzMzMzM11AMzMzMzMTWUCamZmZmRlmQAAAAAAAYFZAAAAAAACgU0BmZmZmZuZPQAAAAAAAYFRAZmZmZmZmQUBmZmZmZqZWQAAAAAAAYFNAzczMzMxMXEAzMzMzMxNXQDMzMzMzk1dAZmZmZmaGW0CamZmZmflbQAAAAAAAAFtAMzMzMzPzRkDNzMzMzOxUQJqZmZmZeVhAZmZmZmamUUBmZmZmZoZUQGZmZmZmxlVAAAAAAABAV0AzMzMzMzMpQAAAAAAAIFBAzczMzMxsWUBmZmZmZqZHQJqZmZmZGVdAZmZmZmYGUkAAAAAAAABcQAAAAAAAwERAmpmZmZl5YEDNzMzMzCxTQM3MzMzM7FJAzczMzMyMWEDNzMzMzKxWQGZmZmZmZkpAAAAAAAAAW0DNzMzMzMxKQM3MzMzMLGJAzczMzMzMUkAzMzMzM7NfQGZmZmZm5mNAzczMzMyMVUAAAAAAACBTQDMzMzMzk1BAAAAAAACAS0AzMzMzM8NjQAAAAAAAYFVAmpmZmZl5V0DNzMzMzExFQM3MzMzMTEBAAAAAAAAAXEAzMzMzMzNYQJqZmZmZ+VFAAAAAAABgUUDNzMzMzAxWQM3MzMzMDExA"
         },
         "y0": " ",
         "yaxis": "y",
         "type": "box"
        },
        {
         "alignmentgroup": "True",
         "hovertemplate": "Position=%{x}<br>DistanceCovered(km)=%{y}<extra></extra>",
         "legendgroup": "Midfielder",
         "marker": {
          "color": "#EF553B"
         },
         "name": "Midfielder",
         "notched": false,
         "offsetgroup": "Midfielder",
         "orientation": "v",
         "showlegend": true,
         "x": [
          "Midfielder",
          "Midfielder",
          "Midfielder",
          "Midfielder",
          "Midfielder",
          "Midfielder",
          "Midfielder",
          "Midfielder",
          "Midfielder",
          "Midfielder",
          "Midfielder",
          "Midfielder",
          "Midfielder",
          "Midfielder",
          "Midfielder",
          "Midfielder",
          "Midfielder",
          "Midfielder",
          "Midfielder",
          "Midfielder",
          "Midfielder",
          "Midfielder",
          "Midfielder",
          "Midfielder",
          "Midfielder",
          "Midfielder",
          "Midfielder",
          "Midfielder",
          "Midfielder",
          "Midfielder",
          "Midfielder",
          "Midfielder",
          "Midfielder",
          "Midfielder",
          "Midfielder",
          "Midfielder",
          "Midfielder",
          "Midfielder",
          "Midfielder",
          "Midfielder",
          "Midfielder",
          "Midfielder",
          "Midfielder",
          "Midfielder",
          "Midfielder",
          "Midfielder",
          "Midfielder",
          "Midfielder",
          "Midfielder",
          "Midfielder",
          "Midfielder",
          "Midfielder",
          "Midfielder",
          "Midfielder",
          "Midfielder",
          "Midfielder",
          "Midfielder",
          "Midfielder",
          "Midfielder",
          "Midfielder",
          "Midfielder",
          "Midfielder",
          "Midfielder",
          "Midfielder",
          "Midfielder",
          "Midfielder"
         ],
         "x0": " ",
         "xaxis": "x",
         "y": {
          "dtype": "f8",
          "bdata": "mpmZmZlZWECamZmZmZlaQGZmZmZmtmFAZmZmZmYWYkBmZmZmZiZNQM3MzMzMzFhAmpmZmZm5VEBmZmZmZmZWQGZmZmZm5lVAMzMzMzPTW0CamZmZmblhQAAAAAAAIFVAZmZmZmaGZkAzMzMzM6NhQAAAAAAAoFRAzczMzMzMWkCamZmZmVlTQJqZmZmZWU9AmpmZmZmZWkAzMzMzM5NWQM3MzMzMDFlAAAAAAABASUAzMzMzM3NUQAAAAAAAIFFAMzMzMzOzU0BmZmZmZmZXQM3MzMzMLF5AmpmZmZlZV0AAAAAAAEBKQGZmZmZmhlZAmpmZmZlZWkAAAAAAAKBRQGZmZmZmplNAAAAAAABAWEAzMzMzM5NgQM3MzMzMbFxAAAAAAACgVkDNzMzMzExXQAAAAAAA4FlAMzMzMzMzVUAAAAAAAMBWQDMzMzMzk1pAAAAAAAAgUUAAAAAAABBgQM3MzMzMLFhAZmZmZmZmZkAAAAAAAEBbQM3MzMzMbFVAmpmZmZn5VUCamZmZmQlnQDMzMzMzo2BAZmZmZmZmRUBmZmZmZmZYQAAAAAAA4FVAZmZmZmamU0AzMzMzM1NfQAAAAAAAQGBAmpmZmZk5WUAzMzMzM1NQQAAAAAAAgGFAAAAAAADgV0BmZmZmZqZQQGZmZmZmJlJAMzMzMzNzRUAzMzMzM5NTQGZmZmZmhlVA"
         },
         "y0": " ",
         "yaxis": "y",
         "type": "box"
        },
        {
         "alignmentgroup": "True",
         "hovertemplate": "Position=%{x}<br>DistanceCovered(km)=%{y}<extra></extra>",
         "legendgroup": "Forward",
         "marker": {
          "color": "#00cc96"
         },
         "name": "Forward",
         "notched": false,
         "offsetgroup": "Forward",
         "orientation": "v",
         "showlegend": true,
         "x": [
          "Forward",
          "Forward",
          "Forward",
          "Forward",
          "Forward",
          "Forward",
          "Forward",
          "Forward",
          "Forward",
          "Forward",
          "Forward",
          "Forward",
          "Forward",
          "Forward",
          "Forward",
          "Forward",
          "Forward",
          "Forward",
          "Forward",
          "Forward",
          "Forward",
          "Forward",
          "Forward",
          "Forward",
          "Forward",
          "Forward",
          "Forward",
          "Forward",
          "Forward",
          "Forward",
          "Forward",
          "Forward",
          "Forward",
          "Forward",
          "Forward",
          "Forward",
          "Forward",
          "Forward",
          "Forward",
          "Forward",
          "Forward",
          "Forward",
          "Forward",
          "Forward",
          "Forward",
          "Forward",
          "Forward",
          "Forward",
          "Forward",
          "Forward",
          "Forward",
          "Forward",
          "Forward",
          "Forward",
          "Forward",
          "Forward",
          "Forward",
          "Forward",
          "Forward",
          "Forward",
          "Forward",
          "Forward",
          "Forward",
          "Forward"
         ],
         "x0": " ",
         "xaxis": "x",
         "y": {
          "dtype": "f8",
          "bdata": "AAAAAAAgV0AzMzMzM7NfQDMzMzMzMypAZmZmZmbmTUDNzMzMzExMQM3MzMzM7FhAMzMzMzPTVUAzMzMzM1NZQJqZmZmZeVtAAAAAAABgUkAzMzMzMzNYQM3MzMzMrFNAMzMzMzNTXEAAAAAAAABSQJqZmZmZuV1AAAAAAAAgWECamZmZmRldQM3MzMzMjFJAZmZmZmZmVkDNzMzMzAxLQDMzMzMz01xAzczMzMxsVkAAAAAAAABPQJqZmZmZGVBAzczMzMxMT0CamZmZmVlPQGZmZmZmpkZAZmZmZmaGX0BmZmZmZkZRQDMzMzMz01VAAAAAAAAgXkCamZmZmTlYQJqZmZmZOVVAzczMzMysVUDNzMzMzCxTQM3MzMzMzFZAzczMzMyMTUBmZmZmZgZdQAAAAAAAoFhAzczMzMzMUEAAAAAAAKBTQDMzMzMz01pAMzMzMzMzVkBmZmZmZiZXQAAAAAAAoFhAmpmZmZm5WUCamZmZmVlQQGZmZmZmdmFAmpmZmZnZUUBmZmZmZmZUQJqZmZmZWUlAMzMzMzNTVUAAAAAAAMBGQM3MzMzMzFZAZmZmZmamQUBmZmZmZgZbQM3MzMzM3GBAmpmZmZlZSUCamZmZmZlVQAAAAAAAwFJAAAAAAABgUUBmZmZmZoZUQGZmZmZmZj5AMzMzMzOzSkA="
         },
         "y0": " ",
         "yaxis": "y",
         "type": "box"
        },
        {
         "alignmentgroup": "True",
         "hovertemplate": "Position=%{x}<br>DistanceCovered(km)=%{y}<extra></extra>",
         "legendgroup": "Goalkeeper",
         "marker": {
          "color": "#ab63fa"
         },
         "name": "Goalkeeper",
         "notched": false,
         "offsetgroup": "Goalkeeper",
         "orientation": "v",
         "showlegend": true,
         "x": [
          "Goalkeeper",
          "Goalkeeper",
          "Goalkeeper",
          "Goalkeeper",
          "Goalkeeper",
          "Goalkeeper",
          "Goalkeeper",
          "Goalkeeper",
          "Goalkeeper",
          "Goalkeeper",
          "Goalkeeper",
          "Goalkeeper",
          "Goalkeeper",
          "Goalkeeper",
          "Goalkeeper",
          "Goalkeeper",
          "Goalkeeper",
          "Goalkeeper",
          "Goalkeeper",
          "Goalkeeper"
         ],
         "x0": " ",
         "xaxis": "x",
         "y": {
          "dtype": "f8",
          "bdata": "zczMzMzMSEDNzMzMzIxFQM3MzMzMDExAMzMzMzMzSkAAAAAAAMBBQDMzMzMzk1VAmpmZmZmZREAzMzMzM/NMQM3MzMzM7FFAAAAAAADASUDNzMzMzAxBQAAAAAAAQEpAzczMzMwMREAzMzMzM/NOQGZmZmZmZkFAZmZmZmZGUECamZmZmZlDQDMzMzMzM0BAzczMzMwMSEDNzMzMzMw/QA=="
         },
         "y0": " ",
         "yaxis": "y",
         "type": "box"
        }
       ],
       "layout": {
        "template": {
         "data": {
          "histogram2dcontour": [
           {
            "type": "histogram2dcontour",
            "colorbar": {
             "outlinewidth": 0,
             "ticks": ""
            },
            "colorscale": [
             [
              0.0,
              "#0d0887"
             ],
             [
              0.1111111111111111,
              "#46039f"
             ],
             [
              0.2222222222222222,
              "#7201a8"
             ],
             [
              0.3333333333333333,
              "#9c179e"
             ],
             [
              0.4444444444444444,
              "#bd3786"
             ],
             [
              0.5555555555555556,
              "#d8576b"
             ],
             [
              0.6666666666666666,
              "#ed7953"
             ],
             [
              0.7777777777777778,
              "#fb9f3a"
             ],
             [
              0.8888888888888888,
              "#fdca26"
             ],
             [
              1.0,
              "#f0f921"
             ]
            ]
           }
          ],
          "choropleth": [
           {
            "type": "choropleth",
            "colorbar": {
             "outlinewidth": 0,
             "ticks": ""
            }
           }
          ],
          "histogram2d": [
           {
            "type": "histogram2d",
            "colorbar": {
             "outlinewidth": 0,
             "ticks": ""
            },
            "colorscale": [
             [
              0.0,
              "#0d0887"
             ],
             [
              0.1111111111111111,
              "#46039f"
             ],
             [
              0.2222222222222222,
              "#7201a8"
             ],
             [
              0.3333333333333333,
              "#9c179e"
             ],
             [
              0.4444444444444444,
              "#bd3786"
             ],
             [
              0.5555555555555556,
              "#d8576b"
             ],
             [
              0.6666666666666666,
              "#ed7953"
             ],
             [
              0.7777777777777778,
              "#fb9f3a"
             ],
             [
              0.8888888888888888,
              "#fdca26"
             ],
             [
              1.0,
              "#f0f921"
             ]
            ]
           }
          ],
          "heatmap": [
           {
            "type": "heatmap",
            "colorbar": {
             "outlinewidth": 0,
             "ticks": ""
            },
            "colorscale": [
             [
              0.0,
              "#0d0887"
             ],
             [
              0.1111111111111111,
              "#46039f"
             ],
             [
              0.2222222222222222,
              "#7201a8"
             ],
             [
              0.3333333333333333,
              "#9c179e"
             ],
             [
              0.4444444444444444,
              "#bd3786"
             ],
             [
              0.5555555555555556,
              "#d8576b"
             ],
             [
              0.6666666666666666,
              "#ed7953"
             ],
             [
              0.7777777777777778,
              "#fb9f3a"
             ],
             [
              0.8888888888888888,
              "#fdca26"
             ],
             [
              1.0,
              "#f0f921"
             ]
            ]
           }
          ],
          "contourcarpet": [
           {
            "type": "contourcarpet",
            "colorbar": {
             "outlinewidth": 0,
             "ticks": ""
            }
           }
          ],
          "contour": [
           {
            "type": "contour",
            "colorbar": {
             "outlinewidth": 0,
             "ticks": ""
            },
            "colorscale": [
             [
              0.0,
              "#0d0887"
             ],
             [
              0.1111111111111111,
              "#46039f"
             ],
             [
              0.2222222222222222,
              "#7201a8"
             ],
             [
              0.3333333333333333,
              "#9c179e"
             ],
             [
              0.4444444444444444,
              "#bd3786"
             ],
             [
              0.5555555555555556,
              "#d8576b"
             ],
             [
              0.6666666666666666,
              "#ed7953"
             ],
             [
              0.7777777777777778,
              "#fb9f3a"
             ],
             [
              0.8888888888888888,
              "#fdca26"
             ],
             [
              1.0,
              "#f0f921"
             ]
            ]
           }
          ],
          "surface": [
           {
            "type": "surface",
            "colorbar": {
             "outlinewidth": 0,
             "ticks": ""
            },
            "colorscale": [
             [
              0.0,
              "#0d0887"
             ],
             [
              0.1111111111111111,
              "#46039f"
             ],
             [
              0.2222222222222222,
              "#7201a8"
             ],
             [
              0.3333333333333333,
              "#9c179e"
             ],
             [
              0.4444444444444444,
              "#bd3786"
             ],
             [
              0.5555555555555556,
              "#d8576b"
             ],
             [
              0.6666666666666666,
              "#ed7953"
             ],
             [
              0.7777777777777778,
              "#fb9f3a"
             ],
             [
              0.8888888888888888,
              "#fdca26"
             ],
             [
              1.0,
              "#f0f921"
             ]
            ]
           }
          ],
          "mesh3d": [
           {
            "type": "mesh3d",
            "colorbar": {
             "outlinewidth": 0,
             "ticks": ""
            }
           }
          ],
          "scatter": [
           {
            "fillpattern": {
             "fillmode": "overlay",
             "size": 10,
             "solidity": 0.2
            },
            "type": "scatter"
           }
          ],
          "parcoords": [
           {
            "type": "parcoords",
            "line": {
             "colorbar": {
              "outlinewidth": 0,
              "ticks": ""
             }
            }
           }
          ],
          "scatterpolargl": [
           {
            "type": "scatterpolargl",
            "marker": {
             "colorbar": {
              "outlinewidth": 0,
              "ticks": ""
             }
            }
           }
          ],
          "bar": [
           {
            "error_x": {
             "color": "#2a3f5f"
            },
            "error_y": {
             "color": "#2a3f5f"
            },
            "marker": {
             "line": {
              "color": "#E5ECF6",
              "width": 0.5
             },
             "pattern": {
              "fillmode": "overlay",
              "size": 10,
              "solidity": 0.2
             }
            },
            "type": "bar"
           }
          ],
          "scattergeo": [
           {
            "type": "scattergeo",
            "marker": {
             "colorbar": {
              "outlinewidth": 0,
              "ticks": ""
             }
            }
           }
          ],
          "scatterpolar": [
           {
            "type": "scatterpolar",
            "marker": {
             "colorbar": {
              "outlinewidth": 0,
              "ticks": ""
             }
            }
           }
          ],
          "histogram": [
           {
            "marker": {
             "pattern": {
              "fillmode": "overlay",
              "size": 10,
              "solidity": 0.2
             }
            },
            "type": "histogram"
           }
          ],
          "scattergl": [
           {
            "type": "scattergl",
            "marker": {
             "colorbar": {
              "outlinewidth": 0,
              "ticks": ""
             }
            }
           }
          ],
          "scatter3d": [
           {
            "type": "scatter3d",
            "line": {
             "colorbar": {
              "outlinewidth": 0,
              "ticks": ""
             }
            },
            "marker": {
             "colorbar": {
              "outlinewidth": 0,
              "ticks": ""
             }
            }
           }
          ],
          "scattermap": [
           {
            "type": "scattermap",
            "marker": {
             "colorbar": {
              "outlinewidth": 0,
              "ticks": ""
             }
            }
           }
          ],
          "scattermapbox": [
           {
            "type": "scattermapbox",
            "marker": {
             "colorbar": {
              "outlinewidth": 0,
              "ticks": ""
             }
            }
           }
          ],
          "scatterternary": [
           {
            "type": "scatterternary",
            "marker": {
             "colorbar": {
              "outlinewidth": 0,
              "ticks": ""
             }
            }
           }
          ],
          "scattercarpet": [
           {
            "type": "scattercarpet",
            "marker": {
             "colorbar": {
              "outlinewidth": 0,
              "ticks": ""
             }
            }
           }
          ],
          "carpet": [
           {
            "aaxis": {
             "endlinecolor": "#2a3f5f",
             "gridcolor": "white",
             "linecolor": "white",
             "minorgridcolor": "white",
             "startlinecolor": "#2a3f5f"
            },
            "baxis": {
             "endlinecolor": "#2a3f5f",
             "gridcolor": "white",
             "linecolor": "white",
             "minorgridcolor": "white",
             "startlinecolor": "#2a3f5f"
            },
            "type": "carpet"
           }
          ],
          "table": [
           {
            "cells": {
             "fill": {
              "color": "#EBF0F8"
             },
             "line": {
              "color": "white"
             }
            },
            "header": {
             "fill": {
              "color": "#C8D4E3"
             },
             "line": {
              "color": "white"
             }
            },
            "type": "table"
           }
          ],
          "barpolar": [
           {
            "marker": {
             "line": {
              "color": "#E5ECF6",
              "width": 0.5
             },
             "pattern": {
              "fillmode": "overlay",
              "size": 10,
              "solidity": 0.2
             }
            },
            "type": "barpolar"
           }
          ],
          "pie": [
           {
            "automargin": true,
            "type": "pie"
           }
          ]
         },
         "layout": {
          "autotypenumbers": "strict",
          "colorway": [
           "#636efa",
           "#EF553B",
           "#00cc96",
           "#ab63fa",
           "#FFA15A",
           "#19d3f3",
           "#FF6692",
           "#B6E880",
           "#FF97FF",
           "#FECB52"
          ],
          "font": {
           "color": "#2a3f5f"
          },
          "hovermode": "closest",
          "hoverlabel": {
           "align": "left"
          },
          "paper_bgcolor": "white",
          "plot_bgcolor": "#E5ECF6",
          "polar": {
           "bgcolor": "#E5ECF6",
           "angularaxis": {
            "gridcolor": "white",
            "linecolor": "white",
            "ticks": ""
           },
           "radialaxis": {
            "gridcolor": "white",
            "linecolor": "white",
            "ticks": ""
           }
          },
          "ternary": {
           "bgcolor": "#E5ECF6",
           "aaxis": {
            "gridcolor": "white",
            "linecolor": "white",
            "ticks": ""
           },
           "baxis": {
            "gridcolor": "white",
            "linecolor": "white",
            "ticks": ""
           },
           "caxis": {
            "gridcolor": "white",
            "linecolor": "white",
            "ticks": ""
           }
          },
          "coloraxis": {
           "colorbar": {
            "outlinewidth": 0,
            "ticks": ""
           }
          },
          "colorscale": {
           "sequential": [
            [
             0.0,
             "#0d0887"
            ],
            [
             0.1111111111111111,
             "#46039f"
            ],
            [
             0.2222222222222222,
             "#7201a8"
            ],
            [
             0.3333333333333333,
             "#9c179e"
            ],
            [
             0.4444444444444444,
             "#bd3786"
            ],
            [
             0.5555555555555556,
             "#d8576b"
            ],
            [
             0.6666666666666666,
             "#ed7953"
            ],
            [
             0.7777777777777778,
             "#fb9f3a"
            ],
            [
             0.8888888888888888,
             "#fdca26"
            ],
            [
             1.0,
             "#f0f921"
            ]
           ],
           "sequentialminus": [
            [
             0.0,
             "#0d0887"
            ],
            [
             0.1111111111111111,
             "#46039f"
            ],
            [
             0.2222222222222222,
             "#7201a8"
            ],
            [
             0.3333333333333333,
             "#9c179e"
            ],
            [
             0.4444444444444444,
             "#bd3786"
            ],
            [
             0.5555555555555556,
             "#d8576b"
            ],
            [
             0.6666666666666666,
             "#ed7953"
            ],
            [
             0.7777777777777778,
             "#fb9f3a"
            ],
            [
             0.8888888888888888,
             "#fdca26"
            ],
            [
             1.0,
             "#f0f921"
            ]
           ],
           "diverging": [
            [
             0,
             "#8e0152"
            ],
            [
             0.1,
             "#c51b7d"
            ],
            [
             0.2,
             "#de77ae"
            ],
            [
             0.3,
             "#f1b6da"
            ],
            [
             0.4,
             "#fde0ef"
            ],
            [
             0.5,
             "#f7f7f7"
            ],
            [
             0.6,
             "#e6f5d0"
            ],
            [
             0.7,
             "#b8e186"
            ],
            [
             0.8,
             "#7fbc41"
            ],
            [
             0.9,
             "#4d9221"
            ],
            [
             1,
             "#276419"
            ]
           ]
          },
          "xaxis": {
           "gridcolor": "white",
           "linecolor": "white",
           "ticks": "",
           "title": {
            "standoff": 15
           },
           "zerolinecolor": "white",
           "automargin": true,
           "zerolinewidth": 2
          },
          "yaxis": {
           "gridcolor": "white",
           "linecolor": "white",
           "ticks": "",
           "title": {
            "standoff": 15
           },
           "zerolinecolor": "white",
           "automargin": true,
           "zerolinewidth": 2
          },
          "scene": {
           "xaxis": {
            "backgroundcolor": "#E5ECF6",
            "gridcolor": "white",
            "linecolor": "white",
            "showbackground": true,
            "ticks": "",
            "zerolinecolor": "white",
            "gridwidth": 2
           },
           "yaxis": {
            "backgroundcolor": "#E5ECF6",
            "gridcolor": "white",
            "linecolor": "white",
            "showbackground": true,
            "ticks": "",
            "zerolinecolor": "white",
            "gridwidth": 2
           },
           "zaxis": {
            "backgroundcolor": "#E5ECF6",
            "gridcolor": "white",
            "linecolor": "white",
            "showbackground": true,
            "ticks": "",
            "zerolinecolor": "white",
            "gridwidth": 2
           }
          },
          "shapedefaults": {
           "line": {
            "color": "#2a3f5f"
           }
          },
          "annotationdefaults": {
           "arrowcolor": "#2a3f5f",
           "arrowhead": 0,
           "arrowwidth": 1
          },
          "geo": {
           "bgcolor": "white",
           "landcolor": "#E5ECF6",
           "subunitcolor": "white",
           "showland": true,
           "showlakes": true,
           "lakecolor": "white"
          },
          "title": {
           "x": 0.05
          },
          "mapbox": {
           "style": "light"
          }
         }
        },
        "xaxis": {
         "anchor": "y",
         "domain": [
          0.0,
          1.0
         ],
         "title": {
          "text": "Position"
         },
         "categoryorder": "array",
         "categoryarray": [
          "Defender",
          "Midfielder",
          "Forward",
          "Goalkeeper"
         ]
        },
        "yaxis": {
         "anchor": "x",
         "domain": [
          0.0,
          1.0
         ],
         "title": {
          "text": "DistanceCovered(km)"
         }
        },
        "legend": {
         "title": {
          "text": "Position"
         },
         "tracegroupgap": 0
        },
        "title": {
         "text": "Boxplot of Distance Covered by Position"
        },
        "boxmode": "overlay"
       },
       "config": {
        "plotlyServerURL": "https://plot.ly"
       }
      }
     },
     "metadata": {},
     "output_type": "display_data"
    }
   ],
   "execution_count": 34
  },
  {
   "metadata": {
    "ExecuteTime": {
     "end_time": "2025-06-15T11:37:48.976789Z",
     "start_time": "2025-06-15T11:37:48.826224Z"
    }
   },
   "cell_type": "code",
   "source": "sns.histplot(ucl['TopSpeed(km/h)'], bins=20, kde=True)",
   "id": "5607aa52eaf84213",
   "outputs": [
    {
     "data": {
      "text/plain": [
       "<Axes: xlabel='TopSpeed(km/h)', ylabel='Count'>"
      ]
     },
     "execution_count": 35,
     "metadata": {},
     "output_type": "execute_result"
    },
    {
     "data": {
      "text/plain": [
       "<Figure size 640x480 with 1 Axes>"
      ],
      "image/png": "[encoded data removed]"
     },
     "metadata": {},
     "output_type": "display_data"
    }
   ],
   "execution_count": 35
  },
  {
   "metadata": {
    "ExecuteTime": {
     "end_time": "2025-06-15T11:37:49.099884Z",
     "start_time": "2025-06-15T11:37:49.055543Z"
    }
   },
   "cell_type": "code",
   "source": [
    "fig = px.histogram(ucl, x='TopSpeed(km/h)', nbins=20, title='Histogram of Top Speed',color_discrete_sequence=['blue'])\n",
    "fig.show()"
   ],
   "id": "93975b2d007e4acf",
   "outputs": [
    {
     "data": {
      "application/vnd.plotly.v1+json": {
       "data": [
        {
         "bingroup": "x",
         "hovertemplate": "TopSpeed(km/h)=%{x}<br>count=%{y}<extra></extra>",
         "legendgroup": "",
         "marker": {
          "color": "blue",
          "pattern": {
           "shape": ""
          }
         },
         "name": "",
         "nbinsx": 20,
         "orientation": "v",
         "showlegend": false,
         "x": {
          "dtype": "f8",
          "bdata": "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"
         },
         "xaxis": "x",
         "yaxis": "y",
         "type": "histogram"
        }
       ],
       "layout": {
        "template": {
         "data": {
          "histogram2dcontour": [
           {
            "type": "histogram2dcontour",
            "colorbar": {
             "outlinewidth": 0,
             "ticks": ""
            },
            "colorscale": [
             [
              0.0,
              "#0d0887"
             ],
             [
              0.1111111111111111,
              "#46039f"
             ],
             [
              0.2222222222222222,
              "#7201a8"
             ],
             [
              0.3333333333333333,
              "#9c179e"
             ],
             [
              0.4444444444444444,
              "#bd3786"
             ],
             [
              0.5555555555555556,
              "#d8576b"
             ],
             [
              0.6666666666666666,
              "#ed7953"
             ],
             [
              0.7777777777777778,
              "#fb9f3a"
             ],
             [
              0.8888888888888888,
              "#fdca26"
             ],
             [
              1.0,
              "#f0f921"
             ]
            ]
           }
          ],
          "choropleth": [
           {
            "type": "choropleth",
            "colorbar": {
             "outlinewidth": 0,
             "ticks": ""
            }
           }
          ],
          "histogram2d": [
           {
            "type": "histogram2d",
            "colorbar": {
             "outlinewidth": 0,
             "ticks": ""
            },
            "colorscale": [
             [
              0.0,
              "#0d0887"
             ],
             [
              0.1111111111111111,
              "#46039f"
             ],
             [
              0.2222222222222222,
              "#7201a8"
             ],
             [
              0.3333333333333333,
              "#9c179e"
             ],
             [
              0.4444444444444444,
              "#bd3786"
             ],
             [
              0.5555555555555556,
              "#d8576b"
             ],
             [
              0.6666666666666666,
              "#ed7953"
             ],
             [
              0.7777777777777778,
              "#fb9f3a"
             ],
             [
              0.8888888888888888,
              "#fdca26"
             ],
             [
              1.0,
              "#f0f921"
             ]
            ]
           }
          ],
          "heatmap": [
           {
            "type": "heatmap",
            "colorbar": {
             "outlinewidth": 0,
             "ticks": ""
            },
            "colorscale": [
             [
              0.0,
              "#0d0887"
             ],
             [
              0.1111111111111111,
              "#46039f"
             ],
             [
              0.2222222222222222,
              "#7201a8"
             ],
             [
              0.3333333333333333,
              "#9c179e"
             ],
             [
              0.4444444444444444,
              "#bd3786"
             ],
             [
              0.5555555555555556,
              "#d8576b"
             ],
             [
              0.6666666666666666,
              "#ed7953"
             ],
             [
              0.7777777777777778,
              "#fb9f3a"
             ],
             [
              0.8888888888888888,
              "#fdca26"
             ],
             [
              1.0,
              "#f0f921"
             ]
            ]
           }
          ],
          "contourcarpet": [
           {
            "type": "contourcarpet",
            "colorbar": {
             "outlinewidth": 0,
             "ticks": ""
            }
           }
          ],
          "contour": [
           {
            "type": "contour",
            "colorbar": {
             "outlinewidth": 0,
             "ticks": ""
            },
            "colorscale": [
             [
              0.0,
              "#0d0887"
             ],
             [
              0.1111111111111111,
              "#46039f"
             ],
             [
              0.2222222222222222,
              "#7201a8"
             ],
             [
              0.3333333333333333,
              "#9c179e"
             ],
             [
              0.4444444444444444,
              "#bd3786"
             ],
             [
              0.5555555555555556,
              "#d8576b"
             ],
             [
              0.6666666666666666,
              "#ed7953"
             ],
             [
              0.7777777777777778,
              "#fb9f3a"
             ],
             [
              0.8888888888888888,
              "#fdca26"
             ],
             [
              1.0,
              "#f0f921"
             ]
            ]
           }
          ],
          "surface": [
           {
            "type": "surface",
            "colorbar": {
             "outlinewidth": 0,
             "ticks": ""
            },
            "colorscale": [
             [
              0.0,
              "#0d0887"
             ],
             [
              0.1111111111111111,
              "#46039f"
             ],
             [
              0.2222222222222222,
              "#7201a8"
             ],
             [
              0.3333333333333333,
              "#9c179e"
             ],
             [
              0.4444444444444444,
              "#bd3786"
             ],
             [
              0.5555555555555556,
              "#d8576b"
             ],
             [
              0.6666666666666666,
              "#ed7953"
             ],
             [
              0.7777777777777778,
              "#fb9f3a"
             ],
             [
              0.8888888888888888,
              "#fdca26"
             ],
             [
              1.0,
              "#f0f921"
             ]
            ]
           }
          ],
          "mesh3d": [
           {
            "type": "mesh3d",
            "colorbar": {
             "outlinewidth": 0,
             "ticks": ""
            }
           }
          ],
          "scatter": [
           {
            "fillpattern": {
             "fillmode": "overlay",
             "size": 10,
             "solidity": 0.2
            },
            "type": "scatter"
           }
          ],
          "parcoords": [
           {
            "type": "parcoords",
            "line": {
             "colorbar": {
              "outlinewidth": 0,
              "ticks": ""
             }
            }
           }
          ],
          "scatterpolargl": [
           {
            "type": "scatterpolargl",
            "marker": {
             "colorbar": {
              "outlinewidth": 0,
              "ticks": ""
             }
            }
           }
          ],
          "bar": [
           {
            "error_x": {
             "color": "#2a3f5f"
            },
            "error_y": {
             "color": "#2a3f5f"
            },
            "marker": {
             "line": {
              "color": "#E5ECF6",
              "width": 0.5
             },
             "pattern": {
              "fillmode": "overlay",
              "size": 10,
              "solidity": 0.2
             }
            },
            "type": "bar"
           }
          ],
          "scattergeo": [
           {
            "type": "scattergeo",
            "marker": {
             "colorbar": {
              "outlinewidth": 0,
              "ticks": ""
             }
            }
           }
          ],
          "scatterpolar": [
           {
            "type": "scatterpolar",
            "marker": {
             "colorbar": {
              "outlinewidth": 0,
              "ticks": ""
             }
            }
           }
          ],
          "histogram": [
           {
            "marker": {
             "pattern": {
              "fillmode": "overlay",
              "size": 10,
              "solidity": 0.2
             }
            },
            "type": "histogram"
           }
          ],
          "scattergl": [
           {
            "type": "scattergl",
            "marker": {
             "colorbar": {
              "outlinewidth": 0,
              "ticks": ""
             }
            }
           }
          ],
          "scatter3d": [
           {
            "type": "scatter3d",
            "line": {
             "colorbar": {
              "outlinewidth": 0,
              "ticks": ""
             }
            },
            "marker": {
             "colorbar": {
              "outlinewidth": 0,
              "ticks": ""
             }
            }
           }
          ],
          "scattermap": [
           {
            "type": "scattermap",
            "marker": {
             "colorbar": {
              "outlinewidth": 0,
              "ticks": ""
             }
            }
           }
          ],
          "scattermapbox": [
           {
            "type": "scattermapbox",
            "marker": {
             "colorbar": {
              "outlinewidth": 0,
              "ticks": ""
             }
            }
           }
          ],
          "scatterternary": [
           {
            "type": "scatterternary",
            "marker": {
             "colorbar": {
              "outlinewidth": 0,
              "ticks": ""
             }
            }
           }
          ],
          "scattercarpet": [
           {
            "type": "scattercarpet",
            "marker": {
             "colorbar": {
              "outlinewidth": 0,
              "ticks": ""
             }
            }
           }
          ],
          "carpet": [
           {
            "aaxis": {
             "endlinecolor": "#2a3f5f",
             "gridcolor": "white",
             "linecolor": "white",
             "minorgridcolor": "white",
             "startlinecolor": "#2a3f5f"
            },
            "baxis": {
             "endlinecolor": "#2a3f5f",
             "gridcolor": "white",
             "linecolor": "white",
             "minorgridcolor": "white",
             "startlinecolor": "#2a3f5f"
            },
            "type": "carpet"
           }
          ],
          "table": [
           {
            "cells": {
             "fill": {
              "color": "#EBF0F8"
             },
             "line": {
              "color": "white"
             }
            },
            "header": {
             "fill": {
              "color": "#C8D4E3"
             },
             "line": {
              "color": "white"
             }
            },
            "type": "table"
           }
          ],
          "barpolar": [
           {
            "marker": {
             "line": {
              "color": "#E5ECF6",
              "width": 0.5
             },
             "pattern": {
              "fillmode": "overlay",
              "size": 10,
              "solidity": 0.2
             }
            },
            "type": "barpolar"
           }
          ],
          "pie": [
           {
            "automargin": true,
            "type": "pie"
           }
          ]
         },
         "layout": {
          "autotypenumbers": "strict",
          "colorway": [
           "#636efa",
           "#EF553B",
           "#00cc96",
           "#ab63fa",
           "#FFA15A",
           "#19d3f3",
           "#FF6692",
           "#B6E880",
           "#FF97FF",
           "#FECB52"
          ],
          "font": {
           "color": "#2a3f5f"
          },
          "hovermode": "closest",
          "hoverlabel": {
           "align": "left"
          },
          "paper_bgcolor": "white",
          "plot_bgcolor": "#E5ECF6",
          "polar": {
           "bgcolor": "#E5ECF6",
           "angularaxis": {
            "gridcolor": "white",
            "linecolor": "white",
            "ticks": ""
           },
           "radialaxis": {
            "gridcolor": "white",
            "linecolor": "white",
            "ticks": ""
           }
          },
          "ternary": {
           "bgcolor": "#E5ECF6",
           "aaxis": {
            "gridcolor": "white",
            "linecolor": "white",
            "ticks": ""
           },
           "baxis": {
            "gridcolor": "white",
            "linecolor": "white",
            "ticks": ""
           },
           "caxis": {
            "gridcolor": "white",
            "linecolor": "white",
            "ticks": ""
           }
          },
          "coloraxis": {
           "colorbar": {
            "outlinewidth": 0,
            "ticks": ""
           }
          },
          "colorscale": {
           "sequential": [
            [
             0.0,
             "#0d0887"
            ],
            [
             0.1111111111111111,
             "#46039f"
            ],
            [
             0.2222222222222222,
             "#7201a8"
            ],
            [
             0.3333333333333333,
             "#9c179e"
            ],
            [
             0.4444444444444444,
             "#bd3786"
            ],
            [
             0.5555555555555556,
             "#d8576b"
            ],
            [
             0.6666666666666666,
             "#ed7953"
            ],
            [
             0.7777777777777778,
             "#fb9f3a"
            ],
            [
             0.8888888888888888,
             "#fdca26"
            ],
            [
             1.0,
             "#f0f921"
            ]
           ],
           "sequentialminus": [
            [
             0.0,
             "#0d0887"
            ],
            [
             0.1111111111111111,
             "#46039f"
            ],
            [
             0.2222222222222222,
             "#7201a8"
            ],
            [
             0.3333333333333333,
             "#9c179e"
            ],
            [
             0.4444444444444444,
             "#bd3786"
            ],
            [
             0.5555555555555556,
             "#d8576b"
            ],
            [
             0.6666666666666666,
             "#ed7953"
            ],
            [
             0.7777777777777778,
             "#fb9f3a"
            ],
            [
             0.8888888888888888,
             "#fdca26"
            ],
            [
             1.0,
             "#f0f921"
            ]
           ],
           "diverging": [
            [
             0,
             "#8e0152"
            ],
            [
             0.1,
             "#c51b7d"
            ],
            [
             0.2,
             "#de77ae"
            ],
            [
             0.3,
             "#f1b6da"
            ],
            [
             0.4,
             "#fde0ef"
            ],
            [
             0.5,
             "#f7f7f7"
            ],
            [
             0.6,
             "#e6f5d0"
            ],
            [
             0.7,
             "#b8e186"
            ],
            [
             0.8,
             "#7fbc41"
            ],
            [
             0.9,
             "#4d9221"
            ],
            [
             1,
             "#276419"
            ]
           ]
          },
          "xaxis": {
           "gridcolor": "white",
           "linecolor": "white",
           "ticks": "",
           "title": {
            "standoff": 15
           },
           "zerolinecolor": "white",
           "automargin": true,
           "zerolinewidth": 2
          },
          "yaxis": {
           "gridcolor": "white",
           "linecolor": "white",
           "ticks": "",
           "title": {
            "standoff": 15
           },
           "zerolinecolor": "white",
           "automargin": true,
           "zerolinewidth": 2
          },
          "scene": {
           "xaxis": {
            "backgroundcolor": "#E5ECF6",
            "gridcolor": "white",
            "linecolor": "white",
            "showbackground": true,
            "ticks": "",
            "zerolinecolor": "white",
            "gridwidth": 2
           },
           "yaxis": {
            "backgroundcolor": "#E5ECF6",
            "gridcolor": "white",
            "linecolor": "white",
            "showbackground": true,
            "ticks": "",
            "zerolinecolor": "white",
            "gridwidth": 2
           },
           "zaxis": {
            "backgroundcolor": "#E5ECF6",
            "gridcolor": "white",
            "linecolor": "white",
            "showbackground": true,
            "ticks": "",
            "zerolinecolor": "white",
            "gridwidth": 2
           }
          },
          "shapedefaults": {
           "line": {
            "color": "#2a3f5f"
           }
          },
          "annotationdefaults": {
           "arrowcolor": "#2a3f5f",
           "arrowhead": 0,
           "arrowwidth": 1
          },
          "geo": {
           "bgcolor": "white",
           "landcolor": "#E5ECF6",
           "subunitcolor": "white",
           "showland": true,
           "showlakes": true,
           "lakecolor": "white"
          },
          "title": {
           "x": 0.05
          },
          "mapbox": {
           "style": "light"
          }
         }
        },
        "xaxis": {
         "anchor": "y",
         "domain": [
          0.0,
          1.0
         ],
         "title": {
          "text": "TopSpeed(km/h)"
         }
        },
        "yaxis": {
         "anchor": "x",
         "domain": [
          0.0,
          1.0
         ],
         "title": {
          "text": "count"
         }
        },
        "legend": {
         "tracegroupgap": 0
        },
        "title": {
         "text": "Histogram of Top Speed"
        },
        "barmode": "relative"
       },
       "config": {
        "plotlyServerURL": "https://plot.ly"
       }
      }
     },
     "metadata": {},
     "output_type": "display_data"
    }
   ],
   "execution_count": 36
  },
  {
   "metadata": {},
   "cell_type": "markdown",
   "source": "#### Efektiviteti i lojtarëve",
   "id": "538d67c27bef0421"
  },
  {
   "metadata": {
    "ExecuteTime": {
     "end_time": "2025-06-15T11:37:49.292247Z",
     "start_time": "2025-06-15T11:37:49.141024Z"
    }
   },
   "cell_type": "code",
   "source": "sns.scatterplot(x='Minutes_played', y='Goals', hue='Position', data=ucl)",
   "id": "28a4156137444fd1",
   "outputs": [
    {
     "data": {
      "text/plain": [
       "<Axes: xlabel='Minutes_played', ylabel='Goals'>"
      ]
     },
     "execution_count": 37,
     "metadata": {},
     "output_type": "execute_result"
    },
    {
     "data": {
      "text/plain": [
       "<Figure size 640x480 with 1 Axes>"
      ],
      "image/png": "[encoded data removed]"
     },
     "metadata": {},
     "output_type": "display_data"
    }
   ],
   "execution_count": 37
  },
  {
   "metadata": {
    "ExecuteTime": {
     "end_time": "2025-06-15T11:37:49.390579Z",
     "start_time": "2025-06-15T11:37:49.333893Z"
    }
   },
   "cell_type": "code",
   "source": "px.scatter(ucl, x='Minutes_played', y='Goals', color='Position', title='Goals vs Minutes Played by Player Position', hover_data=['Player', 'Team'])",
   "id": "7a31a880b9675178",
   "outputs": [
    {
     "data": {
      "application/vnd.plotly.v1+json": {
       "data": [
        {
         "customdata": [
          [
           "Theo Hernandez",
           "Milan"
          ],
          [
           "Van Dijk",
           "Liverpool FC"
          ],
          [
           "Otamendi",
           "Benfica"
          ],
          [
           "Johnston",
           "Celtic"
          ],
          [
           "Hakimi",
           "Paris SG"
          ],
          [
           "Frimpong",
           "Bayer Leverkusen"
          ],
          [
           "Rico Lewis",
           "Manchester City"
          ],
          [
           "Bensebaini",
           "BVB Dortmund"
          ],
          [
           "Federico Gatti",
           "Juventus"
          ],
          [
           "Dimarco",
           "Inter"
          ],
          [
           "Mauro Junior",
           "PSV Eindhoven"
          ],
          [
           "Raul Asencio",
           "Real Madrid"
          ],
          [
           "Kounde",
           "Barcelona"
          ],
          [
           "Ryan Flamingo",
           "PSV Eindhoven"
          ],
          [
           "Hincapie",
           "Bayer Leverkusen"
          ],
          [
           "Saliba",
           "Arsenal FC"
          ],
          [
           "Grimaldo",
           "Bayer Leverkusen"
          ],
          [
           "Ezri Konsa",
           "Aston Villa"
          ],
          [
           "Stefan de Vrij",
           "Inter"
          ],
          [
           "Jose Gimenez",
           "Atletico Madrid"
          ],
          [
           "Ryerson",
           "BVB Dortmund"
          ],
          [
           "Pavard",
           "Inter"
          ],
          [
           "Vanderson",
           "Monaco"
          ],
          [
           "Alphonso Davies",
           "Bayern Munich"
          ],
          [
           "Alexsandro Ribeiro",
           "Lille"
          ],
          [
           "Upamecano",
           "Bayern Munich"
          ],
          [
           "Alexander Bah",
           "Benfica"
          ],
          [
           "Inigo Martinez",
           "Barcelona"
          ],
          [
           "Maatsen",
           "Aston Villa"
          ],
          [
           "Jurrien Timber",
           "Arsenal FC"
          ],
          [
           "Manuel Akanji",
           "Manchester City"
          ],
          [
           "Schlotterbeck",
           "BVB Dortmund"
          ],
          [
           "Mukiele",
           "Bayer Leverkusen"
          ],
          [
           "De Cuyper",
           "Club Brugge"
          ],
          [
           "Sam Beukema",
           "Bologna"
          ],
          [
           "Kolasinac",
           "Atalanta BC"
          ],
          [
           "Youssouf Fofana",
           "Milan"
          ],
          [
           "Gabriel Magalhaes",
           "Arsenal FC"
          ],
          [
           "Gonçalo Inacio",
           "Sporting CP"
          ],
          [
           "Alvaro Carreras",
           "Benfica"
          ],
          [
           "Singo",
           "Monaco"
          ],
          [
           "Nuno Mendes",
           "Paris SG"
          ],
          [
           "Dumfries",
           "Inter"
          ],
          [
           "Minjae Kim",
           "Bayern Munich"
          ],
          [
           "Pacho",
           "Paris SG"
          ],
          [
           "Balde",
           "Barcelona"
          ],
          [
           "Francesco Acerbi",
           "Inter"
          ],
          [
           "Robertson",
           "Liverpool FC"
          ],
          [
           "Calafiori",
           "Arsenal FC"
          ],
          [
           "Marquinhos",
           "Paris SG"
          ],
          [
           "Bastoni",
           "Inter"
          ],
          [
           "Boscagli",
           "PSV Eindhoven"
          ],
          [
           "Waldemar Anton",
           "BVB Dortmund"
          ],
          [
           "Kossounou",
           "Atalanta BC"
          ],
          [
           "Marten de Roon",
           "Atalanta BC"
          ],
          [
           "Laimer",
           "Bayern Munich"
          ],
          [
           "Thomas Meunier",
           "Lille"
          ],
          [
           "Ibrahima Konate",
           "Liverpool FC"
          ],
          [
           "Kenny Lala",
           "Brest"
          ],
          [
           "Lucumi",
           "Bologna"
          ]
         ],
         "hovertemplate": "Position=Defender<br>Minutes_played=%{x}<br>Goals=%{y}<br>Player=%{customdata[0]}<br>Team=%{customdata[1]}<extra></extra>",
         "legendgroup": "Defender",
         "marker": {
          "color": "#636efa",
          "symbol": "circle"
         },
         "mode": "markers",
         "name": "Defender",
         "orientation": "v",
         "showlegend": true,
         "x": {
          "dtype": "i2",
          "bdata": "XQNIAzgERgMEBhwDfwLnAiEDOgI9A+wCUgRaAwYD3gNnA94DsALuArwDjQMNA7wChAPeA/QBvgN1AVQDhgI4BGgBNwSHAn8CIAMkA+gBhAP8AakFzgMyBAYGJAMCAycCrwGfBTYEkQNPAgsBagMNA2kCiQLQAhMC"
         },
         "xaxis": "x",
         "y": {
          "dtype": "i1",
          "bdata": "AAEBAAQAAAIAAAAAAAMBAAIBAAEAAQACAAABAgEBAAABAQABAAEBAAIEAgEAAAEAAQAAAAAAAAEAAQAB"
         },
         "yaxis": "y",
         "type": "scatter"
        },
        {
         "customdata": [
          [
           "Nicolo Barella",
           "Inter"
          ],
          [
           "Odegaard",
           "Arsenal FC"
          ],
          [
           "Hans Vanaken",
           "Club Brugge"
          ],
          [
           "Fabian Ruiz",
           "Paris SG"
          ],
          [
           "Joey Veerman",
           "PSV Eindhoven"
          ],
          [
           "Florentino",
           "Benfica"
          ],
          [
           "Szoboszlai",
           "Liverpool FC"
          ],
          [
           "John McGinn",
           "Aston Villa"
          ],
          [
           "Calhanoglu",
           "Inter"
          ],
          [
           "Tijjani Reijnders",
           "Milan"
          ],
          [
           "Aursnes",
           "Benfica"
          ],
          [
           "Charles Ketelaere",
           "Atalanta BC"
          ],
          [
           "Vitinha",
           "Paris SG"
          ],
          [
           "Pedri",
           "Barcelona"
          ],
          [
           "Otar Kiteishvili",
           "Sturm Graz"
          ],
          [
           "Leon Goretzka",
           "Bayern Munich"
          ],
          [
           "Modric",
           "Real Madrid"
          ],
          [
           "Felix Nmecha",
           "BVB Dortmund"
          ],
          [
           "Pascal Gross",
           "BVB Dortmund"
          ],
          [
           "Emre Can",
           "BVB Dortmund"
          ],
          [
           "Ederson",
           "Atalanta BC"
          ],
          [
           "Jacob Ramsey",
           "Aston Villa"
          ],
          [
           "Mkhitaryan",
           "Inter"
          ],
          [
           "Gundogan",
           "Manchester City"
          ],
          [
           "Mario Pasalic",
           "Atalanta BC"
          ],
          [
           "Benjamin Andre",
           "Lille"
          ],
          [
           "Orkun Kökcü",
           "Benfica"
          ],
          [
           "De Paul",
           "Atletico Madrid"
          ],
          [
           "Dani Olmo",
           "Barcelona"
          ],
          [
           "Zappacosta",
           "Atalanta BC"
          ],
          [
           "Reo Hatate",
           "Celtic"
          ],
          [
           "Lamine Camara",
           "Monaco"
          ],
          [
           "Ismael Saibari",
           "PSV Eindhoven"
          ],
          [
           "Tchouameni",
           "Real Madrid"
          ],
          [
           "Youri Tielemans",
           "Aston Villa"
          ],
          [
           "Mikel Merino",
           "Arsenal FC"
          ],
          [
           "Angelo Stiller",
           "VfB Stuttgart"
          ],
          [
           "Georgiy Sudakov",
           "Shakhtar Donetsk"
          ],
          [
           "Arne Engels",
           "Celtic"
          ],
          [
           "Casado",
           "Barcelona"
          ],
          [
           "Julian Brandt",
           "BVB Dortmund"
          ],
          [
           "Granit Xhaka",
           "Bayer Leverkusen"
          ],
          [
           "Tillman",
           "PSV Eindhoven"
          ],
          [
           "Callum McGregor",
           "Celtic"
          ],
          [
           "Hjulmand",
           "Sporting CP"
          ],
          [
           "Kimmich",
           "Bayern Munich"
          ],
          [
           "Partey",
           "Arsenal FC"
          ],
          [
           "Llorente",
           "Atletico Madrid"
          ],
          [
           "Mac Allister",
           "Liverpool FC"
          ],
          [
           "Joao Neves",
           "Paris SG"
          ],
          [
           "Declan Rice",
           "Arsenal FC"
          ],
          [
           "Fermin Lopez",
           "Barcelona"
          ],
          [
           "Florian Wirtz",
           "Bayer Leverkusen"
          ],
          [
           "Enzo Millot",
           "VfB Stuttgart"
          ],
          [
           "Baturina",
           "Dinamo Zagreb"
          ],
          [
           "Jashari",
           "Club Brugge"
          ],
          [
           "Rogers",
           "Aston Villa"
          ],
          [
           "Milambo",
           "Feyenoord"
          ],
          [
           "Matheus Nunes",
           "Manchester City"
          ],
          [
           "Valverde",
           "Real Madrid"
          ],
          [
           "Gravenberch",
           "Liverpool FC"
          ],
          [
           "Golovin",
           "Monaco"
          ],
          [
           "Quinten Timber",
           "Feyenoord"
          ],
          [
           "Cabella",
           "Lille"
          ],
          [
           "Locatelli",
           "Juventus"
          ],
          [
           "Palacios",
           "Bayer Leverkusen"
          ]
         ],
         "hovertemplate": "Position=Midfielder<br>Minutes_played=%{x}<br>Goals=%{y}<br>Player=%{customdata[0]}<br>Team=%{customdata[1]}<extra></extra>",
         "legendgroup": "Midfielder",
         "marker": {
          "color": "#EF553B",
          "symbol": "circle"
         },
         "mode": "markers",
         "name": "Midfielder",
         "orientation": "v",
         "showlegend": true,
         "x": {
          "dtype": "i2",
          "bdata": "4gMeAzgEfwQhAs0CfQLjAkMDZgPeA74CqAVdBGgCRwOHAmsClgOsA+MCiAFYAwwCXgIqA+MD7AK4AbsCFANiAtgCIAMWBDIDtwK+AtkCdwJ0AzMDFgKEA/0C7ASDA7UCogKbBe0DwwH9ArICcQK3AwEE/QITAtQEEANBAlUChAGhApoC"
         },
         "xaxis": "x",
         "y": {
          "dtype": "i1",
          "bdata": "AAMBAQAAAQMEAwAEAgABAQABAQIBAQACAwAEAAIAAQADAAICAQIBAAAAAwAAAAACAgEEAQYCAgAEAwEAAAAAAQAA"
         },
         "yaxis": "y",
         "type": "scatter"
        },
        {
         "customdata": [
          [
           "Lewandowski",
           "Barcelona"
          ],
          [
           "Raphinha",
           "Barcelona"
          ],
          [
           "Jude Bellingham",
           "Real Madrid"
          ],
          [
           "Brahim Diaz",
           "Real Madrid"
          ],
          [
           "Lino",
           "Atletico Madrid"
          ],
          [
           "Johan Bakayoko",
           "PSV Eindhoven"
          ],
          [
           "Pulisic",
           "Milan"
          ],
          [
           "Yamal",
           "Barcelona"
          ],
          [
           "Kylian Mbappe",
           "Real Madrid"
          ],
          [
           "Kai Havertz",
           "Arsenal FC"
          ],
          [
           "Kuhn",
           "Celtic"
          ],
          [
           "Kvaratskhelia",
           "Paris SG"
          ],
          [
           "Martinelli",
           "Arsenal FC"
          ],
          [
           "Noa Lang",
           "PSV Eindhoven"
          ],
          [
           "Vinicius Jr",
           "Real Madrid"
          ],
          [
           "Julian Alvarez",
           "Atletico Madrid"
          ],
          [
           "Christos Tzolis",
           "Club Brugge"
          ],
          [
           "Taremi",
           "Inter"
          ],
          [
           "Griezmann",
           "Atletico Madrid"
          ],
          [
           "Santiago Gimenez",
           "Milan"
          ],
          [
           "Pavlidis",
           "Benfica"
          ],
          [
           "Phil Foden",
           "Manchester City"
          ],
          [
           "Lautaro Martinez",
           "Inter"
          ],
          [
           "Di Maria",
           "Benfica"
          ],
          [
           "Benjamin Sesko",
           "Leipzig"
          ],
          [
           "Minamino",
           "Monaco"
          ],
          [
           "Gakpo",
           "Liverpool FC"
          ],
          [
           "Dembele",
           "Paris SG"
          ],
          [
           "Embolo",
           "Monaco"
          ],
          [
           "Quenda",
           "Sporting CP"
          ],
          [
           "Barcola",
           "Paris SG"
          ],
          [
           "Trincao",
           "Sporting CP"
          ],
          [
           "Rafael Leao",
           "Milan"
          ],
          [
           "Bukayo Saka",
           "Arsenal FC"
          ],
          [
           "Kenan Yildiz",
           "Juventus"
          ],
          [
           "Desire Doue",
           "Paris SG"
          ],
          [
           "Adeyemi",
           "BVB Dortmund"
          ],
          [
           "Igor Paixao",
           "Feyenoord"
          ],
          [
           "Maghnes Akliouche",
           "Monaco"
          ],
          [
           "Savinho",
           "Manchester City"
          ],
          [
           "Giuliano Simeone",
           "Atletico Madrid"
          ],
          [
           "Akturkoglu",
           "Benfica"
          ],
          [
           "Salah",
           "Liverpool FC"
          ],
          [
           "Guirassy",
           "BVB Dortmund"
          ],
          [
           "Luuk de Jong",
           "PSV Eindhoven"
          ],
          [
           "Rodrygo",
           "Real Madrid"
          ],
          [
           "Conceiçao",
           "Juventus"
          ],
          [
           "Harry Kane",
           "Bayern Munich"
          ],
          [
           "Viktor Gyokeres",
           "Sporting CP"
          ],
          [
           "Thuram",
           "Inter"
          ],
          [
           "Lookman",
           "Atalanta BC"
          ],
          [
           "Jonathan David",
           "Lille"
          ],
          [
           "Ferran Torres",
           "Barcelona"
          ],
          [
           "Gittens",
           "BVB Dortmund"
          ],
          [
           "Marcus Rashford",
           "Aston Villa"
          ],
          [
           "Jamal Musiala",
           "Bayern Munich"
          ],
          [
           "Olise",
           "Bayern Munich"
          ],
          [
           "Thomas Muller",
           "Bayern Munich"
          ],
          [
           "Haaland",
           "Manchester City"
          ],
          [
           "Lucas Vazquez",
           "Real Madrid"
          ],
          [
           "Dan Ndoye",
           "Bologna"
          ],
          [
           "Luis Diaz",
           "Liverpool FC"
          ],
          [
           "Ivan Perisic",
           "PSV Eindhoven"
          ],
          [
           "Kevin",
           "Shakhtar Donetsk"
          ]
         ],
         "hovertemplate": "Position=Forward<br>Minutes_played=%{x}<br>Goals=%{y}<br>Player=%{customdata[0]}<br>Team=%{customdata[1]}<extra></extra>",
         "legendgroup": "Forward",
         "marker": {
          "color": "#00cc96",
          "symbol": "circle"
         },
         "mode": "markers",
         "name": "Forward",
         "orientation": "v",
         "showlegend": true,
         "x": {
          "dtype": "i2",
          "bdata": "2QPJBHAE3wGbAVwDeAJNBGwEMAIYA98CpwOuAlAEFgOrA8sC3ALBAYkDsQJZAyMCCgI5AnEBiwTuAtICSAQXAx0D+wKcAuYCtAKZAycDQgI7AlUDKAM8BIkDcANeAmAEXgK5A+MB6gKlAVADNQFiAwkEcgEDAz8CawJ5Ak0BzAE="
         },
         "xaxis": "x",
         "y": {
          "dtype": "i1",
          "bdata": "Cw0DAgACBAUHBAMDAgIIBwEBBgYHAwkBBAMDCAEAAwADBgEFBQICAQEEAw0CBQELBgQFBwMEAAMFAwgBAAMDAg=="
         },
         "yaxis": "y",
         "type": "scatter"
        },
        {
         "customdata": [
          [
           "Marco Bizot",
           "Brest"
          ],
          [
           "Chevalier",
           "Lille"
          ],
          [
           "Courtois",
           "Real Madrid"
          ],
          [
           "Mike Maignan",
           "Milan"
          ],
          [
           "Alisson Becker",
           "Liverpool FC"
          ],
          [
           "David Raya",
           "Arsenal FC"
          ],
          [
           "Carnesecchi",
           "Atalanta BC"
          ],
          [
           "Wellenreuther ",
           "Feyenoord"
          ],
          [
           "Donnarumma",
           "Paris SG"
          ],
          [
           "Yann Sommer",
           "Inter"
          ],
          [
           "Di Gregorio",
           "Juventus"
          ],
          [
           "Jan Oblak",
           "Atletico Madrid"
          ],
          [
           "Riznyk",
           "Shakhtar Donetsk"
          ],
          [
           "Emiliano Martinez",
           "Aston Villa"
          ],
          [
           "Szczesny",
           "Barcelona"
          ],
          [
           "Mignolet",
           "Club Brugge"
          ],
          [
           "Franco Israel",
           "Sporting CP"
          ],
          [
           "Skorupski",
           "Bologna"
          ],
          [
           "Schmeichel",
           "Celtic"
          ],
          [
           "Gazzaniga",
           "Girona"
          ]
         ],
         "hovertemplate": "Position=Goalkeeper<br>Minutes_played=%{x}<br>Goals=%{y}<br>Player=%{customdata[0]}<br>Team=%{customdata[1]}<extra></extra>",
         "legendgroup": "Goalkeeper",
         "marker": {
          "color": "#ab63fa",
          "symbol": "circle"
         },
         "mode": "markers",
         "name": "Goalkeeper",
         "orientation": "v",
         "showlegend": true,
         "x": {
          "dtype": "i2",
          "bdata": "KgOEA1YEXQM6ApIEKgO7A2QFCgXPAqID0AI4BO4COATQAnYChAN2Ag=="
         },
         "xaxis": "x",
         "y": {
          "dtype": "i1",
          "bdata": "AAAAAAAAAAAAAAAAAAAAAAAAAAA="
         },
         "yaxis": "y",
         "type": "scatter"
        }
       ],
       "layout": {
        "template": {
         "data": {
          "histogram2dcontour": [
           {
            "type": "histogram2dcontour",
            "colorbar": {
             "outlinewidth": 0,
             "ticks": ""
            },
            "colorscale": [
             [
              0.0,
              "#0d0887"
             ],
             [
              0.1111111111111111,
              "#46039f"
             ],
             [
              0.2222222222222222,
              "#7201a8"
             ],
             [
              0.3333333333333333,
              "#9c179e"
             ],
             [
              0.4444444444444444,
              "#bd3786"
             ],
             [
              0.5555555555555556,
              "#d8576b"
             ],
             [
              0.6666666666666666,
              "#ed7953"
             ],
             [
              0.7777777777777778,
              "#fb9f3a"
             ],
             [
              0.8888888888888888,
              "#fdca26"
             ],
             [
              1.0,
              "#f0f921"
             ]
            ]
           }
          ],
          "choropleth": [
           {
            "type": "choropleth",
            "colorbar": {
             "outlinewidth": 0,
             "ticks": ""
            }
           }
          ],
          "histogram2d": [
           {
            "type": "histogram2d",
            "colorbar": {
             "outlinewidth": 0,
             "ticks": ""
            },
            "colorscale": [
             [
              0.0,
              "#0d0887"
             ],
             [
              0.1111111111111111,
              "#46039f"
             ],
             [
              0.2222222222222222,
              "#7201a8"
             ],
             [
              0.3333333333333333,
              "#9c179e"
             ],
             [
              0.4444444444444444,
              "#bd3786"
             ],
             [
              0.5555555555555556,
              "#d8576b"
             ],
             [
              0.6666666666666666,
              "#ed7953"
             ],
             [
              0.7777777777777778,
              "#fb9f3a"
             ],
             [
              0.8888888888888888,
              "#fdca26"
             ],
             [
              1.0,
              "#f0f921"
             ]
            ]
           }
          ],
          "heatmap": [
           {
            "type": "heatmap",
            "colorbar": {
             "outlinewidth": 0,
             "ticks": ""
            },
            "colorscale": [
             [
              0.0,
              "#0d0887"
             ],
             [
              0.1111111111111111,
              "#46039f"
             ],
             [
              0.2222222222222222,
              "#7201a8"
             ],
             [
              0.3333333333333333,
              "#9c179e"
             ],
             [
              0.4444444444444444,
              "#bd3786"
             ],
             [
              0.5555555555555556,
              "#d8576b"
             ],
             [
              0.6666666666666666,
              "#ed7953"
             ],
             [
              0.7777777777777778,
              "#fb9f3a"
             ],
             [
              0.8888888888888888,
              "#fdca26"
             ],
             [
              1.0,
              "#f0f921"
             ]
            ]
           }
          ],
          "contourcarpet": [
           {
            "type": "contourcarpet",
            "colorbar": {
             "outlinewidth": 0,
             "ticks": ""
            }
           }
          ],
          "contour": [
           {
            "type": "contour",
            "colorbar": {
             "outlinewidth": 0,
             "ticks": ""
            },
            "colorscale": [
             [
              0.0,
              "#0d0887"
             ],
             [
              0.1111111111111111,
              "#46039f"
             ],
             [
              0.2222222222222222,
              "#7201a8"
             ],
             [
              0.3333333333333333,
              "#9c179e"
             ],
             [
              0.4444444444444444,
              "#bd3786"
             ],
             [
              0.5555555555555556,
              "#d8576b"
             ],
             [
              0.6666666666666666,
              "#ed7953"
             ],
             [
              0.7777777777777778,
              "#fb9f3a"
             ],
             [
              0.8888888888888888,
              "#fdca26"
             ],
             [
              1.0,
              "#f0f921"
             ]
            ]
           }
          ],
          "surface": [
           {
            "type": "surface",
            "colorbar": {
             "outlinewidth": 0,
             "ticks": ""
            },
            "colorscale": [
             [
              0.0,
              "#0d0887"
             ],
             [
              0.1111111111111111,
              "#46039f"
             ],
             [
              0.2222222222222222,
              "#7201a8"
             ],
             [
              0.3333333333333333,
              "#9c179e"
             ],
             [
              0.4444444444444444,
              "#bd3786"
             ],
             [
              0.5555555555555556,
              "#d8576b"
             ],
             [
              0.6666666666666666,
              "#ed7953"
             ],
             [
              0.7777777777777778,
              "#fb9f3a"
             ],
             [
              0.8888888888888888,
              "#fdca26"
             ],
             [
              1.0,
              "#f0f921"
             ]
            ]
           }
          ],
          "mesh3d": [
           {
            "type": "mesh3d",
            "colorbar": {
             "outlinewidth": 0,
             "ticks": ""
            }
           }
          ],
          "scatter": [
           {
            "fillpattern": {
             "fillmode": "overlay",
             "size": 10,
             "solidity": 0.2
            },
            "type": "scatter"
           }
          ],
          "parcoords": [
           {
            "type": "parcoords",
            "line": {
             "colorbar": {
              "outlinewidth": 0,
              "ticks": ""
             }
            }
           }
          ],
          "scatterpolargl": [
           {
            "type": "scatterpolargl",
            "marker": {
             "colorbar": {
              "outlinewidth": 0,
              "ticks": ""
             }
            }
           }
          ],
          "bar": [
           {
            "error_x": {
             "color": "#2a3f5f"
            },
            "error_y": {
             "color": "#2a3f5f"
            },
            "marker": {
             "line": {
              "color": "#E5ECF6",
              "width": 0.5
             },
             "pattern": {
              "fillmode": "overlay",
              "size": 10,
              "solidity": 0.2
             }
            },
            "type": "bar"
           }
          ],
          "scattergeo": [
           {
            "type": "scattergeo",
            "marker": {
             "colorbar": {
              "outlinewidth": 0,
              "ticks": ""
             }
            }
           }
          ],
          "scatterpolar": [
           {
            "type": "scatterpolar",
            "marker": {
             "colorbar": {
              "outlinewidth": 0,
              "ticks": ""
             }
            }
           }
          ],
          "histogram": [
           {
            "marker": {
             "pattern": {
              "fillmode": "overlay",
              "size": 10,
              "solidity": 0.2
             }
            },
            "type": "histogram"
           }
          ],
          "scattergl": [
           {
            "type": "scattergl",
            "marker": {
             "colorbar": {
              "outlinewidth": 0,
              "ticks": ""
             }
            }
           }
          ],
          "scatter3d": [
           {
            "type": "scatter3d",
            "line": {
             "colorbar": {
              "outlinewidth": 0,
              "ticks": ""
             }
            },
            "marker": {
             "colorbar": {
              "outlinewidth": 0,
              "ticks": ""
             }
            }
           }
          ],
          "scattermap": [
           {
            "type": "scattermap",
            "marker": {
             "colorbar": {
              "outlinewidth": 0,
              "ticks": ""
             }
            }
           }
          ],
          "scattermapbox": [
           {
            "type": "scattermapbox",
            "marker": {
             "colorbar": {
              "outlinewidth": 0,
              "ticks": ""
             }
            }
           }
          ],
          "scatterternary": [
           {
            "type": "scatterternary",
            "marker": {
             "colorbar": {
              "outlinewidth": 0,
              "ticks": ""
             }
            }
           }
          ],
          "scattercarpet": [
           {
            "type": "scattercarpet",
            "marker": {
             "colorbar": {
              "outlinewidth": 0,
              "ticks": ""
             }
            }
           }
          ],
          "carpet": [
           {
            "aaxis": {
             "endlinecolor": "#2a3f5f",
             "gridcolor": "white",
             "linecolor": "white",
             "minorgridcolor": "white",
             "startlinecolor": "#2a3f5f"
            },
            "baxis": {
             "endlinecolor": "#2a3f5f",
             "gridcolor": "white",
             "linecolor": "white",
             "minorgridcolor": "white",
             "startlinecolor": "#2a3f5f"
            },
            "type": "carpet"
           }
          ],
          "table": [
           {
            "cells": {
             "fill": {
              "color": "#EBF0F8"
             },
             "line": {
              "color": "white"
             }
            },
            "header": {
             "fill": {
              "color": "#C8D4E3"
             },
             "line": {
              "color": "white"
             }
            },
            "type": "table"
           }
          ],
          "barpolar": [
           {
            "marker": {
             "line": {
              "color": "#E5ECF6",
              "width": 0.5
             },
             "pattern": {
              "fillmode": "overlay",
              "size": 10,
              "solidity": 0.2
             }
            },
            "type": "barpolar"
           }
          ],
          "pie": [
           {
            "automargin": true,
            "type": "pie"
           }
          ]
         },
         "layout": {
          "autotypenumbers": "strict",
          "colorway": [
           "#636efa",
           "#EF553B",
           "#00cc96",
           "#ab63fa",
           "#FFA15A",
           "#19d3f3",
           "#FF6692",
           "#B6E880",
           "#FF97FF",
           "#FECB52"
          ],
          "font": {
           "color": "#2a3f5f"
          },
          "hovermode": "closest",
          "hoverlabel": {
           "align": "left"
          },
          "paper_bgcolor": "white",
          "plot_bgcolor": "#E5ECF6",
          "polar": {
           "bgcolor": "#E5ECF6",
           "angularaxis": {
            "gridcolor": "white",
            "linecolor": "white",
            "ticks": ""
           },
           "radialaxis": {
            "gridcolor": "white",
            "linecolor": "white",
            "ticks": ""
           }
          },
          "ternary": {
           "bgcolor": "#E5ECF6",
           "aaxis": {
            "gridcolor": "white",
            "linecolor": "white",
            "ticks": ""
           },
           "baxis": {
            "gridcolor": "white",
            "linecolor": "white",
            "ticks": ""
           },
           "caxis": {
            "gridcolor": "white",
            "linecolor": "white",
            "ticks": ""
           }
          },
          "coloraxis": {
           "colorbar": {
            "outlinewidth": 0,
            "ticks": ""
           }
          },
          "colorscale": {
           "sequential": [
            [
             0.0,
             "#0d0887"
            ],
            [
             0.1111111111111111,
             "#46039f"
            ],
            [
             0.2222222222222222,
             "#7201a8"
            ],
            [
             0.3333333333333333,
             "#9c179e"
            ],
            [
             0.4444444444444444,
             "#bd3786"
            ],
            [
             0.5555555555555556,
             "#d8576b"
            ],
            [
             0.6666666666666666,
             "#ed7953"
            ],
            [
             0.7777777777777778,
             "#fb9f3a"
            ],
            [
             0.8888888888888888,
             "#fdca26"
            ],
            [
             1.0,
             "#f0f921"
            ]
           ],
           "sequentialminus": [
            [
             0.0,
             "#0d0887"
            ],
            [
             0.1111111111111111,
             "#46039f"
            ],
            [
             0.2222222222222222,
             "#7201a8"
            ],
            [
             0.3333333333333333,
             "#9c179e"
            ],
            [
             0.4444444444444444,
             "#bd3786"
            ],
            [
             0.5555555555555556,
             "#d8576b"
            ],
            [
             0.6666666666666666,
             "#ed7953"
            ],
            [
             0.7777777777777778,
             "#fb9f3a"
            ],
            [
             0.8888888888888888,
             "#fdca26"
            ],
            [
             1.0,
             "#f0f921"
            ]
           ],
           "diverging": [
            [
             0,
             "#8e0152"
            ],
            [
             0.1,
             "#c51b7d"
            ],
            [
             0.2,
             "#de77ae"
            ],
            [
             0.3,
             "#f1b6da"
            ],
            [
             0.4,
             "#fde0ef"
            ],
            [
             0.5,
             "#f7f7f7"
            ],
            [
             0.6,
             "#e6f5d0"
            ],
            [
             0.7,
             "#b8e186"
            ],
            [
             0.8,
             "#7fbc41"
            ],
            [
             0.9,
             "#4d9221"
            ],
            [
             1,
             "#276419"
            ]
           ]
          },
          "xaxis": {
           "gridcolor": "white",
           "linecolor": "white",
           "ticks": "",
           "title": {
            "standoff": 15
           },
           "zerolinecolor": "white",
           "automargin": true,
           "zerolinewidth": 2
          },
          "yaxis": {
           "gridcolor": "white",
           "linecolor": "white",
           "ticks": "",
           "title": {
            "standoff": 15
           },
           "zerolinecolor": "white",
           "automargin": true,
           "zerolinewidth": 2
          },
          "scene": {
           "xaxis": {
            "backgroundcolor": "#E5ECF6",
            "gridcolor": "white",
            "linecolor": "white",
            "showbackground": true,
            "ticks": "",
            "zerolinecolor": "white",
            "gridwidth": 2
           },
           "yaxis": {
            "backgroundcolor": "#E5ECF6",
            "gridcolor": "white",
            "linecolor": "white",
            "showbackground": true,
            "ticks": "",
            "zerolinecolor": "white",
            "gridwidth": 2
           },
           "zaxis": {
            "backgroundcolor": "#E5ECF6",
            "gridcolor": "white",
            "linecolor": "white",
            "showbackground": true,
            "ticks": "",
            "zerolinecolor": "white",
            "gridwidth": 2
           }
          },
          "shapedefaults": {
           "line": {
            "color": "#2a3f5f"
           }
          },
          "annotationdefaults": {
           "arrowcolor": "#2a3f5f",
           "arrowhead": 0,
           "arrowwidth": 1
          },
          "geo": {
           "bgcolor": "white",
           "landcolor": "#E5ECF6",
           "subunitcolor": "white",
           "showland": true,
           "showlakes": true,
           "lakecolor": "white"
          },
          "title": {
           "x": 0.05
          },
          "mapbox": {
           "style": "light"
          }
         }
        },
        "xaxis": {
         "anchor": "y",
         "domain": [
          0.0,
          1.0
         ],
         "title": {
          "text": "Minutes_played"
         }
        },
        "yaxis": {
         "anchor": "x",
         "domain": [
          0.0,
          1.0
         ],
         "title": {
          "text": "Goals"
         }
        },
        "legend": {
         "title": {
          "text": "Position"
         },
         "tracegroupgap": 0
        },
        "title": {
         "text": "Goals vs Minutes Played by Player Position"
        }
       },
       "config": {
        "plotlyServerURL": "https://plot.ly"
       }
      }
     },
     "metadata": {},
     "output_type": "display_data"
    }
   ],
   "execution_count": 38
  },
  {
   "metadata": {},
   "cell_type": "markdown",
   "source": [
    "#### Lojtaret mem ndikim në ndeshje (MOTM)\n",
    "##### Top 10 lojtaret me më shumë “Man of the Match” (MOTM_Awards)"
   ],
   "id": "476f4a917a5f7bcc"
  },
  {
   "metadata": {
    "ExecuteTime": {
     "end_time": "2025-06-15T11:37:49.439595Z",
     "start_time": "2025-06-15T11:37:49.432728Z"
    }
   },
   "cell_type": "code",
   "source": "top_motm = ucl[['Player', 'Team', 'MOTM_Awards','Goals']].sort_values(by='MOTM_Awards', ascending=False).head(10)",
   "id": "659dee2b49736e50",
   "outputs": [],
   "execution_count": 39
  },
  {
   "metadata": {
    "ExecuteTime": {
     "end_time": "2025-06-15T11:37:49.536307Z",
     "start_time": "2025-06-15T11:37:49.488069Z"
    }
   },
   "cell_type": "code",
   "source": "px.bar(top_motm, x='Player', y='Goals', color='MOTM_Awards', title='Top MOTM Awards Winners', text='Goals', hover_name='Team')",
   "id": "dac6027b1c02599a",
   "outputs": [
    {
     "data": {
      "application/vnd.plotly.v1+json": {
       "data": [
        {
         "hovertemplate": "<b>%{hovertext}</b><br><br>Player=%{x}<br>Goals=%{text}<br>MOTM_Awards=%{marker.color}<extra></extra>",
         "hovertext": [
          "Inter",
          "Barcelona",
          "Atletico Madrid",
          "Real Madrid",
          "Atletico Madrid",
          "Paris SG",
          "Bayern Munich",
          "BVB Dortmund",
          "Milan",
          "Paris SG"
         ],
         "legendgroup": "",
         "marker": {
          "color": {
           "dtype": "i1",
           "bdata": "BAMDAwMDAwMDAg=="
          },
          "coloraxis": "coloraxis",
          "pattern": {
           "shape": ""
          }
         },
         "name": "",
         "orientation": "v",
         "showlegend": false,
         "text": {
          "dtype": "f8",
          "bdata": "AAAAAAAAIkAAAAAAAAAqQAAAAAAAABhAAAAAAAAAIEAAAAAAAAAcQAAAAAAAAABAAAAAAAAAJkAAAAAAAAAqQAAAAAAAAAhAAAAAAAAAEEA="
         },
         "textposition": "auto",
         "x": [
          "Lautaro Martinez",
          "Raphinha",
          "Griezmann",
          "Vinicius Jr",
          "Julian Alvarez",
          "Vitinha",
          "Harry Kane",
          "Guirassy",
          "Rafael Leao",
          "Hakimi"
         ],
         "xaxis": "x",
         "y": {
          "dtype": "i1",
          "bdata": "CQ0GCAcCCw0DBA=="
         },
         "yaxis": "y",
         "type": "bar"
        }
       ],
       "layout": {
        "template": {
         "data": {
          "histogram2dcontour": [
           {
            "type": "histogram2dcontour",
            "colorbar": {
             "outlinewidth": 0,
             "ticks": ""
            },
            "colorscale": [
             [
              0.0,
              "#0d0887"
             ],
             [
              0.1111111111111111,
              "#46039f"
             ],
             [
              0.2222222222222222,
              "#7201a8"
             ],
             [
              0.3333333333333333,
              "#9c179e"
             ],
             [
              0.4444444444444444,
              "#bd3786"
             ],
             [
              0.5555555555555556,
              "#d8576b"
             ],
             [
              0.6666666666666666,
              "#ed7953"
             ],
             [
              0.7777777777777778,
              "#fb9f3a"
             ],
             [
              0.8888888888888888,
              "#fdca26"
             ],
             [
              1.0,
              "#f0f921"
             ]
            ]
           }
          ],
          "choropleth": [
           {
            "type": "choropleth",
            "colorbar": {
             "outlinewidth": 0,
             "ticks": ""
            }
           }
          ],
          "histogram2d": [
           {
            "type": "histogram2d",
            "colorbar": {
             "outlinewidth": 0,
             "ticks": ""
            },
            "colorscale": [
             [
              0.0,
              "#0d0887"
             ],
             [
              0.1111111111111111,
              "#46039f"
             ],
             [
              0.2222222222222222,
              "#7201a8"
             ],
             [
              0.3333333333333333,
              "#9c179e"
             ],
             [
              0.4444444444444444,
              "#bd3786"
             ],
             [
              0.5555555555555556,
              "#d8576b"
             ],
             [
              0.6666666666666666,
              "#ed7953"
             ],
             [
              0.7777777777777778,
              "#fb9f3a"
             ],
             [
              0.8888888888888888,
              "#fdca26"
             ],
             [
              1.0,
              "#f0f921"
             ]
            ]
           }
          ],
          "heatmap": [
           {
            "type": "heatmap",
            "colorbar": {
             "outlinewidth": 0,
             "ticks": ""
            },
            "colorscale": [
             [
              0.0,
              "#0d0887"
             ],
             [
              0.1111111111111111,
              "#46039f"
             ],
             [
              0.2222222222222222,
              "#7201a8"
             ],
             [
              0.3333333333333333,
              "#9c179e"
             ],
             [
              0.4444444444444444,
              "#bd3786"
             ],
             [
              0.5555555555555556,
              "#d8576b"
             ],
             [
              0.6666666666666666,
              "#ed7953"
             ],
             [
              0.7777777777777778,
              "#fb9f3a"
             ],
             [
              0.8888888888888888,
              "#fdca26"
             ],
             [
              1.0,
              "#f0f921"
             ]
            ]
           }
          ],
          "contourcarpet": [
           {
            "type": "contourcarpet",
            "colorbar": {
             "outlinewidth": 0,
             "ticks": ""
            }
           }
          ],
          "contour": [
           {
            "type": "contour",
            "colorbar": {
             "outlinewidth": 0,
             "ticks": ""
            },
            "colorscale": [
             [
              0.0,
              "#0d0887"
             ],
             [
              0.1111111111111111,
              "#46039f"
             ],
             [
              0.2222222222222222,
              "#7201a8"
             ],
             [
              0.3333333333333333,
              "#9c179e"
             ],
             [
              0.4444444444444444,
              "#bd3786"
             ],
             [
              0.5555555555555556,
              "#d8576b"
             ],
             [
              0.6666666666666666,
              "#ed7953"
             ],
             [
              0.7777777777777778,
              "#fb9f3a"
             ],
             [
              0.8888888888888888,
              "#fdca26"
             ],
             [
              1.0,
              "#f0f921"
             ]
            ]
           }
          ],
          "surface": [
           {
            "type": "surface",
            "colorbar": {
             "outlinewidth": 0,
             "ticks": ""
            },
            "colorscale": [
             [
              0.0,
              "#0d0887"
             ],
             [
              0.1111111111111111,
              "#46039f"
             ],
             [
              0.2222222222222222,
              "#7201a8"
             ],
             [
              0.3333333333333333,
              "#9c179e"
             ],
             [
              0.4444444444444444,
              "#bd3786"
             ],
             [
              0.5555555555555556,
              "#d8576b"
             ],
             [
              0.6666666666666666,
              "#ed7953"
             ],
             [
              0.7777777777777778,
              "#fb9f3a"
             ],
             [
              0.8888888888888888,
              "#fdca26"
             ],
             [
              1.0,
              "#f0f921"
             ]
            ]
           }
          ],
          "mesh3d": [
           {
            "type": "mesh3d",
            "colorbar": {
             "outlinewidth": 0,
             "ticks": ""
            }
           }
          ],
          "scatter": [
           {
            "fillpattern": {
             "fillmode": "overlay",
             "size": 10,
             "solidity": 0.2
            },
            "type": "scatter"
           }
          ],
          "parcoords": [
           {
            "type": "parcoords",
            "line": {
             "colorbar": {
              "outlinewidth": 0,
              "ticks": ""
             }
            }
           }
          ],
          "scatterpolargl": [
           {
            "type": "scatterpolargl",
            "marker": {
             "colorbar": {
              "outlinewidth": 0,
              "ticks": ""
             }
            }
           }
          ],
          "bar": [
           {
            "error_x": {
             "color": "#2a3f5f"
            },
            "error_y": {
             "color": "#2a3f5f"
            },
            "marker": {
             "line": {
              "color": "#E5ECF6",
              "width": 0.5
             },
             "pattern": {
              "fillmode": "overlay",
              "size": 10,
              "solidity": 0.2
             }
            },
            "type": "bar"
           }
          ],
          "scattergeo": [
           {
            "type": "scattergeo",
            "marker": {
             "colorbar": {
              "outlinewidth": 0,
              "ticks": ""
             }
            }
           }
          ],
          "scatterpolar": [
           {
            "type": "scatterpolar",
            "marker": {
             "colorbar": {
              "outlinewidth": 0,
              "ticks": ""
             }
            }
           }
          ],
          "histogram": [
           {
            "marker": {
             "pattern": {
              "fillmode": "overlay",
              "size": 10,
              "solidity": 0.2
             }
            },
            "type": "histogram"
           }
          ],
          "scattergl": [
           {
            "type": "scattergl",
            "marker": {
             "colorbar": {
              "outlinewidth": 0,
              "ticks": ""
             }
            }
           }
          ],
          "scatter3d": [
           {
            "type": "scatter3d",
            "line": {
             "colorbar": {
              "outlinewidth": 0,
              "ticks": ""
             }
            },
            "marker": {
             "colorbar": {
              "outlinewidth": 0,
              "ticks": ""
             }
            }
           }
          ],
          "scattermap": [
           {
            "type": "scattermap",
            "marker": {
             "colorbar": {
              "outlinewidth": 0,
              "ticks": ""
             }
            }
           }
          ],
          "scattermapbox": [
           {
            "type": "scattermapbox",
            "marker": {
             "colorbar": {
              "outlinewidth": 0,
              "ticks": ""
             }
            }
           }
          ],
          "scatterternary": [
           {
            "type": "scatterternary",
            "marker": {
             "colorbar": {
              "outlinewidth": 0,
              "ticks": ""
             }
            }
           }
          ],
          "scattercarpet": [
           {
            "type": "scattercarpet",
            "marker": {
             "colorbar": {
              "outlinewidth": 0,
              "ticks": ""
             }
            }
           }
          ],
          "carpet": [
           {
            "aaxis": {
             "endlinecolor": "#2a3f5f",
             "gridcolor": "white",
             "linecolor": "white",
             "minorgridcolor": "white",
             "startlinecolor": "#2a3f5f"
            },
            "baxis": {
             "endlinecolor": "#2a3f5f",
             "gridcolor": "white",
             "linecolor": "white",
             "minorgridcolor": "white",
             "startlinecolor": "#2a3f5f"
            },
            "type": "carpet"
           }
          ],
          "table": [
           {
            "cells": {
             "fill": {
              "color": "#EBF0F8"
             },
             "line": {
              "color": "white"
             }
            },
            "header": {
             "fill": {
              "color": "#C8D4E3"
             },
             "line": {
              "color": "white"
             }
            },
            "type": "table"
           }
          ],
          "barpolar": [
           {
            "marker": {
             "line": {
              "color": "#E5ECF6",
              "width": 0.5
             },
             "pattern": {
              "fillmode": "overlay",
              "size": 10,
              "solidity": 0.2
             }
            },
            "type": "barpolar"
           }
          ],
          "pie": [
           {
            "automargin": true,
            "type": "pie"
           }
          ]
         },
         "layout": {
          "autotypenumbers": "strict",
          "colorway": [
           "#636efa",
           "#EF553B",
           "#00cc96",
           "#ab63fa",
           "#FFA15A",
           "#19d3f3",
           "#FF6692",
           "#B6E880",
           "#FF97FF",
           "#FECB52"
          ],
          "font": {
           "color": "#2a3f5f"
          },
          "hovermode": "closest",
          "hoverlabel": {
           "align": "left"
          },
          "paper_bgcolor": "white",
          "plot_bgcolor": "#E5ECF6",
          "polar": {
           "bgcolor": "#E5ECF6",
           "angularaxis": {
            "gridcolor": "white",
            "linecolor": "white",
            "ticks": ""
           },
           "radialaxis": {
            "gridcolor": "white",
            "linecolor": "white",
            "ticks": ""
           }
          },
          "ternary": {
           "bgcolor": "#E5ECF6",
           "aaxis": {
            "gridcolor": "white",
            "linecolor": "white",
            "ticks": ""
           },
           "baxis": {
            "gridcolor": "white",
            "linecolor": "white",
            "ticks": ""
           },
           "caxis": {
            "gridcolor": "white",
            "linecolor": "white",
            "ticks": ""
           }
          },
          "coloraxis": {
           "colorbar": {
            "outlinewidth": 0,
            "ticks": ""
           }
          },
          "colorscale": {
           "sequential": [
            [
             0.0,
             "#0d0887"
            ],
            [
             0.1111111111111111,
             "#46039f"
            ],
            [
             0.2222222222222222,
             "#7201a8"
            ],
            [
             0.3333333333333333,
             "#9c179e"
            ],
            [
             0.4444444444444444,
             "#bd3786"
            ],
            [
             0.5555555555555556,
             "#d8576b"
            ],
            [
             0.6666666666666666,
             "#ed7953"
            ],
            [
             0.7777777777777778,
             "#fb9f3a"
            ],
            [
             0.8888888888888888,
             "#fdca26"
            ],
            [
             1.0,
             "#f0f921"
            ]
           ],
           "sequentialminus": [
            [
             0.0,
             "#0d0887"
            ],
            [
             0.1111111111111111,
             "#46039f"
            ],
            [
             0.2222222222222222,
             "#7201a8"
            ],
            [
             0.3333333333333333,
             "#9c179e"
            ],
            [
             0.4444444444444444,
             "#bd3786"
            ],
            [
             0.5555555555555556,
             "#d8576b"
            ],
            [
             0.6666666666666666,
             "#ed7953"
            ],
            [
             0.7777777777777778,
             "#fb9f3a"
            ],
            [
             0.8888888888888888,
             "#fdca26"
            ],
            [
             1.0,
             "#f0f921"
            ]
           ],
           "diverging": [
            [
             0,
             "#8e0152"
            ],
            [
             0.1,
             "#c51b7d"
            ],
            [
             0.2,
             "#de77ae"
            ],
            [
             0.3,
             "#f1b6da"
            ],
            [
             0.4,
             "#fde0ef"
            ],
            [
             0.5,
             "#f7f7f7"
            ],
            [
             0.6,
             "#e6f5d0"
            ],
            [
             0.7,
             "#b8e186"
            ],
            [
             0.8,
             "#7fbc41"
            ],
            [
             0.9,
             "#4d9221"
            ],
            [
             1,
             "#276419"
            ]
           ]
          },
          "xaxis": {
           "gridcolor": "white",
           "linecolor": "white",
           "ticks": "",
           "title": {
            "standoff": 15
           },
           "zerolinecolor": "white",
           "automargin": true,
           "zerolinewidth": 2
          },
          "yaxis": {
           "gridcolor": "white",
           "linecolor": "white",
           "ticks": "",
           "title": {
            "standoff": 15
           },
           "zerolinecolor": "white",
           "automargin": true,
           "zerolinewidth": 2
          },
          "scene": {
           "xaxis": {
            "backgroundcolor": "#E5ECF6",
            "gridcolor": "white",
            "linecolor": "white",
            "showbackground": true,
            "ticks": "",
            "zerolinecolor": "white",
            "gridwidth": 2
           },
           "yaxis": {
            "backgroundcolor": "#E5ECF6",
            "gridcolor": "white",
            "linecolor": "white",
            "showbackground": true,
            "ticks": "",
            "zerolinecolor": "white",
            "gridwidth": 2
           },
           "zaxis": {
            "backgroundcolor": "#E5ECF6",
            "gridcolor": "white",
            "linecolor": "white",
            "showbackground": true,
            "ticks": "",
            "zerolinecolor": "white",
            "gridwidth": 2
           }
          },
          "shapedefaults": {
           "line": {
            "color": "#2a3f5f"
           }
          },
          "annotationdefaults": {
           "arrowcolor": "#2a3f5f",
           "arrowhead": 0,
           "arrowwidth": 1
          },
          "geo": {
           "bgcolor": "white",
           "landcolor": "#E5ECF6",
           "subunitcolor": "white",
           "showland": true,
           "showlakes": true,
           "lakecolor": "white"
          },
          "title": {
           "x": 0.05
          },
          "mapbox": {
           "style": "light"
          }
         }
        },
        "xaxis": {
         "anchor": "y",
         "domain": [
          0.0,
          1.0
         ],
         "title": {
          "text": "Player"
         }
        },
        "yaxis": {
         "anchor": "x",
         "domain": [
          0.0,
          1.0
         ],
         "title": {
          "text": "Goals"
         }
        },
        "coloraxis": {
         "colorbar": {
          "title": {
           "text": "MOTM_Awards"
          }
         },
         "colorscale": [
          [
           0.0,
           "#0d0887"
          ],
          [
           0.1111111111111111,
           "#46039f"
          ],
          [
           0.2222222222222222,
           "#7201a8"
          ],
          [
           0.3333333333333333,
           "#9c179e"
          ],
          [
           0.4444444444444444,
           "#bd3786"
          ],
          [
           0.5555555555555556,
           "#d8576b"
          ],
          [
           0.6666666666666666,
           "#ed7953"
          ],
          [
           0.7777777777777778,
           "#fb9f3a"
          ],
          [
           0.8888888888888888,
           "#fdca26"
          ],
          [
           1.0,
           "#f0f921"
          ]
         ]
        },
        "legend": {
         "tracegroupgap": 0
        },
        "title": {
         "text": "Top MOTM Awards Winners"
        },
        "barmode": "relative"
       },
       "config": {
        "plotlyServerURL": "https://plot.ly"
       }
      }
     },
     "metadata": {},
     "output_type": "display_data"
    }
   ],
   "execution_count": 40
  },
  {
   "metadata": {
    "ExecuteTime": {
     "end_time": "2025-06-15T11:37:49.584181Z",
     "start_time": "2025-06-15T11:37:49.577672Z"
    }
   },
   "cell_type": "code",
   "source": "top_motm_rating = ucl[['Player', 'Team', 'MOTM_Awards','Rating']].sort_values(by='MOTM_Awards', ascending=False).head(10)",
   "id": "2c8fe04444874dc7",
   "outputs": [],
   "execution_count": 41
  },
  {
   "metadata": {
    "ExecuteTime": {
     "end_time": "2025-06-15T11:37:49.689542Z",
     "start_time": "2025-06-15T11:37:49.641464Z"
    }
   },
   "cell_type": "code",
   "source": "px.bar(top_motm_rating, x='Player', y='MOTM_Awards', color='Rating', title='Top MOTM Awards Winners', text='Rating', hover_name='Team')",
   "id": "92ea8b56b88c090d",
   "outputs": [
    {
     "data": {
      "application/vnd.plotly.v1+json": {
       "data": [
        {
         "hovertemplate": "<b>%{hovertext}</b><br><br>Player=%{x}<br>MOTM_Awards=%{y}<br>Rating=%{marker.color}<extra></extra>",
         "hovertext": [
          "Inter",
          "Barcelona",
          "Atletico Madrid",
          "Real Madrid",
          "Atletico Madrid",
          "Paris SG",
          "Bayern Munich",
          "BVB Dortmund",
          "Milan",
          "Paris SG"
         ],
         "legendgroup": "",
         "marker": {
          "color": {
           "dtype": "f8",
           "bdata": "rkfhehSuHUAfhetRuJ4gQGZmZmZmZh9AKVyPwvUoH0BmZmZmZmYeQFyPwvUoXB5AexSuR+F6H0AzMzMzMzMfQOF6FK5H4RxAexSuR+F6H0A="
          },
          "coloraxis": "coloraxis",
          "pattern": {
           "shape": ""
          }
         },
         "name": "",
         "orientation": "v",
         "showlegend": false,
         "text": {
          "dtype": "f8",
          "bdata": "rkfhehSuHUAfhetRuJ4gQGZmZmZmZh9AKVyPwvUoH0BmZmZmZmYeQFyPwvUoXB5AexSuR+F6H0AzMzMzMzMfQOF6FK5H4RxAexSuR+F6H0A="
         },
         "textposition": "auto",
         "x": [
          "Lautaro Martinez",
          "Raphinha",
          "Griezmann",
          "Vinicius Jr",
          "Julian Alvarez",
          "Vitinha",
          "Harry Kane",
          "Guirassy",
          "Rafael Leao",
          "Hakimi"
         ],
         "xaxis": "x",
         "y": {
          "dtype": "i1",
          "bdata": "BAMDAwMDAwMDAg=="
         },
         "yaxis": "y",
         "type": "bar"
        }
       ],
       "layout": {
        "template": {
         "data": {
          "histogram2dcontour": [
           {
            "type": "histogram2dcontour",
            "colorbar": {
             "outlinewidth": 0,
             "ticks": ""
            },
            "colorscale": [
             [
              0.0,
              "#0d0887"
             ],
             [
              0.1111111111111111,
              "#46039f"
             ],
             [
              0.2222222222222222,
              "#7201a8"
             ],
             [
              0.3333333333333333,
              "#9c179e"
             ],
             [
              0.4444444444444444,
              "#bd3786"
             ],
             [
              0.5555555555555556,
              "#d8576b"
             ],
             [
              0.6666666666666666,
              "#ed7953"
             ],
             [
              0.7777777777777778,
              "#fb9f3a"
             ],
             [
              0.8888888888888888,
              "#fdca26"
             ],
             [
              1.0,
              "#f0f921"
             ]
            ]
           }
          ],
          "choropleth": [
           {
            "type": "choropleth",
            "colorbar": {
             "outlinewidth": 0,
             "ticks": ""
            }
           }
          ],
          "histogram2d": [
           {
            "type": "histogram2d",
            "colorbar": {
             "outlinewidth": 0,
             "ticks": ""
            },
            "colorscale": [
             [
              0.0,
              "#0d0887"
             ],
             [
              0.1111111111111111,
              "#46039f"
             ],
             [
              0.2222222222222222,
              "#7201a8"
             ],
             [
              0.3333333333333333,
              "#9c179e"
             ],
             [
              0.4444444444444444,
              "#bd3786"
             ],
             [
              0.5555555555555556,
              "#d8576b"
             ],
             [
              0.6666666666666666,
              "#ed7953"
             ],
             [
              0.7777777777777778,
              "#fb9f3a"
             ],
             [
              0.8888888888888888,
              "#fdca26"
             ],
             [
              1.0,
              "#f0f921"
             ]
            ]
           }
          ],
          "heatmap": [
           {
            "type": "heatmap",
            "colorbar": {
             "outlinewidth": 0,
             "ticks": ""
            },
            "colorscale": [
             [
              0.0,
              "#0d0887"
             ],
             [
              0.1111111111111111,
              "#46039f"
             ],
             [
              0.2222222222222222,
              "#7201a8"
             ],
             [
              0.3333333333333333,
              "#9c179e"
             ],
             [
              0.4444444444444444,
              "#bd3786"
             ],
             [
              0.5555555555555556,
              "#d8576b"
             ],
             [
              0.6666666666666666,
              "#ed7953"
             ],
             [
              0.7777777777777778,
              "#fb9f3a"
             ],
             [
              0.8888888888888888,
              "#fdca26"
             ],
             [
              1.0,
              "#f0f921"
             ]
            ]
           }
          ],
          "contourcarpet": [
           {
            "type": "contourcarpet",
            "colorbar": {
             "outlinewidth": 0,
             "ticks": ""
            }
           }
          ],
          "contour": [
           {
            "type": "contour",
            "colorbar": {
             "outlinewidth": 0,
             "ticks": ""
            },
            "colorscale": [
             [
              0.0,
              "#0d0887"
             ],
             [
              0.1111111111111111,
              "#46039f"
             ],
             [
              0.2222222222222222,
              "#7201a8"
             ],
             [
              0.3333333333333333,
              "#9c179e"
             ],
             [
              0.4444444444444444,
              "#bd3786"
             ],
             [
              0.5555555555555556,
              "#d8576b"
             ],
             [
              0.6666666666666666,
              "#ed7953"
             ],
             [
              0.7777777777777778,
              "#fb9f3a"
             ],
             [
              0.8888888888888888,
              "#fdca26"
             ],
             [
              1.0,
              "#f0f921"
             ]
            ]
           }
          ],
          "surface": [
           {
            "type": "surface",
            "colorbar": {
             "outlinewidth": 0,
             "ticks": ""
            },
            "colorscale": [
             [
              0.0,
              "#0d0887"
             ],
             [
              0.1111111111111111,
              "#46039f"
             ],
             [
              0.2222222222222222,
              "#7201a8"
             ],
             [
              0.3333333333333333,
              "#9c179e"
             ],
             [
              0.4444444444444444,
              "#bd3786"
             ],
             [
              0.5555555555555556,
              "#d8576b"
             ],
             [
              0.6666666666666666,
              "#ed7953"
             ],
             [
              0.7777777777777778,
              "#fb9f3a"
             ],
             [
              0.8888888888888888,
              "#fdca26"
             ],
             [
              1.0,
              "#f0f921"
             ]
            ]
           }
          ],
          "mesh3d": [
           {
            "type": "mesh3d",
            "colorbar": {
             "outlinewidth": 0,
             "ticks": ""
            }
           }
          ],
          "scatter": [
           {
            "fillpattern": {
             "fillmode": "overlay",
             "size": 10,
             "solidity": 0.2
            },
            "type": "scatter"
           }
          ],
          "parcoords": [
           {
            "type": "parcoords",
            "line": {
             "colorbar": {
              "outlinewidth": 0,
              "ticks": ""
             }
            }
           }
          ],
          "scatterpolargl": [
           {
            "type": "scatterpolargl",
            "marker": {
             "colorbar": {
              "outlinewidth": 0,
              "ticks": ""
             }
            }
           }
          ],
          "bar": [
           {
            "error_x": {
             "color": "#2a3f5f"
            },
            "error_y": {
             "color": "#2a3f5f"
            },
            "marker": {
             "line": {
              "color": "#E5ECF6",
              "width": 0.5
             },
             "pattern": {
              "fillmode": "overlay",
              "size": 10,
              "solidity": 0.2
             }
            },
            "type": "bar"
           }
          ],
          "scattergeo": [
           {
            "type": "scattergeo",
            "marker": {
             "colorbar": {
              "outlinewidth": 0,
              "ticks": ""
             }
            }
           }
          ],
          "scatterpolar": [
           {
            "type": "scatterpolar",
            "marker": {
             "colorbar": {
              "outlinewidth": 0,
              "ticks": ""
             }
            }
           }
          ],
          "histogram": [
           {
            "marker": {
             "pattern": {
              "fillmode": "overlay",
              "size": 10,
              "solidity": 0.2
             }
            },
            "type": "histogram"
           }
          ],
          "scattergl": [
           {
            "type": "scattergl",
            "marker": {
             "colorbar": {
              "outlinewidth": 0,
              "ticks": ""
             }
            }
           }
          ],
          "scatter3d": [
           {
            "type": "scatter3d",
            "line": {
             "colorbar": {
              "outlinewidth": 0,
              "ticks": ""
             }
            },
            "marker": {
             "colorbar": {
              "outlinewidth": 0,
              "ticks": ""
             }
            }
           }
          ],
          "scattermap": [
           {
            "type": "scattermap",
            "marker": {
             "colorbar": {
              "outlinewidth": 0,
              "ticks": ""
             }
            }
           }
          ],
          "scattermapbox": [
           {
            "type": "scattermapbox",
            "marker": {
             "colorbar": {
              "outlinewidth": 0,
              "ticks": ""
             }
            }
           }
          ],
          "scatterternary": [
           {
            "type": "scatterternary",
            "marker": {
             "colorbar": {
              "outlinewidth": 0,
              "ticks": ""
             }
            }
           }
          ],
          "scattercarpet": [
           {
            "type": "scattercarpet",
            "marker": {
             "colorbar": {
              "outlinewidth": 0,
              "ticks": ""
             }
            }
           }
          ],
          "carpet": [
           {
            "aaxis": {
             "endlinecolor": "#2a3f5f",
             "gridcolor": "white",
             "linecolor": "white",
             "minorgridcolor": "white",
             "startlinecolor": "#2a3f5f"
            },
            "baxis": {
             "endlinecolor": "#2a3f5f",
             "gridcolor": "white",
             "linecolor": "white",
             "minorgridcolor": "white",
             "startlinecolor": "#2a3f5f"
            },
            "type": "carpet"
           }
          ],
          "table": [
           {
            "cells": {
             "fill": {
              "color": "#EBF0F8"
             },
             "line": {
              "color": "white"
             }
            },
            "header": {
             "fill": {
              "color": "#C8D4E3"
             },
             "line": {
              "color": "white"
             }
            },
            "type": "table"
           }
          ],
          "barpolar": [
           {
            "marker": {
             "line": {
              "color": "#E5ECF6",
              "width": 0.5
             },
             "pattern": {
              "fillmode": "overlay",
              "size": 10,
              "solidity": 0.2
             }
            },
            "type": "barpolar"
           }
          ],
          "pie": [
           {
            "automargin": true,
            "type": "pie"
           }
          ]
         },
         "layout": {
          "autotypenumbers": "strict",
          "colorway": [
           "#636efa",
           "#EF553B",
           "#00cc96",
           "#ab63fa",
           "#FFA15A",
           "#19d3f3",
           "#FF6692",
           "#B6E880",
           "#FF97FF",
           "#FECB52"
          ],
          "font": {
           "color": "#2a3f5f"
          },
          "hovermode": "closest",
          "hoverlabel": {
           "align": "left"
          },
          "paper_bgcolor": "white",
          "plot_bgcolor": "#E5ECF6",
          "polar": {
           "bgcolor": "#E5ECF6",
           "angularaxis": {
            "gridcolor": "white",
            "linecolor": "white",
            "ticks": ""
           },
           "radialaxis": {
            "gridcolor": "white",
            "linecolor": "white",
            "ticks": ""
           }
          },
          "ternary": {
           "bgcolor": "#E5ECF6",
           "aaxis": {
            "gridcolor": "white",
            "linecolor": "white",
            "ticks": ""
           },
           "baxis": {
            "gridcolor": "white",
            "linecolor": "white",
            "ticks": ""
           },
           "caxis": {
            "gridcolor": "white",
            "linecolor": "white",
            "ticks": ""
           }
          },
          "coloraxis": {
           "colorbar": {
            "outlinewidth": 0,
            "ticks": ""
           }
          },
          "colorscale": {
           "sequential": [
            [
             0.0,
             "#0d0887"
            ],
            [
             0.1111111111111111,
             "#46039f"
            ],
            [
             0.2222222222222222,
             "#7201a8"
            ],
            [
             0.3333333333333333,
             "#9c179e"
            ],
            [
             0.4444444444444444,
             "#bd3786"
            ],
            [
             0.5555555555555556,
             "#d8576b"
            ],
            [
             0.6666666666666666,
             "#ed7953"
            ],
            [
             0.7777777777777778,
             "#fb9f3a"
            ],
            [
             0.8888888888888888,
             "#fdca26"
            ],
            [
             1.0,
             "#f0f921"
            ]
           ],
           "sequentialminus": [
            [
             0.0,
             "#0d0887"
            ],
            [
             0.1111111111111111,
             "#46039f"
            ],
            [
             0.2222222222222222,
             "#7201a8"
            ],
            [
             0.3333333333333333,
             "#9c179e"
            ],
            [
             0.4444444444444444,
             "#bd3786"
            ],
            [
             0.5555555555555556,
             "#d8576b"
            ],
            [
             0.6666666666666666,
             "#ed7953"
            ],
            [
             0.7777777777777778,
             "#fb9f3a"
            ],
            [
             0.8888888888888888,
             "#fdca26"
            ],
            [
             1.0,
             "#f0f921"
            ]
           ],
           "diverging": [
            [
             0,
             "#8e0152"
            ],
            [
             0.1,
             "#c51b7d"
            ],
            [
             0.2,
             "#de77ae"
            ],
            [
             0.3,
             "#f1b6da"
            ],
            [
             0.4,
             "#fde0ef"
            ],
            [
             0.5,
             "#f7f7f7"
            ],
            [
             0.6,
             "#e6f5d0"
            ],
            [
             0.7,
             "#b8e186"
            ],
            [
             0.8,
             "#7fbc41"
            ],
            [
             0.9,
             "#4d9221"
            ],
            [
             1,
             "#276419"
            ]
           ]
          },
          "xaxis": {
           "gridcolor": "white",
           "linecolor": "white",
           "ticks": "",
           "title": {
            "standoff": 15
           },
           "zerolinecolor": "white",
           "automargin": true,
           "zerolinewidth": 2
          },
          "yaxis": {
           "gridcolor": "white",
           "linecolor": "white",
           "ticks": "",
           "title": {
            "standoff": 15
           },
           "zerolinecolor": "white",
           "automargin": true,
           "zerolinewidth": 2
          },
          "scene": {
           "xaxis": {
            "backgroundcolor": "#E5ECF6",
            "gridcolor": "white",
            "linecolor": "white",
            "showbackground": true,
            "ticks": "",
            "zerolinecolor": "white",
            "gridwidth": 2
           },
           "yaxis": {
            "backgroundcolor": "#E5ECF6",
            "gridcolor": "white",
            "linecolor": "white",
            "showbackground": true,
            "ticks": "",
            "zerolinecolor": "white",
            "gridwidth": 2
           },
           "zaxis": {
            "backgroundcolor": "#E5ECF6",
            "gridcolor": "white",
            "linecolor": "white",
            "showbackground": true,
            "ticks": "",
            "zerolinecolor": "white",
            "gridwidth": 2
           }
          },
          "shapedefaults": {
           "line": {
            "color": "#2a3f5f"
           }
          },
          "annotationdefaults": {
           "arrowcolor": "#2a3f5f",
           "arrowhead": 0,
           "arrowwidth": 1
          },
          "geo": {
           "bgcolor": "white",
           "landcolor": "#E5ECF6",
           "subunitcolor": "white",
           "showland": true,
           "showlakes": true,
           "lakecolor": "white"
          },
          "title": {
           "x": 0.05
          },
          "mapbox": {
           "style": "light"
          }
         }
        },
        "xaxis": {
         "anchor": "y",
         "domain": [
          0.0,
          1.0
         ],
         "title": {
          "text": "Player"
         }
        },
        "yaxis": {
         "anchor": "x",
         "domain": [
          0.0,
          1.0
         ],
         "title": {
          "text": "MOTM_Awards"
         }
        },
        "coloraxis": {
         "colorbar": {
          "title": {
           "text": "Rating"
          }
         },
         "colorscale": [
          [
           0.0,
           "#0d0887"
          ],
          [
           0.1111111111111111,
           "#46039f"
          ],
          [
           0.2222222222222222,
           "#7201a8"
          ],
          [
           0.3333333333333333,
           "#9c179e"
          ],
          [
           0.4444444444444444,
           "#bd3786"
          ],
          [
           0.5555555555555556,
           "#d8576b"
          ],
          [
           0.6666666666666666,
           "#ed7953"
          ],
          [
           0.7777777777777778,
           "#fb9f3a"
          ],
          [
           0.8888888888888888,
           "#fdca26"
          ],
          [
           1.0,
           "#f0f921"
          ]
         ]
        },
        "legend": {
         "tracegroupgap": 0
        },
        "title": {
         "text": "Top MOTM Awards Winners"
        },
        "barmode": "relative"
       },
       "config": {
        "plotlyServerURL": "https://plot.ly"
       }
      }
     },
     "metadata": {},
     "output_type": "display_data"
    }
   ],
   "execution_count": 42
  },
  {
   "metadata": {
    "ExecuteTime": {
     "end_time": "2025-06-15T11:37:49.738011Z",
     "start_time": "2025-06-15T11:37:49.731602Z"
    }
   },
   "cell_type": "code",
   "source": "names_nationality = list(dict(ucl['Nationality'].value_counts()).keys())[:15]",
   "id": "af3a378cba4af975",
   "outputs": [],
   "execution_count": 43
  },
  {
   "metadata": {
    "ExecuteTime": {
     "end_time": "2025-06-15T11:37:49.759299Z",
     "start_time": "2025-06-15T11:37:49.754004Z"
    }
   },
   "cell_type": "code",
   "source": "values_nationality = ucl['Nationality'].value_counts().tolist()[:15]",
   "id": "bda6ce3f6b8ea837",
   "outputs": [],
   "execution_count": 44
  },
  {
   "metadata": {
    "ExecuteTime": {
     "end_time": "2025-06-15T11:37:49.830248Z",
     "start_time": "2025-06-15T11:37:49.824427Z"
    }
   },
   "cell_type": "code",
   "source": "names_nationality",
   "id": "3a82dc9811a29eff",
   "outputs": [
    {
     "data": {
      "text/plain": [
       "['France',\n",
       " 'Netherlands',\n",
       " 'Germany',\n",
       " 'Spain',\n",
       " 'Brazil',\n",
       " 'Italy',\n",
       " 'England',\n",
       " 'Argentina',\n",
       " 'Belgium',\n",
       " 'Portugal',\n",
       " 'Switzerland',\n",
       " 'Turkey',\n",
       " 'Norway',\n",
       " 'Croatia',\n",
       " 'Morocco']"
      ]
     },
     "execution_count": 45,
     "metadata": {},
     "output_type": "execute_result"
    }
   ],
   "execution_count": 45
  },
  {
   "metadata": {
    "ExecuteTime": {
     "end_time": "2025-06-15T11:37:49.900319Z",
     "start_time": "2025-06-15T11:37:49.895463Z"
    }
   },
   "cell_type": "code",
   "source": "values_nationality",
   "id": "245054dfb2624c32",
   "outputs": [
    {
     "data": {
      "text/plain": [
       "[24, 18, 16, 16, 15, 11, 11, 10, 9, 9, 6, 5, 4, 4, 3]"
      ]
     },
     "execution_count": 46,
     "metadata": {},
     "output_type": "execute_result"
    }
   ],
   "execution_count": 46
  },
  {
   "metadata": {
    "ExecuteTime": {
     "end_time": "2025-06-15T11:37:49.997927Z",
     "start_time": "2025-06-15T11:37:49.977047Z"
    }
   },
   "cell_type": "code",
   "source": [
    "fig = go.Bar(x = names_nationality,\n",
    "            y = values_nationality,\n",
    "            marker = dict(color = 'rgba(255, 0, 0, 0.5)',\n",
    "                         line=dict(color='rgb(0,0,1)',width=1.5)),\n",
    "            text = names_nationality)\n",
    "\n",
    "layout = go.Layout()\n",
    "fig = go.Figure(data = fig, layout = layout)\n",
    "fig.update_layout(title_text='Top 15 Nationalities of Players in Champions League 2025 Season')\n",
    "fig.show()"
   ],
   "id": "96909a27508f565a",
   "outputs": [
    {
     "data": {
      "application/vnd.plotly.v1+json": {
       "data": [
        {
         "marker": {
          "color": "rgba(255, 0, 0, 0.5)",
          "line": {
           "color": "rgb(0,0,1)",
           "width": 1.5
          }
         },
         "text": [
          "France",
          "Netherlands",
          "Germany",
          "Spain",
          "Brazil",
          "Italy",
          "England",
          "Argentina",
          "Belgium",
          "Portugal",
          "Switzerland",
          "Turkey",
          "Norway",
          "Croatia",
          "Morocco"
         ],
         "x": [
          "France",
          "Netherlands",
          "Germany",
          "Spain",
          "Brazil",
          "Italy",
          "England",
          "Argentina",
          "Belgium",
          "Portugal",
          "Switzerland",
          "Turkey",
          "Norway",
          "Croatia",
          "Morocco"
         ],
         "y": [
          24,
          18,
          16,
          16,
          15,
          11,
          11,
          10,
          9,
          9,
          6,
          5,
          4,
          4,
          3
         ],
         "type": "bar"
        }
       ],
       "layout": {
        "template": {
         "data": {
          "histogram2dcontour": [
           {
            "type": "histogram2dcontour",
            "colorbar": {
             "outlinewidth": 0,
             "ticks": ""
            },
            "colorscale": [
             [
              0.0,
              "#0d0887"
             ],
             [
              0.1111111111111111,
              "#46039f"
             ],
             [
              0.2222222222222222,
              "#7201a8"
             ],
             [
              0.3333333333333333,
              "#9c179e"
             ],
             [
              0.4444444444444444,
              "#bd3786"
             ],
             [
              0.5555555555555556,
              "#d8576b"
             ],
             [
              0.6666666666666666,
              "#ed7953"
             ],
             [
              0.7777777777777778,
              "#fb9f3a"
             ],
             [
              0.8888888888888888,
              "#fdca26"
             ],
             [
              1.0,
              "#f0f921"
             ]
            ]
           }
          ],
          "choropleth": [
           {
            "type": "choropleth",
            "colorbar": {
             "outlinewidth": 0,
             "ticks": ""
            }
           }
          ],
          "histogram2d": [
           {
            "type": "histogram2d",
            "colorbar": {
             "outlinewidth": 0,
             "ticks": ""
            },
            "colorscale": [
             [
              0.0,
              "#0d0887"
             ],
             [
              0.1111111111111111,
              "#46039f"
             ],
             [
              0.2222222222222222,
              "#7201a8"
             ],
             [
              0.3333333333333333,
              "#9c179e"
             ],
             [
              0.4444444444444444,
              "#bd3786"
             ],
             [
              0.5555555555555556,
              "#d8576b"
             ],
             [
              0.6666666666666666,
              "#ed7953"
             ],
             [
              0.7777777777777778,
              "#fb9f3a"
             ],
             [
              0.8888888888888888,
              "#fdca26"
             ],
             [
              1.0,
              "#f0f921"
             ]
            ]
           }
          ],
          "heatmap": [
           {
            "type": "heatmap",
            "colorbar": {
             "outlinewidth": 0,
             "ticks": ""
            },
            "colorscale": [
             [
              0.0,
              "#0d0887"
             ],
             [
              0.1111111111111111,
              "#46039f"
             ],
             [
              0.2222222222222222,
              "#7201a8"
             ],
             [
              0.3333333333333333,
              "#9c179e"
             ],
             [
              0.4444444444444444,
              "#bd3786"
             ],
             [
              0.5555555555555556,
              "#d8576b"
             ],
             [
              0.6666666666666666,
              "#ed7953"
             ],
             [
              0.7777777777777778,
              "#fb9f3a"
             ],
             [
              0.8888888888888888,
              "#fdca26"
             ],
             [
              1.0,
              "#f0f921"
             ]
            ]
           }
          ],
          "contourcarpet": [
           {
            "type": "contourcarpet",
            "colorbar": {
             "outlinewidth": 0,
             "ticks": ""
            }
           }
          ],
          "contour": [
           {
            "type": "contour",
            "colorbar": {
             "outlinewidth": 0,
             "ticks": ""
            },
            "colorscale": [
             [
              0.0,
              "#0d0887"
             ],
             [
              0.1111111111111111,
              "#46039f"
             ],
             [
              0.2222222222222222,
              "#7201a8"
             ],
             [
              0.3333333333333333,
              "#9c179e"
             ],
             [
              0.4444444444444444,
              "#bd3786"
             ],
             [
              0.5555555555555556,
              "#d8576b"
             ],
             [
              0.6666666666666666,
              "#ed7953"
             ],
             [
              0.7777777777777778,
              "#fb9f3a"
             ],
             [
              0.8888888888888888,
              "#fdca26"
             ],
             [
              1.0,
              "#f0f921"
             ]
            ]
           }
          ],
          "surface": [
           {
            "type": "surface",
            "colorbar": {
             "outlinewidth": 0,
             "ticks": ""
            },
            "colorscale": [
             [
              0.0,
              "#0d0887"
             ],
             [
              0.1111111111111111,
              "#46039f"
             ],
             [
              0.2222222222222222,
              "#7201a8"
             ],
             [
              0.3333333333333333,
              "#9c179e"
             ],
             [
              0.4444444444444444,
              "#bd3786"
             ],
             [
              0.5555555555555556,
              "#d8576b"
             ],
             [
              0.6666666666666666,
              "#ed7953"
             ],
             [
              0.7777777777777778,
              "#fb9f3a"
             ],
             [
              0.8888888888888888,
              "#fdca26"
             ],
             [
              1.0,
              "#f0f921"
             ]
            ]
           }
          ],
          "mesh3d": [
           {
            "type": "mesh3d",
            "colorbar": {
             "outlinewidth": 0,
             "ticks": ""
            }
           }
          ],
          "scatter": [
           {
            "fillpattern": {
             "fillmode": "overlay",
             "size": 10,
             "solidity": 0.2
            },
            "type": "scatter"
           }
          ],
          "parcoords": [
           {
            "type": "parcoords",
            "line": {
             "colorbar": {
              "outlinewidth": 0,
              "ticks": ""
             }
            }
           }
          ],
          "scatterpolargl": [
           {
            "type": "scatterpolargl",
            "marker": {
             "colorbar": {
              "outlinewidth": 0,
              "ticks": ""
             }
            }
           }
          ],
          "bar": [
           {
            "error_x": {
             "color": "#2a3f5f"
            },
            "error_y": {
             "color": "#2a3f5f"
            },
            "marker": {
             "line": {
              "color": "#E5ECF6",
              "width": 0.5
             },
             "pattern": {
              "fillmode": "overlay",
              "size": 10,
              "solidity": 0.2
             }
            },
            "type": "bar"
           }
          ],
          "scattergeo": [
           {
            "type": "scattergeo",
            "marker": {
             "colorbar": {
              "outlinewidth": 0,
              "ticks": ""
             }
            }
           }
          ],
          "scatterpolar": [
           {
            "type": "scatterpolar",
            "marker": {
             "colorbar": {
              "outlinewidth": 0,
              "ticks": ""
             }
            }
           }
          ],
          "histogram": [
           {
            "marker": {
             "pattern": {
              "fillmode": "overlay",
              "size": 10,
              "solidity": 0.2
             }
            },
            "type": "histogram"
           }
          ],
          "scattergl": [
           {
            "type": "scattergl",
            "marker": {
             "colorbar": {
              "outlinewidth": 0,
              "ticks": ""
             }
            }
           }
          ],
          "scatter3d": [
           {
            "type": "scatter3d",
            "line": {
             "colorbar": {
              "outlinewidth": 0,
              "ticks": ""
             }
            },
            "marker": {
             "colorbar": {
              "outlinewidth": 0,
              "ticks": ""
             }
            }
           }
          ],
          "scattermap": [
           {
            "type": "scattermap",
            "marker": {
             "colorbar": {
              "outlinewidth": 0,
              "ticks": ""
             }
            }
           }
          ],
          "scattermapbox": [
           {
            "type": "scattermapbox",
            "marker": {
             "colorbar": {
              "outlinewidth": 0,
              "ticks": ""
             }
            }
           }
          ],
          "scatterternary": [
           {
            "type": "scatterternary",
            "marker": {
             "colorbar": {
              "outlinewidth": 0,
              "ticks": ""
             }
            }
           }
          ],
          "scattercarpet": [
           {
            "type": "scattercarpet",
            "marker": {
             "colorbar": {
              "outlinewidth": 0,
              "ticks": ""
             }
            }
           }
          ],
          "carpet": [
           {
            "aaxis": {
             "endlinecolor": "#2a3f5f",
             "gridcolor": "white",
             "linecolor": "white",
             "minorgridcolor": "white",
             "startlinecolor": "#2a3f5f"
            },
            "baxis": {
             "endlinecolor": "#2a3f5f",
             "gridcolor": "white",
             "linecolor": "white",
             "minorgridcolor": "white",
             "startlinecolor": "#2a3f5f"
            },
            "type": "carpet"
           }
          ],
          "table": [
           {
            "cells": {
             "fill": {
              "color": "#EBF0F8"
             },
             "line": {
              "color": "white"
             }
            },
            "header": {
             "fill": {
              "color": "#C8D4E3"
             },
             "line": {
              "color": "white"
             }
            },
            "type": "table"
           }
          ],
          "barpolar": [
           {
            "marker": {
             "line": {
              "color": "#E5ECF6",
              "width": 0.5
             },
             "pattern": {
              "fillmode": "overlay",
              "size": 10,
              "solidity": 0.2
             }
            },
            "type": "barpolar"
           }
          ],
          "pie": [
           {
            "automargin": true,
            "type": "pie"
           }
          ]
         },
         "layout": {
          "autotypenumbers": "strict",
          "colorway": [
           "#636efa",
           "#EF553B",
           "#00cc96",
           "#ab63fa",
           "#FFA15A",
           "#19d3f3",
           "#FF6692",
           "#B6E880",
           "#FF97FF",
           "#FECB52"
          ],
          "font": {
           "color": "#2a3f5f"
          },
          "hovermode": "closest",
          "hoverlabel": {
           "align": "left"
          },
          "paper_bgcolor": "white",
          "plot_bgcolor": "#E5ECF6",
          "polar": {
           "bgcolor": "#E5ECF6",
           "angularaxis": {
            "gridcolor": "white",
            "linecolor": "white",
            "ticks": ""
           },
           "radialaxis": {
            "gridcolor": "white",
            "linecolor": "white",
            "ticks": ""
           }
          },
          "ternary": {
           "bgcolor": "#E5ECF6",
           "aaxis": {
            "gridcolor": "white",
            "linecolor": "white",
            "ticks": ""
           },
           "baxis": {
            "gridcolor": "white",
            "linecolor": "white",
            "ticks": ""
           },
           "caxis": {
            "gridcolor": "white",
            "linecolor": "white",
            "ticks": ""
           }
          },
          "coloraxis": {
           "colorbar": {
            "outlinewidth": 0,
            "ticks": ""
           }
          },
          "colorscale": {
           "sequential": [
            [
             0.0,
             "#0d0887"
            ],
            [
             0.1111111111111111,
             "#46039f"
            ],
            [
             0.2222222222222222,
             "#7201a8"
            ],
            [
             0.3333333333333333,
             "#9c179e"
            ],
            [
             0.4444444444444444,
             "#bd3786"
            ],
            [
             0.5555555555555556,
             "#d8576b"
            ],
            [
             0.6666666666666666,
             "#ed7953"
            ],
            [
             0.7777777777777778,
             "#fb9f3a"
            ],
            [
             0.8888888888888888,
             "#fdca26"
            ],
            [
             1.0,
             "#f0f921"
            ]
           ],
           "sequentialminus": [
            [
             0.0,
             "#0d0887"
            ],
            [
             0.1111111111111111,
             "#46039f"
            ],
            [
             0.2222222222222222,
             "#7201a8"
            ],
            [
             0.3333333333333333,
             "#9c179e"
            ],
            [
             0.4444444444444444,
             "#bd3786"
            ],
            [
             0.5555555555555556,
             "#d8576b"
            ],
            [
             0.6666666666666666,
             "#ed7953"
            ],
            [
             0.7777777777777778,
             "#fb9f3a"
            ],
            [
             0.8888888888888888,
             "#fdca26"
            ],
            [
             1.0,
             "#f0f921"
            ]
           ],
           "diverging": [
            [
             0,
             "#8e0152"
            ],
            [
             0.1,
             "#c51b7d"
            ],
            [
             0.2,
             "#de77ae"
            ],
            [
             0.3,
             "#f1b6da"
            ],
            [
             0.4,
             "#fde0ef"
            ],
            [
             0.5,
             "#f7f7f7"
            ],
            [
             0.6,
             "#e6f5d0"
            ],
            [
             0.7,
             "#b8e186"
            ],
            [
             0.8,
             "#7fbc41"
            ],
            [
             0.9,
             "#4d9221"
            ],
            [
             1,
             "#276419"
            ]
           ]
          },
          "xaxis": {
           "gridcolor": "white",
           "linecolor": "white",
           "ticks": "",
           "title": {
            "standoff": 15
           },
           "zerolinecolor": "white",
           "automargin": true,
           "zerolinewidth": 2
          },
          "yaxis": {
           "gridcolor": "white",
           "linecolor": "white",
           "ticks": "",
           "title": {
            "standoff": 15
           },
           "zerolinecolor": "white",
           "automargin": true,
           "zerolinewidth": 2
          },
          "scene": {
           "xaxis": {
            "backgroundcolor": "#E5ECF6",
            "gridcolor": "white",
            "linecolor": "white",
            "showbackground": true,
            "ticks": "",
            "zerolinecolor": "white",
            "gridwidth": 2
           },
           "yaxis": {
            "backgroundcolor": "#E5ECF6",
            "gridcolor": "white",
            "linecolor": "white",
            "showbackground": true,
            "ticks": "",
            "zerolinecolor": "white",
            "gridwidth": 2
           },
           "zaxis": {
            "backgroundcolor": "#E5ECF6",
            "gridcolor": "white",
            "linecolor": "white",
            "showbackground": true,
            "ticks": "",
            "zerolinecolor": "white",
            "gridwidth": 2
           }
          },
          "shapedefaults": {
           "line": {
            "color": "#2a3f5f"
           }
          },
          "annotationdefaults": {
           "arrowcolor": "#2a3f5f",
           "arrowhead": 0,
           "arrowwidth": 1
          },
          "geo": {
           "bgcolor": "white",
           "landcolor": "#E5ECF6",
           "subunitcolor": "white",
           "showland": true,
           "showlakes": true,
           "lakecolor": "white"
          },
          "title": {
           "x": 0.05
          },
          "mapbox": {
           "style": "light"
          }
         }
        },
        "title": {
         "text": "Top 15 Nationalities of Players in Champions League 2025 Season"
        }
       },
       "config": {
        "plotlyServerURL": "https://plot.ly"
       }
      }
     },
     "metadata": {},
     "output_type": "display_data"
    }
   ],
   "execution_count": 47
  },
  {
   "metadata": {
    "ExecuteTime": {
     "end_time": "2025-06-15T11:37:50.067855Z",
     "start_time": "2025-06-15T11:37:50.059059Z"
    }
   },
   "cell_type": "code",
   "source": "ucl['Competitions'] = ucl['Competitions'].str.strip()",
   "id": "b275afe14d0ef734",
   "outputs": [],
   "execution_count": 48
  },
  {
   "metadata": {
    "ExecuteTime": {
     "end_time": "2025-06-15T11:37:50.120550Z",
     "start_time": "2025-06-15T11:37:50.113298Z"
    }
   },
   "cell_type": "code",
   "source": [
    "names_Competitions = list(dict(ucl['Competitions'].value_counts()).keys())\n",
    "values_Competitions = ucl['Competitions'].value_counts().tolist()"
   ],
   "id": "32c06c9b5ca46e6b",
   "outputs": [],
   "execution_count": 49
  },
  {
   "metadata": {
    "ExecuteTime": {
     "end_time": "2025-06-15T11:37:50.180512Z",
     "start_time": "2025-06-15T11:37:50.170647Z"
    }
   },
   "cell_type": "code",
   "source": "names_Competitions",
   "id": "211803e66966ede9",
   "outputs": [
    {
     "data": {
      "text/plain": [
       "['Serie A',\n",
       " 'Premier League',\n",
       " 'La Liga',\n",
       " 'Bundesliga',\n",
       " 'Ligue 1',\n",
       " 'Liga Portugal',\n",
       " 'Eredivisie',\n",
       " 'Premiership',\n",
       " 'Pro League',\n",
       " 'Premier Liga',\n",
       " 'ABundesliga',\n",
       " 'SuperSport HNL']"
      ]
     },
     "execution_count": 50,
     "metadata": {},
     "output_type": "execute_result"
    }
   ],
   "execution_count": 50
  },
  {
   "metadata": {
    "ExecuteTime": {
     "end_time": "2025-06-15T11:37:50.246627Z",
     "start_time": "2025-06-15T11:37:50.235106Z"
    }
   },
   "cell_type": "code",
   "source": "values_Competitions",
   "id": "7fb71ed62b6e1c38",
   "outputs": [
    {
     "data": {
      "text/plain": [
       "[38, 37, 32, 31, 27, 15, 14, 6, 5, 3, 1, 1]"
      ]
     },
     "execution_count": 51,
     "metadata": {},
     "output_type": "execute_result"
    }
   ],
   "execution_count": 51
  },
  {
   "metadata": {
    "ExecuteTime": {
     "end_time": "2025-06-15T11:37:50.317958Z",
     "start_time": "2025-06-15T11:37:50.296307Z"
    }
   },
   "cell_type": "code",
   "source": [
    "fig = go.Bar(x = names_Competitions,\n",
    "             y = values_Competitions,\n",
    "             marker = dict(color = 'rgba(0, 0, 255, 0.5)',\n",
    "                         line=dict(color='rgb(0,0,50)',width=1.5)),\n",
    "             )\n",
    "layout = go.Layout()\n",
    "fig = go.Figure(data = fig, layout = layout)\n",
    "fig.update_layout(title_text='All competitions by number of players (210 players) in the 2025 Champions League season')\n",
    "fig.show()"
   ],
   "id": "c27740fa08f5ed66",
   "outputs": [
    {
     "data": {
      "application/vnd.plotly.v1+json": {
       "data": [
        {
         "marker": {
          "color": "rgba(0, 0, 255, 0.5)",
          "line": {
           "color": "rgb(0,0,50)",
           "width": 1.5
          }
         },
         "x": [
          "Serie A",
          "Premier League",
          "La Liga",
          "Bundesliga",
          "Ligue 1",
          "Liga Portugal",
          "Eredivisie",
          "Premiership",
          "Pro League",
          "Premier Liga",
          "ABundesliga",
          "SuperSport HNL"
         ],
         "y": [
          38,
          37,
          32,
          31,
          27,
          15,
          14,
          6,
          5,
          3,
          1,
          1
         ],
         "type": "bar"
        }
       ],
       "layout": {
        "template": {
         "data": {
          "histogram2dcontour": [
           {
            "type": "histogram2dcontour",
            "colorbar": {
             "outlinewidth": 0,
             "ticks": ""
            },
            "colorscale": [
             [
              0.0,
              "#0d0887"
             ],
             [
              0.1111111111111111,
              "#46039f"
             ],
             [
              0.2222222222222222,
              "#7201a8"
             ],
             [
              0.3333333333333333,
              "#9c179e"
             ],
             [
              0.4444444444444444,
              "#bd3786"
             ],
             [
              0.5555555555555556,
              "#d8576b"
             ],
             [
              0.6666666666666666,
              "#ed7953"
             ],
             [
              0.7777777777777778,
              "#fb9f3a"
             ],
             [
              0.8888888888888888,
              "#fdca26"
             ],
             [
              1.0,
              "#f0f921"
             ]
            ]
           }
          ],
          "choropleth": [
           {
            "type": "choropleth",
            "colorbar": {
             "outlinewidth": 0,
             "ticks": ""
            }
           }
          ],
          "histogram2d": [
           {
            "type": "histogram2d",
            "colorbar": {
             "outlinewidth": 0,
             "ticks": ""
            },
            "colorscale": [
             [
              0.0,
              "#0d0887"
             ],
             [
              0.1111111111111111,
              "#46039f"
             ],
             [
              0.2222222222222222,
              "#7201a8"
             ],
             [
              0.3333333333333333,
              "#9c179e"
             ],
             [
              0.4444444444444444,
              "#bd3786"
             ],
             [
              0.5555555555555556,
              "#d8576b"
             ],
             [
              0.6666666666666666,
              "#ed7953"
             ],
             [
              0.7777777777777778,
              "#fb9f3a"
             ],
             [
              0.8888888888888888,
              "#fdca26"
             ],
             [
              1.0,
              "#f0f921"
             ]
            ]
           }
          ],
          "heatmap": [
           {
            "type": "heatmap",
            "colorbar": {
             "outlinewidth": 0,
             "ticks": ""
            },
            "colorscale": [
             [
              0.0,
              "#0d0887"
             ],
             [
              0.1111111111111111,
              "#46039f"
             ],
             [
              0.2222222222222222,
              "#7201a8"
             ],
             [
              0.3333333333333333,
              "#9c179e"
             ],
             [
              0.4444444444444444,
              "#bd3786"
             ],
             [
              0.5555555555555556,
              "#d8576b"
             ],
             [
              0.6666666666666666,
              "#ed7953"
             ],
             [
              0.7777777777777778,
              "#fb9f3a"
             ],
             [
              0.8888888888888888,
              "#fdca26"
             ],
             [
              1.0,
              "#f0f921"
             ]
            ]
           }
          ],
          "contourcarpet": [
           {
            "type": "contourcarpet",
            "colorbar": {
             "outlinewidth": 0,
             "ticks": ""
            }
           }
          ],
          "contour": [
           {
            "type": "contour",
            "colorbar": {
             "outlinewidth": 0,
             "ticks": ""
            },
            "colorscale": [
             [
              0.0,
              "#0d0887"
             ],
             [
              0.1111111111111111,
              "#46039f"
             ],
             [
              0.2222222222222222,
              "#7201a8"
             ],
             [
              0.3333333333333333,
              "#9c179e"
             ],
             [
              0.4444444444444444,
              "#bd3786"
             ],
             [
              0.5555555555555556,
              "#d8576b"
             ],
             [
              0.6666666666666666,
              "#ed7953"
             ],
             [
              0.7777777777777778,
              "#fb9f3a"
             ],
             [
              0.8888888888888888,
              "#fdca26"
             ],
             [
              1.0,
              "#f0f921"
             ]
            ]
           }
          ],
          "surface": [
           {
            "type": "surface",
            "colorbar": {
             "outlinewidth": 0,
             "ticks": ""
            },
            "colorscale": [
             [
              0.0,
              "#0d0887"
             ],
             [
              0.1111111111111111,
              "#46039f"
             ],
             [
              0.2222222222222222,
              "#7201a8"
             ],
             [
              0.3333333333333333,
              "#9c179e"
             ],
             [
              0.4444444444444444,
              "#bd3786"
             ],
             [
              0.5555555555555556,
              "#d8576b"
             ],
             [
              0.6666666666666666,
              "#ed7953"
             ],
             [
              0.7777777777777778,
              "#fb9f3a"
             ],
             [
              0.8888888888888888,
              "#fdca26"
             ],
             [
              1.0,
              "#f0f921"
             ]
            ]
           }
          ],
          "mesh3d": [
           {
            "type": "mesh3d",
            "colorbar": {
             "outlinewidth": 0,
             "ticks": ""
            }
           }
          ],
          "scatter": [
           {
            "fillpattern": {
             "fillmode": "overlay",
             "size": 10,
             "solidity": 0.2
            },
            "type": "scatter"
           }
          ],
          "parcoords": [
           {
            "type": "parcoords",
            "line": {
             "colorbar": {
              "outlinewidth": 0,
              "ticks": ""
             }
            }
           }
          ],
          "scatterpolargl": [
           {
            "type": "scatterpolargl",
            "marker": {
             "colorbar": {
              "outlinewidth": 0,
              "ticks": ""
             }
            }
           }
          ],
          "bar": [
           {
            "error_x": {
             "color": "#2a3f5f"
            },
            "error_y": {
             "color": "#2a3f5f"
            },
            "marker": {
             "line": {
              "color": "#E5ECF6",
              "width": 0.5
             },
             "pattern": {
              "fillmode": "overlay",
              "size": 10,
              "solidity": 0.2
             }
            },
            "type": "bar"
           }
          ],
          "scattergeo": [
           {
            "type": "scattergeo",
            "marker": {
             "colorbar": {
              "outlinewidth": 0,
              "ticks": ""
             }
            }
           }
          ],
          "scatterpolar": [
           {
            "type": "scatterpolar",
            "marker": {
             "colorbar": {
              "outlinewidth": 0,
              "ticks": ""
             }
            }
           }
          ],
          "histogram": [
           {
            "marker": {
             "pattern": {
              "fillmode": "overlay",
              "size": 10,
              "solidity": 0.2
             }
            },
            "type": "histogram"
           }
          ],
          "scattergl": [
           {
            "type": "scattergl",
            "marker": {
             "colorbar": {
              "outlinewidth": 0,
              "ticks": ""
             }
            }
           }
          ],
          "scatter3d": [
           {
            "type": "scatter3d",
            "line": {
             "colorbar": {
              "outlinewidth": 0,
              "ticks": ""
             }
            },
            "marker": {
             "colorbar": {
              "outlinewidth": 0,
              "ticks": ""
             }
            }
           }
          ],
          "scattermap": [
           {
            "type": "scattermap",
            "marker": {
             "colorbar": {
              "outlinewidth": 0,
              "ticks": ""
             }
            }
           }
          ],
          "scattermapbox": [
           {
            "type": "scattermapbox",
            "marker": {
             "colorbar": {
              "outlinewidth": 0,
              "ticks": ""
             }
            }
           }
          ],
          "scatterternary": [
           {
            "type": "scatterternary",
            "marker": {
             "colorbar": {
              "outlinewidth": 0,
              "ticks": ""
             }
            }
           }
          ],
          "scattercarpet": [
           {
            "type": "scattercarpet",
            "marker": {
             "colorbar": {
              "outlinewidth": 0,
              "ticks": ""
             }
            }
           }
          ],
          "carpet": [
           {
            "aaxis": {
             "endlinecolor": "#2a3f5f",
             "gridcolor": "white",
             "linecolor": "white",
             "minorgridcolor": "white",
             "startlinecolor": "#2a3f5f"
            },
            "baxis": {
             "endlinecolor": "#2a3f5f",
             "gridcolor": "white",
             "linecolor": "white",
             "minorgridcolor": "white",
             "startlinecolor": "#2a3f5f"
            },
            "type": "carpet"
           }
          ],
          "table": [
           {
            "cells": {
             "fill": {
              "color": "#EBF0F8"
             },
             "line": {
              "color": "white"
             }
            },
            "header": {
             "fill": {
              "color": "#C8D4E3"
             },
             "line": {
              "color": "white"
             }
            },
            "type": "table"
           }
          ],
          "barpolar": [
           {
            "marker": {
             "line": {
              "color": "#E5ECF6",
              "width": 0.5
             },
             "pattern": {
              "fillmode": "overlay",
              "size": 10,
              "solidity": 0.2
             }
            },
            "type": "barpolar"
           }
          ],
          "pie": [
           {
            "automargin": true,
            "type": "pie"
           }
          ]
         },
         "layout": {
          "autotypenumbers": "strict",
          "colorway": [
           "#636efa",
           "#EF553B",
           "#00cc96",
           "#ab63fa",
           "#FFA15A",
           "#19d3f3",
           "#FF6692",
           "#B6E880",
           "#FF97FF",
           "#FECB52"
          ],
          "font": {
           "color": "#2a3f5f"
          },
          "hovermode": "closest",
          "hoverlabel": {
           "align": "left"
          },
          "paper_bgcolor": "white",
          "plot_bgcolor": "#E5ECF6",
          "polar": {
           "bgcolor": "#E5ECF6",
           "angularaxis": {
            "gridcolor": "white",
            "linecolor": "white",
            "ticks": ""
           },
           "radialaxis": {
            "gridcolor": "white",
            "linecolor": "white",
            "ticks": ""
           }
          },
          "ternary": {
           "bgcolor": "#E5ECF6",
           "aaxis": {
            "gridcolor": "white",
            "linecolor": "white",
            "ticks": ""
           },
           "baxis": {
            "gridcolor": "white",
            "linecolor": "white",
            "ticks": ""
           },
           "caxis": {
            "gridcolor": "white",
            "linecolor": "white",
            "ticks": ""
           }
          },
          "coloraxis": {
           "colorbar": {
            "outlinewidth": 0,
            "ticks": ""
           }
          },
          "colorscale": {
           "sequential": [
            [
             0.0,
             "#0d0887"
            ],
            [
             0.1111111111111111,
             "#46039f"
            ],
            [
             0.2222222222222222,
             "#7201a8"
            ],
            [
             0.3333333333333333,
             "#9c179e"
            ],
            [
             0.4444444444444444,
             "#bd3786"
            ],
            [
             0.5555555555555556,
             "#d8576b"
            ],
            [
             0.6666666666666666,
             "#ed7953"
            ],
            [
             0.7777777777777778,
             "#fb9f3a"
            ],
            [
             0.8888888888888888,
             "#fdca26"
            ],
            [
             1.0,
             "#f0f921"
            ]
           ],
           "sequentialminus": [
            [
             0.0,
             "#0d0887"
            ],
            [
             0.1111111111111111,
             "#46039f"
            ],
            [
             0.2222222222222222,
             "#7201a8"
            ],
            [
             0.3333333333333333,
             "#9c179e"
            ],
            [
             0.4444444444444444,
             "#bd3786"
            ],
            [
             0.5555555555555556,
             "#d8576b"
            ],
            [
             0.6666666666666666,
             "#ed7953"
            ],
            [
             0.7777777777777778,
             "#fb9f3a"
            ],
            [
             0.8888888888888888,
             "#fdca26"
            ],
            [
             1.0,
             "#f0f921"
            ]
           ],
           "diverging": [
            [
             0,
             "#8e0152"
            ],
            [
             0.1,
             "#c51b7d"
            ],
            [
             0.2,
             "#de77ae"
            ],
            [
             0.3,
             "#f1b6da"
            ],
            [
             0.4,
             "#fde0ef"
            ],
            [
             0.5,
             "#f7f7f7"
            ],
            [
             0.6,
             "#e6f5d0"
            ],
            [
             0.7,
             "#b8e186"
            ],
            [
             0.8,
             "#7fbc41"
            ],
            [
             0.9,
             "#4d9221"
            ],
            [
             1,
             "#276419"
            ]
           ]
          },
          "xaxis": {
           "gridcolor": "white",
           "linecolor": "white",
           "ticks": "",
           "title": {
            "standoff": 15
           },
           "zerolinecolor": "white",
           "automargin": true,
           "zerolinewidth": 2
          },
          "yaxis": {
           "gridcolor": "white",
           "linecolor": "white",
           "ticks": "",
           "title": {
            "standoff": 15
           },
           "zerolinecolor": "white",
           "automargin": true,
           "zerolinewidth": 2
          },
          "scene": {
           "xaxis": {
            "backgroundcolor": "#E5ECF6",
            "gridcolor": "white",
            "linecolor": "white",
            "showbackground": true,
            "ticks": "",
            "zerolinecolor": "white",
            "gridwidth": 2
           },
           "yaxis": {
            "backgroundcolor": "#E5ECF6",
            "gridcolor": "white",
            "linecolor": "white",
            "showbackground": true,
            "ticks": "",
            "zerolinecolor": "white",
            "gridwidth": 2
           },
           "zaxis": {
            "backgroundcolor": "#E5ECF6",
            "gridcolor": "white",
            "linecolor": "white",
            "showbackground": true,
            "ticks": "",
            "zerolinecolor": "white",
            "gridwidth": 2
           }
          },
          "shapedefaults": {
           "line": {
            "color": "#2a3f5f"
           }
          },
          "annotationdefaults": {
           "arrowcolor": "#2a3f5f",
           "arrowhead": 0,
           "arrowwidth": 1
          },
          "geo": {
           "bgcolor": "white",
           "landcolor": "#E5ECF6",
           "subunitcolor": "white",
           "showland": true,
           "showlakes": true,
           "lakecolor": "white"
          },
          "title": {
           "x": 0.05
          },
          "mapbox": {
           "style": "light"
          }
         }
        },
        "title": {
         "text": "All competitions by number of players (210 players) in the 2025 Champions League season"
        }
       },
       "config": {
        "plotlyServerURL": "https://plot.ly"
       }
      }
     },
     "metadata": {},
     "output_type": "display_data"
    }
   ],
   "execution_count": 52
  },
  {
   "metadata": {
    "ExecuteTime": {
     "end_time": "2025-06-15T11:37:50.371430Z",
     "start_time": "2025-06-15T11:37:50.362566Z"
    }
   },
   "cell_type": "code",
   "source": "ucl_top_passes = ucl[['Player','Passes_completed','Team']].sort_values(by='Passes_completed', ascending=False).head(12)",
   "id": "9cce42689393e1f4",
   "outputs": [],
   "execution_count": 53
  },
  {
   "metadata": {
    "ExecuteTime": {
     "end_time": "2025-06-15T11:37:50.478735Z",
     "start_time": "2025-06-15T11:37:50.425164Z"
    }
   },
   "cell_type": "code",
   "source": "px.bar(ucl_top_passes, x='Player', y='Passes_completed', color='Passes_completed', title='Top 12 Players by Passes Completed', text='Team', hover_name='Team')",
   "id": "783fcd5add86041a",
   "outputs": [
    {
     "data": {
      "application/vnd.plotly.v1+json": {
       "data": [
        {
         "hovertemplate": "<b>%{hovertext}</b><br><br>Player=%{x}<br>Passes_completed=%{marker.color}<br>Team=%{text}<extra></extra>",
         "hovertext": [
          "Paris SG",
          "Bayern Munich",
          "Paris SG",
          "Paris SG",
          "Paris SG",
          "Paris SG",
          "BVB Dortmund",
          "Bayern Munich",
          "Bayern Munich",
          "Paris SG",
          "Barcelona",
          "Barcelona"
         ],
         "legendgroup": "",
         "marker": {
          "color": {
           "dtype": "i2",
           "bdata": "HAWRBFUEQAQqBMQDqAOHA4IDZQMqAxED"
          },
          "coloraxis": "coloraxis",
          "pattern": {
           "shape": ""
          }
         },
         "name": "",
         "orientation": "v",
         "showlegend": false,
         "text": [
          "Paris SG",
          "Bayern Munich",
          "Paris SG",
          "Paris SG",
          "Paris SG",
          "Paris SG",
          "BVB Dortmund",
          "Bayern Munich",
          "Bayern Munich",
          "Paris SG",
          "Barcelona",
          "Barcelona"
         ],
         "textposition": "auto",
         "x": [
          "Vitinha",
          "Kimmich",
          "Marquinhos",
          "Pacho",
          "Hakimi",
          "Joao Neves",
          "Schlotterbeck",
          "Minjae Kim",
          "Upamecano",
          "Nuno Mendes",
          "Pedri",
          "Inigo Martinez"
         ],
         "xaxis": "x",
         "y": {
          "dtype": "i2",
          "bdata": "HAWRBFUEQAQqBMQDqAOHA4IDZQMqAxED"
         },
         "yaxis": "y",
         "type": "bar"
        }
       ],
       "layout": {
        "template": {
         "data": {
          "histogram2dcontour": [
           {
            "type": "histogram2dcontour",
            "colorbar": {
             "outlinewidth": 0,
             "ticks": ""
            },
            "colorscale": [
             [
              0.0,
              "#0d0887"
             ],
             [
              0.1111111111111111,
              "#46039f"
             ],
             [
              0.2222222222222222,
              "#7201a8"
             ],
             [
              0.3333333333333333,
              "#9c179e"
             ],
             [
              0.4444444444444444,
              "#bd3786"
             ],
             [
              0.5555555555555556,
              "#d8576b"
             ],
             [
              0.6666666666666666,
              "#ed7953"
             ],
             [
              0.7777777777777778,
              "#fb9f3a"
             ],
             [
              0.8888888888888888,
              "#fdca26"
             ],
             [
              1.0,
              "#f0f921"
             ]
            ]
           }
          ],
          "choropleth": [
           {
            "type": "choropleth",
            "colorbar": {
             "outlinewidth": 0,
             "ticks": ""
            }
           }
          ],
          "histogram2d": [
           {
            "type": "histogram2d",
            "colorbar": {
             "outlinewidth": 0,
             "ticks": ""
            },
            "colorscale": [
             [
              0.0,
              "#0d0887"
             ],
             [
              0.1111111111111111,
              "#46039f"
             ],
             [
              0.2222222222222222,
              "#7201a8"
             ],
             [
              0.3333333333333333,
              "#9c179e"
             ],
             [
              0.4444444444444444,
              "#bd3786"
             ],
             [
              0.5555555555555556,
              "#d8576b"
             ],
             [
              0.6666666666666666,
              "#ed7953"
             ],
             [
              0.7777777777777778,
              "#fb9f3a"
             ],
             [
              0.8888888888888888,
              "#fdca26"
             ],
             [
              1.0,
              "#f0f921"
             ]
            ]
           }
          ],
          "heatmap": [
           {
            "type": "heatmap",
            "colorbar": {
             "outlinewidth": 0,
             "ticks": ""
            },
            "colorscale": [
             [
              0.0,
              "#0d0887"
             ],
             [
              0.1111111111111111,
              "#46039f"
             ],
             [
              0.2222222222222222,
              "#7201a8"
             ],
             [
              0.3333333333333333,
              "#9c179e"
             ],
             [
              0.4444444444444444,
              "#bd3786"
             ],
             [
              0.5555555555555556,
              "#d8576b"
             ],
             [
              0.6666666666666666,
              "#ed7953"
             ],
             [
              0.7777777777777778,
              "#fb9f3a"
             ],
             [
              0.8888888888888888,
              "#fdca26"
             ],
             [
              1.0,
              "#f0f921"
             ]
            ]
           }
          ],
          "contourcarpet": [
           {
            "type": "contourcarpet",
            "colorbar": {
             "outlinewidth": 0,
             "ticks": ""
            }
           }
          ],
          "contour": [
           {
            "type": "contour",
            "colorbar": {
             "outlinewidth": 0,
             "ticks": ""
            },
            "colorscale": [
             [
              0.0,
              "#0d0887"
             ],
             [
              0.1111111111111111,
              "#46039f"
             ],
             [
              0.2222222222222222,
              "#7201a8"
             ],
             [
              0.3333333333333333,
              "#9c179e"
             ],
             [
              0.4444444444444444,
              "#bd3786"
             ],
             [
              0.5555555555555556,
              "#d8576b"
             ],
             [
              0.6666666666666666,
              "#ed7953"
             ],
             [
              0.7777777777777778,
              "#fb9f3a"
             ],
             [
              0.8888888888888888,
              "#fdca26"
             ],
             [
              1.0,
              "#f0f921"
             ]
            ]
           }
          ],
          "surface": [
           {
            "type": "surface",
            "colorbar": {
             "outlinewidth": 0,
             "ticks": ""
            },
            "colorscale": [
             [
              0.0,
              "#0d0887"
             ],
             [
              0.1111111111111111,
              "#46039f"
             ],
             [
              0.2222222222222222,
              "#7201a8"
             ],
             [
              0.3333333333333333,
              "#9c179e"
             ],
             [
              0.4444444444444444,
              "#bd3786"
             ],
             [
              0.5555555555555556,
              "#d8576b"
             ],
             [
              0.6666666666666666,
              "#ed7953"
             ],
             [
              0.7777777777777778,
              "#fb9f3a"
             ],
             [
              0.8888888888888888,
              "#fdca26"
             ],
             [
              1.0,
              "#f0f921"
             ]
            ]
           }
          ],
          "mesh3d": [
           {
            "type": "mesh3d",
            "colorbar": {
             "outlinewidth": 0,
             "ticks": ""
            }
           }
          ],
          "scatter": [
           {
            "fillpattern": {
             "fillmode": "overlay",
             "size": 10,
             "solidity": 0.2
            },
            "type": "scatter"
           }
          ],
          "parcoords": [
           {
            "type": "parcoords",
            "line": {
             "colorbar": {
              "outlinewidth": 0,
              "ticks": ""
             }
            }
           }
          ],
          "scatterpolargl": [
           {
            "type": "scatterpolargl",
            "marker": {
             "colorbar": {
              "outlinewidth": 0,
              "ticks": ""
             }
            }
           }
          ],
          "bar": [
           {
            "error_x": {
             "color": "#2a3f5f"
            },
            "error_y": {
             "color": "#2a3f5f"
            },
            "marker": {
             "line": {
              "color": "#E5ECF6",
              "width": 0.5
             },
             "pattern": {
              "fillmode": "overlay",
              "size": 10,
              "solidity": 0.2
             }
            },
            "type": "bar"
           }
          ],
          "scattergeo": [
           {
            "type": "scattergeo",
            "marker": {
             "colorbar": {
              "outlinewidth": 0,
              "ticks": ""
             }
            }
           }
          ],
          "scatterpolar": [
           {
            "type": "scatterpolar",
            "marker": {
             "colorbar": {
              "outlinewidth": 0,
              "ticks": ""
             }
            }
           }
          ],
          "histogram": [
           {
            "marker": {
             "pattern": {
              "fillmode": "overlay",
              "size": 10,
              "solidity": 0.2
             }
            },
            "type": "histogram"
           }
          ],
          "scattergl": [
           {
            "type": "scattergl",
            "marker": {
             "colorbar": {
              "outlinewidth": 0,
              "ticks": ""
             }
            }
           }
          ],
          "scatter3d": [
           {
            "type": "scatter3d",
            "line": {
             "colorbar": {
              "outlinewidth": 0,
              "ticks": ""
             }
            },
            "marker": {
             "colorbar": {
              "outlinewidth": 0,
              "ticks": ""
             }
            }
           }
          ],
          "scattermap": [
           {
            "type": "scattermap",
            "marker": {
             "colorbar": {
              "outlinewidth": 0,
              "ticks": ""
             }
            }
           }
          ],
          "scattermapbox": [
           {
            "type": "scattermapbox",
            "marker": {
             "colorbar": {
              "outlinewidth": 0,
              "ticks": ""
             }
            }
           }
          ],
          "scatterternary": [
           {
            "type": "scatterternary",
            "marker": {
             "colorbar": {
              "outlinewidth": 0,
              "ticks": ""
             }
            }
           }
          ],
          "scattercarpet": [
           {
            "type": "scattercarpet",
            "marker": {
             "colorbar": {
              "outlinewidth": 0,
              "ticks": ""
             }
            }
           }
          ],
          "carpet": [
           {
            "aaxis": {
             "endlinecolor": "#2a3f5f",
             "gridcolor": "white",
             "linecolor": "white",
             "minorgridcolor": "white",
             "startlinecolor": "#2a3f5f"
            },
            "baxis": {
             "endlinecolor": "#2a3f5f",
             "gridcolor": "white",
             "linecolor": "white",
             "minorgridcolor": "white",
             "startlinecolor": "#2a3f5f"
            },
            "type": "carpet"
           }
          ],
          "table": [
           {
            "cells": {
             "fill": {
              "color": "#EBF0F8"
             },
             "line": {
              "color": "white"
             }
            },
            "header": {
             "fill": {
              "color": "#C8D4E3"
             },
             "line": {
              "color": "white"
             }
            },
            "type": "table"
           }
          ],
          "barpolar": [
           {
            "marker": {
             "line": {
              "color": "#E5ECF6",
              "width": 0.5
             },
             "pattern": {
              "fillmode": "overlay",
              "size": 10,
              "solidity": 0.2
             }
            },
            "type": "barpolar"
           }
          ],
          "pie": [
           {
            "automargin": true,
            "type": "pie"
           }
          ]
         },
         "layout": {
          "autotypenumbers": "strict",
          "colorway": [
           "#636efa",
           "#EF553B",
           "#00cc96",
           "#ab63fa",
           "#FFA15A",
           "#19d3f3",
           "#FF6692",
           "#B6E880",
           "#FF97FF",
           "#FECB52"
          ],
          "font": {
           "color": "#2a3f5f"
          },
          "hovermode": "closest",
          "hoverlabel": {
           "align": "left"
          },
          "paper_bgcolor": "white",
          "plot_bgcolor": "#E5ECF6",
          "polar": {
           "bgcolor": "#E5ECF6",
           "angularaxis": {
            "gridcolor": "white",
            "linecolor": "white",
            "ticks": ""
           },
           "radialaxis": {
            "gridcolor": "white",
            "linecolor": "white",
            "ticks": ""
           }
          },
          "ternary": {
           "bgcolor": "#E5ECF6",
           "aaxis": {
            "gridcolor": "white",
            "linecolor": "white",
            "ticks": ""
           },
           "baxis": {
            "gridcolor": "white",
            "linecolor": "white",
            "ticks": ""
           },
           "caxis": {
            "gridcolor": "white",
            "linecolor": "white",
            "ticks": ""
           }
          },
          "coloraxis": {
           "colorbar": {
            "outlinewidth": 0,
            "ticks": ""
           }
          },
          "colorscale": {
           "sequential": [
            [
             0.0,
             "#0d0887"
            ],
            [
             0.1111111111111111,
             "#46039f"
            ],
            [
             0.2222222222222222,
             "#7201a8"
            ],
            [
             0.3333333333333333,
             "#9c179e"
            ],
            [
             0.4444444444444444,
             "#bd3786"
            ],
            [
             0.5555555555555556,
             "#d8576b"
            ],
            [
             0.6666666666666666,
             "#ed7953"
            ],
            [
             0.7777777777777778,
             "#fb9f3a"
            ],
            [
             0.8888888888888888,
             "#fdca26"
            ],
            [
             1.0,
             "#f0f921"
            ]
           ],
           "sequentialminus": [
            [
             0.0,
             "#0d0887"
            ],
            [
             0.1111111111111111,
             "#46039f"
            ],
            [
             0.2222222222222222,
             "#7201a8"
            ],
            [
             0.3333333333333333,
             "#9c179e"
            ],
            [
             0.4444444444444444,
             "#bd3786"
            ],
            [
             0.5555555555555556,
             "#d8576b"
            ],
            [
             0.6666666666666666,
             "#ed7953"
            ],
            [
             0.7777777777777778,
             "#fb9f3a"
            ],
            [
             0.8888888888888888,
             "#fdca26"
            ],
            [
             1.0,
             "#f0f921"
            ]
           ],
           "diverging": [
            [
             0,
             "#8e0152"
            ],
            [
             0.1,
             "#c51b7d"
            ],
            [
             0.2,
             "#de77ae"
            ],
            [
             0.3,
             "#f1b6da"
            ],
            [
             0.4,
             "#fde0ef"
            ],
            [
             0.5,
             "#f7f7f7"
            ],
            [
             0.6,
             "#e6f5d0"
            ],
            [
             0.7,
             "#b8e186"
            ],
            [
             0.8,
             "#7fbc41"
            ],
            [
             0.9,
             "#4d9221"
            ],
            [
             1,
             "#276419"
            ]
           ]
          },
          "xaxis": {
           "gridcolor": "white",
           "linecolor": "white",
           "ticks": "",
           "title": {
            "standoff": 15
           },
           "zerolinecolor": "white",
           "automargin": true,
           "zerolinewidth": 2
          },
          "yaxis": {
           "gridcolor": "white",
           "linecolor": "white",
           "ticks": "",
           "title": {
            "standoff": 15
           },
           "zerolinecolor": "white",
           "automargin": true,
           "zerolinewidth": 2
          },
          "scene": {
           "xaxis": {
            "backgroundcolor": "#E5ECF6",
            "gridcolor": "white",
            "linecolor": "white",
            "showbackground": true,
            "ticks": "",
            "zerolinecolor": "white",
            "gridwidth": 2
           },
           "yaxis": {
            "backgroundcolor": "#E5ECF6",
            "gridcolor": "white",
            "linecolor": "white",
            "showbackground": true,
            "ticks": "",
            "zerolinecolor": "white",
            "gridwidth": 2
           },
           "zaxis": {
            "backgroundcolor": "#E5ECF6",
            "gridcolor": "white",
            "linecolor": "white",
            "showbackground": true,
            "ticks": "",
            "zerolinecolor": "white",
            "gridwidth": 2
           }
          },
          "shapedefaults": {
           "line": {
            "color": "#2a3f5f"
           }
          },
          "annotationdefaults": {
           "arrowcolor": "#2a3f5f",
           "arrowhead": 0,
           "arrowwidth": 1
          },
          "geo": {
           "bgcolor": "white",
           "landcolor": "#E5ECF6",
           "subunitcolor": "white",
           "showland": true,
           "showlakes": true,
           "lakecolor": "white"
          },
          "title": {
           "x": 0.05
          },
          "mapbox": {
           "style": "light"
          }
         }
        },
        "xaxis": {
         "anchor": "y",
         "domain": [
          0.0,
          1.0
         ],
         "title": {
          "text": "Player"
         }
        },
        "yaxis": {
         "anchor": "x",
         "domain": [
          0.0,
          1.0
         ],
         "title": {
          "text": "Passes_completed"
         }
        },
        "coloraxis": {
         "colorbar": {
          "title": {
           "text": "Passes_completed"
          }
         },
         "colorscale": [
          [
           0.0,
           "#0d0887"
          ],
          [
           0.1111111111111111,
           "#46039f"
          ],
          [
           0.2222222222222222,
           "#7201a8"
          ],
          [
           0.3333333333333333,
           "#9c179e"
          ],
          [
           0.4444444444444444,
           "#bd3786"
          ],
          [
           0.5555555555555556,
           "#d8576b"
          ],
          [
           0.6666666666666666,
           "#ed7953"
          ],
          [
           0.7777777777777778,
           "#fb9f3a"
          ],
          [
           0.8888888888888888,
           "#fdca26"
          ],
          [
           1.0,
           "#f0f921"
          ]
         ]
        },
        "legend": {
         "tracegroupgap": 0
        },
        "title": {
         "text": "Top 12 Players by Passes Completed"
        },
        "barmode": "relative"
       },
       "config": {
        "plotlyServerURL": "https://plot.ly"
       }
      }
     },
     "metadata": {},
     "output_type": "display_data"
    }
   ],
   "execution_count": 54
  },
  {
   "metadata": {
    "ExecuteTime": {
     "end_time": "2025-06-15T11:37:50.530236Z",
     "start_time": "2025-06-15T11:37:50.523317Z"
    }
   },
   "cell_type": "code",
   "source": "serie_a_players = ucl[ucl['Competitions'] == 'Serie A']",
   "id": "d36fe5274f6a65b7",
   "outputs": [],
   "execution_count": 55
  },
  {
   "metadata": {
    "ExecuteTime": {
     "end_time": "2025-06-15T11:37:50.589813Z",
     "start_time": "2025-06-15T11:37:50.581349Z"
    }
   },
   "cell_type": "code",
   "source": "top_serie_a_players_rating = serie_a_players[['Player', 'Team', 'Rating']].sort_values(by='Rating', ascending=False).head(15)",
   "id": "53bff4386dd8f7e1",
   "outputs": [],
   "execution_count": 56
  },
  {
   "metadata": {
    "ExecuteTime": {
     "end_time": "2025-06-15T11:37:50.662982Z",
     "start_time": "2025-06-15T11:37:50.650883Z"
    }
   },
   "cell_type": "code",
   "source": "top_serie_a_players_rating[['Player','Team','Rating']].head(15)",
   "id": "12674e3236a6d470",
   "outputs": [
    {
     "data": {
      "text/plain": [
       "                Player         Team  Rating\n",
       "154            Lookman  Atalanta BC    7.69\n",
       "36          Calhanoglu        Inter    7.51\n",
       "186          Skorupski      Bologna    7.49\n",
       "114         Zappacosta  Atalanta BC    7.45\n",
       "49   Charles Ketelaere  Atalanta BC    7.43\n",
       "60    Lautaro Martinez        Inter    7.42\n",
       "207          Locatelli     Juventus    7.41\n",
       "131           Dumfries        Inter    7.40\n",
       "14             Pulisic        Milan    7.36\n",
       "112        Yann Sommer        Inter    7.35\n",
       "50    Santiago Gimenez        Milan    7.33\n",
       "42        Mike Maignan        Milan    7.26\n",
       "66      Stefan de Vrij        Inter    7.24\n",
       "189     Marten de Roon  Atalanta BC    7.24\n",
       "183          Kossounou  Atalanta BC    7.23"
      ],
      "text/html": [
       "<div>\n",
       "<style scoped>\n",
       "    .dataframe tbody tr th:only-of-type {\n",
       "        vertical-align: middle;\n",
       "    }\n",
       "\n",
       "    .dataframe tbody tr th {\n",
       "        vertical-align: top;\n",
       "    }\n",
       "\n",
       "    .dataframe thead th {\n",
       "        text-align: right;\n",
       "    }\n",
       "</style>\n",
       "<table border=\"1\" class=\"dataframe\">\n",
       "  <thead>\n",
       "    <tr style=\"text-align: right;\">\n",
       "      <th></th>\n",
       "      <th>Player</th>\n",
       "      <th>Team</th>\n",
       "      <th>Rating</th>\n",
       "    </tr>\n",
       "  </thead>\n",
       "  <tbody>\n",
       "    <tr>\n",
       "      <th>154</th>\n",
       "      <td>Lookman</td>\n",
       "      <td>Atalanta BC</td>\n",
       "      <td>7.69</td>\n",
       "    </tr>\n",
       "    <tr>\n",
       "      <th>36</th>\n",
       "      <td>Calhanoglu</td>\n",
       "      <td>Inter</td>\n",
       "      <td>7.51</td>\n",
       "    </tr>\n",
       "    <tr>\n",
       "      <th>186</th>\n",
       "      <td>Skorupski</td>\n",
       "      <td>Bologna</td>\n",
       "      <td>7.49</td>\n",
       "    </tr>\n",
       "    <tr>\n",
       "      <th>114</th>\n",
       "      <td>Zappacosta</td>\n",
       "      <td>Atalanta BC</td>\n",
       "      <td>7.45</td>\n",
       "    </tr>\n",
       "    <tr>\n",
       "      <th>49</th>\n",
       "      <td>Charles Ketelaere</td>\n",
       "      <td>Atalanta BC</td>\n",
       "      <td>7.43</td>\n",
       "    </tr>\n",
       "    <tr>\n",
       "      <th>60</th>\n",
       "      <td>Lautaro Martinez</td>\n",
       "      <td>Inter</td>\n",
       "      <td>7.42</td>\n",
       "    </tr>\n",
       "    <tr>\n",
       "      <th>207</th>\n",
       "      <td>Locatelli</td>\n",
       "      <td>Juventus</td>\n",
       "      <td>7.41</td>\n",
       "    </tr>\n",
       "    <tr>\n",
       "      <th>131</th>\n",
       "      <td>Dumfries</td>\n",
       "      <td>Inter</td>\n",
       "      <td>7.40</td>\n",
       "    </tr>\n",
       "    <tr>\n",
       "      <th>14</th>\n",
       "      <td>Pulisic</td>\n",
       "      <td>Milan</td>\n",
       "      <td>7.36</td>\n",
       "    </tr>\n",
       "    <tr>\n",
       "      <th>112</th>\n",
       "      <td>Yann Sommer</td>\n",
       "      <td>Inter</td>\n",
       "      <td>7.35</td>\n",
       "    </tr>\n",
       "    <tr>\n",
       "      <th>50</th>\n",
       "      <td>Santiago Gimenez</td>\n",
       "      <td>Milan</td>\n",
       "      <td>7.33</td>\n",
       "    </tr>\n",
       "    <tr>\n",
       "      <th>42</th>\n",
       "      <td>Mike Maignan</td>\n",
       "      <td>Milan</td>\n",
       "      <td>7.26</td>\n",
       "    </tr>\n",
       "    <tr>\n",
       "      <th>66</th>\n",
       "      <td>Stefan de Vrij</td>\n",
       "      <td>Inter</td>\n",
       "      <td>7.24</td>\n",
       "    </tr>\n",
       "    <tr>\n",
       "      <th>189</th>\n",
       "      <td>Marten de Roon</td>\n",
       "      <td>Atalanta BC</td>\n",
       "      <td>7.24</td>\n",
       "    </tr>\n",
       "    <tr>\n",
       "      <th>183</th>\n",
       "      <td>Kossounou</td>\n",
       "      <td>Atalanta BC</td>\n",
       "      <td>7.23</td>\n",
       "    </tr>\n",
       "  </tbody>\n",
       "</table>\n",
       "</div>"
      ]
     },
     "execution_count": 57,
     "metadata": {},
     "output_type": "execute_result"
    }
   ],
   "execution_count": 57
  },
  {
   "metadata": {
    "ExecuteTime": {
     "end_time": "2025-06-15T11:37:50.904719Z",
     "start_time": "2025-06-15T11:37:50.848932Z"
    }
   },
   "cell_type": "code",
   "source": [
    "fig = px.bar(top_serie_a_players_rating, x='Player', y='Rating', color='Team', title='Top 15 Players by Rating in Serie A', hover_name='Team')\n",
    "fig.show()"
   ],
   "id": "15ab0188eaf6e699",
   "outputs": [
    {
     "data": {
      "application/vnd.plotly.v1+json": {
       "data": [
        {
         "hovertemplate": "<b>%{hovertext}</b><br><br>Team=Atalanta BC<br>Player=%{x}<br>Rating=%{y}<extra></extra>",
         "hovertext": [
          "Atalanta BC",
          "Atalanta BC",
          "Atalanta BC",
          "Atalanta BC",
          "Atalanta BC"
         ],
         "legendgroup": "Atalanta BC",
         "marker": {
          "color": "#636efa",
          "pattern": {
           "shape": ""
          }
         },
         "name": "Atalanta BC",
         "orientation": "v",
         "showlegend": true,
         "textposition": "auto",
         "x": [
          "Lookman",
          "Zappacosta",
          "Charles Ketelaere",
          "Marten de Roon",
          "Kossounou"
         ],
         "xaxis": "x",
         "y": {
          "dtype": "f8",
          "bdata": "w/UoXI/CHkDNzMzMzMwdQLgehetRuB1A9ihcj8L1HEDsUbgehescQA=="
         },
         "yaxis": "y",
         "type": "bar"
        },
        {
         "hovertemplate": "<b>%{hovertext}</b><br><br>Team=Inter<br>Player=%{x}<br>Rating=%{y}<extra></extra>",
         "hovertext": [
          "Inter",
          "Inter",
          "Inter",
          "Inter",
          "Inter"
         ],
         "legendgroup": "Inter",
         "marker": {
          "color": "#EF553B",
          "pattern": {
           "shape": ""
          }
         },
         "name": "Inter",
         "orientation": "v",
         "showlegend": true,
         "textposition": "auto",
         "x": [
          "Calhanoglu",
          "Lautaro Martinez",
          "Dumfries",
          "Yann Sommer",
          "Stefan de Vrij"
         ],
         "xaxis": "x",
         "y": {
          "dtype": "f8",
          "bdata": "CtejcD0KHkCuR+F6FK4dQJqZmZmZmR1AZmZmZmZmHUD2KFyPwvUcQA=="
         },
         "yaxis": "y",
         "type": "bar"
        },
        {
         "hovertemplate": "<b>%{hovertext}</b><br><br>Team=Bologna<br>Player=%{x}<br>Rating=%{y}<extra></extra>",
         "hovertext": [
          "Bologna"
         ],
         "legendgroup": "Bologna",
         "marker": {
          "color": "#00cc96",
          "pattern": {
           "shape": ""
          }
         },
         "name": "Bologna",
         "orientation": "v",
         "showlegend": true,
         "textposition": "auto",
         "x": [
          "Skorupski"
         ],
         "xaxis": "x",
         "y": {
          "dtype": "f8",
          "bdata": "9ihcj8L1HUA="
         },
         "yaxis": "y",
         "type": "bar"
        },
        {
         "hovertemplate": "<b>%{hovertext}</b><br><br>Team=Juventus<br>Player=%{x}<br>Rating=%{y}<extra></extra>",
         "hovertext": [
          "Juventus"
         ],
         "legendgroup": "Juventus",
         "marker": {
          "color": "#ab63fa",
          "pattern": {
           "shape": ""
          }
         },
         "name": "Juventus",
         "orientation": "v",
         "showlegend": true,
         "textposition": "auto",
         "x": [
          "Locatelli"
         ],
         "xaxis": "x",
         "y": {
          "dtype": "f8",
          "bdata": "pHA9CtejHUA="
         },
         "yaxis": "y",
         "type": "bar"
        },
        {
         "hovertemplate": "<b>%{hovertext}</b><br><br>Team=Milan<br>Player=%{x}<br>Rating=%{y}<extra></extra>",
         "hovertext": [
          "Milan",
          "Milan",
          "Milan"
         ],
         "legendgroup": "Milan",
         "marker": {
          "color": "#FFA15A",
          "pattern": {
           "shape": ""
          }
         },
         "name": "Milan",
         "orientation": "v",
         "showlegend": true,
         "textposition": "auto",
         "x": [
          "Pulisic",
          "Santiago Gimenez",
          "Mike Maignan"
         ],
         "xaxis": "x",
         "y": {
          "dtype": "f8",
          "bdata": "cT0K16NwHUBSuB6F61EdQArXo3A9Ch1A"
         },
         "yaxis": "y",
         "type": "bar"
        }
       ],
       "layout": {
        "template": {
         "data": {
          "histogram2dcontour": [
           {
            "type": "histogram2dcontour",
            "colorbar": {
             "outlinewidth": 0,
             "ticks": ""
            },
            "colorscale": [
             [
              0.0,
              "#0d0887"
             ],
             [
              0.1111111111111111,
              "#46039f"
             ],
             [
              0.2222222222222222,
              "#7201a8"
             ],
             [
              0.3333333333333333,
              "#9c179e"
             ],
             [
              0.4444444444444444,
              "#bd3786"
             ],
             [
              0.5555555555555556,
              "#d8576b"
             ],
             [
              0.6666666666666666,
              "#ed7953"
             ],
             [
              0.7777777777777778,
              "#fb9f3a"
             ],
             [
              0.8888888888888888,
              "#fdca26"
             ],
             [
              1.0,
              "#f0f921"
             ]
            ]
           }
          ],
          "choropleth": [
           {
            "type": "choropleth",
            "colorbar": {
             "outlinewidth": 0,
             "ticks": ""
            }
           }
          ],
          "histogram2d": [
           {
            "type": "histogram2d",
            "colorbar": {
             "outlinewidth": 0,
             "ticks": ""
            },
            "colorscale": [
             [
              0.0,
              "#0d0887"
             ],
             [
              0.1111111111111111,
              "#46039f"
             ],
             [
              0.2222222222222222,
              "#7201a8"
             ],
             [
              0.3333333333333333,
              "#9c179e"
             ],
             [
              0.4444444444444444,
              "#bd3786"
             ],
             [
              0.5555555555555556,
              "#d8576b"
             ],
             [
              0.6666666666666666,
              "#ed7953"
             ],
             [
              0.7777777777777778,
              "#fb9f3a"
             ],
             [
              0.8888888888888888,
              "#fdca26"
             ],
             [
              1.0,
              "#f0f921"
             ]
            ]
           }
          ],
          "heatmap": [
           {
            "type": "heatmap",
            "colorbar": {
             "outlinewidth": 0,
             "ticks": ""
            },
            "colorscale": [
             [
              0.0,
              "#0d0887"
             ],
             [
              0.1111111111111111,
              "#46039f"
             ],
             [
              0.2222222222222222,
              "#7201a8"
             ],
             [
              0.3333333333333333,
              "#9c179e"
             ],
             [
              0.4444444444444444,
              "#bd3786"
             ],
             [
              0.5555555555555556,
              "#d8576b"
             ],
             [
              0.6666666666666666,
              "#ed7953"
             ],
             [
              0.7777777777777778,
              "#fb9f3a"
             ],
             [
              0.8888888888888888,
              "#fdca26"
             ],
             [
              1.0,
              "#f0f921"
             ]
            ]
           }
          ],
          "contourcarpet": [
           {
            "type": "contourcarpet",
            "colorbar": {
             "outlinewidth": 0,
             "ticks": ""
            }
           }
          ],
          "contour": [
           {
            "type": "contour",
            "colorbar": {
             "outlinewidth": 0,
             "ticks": ""
            },
            "colorscale": [
             [
              0.0,
              "#0d0887"
             ],
             [
              0.1111111111111111,
              "#46039f"
             ],
             [
              0.2222222222222222,
              "#7201a8"
             ],
             [
              0.3333333333333333,
              "#9c179e"
             ],
             [
              0.4444444444444444,
              "#bd3786"
             ],
             [
              0.5555555555555556,
              "#d8576b"
             ],
             [
              0.6666666666666666,
              "#ed7953"
             ],
             [
              0.7777777777777778,
              "#fb9f3a"
             ],
             [
              0.8888888888888888,
              "#fdca26"
             ],
             [
              1.0,
              "#f0f921"
             ]
            ]
           }
          ],
          "surface": [
           {
            "type": "surface",
            "colorbar": {
             "outlinewidth": 0,
             "ticks": ""
            },
            "colorscale": [
             [
              0.0,
              "#0d0887"
             ],
             [
              0.1111111111111111,
              "#46039f"
             ],
             [
              0.2222222222222222,
              "#7201a8"
             ],
             [
              0.3333333333333333,
              "#9c179e"
             ],
             [
              0.4444444444444444,
              "#bd3786"
             ],
             [
              0.5555555555555556,
              "#d8576b"
             ],
             [
              0.6666666666666666,
              "#ed7953"
             ],
             [
              0.7777777777777778,
              "#fb9f3a"
             ],
             [
              0.8888888888888888,
              "#fdca26"
             ],
             [
              1.0,
              "#f0f921"
             ]
            ]
           }
          ],
          "mesh3d": [
           {
            "type": "mesh3d",
            "colorbar": {
             "outlinewidth": 0,
             "ticks": ""
            }
           }
          ],
          "scatter": [
           {
            "fillpattern": {
             "fillmode": "overlay",
             "size": 10,
             "solidity": 0.2
            },
            "type": "scatter"
           }
          ],
          "parcoords": [
           {
            "type": "parcoords",
            "line": {
             "colorbar": {
              "outlinewidth": 0,
              "ticks": ""
             }
            }
           }
          ],
          "scatterpolargl": [
           {
            "type": "scatterpolargl",
            "marker": {
             "colorbar": {
              "outlinewidth": 0,
              "ticks": ""
             }
            }
           }
          ],
          "bar": [
           {
            "error_x": {
             "color": "#2a3f5f"
            },
            "error_y": {
             "color": "#2a3f5f"
            },
            "marker": {
             "line": {
              "color": "#E5ECF6",
              "width": 0.5
             },
             "pattern": {
              "fillmode": "overlay",
              "size": 10,
              "solidity": 0.2
             }
            },
            "type": "bar"
           }
          ],
          "scattergeo": [
           {
            "type": "scattergeo",
            "marker": {
             "colorbar": {
              "outlinewidth": 0,
              "ticks": ""
             }
            }
           }
          ],
          "scatterpolar": [
           {
            "type": "scatterpolar",
            "marker": {
             "colorbar": {
              "outlinewidth": 0,
              "ticks": ""
             }
            }
           }
          ],
          "histogram": [
           {
            "marker": {
             "pattern": {
              "fillmode": "overlay",
              "size": 10,
              "solidity": 0.2
             }
            },
            "type": "histogram"
           }
          ],
          "scattergl": [
           {
            "type": "scattergl",
            "marker": {
             "colorbar": {
              "outlinewidth": 0,
              "ticks": ""
             }
            }
           }
          ],
          "scatter3d": [
           {
            "type": "scatter3d",
            "line": {
             "colorbar": {
              "outlinewidth": 0,
              "ticks": ""
             }
            },
            "marker": {
             "colorbar": {
              "outlinewidth": 0,
              "ticks": ""
             }
            }
           }
          ],
          "scattermap": [
           {
            "type": "scattermap",
            "marker": {
             "colorbar": {
              "outlinewidth": 0,
              "ticks": ""
             }
            }
           }
          ],
          "scattermapbox": [
           {
            "type": "scattermapbox",
            "marker": {
             "colorbar": {
              "outlinewidth": 0,
              "ticks": ""
             }
            }
           }
          ],
          "scatterternary": [
           {
            "type": "scatterternary",
            "marker": {
             "colorbar": {
              "outlinewidth": 0,
              "ticks": ""
             }
            }
           }
          ],
          "scattercarpet": [
           {
            "type": "scattercarpet",
            "marker": {
             "colorbar": {
              "outlinewidth": 0,
              "ticks": ""
             }
            }
           }
          ],
          "carpet": [
           {
            "aaxis": {
             "endlinecolor": "#2a3f5f",
             "gridcolor": "white",
             "linecolor": "white",
             "minorgridcolor": "white",
             "startlinecolor": "#2a3f5f"
            },
            "baxis": {
             "endlinecolor": "#2a3f5f",
             "gridcolor": "white",
             "linecolor": "white",
             "minorgridcolor": "white",
             "startlinecolor": "#2a3f5f"
            },
            "type": "carpet"
           }
          ],
          "table": [
           {
            "cells": {
             "fill": {
              "color": "#EBF0F8"
             },
             "line": {
              "color": "white"
             }
            },
            "header": {
             "fill": {
              "color": "#C8D4E3"
             },
             "line": {
              "color": "white"
             }
            },
            "type": "table"
           }
          ],
          "barpolar": [
           {
            "marker": {
             "line": {
              "color": "#E5ECF6",
              "width": 0.5
             },
             "pattern": {
              "fillmode": "overlay",
              "size": 10,
              "solidity": 0.2
             }
            },
            "type": "barpolar"
           }
          ],
          "pie": [
           {
            "automargin": true,
            "type": "pie"
           }
          ]
         },
         "layout": {
          "autotypenumbers": "strict",
          "colorway": [
           "#636efa",
           "#EF553B",
           "#00cc96",
           "#ab63fa",
           "#FFA15A",
           "#19d3f3",
           "#FF6692",
           "#B6E880",
           "#FF97FF",
           "#FECB52"
          ],
          "font": {
           "color": "#2a3f5f"
          },
          "hovermode": "closest",
          "hoverlabel": {
           "align": "left"
          },
          "paper_bgcolor": "white",
          "plot_bgcolor": "#E5ECF6",
          "polar": {
           "bgcolor": "#E5ECF6",
           "angularaxis": {
            "gridcolor": "white",
            "linecolor": "white",
            "ticks": ""
           },
           "radialaxis": {
            "gridcolor": "white",
            "linecolor": "white",
            "ticks": ""
           }
          },
          "ternary": {
           "bgcolor": "#E5ECF6",
           "aaxis": {
            "gridcolor": "white",
            "linecolor": "white",
            "ticks": ""
           },
           "baxis": {
            "gridcolor": "white",
            "linecolor": "white",
            "ticks": ""
           },
           "caxis": {
            "gridcolor": "white",
            "linecolor": "white",
            "ticks": ""
           }
          },
          "coloraxis": {
           "colorbar": {
            "outlinewidth": 0,
            "ticks": ""
           }
          },
          "colorscale": {
           "sequential": [
            [
             0.0,
             "#0d0887"
            ],
            [
             0.1111111111111111,
             "#46039f"
            ],
            [
             0.2222222222222222,
             "#7201a8"
            ],
            [
             0.3333333333333333,
             "#9c179e"
            ],
            [
             0.4444444444444444,
             "#bd3786"
            ],
            [
             0.5555555555555556,
             "#d8576b"
            ],
            [
             0.6666666666666666,
             "#ed7953"
            ],
            [
             0.7777777777777778,
             "#fb9f3a"
            ],
            [
             0.8888888888888888,
             "#fdca26"
            ],
            [
             1.0,
             "#f0f921"
            ]
           ],
           "sequentialminus": [
            [
             0.0,
             "#0d0887"
            ],
            [
             0.1111111111111111,
             "#46039f"
            ],
            [
             0.2222222222222222,
             "#7201a8"
            ],
            [
             0.3333333333333333,
             "#9c179e"
            ],
            [
             0.4444444444444444,
             "#bd3786"
            ],
            [
             0.5555555555555556,
             "#d8576b"
            ],
            [
             0.6666666666666666,
             "#ed7953"
            ],
            [
             0.7777777777777778,
             "#fb9f3a"
            ],
            [
             0.8888888888888888,
             "#fdca26"
            ],
            [
             1.0,
             "#f0f921"
            ]
           ],
           "diverging": [
            [
             0,
             "#8e0152"
            ],
            [
             0.1,
             "#c51b7d"
            ],
            [
             0.2,
             "#de77ae"
            ],
            [
             0.3,
             "#f1b6da"
            ],
            [
             0.4,
             "#fde0ef"
            ],
            [
             0.5,
             "#f7f7f7"
            ],
            [
             0.6,
             "#e6f5d0"
            ],
            [
             0.7,
             "#b8e186"
            ],
            [
             0.8,
             "#7fbc41"
            ],
            [
             0.9,
             "#4d9221"
            ],
            [
             1,
             "#276419"
            ]
           ]
          },
          "xaxis": {
           "gridcolor": "white",
           "linecolor": "white",
           "ticks": "",
           "title": {
            "standoff": 15
           },
           "zerolinecolor": "white",
           "automargin": true,
           "zerolinewidth": 2
          },
          "yaxis": {
           "gridcolor": "white",
           "linecolor": "white",
           "ticks": "",
           "title": {
            "standoff": 15
           },
           "zerolinecolor": "white",
           "automargin": true,
           "zerolinewidth": 2
          },
          "scene": {
           "xaxis": {
            "backgroundcolor": "#E5ECF6",
            "gridcolor": "white",
            "linecolor": "white",
            "showbackground": true,
            "ticks": "",
            "zerolinecolor": "white",
            "gridwidth": 2
           },
           "yaxis": {
            "backgroundcolor": "#E5ECF6",
            "gridcolor": "white",
            "linecolor": "white",
            "showbackground": true,
            "ticks": "",
            "zerolinecolor": "white",
            "gridwidth": 2
           },
           "zaxis": {
            "backgroundcolor": "#E5ECF6",
            "gridcolor": "white",
            "linecolor": "white",
            "showbackground": true,
            "ticks": "",
            "zerolinecolor": "white",
            "gridwidth": 2
           }
          },
          "shapedefaults": {
           "line": {
            "color": "#2a3f5f"
           }
          },
          "annotationdefaults": {
           "arrowcolor": "#2a3f5f",
           "arrowhead": 0,
           "arrowwidth": 1
          },
          "geo": {
           "bgcolor": "white",
           "landcolor": "#E5ECF6",
           "subunitcolor": "white",
           "showland": true,
           "showlakes": true,
           "lakecolor": "white"
          },
          "title": {
           "x": 0.05
          },
          "mapbox": {
           "style": "light"
          }
         }
        },
        "xaxis": {
         "anchor": "y",
         "domain": [
          0.0,
          1.0
         ],
         "title": {
          "text": "Player"
         }
        },
        "yaxis": {
         "anchor": "x",
         "domain": [
          0.0,
          1.0
         ],
         "title": {
          "text": "Rating"
         }
        },
        "legend": {
         "title": {
          "text": "Team"
         },
         "tracegroupgap": 0
        },
        "title": {
         "text": "Top 15 Players by Rating in Serie A"
        },
        "barmode": "relative"
       },
       "config": {
        "plotlyServerURL": "https://plot.ly"
       }
      }
     },
     "metadata": {},
     "output_type": "display_data"
    }
   ],
   "execution_count": 58
  },
  {
   "metadata": {},
   "cell_type": "markdown",
   "source": "#### Mesataren e DistanceCovered(km) per lojtarët që kanë luajtur ne Serie A 🇮🇹 :",
   "id": "14d15f6329c145e6"
  },
  {
   "metadata": {
    "ExecuteTime": {
     "end_time": "2025-06-15T11:37:51.055780Z",
     "start_time": "2025-06-15T11:37:51.049981Z"
    }
   },
   "cell_type": "code",
   "source": "serie_a_players_mean = ucl[ucl['Competitions'] == 'Serie A']",
   "id": "a62f3aea909a9968",
   "outputs": [],
   "execution_count": 59
  },
  {
   "metadata": {
    "ExecuteTime": {
     "end_time": "2025-06-15T11:37:51.172755Z",
     "start_time": "2025-06-15T11:37:51.167640Z"
    }
   },
   "cell_type": "code",
   "source": "average_distance = serie_a_players_mean['DistanceCovered(km)'].mean()",
   "id": "da89c8d82a1b1745",
   "outputs": [],
   "execution_count": 60
  },
  {
   "metadata": {
    "ExecuteTime": {
     "end_time": "2025-06-15T11:37:51.251139Z",
     "start_time": "2025-06-15T11:37:51.242293Z"
    }
   },
   "cell_type": "code",
   "source": "print(f\"Mesatarja e DistanceCovered(km) për lojtarët ne Ucl Bazuar ne Serie A eshte: {average_distance:.2f} km\")",
   "id": "3608f87f02a1afa4",
   "outputs": [
    {
     "name": "stdout",
     "output_type": "stream",
     "text": [
      "Mesatarja e DistanceCovered(km) për lojtarët ne Ucl Bazuar ne Serie A eshte: 72.34 km\n"
     ]
    }
   ],
   "execution_count": 61
  },
  {
   "metadata": {},
   "cell_type": "markdown",
   "source": "#### top 10 lojtaret me distancë me të madhe te mbuluar mesatarisht Bazuar ne Skuadrat Serie A(Italy) ne Champions League",
   "id": "7cff708f56b9874a"
  },
  {
   "metadata": {
    "ExecuteTime": {
     "end_time": "2025-06-15T11:37:51.332096Z",
     "start_time": "2025-06-15T11:37:51.315599Z"
    }
   },
   "cell_type": "code",
   "source": [
    "distance_per_player_serie_a = serie_a_players.groupby(['Player', 'Team'])['DistanceCovered(km)'].mean().sort_values(ascending=False)\n",
    "\n",
    "print(distance_per_player_serie_a.head(15))"
   ],
   "id": "695d0396496ffdb3",
   "outputs": [
    {
     "name": "stdout",
     "output_type": "stream",
     "text": [
      "Player             Team       \n",
      "Marten de Roon     Atalanta BC    112.0\n",
      "Tijjani Reijnders  Milan          111.3\n",
      "Ederson            Atalanta BC    100.2\n",
      "Theo Hernandez     Milan           99.8\n",
      "Youssouf Fofana    Milan           98.2\n",
      "Nicolo Barella     Inter           97.4\n",
      "Zappacosta         Atalanta BC     90.1\n",
      "Calhanoglu         Inter           87.6\n",
      "Pulisic            Milan           87.3\n",
      "Bastoni            Inter           85.5\n",
      "Rafael Leao        Milan           84.9\n",
      "Charles Ketelaere  Atalanta BC     84.5\n",
      "Mkhitaryan         Inter           81.8\n",
      "Thuram             Inter           81.6\n",
      "Federico Gatti     Juventus        81.5\n",
      "Name: DistanceCovered(km), dtype: float64\n"
     ]
    }
   ],
   "execution_count": 62
  },
  {
   "metadata": {},
   "cell_type": "markdown",
   "source": "#### Mesataren e DistanceCovered(km) per lojtarët që kanë luajtur ne La Liga 🇪🇸 :",
   "id": "b658c307e6de65dd"
  },
  {
   "metadata": {
    "ExecuteTime": {
     "end_time": "2025-06-15T11:37:51.397517Z",
     "start_time": "2025-06-15T11:37:51.391490Z"
    }
   },
   "cell_type": "code",
   "source": "laliga_players_mean = ucl[ucl['Competitions'] == 'La Liga']",
   "id": "3d7767abc7930b4a",
   "outputs": [],
   "execution_count": 63
  },
  {
   "metadata": {
    "ExecuteTime": {
     "end_time": "2025-06-15T11:37:51.466219Z",
     "start_time": "2025-06-15T11:37:51.461009Z"
    }
   },
   "cell_type": "code",
   "source": "average_distance_laliga = laliga_players_mean['DistanceCovered(km)'].mean()",
   "id": "bf4885d1d968d6d7",
   "outputs": [],
   "execution_count": 64
  },
  {
   "metadata": {
    "ExecuteTime": {
     "end_time": "2025-06-15T11:37:51.533448Z",
     "start_time": "2025-06-15T11:37:51.528390Z"
    }
   },
   "cell_type": "code",
   "source": "print(f\"Mesatarja e DistanceCovered(km) për lojtarët ne Ucl Bazuar ne La Liga eshte: {average_distance_laliga:.2f} km\")",
   "id": "4272b30d4267302a",
   "outputs": [
    {
     "name": "stdout",
     "output_type": "stream",
     "text": [
      "Mesatarja e DistanceCovered(km) për lojtarët ne Ucl Bazuar ne La Liga eshte: 81.85 km\n"
     ]
    }
   ],
   "execution_count": 65
  },
  {
   "metadata": {},
   "cell_type": "markdown",
   "source": "#### top 10 lojtaret me distancë me të madhe te mbuluar mesatarisht Bazuar ne Skuadrat La Liga (Spain)  ne Champions League",
   "id": "59f41f9ef4dc7cbc"
  },
  {
   "metadata": {
    "ExecuteTime": {
     "end_time": "2025-06-15T11:37:51.620528Z",
     "start_time": "2025-06-15T11:37:51.613327Z"
    }
   },
   "cell_type": "code",
   "source": "distance_per_player_laliga = laliga_players_mean.groupby(['Player', 'Team'])['DistanceCovered(km)'].mean().sort_values(ascending=False)",
   "id": "4c4d78939015d5c3",
   "outputs": [],
   "execution_count": 66
  },
  {
   "metadata": {
    "ExecuteTime": {
     "end_time": "2025-06-15T11:37:51.700178Z",
     "start_time": "2025-06-15T11:37:51.694814Z"
    }
   },
   "cell_type": "code",
   "source": "print(distance_per_player_laliga.head(15))",
   "id": "5a6a09d435a7af96",
   "outputs": [
    {
     "name": "stdout",
     "output_type": "stream",
     "text": [
      "Player          Team           \n",
      "Pedri           Barcelona          141.1\n",
      "Valverde        Real Madrid        140.0\n",
      "Raphinha        Barcelona          126.8\n",
      "Vinicius Jr     Real Madrid        118.9\n",
      "Kounde          Barcelona          113.2\n",
      "Kylian Mbappe   Real Madrid        109.9\n",
      "Rodrygo         Real Madrid        102.9\n",
      "Inigo Martinez  Barcelona          101.7\n",
      "Yamal           Barcelona          101.3\n",
      "Tchouameni      Real Madrid         97.0\n",
      "Julian Alvarez  Atletico Madrid     96.5\n",
      "De Paul         Atletico Madrid     93.4\n",
      "Lewandowski     Barcelona           92.5\n",
      "Griezmann       Atletico Madrid     89.6\n",
      "Balde           Barcelona           86.2\n",
      "Name: DistanceCovered(km), dtype: float64\n"
     ]
    }
   ],
   "execution_count": 67
  },
  {
   "metadata": {},
   "cell_type": "markdown",
   "source": "#### Top 10 Goalkeepers ne Champions League Bazuar ne Saves,Clean_Sheets,Goals_Conceded",
   "id": "a1c378e829fe8dd4"
  },
  {
   "metadata": {
    "ExecuteTime": {
     "end_time": "2025-06-15T11:37:51.790261Z",
     "start_time": "2025-06-15T11:37:51.781270Z"
    }
   },
   "cell_type": "code",
   "source": [
    "goalkeepers = ucl[ucl['Position'] == 'Goalkeeper']\n",
    "top_saves = goalkeepers.sort_values('Saves', ascending=False).head(10)"
   ],
   "id": "348af192ea9295d8",
   "outputs": [],
   "execution_count": 68
  },
  {
   "metadata": {
    "ExecuteTime": {
     "end_time": "2025-06-15T11:37:51.945408Z",
     "start_time": "2025-06-15T11:37:51.867655Z"
    }
   },
   "cell_type": "code",
   "source": [
    "fig = px.scatter(\n",
    "    top_saves,\n",
    "    x='Saves',\n",
    "    y='Clean_Sheets',\n",
    "    size='Minutes_played',\n",
    "    color='Player',\n",
    "    size_max=25,\n",
    "    hover_name='Team',\n",
    "    title='Goalkeepers: Saves vs Clean Sheets'\n",
    ")\n",
    "fig.show()"
   ],
   "id": "86910ea919870e6a",
   "outputs": [
    {
     "data": {
      "application/vnd.plotly.v1+json": {
       "data": [
        {
         "hovertemplate": "<b>%{hovertext}</b><br><br>Player=Yann Sommer<br>Saves=%{x}<br>Clean_Sheets=%{y}<br>Minutes_played=%{marker.size}<extra></extra>",
         "hovertext": [
          "Inter"
         ],
         "legendgroup": "Yann Sommer",
         "marker": {
          "color": "#636efa",
          "size": {
           "dtype": "i2",
           "bdata": "CgU="
          },
          "sizemode": "area",
          "sizeref": 2.208,
          "symbol": "circle"
         },
         "mode": "markers",
         "name": "Yann Sommer",
         "orientation": "v",
         "showlegend": true,
         "x": {
          "dtype": "i1",
          "bdata": "Ng=="
         },
         "xaxis": "x",
         "y": {
          "dtype": "i1",
          "bdata": "Bw=="
         },
         "yaxis": "y",
         "type": "scatter"
        },
        {
         "hovertemplate": "<b>%{hovertext}</b><br><br>Player=Courtois<br>Saves=%{x}<br>Clean_Sheets=%{y}<br>Minutes_played=%{marker.size}<extra></extra>",
         "hovertext": [
          "Real Madrid"
         ],
         "legendgroup": "Courtois",
         "marker": {
          "color": "#EF553B",
          "size": {
           "dtype": "i2",
           "bdata": "VgQ="
          },
          "sizemode": "area",
          "sizeref": 2.208,
          "symbol": "circle"
         },
         "mode": "markers",
         "name": "Courtois",
         "orientation": "v",
         "showlegend": true,
         "x": {
          "dtype": "i1",
          "bdata": "NA=="
         },
         "xaxis": "x",
         "y": {
          "dtype": "i1",
          "bdata": "AQ=="
         },
         "yaxis": "y",
         "type": "scatter"
        },
        {
         "hovertemplate": "<b>%{hovertext}</b><br><br>Player=Emiliano Martinez<br>Saves=%{x}<br>Clean_Sheets=%{y}<br>Minutes_played=%{marker.size}<extra></extra>",
         "hovertext": [
          "Aston Villa"
         ],
         "legendgroup": "Emiliano Martinez",
         "marker": {
          "color": "#00cc96",
          "size": {
           "dtype": "i2",
           "bdata": "OAQ="
          },
          "sizemode": "area",
          "sizeref": 2.208,
          "symbol": "circle"
         },
         "mode": "markers",
         "name": "Emiliano Martinez",
         "orientation": "v",
         "showlegend": true,
         "x": {
          "dtype": "i1",
          "bdata": "Mg=="
         },
         "xaxis": "x",
         "y": {
          "dtype": "i1",
          "bdata": "BQ=="
         },
         "yaxis": "y",
         "type": "scatter"
        },
        {
         "hovertemplate": "<b>%{hovertext}</b><br><br>Player=Schmeichel<br>Saves=%{x}<br>Clean_Sheets=%{y}<br>Minutes_played=%{marker.size}<extra></extra>",
         "hovertext": [
          "Celtic"
         ],
         "legendgroup": "Schmeichel",
         "marker": {
          "color": "#ab63fa",
          "size": {
           "dtype": "i2",
           "bdata": "hAM="
          },
          "sizemode": "area",
          "sizeref": 2.208,
          "symbol": "circle"
         },
         "mode": "markers",
         "name": "Schmeichel",
         "orientation": "v",
         "showlegend": true,
         "x": {
          "dtype": "i1",
          "bdata": "KQ=="
         },
         "xaxis": "x",
         "y": {
          "dtype": "i1",
          "bdata": "Aw=="
         },
         "yaxis": "y",
         "type": "scatter"
        },
        {
         "hovertemplate": "<b>%{hovertext}</b><br><br>Player=Wellenreuther <br>Saves=%{x}<br>Clean_Sheets=%{y}<br>Minutes_played=%{marker.size}<extra></extra>",
         "hovertext": [
          "Feyenoord"
         ],
         "legendgroup": "Wellenreuther ",
         "marker": {
          "color": "#FFA15A",
          "size": {
           "dtype": "i2",
           "bdata": "uwM="
          },
          "sizemode": "area",
          "sizeref": 2.208,
          "symbol": "circle"
         },
         "mode": "markers",
         "name": "Wellenreuther ",
         "orientation": "v",
         "showlegend": true,
         "x": {
          "dtype": "i1",
          "bdata": "KQ=="
         },
         "xaxis": "x",
         "y": {
          "dtype": "i1",
          "bdata": "AQ=="
         },
         "yaxis": "y",
         "type": "scatter"
        },
        {
         "hovertemplate": "<b>%{hovertext}</b><br><br>Player=Donnarumma<br>Saves=%{x}<br>Clean_Sheets=%{y}<br>Minutes_played=%{marker.size}<extra></extra>",
         "hovertext": [
          "Paris SG"
         ],
         "legendgroup": "Donnarumma",
         "marker": {
          "color": "#19d3f3",
          "size": {
           "dtype": "i2",
           "bdata": "ZAU="
          },
          "sizemode": "area",
          "sizeref": 2.208,
          "symbol": "circle"
         },
         "mode": "markers",
         "name": "Donnarumma",
         "orientation": "v",
         "showlegend": true,
         "x": {
          "dtype": "i1",
          "bdata": "Jw=="
         },
         "xaxis": "x",
         "y": {
          "dtype": "i1",
          "bdata": "Bg=="
         },
         "yaxis": "y",
         "type": "scatter"
        },
        {
         "hovertemplate": "<b>%{hovertext}</b><br><br>Player=Riznyk<br>Saves=%{x}<br>Clean_Sheets=%{y}<br>Minutes_played=%{marker.size}<extra></extra>",
         "hovertext": [
          "Shakhtar Donetsk"
         ],
         "legendgroup": "Riznyk",
         "marker": {
          "color": "#FF6692",
          "size": {
           "dtype": "i2",
           "bdata": "0AI="
          },
          "sizemode": "area",
          "sizeref": 2.208,
          "symbol": "circle"
         },
         "mode": "markers",
         "name": "Riznyk",
         "orientation": "v",
         "showlegend": true,
         "x": {
          "dtype": "i1",
          "bdata": "JQ=="
         },
         "xaxis": "x",
         "y": {
          "dtype": "i1",
          "bdata": "Ag=="
         },
         "yaxis": "y",
         "type": "scatter"
        },
        {
         "hovertemplate": "<b>%{hovertext}</b><br><br>Player=Mike Maignan<br>Saves=%{x}<br>Clean_Sheets=%{y}<br>Minutes_played=%{marker.size}<extra></extra>",
         "hovertext": [
          "Milan"
         ],
         "legendgroup": "Mike Maignan",
         "marker": {
          "color": "#B6E880",
          "size": {
           "dtype": "i2",
           "bdata": "XQM="
          },
          "sizemode": "area",
          "sizeref": 2.208,
          "symbol": "circle"
         },
         "mode": "markers",
         "name": "Mike Maignan",
         "orientation": "v",
         "showlegend": true,
         "x": {
          "dtype": "i1",
          "bdata": "JA=="
         },
         "xaxis": "x",
         "y": {
          "dtype": "i1",
          "bdata": "AQ=="
         },
         "yaxis": "y",
         "type": "scatter"
        },
        {
         "hovertemplate": "<b>%{hovertext}</b><br><br>Player=Mignolet<br>Saves=%{x}<br>Clean_Sheets=%{y}<br>Minutes_played=%{marker.size}<extra></extra>",
         "hovertext": [
          "Club Brugge"
         ],
         "legendgroup": "Mignolet",
         "marker": {
          "color": "#FF97FF",
          "size": {
           "dtype": "i2",
           "bdata": "OAQ="
          },
          "sizemode": "area",
          "sizeref": 2.208,
          "symbol": "circle"
         },
         "mode": "markers",
         "name": "Mignolet",
         "orientation": "v",
         "showlegend": true,
         "x": {
          "dtype": "i1",
          "bdata": "JA=="
         },
         "xaxis": "x",
         "y": {
          "dtype": "i1",
          "bdata": "Aw=="
         },
         "yaxis": "y",
         "type": "scatter"
        },
        {
         "hovertemplate": "<b>%{hovertext}</b><br><br>Player=David Raya<br>Saves=%{x}<br>Clean_Sheets=%{y}<br>Minutes_played=%{marker.size}<extra></extra>",
         "hovertext": [
          "Arsenal FC"
         ],
         "legendgroup": "David Raya",
         "marker": {
          "color": "#FECB52",
          "size": {
           "dtype": "i2",
           "bdata": "kgQ="
          },
          "sizemode": "area",
          "sizeref": 2.208,
          "symbol": "circle"
         },
         "mode": "markers",
         "name": "David Raya",
         "orientation": "v",
         "showlegend": true,
         "x": {
          "dtype": "i1",
          "bdata": "IA=="
         },
         "xaxis": "x",
         "y": {
          "dtype": "i1",
          "bdata": "Bg=="
         },
         "yaxis": "y",
         "type": "scatter"
        }
       ],
       "layout": {
        "template": {
         "data": {
          "histogram2dcontour": [
           {
            "type": "histogram2dcontour",
            "colorbar": {
             "outlinewidth": 0,
             "ticks": ""
            },
            "colorscale": [
             [
              0.0,
              "#0d0887"
             ],
             [
              0.1111111111111111,
              "#46039f"
             ],
             [
              0.2222222222222222,
              "#7201a8"
             ],
             [
              0.3333333333333333,
              "#9c179e"
             ],
             [
              0.4444444444444444,
              "#bd3786"
             ],
             [
              0.5555555555555556,
              "#d8576b"
             ],
             [
              0.6666666666666666,
              "#ed7953"
             ],
             [
              0.7777777777777778,
              "#fb9f3a"
             ],
             [
              0.8888888888888888,
              "#fdca26"
             ],
             [
              1.0,
              "#f0f921"
             ]
            ]
           }
          ],
          "choropleth": [
           {
            "type": "choropleth",
            "colorbar": {
             "outlinewidth": 0,
             "ticks": ""
            }
           }
          ],
          "histogram2d": [
           {
            "type": "histogram2d",
            "colorbar": {
             "outlinewidth": 0,
             "ticks": ""
            },
            "colorscale": [
             [
              0.0,
              "#0d0887"
             ],
             [
              0.1111111111111111,
              "#46039f"
             ],
             [
              0.2222222222222222,
              "#7201a8"
             ],
             [
              0.3333333333333333,
              "#9c179e"
             ],
             [
              0.4444444444444444,
              "#bd3786"
             ],
             [
              0.5555555555555556,
              "#d8576b"
             ],
             [
              0.6666666666666666,
              "#ed7953"
             ],
             [
              0.7777777777777778,
              "#fb9f3a"
             ],
             [
              0.8888888888888888,
              "#fdca26"
             ],
             [
              1.0,
              "#f0f921"
             ]
            ]
           }
          ],
          "heatmap": [
           {
            "type": "heatmap",
            "colorbar": {
             "outlinewidth": 0,
             "ticks": ""
            },
            "colorscale": [
             [
              0.0,
              "#0d0887"
             ],
             [
              0.1111111111111111,
              "#46039f"
             ],
             [
              0.2222222222222222,
              "#7201a8"
             ],
             [
              0.3333333333333333,
              "#9c179e"
             ],
             [
              0.4444444444444444,
              "#bd3786"
             ],
             [
              0.5555555555555556,
              "#d8576b"
             ],
             [
              0.6666666666666666,
              "#ed7953"
             ],
             [
              0.7777777777777778,
              "#fb9f3a"
             ],
             [
              0.8888888888888888,
              "#fdca26"
             ],
             [
              1.0,
              "#f0f921"
             ]
            ]
           }
          ],
          "contourcarpet": [
           {
            "type": "contourcarpet",
            "colorbar": {
             "outlinewidth": 0,
             "ticks": ""
            }
           }
          ],
          "contour": [
           {
            "type": "contour",
            "colorbar": {
             "outlinewidth": 0,
             "ticks": ""
            },
            "colorscale": [
             [
              0.0,
              "#0d0887"
             ],
             [
              0.1111111111111111,
              "#46039f"
             ],
             [
              0.2222222222222222,
              "#7201a8"
             ],
             [
              0.3333333333333333,
              "#9c179e"
             ],
             [
              0.4444444444444444,
              "#bd3786"
             ],
             [
              0.5555555555555556,
              "#d8576b"
             ],
             [
              0.6666666666666666,
              "#ed7953"
             ],
             [
              0.7777777777777778,
              "#fb9f3a"
             ],
             [
              0.8888888888888888,
              "#fdca26"
             ],
             [
              1.0,
              "#f0f921"
             ]
            ]
           }
          ],
          "surface": [
           {
            "type": "surface",
            "colorbar": {
             "outlinewidth": 0,
             "ticks": ""
            },
            "colorscale": [
             [
              0.0,
              "#0d0887"
             ],
             [
              0.1111111111111111,
              "#46039f"
             ],
             [
              0.2222222222222222,
              "#7201a8"
             ],
             [
              0.3333333333333333,
              "#9c179e"
             ],
             [
              0.4444444444444444,
              "#bd3786"
             ],
             [
              0.5555555555555556,
              "#d8576b"
             ],
             [
              0.6666666666666666,
              "#ed7953"
             ],
             [
              0.7777777777777778,
              "#fb9f3a"
             ],
             [
              0.8888888888888888,
              "#fdca26"
             ],
             [
              1.0,
              "#f0f921"
             ]
            ]
           }
          ],
          "mesh3d": [
           {
            "type": "mesh3d",
            "colorbar": {
             "outlinewidth": 0,
             "ticks": ""
            }
           }
          ],
          "scatter": [
           {
            "fillpattern": {
             "fillmode": "overlay",
             "size": 10,
             "solidity": 0.2
            },
            "type": "scatter"
           }
          ],
          "parcoords": [
           {
            "type": "parcoords",
            "line": {
             "colorbar": {
              "outlinewidth": 0,
              "ticks": ""
             }
            }
           }
          ],
          "scatterpolargl": [
           {
            "type": "scatterpolargl",
            "marker": {
             "colorbar": {
              "outlinewidth": 0,
              "ticks": ""
             }
            }
           }
          ],
          "bar": [
           {
            "error_x": {
             "color": "#2a3f5f"
            },
            "error_y": {
             "color": "#2a3f5f"
            },
            "marker": {
             "line": {
              "color": "#E5ECF6",
              "width": 0.5
             },
             "pattern": {
              "fillmode": "overlay",
              "size": 10,
              "solidity": 0.2
             }
            },
            "type": "bar"
           }
          ],
          "scattergeo": [
           {
            "type": "scattergeo",
            "marker": {
             "colorbar": {
              "outlinewidth": 0,
              "ticks": ""
             }
            }
           }
          ],
          "scatterpolar": [
           {
            "type": "scatterpolar",
            "marker": {
             "colorbar": {
              "outlinewidth": 0,
              "ticks": ""
             }
            }
           }
          ],
          "histogram": [
           {
            "marker": {
             "pattern": {
              "fillmode": "overlay",
              "size": 10,
              "solidity": 0.2
             }
            },
            "type": "histogram"
           }
          ],
          "scattergl": [
           {
            "type": "scattergl",
            "marker": {
             "colorbar": {
              "outlinewidth": 0,
              "ticks": ""
             }
            }
           }
          ],
          "scatter3d": [
           {
            "type": "scatter3d",
            "line": {
             "colorbar": {
              "outlinewidth": 0,
              "ticks": ""
             }
            },
            "marker": {
             "colorbar": {
              "outlinewidth": 0,
              "ticks": ""
             }
            }
           }
          ],
          "scattermap": [
           {
            "type": "scattermap",
            "marker": {
             "colorbar": {
              "outlinewidth": 0,
              "ticks": ""
             }
            }
           }
          ],
          "scattermapbox": [
           {
            "type": "scattermapbox",
            "marker": {
             "colorbar": {
              "outlinewidth": 0,
              "ticks": ""
             }
            }
           }
          ],
          "scatterternary": [
           {
            "type": "scatterternary",
            "marker": {
             "colorbar": {
              "outlinewidth": 0,
              "ticks": ""
             }
            }
           }
          ],
          "scattercarpet": [
           {
            "type": "scattercarpet",
            "marker": {
             "colorbar": {
              "outlinewidth": 0,
              "ticks": ""
             }
            }
           }
          ],
          "carpet": [
           {
            "aaxis": {
             "endlinecolor": "#2a3f5f",
             "gridcolor": "white",
             "linecolor": "white",
             "minorgridcolor": "white",
             "startlinecolor": "#2a3f5f"
            },
            "baxis": {
             "endlinecolor": "#2a3f5f",
             "gridcolor": "white",
             "linecolor": "white",
             "minorgridcolor": "white",
             "startlinecolor": "#2a3f5f"
            },
            "type": "carpet"
           }
          ],
          "table": [
           {
            "cells": {
             "fill": {
              "color": "#EBF0F8"
             },
             "line": {
              "color": "white"
             }
            },
            "header": {
             "fill": {
              "color": "#C8D4E3"
             },
             "line": {
              "color": "white"
             }
            },
            "type": "table"
           }
          ],
          "barpolar": [
           {
            "marker": {
             "line": {
              "color": "#E5ECF6",
              "width": 0.5
             },
             "pattern": {
              "fillmode": "overlay",
              "size": 10,
              "solidity": 0.2
             }
            },
            "type": "barpolar"
           }
          ],
          "pie": [
           {
            "automargin": true,
            "type": "pie"
           }
          ]
         },
         "layout": {
          "autotypenumbers": "strict",
          "colorway": [
           "#636efa",
           "#EF553B",
           "#00cc96",
           "#ab63fa",
           "#FFA15A",
           "#19d3f3",
           "#FF6692",
           "#B6E880",
           "#FF97FF",
           "#FECB52"
          ],
          "font": {
           "color": "#2a3f5f"
          },
          "hovermode": "closest",
          "hoverlabel": {
           "align": "left"
          },
          "paper_bgcolor": "white",
          "plot_bgcolor": "#E5ECF6",
          "polar": {
           "bgcolor": "#E5ECF6",
           "angularaxis": {
            "gridcolor": "white",
            "linecolor": "white",
            "ticks": ""
           },
           "radialaxis": {
            "gridcolor": "white",
            "linecolor": "white",
            "ticks": ""
           }
          },
          "ternary": {
           "bgcolor": "#E5ECF6",
           "aaxis": {
            "gridcolor": "white",
            "linecolor": "white",
            "ticks": ""
           },
           "baxis": {
            "gridcolor": "white",
            "linecolor": "white",
            "ticks": ""
           },
           "caxis": {
            "gridcolor": "white",
            "linecolor": "white",
            "ticks": ""
           }
          },
          "coloraxis": {
           "colorbar": {
            "outlinewidth": 0,
            "ticks": ""
           }
          },
          "colorscale": {
           "sequential": [
            [
             0.0,
             "#0d0887"
            ],
            [
             0.1111111111111111,
             "#46039f"
            ],
            [
             0.2222222222222222,
             "#7201a8"
            ],
            [
             0.3333333333333333,
             "#9c179e"
            ],
            [
             0.4444444444444444,
             "#bd3786"
            ],
            [
             0.5555555555555556,
             "#d8576b"
            ],
            [
             0.6666666666666666,
             "#ed7953"
            ],
            [
             0.7777777777777778,
             "#fb9f3a"
            ],
            [
             0.8888888888888888,
             "#fdca26"
            ],
            [
             1.0,
             "#f0f921"
            ]
           ],
           "sequentialminus": [
            [
             0.0,
             "#0d0887"
            ],
            [
             0.1111111111111111,
             "#46039f"
            ],
            [
             0.2222222222222222,
             "#7201a8"
            ],
            [
             0.3333333333333333,
             "#9c179e"
            ],
            [
             0.4444444444444444,
             "#bd3786"
            ],
            [
             0.5555555555555556,
             "#d8576b"
            ],
            [
             0.6666666666666666,
             "#ed7953"
            ],
            [
             0.7777777777777778,
             "#fb9f3a"
            ],
            [
             0.8888888888888888,
             "#fdca26"
            ],
            [
             1.0,
             "#f0f921"
            ]
           ],
           "diverging": [
            [
             0,
             "#8e0152"
            ],
            [
             0.1,
             "#c51b7d"
            ],
            [
             0.2,
             "#de77ae"
            ],
            [
             0.3,
             "#f1b6da"
            ],
            [
             0.4,
             "#fde0ef"
            ],
            [
             0.5,
             "#f7f7f7"
            ],
            [
             0.6,
             "#e6f5d0"
            ],
            [
             0.7,
             "#b8e186"
            ],
            [
             0.8,
             "#7fbc41"
            ],
            [
             0.9,
             "#4d9221"
            ],
            [
             1,
             "#276419"
            ]
           ]
          },
          "xaxis": {
           "gridcolor": "white",
           "linecolor": "white",
           "ticks": "",
           "title": {
            "standoff": 15
           },
           "zerolinecolor": "white",
           "automargin": true,
           "zerolinewidth": 2
          },
          "yaxis": {
           "gridcolor": "white",
           "linecolor": "white",
           "ticks": "",
           "title": {
            "standoff": 15
           },
           "zerolinecolor": "white",
           "automargin": true,
           "zerolinewidth": 2
          },
          "scene": {
           "xaxis": {
            "backgroundcolor": "#E5ECF6",
            "gridcolor": "white",
            "linecolor": "white",
            "showbackground": true,
            "ticks": "",
            "zerolinecolor": "white",
            "gridwidth": 2
           },
           "yaxis": {
            "backgroundcolor": "#E5ECF6",
            "gridcolor": "white",
            "linecolor": "white",
            "showbackground": true,
            "ticks": "",
            "zerolinecolor": "white",
            "gridwidth": 2
           },
           "zaxis": {
            "backgroundcolor": "#E5ECF6",
            "gridcolor": "white",
            "linecolor": "white",
            "showbackground": true,
            "ticks": "",
            "zerolinecolor": "white",
            "gridwidth": 2
           }
          },
          "shapedefaults": {
           "line": {
            "color": "#2a3f5f"
           }
          },
          "annotationdefaults": {
           "arrowcolor": "#2a3f5f",
           "arrowhead": 0,
           "arrowwidth": 1
          },
          "geo": {
           "bgcolor": "white",
           "landcolor": "#E5ECF6",
           "subunitcolor": "white",
           "showland": true,
           "showlakes": true,
           "lakecolor": "white"
          },
          "title": {
           "x": 0.05
          },
          "mapbox": {
           "style": "light"
          }
         }
        },
        "xaxis": {
         "anchor": "y",
         "domain": [
          0.0,
          1.0
         ],
         "title": {
          "text": "Saves"
         }
        },
        "yaxis": {
         "anchor": "x",
         "domain": [
          0.0,
          1.0
         ],
         "title": {
          "text": "Clean_Sheets"
         }
        },
        "legend": {
         "title": {
          "text": "Player"
         },
         "tracegroupgap": 0,
         "itemsizing": "constant"
        },
        "title": {
         "text": "Goalkeepers: Saves vs Clean Sheets"
        }
       },
       "config": {
        "plotlyServerURL": "https://plot.ly"
       }
      }
     },
     "metadata": {},
     "output_type": "display_data"
    }
   ],
   "execution_count": 69
  },
  {
   "metadata": {
    "ExecuteTime": {
     "end_time": "2025-06-15T11:37:52.021043Z",
     "start_time": "2025-06-15T11:37:52.014131Z"
    }
   },
   "cell_type": "code",
   "source": [
    "goalkeepers['Gk_Level'] = (\n",
    "    goalkeepers['Saves'] * 1.5 +\n",
    "    goalkeepers['Clean_Sheets'] * 4 -\n",
    "    goalkeepers['Goals_Conceded'] * 1.2\n",
    ")\n",
    "\n",
    "best_gks = goalkeepers.sort_values('Gk_Level', ascending=False).head(10)\n"
   ],
   "id": "6563382b91e26cac",
   "outputs": [
    {
     "name": "stderr",
     "output_type": "stream",
     "text": [
      "C:\\Users\\arber\\AppData\\Local\\Temp\\ipykernel_25484\\242791126.py:1: SettingWithCopyWarning:\n",
      "\n",
      "\n",
      "A value is trying to be set on a copy of a slice from a DataFrame.\n",
      "Try using .loc[row_indexer,col_indexer] = value instead\n",
      "\n",
      "See the caveats in the documentation: https://pandas.pydata.org/pandas-docs/stable/user_guide/indexing.html#returning-a-view-versus-a-copy\n",
      "\n"
     ]
    }
   ],
   "execution_count": 70
  },
  {
   "metadata": {
    "ExecuteTime": {
     "end_time": "2025-06-15T11:37:52.132108Z",
     "start_time": "2025-06-15T11:37:52.112889Z"
    }
   },
   "cell_type": "code",
   "source": "best_gks[['Player','Age', 'Team', 'Saves', 'Clean_Sheets', 'Goals_Conceded', 'Gk_Level']].head(10)",
   "id": "1825aaa44255ccfb",
   "outputs": [
    {
     "data": {
      "text/plain": [
       "                Player  Age              Team  Saves  Clean_Sheets  \\\n",
       "112        Yann Sommer   36             Inter     54             7   \n",
       "160  Emiliano Martinez   30       Aston Villa     50             5   \n",
       "110         Donnarumma   26          Paris SG     39             6   \n",
       "58          David Raya   29        Arsenal FC     32             6   \n",
       "33            Courtois   32       Real Madrid     52             1   \n",
       "196         Schmeichel   38            Celtic     41             3   \n",
       "52      Alisson Becker   32      Liverpool FC     24             3   \n",
       "126             Riznyk   26  Shakhtar Donetsk     37             2   \n",
       "42        Mike Maignan   29             Milan     36             1   \n",
       "172           Mignolet   37       Club Brugge     36             3   \n",
       "\n",
       "     Goals_Conceded  Gk_Level  \n",
       "112              16      89.8  \n",
       "160              12      80.6  \n",
       "110              14      65.7  \n",
       "58                9      61.2  \n",
       "33               18      60.4  \n",
       "196              17      53.1  \n",
       "52                3      44.4  \n",
       "126              16      44.3  \n",
       "42               12      43.6  \n",
       "172              19      43.2  "
      ],
      "text/html": [
       "<div>\n",
       "<style scoped>\n",
       "    .dataframe tbody tr th:only-of-type {\n",
       "        vertical-align: middle;\n",
       "    }\n",
       "\n",
       "    .dataframe tbody tr th {\n",
       "        vertical-align: top;\n",
       "    }\n",
       "\n",
       "    .dataframe thead th {\n",
       "        text-align: right;\n",
       "    }\n",
       "</style>\n",
       "<table border=\"1\" class=\"dataframe\">\n",
       "  <thead>\n",
       "    <tr style=\"text-align: right;\">\n",
       "      <th></th>\n",
       "      <th>Player</th>\n",
       "      <th>Age</th>\n",
       "      <th>Team</th>\n",
       "      <th>Saves</th>\n",
       "      <th>Clean_Sheets</th>\n",
       "      <th>Goals_Conceded</th>\n",
       "      <th>Gk_Level</th>\n",
       "    </tr>\n",
       "  </thead>\n",
       "  <tbody>\n",
       "    <tr>\n",
       "      <th>112</th>\n",
       "      <td>Yann Sommer</td>\n",
       "      <td>36</td>\n",
       "      <td>Inter</td>\n",
       "      <td>54</td>\n",
       "      <td>7</td>\n",
       "      <td>16</td>\n",
       "      <td>89.8</td>\n",
       "    </tr>\n",
       "    <tr>\n",
       "      <th>160</th>\n",
       "      <td>Emiliano Martinez</td>\n",
       "      <td>30</td>\n",
       "      <td>Aston Villa</td>\n",
       "      <td>50</td>\n",
       "      <td>5</td>\n",
       "      <td>12</td>\n",
       "      <td>80.6</td>\n",
       "    </tr>\n",
       "    <tr>\n",
       "      <th>110</th>\n",
       "      <td>Donnarumma</td>\n",
       "      <td>26</td>\n",
       "      <td>Paris SG</td>\n",
       "      <td>39</td>\n",
       "      <td>6</td>\n",
       "      <td>14</td>\n",
       "      <td>65.7</td>\n",
       "    </tr>\n",
       "    <tr>\n",
       "      <th>58</th>\n",
       "      <td>David Raya</td>\n",
       "      <td>29</td>\n",
       "      <td>Arsenal FC</td>\n",
       "      <td>32</td>\n",
       "      <td>6</td>\n",
       "      <td>9</td>\n",
       "      <td>61.2</td>\n",
       "    </tr>\n",
       "    <tr>\n",
       "      <th>33</th>\n",
       "      <td>Courtois</td>\n",
       "      <td>32</td>\n",
       "      <td>Real Madrid</td>\n",
       "      <td>52</td>\n",
       "      <td>1</td>\n",
       "      <td>18</td>\n",
       "      <td>60.4</td>\n",
       "    </tr>\n",
       "    <tr>\n",
       "      <th>196</th>\n",
       "      <td>Schmeichel</td>\n",
       "      <td>38</td>\n",
       "      <td>Celtic</td>\n",
       "      <td>41</td>\n",
       "      <td>3</td>\n",
       "      <td>17</td>\n",
       "      <td>53.1</td>\n",
       "    </tr>\n",
       "    <tr>\n",
       "      <th>52</th>\n",
       "      <td>Alisson Becker</td>\n",
       "      <td>32</td>\n",
       "      <td>Liverpool FC</td>\n",
       "      <td>24</td>\n",
       "      <td>3</td>\n",
       "      <td>3</td>\n",
       "      <td>44.4</td>\n",
       "    </tr>\n",
       "    <tr>\n",
       "      <th>126</th>\n",
       "      <td>Riznyk</td>\n",
       "      <td>26</td>\n",
       "      <td>Shakhtar Donetsk</td>\n",
       "      <td>37</td>\n",
       "      <td>2</td>\n",
       "      <td>16</td>\n",
       "      <td>44.3</td>\n",
       "    </tr>\n",
       "    <tr>\n",
       "      <th>42</th>\n",
       "      <td>Mike Maignan</td>\n",
       "      <td>29</td>\n",
       "      <td>Milan</td>\n",
       "      <td>36</td>\n",
       "      <td>1</td>\n",
       "      <td>12</td>\n",
       "      <td>43.6</td>\n",
       "    </tr>\n",
       "    <tr>\n",
       "      <th>172</th>\n",
       "      <td>Mignolet</td>\n",
       "      <td>37</td>\n",
       "      <td>Club Brugge</td>\n",
       "      <td>36</td>\n",
       "      <td>3</td>\n",
       "      <td>19</td>\n",
       "      <td>43.2</td>\n",
       "    </tr>\n",
       "  </tbody>\n",
       "</table>\n",
       "</div>"
      ]
     },
     "execution_count": 71,
     "metadata": {},
     "output_type": "execute_result"
    }
   ],
   "execution_count": 71
  },
  {
   "metadata": {
    "ExecuteTime": {
     "end_time": "2025-06-15T11:37:52.300358Z",
     "start_time": "2025-06-15T11:37:52.237996Z"
    }
   },
   "cell_type": "code",
   "source": [
    "\n",
    "fig = px.bar(\n",
    "    best_gks[['Player', 'Gk_Level', 'Team']],\n",
    "    x= 'Player',\n",
    "    y='Gk_Level',\n",
    "    color='Team',\n",
    "    title='Best Goalkeepers in Champions League 2025',\n",
    "    text='Gk_Level'\n",
    ")\n",
    "fig.show()"
   ],
   "id": "28bd48a053caed4b",
   "outputs": [
    {
     "data": {
      "application/vnd.plotly.v1+json": {
       "data": [
        {
         "hovertemplate": "Team=Inter<br>Player=%{x}<br>Gk_Level=%{text}<extra></extra>",
         "legendgroup": "Inter",
         "marker": {
          "color": "#636efa",
          "pattern": {
           "shape": ""
          }
         },
         "name": "Inter",
         "orientation": "v",
         "showlegend": true,
         "text": {
          "dtype": "f8",
          "bdata": "MzMzMzNzVkA="
         },
         "textposition": "auto",
         "x": [
          "Yann Sommer"
         ],
         "xaxis": "x",
         "y": {
          "dtype": "f8",
          "bdata": "MzMzMzNzVkA="
         },
         "yaxis": "y",
         "type": "bar"
        },
        {
         "hovertemplate": "Team=Aston Villa<br>Player=%{x}<br>Gk_Level=%{text}<extra></extra>",
         "legendgroup": "Aston Villa",
         "marker": {
          "color": "#EF553B",
          "pattern": {
           "shape": ""
          }
         },
         "name": "Aston Villa",
         "orientation": "v",
         "showlegend": true,
         "text": {
          "dtype": "f8",
          "bdata": "ZmZmZmYmVEA="
         },
         "textposition": "auto",
         "x": [
          "Emiliano Martinez"
         ],
         "xaxis": "x",
         "y": {
          "dtype": "f8",
          "bdata": "ZmZmZmYmVEA="
         },
         "yaxis": "y",
         "type": "bar"
        },
        {
         "hovertemplate": "Team=Paris SG<br>Player=%{x}<br>Gk_Level=%{text}<extra></extra>",
         "legendgroup": "Paris SG",
         "marker": {
          "color": "#00cc96",
          "pattern": {
           "shape": ""
          }
         },
         "name": "Paris SG",
         "orientation": "v",
         "showlegend": true,
         "text": {
          "dtype": "f8",
          "bdata": "zczMzMxsUEA="
         },
         "textposition": "auto",
         "x": [
          "Donnarumma"
         ],
         "xaxis": "x",
         "y": {
          "dtype": "f8",
          "bdata": "zczMzMxsUEA="
         },
         "yaxis": "y",
         "type": "bar"
        },
        {
         "hovertemplate": "Team=Arsenal FC<br>Player=%{x}<br>Gk_Level=%{text}<extra></extra>",
         "legendgroup": "Arsenal FC",
         "marker": {
          "color": "#ab63fa",
          "pattern": {
           "shape": ""
          }
         },
         "name": "Arsenal FC",
         "orientation": "v",
         "showlegend": true,
         "text": {
          "dtype": "f8",
          "bdata": "mpmZmZmZTkA="
         },
         "textposition": "auto",
         "x": [
          "David Raya"
         ],
         "xaxis": "x",
         "y": {
          "dtype": "f8",
          "bdata": "mpmZmZmZTkA="
         },
         "yaxis": "y",
         "type": "bar"
        },
        {
         "hovertemplate": "Team=Real Madrid<br>Player=%{x}<br>Gk_Level=%{text}<extra></extra>",
         "legendgroup": "Real Madrid",
         "marker": {
          "color": "#FFA15A",
          "pattern": {
           "shape": ""
          }
         },
         "name": "Real Madrid",
         "orientation": "v",
         "showlegend": true,
         "text": {
          "dtype": "f8",
          "bdata": "NDMzMzMzTkA="
         },
         "textposition": "auto",
         "x": [
          "Courtois"
         ],
         "xaxis": "x",
         "y": {
          "dtype": "f8",
          "bdata": "NDMzMzMzTkA="
         },
         "yaxis": "y",
         "type": "bar"
        },
        {
         "hovertemplate": "Team=Celtic<br>Player=%{x}<br>Gk_Level=%{text}<extra></extra>",
         "legendgroup": "Celtic",
         "marker": {
          "color": "#19d3f3",
          "pattern": {
           "shape": ""
          }
         },
         "name": "Celtic",
         "orientation": "v",
         "showlegend": true,
         "text": {
          "dtype": "f8",
          "bdata": "zczMzMyMSkA="
         },
         "textposition": "auto",
         "x": [
          "Schmeichel"
         ],
         "xaxis": "x",
         "y": {
          "dtype": "f8",
          "bdata": "zczMzMyMSkA="
         },
         "yaxis": "y",
         "type": "bar"
        },
        {
         "hovertemplate": "Team=Liverpool FC<br>Player=%{x}<br>Gk_Level=%{text}<extra></extra>",
         "legendgroup": "Liverpool FC",
         "marker": {
          "color": "#FF6692",
          "pattern": {
           "shape": ""
          }
         },
         "name": "Liverpool FC",
         "orientation": "v",
         "showlegend": true,
         "text": {
          "dtype": "f8",
          "bdata": "MzMzMzMzRkA="
         },
         "textposition": "auto",
         "x": [
          "Alisson Becker"
         ],
         "xaxis": "x",
         "y": {
          "dtype": "f8",
          "bdata": "MzMzMzMzRkA="
         },
         "yaxis": "y",
         "type": "bar"
        },
        {
         "hovertemplate": "Team=Shakhtar Donetsk<br>Player=%{x}<br>Gk_Level=%{text}<extra></extra>",
         "legendgroup": "Shakhtar Donetsk",
         "marker": {
          "color": "#B6E880",
          "pattern": {
           "shape": ""
          }
         },
         "name": "Shakhtar Donetsk",
         "orientation": "v",
         "showlegend": true,
         "text": {
          "dtype": "f8",
          "bdata": "ZmZmZmYmRkA="
         },
         "textposition": "auto",
         "x": [
          "Riznyk"
         ],
         "xaxis": "x",
         "y": {
          "dtype": "f8",
          "bdata": "ZmZmZmYmRkA="
         },
         "yaxis": "y",
         "type": "bar"
        },
        {
         "hovertemplate": "Team=Milan<br>Player=%{x}<br>Gk_Level=%{text}<extra></extra>",
         "legendgroup": "Milan",
         "marker": {
          "color": "#FF97FF",
          "pattern": {
           "shape": ""
          }
         },
         "name": "Milan",
         "orientation": "v",
         "showlegend": true,
         "text": {
          "dtype": "f8",
          "bdata": "zczMzMzMRUA="
         },
         "textposition": "auto",
         "x": [
          "Mike Maignan"
         ],
         "xaxis": "x",
         "y": {
          "dtype": "f8",
          "bdata": "zczMzMzMRUA="
         },
         "yaxis": "y",
         "type": "bar"
        },
        {
         "hovertemplate": "Team=Club Brugge<br>Player=%{x}<br>Gk_Level=%{text}<extra></extra>",
         "legendgroup": "Club Brugge",
         "marker": {
          "color": "#FECB52",
          "pattern": {
           "shape": ""
          }
         },
         "name": "Club Brugge",
         "orientation": "v",
         "showlegend": true,
         "text": {
          "dtype": "f8",
          "bdata": "mpmZmZmZRUA="
         },
         "textposition": "auto",
         "x": [
          "Mignolet"
         ],
         "xaxis": "x",
         "y": {
          "dtype": "f8",
          "bdata": "mpmZmZmZRUA="
         },
         "yaxis": "y",
         "type": "bar"
        }
       ],
       "layout": {
        "template": {
         "data": {
          "histogram2dcontour": [
           {
            "type": "histogram2dcontour",
            "colorbar": {
             "outlinewidth": 0,
             "ticks": ""
            },
            "colorscale": [
             [
              0.0,
              "#0d0887"
             ],
             [
              0.1111111111111111,
              "#46039f"
             ],
             [
              0.2222222222222222,
              "#7201a8"
             ],
             [
              0.3333333333333333,
              "#9c179e"
             ],
             [
              0.4444444444444444,
              "#bd3786"
             ],
             [
              0.5555555555555556,
              "#d8576b"
             ],
             [
              0.6666666666666666,
              "#ed7953"
             ],
             [
              0.7777777777777778,
              "#fb9f3a"
             ],
             [
              0.8888888888888888,
              "#fdca26"
             ],
             [
              1.0,
              "#f0f921"
             ]
            ]
           }
          ],
          "choropleth": [
           {
            "type": "choropleth",
            "colorbar": {
             "outlinewidth": 0,
             "ticks": ""
            }
           }
          ],
          "histogram2d": [
           {
            "type": "histogram2d",
            "colorbar": {
             "outlinewidth": 0,
             "ticks": ""
            },
            "colorscale": [
             [
              0.0,
              "#0d0887"
             ],
             [
              0.1111111111111111,
              "#46039f"
             ],
             [
              0.2222222222222222,
              "#7201a8"
             ],
             [
              0.3333333333333333,
              "#9c179e"
             ],
             [
              0.4444444444444444,
              "#bd3786"
             ],
             [
              0.5555555555555556,
              "#d8576b"
             ],
             [
              0.6666666666666666,
              "#ed7953"
             ],
             [
              0.7777777777777778,
              "#fb9f3a"
             ],
             [
              0.8888888888888888,
              "#fdca26"
             ],
             [
              1.0,
              "#f0f921"
             ]
            ]
           }
          ],
          "heatmap": [
           {
            "type": "heatmap",
            "colorbar": {
             "outlinewidth": 0,
             "ticks": ""
            },
            "colorscale": [
             [
              0.0,
              "#0d0887"
             ],
             [
              0.1111111111111111,
              "#46039f"
             ],
             [
              0.2222222222222222,
              "#7201a8"
             ],
             [
              0.3333333333333333,
              "#9c179e"
             ],
             [
              0.4444444444444444,
              "#bd3786"
             ],
             [
              0.5555555555555556,
              "#d8576b"
             ],
             [
              0.6666666666666666,
              "#ed7953"
             ],
             [
              0.7777777777777778,
              "#fb9f3a"
             ],
             [
              0.8888888888888888,
              "#fdca26"
             ],
             [
              1.0,
              "#f0f921"
             ]
            ]
           }
          ],
          "contourcarpet": [
           {
            "type": "contourcarpet",
            "colorbar": {
             "outlinewidth": 0,
             "ticks": ""
            }
           }
          ],
          "contour": [
           {
            "type": "contour",
            "colorbar": {
             "outlinewidth": 0,
             "ticks": ""
            },
            "colorscale": [
             [
              0.0,
              "#0d0887"
             ],
             [
              0.1111111111111111,
              "#46039f"
             ],
             [
              0.2222222222222222,
              "#7201a8"
             ],
             [
              0.3333333333333333,
              "#9c179e"
             ],
             [
              0.4444444444444444,
              "#bd3786"
             ],
             [
              0.5555555555555556,
              "#d8576b"
             ],
             [
              0.6666666666666666,
              "#ed7953"
             ],
             [
              0.7777777777777778,
              "#fb9f3a"
             ],
             [
              0.8888888888888888,
              "#fdca26"
             ],
             [
              1.0,
              "#f0f921"
             ]
            ]
           }
          ],
          "surface": [
           {
            "type": "surface",
            "colorbar": {
             "outlinewidth": 0,
             "ticks": ""
            },
            "colorscale": [
             [
              0.0,
              "#0d0887"
             ],
             [
              0.1111111111111111,
              "#46039f"
             ],
             [
              0.2222222222222222,
              "#7201a8"
             ],
             [
              0.3333333333333333,
              "#9c179e"
             ],
             [
              0.4444444444444444,
              "#bd3786"
             ],
             [
              0.5555555555555556,
              "#d8576b"
             ],
             [
              0.6666666666666666,
              "#ed7953"
             ],
             [
              0.7777777777777778,
              "#fb9f3a"
             ],
             [
              0.8888888888888888,
              "#fdca26"
             ],
             [
              1.0,
              "#f0f921"
             ]
            ]
           }
          ],
          "mesh3d": [
           {
            "type": "mesh3d",
            "colorbar": {
             "outlinewidth": 0,
             "ticks": ""
            }
           }
          ],
          "scatter": [
           {
            "fillpattern": {
             "fillmode": "overlay",
             "size": 10,
             "solidity": 0.2
            },
            "type": "scatter"
           }
          ],
          "parcoords": [
           {
            "type": "parcoords",
            "line": {
             "colorbar": {
              "outlinewidth": 0,
              "ticks": ""
             }
            }
           }
          ],
          "scatterpolargl": [
           {
            "type": "scatterpolargl",
            "marker": {
             "colorbar": {
              "outlinewidth": 0,
              "ticks": ""
             }
            }
           }
          ],
          "bar": [
           {
            "error_x": {
             "color": "#2a3f5f"
            },
            "error_y": {
             "color": "#2a3f5f"
            },
            "marker": {
             "line": {
              "color": "#E5ECF6",
              "width": 0.5
             },
             "pattern": {
              "fillmode": "overlay",
              "size": 10,
              "solidity": 0.2
             }
            },
            "type": "bar"
           }
          ],
          "scattergeo": [
           {
            "type": "scattergeo",
            "marker": {
             "colorbar": {
              "outlinewidth": 0,
              "ticks": ""
             }
            }
           }
          ],
          "scatterpolar": [
           {
            "type": "scatterpolar",
            "marker": {
             "colorbar": {
              "outlinewidth": 0,
              "ticks": ""
             }
            }
           }
          ],
          "histogram": [
           {
            "marker": {
             "pattern": {
              "fillmode": "overlay",
              "size": 10,
              "solidity": 0.2
             }
            },
            "type": "histogram"
           }
          ],
          "scattergl": [
           {
            "type": "scattergl",
            "marker": {
             "colorbar": {
              "outlinewidth": 0,
              "ticks": ""
             }
            }
           }
          ],
          "scatter3d": [
           {
            "type": "scatter3d",
            "line": {
             "colorbar": {
              "outlinewidth": 0,
              "ticks": ""
             }
            },
            "marker": {
             "colorbar": {
              "outlinewidth": 0,
              "ticks": ""
             }
            }
           }
          ],
          "scattermap": [
           {
            "type": "scattermap",
            "marker": {
             "colorbar": {
              "outlinewidth": 0,
              "ticks": ""
             }
            }
           }
          ],
          "scattermapbox": [
           {
            "type": "scattermapbox",
            "marker": {
             "colorbar": {
              "outlinewidth": 0,
              "ticks": ""
             }
            }
           }
          ],
          "scatterternary": [
           {
            "type": "scatterternary",
            "marker": {
             "colorbar": {
              "outlinewidth": 0,
              "ticks": ""
             }
            }
           }
          ],
          "scattercarpet": [
           {
            "type": "scattercarpet",
            "marker": {
             "colorbar": {
              "outlinewidth": 0,
              "ticks": ""
             }
            }
           }
          ],
          "carpet": [
           {
            "aaxis": {
             "endlinecolor": "#2a3f5f",
             "gridcolor": "white",
             "linecolor": "white",
             "minorgridcolor": "white",
             "startlinecolor": "#2a3f5f"
            },
            "baxis": {
             "endlinecolor": "#2a3f5f",
             "gridcolor": "white",
             "linecolor": "white",
             "minorgridcolor": "white",
             "startlinecolor": "#2a3f5f"
            },
            "type": "carpet"
           }
          ],
          "table": [
           {
            "cells": {
             "fill": {
              "color": "#EBF0F8"
             },
             "line": {
              "color": "white"
             }
            },
            "header": {
             "fill": {
              "color": "#C8D4E3"
             },
             "line": {
              "color": "white"
             }
            },
            "type": "table"
           }
          ],
          "barpolar": [
           {
            "marker": {
             "line": {
              "color": "#E5ECF6",
              "width": 0.5
             },
             "pattern": {
              "fillmode": "overlay",
              "size": 10,
              "solidity": 0.2
             }
            },
            "type": "barpolar"
           }
          ],
          "pie": [
           {
            "automargin": true,
            "type": "pie"
           }
          ]
         },
         "layout": {
          "autotypenumbers": "strict",
          "colorway": [
           "#636efa",
           "#EF553B",
           "#00cc96",
           "#ab63fa",
           "#FFA15A",
           "#19d3f3",
           "#FF6692",
           "#B6E880",
           "#FF97FF",
           "#FECB52"
          ],
          "font": {
           "color": "#2a3f5f"
          },
          "hovermode": "closest",
          "hoverlabel": {
           "align": "left"
          },
          "paper_bgcolor": "white",
          "plot_bgcolor": "#E5ECF6",
          "polar": {
           "bgcolor": "#E5ECF6",
           "angularaxis": {
            "gridcolor": "white",
            "linecolor": "white",
            "ticks": ""
           },
           "radialaxis": {
            "gridcolor": "white",
            "linecolor": "white",
            "ticks": ""
           }
          },
          "ternary": {
           "bgcolor": "#E5ECF6",
           "aaxis": {
            "gridcolor": "white",
            "linecolor": "white",
            "ticks": ""
           },
           "baxis": {
            "gridcolor": "white",
            "linecolor": "white",
            "ticks": ""
           },
           "caxis": {
            "gridcolor": "white",
            "linecolor": "white",
            "ticks": ""
           }
          },
          "coloraxis": {
           "colorbar": {
            "outlinewidth": 0,
            "ticks": ""
           }
          },
          "colorscale": {
           "sequential": [
            [
             0.0,
             "#0d0887"
            ],
            [
             0.1111111111111111,
             "#46039f"
            ],
            [
             0.2222222222222222,
             "#7201a8"
            ],
            [
             0.3333333333333333,
             "#9c179e"
            ],
            [
             0.4444444444444444,
             "#bd3786"
            ],
            [
             0.5555555555555556,
             "#d8576b"
            ],
            [
             0.6666666666666666,
             "#ed7953"
            ],
            [
             0.7777777777777778,
             "#fb9f3a"
            ],
            [
             0.8888888888888888,
             "#fdca26"
            ],
            [
             1.0,
             "#f0f921"
            ]
           ],
           "sequentialminus": [
            [
             0.0,
             "#0d0887"
            ],
            [
             0.1111111111111111,
             "#46039f"
            ],
            [
             0.2222222222222222,
             "#7201a8"
            ],
            [
             0.3333333333333333,
             "#9c179e"
            ],
            [
             0.4444444444444444,
             "#bd3786"
            ],
            [
             0.5555555555555556,
             "#d8576b"
            ],
            [
             0.6666666666666666,
             "#ed7953"
            ],
            [
             0.7777777777777778,
             "#fb9f3a"
            ],
            [
             0.8888888888888888,
             "#fdca26"
            ],
            [
             1.0,
             "#f0f921"
            ]
           ],
           "diverging": [
            [
             0,
             "#8e0152"
            ],
            [
             0.1,
             "#c51b7d"
            ],
            [
             0.2,
             "#de77ae"
            ],
            [
             0.3,
             "#f1b6da"
            ],
            [
             0.4,
             "#fde0ef"
            ],
            [
             0.5,
             "#f7f7f7"
            ],
            [
             0.6,
             "#e6f5d0"
            ],
            [
             0.7,
             "#b8e186"
            ],
            [
             0.8,
             "#7fbc41"
            ],
            [
             0.9,
             "#4d9221"
            ],
            [
             1,
             "#276419"
            ]
           ]
          },
          "xaxis": {
           "gridcolor": "white",
           "linecolor": "white",
           "ticks": "",
           "title": {
            "standoff": 15
           },
           "zerolinecolor": "white",
           "automargin": true,
           "zerolinewidth": 2
          },
          "yaxis": {
           "gridcolor": "white",
           "linecolor": "white",
           "ticks": "",
           "title": {
            "standoff": 15
           },
           "zerolinecolor": "white",
           "automargin": true,
           "zerolinewidth": 2
          },
          "scene": {
           "xaxis": {
            "backgroundcolor": "#E5ECF6",
            "gridcolor": "white",
            "linecolor": "white",
            "showbackground": true,
            "ticks": "",
            "zerolinecolor": "white",
            "gridwidth": 2
           },
           "yaxis": {
            "backgroundcolor": "#E5ECF6",
            "gridcolor": "white",
            "linecolor": "white",
            "showbackground": true,
            "ticks": "",
            "zerolinecolor": "white",
            "gridwidth": 2
           },
           "zaxis": {
            "backgroundcolor": "#E5ECF6",
            "gridcolor": "white",
            "linecolor": "white",
            "showbackground": true,
            "ticks": "",
            "zerolinecolor": "white",
            "gridwidth": 2
           }
          },
          "shapedefaults": {
           "line": {
            "color": "#2a3f5f"
           }
          },
          "annotationdefaults": {
           "arrowcolor": "#2a3f5f",
           "arrowhead": 0,
           "arrowwidth": 1
          },
          "geo": {
           "bgcolor": "white",
           "landcolor": "#E5ECF6",
           "subunitcolor": "white",
           "showland": true,
           "showlakes": true,
           "lakecolor": "white"
          },
          "title": {
           "x": 0.05
          },
          "mapbox": {
           "style": "light"
          }
         }
        },
        "xaxis": {
         "anchor": "y",
         "domain": [
          0.0,
          1.0
         ],
         "title": {
          "text": "Player"
         }
        },
        "yaxis": {
         "anchor": "x",
         "domain": [
          0.0,
          1.0
         ],
         "title": {
          "text": "Gk_Level"
         }
        },
        "legend": {
         "title": {
          "text": "Team"
         },
         "tracegroupgap": 0
        },
        "title": {
         "text": "Best Goalkeepers in Champions League 2025"
        },
        "barmode": "relative"
       },
       "config": {
        "plotlyServerURL": "https://plot.ly"
       }
      }
     },
     "metadata": {},
     "output_type": "display_data"
    }
   ],
   "execution_count": 72
  },
  {
   "metadata": {
    "ExecuteTime": {
     "end_time": "2025-06-15T11:37:52.486851Z",
     "start_time": "2025-06-15T11:37:52.470460Z"
    }
   },
   "cell_type": "code",
   "source": "ucl[ucl['Player'] == 'Tillman']",
   "id": "db2f4c450a30d166",
   "outputs": [
    {
     "data": {
      "text/plain": [
       "     PlayerID   Player    Position  Age    Nationality           Team  \\\n",
       "155       156  Tillman  Midfielder   22  United States  PSV Eindhoven   \n",
       "\n",
       "    Competitions    Phase Phase_Tier  Value10^6  ...  Balls_recovered  \\\n",
       "155   Eredivisie  Round16          C       30.0  ...               30   \n",
       "\n",
       "     Tackles_Won  Tackles_Lost  Saves  Goals_Conceded  Clean_Sheets  \\\n",
       "155            6             8      0               0             0   \n",
       "\n",
       "     MOTM_Awards  Minutes_played  Match_played  DNP  \n",
       "155            2             534             6    6  \n",
       "\n",
       "[1 rows x 30 columns]"
      ],
      "text/html": [
       "<div>\n",
       "<style scoped>\n",
       "    .dataframe tbody tr th:only-of-type {\n",
       "        vertical-align: middle;\n",
       "    }\n",
       "\n",
       "    .dataframe tbody tr th {\n",
       "        vertical-align: top;\n",
       "    }\n",
       "\n",
       "    .dataframe thead th {\n",
       "        text-align: right;\n",
       "    }\n",
       "</style>\n",
       "<table border=\"1\" class=\"dataframe\">\n",
       "  <thead>\n",
       "    <tr style=\"text-align: right;\">\n",
       "      <th></th>\n",
       "      <th>PlayerID</th>\n",
       "      <th>Player</th>\n",
       "      <th>Position</th>\n",
       "      <th>Age</th>\n",
       "      <th>Nationality</th>\n",
       "      <th>Team</th>\n",
       "      <th>Competitions</th>\n",
       "      <th>Phase</th>\n",
       "      <th>Phase_Tier</th>\n",
       "      <th>Value10^6</th>\n",
       "      <th>...</th>\n",
       "      <th>Balls_recovered</th>\n",
       "      <th>Tackles_Won</th>\n",
       "      <th>Tackles_Lost</th>\n",
       "      <th>Saves</th>\n",
       "      <th>Goals_Conceded</th>\n",
       "      <th>Clean_Sheets</th>\n",
       "      <th>MOTM_Awards</th>\n",
       "      <th>Minutes_played</th>\n",
       "      <th>Match_played</th>\n",
       "      <th>DNP</th>\n",
       "    </tr>\n",
       "  </thead>\n",
       "  <tbody>\n",
       "    <tr>\n",
       "      <th>155</th>\n",
       "      <td>156</td>\n",
       "      <td>Tillman</td>\n",
       "      <td>Midfielder</td>\n",
       "      <td>22</td>\n",
       "      <td>United States</td>\n",
       "      <td>PSV Eindhoven</td>\n",
       "      <td>Eredivisie</td>\n",
       "      <td>Round16</td>\n",
       "      <td>C</td>\n",
       "      <td>30.0</td>\n",
       "      <td>...</td>\n",
       "      <td>30</td>\n",
       "      <td>6</td>\n",
       "      <td>8</td>\n",
       "      <td>0</td>\n",
       "      <td>0</td>\n",
       "      <td>0</td>\n",
       "      <td>2</td>\n",
       "      <td>534</td>\n",
       "      <td>6</td>\n",
       "      <td>6</td>\n",
       "    </tr>\n",
       "  </tbody>\n",
       "</table>\n",
       "<p>1 rows × 30 columns</p>\n",
       "</div>"
      ]
     },
     "execution_count": 73,
     "metadata": {},
     "output_type": "execute_result"
    }
   ],
   "execution_count": 73
  },
  {
   "metadata": {
    "ExecuteTime": {
     "end_time": "2025-06-15T11:37:52.637726Z",
     "start_time": "2025-06-15T11:37:52.622377Z"
    }
   },
   "cell_type": "code",
   "source": "ucl[ucl['Player'] == 'Bastoni']\n",
   "id": "e68d054f51f92e04",
   "outputs": [
    {
     "data": {
      "text/plain": [
       "     PlayerID   Player  Position  Age Nationality   Team Competitions  Phase  \\\n",
       "165       166  Bastoni  Defender   26       Italy  Inter      Serie A  Final   \n",
       "\n",
       "    Phase_Tier  Value10^6  ...  Balls_recovered  Tackles_Won  Tackles_Lost  \\\n",
       "165          S       80.0  ...               61           15            13   \n",
       "\n",
       "     Saves  Goals_Conceded  Clean_Sheets  MOTM_Awards  Minutes_played  \\\n",
       "165      0               0             0            1            1078   \n",
       "\n",
       "     Match_played  DNP  \n",
       "165            14    1  \n",
       "\n",
       "[1 rows x 30 columns]"
      ],
      "text/html": [
       "<div>\n",
       "<style scoped>\n",
       "    .dataframe tbody tr th:only-of-type {\n",
       "        vertical-align: middle;\n",
       "    }\n",
       "\n",
       "    .dataframe tbody tr th {\n",
       "        vertical-align: top;\n",
       "    }\n",
       "\n",
       "    .dataframe thead th {\n",
       "        text-align: right;\n",
       "    }\n",
       "</style>\n",
       "<table border=\"1\" class=\"dataframe\">\n",
       "  <thead>\n",
       "    <tr style=\"text-align: right;\">\n",
       "      <th></th>\n",
       "      <th>PlayerID</th>\n",
       "      <th>Player</th>\n",
       "      <th>Position</th>\n",
       "      <th>Age</th>\n",
       "      <th>Nationality</th>\n",
       "      <th>Team</th>\n",
       "      <th>Competitions</th>\n",
       "      <th>Phase</th>\n",
       "      <th>Phase_Tier</th>\n",
       "      <th>Value10^6</th>\n",
       "      <th>...</th>\n",
       "      <th>Balls_recovered</th>\n",
       "      <th>Tackles_Won</th>\n",
       "      <th>Tackles_Lost</th>\n",
       "      <th>Saves</th>\n",
       "      <th>Goals_Conceded</th>\n",
       "      <th>Clean_Sheets</th>\n",
       "      <th>MOTM_Awards</th>\n",
       "      <th>Minutes_played</th>\n",
       "      <th>Match_played</th>\n",
       "      <th>DNP</th>\n",
       "    </tr>\n",
       "  </thead>\n",
       "  <tbody>\n",
       "    <tr>\n",
       "      <th>165</th>\n",
       "      <td>166</td>\n",
       "      <td>Bastoni</td>\n",
       "      <td>Defender</td>\n",
       "      <td>26</td>\n",
       "      <td>Italy</td>\n",
       "      <td>Inter</td>\n",
       "      <td>Serie A</td>\n",
       "      <td>Final</td>\n",
       "      <td>S</td>\n",
       "      <td>80.0</td>\n",
       "      <td>...</td>\n",
       "      <td>61</td>\n",
       "      <td>15</td>\n",
       "      <td>13</td>\n",
       "      <td>0</td>\n",
       "      <td>0</td>\n",
       "      <td>0</td>\n",
       "      <td>1</td>\n",
       "      <td>1078</td>\n",
       "      <td>14</td>\n",
       "      <td>1</td>\n",
       "    </tr>\n",
       "  </tbody>\n",
       "</table>\n",
       "<p>1 rows × 30 columns</p>\n",
       "</div>"
      ]
     },
     "execution_count": 74,
     "metadata": {},
     "output_type": "execute_result"
    }
   ],
   "execution_count": 74
  },
  {
   "metadata": {
    "ExecuteTime": {
     "end_time": "2025-06-15T11:37:53.056510Z",
     "start_time": "2025-06-15T11:37:53.051237Z"
    }
   },
   "cell_type": "code",
   "source": "aggresive_players_scouting =  ucl[(ucl['Balls_recovered'] > 30) & (ucl['Tackles_Won'] > 12) & (ucl['Age']< 25)]",
   "id": "d97d1f51082f7b52",
   "outputs": [],
   "execution_count": 75
  },
  {
   "metadata": {
    "ExecuteTime": {
     "end_time": "2025-06-15T11:37:53.462874Z",
     "start_time": "2025-06-15T11:37:53.450979Z"
    }
   },
   "cell_type": "code",
   "source": "aggresive_players_scouting[['Player','Position','Age','Balls_recovered','Tackles_Won']]",
   "id": "75990e3019c70979",
   "outputs": [
    {
     "data": {
      "text/plain": [
       "             Player    Position  Age  Balls_recovered  Tackles_Won\n",
       "43    Ryan Flamingo    Defender   22               49           16\n",
       "97   Jurrien Timber    Defender   23               44           15\n",
       "129     Nuno Mendes    Defender   22               87           23\n",
       "147          Casado  Midfielder   21               40           20\n",
       "175      Joao Neves  Midfielder   20               87           19"
      ],
      "text/html": [
       "<div>\n",
       "<style scoped>\n",
       "    .dataframe tbody tr th:only-of-type {\n",
       "        vertical-align: middle;\n",
       "    }\n",
       "\n",
       "    .dataframe tbody tr th {\n",
       "        vertical-align: top;\n",
       "    }\n",
       "\n",
       "    .dataframe thead th {\n",
       "        text-align: right;\n",
       "    }\n",
       "</style>\n",
       "<table border=\"1\" class=\"dataframe\">\n",
       "  <thead>\n",
       "    <tr style=\"text-align: right;\">\n",
       "      <th></th>\n",
       "      <th>Player</th>\n",
       "      <th>Position</th>\n",
       "      <th>Age</th>\n",
       "      <th>Balls_recovered</th>\n",
       "      <th>Tackles_Won</th>\n",
       "    </tr>\n",
       "  </thead>\n",
       "  <tbody>\n",
       "    <tr>\n",
       "      <th>43</th>\n",
       "      <td>Ryan Flamingo</td>\n",
       "      <td>Defender</td>\n",
       "      <td>22</td>\n",
       "      <td>49</td>\n",
       "      <td>16</td>\n",
       "    </tr>\n",
       "    <tr>\n",
       "      <th>97</th>\n",
       "      <td>Jurrien Timber</td>\n",
       "      <td>Defender</td>\n",
       "      <td>23</td>\n",
       "      <td>44</td>\n",
       "      <td>15</td>\n",
       "    </tr>\n",
       "    <tr>\n",
       "      <th>129</th>\n",
       "      <td>Nuno Mendes</td>\n",
       "      <td>Defender</td>\n",
       "      <td>22</td>\n",
       "      <td>87</td>\n",
       "      <td>23</td>\n",
       "    </tr>\n",
       "    <tr>\n",
       "      <th>147</th>\n",
       "      <td>Casado</td>\n",
       "      <td>Midfielder</td>\n",
       "      <td>21</td>\n",
       "      <td>40</td>\n",
       "      <td>20</td>\n",
       "    </tr>\n",
       "    <tr>\n",
       "      <th>175</th>\n",
       "      <td>Joao Neves</td>\n",
       "      <td>Midfielder</td>\n",
       "      <td>20</td>\n",
       "      <td>87</td>\n",
       "      <td>19</td>\n",
       "    </tr>\n",
       "  </tbody>\n",
       "</table>\n",
       "</div>"
      ]
     },
     "execution_count": 76,
     "metadata": {},
     "output_type": "execute_result"
    }
   ],
   "execution_count": 76
  },
  {
   "metadata": {
    "ExecuteTime": {
     "end_time": "2025-06-15T11:37:53.711266Z",
     "start_time": "2025-06-15T11:37:53.653366Z"
    }
   },
   "cell_type": "code",
   "source": "px.bar(aggresive_players_scouting, x='Player', y='Value10^6', color='Team',text='Age', title='Aggresive Players in Champions League 2025', hover_name='Team')",
   "id": "3c83d41a19eeee38",
   "outputs": [
    {
     "data": {
      "application/vnd.plotly.v1+json": {
       "data": [
        {
         "hovertemplate": "<b>%{hovertext}</b><br><br>Team=PSV Eindhoven<br>Player=%{x}<br>Value10^6=%{y}<br>Age=%{text}<extra></extra>",
         "hovertext": [
          "PSV Eindhoven"
         ],
         "legendgroup": "PSV Eindhoven",
         "marker": {
          "color": "#636efa",
          "pattern": {
           "shape": ""
          }
         },
         "name": "PSV Eindhoven",
         "orientation": "v",
         "showlegend": true,
         "text": {
          "dtype": "f8",
          "bdata": "AAAAAAAANkA="
         },
         "textposition": "auto",
         "x": [
          "Ryan Flamingo"
         ],
         "xaxis": "x",
         "y": {
          "dtype": "f8",
          "bdata": "AAAAAAAAMEA="
         },
         "yaxis": "y",
         "type": "bar"
        },
        {
         "hovertemplate": "<b>%{hovertext}</b><br><br>Team=Arsenal FC<br>Player=%{x}<br>Value10^6=%{y}<br>Age=%{text}<extra></extra>",
         "hovertext": [
          "Arsenal FC"
         ],
         "legendgroup": "Arsenal FC",
         "marker": {
          "color": "#EF553B",
          "pattern": {
           "shape": ""
          }
         },
         "name": "Arsenal FC",
         "orientation": "v",
         "showlegend": true,
         "text": {
          "dtype": "f8",
          "bdata": "AAAAAAAAN0A="
         },
         "textposition": "auto",
         "x": [
          "Jurrien Timber"
         ],
         "xaxis": "x",
         "y": {
          "dtype": "f8",
          "bdata": "AAAAAAAASUA="
         },
         "yaxis": "y",
         "type": "bar"
        },
        {
         "hovertemplate": "<b>%{hovertext}</b><br><br>Team=Paris SG<br>Player=%{x}<br>Value10^6=%{y}<br>Age=%{text}<extra></extra>",
         "hovertext": [
          "Paris SG",
          "Paris SG"
         ],
         "legendgroup": "Paris SG",
         "marker": {
          "color": "#00cc96",
          "pattern": {
           "shape": ""
          }
         },
         "name": "Paris SG",
         "orientation": "v",
         "showlegend": true,
         "text": {
          "dtype": "f8",
          "bdata": "AAAAAAAANkAAAAAAAAA0QA=="
         },
         "textposition": "auto",
         "x": [
          "Nuno Mendes",
          "Joao Neves"
         ],
         "xaxis": "x",
         "y": {
          "dtype": "f8",
          "bdata": "AAAAAACAS0AAAAAAAABOQA=="
         },
         "yaxis": "y",
         "type": "bar"
        },
        {
         "hovertemplate": "<b>%{hovertext}</b><br><br>Team=Barcelona<br>Player=%{x}<br>Value10^6=%{y}<br>Age=%{text}<extra></extra>",
         "hovertext": [
          "Barcelona"
         ],
         "legendgroup": "Barcelona",
         "marker": {
          "color": "#ab63fa",
          "pattern": {
           "shape": ""
          }
         },
         "name": "Barcelona",
         "orientation": "v",
         "showlegend": true,
         "text": {
          "dtype": "f8",
          "bdata": "AAAAAAAANUA="
         },
         "textposition": "auto",
         "x": [
          "Casado"
         ],
         "xaxis": "x",
         "y": {
          "dtype": "f8",
          "bdata": "AAAAAAAAPkA="
         },
         "yaxis": "y",
         "type": "bar"
        }
       ],
       "layout": {
        "template": {
         "data": {
          "histogram2dcontour": [
           {
            "type": "histogram2dcontour",
            "colorbar": {
             "outlinewidth": 0,
             "ticks": ""
            },
            "colorscale": [
             [
              0.0,
              "#0d0887"
             ],
             [
              0.1111111111111111,
              "#46039f"
             ],
             [
              0.2222222222222222,
              "#7201a8"
             ],
             [
              0.3333333333333333,
              "#9c179e"
             ],
             [
              0.4444444444444444,
              "#bd3786"
             ],
             [
              0.5555555555555556,
              "#d8576b"
             ],
             [
              0.6666666666666666,
              "#ed7953"
             ],
             [
              0.7777777777777778,
              "#fb9f3a"
             ],
             [
              0.8888888888888888,
              "#fdca26"
             ],
             [
              1.0,
              "#f0f921"
             ]
            ]
           }
          ],
          "choropleth": [
           {
            "type": "choropleth",
            "colorbar": {
             "outlinewidth": 0,
             "ticks": ""
            }
           }
          ],
          "histogram2d": [
           {
            "type": "histogram2d",
            "colorbar": {
             "outlinewidth": 0,
             "ticks": ""
            },
            "colorscale": [
             [
              0.0,
              "#0d0887"
             ],
             [
              0.1111111111111111,
              "#46039f"
             ],
             [
              0.2222222222222222,
              "#7201a8"
             ],
             [
              0.3333333333333333,
              "#9c179e"
             ],
             [
              0.4444444444444444,
              "#bd3786"
             ],
             [
              0.5555555555555556,
              "#d8576b"
             ],
             [
              0.6666666666666666,
              "#ed7953"
             ],
             [
              0.7777777777777778,
              "#fb9f3a"
             ],
             [
              0.8888888888888888,
              "#fdca26"
             ],
             [
              1.0,
              "#f0f921"
             ]
            ]
           }
          ],
          "heatmap": [
           {
            "type": "heatmap",
            "colorbar": {
             "outlinewidth": 0,
             "ticks": ""
            },
            "colorscale": [
             [
              0.0,
              "#0d0887"
             ],
             [
              0.1111111111111111,
              "#46039f"
             ],
             [
              0.2222222222222222,
              "#7201a8"
             ],
             [
              0.3333333333333333,
              "#9c179e"
             ],
             [
              0.4444444444444444,
              "#bd3786"
             ],
             [
              0.5555555555555556,
              "#d8576b"
             ],
             [
              0.6666666666666666,
              "#ed7953"
             ],
             [
              0.7777777777777778,
              "#fb9f3a"
             ],
             [
              0.8888888888888888,
              "#fdca26"
             ],
             [
              1.0,
              "#f0f921"
             ]
            ]
           }
          ],
          "contourcarpet": [
           {
            "type": "contourcarpet",
            "colorbar": {
             "outlinewidth": 0,
             "ticks": ""
            }
           }
          ],
          "contour": [
           {
            "type": "contour",
            "colorbar": {
             "outlinewidth": 0,
             "ticks": ""
            },
            "colorscale": [
             [
              0.0,
              "#0d0887"
             ],
             [
              0.1111111111111111,
              "#46039f"
             ],
             [
              0.2222222222222222,
              "#7201a8"
             ],
             [
              0.3333333333333333,
              "#9c179e"
             ],
             [
              0.4444444444444444,
              "#bd3786"
             ],
             [
              0.5555555555555556,
              "#d8576b"
             ],
             [
              0.6666666666666666,
              "#ed7953"
             ],
             [
              0.7777777777777778,
              "#fb9f3a"
             ],
             [
              0.8888888888888888,
              "#fdca26"
             ],
             [
              1.0,
              "#f0f921"
             ]
            ]
           }
          ],
          "surface": [
           {
            "type": "surface",
            "colorbar": {
             "outlinewidth": 0,
             "ticks": ""
            },
            "colorscale": [
             [
              0.0,
              "#0d0887"
             ],
             [
              0.1111111111111111,
              "#46039f"
             ],
             [
              0.2222222222222222,
              "#7201a8"
             ],
             [
              0.3333333333333333,
              "#9c179e"
             ],
             [
              0.4444444444444444,
              "#bd3786"
             ],
             [
              0.5555555555555556,
              "#d8576b"
             ],
             [
              0.6666666666666666,
              "#ed7953"
             ],
             [
              0.7777777777777778,
              "#fb9f3a"
             ],
             [
              0.8888888888888888,
              "#fdca26"
             ],
             [
              1.0,
              "#f0f921"
             ]
            ]
           }
          ],
          "mesh3d": [
           {
            "type": "mesh3d",
            "colorbar": {
             "outlinewidth": 0,
             "ticks": ""
            }
           }
          ],
          "scatter": [
           {
            "fillpattern": {
             "fillmode": "overlay",
             "size": 10,
             "solidity": 0.2
            },
            "type": "scatter"
           }
          ],
          "parcoords": [
           {
            "type": "parcoords",
            "line": {
             "colorbar": {
              "outlinewidth": 0,
              "ticks": ""
             }
            }
           }
          ],
          "scatterpolargl": [
           {
            "type": "scatterpolargl",
            "marker": {
             "colorbar": {
              "outlinewidth": 0,
              "ticks": ""
             }
            }
           }
          ],
          "bar": [
           {
            "error_x": {
             "color": "#2a3f5f"
            },
            "error_y": {
             "color": "#2a3f5f"
            },
            "marker": {
             "line": {
              "color": "#E5ECF6",
              "width": 0.5
             },
             "pattern": {
              "fillmode": "overlay",
              "size": 10,
              "solidity": 0.2
             }
            },
            "type": "bar"
           }
          ],
          "scattergeo": [
           {
            "type": "scattergeo",
            "marker": {
             "colorbar": {
              "outlinewidth": 0,
              "ticks": ""
             }
            }
           }
          ],
          "scatterpolar": [
           {
            "type": "scatterpolar",
            "marker": {
             "colorbar": {
              "outlinewidth": 0,
              "ticks": ""
             }
            }
           }
          ],
          "histogram": [
           {
            "marker": {
             "pattern": {
              "fillmode": "overlay",
              "size": 10,
              "solidity": 0.2
             }
            },
            "type": "histogram"
           }
          ],
          "scattergl": [
           {
            "type": "scattergl",
            "marker": {
             "colorbar": {
              "outlinewidth": 0,
              "ticks": ""
             }
            }
           }
          ],
          "scatter3d": [
           {
            "type": "scatter3d",
            "line": {
             "colorbar": {
              "outlinewidth": 0,
              "ticks": ""
             }
            },
            "marker": {
             "colorbar": {
              "outlinewidth": 0,
              "ticks": ""
             }
            }
           }
          ],
          "scattermap": [
           {
            "type": "scattermap",
            "marker": {
             "colorbar": {
              "outlinewidth": 0,
              "ticks": ""
             }
            }
           }
          ],
          "scattermapbox": [
           {
            "type": "scattermapbox",
            "marker": {
             "colorbar": {
              "outlinewidth": 0,
              "ticks": ""
             }
            }
           }
          ],
          "scatterternary": [
           {
            "type": "scatterternary",
            "marker": {
             "colorbar": {
              "outlinewidth": 0,
              "ticks": ""
             }
            }
           }
          ],
          "scattercarpet": [
           {
            "type": "scattercarpet",
            "marker": {
             "colorbar": {
              "outlinewidth": 0,
              "ticks": ""
             }
            }
           }
          ],
          "carpet": [
           {
            "aaxis": {
             "endlinecolor": "#2a3f5f",
             "gridcolor": "white",
             "linecolor": "white",
             "minorgridcolor": "white",
             "startlinecolor": "#2a3f5f"
            },
            "baxis": {
             "endlinecolor": "#2a3f5f",
             "gridcolor": "white",
             "linecolor": "white",
             "minorgridcolor": "white",
             "startlinecolor": "#2a3f5f"
            },
            "type": "carpet"
           }
          ],
          "table": [
           {
            "cells": {
             "fill": {
              "color": "#EBF0F8"
             },
             "line": {
              "color": "white"
             }
            },
            "header": {
             "fill": {
              "color": "#C8D4E3"
             },
             "line": {
              "color": "white"
             }
            },
            "type": "table"
           }
          ],
          "barpolar": [
           {
            "marker": {
             "line": {
              "color": "#E5ECF6",
              "width": 0.5
             },
             "pattern": {
              "fillmode": "overlay",
              "size": 10,
              "solidity": 0.2
             }
            },
            "type": "barpolar"
           }
          ],
          "pie": [
           {
            "automargin": true,
            "type": "pie"
           }
          ]
         },
         "layout": {
          "autotypenumbers": "strict",
          "colorway": [
           "#636efa",
           "#EF553B",
           "#00cc96",
           "#ab63fa",
           "#FFA15A",
           "#19d3f3",
           "#FF6692",
           "#B6E880",
           "#FF97FF",
           "#FECB52"
          ],
          "font": {
           "color": "#2a3f5f"
          },
          "hovermode": "closest",
          "hoverlabel": {
           "align": "left"
          },
          "paper_bgcolor": "white",
          "plot_bgcolor": "#E5ECF6",
          "polar": {
           "bgcolor": "#E5ECF6",
           "angularaxis": {
            "gridcolor": "white",
            "linecolor": "white",
            "ticks": ""
           },
           "radialaxis": {
            "gridcolor": "white",
            "linecolor": "white",
            "ticks": ""
           }
          },
          "ternary": {
           "bgcolor": "#E5ECF6",
           "aaxis": {
            "gridcolor": "white",
            "linecolor": "white",
            "ticks": ""
           },
           "baxis": {
            "gridcolor": "white",
            "linecolor": "white",
            "ticks": ""
           },
           "caxis": {
            "gridcolor": "white",
            "linecolor": "white",
            "ticks": ""
           }
          },
          "coloraxis": {
           "colorbar": {
            "outlinewidth": 0,
            "ticks": ""
           }
          },
          "colorscale": {
           "sequential": [
            [
             0.0,
             "#0d0887"
            ],
            [
             0.1111111111111111,
             "#46039f"
            ],
            [
             0.2222222222222222,
             "#7201a8"
            ],
            [
             0.3333333333333333,
             "#9c179e"
            ],
            [
             0.4444444444444444,
             "#bd3786"
            ],
            [
             0.5555555555555556,
             "#d8576b"
            ],
            [
             0.6666666666666666,
             "#ed7953"
            ],
            [
             0.7777777777777778,
             "#fb9f3a"
            ],
            [
             0.8888888888888888,
             "#fdca26"
            ],
            [
             1.0,
             "#f0f921"
            ]
           ],
           "sequentialminus": [
            [
             0.0,
             "#0d0887"
            ],
            [
             0.1111111111111111,
             "#46039f"
            ],
            [
             0.2222222222222222,
             "#7201a8"
            ],
            [
             0.3333333333333333,
             "#9c179e"
            ],
            [
             0.4444444444444444,
             "#bd3786"
            ],
            [
             0.5555555555555556,
             "#d8576b"
            ],
            [
             0.6666666666666666,
             "#ed7953"
            ],
            [
             0.7777777777777778,
             "#fb9f3a"
            ],
            [
             0.8888888888888888,
             "#fdca26"
            ],
            [
             1.0,
             "#f0f921"
            ]
           ],
           "diverging": [
            [
             0,
             "#8e0152"
            ],
            [
             0.1,
             "#c51b7d"
            ],
            [
             0.2,
             "#de77ae"
            ],
            [
             0.3,
             "#f1b6da"
            ],
            [
             0.4,
             "#fde0ef"
            ],
            [
             0.5,
             "#f7f7f7"
            ],
            [
             0.6,
             "#e6f5d0"
            ],
            [
             0.7,
             "#b8e186"
            ],
            [
             0.8,
             "#7fbc41"
            ],
            [
             0.9,
             "#4d9221"
            ],
            [
             1,
             "#276419"
            ]
           ]
          },
          "xaxis": {
           "gridcolor": "white",
           "linecolor": "white",
           "ticks": "",
           "title": {
            "standoff": 15
           },
           "zerolinecolor": "white",
           "automargin": true,
           "zerolinewidth": 2
          },
          "yaxis": {
           "gridcolor": "white",
           "linecolor": "white",
           "ticks": "",
           "title": {
            "standoff": 15
           },
           "zerolinecolor": "white",
           "automargin": true,
           "zerolinewidth": 2
          },
          "scene": {
           "xaxis": {
            "backgroundcolor": "#E5ECF6",
            "gridcolor": "white",
            "linecolor": "white",
            "showbackground": true,
            "ticks": "",
            "zerolinecolor": "white",
            "gridwidth": 2
           },
           "yaxis": {
            "backgroundcolor": "#E5ECF6",
            "gridcolor": "white",
            "linecolor": "white",
            "showbackground": true,
            "ticks": "",
            "zerolinecolor": "white",
            "gridwidth": 2
           },
           "zaxis": {
            "backgroundcolor": "#E5ECF6",
            "gridcolor": "white",
            "linecolor": "white",
            "showbackground": true,
            "ticks": "",
            "zerolinecolor": "white",
            "gridwidth": 2
           }
          },
          "shapedefaults": {
           "line": {
            "color": "#2a3f5f"
           }
          },
          "annotationdefaults": {
           "arrowcolor": "#2a3f5f",
           "arrowhead": 0,
           "arrowwidth": 1
          },
          "geo": {
           "bgcolor": "white",
           "landcolor": "#E5ECF6",
           "subunitcolor": "white",
           "showland": true,
           "showlakes": true,
           "lakecolor": "white"
          },
          "title": {
           "x": 0.05
          },
          "mapbox": {
           "style": "light"
          }
         }
        },
        "xaxis": {
         "anchor": "y",
         "domain": [
          0.0,
          1.0
         ],
         "title": {
          "text": "Player"
         }
        },
        "yaxis": {
         "anchor": "x",
         "domain": [
          0.0,
          1.0
         ],
         "title": {
          "text": "Value10^6"
         }
        },
        "legend": {
         "title": {
          "text": "Team"
         },
         "tracegroupgap": 0
        },
        "title": {
         "text": "Aggresive Players in Champions League 2025"
        },
        "barmode": "relative"
       },
       "config": {
        "plotlyServerURL": "https://plot.ly"
       }
      }
     },
     "metadata": {},
     "output_type": "display_data"
    }
   ],
   "execution_count": 77
  },
  {
   "metadata": {
    "ExecuteTime": {
     "end_time": "2025-06-15T11:37:54.045761Z",
     "start_time": "2025-06-15T11:37:54.035613Z"
    }
   },
   "cell_type": "code",
   "source": "top_10_values  = ucl.nlargest(10, 'Value10^6')[['Player','Age','Team','Value10^6']].head(15)",
   "id": "960ed636f5bd8b7c",
   "outputs": [],
   "execution_count": 78
  },
  {
   "metadata": {
    "ExecuteTime": {
     "end_time": "2025-06-15T11:37:54.219061Z",
     "start_time": "2025-06-15T11:37:54.204071Z"
    }
   },
   "cell_type": "code",
   "source": "top_10_values",
   "id": "6dae72e47cbe4d83",
   "outputs": [
    {
     "data": {
      "text/plain": [
       "              Player  Age              Team  Value10^6\n",
       "37       Vinicius Jr   24       Real Madrid      200.0\n",
       "5    Jude Bellingham   21       Real Madrid      180.0\n",
       "15             Yamal   17         Barcelona      180.0\n",
       "19     Kylian Mbappe   25       Real Madrid      180.0\n",
       "178      Declan Rice   26        Arsenal FC      160.0\n",
       "59        Phil Foden   24   Manchester City      150.0\n",
       "88       Bukayo Saka   23        Arsenal FC      150.0\n",
       "167    Jamal Musiala   22     Bayern Munich      150.0\n",
       "181    Florian Wirtz   22  Bayer Leverkusen      140.0\n",
       "198         Valverde   26       Real Madrid      130.0"
      ],
      "text/html": [
       "<div>\n",
       "<style scoped>\n",
       "    .dataframe tbody tr th:only-of-type {\n",
       "        vertical-align: middle;\n",
       "    }\n",
       "\n",
       "    .dataframe tbody tr th {\n",
       "        vertical-align: top;\n",
       "    }\n",
       "\n",
       "    .dataframe thead th {\n",
       "        text-align: right;\n",
       "    }\n",
       "</style>\n",
       "<table border=\"1\" class=\"dataframe\">\n",
       "  <thead>\n",
       "    <tr style=\"text-align: right;\">\n",
       "      <th></th>\n",
       "      <th>Player</th>\n",
       "      <th>Age</th>\n",
       "      <th>Team</th>\n",
       "      <th>Value10^6</th>\n",
       "    </tr>\n",
       "  </thead>\n",
       "  <tbody>\n",
       "    <tr>\n",
       "      <th>37</th>\n",
       "      <td>Vinicius Jr</td>\n",
       "      <td>24</td>\n",
       "      <td>Real Madrid</td>\n",
       "      <td>200.0</td>\n",
       "    </tr>\n",
       "    <tr>\n",
       "      <th>5</th>\n",
       "      <td>Jude Bellingham</td>\n",
       "      <td>21</td>\n",
       "      <td>Real Madrid</td>\n",
       "      <td>180.0</td>\n",
       "    </tr>\n",
       "    <tr>\n",
       "      <th>15</th>\n",
       "      <td>Yamal</td>\n",
       "      <td>17</td>\n",
       "      <td>Barcelona</td>\n",
       "      <td>180.0</td>\n",
       "    </tr>\n",
       "    <tr>\n",
       "      <th>19</th>\n",
       "      <td>Kylian Mbappe</td>\n",
       "      <td>25</td>\n",
       "      <td>Real Madrid</td>\n",
       "      <td>180.0</td>\n",
       "    </tr>\n",
       "    <tr>\n",
       "      <th>178</th>\n",
       "      <td>Declan Rice</td>\n",
       "      <td>26</td>\n",
       "      <td>Arsenal FC</td>\n",
       "      <td>160.0</td>\n",
       "    </tr>\n",
       "    <tr>\n",
       "      <th>59</th>\n",
       "      <td>Phil Foden</td>\n",
       "      <td>24</td>\n",
       "      <td>Manchester City</td>\n",
       "      <td>150.0</td>\n",
       "    </tr>\n",
       "    <tr>\n",
       "      <th>88</th>\n",
       "      <td>Bukayo Saka</td>\n",
       "      <td>23</td>\n",
       "      <td>Arsenal FC</td>\n",
       "      <td>150.0</td>\n",
       "    </tr>\n",
       "    <tr>\n",
       "      <th>167</th>\n",
       "      <td>Jamal Musiala</td>\n",
       "      <td>22</td>\n",
       "      <td>Bayern Munich</td>\n",
       "      <td>150.0</td>\n",
       "    </tr>\n",
       "    <tr>\n",
       "      <th>181</th>\n",
       "      <td>Florian Wirtz</td>\n",
       "      <td>22</td>\n",
       "      <td>Bayer Leverkusen</td>\n",
       "      <td>140.0</td>\n",
       "    </tr>\n",
       "    <tr>\n",
       "      <th>198</th>\n",
       "      <td>Valverde</td>\n",
       "      <td>26</td>\n",
       "      <td>Real Madrid</td>\n",
       "      <td>130.0</td>\n",
       "    </tr>\n",
       "  </tbody>\n",
       "</table>\n",
       "</div>"
      ]
     },
     "execution_count": 79,
     "metadata": {},
     "output_type": "execute_result"
    }
   ],
   "execution_count": 79
  },
  {
   "metadata": {
    "ExecuteTime": {
     "end_time": "2025-06-15T11:37:54.549923Z",
     "start_time": "2025-06-15T11:37:54.332465Z"
    }
   },
   "cell_type": "code",
   "source": [
    "plt.figure(figsize=(14,8))\n",
    "sns.barplot(x=top_10_values['Player'], y=top_10_values['Value10^6'], hue=top_10_values['Team'])\n",
    "plt.title('Top 10 Highest Value Players in Champions League 2025')\n",
    "plt.ylabel('Value (in Millions)')\n",
    "plt.xlabel('Players')\n",
    "plt.show()"
   ],
   "id": "7d977bdd5ccf5762",
   "outputs": [
    {
     "data": {
      "text/plain": [
       "<Figure size 1400x800 with 1 Axes>"
      ],
      "image/png": "[encoded data removed]"
     },
     "metadata": {},
     "output_type": "display_data"
    }
   ],
   "execution_count": 80
  },
  {
   "metadata": {},
   "cell_type": "markdown",
   "source": "#### Krijim i një raporti Goals per Attempt (gola për tentativë):",
   "id": "403a7106bd96e2ef"
  },
  {
   "metadata": {
    "ExecuteTime": {
     "end_time": "2025-06-15T11:37:54.669786Z",
     "start_time": "2025-06-15T11:37:54.643890Z"
    }
   },
   "cell_type": "code",
   "source": [
    "attempting_players = ucl[ucl['Total_attempts'] > 34]\n",
    "\n",
    "attempting_players\n",
    "\n"
   ],
   "id": "bb7b493dbe32af58",
   "outputs": [
    {
     "data": {
      "text/plain": [
       "     PlayerID         Player  Position  Age Nationality             Team  \\\n",
       "3           4       Raphinha   Forward   28      Brazil        Barcelona   \n",
       "12         13         Hakimi  Defender   26     Morocco         Paris SG   \n",
       "15         16          Yamal   Forward   17       Spain        Barcelona   \n",
       "19         20  Kylian Mbappe   Forward   25      France      Real Madrid   \n",
       "37         38    Vinicius Jr   Forward   24      Brazil      Real Madrid   \n",
       "75         76        Dembele   Forward   27      France         Paris SG   \n",
       "134       135       Guirassy   Forward   29     Nigeria     BVB Dortmund   \n",
       "144       145     Harry Kane   Forward   31     England    Bayern Munich   \n",
       "171       172          Olise   Forward   23      France    Bayern Munich   \n",
       "176       177        Haaland   Forward   24      Norway  Manchester City   \n",
       "\n",
       "       Competitions            Phase Phase_Tier  Value10^6  ...  \\\n",
       "3           La Liga     Semi_finals           A       80.0  ...   \n",
       "12          Ligue 1            Final          S       60.0  ...   \n",
       "15          La Liga     Semi_finals           A      180.0  ...   \n",
       "19          La Liga  Quarter_finals           B      180.0  ...   \n",
       "37          La Liga  Quarter_finals           B      200.0  ...   \n",
       "75          Ligue 1            Final          S       75.0  ...   \n",
       "134      Bundesliga  Quarter_finals           B       40.0  ...   \n",
       "144      Bundesliga  Quarter_finals           B       90.0  ...   \n",
       "171      Bundesliga   Quarter_finals          B       58.0  ...   \n",
       "176  Premier League   Knockout_phase          D       20.0  ...   \n",
       "\n",
       "     Balls_recovered  Tackles_Won  Tackles_Lost  Saves  Goals_Conceded  \\\n",
       "3                 18            2             7      0               0   \n",
       "12                74           11            15      0               0   \n",
       "15                19            5             5      0               0   \n",
       "19                 9            3             3      0               0   \n",
       "37                20            3            11      0               0   \n",
       "75                14            1             5      0               0   \n",
       "134                7            0             1      0               0   \n",
       "144               10            2             6      0               0   \n",
       "171               24            3            11      0               0   \n",
       "176                6            0             2      0               0   \n",
       "\n",
       "     Clean_Sheets  MOTM_Awards  Minutes_played  Match_played  DNP  \n",
       "3               0            3            1225            14    0  \n",
       "12              0            2            1540            17    0  \n",
       "15              0            1            1101            13    1  \n",
       "19              0            1            1132            14    0  \n",
       "37              0            3            1104            12    2  \n",
       "75              0            2            1163            15    2  \n",
       "134             0            3            1084            14    0  \n",
       "144             0            3            1120            13    1  \n",
       "171             0            1            1033            14    0  \n",
       "176             0            0             771             9    1  \n",
       "\n",
       "[10 rows x 30 columns]"
      ],
      "text/html": [
       "<div>\n",
       "<style scoped>\n",
       "    .dataframe tbody tr th:only-of-type {\n",
       "        vertical-align: middle;\n",
       "    }\n",
       "\n",
       "    .dataframe tbody tr th {\n",
       "        vertical-align: top;\n",
       "    }\n",
       "\n",
       "    .dataframe thead th {\n",
       "        text-align: right;\n",
       "    }\n",
       "</style>\n",
       "<table border=\"1\" class=\"dataframe\">\n",
       "  <thead>\n",
       "    <tr style=\"text-align: right;\">\n",
       "      <th></th>\n",
       "      <th>PlayerID</th>\n",
       "      <th>Player</th>\n",
       "      <th>Position</th>\n",
       "      <th>Age</th>\n",
       "      <th>Nationality</th>\n",
       "      <th>Team</th>\n",
       "      <th>Competitions</th>\n",
       "      <th>Phase</th>\n",
       "      <th>Phase_Tier</th>\n",
       "      <th>Value10^6</th>\n",
       "      <th>...</th>\n",
       "      <th>Balls_recovered</th>\n",
       "      <th>Tackles_Won</th>\n",
       "      <th>Tackles_Lost</th>\n",
       "      <th>Saves</th>\n",
       "      <th>Goals_Conceded</th>\n",
       "      <th>Clean_Sheets</th>\n",
       "      <th>MOTM_Awards</th>\n",
       "      <th>Minutes_played</th>\n",
       "      <th>Match_played</th>\n",
       "      <th>DNP</th>\n",
       "    </tr>\n",
       "  </thead>\n",
       "  <tbody>\n",
       "    <tr>\n",
       "      <th>3</th>\n",
       "      <td>4</td>\n",
       "      <td>Raphinha</td>\n",
       "      <td>Forward</td>\n",
       "      <td>28</td>\n",
       "      <td>Brazil</td>\n",
       "      <td>Barcelona</td>\n",
       "      <td>La Liga</td>\n",
       "      <td>Semi_finals</td>\n",
       "      <td>A</td>\n",
       "      <td>80.0</td>\n",
       "      <td>...</td>\n",
       "      <td>18</td>\n",
       "      <td>2</td>\n",
       "      <td>7</td>\n",
       "      <td>0</td>\n",
       "      <td>0</td>\n",
       "      <td>0</td>\n",
       "      <td>3</td>\n",
       "      <td>1225</td>\n",
       "      <td>14</td>\n",
       "      <td>0</td>\n",
       "    </tr>\n",
       "    <tr>\n",
       "      <th>12</th>\n",
       "      <td>13</td>\n",
       "      <td>Hakimi</td>\n",
       "      <td>Defender</td>\n",
       "      <td>26</td>\n",
       "      <td>Morocco</td>\n",
       "      <td>Paris SG</td>\n",
       "      <td>Ligue 1</td>\n",
       "      <td>Final</td>\n",
       "      <td>S</td>\n",
       "      <td>60.0</td>\n",
       "      <td>...</td>\n",
       "      <td>74</td>\n",
       "      <td>11</td>\n",
       "      <td>15</td>\n",
       "      <td>0</td>\n",
       "      <td>0</td>\n",
       "      <td>0</td>\n",
       "      <td>2</td>\n",
       "      <td>1540</td>\n",
       "      <td>17</td>\n",
       "      <td>0</td>\n",
       "    </tr>\n",
       "    <tr>\n",
       "      <th>15</th>\n",
       "      <td>16</td>\n",
       "      <td>Yamal</td>\n",
       "      <td>Forward</td>\n",
       "      <td>17</td>\n",
       "      <td>Spain</td>\n",
       "      <td>Barcelona</td>\n",
       "      <td>La Liga</td>\n",
       "      <td>Semi_finals</td>\n",
       "      <td>A</td>\n",
       "      <td>180.0</td>\n",
       "      <td>...</td>\n",
       "      <td>19</td>\n",
       "      <td>5</td>\n",
       "      <td>5</td>\n",
       "      <td>0</td>\n",
       "      <td>0</td>\n",
       "      <td>0</td>\n",
       "      <td>1</td>\n",
       "      <td>1101</td>\n",
       "      <td>13</td>\n",
       "      <td>1</td>\n",
       "    </tr>\n",
       "    <tr>\n",
       "      <th>19</th>\n",
       "      <td>20</td>\n",
       "      <td>Kylian Mbappe</td>\n",
       "      <td>Forward</td>\n",
       "      <td>25</td>\n",
       "      <td>France</td>\n",
       "      <td>Real Madrid</td>\n",
       "      <td>La Liga</td>\n",
       "      <td>Quarter_finals</td>\n",
       "      <td>B</td>\n",
       "      <td>180.0</td>\n",
       "      <td>...</td>\n",
       "      <td>9</td>\n",
       "      <td>3</td>\n",
       "      <td>3</td>\n",
       "      <td>0</td>\n",
       "      <td>0</td>\n",
       "      <td>0</td>\n",
       "      <td>1</td>\n",
       "      <td>1132</td>\n",
       "      <td>14</td>\n",
       "      <td>0</td>\n",
       "    </tr>\n",
       "    <tr>\n",
       "      <th>37</th>\n",
       "      <td>38</td>\n",
       "      <td>Vinicius Jr</td>\n",
       "      <td>Forward</td>\n",
       "      <td>24</td>\n",
       "      <td>Brazil</td>\n",
       "      <td>Real Madrid</td>\n",
       "      <td>La Liga</td>\n",
       "      <td>Quarter_finals</td>\n",
       "      <td>B</td>\n",
       "      <td>200.0</td>\n",
       "      <td>...</td>\n",
       "      <td>20</td>\n",
       "      <td>3</td>\n",
       "      <td>11</td>\n",
       "      <td>0</td>\n",
       "      <td>0</td>\n",
       "      <td>0</td>\n",
       "      <td>3</td>\n",
       "      <td>1104</td>\n",
       "      <td>12</td>\n",
       "      <td>2</td>\n",
       "    </tr>\n",
       "    <tr>\n",
       "      <th>75</th>\n",
       "      <td>76</td>\n",
       "      <td>Dembele</td>\n",
       "      <td>Forward</td>\n",
       "      <td>27</td>\n",
       "      <td>France</td>\n",
       "      <td>Paris SG</td>\n",
       "      <td>Ligue 1</td>\n",
       "      <td>Final</td>\n",
       "      <td>S</td>\n",
       "      <td>75.0</td>\n",
       "      <td>...</td>\n",
       "      <td>14</td>\n",
       "      <td>1</td>\n",
       "      <td>5</td>\n",
       "      <td>0</td>\n",
       "      <td>0</td>\n",
       "      <td>0</td>\n",
       "      <td>2</td>\n",
       "      <td>1163</td>\n",
       "      <td>15</td>\n",
       "      <td>2</td>\n",
       "    </tr>\n",
       "    <tr>\n",
       "      <th>134</th>\n",
       "      <td>135</td>\n",
       "      <td>Guirassy</td>\n",
       "      <td>Forward</td>\n",
       "      <td>29</td>\n",
       "      <td>Nigeria</td>\n",
       "      <td>BVB Dortmund</td>\n",
       "      <td>Bundesliga</td>\n",
       "      <td>Quarter_finals</td>\n",
       "      <td>B</td>\n",
       "      <td>40.0</td>\n",
       "      <td>...</td>\n",
       "      <td>7</td>\n",
       "      <td>0</td>\n",
       "      <td>1</td>\n",
       "      <td>0</td>\n",
       "      <td>0</td>\n",
       "      <td>0</td>\n",
       "      <td>3</td>\n",
       "      <td>1084</td>\n",
       "      <td>14</td>\n",
       "      <td>0</td>\n",
       "    </tr>\n",
       "    <tr>\n",
       "      <th>144</th>\n",
       "      <td>145</td>\n",
       "      <td>Harry Kane</td>\n",
       "      <td>Forward</td>\n",
       "      <td>31</td>\n",
       "      <td>England</td>\n",
       "      <td>Bayern Munich</td>\n",
       "      <td>Bundesliga</td>\n",
       "      <td>Quarter_finals</td>\n",
       "      <td>B</td>\n",
       "      <td>90.0</td>\n",
       "      <td>...</td>\n",
       "      <td>10</td>\n",
       "      <td>2</td>\n",
       "      <td>6</td>\n",
       "      <td>0</td>\n",
       "      <td>0</td>\n",
       "      <td>0</td>\n",
       "      <td>3</td>\n",
       "      <td>1120</td>\n",
       "      <td>13</td>\n",
       "      <td>1</td>\n",
       "    </tr>\n",
       "    <tr>\n",
       "      <th>171</th>\n",
       "      <td>172</td>\n",
       "      <td>Olise</td>\n",
       "      <td>Forward</td>\n",
       "      <td>23</td>\n",
       "      <td>France</td>\n",
       "      <td>Bayern Munich</td>\n",
       "      <td>Bundesliga</td>\n",
       "      <td>Quarter_finals</td>\n",
       "      <td>B</td>\n",
       "      <td>58.0</td>\n",
       "      <td>...</td>\n",
       "      <td>24</td>\n",
       "      <td>3</td>\n",
       "      <td>11</td>\n",
       "      <td>0</td>\n",
       "      <td>0</td>\n",
       "      <td>0</td>\n",
       "      <td>1</td>\n",
       "      <td>1033</td>\n",
       "      <td>14</td>\n",
       "      <td>0</td>\n",
       "    </tr>\n",
       "    <tr>\n",
       "      <th>176</th>\n",
       "      <td>177</td>\n",
       "      <td>Haaland</td>\n",
       "      <td>Forward</td>\n",
       "      <td>24</td>\n",
       "      <td>Norway</td>\n",
       "      <td>Manchester City</td>\n",
       "      <td>Premier League</td>\n",
       "      <td>Knockout_phase</td>\n",
       "      <td>D</td>\n",
       "      <td>20.0</td>\n",
       "      <td>...</td>\n",
       "      <td>6</td>\n",
       "      <td>0</td>\n",
       "      <td>2</td>\n",
       "      <td>0</td>\n",
       "      <td>0</td>\n",
       "      <td>0</td>\n",
       "      <td>0</td>\n",
       "      <td>771</td>\n",
       "      <td>9</td>\n",
       "      <td>1</td>\n",
       "    </tr>\n",
       "  </tbody>\n",
       "</table>\n",
       "<p>10 rows × 30 columns</p>\n",
       "</div>"
      ]
     },
     "execution_count": 81,
     "metadata": {},
     "output_type": "execute_result"
    }
   ],
   "execution_count": 81
  },
  {
   "metadata": {
    "ExecuteTime": {
     "end_time": "2025-06-15T11:37:54.893972Z",
     "start_time": "2025-06-15T11:37:54.888074Z"
    }
   },
   "cell_type": "code",
   "source": "ucl['Goals_per_attempt'] = ucl['Goals'] / ucl['Total_attempts']",
   "id": "33a7d91eda2762cb",
   "outputs": [],
   "execution_count": 82
  },
  {
   "metadata": {
    "ExecuteTime": {
     "end_time": "2025-06-15T11:37:55.348959Z",
     "start_time": "2025-06-15T11:37:55.332053Z"
    }
   },
   "cell_type": "code",
   "source": "ucl[['Player','Age', 'Goals_per_attempt', 'Total_attempts', 'Goals']].sort_values(by='Goals', ascending=False).head(15)",
   "id": "e3c5648e6f577c8c",
   "outputs": [
    {
     "data": {
      "text/plain": [
       "               Player  Age  Goals_per_attempt  Total_attempts  Goals\n",
       "3            Raphinha   28           0.250000              52     13\n",
       "134          Guirassy   29           0.325000              40     13\n",
       "144        Harry Kane   31           0.224490              49     11\n",
       "2         Lewandowski   36           0.323529              34     11\n",
       "60   Lautaro Martinez   27           0.391304              23      9\n",
       "37        Vinicius Jr   24           0.190476              42      8\n",
       "75            Dembele   27           0.125000              64      8\n",
       "176           Haaland   24           0.210526              38      8\n",
       "51           Pavlidis   26           0.225806              31      7\n",
       "19      Kylian Mbappe   25           0.137255              51      7\n",
       "156    Jonathan David   25           0.350000              20      7\n",
       "41     Julian Alvarez   25           0.333333              21      7\n",
       "146   Viktor Gyokeres   26           0.240000              25      6\n",
       "181     Florian Wirtz   22           0.230769              26      6\n",
       "47          Griezmann   34           0.315789              19      6"
      ],
      "text/html": [
       "<div>\n",
       "<style scoped>\n",
       "    .dataframe tbody tr th:only-of-type {\n",
       "        vertical-align: middle;\n",
       "    }\n",
       "\n",
       "    .dataframe tbody tr th {\n",
       "        vertical-align: top;\n",
       "    }\n",
       "\n",
       "    .dataframe thead th {\n",
       "        text-align: right;\n",
       "    }\n",
       "</style>\n",
       "<table border=\"1\" class=\"dataframe\">\n",
       "  <thead>\n",
       "    <tr style=\"text-align: right;\">\n",
       "      <th></th>\n",
       "      <th>Player</th>\n",
       "      <th>Age</th>\n",
       "      <th>Goals_per_attempt</th>\n",
       "      <th>Total_attempts</th>\n",
       "      <th>Goals</th>\n",
       "    </tr>\n",
       "  </thead>\n",
       "  <tbody>\n",
       "    <tr>\n",
       "      <th>3</th>\n",
       "      <td>Raphinha</td>\n",
       "      <td>28</td>\n",
       "      <td>0.250000</td>\n",
       "      <td>52</td>\n",
       "      <td>13</td>\n",
       "    </tr>\n",
       "    <tr>\n",
       "      <th>134</th>\n",
       "      <td>Guirassy</td>\n",
       "      <td>29</td>\n",
       "      <td>0.325000</td>\n",
       "      <td>40</td>\n",
       "      <td>13</td>\n",
       "    </tr>\n",
       "    <tr>\n",
       "      <th>144</th>\n",
       "      <td>Harry Kane</td>\n",
       "      <td>31</td>\n",
       "      <td>0.224490</td>\n",
       "      <td>49</td>\n",
       "      <td>11</td>\n",
       "    </tr>\n",
       "    <tr>\n",
       "      <th>2</th>\n",
       "      <td>Lewandowski</td>\n",
       "      <td>36</td>\n",
       "      <td>0.323529</td>\n",
       "      <td>34</td>\n",
       "      <td>11</td>\n",
       "    </tr>\n",
       "    <tr>\n",
       "      <th>60</th>\n",
       "      <td>Lautaro Martinez</td>\n",
       "      <td>27</td>\n",
       "      <td>0.391304</td>\n",
       "      <td>23</td>\n",
       "      <td>9</td>\n",
       "    </tr>\n",
       "    <tr>\n",
       "      <th>37</th>\n",
       "      <td>Vinicius Jr</td>\n",
       "      <td>24</td>\n",
       "      <td>0.190476</td>\n",
       "      <td>42</td>\n",
       "      <td>8</td>\n",
       "    </tr>\n",
       "    <tr>\n",
       "      <th>75</th>\n",
       "      <td>Dembele</td>\n",
       "      <td>27</td>\n",
       "      <td>0.125000</td>\n",
       "      <td>64</td>\n",
       "      <td>8</td>\n",
       "    </tr>\n",
       "    <tr>\n",
       "      <th>176</th>\n",
       "      <td>Haaland</td>\n",
       "      <td>24</td>\n",
       "      <td>0.210526</td>\n",
       "      <td>38</td>\n",
       "      <td>8</td>\n",
       "    </tr>\n",
       "    <tr>\n",
       "      <th>51</th>\n",
       "      <td>Pavlidis</td>\n",
       "      <td>26</td>\n",
       "      <td>0.225806</td>\n",
       "      <td>31</td>\n",
       "      <td>7</td>\n",
       "    </tr>\n",
       "    <tr>\n",
       "      <th>19</th>\n",
       "      <td>Kylian Mbappe</td>\n",
       "      <td>25</td>\n",
       "      <td>0.137255</td>\n",
       "      <td>51</td>\n",
       "      <td>7</td>\n",
       "    </tr>\n",
       "    <tr>\n",
       "      <th>156</th>\n",
       "      <td>Jonathan David</td>\n",
       "      <td>25</td>\n",
       "      <td>0.350000</td>\n",
       "      <td>20</td>\n",
       "      <td>7</td>\n",
       "    </tr>\n",
       "    <tr>\n",
       "      <th>41</th>\n",
       "      <td>Julian Alvarez</td>\n",
       "      <td>25</td>\n",
       "      <td>0.333333</td>\n",
       "      <td>21</td>\n",
       "      <td>7</td>\n",
       "    </tr>\n",
       "    <tr>\n",
       "      <th>146</th>\n",
       "      <td>Viktor Gyokeres</td>\n",
       "      <td>26</td>\n",
       "      <td>0.240000</td>\n",
       "      <td>25</td>\n",
       "      <td>6</td>\n",
       "    </tr>\n",
       "    <tr>\n",
       "      <th>181</th>\n",
       "      <td>Florian Wirtz</td>\n",
       "      <td>22</td>\n",
       "      <td>0.230769</td>\n",
       "      <td>26</td>\n",
       "      <td>6</td>\n",
       "    </tr>\n",
       "    <tr>\n",
       "      <th>47</th>\n",
       "      <td>Griezmann</td>\n",
       "      <td>34</td>\n",
       "      <td>0.315789</td>\n",
       "      <td>19</td>\n",
       "      <td>6</td>\n",
       "    </tr>\n",
       "  </tbody>\n",
       "</table>\n",
       "</div>"
      ]
     },
     "execution_count": 83,
     "metadata": {},
     "output_type": "execute_result"
    }
   ],
   "execution_count": 83
  },
  {
   "metadata": {
    "ExecuteTime": {
     "end_time": "2025-06-15T11:37:55.945568Z",
     "start_time": "2025-06-15T11:37:55.810407Z"
    }
   },
   "cell_type": "code",
   "source": [
    "plt.figure(figsize=(12, 6))\n",
    "sns.boxplot(x='Position', y='Total_attempts', data=ucl, hue='Position')\n",
    "plt.title('Boxplot of Rating by Position')\n",
    "plt.xlabel('Position')\n",
    "plt.ylabel('Total_attempts')\n",
    "plt.show()"
   ],
   "id": "20c5b0b0b59f2932",
   "outputs": [
    {
     "data": {
      "text/plain": [
       "<Figure size 1200x600 with 1 Axes>"
      ],
      "image/png": "[encoded data removed]"
     },
     "metadata": {},
     "output_type": "display_data"
    }
   ],
   "execution_count": 84
  },
  {
   "metadata": {
    "ExecuteTime": {
     "end_time": "2025-06-15T11:39:22.745559Z",
     "start_time": "2025-06-15T11:39:22.657941Z"
    }
   },
   "cell_type": "code",
   "source": [
    "top10_value = ucl.sort_values('Value10^6', ascending=False).head(10)\n",
    "\n",
    "fig2 = px.box(\n",
    "    ucl,\n",
    "    x='Position',\n",
    "    y='Value10^6',\n",
    "    color='Position',\n",
    "    points='all',\n",
    "    title='Shpërndarja e Vlerës së Tregut sipas Pozicionit',\n",
    "    labels={'Value10^6': 'Value €', 'Position': 'Position⚽'}\n",
    ")\n",
    "fig2.update_layout(showlegend=False)\n",
    "fig2.show()"
   ],
   "id": "69ea6dfe3f204251",
   "outputs": [
    {
     "data": {
      "application/vnd.plotly.v1+json": {
       "data": [
        {
         "alignmentgroup": "True",
         "boxpoints": "all",
         "hovertemplate": "Position⚽=%{x}<br>Value €=%{y}<extra></extra>",
         "legendgroup": "Defender",
         "marker": {
          "color": "#636efa"
         },
         "name": "Defender",
         "notched": false,
         "offsetgroup": "Defender",
         "orientation": "v",
         "showlegend": true,
         "x": [
          "Defender",
          "Defender",
          "Defender",
          "Defender",
          "Defender",
          "Defender",
          "Defender",
          "Defender",
          "Defender",
          "Defender",
          "Defender",
          "Defender",
          "Defender",
          "Defender",
          "Defender",
          "Defender",
          "Defender",
          "Defender",
          "Defender",
          "Defender",
          "Defender",
          "Defender",
          "Defender",
          "Defender",
          "Defender",
          "Defender",
          "Defender",
          "Defender",
          "Defender",
          "Defender",
          "Defender",
          "Defender",
          "Defender",
          "Defender",
          "Defender",
          "Defender",
          "Defender",
          "Defender",
          "Defender",
          "Defender",
          "Defender",
          "Defender",
          "Defender",
          "Defender",
          "Defender",
          "Defender",
          "Defender",
          "Defender",
          "Defender",
          "Defender",
          "Defender",
          "Defender",
          "Defender",
          "Defender",
          "Defender",
          "Defender",
          "Defender",
          "Defender",
          "Defender",
          "Defender"
         ],
         "x0": " ",
         "xaxis": "x",
         "y": {
          "dtype": "f8",
          "bdata": "AAAAAAAAREAAAAAAAABJQAAAAAAAAPA/AAAAAAAAJEAAAAAAAABOQAAAAAAAAElAAAAAAAAAREAAAAAAAAAcQAAAAAAAADlAAAAAAAAATkAAAAAAAAAoQAAAAAAAAD5AAAAAAAAATkAAAAAAAAAwQAAAAAAAAElAAAAAAAAAVEAAAAAAAIBHQAAAAAAAgEFAAAAAAAAAHEAAAAAAAAA0QAAAAAAAADRAAAAAAAAAPkAAAAAAAAA0QAAAAAAAAEtAAAAAAAAALkAAAAAAAABJQAAAAAAAAChAAAAAAAAAFEAAAAAAAAA8QAAAAAAAAElAAAAAAAAAQEAAAAAAAABEQAAAAAAAACRAAAAAAAAAMEAAAAAAAAA5QAAAAAAAACRAAAAAAAAAPkAAAAAAAMBSQAAAAAAAgEZAAAAAAAAAPEAAAAAAAAA5QAAAAAAAgEtAAAAAAAAAPEAAAAAAAIBGQAAAAAAAgEZAAAAAAAAATkAAAAAAAAAIQAAAAAAAADRAAAAAAAAAREAAAAAAAABJQAAAAAAAAFRAAAAAAAAAN0AAAAAAAAAyQAAAAAAAADlAAAAAAAAAHEAAAAAAAAA5QAAAAAAAAABAAAAAAAAATkAAAAAAAAAAQAAAAAAAADJA"
         },
         "y0": " ",
         "yaxis": "y",
         "type": "box"
        },
        {
         "alignmentgroup": "True",
         "boxpoints": "all",
         "hovertemplate": "Position⚽=%{x}<br>Value €=%{y}<extra></extra>",
         "legendgroup": "Midfielder",
         "marker": {
          "color": "#EF553B"
         },
         "name": "Midfielder",
         "notched": false,
         "offsetgroup": "Midfielder",
         "orientation": "v",
         "showlegend": true,
         "x": [
          "Midfielder",
          "Midfielder",
          "Midfielder",
          "Midfielder",
          "Midfielder",
          "Midfielder",
          "Midfielder",
          "Midfielder",
          "Midfielder",
          "Midfielder",
          "Midfielder",
          "Midfielder",
          "Midfielder",
          "Midfielder",
          "Midfielder",
          "Midfielder",
          "Midfielder",
          "Midfielder",
          "Midfielder",
          "Midfielder",
          "Midfielder",
          "Midfielder",
          "Midfielder",
          "Midfielder",
          "Midfielder",
          "Midfielder",
          "Midfielder",
          "Midfielder",
          "Midfielder",
          "Midfielder",
          "Midfielder",
          "Midfielder",
          "Midfielder",
          "Midfielder",
          "Midfielder",
          "Midfielder",
          "Midfielder",
          "Midfielder",
          "Midfielder",
          "Midfielder",
          "Midfielder",
          "Midfielder",
          "Midfielder",
          "Midfielder",
          "Midfielder",
          "Midfielder",
          "Midfielder",
          "Midfielder",
          "Midfielder",
          "Midfielder",
          "Midfielder",
          "Midfielder",
          "Midfielder",
          "Midfielder",
          "Midfielder",
          "Midfielder",
          "Midfielder",
          "Midfielder",
          "Midfielder",
          "Midfielder",
          "Midfielder",
          "Midfielder",
          "Midfielder",
          "Midfielder",
          "Midfielder",
          "Midfielder"
         ],
         "x0": " ",
         "xaxis": "x",
         "y": {
          "dtype": "f8",
          "bdata": "AAAAAAAAVEAAAAAAAABZQAAAAAAAABxAAAAAAACAQUAAAAAAAAA8QAAAAAAAADZAAAAAAAAAVEAAAAAAAAA6QAAAAAAAAElAAAAAAAAASUAAAAAAAAA0QAAAAAAAAENAAAAAAAAASUAAAAAAAABUQAAAAAAAABRAAAAAAAAANkAAAAAAAAAUQAAAAAAAADxAAAAAAAAAHEAAAAAAAAAcQAAAAAAAAEZAAAAAAAAAQEAAAAAAAAAQQAAAAAAAABxAAAAAAAAAKkAAAAAAAAAYQAAAAAAAADxAAAAAAAAAOUAAAAAAAABOQAAAAAAAABxAAAAAAAAAJkAAAAAAAAA0QAAAAAAAADdAAAAAAAAAVEAAAAAAAIBBQAAAAAAAgEFAAAAAAAAAQ0AAAAAAAABAQAAAAAAAAChAAAAAAAAAPkAAAAAAAAA5QAAAAAAAADFAAAAAAAAAPkAAAAAAAAAYQAAAAAAAgEZAAAAAAAAASUAAAAAAAAAuQAAAAAAAADxAAAAAAACAUUAAAAAAAABOQAAAAAAAAGRAAAAAAAAASUAAAAAAAIBhQAAAAAAAgEFAAAAAAAAANkAAAAAAAAA5QAAAAAAAAElAAAAAAAAAMEAAAAAAAIBBQAAAAAAAQGBAAAAAAAAAPkAAAAAAAAA5QAAAAAAAAEBAAAAAAAAACEAAAAAAAIBBQAAAAAAAAERA"
         },
         "y0": " ",
         "yaxis": "y",
         "type": "box"
        },
        {
         "alignmentgroup": "True",
         "boxpoints": "all",
         "hovertemplate": "Position⚽=%{x}<br>Value €=%{y}<extra></extra>",
         "legendgroup": "Forward",
         "marker": {
          "color": "#00cc96"
         },
         "name": "Forward",
         "notched": false,
         "offsetgroup": "Forward",
         "orientation": "v",
         "showlegend": true,
         "x": [
          "Forward",
          "Forward",
          "Forward",
          "Forward",
          "Forward",
          "Forward",
          "Forward",
          "Forward",
          "Forward",
          "Forward",
          "Forward",
          "Forward",
          "Forward",
          "Forward",
          "Forward",
          "Forward",
          "Forward",
          "Forward",
          "Forward",
          "Forward",
          "Forward",
          "Forward",
          "Forward",
          "Forward",
          "Forward",
          "Forward",
          "Forward",
          "Forward",
          "Forward",
          "Forward",
          "Forward",
          "Forward",
          "Forward",
          "Forward",
          "Forward",
          "Forward",
          "Forward",
          "Forward",
          "Forward",
          "Forward",
          "Forward",
          "Forward",
          "Forward",
          "Forward",
          "Forward",
          "Forward",
          "Forward",
          "Forward",
          "Forward",
          "Forward",
          "Forward",
          "Forward",
          "Forward",
          "Forward",
          "Forward",
          "Forward",
          "Forward",
          "Forward",
          "Forward",
          "Forward",
          "Forward",
          "Forward",
          "Forward",
          "Forward"
         ],
         "x0": " ",
         "xaxis": "x",
         "y": {
          "dtype": "f8",
          "bdata": "AAAAAAAALkAAAAAAAABUQAAAAAAAgGZAAAAAAACARkAAAAAAAAA5QAAAAAAAgEFAAAAAAAAASUAAAAAAAIBmQAAAAAAAgGZAAAAAAACAUUAAAAAAAAAoQAAAAAAAAFRAAAAAAACAS0AAAAAAAAA5QAAAAAAAAGlAAAAAAACAVkAAAAAAAAAyQAAAAAAAABRAAAAAAAAANkAAAAAAAIBCQAAAAAAAADxAAAAAAADAYkAAAAAAAABZQAAAAAAAAAhAAAAAAABAUEAAAAAAAAAuQAAAAAAAgFFAAAAAAADAUkAAAAAAAAAoQAAAAAAAgEZAAAAAAACARkAAAAAAAAA+QAAAAAAAwFJAAAAAAADAYkAAAAAAAIBGQAAAAAAAAE5AAAAAAACAQUAAAAAAAAAxQAAAAAAAAERAAAAAAACAS0AAAAAAAAA5QAAAAAAAADZAAAAAAACAS0AAAAAAAABEQAAAAAAAAAhAAAAAAAAAWUAAAAAAAABCQAAAAAAAgFZAAAAAAADAUkAAAAAAAMBSQAAAAAAAAE1AAAAAAACARkAAAAAAAAA8QAAAAAAAAElAAAAAAAAASUAAAAAAAMBiQAAAAAAAAE1AAAAAAAAAGEAAAAAAAAA0QAAAAAAAAAhAAAAAAAAAOUAAAAAAAEBVQAAAAAAAAPA/AAAAAAAAKEA="
         },
         "y0": " ",
         "yaxis": "y",
         "type": "box"
        },
        {
         "alignmentgroup": "True",
         "boxpoints": "all",
         "hovertemplate": "Position⚽=%{x}<br>Value €=%{y}<extra></extra>",
         "legendgroup": "Goalkeeper",
         "marker": {
          "color": "#ab63fa"
         },
         "name": "Goalkeeper",
         "notched": false,
         "offsetgroup": "Goalkeeper",
         "orientation": "v",
         "showlegend": true,
         "x": [
          "Goalkeeper",
          "Goalkeeper",
          "Goalkeeper",
          "Goalkeeper",
          "Goalkeeper",
          "Goalkeeper",
          "Goalkeeper",
          "Goalkeeper",
          "Goalkeeper",
          "Goalkeeper",
          "Goalkeeper",
          "Goalkeeper",
          "Goalkeeper",
          "Goalkeeper",
          "Goalkeeper",
          "Goalkeeper",
          "Goalkeeper",
          "Goalkeeper",
          "Goalkeeper",
          "Goalkeeper"
         ],
         "x0": " ",
         "xaxis": "x",
         "y": {
          "dtype": "f8",
          "bdata": "AAAAAAAACEAAAAAAAAA+QAAAAAAAADlAAAAAAACAQUAAAAAAAIBBQAAAAAAAgEBAAAAAAAAAOUAAAAAAAAAYQAAAAAAAgEFAAAAAAAAAFEAAAAAAAAAyQAAAAAAAADlAAAAAAAAAHEAAAAAAAAA5QAAAAAAAAPA/AAAAAAAA8D8AAAAAAAAYQAAAAAAAAABAAAAAAAAA6D8AAAAAAAAIQA=="
         },
         "y0": " ",
         "yaxis": "y",
         "type": "box"
        }
       ],
       "layout": {
        "template": {
         "data": {
          "histogram2dcontour": [
           {
            "type": "histogram2dcontour",
            "colorbar": {
             "outlinewidth": 0,
             "ticks": ""
            },
            "colorscale": [
             [
              0.0,
              "#0d0887"
             ],
             [
              0.1111111111111111,
              "#46039f"
             ],
             [
              0.2222222222222222,
              "#7201a8"
             ],
             [
              0.3333333333333333,
              "#9c179e"
             ],
             [
              0.4444444444444444,
              "#bd3786"
             ],
             [
              0.5555555555555556,
              "#d8576b"
             ],
             [
              0.6666666666666666,
              "#ed7953"
             ],
             [
              0.7777777777777778,
              "#fb9f3a"
             ],
             [
              0.8888888888888888,
              "#fdca26"
             ],
             [
              1.0,
              "#f0f921"
             ]
            ]
           }
          ],
          "choropleth": [
           {
            "type": "choropleth",
            "colorbar": {
             "outlinewidth": 0,
             "ticks": ""
            }
           }
          ],
          "histogram2d": [
           {
            "type": "histogram2d",
            "colorbar": {
             "outlinewidth": 0,
             "ticks": ""
            },
            "colorscale": [
             [
              0.0,
              "#0d0887"
             ],
             [
              0.1111111111111111,
              "#46039f"
             ],
             [
              0.2222222222222222,
              "#7201a8"
             ],
             [
              0.3333333333333333,
              "#9c179e"
             ],
             [
              0.4444444444444444,
              "#bd3786"
             ],
             [
              0.5555555555555556,
              "#d8576b"
             ],
             [
              0.6666666666666666,
              "#ed7953"
             ],
             [
              0.7777777777777778,
              "#fb9f3a"
             ],
             [
              0.8888888888888888,
              "#fdca26"
             ],
             [
              1.0,
              "#f0f921"
             ]
            ]
           }
          ],
          "heatmap": [
           {
            "type": "heatmap",
            "colorbar": {
             "outlinewidth": 0,
             "ticks": ""
            },
            "colorscale": [
             [
              0.0,
              "#0d0887"
             ],
             [
              0.1111111111111111,
              "#46039f"
             ],
             [
              0.2222222222222222,
              "#7201a8"
             ],
             [
              0.3333333333333333,
              "#9c179e"
             ],
             [
              0.4444444444444444,
              "#bd3786"
             ],
             [
              0.5555555555555556,
              "#d8576b"
             ],
             [
              0.6666666666666666,
              "#ed7953"
             ],
             [
              0.7777777777777778,
              "#fb9f3a"
             ],
             [
              0.8888888888888888,
              "#fdca26"
             ],
             [
              1.0,
              "#f0f921"
             ]
            ]
           }
          ],
          "contourcarpet": [
           {
            "type": "contourcarpet",
            "colorbar": {
             "outlinewidth": 0,
             "ticks": ""
            }
           }
          ],
          "contour": [
           {
            "type": "contour",
            "colorbar": {
             "outlinewidth": 0,
             "ticks": ""
            },
            "colorscale": [
             [
              0.0,
              "#0d0887"
             ],
             [
              0.1111111111111111,
              "#46039f"
             ],
             [
              0.2222222222222222,
              "#7201a8"
             ],
             [
              0.3333333333333333,
              "#9c179e"
             ],
             [
              0.4444444444444444,
              "#bd3786"
             ],
             [
              0.5555555555555556,
              "#d8576b"
             ],
             [
              0.6666666666666666,
              "#ed7953"
             ],
             [
              0.7777777777777778,
              "#fb9f3a"
             ],
             [
              0.8888888888888888,
              "#fdca26"
             ],
             [
              1.0,
              "#f0f921"
             ]
            ]
           }
          ],
          "surface": [
           {
            "type": "surface",
            "colorbar": {
             "outlinewidth": 0,
             "ticks": ""
            },
            "colorscale": [
             [
              0.0,
              "#0d0887"
             ],
             [
              0.1111111111111111,
              "#46039f"
             ],
             [
              0.2222222222222222,
              "#7201a8"
             ],
             [
              0.3333333333333333,
              "#9c179e"
             ],
             [
              0.4444444444444444,
              "#bd3786"
             ],
             [
              0.5555555555555556,
              "#d8576b"
             ],
             [
              0.6666666666666666,
              "#ed7953"
             ],
             [
              0.7777777777777778,
              "#fb9f3a"
             ],
             [
              0.8888888888888888,
              "#fdca26"
             ],
             [
              1.0,
              "#f0f921"
             ]
            ]
           }
          ],
          "mesh3d": [
           {
            "type": "mesh3d",
            "colorbar": {
             "outlinewidth": 0,
             "ticks": ""
            }
           }
          ],
          "scatter": [
           {
            "fillpattern": {
             "fillmode": "overlay",
             "size": 10,
             "solidity": 0.2
            },
            "type": "scatter"
           }
          ],
          "parcoords": [
           {
            "type": "parcoords",
            "line": {
             "colorbar": {
              "outlinewidth": 0,
              "ticks": ""
             }
            }
           }
          ],
          "scatterpolargl": [
           {
            "type": "scatterpolargl",
            "marker": {
             "colorbar": {
              "outlinewidth": 0,
              "ticks": ""
             }
            }
           }
          ],
          "bar": [
           {
            "error_x": {
             "color": "#2a3f5f"
            },
            "error_y": {
             "color": "#2a3f5f"
            },
            "marker": {
             "line": {
              "color": "#E5ECF6",
              "width": 0.5
             },
             "pattern": {
              "fillmode": "overlay",
              "size": 10,
              "solidity": 0.2
             }
            },
            "type": "bar"
           }
          ],
          "scattergeo": [
           {
            "type": "scattergeo",
            "marker": {
             "colorbar": {
              "outlinewidth": 0,
              "ticks": ""
             }
            }
           }
          ],
          "scatterpolar": [
           {
            "type": "scatterpolar",
            "marker": {
             "colorbar": {
              "outlinewidth": 0,
              "ticks": ""
             }
            }
           }
          ],
          "histogram": [
           {
            "marker": {
             "pattern": {
              "fillmode": "overlay",
              "size": 10,
              "solidity": 0.2
             }
            },
            "type": "histogram"
           }
          ],
          "scattergl": [
           {
            "type": "scattergl",
            "marker": {
             "colorbar": {
              "outlinewidth": 0,
              "ticks": ""
             }
            }
           }
          ],
          "scatter3d": [
           {
            "type": "scatter3d",
            "line": {
             "colorbar": {
              "outlinewidth": 0,
              "ticks": ""
             }
            },
            "marker": {
             "colorbar": {
              "outlinewidth": 0,
              "ticks": ""
             }
            }
           }
          ],
          "scattermap": [
           {
            "type": "scattermap",
            "marker": {
             "colorbar": {
              "outlinewidth": 0,
              "ticks": ""
             }
            }
           }
          ],
          "scattermapbox": [
           {
            "type": "scattermapbox",
            "marker": {
             "colorbar": {
              "outlinewidth": 0,
              "ticks": ""
             }
            }
           }
          ],
          "scatterternary": [
           {
            "type": "scatterternary",
            "marker": {
             "colorbar": {
              "outlinewidth": 0,
              "ticks": ""
             }
            }
           }
          ],
          "scattercarpet": [
           {
            "type": "scattercarpet",
            "marker": {
             "colorbar": {
              "outlinewidth": 0,
              "ticks": ""
             }
            }
           }
          ],
          "carpet": [
           {
            "aaxis": {
             "endlinecolor": "#2a3f5f",
             "gridcolor": "white",
             "linecolor": "white",
             "minorgridcolor": "white",
             "startlinecolor": "#2a3f5f"
            },
            "baxis": {
             "endlinecolor": "#2a3f5f",
             "gridcolor": "white",
             "linecolor": "white",
             "minorgridcolor": "white",
             "startlinecolor": "#2a3f5f"
            },
            "type": "carpet"
           }
          ],
          "table": [
           {
            "cells": {
             "fill": {
              "color": "#EBF0F8"
             },
             "line": {
              "color": "white"
             }
            },
            "header": {
             "fill": {
              "color": "#C8D4E3"
             },
             "line": {
              "color": "white"
             }
            },
            "type": "table"
           }
          ],
          "barpolar": [
           {
            "marker": {
             "line": {
              "color": "#E5ECF6",
              "width": 0.5
             },
             "pattern": {
              "fillmode": "overlay",
              "size": 10,
              "solidity": 0.2
             }
            },
            "type": "barpolar"
           }
          ],
          "pie": [
           {
            "automargin": true,
            "type": "pie"
           }
          ]
         },
         "layout": {
          "autotypenumbers": "strict",
          "colorway": [
           "#636efa",
           "#EF553B",
           "#00cc96",
           "#ab63fa",
           "#FFA15A",
           "#19d3f3",
           "#FF6692",
           "#B6E880",
           "#FF97FF",
           "#FECB52"
          ],
          "font": {
           "color": "#2a3f5f"
          },
          "hovermode": "closest",
          "hoverlabel": {
           "align": "left"
          },
          "paper_bgcolor": "white",
          "plot_bgcolor": "#E5ECF6",
          "polar": {
           "bgcolor": "#E5ECF6",
           "angularaxis": {
            "gridcolor": "white",
            "linecolor": "white",
            "ticks": ""
           },
           "radialaxis": {
            "gridcolor": "white",
            "linecolor": "white",
            "ticks": ""
           }
          },
          "ternary": {
           "bgcolor": "#E5ECF6",
           "aaxis": {
            "gridcolor": "white",
            "linecolor": "white",
            "ticks": ""
           },
           "baxis": {
            "gridcolor": "white",
            "linecolor": "white",
            "ticks": ""
           },
           "caxis": {
            "gridcolor": "white",
            "linecolor": "white",
            "ticks": ""
           }
          },
          "coloraxis": {
           "colorbar": {
            "outlinewidth": 0,
            "ticks": ""
           }
          },
          "colorscale": {
           "sequential": [
            [
             0.0,
             "#0d0887"
            ],
            [
             0.1111111111111111,
             "#46039f"
            ],
            [
             0.2222222222222222,
             "#7201a8"
            ],
            [
             0.3333333333333333,
             "#9c179e"
            ],
            [
             0.4444444444444444,
             "#bd3786"
            ],
            [
             0.5555555555555556,
             "#d8576b"
            ],
            [
             0.6666666666666666,
             "#ed7953"
            ],
            [
             0.7777777777777778,
             "#fb9f3a"
            ],
            [
             0.8888888888888888,
             "#fdca26"
            ],
            [
             1.0,
             "#f0f921"
            ]
           ],
           "sequentialminus": [
            [
             0.0,
             "#0d0887"
            ],
            [
             0.1111111111111111,
             "#46039f"
            ],
            [
             0.2222222222222222,
             "#7201a8"
            ],
            [
             0.3333333333333333,
             "#9c179e"
            ],
            [
             0.4444444444444444,
             "#bd3786"
            ],
            [
             0.5555555555555556,
             "#d8576b"
            ],
            [
             0.6666666666666666,
             "#ed7953"
            ],
            [
             0.7777777777777778,
             "#fb9f3a"
            ],
            [
             0.8888888888888888,
             "#fdca26"
            ],
            [
             1.0,
             "#f0f921"
            ]
           ],
           "diverging": [
            [
             0,
             "#8e0152"
            ],
            [
             0.1,
             "#c51b7d"
            ],
            [
             0.2,
             "#de77ae"
            ],
            [
             0.3,
             "#f1b6da"
            ],
            [
             0.4,
             "#fde0ef"
            ],
            [
             0.5,
             "#f7f7f7"
            ],
            [
             0.6,
             "#e6f5d0"
            ],
            [
             0.7,
             "#b8e186"
            ],
            [
             0.8,
             "#7fbc41"
            ],
            [
             0.9,
             "#4d9221"
            ],
            [
             1,
             "#276419"
            ]
           ]
          },
          "xaxis": {
           "gridcolor": "white",
           "linecolor": "white",
           "ticks": "",
           "title": {
            "standoff": 15
           },
           "zerolinecolor": "white",
           "automargin": true,
           "zerolinewidth": 2
          },
          "yaxis": {
           "gridcolor": "white",
           "linecolor": "white",
           "ticks": "",
           "title": {
            "standoff": 15
           },
           "zerolinecolor": "white",
           "automargin": true,
           "zerolinewidth": 2
          },
          "scene": {
           "xaxis": {
            "backgroundcolor": "#E5ECF6",
            "gridcolor": "white",
            "linecolor": "white",
            "showbackground": true,
            "ticks": "",
            "zerolinecolor": "white",
            "gridwidth": 2
           },
           "yaxis": {
            "backgroundcolor": "#E5ECF6",
            "gridcolor": "white",
            "linecolor": "white",
            "showbackground": true,
            "ticks": "",
            "zerolinecolor": "white",
            "gridwidth": 2
           },
           "zaxis": {
            "backgroundcolor": "#E5ECF6",
            "gridcolor": "white",
            "linecolor": "white",
            "showbackground": true,
            "ticks": "",
            "zerolinecolor": "white",
            "gridwidth": 2
           }
          },
          "shapedefaults": {
           "line": {
            "color": "#2a3f5f"
           }
          },
          "annotationdefaults": {
           "arrowcolor": "#2a3f5f",
           "arrowhead": 0,
           "arrowwidth": 1
          },
          "geo": {
           "bgcolor": "white",
           "landcolor": "#E5ECF6",
           "subunitcolor": "white",
           "showland": true,
           "showlakes": true,
           "lakecolor": "white"
          },
          "title": {
           "x": 0.05
          },
          "mapbox": {
           "style": "light"
          }
         }
        },
        "xaxis": {
         "anchor": "y",
         "domain": [
          0.0,
          1.0
         ],
         "title": {
          "text": "Position⚽"
         },
         "categoryorder": "array",
         "categoryarray": [
          "Defender",
          "Midfielder",
          "Forward",
          "Goalkeeper"
         ]
        },
        "yaxis": {
         "anchor": "x",
         "domain": [
          0.0,
          1.0
         ],
         "title": {
          "text": "Value €"
         }
        },
        "legend": {
         "title": {
          "text": "Position⚽"
         },
         "tracegroupgap": 0
        },
        "title": {
         "text": "Shpërndarja e Vlerës së Tregut sipas Pozicionit"
        },
        "boxmode": "overlay",
        "showlegend": false
       },
       "config": {
        "plotlyServerURL": "https://plot.ly"
       }
      }
     },
     "metadata": {},
     "output_type": "display_data"
    }
   ],
   "execution_count": 89
  }
 ],
 "metadata": {
  "kernelspec": {
   "display_name": "Python 3",
   "language": "python",
   "name": "python3"
  },
  "language_info": {
   "codemirror_mode": {
    "name": "ipython",
    "version": 2
   },
   "file_extension": ".py",
   "mimetype": "text/x-python",
   "name": "python",
   "nbconvert_exporter": "python",
   "pygments_lexer": "ipython2",
   "version": "2.7.6"
  }
 },
 "nbformat": 4,
 "nbformat_minor": 5
}
