{
 "cells": [
  {
   "cell_type": "code",
   "id": "initial_id",
   "metadata": {
    "collapsed": true,
    "ExecuteTime": {
     "end_time": "2025-06-12T15:23:11.862340Z",
     "start_time": "2025-06-12T15:23:11.146333Z"
    }
   },
   "source": [
    "import pandas as pd\n",
    "import numpy as np\n",
    "import plotly.express as px\n",
    "import seaborn as sns\n",
    "import matplotlib.pyplot as plt\n",
    "from requests.compat import basestring"
   ],
   "outputs": [],
   "execution_count": 1
  },
  {
   "metadata": {
    "ExecuteTime": {
     "end_time": "2025-06-12T15:23:13.313251Z",
     "start_time": "2025-06-12T15:23:12.793297Z"
    }
   },
   "cell_type": "code",
   "source": "ucl = pd.read_excel('UCL_playerstats_orig.xlsx')",
   "id": "6b3cbda453c07ce6",
   "outputs": [],
   "execution_count": 2
  },
  {
   "metadata": {},
   "cell_type": "markdown",
   "source": "#### Treemap: Goals by Team and Position",
   "id": "852abda4e35a4e71"
  },
  {
   "metadata": {
    "ExecuteTime": {
     "end_time": "2025-06-12T15:23:15.370120Z",
     "start_time": "2025-06-12T15:23:15.358412Z"
    }
   },
   "cell_type": "code",
   "source": "team_position_goals = ucl.groupby(['Team','Position'])['Goals'].sum().reset_index()",
   "id": "7a94098096aa46f3",
   "outputs": [],
   "execution_count": 3
  },
  {
   "metadata": {
    "ExecuteTime": {
     "end_time": "2025-06-12T15:23:15.813116Z",
     "start_time": "2025-06-12T15:23:15.804789Z"
    }
   },
   "cell_type": "code",
   "source": [
    "ucl['Team'] =  ucl['Team'].str.strip(\" \")\n",
    "ucl['Competitions'] = ucl['Competitions'].str.strip(\" \")"
   ],
   "id": "ec3a35b0aeffdc9a",
   "outputs": [],
   "execution_count": 4
  },
  {
   "metadata": {
    "ExecuteTime": {
     "end_time": "2025-06-12T15:23:16.793329Z",
     "start_time": "2025-06-12T15:23:16.140003Z"
    }
   },
   "cell_type": "code",
   "source": [
    "fig = px.treemap(\n",
    "    team_position_goals,\n",
    "    path=['Team', 'Position'],\n",
    "    values='Goals',\n",
    "    title='Treemap: Goals Scored by Team and Position',\n",
    "    color='Goals',\n",
    ")\n",
    "\n",
    "fig.update_layout(margin=dict(t=40, l=0, r=0, b=0))\n",
    "fig.show()"
   ],
   "id": "75aec94bb84f2567",
   "outputs": [
    {
     "data": {
      "application/vnd.plotly.v1+json": {
       "data": [
        {
         "branchvalues": "total",
         "customdata": {
          "dtype": "f8",
          "bdata": "AAAAAAAACEAAAAAAAAAoQAAAAAAAAPj/AAAAAAAAIkAAAAAAAAAAQAAAAAAAAPj/AAAAAAAA+P8AAAAAAAAkQAAAAAAAAPA/AAAAAAAAFEAAAAAAAAD4/wAAAAAAACBAAAAAAAAA8D8AAAAAAAAsQAAAAAAAAPj/AAAAAAAAAEAAAAAAAAAAQAAAAAAAADZAAAAAAAAAEEAAAAAAAAAAQAAAAAAAAEBAAAAAAAAA+P8AAAAAAAAIQAAAAAAAABBAAAAAAAAAGEAAAAAAAAAQQAAAAAAAADZAAAAAAAAA8D8AAAAAAAAAQAAAAAAAAChAAAAAAAAAEEAAAAAAAADwPwAAAAAAAPj/AAAAAAAA+P8AAAAAAAD4/wAAAAAAAPj/AAAAAAAA+P8AAAAAAAAIQAAAAAAAAPj/AAAAAAAAAEAAAAAAAADwPwAAAAAAAPA/AAAAAAAA+P8AAAAAAADwPwAAAAAAAABAAAAAAAAAAEAAAAAAAAD4/wAAAAAAAAhAAAAAAAAA+P8AAAAAAAAQQAAAAAAAACxAAAAAAAAA+P8AAAAAAAAQQAAAAAAAAPj/AAAAAAAAAEAAAAAAAAD4/wAAAAAAAPj/AAAAAAAAEEAAAAAAAAD4/wAAAAAAABxAAAAAAAAA+P8AAAAAAADwPwAAAAAAAABAAAAAAAAAIkAAAAAAAAD4/wAAAAAAAAhAAAAAAAAA+P8AAAAAAAAoQAAAAAAAAAhAAAAAAAAA+P8AAAAAAAAqQAAAAAAAAPj/AAAAAAAACEAAAAAAAAAAQAAAAAAAABhAAAAAAAAA+P8AAAAAAAAIQAAAAAAAACJAAAAAAAAAGEAAAAAAAAAgQAAAAAAAADNAAAAAAAAA+P8AAAAAAAAQQAAAAAAAAPj/AAAAAAAAM0AAAAAAAAD4/wAAAAAAAPj/AAAAAAAAHEAAAAAAAAAAQAAAAAAAAPj/AAAAAAAAAEAAAAAAAADwPwAAAAAAABhAAAAAAAAA+P8AAAAAAAD4/wAAAAAAAPA/AAAAAAAACEAAAAAAAIAjQFVVVVVVVSFAbtu2bdu2GUCmpaWlpaUnQAAAAAAAADJAbzBFPusGPEDNzMzMzMwUQOQ4juM4jjJAjuM4juM4IkAAAAAAAADwPwAAAAAAAPj/zczMzMzMBEAAAAAAAADwPwAAAAAAAABAzczMzMzMBEAAAAAAAAD4/7rooosuuiRAAAAAAAAAAEAAAAAAAAAQQAAAAAAAABlAt23btm3bGkBmZmZmZmYkQAAAAAAAQCZAAAAAAAAAFEAAAAAAAAAcQHTOOeeccyxAAAAAAAAAM0AAAAAAAAAcQAAAAAAAAABASZIkSZIkFUAAAAAAAADwPwAAAAAAAAhA",
          "shape": "129, 1"
         },
         "domain": {
          "x": [
           0.0,
           1.0
          ],
          "y": [
           0.0,
           1.0
          ]
         },
         "hovertemplate": "labels=%{label}<br>Goals_sum=%{value}<br>parent=%{parent}<br>id=%{id}<br>Goals=%{color}<extra></extra>",
         "ids": [
          "Arsenal FC/Defender",
          "Arsenal FC/Forward",
          "Arsenal FC/Goalkeeper",
          "Arsenal FC/Midfielder",
          "Aston Villa/Defender",
          "Aston Villa/Forward",
          "Aston Villa/Goalkeeper",
          "Aston Villa/Midfielder",
          "Atalanta BC/Defender",
          "Atalanta BC/Forward",
          "Atalanta BC/Goalkeeper",
          "Atalanta BC/Midfielder",
          "Atletico Madrid/Defender",
          "Atletico Madrid/Forward",
          "Atletico Madrid/Goalkeeper",
          "Atletico Madrid/Midfielder",
          "BVB Dortmund/Defender",
          "BVB Dortmund/Forward",
          "BVB Dortmund/Midfielder",
          "Barcelona/Defender",
          "Barcelona/Forward",
          "Barcelona/Goalkeeper",
          "Barcelona/Midfielder",
          "Bayer Leverkusen/Defender",
          "Bayer Leverkusen/Midfielder",
          "Bayern Munich/Defender",
          "Bayern Munich/Forward",
          "Bayern Munich/Midfielder",
          "Benfica/Defender",
          "Benfica/Forward",
          "Benfica/Midfielder",
          "Bologna/Defender",
          "Bologna/Forward",
          "Bologna/Goalkeeper",
          "Brest /Defender",
          "Brest /Goalkeeper",
          "Celtic/Defender",
          "Celtic/Forward",
          "Celtic/Goalkeeper",
          "Celtic/Midfielder",
          "Club Brugge/Defender",
          "Club Brugge/Forward",
          "Club Brugge/Goalkeeper",
          "Club Brugge/Midfielder",
          "Dinamo Zagreb/Midfielder",
          "Feyenoord/Forward",
          "Feyenoord/Goalkeeper",
          "Feyenoord/Midfielder",
          "Girona/Goalkeeper",
          "Inter/Defender",
          "Inter/Forward",
          "Inter/Goalkeeper",
          "Inter/Midfielder",
          "Juventus /Defender",
          "Juventus /Forward",
          "Juventus /Goalkeeper",
          "Juventus /Midfielder",
          "Leipzig/Forward",
          "Lille /Defender",
          "Lille /Forward",
          "Lille /Goalkeeper",
          "Lille /Midfielder",
          "Liverpool FC/Defender",
          "Liverpool FC/Forward",
          "Liverpool FC/Goalkeeper",
          "Liverpool FC/Midfielder",
          "Manchester City/Defender",
          "Manchester City/Forward",
          "Manchester City/Midfielder",
          "Milan/Defender",
          "Milan/Forward",
          "Milan/Goalkeeper",
          "Milan/Midfielder",
          "Monaco/Defender",
          "Monaco/Forward",
          "Monaco/Midfielder",
          "PSV Eindhoven/Defender",
          "PSV Eindhoven/Forward",
          "PSV Eindhoven/Midfielder",
          "Paris SG/Defender",
          "Paris SG/Forward",
          "Paris SG/Goalkeeper",
          "Paris SG/Midfielder",
          "Real Madrid/Defender",
          "Real Madrid/Forward",
          "Real Madrid/Goalkeeper",
          "Real Madrid/Midfielder",
          "Real Madrid /Forward",
          "Shakhtar Donetsk/Forward",
          "Shakhtar Donetsk/Goalkeeper",
          "Shakhtar Donetsk/Midfielder",
          "Sporting CP/Defender",
          "Sporting CP/Forward",
          "Sporting CP/Goalkeeper",
          "Sporting CP/Midfielder",
          "Sturm Graz/Midfielder",
          "VfB Stuttgart/Midfielder",
          "Arsenal FC",
          "Aston Villa",
          "Atalanta BC",
          "Atletico Madrid",
          "BVB Dortmund",
          "Barcelona",
          "Bayer Leverkusen",
          "Bayern Munich",
          "Benfica",
          "Bologna",
          "Brest ",
          "Celtic",
          "Club Brugge",
          "Dinamo Zagreb",
          "Feyenoord",
          "Girona",
          "Inter",
          "Juventus ",
          "Leipzig",
          "Lille ",
          "Liverpool FC",
          "Manchester City",
          "Milan",
          "Monaco",
          "PSV Eindhoven",
          "Paris SG",
          "Real Madrid",
          "Real Madrid ",
          "Shakhtar Donetsk",
          "Sporting CP",
          "Sturm Graz",
          "VfB Stuttgart"
         ],
         "labels": [
          "Defender",
          "Forward",
          "Goalkeeper",
          "Midfielder",
          "Defender",
          "Forward",
          "Goalkeeper",
          "Midfielder",
          "Defender",
          "Forward",
          "Goalkeeper",
          "Midfielder",
          "Defender",
          "Forward",
          "Goalkeeper",
          "Midfielder",
          "Defender",
          "Forward",
          "Midfielder",
          "Defender",
          "Forward",
          "Goalkeeper",
          "Midfielder",
          "Defender",
          "Midfielder",
          "Defender",
          "Forward",
          "Midfielder",
          "Defender",
          "Forward",
          "Midfielder",
          "Defender",
          "Forward",
          "Goalkeeper",
          "Defender",
          "Goalkeeper",
          "Defender",
          "Forward",
          "Goalkeeper",
          "Midfielder",
          "Defender",
          "Forward",
          "Goalkeeper",
          "Midfielder",
          "Midfielder",
          "Forward",
          "Goalkeeper",
          "Midfielder",
          "Goalkeeper",
          "Defender",
          "Forward",
          "Goalkeeper",
          "Midfielder",
          "Defender",
          "Forward",
          "Goalkeeper",
          "Midfielder",
          "Forward",
          "Defender",
          "Forward",
          "Goalkeeper",
          "Midfielder",
          "Defender",
          "Forward",
          "Goalkeeper",
          "Midfielder",
          "Defender",
          "Forward",
          "Midfielder",
          "Defender",
          "Forward",
          "Goalkeeper",
          "Midfielder",
          "Defender",
          "Forward",
          "Midfielder",
          "Defender",
          "Forward",
          "Midfielder",
          "Defender",
          "Forward",
          "Goalkeeper",
          "Midfielder",
          "Defender",
          "Forward",
          "Goalkeeper",
          "Midfielder",
          "Forward",
          "Forward",
          "Goalkeeper",
          "Midfielder",
          "Defender",
          "Forward",
          "Goalkeeper",
          "Midfielder",
          "Midfielder",
          "Midfielder",
          "Arsenal FC",
          "Aston Villa",
          "Atalanta BC",
          "Atletico Madrid",
          "BVB Dortmund",
          "Barcelona",
          "Bayer Leverkusen",
          "Bayern Munich",
          "Benfica",
          "Bologna",
          "Brest ",
          "Celtic",
          "Club Brugge",
          "Dinamo Zagreb",
          "Feyenoord",
          "Girona",
          "Inter",
          "Juventus ",
          "Leipzig",
          "Lille ",
          "Liverpool FC",
          "Manchester City",
          "Milan",
          "Monaco",
          "PSV Eindhoven",
          "Paris SG",
          "Real Madrid",
          "Real Madrid ",
          "Shakhtar Donetsk",
          "Sporting CP",
          "Sturm Graz",
          "VfB Stuttgart"
         ],
         "marker": {
          "coloraxis": "coloraxis",
          "colors": {
           "dtype": "f8",
           "bdata": "AAAAAAAACEAAAAAAAAAoQAAAAAAAAPj/AAAAAAAAIkAAAAAAAAAAQAAAAAAAAPj/AAAAAAAA+P8AAAAAAAAkQAAAAAAAAPA/AAAAAAAAFEAAAAAAAAD4/wAAAAAAACBAAAAAAAAA8D8AAAAAAAAsQAAAAAAAAPj/AAAAAAAAAEAAAAAAAAAAQAAAAAAAADZAAAAAAAAAEEAAAAAAAAAAQAAAAAAAAEBAAAAAAAAA+P8AAAAAAAAIQAAAAAAAABBAAAAAAAAAGEAAAAAAAAAQQAAAAAAAADZAAAAAAAAA8D8AAAAAAAAAQAAAAAAAAChAAAAAAAAAEEAAAAAAAADwPwAAAAAAAPj/AAAAAAAA+P8AAAAAAAD4/wAAAAAAAPj/AAAAAAAA+P8AAAAAAAAIQAAAAAAAAPj/AAAAAAAAAEAAAAAAAADwPwAAAAAAAPA/AAAAAAAA+P8AAAAAAADwPwAAAAAAAABAAAAAAAAAAEAAAAAAAAD4/wAAAAAAAAhAAAAAAAAA+P8AAAAAAAAQQAAAAAAAACxAAAAAAAAA+P8AAAAAAAAQQAAAAAAAAPj/AAAAAAAAAEAAAAAAAAD4/wAAAAAAAPj/AAAAAAAAEEAAAAAAAAD4/wAAAAAAABxAAAAAAAAA+P8AAAAAAADwPwAAAAAAAABAAAAAAAAAIkAAAAAAAAD4/wAAAAAAAAhAAAAAAAAA+P8AAAAAAAAoQAAAAAAAAAhAAAAAAAAA+P8AAAAAAAAqQAAAAAAAAPj/AAAAAAAACEAAAAAAAAAAQAAAAAAAABhAAAAAAAAA+P8AAAAAAAAIQAAAAAAAACJAAAAAAAAAGEAAAAAAAAAgQAAAAAAAADNAAAAAAAAA+P8AAAAAAAAQQAAAAAAAAPj/AAAAAAAAM0AAAAAAAAD4/wAAAAAAAPj/AAAAAAAAHEAAAAAAAAAAQAAAAAAAAPj/AAAAAAAAAEAAAAAAAADwPwAAAAAAABhAAAAAAAAA+P8AAAAAAAD4/wAAAAAAAPA/AAAAAAAACEAAAAAAAIAjQFVVVVVVVSFAbtu2bdu2GUCmpaWlpaUnQAAAAAAAADJAbzBFPusGPEDNzMzMzMwUQOQ4juM4jjJAjuM4juM4IkAAAAAAAADwPwAAAAAAAPj/zczMzMzMBEAAAAAAAADwPwAAAAAAAABAzczMzMzMBEAAAAAAAAD4/7rooosuuiRAAAAAAAAAAEAAAAAAAAAQQAAAAAAAABlAt23btm3bGkBmZmZmZmYkQAAAAAAAQCZAAAAAAAAAFEAAAAAAAAAcQHTOOeeccyxAAAAAAAAAM0AAAAAAAAAcQAAAAAAAAABASZIkSZIkFUAAAAAAAADwPwAAAAAAAAhA"
          }
         },
         "name": "",
         "parents": [
          "Arsenal FC",
          "Arsenal FC",
          "Arsenal FC",
          "Arsenal FC",
          "Aston Villa",
          "Aston Villa",
          "Aston Villa",
          "Aston Villa",
          "Atalanta BC",
          "Atalanta BC",
          "Atalanta BC",
          "Atalanta BC",
          "Atletico Madrid",
          "Atletico Madrid",
          "Atletico Madrid",
          "Atletico Madrid",
          "BVB Dortmund",
          "BVB Dortmund",
          "BVB Dortmund",
          "Barcelona",
          "Barcelona",
          "Barcelona",
          "Barcelona",
          "Bayer Leverkusen",
          "Bayer Leverkusen",
          "Bayern Munich",
          "Bayern Munich",
          "Bayern Munich",
          "Benfica",
          "Benfica",
          "Benfica",
          "Bologna",
          "Bologna",
          "Bologna",
          "Brest ",
          "Brest ",
          "Celtic",
          "Celtic",
          "Celtic",
          "Celtic",
          "Club Brugge",
          "Club Brugge",
          "Club Brugge",
          "Club Brugge",
          "Dinamo Zagreb",
          "Feyenoord",
          "Feyenoord",
          "Feyenoord",
          "Girona",
          "Inter",
          "Inter",
          "Inter",
          "Inter",
          "Juventus ",
          "Juventus ",
          "Juventus ",
          "Juventus ",
          "Leipzig",
          "Lille ",
          "Lille ",
          "Lille ",
          "Lille ",
          "Liverpool FC",
          "Liverpool FC",
          "Liverpool FC",
          "Liverpool FC",
          "Manchester City",
          "Manchester City",
          "Manchester City",
          "Milan",
          "Milan",
          "Milan",
          "Milan",
          "Monaco",
          "Monaco",
          "Monaco",
          "PSV Eindhoven",
          "PSV Eindhoven",
          "PSV Eindhoven",
          "Paris SG",
          "Paris SG",
          "Paris SG",
          "Paris SG",
          "Real Madrid",
          "Real Madrid",
          "Real Madrid",
          "Real Madrid",
          "Real Madrid ",
          "Shakhtar Donetsk",
          "Shakhtar Donetsk",
          "Shakhtar Donetsk",
          "Sporting CP",
          "Sporting CP",
          "Sporting CP",
          "Sporting CP",
          "Sturm Graz",
          "VfB Stuttgart",
          "",
          "",
          "",
          "",
          "",
          "",
          "",
          "",
          "",
          "",
          "",
          "",
          "",
          "",
          "",
          "",
          "",
          "",
          "",
          "",
          "",
          "",
          "",
          "",
          "",
          "",
          "",
          "",
          "",
          "",
          "",
          ""
         ],
         "values": {
          "dtype": "f8",
          "bdata": "AAAAAAAACEAAAAAAAAAoQAAAAAAAAAAAAAAAAAAAIkAAAAAAAAAAQAAAAAAAAAAAAAAAAAAAAAAAAAAAAAAkQAAAAAAAAPA/AAAAAAAAFEAAAAAAAAAAAAAAAAAAACBAAAAAAAAA8D8AAAAAAAAsQAAAAAAAAAAAAAAAAAAAAEAAAAAAAAAAQAAAAAAAADZAAAAAAAAAEEAAAAAAAAAAQAAAAAAAAEBAAAAAAAAAAAAAAAAAAAAIQAAAAAAAABBAAAAAAAAAGEAAAAAAAAAQQAAAAAAAADZAAAAAAAAA8D8AAAAAAAAAQAAAAAAAAChAAAAAAAAAEEAAAAAAAADwPwAAAAAAAAAAAAAAAAAAAAAAAAAAAAAAAAAAAAAAAAAAAAAAAAAAAAAAAAAAAAAIQAAAAAAAAAAAAAAAAAAAAEAAAAAAAADwPwAAAAAAAPA/AAAAAAAAAAAAAAAAAADwPwAAAAAAAABAAAAAAAAAAEAAAAAAAAAAAAAAAAAAAAhAAAAAAAAAAAAAAAAAAAAQQAAAAAAAACxAAAAAAAAAAAAAAAAAAAAQQAAAAAAAAAAAAAAAAAAAAEAAAAAAAAAAAAAAAAAAAAAAAAAAAAAAEEAAAAAAAAAAAAAAAAAAABxAAAAAAAAAAAAAAAAAAADwPwAAAAAAAABAAAAAAAAAIkAAAAAAAAAAAAAAAAAAAAhAAAAAAAAAAAAAAAAAAAAoQAAAAAAAAAhAAAAAAAAAAAAAAAAAAAAqQAAAAAAAAAAAAAAAAAAACEAAAAAAAAAAQAAAAAAAABhAAAAAAAAAAAAAAAAAAAAIQAAAAAAAACJAAAAAAAAAGEAAAAAAAAAgQAAAAAAAADNAAAAAAAAAAAAAAAAAAAAQQAAAAAAAAAAAAAAAAAAAM0AAAAAAAAAAAAAAAAAAAAAAAAAAAAAAHEAAAAAAAAAAQAAAAAAAAAAAAAAAAAAAAEAAAAAAAADwPwAAAAAAABhAAAAAAAAAAAAAAAAAAAAAAAAAAAAAAPA/AAAAAAAACEAAAAAAAAA4QAAAAAAAAChAAAAAAAAALEAAAAAAAAAxQAAAAAAAADxAAAAAAACAQkAAAAAAAAAkQAAAAAAAADtAAAAAAAAAMkAAAAAAAADwPwAAAAAAAAAAAAAAAAAAFEAAAAAAAAAIQAAAAAAAAABAAAAAAAAAFEAAAAAAAAAAAAAAAAAAADZAAAAAAAAAAEAAAAAAAAAQQAAAAAAAACBAAAAAAAAALEAAAAAAAAAuQAAAAAAAADBAAAAAAAAAIEAAAAAAAAAyQAAAAAAAAD9AAAAAAAAAM0AAAAAAAAAcQAAAAAAAABBAAAAAAAAAHEAAAAAAAADwPwAAAAAAAAhA"
         },
         "type": "treemap"
        }
       ],
       "layout": {
        "template": {
         "data": {
          "histogram2dcontour": [
           {
            "type": "histogram2dcontour",
            "colorbar": {
             "outlinewidth": 0,
             "ticks": ""
            },
            "colorscale": [
             [
              0.0,
              "#0d0887"
             ],
             [
              0.1111111111111111,
              "#46039f"
             ],
             [
              0.2222222222222222,
              "#7201a8"
             ],
             [
              0.3333333333333333,
              "#9c179e"
             ],
             [
              0.4444444444444444,
              "#bd3786"
             ],
             [
              0.5555555555555556,
              "#d8576b"
             ],
             [
              0.6666666666666666,
              "#ed7953"
             ],
             [
              0.7777777777777778,
              "#fb9f3a"
             ],
             [
              0.8888888888888888,
              "#fdca26"
             ],
             [
              1.0,
              "#f0f921"
             ]
            ]
           }
          ],
          "choropleth": [
           {
            "type": "choropleth",
            "colorbar": {
             "outlinewidth": 0,
             "ticks": ""
            }
           }
          ],
          "histogram2d": [
           {
            "type": "histogram2d",
            "colorbar": {
             "outlinewidth": 0,
             "ticks": ""
            },
            "colorscale": [
             [
              0.0,
              "#0d0887"
             ],
             [
              0.1111111111111111,
              "#46039f"
             ],
             [
              0.2222222222222222,
              "#7201a8"
             ],
             [
              0.3333333333333333,
              "#9c179e"
             ],
             [
              0.4444444444444444,
              "#bd3786"
             ],
             [
              0.5555555555555556,
              "#d8576b"
             ],
             [
              0.6666666666666666,
              "#ed7953"
             ],
             [
              0.7777777777777778,
              "#fb9f3a"
             ],
             [
              0.8888888888888888,
              "#fdca26"
             ],
             [
              1.0,
              "#f0f921"
             ]
            ]
           }
          ],
          "heatmap": [
           {
            "type": "heatmap",
            "colorbar": {
             "outlinewidth": 0,
             "ticks": ""
            },
            "colorscale": [
             [
              0.0,
              "#0d0887"
             ],
             [
              0.1111111111111111,
              "#46039f"
             ],
             [
              0.2222222222222222,
              "#7201a8"
             ],
             [
              0.3333333333333333,
              "#9c179e"
             ],
             [
              0.4444444444444444,
              "#bd3786"
             ],
             [
              0.5555555555555556,
              "#d8576b"
             ],
             [
              0.6666666666666666,
              "#ed7953"
             ],
             [
              0.7777777777777778,
              "#fb9f3a"
             ],
             [
              0.8888888888888888,
              "#fdca26"
             ],
             [
              1.0,
              "#f0f921"
             ]
            ]
           }
          ],
          "contourcarpet": [
           {
            "type": "contourcarpet",
            "colorbar": {
             "outlinewidth": 0,
             "ticks": ""
            }
           }
          ],
          "contour": [
           {
            "type": "contour",
            "colorbar": {
             "outlinewidth": 0,
             "ticks": ""
            },
            "colorscale": [
             [
              0.0,
              "#0d0887"
             ],
             [
              0.1111111111111111,
              "#46039f"
             ],
             [
              0.2222222222222222,
              "#7201a8"
             ],
             [
              0.3333333333333333,
              "#9c179e"
             ],
             [
              0.4444444444444444,
              "#bd3786"
             ],
             [
              0.5555555555555556,
              "#d8576b"
             ],
             [
              0.6666666666666666,
              "#ed7953"
             ],
             [
              0.7777777777777778,
              "#fb9f3a"
             ],
             [
              0.8888888888888888,
              "#fdca26"
             ],
             [
              1.0,
              "#f0f921"
             ]
            ]
           }
          ],
          "surface": [
           {
            "type": "surface",
            "colorbar": {
             "outlinewidth": 0,
             "ticks": ""
            },
            "colorscale": [
             [
              0.0,
              "#0d0887"
             ],
             [
              0.1111111111111111,
              "#46039f"
             ],
             [
              0.2222222222222222,
              "#7201a8"
             ],
             [
              0.3333333333333333,
              "#9c179e"
             ],
             [
              0.4444444444444444,
              "#bd3786"
             ],
             [
              0.5555555555555556,
              "#d8576b"
             ],
             [
              0.6666666666666666,
              "#ed7953"
             ],
             [
              0.7777777777777778,
              "#fb9f3a"
             ],
             [
              0.8888888888888888,
              "#fdca26"
             ],
             [
              1.0,
              "#f0f921"
             ]
            ]
           }
          ],
          "mesh3d": [
           {
            "type": "mesh3d",
            "colorbar": {
             "outlinewidth": 0,
             "ticks": ""
            }
           }
          ],
          "scatter": [
           {
            "fillpattern": {
             "fillmode": "overlay",
             "size": 10,
             "solidity": 0.2
            },
            "type": "scatter"
           }
          ],
          "parcoords": [
           {
            "type": "parcoords",
            "line": {
             "colorbar": {
              "outlinewidth": 0,
              "ticks": ""
             }
            }
           }
          ],
          "scatterpolargl": [
           {
            "type": "scatterpolargl",
            "marker": {
             "colorbar": {
              "outlinewidth": 0,
              "ticks": ""
             }
            }
           }
          ],
          "bar": [
           {
            "error_x": {
             "color": "#2a3f5f"
            },
            "error_y": {
             "color": "#2a3f5f"
            },
            "marker": {
             "line": {
              "color": "#E5ECF6",
              "width": 0.5
             },
             "pattern": {
              "fillmode": "overlay",
              "size": 10,
              "solidity": 0.2
             }
            },
            "type": "bar"
           }
          ],
          "scattergeo": [
           {
            "type": "scattergeo",
            "marker": {
             "colorbar": {
              "outlinewidth": 0,
              "ticks": ""
             }
            }
           }
          ],
          "scatterpolar": [
           {
            "type": "scatterpolar",
            "marker": {
             "colorbar": {
              "outlinewidth": 0,
              "ticks": ""
             }
            }
           }
          ],
          "histogram": [
           {
            "marker": {
             "pattern": {
              "fillmode": "overlay",
              "size": 10,
              "solidity": 0.2
             }
            },
            "type": "histogram"
           }
          ],
          "scattergl": [
           {
            "type": "scattergl",
            "marker": {
             "colorbar": {
              "outlinewidth": 0,
              "ticks": ""
             }
            }
           }
          ],
          "scatter3d": [
           {
            "type": "scatter3d",
            "line": {
             "colorbar": {
              "outlinewidth": 0,
              "ticks": ""
             }
            },
            "marker": {
             "colorbar": {
              "outlinewidth": 0,
              "ticks": ""
             }
            }
           }
          ],
          "scattermap": [
           {
            "type": "scattermap",
            "marker": {
             "colorbar": {
              "outlinewidth": 0,
              "ticks": ""
             }
            }
           }
          ],
          "scattermapbox": [
           {
            "type": "scattermapbox",
            "marker": {
             "colorbar": {
              "outlinewidth": 0,
              "ticks": ""
             }
            }
           }
          ],
          "scatterternary": [
           {
            "type": "scatterternary",
            "marker": {
             "colorbar": {
              "outlinewidth": 0,
              "ticks": ""
             }
            }
           }
          ],
          "scattercarpet": [
           {
            "type": "scattercarpet",
            "marker": {
             "colorbar": {
              "outlinewidth": 0,
              "ticks": ""
             }
            }
           }
          ],
          "carpet": [
           {
            "aaxis": {
             "endlinecolor": "#2a3f5f",
             "gridcolor": "white",
             "linecolor": "white",
             "minorgridcolor": "white",
             "startlinecolor": "#2a3f5f"
            },
            "baxis": {
             "endlinecolor": "#2a3f5f",
             "gridcolor": "white",
             "linecolor": "white",
             "minorgridcolor": "white",
             "startlinecolor": "#2a3f5f"
            },
            "type": "carpet"
           }
          ],
          "table": [
           {
            "cells": {
             "fill": {
              "color": "#EBF0F8"
             },
             "line": {
              "color": "white"
             }
            },
            "header": {
             "fill": {
              "color": "#C8D4E3"
             },
             "line": {
              "color": "white"
             }
            },
            "type": "table"
           }
          ],
          "barpolar": [
           {
            "marker": {
             "line": {
              "color": "#E5ECF6",
              "width": 0.5
             },
             "pattern": {
              "fillmode": "overlay",
              "size": 10,
              "solidity": 0.2
             }
            },
            "type": "barpolar"
           }
          ],
          "pie": [
           {
            "automargin": true,
            "type": "pie"
           }
          ]
         },
         "layout": {
          "autotypenumbers": "strict",
          "colorway": [
           "#636efa",
           "#EF553B",
           "#00cc96",
           "#ab63fa",
           "#FFA15A",
           "#19d3f3",
           "#FF6692",
           "#B6E880",
           "#FF97FF",
           "#FECB52"
          ],
          "font": {
           "color": "#2a3f5f"
          },
          "hovermode": "closest",
          "hoverlabel": {
           "align": "left"
          },
          "paper_bgcolor": "white",
          "plot_bgcolor": "#E5ECF6",
          "polar": {
           "bgcolor": "#E5ECF6",
           "angularaxis": {
            "gridcolor": "white",
            "linecolor": "white",
            "ticks": ""
           },
           "radialaxis": {
            "gridcolor": "white",
            "linecolor": "white",
            "ticks": ""
           }
          },
          "ternary": {
           "bgcolor": "#E5ECF6",
           "aaxis": {
            "gridcolor": "white",
            "linecolor": "white",
            "ticks": ""
           },
           "baxis": {
            "gridcolor": "white",
            "linecolor": "white",
            "ticks": ""
           },
           "caxis": {
            "gridcolor": "white",
            "linecolor": "white",
            "ticks": ""
           }
          },
          "coloraxis": {
           "colorbar": {
            "outlinewidth": 0,
            "ticks": ""
           }
          },
          "colorscale": {
           "sequential": [
            [
             0.0,
             "#0d0887"
            ],
            [
             0.1111111111111111,
             "#46039f"
            ],
            [
             0.2222222222222222,
             "#7201a8"
            ],
            [
             0.3333333333333333,
             "#9c179e"
            ],
            [
             0.4444444444444444,
             "#bd3786"
            ],
            [
             0.5555555555555556,
             "#d8576b"
            ],
            [
             0.6666666666666666,
             "#ed7953"
            ],
            [
             0.7777777777777778,
             "#fb9f3a"
            ],
            [
             0.8888888888888888,
             "#fdca26"
            ],
            [
             1.0,
             "#f0f921"
            ]
           ],
           "sequentialminus": [
            [
             0.0,
             "#0d0887"
            ],
            [
             0.1111111111111111,
             "#46039f"
            ],
            [
             0.2222222222222222,
             "#7201a8"
            ],
            [
             0.3333333333333333,
             "#9c179e"
            ],
            [
             0.4444444444444444,
             "#bd3786"
            ],
            [
             0.5555555555555556,
             "#d8576b"
            ],
            [
             0.6666666666666666,
             "#ed7953"
            ],
            [
             0.7777777777777778,
             "#fb9f3a"
            ],
            [
             0.8888888888888888,
             "#fdca26"
            ],
            [
             1.0,
             "#f0f921"
            ]
           ],
           "diverging": [
            [
             0,
             "#8e0152"
            ],
            [
             0.1,
             "#c51b7d"
            ],
            [
             0.2,
             "#de77ae"
            ],
            [
             0.3,
             "#f1b6da"
            ],
            [
             0.4,
             "#fde0ef"
            ],
            [
             0.5,
             "#f7f7f7"
            ],
            [
             0.6,
             "#e6f5d0"
            ],
            [
             0.7,
             "#b8e186"
            ],
            [
             0.8,
             "#7fbc41"
            ],
            [
             0.9,
             "#4d9221"
            ],
            [
             1,
             "#276419"
            ]
           ]
          },
          "xaxis": {
           "gridcolor": "white",
           "linecolor": "white",
           "ticks": "",
           "title": {
            "standoff": 15
           },
           "zerolinecolor": "white",
           "automargin": true,
           "zerolinewidth": 2
          },
          "yaxis": {
           "gridcolor": "white",
           "linecolor": "white",
           "ticks": "",
           "title": {
            "standoff": 15
           },
           "zerolinecolor": "white",
           "automargin": true,
           "zerolinewidth": 2
          },
          "scene": {
           "xaxis": {
            "backgroundcolor": "#E5ECF6",
            "gridcolor": "white",
            "linecolor": "white",
            "showbackground": true,
            "ticks": "",
            "zerolinecolor": "white",
            "gridwidth": 2
           },
           "yaxis": {
            "backgroundcolor": "#E5ECF6",
            "gridcolor": "white",
            "linecolor": "white",
            "showbackground": true,
            "ticks": "",
            "zerolinecolor": "white",
            "gridwidth": 2
           },
           "zaxis": {
            "backgroundcolor": "#E5ECF6",
            "gridcolor": "white",
            "linecolor": "white",
            "showbackground": true,
            "ticks": "",
            "zerolinecolor": "white",
            "gridwidth": 2
           }
          },
          "shapedefaults": {
           "line": {
            "color": "#2a3f5f"
           }
          },
          "annotationdefaults": {
           "arrowcolor": "#2a3f5f",
           "arrowhead": 0,
           "arrowwidth": 1
          },
          "geo": {
           "bgcolor": "white",
           "landcolor": "#E5ECF6",
           "subunitcolor": "white",
           "showland": true,
           "showlakes": true,
           "lakecolor": "white"
          },
          "title": {
           "x": 0.05
          },
          "mapbox": {
           "style": "light"
          }
         }
        },
        "coloraxis": {
         "colorbar": {
          "title": {
           "text": "Goals"
          }
         },
         "colorscale": [
          [
           0.0,
           "#0d0887"
          ],
          [
           0.1111111111111111,
           "#46039f"
          ],
          [
           0.2222222222222222,
           "#7201a8"
          ],
          [
           0.3333333333333333,
           "#9c179e"
          ],
          [
           0.4444444444444444,
           "#bd3786"
          ],
          [
           0.5555555555555556,
           "#d8576b"
          ],
          [
           0.6666666666666666,
           "#ed7953"
          ],
          [
           0.7777777777777778,
           "#fb9f3a"
          ],
          [
           0.8888888888888888,
           "#fdca26"
          ],
          [
           1.0,
           "#f0f921"
          ]
         ]
        },
        "legend": {
         "tracegroupgap": 0
        },
        "title": {
         "text": "Treemap: Goals Scored by Team and Position"
        },
        "margin": {
         "t": 40,
         "l": 0,
         "r": 0,
         "b": 0
        }
       },
       "config": {
        "plotlyServerURL": "https://plot.ly"
       }
      }
     },
     "metadata": {},
     "output_type": "display_data"
    }
   ],
   "execution_count": 5
  },
  {
   "metadata": {
    "ExecuteTime": {
     "end_time": "2025-06-12T15:23:17.647695Z",
     "start_time": "2025-06-12T15:23:17.640067Z"
    }
   },
   "cell_type": "code",
   "source": "ucl['Total_Contrib'] = ucl['Goals'] + ucl['Assists']",
   "id": "773f46907ccfd47",
   "outputs": [],
   "execution_count": 6
  },
  {
   "metadata": {
    "ExecuteTime": {
     "end_time": "2025-06-12T15:23:18.139506Z",
     "start_time": "2025-06-12T15:23:18.126655Z"
    }
   },
   "cell_type": "code",
   "source": [
    "ucl['Defensive_Score'] = ucl['Tackles_Won'] + ucl['Balls_recovered']\n",
    "\n",
    "# 2) Grupim sipas Team → Position → Player, me Defensive_Score\n",
    "defense_team = (\n",
    "    ucl.groupby(['Team', 'Position', 'Player'])['Defensive_Score']\n",
    "    .sum()\n",
    "    .reset_index()\n",
    ")"
   ],
   "id": "16b32c72e74f0530",
   "outputs": [],
   "execution_count": 7
  },
  {
   "metadata": {
    "ExecuteTime": {
     "end_time": "2025-06-12T15:23:18.677868Z",
     "start_time": "2025-06-12T15:23:18.477969Z"
    }
   },
   "cell_type": "code",
   "source": [
    "fig = px.treemap(\n",
    "    defense_team,\n",
    "    path=['Team', 'Position', 'Player'],\n",
    "    values='Defensive_Score',\n",
    "    title='Treemap: Defensive Contributions by Team, Position and Player',\n",
    "    color='Defensive_Score',\n",
    "    color_continuous_scale='OrRd'\n",
    ")\n",
    "\n",
    "fig.update_layout(margin=dict(t=60, l=0, r=0, b=0))\n",
    "fig.show()"
   ],
   "id": "873f6481f80ecbc6",
   "outputs": [
    {
     "data": {
      "application/vnd.plotly.v1+json": {
       "data": [
        {
         "branchvalues": "total",
         "customdata": {
          "dtype": "f8",
          "bdata": "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",
          "shape": "337, 1"
         },
         "domain": {
          "x": [
           0.0,
           1.0
          ],
          "y": [
           0.0,
           1.0
          ]
         },
         "hovertemplate": "labels=%{label}<br>Defensive_Score_sum=%{value}<br>parent=%{parent}<br>id=%{id}<br>Defensive_Score=%{color}<extra></extra>",
         "ids": [
          "Arsenal FC/Defender/Calafiori",
          "Arsenal FC/Defender/Gabriel Magalhaes",
          "Arsenal FC/Defender/Jurrien Timber",
          "Arsenal FC/Defender/Saliba",
          "Arsenal FC/Forward/Bukayo Saka",
          "Arsenal FC/Forward/Kai Havertz",
          "Arsenal FC/Forward/Martinelli",
          "Arsenal FC/Goalkeeper/David Raya",
          "Arsenal FC/Midfielder/Declan Rice",
          "Arsenal FC/Midfielder/Mikel Merino",
          "Arsenal FC/Midfielder/Odegaard",
          "Arsenal FC/Midfielder/Partey",
          "Aston Villa/Defender/Ezri Konsa",
          "Aston Villa/Defender/Maatsen",
          "Aston Villa/Forward/Marcus Rashford",
          "Aston Villa/Goalkeeper/Emiliano Martinez",
          "Aston Villa/Midfielder/Jacob Ramsey",
          "Aston Villa/Midfielder/John McGinn",
          "Aston Villa/Midfielder/Rogers",
          "Aston Villa/Midfielder/Youri Tielemans",
          "Atalanta BC/Defender/Kolasinac",
          "Atalanta BC/Defender/Kossounou",
          "Atalanta BC/Defender/Marten de Roon",
          "Atalanta BC/Forward/Lookman",
          "Atalanta BC/Goalkeeper/Carnesecchi",
          "Atalanta BC/Midfielder/Charles Ketelaere",
          "Atalanta BC/Midfielder/Ederson",
          "Atalanta BC/Midfielder/Mario Pasalic",
          "Atalanta BC/Midfielder/Zappacosta",
          "Atletico Madrid/Defender/Jose Gimenez",
          "Atletico Madrid/Forward/Giuliano Simeone",
          "Atletico Madrid/Forward/Griezmann",
          "Atletico Madrid/Forward/Julian Alvarez",
          "Atletico Madrid/Forward/Lino",
          "Atletico Madrid/Goalkeeper/Jan Oblak",
          "Atletico Madrid/Midfielder/De Paul",
          "Atletico Madrid/Midfielder/Llorente",
          "BVB Dortmund/Defender/Bensebaini",
          "BVB Dortmund/Defender/Ryerson",
          "BVB Dortmund/Defender/Schlotterbeck",
          "BVB Dortmund/Defender/Waldemar Anton",
          "BVB Dortmund/Forward/Adeyemi",
          "BVB Dortmund/Forward/Gittens",
          "BVB Dortmund/Forward/Guirassy",
          "BVB Dortmund/Midfielder/Emre Can",
          "BVB Dortmund/Midfielder/Felix Nmecha",
          "BVB Dortmund/Midfielder/Julian Brandt",
          "BVB Dortmund/Midfielder/Pascal Gross",
          "Barcelona/Defender/Balde",
          "Barcelona/Defender/Inigo Martinez",
          "Barcelona/Defender/Kounde",
          "Barcelona/Forward/Ferran Torres",
          "Barcelona/Forward/Lewandowski",
          "Barcelona/Forward/Raphinha",
          "Barcelona/Forward/Yamal",
          "Barcelona/Goalkeeper/Szczesny",
          "Barcelona/Midfielder/Casado",
          "Barcelona/Midfielder/Dani Olmo",
          "Barcelona/Midfielder/Fermin Lopez",
          "Barcelona/Midfielder/Pedri",
          "Bayer Leverkusen/Defender/Frimpong",
          "Bayer Leverkusen/Defender/Grimaldo",
          "Bayer Leverkusen/Defender/Hincapie",
          "Bayer Leverkusen/Defender/Mukiele",
          "Bayer Leverkusen/Midfielder/Florian Wirtz",
          "Bayer Leverkusen/Midfielder/Granit Xhaka",
          "Bayer Leverkusen/Midfielder/Palacios",
          "Bayern Munich/Defender/Alphonso Davies",
          "Bayern Munich/Defender/Laimer",
          "Bayern Munich/Defender/Minjae Kim",
          "Bayern Munich/Defender/Upamecano",
          "Bayern Munich/Forward/Harry Kane",
          "Bayern Munich/Forward/Jamal Musiala",
          "Bayern Munich/Forward/Olise",
          "Bayern Munich/Forward/Thomas Muller",
          "Bayern Munich/Midfielder/Kimmich",
          "Bayern Munich/Midfielder/Leon Goretzka",
          "Benfica/Defender/Alexander Bah",
          "Benfica/Defender/Alvaro Carreras",
          "Benfica/Defender/Otamendi",
          "Benfica/Forward/Akturkoglu",
          "Benfica/Forward/Di Maria",
          "Benfica/Forward/Pavlidis",
          "Benfica/Midfielder/Aursnes",
          "Benfica/Midfielder/Florentino",
          "Benfica/Midfielder/Orkun Kökcü",
          "Bologna/Defender/Lucumi",
          "Bologna/Defender/Sam Beukema",
          "Bologna/Forward/Dan Ndoye",
          "Bologna/Goalkeeper/Skorupski",
          "Brest/Defender/Kenny Lala",
          "Brest/Goalkeeper/Marco Bizot",
          "Celtic/Defender/Johnston",
          "Celtic/Forward/Kuhn",
          "Celtic/Goalkeeper/Schmeichel",
          "Celtic/Midfielder/Arne Engels",
          "Celtic/Midfielder/Callum McGregor",
          "Celtic/Midfielder/Reo Hatate",
          "Club Brugge/Defender/De Cuyper",
          "Club Brugge/Forward/Christos Tzolis",
          "Club Brugge/Goalkeeper/Mignolet",
          "Club Brugge/Midfielder/Hans Vanaken",
          "Club Brugge/Midfielder/Jashari",
          "Dinamo Zagreb/Midfielder/Baturina",
          "Feyenoord/Forward/Igor Paixao",
          "Feyenoord/Goalkeeper/Wellenreuther ",
          "Feyenoord/Midfielder/Milambo",
          "Feyenoord/Midfielder/Quinten Timber",
          "Girona/Goalkeeper/Gazzaniga",
          "Inter/Defender/Bastoni",
          "Inter/Defender/Dimarco",
          "Inter/Defender/Dumfries",
          "Inter/Defender/Francesco Acerbi",
          "Inter/Defender/Pavard",
          "Inter/Defender/Stefan de Vrij",
          "Inter/Forward/Lautaro Martinez",
          "Inter/Forward/Taremi",
          "Inter/Forward/Thuram",
          "Inter/Goalkeeper/Yann Sommer",
          "Inter/Midfielder/Calhanoglu",
          "Inter/Midfielder/Mkhitaryan",
          "Inter/Midfielder/Nicolo Barella",
          "Juventus/Defender/Federico Gatti",
          "Juventus/Forward/Conceiçao",
          "Juventus/Forward/Kenan Yildiz",
          "Juventus/Goalkeeper/Di Gregorio",
          "Juventus/Midfielder/Locatelli",
          "Leipzig/Forward/Benjamin Sesko",
          "Lille/Defender/Alexsandro Ribeiro",
          "Lille/Defender/Thomas Meunier",
          "Lille/Forward/Jonathan David",
          "Lille/Goalkeeper/Chevalier",
          "Lille/Midfielder/Benjamin Andre",
          "Lille/Midfielder/Cabella",
          "Liverpool FC/Defender/Ibrahima Konate",
          "Liverpool FC/Defender/Robertson",
          "Liverpool FC/Defender/Van Dijk",
          "Liverpool FC/Forward/Gakpo",
          "Liverpool FC/Forward/Luis Diaz",
          "Liverpool FC/Forward/Salah",
          "Liverpool FC/Goalkeeper/Alisson Becker",
          "Liverpool FC/Midfielder/Gravenberch",
          "Liverpool FC/Midfielder/Mac Allister",
          "Liverpool FC/Midfielder/Szoboszlai",
          "Manchester City/Defender/Manuel Akanji",
          "Manchester City/Defender/Rico Lewis",
          "Manchester City/Forward/Haaland",
          "Manchester City/Forward/Phil Foden",
          "Manchester City/Forward/Savinho",
          "Manchester City/Midfielder/Gundogan",
          "Manchester City/Midfielder/Matheus Nunes",
          "Milan/Defender/Theo Hernandez",
          "Milan/Defender/Youssouf Fofana",
          "Milan/Forward/Pulisic",
          "Milan/Forward/Rafael Leao",
          "Milan/Forward/Santiago Gimenez",
          "Milan/Goalkeeper/Mike Maignan",
          "Milan/Midfielder/Tijjani Reijnders",
          "Monaco/Defender/Singo",
          "Monaco/Defender/Vanderson",
          "Monaco/Forward/Embolo",
          "Monaco/Forward/Maghnes Akliouche",
          "Monaco/Forward/Minamino",
          "Monaco/Midfielder/Golovin",
          "Monaco/Midfielder/Lamine Camara",
          "PSV Eindhoven/Defender/Boscagli",
          "PSV Eindhoven/Defender/Mauro Junior",
          "PSV Eindhoven/Defender/Ryan Flamingo",
          "PSV Eindhoven/Forward/Ivan Perisic",
          "PSV Eindhoven/Forward/Johan Bakayoko",
          "PSV Eindhoven/Forward/Luuk de Jong",
          "PSV Eindhoven/Forward/Noa Lang",
          "PSV Eindhoven/Midfielder/Ismael Saibari",
          "PSV Eindhoven/Midfielder/Joey Veerman",
          "PSV Eindhoven/Midfielder/Tillman",
          "Paris SG/Defender/Hakimi",
          "Paris SG/Defender/Marquinhos",
          "Paris SG/Defender/Nuno Mendes",
          "Paris SG/Defender/Pacho",
          "Paris SG/Forward/Barcola",
          "Paris SG/Forward/Dembele",
          "Paris SG/Forward/Desire Doue",
          "Paris SG/Forward/Kvaratskhelia",
          "Paris SG/Goalkeeper/Donnarumma",
          "Paris SG/Midfielder/Fabian Ruiz",
          "Paris SG/Midfielder/Joao Neves",
          "Paris SG/Midfielder/Vitinha",
          "Real Madrid/Defender/Raul Asencio",
          "Real Madrid/Forward/Brahim Diaz",
          "Real Madrid/Forward/Jude Bellingham",
          "Real Madrid/Forward/Kylian Mbappe",
          "Real Madrid/Forward/Lucas Vazquez",
          "Real Madrid/Forward/Rodrygo",
          "Real Madrid/Forward/Vinicius Jr",
          "Real Madrid/Goalkeeper/Courtois",
          "Real Madrid/Midfielder/Modric",
          "Real Madrid/Midfielder/Tchouameni",
          "Real Madrid/Midfielder/Valverde",
          "Shakhtar Donetsk/Forward/Kevin",
          "Shakhtar Donetsk/Goalkeeper/Riznyk",
          "Shakhtar Donetsk/Midfielder/Georgiy Sudakov",
          "Sporting CP/Defender/Gonçalo Inacio",
          "Sporting CP/Forward/Quenda",
          "Sporting CP/Forward/Trincao",
          "Sporting CP/Forward/Viktor Gyokeres",
          "Sporting CP/Goalkeeper/Franco Israel",
          "Sporting CP/Midfielder/Hjulmand",
          "Sturm Graz/Midfielder/Otar Kiteishvili",
          "VfB Stuttgart/Midfielder/Angelo Stiller",
          "VfB Stuttgart/Midfielder/Enzo Millot",
          "Arsenal FC/Defender",
          "Arsenal FC/Forward",
          "Arsenal FC/Goalkeeper",
          "Arsenal FC/Midfielder",
          "Aston Villa/Defender",
          "Aston Villa/Forward",
          "Aston Villa/Goalkeeper",
          "Aston Villa/Midfielder",
          "Atalanta BC/Defender",
          "Atalanta BC/Forward",
          "Atalanta BC/Goalkeeper",
          "Atalanta BC/Midfielder",
          "Atletico Madrid/Defender",
          "Atletico Madrid/Forward",
          "Atletico Madrid/Goalkeeper",
          "Atletico Madrid/Midfielder",
          "BVB Dortmund/Defender",
          "BVB Dortmund/Forward",
          "BVB Dortmund/Midfielder",
          "Barcelona/Defender",
          "Barcelona/Forward",
          "Barcelona/Goalkeeper",
          "Barcelona/Midfielder",
          "Bayer Leverkusen/Defender",
          "Bayer Leverkusen/Midfielder",
          "Bayern Munich/Defender",
          "Bayern Munich/Forward",
          "Bayern Munich/Midfielder",
          "Benfica/Defender",
          "Benfica/Forward",
          "Benfica/Midfielder",
          "Bologna/Defender",
          "Bologna/Forward",
          "Bologna/Goalkeeper",
          "Brest/Defender",
          "Brest/Goalkeeper",
          "Celtic/Defender",
          "Celtic/Forward",
          "Celtic/Goalkeeper",
          "Celtic/Midfielder",
          "Club Brugge/Defender",
          "Club Brugge/Forward",
          "Club Brugge/Goalkeeper",
          "Club Brugge/Midfielder",
          "Dinamo Zagreb/Midfielder",
          "Feyenoord/Forward",
          "Feyenoord/Goalkeeper",
          "Feyenoord/Midfielder",
          "Girona/Goalkeeper",
          "Inter/Defender",
          "Inter/Forward",
          "Inter/Goalkeeper",
          "Inter/Midfielder",
          "Juventus/Defender",
          "Juventus/Forward",
          "Juventus/Goalkeeper",
          "Juventus/Midfielder",
          "Leipzig/Forward",
          "Lille/Defender",
          "Lille/Forward",
          "Lille/Goalkeeper",
          "Lille/Midfielder",
          "Liverpool FC/Defender",
          "Liverpool FC/Forward",
          "Liverpool FC/Goalkeeper",
          "Liverpool FC/Midfielder",
          "Manchester City/Defender",
          "Manchester City/Forward",
          "Manchester City/Midfielder",
          "Milan/Defender",
          "Milan/Forward",
          "Milan/Goalkeeper",
          "Milan/Midfielder",
          "Monaco/Defender",
          "Monaco/Forward",
          "Monaco/Midfielder",
          "PSV Eindhoven/Defender",
          "PSV Eindhoven/Forward",
          "PSV Eindhoven/Midfielder",
          "Paris SG/Defender",
          "Paris SG/Forward",
          "Paris SG/Goalkeeper",
          "Paris SG/Midfielder",
          "Real Madrid/Defender",
          "Real Madrid/Forward",
          "Real Madrid/Goalkeeper",
          "Real Madrid/Midfielder",
          "Shakhtar Donetsk/Forward",
          "Shakhtar Donetsk/Goalkeeper",
          "Shakhtar Donetsk/Midfielder",
          "Sporting CP/Defender",
          "Sporting CP/Forward",
          "Sporting CP/Goalkeeper",
          "Sporting CP/Midfielder",
          "Sturm Graz/Midfielder",
          "VfB Stuttgart/Midfielder",
          "Arsenal FC",
          "Aston Villa",
          "Atalanta BC",
          "Atletico Madrid",
          "BVB Dortmund",
          "Barcelona",
          "Bayer Leverkusen",
          "Bayern Munich",
          "Benfica",
          "Bologna",
          "Brest",
          "Celtic",
          "Club Brugge",
          "Dinamo Zagreb",
          "Feyenoord",
          "Girona",
          "Inter",
          "Juventus",
          "Leipzig",
          "Lille",
          "Liverpool FC",
          "Manchester City",
          "Milan",
          "Monaco",
          "PSV Eindhoven",
          "Paris SG",
          "Real Madrid",
          "Shakhtar Donetsk",
          "Sporting CP",
          "Sturm Graz",
          "VfB Stuttgart"
         ],
         "labels": [
          "Calafiori",
          "Gabriel Magalhaes",
          "Jurrien Timber",
          "Saliba",
          "Bukayo Saka",
          "Kai Havertz",
          "Martinelli",
          "David Raya",
          "Declan Rice",
          "Mikel Merino",
          "Odegaard",
          "Partey",
          "Ezri Konsa",
          "Maatsen",
          "Marcus Rashford",
          "Emiliano Martinez",
          "Jacob Ramsey",
          "John McGinn",
          "Rogers",
          "Youri Tielemans",
          "Kolasinac",
          "Kossounou",
          "Marten de Roon",
          "Lookman",
          "Carnesecchi",
          "Charles Ketelaere",
          "Ederson",
          "Mario Pasalic",
          "Zappacosta",
          "Jose Gimenez",
          "Giuliano Simeone",
          "Griezmann",
          "Julian Alvarez",
          "Lino",
          "Jan Oblak",
          "De Paul",
          "Llorente",
          "Bensebaini",
          "Ryerson",
          "Schlotterbeck",
          "Waldemar Anton",
          "Adeyemi",
          "Gittens",
          "Guirassy",
          "Emre Can",
          "Felix Nmecha",
          "Julian Brandt",
          "Pascal Gross",
          "Balde",
          "Inigo Martinez",
          "Kounde",
          "Ferran Torres",
          "Lewandowski",
          "Raphinha",
          "Yamal",
          "Szczesny",
          "Casado",
          "Dani Olmo",
          "Fermin Lopez",
          "Pedri",
          "Frimpong",
          "Grimaldo",
          "Hincapie",
          "Mukiele",
          "Florian Wirtz",
          "Granit Xhaka",
          "Palacios",
          "Alphonso Davies",
          "Laimer",
          "Minjae Kim",
          "Upamecano",
          "Harry Kane",
          "Jamal Musiala",
          "Olise",
          "Thomas Muller",
          "Kimmich",
          "Leon Goretzka",
          "Alexander Bah",
          "Alvaro Carreras",
          "Otamendi",
          "Akturkoglu",
          "Di Maria",
          "Pavlidis",
          "Aursnes",
          "Florentino",
          "Orkun Kökcü",
          "Lucumi",
          "Sam Beukema",
          "Dan Ndoye",
          "Skorupski",
          "Kenny Lala",
          "Marco Bizot",
          "Johnston",
          "Kuhn",
          "Schmeichel",
          "Arne Engels",
          "Callum McGregor",
          "Reo Hatate",
          "De Cuyper",
          "Christos Tzolis",
          "Mignolet",
          "Hans Vanaken",
          "Jashari",
          "Baturina",
          "Igor Paixao",
          "Wellenreuther ",
          "Milambo",
          "Quinten Timber",
          "Gazzaniga",
          "Bastoni",
          "Dimarco",
          "Dumfries",
          "Francesco Acerbi",
          "Pavard",
          "Stefan de Vrij",
          "Lautaro Martinez",
          "Taremi",
          "Thuram",
          "Yann Sommer",
          "Calhanoglu",
          "Mkhitaryan",
          "Nicolo Barella",
          "Federico Gatti",
          "Conceiçao",
          "Kenan Yildiz",
          "Di Gregorio",
          "Locatelli",
          "Benjamin Sesko",
          "Alexsandro Ribeiro",
          "Thomas Meunier",
          "Jonathan David",
          "Chevalier",
          "Benjamin Andre",
          "Cabella",
          "Ibrahima Konate",
          "Robertson",
          "Van Dijk",
          "Gakpo",
          "Luis Diaz",
          "Salah",
          "Alisson Becker",
          "Gravenberch",
          "Mac Allister",
          "Szoboszlai",
          "Manuel Akanji",
          "Rico Lewis",
          "Haaland",
          "Phil Foden",
          "Savinho",
          "Gundogan",
          "Matheus Nunes",
          "Theo Hernandez",
          "Youssouf Fofana",
          "Pulisic",
          "Rafael Leao",
          "Santiago Gimenez",
          "Mike Maignan",
          "Tijjani Reijnders",
          "Singo",
          "Vanderson",
          "Embolo",
          "Maghnes Akliouche",
          "Minamino",
          "Golovin",
          "Lamine Camara",
          "Boscagli",
          "Mauro Junior",
          "Ryan Flamingo",
          "Ivan Perisic",
          "Johan Bakayoko",
          "Luuk de Jong",
          "Noa Lang",
          "Ismael Saibari",
          "Joey Veerman",
          "Tillman",
          "Hakimi",
          "Marquinhos",
          "Nuno Mendes",
          "Pacho",
          "Barcola",
          "Dembele",
          "Desire Doue",
          "Kvaratskhelia",
          "Donnarumma",
          "Fabian Ruiz",
          "Joao Neves",
          "Vitinha",
          "Raul Asencio",
          "Brahim Diaz",
          "Jude Bellingham",
          "Kylian Mbappe",
          "Lucas Vazquez",
          "Rodrygo",
          "Vinicius Jr",
          "Courtois",
          "Modric",
          "Tchouameni",
          "Valverde",
          "Kevin",
          "Riznyk",
          "Georgiy Sudakov",
          "Gonçalo Inacio",
          "Quenda",
          "Trincao",
          "Viktor Gyokeres",
          "Franco Israel",
          "Hjulmand",
          "Otar Kiteishvili",
          "Angelo Stiller",
          "Enzo Millot",
          "Defender",
          "Forward",
          "Goalkeeper",
          "Midfielder",
          "Defender",
          "Forward",
          "Goalkeeper",
          "Midfielder",
          "Defender",
          "Forward",
          "Goalkeeper",
          "Midfielder",
          "Defender",
          "Forward",
          "Goalkeeper",
          "Midfielder",
          "Defender",
          "Forward",
          "Midfielder",
          "Defender",
          "Forward",
          "Goalkeeper",
          "Midfielder",
          "Defender",
          "Midfielder",
          "Defender",
          "Forward",
          "Midfielder",
          "Defender",
          "Forward",
          "Midfielder",
          "Defender",
          "Forward",
          "Goalkeeper",
          "Defender",
          "Goalkeeper",
          "Defender",
          "Forward",
          "Goalkeeper",
          "Midfielder",
          "Defender",
          "Forward",
          "Goalkeeper",
          "Midfielder",
          "Midfielder",
          "Forward",
          "Goalkeeper",
          "Midfielder",
          "Goalkeeper",
          "Defender",
          "Forward",
          "Goalkeeper",
          "Midfielder",
          "Defender",
          "Forward",
          "Goalkeeper",
          "Midfielder",
          "Forward",
          "Defender",
          "Forward",
          "Goalkeeper",
          "Midfielder",
          "Defender",
          "Forward",
          "Goalkeeper",
          "Midfielder",
          "Defender",
          "Forward",
          "Midfielder",
          "Defender",
          "Forward",
          "Goalkeeper",
          "Midfielder",
          "Defender",
          "Forward",
          "Midfielder",
          "Defender",
          "Forward",
          "Midfielder",
          "Defender",
          "Forward",
          "Goalkeeper",
          "Midfielder",
          "Defender",
          "Forward",
          "Goalkeeper",
          "Midfielder",
          "Forward",
          "Goalkeeper",
          "Midfielder",
          "Defender",
          "Forward",
          "Goalkeeper",
          "Midfielder",
          "Midfielder",
          "Midfielder",
          "Arsenal FC",
          "Aston Villa",
          "Atalanta BC",
          "Atletico Madrid",
          "BVB Dortmund",
          "Barcelona",
          "Bayer Leverkusen",
          "Bayern Munich",
          "Benfica",
          "Bologna",
          "Brest",
          "Celtic",
          "Club Brugge",
          "Dinamo Zagreb",
          "Feyenoord",
          "Girona",
          "Inter",
          "Juventus",
          "Leipzig",
          "Lille",
          "Liverpool FC",
          "Manchester City",
          "Milan",
          "Monaco",
          "PSV Eindhoven",
          "Paris SG",
          "Real Madrid",
          "Shakhtar Donetsk",
          "Sporting CP",
          "Sturm Graz",
          "VfB Stuttgart"
         ],
         "marker": {
          "coloraxis": "coloraxis",
          "colors": {
           "dtype": "f8",
           "bdata": "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"
          }
         },
         "name": "",
         "parents": [
          "Arsenal FC/Defender",
          "Arsenal FC/Defender",
          "Arsenal FC/Defender",
          "Arsenal FC/Defender",
          "Arsenal FC/Forward",
          "Arsenal FC/Forward",
          "Arsenal FC/Forward",
          "Arsenal FC/Goalkeeper",
          "Arsenal FC/Midfielder",
          "Arsenal FC/Midfielder",
          "Arsenal FC/Midfielder",
          "Arsenal FC/Midfielder",
          "Aston Villa/Defender",
          "Aston Villa/Defender",
          "Aston Villa/Forward",
          "Aston Villa/Goalkeeper",
          "Aston Villa/Midfielder",
          "Aston Villa/Midfielder",
          "Aston Villa/Midfielder",
          "Aston Villa/Midfielder",
          "Atalanta BC/Defender",
          "Atalanta BC/Defender",
          "Atalanta BC/Defender",
          "Atalanta BC/Forward",
          "Atalanta BC/Goalkeeper",
          "Atalanta BC/Midfielder",
          "Atalanta BC/Midfielder",
          "Atalanta BC/Midfielder",
          "Atalanta BC/Midfielder",
          "Atletico Madrid/Defender",
          "Atletico Madrid/Forward",
          "Atletico Madrid/Forward",
          "Atletico Madrid/Forward",
          "Atletico Madrid/Forward",
          "Atletico Madrid/Goalkeeper",
          "Atletico Madrid/Midfielder",
          "Atletico Madrid/Midfielder",
          "BVB Dortmund/Defender",
          "BVB Dortmund/Defender",
          "BVB Dortmund/Defender",
          "BVB Dortmund/Defender",
          "BVB Dortmund/Forward",
          "BVB Dortmund/Forward",
          "BVB Dortmund/Forward",
          "BVB Dortmund/Midfielder",
          "BVB Dortmund/Midfielder",
          "BVB Dortmund/Midfielder",
          "BVB Dortmund/Midfielder",
          "Barcelona/Defender",
          "Barcelona/Defender",
          "Barcelona/Defender",
          "Barcelona/Forward",
          "Barcelona/Forward",
          "Barcelona/Forward",
          "Barcelona/Forward",
          "Barcelona/Goalkeeper",
          "Barcelona/Midfielder",
          "Barcelona/Midfielder",
          "Barcelona/Midfielder",
          "Barcelona/Midfielder",
          "Bayer Leverkusen/Defender",
          "Bayer Leverkusen/Defender",
          "Bayer Leverkusen/Defender",
          "Bayer Leverkusen/Defender",
          "Bayer Leverkusen/Midfielder",
          "Bayer Leverkusen/Midfielder",
          "Bayer Leverkusen/Midfielder",
          "Bayern Munich/Defender",
          "Bayern Munich/Defender",
          "Bayern Munich/Defender",
          "Bayern Munich/Defender",
          "Bayern Munich/Forward",
          "Bayern Munich/Forward",
          "Bayern Munich/Forward",
          "Bayern Munich/Forward",
          "Bayern Munich/Midfielder",
          "Bayern Munich/Midfielder",
          "Benfica/Defender",
          "Benfica/Defender",
          "Benfica/Defender",
          "Benfica/Forward",
          "Benfica/Forward",
          "Benfica/Forward",
          "Benfica/Midfielder",
          "Benfica/Midfielder",
          "Benfica/Midfielder",
          "Bologna/Defender",
          "Bologna/Defender",
          "Bologna/Forward",
          "Bologna/Goalkeeper",
          "Brest/Defender",
          "Brest/Goalkeeper",
          "Celtic/Defender",
          "Celtic/Forward",
          "Celtic/Goalkeeper",
          "Celtic/Midfielder",
          "Celtic/Midfielder",
          "Celtic/Midfielder",
          "Club Brugge/Defender",
          "Club Brugge/Forward",
          "Club Brugge/Goalkeeper",
          "Club Brugge/Midfielder",
          "Club Brugge/Midfielder",
          "Dinamo Zagreb/Midfielder",
          "Feyenoord/Forward",
          "Feyenoord/Goalkeeper",
          "Feyenoord/Midfielder",
          "Feyenoord/Midfielder",
          "Girona/Goalkeeper",
          "Inter/Defender",
          "Inter/Defender",
          "Inter/Defender",
          "Inter/Defender",
          "Inter/Defender",
          "Inter/Defender",
          "Inter/Forward",
          "Inter/Forward",
          "Inter/Forward",
          "Inter/Goalkeeper",
          "Inter/Midfielder",
          "Inter/Midfielder",
          "Inter/Midfielder",
          "Juventus/Defender",
          "Juventus/Forward",
          "Juventus/Forward",
          "Juventus/Goalkeeper",
          "Juventus/Midfielder",
          "Leipzig/Forward",
          "Lille/Defender",
          "Lille/Defender",
          "Lille/Forward",
          "Lille/Goalkeeper",
          "Lille/Midfielder",
          "Lille/Midfielder",
          "Liverpool FC/Defender",
          "Liverpool FC/Defender",
          "Liverpool FC/Defender",
          "Liverpool FC/Forward",
          "Liverpool FC/Forward",
          "Liverpool FC/Forward",
          "Liverpool FC/Goalkeeper",
          "Liverpool FC/Midfielder",
          "Liverpool FC/Midfielder",
          "Liverpool FC/Midfielder",
          "Manchester City/Defender",
          "Manchester City/Defender",
          "Manchester City/Forward",
          "Manchester City/Forward",
          "Manchester City/Forward",
          "Manchester City/Midfielder",
          "Manchester City/Midfielder",
          "Milan/Defender",
          "Milan/Defender",
          "Milan/Forward",
          "Milan/Forward",
          "Milan/Forward",
          "Milan/Goalkeeper",
          "Milan/Midfielder",
          "Monaco/Defender",
          "Monaco/Defender",
          "Monaco/Forward",
          "Monaco/Forward",
          "Monaco/Forward",
          "Monaco/Midfielder",
          "Monaco/Midfielder",
          "PSV Eindhoven/Defender",
          "PSV Eindhoven/Defender",
          "PSV Eindhoven/Defender",
          "PSV Eindhoven/Forward",
          "PSV Eindhoven/Forward",
          "PSV Eindhoven/Forward",
          "PSV Eindhoven/Forward",
          "PSV Eindhoven/Midfielder",
          "PSV Eindhoven/Midfielder",
          "PSV Eindhoven/Midfielder",
          "Paris SG/Defender",
          "Paris SG/Defender",
          "Paris SG/Defender",
          "Paris SG/Defender",
          "Paris SG/Forward",
          "Paris SG/Forward",
          "Paris SG/Forward",
          "Paris SG/Forward",
          "Paris SG/Goalkeeper",
          "Paris SG/Midfielder",
          "Paris SG/Midfielder",
          "Paris SG/Midfielder",
          "Real Madrid/Defender",
          "Real Madrid/Forward",
          "Real Madrid/Forward",
          "Real Madrid/Forward",
          "Real Madrid/Forward",
          "Real Madrid/Forward",
          "Real Madrid/Forward",
          "Real Madrid/Goalkeeper",
          "Real Madrid/Midfielder",
          "Real Madrid/Midfielder",
          "Real Madrid/Midfielder",
          "Shakhtar Donetsk/Forward",
          "Shakhtar Donetsk/Goalkeeper",
          "Shakhtar Donetsk/Midfielder",
          "Sporting CP/Defender",
          "Sporting CP/Forward",
          "Sporting CP/Forward",
          "Sporting CP/Forward",
          "Sporting CP/Goalkeeper",
          "Sporting CP/Midfielder",
          "Sturm Graz/Midfielder",
          "VfB Stuttgart/Midfielder",
          "VfB Stuttgart/Midfielder",
          "Arsenal FC",
          "Arsenal FC",
          "Arsenal FC",
          "Arsenal FC",
          "Aston Villa",
          "Aston Villa",
          "Aston Villa",
          "Aston Villa",
          "Atalanta BC",
          "Atalanta BC",
          "Atalanta BC",
          "Atalanta BC",
          "Atletico Madrid",
          "Atletico Madrid",
          "Atletico Madrid",
          "Atletico Madrid",
          "BVB Dortmund",
          "BVB Dortmund",
          "BVB Dortmund",
          "Barcelona",
          "Barcelona",
          "Barcelona",
          "Barcelona",
          "Bayer Leverkusen",
          "Bayer Leverkusen",
          "Bayern Munich",
          "Bayern Munich",
          "Bayern Munich",
          "Benfica",
          "Benfica",
          "Benfica",
          "Bologna",
          "Bologna",
          "Bologna",
          "Brest",
          "Brest",
          "Celtic",
          "Celtic",
          "Celtic",
          "Celtic",
          "Club Brugge",
          "Club Brugge",
          "Club Brugge",
          "Club Brugge",
          "Dinamo Zagreb",
          "Feyenoord",
          "Feyenoord",
          "Feyenoord",
          "Girona",
          "Inter",
          "Inter",
          "Inter",
          "Inter",
          "Juventus",
          "Juventus",
          "Juventus",
          "Juventus",
          "Leipzig",
          "Lille",
          "Lille",
          "Lille",
          "Lille",
          "Liverpool FC",
          "Liverpool FC",
          "Liverpool FC",
          "Liverpool FC",
          "Manchester City",
          "Manchester City",
          "Manchester City",
          "Milan",
          "Milan",
          "Milan",
          "Milan",
          "Monaco",
          "Monaco",
          "Monaco",
          "PSV Eindhoven",
          "PSV Eindhoven",
          "PSV Eindhoven",
          "Paris SG",
          "Paris SG",
          "Paris SG",
          "Paris SG",
          "Real Madrid",
          "Real Madrid",
          "Real Madrid",
          "Real Madrid",
          "Shakhtar Donetsk",
          "Shakhtar Donetsk",
          "Shakhtar Donetsk",
          "Sporting CP",
          "Sporting CP",
          "Sporting CP",
          "Sporting CP",
          "Sturm Graz",
          "VfB Stuttgart",
          "",
          "",
          "",
          "",
          "",
          "",
          "",
          "",
          "",
          "",
          "",
          "",
          "",
          "",
          "",
          "",
          "",
          "",
          "",
          "",
          "",
          "",
          "",
          "",
          "",
          "",
          "",
          "",
          "",
          "",
          ""
         ],
         "values": {
          "dtype": "f8",
          "bdata": "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"
         },
         "type": "treemap"
        }
       ],
       "layout": {
        "template": {
         "data": {
          "histogram2dcontour": [
           {
            "type": "histogram2dcontour",
            "colorbar": {
             "outlinewidth": 0,
             "ticks": ""
            },
            "colorscale": [
             [
              0.0,
              "#0d0887"
             ],
             [
              0.1111111111111111,
              "#46039f"
             ],
             [
              0.2222222222222222,
              "#7201a8"
             ],
             [
              0.3333333333333333,
              "#9c179e"
             ],
             [
              0.4444444444444444,
              "#bd3786"
             ],
             [
              0.5555555555555556,
              "#d8576b"
             ],
             [
              0.6666666666666666,
              "#ed7953"
             ],
             [
              0.7777777777777778,
              "#fb9f3a"
             ],
             [
              0.8888888888888888,
              "#fdca26"
             ],
             [
              1.0,
              "#f0f921"
             ]
            ]
           }
          ],
          "choropleth": [
           {
            "type": "choropleth",
            "colorbar": {
             "outlinewidth": 0,
             "ticks": ""
            }
           }
          ],
          "histogram2d": [
           {
            "type": "histogram2d",
            "colorbar": {
             "outlinewidth": 0,
             "ticks": ""
            },
            "colorscale": [
             [
              0.0,
              "#0d0887"
             ],
             [
              0.1111111111111111,
              "#46039f"
             ],
             [
              0.2222222222222222,
              "#7201a8"
             ],
             [
              0.3333333333333333,
              "#9c179e"
             ],
             [
              0.4444444444444444,
              "#bd3786"
             ],
             [
              0.5555555555555556,
              "#d8576b"
             ],
             [
              0.6666666666666666,
              "#ed7953"
             ],
             [
              0.7777777777777778,
              "#fb9f3a"
             ],
             [
              0.8888888888888888,
              "#fdca26"
             ],
             [
              1.0,
              "#f0f921"
             ]
            ]
           }
          ],
          "heatmap": [
           {
            "type": "heatmap",
            "colorbar": {
             "outlinewidth": 0,
             "ticks": ""
            },
            "colorscale": [
             [
              0.0,
              "#0d0887"
             ],
             [
              0.1111111111111111,
              "#46039f"
             ],
             [
              0.2222222222222222,
              "#7201a8"
             ],
             [
              0.3333333333333333,
              "#9c179e"
             ],
             [
              0.4444444444444444,
              "#bd3786"
             ],
             [
              0.5555555555555556,
              "#d8576b"
             ],
             [
              0.6666666666666666,
              "#ed7953"
             ],
             [
              0.7777777777777778,
              "#fb9f3a"
             ],
             [
              0.8888888888888888,
              "#fdca26"
             ],
             [
              1.0,
              "#f0f921"
             ]
            ]
           }
          ],
          "contourcarpet": [
           {
            "type": "contourcarpet",
            "colorbar": {
             "outlinewidth": 0,
             "ticks": ""
            }
           }
          ],
          "contour": [
           {
            "type": "contour",
            "colorbar": {
             "outlinewidth": 0,
             "ticks": ""
            },
            "colorscale": [
             [
              0.0,
              "#0d0887"
             ],
             [
              0.1111111111111111,
              "#46039f"
             ],
             [
              0.2222222222222222,
              "#7201a8"
             ],
             [
              0.3333333333333333,
              "#9c179e"
             ],
             [
              0.4444444444444444,
              "#bd3786"
             ],
             [
              0.5555555555555556,
              "#d8576b"
             ],
             [
              0.6666666666666666,
              "#ed7953"
             ],
             [
              0.7777777777777778,
              "#fb9f3a"
             ],
             [
              0.8888888888888888,
              "#fdca26"
             ],
             [
              1.0,
              "#f0f921"
             ]
            ]
           }
          ],
          "surface": [
           {
            "type": "surface",
            "colorbar": {
             "outlinewidth": 0,
             "ticks": ""
            },
            "colorscale": [
             [
              0.0,
              "#0d0887"
             ],
             [
              0.1111111111111111,
              "#46039f"
             ],
             [
              0.2222222222222222,
              "#7201a8"
             ],
             [
              0.3333333333333333,
              "#9c179e"
             ],
             [
              0.4444444444444444,
              "#bd3786"
             ],
             [
              0.5555555555555556,
              "#d8576b"
             ],
             [
              0.6666666666666666,
              "#ed7953"
             ],
             [
              0.7777777777777778,
              "#fb9f3a"
             ],
             [
              0.8888888888888888,
              "#fdca26"
             ],
             [
              1.0,
              "#f0f921"
             ]
            ]
           }
          ],
          "mesh3d": [
           {
            "type": "mesh3d",
            "colorbar": {
             "outlinewidth": 0,
             "ticks": ""
            }
           }
          ],
          "scatter": [
           {
            "fillpattern": {
             "fillmode": "overlay",
             "size": 10,
             "solidity": 0.2
            },
            "type": "scatter"
           }
          ],
          "parcoords": [
           {
            "type": "parcoords",
            "line": {
             "colorbar": {
              "outlinewidth": 0,
              "ticks": ""
             }
            }
           }
          ],
          "scatterpolargl": [
           {
            "type": "scatterpolargl",
            "marker": {
             "colorbar": {
              "outlinewidth": 0,
              "ticks": ""
             }
            }
           }
          ],
          "bar": [
           {
            "error_x": {
             "color": "#2a3f5f"
            },
            "error_y": {
             "color": "#2a3f5f"
            },
            "marker": {
             "line": {
              "color": "#E5ECF6",
              "width": 0.5
             },
             "pattern": {
              "fillmode": "overlay",
              "size": 10,
              "solidity": 0.2
             }
            },
            "type": "bar"
           }
          ],
          "scattergeo": [
           {
            "type": "scattergeo",
            "marker": {
             "colorbar": {
              "outlinewidth": 0,
              "ticks": ""
             }
            }
           }
          ],
          "scatterpolar": [
           {
            "type": "scatterpolar",
            "marker": {
             "colorbar": {
              "outlinewidth": 0,
              "ticks": ""
             }
            }
           }
          ],
          "histogram": [
           {
            "marker": {
             "pattern": {
              "fillmode": "overlay",
              "size": 10,
              "solidity": 0.2
             }
            },
            "type": "histogram"
           }
          ],
          "scattergl": [
           {
            "type": "scattergl",
            "marker": {
             "colorbar": {
              "outlinewidth": 0,
              "ticks": ""
             }
            }
           }
          ],
          "scatter3d": [
           {
            "type": "scatter3d",
            "line": {
             "colorbar": {
              "outlinewidth": 0,
              "ticks": ""
             }
            },
            "marker": {
             "colorbar": {
              "outlinewidth": 0,
              "ticks": ""
             }
            }
           }
          ],
          "scattermap": [
           {
            "type": "scattermap",
            "marker": {
             "colorbar": {
              "outlinewidth": 0,
              "ticks": ""
             }
            }
           }
          ],
          "scattermapbox": [
           {
            "type": "scattermapbox",
            "marker": {
             "colorbar": {
              "outlinewidth": 0,
              "ticks": ""
             }
            }
           }
          ],
          "scatterternary": [
           {
            "type": "scatterternary",
            "marker": {
             "colorbar": {
              "outlinewidth": 0,
              "ticks": ""
             }
            }
           }
          ],
          "scattercarpet": [
           {
            "type": "scattercarpet",
            "marker": {
             "colorbar": {
              "outlinewidth": 0,
              "ticks": ""
             }
            }
           }
          ],
          "carpet": [
           {
            "aaxis": {
             "endlinecolor": "#2a3f5f",
             "gridcolor": "white",
             "linecolor": "white",
             "minorgridcolor": "white",
             "startlinecolor": "#2a3f5f"
            },
            "baxis": {
             "endlinecolor": "#2a3f5f",
             "gridcolor": "white",
             "linecolor": "white",
             "minorgridcolor": "white",
             "startlinecolor": "#2a3f5f"
            },
            "type": "carpet"
           }
          ],
          "table": [
           {
            "cells": {
             "fill": {
              "color": "#EBF0F8"
             },
             "line": {
              "color": "white"
             }
            },
            "header": {
             "fill": {
              "color": "#C8D4E3"
             },
             "line": {
              "color": "white"
             }
            },
            "type": "table"
           }
          ],
          "barpolar": [
           {
            "marker": {
             "line": {
              "color": "#E5ECF6",
              "width": 0.5
             },
             "pattern": {
              "fillmode": "overlay",
              "size": 10,
              "solidity": 0.2
             }
            },
            "type": "barpolar"
           }
          ],
          "pie": [
           {
            "automargin": true,
            "type": "pie"
           }
          ]
         },
         "layout": {
          "autotypenumbers": "strict",
          "colorway": [
           "#636efa",
           "#EF553B",
           "#00cc96",
           "#ab63fa",
           "#FFA15A",
           "#19d3f3",
           "#FF6692",
           "#B6E880",
           "#FF97FF",
           "#FECB52"
          ],
          "font": {
           "color": "#2a3f5f"
          },
          "hovermode": "closest",
          "hoverlabel": {
           "align": "left"
          },
          "paper_bgcolor": "white",
          "plot_bgcolor": "#E5ECF6",
          "polar": {
           "bgcolor": "#E5ECF6",
           "angularaxis": {
            "gridcolor": "white",
            "linecolor": "white",
            "ticks": ""
           },
           "radialaxis": {
            "gridcolor": "white",
            "linecolor": "white",
            "ticks": ""
           }
          },
          "ternary": {
           "bgcolor": "#E5ECF6",
           "aaxis": {
            "gridcolor": "white",
            "linecolor": "white",
            "ticks": ""
           },
           "baxis": {
            "gridcolor": "white",
            "linecolor": "white",
            "ticks": ""
           },
           "caxis": {
            "gridcolor": "white",
            "linecolor": "white",
            "ticks": ""
           }
          },
          "coloraxis": {
           "colorbar": {
            "outlinewidth": 0,
            "ticks": ""
           }
          },
          "colorscale": {
           "sequential": [
            [
             0.0,
             "#0d0887"
            ],
            [
             0.1111111111111111,
             "#46039f"
            ],
            [
             0.2222222222222222,
             "#7201a8"
            ],
            [
             0.3333333333333333,
             "#9c179e"
            ],
            [
             0.4444444444444444,
             "#bd3786"
            ],
            [
             0.5555555555555556,
             "#d8576b"
            ],
            [
             0.6666666666666666,
             "#ed7953"
            ],
            [
             0.7777777777777778,
             "#fb9f3a"
            ],
            [
             0.8888888888888888,
             "#fdca26"
            ],
            [
             1.0,
             "#f0f921"
            ]
           ],
           "sequentialminus": [
            [
             0.0,
             "#0d0887"
            ],
            [
             0.1111111111111111,
             "#46039f"
            ],
            [
             0.2222222222222222,
             "#7201a8"
            ],
            [
             0.3333333333333333,
             "#9c179e"
            ],
            [
             0.4444444444444444,
             "#bd3786"
            ],
            [
             0.5555555555555556,
             "#d8576b"
            ],
            [
             0.6666666666666666,
             "#ed7953"
            ],
            [
             0.7777777777777778,
             "#fb9f3a"
            ],
            [
             0.8888888888888888,
             "#fdca26"
            ],
            [
             1.0,
             "#f0f921"
            ]
           ],
           "diverging": [
            [
             0,
             "#8e0152"
            ],
            [
             0.1,
             "#c51b7d"
            ],
            [
             0.2,
             "#de77ae"
            ],
            [
             0.3,
             "#f1b6da"
            ],
            [
             0.4,
             "#fde0ef"
            ],
            [
             0.5,
             "#f7f7f7"
            ],
            [
             0.6,
             "#e6f5d0"
            ],
            [
             0.7,
             "#b8e186"
            ],
            [
             0.8,
             "#7fbc41"
            ],
            [
             0.9,
             "#4d9221"
            ],
            [
             1,
             "#276419"
            ]
           ]
          },
          "xaxis": {
           "gridcolor": "white",
           "linecolor": "white",
           "ticks": "",
           "title": {
            "standoff": 15
           },
           "zerolinecolor": "white",
           "automargin": true,
           "zerolinewidth": 2
          },
          "yaxis": {
           "gridcolor": "white",
           "linecolor": "white",
           "ticks": "",
           "title": {
            "standoff": 15
           },
           "zerolinecolor": "white",
           "automargin": true,
           "zerolinewidth": 2
          },
          "scene": {
           "xaxis": {
            "backgroundcolor": "#E5ECF6",
            "gridcolor": "white",
            "linecolor": "white",
            "showbackground": true,
            "ticks": "",
            "zerolinecolor": "white",
            "gridwidth": 2
           },
           "yaxis": {
            "backgroundcolor": "#E5ECF6",
            "gridcolor": "white",
            "linecolor": "white",
            "showbackground": true,
            "ticks": "",
            "zerolinecolor": "white",
            "gridwidth": 2
           },
           "zaxis": {
            "backgroundcolor": "#E5ECF6",
            "gridcolor": "white",
            "linecolor": "white",
            "showbackground": true,
            "ticks": "",
            "zerolinecolor": "white",
            "gridwidth": 2
           }
          },
          "shapedefaults": {
           "line": {
            "color": "#2a3f5f"
           }
          },
          "annotationdefaults": {
           "arrowcolor": "#2a3f5f",
           "arrowhead": 0,
           "arrowwidth": 1
          },
          "geo": {
           "bgcolor": "white",
           "landcolor": "#E5ECF6",
           "subunitcolor": "white",
           "showland": true,
           "showlakes": true,
           "lakecolor": "white"
          },
          "title": {
           "x": 0.05
          },
          "mapbox": {
           "style": "light"
          }
         }
        },
        "coloraxis": {
         "colorbar": {
          "title": {
           "text": "Defensive_Score"
          }
         },
         "colorscale": [
          [
           0.0,
           "rgb(255,247,236)"
          ],
          [
           0.125,
           "rgb(254,232,200)"
          ],
          [
           0.25,
           "rgb(253,212,158)"
          ],
          [
           0.375,
           "rgb(253,187,132)"
          ],
          [
           0.5,
           "rgb(252,141,89)"
          ],
          [
           0.625,
           "rgb(239,101,72)"
          ],
          [
           0.75,
           "rgb(215,48,31)"
          ],
          [
           0.875,
           "rgb(179,0,0)"
          ],
          [
           1.0,
           "rgb(127,0,0)"
          ]
         ]
        },
        "legend": {
         "tracegroupgap": 0
        },
        "title": {
         "text": "Treemap: Defensive Contributions by Team, Position and Player"
        },
        "margin": {
         "t": 60,
         "l": 0,
         "r": 0,
         "b": 0
        }
       },
       "config": {
        "plotlyServerURL": "https://plot.ly"
       }
      }
     },
     "metadata": {},
     "output_type": "display_data"
    }
   ],
   "execution_count": 8
  },
  {
   "metadata": {
    "ExecuteTime": {
     "end_time": "2025-06-12T15:23:18.802336Z",
     "start_time": "2025-06-12T15:23:18.792783Z"
    }
   },
   "cell_type": "code",
   "source": [
    "nationality_counts = ucl['Nationality'].value_counts()\n",
    "print(nationality_counts)"
   ],
   "id": "7e9f5b808f69b72e",
   "outputs": [
    {
     "name": "stdout",
     "output_type": "stream",
     "text": [
      "Nationality\n",
      "France           24\n",
      "Netherlands      18\n",
      "Germany          16\n",
      "Spain            16\n",
      "Brazil           15\n",
      "Italy            11\n",
      "England          11\n",
      "Argentina        10\n",
      "Belgium           9\n",
      "Portugal          9\n",
      "Switzerland       6\n",
      "Turkey            5\n",
      "Norway            4\n",
      "Croatia           4\n",
      "Morocco           3\n",
      "Poland            3\n",
      "Denmark           3\n",
      "Canada            3\n",
      "Uruguay           3\n",
      "Scotland          3\n",
      "United States     2\n",
      "Slovenia          2\n",
      "Japan             2\n",
      "Ecuador           2\n",
      "Ukraine           2\n",
      "Ivory Coast       2\n",
      "Greece            2\n",
      "Georgia           2\n",
      "Colombia          2\n",
      "Nigeria           2\n",
      "Algeria           1\n",
      "Hungary           1\n",
      "Iran              1\n",
      "Mexico            1\n",
      "Armenia           1\n",
      "Portugal          1\n",
      "BosniaH           1\n",
      "Senegal           1\n",
      "South Korea       1\n",
      "Egypt             1\n",
      "Sweden            1\n",
      "Ghana             1\n",
      "Austria           1\n",
      "Russia            1\n",
      "Name: count, dtype: int64\n"
     ]
    }
   ],
   "execution_count": 9
  },
  {
   "metadata": {
    "ExecuteTime": {
     "end_time": "2025-06-12T15:23:19.227016Z",
     "start_time": "2025-06-12T15:23:19.192105Z"
    }
   },
   "cell_type": "code",
   "source": [
    "nationality_counts = ucl['Nationality'].value_counts().head(20).reset_index()\n",
    "nationality_counts.columns = ['Nationality', 'Count']\n",
    "\n",
    "nationality_counts"
   ],
   "id": "13b8b79bf7f508fa",
   "outputs": [
    {
     "data": {
      "text/plain": [
       "    Nationality  Count\n",
       "0        France     24\n",
       "1   Netherlands     18\n",
       "2       Germany     16\n",
       "3         Spain     16\n",
       "4        Brazil     15\n",
       "5         Italy     11\n",
       "6       England     11\n",
       "7     Argentina     10\n",
       "8       Belgium      9\n",
       "9      Portugal      9\n",
       "10  Switzerland      6\n",
       "11       Turkey      5\n",
       "12       Norway      4\n",
       "13      Croatia      4\n",
       "14      Morocco      3\n",
       "15       Poland      3\n",
       "16      Denmark      3\n",
       "17       Canada      3\n",
       "18      Uruguay      3\n",
       "19     Scotland      3"
      ],
      "text/html": [
       "<div>\n",
       "<style scoped>\n",
       "    .dataframe tbody tr th:only-of-type {\n",
       "        vertical-align: middle;\n",
       "    }\n",
       "\n",
       "    .dataframe tbody tr th {\n",
       "        vertical-align: top;\n",
       "    }\n",
       "\n",
       "    .dataframe thead th {\n",
       "        text-align: right;\n",
       "    }\n",
       "</style>\n",
       "<table border=\"1\" class=\"dataframe\">\n",
       "  <thead>\n",
       "    <tr style=\"text-align: right;\">\n",
       "      <th></th>\n",
       "      <th>Nationality</th>\n",
       "      <th>Count</th>\n",
       "    </tr>\n",
       "  </thead>\n",
       "  <tbody>\n",
       "    <tr>\n",
       "      <th>0</th>\n",
       "      <td>France</td>\n",
       "      <td>24</td>\n",
       "    </tr>\n",
       "    <tr>\n",
       "      <th>1</th>\n",
       "      <td>Netherlands</td>\n",
       "      <td>18</td>\n",
       "    </tr>\n",
       "    <tr>\n",
       "      <th>2</th>\n",
       "      <td>Germany</td>\n",
       "      <td>16</td>\n",
       "    </tr>\n",
       "    <tr>\n",
       "      <th>3</th>\n",
       "      <td>Spain</td>\n",
       "      <td>16</td>\n",
       "    </tr>\n",
       "    <tr>\n",
       "      <th>4</th>\n",
       "      <td>Brazil</td>\n",
       "      <td>15</td>\n",
       "    </tr>\n",
       "    <tr>\n",
       "      <th>5</th>\n",
       "      <td>Italy</td>\n",
       "      <td>11</td>\n",
       "    </tr>\n",
       "    <tr>\n",
       "      <th>6</th>\n",
       "      <td>England</td>\n",
       "      <td>11</td>\n",
       "    </tr>\n",
       "    <tr>\n",
       "      <th>7</th>\n",
       "      <td>Argentina</td>\n",
       "      <td>10</td>\n",
       "    </tr>\n",
       "    <tr>\n",
       "      <th>8</th>\n",
       "      <td>Belgium</td>\n",
       "      <td>9</td>\n",
       "    </tr>\n",
       "    <tr>\n",
       "      <th>9</th>\n",
       "      <td>Portugal</td>\n",
       "      <td>9</td>\n",
       "    </tr>\n",
       "    <tr>\n",
       "      <th>10</th>\n",
       "      <td>Switzerland</td>\n",
       "      <td>6</td>\n",
       "    </tr>\n",
       "    <tr>\n",
       "      <th>11</th>\n",
       "      <td>Turkey</td>\n",
       "      <td>5</td>\n",
       "    </tr>\n",
       "    <tr>\n",
       "      <th>12</th>\n",
       "      <td>Norway</td>\n",
       "      <td>4</td>\n",
       "    </tr>\n",
       "    <tr>\n",
       "      <th>13</th>\n",
       "      <td>Croatia</td>\n",
       "      <td>4</td>\n",
       "    </tr>\n",
       "    <tr>\n",
       "      <th>14</th>\n",
       "      <td>Morocco</td>\n",
       "      <td>3</td>\n",
       "    </tr>\n",
       "    <tr>\n",
       "      <th>15</th>\n",
       "      <td>Poland</td>\n",
       "      <td>3</td>\n",
       "    </tr>\n",
       "    <tr>\n",
       "      <th>16</th>\n",
       "      <td>Denmark</td>\n",
       "      <td>3</td>\n",
       "    </tr>\n",
       "    <tr>\n",
       "      <th>17</th>\n",
       "      <td>Canada</td>\n",
       "      <td>3</td>\n",
       "    </tr>\n",
       "    <tr>\n",
       "      <th>18</th>\n",
       "      <td>Uruguay</td>\n",
       "      <td>3</td>\n",
       "    </tr>\n",
       "    <tr>\n",
       "      <th>19</th>\n",
       "      <td>Scotland</td>\n",
       "      <td>3</td>\n",
       "    </tr>\n",
       "  </tbody>\n",
       "</table>\n",
       "</div>"
      ]
     },
     "execution_count": 10,
     "metadata": {},
     "output_type": "execute_result"
    }
   ],
   "execution_count": 10
  },
  {
   "metadata": {
    "ExecuteTime": {
     "end_time": "2025-06-12T15:23:19.622110Z",
     "start_time": "2025-06-12T15:23:19.610726Z"
    }
   },
   "cell_type": "code",
   "source": [
    "teams_sf = ucl.loc[ucl['Phase'] == 'Semi_finals', 'Team'].unique()\n",
    "\n",
    "print(\"Skuadrat në Semi-finals:\", teams_sf)"
   ],
   "id": "a7e2f2ebb375854e",
   "outputs": [
    {
     "name": "stdout",
     "output_type": "stream",
     "text": [
      "Skuadrat në Semi-finals: ['Arsenal FC' 'Barcelona']\n"
     ]
    }
   ],
   "execution_count": 11
  },
  {
   "metadata": {
    "ExecuteTime": {
     "end_time": "2025-06-12T15:23:19.856251Z",
     "start_time": "2025-06-12T15:23:19.850102Z"
    }
   },
   "cell_type": "code",
   "source": [
    "teams_final = ucl.loc[ucl['Phase'] == 'Final', 'Team'].unique()\n",
    "\n",
    "print(\"Skuadrat në Final:\", teams_final)"
   ],
   "id": "2496eaf79ca5c7ba",
   "outputs": [
    {
     "name": "stdout",
     "output_type": "stream",
     "text": [
      "Skuadrat në Final: ['Inter' 'Paris SG']\n"
     ]
    }
   ],
   "execution_count": 12
  },
  {
   "metadata": {
    "ExecuteTime": {
     "end_time": "2025-06-12T15:23:20.215835Z",
     "start_time": "2025-06-12T15:23:20.207313Z"
    }
   },
   "cell_type": "code",
   "source": [
    "teams_qf = ucl.loc[ucl['Phase'] == 'Quarter_finals', 'Team'].unique()\n",
    "\n",
    "print(\"Skuadrat në Quarter finals:\", teams_qf)"
   ],
   "id": "18068d512f71d584",
   "outputs": [
    {
     "name": "stdout",
     "output_type": "stream",
     "text": [
      "Skuadrat në Quarter finals: ['Real Madrid' 'BVB Dortmund' 'Aston Villa' 'Bayern Munich']\n"
     ]
    }
   ],
   "execution_count": 13
  },
  {
   "metadata": {
    "ExecuteTime": {
     "end_time": "2025-06-12T15:23:20.419750Z",
     "start_time": "2025-06-12T15:23:20.412235Z"
    }
   },
   "cell_type": "code",
   "source": [
    "teams_r16 = ucl.loc[ucl['Phase'] == 'Round16', 'Team'].unique()\n",
    "\n",
    "print(\"Skuadrat ne Round 16:\", teams_r16)"
   ],
   "id": "1290672df1419c6c",
   "outputs": [
    {
     "name": "stdout",
     "output_type": "stream",
     "text": [
      "Skuadrat ne Round 16: ['Liverpool FC' 'Club Brugge' 'Benfica' 'Atletico Madrid' 'PSV Eindhoven'\n",
      " 'Lille' 'Bayer Leverkusen' 'Feyenoord']\n"
     ]
    }
   ],
   "execution_count": 14
  },
  {
   "metadata": {
    "ExecuteTime": {
     "end_time": "2025-06-12T15:23:20.991630Z",
     "start_time": "2025-06-12T15:23:20.646225Z"
    }
   },
   "cell_type": "code",
   "source": [
    "plt.figure(figsize=(10, 6))\n",
    "\n",
    "sns.countplot(x='Nationality', data=ucl, order=nationality_counts['Nationality'].head(20))\n",
    "plt.xlabel('Nationality')\n",
    "plt.ylabel('Count')\n",
    "plt.title('Shperndarja e Kombesive ne Champions League 2025')\n",
    "plt.xticks(rotation=45)\n",
    "plt.tight_layout()\n",
    "plt.show()"
   ],
   "id": "86f742ab3fc8c87a",
   "outputs": [
    {
     "data": {
      "text/plain": [
       "<Figure size 1000x600 with 1 Axes>"
      ],
      "image/png": "[encoded data removed]"
     },
     "metadata": {},
     "output_type": "display_data"
    }
   ],
   "execution_count": 15
  },
  {
   "metadata": {
    "ExecuteTime": {
     "end_time": "2025-06-12T15:23:21.065288Z",
     "start_time": "2025-06-12T15:23:21.053584Z"
    }
   },
   "cell_type": "code",
   "source": "ucl.groupby('Nationality')['Player'].count().sort_values(ascending=False)",
   "id": "8a70ecfed6f7f216",
   "outputs": [
    {
     "data": {
      "text/plain": [
       "Nationality\n",
       "France           24\n",
       "Netherlands      18\n",
       "Spain            16\n",
       "Germany          16\n",
       "Brazil           15\n",
       "Italy            11\n",
       "England          11\n",
       "Argentina        10\n",
       "Belgium           9\n",
       "Portugal          9\n",
       "Switzerland       6\n",
       "Turkey            5\n",
       "Croatia           4\n",
       "Norway            4\n",
       "Uruguay           3\n",
       "Poland            3\n",
       "Scotland          3\n",
       "Morocco           3\n",
       "Canada            3\n",
       "Denmark           3\n",
       "Ukraine           2\n",
       "United States     2\n",
       "Slovenia          2\n",
       "Nigeria           2\n",
       "Colombia          2\n",
       "Ecuador           2\n",
       "Greece            2\n",
       "Georgia           2\n",
       "Japan             2\n",
       "Ivory Coast       2\n",
       "Armenia           1\n",
       "Austria           1\n",
       "BosniaH           1\n",
       "Algeria           1\n",
       "Egypt             1\n",
       "Hungary           1\n",
       "Mexico            1\n",
       "Iran              1\n",
       "Ghana             1\n",
       "Portugal          1\n",
       "Senegal           1\n",
       "Russia            1\n",
       "Sweden            1\n",
       "South Korea       1\n",
       "Name: Player, dtype: int64"
      ]
     },
     "execution_count": 16,
     "metadata": {},
     "output_type": "execute_result"
    }
   ],
   "execution_count": 16
  },
  {
   "metadata": {
    "ExecuteTime": {
     "end_time": "2025-06-12T15:23:21.291129Z",
     "start_time": "2025-06-12T15:23:21.283161Z"
    }
   },
   "cell_type": "code",
   "source": [
    "unique_teams_series = pd.Series(ucl['Nationality'].unique())\n",
    "print(unique_teams_series)"
   ],
   "id": "44eddf1b528e0e7c",
   "outputs": [
    {
     "name": "stdout",
     "output_type": "stream",
     "text": [
      "0            France\n",
      "1             Italy\n",
      "2            Poland\n",
      "3            Brazil\n",
      "4       Netherlands\n",
      "5           England\n",
      "6            Norway\n",
      "7           Morocco\n",
      "8           Belgium\n",
      "9         Argentina\n",
      "10           Canada\n",
      "11    United States\n",
      "12            Spain\n",
      "13          Algeria\n",
      "14         Portugal\n",
      "15          Germany\n",
      "16          Georgia\n",
      "17          Hungary\n",
      "18         Scotland\n",
      "19           Turkey\n",
      "20           Greece\n",
      "21             Iran\n",
      "22          Ecuador\n",
      "23           Mexico\n",
      "24         Slovenia\n",
      "25            Japan\n",
      "26          Uruguay\n",
      "27          Croatia\n",
      "28      Switzerland\n",
      "29        Portugal \n",
      "30          Denmark\n",
      "31          Armenia\n",
      "32          BosniaH\n",
      "33          Senegal\n",
      "34      Ivory Coast\n",
      "35          Ukraine\n",
      "36            Egypt\n",
      "37      South Korea\n",
      "38          Nigeria\n",
      "39           Sweden\n",
      "40            Ghana\n",
      "41          Austria\n",
      "42         Colombia\n",
      "43           Russia\n",
      "dtype: object\n"
     ]
    }
   ],
   "execution_count": 17
  },
  {
   "metadata": {
    "ExecuteTime": {
     "end_time": "2025-06-12T15:23:21.581749Z",
     "start_time": "2025-06-12T15:23:21.561571Z"
    }
   },
   "cell_type": "code",
   "source": "ucl.head(10)\n",
   "id": "ab071ec269da989",
   "outputs": [
    {
     "data": {
      "text/plain": [
       "   PlayerID           Player    Position  Age  Nationality          Team  \\\n",
       "0         1   Theo Hernandez    Defender   27       France         Milan   \n",
       "1         2   Nicolo Barella  Midfielder   28        Italy         Inter   \n",
       "2         3      Lewandowski     Forward   36       Poland     Barcelona   \n",
       "3         4         Raphinha     Forward   28       Brazil     Barcelona   \n",
       "4         5         Van Dijk    Defender   33  Netherlands  Liverpool FC   \n",
       "5         6  Jude Bellingham     Forward   21      England   Real Madrid   \n",
       "6         7         Odegaard  Midfielder   26       Norway    Arsenal FC   \n",
       "7         8      Brahim Diaz     Forward   25      Morocco   Real Madrid   \n",
       "8         9     Hans Vanaken  Midfielder   32      Belgium   Club Brugge   \n",
       "9        10         Otamendi    Defender   37    Argentina       Benfica   \n",
       "\n",
       "     Competitions            Phase Phase_Tier  Value10^6  ...  Tackles_Lost  \\\n",
       "0         Serie A   Knockout_phase          D       40.0  ...             5   \n",
       "1         Serie A            Final          S       80.0  ...            15   \n",
       "2         La Liga     Semi_finals           A       15.0  ...             1   \n",
       "3         La Liga     Semi_finals           A       80.0  ...             7   \n",
       "4  Premier League          Round16          C       50.0  ...             3   \n",
       "5         La Liga  Quarter_finals           B      180.0  ...            23   \n",
       "6  Premier League     Semi_finals           A      100.0  ...             2   \n",
       "7         La Liga   Quarter_finals          B       45.0  ...             6   \n",
       "8      Pro League          Round16          C        7.0  ...             9   \n",
       "9   Liga Portugal          Round16          C        1.0  ...            14   \n",
       "\n",
       "   Saves  Goals_Conceded  Clean_Sheets  MOTM_Awards  Minutes_played  \\\n",
       "0      0               0             0            0             861   \n",
       "1      0               0             0            2             994   \n",
       "2      0               0             0            2             985   \n",
       "3      0               0             0            3            1225   \n",
       "4      0               0             0            0             840   \n",
       "5      0               0             0            1            1136   \n",
       "6      0               0             0            1             798   \n",
       "7      0               0             0            0             479   \n",
       "8      0               0             0            1            1080   \n",
       "9      0               0             0            0            1080   \n",
       "\n",
       "   Match_played  DNP  Total_Contrib  Defensive_Score  \n",
       "0            10    0              0               55  \n",
       "1            13    2              2               40  \n",
       "2            13    1             11               15  \n",
       "3            14    0             22               20  \n",
       "4             9    1              1               54  \n",
       "5            13    1              5               49  \n",
       "6            11    3              4               12  \n",
       "7            11    3              3               17  \n",
       "8            12    0              2               36  \n",
       "9            12    0              1              102  \n",
       "\n",
       "[10 rows x 32 columns]"
      ],
      "text/html": [
       "<div>\n",
       "<style scoped>\n",
       "    .dataframe tbody tr th:only-of-type {\n",
       "        vertical-align: middle;\n",
       "    }\n",
       "\n",
       "    .dataframe tbody tr th {\n",
       "        vertical-align: top;\n",
       "    }\n",
       "\n",
       "    .dataframe thead th {\n",
       "        text-align: right;\n",
       "    }\n",
       "</style>\n",
       "<table border=\"1\" class=\"dataframe\">\n",
       "  <thead>\n",
       "    <tr style=\"text-align: right;\">\n",
       "      <th></th>\n",
       "      <th>PlayerID</th>\n",
       "      <th>Player</th>\n",
       "      <th>Position</th>\n",
       "      <th>Age</th>\n",
       "      <th>Nationality</th>\n",
       "      <th>Team</th>\n",
       "      <th>Competitions</th>\n",
       "      <th>Phase</th>\n",
       "      <th>Phase_Tier</th>\n",
       "      <th>Value10^6</th>\n",
       "      <th>...</th>\n",
       "      <th>Tackles_Lost</th>\n",
       "      <th>Saves</th>\n",
       "      <th>Goals_Conceded</th>\n",
       "      <th>Clean_Sheets</th>\n",
       "      <th>MOTM_Awards</th>\n",
       "      <th>Minutes_played</th>\n",
       "      <th>Match_played</th>\n",
       "      <th>DNP</th>\n",
       "      <th>Total_Contrib</th>\n",
       "      <th>Defensive_Score</th>\n",
       "    </tr>\n",
       "  </thead>\n",
       "  <tbody>\n",
       "    <tr>\n",
       "      <th>0</th>\n",
       "      <td>1</td>\n",
       "      <td>Theo Hernandez</td>\n",
       "      <td>Defender</td>\n",
       "      <td>27</td>\n",
       "      <td>France</td>\n",
       "      <td>Milan</td>\n",
       "      <td>Serie A</td>\n",
       "      <td>Knockout_phase</td>\n",
       "      <td>D</td>\n",
       "      <td>40.0</td>\n",
       "      <td>...</td>\n",
       "      <td>5</td>\n",
       "      <td>0</td>\n",
       "      <td>0</td>\n",
       "      <td>0</td>\n",
       "      <td>0</td>\n",
       "      <td>861</td>\n",
       "      <td>10</td>\n",
       "      <td>0</td>\n",
       "      <td>0</td>\n",
       "      <td>55</td>\n",
       "    </tr>\n",
       "    <tr>\n",
       "      <th>1</th>\n",
       "      <td>2</td>\n",
       "      <td>Nicolo Barella</td>\n",
       "      <td>Midfielder</td>\n",
       "      <td>28</td>\n",
       "      <td>Italy</td>\n",
       "      <td>Inter</td>\n",
       "      <td>Serie A</td>\n",
       "      <td>Final</td>\n",
       "      <td>S</td>\n",
       "      <td>80.0</td>\n",
       "      <td>...</td>\n",
       "      <td>15</td>\n",
       "      <td>0</td>\n",
       "      <td>0</td>\n",
       "      <td>0</td>\n",
       "      <td>2</td>\n",
       "      <td>994</td>\n",
       "      <td>13</td>\n",
       "      <td>2</td>\n",
       "      <td>2</td>\n",
       "      <td>40</td>\n",
       "    </tr>\n",
       "    <tr>\n",
       "      <th>2</th>\n",
       "      <td>3</td>\n",
       "      <td>Lewandowski</td>\n",
       "      <td>Forward</td>\n",
       "      <td>36</td>\n",
       "      <td>Poland</td>\n",
       "      <td>Barcelona</td>\n",
       "      <td>La Liga</td>\n",
       "      <td>Semi_finals</td>\n",
       "      <td>A</td>\n",
       "      <td>15.0</td>\n",
       "      <td>...</td>\n",
       "      <td>1</td>\n",
       "      <td>0</td>\n",
       "      <td>0</td>\n",
       "      <td>0</td>\n",
       "      <td>2</td>\n",
       "      <td>985</td>\n",
       "      <td>13</td>\n",
       "      <td>1</td>\n",
       "      <td>11</td>\n",
       "      <td>15</td>\n",
       "    </tr>\n",
       "    <tr>\n",
       "      <th>3</th>\n",
       "      <td>4</td>\n",
       "      <td>Raphinha</td>\n",
       "      <td>Forward</td>\n",
       "      <td>28</td>\n",
       "      <td>Brazil</td>\n",
       "      <td>Barcelona</td>\n",
       "      <td>La Liga</td>\n",
       "      <td>Semi_finals</td>\n",
       "      <td>A</td>\n",
       "      <td>80.0</td>\n",
       "      <td>...</td>\n",
       "      <td>7</td>\n",
       "      <td>0</td>\n",
       "      <td>0</td>\n",
       "      <td>0</td>\n",
       "      <td>3</td>\n",
       "      <td>1225</td>\n",
       "      <td>14</td>\n",
       "      <td>0</td>\n",
       "      <td>22</td>\n",
       "      <td>20</td>\n",
       "    </tr>\n",
       "    <tr>\n",
       "      <th>4</th>\n",
       "      <td>5</td>\n",
       "      <td>Van Dijk</td>\n",
       "      <td>Defender</td>\n",
       "      <td>33</td>\n",
       "      <td>Netherlands</td>\n",
       "      <td>Liverpool FC</td>\n",
       "      <td>Premier League</td>\n",
       "      <td>Round16</td>\n",
       "      <td>C</td>\n",
       "      <td>50.0</td>\n",
       "      <td>...</td>\n",
       "      <td>3</td>\n",
       "      <td>0</td>\n",
       "      <td>0</td>\n",
       "      <td>0</td>\n",
       "      <td>0</td>\n",
       "      <td>840</td>\n",
       "      <td>9</td>\n",
       "      <td>1</td>\n",
       "      <td>1</td>\n",
       "      <td>54</td>\n",
       "    </tr>\n",
       "    <tr>\n",
       "      <th>5</th>\n",
       "      <td>6</td>\n",
       "      <td>Jude Bellingham</td>\n",
       "      <td>Forward</td>\n",
       "      <td>21</td>\n",
       "      <td>England</td>\n",
       "      <td>Real Madrid</td>\n",
       "      <td>La Liga</td>\n",
       "      <td>Quarter_finals</td>\n",
       "      <td>B</td>\n",
       "      <td>180.0</td>\n",
       "      <td>...</td>\n",
       "      <td>23</td>\n",
       "      <td>0</td>\n",
       "      <td>0</td>\n",
       "      <td>0</td>\n",
       "      <td>1</td>\n",
       "      <td>1136</td>\n",
       "      <td>13</td>\n",
       "      <td>1</td>\n",
       "      <td>5</td>\n",
       "      <td>49</td>\n",
       "    </tr>\n",
       "    <tr>\n",
       "      <th>6</th>\n",
       "      <td>7</td>\n",
       "      <td>Odegaard</td>\n",
       "      <td>Midfielder</td>\n",
       "      <td>26</td>\n",
       "      <td>Norway</td>\n",
       "      <td>Arsenal FC</td>\n",
       "      <td>Premier League</td>\n",
       "      <td>Semi_finals</td>\n",
       "      <td>A</td>\n",
       "      <td>100.0</td>\n",
       "      <td>...</td>\n",
       "      <td>2</td>\n",
       "      <td>0</td>\n",
       "      <td>0</td>\n",
       "      <td>0</td>\n",
       "      <td>1</td>\n",
       "      <td>798</td>\n",
       "      <td>11</td>\n",
       "      <td>3</td>\n",
       "      <td>4</td>\n",
       "      <td>12</td>\n",
       "    </tr>\n",
       "    <tr>\n",
       "      <th>7</th>\n",
       "      <td>8</td>\n",
       "      <td>Brahim Diaz</td>\n",
       "      <td>Forward</td>\n",
       "      <td>25</td>\n",
       "      <td>Morocco</td>\n",
       "      <td>Real Madrid</td>\n",
       "      <td>La Liga</td>\n",
       "      <td>Quarter_finals</td>\n",
       "      <td>B</td>\n",
       "      <td>45.0</td>\n",
       "      <td>...</td>\n",
       "      <td>6</td>\n",
       "      <td>0</td>\n",
       "      <td>0</td>\n",
       "      <td>0</td>\n",
       "      <td>0</td>\n",
       "      <td>479</td>\n",
       "      <td>11</td>\n",
       "      <td>3</td>\n",
       "      <td>3</td>\n",
       "      <td>17</td>\n",
       "    </tr>\n",
       "    <tr>\n",
       "      <th>8</th>\n",
       "      <td>9</td>\n",
       "      <td>Hans Vanaken</td>\n",
       "      <td>Midfielder</td>\n",
       "      <td>32</td>\n",
       "      <td>Belgium</td>\n",
       "      <td>Club Brugge</td>\n",
       "      <td>Pro League</td>\n",
       "      <td>Round16</td>\n",
       "      <td>C</td>\n",
       "      <td>7.0</td>\n",
       "      <td>...</td>\n",
       "      <td>9</td>\n",
       "      <td>0</td>\n",
       "      <td>0</td>\n",
       "      <td>0</td>\n",
       "      <td>1</td>\n",
       "      <td>1080</td>\n",
       "      <td>12</td>\n",
       "      <td>0</td>\n",
       "      <td>2</td>\n",
       "      <td>36</td>\n",
       "    </tr>\n",
       "    <tr>\n",
       "      <th>9</th>\n",
       "      <td>10</td>\n",
       "      <td>Otamendi</td>\n",
       "      <td>Defender</td>\n",
       "      <td>37</td>\n",
       "      <td>Argentina</td>\n",
       "      <td>Benfica</td>\n",
       "      <td>Liga Portugal</td>\n",
       "      <td>Round16</td>\n",
       "      <td>C</td>\n",
       "      <td>1.0</td>\n",
       "      <td>...</td>\n",
       "      <td>14</td>\n",
       "      <td>0</td>\n",
       "      <td>0</td>\n",
       "      <td>0</td>\n",
       "      <td>0</td>\n",
       "      <td>1080</td>\n",
       "      <td>12</td>\n",
       "      <td>0</td>\n",
       "      <td>1</td>\n",
       "      <td>102</td>\n",
       "    </tr>\n",
       "  </tbody>\n",
       "</table>\n",
       "<p>10 rows × 32 columns</p>\n",
       "</div>"
      ]
     },
     "execution_count": 18,
     "metadata": {},
     "output_type": "execute_result"
    }
   ],
   "execution_count": 18
  },
  {
   "metadata": {
    "ExecuteTime": {
     "end_time": "2025-06-12T15:23:21.889052Z",
     "start_time": "2025-06-12T15:23:21.871583Z"
    }
   },
   "cell_type": "code",
   "source": [
    "# Get the top 5 clubs with the most total attempts on target\n",
    "top_clubs_shots= ucl.groupby('Team')['Total_attempts'].sum().nlargest(5).reset_index()\n",
    "top_clubs_shots\n"
   ],
   "id": "c7943d105f12e954",
   "outputs": [
    {
     "data": {
      "text/plain": [
       "            Team  Total_attempts\n",
       "0       Paris SG             279\n",
       "1      Barcelona             202\n",
       "2  Bayern Munich             194\n",
       "3    Real Madrid             181\n",
       "4  PSV Eindhoven             157"
      ],
      "text/html": [
       "<div>\n",
       "<style scoped>\n",
       "    .dataframe tbody tr th:only-of-type {\n",
       "        vertical-align: middle;\n",
       "    }\n",
       "\n",
       "    .dataframe tbody tr th {\n",
       "        vertical-align: top;\n",
       "    }\n",
       "\n",
       "    .dataframe thead th {\n",
       "        text-align: right;\n",
       "    }\n",
       "</style>\n",
       "<table border=\"1\" class=\"dataframe\">\n",
       "  <thead>\n",
       "    <tr style=\"text-align: right;\">\n",
       "      <th></th>\n",
       "      <th>Team</th>\n",
       "      <th>Total_attempts</th>\n",
       "    </tr>\n",
       "  </thead>\n",
       "  <tbody>\n",
       "    <tr>\n",
       "      <th>0</th>\n",
       "      <td>Paris SG</td>\n",
       "      <td>279</td>\n",
       "    </tr>\n",
       "    <tr>\n",
       "      <th>1</th>\n",
       "      <td>Barcelona</td>\n",
       "      <td>202</td>\n",
       "    </tr>\n",
       "    <tr>\n",
       "      <th>2</th>\n",
       "      <td>Bayern Munich</td>\n",
       "      <td>194</td>\n",
       "    </tr>\n",
       "    <tr>\n",
       "      <th>3</th>\n",
       "      <td>Real Madrid</td>\n",
       "      <td>181</td>\n",
       "    </tr>\n",
       "    <tr>\n",
       "      <th>4</th>\n",
       "      <td>PSV Eindhoven</td>\n",
       "      <td>157</td>\n",
       "    </tr>\n",
       "  </tbody>\n",
       "</table>\n",
       "</div>"
      ]
     },
     "execution_count": 19,
     "metadata": {},
     "output_type": "execute_result"
    }
   ],
   "execution_count": 19
  },
  {
   "metadata": {
    "ExecuteTime": {
     "end_time": "2025-06-12T15:23:22.806843Z",
     "start_time": "2025-06-12T15:23:22.273525Z"
    }
   },
   "cell_type": "code",
   "source": [
    "from turtle import st\n",
    "fig = px.funnel(top_clubs_shots,x='Total_attempts',y='Team',title='Top 5 Teams with the Most Total Attempts on Target',orientation='h',labels={'Total_attempts':'Total Attempts on Target'})\n",
    "\n",
    "fig.update_layout(\n",
    "    xaxis_title='Total Attempts on Target',\n",
    "    yaxis_title='Team',\n",
    "    showlegend=False,\n",
    "    template='plotly_dark',\n",
    "    width=800,\n",
    "    height=600,\n",
    ")\n",
    "fig.show()\n"
   ],
   "id": "6fb3e9e33cadd78e",
   "outputs": [
    {
     "data": {
      "application/vnd.plotly.v1+json": {
       "data": [
        {
         "hovertemplate": "Total Attempts on Target=%{x}<br>Team=%{y}<extra></extra>",
         "legendgroup": "",
         "marker": {
          "color": "#636efa"
         },
         "name": "",
         "orientation": "h",
         "showlegend": false,
         "x": {
          "dtype": "i2",
          "bdata": "FwHKAMIAtQCdAA=="
         },
         "xaxis": "x",
         "y": [
          "Paris SG",
          "Barcelona",
          "Bayern Munich",
          "Real Madrid",
          "PSV Eindhoven"
         ],
         "yaxis": "y",
         "type": "funnel"
        }
       ],
       "layout": {
        "template": {
         "data": {
          "barpolar": [
           {
            "marker": {
             "line": {
              "color": "rgb(17,17,17)",
              "width": 0.5
             },
             "pattern": {
              "fillmode": "overlay",
              "size": 10,
              "solidity": 0.2
             }
            },
            "type": "barpolar"
           }
          ],
          "bar": [
           {
            "error_x": {
             "color": "#f2f5fa"
            },
            "error_y": {
             "color": "#f2f5fa"
            },
            "marker": {
             "line": {
              "color": "rgb(17,17,17)",
              "width": 0.5
             },
             "pattern": {
              "fillmode": "overlay",
              "size": 10,
              "solidity": 0.2
             }
            },
            "type": "bar"
           }
          ],
          "carpet": [
           {
            "aaxis": {
             "endlinecolor": "#A2B1C6",
             "gridcolor": "#506784",
             "linecolor": "#506784",
             "minorgridcolor": "#506784",
             "startlinecolor": "#A2B1C6"
            },
            "baxis": {
             "endlinecolor": "#A2B1C6",
             "gridcolor": "#506784",
             "linecolor": "#506784",
             "minorgridcolor": "#506784",
             "startlinecolor": "#A2B1C6"
            },
            "type": "carpet"
           }
          ],
          "choropleth": [
           {
            "colorbar": {
             "outlinewidth": 0,
             "ticks": ""
            },
            "type": "choropleth"
           }
          ],
          "contourcarpet": [
           {
            "colorbar": {
             "outlinewidth": 0,
             "ticks": ""
            },
            "type": "contourcarpet"
           }
          ],
          "contour": [
           {
            "colorbar": {
             "outlinewidth": 0,
             "ticks": ""
            },
            "colorscale": [
             [
              0.0,
              "#0d0887"
             ],
             [
              0.1111111111111111,
              "#46039f"
             ],
             [
              0.2222222222222222,
              "#7201a8"
             ],
             [
              0.3333333333333333,
              "#9c179e"
             ],
             [
              0.4444444444444444,
              "#bd3786"
             ],
             [
              0.5555555555555556,
              "#d8576b"
             ],
             [
              0.6666666666666666,
              "#ed7953"
             ],
             [
              0.7777777777777778,
              "#fb9f3a"
             ],
             [
              0.8888888888888888,
              "#fdca26"
             ],
             [
              1.0,
              "#f0f921"
             ]
            ],
            "type": "contour"
           }
          ],
          "heatmap": [
           {
            "colorbar": {
             "outlinewidth": 0,
             "ticks": ""
            },
            "colorscale": [
             [
              0.0,
              "#0d0887"
             ],
             [
              0.1111111111111111,
              "#46039f"
             ],
             [
              0.2222222222222222,
              "#7201a8"
             ],
             [
              0.3333333333333333,
              "#9c179e"
             ],
             [
              0.4444444444444444,
              "#bd3786"
             ],
             [
              0.5555555555555556,
              "#d8576b"
             ],
             [
              0.6666666666666666,
              "#ed7953"
             ],
             [
              0.7777777777777778,
              "#fb9f3a"
             ],
             [
              0.8888888888888888,
              "#fdca26"
             ],
             [
              1.0,
              "#f0f921"
             ]
            ],
            "type": "heatmap"
           }
          ],
          "histogram2dcontour": [
           {
            "colorbar": {
             "outlinewidth": 0,
             "ticks": ""
            },
            "colorscale": [
             [
              0.0,
              "#0d0887"
             ],
             [
              0.1111111111111111,
              "#46039f"
             ],
             [
              0.2222222222222222,
              "#7201a8"
             ],
             [
              0.3333333333333333,
              "#9c179e"
             ],
             [
              0.4444444444444444,
              "#bd3786"
             ],
             [
              0.5555555555555556,
              "#d8576b"
             ],
             [
              0.6666666666666666,
              "#ed7953"
             ],
             [
              0.7777777777777778,
              "#fb9f3a"
             ],
             [
              0.8888888888888888,
              "#fdca26"
             ],
             [
              1.0,
              "#f0f921"
             ]
            ],
            "type": "histogram2dcontour"
           }
          ],
          "histogram2d": [
           {
            "colorbar": {
             "outlinewidth": 0,
             "ticks": ""
            },
            "colorscale": [
             [
              0.0,
              "#0d0887"
             ],
             [
              0.1111111111111111,
              "#46039f"
             ],
             [
              0.2222222222222222,
              "#7201a8"
             ],
             [
              0.3333333333333333,
              "#9c179e"
             ],
             [
              0.4444444444444444,
              "#bd3786"
             ],
             [
              0.5555555555555556,
              "#d8576b"
             ],
             [
              0.6666666666666666,
              "#ed7953"
             ],
             [
              0.7777777777777778,
              "#fb9f3a"
             ],
             [
              0.8888888888888888,
              "#fdca26"
             ],
             [
              1.0,
              "#f0f921"
             ]
            ],
            "type": "histogram2d"
           }
          ],
          "histogram": [
           {
            "marker": {
             "pattern": {
              "fillmode": "overlay",
              "size": 10,
              "solidity": 0.2
             }
            },
            "type": "histogram"
           }
          ],
          "mesh3d": [
           {
            "colorbar": {
             "outlinewidth": 0,
             "ticks": ""
            },
            "type": "mesh3d"
           }
          ],
          "parcoords": [
           {
            "line": {
             "colorbar": {
              "outlinewidth": 0,
              "ticks": ""
             }
            },
            "type": "parcoords"
           }
          ],
          "pie": [
           {
            "automargin": true,
            "type": "pie"
           }
          ],
          "scatter3d": [
           {
            "line": {
             "colorbar": {
              "outlinewidth": 0,
              "ticks": ""
             }
            },
            "marker": {
             "colorbar": {
              "outlinewidth": 0,
              "ticks": ""
             }
            },
            "type": "scatter3d"
           }
          ],
          "scattercarpet": [
           {
            "marker": {
             "colorbar": {
              "outlinewidth": 0,
              "ticks": ""
             }
            },
            "type": "scattercarpet"
           }
          ],
          "scattergeo": [
           {
            "marker": {
             "colorbar": {
              "outlinewidth": 0,
              "ticks": ""
             }
            },
            "type": "scattergeo"
           }
          ],
          "scattergl": [
           {
            "marker": {
             "line": {
              "color": "#283442"
             }
            },
            "type": "scattergl"
           }
          ],
          "scattermapbox": [
           {
            "marker": {
             "colorbar": {
              "outlinewidth": 0,
              "ticks": ""
             }
            },
            "type": "scattermapbox"
           }
          ],
          "scattermap": [
           {
            "marker": {
             "colorbar": {
              "outlinewidth": 0,
              "ticks": ""
             }
            },
            "type": "scattermap"
           }
          ],
          "scatterpolargl": [
           {
            "marker": {
             "colorbar": {
              "outlinewidth": 0,
              "ticks": ""
             }
            },
            "type": "scatterpolargl"
           }
          ],
          "scatterpolar": [
           {
            "marker": {
             "colorbar": {
              "outlinewidth": 0,
              "ticks": ""
             }
            },
            "type": "scatterpolar"
           }
          ],
          "scatter": [
           {
            "marker": {
             "line": {
              "color": "#283442"
             }
            },
            "type": "scatter"
           }
          ],
          "scatterternary": [
           {
            "marker": {
             "colorbar": {
              "outlinewidth": 0,
              "ticks": ""
             }
            },
            "type": "scatterternary"
           }
          ],
          "surface": [
           {
            "colorbar": {
             "outlinewidth": 0,
             "ticks": ""
            },
            "colorscale": [
             [
              0.0,
              "#0d0887"
             ],
             [
              0.1111111111111111,
              "#46039f"
             ],
             [
              0.2222222222222222,
              "#7201a8"
             ],
             [
              0.3333333333333333,
              "#9c179e"
             ],
             [
              0.4444444444444444,
              "#bd3786"
             ],
             [
              0.5555555555555556,
              "#d8576b"
             ],
             [
              0.6666666666666666,
              "#ed7953"
             ],
             [
              0.7777777777777778,
              "#fb9f3a"
             ],
             [
              0.8888888888888888,
              "#fdca26"
             ],
             [
              1.0,
              "#f0f921"
             ]
            ],
            "type": "surface"
           }
          ],
          "table": [
           {
            "cells": {
             "fill": {
              "color": "#506784"
             },
             "line": {
              "color": "rgb(17,17,17)"
             }
            },
            "header": {
             "fill": {
              "color": "#2a3f5f"
             },
             "line": {
              "color": "rgb(17,17,17)"
             }
            },
            "type": "table"
           }
          ]
         },
         "layout": {
          "annotationdefaults": {
           "arrowcolor": "#f2f5fa",
           "arrowhead": 0,
           "arrowwidth": 1
          },
          "autotypenumbers": "strict",
          "coloraxis": {
           "colorbar": {
            "outlinewidth": 0,
            "ticks": ""
           }
          },
          "colorscale": {
           "diverging": [
            [
             0,
             "#8e0152"
            ],
            [
             0.1,
             "#c51b7d"
            ],
            [
             0.2,
             "#de77ae"
            ],
            [
             0.3,
             "#f1b6da"
            ],
            [
             0.4,
             "#fde0ef"
            ],
            [
             0.5,
             "#f7f7f7"
            ],
            [
             0.6,
             "#e6f5d0"
            ],
            [
             0.7,
             "#b8e186"
            ],
            [
             0.8,
             "#7fbc41"
            ],
            [
             0.9,
             "#4d9221"
            ],
            [
             1,
             "#276419"
            ]
           ],
           "sequential": [
            [
             0.0,
             "#0d0887"
            ],
            [
             0.1111111111111111,
             "#46039f"
            ],
            [
             0.2222222222222222,
             "#7201a8"
            ],
            [
             0.3333333333333333,
             "#9c179e"
            ],
            [
             0.4444444444444444,
             "#bd3786"
            ],
            [
             0.5555555555555556,
             "#d8576b"
            ],
            [
             0.6666666666666666,
             "#ed7953"
            ],
            [
             0.7777777777777778,
             "#fb9f3a"
            ],
            [
             0.8888888888888888,
             "#fdca26"
            ],
            [
             1.0,
             "#f0f921"
            ]
           ],
           "sequentialminus": [
            [
             0.0,
             "#0d0887"
            ],
            [
             0.1111111111111111,
             "#46039f"
            ],
            [
             0.2222222222222222,
             "#7201a8"
            ],
            [
             0.3333333333333333,
             "#9c179e"
            ],
            [
             0.4444444444444444,
             "#bd3786"
            ],
            [
             0.5555555555555556,
             "#d8576b"
            ],
            [
             0.6666666666666666,
             "#ed7953"
            ],
            [
             0.7777777777777778,
             "#fb9f3a"
            ],
            [
             0.8888888888888888,
             "#fdca26"
            ],
            [
             1.0,
             "#f0f921"
            ]
           ]
          },
          "colorway": [
           "#636efa",
           "#EF553B",
           "#00cc96",
           "#ab63fa",
           "#FFA15A",
           "#19d3f3",
           "#FF6692",
           "#B6E880",
           "#FF97FF",
           "#FECB52"
          ],
          "font": {
           "color": "#f2f5fa"
          },
          "geo": {
           "bgcolor": "rgb(17,17,17)",
           "lakecolor": "rgb(17,17,17)",
           "landcolor": "rgb(17,17,17)",
           "showlakes": true,
           "showland": true,
           "subunitcolor": "#506784"
          },
          "hoverlabel": {
           "align": "left"
          },
          "hovermode": "closest",
          "mapbox": {
           "style": "dark"
          },
          "paper_bgcolor": "rgb(17,17,17)",
          "plot_bgcolor": "rgb(17,17,17)",
          "polar": {
           "angularaxis": {
            "gridcolor": "#506784",
            "linecolor": "#506784",
            "ticks": ""
           },
           "bgcolor": "rgb(17,17,17)",
           "radialaxis": {
            "gridcolor": "#506784",
            "linecolor": "#506784",
            "ticks": ""
           }
          },
          "scene": {
           "xaxis": {
            "backgroundcolor": "rgb(17,17,17)",
            "gridcolor": "#506784",
            "gridwidth": 2,
            "linecolor": "#506784",
            "showbackground": true,
            "ticks": "",
            "zerolinecolor": "#C8D4E3"
           },
           "yaxis": {
            "backgroundcolor": "rgb(17,17,17)",
            "gridcolor": "#506784",
            "gridwidth": 2,
            "linecolor": "#506784",
            "showbackground": true,
            "ticks": "",
            "zerolinecolor": "#C8D4E3"
           },
           "zaxis": {
            "backgroundcolor": "rgb(17,17,17)",
            "gridcolor": "#506784",
            "gridwidth": 2,
            "linecolor": "#506784",
            "showbackground": true,
            "ticks": "",
            "zerolinecolor": "#C8D4E3"
           }
          },
          "shapedefaults": {
           "line": {
            "color": "#f2f5fa"
           }
          },
          "sliderdefaults": {
           "bgcolor": "#C8D4E3",
           "bordercolor": "rgb(17,17,17)",
           "borderwidth": 1,
           "tickwidth": 0
          },
          "ternary": {
           "aaxis": {
            "gridcolor": "#506784",
            "linecolor": "#506784",
            "ticks": ""
           },
           "baxis": {
            "gridcolor": "#506784",
            "linecolor": "#506784",
            "ticks": ""
           },
           "bgcolor": "rgb(17,17,17)",
           "caxis": {
            "gridcolor": "#506784",
            "linecolor": "#506784",
            "ticks": ""
           }
          },
          "title": {
           "x": 0.05
          },
          "updatemenudefaults": {
           "bgcolor": "#506784",
           "borderwidth": 0
          },
          "xaxis": {
           "automargin": true,
           "gridcolor": "#283442",
           "linecolor": "#506784",
           "ticks": "",
           "title": {
            "standoff": 15
           },
           "zerolinecolor": "#283442",
           "zerolinewidth": 2
          },
          "yaxis": {
           "automargin": true,
           "gridcolor": "#283442",
           "linecolor": "#506784",
           "ticks": "",
           "title": {
            "standoff": 15
           },
           "zerolinecolor": "#283442",
           "zerolinewidth": 2
          }
         }
        },
        "xaxis": {
         "anchor": "y",
         "domain": [
          0.0,
          1.0
         ],
         "title": {
          "text": "Total Attempts on Target"
         }
        },
        "yaxis": {
         "anchor": "x",
         "domain": [
          0.0,
          1.0
         ],
         "title": {
          "text": "Team"
         }
        },
        "legend": {
         "tracegroupgap": 0
        },
        "title": {
         "text": "Top 5 Teams with the Most Total Attempts on Target"
        },
        "showlegend": false,
        "width": 800,
        "height": 600
       },
       "config": {
        "plotlyServerURL": "https://plot.ly"
       }
      }
     },
     "metadata": {},
     "output_type": "display_data"
    }
   ],
   "execution_count": 20
  },
  {
   "metadata": {
    "ExecuteTime": {
     "end_time": "2025-06-12T15:23:22.879288Z",
     "start_time": "2025-06-12T15:23:22.873154Z"
    }
   },
   "cell_type": "code",
   "source": [
    "ucl['Phase_Tier'] = ucl['Phase_Tier'].str.strip(\" \")\n",
    "ucl['Phase_Tier'] = ucl['Phase_Tier'].str.strip().str.upper()"
   ],
   "id": "9054345767c8d629",
   "outputs": [],
   "execution_count": 21
  },
  {
   "metadata": {
    "ExecuteTime": {
     "end_time": "2025-06-12T15:23:22.970149Z",
     "start_time": "2025-06-12T15:23:22.956457Z"
    }
   },
   "cell_type": "code",
   "source": [
    "ucl['Performance_Coefficient'] = (\n",
    "    ucl['Rating'] * 0.5 +\n",
    "    ucl['Minutes_played'] * 0.002 +\n",
    "    ucl['Match_played'] * 1.1 +\n",
    "    ucl['Goals'] * 0.7 + +\n",
    "    ucl['Assists'] * 0.3 +\n",
    "    ucl['Total_attempts'] * 0.5 +\n",
    "    ucl['MOTM_Awards'] * 0.2 +\n",
    "    ucl['Balls_recovered'] * 0.1\n",
    ")"
   ],
   "id": "4d29c85b4582bd3d",
   "outputs": [],
   "execution_count": 22
  },
  {
   "metadata": {
    "ExecuteTime": {
     "end_time": "2025-06-12T15:23:23.057989Z",
     "start_time": "2025-06-12T15:23:23.045865Z"
    }
   },
   "cell_type": "code",
   "source": [
    "team_coefficient = ucl.groupby('Team')['Performance_Coefficient'].mean().reset_index()\n",
    "team_coefficient = team_coefficient.sort_values('Performance_Coefficient', ascending=False)"
   ],
   "id": "8b5bd8be9cdcbe78",
   "outputs": [],
   "execution_count": 23
  },
  {
   "metadata": {
    "ExecuteTime": {
     "end_time": "2025-06-12T15:23:23.163275Z",
     "start_time": "2025-06-12T15:23:23.150416Z"
    }
   },
   "cell_type": "code",
   "source": "team_coefficient['Performance_Coefficient'] = team_coefficient['Performance_Coefficient'].round(3)",
   "id": "7fcd3e59be3e31f3",
   "outputs": [],
   "execution_count": 24
  },
  {
   "metadata": {
    "ExecuteTime": {
     "end_time": "2025-06-12T15:23:23.386545Z",
     "start_time": "2025-06-12T15:23:23.266741Z"
    }
   },
   "cell_type": "code",
   "source": [
    "fig = px.bar(\n",
    "    team_coefficient.head(10),\n",
    "    x='Team',\n",
    "    y='Performance_Coefficient',\n",
    "    title='Top 10 Skuadrat në Champions League sipas Koeficientit të Performancës',\n",
    "    color='Performance_Coefficient',\n",
    "    text='Performance_Coefficient'\n",
    ")\n",
    "\n",
    "fig.update_layout(xaxis_title=\"Team\", yaxis_title=\"Performance Coefficient\", uniformtext_minsize=8\n",
    "                  , uniformtext_mode='hide', template='plotly_dark', width=800, height=600)\n",
    "fig.show()"
   ],
   "id": "e1cf263d689204f3",
   "outputs": [
    {
     "data": {
      "application/vnd.plotly.v1+json": {
       "data": [
        {
         "hovertemplate": "Team=%{x}<br>Performance_Coefficient=%{marker.color}<extra></extra>",
         "legendgroup": "",
         "marker": {
          "color": {
           "dtype": "f8",
           "bdata": "EFg5tMi2RUApXI/C9ZhBQCcxCKwc+j9AEoPAyqGlP0D2KFyPwnU/QNejcD0Klz1AUrgehesRPUCDwMqhRTY8QHNoke18vztAuB6F61F4O0A="
          },
          "coloraxis": "coloraxis",
          "pattern": {
           "shape": ""
          }
         },
         "name": "",
         "orientation": "v",
         "showlegend": false,
         "text": {
          "dtype": "f8",
          "bdata": "EFg5tMi2RUApXI/C9ZhBQCcxCKwc+j9AEoPAyqGlP0D2KFyPwnU/QNejcD0Klz1AUrgehesRPUCDwMqhRTY8QHNoke18vztAuB6F61F4O0A="
         },
         "textposition": "auto",
         "x": [
          "Paris SG",
          "Bayern Munich",
          "Barcelona",
          "Real Madrid",
          "BVB Dortmund",
          "Benfica",
          "Inter",
          "PSV Eindhoven",
          "Club Brugge",
          "Arsenal FC"
         ],
         "xaxis": "x",
         "y": {
          "dtype": "f8",
          "bdata": "EFg5tMi2RUApXI/C9ZhBQCcxCKwc+j9AEoPAyqGlP0D2KFyPwnU/QNejcD0Klz1AUrgehesRPUCDwMqhRTY8QHNoke18vztAuB6F61F4O0A="
         },
         "yaxis": "y",
         "type": "bar"
        }
       ],
       "layout": {
        "template": {
         "data": {
          "barpolar": [
           {
            "marker": {
             "line": {
              "color": "rgb(17,17,17)",
              "width": 0.5
             },
             "pattern": {
              "fillmode": "overlay",
              "size": 10,
              "solidity": 0.2
             }
            },
            "type": "barpolar"
           }
          ],
          "bar": [
           {
            "error_x": {
             "color": "#f2f5fa"
            },
            "error_y": {
             "color": "#f2f5fa"
            },
            "marker": {
             "line": {
              "color": "rgb(17,17,17)",
              "width": 0.5
             },
             "pattern": {
              "fillmode": "overlay",
              "size": 10,
              "solidity": 0.2
             }
            },
            "type": "bar"
           }
          ],
          "carpet": [
           {
            "aaxis": {
             "endlinecolor": "#A2B1C6",
             "gridcolor": "#506784",
             "linecolor": "#506784",
             "minorgridcolor": "#506784",
             "startlinecolor": "#A2B1C6"
            },
            "baxis": {
             "endlinecolor": "#A2B1C6",
             "gridcolor": "#506784",
             "linecolor": "#506784",
             "minorgridcolor": "#506784",
             "startlinecolor": "#A2B1C6"
            },
            "type": "carpet"
           }
          ],
          "choropleth": [
           {
            "colorbar": {
             "outlinewidth": 0,
             "ticks": ""
            },
            "type": "choropleth"
           }
          ],
          "contourcarpet": [
           {
            "colorbar": {
             "outlinewidth": 0,
             "ticks": ""
            },
            "type": "contourcarpet"
           }
          ],
          "contour": [
           {
            "colorbar": {
             "outlinewidth": 0,
             "ticks": ""
            },
            "colorscale": [
             [
              0.0,
              "#0d0887"
             ],
             [
              0.1111111111111111,
              "#46039f"
             ],
             [
              0.2222222222222222,
              "#7201a8"
             ],
             [
              0.3333333333333333,
              "#9c179e"
             ],
             [
              0.4444444444444444,
              "#bd3786"
             ],
             [
              0.5555555555555556,
              "#d8576b"
             ],
             [
              0.6666666666666666,
              "#ed7953"
             ],
             [
              0.7777777777777778,
              "#fb9f3a"
             ],
             [
              0.8888888888888888,
              "#fdca26"
             ],
             [
              1.0,
              "#f0f921"
             ]
            ],
            "type": "contour"
           }
          ],
          "heatmap": [
           {
            "colorbar": {
             "outlinewidth": 0,
             "ticks": ""
            },
            "colorscale": [
             [
              0.0,
              "#0d0887"
             ],
             [
              0.1111111111111111,
              "#46039f"
             ],
             [
              0.2222222222222222,
              "#7201a8"
             ],
             [
              0.3333333333333333,
              "#9c179e"
             ],
             [
              0.4444444444444444,
              "#bd3786"
             ],
             [
              0.5555555555555556,
              "#d8576b"
             ],
             [
              0.6666666666666666,
              "#ed7953"
             ],
             [
              0.7777777777777778,
              "#fb9f3a"
             ],
             [
              0.8888888888888888,
              "#fdca26"
             ],
             [
              1.0,
              "#f0f921"
             ]
            ],
            "type": "heatmap"
           }
          ],
          "histogram2dcontour": [
           {
            "colorbar": {
             "outlinewidth": 0,
             "ticks": ""
            },
            "colorscale": [
             [
              0.0,
              "#0d0887"
             ],
             [
              0.1111111111111111,
              "#46039f"
             ],
             [
              0.2222222222222222,
              "#7201a8"
             ],
             [
              0.3333333333333333,
              "#9c179e"
             ],
             [
              0.4444444444444444,
              "#bd3786"
             ],
             [
              0.5555555555555556,
              "#d8576b"
             ],
             [
              0.6666666666666666,
              "#ed7953"
             ],
             [
              0.7777777777777778,
              "#fb9f3a"
             ],
             [
              0.8888888888888888,
              "#fdca26"
             ],
             [
              1.0,
              "#f0f921"
             ]
            ],
            "type": "histogram2dcontour"
           }
          ],
          "histogram2d": [
           {
            "colorbar": {
             "outlinewidth": 0,
             "ticks": ""
            },
            "colorscale": [
             [
              0.0,
              "#0d0887"
             ],
             [
              0.1111111111111111,
              "#46039f"
             ],
             [
              0.2222222222222222,
              "#7201a8"
             ],
             [
              0.3333333333333333,
              "#9c179e"
             ],
             [
              0.4444444444444444,
              "#bd3786"
             ],
             [
              0.5555555555555556,
              "#d8576b"
             ],
             [
              0.6666666666666666,
              "#ed7953"
             ],
             [
              0.7777777777777778,
              "#fb9f3a"
             ],
             [
              0.8888888888888888,
              "#fdca26"
             ],
             [
              1.0,
              "#f0f921"
             ]
            ],
            "type": "histogram2d"
           }
          ],
          "histogram": [
           {
            "marker": {
             "pattern": {
              "fillmode": "overlay",
              "size": 10,
              "solidity": 0.2
             }
            },
            "type": "histogram"
           }
          ],
          "mesh3d": [
           {
            "colorbar": {
             "outlinewidth": 0,
             "ticks": ""
            },
            "type": "mesh3d"
           }
          ],
          "parcoords": [
           {
            "line": {
             "colorbar": {
              "outlinewidth": 0,
              "ticks": ""
             }
            },
            "type": "parcoords"
           }
          ],
          "pie": [
           {
            "automargin": true,
            "type": "pie"
           }
          ],
          "scatter3d": [
           {
            "line": {
             "colorbar": {
              "outlinewidth": 0,
              "ticks": ""
             }
            },
            "marker": {
             "colorbar": {
              "outlinewidth": 0,
              "ticks": ""
             }
            },
            "type": "scatter3d"
           }
          ],
          "scattercarpet": [
           {
            "marker": {
             "colorbar": {
              "outlinewidth": 0,
              "ticks": ""
             }
            },
            "type": "scattercarpet"
           }
          ],
          "scattergeo": [
           {
            "marker": {
             "colorbar": {
              "outlinewidth": 0,
              "ticks": ""
             }
            },
            "type": "scattergeo"
           }
          ],
          "scattergl": [
           {
            "marker": {
             "line": {
              "color": "#283442"
             }
            },
            "type": "scattergl"
           }
          ],
          "scattermapbox": [
           {
            "marker": {
             "colorbar": {
              "outlinewidth": 0,
              "ticks": ""
             }
            },
            "type": "scattermapbox"
           }
          ],
          "scattermap": [
           {
            "marker": {
             "colorbar": {
              "outlinewidth": 0,
              "ticks": ""
             }
            },
            "type": "scattermap"
           }
          ],
          "scatterpolargl": [
           {
            "marker": {
             "colorbar": {
              "outlinewidth": 0,
              "ticks": ""
             }
            },
            "type": "scatterpolargl"
           }
          ],
          "scatterpolar": [
           {
            "marker": {
             "colorbar": {
              "outlinewidth": 0,
              "ticks": ""
             }
            },
            "type": "scatterpolar"
           }
          ],
          "scatter": [
           {
            "marker": {
             "line": {
              "color": "#283442"
             }
            },
            "type": "scatter"
           }
          ],
          "scatterternary": [
           {
            "marker": {
             "colorbar": {
              "outlinewidth": 0,
              "ticks": ""
             }
            },
            "type": "scatterternary"
           }
          ],
          "surface": [
           {
            "colorbar": {
             "outlinewidth": 0,
             "ticks": ""
            },
            "colorscale": [
             [
              0.0,
              "#0d0887"
             ],
             [
              0.1111111111111111,
              "#46039f"
             ],
             [
              0.2222222222222222,
              "#7201a8"
             ],
             [
              0.3333333333333333,
              "#9c179e"
             ],
             [
              0.4444444444444444,
              "#bd3786"
             ],
             [
              0.5555555555555556,
              "#d8576b"
             ],
             [
              0.6666666666666666,
              "#ed7953"
             ],
             [
              0.7777777777777778,
              "#fb9f3a"
             ],
             [
              0.8888888888888888,
              "#fdca26"
             ],
             [
              1.0,
              "#f0f921"
             ]
            ],
            "type": "surface"
           }
          ],
          "table": [
           {
            "cells": {
             "fill": {
              "color": "#506784"
             },
             "line": {
              "color": "rgb(17,17,17)"
             }
            },
            "header": {
             "fill": {
              "color": "#2a3f5f"
             },
             "line": {
              "color": "rgb(17,17,17)"
             }
            },
            "type": "table"
           }
          ]
         },
         "layout": {
          "annotationdefaults": {
           "arrowcolor": "#f2f5fa",
           "arrowhead": 0,
           "arrowwidth": 1
          },
          "autotypenumbers": "strict",
          "coloraxis": {
           "colorbar": {
            "outlinewidth": 0,
            "ticks": ""
           }
          },
          "colorscale": {
           "diverging": [
            [
             0,
             "#8e0152"
            ],
            [
             0.1,
             "#c51b7d"
            ],
            [
             0.2,
             "#de77ae"
            ],
            [
             0.3,
             "#f1b6da"
            ],
            [
             0.4,
             "#fde0ef"
            ],
            [
             0.5,
             "#f7f7f7"
            ],
            [
             0.6,
             "#e6f5d0"
            ],
            [
             0.7,
             "#b8e186"
            ],
            [
             0.8,
             "#7fbc41"
            ],
            [
             0.9,
             "#4d9221"
            ],
            [
             1,
             "#276419"
            ]
           ],
           "sequential": [
            [
             0.0,
             "#0d0887"
            ],
            [
             0.1111111111111111,
             "#46039f"
            ],
            [
             0.2222222222222222,
             "#7201a8"
            ],
            [
             0.3333333333333333,
             "#9c179e"
            ],
            [
             0.4444444444444444,
             "#bd3786"
            ],
            [
             0.5555555555555556,
             "#d8576b"
            ],
            [
             0.6666666666666666,
             "#ed7953"
            ],
            [
             0.7777777777777778,
             "#fb9f3a"
            ],
            [
             0.8888888888888888,
             "#fdca26"
            ],
            [
             1.0,
             "#f0f921"
            ]
           ],
           "sequentialminus": [
            [
             0.0,
             "#0d0887"
            ],
            [
             0.1111111111111111,
             "#46039f"
            ],
            [
             0.2222222222222222,
             "#7201a8"
            ],
            [
             0.3333333333333333,
             "#9c179e"
            ],
            [
             0.4444444444444444,
             "#bd3786"
            ],
            [
             0.5555555555555556,
             "#d8576b"
            ],
            [
             0.6666666666666666,
             "#ed7953"
            ],
            [
             0.7777777777777778,
             "#fb9f3a"
            ],
            [
             0.8888888888888888,
             "#fdca26"
            ],
            [
             1.0,
             "#f0f921"
            ]
           ]
          },
          "colorway": [
           "#636efa",
           "#EF553B",
           "#00cc96",
           "#ab63fa",
           "#FFA15A",
           "#19d3f3",
           "#FF6692",
           "#B6E880",
           "#FF97FF",
           "#FECB52"
          ],
          "font": {
           "color": "#f2f5fa"
          },
          "geo": {
           "bgcolor": "rgb(17,17,17)",
           "lakecolor": "rgb(17,17,17)",
           "landcolor": "rgb(17,17,17)",
           "showlakes": true,
           "showland": true,
           "subunitcolor": "#506784"
          },
          "hoverlabel": {
           "align": "left"
          },
          "hovermode": "closest",
          "mapbox": {
           "style": "dark"
          },
          "paper_bgcolor": "rgb(17,17,17)",
          "plot_bgcolor": "rgb(17,17,17)",
          "polar": {
           "angularaxis": {
            "gridcolor": "#506784",
            "linecolor": "#506784",
            "ticks": ""
           },
           "bgcolor": "rgb(17,17,17)",
           "radialaxis": {
            "gridcolor": "#506784",
            "linecolor": "#506784",
            "ticks": ""
           }
          },
          "scene": {
           "xaxis": {
            "backgroundcolor": "rgb(17,17,17)",
            "gridcolor": "#506784",
            "gridwidth": 2,
            "linecolor": "#506784",
            "showbackground": true,
            "ticks": "",
            "zerolinecolor": "#C8D4E3"
           },
           "yaxis": {
            "backgroundcolor": "rgb(17,17,17)",
            "gridcolor": "#506784",
            "gridwidth": 2,
            "linecolor": "#506784",
            "showbackground": true,
            "ticks": "",
            "zerolinecolor": "#C8D4E3"
           },
           "zaxis": {
            "backgroundcolor": "rgb(17,17,17)",
            "gridcolor": "#506784",
            "gridwidth": 2,
            "linecolor": "#506784",
            "showbackground": true,
            "ticks": "",
            "zerolinecolor": "#C8D4E3"
           }
          },
          "shapedefaults": {
           "line": {
            "color": "#f2f5fa"
           }
          },
          "sliderdefaults": {
           "bgcolor": "#C8D4E3",
           "bordercolor": "rgb(17,17,17)",
           "borderwidth": 1,
           "tickwidth": 0
          },
          "ternary": {
           "aaxis": {
            "gridcolor": "#506784",
            "linecolor": "#506784",
            "ticks": ""
           },
           "baxis": {
            "gridcolor": "#506784",
            "linecolor": "#506784",
            "ticks": ""
           },
           "bgcolor": "rgb(17,17,17)",
           "caxis": {
            "gridcolor": "#506784",
            "linecolor": "#506784",
            "ticks": ""
           }
          },
          "title": {
           "x": 0.05
          },
          "updatemenudefaults": {
           "bgcolor": "#506784",
           "borderwidth": 0
          },
          "xaxis": {
           "automargin": true,
           "gridcolor": "#283442",
           "linecolor": "#506784",
           "ticks": "",
           "title": {
            "standoff": 15
           },
           "zerolinecolor": "#283442",
           "zerolinewidth": 2
          },
          "yaxis": {
           "automargin": true,
           "gridcolor": "#283442",
           "linecolor": "#506784",
           "ticks": "",
           "title": {
            "standoff": 15
           },
           "zerolinecolor": "#283442",
           "zerolinewidth": 2
          }
         }
        },
        "xaxis": {
         "anchor": "y",
         "domain": [
          0.0,
          1.0
         ],
         "title": {
          "text": "Team"
         }
        },
        "yaxis": {
         "anchor": "x",
         "domain": [
          0.0,
          1.0
         ],
         "title": {
          "text": "Performance Coefficient"
         }
        },
        "coloraxis": {
         "colorbar": {
          "title": {
           "text": "Performance_Coefficient"
          }
         },
         "colorscale": [
          [
           0.0,
           "#0d0887"
          ],
          [
           0.1111111111111111,
           "#46039f"
          ],
          [
           0.2222222222222222,
           "#7201a8"
          ],
          [
           0.3333333333333333,
           "#9c179e"
          ],
          [
           0.4444444444444444,
           "#bd3786"
          ],
          [
           0.5555555555555556,
           "#d8576b"
          ],
          [
           0.6666666666666666,
           "#ed7953"
          ],
          [
           0.7777777777777778,
           "#fb9f3a"
          ],
          [
           0.8888888888888888,
           "#fdca26"
          ],
          [
           1.0,
           "#f0f921"
          ]
         ]
        },
        "legend": {
         "tracegroupgap": 0
        },
        "title": {
         "text": "Top 10 Skuadrat në Champions League sipas Koeficientit të Performancës"
        },
        "barmode": "relative",
        "uniformtext": {
         "minsize": 8,
         "mode": "hide"
        },
        "width": 800,
        "height": 600
       },
       "config": {
        "plotlyServerURL": "https://plot.ly"
       }
      }
     },
     "metadata": {},
     "output_type": "display_data"
    }
   ],
   "execution_count": 25
  },
  {
   "metadata": {
    "ExecuteTime": {
     "end_time": "2025-06-12T15:23:23.445647Z",
     "start_time": "2025-06-12T15:23:23.435021Z"
    }
   },
   "cell_type": "code",
   "source": "top_recovers = ucl[ucl['Balls_recovered'] > 0].sort_values('Balls_recovered', ascending=False).head(15)",
   "id": "de4857d9ea3a4410",
   "outputs": [],
   "execution_count": 26
  },
  {
   "metadata": {
    "ExecuteTime": {
     "end_time": "2025-06-12T15:23:23.608573Z",
     "start_time": "2025-06-12T15:23:23.498658Z"
    }
   },
   "cell_type": "code",
   "source": [
    "fig = px.bar(\n",
    "    top_recovers,\n",
    "    x='Player',\n",
    "    y='Balls_recovered',\n",
    "    title='Top 15 Players with the Most Balls Recovered in the Champions League',\n",
    "    color='Balls_recovered',\n",
    "    text='Balls_recovered',\n",
    "    hover_data=['Position', 'Team']\n",
    ")\n",
    "fig.update_layout(xaxis_tickangle=-45)\n",
    "fig.show()"
   ],
   "id": "b1848d671bca0390",
   "outputs": [
    {
     "data": {
      "application/vnd.plotly.v1+json": {
       "data": [
        {
         "customdata": [
          [
           "Defender",
           "Paris SG"
          ],
          [
           "Defender",
           "Paris SG"
          ],
          [
           "Defender",
           "Paris SG"
          ],
          [
           "Defender",
           "Bayern Munich"
          ],
          [
           "Midfielder",
           "Paris SG"
          ],
          [
           "Defender",
           "Lille"
          ],
          [
           "Defender",
           "Benfica"
          ],
          [
           "Defender",
           "Bayern Munich"
          ],
          [
           "Defender",
           "BVB Dortmund"
          ],
          [
           "Defender",
           "Paris SG"
          ],
          [
           "Midfielder",
           "Benfica"
          ],
          [
           "Defender",
           "Arsenal FC"
          ],
          [
           "Defender",
           "PSV Eindhoven"
          ],
          [
           "Defender",
           "Club Brugge"
          ],
          [
           "Defender",
           "Atalanta BC"
          ]
         ],
         "hovertemplate": "Player=%{x}<br>Balls_recovered=%{marker.color}<br>Position=%{customdata[0]}<br>Team=%{customdata[1]}<extra></extra>",
         "legendgroup": "",
         "marker": {
          "color": {
           "dtype": "i1",
           "bdata": "fG1XV1dWVVJMSklIR0dH"
          },
          "coloraxis": "coloraxis",
          "pattern": {
           "shape": ""
          }
         },
         "name": "",
         "orientation": "v",
         "showlegend": false,
         "text": {
          "dtype": "f8",
          "bdata": "AAAAAAAAX0AAAAAAAEBbQAAAAAAAwFVAAAAAAADAVUAAAAAAAMBVQAAAAAAAgFVAAAAAAABAVUAAAAAAAIBUQAAAAAAAAFNAAAAAAACAUkAAAAAAAEBSQAAAAAAAAFJAAAAAAADAUUAAAAAAAMBRQAAAAAAAwFFA"
         },
         "textposition": "auto",
         "x": [
          "Pacho",
          "Marquinhos",
          "Nuno Mendes",
          "Minjae Kim",
          "Joao Neves",
          "Alexsandro Ribeiro",
          "Otamendi",
          "Upamecano",
          "Schlotterbeck",
          "Hakimi",
          "Florentino",
          "Saliba",
          "Boscagli",
          "De Cuyper",
          "Marten de Roon"
         ],
         "xaxis": "x",
         "y": {
          "dtype": "i1",
          "bdata": "fG1XV1dWVVJMSklIR0dH"
         },
         "yaxis": "y",
         "type": "bar"
        }
       ],
       "layout": {
        "template": {
         "data": {
          "histogram2dcontour": [
           {
            "type": "histogram2dcontour",
            "colorbar": {
             "outlinewidth": 0,
             "ticks": ""
            },
            "colorscale": [
             [
              0.0,
              "#0d0887"
             ],
             [
              0.1111111111111111,
              "#46039f"
             ],
             [
              0.2222222222222222,
              "#7201a8"
             ],
             [
              0.3333333333333333,
              "#9c179e"
             ],
             [
              0.4444444444444444,
              "#bd3786"
             ],
             [
              0.5555555555555556,
              "#d8576b"
             ],
             [
              0.6666666666666666,
              "#ed7953"
             ],
             [
              0.7777777777777778,
              "#fb9f3a"
             ],
             [
              0.8888888888888888,
              "#fdca26"
             ],
             [
              1.0,
              "#f0f921"
             ]
            ]
           }
          ],
          "choropleth": [
           {
            "type": "choropleth",
            "colorbar": {
             "outlinewidth": 0,
             "ticks": ""
            }
           }
          ],
          "histogram2d": [
           {
            "type": "histogram2d",
            "colorbar": {
             "outlinewidth": 0,
             "ticks": ""
            },
            "colorscale": [
             [
              0.0,
              "#0d0887"
             ],
             [
              0.1111111111111111,
              "#46039f"
             ],
             [
              0.2222222222222222,
              "#7201a8"
             ],
             [
              0.3333333333333333,
              "#9c179e"
             ],
             [
              0.4444444444444444,
              "#bd3786"
             ],
             [
              0.5555555555555556,
              "#d8576b"
             ],
             [
              0.6666666666666666,
              "#ed7953"
             ],
             [
              0.7777777777777778,
              "#fb9f3a"
             ],
             [
              0.8888888888888888,
              "#fdca26"
             ],
             [
              1.0,
              "#f0f921"
             ]
            ]
           }
          ],
          "heatmap": [
           {
            "type": "heatmap",
            "colorbar": {
             "outlinewidth": 0,
             "ticks": ""
            },
            "colorscale": [
             [
              0.0,
              "#0d0887"
             ],
             [
              0.1111111111111111,
              "#46039f"
             ],
             [
              0.2222222222222222,
              "#7201a8"
             ],
             [
              0.3333333333333333,
              "#9c179e"
             ],
             [
              0.4444444444444444,
              "#bd3786"
             ],
             [
              0.5555555555555556,
              "#d8576b"
             ],
             [
              0.6666666666666666,
              "#ed7953"
             ],
             [
              0.7777777777777778,
              "#fb9f3a"
             ],
             [
              0.8888888888888888,
              "#fdca26"
             ],
             [
              1.0,
              "#f0f921"
             ]
            ]
           }
          ],
          "contourcarpet": [
           {
            "type": "contourcarpet",
            "colorbar": {
             "outlinewidth": 0,
             "ticks": ""
            }
           }
          ],
          "contour": [
           {
            "type": "contour",
            "colorbar": {
             "outlinewidth": 0,
             "ticks": ""
            },
            "colorscale": [
             [
              0.0,
              "#0d0887"
             ],
             [
              0.1111111111111111,
              "#46039f"
             ],
             [
              0.2222222222222222,
              "#7201a8"
             ],
             [
              0.3333333333333333,
              "#9c179e"
             ],
             [
              0.4444444444444444,
              "#bd3786"
             ],
             [
              0.5555555555555556,
              "#d8576b"
             ],
             [
              0.6666666666666666,
              "#ed7953"
             ],
             [
              0.7777777777777778,
              "#fb9f3a"
             ],
             [
              0.8888888888888888,
              "#fdca26"
             ],
             [
              1.0,
              "#f0f921"
             ]
            ]
           }
          ],
          "surface": [
           {
            "type": "surface",
            "colorbar": {
             "outlinewidth": 0,
             "ticks": ""
            },
            "colorscale": [
             [
              0.0,
              "#0d0887"
             ],
             [
              0.1111111111111111,
              "#46039f"
             ],
             [
              0.2222222222222222,
              "#7201a8"
             ],
             [
              0.3333333333333333,
              "#9c179e"
             ],
             [
              0.4444444444444444,
              "#bd3786"
             ],
             [
              0.5555555555555556,
              "#d8576b"
             ],
             [
              0.6666666666666666,
              "#ed7953"
             ],
             [
              0.7777777777777778,
              "#fb9f3a"
             ],
             [
              0.8888888888888888,
              "#fdca26"
             ],
             [
              1.0,
              "#f0f921"
             ]
            ]
           }
          ],
          "mesh3d": [
           {
            "type": "mesh3d",
            "colorbar": {
             "outlinewidth": 0,
             "ticks": ""
            }
           }
          ],
          "scatter": [
           {
            "fillpattern": {
             "fillmode": "overlay",
             "size": 10,
             "solidity": 0.2
            },
            "type": "scatter"
           }
          ],
          "parcoords": [
           {
            "type": "parcoords",
            "line": {
             "colorbar": {
              "outlinewidth": 0,
              "ticks": ""
             }
            }
           }
          ],
          "scatterpolargl": [
           {
            "type": "scatterpolargl",
            "marker": {
             "colorbar": {
              "outlinewidth": 0,
              "ticks": ""
             }
            }
           }
          ],
          "bar": [
           {
            "error_x": {
             "color": "#2a3f5f"
            },
            "error_y": {
             "color": "#2a3f5f"
            },
            "marker": {
             "line": {
              "color": "#E5ECF6",
              "width": 0.5
             },
             "pattern": {
              "fillmode": "overlay",
              "size": 10,
              "solidity": 0.2
             }
            },
            "type": "bar"
           }
          ],
          "scattergeo": [
           {
            "type": "scattergeo",
            "marker": {
             "colorbar": {
              "outlinewidth": 0,
              "ticks": ""
             }
            }
           }
          ],
          "scatterpolar": [
           {
            "type": "scatterpolar",
            "marker": {
             "colorbar": {
              "outlinewidth": 0,
              "ticks": ""
             }
            }
           }
          ],
          "histogram": [
           {
            "marker": {
             "pattern": {
              "fillmode": "overlay",
              "size": 10,
              "solidity": 0.2
             }
            },
            "type": "histogram"
           }
          ],
          "scattergl": [
           {
            "type": "scattergl",
            "marker": {
             "colorbar": {
              "outlinewidth": 0,
              "ticks": ""
             }
            }
           }
          ],
          "scatter3d": [
           {
            "type": "scatter3d",
            "line": {
             "colorbar": {
              "outlinewidth": 0,
              "ticks": ""
             }
            },
            "marker": {
             "colorbar": {
              "outlinewidth": 0,
              "ticks": ""
             }
            }
           }
          ],
          "scattermap": [
           {
            "type": "scattermap",
            "marker": {
             "colorbar": {
              "outlinewidth": 0,
              "ticks": ""
             }
            }
           }
          ],
          "scattermapbox": [
           {
            "type": "scattermapbox",
            "marker": {
             "colorbar": {
              "outlinewidth": 0,
              "ticks": ""
             }
            }
           }
          ],
          "scatterternary": [
           {
            "type": "scatterternary",
            "marker": {
             "colorbar": {
              "outlinewidth": 0,
              "ticks": ""
             }
            }
           }
          ],
          "scattercarpet": [
           {
            "type": "scattercarpet",
            "marker": {
             "colorbar": {
              "outlinewidth": 0,
              "ticks": ""
             }
            }
           }
          ],
          "carpet": [
           {
            "aaxis": {
             "endlinecolor": "#2a3f5f",
             "gridcolor": "white",
             "linecolor": "white",
             "minorgridcolor": "white",
             "startlinecolor": "#2a3f5f"
            },
            "baxis": {
             "endlinecolor": "#2a3f5f",
             "gridcolor": "white",
             "linecolor": "white",
             "minorgridcolor": "white",
             "startlinecolor": "#2a3f5f"
            },
            "type": "carpet"
           }
          ],
          "table": [
           {
            "cells": {
             "fill": {
              "color": "#EBF0F8"
             },
             "line": {
              "color": "white"
             }
            },
            "header": {
             "fill": {
              "color": "#C8D4E3"
             },
             "line": {
              "color": "white"
             }
            },
            "type": "table"
           }
          ],
          "barpolar": [
           {
            "marker": {
             "line": {
              "color": "#E5ECF6",
              "width": 0.5
             },
             "pattern": {
              "fillmode": "overlay",
              "size": 10,
              "solidity": 0.2
             }
            },
            "type": "barpolar"
           }
          ],
          "pie": [
           {
            "automargin": true,
            "type": "pie"
           }
          ]
         },
         "layout": {
          "autotypenumbers": "strict",
          "colorway": [
           "#636efa",
           "#EF553B",
           "#00cc96",
           "#ab63fa",
           "#FFA15A",
           "#19d3f3",
           "#FF6692",
           "#B6E880",
           "#FF97FF",
           "#FECB52"
          ],
          "font": {
           "color": "#2a3f5f"
          },
          "hovermode": "closest",
          "hoverlabel": {
           "align": "left"
          },
          "paper_bgcolor": "white",
          "plot_bgcolor": "#E5ECF6",
          "polar": {
           "bgcolor": "#E5ECF6",
           "angularaxis": {
            "gridcolor": "white",
            "linecolor": "white",
            "ticks": ""
           },
           "radialaxis": {
            "gridcolor": "white",
            "linecolor": "white",
            "ticks": ""
           }
          },
          "ternary": {
           "bgcolor": "#E5ECF6",
           "aaxis": {
            "gridcolor": "white",
            "linecolor": "white",
            "ticks": ""
           },
           "baxis": {
            "gridcolor": "white",
            "linecolor": "white",
            "ticks": ""
           },
           "caxis": {
            "gridcolor": "white",
            "linecolor": "white",
            "ticks": ""
           }
          },
          "coloraxis": {
           "colorbar": {
            "outlinewidth": 0,
            "ticks": ""
           }
          },
          "colorscale": {
           "sequential": [
            [
             0.0,
             "#0d0887"
            ],
            [
             0.1111111111111111,
             "#46039f"
            ],
            [
             0.2222222222222222,
             "#7201a8"
            ],
            [
             0.3333333333333333,
             "#9c179e"
            ],
            [
             0.4444444444444444,
             "#bd3786"
            ],
            [
             0.5555555555555556,
             "#d8576b"
            ],
            [
             0.6666666666666666,
             "#ed7953"
            ],
            [
             0.7777777777777778,
             "#fb9f3a"
            ],
            [
             0.8888888888888888,
             "#fdca26"
            ],
            [
             1.0,
             "#f0f921"
            ]
           ],
           "sequentialminus": [
            [
             0.0,
             "#0d0887"
            ],
            [
             0.1111111111111111,
             "#46039f"
            ],
            [
             0.2222222222222222,
             "#7201a8"
            ],
            [
             0.3333333333333333,
             "#9c179e"
            ],
            [
             0.4444444444444444,
             "#bd3786"
            ],
            [
             0.5555555555555556,
             "#d8576b"
            ],
            [
             0.6666666666666666,
             "#ed7953"
            ],
            [
             0.7777777777777778,
             "#fb9f3a"
            ],
            [
             0.8888888888888888,
             "#fdca26"
            ],
            [
             1.0,
             "#f0f921"
            ]
           ],
           "diverging": [
            [
             0,
             "#8e0152"
            ],
            [
             0.1,
             "#c51b7d"
            ],
            [
             0.2,
             "#de77ae"
            ],
            [
             0.3,
             "#f1b6da"
            ],
            [
             0.4,
             "#fde0ef"
            ],
            [
             0.5,
             "#f7f7f7"
            ],
            [
             0.6,
             "#e6f5d0"
            ],
            [
             0.7,
             "#b8e186"
            ],
            [
             0.8,
             "#7fbc41"
            ],
            [
             0.9,
             "#4d9221"
            ],
            [
             1,
             "#276419"
            ]
           ]
          },
          "xaxis": {
           "gridcolor": "white",
           "linecolor": "white",
           "ticks": "",
           "title": {
            "standoff": 15
           },
           "zerolinecolor": "white",
           "automargin": true,
           "zerolinewidth": 2
          },
          "yaxis": {
           "gridcolor": "white",
           "linecolor": "white",
           "ticks": "",
           "title": {
            "standoff": 15
           },
           "zerolinecolor": "white",
           "automargin": true,
           "zerolinewidth": 2
          },
          "scene": {
           "xaxis": {
            "backgroundcolor": "#E5ECF6",
            "gridcolor": "white",
            "linecolor": "white",
            "showbackground": true,
            "ticks": "",
            "zerolinecolor": "white",
            "gridwidth": 2
           },
           "yaxis": {
            "backgroundcolor": "#E5ECF6",
            "gridcolor": "white",
            "linecolor": "white",
            "showbackground": true,
            "ticks": "",
            "zerolinecolor": "white",
            "gridwidth": 2
           },
           "zaxis": {
            "backgroundcolor": "#E5ECF6",
            "gridcolor": "white",
            "linecolor": "white",
            "showbackground": true,
            "ticks": "",
            "zerolinecolor": "white",
            "gridwidth": 2
           }
          },
          "shapedefaults": {
           "line": {
            "color": "#2a3f5f"
           }
          },
          "annotationdefaults": {
           "arrowcolor": "#2a3f5f",
           "arrowhead": 0,
           "arrowwidth": 1
          },
          "geo": {
           "bgcolor": "white",
           "landcolor": "#E5ECF6",
           "subunitcolor": "white",
           "showland": true,
           "showlakes": true,
           "lakecolor": "white"
          },
          "title": {
           "x": 0.05
          },
          "mapbox": {
           "style": "light"
          }
         }
        },
        "xaxis": {
         "anchor": "y",
         "domain": [
          0.0,
          1.0
         ],
         "title": {
          "text": "Player"
         },
         "tickangle": -45
        },
        "yaxis": {
         "anchor": "x",
         "domain": [
          0.0,
          1.0
         ],
         "title": {
          "text": "Balls_recovered"
         }
        },
        "coloraxis": {
         "colorbar": {
          "title": {
           "text": "Balls_recovered"
          }
         },
         "colorscale": [
          [
           0.0,
           "#0d0887"
          ],
          [
           0.1111111111111111,
           "#46039f"
          ],
          [
           0.2222222222222222,
           "#7201a8"
          ],
          [
           0.3333333333333333,
           "#9c179e"
          ],
          [
           0.4444444444444444,
           "#bd3786"
          ],
          [
           0.5555555555555556,
           "#d8576b"
          ],
          [
           0.6666666666666666,
           "#ed7953"
          ],
          [
           0.7777777777777778,
           "#fb9f3a"
          ],
          [
           0.8888888888888888,
           "#fdca26"
          ],
          [
           1.0,
           "#f0f921"
          ]
         ]
        },
        "legend": {
         "tracegroupgap": 0
        },
        "title": {
         "text": "Top 15 Players with the Most Balls Recovered in the Champions League"
        },
        "barmode": "relative"
       },
       "config": {
        "plotlyServerURL": "https://plot.ly"
       }
      }
     },
     "metadata": {},
     "output_type": "display_data"
    }
   ],
   "execution_count": 27
  },
  {
   "metadata": {},
   "cell_type": "markdown",
   "source": "#### 🔶  Treemap – për të shfaqur numrin e golave nga lojtarët brenda skuadrave",
   "id": "960022669a8279bf"
  },
  {
   "metadata": {
    "ExecuteTime": {
     "end_time": "2025-06-12T15:23:24.588376Z",
     "start_time": "2025-06-12T15:23:24.362824Z"
    }
   },
   "cell_type": "code",
   "source": [
    "fig = px.treemap(\n",
    "    ucl[ucl['Goals'] > 0],  # vetëm ata që kanë shënuar gola\n",
    "    path=['Team', 'Player','Goals'],\n",
    "    color='Position',\n",
    "    values='Goals',\n",
    "    title='Goals per Player brenda qdo Ekipi'\n",
    ")\n",
    "fig.update_layout(width=1000, height=800)\n",
    "fig.show()"
   ],
   "id": "22bb288ac7283968",
   "outputs": [
    {
     "data": {
      "application/vnd.plotly.v1+json": {
       "data": [
        {
         "branchvalues": "total",
         "customdata": [
          [
           "(?)"
          ],
          [
           "(?)"
          ],
          [
           "(?)"
          ],
          [
           "(?)"
          ],
          [
           "(?)"
          ],
          [
           "(?)"
          ],
          [
           "(?)"
          ],
          [
           "(?)"
          ],
          [
           "(?)"
          ],
          [
           "(?)"
          ],
          [
           "(?)"
          ],
          [
           "(?)"
          ],
          [
           "(?)"
          ],
          [
           "(?)"
          ],
          [
           "(?)"
          ],
          [
           "(?)"
          ],
          [
           "(?)"
          ],
          [
           "(?)"
          ],
          [
           "(?)"
          ],
          [
           "(?)"
          ],
          [
           "(?)"
          ],
          [
           "(?)"
          ],
          [
           "Defender"
          ],
          [
           "Defender"
          ],
          [
           "Defender"
          ],
          [
           "Defender"
          ],
          [
           "Defender"
          ],
          [
           "Defender"
          ],
          [
           "Defender"
          ],
          [
           "Defender"
          ],
          [
           "Defender"
          ],
          [
           "Defender"
          ],
          [
           "Defender"
          ],
          [
           "Defender"
          ],
          [
           "Defender"
          ],
          [
           "Defender"
          ],
          [
           "Defender"
          ],
          [
           "Defender"
          ],
          [
           "Defender"
          ],
          [
           "Defender"
          ],
          [
           "Defender"
          ],
          [
           "Defender"
          ],
          [
           "Defender"
          ],
          [
           "Defender"
          ],
          [
           "Defender"
          ],
          [
           "Defender"
          ],
          [
           "Defender"
          ],
          [
           "Defender"
          ],
          [
           "Defender"
          ],
          [
           "Defender"
          ],
          [
           "Defender"
          ],
          [
           "Defender"
          ],
          [
           "Defender"
          ],
          [
           "Defender"
          ],
          [
           "Defender"
          ],
          [
           "Defender"
          ],
          [
           "Defender"
          ],
          [
           "Defender"
          ],
          [
           "Defender"
          ],
          [
           "Defender"
          ],
          [
           "Defender"
          ],
          [
           "Defender"
          ],
          [
           "Defender"
          ],
          [
           "Defender"
          ],
          [
           "Defender"
          ],
          [
           "Defender"
          ],
          [
           "Defender"
          ],
          [
           "Defender"
          ],
          [
           "Defender"
          ],
          [
           "Defender"
          ],
          [
           "Defender"
          ],
          [
           "Defender"
          ],
          [
           "Defender"
          ],
          [
           "Defender"
          ],
          [
           "Defender"
          ],
          [
           "Defender"
          ],
          [
           "Defender"
          ],
          [
           "Defender"
          ],
          [
           "Defender"
          ],
          [
           "Defender"
          ],
          [
           "Defender"
          ],
          [
           "Forward"
          ],
          [
           "Forward"
          ],
          [
           "Forward"
          ],
          [
           "Forward"
          ],
          [
           "Forward"
          ],
          [
           "Forward"
          ],
          [
           "Forward"
          ],
          [
           "Forward"
          ],
          [
           "Forward"
          ],
          [
           "Forward"
          ],
          [
           "Forward"
          ],
          [
           "Forward"
          ],
          [
           "Forward"
          ],
          [
           "Forward"
          ],
          [
           "Forward"
          ],
          [
           "Forward"
          ],
          [
           "Forward"
          ],
          [
           "Forward"
          ],
          [
           "Forward"
          ],
          [
           "Forward"
          ],
          [
           "Forward"
          ],
          [
           "Forward"
          ],
          [
           "Forward"
          ],
          [
           "Forward"
          ],
          [
           "Forward"
          ],
          [
           "Forward"
          ],
          [
           "Forward"
          ],
          [
           "Forward"
          ],
          [
           "Forward"
          ],
          [
           "Forward"
          ],
          [
           "Forward"
          ],
          [
           "Forward"
          ],
          [
           "Forward"
          ],
          [
           "Forward"
          ],
          [
           "Forward"
          ],
          [
           "Forward"
          ],
          [
           "Forward"
          ],
          [
           "Forward"
          ],
          [
           "Forward"
          ],
          [
           "Forward"
          ],
          [
           "Forward"
          ],
          [
           "Forward"
          ],
          [
           "Forward"
          ],
          [
           "Forward"
          ],
          [
           "Forward"
          ],
          [
           "Forward"
          ],
          [
           "Forward"
          ],
          [
           "Forward"
          ],
          [
           "Forward"
          ],
          [
           "Forward"
          ],
          [
           "Forward"
          ],
          [
           "Forward"
          ],
          [
           "Forward"
          ],
          [
           "Forward"
          ],
          [
           "Forward"
          ],
          [
           "Forward"
          ],
          [
           "Forward"
          ],
          [
           "Forward"
          ],
          [
           "Forward"
          ],
          [
           "Forward"
          ],
          [
           "Forward"
          ],
          [
           "Forward"
          ],
          [
           "Forward"
          ],
          [
           "Forward"
          ],
          [
           "Forward"
          ],
          [
           "Forward"
          ],
          [
           "Forward"
          ],
          [
           "Forward"
          ],
          [
           "Forward"
          ],
          [
           "Forward"
          ],
          [
           "Forward"
          ],
          [
           "Forward"
          ],
          [
           "Forward"
          ],
          [
           "Forward"
          ],
          [
           "Forward"
          ],
          [
           "Forward"
          ],
          [
           "Forward"
          ],
          [
           "Forward"
          ],
          [
           "Forward"
          ],
          [
           "Forward"
          ],
          [
           "Forward"
          ],
          [
           "Forward"
          ],
          [
           "Forward"
          ],
          [
           "Forward"
          ],
          [
           "Forward"
          ],
          [
           "Forward"
          ],
          [
           "Forward"
          ],
          [
           "Forward"
          ],
          [
           "Forward"
          ],
          [
           "Forward"
          ],
          [
           "Forward"
          ],
          [
           "Forward"
          ],
          [
           "Forward"
          ],
          [
           "Forward"
          ],
          [
           "Forward"
          ],
          [
           "Forward"
          ],
          [
           "Forward"
          ],
          [
           "Forward"
          ],
          [
           "Forward"
          ],
          [
           "Forward"
          ],
          [
           "Forward"
          ],
          [
           "Forward"
          ],
          [
           "Forward"
          ],
          [
           "Forward"
          ],
          [
           "Forward"
          ],
          [
           "Forward"
          ],
          [
           "Forward"
          ],
          [
           "Forward"
          ],
          [
           "Forward"
          ],
          [
           "Forward"
          ],
          [
           "Forward"
          ],
          [
           "Forward"
          ],
          [
           "Forward"
          ],
          [
           "Forward"
          ],
          [
           "Forward"
          ],
          [
           "Forward"
          ],
          [
           "Forward"
          ],
          [
           "Forward"
          ],
          [
           "Forward"
          ],
          [
           "Forward"
          ],
          [
           "Forward"
          ],
          [
           "Midfielder"
          ],
          [
           "Midfielder"
          ],
          [
           "Midfielder"
          ],
          [
           "Midfielder"
          ],
          [
           "Midfielder"
          ],
          [
           "Midfielder"
          ],
          [
           "Midfielder"
          ],
          [
           "Midfielder"
          ],
          [
           "Midfielder"
          ],
          [
           "Midfielder"
          ],
          [
           "Midfielder"
          ],
          [
           "Midfielder"
          ],
          [
           "Midfielder"
          ],
          [
           "Midfielder"
          ],
          [
           "Midfielder"
          ],
          [
           "Midfielder"
          ],
          [
           "Midfielder"
          ],
          [
           "Midfielder"
          ],
          [
           "Midfielder"
          ],
          [
           "Midfielder"
          ],
          [
           "Midfielder"
          ],
          [
           "Midfielder"
          ],
          [
           "Midfielder"
          ],
          [
           "Midfielder"
          ],
          [
           "Midfielder"
          ],
          [
           "Midfielder"
          ],
          [
           "Midfielder"
          ],
          [
           "Midfielder"
          ],
          [
           "Midfielder"
          ],
          [
           "Midfielder"
          ],
          [
           "Midfielder"
          ],
          [
           "Midfielder"
          ],
          [
           "Midfielder"
          ],
          [
           "Midfielder"
          ],
          [
           "Midfielder"
          ],
          [
           "Midfielder"
          ],
          [
           "Midfielder"
          ],
          [
           "Midfielder"
          ],
          [
           "Midfielder"
          ],
          [
           "Midfielder"
          ],
          [
           "Midfielder"
          ],
          [
           "Midfielder"
          ],
          [
           "Midfielder"
          ],
          [
           "Midfielder"
          ],
          [
           "Midfielder"
          ],
          [
           "Midfielder"
          ],
          [
           "Midfielder"
          ],
          [
           "Midfielder"
          ],
          [
           "Midfielder"
          ],
          [
           "Midfielder"
          ],
          [
           "Midfielder"
          ],
          [
           "Midfielder"
          ],
          [
           "Midfielder"
          ],
          [
           "Midfielder"
          ],
          [
           "Midfielder"
          ],
          [
           "Midfielder"
          ],
          [
           "Midfielder"
          ],
          [
           "Midfielder"
          ],
          [
           "Midfielder"
          ],
          [
           "Midfielder"
          ],
          [
           "Midfielder"
          ],
          [
           "Midfielder"
          ],
          [
           "Midfielder"
          ],
          [
           "Midfielder"
          ],
          [
           "Midfielder"
          ],
          [
           "Midfielder"
          ],
          [
           "Midfielder"
          ],
          [
           "Midfielder"
          ],
          [
           "Midfielder"
          ],
          [
           "Midfielder"
          ],
          [
           "Midfielder"
          ],
          [
           "Midfielder"
          ],
          [
           "Midfielder"
          ],
          [
           "Midfielder"
          ],
          [
           "Midfielder"
          ],
          [
           "Midfielder"
          ],
          [
           "Midfielder"
          ],
          [
           "Midfielder"
          ],
          [
           "Midfielder"
          ],
          [
           "Midfielder"
          ],
          [
           "Midfielder"
          ],
          [
           "Midfielder"
          ],
          [
           "Midfielder"
          ]
         ],
         "domain": {
          "x": [
           0.0,
           1.0
          ],
          "y": [
           0.0,
           1.0
          ]
         },
         "hovertemplate": "labels=%{label}<br>Goals=%{value}<br>parent=%{parent}<br>id=%{id}<br>Position=%{customdata[0]}<extra></extra>",
         "ids": [
          "Liverpool FC",
          "Barcelona",
          "Arsenal FC",
          "Club Brugge",
          "Benfica",
          "Paris SG",
          "PSV Eindhoven",
          "BVB Dortmund",
          "Celtic",
          "Aston Villa",
          "Inter",
          "Milan",
          "Bayer Leverkusen",
          "Atalanta BC",
          "Manchester City",
          "Monaco",
          "Bayern Munich",
          "Feyenoord",
          "Sporting CP",
          "Shakhtar Donetsk",
          "Atletico Madrid",
          "Lille",
          "Bologna/Lucumi/1",
          "Liverpool FC/Van Dijk",
          "Benfica/Otamendi",
          "Bayer Leverkusen/Grimaldo",
          "PSV Eindhoven/Ryan Flamingo",
          "Bayer Leverkusen/Hincapie",
          "Liverpool FC/Ibrahima Konate/1",
          "Paris SG/Hakimi",
          "Bayern Munich/Laimer/1",
          "BVB Dortmund/Bensebaini",
          "Inter/Francesco Acerbi/1",
          "Bayern Munich/Minjae Kim/1",
          "Inter/Dumfries/2",
          "Paris SG/Nuno Mendes/4",
          "Monaco/Singo/2",
          "Sporting CP/Gonçalo Inacio/1",
          "Arsenal FC/Gabriel Magalhaes/1",
          "Atalanta BC/Kolasinac/1",
          "Aston Villa/Ezri Konsa",
          "Arsenal FC/Calafiori/1",
          "Atletico Madrid/Jose Gimenez",
          "Sporting CP/Gonçalo Inacio",
          "Bayern Munich/Alphonso Davies",
          "Bologna/Lucumi",
          "Liverpool FC/Ibrahima Konate",
          "Bayern Munich/Laimer",
          "Arsenal FC/Calafiori",
          "Inter/Francesco Acerbi",
          "Bayern Munich/Minjae Kim",
          "Inter/Dumfries",
          "Paris SG/Nuno Mendes",
          "Inter/Pavard",
          "Monaco/Singo",
          "Arsenal FC/Gabriel Magalhaes",
          "Atalanta BC/Kolasinac",
          "Club Brugge/De Cuyper",
          "Bayer Leverkusen/Mukiele",
          "Arsenal FC/Jurrien Timber",
          "Aston Villa/Maatsen",
          "Barcelona/Inigo Martinez",
          "Benfica/Alexander Bah",
          "Club Brugge/De Cuyper/1",
          "Bayer Leverkusen/Mukiele/1",
          "Bologna",
          "PSV Eindhoven/Ryan Flamingo/3",
          "Inter/Pavard/1",
          "Aston Villa/Ezri Konsa/1",
          "Bayer Leverkusen/Grimaldo/2",
          "Benfica/Alexander Bah/1",
          "Arsenal FC/Jurrien Timber/1",
          "Barcelona/Inigo Martinez/2",
          "BVB Dortmund/Bensebaini/2",
          "Paris SG/Hakimi/4",
          "Bayern Munich/Alphonso Davies/2",
          "Atletico Madrid/Jose Gimenez/1",
          "Bayer Leverkusen/Hincapie/1",
          "Liverpool FC/Van Dijk/1",
          "Benfica/Otamendi/1",
          "Aston Villa/Maatsen/1",
          "Manchester City/Savinho",
          "Inter/Lautaro Martinez/9",
          "Paris SG/Desire Doue",
          "Manchester City/Phil Foden/3",
          "Benfica/Akturkoglu",
          "Benfica/Pavlidis/7",
          "Milan/Santiago Gimenez/6",
          "BVB Dortmund/Adeyemi",
          "Juventus/Kenan Yildiz",
          "Feyenoord/Igor Paixao",
          "Monaco/Maghnes Akliouche",
          "Atletico Madrid/Giuliano Simeone",
          "Liverpool FC/Gakpo",
          "Paris SG/Barcola",
          "Arsenal FC/Bukayo Saka",
          "Inter/Taremi",
          "Atletico Madrid/Griezmann",
          "Milan/Santiago Gimenez",
          "Benfica/Pavlidis",
          "Manchester City/Phil Foden",
          "Inter/Lautaro Martinez",
          "Benfica/Di Maria",
          "Leipzig/Benjamin Sesko",
          "Monaco/Minamino",
          "Monaco/Minamino/3",
          "Paris SG/Dembele",
          "Monaco/Embolo",
          "Liverpool FC/Salah",
          "Milan/Rafael Leao",
          "Leipzig/Benjamin Sesko/4",
          "Benfica/Di Maria/1",
          "Atletico Madrid/Griezmann/6",
          "Real Madrid/Rodrygo",
          "BVB Dortmund/Guirassy",
          "Real Madrid/Vinicius Jr/8",
          "PSV Eindhoven/Noa Lang/2",
          "Real Madrid",
          "Arsenal FC/Martinelli/2",
          "Paris SG/Kvaratskhelia/3",
          "Celtic/Kuhn/3",
          "Arsenal FC/Kai Havertz/4",
          "Shakhtar Donetsk/Kevin",
          "Real Madrid/Kylian Mbappe/7",
          "Milan/Pulisic/4",
          "PSV Eindhoven/Johan Bakayoko/2",
          "Leipzig",
          "Real Madrid/Brahim Diaz/2",
          "Juventus",
          "Real Madrid/Jude Bellingham/3",
          "Barcelona/Raphinha/13",
          "Barcelona/Yamal/5",
          "Inter/Taremi/1",
          "PSV Eindhoven/Ivan Perisic",
          "Atletico Madrid/Julian Alvarez/7",
          "PSV Eindhoven/Luuk de Jong",
          "Club Brugge/Christos Tzolis",
          "Juventus/Conceiçao",
          "Bayern Munich/Harry Kane",
          "Sporting CP/Viktor Gyokeres",
          "Inter/Thuram",
          "Club Brugge/Christos Tzolis/1",
          "Liverpool FC/Luis Diaz",
          "Atalanta BC/Lookman",
          "Barcelona/Ferran Torres",
          "BVB Dortmund/Gittens",
          "Bayern Munich/Jamal Musiala",
          "Bayern Munich/Olise",
          "Bayern Munich/Thomas Muller",
          "Manchester City/Haaland",
          "Real Madrid/Lucas Vazquez",
          "Lille/Jonathan David",
          "Liverpool FC/Gakpo/3",
          "Barcelona/Lewandowski/11",
          "Shakhtar Donetsk/Kevin/2",
          "Real Madrid/Jude Bellingham",
          "Barcelona/Raphinha",
          "Liverpool FC/Salah/3",
          "Barcelona/Lewandowski",
          "Arsenal FC/Bukayo Saka/6",
          "BVB Dortmund/Guirassy/13",
          "Milan/Rafael Leao/3",
          "PSV Eindhoven/Ivan Perisic/3",
          "PSV Eindhoven/Luuk de Jong/2",
          "Monaco/Embolo/1",
          "Liverpool FC/Luis Diaz/3",
          "Paris SG/Barcola/3",
          "Benfica/Akturkoglu/4",
          "Real Madrid/Rodrygo/5",
          "Real Madrid/Lucas Vazquez/1",
          "Manchester City/Haaland/8",
          "Bayern Munich/Harry Kane/11",
          "Atletico Madrid/Julian Alvarez",
          "Bayern Munich/Thomas Muller/3",
          "Bayern Munich/Olise/5",
          "Bayern Munich/Jamal Musiala/3",
          "BVB Dortmund/Gittens/4",
          "Barcelona/Ferran Torres/3",
          "Lille/Jonathan David/7",
          "Sporting CP/Viktor Gyokeres/6",
          "Atalanta BC/Lookman/5",
          "Juventus/Conceiçao/1",
          "Real Madrid/Brahim Diaz",
          "Inter/Thuram/4",
          "Juventus/Kenan Yildiz/1",
          "Real Madrid/Vinicius Jr",
          "PSV Eindhoven/Noa Lang",
          "Paris SG/Desire Doue/5",
          "BVB Dortmund/Adeyemi/5",
          "Arsenal FC/Martinelli",
          "Paris SG/Kvaratskhelia",
          "Celtic/Kuhn",
          "Atletico Madrid/Giuliano Simeone/1",
          "Real Madrid/Kylian Mbappe",
          "Feyenoord/Igor Paixao/2",
          "Monaco/Maghnes Akliouche/2",
          "Arsenal FC/Kai Havertz",
          "Paris SG/Dembele/8",
          "Milan/Pulisic",
          "PSV Eindhoven/Johan Bakayoko",
          "Manchester City/Savinho/1",
          "Barcelona/Yamal",
          "Arsenal FC/Mikel Merino/2",
          "Barcelona/Fermin Lopez",
          "PSV Eindhoven/Ismael Saibari/3",
          "Barcelona/Dani Olmo/2",
          "Arsenal FC/Declan Rice",
          "Arsenal FC/Odegaard/3",
          "Paris SG/Joao Neves",
          "Benfica/Orkun Kökcü/4",
          "VfB Stuttgart",
          "Paris SG/Fabian Ruiz/1",
          "Liverpool FC/Mac Allister",
          "Atalanta BC/Mario Pasalic/3",
          "Celtic/Arne Engels/1",
          "Bayer Leverkusen/Florian Wirtz",
          "VfB Stuttgart/Enzo Millot",
          "Dinamo Zagreb/Baturina",
          "Inter/Calhanoglu/4",
          "Aston Villa/John McGinn/3",
          "Celtic/Reo Hatate/1",
          "Lille/Cabella",
          "Sturm Graz",
          "Club Brugge/Hans Vanaken/1",
          "Aston Villa/Youri Tielemans/2",
          "VfB Stuttgart/Angelo Stiller/1",
          "Milan/Tijjani Reijnders/3",
          "Liverpool FC/Szoboszlai/1",
          "Shakhtar Donetsk/Georgiy Sudakov/2",
          "Feyenoord/Milambo",
          "Aston Villa/Rogers",
          "Aston Villa/Jacob Ramsey/1",
          "Manchester City/Matheus Nunes",
          "Milan/Tijjani Reijnders",
          "VfB Stuttgart/Angelo Stiller",
          "Atalanta BC/Ederson/1",
          "BVB Dortmund/Emre Can/2",
          "Aston Villa/Jacob Ramsey",
          "Arsenal FC/Odegaard",
          "Atalanta BC/Ederson",
          "Club Brugge/Hans Vanaken",
          "BVB Dortmund/Emre Can",
          "Sturm Graz/Otar Kiteishvili/1",
          "Paris SG/Fabian Ruiz",
          "BVB Dortmund/Pascal Gross",
          "BVB Dortmund/Felix Nmecha",
          "Bayern Munich/Leon Goretzka/1",
          "Bayern Munich/Leon Goretzka",
          "Sturm Graz/Otar Kiteishvili",
          "Dinamo Zagreb",
          "Paris SG/Vitinha",
          "BVB Dortmund/Felix Nmecha/1",
          "Liverpool FC/Szoboszlai",
          "Aston Villa/John McGinn",
          "Atalanta BC/Charles Ketelaere",
          "BVB Dortmund/Pascal Gross/1",
          "Inter/Calhanoglu",
          "Manchester City/Gundogan",
          "Lille/Cabella/1",
          "Paris SG/Vitinha/2",
          "Atalanta BC/Mario Pasalic",
          "PSV Eindhoven/Tillman/3",
          "PSV Eindhoven/Tillman",
          "Atletico Madrid/Llorente/2",
          "Celtic/Arne Engels",
          "Shakhtar Donetsk/Georgiy Sudakov",
          "Liverpool FC/Mac Allister/2",
          "Paris SG/Joao Neves/1",
          "Arsenal FC/Mikel Merino",
          "Aston Villa/Youri Tielemans",
          "Arsenal FC/Declan Rice/4",
          "Atletico Madrid/Llorente",
          "Barcelona/Fermin Lopez/1",
          "VfB Stuttgart/Enzo Millot/2",
          "Dinamo Zagreb/Baturina/2",
          "Atalanta BC/Charles Ketelaere/4",
          "PSV Eindhoven/Ismael Saibari",
          "Aston Villa/Rogers/4",
          "Feyenoord/Milambo/3",
          "Celtic/Reo Hatate",
          "Barcelona/Dani Olmo",
          "Manchester City/Matheus Nunes/1",
          "Benfica/Orkun Kökcü",
          "Bayer Leverkusen/Florian Wirtz/6",
          "Manchester City/Gundogan/2"
         ],
         "labels": [
          "Liverpool FC",
          "Barcelona",
          "Arsenal FC",
          "Club Brugge",
          "Benfica",
          "Paris SG",
          "PSV Eindhoven",
          "BVB Dortmund",
          "Celtic",
          "Aston Villa",
          "Inter",
          "Milan",
          "Bayer Leverkusen",
          "Atalanta BC",
          "Manchester City",
          "Monaco",
          "Bayern Munich",
          "Feyenoord",
          "Sporting CP",
          "Shakhtar Donetsk",
          "Atletico Madrid",
          "Lille",
          "1",
          "Van Dijk",
          "Otamendi",
          "Grimaldo",
          "Ryan Flamingo",
          "Hincapie",
          "1",
          "Hakimi",
          "1",
          "Bensebaini",
          "1",
          "1",
          "2",
          "4",
          "2",
          "1",
          "1",
          "1",
          "Ezri Konsa",
          "1",
          "Jose Gimenez",
          "Gonçalo Inacio",
          "Alphonso Davies",
          "Lucumi",
          "Ibrahima Konate",
          "Laimer",
          "Calafiori",
          "Francesco Acerbi",
          "Minjae Kim",
          "Dumfries",
          "Nuno Mendes",
          "Pavard",
          "Singo",
          "Gabriel Magalhaes",
          "Kolasinac",
          "De Cuyper",
          "Mukiele",
          "Jurrien Timber",
          "Maatsen",
          "Inigo Martinez",
          "Alexander Bah",
          "1",
          "1",
          "Bologna",
          "3",
          "1",
          "1",
          "2",
          "1",
          "1",
          "2",
          "2",
          "4",
          "2",
          "1",
          "1",
          "1",
          "1",
          "1",
          "Savinho",
          "9",
          "Desire Doue",
          "3",
          "Akturkoglu",
          "7",
          "6",
          "Adeyemi",
          "Kenan Yildiz",
          "Igor Paixao",
          "Maghnes Akliouche",
          "Giuliano Simeone",
          "Gakpo",
          "Barcola",
          "Bukayo Saka",
          "Taremi",
          "Griezmann",
          "Santiago Gimenez",
          "Pavlidis",
          "Phil Foden",
          "Lautaro Martinez",
          "Di Maria",
          "Benjamin Sesko",
          "Minamino",
          "3",
          "Dembele",
          "Embolo",
          "Salah",
          "Rafael Leao",
          "4",
          "1",
          "6",
          "Rodrygo",
          "Guirassy",
          "8",
          "2",
          "Real Madrid",
          "2",
          "3",
          "3",
          "4",
          "Kevin",
          "7",
          "4",
          "2",
          "Leipzig",
          "2",
          "Juventus",
          "3",
          "13",
          "5",
          "1",
          "Ivan Perisic",
          "7",
          "Luuk de Jong",
          "Christos Tzolis",
          "Conceiçao",
          "Harry Kane",
          "Viktor Gyokeres",
          "Thuram",
          "1",
          "Luis Diaz",
          "Lookman",
          "Ferran Torres",
          "Gittens",
          "Jamal Musiala",
          "Olise",
          "Thomas Muller",
          "Haaland",
          "Lucas Vazquez",
          "Jonathan David",
          "3",
          "11",
          "2",
          "Jude Bellingham",
          "Raphinha",
          "3",
          "Lewandowski",
          "6",
          "13",
          "3",
          "3",
          "2",
          "1",
          "3",
          "3",
          "4",
          "5",
          "1",
          "8",
          "11",
          "Julian Alvarez",
          "3",
          "5",
          "3",
          "4",
          "3",
          "7",
          "6",
          "5",
          "1",
          "Brahim Diaz",
          "4",
          "1",
          "Vinicius Jr",
          "Noa Lang",
          "5",
          "5",
          "Martinelli",
          "Kvaratskhelia",
          "Kuhn",
          "1",
          "Kylian Mbappe",
          "2",
          "2",
          "Kai Havertz",
          "8",
          "Pulisic",
          "Johan Bakayoko",
          "1",
          "Yamal",
          "2",
          "Fermin Lopez",
          "3",
          "2",
          "Declan Rice",
          "3",
          "Joao Neves",
          "4",
          "VfB Stuttgart",
          "1",
          "Mac Allister",
          "3",
          "1",
          "Florian Wirtz",
          "Enzo Millot",
          "Baturina",
          "4",
          "3",
          "1",
          "Cabella",
          "Sturm Graz",
          "1",
          "2",
          "1",
          "3",
          "1",
          "2",
          "Milambo",
          "Rogers",
          "1",
          "Matheus Nunes",
          "Tijjani Reijnders",
          "Angelo Stiller",
          "1",
          "2",
          "Jacob Ramsey",
          "Odegaard",
          "Ederson",
          "Hans Vanaken",
          "Emre Can",
          "1",
          "Fabian Ruiz",
          "Pascal Gross",
          "Felix Nmecha",
          "1",
          "Leon Goretzka",
          "Otar Kiteishvili",
          "Dinamo Zagreb",
          "Vitinha",
          "1",
          "Szoboszlai",
          "John McGinn",
          "Charles Ketelaere",
          "1",
          "Calhanoglu",
          "Gundogan",
          "1",
          "2",
          "Mario Pasalic",
          "3",
          "Tillman",
          "2",
          "Arne Engels",
          "Georgiy Sudakov",
          "2",
          "1",
          "Mikel Merino",
          "Youri Tielemans",
          "4",
          "Llorente",
          "1",
          "2",
          "2",
          "4",
          "Ismael Saibari",
          "4",
          "3",
          "Reo Hatate",
          "Dani Olmo",
          "1",
          "Orkun Kökcü",
          "6",
          "2"
         ],
         "marker": {
          "colors": [
           "#636efa",
           "#636efa",
           "#636efa",
           "#636efa",
           "#636efa",
           "#636efa",
           "#636efa",
           "#636efa",
           "#636efa",
           "#636efa",
           "#636efa",
           "#636efa",
           "#636efa",
           "#636efa",
           "#636efa",
           "#636efa",
           "#636efa",
           "#636efa",
           "#636efa",
           "#636efa",
           "#636efa",
           "#636efa",
           "#EF553B",
           "#EF553B",
           "#EF553B",
           "#EF553B",
           "#EF553B",
           "#EF553B",
           "#EF553B",
           "#EF553B",
           "#EF553B",
           "#EF553B",
           "#EF553B",
           "#EF553B",
           "#EF553B",
           "#EF553B",
           "#EF553B",
           "#EF553B",
           "#EF553B",
           "#EF553B",
           "#EF553B",
           "#EF553B",
           "#EF553B",
           "#EF553B",
           "#EF553B",
           "#EF553B",
           "#EF553B",
           "#EF553B",
           "#EF553B",
           "#EF553B",
           "#EF553B",
           "#EF553B",
           "#EF553B",
           "#EF553B",
           "#EF553B",
           "#EF553B",
           "#EF553B",
           "#EF553B",
           "#EF553B",
           "#EF553B",
           "#EF553B",
           "#EF553B",
           "#EF553B",
           "#EF553B",
           "#EF553B",
           "#EF553B",
           "#EF553B",
           "#EF553B",
           "#EF553B",
           "#EF553B",
           "#EF553B",
           "#EF553B",
           "#EF553B",
           "#EF553B",
           "#EF553B",
           "#EF553B",
           "#EF553B",
           "#EF553B",
           "#EF553B",
           "#EF553B",
           "#EF553B",
           "#00cc96",
           "#00cc96",
           "#00cc96",
           "#00cc96",
           "#00cc96",
           "#00cc96",
           "#00cc96",
           "#00cc96",
           "#00cc96",
           "#00cc96",
           "#00cc96",
           "#00cc96",
           "#00cc96",
           "#00cc96",
           "#00cc96",
           "#00cc96",
           "#00cc96",
           "#00cc96",
           "#00cc96",
           "#00cc96",
           "#00cc96",
           "#00cc96",
           "#00cc96",
           "#00cc96",
           "#00cc96",
           "#00cc96",
           "#00cc96",
           "#00cc96",
           "#00cc96",
           "#00cc96",
           "#00cc96",
           "#00cc96",
           "#00cc96",
           "#00cc96",
           "#00cc96",
           "#00cc96",
           "#00cc96",
           "#00cc96",
           "#00cc96",
           "#00cc96",
           "#00cc96",
           "#00cc96",
           "#00cc96",
           "#00cc96",
           "#00cc96",
           "#00cc96",
           "#00cc96",
           "#00cc96",
           "#00cc96",
           "#00cc96",
           "#00cc96",
           "#00cc96",
           "#00cc96",
           "#00cc96",
           "#00cc96",
           "#00cc96",
           "#00cc96",
           "#00cc96",
           "#00cc96",
           "#00cc96",
           "#00cc96",
           "#00cc96",
           "#00cc96",
           "#00cc96",
           "#00cc96",
           "#00cc96",
           "#00cc96",
           "#00cc96",
           "#00cc96",
           "#00cc96",
           "#00cc96",
           "#00cc96",
           "#00cc96",
           "#00cc96",
           "#00cc96",
           "#00cc96",
           "#00cc96",
           "#00cc96",
           "#00cc96",
           "#00cc96",
           "#00cc96",
           "#00cc96",
           "#00cc96",
           "#00cc96",
           "#00cc96",
           "#00cc96",
           "#00cc96",
           "#00cc96",
           "#00cc96",
           "#00cc96",
           "#00cc96",
           "#00cc96",
           "#00cc96",
           "#00cc96",
           "#00cc96",
           "#00cc96",
           "#00cc96",
           "#00cc96",
           "#00cc96",
           "#00cc96",
           "#00cc96",
           "#00cc96",
           "#00cc96",
           "#00cc96",
           "#00cc96",
           "#00cc96",
           "#00cc96",
           "#00cc96",
           "#00cc96",
           "#00cc96",
           "#00cc96",
           "#00cc96",
           "#00cc96",
           "#00cc96",
           "#00cc96",
           "#00cc96",
           "#00cc96",
           "#00cc96",
           "#00cc96",
           "#00cc96",
           "#00cc96",
           "#ab63fa",
           "#ab63fa",
           "#ab63fa",
           "#ab63fa",
           "#ab63fa",
           "#ab63fa",
           "#ab63fa",
           "#ab63fa",
           "#ab63fa",
           "#ab63fa",
           "#ab63fa",
           "#ab63fa",
           "#ab63fa",
           "#ab63fa",
           "#ab63fa",
           "#ab63fa",
           "#ab63fa",
           "#ab63fa",
           "#ab63fa",
           "#ab63fa",
           "#ab63fa",
           "#ab63fa",
           "#ab63fa",
           "#ab63fa",
           "#ab63fa",
           "#ab63fa",
           "#ab63fa",
           "#ab63fa",
           "#ab63fa",
           "#ab63fa",
           "#ab63fa",
           "#ab63fa",
           "#ab63fa",
           "#ab63fa",
           "#ab63fa",
           "#ab63fa",
           "#ab63fa",
           "#ab63fa",
           "#ab63fa",
           "#ab63fa",
           "#ab63fa",
           "#ab63fa",
           "#ab63fa",
           "#ab63fa",
           "#ab63fa",
           "#ab63fa",
           "#ab63fa",
           "#ab63fa",
           "#ab63fa",
           "#ab63fa",
           "#ab63fa",
           "#ab63fa",
           "#ab63fa",
           "#ab63fa",
           "#ab63fa",
           "#ab63fa",
           "#ab63fa",
           "#ab63fa",
           "#ab63fa",
           "#ab63fa",
           "#ab63fa",
           "#ab63fa",
           "#ab63fa",
           "#ab63fa",
           "#ab63fa",
           "#ab63fa",
           "#ab63fa",
           "#ab63fa",
           "#ab63fa",
           "#ab63fa",
           "#ab63fa",
           "#ab63fa",
           "#ab63fa",
           "#ab63fa",
           "#ab63fa",
           "#ab63fa",
           "#ab63fa",
           "#ab63fa",
           "#ab63fa",
           "#ab63fa",
           "#ab63fa",
           "#ab63fa",
           "#ab63fa"
          ]
         },
         "name": "",
         "parents": [
          "",
          "",
          "",
          "",
          "",
          "",
          "",
          "",
          "",
          "",
          "",
          "",
          "",
          "",
          "",
          "",
          "",
          "",
          "",
          "",
          "",
          "",
          "Bologna/Lucumi",
          "Liverpool FC",
          "Benfica",
          "Bayer Leverkusen",
          "PSV Eindhoven",
          "Bayer Leverkusen",
          "Liverpool FC/Ibrahima Konate",
          "Paris SG",
          "Bayern Munich/Laimer",
          "BVB Dortmund",
          "Inter/Francesco Acerbi",
          "Bayern Munich/Minjae Kim",
          "Inter/Dumfries",
          "Paris SG/Nuno Mendes",
          "Monaco/Singo",
          "Sporting CP/Gonçalo Inacio",
          "Arsenal FC/Gabriel Magalhaes",
          "Atalanta BC/Kolasinac",
          "Aston Villa",
          "Arsenal FC/Calafiori",
          "Atletico Madrid",
          "Sporting CP",
          "Bayern Munich",
          "Bologna",
          "Liverpool FC",
          "Bayern Munich",
          "Arsenal FC",
          "Inter",
          "Bayern Munich",
          "Inter",
          "Paris SG",
          "Inter",
          "Monaco",
          "Arsenal FC",
          "Atalanta BC",
          "Club Brugge",
          "Bayer Leverkusen",
          "Arsenal FC",
          "Aston Villa",
          "Barcelona",
          "Benfica",
          "Club Brugge/De Cuyper",
          "Bayer Leverkusen/Mukiele",
          "",
          "PSV Eindhoven/Ryan Flamingo",
          "Inter/Pavard",
          "Aston Villa/Ezri Konsa",
          "Bayer Leverkusen/Grimaldo",
          "Benfica/Alexander Bah",
          "Arsenal FC/Jurrien Timber",
          "Barcelona/Inigo Martinez",
          "BVB Dortmund/Bensebaini",
          "Paris SG/Hakimi",
          "Bayern Munich/Alphonso Davies",
          "Atletico Madrid/Jose Gimenez",
          "Bayer Leverkusen/Hincapie",
          "Liverpool FC/Van Dijk",
          "Benfica/Otamendi",
          "Aston Villa/Maatsen",
          "Manchester City",
          "Inter/Lautaro Martinez",
          "Paris SG",
          "Manchester City/Phil Foden",
          "Benfica",
          "Benfica/Pavlidis",
          "Milan/Santiago Gimenez",
          "BVB Dortmund",
          "Juventus",
          "Feyenoord",
          "Monaco",
          "Atletico Madrid",
          "Liverpool FC",
          "Paris SG",
          "Arsenal FC",
          "Inter",
          "Atletico Madrid",
          "Milan",
          "Benfica",
          "Manchester City",
          "Inter",
          "Benfica",
          "Leipzig",
          "Monaco",
          "Monaco/Minamino",
          "Paris SG",
          "Monaco",
          "Liverpool FC",
          "Milan",
          "Leipzig/Benjamin Sesko",
          "Benfica/Di Maria",
          "Atletico Madrid/Griezmann",
          "Real Madrid",
          "BVB Dortmund",
          "Real Madrid/Vinicius Jr",
          "PSV Eindhoven/Noa Lang",
          "",
          "Arsenal FC/Martinelli",
          "Paris SG/Kvaratskhelia",
          "Celtic/Kuhn",
          "Arsenal FC/Kai Havertz",
          "Shakhtar Donetsk",
          "Real Madrid/Kylian Mbappe",
          "Milan/Pulisic",
          "PSV Eindhoven/Johan Bakayoko",
          "",
          "Real Madrid/Brahim Diaz",
          "",
          "Real Madrid/Jude Bellingham",
          "Barcelona/Raphinha",
          "Barcelona/Yamal",
          "Inter/Taremi",
          "PSV Eindhoven",
          "Atletico Madrid/Julian Alvarez",
          "PSV Eindhoven",
          "Club Brugge",
          "Juventus",
          "Bayern Munich",
          "Sporting CP",
          "Inter",
          "Club Brugge/Christos Tzolis",
          "Liverpool FC",
          "Atalanta BC",
          "Barcelona",
          "BVB Dortmund",
          "Bayern Munich",
          "Bayern Munich",
          "Bayern Munich",
          "Manchester City",
          "Real Madrid",
          "Lille",
          "Liverpool FC/Gakpo",
          "Barcelona/Lewandowski",
          "Shakhtar Donetsk/Kevin",
          "Real Madrid",
          "Barcelona",
          "Liverpool FC/Salah",
          "Barcelona",
          "Arsenal FC/Bukayo Saka",
          "BVB Dortmund/Guirassy",
          "Milan/Rafael Leao",
          "PSV Eindhoven/Ivan Perisic",
          "PSV Eindhoven/Luuk de Jong",
          "Monaco/Embolo",
          "Liverpool FC/Luis Diaz",
          "Paris SG/Barcola",
          "Benfica/Akturkoglu",
          "Real Madrid/Rodrygo",
          "Real Madrid/Lucas Vazquez",
          "Manchester City/Haaland",
          "Bayern Munich/Harry Kane",
          "Atletico Madrid",
          "Bayern Munich/Thomas Muller",
          "Bayern Munich/Olise",
          "Bayern Munich/Jamal Musiala",
          "BVB Dortmund/Gittens",
          "Barcelona/Ferran Torres",
          "Lille/Jonathan David",
          "Sporting CP/Viktor Gyokeres",
          "Atalanta BC/Lookman",
          "Juventus/Conceiçao",
          "Real Madrid",
          "Inter/Thuram",
          "Juventus/Kenan Yildiz",
          "Real Madrid",
          "PSV Eindhoven",
          "Paris SG/Desire Doue",
          "BVB Dortmund/Adeyemi",
          "Arsenal FC",
          "Paris SG",
          "Celtic",
          "Atletico Madrid/Giuliano Simeone",
          "Real Madrid",
          "Feyenoord/Igor Paixao",
          "Monaco/Maghnes Akliouche",
          "Arsenal FC",
          "Paris SG/Dembele",
          "Milan",
          "PSV Eindhoven",
          "Manchester City/Savinho",
          "Barcelona",
          "Arsenal FC/Mikel Merino",
          "Barcelona",
          "PSV Eindhoven/Ismael Saibari",
          "Barcelona/Dani Olmo",
          "Arsenal FC",
          "Arsenal FC/Odegaard",
          "Paris SG",
          "Benfica/Orkun Kökcü",
          "",
          "Paris SG/Fabian Ruiz",
          "Liverpool FC",
          "Atalanta BC/Mario Pasalic",
          "Celtic/Arne Engels",
          "Bayer Leverkusen",
          "VfB Stuttgart",
          "Dinamo Zagreb",
          "Inter/Calhanoglu",
          "Aston Villa/John McGinn",
          "Celtic/Reo Hatate",
          "Lille",
          "",
          "Club Brugge/Hans Vanaken",
          "Aston Villa/Youri Tielemans",
          "VfB Stuttgart/Angelo Stiller",
          "Milan/Tijjani Reijnders",
          "Liverpool FC/Szoboszlai",
          "Shakhtar Donetsk/Georgiy Sudakov",
          "Feyenoord",
          "Aston Villa",
          "Aston Villa/Jacob Ramsey",
          "Manchester City",
          "Milan",
          "VfB Stuttgart",
          "Atalanta BC/Ederson",
          "BVB Dortmund/Emre Can",
          "Aston Villa",
          "Arsenal FC",
          "Atalanta BC",
          "Club Brugge",
          "BVB Dortmund",
          "Sturm Graz/Otar Kiteishvili",
          "Paris SG",
          "BVB Dortmund",
          "BVB Dortmund",
          "Bayern Munich/Leon Goretzka",
          "Bayern Munich",
          "Sturm Graz",
          "",
          "Paris SG",
          "BVB Dortmund/Felix Nmecha",
          "Liverpool FC",
          "Aston Villa",
          "Atalanta BC",
          "BVB Dortmund/Pascal Gross",
          "Inter",
          "Manchester City",
          "Lille/Cabella",
          "Paris SG/Vitinha",
          "Atalanta BC",
          "PSV Eindhoven/Tillman",
          "PSV Eindhoven",
          "Atletico Madrid/Llorente",
          "Celtic",
          "Shakhtar Donetsk",
          "Liverpool FC/Mac Allister",
          "Paris SG/Joao Neves",
          "Arsenal FC",
          "Aston Villa",
          "Arsenal FC/Declan Rice",
          "Atletico Madrid",
          "Barcelona/Fermin Lopez",
          "VfB Stuttgart/Enzo Millot",
          "Dinamo Zagreb/Baturina",
          "Atalanta BC/Charles Ketelaere",
          "PSV Eindhoven",
          "Aston Villa/Rogers",
          "Feyenoord/Milambo",
          "Celtic",
          "Barcelona",
          "Manchester City/Matheus Nunes",
          "Benfica",
          "Bayer Leverkusen/Florian Wirtz",
          "Manchester City/Gundogan"
         ],
         "values": {
          "dtype": "f8",
          "bdata": "AAAAAAAALEAAAAAAAIBCQAAAAAAAADhAAAAAAAAACEAAAAAAAAAyQAAAAAAAAD9AAAAAAAAAMkAAAAAAAAA8QAAAAAAAABRAAAAAAAAAKEAAAAAAAAA2QAAAAAAAADBAAAAAAAAAJEAAAAAAAAAsQAAAAAAAAC5AAAAAAAAAIEAAAAAAAAA7QAAAAAAAABRAAAAAAAAAHEAAAAAAAAAQQAAAAAAAADFAAAAAAAAAIEAAAAAAAADwPwAAAAAAAPA/AAAAAAAA8D8AAAAAAAAAQAAAAAAAAAhAAAAAAAAA8D8AAAAAAADwPwAAAAAAABBAAAAAAAAA8D8AAAAAAAAAQAAAAAAAAPA/AAAAAAAA8D8AAAAAAAAAQAAAAAAAABBAAAAAAAAAAEAAAAAAAADwPwAAAAAAAPA/AAAAAAAA8D8AAAAAAADwPwAAAAAAAPA/AAAAAAAA8D8AAAAAAADwPwAAAAAAAABAAAAAAAAA8D8AAAAAAADwPwAAAAAAAPA/AAAAAAAA8D8AAAAAAADwPwAAAAAAAPA/AAAAAAAAAEAAAAAAAAAQQAAAAAAAAPA/AAAAAAAAAEAAAAAAAADwPwAAAAAAAPA/AAAAAAAA8D8AAAAAAADwPwAAAAAAAPA/AAAAAAAA8D8AAAAAAAAAQAAAAAAAAPA/AAAAAAAA8D8AAAAAAADwPwAAAAAAAPA/AAAAAAAACEAAAAAAAADwPwAAAAAAAPA/AAAAAAAAAEAAAAAAAADwPwAAAAAAAPA/AAAAAAAAAEAAAAAAAAAAQAAAAAAAABBAAAAAAAAAAEAAAAAAAADwPwAAAAAAAPA/AAAAAAAA8D8AAAAAAADwPwAAAAAAAPA/AAAAAAAA8D8AAAAAAAAiQAAAAAAAABRAAAAAAAAACEAAAAAAAAAQQAAAAAAAABxAAAAAAAAAGEAAAAAAAAAUQAAAAAAAAPA/AAAAAAAAAEAAAAAAAAAAQAAAAAAAAPA/AAAAAAAACEAAAAAAAAAIQAAAAAAAABhAAAAAAAAA8D8AAAAAAAAYQAAAAAAAABhAAAAAAAAAHEAAAAAAAAAIQAAAAAAAACJAAAAAAAAA8D8AAAAAAAAQQAAAAAAAAAhAAAAAAAAACEAAAAAAAAAgQAAAAAAAAPA/AAAAAAAACEAAAAAAAAAIQAAAAAAAABBAAAAAAAAA8D8AAAAAAAAYQAAAAAAAABRAAAAAAAAAKkAAAAAAAAAgQAAAAAAAAABAAAAAAAAAOkAAAAAAAAAAQAAAAAAAAAhAAAAAAAAACEAAAAAAAAAQQAAAAAAAAABAAAAAAAAAHEAAAAAAAAAQQAAAAAAAAABAAAAAAAAAEEAAAAAAAAAAQAAAAAAAAABAAAAAAAAACEAAAAAAAAAqQAAAAAAAABRAAAAAAAAA8D8AAAAAAAAIQAAAAAAAABxAAAAAAAAAAEAAAAAAAADwPwAAAAAAAPA/AAAAAAAAJkAAAAAAAAAYQAAAAAAAABBAAAAAAAAA8D8AAAAAAAAIQAAAAAAAABRAAAAAAAAACEAAAAAAAAAQQAAAAAAAAAhAAAAAAAAAFEAAAAAAAAAIQAAAAAAAACBAAAAAAAAA8D8AAAAAAAAcQAAAAAAAAAhAAAAAAAAAJkAAAAAAAAAAQAAAAAAAAAhAAAAAAAAAKkAAAAAAAAAIQAAAAAAAACZAAAAAAAAAGEAAAAAAAAAqQAAAAAAAAAhAAAAAAAAACEAAAAAAAAAAQAAAAAAAAPA/AAAAAAAACEAAAAAAAAAIQAAAAAAAABBAAAAAAAAAFEAAAAAAAADwPwAAAAAAACBAAAAAAAAAJkAAAAAAAAAcQAAAAAAAAAhAAAAAAAAAFEAAAAAAAAAIQAAAAAAAABBAAAAAAAAACEAAAAAAAAAcQAAAAAAAABhAAAAAAAAAFEAAAAAAAADwPwAAAAAAAABAAAAAAAAAEEAAAAAAAADwPwAAAAAAACBAAAAAAAAAAEAAAAAAAAAUQAAAAAAAABRAAAAAAAAAAEAAAAAAAAAIQAAAAAAAAAhAAAAAAAAA8D8AAAAAAAAcQAAAAAAAAABAAAAAAAAAAEAAAAAAAAAQQAAAAAAAACBAAAAAAAAAEEAAAAAAAAAAQAAAAAAAAPA/AAAAAAAAFEAAAAAAAAAAQAAAAAAAAPA/AAAAAAAACEAAAAAAAAAAQAAAAAAAABBAAAAAAAAACEAAAAAAAADwPwAAAAAAABBAAAAAAAAACEAAAAAAAADwPwAAAAAAAABAAAAAAAAACEAAAAAAAADwPwAAAAAAABhAAAAAAAAAAEAAAAAAAAAAQAAAAAAAABBAAAAAAAAACEAAAAAAAADwPwAAAAAAAPA/AAAAAAAA8D8AAAAAAADwPwAAAAAAAABAAAAAAAAA8D8AAAAAAAAIQAAAAAAAAPA/AAAAAAAAAEAAAAAAAAAIQAAAAAAAABBAAAAAAAAA8D8AAAAAAADwPwAAAAAAAAhAAAAAAAAA8D8AAAAAAADwPwAAAAAAAABAAAAAAAAA8D8AAAAAAAAIQAAAAAAAAPA/AAAAAAAA8D8AAAAAAAAAQAAAAAAAAPA/AAAAAAAA8D8AAAAAAADwPwAAAAAAAPA/AAAAAAAA8D8AAAAAAADwPwAAAAAAAPA/AAAAAAAAAEAAAAAAAAAAQAAAAAAAAPA/AAAAAAAA8D8AAAAAAAAIQAAAAAAAABBAAAAAAAAA8D8AAAAAAAAQQAAAAAAAAABAAAAAAAAA8D8AAAAAAAAAQAAAAAAAAAhAAAAAAAAACEAAAAAAAAAIQAAAAAAAAABAAAAAAAAA8D8AAAAAAAAAQAAAAAAAAABAAAAAAAAA8D8AAAAAAAAAQAAAAAAAAABAAAAAAAAAEEAAAAAAAAAAQAAAAAAAAPA/AAAAAAAAAEAAAAAAAAAAQAAAAAAAABBAAAAAAAAACEAAAAAAAAAQQAAAAAAAAAhAAAAAAAAA8D8AAAAAAAAAQAAAAAAAAPA/AAAAAAAAEEAAAAAAAAAYQAAAAAAAAABA"
         },
         "type": "treemap"
        }
       ],
       "layout": {
        "template": {
         "data": {
          "histogram2dcontour": [
           {
            "type": "histogram2dcontour",
            "colorbar": {
             "outlinewidth": 0,
             "ticks": ""
            },
            "colorscale": [
             [
              0.0,
              "#0d0887"
             ],
             [
              0.1111111111111111,
              "#46039f"
             ],
             [
              0.2222222222222222,
              "#7201a8"
             ],
             [
              0.3333333333333333,
              "#9c179e"
             ],
             [
              0.4444444444444444,
              "#bd3786"
             ],
             [
              0.5555555555555556,
              "#d8576b"
             ],
             [
              0.6666666666666666,
              "#ed7953"
             ],
             [
              0.7777777777777778,
              "#fb9f3a"
             ],
             [
              0.8888888888888888,
              "#fdca26"
             ],
             [
              1.0,
              "#f0f921"
             ]
            ]
           }
          ],
          "choropleth": [
           {
            "type": "choropleth",
            "colorbar": {
             "outlinewidth": 0,
             "ticks": ""
            }
           }
          ],
          "histogram2d": [
           {
            "type": "histogram2d",
            "colorbar": {
             "outlinewidth": 0,
             "ticks": ""
            },
            "colorscale": [
             [
              0.0,
              "#0d0887"
             ],
             [
              0.1111111111111111,
              "#46039f"
             ],
             [
              0.2222222222222222,
              "#7201a8"
             ],
             [
              0.3333333333333333,
              "#9c179e"
             ],
             [
              0.4444444444444444,
              "#bd3786"
             ],
             [
              0.5555555555555556,
              "#d8576b"
             ],
             [
              0.6666666666666666,
              "#ed7953"
             ],
             [
              0.7777777777777778,
              "#fb9f3a"
             ],
             [
              0.8888888888888888,
              "#fdca26"
             ],
             [
              1.0,
              "#f0f921"
             ]
            ]
           }
          ],
          "heatmap": [
           {
            "type": "heatmap",
            "colorbar": {
             "outlinewidth": 0,
             "ticks": ""
            },
            "colorscale": [
             [
              0.0,
              "#0d0887"
             ],
             [
              0.1111111111111111,
              "#46039f"
             ],
             [
              0.2222222222222222,
              "#7201a8"
             ],
             [
              0.3333333333333333,
              "#9c179e"
             ],
             [
              0.4444444444444444,
              "#bd3786"
             ],
             [
              0.5555555555555556,
              "#d8576b"
             ],
             [
              0.6666666666666666,
              "#ed7953"
             ],
             [
              0.7777777777777778,
              "#fb9f3a"
             ],
             [
              0.8888888888888888,
              "#fdca26"
             ],
             [
              1.0,
              "#f0f921"
             ]
            ]
           }
          ],
          "contourcarpet": [
           {
            "type": "contourcarpet",
            "colorbar": {
             "outlinewidth": 0,
             "ticks": ""
            }
           }
          ],
          "contour": [
           {
            "type": "contour",
            "colorbar": {
             "outlinewidth": 0,
             "ticks": ""
            },
            "colorscale": [
             [
              0.0,
              "#0d0887"
             ],
             [
              0.1111111111111111,
              "#46039f"
             ],
             [
              0.2222222222222222,
              "#7201a8"
             ],
             [
              0.3333333333333333,
              "#9c179e"
             ],
             [
              0.4444444444444444,
              "#bd3786"
             ],
             [
              0.5555555555555556,
              "#d8576b"
             ],
             [
              0.6666666666666666,
              "#ed7953"
             ],
             [
              0.7777777777777778,
              "#fb9f3a"
             ],
             [
              0.8888888888888888,
              "#fdca26"
             ],
             [
              1.0,
              "#f0f921"
             ]
            ]
           }
          ],
          "surface": [
           {
            "type": "surface",
            "colorbar": {
             "outlinewidth": 0,
             "ticks": ""
            },
            "colorscale": [
             [
              0.0,
              "#0d0887"
             ],
             [
              0.1111111111111111,
              "#46039f"
             ],
             [
              0.2222222222222222,
              "#7201a8"
             ],
             [
              0.3333333333333333,
              "#9c179e"
             ],
             [
              0.4444444444444444,
              "#bd3786"
             ],
             [
              0.5555555555555556,
              "#d8576b"
             ],
             [
              0.6666666666666666,
              "#ed7953"
             ],
             [
              0.7777777777777778,
              "#fb9f3a"
             ],
             [
              0.8888888888888888,
              "#fdca26"
             ],
             [
              1.0,
              "#f0f921"
             ]
            ]
           }
          ],
          "mesh3d": [
           {
            "type": "mesh3d",
            "colorbar": {
             "outlinewidth": 0,
             "ticks": ""
            }
           }
          ],
          "scatter": [
           {
            "fillpattern": {
             "fillmode": "overlay",
             "size": 10,
             "solidity": 0.2
            },
            "type": "scatter"
           }
          ],
          "parcoords": [
           {
            "type": "parcoords",
            "line": {
             "colorbar": {
              "outlinewidth": 0,
              "ticks": ""
             }
            }
           }
          ],
          "scatterpolargl": [
           {
            "type": "scatterpolargl",
            "marker": {
             "colorbar": {
              "outlinewidth": 0,
              "ticks": ""
             }
            }
           }
          ],
          "bar": [
           {
            "error_x": {
             "color": "#2a3f5f"
            },
            "error_y": {
             "color": "#2a3f5f"
            },
            "marker": {
             "line": {
              "color": "#E5ECF6",
              "width": 0.5
             },
             "pattern": {
              "fillmode": "overlay",
              "size": 10,
              "solidity": 0.2
             }
            },
            "type": "bar"
           }
          ],
          "scattergeo": [
           {
            "type": "scattergeo",
            "marker": {
             "colorbar": {
              "outlinewidth": 0,
              "ticks": ""
             }
            }
           }
          ],
          "scatterpolar": [
           {
            "type": "scatterpolar",
            "marker": {
             "colorbar": {
              "outlinewidth": 0,
              "ticks": ""
             }
            }
           }
          ],
          "histogram": [
           {
            "marker": {
             "pattern": {
              "fillmode": "overlay",
              "size": 10,
              "solidity": 0.2
             }
            },
            "type": "histogram"
           }
          ],
          "scattergl": [
           {
            "type": "scattergl",
            "marker": {
             "colorbar": {
              "outlinewidth": 0,
              "ticks": ""
             }
            }
           }
          ],
          "scatter3d": [
           {
            "type": "scatter3d",
            "line": {
             "colorbar": {
              "outlinewidth": 0,
              "ticks": ""
             }
            },
            "marker": {
             "colorbar": {
              "outlinewidth": 0,
              "ticks": ""
             }
            }
           }
          ],
          "scattermap": [
           {
            "type": "scattermap",
            "marker": {
             "colorbar": {
              "outlinewidth": 0,
              "ticks": ""
             }
            }
           }
          ],
          "scattermapbox": [
           {
            "type": "scattermapbox",
            "marker": {
             "colorbar": {
              "outlinewidth": 0,
              "ticks": ""
             }
            }
           }
          ],
          "scatterternary": [
           {
            "type": "scatterternary",
            "marker": {
             "colorbar": {
              "outlinewidth": 0,
              "ticks": ""
             }
            }
           }
          ],
          "scattercarpet": [
           {
            "type": "scattercarpet",
            "marker": {
             "colorbar": {
              "outlinewidth": 0,
              "ticks": ""
             }
            }
           }
          ],
          "carpet": [
           {
            "aaxis": {
             "endlinecolor": "#2a3f5f",
             "gridcolor": "white",
             "linecolor": "white",
             "minorgridcolor": "white",
             "startlinecolor": "#2a3f5f"
            },
            "baxis": {
             "endlinecolor": "#2a3f5f",
             "gridcolor": "white",
             "linecolor": "white",
             "minorgridcolor": "white",
             "startlinecolor": "#2a3f5f"
            },
            "type": "carpet"
           }
          ],
          "table": [
           {
            "cells": {
             "fill": {
              "color": "#EBF0F8"
             },
             "line": {
              "color": "white"
             }
            },
            "header": {
             "fill": {
              "color": "#C8D4E3"
             },
             "line": {
              "color": "white"
             }
            },
            "type": "table"
           }
          ],
          "barpolar": [
           {
            "marker": {
             "line": {
              "color": "#E5ECF6",
              "width": 0.5
             },
             "pattern": {
              "fillmode": "overlay",
              "size": 10,
              "solidity": 0.2
             }
            },
            "type": "barpolar"
           }
          ],
          "pie": [
           {
            "automargin": true,
            "type": "pie"
           }
          ]
         },
         "layout": {
          "autotypenumbers": "strict",
          "colorway": [
           "#636efa",
           "#EF553B",
           "#00cc96",
           "#ab63fa",
           "#FFA15A",
           "#19d3f3",
           "#FF6692",
           "#B6E880",
           "#FF97FF",
           "#FECB52"
          ],
          "font": {
           "color": "#2a3f5f"
          },
          "hovermode": "closest",
          "hoverlabel": {
           "align": "left"
          },
          "paper_bgcolor": "white",
          "plot_bgcolor": "#E5ECF6",
          "polar": {
           "bgcolor": "#E5ECF6",
           "angularaxis": {
            "gridcolor": "white",
            "linecolor": "white",
            "ticks": ""
           },
           "radialaxis": {
            "gridcolor": "white",
            "linecolor": "white",
            "ticks": ""
           }
          },
          "ternary": {
           "bgcolor": "#E5ECF6",
           "aaxis": {
            "gridcolor": "white",
            "linecolor": "white",
            "ticks": ""
           },
           "baxis": {
            "gridcolor": "white",
            "linecolor": "white",
            "ticks": ""
           },
           "caxis": {
            "gridcolor": "white",
            "linecolor": "white",
            "ticks": ""
           }
          },
          "coloraxis": {
           "colorbar": {
            "outlinewidth": 0,
            "ticks": ""
           }
          },
          "colorscale": {
           "sequential": [
            [
             0.0,
             "#0d0887"
            ],
            [
             0.1111111111111111,
             "#46039f"
            ],
            [
             0.2222222222222222,
             "#7201a8"
            ],
            [
             0.3333333333333333,
             "#9c179e"
            ],
            [
             0.4444444444444444,
             "#bd3786"
            ],
            [
             0.5555555555555556,
             "#d8576b"
            ],
            [
             0.6666666666666666,
             "#ed7953"
            ],
            [
             0.7777777777777778,
             "#fb9f3a"
            ],
            [
             0.8888888888888888,
             "#fdca26"
            ],
            [
             1.0,
             "#f0f921"
            ]
           ],
           "sequentialminus": [
            [
             0.0,
             "#0d0887"
            ],
            [
             0.1111111111111111,
             "#46039f"
            ],
            [
             0.2222222222222222,
             "#7201a8"
            ],
            [
             0.3333333333333333,
             "#9c179e"
            ],
            [
             0.4444444444444444,
             "#bd3786"
            ],
            [
             0.5555555555555556,
             "#d8576b"
            ],
            [
             0.6666666666666666,
             "#ed7953"
            ],
            [
             0.7777777777777778,
             "#fb9f3a"
            ],
            [
             0.8888888888888888,
             "#fdca26"
            ],
            [
             1.0,
             "#f0f921"
            ]
           ],
           "diverging": [
            [
             0,
             "#8e0152"
            ],
            [
             0.1,
             "#c51b7d"
            ],
            [
             0.2,
             "#de77ae"
            ],
            [
             0.3,
             "#f1b6da"
            ],
            [
             0.4,
             "#fde0ef"
            ],
            [
             0.5,
             "#f7f7f7"
            ],
            [
             0.6,
             "#e6f5d0"
            ],
            [
             0.7,
             "#b8e186"
            ],
            [
             0.8,
             "#7fbc41"
            ],
            [
             0.9,
             "#4d9221"
            ],
            [
             1,
             "#276419"
            ]
           ]
          },
          "xaxis": {
           "gridcolor": "white",
           "linecolor": "white",
           "ticks": "",
           "title": {
            "standoff": 15
           },
           "zerolinecolor": "white",
           "automargin": true,
           "zerolinewidth": 2
          },
          "yaxis": {
           "gridcolor": "white",
           "linecolor": "white",
           "ticks": "",
           "title": {
            "standoff": 15
           },
           "zerolinecolor": "white",
           "automargin": true,
           "zerolinewidth": 2
          },
          "scene": {
           "xaxis": {
            "backgroundcolor": "#E5ECF6",
            "gridcolor": "white",
            "linecolor": "white",
            "showbackground": true,
            "ticks": "",
            "zerolinecolor": "white",
            "gridwidth": 2
           },
           "yaxis": {
            "backgroundcolor": "#E5ECF6",
            "gridcolor": "white",
            "linecolor": "white",
            "showbackground": true,
            "ticks": "",
            "zerolinecolor": "white",
            "gridwidth": 2
           },
           "zaxis": {
            "backgroundcolor": "#E5ECF6",
            "gridcolor": "white",
            "linecolor": "white",
            "showbackground": true,
            "ticks": "",
            "zerolinecolor": "white",
            "gridwidth": 2
           }
          },
          "shapedefaults": {
           "line": {
            "color": "#2a3f5f"
           }
          },
          "annotationdefaults": {
           "arrowcolor": "#2a3f5f",
           "arrowhead": 0,
           "arrowwidth": 1
          },
          "geo": {
           "bgcolor": "white",
           "landcolor": "#E5ECF6",
           "subunitcolor": "white",
           "showland": true,
           "showlakes": true,
           "lakecolor": "white"
          },
          "title": {
           "x": 0.05
          },
          "mapbox": {
           "style": "light"
          }
         }
        },
        "legend": {
         "tracegroupgap": 0
        },
        "title": {
         "text": "Goals per Player brenda qdo Ekipi"
        },
        "width": 1000,
        "height": 800
       },
       "config": {
        "plotlyServerURL": "https://plot.ly"
       }
      }
     },
     "metadata": {},
     "output_type": "display_data"
    }
   ],
   "execution_count": 28
  },
  {
   "metadata": {
    "ExecuteTime": {
     "end_time": "2025-06-12T15:23:25.950487Z",
     "start_time": "2025-06-12T15:23:25.753211Z"
    }
   },
   "cell_type": "code",
   "source": [
    "fig = px.treemap(\n",
    "    ucl[ucl['Assists'] > 0],  # vetëm ata që kanë shënuar gola\n",
    "    path=['Team', 'Player','Assists'],\n",
    "    color='Position',\n",
    "    values='Assists',\n",
    "    title='Assists per Player brenda qdo Ekipi'\n",
    ")\n",
    "fig.update_layout(width=1000, height=800)\n",
    "fig.show()"
   ],
   "id": "3b9c880bb1df416e",
   "outputs": [
    {
     "data": {
      "application/vnd.plotly.v1+json": {
       "data": [
        {
         "branchvalues": "total",
         "customdata": [
          [
           "(?)"
          ],
          [
           "(?)"
          ],
          [
           "(?)"
          ],
          [
           "(?)"
          ],
          [
           "(?)"
          ],
          [
           "(?)"
          ],
          [
           "(?)"
          ],
          [
           "(?)"
          ],
          [
           "(?)"
          ],
          [
           "(?)"
          ],
          [
           "(?)"
          ],
          [
           "(?)"
          ],
          [
           "(?)"
          ],
          [
           "(?)"
          ],
          [
           "(?)"
          ],
          [
           "(?)"
          ],
          [
           "(?)"
          ],
          [
           "(?)"
          ],
          [
           "(?)"
          ],
          [
           "(?)"
          ],
          [
           "(?)"
          ],
          [
           "(?)"
          ],
          [
           "Defender"
          ],
          [
           "Defender"
          ],
          [
           "Defender"
          ],
          [
           "Defender"
          ],
          [
           "Defender"
          ],
          [
           "Defender"
          ],
          [
           "Defender"
          ],
          [
           "Defender"
          ],
          [
           "Defender"
          ],
          [
           "Defender"
          ],
          [
           "Defender"
          ],
          [
           "Defender"
          ],
          [
           "Defender"
          ],
          [
           "Defender"
          ],
          [
           "Defender"
          ],
          [
           "Defender"
          ],
          [
           "Defender"
          ],
          [
           "Defender"
          ],
          [
           "Defender"
          ],
          [
           "Defender"
          ],
          [
           "Defender"
          ],
          [
           "Defender"
          ],
          [
           "Defender"
          ],
          [
           "Defender"
          ],
          [
           "Defender"
          ],
          [
           "Defender"
          ],
          [
           "Defender"
          ],
          [
           "Defender"
          ],
          [
           "Defender"
          ],
          [
           "Defender"
          ],
          [
           "Defender"
          ],
          [
           "Defender"
          ],
          [
           "Defender"
          ],
          [
           "Defender"
          ],
          [
           "Defender"
          ],
          [
           "Defender"
          ],
          [
           "Defender"
          ],
          [
           "Defender"
          ],
          [
           "Defender"
          ],
          [
           "Defender"
          ],
          [
           "Defender"
          ],
          [
           "Defender"
          ],
          [
           "Defender"
          ],
          [
           "Defender"
          ],
          [
           "Defender"
          ],
          [
           "Defender"
          ],
          [
           "Defender"
          ],
          [
           "Defender"
          ],
          [
           "Defender"
          ],
          [
           "Defender"
          ],
          [
           "Defender"
          ],
          [
           "Defender"
          ],
          [
           "Defender"
          ],
          [
           "Defender"
          ],
          [
           "Defender"
          ],
          [
           "Defender"
          ],
          [
           "Defender"
          ],
          [
           "Defender"
          ],
          [
           "Defender"
          ],
          [
           "Defender"
          ],
          [
           "Defender"
          ],
          [
           "Defender"
          ],
          [
           "Defender"
          ],
          [
           "Defender"
          ],
          [
           "Defender"
          ],
          [
           "Defender"
          ],
          [
           "Defender"
          ],
          [
           "Defender"
          ],
          [
           "Defender"
          ],
          [
           "Defender"
          ],
          [
           "Defender"
          ],
          [
           "Forward"
          ],
          [
           "Forward"
          ],
          [
           "Forward"
          ],
          [
           "Forward"
          ],
          [
           "Forward"
          ],
          [
           "Forward"
          ],
          [
           "Forward"
          ],
          [
           "Forward"
          ],
          [
           "Forward"
          ],
          [
           "Forward"
          ],
          [
           "Forward"
          ],
          [
           "Forward"
          ],
          [
           "Forward"
          ],
          [
           "Forward"
          ],
          [
           "Forward"
          ],
          [
           "Forward"
          ],
          [
           "Forward"
          ],
          [
           "Forward"
          ],
          [
           "Forward"
          ],
          [
           "Forward"
          ],
          [
           "Forward"
          ],
          [
           "Forward"
          ],
          [
           "Forward"
          ],
          [
           "Forward"
          ],
          [
           "Forward"
          ],
          [
           "Forward"
          ],
          [
           "Forward"
          ],
          [
           "Forward"
          ],
          [
           "Forward"
          ],
          [
           "Forward"
          ],
          [
           "Forward"
          ],
          [
           "Forward"
          ],
          [
           "Forward"
          ],
          [
           "Forward"
          ],
          [
           "Forward"
          ],
          [
           "Forward"
          ],
          [
           "Forward"
          ],
          [
           "Forward"
          ],
          [
           "Forward"
          ],
          [
           "Forward"
          ],
          [
           "Forward"
          ],
          [
           "Forward"
          ],
          [
           "Forward"
          ],
          [
           "Forward"
          ],
          [
           "Forward"
          ],
          [
           "Forward"
          ],
          [
           "Forward"
          ],
          [
           "Forward"
          ],
          [
           "Forward"
          ],
          [
           "Forward"
          ],
          [
           "Forward"
          ],
          [
           "Forward"
          ],
          [
           "Forward"
          ],
          [
           "Forward"
          ],
          [
           "Forward"
          ],
          [
           "Forward"
          ],
          [
           "Forward"
          ],
          [
           "Forward"
          ],
          [
           "Forward"
          ],
          [
           "Forward"
          ],
          [
           "Forward"
          ],
          [
           "Forward"
          ],
          [
           "Forward"
          ],
          [
           "Forward"
          ],
          [
           "Forward"
          ],
          [
           "Forward"
          ],
          [
           "Forward"
          ],
          [
           "Forward"
          ],
          [
           "Forward"
          ],
          [
           "Forward"
          ],
          [
           "Forward"
          ],
          [
           "Forward"
          ],
          [
           "Forward"
          ],
          [
           "Forward"
          ],
          [
           "Forward"
          ],
          [
           "Forward"
          ],
          [
           "Forward"
          ],
          [
           "Forward"
          ],
          [
           "Forward"
          ],
          [
           "Forward"
          ],
          [
           "Forward"
          ],
          [
           "Forward"
          ],
          [
           "Forward"
          ],
          [
           "Forward"
          ],
          [
           "Forward"
          ],
          [
           "Forward"
          ],
          [
           "Forward"
          ],
          [
           "Forward"
          ],
          [
           "Forward"
          ],
          [
           "Forward"
          ],
          [
           "Forward"
          ],
          [
           "Forward"
          ],
          [
           "Forward"
          ],
          [
           "Forward"
          ],
          [
           "Forward"
          ],
          [
           "Forward"
          ],
          [
           "Forward"
          ],
          [
           "Forward"
          ],
          [
           "Forward"
          ],
          [
           "Forward"
          ],
          [
           "Forward"
          ],
          [
           "Forward"
          ],
          [
           "Forward"
          ],
          [
           "Forward"
          ],
          [
           "Forward"
          ],
          [
           "Forward"
          ],
          [
           "Forward"
          ],
          [
           "Midfielder"
          ],
          [
           "Midfielder"
          ],
          [
           "Midfielder"
          ],
          [
           "Midfielder"
          ],
          [
           "Midfielder"
          ],
          [
           "Midfielder"
          ],
          [
           "Midfielder"
          ],
          [
           "Midfielder"
          ],
          [
           "Midfielder"
          ],
          [
           "Midfielder"
          ],
          [
           "Midfielder"
          ],
          [
           "Midfielder"
          ],
          [
           "Midfielder"
          ],
          [
           "Midfielder"
          ],
          [
           "Midfielder"
          ],
          [
           "Midfielder"
          ],
          [
           "Midfielder"
          ],
          [
           "Midfielder"
          ],
          [
           "Midfielder"
          ],
          [
           "Midfielder"
          ],
          [
           "Midfielder"
          ],
          [
           "Midfielder"
          ],
          [
           "Midfielder"
          ],
          [
           "Midfielder"
          ],
          [
           "Midfielder"
          ],
          [
           "Midfielder"
          ],
          [
           "Midfielder"
          ],
          [
           "Midfielder"
          ],
          [
           "Midfielder"
          ],
          [
           "Midfielder"
          ],
          [
           "Midfielder"
          ],
          [
           "Midfielder"
          ],
          [
           "Midfielder"
          ],
          [
           "Midfielder"
          ],
          [
           "Midfielder"
          ],
          [
           "Midfielder"
          ],
          [
           "Midfielder"
          ],
          [
           "Midfielder"
          ],
          [
           "Midfielder"
          ],
          [
           "Midfielder"
          ],
          [
           "Midfielder"
          ],
          [
           "Midfielder"
          ],
          [
           "Midfielder"
          ],
          [
           "Midfielder"
          ],
          [
           "Midfielder"
          ],
          [
           "Midfielder"
          ],
          [
           "Midfielder"
          ],
          [
           "Midfielder"
          ],
          [
           "Midfielder"
          ],
          [
           "Midfielder"
          ],
          [
           "Midfielder"
          ],
          [
           "Midfielder"
          ],
          [
           "Midfielder"
          ],
          [
           "Midfielder"
          ],
          [
           "Midfielder"
          ],
          [
           "Midfielder"
          ],
          [
           "Midfielder"
          ],
          [
           "Midfielder"
          ],
          [
           "Midfielder"
          ],
          [
           "Midfielder"
          ],
          [
           "Midfielder"
          ],
          [
           "Midfielder"
          ],
          [
           "Midfielder"
          ],
          [
           "Midfielder"
          ],
          [
           "Midfielder"
          ],
          [
           "Midfielder"
          ],
          [
           "Midfielder"
          ],
          [
           "Midfielder"
          ],
          [
           "Midfielder"
          ],
          [
           "Midfielder"
          ],
          [
           "Midfielder"
          ],
          [
           "Midfielder"
          ],
          [
           "Midfielder"
          ],
          [
           "Midfielder"
          ],
          [
           "Midfielder"
          ],
          [
           "Midfielder"
          ],
          [
           "Midfielder"
          ],
          [
           "Midfielder"
          ],
          [
           "Midfielder"
          ],
          [
           "Midfielder"
          ],
          [
           "Midfielder"
          ],
          [
           "Midfielder"
          ],
          [
           "Midfielder"
          ],
          [
           "Midfielder"
          ],
          [
           "Midfielder"
          ],
          [
           "Midfielder"
          ],
          [
           "Midfielder"
          ],
          [
           "Midfielder"
          ],
          [
           "Midfielder"
          ],
          [
           "Midfielder"
          ],
          [
           "Midfielder"
          ],
          [
           "Midfielder"
          ],
          [
           "Midfielder"
          ],
          [
           "Midfielder"
          ],
          [
           "Midfielder"
          ],
          [
           "Midfielder"
          ],
          [
           "Midfielder"
          ],
          [
           "Midfielder"
          ],
          [
           "Midfielder"
          ]
         ],
         "domain": {
          "x": [
           0.0,
           1.0
          ],
          "y": [
           0.0,
           1.0
          ]
         },
         "hovertemplate": "labels=%{label}<br>Assists=%{value}<br>parent=%{parent}<br>id=%{id}<br>Position=%{customdata[0]}<extra></extra>",
         "ids": [
          "Monaco",
          "Celtic",
          "Club Brugge",
          "Bayern Munich",
          "Lille",
          "Arsenal FC",
          "Real Madrid",
          "Benfica",
          "Barcelona",
          "Paris SG",
          "PSV Eindhoven",
          "Atalanta BC",
          "Liverpool FC",
          "Aston Villa",
          "Inter",
          "Milan",
          "Feyenoord",
          "Manchester City",
          "Bayer Leverkusen",
          "Juventus",
          "BVB Dortmund",
          "Atletico Madrid",
          "Arsenal FC/Jurrien Timber/1",
          "Inter/Bastoni",
          "Atalanta BC/Kossounou",
          "Monaco/Vanderson",
          "Benfica/Alexander Bah/2",
          "Bayern Munich/Upamecano/1",
          "Barcelona/Balde",
          "BVB Dortmund/Schlotterbeck/1",
          "Bayer Leverkusen/Mukiele/1",
          "Barcelona/Inigo Martinez/1",
          "Manchester City/Manuel Akanji/1",
          "Atalanta BC/Kolasinac/2",
          "Inter/Francesco Acerbi/1",
          "Real Madrid/Raul Asencio",
          "Barcelona/Kounde",
          "Liverpool FC/Robertson",
          "PSV Eindhoven/Ryan Flamingo",
          "Lille/Thomas Meunier",
          "Barcelona/Balde/4",
          "Bayern Munich/Laimer",
          "Inter/Francesco Acerbi",
          "Bologna/Sam Beukema/1",
          "Arsenal FC/Calafiori",
          "Inter/Dumfries/3",
          "Bayer Leverkusen/Grimaldo",
          "Paris SG/Nuno Mendes/2",
          "Monaco/Singo/1",
          "Benfica/Alvaro Carreras/2",
          "Inter/Dimarco",
          "Juventus/Federico Gatti",
          "Lille/Alexsandro Ribeiro",
          "Milan/Youssouf Fofana/2",
          "Inter/Bastoni/1",
          "BVB Dortmund/Bensebaini",
          "Monaco/Vanderson/1",
          "Lille/Alexsandro Ribeiro/1",
          "Manchester City/Rico Lewis",
          "Bologna/Sam Beukema",
          "Atalanta BC/Kolasinac",
          "Milan/Youssouf Fofana",
          "BVB Dortmund/Bensebaini/1",
          "Lille/Thomas Meunier/1",
          "Manchester City/Rico Lewis/1",
          "Bayer Leverkusen/Frimpong/5",
          "Paris SG/Hakimi",
          "Bologna",
          "Inter/Dumfries",
          "Celtic/Johnston",
          "Paris SG/Hakimi/5",
          "Celtic/Johnston/1",
          "Benfica/Alvaro Carreras",
          "Paris SG/Nuno Mendes",
          "Monaco/Singo",
          "Inter/Dimarco/2",
          "Bayer Leverkusen/Mukiele",
          "Juventus/Federico Gatti/1",
          "BVB Dortmund/Schlotterbeck",
          "Arsenal FC/Calafiori/1",
          "Bayer Leverkusen/Frimpong",
          "Bayern Munich/Upamecano",
          "Benfica/Alexander Bah",
          "Atalanta BC/Kossounou/2",
          "Bayer Leverkusen/Grimaldo/2",
          "Barcelona/Inigo Martinez",
          "Arsenal FC/Jurrien Timber",
          "Manchester City/Manuel Akanji",
          "Real Madrid/Raul Asencio/1",
          "Barcelona/Kounde/3",
          "Bayern Munich/Laimer/1",
          "PSV Eindhoven/Ryan Flamingo/1",
          "Liverpool FC/Robertson/1",
          "Celtic/Kuhn",
          "Atletico Madrid/Lino",
          "Barcelona/Yamal",
          "Milan/Pulisic",
          "PSV Eindhoven/Noa Lang",
          "Barcelona/Ferran Torres",
          "PSV Eindhoven/Johan Bakayoko",
          "Real Madrid/Brahim Diaz",
          "Lille/Jonathan David",
          "Paris SG/Kvaratskhelia",
          "Atalanta BC/Lookman",
          "Arsenal FC/Kai Havertz",
          "Arsenal FC/Martinelli",
          "Real Madrid/Kylian Mbappe",
          "Atletico Madrid/Julian Alvarez",
          "Manchester City/Savinho",
          "Monaco/Maghnes Akliouche",
          "Feyenoord/Igor Paixao",
          "Liverpool FC/Salah",
          "BVB Dortmund/Adeyemi",
          "BVB Dortmund/Guirassy",
          "PSV Eindhoven/Luuk de Jong",
          "Paris SG/Desire Doue",
          "Real Madrid/Rodrygo",
          "Juventus/Kenan Yildiz",
          "Arsenal FC/Bukayo Saka",
          "Milan/Rafael Leao",
          "Sporting CP/Trincao",
          "Real Madrid/Vinicius Jr",
          "Paris SG/Barcola",
          "Paris SG/Dembele",
          "Liverpool FC/Gakpo",
          "Juventus/Conceiçao",
          "Bayern Munich/Harry Kane",
          "Monaco/Minamino",
          "Benfica/Di Maria",
          "Manchester City/Phil Foden",
          "Inter/Thuram",
          "Benfica/Pavlidis",
          "Milan/Santiago Gimenez",
          "Atletico Madrid/Griezmann",
          "Inter/Taremi",
          "Club Brugge/Christos Tzolis",
          "Monaco/Embolo",
          "Real Madrid/Jude Bellingham",
          "Barcelona/Ferran Torres/1",
          "Aston Villa/Marcus Rashford",
          "Benfica/Pavlidis/3",
          "Manchester City/Phil Foden/1",
          "Benfica/Di Maria/2",
          "Monaco/Minamino/1",
          "Liverpool FC/Gakpo/1",
          "Paris SG/Dembele/6",
          "Monaco/Embolo/3",
          "Milan/Santiago Gimenez/1",
          "Paris SG/Barcola/4",
          "Milan/Rafael Leao/2",
          "Arsenal FC/Bukayo Saka/2",
          "Juventus/Kenan Yildiz/1",
          "Paris SG/Desire Doue/5",
          "BVB Dortmund/Adeyemi/1",
          "Feyenoord/Igor Paixao/4",
          "Barcelona/Raphinha",
          "Sporting CP/Trincao/1",
          "Manchester City/Savinho/1",
          "Atletico Madrid/Griezmann/3",
          "Club Brugge/Christos Tzolis/3",
          "Barcelona/Raphinha/9",
          "Real Madrid/Jude Bellingham/2",
          "Real Madrid/Brahim Diaz/1",
          "Atletico Madrid/Lino/3",
          "PSV Eindhoven/Johan Bakayoko/1",
          "Milan/Pulisic/1",
          "Barcelona/Yamal/3",
          "Inter/Taremi/4",
          "Real Madrid/Kylian Mbappe/2",
          "Arsenal FC/Kai Havertz/1",
          "Celtic/Kuhn/1",
          "Paris SG/Kvaratskhelia/2",
          "Arsenal FC/Martinelli/2",
          "PSV Eindhoven/Noa Lang/2",
          "Real Madrid/Vinicius Jr/3",
          "Atletico Madrid/Julian Alvarez/1",
          "Sporting CP",
          "Atletico Madrid/Giuliano Simeone/2",
          "Monaco/Maghnes Akliouche/2",
          "Benfica/Akturkoglu/1",
          "Bayern Munich/Jamal Musiala",
          "Bayern Munich/Olise",
          "Bayern Munich/Thomas Muller",
          "Real Madrid/Lucas Vazquez",
          "Real Madrid/Lucas Vazquez/1",
          "Bayern Munich/Thomas Muller/1",
          "Bayern Munich/Olise/1",
          "Bayern Munich/Jamal Musiala/4",
          "Aston Villa/Marcus Rashford/2",
          "Atletico Madrid/Giuliano Simeone",
          "Lille/Jonathan David/2",
          "Atalanta BC/Lookman/2",
          "Inter/Thuram/1",
          "Benfica/Akturkoglu",
          "Liverpool FC/Salah/4",
          "Bayern Munich/Harry Kane/2",
          "Juventus/Conceiçao/2",
          "BVB Dortmund/Guirassy/4",
          "Real Madrid/Rodrygo/2",
          "PSV Eindhoven/Luuk de Jong/2",
          "Manchester City/Matheus Nunes",
          "Arsenal FC/Partey",
          "Shakhtar Donetsk",
          "Atletico Madrid/Llorente",
          "Celtic/Arne Engels",
          "Paris SG/Joao Neves",
          "Arsenal FC/Declan Rice",
          "Lille/Cabella",
          "Bayern Munich/Kimmich",
          "Barcelona/Fermin Lopez",
          "Arsenal FC/Mikel Merino",
          "Bayer Leverkusen/Florian Wirtz",
          "Real Madrid/Valverde",
          "VfB Stuttgart/Enzo Millot",
          "PSV Eindhoven/Tillman",
          "Shakhtar Donetsk/Georgiy Sudakov",
          "Dinamo Zagreb/Baturina",
          "Barcelona/Casado",
          "Feyenoord/Milambo",
          "Feyenoord/Quinten Timber",
          "BVB Dortmund/Julian Brandt",
          "Monaco/Golovin",
          "Aston Villa/Youri Tielemans",
          "Aston Villa/Rogers",
          "Inter/Nicolo Barella/2",
          "Celtic/Reo Hatate",
          "Atletico Madrid/De Paul/1",
          "Barcelona/Dani Olmo/1",
          "Atalanta BC/Zappacosta/5",
          "Celtic/Reo Hatate/2",
          "PSV Eindhoven/Ismael Saibari/1",
          "Aston Villa/Youri Tielemans/3",
          "Atalanta BC/Mario Pasalic/1",
          "Arsenal FC/Mikel Merino/4",
          "Celtic/Arne Engels/3",
          "Barcelona/Casado/2",
          "BVB Dortmund/Julian Brandt/5",
          "PSV Eindhoven/Tillman/2",
          "Bayern Munich/Kimmich/6",
          "Arsenal FC/Partey/1",
          "Shakhtar Donetsk/Georgiy Sudakov/1",
          "Inter/Mkhitaryan/1",
          "Aston Villa/Jacob Ramsey/2",
          "BVB Dortmund/Emre Can/1",
          "Arsenal FC/Odegaard/1",
          "Club Brugge/Hans Vanaken/1",
          "Paris SG/Fabian Ruiz/4",
          "PSV Eindhoven/Joey Veerman/3",
          "Liverpool FC/Szoboszlai/1",
          "Aston Villa/John McGinn/2",
          "Inter/Calhanoglu/2",
          "Benfica/Aursnes/1",
          "Atalanta BC/Charles Ketelaere/5",
          "Paris SG/Vitinha/2",
          "Barcelona/Pedri/2",
          "Bayern Munich/Leon Goretzka/1",
          "Real Madrid/Modric/3",
          "BVB Dortmund/Felix Nmecha/1",
          "BVB Dortmund/Pascal Gross/3",
          "Atletico Madrid/Llorente/4",
          "Paris SG/Joao Neves/1",
          "Arsenal FC/Declan Rice/2",
          "Barcelona/Fermin Lopez/5",
          "Benfica/Aursnes",
          "Atalanta BC/Charles Ketelaere",
          "Paris SG/Vitinha",
          "Barcelona/Pedri",
          "Bayern Munich/Leon Goretzka",
          "Real Madrid/Modric",
          "BVB Dortmund/Felix Nmecha",
          "BVB Dortmund/Pascal Gross",
          "BVB Dortmund/Emre Can",
          "Aston Villa/Jacob Ramsey",
          "Inter/Mkhitaryan",
          "Atalanta BC/Mario Pasalic",
          "Atletico Madrid/De Paul",
          "Barcelona/Dani Olmo",
          "Atalanta BC/Zappacosta",
          "Inter/Calhanoglu",
          "PSV Eindhoven/Ismael Saibari",
          "Aston Villa/John McGinn",
          "PSV Eindhoven/Joey Veerman",
          "Bayer Leverkusen/Florian Wirtz/1",
          "VfB Stuttgart/Enzo Millot/4",
          "Dinamo Zagreb/Baturina/1",
          "Aston Villa/Rogers/3",
          "Feyenoord/Milambo/1",
          "Manchester City/Matheus Nunes/3",
          "Real Madrid/Valverde/3",
          "Monaco/Golovin/1",
          "Feyenoord/Quinten Timber/1",
          "Lille/Cabella/1",
          "Inter/Nicolo Barella",
          "Arsenal FC/Odegaard",
          "Club Brugge/Hans Vanaken",
          "Paris SG/Fabian Ruiz",
          "VfB Stuttgart",
          "Liverpool FC/Szoboszlai",
          "Dinamo Zagreb"
         ],
         "labels": [
          "Monaco",
          "Celtic",
          "Club Brugge",
          "Bayern Munich",
          "Lille",
          "Arsenal FC",
          "Real Madrid",
          "Benfica",
          "Barcelona",
          "Paris SG",
          "PSV Eindhoven",
          "Atalanta BC",
          "Liverpool FC",
          "Aston Villa",
          "Inter",
          "Milan",
          "Feyenoord",
          "Manchester City",
          "Bayer Leverkusen",
          "Juventus",
          "BVB Dortmund",
          "Atletico Madrid",
          "1",
          "Bastoni",
          "Kossounou",
          "Vanderson",
          "2",
          "1",
          "Balde",
          "1",
          "1",
          "1",
          "1",
          "2",
          "1",
          "Raul Asencio",
          "Kounde",
          "Robertson",
          "Ryan Flamingo",
          "Thomas Meunier",
          "4",
          "Laimer",
          "Francesco Acerbi",
          "1",
          "Calafiori",
          "3",
          "Grimaldo",
          "2",
          "1",
          "2",
          "Dimarco",
          "Federico Gatti",
          "Alexsandro Ribeiro",
          "2",
          "1",
          "Bensebaini",
          "1",
          "1",
          "Rico Lewis",
          "Sam Beukema",
          "Kolasinac",
          "Youssouf Fofana",
          "1",
          "1",
          "1",
          "5",
          "Hakimi",
          "Bologna",
          "Dumfries",
          "Johnston",
          "5",
          "1",
          "Alvaro Carreras",
          "Nuno Mendes",
          "Singo",
          "2",
          "Mukiele",
          "1",
          "Schlotterbeck",
          "1",
          "Frimpong",
          "Upamecano",
          "Alexander Bah",
          "2",
          "2",
          "Inigo Martinez",
          "Jurrien Timber",
          "Manuel Akanji",
          "1",
          "3",
          "1",
          "1",
          "1",
          "Kuhn",
          "Lino",
          "Yamal",
          "Pulisic",
          "Noa Lang",
          "Ferran Torres",
          "Johan Bakayoko",
          "Brahim Diaz",
          "Jonathan David",
          "Kvaratskhelia",
          "Lookman",
          "Kai Havertz",
          "Martinelli",
          "Kylian Mbappe",
          "Julian Alvarez",
          "Savinho",
          "Maghnes Akliouche",
          "Igor Paixao",
          "Salah",
          "Adeyemi",
          "Guirassy",
          "Luuk de Jong",
          "Desire Doue",
          "Rodrygo",
          "Kenan Yildiz",
          "Bukayo Saka",
          "Rafael Leao",
          "Trincao",
          "Vinicius Jr",
          "Barcola",
          "Dembele",
          "Gakpo",
          "Conceiçao",
          "Harry Kane",
          "Minamino",
          "Di Maria",
          "Phil Foden",
          "Thuram",
          "Pavlidis",
          "Santiago Gimenez",
          "Griezmann",
          "Taremi",
          "Christos Tzolis",
          "Embolo",
          "Jude Bellingham",
          "1",
          "Marcus Rashford",
          "3",
          "1",
          "2",
          "1",
          "1",
          "6",
          "3",
          "1",
          "4",
          "2",
          "2",
          "1",
          "5",
          "1",
          "4",
          "Raphinha",
          "1",
          "1",
          "3",
          "3",
          "9",
          "2",
          "1",
          "3",
          "1",
          "1",
          "3",
          "4",
          "2",
          "1",
          "1",
          "2",
          "2",
          "2",
          "3",
          "1",
          "Sporting CP",
          "2",
          "2",
          "1",
          "Jamal Musiala",
          "Olise",
          "Thomas Muller",
          "Lucas Vazquez",
          "1",
          "1",
          "1",
          "4",
          "2",
          "Giuliano Simeone",
          "2",
          "2",
          "1",
          "Akturkoglu",
          "4",
          "2",
          "2",
          "4",
          "2",
          "2",
          "Matheus Nunes",
          "Partey",
          "Shakhtar Donetsk",
          "Llorente",
          "Arne Engels",
          "Joao Neves",
          "Declan Rice",
          "Cabella",
          "Kimmich",
          "Fermin Lopez",
          "Mikel Merino",
          "Florian Wirtz",
          "Valverde",
          "Enzo Millot",
          "Tillman",
          "Georgiy Sudakov",
          "Baturina",
          "Casado",
          "Milambo",
          "Quinten Timber",
          "Julian Brandt",
          "Golovin",
          "Youri Tielemans",
          "Rogers",
          "2",
          "Reo Hatate",
          "1",
          "1",
          "5",
          "2",
          "1",
          "3",
          "1",
          "4",
          "3",
          "2",
          "5",
          "2",
          "6",
          "1",
          "1",
          "1",
          "2",
          "1",
          "1",
          "1",
          "4",
          "3",
          "1",
          "2",
          "2",
          "1",
          "5",
          "2",
          "2",
          "1",
          "3",
          "1",
          "3",
          "4",
          "1",
          "2",
          "5",
          "Aursnes",
          "Charles Ketelaere",
          "Vitinha",
          "Pedri",
          "Leon Goretzka",
          "Modric",
          "Felix Nmecha",
          "Pascal Gross",
          "Emre Can",
          "Jacob Ramsey",
          "Mkhitaryan",
          "Mario Pasalic",
          "De Paul",
          "Dani Olmo",
          "Zappacosta",
          "Calhanoglu",
          "Ismael Saibari",
          "John McGinn",
          "Joey Veerman",
          "1",
          "4",
          "1",
          "3",
          "1",
          "3",
          "3",
          "1",
          "1",
          "1",
          "Nicolo Barella",
          "Odegaard",
          "Hans Vanaken",
          "Fabian Ruiz",
          "VfB Stuttgart",
          "Szoboszlai",
          "Dinamo Zagreb"
         ],
         "marker": {
          "colors": [
           "#636efa",
           "#636efa",
           "#636efa",
           "#636efa",
           "#636efa",
           "#636efa",
           "#636efa",
           "#636efa",
           "#636efa",
           "#636efa",
           "#636efa",
           "#636efa",
           "#636efa",
           "#636efa",
           "#636efa",
           "#636efa",
           "#636efa",
           "#636efa",
           "#636efa",
           "#636efa",
           "#636efa",
           "#636efa",
           "#EF553B",
           "#EF553B",
           "#EF553B",
           "#EF553B",
           "#EF553B",
           "#EF553B",
           "#EF553B",
           "#EF553B",
           "#EF553B",
           "#EF553B",
           "#EF553B",
           "#EF553B",
           "#EF553B",
           "#EF553B",
           "#EF553B",
           "#EF553B",
           "#EF553B",
           "#EF553B",
           "#EF553B",
           "#EF553B",
           "#EF553B",
           "#EF553B",
           "#EF553B",
           "#EF553B",
           "#EF553B",
           "#EF553B",
           "#EF553B",
           "#EF553B",
           "#EF553B",
           "#EF553B",
           "#EF553B",
           "#EF553B",
           "#EF553B",
           "#EF553B",
           "#EF553B",
           "#EF553B",
           "#EF553B",
           "#EF553B",
           "#EF553B",
           "#EF553B",
           "#EF553B",
           "#EF553B",
           "#EF553B",
           "#EF553B",
           "#EF553B",
           "#EF553B",
           "#EF553B",
           "#EF553B",
           "#EF553B",
           "#EF553B",
           "#EF553B",
           "#EF553B",
           "#EF553B",
           "#EF553B",
           "#EF553B",
           "#EF553B",
           "#EF553B",
           "#EF553B",
           "#EF553B",
           "#EF553B",
           "#EF553B",
           "#EF553B",
           "#EF553B",
           "#EF553B",
           "#EF553B",
           "#EF553B",
           "#EF553B",
           "#EF553B",
           "#EF553B",
           "#EF553B",
           "#EF553B",
           "#00cc96",
           "#00cc96",
           "#00cc96",
           "#00cc96",
           "#00cc96",
           "#00cc96",
           "#00cc96",
           "#00cc96",
           "#00cc96",
           "#00cc96",
           "#00cc96",
           "#00cc96",
           "#00cc96",
           "#00cc96",
           "#00cc96",
           "#00cc96",
           "#00cc96",
           "#00cc96",
           "#00cc96",
           "#00cc96",
           "#00cc96",
           "#00cc96",
           "#00cc96",
           "#00cc96",
           "#00cc96",
           "#00cc96",
           "#00cc96",
           "#00cc96",
           "#00cc96",
           "#00cc96",
           "#00cc96",
           "#00cc96",
           "#00cc96",
           "#00cc96",
           "#00cc96",
           "#00cc96",
           "#00cc96",
           "#00cc96",
           "#00cc96",
           "#00cc96",
           "#00cc96",
           "#00cc96",
           "#00cc96",
           "#00cc96",
           "#00cc96",
           "#00cc96",
           "#00cc96",
           "#00cc96",
           "#00cc96",
           "#00cc96",
           "#00cc96",
           "#00cc96",
           "#00cc96",
           "#00cc96",
           "#00cc96",
           "#00cc96",
           "#00cc96",
           "#00cc96",
           "#00cc96",
           "#00cc96",
           "#00cc96",
           "#00cc96",
           "#00cc96",
           "#00cc96",
           "#00cc96",
           "#00cc96",
           "#00cc96",
           "#00cc96",
           "#00cc96",
           "#00cc96",
           "#00cc96",
           "#00cc96",
           "#00cc96",
           "#00cc96",
           "#00cc96",
           "#00cc96",
           "#00cc96",
           "#00cc96",
           "#00cc96",
           "#00cc96",
           "#00cc96",
           "#00cc96",
           "#00cc96",
           "#00cc96",
           "#00cc96",
           "#00cc96",
           "#00cc96",
           "#00cc96",
           "#00cc96",
           "#00cc96",
           "#00cc96",
           "#00cc96",
           "#00cc96",
           "#00cc96",
           "#00cc96",
           "#00cc96",
           "#00cc96",
           "#00cc96",
           "#00cc96",
           "#00cc96",
           "#00cc96",
           "#00cc96",
           "#00cc96",
           "#00cc96",
           "#00cc96",
           "#00cc96",
           "#00cc96",
           "#ab63fa",
           "#ab63fa",
           "#ab63fa",
           "#ab63fa",
           "#ab63fa",
           "#ab63fa",
           "#ab63fa",
           "#ab63fa",
           "#ab63fa",
           "#ab63fa",
           "#ab63fa",
           "#ab63fa",
           "#ab63fa",
           "#ab63fa",
           "#ab63fa",
           "#ab63fa",
           "#ab63fa",
           "#ab63fa",
           "#ab63fa",
           "#ab63fa",
           "#ab63fa",
           "#ab63fa",
           "#ab63fa",
           "#ab63fa",
           "#ab63fa",
           "#ab63fa",
           "#ab63fa",
           "#ab63fa",
           "#ab63fa",
           "#ab63fa",
           "#ab63fa",
           "#ab63fa",
           "#ab63fa",
           "#ab63fa",
           "#ab63fa",
           "#ab63fa",
           "#ab63fa",
           "#ab63fa",
           "#ab63fa",
           "#ab63fa",
           "#ab63fa",
           "#ab63fa",
           "#ab63fa",
           "#ab63fa",
           "#ab63fa",
           "#ab63fa",
           "#ab63fa",
           "#ab63fa",
           "#ab63fa",
           "#ab63fa",
           "#ab63fa",
           "#ab63fa",
           "#ab63fa",
           "#ab63fa",
           "#ab63fa",
           "#ab63fa",
           "#ab63fa",
           "#ab63fa",
           "#ab63fa",
           "#ab63fa",
           "#ab63fa",
           "#ab63fa",
           "#ab63fa",
           "#ab63fa",
           "#ab63fa",
           "#ab63fa",
           "#ab63fa",
           "#ab63fa",
           "#ab63fa",
           "#ab63fa",
           "#ab63fa",
           "#ab63fa",
           "#ab63fa",
           "#ab63fa",
           "#ab63fa",
           "#ab63fa",
           "#ab63fa",
           "#ab63fa",
           "#ab63fa",
           "#ab63fa",
           "#ab63fa",
           "#ab63fa",
           "#ab63fa",
           "#ab63fa",
           "#ab63fa",
           "#ab63fa",
           "#ab63fa",
           "#ab63fa",
           "#ab63fa",
           "#ab63fa",
           "#ab63fa",
           "#ab63fa",
           "#ab63fa",
           "#ab63fa",
           "#ab63fa",
           "#ab63fa",
           "#ab63fa",
           "#ab63fa",
           "#ab63fa"
          ]
         },
         "name": "",
         "parents": [
          "",
          "",
          "",
          "",
          "",
          "",
          "",
          "",
          "",
          "",
          "",
          "",
          "",
          "",
          "",
          "",
          "",
          "",
          "",
          "",
          "",
          "",
          "Arsenal FC/Jurrien Timber",
          "Inter",
          "Atalanta BC",
          "Monaco",
          "Benfica/Alexander Bah",
          "Bayern Munich/Upamecano",
          "Barcelona",
          "BVB Dortmund/Schlotterbeck",
          "Bayer Leverkusen/Mukiele",
          "Barcelona/Inigo Martinez",
          "Manchester City/Manuel Akanji",
          "Atalanta BC/Kolasinac",
          "Inter/Francesco Acerbi",
          "Real Madrid",
          "Barcelona",
          "Liverpool FC",
          "PSV Eindhoven",
          "Lille",
          "Barcelona/Balde",
          "Bayern Munich",
          "Inter",
          "Bologna/Sam Beukema",
          "Arsenal FC",
          "Inter/Dumfries",
          "Bayer Leverkusen",
          "Paris SG/Nuno Mendes",
          "Monaco/Singo",
          "Benfica/Alvaro Carreras",
          "Inter",
          "Juventus",
          "Lille",
          "Milan/Youssouf Fofana",
          "Inter/Bastoni",
          "BVB Dortmund",
          "Monaco/Vanderson",
          "Lille/Alexsandro Ribeiro",
          "Manchester City",
          "Bologna",
          "Atalanta BC",
          "Milan",
          "BVB Dortmund/Bensebaini",
          "Lille/Thomas Meunier",
          "Manchester City/Rico Lewis",
          "Bayer Leverkusen/Frimpong",
          "Paris SG",
          "",
          "Inter",
          "Celtic",
          "Paris SG/Hakimi",
          "Celtic/Johnston",
          "Benfica",
          "Paris SG",
          "Monaco",
          "Inter/Dimarco",
          "Bayer Leverkusen",
          "Juventus/Federico Gatti",
          "BVB Dortmund",
          "Arsenal FC/Calafiori",
          "Bayer Leverkusen",
          "Bayern Munich",
          "Benfica",
          "Atalanta BC/Kossounou",
          "Bayer Leverkusen/Grimaldo",
          "Barcelona",
          "Arsenal FC",
          "Manchester City",
          "Real Madrid/Raul Asencio",
          "Barcelona/Kounde",
          "Bayern Munich/Laimer",
          "PSV Eindhoven/Ryan Flamingo",
          "Liverpool FC/Robertson",
          "Celtic",
          "Atletico Madrid",
          "Barcelona",
          "Milan",
          "PSV Eindhoven",
          "Barcelona",
          "PSV Eindhoven",
          "Real Madrid",
          "Lille",
          "Paris SG",
          "Atalanta BC",
          "Arsenal FC",
          "Arsenal FC",
          "Real Madrid",
          "Atletico Madrid",
          "Manchester City",
          "Monaco",
          "Feyenoord",
          "Liverpool FC",
          "BVB Dortmund",
          "BVB Dortmund",
          "PSV Eindhoven",
          "Paris SG",
          "Real Madrid",
          "Juventus",
          "Arsenal FC",
          "Milan",
          "Sporting CP",
          "Real Madrid",
          "Paris SG",
          "Paris SG",
          "Liverpool FC",
          "Juventus",
          "Bayern Munich",
          "Monaco",
          "Benfica",
          "Manchester City",
          "Inter",
          "Benfica",
          "Milan",
          "Atletico Madrid",
          "Inter",
          "Club Brugge",
          "Monaco",
          "Real Madrid",
          "Barcelona/Ferran Torres",
          "Aston Villa",
          "Benfica/Pavlidis",
          "Manchester City/Phil Foden",
          "Benfica/Di Maria",
          "Monaco/Minamino",
          "Liverpool FC/Gakpo",
          "Paris SG/Dembele",
          "Monaco/Embolo",
          "Milan/Santiago Gimenez",
          "Paris SG/Barcola",
          "Milan/Rafael Leao",
          "Arsenal FC/Bukayo Saka",
          "Juventus/Kenan Yildiz",
          "Paris SG/Desire Doue",
          "BVB Dortmund/Adeyemi",
          "Feyenoord/Igor Paixao",
          "Barcelona",
          "Sporting CP/Trincao",
          "Manchester City/Savinho",
          "Atletico Madrid/Griezmann",
          "Club Brugge/Christos Tzolis",
          "Barcelona/Raphinha",
          "Real Madrid/Jude Bellingham",
          "Real Madrid/Brahim Diaz",
          "Atletico Madrid/Lino",
          "PSV Eindhoven/Johan Bakayoko",
          "Milan/Pulisic",
          "Barcelona/Yamal",
          "Inter/Taremi",
          "Real Madrid/Kylian Mbappe",
          "Arsenal FC/Kai Havertz",
          "Celtic/Kuhn",
          "Paris SG/Kvaratskhelia",
          "Arsenal FC/Martinelli",
          "PSV Eindhoven/Noa Lang",
          "Real Madrid/Vinicius Jr",
          "Atletico Madrid/Julian Alvarez",
          "",
          "Atletico Madrid/Giuliano Simeone",
          "Monaco/Maghnes Akliouche",
          "Benfica/Akturkoglu",
          "Bayern Munich",
          "Bayern Munich",
          "Bayern Munich",
          "Real Madrid",
          "Real Madrid/Lucas Vazquez",
          "Bayern Munich/Thomas Muller",
          "Bayern Munich/Olise",
          "Bayern Munich/Jamal Musiala",
          "Aston Villa/Marcus Rashford",
          "Atletico Madrid",
          "Lille/Jonathan David",
          "Atalanta BC/Lookman",
          "Inter/Thuram",
          "Benfica",
          "Liverpool FC/Salah",
          "Bayern Munich/Harry Kane",
          "Juventus/Conceiçao",
          "BVB Dortmund/Guirassy",
          "Real Madrid/Rodrygo",
          "PSV Eindhoven/Luuk de Jong",
          "Manchester City",
          "Arsenal FC",
          "",
          "Atletico Madrid",
          "Celtic",
          "Paris SG",
          "Arsenal FC",
          "Lille",
          "Bayern Munich",
          "Barcelona",
          "Arsenal FC",
          "Bayer Leverkusen",
          "Real Madrid",
          "VfB Stuttgart",
          "PSV Eindhoven",
          "Shakhtar Donetsk",
          "Dinamo Zagreb",
          "Barcelona",
          "Feyenoord",
          "Feyenoord",
          "BVB Dortmund",
          "Monaco",
          "Aston Villa",
          "Aston Villa",
          "Inter/Nicolo Barella",
          "Celtic",
          "Atletico Madrid/De Paul",
          "Barcelona/Dani Olmo",
          "Atalanta BC/Zappacosta",
          "Celtic/Reo Hatate",
          "PSV Eindhoven/Ismael Saibari",
          "Aston Villa/Youri Tielemans",
          "Atalanta BC/Mario Pasalic",
          "Arsenal FC/Mikel Merino",
          "Celtic/Arne Engels",
          "Barcelona/Casado",
          "BVB Dortmund/Julian Brandt",
          "PSV Eindhoven/Tillman",
          "Bayern Munich/Kimmich",
          "Arsenal FC/Partey",
          "Shakhtar Donetsk/Georgiy Sudakov",
          "Inter/Mkhitaryan",
          "Aston Villa/Jacob Ramsey",
          "BVB Dortmund/Emre Can",
          "Arsenal FC/Odegaard",
          "Club Brugge/Hans Vanaken",
          "Paris SG/Fabian Ruiz",
          "PSV Eindhoven/Joey Veerman",
          "Liverpool FC/Szoboszlai",
          "Aston Villa/John McGinn",
          "Inter/Calhanoglu",
          "Benfica/Aursnes",
          "Atalanta BC/Charles Ketelaere",
          "Paris SG/Vitinha",
          "Barcelona/Pedri",
          "Bayern Munich/Leon Goretzka",
          "Real Madrid/Modric",
          "BVB Dortmund/Felix Nmecha",
          "BVB Dortmund/Pascal Gross",
          "Atletico Madrid/Llorente",
          "Paris SG/Joao Neves",
          "Arsenal FC/Declan Rice",
          "Barcelona/Fermin Lopez",
          "Benfica",
          "Atalanta BC",
          "Paris SG",
          "Barcelona",
          "Bayern Munich",
          "Real Madrid",
          "BVB Dortmund",
          "BVB Dortmund",
          "BVB Dortmund",
          "Aston Villa",
          "Inter",
          "Atalanta BC",
          "Atletico Madrid",
          "Barcelona",
          "Atalanta BC",
          "Inter",
          "PSV Eindhoven",
          "Aston Villa",
          "PSV Eindhoven",
          "Bayer Leverkusen/Florian Wirtz",
          "VfB Stuttgart/Enzo Millot",
          "Dinamo Zagreb/Baturina",
          "Aston Villa/Rogers",
          "Feyenoord/Milambo",
          "Manchester City/Matheus Nunes",
          "Real Madrid/Valverde",
          "Monaco/Golovin",
          "Feyenoord/Quinten Timber",
          "Lille/Cabella",
          "Inter",
          "Arsenal FC",
          "Club Brugge",
          "Paris SG",
          "",
          "Liverpool FC",
          ""
         ],
         "values": {
          "dtype": "f8",
          "bdata": "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"
         },
         "type": "treemap"
        }
       ],
       "layout": {
        "template": {
         "data": {
          "histogram2dcontour": [
           {
            "type": "histogram2dcontour",
            "colorbar": {
             "outlinewidth": 0,
             "ticks": ""
            },
            "colorscale": [
             [
              0.0,
              "#0d0887"
             ],
             [
              0.1111111111111111,
              "#46039f"
             ],
             [
              0.2222222222222222,
              "#7201a8"
             ],
             [
              0.3333333333333333,
              "#9c179e"
             ],
             [
              0.4444444444444444,
              "#bd3786"
             ],
             [
              0.5555555555555556,
              "#d8576b"
             ],
             [
              0.6666666666666666,
              "#ed7953"
             ],
             [
              0.7777777777777778,
              "#fb9f3a"
             ],
             [
              0.8888888888888888,
              "#fdca26"
             ],
             [
              1.0,
              "#f0f921"
             ]
            ]
           }
          ],
          "choropleth": [
           {
            "type": "choropleth",
            "colorbar": {
             "outlinewidth": 0,
             "ticks": ""
            }
           }
          ],
          "histogram2d": [
           {
            "type": "histogram2d",
            "colorbar": {
             "outlinewidth": 0,
             "ticks": ""
            },
            "colorscale": [
             [
              0.0,
              "#0d0887"
             ],
             [
              0.1111111111111111,
              "#46039f"
             ],
             [
              0.2222222222222222,
              "#7201a8"
             ],
             [
              0.3333333333333333,
              "#9c179e"
             ],
             [
              0.4444444444444444,
              "#bd3786"
             ],
             [
              0.5555555555555556,
              "#d8576b"
             ],
             [
              0.6666666666666666,
              "#ed7953"
             ],
             [
              0.7777777777777778,
              "#fb9f3a"
             ],
             [
              0.8888888888888888,
              "#fdca26"
             ],
             [
              1.0,
              "#f0f921"
             ]
            ]
           }
          ],
          "heatmap": [
           {
            "type": "heatmap",
            "colorbar": {
             "outlinewidth": 0,
             "ticks": ""
            },
            "colorscale": [
             [
              0.0,
              "#0d0887"
             ],
             [
              0.1111111111111111,
              "#46039f"
             ],
             [
              0.2222222222222222,
              "#7201a8"
             ],
             [
              0.3333333333333333,
              "#9c179e"
             ],
             [
              0.4444444444444444,
              "#bd3786"
             ],
             [
              0.5555555555555556,
              "#d8576b"
             ],
             [
              0.6666666666666666,
              "#ed7953"
             ],
             [
              0.7777777777777778,
              "#fb9f3a"
             ],
             [
              0.8888888888888888,
              "#fdca26"
             ],
             [
              1.0,
              "#f0f921"
             ]
            ]
           }
          ],
          "contourcarpet": [
           {
            "type": "contourcarpet",
            "colorbar": {
             "outlinewidth": 0,
             "ticks": ""
            }
           }
          ],
          "contour": [
           {
            "type": "contour",
            "colorbar": {
             "outlinewidth": 0,
             "ticks": ""
            },
            "colorscale": [
             [
              0.0,
              "#0d0887"
             ],
             [
              0.1111111111111111,
              "#46039f"
             ],
             [
              0.2222222222222222,
              "#7201a8"
             ],
             [
              0.3333333333333333,
              "#9c179e"
             ],
             [
              0.4444444444444444,
              "#bd3786"
             ],
             [
              0.5555555555555556,
              "#d8576b"
             ],
             [
              0.6666666666666666,
              "#ed7953"
             ],
             [
              0.7777777777777778,
              "#fb9f3a"
             ],
             [
              0.8888888888888888,
              "#fdca26"
             ],
             [
              1.0,
              "#f0f921"
             ]
            ]
           }
          ],
          "surface": [
           {
            "type": "surface",
            "colorbar": {
             "outlinewidth": 0,
             "ticks": ""
            },
            "colorscale": [
             [
              0.0,
              "#0d0887"
             ],
             [
              0.1111111111111111,
              "#46039f"
             ],
             [
              0.2222222222222222,
              "#7201a8"
             ],
             [
              0.3333333333333333,
              "#9c179e"
             ],
             [
              0.4444444444444444,
              "#bd3786"
             ],
             [
              0.5555555555555556,
              "#d8576b"
             ],
             [
              0.6666666666666666,
              "#ed7953"
             ],
             [
              0.7777777777777778,
              "#fb9f3a"
             ],
             [
              0.8888888888888888,
              "#fdca26"
             ],
             [
              1.0,
              "#f0f921"
             ]
            ]
           }
          ],
          "mesh3d": [
           {
            "type": "mesh3d",
            "colorbar": {
             "outlinewidth": 0,
             "ticks": ""
            }
           }
          ],
          "scatter": [
           {
            "fillpattern": {
             "fillmode": "overlay",
             "size": 10,
             "solidity": 0.2
            },
            "type": "scatter"
           }
          ],
          "parcoords": [
           {
            "type": "parcoords",
            "line": {
             "colorbar": {
              "outlinewidth": 0,
              "ticks": ""
             }
            }
           }
          ],
          "scatterpolargl": [
           {
            "type": "scatterpolargl",
            "marker": {
             "colorbar": {
              "outlinewidth": 0,
              "ticks": ""
             }
            }
           }
          ],
          "bar": [
           {
            "error_x": {
             "color": "#2a3f5f"
            },
            "error_y": {
             "color": "#2a3f5f"
            },
            "marker": {
             "line": {
              "color": "#E5ECF6",
              "width": 0.5
             },
             "pattern": {
              "fillmode": "overlay",
              "size": 10,
              "solidity": 0.2
             }
            },
            "type": "bar"
           }
          ],
          "scattergeo": [
           {
            "type": "scattergeo",
            "marker": {
             "colorbar": {
              "outlinewidth": 0,
              "ticks": ""
             }
            }
           }
          ],
          "scatterpolar": [
           {
            "type": "scatterpolar",
            "marker": {
             "colorbar": {
              "outlinewidth": 0,
              "ticks": ""
             }
            }
           }
          ],
          "histogram": [
           {
            "marker": {
             "pattern": {
              "fillmode": "overlay",
              "size": 10,
              "solidity": 0.2
             }
            },
            "type": "histogram"
           }
          ],
          "scattergl": [
           {
            "type": "scattergl",
            "marker": {
             "colorbar": {
              "outlinewidth": 0,
              "ticks": ""
             }
            }
           }
          ],
          "scatter3d": [
           {
            "type": "scatter3d",
            "line": {
             "colorbar": {
              "outlinewidth": 0,
              "ticks": ""
             }
            },
            "marker": {
             "colorbar": {
              "outlinewidth": 0,
              "ticks": ""
             }
            }
           }
          ],
          "scattermap": [
           {
            "type": "scattermap",
            "marker": {
             "colorbar": {
              "outlinewidth": 0,
              "ticks": ""
             }
            }
           }
          ],
          "scattermapbox": [
           {
            "type": "scattermapbox",
            "marker": {
             "colorbar": {
              "outlinewidth": 0,
              "ticks": ""
             }
            }
           }
          ],
          "scatterternary": [
           {
            "type": "scatterternary",
            "marker": {
             "colorbar": {
              "outlinewidth": 0,
              "ticks": ""
             }
            }
           }
          ],
          "scattercarpet": [
           {
            "type": "scattercarpet",
            "marker": {
             "colorbar": {
              "outlinewidth": 0,
              "ticks": ""
             }
            }
           }
          ],
          "carpet": [
           {
            "aaxis": {
             "endlinecolor": "#2a3f5f",
             "gridcolor": "white",
             "linecolor": "white",
             "minorgridcolor": "white",
             "startlinecolor": "#2a3f5f"
            },
            "baxis": {
             "endlinecolor": "#2a3f5f",
             "gridcolor": "white",
             "linecolor": "white",
             "minorgridcolor": "white",
             "startlinecolor": "#2a3f5f"
            },
            "type": "carpet"
           }
          ],
          "table": [
           {
            "cells": {
             "fill": {
              "color": "#EBF0F8"
             },
             "line": {
              "color": "white"
             }
            },
            "header": {
             "fill": {
              "color": "#C8D4E3"
             },
             "line": {
              "color": "white"
             }
            },
            "type": "table"
           }
          ],
          "barpolar": [
           {
            "marker": {
             "line": {
              "color": "#E5ECF6",
              "width": 0.5
             },
             "pattern": {
              "fillmode": "overlay",
              "size": 10,
              "solidity": 0.2
             }
            },
            "type": "barpolar"
           }
          ],
          "pie": [
           {
            "automargin": true,
            "type": "pie"
           }
          ]
         },
         "layout": {
          "autotypenumbers": "strict",
          "colorway": [
           "#636efa",
           "#EF553B",
           "#00cc96",
           "#ab63fa",
           "#FFA15A",
           "#19d3f3",
           "#FF6692",
           "#B6E880",
           "#FF97FF",
           "#FECB52"
          ],
          "font": {
           "color": "#2a3f5f"
          },
          "hovermode": "closest",
          "hoverlabel": {
           "align": "left"
          },
          "paper_bgcolor": "white",
          "plot_bgcolor": "#E5ECF6",
          "polar": {
           "bgcolor": "#E5ECF6",
           "angularaxis": {
            "gridcolor": "white",
            "linecolor": "white",
            "ticks": ""
           },
           "radialaxis": {
            "gridcolor": "white",
            "linecolor": "white",
            "ticks": ""
           }
          },
          "ternary": {
           "bgcolor": "#E5ECF6",
           "aaxis": {
            "gridcolor": "white",
            "linecolor": "white",
            "ticks": ""
           },
           "baxis": {
            "gridcolor": "white",
            "linecolor": "white",
            "ticks": ""
           },
           "caxis": {
            "gridcolor": "white",
            "linecolor": "white",
            "ticks": ""
           }
          },
          "coloraxis": {
           "colorbar": {
            "outlinewidth": 0,
            "ticks": ""
           }
          },
          "colorscale": {
           "sequential": [
            [
             0.0,
             "#0d0887"
            ],
            [
             0.1111111111111111,
             "#46039f"
            ],
            [
             0.2222222222222222,
             "#7201a8"
            ],
            [
             0.3333333333333333,
             "#9c179e"
            ],
            [
             0.4444444444444444,
             "#bd3786"
            ],
            [
             0.5555555555555556,
             "#d8576b"
            ],
            [
             0.6666666666666666,
             "#ed7953"
            ],
            [
             0.7777777777777778,
             "#fb9f3a"
            ],
            [
             0.8888888888888888,
             "#fdca26"
            ],
            [
             1.0,
             "#f0f921"
            ]
           ],
           "sequentialminus": [
            [
             0.0,
             "#0d0887"
            ],
            [
             0.1111111111111111,
             "#46039f"
            ],
            [
             0.2222222222222222,
             "#7201a8"
            ],
            [
             0.3333333333333333,
             "#9c179e"
            ],
            [
             0.4444444444444444,
             "#bd3786"
            ],
            [
             0.5555555555555556,
             "#d8576b"
            ],
            [
             0.6666666666666666,
             "#ed7953"
            ],
            [
             0.7777777777777778,
             "#fb9f3a"
            ],
            [
             0.8888888888888888,
             "#fdca26"
            ],
            [
             1.0,
             "#f0f921"
            ]
           ],
           "diverging": [
            [
             0,
             "#8e0152"
            ],
            [
             0.1,
             "#c51b7d"
            ],
            [
             0.2,
             "#de77ae"
            ],
            [
             0.3,
             "#f1b6da"
            ],
            [
             0.4,
             "#fde0ef"
            ],
            [
             0.5,
             "#f7f7f7"
            ],
            [
             0.6,
             "#e6f5d0"
            ],
            [
             0.7,
             "#b8e186"
            ],
            [
             0.8,
             "#7fbc41"
            ],
            [
             0.9,
             "#4d9221"
            ],
            [
             1,
             "#276419"
            ]
           ]
          },
          "xaxis": {
           "gridcolor": "white",
           "linecolor": "white",
           "ticks": "",
           "title": {
            "standoff": 15
           },
           "zerolinecolor": "white",
           "automargin": true,
           "zerolinewidth": 2
          },
          "yaxis": {
           "gridcolor": "white",
           "linecolor": "white",
           "ticks": "",
           "title": {
            "standoff": 15
           },
           "zerolinecolor": "white",
           "automargin": true,
           "zerolinewidth": 2
          },
          "scene": {
           "xaxis": {
            "backgroundcolor": "#E5ECF6",
            "gridcolor": "white",
            "linecolor": "white",
            "showbackground": true,
            "ticks": "",
            "zerolinecolor": "white",
            "gridwidth": 2
           },
           "yaxis": {
            "backgroundcolor": "#E5ECF6",
            "gridcolor": "white",
            "linecolor": "white",
            "showbackground": true,
            "ticks": "",
            "zerolinecolor": "white",
            "gridwidth": 2
           },
           "zaxis": {
            "backgroundcolor": "#E5ECF6",
            "gridcolor": "white",
            "linecolor": "white",
            "showbackground": true,
            "ticks": "",
            "zerolinecolor": "white",
            "gridwidth": 2
           }
          },
          "shapedefaults": {
           "line": {
            "color": "#2a3f5f"
           }
          },
          "annotationdefaults": {
           "arrowcolor": "#2a3f5f",
           "arrowhead": 0,
           "arrowwidth": 1
          },
          "geo": {
           "bgcolor": "white",
           "landcolor": "#E5ECF6",
           "subunitcolor": "white",
           "showland": true,
           "showlakes": true,
           "lakecolor": "white"
          },
          "title": {
           "x": 0.05
          },
          "mapbox": {
           "style": "light"
          }
         }
        },
        "legend": {
         "tracegroupgap": 0
        },
        "title": {
         "text": "Assists per Player brenda qdo Ekipi"
        },
        "width": 1000,
        "height": 800
       },
       "config": {
        "plotlyServerURL": "https://plot.ly"
       }
      }
     },
     "metadata": {},
     "output_type": "display_data"
    }
   ],
   "execution_count": 29
  },
  {
   "metadata": {},
   "cell_type": "markdown",
   "source": "#### 🔆 Sunburst Chart – për të parë strukturën Kombësi → Skuadër → Lojtar",
   "id": "8e5fa3498140ac12"
  },
  {
   "metadata": {
    "ExecuteTime": {
     "end_time": "2025-06-12T15:23:28.649434Z",
     "start_time": "2025-06-12T15:23:28.475999Z"
    }
   },
   "cell_type": "code",
   "source": [
    "fig = px.sunburst(\n",
    "    ucl,\n",
    "    path=['Team', 'Nationality',],\n",
    "    values='PlayerID',\n",
    "    title='Sunburst: What nationalities were the players in the teams in the Champions League 2025',\n",
    "    color='Nationality'\n",
    ")\n",
    "fig.update_layout(margin=dict(t=40, l=0, r=0, b=0))\n",
    "fig.show()"
   ],
   "id": "66f563bc9385c7ac",
   "outputs": [
    {
     "data": {
      "application/vnd.plotly.v1+json": {
       "data": [
        {
         "branchvalues": "total",
         "customdata": [
          [
           "(?)"
          ],
          [
           "(?)"
          ],
          [
           "(?)"
          ],
          [
           "(?)"
          ],
          [
           "(?)"
          ],
          [
           "(?)"
          ],
          [
           "(?)"
          ],
          [
           "(?)"
          ],
          [
           "(?)"
          ],
          [
           "(?)"
          ],
          [
           "(?)"
          ],
          [
           "(?)"
          ],
          [
           "(?)"
          ],
          [
           "(?)"
          ],
          [
           "(?)"
          ],
          [
           "(?)"
          ],
          [
           "(?)"
          ],
          [
           "(?)"
          ],
          [
           "(?)"
          ],
          [
           "(?)"
          ],
          [
           "(?)"
          ],
          [
           "(?)"
          ],
          [
           "(?)"
          ],
          [
           "(?)"
          ],
          [
           "(?)"
          ],
          [
           "(?)"
          ],
          [
           "(?)"
          ],
          [
           "Algeria"
          ],
          [
           "Argentina"
          ],
          [
           "Argentina"
          ],
          [
           "Argentina"
          ],
          [
           "Argentina"
          ],
          [
           "Argentina"
          ],
          [
           "Argentina"
          ],
          [
           "Argentina"
          ],
          [
           "Argentina"
          ],
          [
           "Armenia"
          ],
          [
           "Austria"
          ],
          [
           "Belgium"
          ],
          [
           "Belgium"
          ],
          [
           "Belgium"
          ],
          [
           "Belgium"
          ],
          [
           "Belgium"
          ],
          [
           "Belgium"
          ],
          [
           "Belgium"
          ],
          [
           "BosniaH"
          ],
          [
           "Brazil"
          ],
          [
           "Brazil"
          ],
          [
           "Brazil"
          ],
          [
           "Brazil"
          ],
          [
           "Brazil"
          ],
          [
           "Brazil"
          ],
          [
           "Brazil"
          ],
          [
           "Brazil"
          ],
          [
           "Brazil"
          ],
          [
           "Brazil"
          ],
          [
           "Brazil"
          ],
          [
           "Brazil"
          ],
          [
           "Brazil"
          ],
          [
           "Canada"
          ],
          [
           "Canada"
          ],
          [
           "Canada"
          ],
          [
           "Colombia"
          ],
          [
           "Colombia"
          ],
          [
           "Croatia"
          ],
          [
           "Croatia"
          ],
          [
           "Croatia"
          ],
          [
           "Croatia"
          ],
          [
           "Croatia"
          ],
          [
           "Denmark"
          ],
          [
           "Denmark"
          ],
          [
           "Denmark"
          ],
          [
           "Ecuador"
          ],
          [
           "Ecuador"
          ],
          [
           "Egypt"
          ],
          [
           "England"
          ],
          [
           "England"
          ],
          [
           "England"
          ],
          [
           "England"
          ],
          [
           "England"
          ],
          [
           "England"
          ],
          [
           "France"
          ],
          [
           "France"
          ],
          [
           "France"
          ],
          [
           "France"
          ],
          [
           "France"
          ],
          [
           "France"
          ],
          [
           "France"
          ],
          [
           "France"
          ],
          [
           "France"
          ],
          [
           "France"
          ],
          [
           "France"
          ],
          [
           "France"
          ],
          [
           "France"
          ],
          [
           "France"
          ],
          [
           "France"
          ],
          [
           "Georgia"
          ],
          [
           "Georgia"
          ],
          [
           "Georgia"
          ],
          [
           "Germany"
          ],
          [
           "Germany"
          ],
          [
           "Germany"
          ],
          [
           "Germany"
          ],
          [
           "Germany"
          ],
          [
           "Germany"
          ],
          [
           "Germany"
          ],
          [
           "Ghana"
          ],
          [
           "Greece"
          ],
          [
           "Greece"
          ],
          [
           "Hungary"
          ],
          [
           "Iran"
          ],
          [
           "Italy"
          ],
          [
           "Italy"
          ],
          [
           "Italy"
          ],
          [
           "Italy"
          ],
          [
           "Italy"
          ],
          [
           "Ivory Coast"
          ],
          [
           "Ivory Coast"
          ],
          [
           "Japan"
          ],
          [
           "Japan"
          ],
          [
           "Mexico"
          ],
          [
           "Morocco"
          ],
          [
           "Morocco"
          ],
          [
           "Morocco"
          ],
          [
           "Netherlands"
          ],
          [
           "Netherlands"
          ],
          [
           "Netherlands"
          ],
          [
           "Netherlands"
          ],
          [
           "Netherlands"
          ],
          [
           "Netherlands"
          ],
          [
           "Netherlands"
          ],
          [
           "Netherlands"
          ],
          [
           "Netherlands"
          ],
          [
           "Netherlands"
          ],
          [
           "Netherlands"
          ],
          [
           "Nigeria"
          ],
          [
           "Nigeria"
          ],
          [
           "Norway"
          ],
          [
           "Norway"
          ],
          [
           "Norway"
          ],
          [
           "Norway"
          ],
          [
           "Poland"
          ],
          [
           "Poland"
          ],
          [
           "Portugal"
          ],
          [
           "Portugal"
          ],
          [
           "Portugal"
          ],
          [
           "Portugal"
          ],
          [
           "Portugal"
          ],
          [
           "Portugal"
          ],
          [
           "Portugal "
          ],
          [
           "Russia"
          ],
          [
           "Scotland"
          ],
          [
           "Scotland"
          ],
          [
           "Scotland"
          ],
          [
           "Senegal"
          ],
          [
           "Slovenia"
          ],
          [
           "Slovenia"
          ],
          [
           "Slovenia"
          ],
          [
           "South Korea"
          ],
          [
           "Spain"
          ],
          [
           "Spain"
          ],
          [
           "Spain"
          ],
          [
           "Spain"
          ],
          [
           "Spain"
          ],
          [
           "Spain"
          ],
          [
           "Spain"
          ],
          [
           "Sweden"
          ],
          [
           "Switzerland"
          ],
          [
           "Switzerland"
          ],
          [
           "Switzerland"
          ],
          [
           "Switzerland"
          ],
          [
           "Switzerland"
          ],
          [
           "Switzerland"
          ],
          [
           "Turkey"
          ],
          [
           "Turkey"
          ],
          [
           "Turkey"
          ],
          [
           "Turkey"
          ],
          [
           "Ukraine"
          ],
          [
           "United States"
          ],
          [
           "United States"
          ],
          [
           "Uruguay"
          ],
          [
           "Uruguay"
          ],
          [
           "Uruguay"
          ]
         ],
         "domain": {
          "x": [
           0.0,
           1.0
          ],
          "y": [
           0.0,
           1.0
          ]
         },
         "hovertemplate": "labels=%{label}<br>PlayerID=%{value}<br>parent=%{parent}<br>id=%{id}<br>Nationality=%{customdata[0]}<extra></extra>",
         "ids": [
          "Benfica",
          "Real Madrid",
          "Liverpool FC",
          "Celtic",
          "Atletico Madrid",
          "Paris SG",
          "PSV Eindhoven",
          "Brest",
          "Lille",
          "Barcelona",
          "Bayer Leverkusen",
          "Manchester City",
          "BVB Dortmund",
          "Juventus",
          "Club Brugge",
          "Aston Villa",
          "Monaco",
          "VfB Stuttgart",
          "Shakhtar Donetsk",
          "Bologna",
          "Feyenoord",
          "Atalanta BC",
          "Sporting CP",
          "Milan",
          "Inter",
          "Bayern Munich",
          "Arsenal FC",
          "BVB Dortmund/Algeria",
          "Bayer Leverkusen/Argentina",
          "Inter/Argentina",
          "Aston Villa/Argentina",
          "Atletico Madrid/Argentina",
          "Girona/Argentina",
          "Girona",
          "Liverpool FC/Argentina",
          "Benfica/Argentina",
          "Inter/Armenia",
          "Bayern Munich/Austria",
          "Real Madrid/Belgium",
          "PSV Eindhoven/Belgium",
          "Lille/Belgium",
          "Atalanta BC/Belgium",
          "Celtic/Belgium",
          "Aston Villa/Belgium",
          "Club Brugge/Belgium",
          "Atalanta BC/BosniaH",
          "Barcelona/Brazil",
          "Monaco/Brazil",
          "Feyenoord/Brazil",
          "Lille/Brazil",
          "Atalanta BC/Brazil",
          "PSV Eindhoven/Brazil",
          "Shakhtar Donetsk/Brazil",
          "Manchester City/Brazil",
          "Atletico Madrid/Brazil",
          "Arsenal FC/Brazil",
          "Real Madrid/Brazil",
          "Liverpool FC/Brazil",
          "Paris SG/Brazil",
          "Lille/Canada",
          "Bayern Munich/Canada",
          "Celtic/Canada",
          "Bologna/Colombia",
          "Liverpool FC/Colombia",
          "Real Madrid/Croatia",
          "Dinamo Zagreb",
          "Dinamo Zagreb/Croatia",
          "PSV Eindhoven/Croatia",
          "Atalanta BC/Croatia",
          "Sporting CP/Denmark",
          "Celtic/Denmark",
          "Benfica/Denmark",
          "Paris SG/Ecuador",
          "Bayer Leverkusen/Ecuador",
          "Liverpool FC/Egypt",
          "Bayern Munich/England",
          "BVB Dortmund/England",
          "Arsenal FC/England",
          "Manchester City/England",
          "Real Madrid/England",
          "Aston Villa/England",
          "Brest/France",
          "Liverpool FC/France",
          "Monaco/France",
          "PSV Eindhoven/France",
          "VfB Stuttgart/France",
          "Milan/France",
          "Bayer Leverkusen/France",
          "Paris SG/France",
          "Inter/France",
          "Arsenal FC/France",
          "Atletico Madrid/France",
          "Lille/France",
          "Real Madrid/France",
          "Barcelona/France",
          "Bayern Munich/France",
          "Paris SG/Georgia",
          "Sturm Graz/Georgia",
          "Sturm Graz",
          "VfB Stuttgart/Germany",
          "Bayer Leverkusen/Germany",
          "BVB Dortmund/Germany",
          "Celtic/Germany",
          "Arsenal FC/Germany",
          "Bayern Munich/Germany",
          "Feyenoord/Germany",
          "Arsenal FC/Ghana",
          "Benfica/Greece",
          "Club Brugge/Greece",
          "Liverpool FC/Hungary",
          "Inter/Iran",
          "Inter/Italy",
          "Atalanta BC/Italy",
          "Paris SG/Italy",
          "Juventus/Italy",
          "Arsenal FC/Italy",
          "Monaco/Ivory Coast",
          "Atalanta BC/Ivory Coast",
          "Monaco/Japan",
          "Celtic/Japan",
          "Milan/Mexico",
          "PSV Eindhoven/Morocco",
          "Paris SG/Morocco",
          "Real Madrid/Morocco",
          "Milan/Netherlands",
          "Liverpool FC/Netherlands",
          "Arsenal FC/Netherlands",
          "Aston Villa/Netherlands",
          "Feyenoord/Netherlands",
          "Bologna/Netherlands",
          "Brest/Netherlands",
          "Atalanta BC/Netherlands",
          "Bayer Leverkusen/Netherlands",
          "Inter/Netherlands",
          "PSV Eindhoven/Netherlands",
          "Atalanta BC/Nigeria",
          "BVB Dortmund/Nigeria",
          "Arsenal FC/Norway",
          "Manchester City/Norway",
          "BVB Dortmund/Norway",
          "Benfica/Norway",
          "Bologna/Poland",
          "Barcelona/Poland",
          "Paris SG/Portugal",
          "Juventus/Portugal",
          "Milan/Portugal",
          "Benfica/Portugal",
          "Sporting CP/Portugal",
          "Manchester City/Portugal",
          "Sporting CP/Portugal ",
          "Monaco/Russia",
          "Aston Villa/Scotland",
          "Celtic/Scotland",
          "Liverpool FC/Scotland",
          "Monaco/Senegal",
          "Atletico Madrid/Slovenia",
          "Leipzig",
          "Leipzig/Slovenia",
          "Bayern Munich/South Korea",
          "Barcelona/Spain",
          "Bayer Leverkusen/Spain",
          "Arsenal FC/Spain",
          "Atletico Madrid/Spain",
          "Paris SG/Spain",
          "Benfica/Spain",
          "Real Madrid/Spain",
          "Sporting CP/Sweden",
          "Club Brugge/Switzerland",
          "Bologna/Switzerland",
          "Monaco/Switzerland",
          "Bayer Leverkusen/Switzerland",
          "Manchester City/Switzerland",
          "Inter/Switzerland",
          "Juventus/Turkey",
          "Manchester City/Turkey",
          "Benfica/Turkey",
          "Inter/Turkey",
          "Shakhtar Donetsk/Ukraine",
          "PSV Eindhoven/United States",
          "Milan/United States",
          "Real Madrid/Uruguay",
          "Sporting CP/Uruguay",
          "Atletico Madrid/Uruguay"
         ],
         "labels": [
          "Benfica",
          "Real Madrid",
          "Liverpool FC",
          "Celtic",
          "Atletico Madrid",
          "Paris SG",
          "PSV Eindhoven",
          "Brest",
          "Lille",
          "Barcelona",
          "Bayer Leverkusen",
          "Manchester City",
          "BVB Dortmund",
          "Juventus",
          "Club Brugge",
          "Aston Villa",
          "Monaco",
          "VfB Stuttgart",
          "Shakhtar Donetsk",
          "Bologna",
          "Feyenoord",
          "Atalanta BC",
          "Sporting CP",
          "Milan",
          "Inter",
          "Bayern Munich",
          "Arsenal FC",
          "Algeria",
          "Argentina",
          "Argentina",
          "Argentina",
          "Argentina",
          "Argentina",
          "Girona",
          "Argentina",
          "Argentina",
          "Armenia",
          "Austria",
          "Belgium",
          "Belgium",
          "Belgium",
          "Belgium",
          "Belgium",
          "Belgium",
          "Belgium",
          "BosniaH",
          "Brazil",
          "Brazil",
          "Brazil",
          "Brazil",
          "Brazil",
          "Brazil",
          "Brazil",
          "Brazil",
          "Brazil",
          "Brazil",
          "Brazil",
          "Brazil",
          "Brazil",
          "Canada",
          "Canada",
          "Canada",
          "Colombia",
          "Colombia",
          "Croatia",
          "Dinamo Zagreb",
          "Croatia",
          "Croatia",
          "Croatia",
          "Denmark",
          "Denmark",
          "Denmark",
          "Ecuador",
          "Ecuador",
          "Egypt",
          "England",
          "England",
          "England",
          "England",
          "England",
          "England",
          "France",
          "France",
          "France",
          "France",
          "France",
          "France",
          "France",
          "France",
          "France",
          "France",
          "France",
          "France",
          "France",
          "France",
          "France",
          "Georgia",
          "Georgia",
          "Sturm Graz",
          "Germany",
          "Germany",
          "Germany",
          "Germany",
          "Germany",
          "Germany",
          "Germany",
          "Ghana",
          "Greece",
          "Greece",
          "Hungary",
          "Iran",
          "Italy",
          "Italy",
          "Italy",
          "Italy",
          "Italy",
          "Ivory Coast",
          "Ivory Coast",
          "Japan",
          "Japan",
          "Mexico",
          "Morocco",
          "Morocco",
          "Morocco",
          "Netherlands",
          "Netherlands",
          "Netherlands",
          "Netherlands",
          "Netherlands",
          "Netherlands",
          "Netherlands",
          "Netherlands",
          "Netherlands",
          "Netherlands",
          "Netherlands",
          "Nigeria",
          "Nigeria",
          "Norway",
          "Norway",
          "Norway",
          "Norway",
          "Poland",
          "Poland",
          "Portugal",
          "Portugal",
          "Portugal",
          "Portugal",
          "Portugal",
          "Portugal",
          "Portugal ",
          "Russia",
          "Scotland",
          "Scotland",
          "Scotland",
          "Senegal",
          "Slovenia",
          "Leipzig",
          "Slovenia",
          "South Korea",
          "Spain",
          "Spain",
          "Spain",
          "Spain",
          "Spain",
          "Spain",
          "Spain",
          "Sweden",
          "Switzerland",
          "Switzerland",
          "Switzerland",
          "Switzerland",
          "Switzerland",
          "Switzerland",
          "Turkey",
          "Turkey",
          "Turkey",
          "Turkey",
          "Ukraine",
          "United States",
          "United States",
          "Uruguay",
          "Uruguay",
          "Uruguay"
         ],
         "marker": {
          "colors": [
           "#636efa",
           "#636efa",
           "#636efa",
           "#636efa",
           "#636efa",
           "#636efa",
           "#636efa",
           "#636efa",
           "#636efa",
           "#636efa",
           "#636efa",
           "#636efa",
           "#636efa",
           "#636efa",
           "#636efa",
           "#636efa",
           "#636efa",
           "#636efa",
           "#636efa",
           "#636efa",
           "#636efa",
           "#636efa",
           "#636efa",
           "#636efa",
           "#636efa",
           "#636efa",
           "#636efa",
           "#EF553B",
           "#00cc96",
           "#00cc96",
           "#00cc96",
           "#00cc96",
           "#00cc96",
           "#00cc96",
           "#00cc96",
           "#00cc96",
           "#ab63fa",
           "#FFA15A",
           "#19d3f3",
           "#19d3f3",
           "#19d3f3",
           "#19d3f3",
           "#19d3f3",
           "#19d3f3",
           "#19d3f3",
           "#FF6692",
           "#B6E880",
           "#B6E880",
           "#B6E880",
           "#B6E880",
           "#B6E880",
           "#B6E880",
           "#B6E880",
           "#B6E880",
           "#B6E880",
           "#B6E880",
           "#B6E880",
           "#B6E880",
           "#B6E880",
           "#FF97FF",
           "#FF97FF",
           "#FF97FF",
           "#FECB52",
           "#FECB52",
           "#636efa",
           "#636efa",
           "#636efa",
           "#636efa",
           "#636efa",
           "#EF553B",
           "#EF553B",
           "#EF553B",
           "#00cc96",
           "#00cc96",
           "#ab63fa",
           "#FFA15A",
           "#FFA15A",
           "#FFA15A",
           "#FFA15A",
           "#FFA15A",
           "#FFA15A",
           "#19d3f3",
           "#19d3f3",
           "#19d3f3",
           "#19d3f3",
           "#19d3f3",
           "#19d3f3",
           "#19d3f3",
           "#19d3f3",
           "#19d3f3",
           "#19d3f3",
           "#19d3f3",
           "#19d3f3",
           "#19d3f3",
           "#19d3f3",
           "#19d3f3",
           "#FF6692",
           "#FF6692",
           "#FF6692",
           "#B6E880",
           "#B6E880",
           "#B6E880",
           "#B6E880",
           "#B6E880",
           "#B6E880",
           "#B6E880",
           "#FF97FF",
           "#FECB52",
           "#FECB52",
           "#636efa",
           "#EF553B",
           "#00cc96",
           "#00cc96",
           "#00cc96",
           "#00cc96",
           "#00cc96",
           "#ab63fa",
           "#ab63fa",
           "#FFA15A",
           "#FFA15A",
           "#19d3f3",
           "#FF6692",
           "#FF6692",
           "#FF6692",
           "#B6E880",
           "#B6E880",
           "#B6E880",
           "#B6E880",
           "#B6E880",
           "#B6E880",
           "#B6E880",
           "#B6E880",
           "#B6E880",
           "#B6E880",
           "#B6E880",
           "#FF97FF",
           "#FF97FF",
           "#FECB52",
           "#FECB52",
           "#FECB52",
           "#FECB52",
           "#636efa",
           "#636efa",
           "#EF553B",
           "#EF553B",
           "#EF553B",
           "#EF553B",
           "#EF553B",
           "#EF553B",
           "#00cc96",
           "#ab63fa",
           "#FFA15A",
           "#FFA15A",
           "#FFA15A",
           "#19d3f3",
           "#FF6692",
           "#FF6692",
           "#FF6692",
           "#B6E880",
           "#FF97FF",
           "#FF97FF",
           "#FF97FF",
           "#FF97FF",
           "#FF97FF",
           "#FF97FF",
           "#FF97FF",
           "#FECB52",
           "#636efa",
           "#636efa",
           "#636efa",
           "#636efa",
           "#636efa",
           "#636efa",
           "#EF553B",
           "#EF553B",
           "#EF553B",
           "#EF553B",
           "#00cc96",
           "#ab63fa",
           "#ab63fa",
           "#FFA15A",
           "#FFA15A",
           "#FFA15A"
          ]
         },
         "name": "",
         "parents": [
          "",
          "",
          "",
          "",
          "",
          "",
          "",
          "",
          "",
          "",
          "",
          "",
          "",
          "",
          "",
          "",
          "",
          "",
          "",
          "",
          "",
          "",
          "",
          "",
          "",
          "",
          "",
          "BVB Dortmund",
          "Bayer Leverkusen",
          "Inter",
          "Aston Villa",
          "Atletico Madrid",
          "Girona",
          "",
          "Liverpool FC",
          "Benfica",
          "Inter",
          "Bayern Munich",
          "Real Madrid",
          "PSV Eindhoven",
          "Lille",
          "Atalanta BC",
          "Celtic",
          "Aston Villa",
          "Club Brugge",
          "Atalanta BC",
          "Barcelona",
          "Monaco",
          "Feyenoord",
          "Lille",
          "Atalanta BC",
          "PSV Eindhoven",
          "Shakhtar Donetsk",
          "Manchester City",
          "Atletico Madrid",
          "Arsenal FC",
          "Real Madrid",
          "Liverpool FC",
          "Paris SG",
          "Lille",
          "Bayern Munich",
          "Celtic",
          "Bologna",
          "Liverpool FC",
          "Real Madrid",
          "",
          "Dinamo Zagreb",
          "PSV Eindhoven",
          "Atalanta BC",
          "Sporting CP",
          "Celtic",
          "Benfica",
          "Paris SG",
          "Bayer Leverkusen",
          "Liverpool FC",
          "Bayern Munich",
          "BVB Dortmund",
          "Arsenal FC",
          "Manchester City",
          "Real Madrid",
          "Aston Villa",
          "Brest",
          "Liverpool FC",
          "Monaco",
          "PSV Eindhoven",
          "VfB Stuttgart",
          "Milan",
          "Bayer Leverkusen",
          "Paris SG",
          "Inter",
          "Arsenal FC",
          "Atletico Madrid",
          "Lille",
          "Real Madrid",
          "Barcelona",
          "Bayern Munich",
          "Paris SG",
          "Sturm Graz",
          "",
          "VfB Stuttgart",
          "Bayer Leverkusen",
          "BVB Dortmund",
          "Celtic",
          "Arsenal FC",
          "Bayern Munich",
          "Feyenoord",
          "Arsenal FC",
          "Benfica",
          "Club Brugge",
          "Liverpool FC",
          "Inter",
          "Inter",
          "Atalanta BC",
          "Paris SG",
          "Juventus",
          "Arsenal FC",
          "Monaco",
          "Atalanta BC",
          "Monaco",
          "Celtic",
          "Milan",
          "PSV Eindhoven",
          "Paris SG",
          "Real Madrid",
          "Milan",
          "Liverpool FC",
          "Arsenal FC",
          "Aston Villa",
          "Feyenoord",
          "Bologna",
          "Brest",
          "Atalanta BC",
          "Bayer Leverkusen",
          "Inter",
          "PSV Eindhoven",
          "Atalanta BC",
          "BVB Dortmund",
          "Arsenal FC",
          "Manchester City",
          "BVB Dortmund",
          "Benfica",
          "Bologna",
          "Barcelona",
          "Paris SG",
          "Juventus",
          "Milan",
          "Benfica",
          "Sporting CP",
          "Manchester City",
          "Sporting CP",
          "Monaco",
          "Aston Villa",
          "Celtic",
          "Liverpool FC",
          "Monaco",
          "Atletico Madrid",
          "",
          "Leipzig",
          "Bayern Munich",
          "Barcelona",
          "Bayer Leverkusen",
          "Arsenal FC",
          "Atletico Madrid",
          "Paris SG",
          "Benfica",
          "Real Madrid",
          "Sporting CP",
          "Club Brugge",
          "Bologna",
          "Monaco",
          "Bayer Leverkusen",
          "Manchester City",
          "Inter",
          "Juventus",
          "Manchester City",
          "Benfica",
          "Inter",
          "Shakhtar Donetsk",
          "PSV Eindhoven",
          "Milan",
          "Real Madrid",
          "Sporting CP",
          "Atletico Madrid"
         ],
         "values": {
          "dtype": "f8",
          "bdata": "AAAAAAAQhEAAAAAAACiLQAAAAAAA+JJAAAAAAACAhEAAAAAAAACGQAAAAAAA/JBAAAAAAABgjUAAAAAAAMBrQAAAAAAA2IdAAAAAAACEkUAAAAAAAAiIQAAAAAAAKIhAAAAAAAAkkkAAAAAAAFiCQAAAAAAAMIBAAAAAAAAIjUAAAAAAALCIQAAAAAAAQHRAAAAAAADQfUAAAAAAAKCFQAAAAAAAEINAAAAAAABwkEAAAAAAAGCIQAAAAAAAcHVAAAAAAACQkUAAAAAAAISVQAAAAAAAaJFAAAAAAAAAOEAAAAAAACBqQAAAAAAAgE5AAAAAAAAgZEAAAAAAAGBxQAAAAAAAYGlAAAAAAABgaUAAAAAAAOBlQAAAAAAAQFJAAAAAAADAV0AAAAAAACBoQAAAAAAAAEFAAAAAAAAALEAAAAAAAEBoQAAAAAAAAElAAAAAAABAYkAAAAAAAABhQAAAAAAAwHFAAAAAAABAWkAAAAAAAAAQQAAAAAAAQFNAAAAAAACAXUAAAAAAAABUQAAAAAAAwFVAAAAAAAAAQkAAAAAAAMBpQAAAAAAAQF5AAAAAAAAAKEAAAAAAAKBhQAAAAAAAIGZAAAAAAACASkAAAAAAAEBkQAAAAAAAoGNAAAAAAACAU0AAAAAAAAAmQAAAAAAAQGpAAAAAAABgaEAAAAAAAMBRQAAAAAAAIGdAAAAAAAAgZ0AAAAAAACBpQAAAAAAAAFpAAAAAAADgY0AAAAAAAKBoQAAAAAAAAFZAAAAAAACAYUAAAAAAAIBIQAAAAAAAYGBAAAAAAAAgYkAAAAAAAKBkQAAAAAAAwHBAAAAAAACAVEAAAAAAAAAYQAAAAAAAoH9AAAAAAACgaUAAAAAAAIBoQAAAAAAAwF1AAAAAAAAgZUAAAAAAAOBmQAAAAAAAIGNAAAAAAABAWUAAAAAAAKBvQAAAAAAAAGxAAAAAAAAAS0AAAAAAAABIQAAAAAAAwHRAAAAAAABAY0AAAAAAAIBEQAAAAAAAIHBAAAAAAAAAPEAAAAAAAEBQQAAAAAAAQFBAAAAAAACgYUAAAAAAAMBmQAAAAAAA+IdAAAAAAAAAO0AAAAAAAAA6QAAAAAAA0IFAAAAAAABAWEAAAAAAAEBlQAAAAAAAAEpAAAAAAAAAR0AAAAAAAABAQAAAAAAAgEdAAAAAAADAdUAAAAAAACBmQAAAAAAAwFtAAAAAAAAQdkAAAAAAAEBjQAAAAAAAQF9AAAAAAAAAZ0AAAAAAAIBQQAAAAAAAQF1AAAAAAACASUAAAAAAAABfQAAAAAAAACpAAAAAAAAAIEAAAAAAAIBDQAAAAAAAcHFAAAAAAACAWEAAAAAAAEBXQAAAAAAAsHhAAAAAAADAWUAAAAAAAAAxQAAAAAAAwGdAAAAAAAAANUAAAAAAAOBoQAAAAAAAAG5AAAAAAABgY0AAAAAAAOBgQAAAAAAAABxAAAAAAAAgZkAAAAAAAIBRQAAAAAAAgEZAAAAAAABgZ0AAAAAAAMBkQAAAAAAAoHZAAAAAAADgYUAAAAAAAEBVQAAAAAAAADlAAAAAAADAaUAAAAAAAMBoQAAAAAAAgFRAAAAAAABAaUAAAAAAAIBAQAAAAAAAwGNAAAAAAAAgY0AAAAAAAABeQAAAAAAAgF9AAAAAAAAAUEAAAAAAAABQQAAAAAAAoGBAAAAAAABwjEAAAAAAAIBLQAAAAAAAgGhAAAAAAABgZUAAAAAAAAAyQAAAAAAAwF5AAAAAAACAa0AAAAAAAGBiQAAAAAAAgGdAAAAAAAAAaEAAAAAAAEBUQAAAAAAAAGNAAAAAAADAWEAAAAAAAEBcQAAAAAAAwFZAAAAAAAAAWEAAAAAAAIBtQAAAAAAAgEJAAAAAAADwcEAAAAAAAIBjQAAAAAAAAC5AAAAAAADgaEAAAAAAAEBnQAAAAAAAQFFA"
         },
         "type": "sunburst"
        }
       ],
       "layout": {
        "template": {
         "data": {
          "histogram2dcontour": [
           {
            "type": "histogram2dcontour",
            "colorbar": {
             "outlinewidth": 0,
             "ticks": ""
            },
            "colorscale": [
             [
              0.0,
              "#0d0887"
             ],
             [
              0.1111111111111111,
              "#46039f"
             ],
             [
              0.2222222222222222,
              "#7201a8"
             ],
             [
              0.3333333333333333,
              "#9c179e"
             ],
             [
              0.4444444444444444,
              "#bd3786"
             ],
             [
              0.5555555555555556,
              "#d8576b"
             ],
             [
              0.6666666666666666,
              "#ed7953"
             ],
             [
              0.7777777777777778,
              "#fb9f3a"
             ],
             [
              0.8888888888888888,
              "#fdca26"
             ],
             [
              1.0,
              "#f0f921"
             ]
            ]
           }
          ],
          "choropleth": [
           {
            "type": "choropleth",
            "colorbar": {
             "outlinewidth": 0,
             "ticks": ""
            }
           }
          ],
          "histogram2d": [
           {
            "type": "histogram2d",
            "colorbar": {
             "outlinewidth": 0,
             "ticks": ""
            },
            "colorscale": [
             [
              0.0,
              "#0d0887"
             ],
             [
              0.1111111111111111,
              "#46039f"
             ],
             [
              0.2222222222222222,
              "#7201a8"
             ],
             [
              0.3333333333333333,
              "#9c179e"
             ],
             [
              0.4444444444444444,
              "#bd3786"
             ],
             [
              0.5555555555555556,
              "#d8576b"
             ],
             [
              0.6666666666666666,
              "#ed7953"
             ],
             [
              0.7777777777777778,
              "#fb9f3a"
             ],
             [
              0.8888888888888888,
              "#fdca26"
             ],
             [
              1.0,
              "#f0f921"
             ]
            ]
           }
          ],
          "heatmap": [
           {
            "type": "heatmap",
            "colorbar": {
             "outlinewidth": 0,
             "ticks": ""
            },
            "colorscale": [
             [
              0.0,
              "#0d0887"
             ],
             [
              0.1111111111111111,
              "#46039f"
             ],
             [
              0.2222222222222222,
              "#7201a8"
             ],
             [
              0.3333333333333333,
              "#9c179e"
             ],
             [
              0.4444444444444444,
              "#bd3786"
             ],
             [
              0.5555555555555556,
              "#d8576b"
             ],
             [
              0.6666666666666666,
              "#ed7953"
             ],
             [
              0.7777777777777778,
              "#fb9f3a"
             ],
             [
              0.8888888888888888,
              "#fdca26"
             ],
             [
              1.0,
              "#f0f921"
             ]
            ]
           }
          ],
          "contourcarpet": [
           {
            "type": "contourcarpet",
            "colorbar": {
             "outlinewidth": 0,
             "ticks": ""
            }
           }
          ],
          "contour": [
           {
            "type": "contour",
            "colorbar": {
             "outlinewidth": 0,
             "ticks": ""
            },
            "colorscale": [
             [
              0.0,
              "#0d0887"
             ],
             [
              0.1111111111111111,
              "#46039f"
             ],
             [
              0.2222222222222222,
              "#7201a8"
             ],
             [
              0.3333333333333333,
              "#9c179e"
             ],
             [
              0.4444444444444444,
              "#bd3786"
             ],
             [
              0.5555555555555556,
              "#d8576b"
             ],
             [
              0.6666666666666666,
              "#ed7953"
             ],
             [
              0.7777777777777778,
              "#fb9f3a"
             ],
             [
              0.8888888888888888,
              "#fdca26"
             ],
             [
              1.0,
              "#f0f921"
             ]
            ]
           }
          ],
          "surface": [
           {
            "type": "surface",
            "colorbar": {
             "outlinewidth": 0,
             "ticks": ""
            },
            "colorscale": [
             [
              0.0,
              "#0d0887"
             ],
             [
              0.1111111111111111,
              "#46039f"
             ],
             [
              0.2222222222222222,
              "#7201a8"
             ],
             [
              0.3333333333333333,
              "#9c179e"
             ],
             [
              0.4444444444444444,
              "#bd3786"
             ],
             [
              0.5555555555555556,
              "#d8576b"
             ],
             [
              0.6666666666666666,
              "#ed7953"
             ],
             [
              0.7777777777777778,
              "#fb9f3a"
             ],
             [
              0.8888888888888888,
              "#fdca26"
             ],
             [
              1.0,
              "#f0f921"
             ]
            ]
           }
          ],
          "mesh3d": [
           {
            "type": "mesh3d",
            "colorbar": {
             "outlinewidth": 0,
             "ticks": ""
            }
           }
          ],
          "scatter": [
           {
            "fillpattern": {
             "fillmode": "overlay",
             "size": 10,
             "solidity": 0.2
            },
            "type": "scatter"
           }
          ],
          "parcoords": [
           {
            "type": "parcoords",
            "line": {
             "colorbar": {
              "outlinewidth": 0,
              "ticks": ""
             }
            }
           }
          ],
          "scatterpolargl": [
           {
            "type": "scatterpolargl",
            "marker": {
             "colorbar": {
              "outlinewidth": 0,
              "ticks": ""
             }
            }
           }
          ],
          "bar": [
           {
            "error_x": {
             "color": "#2a3f5f"
            },
            "error_y": {
             "color": "#2a3f5f"
            },
            "marker": {
             "line": {
              "color": "#E5ECF6",
              "width": 0.5
             },
             "pattern": {
              "fillmode": "overlay",
              "size": 10,
              "solidity": 0.2
             }
            },
            "type": "bar"
           }
          ],
          "scattergeo": [
           {
            "type": "scattergeo",
            "marker": {
             "colorbar": {
              "outlinewidth": 0,
              "ticks": ""
             }
            }
           }
          ],
          "scatterpolar": [
           {
            "type": "scatterpolar",
            "marker": {
             "colorbar": {
              "outlinewidth": 0,
              "ticks": ""
             }
            }
           }
          ],
          "histogram": [
           {
            "marker": {
             "pattern": {
              "fillmode": "overlay",
              "size": 10,
              "solidity": 0.2
             }
            },
            "type": "histogram"
           }
          ],
          "scattergl": [
           {
            "type": "scattergl",
            "marker": {
             "colorbar": {
              "outlinewidth": 0,
              "ticks": ""
             }
            }
           }
          ],
          "scatter3d": [
           {
            "type": "scatter3d",
            "line": {
             "colorbar": {
              "outlinewidth": 0,
              "ticks": ""
             }
            },
            "marker": {
             "colorbar": {
              "outlinewidth": 0,
              "ticks": ""
             }
            }
           }
          ],
          "scattermap": [
           {
            "type": "scattermap",
            "marker": {
             "colorbar": {
              "outlinewidth": 0,
              "ticks": ""
             }
            }
           }
          ],
          "scattermapbox": [
           {
            "type": "scattermapbox",
            "marker": {
             "colorbar": {
              "outlinewidth": 0,
              "ticks": ""
             }
            }
           }
          ],
          "scatterternary": [
           {
            "type": "scatterternary",
            "marker": {
             "colorbar": {
              "outlinewidth": 0,
              "ticks": ""
             }
            }
           }
          ],
          "scattercarpet": [
           {
            "type": "scattercarpet",
            "marker": {
             "colorbar": {
              "outlinewidth": 0,
              "ticks": ""
             }
            }
           }
          ],
          "carpet": [
           {
            "aaxis": {
             "endlinecolor": "#2a3f5f",
             "gridcolor": "white",
             "linecolor": "white",
             "minorgridcolor": "white",
             "startlinecolor": "#2a3f5f"
            },
            "baxis": {
             "endlinecolor": "#2a3f5f",
             "gridcolor": "white",
             "linecolor": "white",
             "minorgridcolor": "white",
             "startlinecolor": "#2a3f5f"
            },
            "type": "carpet"
           }
          ],
          "table": [
           {
            "cells": {
             "fill": {
              "color": "#EBF0F8"
             },
             "line": {
              "color": "white"
             }
            },
            "header": {
             "fill": {
              "color": "#C8D4E3"
             },
             "line": {
              "color": "white"
             }
            },
            "type": "table"
           }
          ],
          "barpolar": [
           {
            "marker": {
             "line": {
              "color": "#E5ECF6",
              "width": 0.5
             },
             "pattern": {
              "fillmode": "overlay",
              "size": 10,
              "solidity": 0.2
             }
            },
            "type": "barpolar"
           }
          ],
          "pie": [
           {
            "automargin": true,
            "type": "pie"
           }
          ]
         },
         "layout": {
          "autotypenumbers": "strict",
          "colorway": [
           "#636efa",
           "#EF553B",
           "#00cc96",
           "#ab63fa",
           "#FFA15A",
           "#19d3f3",
           "#FF6692",
           "#B6E880",
           "#FF97FF",
           "#FECB52"
          ],
          "font": {
           "color": "#2a3f5f"
          },
          "hovermode": "closest",
          "hoverlabel": {
           "align": "left"
          },
          "paper_bgcolor": "white",
          "plot_bgcolor": "#E5ECF6",
          "polar": {
           "bgcolor": "#E5ECF6",
           "angularaxis": {
            "gridcolor": "white",
            "linecolor": "white",
            "ticks": ""
           },
           "radialaxis": {
            "gridcolor": "white",
            "linecolor": "white",
            "ticks": ""
           }
          },
          "ternary": {
           "bgcolor": "#E5ECF6",
           "aaxis": {
            "gridcolor": "white",
            "linecolor": "white",
            "ticks": ""
           },
           "baxis": {
            "gridcolor": "white",
            "linecolor": "white",
            "ticks": ""
           },
           "caxis": {
            "gridcolor": "white",
            "linecolor": "white",
            "ticks": ""
           }
          },
          "coloraxis": {
           "colorbar": {
            "outlinewidth": 0,
            "ticks": ""
           }
          },
          "colorscale": {
           "sequential": [
            [
             0.0,
             "#0d0887"
            ],
            [
             0.1111111111111111,
             "#46039f"
            ],
            [
             0.2222222222222222,
             "#7201a8"
            ],
            [
             0.3333333333333333,
             "#9c179e"
            ],
            [
             0.4444444444444444,
             "#bd3786"
            ],
            [
             0.5555555555555556,
             "#d8576b"
            ],
            [
             0.6666666666666666,
             "#ed7953"
            ],
            [
             0.7777777777777778,
             "#fb9f3a"
            ],
            [
             0.8888888888888888,
             "#fdca26"
            ],
            [
             1.0,
             "#f0f921"
            ]
           ],
           "sequentialminus": [
            [
             0.0,
             "#0d0887"
            ],
            [
             0.1111111111111111,
             "#46039f"
            ],
            [
             0.2222222222222222,
             "#7201a8"
            ],
            [
             0.3333333333333333,
             "#9c179e"
            ],
            [
             0.4444444444444444,
             "#bd3786"
            ],
            [
             0.5555555555555556,
             "#d8576b"
            ],
            [
             0.6666666666666666,
             "#ed7953"
            ],
            [
             0.7777777777777778,
             "#fb9f3a"
            ],
            [
             0.8888888888888888,
             "#fdca26"
            ],
            [
             1.0,
             "#f0f921"
            ]
           ],
           "diverging": [
            [
             0,
             "#8e0152"
            ],
            [
             0.1,
             "#c51b7d"
            ],
            [
             0.2,
             "#de77ae"
            ],
            [
             0.3,
             "#f1b6da"
            ],
            [
             0.4,
             "#fde0ef"
            ],
            [
             0.5,
             "#f7f7f7"
            ],
            [
             0.6,
             "#e6f5d0"
            ],
            [
             0.7,
             "#b8e186"
            ],
            [
             0.8,
             "#7fbc41"
            ],
            [
             0.9,
             "#4d9221"
            ],
            [
             1,
             "#276419"
            ]
           ]
          },
          "xaxis": {
           "gridcolor": "white",
           "linecolor": "white",
           "ticks": "",
           "title": {
            "standoff": 15
           },
           "zerolinecolor": "white",
           "automargin": true,
           "zerolinewidth": 2
          },
          "yaxis": {
           "gridcolor": "white",
           "linecolor": "white",
           "ticks": "",
           "title": {
            "standoff": 15
           },
           "zerolinecolor": "white",
           "automargin": true,
           "zerolinewidth": 2
          },
          "scene": {
           "xaxis": {
            "backgroundcolor": "#E5ECF6",
            "gridcolor": "white",
            "linecolor": "white",
            "showbackground": true,
            "ticks": "",
            "zerolinecolor": "white",
            "gridwidth": 2
           },
           "yaxis": {
            "backgroundcolor": "#E5ECF6",
            "gridcolor": "white",
            "linecolor": "white",
            "showbackground": true,
            "ticks": "",
            "zerolinecolor": "white",
            "gridwidth": 2
           },
           "zaxis": {
            "backgroundcolor": "#E5ECF6",
            "gridcolor": "white",
            "linecolor": "white",
            "showbackground": true,
            "ticks": "",
            "zerolinecolor": "white",
            "gridwidth": 2
           }
          },
          "shapedefaults": {
           "line": {
            "color": "#2a3f5f"
           }
          },
          "annotationdefaults": {
           "arrowcolor": "#2a3f5f",
           "arrowhead": 0,
           "arrowwidth": 1
          },
          "geo": {
           "bgcolor": "white",
           "landcolor": "#E5ECF6",
           "subunitcolor": "white",
           "showland": true,
           "showlakes": true,
           "lakecolor": "white"
          },
          "title": {
           "x": 0.05
          },
          "mapbox": {
           "style": "light"
          }
         }
        },
        "legend": {
         "tracegroupgap": 0
        },
        "title": {
         "text": "Sunburst: What nationalities were the players in the teams in the Champions League 2025"
        },
        "margin": {
         "t": 40,
         "l": 0,
         "r": 0,
         "b": 0
        }
       },
       "config": {
        "plotlyServerURL": "https://plot.ly"
       }
      }
     },
     "metadata": {},
     "output_type": "display_data"
    }
   ],
   "execution_count": 30
  },
  {
   "metadata": {},
   "cell_type": "markdown",
   "source": "#### 📈 Line Plot – për performancë krahasuese mes lojtarëve në bazë të Rating / Gola",
   "id": "7827429310eba038"
  },
  {
   "metadata": {
    "ExecuteTime": {
     "end_time": "2025-06-12T15:23:30.960754Z",
     "start_time": "2025-06-12T15:23:30.824358Z"
    }
   },
   "cell_type": "code",
   "source": [
    "fig = px.line(ucl, x='Player', y='Goals', title='Rating per Player', text='Goals',  color='Position', template='plotly_dark')\n",
    "fig.update_layout(xaxis_tickangle=-45)\n",
    "fig.show()"
   ],
   "id": "5812710d524c7736",
   "outputs": [
    {
     "data": {
      "application/vnd.plotly.v1+json": {
       "data": [
        {
         "hovertemplate": "Position=Defender<br>Player=%{x}<br>Goals=%{text}<extra></extra>",
         "legendgroup": "Defender",
         "line": {
          "color": "#636efa",
          "dash": "solid"
         },
         "marker": {
          "symbol": "circle"
         },
         "mode": "lines+markers+text",
         "name": "Defender",
         "orientation": "v",
         "showlegend": true,
         "text": {
          "dtype": "f8",
          "bdata": "AAAAAAAAAAAAAAAAAADwPwAAAAAAAPA/AAAAAAAAAAAAAAAAAAAQQAAAAAAAAAAAAAAAAAAAAAAAAAAAAAAAQAAAAAAAAAAAAAAAAAAAAAAAAAAAAAAAAAAAAAAAAAAAAAAAAAAAAAAAAAAAAAAIQAAAAAAAAPA/AAAAAAAAAAAAAAAAAAAAQAAAAAAAAPA/AAAAAAAAAAAAAAAAAADwPwAAAAAAAAAAAAAAAAAA8D8AAAAAAAAAAAAAAAAAAABAAAAAAAAAAAAAAAAAAAAAAAAAAAAAAPA/AAAAAAAAAEAAAAAAAADwPwAAAAAAAPA/AAAAAAAAAAAAAAAAAAAAAAAAAAAAAPA/AAAAAAAA8D8AAAAAAAAAAAAAAAAAAPA/AAAAAAAAAAAAAAAAAADwPwAAAAAAAPA/AAAAAAAAAAAAAAAAAAAAQAAAAAAAABBAAAAAAAAAAEAAAAAAAADwPwAAAAAAAAAAAAAAAAAAAAAAAAAAAADwPwAAAAAAAAAAAAAAAAAA8D8AAAAAAAAAAAAAAAAAAAAAAAAAAAAAAAAAAAAAAAAAAAAAAAAAAAAAAAAAAAAAAAAAAAAAAADwPwAAAAAAAAAAAAAAAAAA8D8AAAAAAAAAAAAAAAAAAPA/"
         },
         "x": [
          "Theo Hernandez",
          "Van Dijk",
          "Otamendi",
          "Johnston",
          "Hakimi",
          "Frimpong",
          "Rico Lewis",
          "Bensebaini",
          "Federico Gatti",
          "Dimarco",
          "Mauro Junior",
          "Raul Asencio",
          "Kounde",
          "Ryan Flamingo",
          "Hincapie",
          "Saliba",
          "Grimaldo",
          "Ezri Konsa",
          "Stefan de Vrij",
          "Jose Gimenez",
          "Ryerson",
          "Pavard",
          "Vanderson",
          "Alphonso Davies",
          "Alexsandro Ribeiro",
          "Upamecano",
          "Alexander Bah",
          "Inigo Martinez",
          "Maatsen",
          "Jurrien Timber",
          "Manuel Akanji",
          "Schlotterbeck",
          "Mukiele",
          "De Cuyper",
          "Sam Beukema",
          "Kolasinac",
          "Youssouf Fofana",
          "Gabriel Magalhaes",
          "Gonçalo Inacio",
          "Alvaro Carreras",
          "Singo",
          "Nuno Mendes",
          "Dumfries",
          "Minjae Kim",
          "Pacho",
          "Balde",
          "Francesco Acerbi",
          "Robertson",
          "Calafiori",
          "Marquinhos",
          "Bastoni",
          "Boscagli",
          "Waldemar Anton",
          "Kossounou",
          "Marten de Roon",
          "Laimer",
          "Thomas Meunier",
          "Ibrahima Konate",
          "Kenny Lala",
          "Lucumi"
         ],
         "xaxis": "x",
         "y": {
          "dtype": "i1",
          "bdata": "AAEBAAQAAAIAAAAAAAMBAAIBAAEAAQACAAABAgEBAAABAQABAAEBAAIEAgEAAAEAAQAAAAAAAAEAAQAB"
         },
         "yaxis": "y",
         "type": "scatter"
        },
        {
         "hovertemplate": "Position=Midfielder<br>Player=%{x}<br>Goals=%{text}<extra></extra>",
         "legendgroup": "Midfielder",
         "line": {
          "color": "#EF553B",
          "dash": "solid"
         },
         "marker": {
          "symbol": "circle"
         },
         "mode": "lines+markers+text",
         "name": "Midfielder",
         "orientation": "v",
         "showlegend": true,
         "text": {
          "dtype": "f8",
          "bdata": "AAAAAAAAAAAAAAAAAAAIQAAAAAAAAPA/AAAAAAAA8D8AAAAAAAAAAAAAAAAAAAAAAAAAAAAA8D8AAAAAAAAIQAAAAAAAABBAAAAAAAAACEAAAAAAAAAAAAAAAAAAABBAAAAAAAAAAEAAAAAAAAAAAAAAAAAAAPA/AAAAAAAA8D8AAAAAAAAAAAAAAAAAAPA/AAAAAAAA8D8AAAAAAAAAQAAAAAAAAPA/AAAAAAAA8D8AAAAAAAAAAAAAAAAAAABAAAAAAAAACEAAAAAAAAAAAAAAAAAAABBAAAAAAAAAAAAAAAAAAAAAQAAAAAAAAAAAAAAAAAAA8D8AAAAAAAAAAAAAAAAAAAhAAAAAAAAAAAAAAAAAAAAAQAAAAAAAAABAAAAAAAAA8D8AAAAAAAAAQAAAAAAAAPA/AAAAAAAAAAAAAAAAAAAAAAAAAAAAAAAAAAAAAAAACEAAAAAAAAAAAAAAAAAAAAAAAAAAAAAAAAAAAAAAAAAAAAAAAAAAAABAAAAAAAAAAEAAAAAAAADwPwAAAAAAABBAAAAAAAAA8D8AAAAAAAAYQAAAAAAAAABAAAAAAAAAAEAAAAAAAAAAAAAAAAAAABBAAAAAAAAACEAAAAAAAADwPwAAAAAAAAAAAAAAAAAAAAAAAAAAAAAAAAAAAAAAAAAAAAAAAAAA8D8AAAAAAAAAAAAAAAAAAAAA"
         },
         "x": [
          "Nicolo Barella",
          "Odegaard",
          "Hans Vanaken",
          "Fabian Ruiz",
          "Joey Veerman",
          "Florentino",
          "Szoboszlai",
          "John McGinn",
          "Calhanoglu",
          "Tijjani Reijnders",
          "Aursnes",
          "Charles Ketelaere",
          "Vitinha",
          "Pedri",
          "Otar Kiteishvili",
          "Leon Goretzka",
          "Modric",
          "Felix Nmecha",
          "Pascal Gross",
          "Emre Can",
          "Ederson",
          "Jacob Ramsey",
          "Mkhitaryan",
          "Gundogan",
          "Mario Pasalic",
          "Benjamin Andre",
          "Orkun Kökcü",
          "De Paul",
          "Dani Olmo",
          "Zappacosta",
          "Reo Hatate",
          "Lamine Camara",
          "Ismael Saibari",
          "Tchouameni",
          "Youri Tielemans",
          "Mikel Merino",
          "Angelo Stiller",
          "Georgiy Sudakov",
          "Arne Engels",
          "Casado",
          "Julian Brandt",
          "Granit Xhaka",
          "Tillman",
          "Callum McGregor",
          "Hjulmand",
          "Kimmich",
          "Partey",
          "Llorente",
          "Mac Allister",
          "Joao Neves",
          "Declan Rice",
          "Fermin Lopez",
          "Florian Wirtz",
          "Enzo Millot",
          "Baturina",
          "Jashari",
          "Rogers",
          "Milambo",
          "Matheus Nunes",
          "Valverde",
          "Gravenberch",
          "Golovin",
          "Quinten Timber",
          "Cabella",
          "Locatelli",
          "Palacios"
         ],
         "xaxis": "x",
         "y": {
          "dtype": "i1",
          "bdata": "AAMBAQAAAQMEAwAEAgABAQABAQIBAQACAwAEAAIAAQADAAICAQIBAAAAAwAAAAACAgEEAQYCAgAEAwEAAAAAAQAA"
         },
         "yaxis": "y",
         "type": "scatter"
        },
        {
         "hovertemplate": "Position=Forward<br>Player=%{x}<br>Goals=%{text}<extra></extra>",
         "legendgroup": "Forward",
         "line": {
          "color": "#00cc96",
          "dash": "solid"
         },
         "marker": {
          "symbol": "circle"
         },
         "mode": "lines+markers+text",
         "name": "Forward",
         "orientation": "v",
         "showlegend": true,
         "text": {
          "dtype": "f8",
          "bdata": "AAAAAAAAJkAAAAAAAAAqQAAAAAAAAAhAAAAAAAAAAEAAAAAAAAAAAAAAAAAAAABAAAAAAAAAEEAAAAAAAAAUQAAAAAAAABxAAAAAAAAAEEAAAAAAAAAIQAAAAAAAAAhAAAAAAAAAAEAAAAAAAAAAQAAAAAAAACBAAAAAAAAAHEAAAAAAAADwPwAAAAAAAPA/AAAAAAAAGEAAAAAAAAAYQAAAAAAAABxAAAAAAAAACEAAAAAAAAAiQAAAAAAAAPA/AAAAAAAAEEAAAAAAAAAIQAAAAAAAAAhAAAAAAAAAIEAAAAAAAADwPwAAAAAAAAAAAAAAAAAACEAAAAAAAAAAAAAAAAAAAAhAAAAAAAAAGEAAAAAAAADwPwAAAAAAABRAAAAAAAAAFEAAAAAAAAAAQAAAAAAAAABAAAAAAAAA8D8AAAAAAADwPwAAAAAAABBAAAAAAAAACEAAAAAAAAAqQAAAAAAAAABAAAAAAAAAFEAAAAAAAADwPwAAAAAAACZAAAAAAAAAGEAAAAAAAAAQQAAAAAAAABRAAAAAAAAAHEAAAAAAAAAIQAAAAAAAABBAAAAAAAAAAAAAAAAAAAAIQAAAAAAAABRAAAAAAAAACEAAAAAAAAAgQAAAAAAAAPA/AAAAAAAAAAAAAAAAAAAIQAAAAAAAAAhAAAAAAAAAAEA="
         },
         "x": [
          "Lewandowski",
          "Raphinha",
          "Jude Bellingham",
          "Brahim Diaz",
          "Lino",
          "Johan Bakayoko",
          "Pulisic",
          "Yamal",
          "Kylian Mbappe",
          "Kai Havertz",
          "Kuhn",
          "Kvaratskhelia",
          "Martinelli",
          "Noa Lang",
          "Vinicius Jr",
          "Julian Alvarez",
          "Christos Tzolis",
          "Taremi",
          "Griezmann",
          "Santiago Gimenez",
          "Pavlidis",
          "Phil Foden",
          "Lautaro Martinez",
          "Di Maria",
          "Benjamin Sesko",
          "Minamino",
          "Gakpo",
          "Dembele",
          "Embolo",
          "Quenda",
          "Barcola",
          "Trincao",
          "Rafael Leao",
          "Bukayo Saka",
          "Kenan Yildiz",
          "Desire Doue",
          "Adeyemi",
          "Igor Paixao",
          "Maghnes Akliouche",
          "Savinho",
          "Giuliano Simeone",
          "Akturkoglu",
          "Salah",
          "Guirassy",
          "Luuk de Jong",
          "Rodrygo",
          "Conceiçao",
          "Harry Kane",
          "Viktor Gyokeres",
          "Thuram",
          "Lookman",
          "Jonathan David",
          "Ferran Torres",
          "Gittens",
          "Marcus Rashford",
          "Jamal Musiala",
          "Olise",
          "Thomas Muller",
          "Haaland",
          "Lucas Vazquez",
          "Dan Ndoye",
          "Luis Diaz",
          "Ivan Perisic",
          "Kevin"
         ],
         "xaxis": "x",
         "y": {
          "dtype": "i1",
          "bdata": "Cw0DAgACBAUHBAMDAgIIBwEBBgYHAwkBBAMDCAEAAwADBgEFBQICAQEEAw0CBQELBgQFBwMEAAMFAwgBAAMDAg=="
         },
         "yaxis": "y",
         "type": "scatter"
        },
        {
         "hovertemplate": "Position=Goalkeeper<br>Player=%{x}<br>Goals=%{text}<extra></extra>",
         "legendgroup": "Goalkeeper",
         "line": {
          "color": "#ab63fa",
          "dash": "solid"
         },
         "marker": {
          "symbol": "circle"
         },
         "mode": "lines+markers+text",
         "name": "Goalkeeper",
         "orientation": "v",
         "showlegend": true,
         "text": {
          "dtype": "f8",
          "bdata": "AAAAAAAAAAAAAAAAAAAAAAAAAAAAAAAAAAAAAAAAAAAAAAAAAAAAAAAAAAAAAAAAAAAAAAAAAAAAAAAAAAAAAAAAAAAAAAAAAAAAAAAAAAAAAAAAAAAAAAAAAAAAAAAAAAAAAAAAAAAAAAAAAAAAAAAAAAAAAAAAAAAAAAAAAAAAAAAAAAAAAAAAAAAAAAAAAAAAAAAAAAAAAAAAAAAAAA=="
         },
         "x": [
          "Marco Bizot",
          "Chevalier",
          "Courtois",
          "Mike Maignan",
          "Alisson Becker",
          "David Raya",
          "Carnesecchi",
          "Wellenreuther ",
          "Donnarumma",
          "Yann Sommer",
          "Di Gregorio",
          "Jan Oblak",
          "Riznyk",
          "Emiliano Martinez",
          "Szczesny",
          "Mignolet",
          "Franco Israel",
          "Skorupski",
          "Schmeichel",
          "Gazzaniga"
         ],
         "xaxis": "x",
         "y": {
          "dtype": "i1",
          "bdata": "AAAAAAAAAAAAAAAAAAAAAAAAAAA="
         },
         "yaxis": "y",
         "type": "scatter"
        }
       ],
       "layout": {
        "template": {
         "data": {
          "barpolar": [
           {
            "marker": {
             "line": {
              "color": "rgb(17,17,17)",
              "width": 0.5
             },
             "pattern": {
              "fillmode": "overlay",
              "size": 10,
              "solidity": 0.2
             }
            },
            "type": "barpolar"
           }
          ],
          "bar": [
           {
            "error_x": {
             "color": "#f2f5fa"
            },
            "error_y": {
             "color": "#f2f5fa"
            },
            "marker": {
             "line": {
              "color": "rgb(17,17,17)",
              "width": 0.5
             },
             "pattern": {
              "fillmode": "overlay",
              "size": 10,
              "solidity": 0.2
             }
            },
            "type": "bar"
           }
          ],
          "carpet": [
           {
            "aaxis": {
             "endlinecolor": "#A2B1C6",
             "gridcolor": "#506784",
             "linecolor": "#506784",
             "minorgridcolor": "#506784",
             "startlinecolor": "#A2B1C6"
            },
            "baxis": {
             "endlinecolor": "#A2B1C6",
             "gridcolor": "#506784",
             "linecolor": "#506784",
             "minorgridcolor": "#506784",
             "startlinecolor": "#A2B1C6"
            },
            "type": "carpet"
           }
          ],
          "choropleth": [
           {
            "colorbar": {
             "outlinewidth": 0,
             "ticks": ""
            },
            "type": "choropleth"
           }
          ],
          "contourcarpet": [
           {
            "colorbar": {
             "outlinewidth": 0,
             "ticks": ""
            },
            "type": "contourcarpet"
           }
          ],
          "contour": [
           {
            "colorbar": {
             "outlinewidth": 0,
             "ticks": ""
            },
            "colorscale": [
             [
              0.0,
              "#0d0887"
             ],
             [
              0.1111111111111111,
              "#46039f"
             ],
             [
              0.2222222222222222,
              "#7201a8"
             ],
             [
              0.3333333333333333,
              "#9c179e"
             ],
             [
              0.4444444444444444,
              "#bd3786"
             ],
             [
              0.5555555555555556,
              "#d8576b"
             ],
             [
              0.6666666666666666,
              "#ed7953"
             ],
             [
              0.7777777777777778,
              "#fb9f3a"
             ],
             [
              0.8888888888888888,
              "#fdca26"
             ],
             [
              1.0,
              "#f0f921"
             ]
            ],
            "type": "contour"
           }
          ],
          "heatmap": [
           {
            "colorbar": {
             "outlinewidth": 0,
             "ticks": ""
            },
            "colorscale": [
             [
              0.0,
              "#0d0887"
             ],
             [
              0.1111111111111111,
              "#46039f"
             ],
             [
              0.2222222222222222,
              "#7201a8"
             ],
             [
              0.3333333333333333,
              "#9c179e"
             ],
             [
              0.4444444444444444,
              "#bd3786"
             ],
             [
              0.5555555555555556,
              "#d8576b"
             ],
             [
              0.6666666666666666,
              "#ed7953"
             ],
             [
              0.7777777777777778,
              "#fb9f3a"
             ],
             [
              0.8888888888888888,
              "#fdca26"
             ],
             [
              1.0,
              "#f0f921"
             ]
            ],
            "type": "heatmap"
           }
          ],
          "histogram2dcontour": [
           {
            "colorbar": {
             "outlinewidth": 0,
             "ticks": ""
            },
            "colorscale": [
             [
              0.0,
              "#0d0887"
             ],
             [
              0.1111111111111111,
              "#46039f"
             ],
             [
              0.2222222222222222,
              "#7201a8"
             ],
             [
              0.3333333333333333,
              "#9c179e"
             ],
             [
              0.4444444444444444,
              "#bd3786"
             ],
             [
              0.5555555555555556,
              "#d8576b"
             ],
             [
              0.6666666666666666,
              "#ed7953"
             ],
             [
              0.7777777777777778,
              "#fb9f3a"
             ],
             [
              0.8888888888888888,
              "#fdca26"
             ],
             [
              1.0,
              "#f0f921"
             ]
            ],
            "type": "histogram2dcontour"
           }
          ],
          "histogram2d": [
           {
            "colorbar": {
             "outlinewidth": 0,
             "ticks": ""
            },
            "colorscale": [
             [
              0.0,
              "#0d0887"
             ],
             [
              0.1111111111111111,
              "#46039f"
             ],
             [
              0.2222222222222222,
              "#7201a8"
             ],
             [
              0.3333333333333333,
              "#9c179e"
             ],
             [
              0.4444444444444444,
              "#bd3786"
             ],
             [
              0.5555555555555556,
              "#d8576b"
             ],
             [
              0.6666666666666666,
              "#ed7953"
             ],
             [
              0.7777777777777778,
              "#fb9f3a"
             ],
             [
              0.8888888888888888,
              "#fdca26"
             ],
             [
              1.0,
              "#f0f921"
             ]
            ],
            "type": "histogram2d"
           }
          ],
          "histogram": [
           {
            "marker": {
             "pattern": {
              "fillmode": "overlay",
              "size": 10,
              "solidity": 0.2
             }
            },
            "type": "histogram"
           }
          ],
          "mesh3d": [
           {
            "colorbar": {
             "outlinewidth": 0,
             "ticks": ""
            },
            "type": "mesh3d"
           }
          ],
          "parcoords": [
           {
            "line": {
             "colorbar": {
              "outlinewidth": 0,
              "ticks": ""
             }
            },
            "type": "parcoords"
           }
          ],
          "pie": [
           {
            "automargin": true,
            "type": "pie"
           }
          ],
          "scatter3d": [
           {
            "line": {
             "colorbar": {
              "outlinewidth": 0,
              "ticks": ""
             }
            },
            "marker": {
             "colorbar": {
              "outlinewidth": 0,
              "ticks": ""
             }
            },
            "type": "scatter3d"
           }
          ],
          "scattercarpet": [
           {
            "marker": {
             "colorbar": {
              "outlinewidth": 0,
              "ticks": ""
             }
            },
            "type": "scattercarpet"
           }
          ],
          "scattergeo": [
           {
            "marker": {
             "colorbar": {
              "outlinewidth": 0,
              "ticks": ""
             }
            },
            "type": "scattergeo"
           }
          ],
          "scattergl": [
           {
            "marker": {
             "line": {
              "color": "#283442"
             }
            },
            "type": "scattergl"
           }
          ],
          "scattermapbox": [
           {
            "marker": {
             "colorbar": {
              "outlinewidth": 0,
              "ticks": ""
             }
            },
            "type": "scattermapbox"
           }
          ],
          "scattermap": [
           {
            "marker": {
             "colorbar": {
              "outlinewidth": 0,
              "ticks": ""
             }
            },
            "type": "scattermap"
           }
          ],
          "scatterpolargl": [
           {
            "marker": {
             "colorbar": {
              "outlinewidth": 0,
              "ticks": ""
             }
            },
            "type": "scatterpolargl"
           }
          ],
          "scatterpolar": [
           {
            "marker": {
             "colorbar": {
              "outlinewidth": 0,
              "ticks": ""
             }
            },
            "type": "scatterpolar"
           }
          ],
          "scatter": [
           {
            "marker": {
             "line": {
              "color": "#283442"
             }
            },
            "type": "scatter"
           }
          ],
          "scatterternary": [
           {
            "marker": {
             "colorbar": {
              "outlinewidth": 0,
              "ticks": ""
             }
            },
            "type": "scatterternary"
           }
          ],
          "surface": [
           {
            "colorbar": {
             "outlinewidth": 0,
             "ticks": ""
            },
            "colorscale": [
             [
              0.0,
              "#0d0887"
             ],
             [
              0.1111111111111111,
              "#46039f"
             ],
             [
              0.2222222222222222,
              "#7201a8"
             ],
             [
              0.3333333333333333,
              "#9c179e"
             ],
             [
              0.4444444444444444,
              "#bd3786"
             ],
             [
              0.5555555555555556,
              "#d8576b"
             ],
             [
              0.6666666666666666,
              "#ed7953"
             ],
             [
              0.7777777777777778,
              "#fb9f3a"
             ],
             [
              0.8888888888888888,
              "#fdca26"
             ],
             [
              1.0,
              "#f0f921"
             ]
            ],
            "type": "surface"
           }
          ],
          "table": [
           {
            "cells": {
             "fill": {
              "color": "#506784"
             },
             "line": {
              "color": "rgb(17,17,17)"
             }
            },
            "header": {
             "fill": {
              "color": "#2a3f5f"
             },
             "line": {
              "color": "rgb(17,17,17)"
             }
            },
            "type": "table"
           }
          ]
         },
         "layout": {
          "annotationdefaults": {
           "arrowcolor": "#f2f5fa",
           "arrowhead": 0,
           "arrowwidth": 1
          },
          "autotypenumbers": "strict",
          "coloraxis": {
           "colorbar": {
            "outlinewidth": 0,
            "ticks": ""
           }
          },
          "colorscale": {
           "diverging": [
            [
             0,
             "#8e0152"
            ],
            [
             0.1,
             "#c51b7d"
            ],
            [
             0.2,
             "#de77ae"
            ],
            [
             0.3,
             "#f1b6da"
            ],
            [
             0.4,
             "#fde0ef"
            ],
            [
             0.5,
             "#f7f7f7"
            ],
            [
             0.6,
             "#e6f5d0"
            ],
            [
             0.7,
             "#b8e186"
            ],
            [
             0.8,
             "#7fbc41"
            ],
            [
             0.9,
             "#4d9221"
            ],
            [
             1,
             "#276419"
            ]
           ],
           "sequential": [
            [
             0.0,
             "#0d0887"
            ],
            [
             0.1111111111111111,
             "#46039f"
            ],
            [
             0.2222222222222222,
             "#7201a8"
            ],
            [
             0.3333333333333333,
             "#9c179e"
            ],
            [
             0.4444444444444444,
             "#bd3786"
            ],
            [
             0.5555555555555556,
             "#d8576b"
            ],
            [
             0.6666666666666666,
             "#ed7953"
            ],
            [
             0.7777777777777778,
             "#fb9f3a"
            ],
            [
             0.8888888888888888,
             "#fdca26"
            ],
            [
             1.0,
             "#f0f921"
            ]
           ],
           "sequentialminus": [
            [
             0.0,
             "#0d0887"
            ],
            [
             0.1111111111111111,
             "#46039f"
            ],
            [
             0.2222222222222222,
             "#7201a8"
            ],
            [
             0.3333333333333333,
             "#9c179e"
            ],
            [
             0.4444444444444444,
             "#bd3786"
            ],
            [
             0.5555555555555556,
             "#d8576b"
            ],
            [
             0.6666666666666666,
             "#ed7953"
            ],
            [
             0.7777777777777778,
             "#fb9f3a"
            ],
            [
             0.8888888888888888,
             "#fdca26"
            ],
            [
             1.0,
             "#f0f921"
            ]
           ]
          },
          "colorway": [
           "#636efa",
           "#EF553B",
           "#00cc96",
           "#ab63fa",
           "#FFA15A",
           "#19d3f3",
           "#FF6692",
           "#B6E880",
           "#FF97FF",
           "#FECB52"
          ],
          "font": {
           "color": "#f2f5fa"
          },
          "geo": {
           "bgcolor": "rgb(17,17,17)",
           "lakecolor": "rgb(17,17,17)",
           "landcolor": "rgb(17,17,17)",
           "showlakes": true,
           "showland": true,
           "subunitcolor": "#506784"
          },
          "hoverlabel": {
           "align": "left"
          },
          "hovermode": "closest",
          "mapbox": {
           "style": "dark"
          },
          "paper_bgcolor": "rgb(17,17,17)",
          "plot_bgcolor": "rgb(17,17,17)",
          "polar": {
           "angularaxis": {
            "gridcolor": "#506784",
            "linecolor": "#506784",
            "ticks": ""
           },
           "bgcolor": "rgb(17,17,17)",
           "radialaxis": {
            "gridcolor": "#506784",
            "linecolor": "#506784",
            "ticks": ""
           }
          },
          "scene": {
           "xaxis": {
            "backgroundcolor": "rgb(17,17,17)",
            "gridcolor": "#506784",
            "gridwidth": 2,
            "linecolor": "#506784",
            "showbackground": true,
            "ticks": "",
            "zerolinecolor": "#C8D4E3"
           },
           "yaxis": {
            "backgroundcolor": "rgb(17,17,17)",
            "gridcolor": "#506784",
            "gridwidth": 2,
            "linecolor": "#506784",
            "showbackground": true,
            "ticks": "",
            "zerolinecolor": "#C8D4E3"
           },
           "zaxis": {
            "backgroundcolor": "rgb(17,17,17)",
            "gridcolor": "#506784",
            "gridwidth": 2,
            "linecolor": "#506784",
            "showbackground": true,
            "ticks": "",
            "zerolinecolor": "#C8D4E3"
           }
          },
          "shapedefaults": {
           "line": {
            "color": "#f2f5fa"
           }
          },
          "sliderdefaults": {
           "bgcolor": "#C8D4E3",
           "bordercolor": "rgb(17,17,17)",
           "borderwidth": 1,
           "tickwidth": 0
          },
          "ternary": {
           "aaxis": {
            "gridcolor": "#506784",
            "linecolor": "#506784",
            "ticks": ""
           },
           "baxis": {
            "gridcolor": "#506784",
            "linecolor": "#506784",
            "ticks": ""
           },
           "bgcolor": "rgb(17,17,17)",
           "caxis": {
            "gridcolor": "#506784",
            "linecolor": "#506784",
            "ticks": ""
           }
          },
          "title": {
           "x": 0.05
          },
          "updatemenudefaults": {
           "bgcolor": "#506784",
           "borderwidth": 0
          },
          "xaxis": {
           "automargin": true,
           "gridcolor": "#283442",
           "linecolor": "#506784",
           "ticks": "",
           "title": {
            "standoff": 15
           },
           "zerolinecolor": "#283442",
           "zerolinewidth": 2
          },
          "yaxis": {
           "automargin": true,
           "gridcolor": "#283442",
           "linecolor": "#506784",
           "ticks": "",
           "title": {
            "standoff": 15
           },
           "zerolinecolor": "#283442",
           "zerolinewidth": 2
          }
         }
        },
        "xaxis": {
         "anchor": "y",
         "domain": [
          0.0,
          1.0
         ],
         "title": {
          "text": "Player"
         },
         "tickangle": -45
        },
        "yaxis": {
         "anchor": "x",
         "domain": [
          0.0,
          1.0
         ],
         "title": {
          "text": "Goals"
         }
        },
        "legend": {
         "title": {
          "text": "Position"
         },
         "tracegroupgap": 0
        },
        "title": {
         "text": "Rating per Player"
        }
       },
       "config": {
        "plotlyServerURL": "https://plot.ly"
       }
      }
     },
     "metadata": {},
     "output_type": "display_data"
    }
   ],
   "execution_count": 31
  },
  {
   "metadata": {
    "ExecuteTime": {
     "end_time": "2025-06-12T15:23:32.977837Z",
     "start_time": "2025-06-12T15:23:32.865042Z"
    }
   },
   "cell_type": "code",
   "source": [
    "nationality_counts = ucl['Nationality'].value_counts().reset_index()\n",
    "nationality_counts.columns = ['Nationality', 'Count']\n",
    "\n",
    "fig = px.choropleth(\n",
    "    nationality_counts,\n",
    "    locations='Nationality',\n",
    "    locationmode='country names',\n",
    "    color='Count',\n",
    "    title='Shpërndarja e Lojtarëve sipas Kombësisë'\n",
    ")\n",
    "\n",
    "fig.update_layout(\n",
    "    margin=dict(t=40, l=0, r=0, b=0),\n",
    "    width=800,\n",
    "    height=600,\n",
    "    geo=dict(showland=True, landcolor='rgb(217, 217, 217)')\n",
    ")\n",
    "fig.show()"
   ],
   "id": "27bf947203e1d193",
   "outputs": [
    {
     "data": {
      "application/vnd.plotly.v1+json": {
       "data": [
        {
         "coloraxis": "coloraxis",
         "geo": "geo",
         "hovertemplate": "Nationality=%{location}<br>Count=%{z}<extra></extra>",
         "locationmode": "country names",
         "locations": [
          "France",
          "Netherlands",
          "Germany",
          "Spain",
          "Brazil",
          "Italy",
          "England",
          "Argentina",
          "Belgium",
          "Portugal",
          "Switzerland",
          "Turkey",
          "Norway",
          "Croatia",
          "Morocco",
          "Poland",
          "Denmark",
          "Canada",
          "Uruguay",
          "Scotland",
          "United States",
          "Slovenia",
          "Japan",
          "Ecuador",
          "Ukraine",
          "Ivory Coast",
          "Greece",
          "Georgia",
          "Colombia",
          "Nigeria",
          "Algeria",
          "Hungary",
          "Iran",
          "Mexico",
          "Armenia",
          "Portugal ",
          "BosniaH",
          "Senegal",
          "South Korea",
          "Egypt",
          "Sweden",
          "Ghana",
          "Austria",
          "Russia"
         ],
         "name": "",
         "z": {
          "dtype": "i1",
          "bdata": "GBIQEA8LCwoJCQYFBAQDAwMDAwMCAgICAgICAgICAQEBAQEBAQEBAQEBAQE="
         },
         "type": "choropleth"
        }
       ],
       "layout": {
        "template": {
         "data": {
          "histogram2dcontour": [
           {
            "type": "histogram2dcontour",
            "colorbar": {
             "outlinewidth": 0,
             "ticks": ""
            },
            "colorscale": [
             [
              0.0,
              "#0d0887"
             ],
             [
              0.1111111111111111,
              "#46039f"
             ],
             [
              0.2222222222222222,
              "#7201a8"
             ],
             [
              0.3333333333333333,
              "#9c179e"
             ],
             [
              0.4444444444444444,
              "#bd3786"
             ],
             [
              0.5555555555555556,
              "#d8576b"
             ],
             [
              0.6666666666666666,
              "#ed7953"
             ],
             [
              0.7777777777777778,
              "#fb9f3a"
             ],
             [
              0.8888888888888888,
              "#fdca26"
             ],
             [
              1.0,
              "#f0f921"
             ]
            ]
           }
          ],
          "choropleth": [
           {
            "type": "choropleth",
            "colorbar": {
             "outlinewidth": 0,
             "ticks": ""
            }
           }
          ],
          "histogram2d": [
           {
            "type": "histogram2d",
            "colorbar": {
             "outlinewidth": 0,
             "ticks": ""
            },
            "colorscale": [
             [
              0.0,
              "#0d0887"
             ],
             [
              0.1111111111111111,
              "#46039f"
             ],
             [
              0.2222222222222222,
              "#7201a8"
             ],
             [
              0.3333333333333333,
              "#9c179e"
             ],
             [
              0.4444444444444444,
              "#bd3786"
             ],
             [
              0.5555555555555556,
              "#d8576b"
             ],
             [
              0.6666666666666666,
              "#ed7953"
             ],
             [
              0.7777777777777778,
              "#fb9f3a"
             ],
             [
              0.8888888888888888,
              "#fdca26"
             ],
             [
              1.0,
              "#f0f921"
             ]
            ]
           }
          ],
          "heatmap": [
           {
            "type": "heatmap",
            "colorbar": {
             "outlinewidth": 0,
             "ticks": ""
            },
            "colorscale": [
             [
              0.0,
              "#0d0887"
             ],
             [
              0.1111111111111111,
              "#46039f"
             ],
             [
              0.2222222222222222,
              "#7201a8"
             ],
             [
              0.3333333333333333,
              "#9c179e"
             ],
             [
              0.4444444444444444,
              "#bd3786"
             ],
             [
              0.5555555555555556,
              "#d8576b"
             ],
             [
              0.6666666666666666,
              "#ed7953"
             ],
             [
              0.7777777777777778,
              "#fb9f3a"
             ],
             [
              0.8888888888888888,
              "#fdca26"
             ],
             [
              1.0,
              "#f0f921"
             ]
            ]
           }
          ],
          "contourcarpet": [
           {
            "type": "contourcarpet",
            "colorbar": {
             "outlinewidth": 0,
             "ticks": ""
            }
           }
          ],
          "contour": [
           {
            "type": "contour",
            "colorbar": {
             "outlinewidth": 0,
             "ticks": ""
            },
            "colorscale": [
             [
              0.0,
              "#0d0887"
             ],
             [
              0.1111111111111111,
              "#46039f"
             ],
             [
              0.2222222222222222,
              "#7201a8"
             ],
             [
              0.3333333333333333,
              "#9c179e"
             ],
             [
              0.4444444444444444,
              "#bd3786"
             ],
             [
              0.5555555555555556,
              "#d8576b"
             ],
             [
              0.6666666666666666,
              "#ed7953"
             ],
             [
              0.7777777777777778,
              "#fb9f3a"
             ],
             [
              0.8888888888888888,
              "#fdca26"
             ],
             [
              1.0,
              "#f0f921"
             ]
            ]
           }
          ],
          "surface": [
           {
            "type": "surface",
            "colorbar": {
             "outlinewidth": 0,
             "ticks": ""
            },
            "colorscale": [
             [
              0.0,
              "#0d0887"
             ],
             [
              0.1111111111111111,
              "#46039f"
             ],
             [
              0.2222222222222222,
              "#7201a8"
             ],
             [
              0.3333333333333333,
              "#9c179e"
             ],
             [
              0.4444444444444444,
              "#bd3786"
             ],
             [
              0.5555555555555556,
              "#d8576b"
             ],
             [
              0.6666666666666666,
              "#ed7953"
             ],
             [
              0.7777777777777778,
              "#fb9f3a"
             ],
             [
              0.8888888888888888,
              "#fdca26"
             ],
             [
              1.0,
              "#f0f921"
             ]
            ]
           }
          ],
          "mesh3d": [
           {
            "type": "mesh3d",
            "colorbar": {
             "outlinewidth": 0,
             "ticks": ""
            }
           }
          ],
          "scatter": [
           {
            "fillpattern": {
             "fillmode": "overlay",
             "size": 10,
             "solidity": 0.2
            },
            "type": "scatter"
           }
          ],
          "parcoords": [
           {
            "type": "parcoords",
            "line": {
             "colorbar": {
              "outlinewidth": 0,
              "ticks": ""
             }
            }
           }
          ],
          "scatterpolargl": [
           {
            "type": "scatterpolargl",
            "marker": {
             "colorbar": {
              "outlinewidth": 0,
              "ticks": ""
             }
            }
           }
          ],
          "bar": [
           {
            "error_x": {
             "color": "#2a3f5f"
            },
            "error_y": {
             "color": "#2a3f5f"
            },
            "marker": {
             "line": {
              "color": "#E5ECF6",
              "width": 0.5
             },
             "pattern": {
              "fillmode": "overlay",
              "size": 10,
              "solidity": 0.2
             }
            },
            "type": "bar"
           }
          ],
          "scattergeo": [
           {
            "type": "scattergeo",
            "marker": {
             "colorbar": {
              "outlinewidth": 0,
              "ticks": ""
             }
            }
           }
          ],
          "scatterpolar": [
           {
            "type": "scatterpolar",
            "marker": {
             "colorbar": {
              "outlinewidth": 0,
              "ticks": ""
             }
            }
           }
          ],
          "histogram": [
           {
            "marker": {
             "pattern": {
              "fillmode": "overlay",
              "size": 10,
              "solidity": 0.2
             }
            },
            "type": "histogram"
           }
          ],
          "scattergl": [
           {
            "type": "scattergl",
            "marker": {
             "colorbar": {
              "outlinewidth": 0,
              "ticks": ""
             }
            }
           }
          ],
          "scatter3d": [
           {
            "type": "scatter3d",
            "line": {
             "colorbar": {
              "outlinewidth": 0,
              "ticks": ""
             }
            },
            "marker": {
             "colorbar": {
              "outlinewidth": 0,
              "ticks": ""
             }
            }
           }
          ],
          "scattermap": [
           {
            "type": "scattermap",
            "marker": {
             "colorbar": {
              "outlinewidth": 0,
              "ticks": ""
             }
            }
           }
          ],
          "scattermapbox": [
           {
            "type": "scattermapbox",
            "marker": {
             "colorbar": {
              "outlinewidth": 0,
              "ticks": ""
             }
            }
           }
          ],
          "scatterternary": [
           {
            "type": "scatterternary",
            "marker": {
             "colorbar": {
              "outlinewidth": 0,
              "ticks": ""
             }
            }
           }
          ],
          "scattercarpet": [
           {
            "type": "scattercarpet",
            "marker": {
             "colorbar": {
              "outlinewidth": 0,
              "ticks": ""
             }
            }
           }
          ],
          "carpet": [
           {
            "aaxis": {
             "endlinecolor": "#2a3f5f",
             "gridcolor": "white",
             "linecolor": "white",
             "minorgridcolor": "white",
             "startlinecolor": "#2a3f5f"
            },
            "baxis": {
             "endlinecolor": "#2a3f5f",
             "gridcolor": "white",
             "linecolor": "white",
             "minorgridcolor": "white",
             "startlinecolor": "#2a3f5f"
            },
            "type": "carpet"
           }
          ],
          "table": [
           {
            "cells": {
             "fill": {
              "color": "#EBF0F8"
             },
             "line": {
              "color": "white"
             }
            },
            "header": {
             "fill": {
              "color": "#C8D4E3"
             },
             "line": {
              "color": "white"
             }
            },
            "type": "table"
           }
          ],
          "barpolar": [
           {
            "marker": {
             "line": {
              "color": "#E5ECF6",
              "width": 0.5
             },
             "pattern": {
              "fillmode": "overlay",
              "size": 10,
              "solidity": 0.2
             }
            },
            "type": "barpolar"
           }
          ],
          "pie": [
           {
            "automargin": true,
            "type": "pie"
           }
          ]
         },
         "layout": {
          "autotypenumbers": "strict",
          "colorway": [
           "#636efa",
           "#EF553B",
           "#00cc96",
           "#ab63fa",
           "#FFA15A",
           "#19d3f3",
           "#FF6692",
           "#B6E880",
           "#FF97FF",
           "#FECB52"
          ],
          "font": {
           "color": "#2a3f5f"
          },
          "hovermode": "closest",
          "hoverlabel": {
           "align": "left"
          },
          "paper_bgcolor": "white",
          "plot_bgcolor": "#E5ECF6",
          "polar": {
           "bgcolor": "#E5ECF6",
           "angularaxis": {
            "gridcolor": "white",
            "linecolor": "white",
            "ticks": ""
           },
           "radialaxis": {
            "gridcolor": "white",
            "linecolor": "white",
            "ticks": ""
           }
          },
          "ternary": {
           "bgcolor": "#E5ECF6",
           "aaxis": {
            "gridcolor": "white",
            "linecolor": "white",
            "ticks": ""
           },
           "baxis": {
            "gridcolor": "white",
            "linecolor": "white",
            "ticks": ""
           },
           "caxis": {
            "gridcolor": "white",
            "linecolor": "white",
            "ticks": ""
           }
          },
          "coloraxis": {
           "colorbar": {
            "outlinewidth": 0,
            "ticks": ""
           }
          },
          "colorscale": {
           "sequential": [
            [
             0.0,
             "#0d0887"
            ],
            [
             0.1111111111111111,
             "#46039f"
            ],
            [
             0.2222222222222222,
             "#7201a8"
            ],
            [
             0.3333333333333333,
             "#9c179e"
            ],
            [
             0.4444444444444444,
             "#bd3786"
            ],
            [
             0.5555555555555556,
             "#d8576b"
            ],
            [
             0.6666666666666666,
             "#ed7953"
            ],
            [
             0.7777777777777778,
             "#fb9f3a"
            ],
            [
             0.8888888888888888,
             "#fdca26"
            ],
            [
             1.0,
             "#f0f921"
            ]
           ],
           "sequentialminus": [
            [
             0.0,
             "#0d0887"
            ],
            [
             0.1111111111111111,
             "#46039f"
            ],
            [
             0.2222222222222222,
             "#7201a8"
            ],
            [
             0.3333333333333333,
             "#9c179e"
            ],
            [
             0.4444444444444444,
             "#bd3786"
            ],
            [
             0.5555555555555556,
             "#d8576b"
            ],
            [
             0.6666666666666666,
             "#ed7953"
            ],
            [
             0.7777777777777778,
             "#fb9f3a"
            ],
            [
             0.8888888888888888,
             "#fdca26"
            ],
            [
             1.0,
             "#f0f921"
            ]
           ],
           "diverging": [
            [
             0,
             "#8e0152"
            ],
            [
             0.1,
             "#c51b7d"
            ],
            [
             0.2,
             "#de77ae"
            ],
            [
             0.3,
             "#f1b6da"
            ],
            [
             0.4,
             "#fde0ef"
            ],
            [
             0.5,
             "#f7f7f7"
            ],
            [
             0.6,
             "#e6f5d0"
            ],
            [
             0.7,
             "#b8e186"
            ],
            [
             0.8,
             "#7fbc41"
            ],
            [
             0.9,
             "#4d9221"
            ],
            [
             1,
             "#276419"
            ]
           ]
          },
          "xaxis": {
           "gridcolor": "white",
           "linecolor": "white",
           "ticks": "",
           "title": {
            "standoff": 15
           },
           "zerolinecolor": "white",
           "automargin": true,
           "zerolinewidth": 2
          },
          "yaxis": {
           "gridcolor": "white",
           "linecolor": "white",
           "ticks": "",
           "title": {
            "standoff": 15
           },
           "zerolinecolor": "white",
           "automargin": true,
           "zerolinewidth": 2
          },
          "scene": {
           "xaxis": {
            "backgroundcolor": "#E5ECF6",
            "gridcolor": "white",
            "linecolor": "white",
            "showbackground": true,
            "ticks": "",
            "zerolinecolor": "white",
            "gridwidth": 2
           },
           "yaxis": {
            "backgroundcolor": "#E5ECF6",
            "gridcolor": "white",
            "linecolor": "white",
            "showbackground": true,
            "ticks": "",
            "zerolinecolor": "white",
            "gridwidth": 2
           },
           "zaxis": {
            "backgroundcolor": "#E5ECF6",
            "gridcolor": "white",
            "linecolor": "white",
            "showbackground": true,
            "ticks": "",
            "zerolinecolor": "white",
            "gridwidth": 2
           }
          },
          "shapedefaults": {
           "line": {
            "color": "#2a3f5f"
           }
          },
          "annotationdefaults": {
           "arrowcolor": "#2a3f5f",
           "arrowhead": 0,
           "arrowwidth": 1
          },
          "geo": {
           "bgcolor": "white",
           "landcolor": "#E5ECF6",
           "subunitcolor": "white",
           "showland": true,
           "showlakes": true,
           "lakecolor": "white"
          },
          "title": {
           "x": 0.05
          },
          "mapbox": {
           "style": "light"
          }
         }
        },
        "geo": {
         "domain": {
          "x": [
           0.0,
           1.0
          ],
          "y": [
           0.0,
           1.0
          ]
         },
         "center": {},
         "showland": true,
         "landcolor": "rgb(217, 217, 217)"
        },
        "coloraxis": {
         "colorbar": {
          "title": {
           "text": "Count"
          }
         },
         "colorscale": [
          [
           0.0,
           "#0d0887"
          ],
          [
           0.1111111111111111,
           "#46039f"
          ],
          [
           0.2222222222222222,
           "#7201a8"
          ],
          [
           0.3333333333333333,
           "#9c179e"
          ],
          [
           0.4444444444444444,
           "#bd3786"
          ],
          [
           0.5555555555555556,
           "#d8576b"
          ],
          [
           0.6666666666666666,
           "#ed7953"
          ],
          [
           0.7777777777777778,
           "#fb9f3a"
          ],
          [
           0.8888888888888888,
           "#fdca26"
          ],
          [
           1.0,
           "#f0f921"
          ]
         ]
        },
        "legend": {
         "tracegroupgap": 0
        },
        "title": {
         "text": "Shpërndarja e Lojtarëve sipas Kombësisë"
        },
        "margin": {
         "t": 40,
         "l": 0,
         "r": 0,
         "b": 0
        },
        "width": 800,
        "height": 600
       },
       "config": {
        "plotlyServerURL": "https://plot.ly"
       }
      }
     },
     "metadata": {},
     "output_type": "display_data"
    }
   ],
   "execution_count": 32
  },
  {
   "metadata": {},
   "cell_type": "markdown",
   "source": "#### 🏆 Champions League Player of the Season and 3 Nominees for Ballon d'Or 2025",
   "id": "1535c6e83751c1ab"
  },
  {
   "metadata": {
    "ExecuteTime": {
     "end_time": "2025-06-12T15:33:46.142970Z",
     "start_time": "2025-06-12T15:33:46.131457Z"
    }
   },
   "cell_type": "code",
   "source": [
    "ucl['Best_Player_Performance'] = (\n",
    "    ucl['Minutes_played'] * 0.006 +\n",
    "    ucl['DistanceCovered(km)'] * 0.008 +\n",
    "    ucl['Goals'] * 0.6 +\n",
    "    ucl['Assists'] * 0.6 +\n",
    "    ucl['Rating'] * 2 +\n",
    "    ucl['Total_attempts'] * 0.6 +\n",
    "    ucl['Dribbles'] * 0.2\n",
    ")"
   ],
   "id": "9a4d09ebdcf1ced",
   "outputs": [],
   "execution_count": 37
  },
  {
   "metadata": {
    "ExecuteTime": {
     "end_time": "2025-06-12T15:34:39.435818Z",
     "start_time": "2025-06-12T15:34:39.418517Z"
    }
   },
   "cell_type": "code",
   "source": [
    "best_player = ucl.sort_values('Best_Player_Performance', ascending=False).head(3)\n",
    "best_player[['Player','Age','Team','Best_Player_Performance']]"
   ],
   "id": "1f4c2f793b4e0e62",
   "outputs": [
    {
     "data": {
      "text/plain": [
       "      Player  Age       Team  Best_Player_Performance\n",
       "75   Dembele   27   Paris SG                  83.0068\n",
       "15     Yamal   17  Barcelona                  81.0564\n",
       "3   Raphinha   28  Barcelona                  74.1844"
      ],
      "text/html": [
       "<div>\n",
       "<style scoped>\n",
       "    .dataframe tbody tr th:only-of-type {\n",
       "        vertical-align: middle;\n",
       "    }\n",
       "\n",
       "    .dataframe tbody tr th {\n",
       "        vertical-align: top;\n",
       "    }\n",
       "\n",
       "    .dataframe thead th {\n",
       "        text-align: right;\n",
       "    }\n",
       "</style>\n",
       "<table border=\"1\" class=\"dataframe\">\n",
       "  <thead>\n",
       "    <tr style=\"text-align: right;\">\n",
       "      <th></th>\n",
       "      <th>Player</th>\n",
       "      <th>Age</th>\n",
       "      <th>Team</th>\n",
       "      <th>Best_Player_Performance</th>\n",
       "    </tr>\n",
       "  </thead>\n",
       "  <tbody>\n",
       "    <tr>\n",
       "      <th>75</th>\n",
       "      <td>Dembele</td>\n",
       "      <td>27</td>\n",
       "      <td>Paris SG</td>\n",
       "      <td>83.0068</td>\n",
       "    </tr>\n",
       "    <tr>\n",
       "      <th>15</th>\n",
       "      <td>Yamal</td>\n",
       "      <td>17</td>\n",
       "      <td>Barcelona</td>\n",
       "      <td>81.0564</td>\n",
       "    </tr>\n",
       "    <tr>\n",
       "      <th>3</th>\n",
       "      <td>Raphinha</td>\n",
       "      <td>28</td>\n",
       "      <td>Barcelona</td>\n",
       "      <td>74.1844</td>\n",
       "    </tr>\n",
       "  </tbody>\n",
       "</table>\n",
       "</div>"
      ]
     },
     "execution_count": 40,
     "metadata": {},
     "output_type": "execute_result"
    }
   ],
   "execution_count": 40
  },
  {
   "metadata": {
    "ExecuteTime": {
     "end_time": "2025-06-12T15:50:51.635287Z",
     "start_time": "2025-06-12T15:50:51.563975Z"
    }
   },
   "cell_type": "code",
   "source": [
    "fig = px.bar(\n",
    "    best_player,\n",
    "    x='Player',\n",
    "    y='Best_Player_Performance',\n",
    "    color='Team',\n",
    "    text='Best_Player_Performance',\n",
    "    title=\"Champions League Player of the Season and 3 Nominees for Ballon d'Or 2025🥇⚽\",\n",
    ")\n",
    "\n",
    "# Formatim\n",
    "fig.update_traces(textposition='outside')\n",
    "fig.update_layout(\n",
    "    yaxis_title='Performance Score',\n",
    "    xaxis_title='Player',\n",
    "    title_font_size=18\n",
    ")\n",
    "\n",
    "fig.show()"
   ],
   "id": "46641617b2480412",
   "outputs": [
    {
     "data": {
      "application/vnd.plotly.v1+json": {
       "data": [
        {
         "hovertemplate": "Team=Paris SG<br>Player=%{x}<br>Best_Player_Performance=%{text}<extra></extra>",
         "legendgroup": "Paris SG",
         "marker": {
          "color": "#636efa",
          "pattern": {
           "shape": ""
          }
         },
         "name": "Paris SG",
         "orientation": "v",
         "showlegend": true,
         "text": {
          "dtype": "f8",
          "bdata": "OGdEaW/AVEA="
         },
         "textposition": "outside",
         "x": [
          "Dembele"
         ],
         "xaxis": "x",
         "y": {
          "dtype": "f8",
          "bdata": "OGdEaW/AVEA="
         },
         "yaxis": "y",
         "type": "bar"
        },
        {
         "hovertemplate": "Team=Barcelona<br>Player=%{x}<br>Best_Player_Performance=%{text}<extra></extra>",
         "legendgroup": "Barcelona",
         "marker": {
          "color": "#EF553B",
          "pattern": {
           "shape": ""
          }
         },
         "name": "Barcelona",
         "orientation": "v",
         "showlegend": true,
         "text": {
          "dtype": "f8",
          "bdata": "pN++DpxDVEB5WKg1zYtSQA=="
         },
         "textposition": "outside",
         "x": [
          "Yamal",
          "Raphinha"
         ],
         "xaxis": "x",
         "y": {
          "dtype": "f8",
          "bdata": "pN++DpxDVEB5WKg1zYtSQA=="
         },
         "yaxis": "y",
         "type": "bar"
        }
       ],
       "layout": {
        "template": {
         "data": {
          "histogram2dcontour": [
           {
            "type": "histogram2dcontour",
            "colorbar": {
             "outlinewidth": 0,
             "ticks": ""
            },
            "colorscale": [
             [
              0.0,
              "#0d0887"
             ],
             [
              0.1111111111111111,
              "#46039f"
             ],
             [
              0.2222222222222222,
              "#7201a8"
             ],
             [
              0.3333333333333333,
              "#9c179e"
             ],
             [
              0.4444444444444444,
              "#bd3786"
             ],
             [
              0.5555555555555556,
              "#d8576b"
             ],
             [
              0.6666666666666666,
              "#ed7953"
             ],
             [
              0.7777777777777778,
              "#fb9f3a"
             ],
             [
              0.8888888888888888,
              "#fdca26"
             ],
             [
              1.0,
              "#f0f921"
             ]
            ]
           }
          ],
          "choropleth": [
           {
            "type": "choropleth",
            "colorbar": {
             "outlinewidth": 0,
             "ticks": ""
            }
           }
          ],
          "histogram2d": [
           {
            "type": "histogram2d",
            "colorbar": {
             "outlinewidth": 0,
             "ticks": ""
            },
            "colorscale": [
             [
              0.0,
              "#0d0887"
             ],
             [
              0.1111111111111111,
              "#46039f"
             ],
             [
              0.2222222222222222,
              "#7201a8"
             ],
             [
              0.3333333333333333,
              "#9c179e"
             ],
             [
              0.4444444444444444,
              "#bd3786"
             ],
             [
              0.5555555555555556,
              "#d8576b"
             ],
             [
              0.6666666666666666,
              "#ed7953"
             ],
             [
              0.7777777777777778,
              "#fb9f3a"
             ],
             [
              0.8888888888888888,
              "#fdca26"
             ],
             [
              1.0,
              "#f0f921"
             ]
            ]
           }
          ],
          "heatmap": [
           {
            "type": "heatmap",
            "colorbar": {
             "outlinewidth": 0,
             "ticks": ""
            },
            "colorscale": [
             [
              0.0,
              "#0d0887"
             ],
             [
              0.1111111111111111,
              "#46039f"
             ],
             [
              0.2222222222222222,
              "#7201a8"
             ],
             [
              0.3333333333333333,
              "#9c179e"
             ],
             [
              0.4444444444444444,
              "#bd3786"
             ],
             [
              0.5555555555555556,
              "#d8576b"
             ],
             [
              0.6666666666666666,
              "#ed7953"
             ],
             [
              0.7777777777777778,
              "#fb9f3a"
             ],
             [
              0.8888888888888888,
              "#fdca26"
             ],
             [
              1.0,
              "#f0f921"
             ]
            ]
           }
          ],
          "contourcarpet": [
           {
            "type": "contourcarpet",
            "colorbar": {
             "outlinewidth": 0,
             "ticks": ""
            }
           }
          ],
          "contour": [
           {
            "type": "contour",
            "colorbar": {
             "outlinewidth": 0,
             "ticks": ""
            },
            "colorscale": [
             [
              0.0,
              "#0d0887"
             ],
             [
              0.1111111111111111,
              "#46039f"
             ],
             [
              0.2222222222222222,
              "#7201a8"
             ],
             [
              0.3333333333333333,
              "#9c179e"
             ],
             [
              0.4444444444444444,
              "#bd3786"
             ],
             [
              0.5555555555555556,
              "#d8576b"
             ],
             [
              0.6666666666666666,
              "#ed7953"
             ],
             [
              0.7777777777777778,
              "#fb9f3a"
             ],
             [
              0.8888888888888888,
              "#fdca26"
             ],
             [
              1.0,
              "#f0f921"
             ]
            ]
           }
          ],
          "surface": [
           {
            "type": "surface",
            "colorbar": {
             "outlinewidth": 0,
             "ticks": ""
            },
            "colorscale": [
             [
              0.0,
              "#0d0887"
             ],
             [
              0.1111111111111111,
              "#46039f"
             ],
             [
              0.2222222222222222,
              "#7201a8"
             ],
             [
              0.3333333333333333,
              "#9c179e"
             ],
             [
              0.4444444444444444,
              "#bd3786"
             ],
             [
              0.5555555555555556,
              "#d8576b"
             ],
             [
              0.6666666666666666,
              "#ed7953"
             ],
             [
              0.7777777777777778,
              "#fb9f3a"
             ],
             [
              0.8888888888888888,
              "#fdca26"
             ],
             [
              1.0,
              "#f0f921"
             ]
            ]
           }
          ],
          "mesh3d": [
           {
            "type": "mesh3d",
            "colorbar": {
             "outlinewidth": 0,
             "ticks": ""
            }
           }
          ],
          "scatter": [
           {
            "fillpattern": {
             "fillmode": "overlay",
             "size": 10,
             "solidity": 0.2
            },
            "type": "scatter"
           }
          ],
          "parcoords": [
           {
            "type": "parcoords",
            "line": {
             "colorbar": {
              "outlinewidth": 0,
              "ticks": ""
             }
            }
           }
          ],
          "scatterpolargl": [
           {
            "type": "scatterpolargl",
            "marker": {
             "colorbar": {
              "outlinewidth": 0,
              "ticks": ""
             }
            }
           }
          ],
          "bar": [
           {
            "error_x": {
             "color": "#2a3f5f"
            },
            "error_y": {
             "color": "#2a3f5f"
            },
            "marker": {
             "line": {
              "color": "#E5ECF6",
              "width": 0.5
             },
             "pattern": {
              "fillmode": "overlay",
              "size": 10,
              "solidity": 0.2
             }
            },
            "type": "bar"
           }
          ],
          "scattergeo": [
           {
            "type": "scattergeo",
            "marker": {
             "colorbar": {
              "outlinewidth": 0,
              "ticks": ""
             }
            }
           }
          ],
          "scatterpolar": [
           {
            "type": "scatterpolar",
            "marker": {
             "colorbar": {
              "outlinewidth": 0,
              "ticks": ""
             }
            }
           }
          ],
          "histogram": [
           {
            "marker": {
             "pattern": {
              "fillmode": "overlay",
              "size": 10,
              "solidity": 0.2
             }
            },
            "type": "histogram"
           }
          ],
          "scattergl": [
           {
            "type": "scattergl",
            "marker": {
             "colorbar": {
              "outlinewidth": 0,
              "ticks": ""
             }
            }
           }
          ],
          "scatter3d": [
           {
            "type": "scatter3d",
            "line": {
             "colorbar": {
              "outlinewidth": 0,
              "ticks": ""
             }
            },
            "marker": {
             "colorbar": {
              "outlinewidth": 0,
              "ticks": ""
             }
            }
           }
          ],
          "scattermap": [
           {
            "type": "scattermap",
            "marker": {
             "colorbar": {
              "outlinewidth": 0,
              "ticks": ""
             }
            }
           }
          ],
          "scattermapbox": [
           {
            "type": "scattermapbox",
            "marker": {
             "colorbar": {
              "outlinewidth": 0,
              "ticks": ""
             }
            }
           }
          ],
          "scatterternary": [
           {
            "type": "scatterternary",
            "marker": {
             "colorbar": {
              "outlinewidth": 0,
              "ticks": ""
             }
            }
           }
          ],
          "scattercarpet": [
           {
            "type": "scattercarpet",
            "marker": {
             "colorbar": {
              "outlinewidth": 0,
              "ticks": ""
             }
            }
           }
          ],
          "carpet": [
           {
            "aaxis": {
             "endlinecolor": "#2a3f5f",
             "gridcolor": "white",
             "linecolor": "white",
             "minorgridcolor": "white",
             "startlinecolor": "#2a3f5f"
            },
            "baxis": {
             "endlinecolor": "#2a3f5f",
             "gridcolor": "white",
             "linecolor": "white",
             "minorgridcolor": "white",
             "startlinecolor": "#2a3f5f"
            },
            "type": "carpet"
           }
          ],
          "table": [
           {
            "cells": {
             "fill": {
              "color": "#EBF0F8"
             },
             "line": {
              "color": "white"
             }
            },
            "header": {
             "fill": {
              "color": "#C8D4E3"
             },
             "line": {
              "color": "white"
             }
            },
            "type": "table"
           }
          ],
          "barpolar": [
           {
            "marker": {
             "line": {
              "color": "#E5ECF6",
              "width": 0.5
             },
             "pattern": {
              "fillmode": "overlay",
              "size": 10,
              "solidity": 0.2
             }
            },
            "type": "barpolar"
           }
          ],
          "pie": [
           {
            "automargin": true,
            "type": "pie"
           }
          ]
         },
         "layout": {
          "autotypenumbers": "strict",
          "colorway": [
           "#636efa",
           "#EF553B",
           "#00cc96",
           "#ab63fa",
           "#FFA15A",
           "#19d3f3",
           "#FF6692",
           "#B6E880",
           "#FF97FF",
           "#FECB52"
          ],
          "font": {
           "color": "#2a3f5f"
          },
          "hovermode": "closest",
          "hoverlabel": {
           "align": "left"
          },
          "paper_bgcolor": "white",
          "plot_bgcolor": "#E5ECF6",
          "polar": {
           "bgcolor": "#E5ECF6",
           "angularaxis": {
            "gridcolor": "white",
            "linecolor": "white",
            "ticks": ""
           },
           "radialaxis": {
            "gridcolor": "white",
            "linecolor": "white",
            "ticks": ""
           }
          },
          "ternary": {
           "bgcolor": "#E5ECF6",
           "aaxis": {
            "gridcolor": "white",
            "linecolor": "white",
            "ticks": ""
           },
           "baxis": {
            "gridcolor": "white",
            "linecolor": "white",
            "ticks": ""
           },
           "caxis": {
            "gridcolor": "white",
            "linecolor": "white",
            "ticks": ""
           }
          },
          "coloraxis": {
           "colorbar": {
            "outlinewidth": 0,
            "ticks": ""
           }
          },
          "colorscale": {
           "sequential": [
            [
             0.0,
             "#0d0887"
            ],
            [
             0.1111111111111111,
             "#46039f"
            ],
            [
             0.2222222222222222,
             "#7201a8"
            ],
            [
             0.3333333333333333,
             "#9c179e"
            ],
            [
             0.4444444444444444,
             "#bd3786"
            ],
            [
             0.5555555555555556,
             "#d8576b"
            ],
            [
             0.6666666666666666,
             "#ed7953"
            ],
            [
             0.7777777777777778,
             "#fb9f3a"
            ],
            [
             0.8888888888888888,
             "#fdca26"
            ],
            [
             1.0,
             "#f0f921"
            ]
           ],
           "sequentialminus": [
            [
             0.0,
             "#0d0887"
            ],
            [
             0.1111111111111111,
             "#46039f"
            ],
            [
             0.2222222222222222,
             "#7201a8"
            ],
            [
             0.3333333333333333,
             "#9c179e"
            ],
            [
             0.4444444444444444,
             "#bd3786"
            ],
            [
             0.5555555555555556,
             "#d8576b"
            ],
            [
             0.6666666666666666,
             "#ed7953"
            ],
            [
             0.7777777777777778,
             "#fb9f3a"
            ],
            [
             0.8888888888888888,
             "#fdca26"
            ],
            [
             1.0,
             "#f0f921"
            ]
           ],
           "diverging": [
            [
             0,
             "#8e0152"
            ],
            [
             0.1,
             "#c51b7d"
            ],
            [
             0.2,
             "#de77ae"
            ],
            [
             0.3,
             "#f1b6da"
            ],
            [
             0.4,
             "#fde0ef"
            ],
            [
             0.5,
             "#f7f7f7"
            ],
            [
             0.6,
             "#e6f5d0"
            ],
            [
             0.7,
             "#b8e186"
            ],
            [
             0.8,
             "#7fbc41"
            ],
            [
             0.9,
             "#4d9221"
            ],
            [
             1,
             "#276419"
            ]
           ]
          },
          "xaxis": {
           "gridcolor": "white",
           "linecolor": "white",
           "ticks": "",
           "title": {
            "standoff": 15
           },
           "zerolinecolor": "white",
           "automargin": true,
           "zerolinewidth": 2
          },
          "yaxis": {
           "gridcolor": "white",
           "linecolor": "white",
           "ticks": "",
           "title": {
            "standoff": 15
           },
           "zerolinecolor": "white",
           "automargin": true,
           "zerolinewidth": 2
          },
          "scene": {
           "xaxis": {
            "backgroundcolor": "#E5ECF6",
            "gridcolor": "white",
            "linecolor": "white",
            "showbackground": true,
            "ticks": "",
            "zerolinecolor": "white",
            "gridwidth": 2
           },
           "yaxis": {
            "backgroundcolor": "#E5ECF6",
            "gridcolor": "white",
            "linecolor": "white",
            "showbackground": true,
            "ticks": "",
            "zerolinecolor": "white",
            "gridwidth": 2
           },
           "zaxis": {
            "backgroundcolor": "#E5ECF6",
            "gridcolor": "white",
            "linecolor": "white",
            "showbackground": true,
            "ticks": "",
            "zerolinecolor": "white",
            "gridwidth": 2
           }
          },
          "shapedefaults": {
           "line": {
            "color": "#2a3f5f"
           }
          },
          "annotationdefaults": {
           "arrowcolor": "#2a3f5f",
           "arrowhead": 0,
           "arrowwidth": 1
          },
          "geo": {
           "bgcolor": "white",
           "landcolor": "#E5ECF6",
           "subunitcolor": "white",
           "showland": true,
           "showlakes": true,
           "lakecolor": "white"
          },
          "title": {
           "x": 0.05
          },
          "mapbox": {
           "style": "light"
          }
         }
        },
        "xaxis": {
         "anchor": "y",
         "domain": [
          0.0,
          1.0
         ],
         "title": {
          "text": "Player"
         }
        },
        "yaxis": {
         "anchor": "x",
         "domain": [
          0.0,
          1.0
         ],
         "title": {
          "text": "Performance Score"
         }
        },
        "legend": {
         "title": {
          "text": "Team"
         },
         "tracegroupgap": 0
        },
        "title": {
         "text": "Champions League Player of the Season and 3 Nominees for Ballon d'Or 2025🥇⚽",
         "font": {
          "size": 18
         }
        },
        "barmode": "relative"
       },
       "config": {
        "plotlyServerURL": "https://plot.ly"
       }
      }
     },
     "metadata": {},
     "output_type": "display_data"
    }
   ],
   "execution_count": 44
  }
 ],
 "metadata": {
  "kernelspec": {
   "display_name": "Python 3",
   "language": "python",
   "name": "python3"
  },
  "language_info": {
   "codemirror_mode": {
    "name": "ipython",
    "version": 2
   },
   "file_extension": ".py",
   "mimetype": "text/x-python",
   "name": "python",
   "nbconvert_exporter": "python",
   "pygments_lexer": "ipython2",
   "version": "2.7.6"
  }
 },
 "nbformat": 4,
 "nbformat_minor": 5
}
