{
 "cells": [
  {
   "cell_type": "code",
   "id": "initial_id",
   "metadata": {
    "collapsed": true,
    "ExecuteTime": {
     "end_time": "2025-06-10T10:44:26.855119Z",
     "start_time": "2025-06-10T10:44:26.725990Z"
    }
   },
   "source": [
    "import pandas as pd\n",
    "import numpy as np\n",
    "import plotly.express as px\n",
    "import seaborn as sns\n",
    "import matplotlib.pyplot as plt"
   ],
   "outputs": [],
   "execution_count": 1
  },
  {
   "metadata": {
    "ExecuteTime": {
     "end_time": "2025-06-10T10:44:27.400852Z",
     "start_time": "2025-06-10T10:44:26.876943Z"
    }
   },
   "cell_type": "code",
   "source": "ucl = pd.read_excel('UCL_playerstats_orig.xlsx')\n",
   "id": "6b3cbda453c07ce6",
   "outputs": [],
   "execution_count": 2
  },
  {
   "metadata": {},
   "cell_type": "markdown",
   "source": "#### Treemap: Goals by Team and Position",
   "id": "852abda4e35a4e71"
  },
  {
   "metadata": {
    "ExecuteTime": {
     "end_time": "2025-06-10T10:44:28.158867Z",
     "start_time": "2025-06-10T10:44:28.137371Z"
    }
   },
   "cell_type": "code",
   "source": "team_position_goals = ucl.groupby(['Team','Position'])['Goals'].sum().reset_index()",
   "id": "7a94098096aa46f3",
   "outputs": [],
   "execution_count": 3
  },
  {
   "metadata": {
    "ExecuteTime": {
     "end_time": "2025-06-10T10:44:28.986087Z",
     "start_time": "2025-06-10T10:44:28.403580Z"
    }
   },
   "cell_type": "code",
   "source": [
    "fig = px.treemap(\n",
    "    team_position_goals,\n",
    "    path=['Team', 'Position'],\n",
    "    values='Goals',\n",
    "    title='Treemap: Goals Scored by Team and Position',\n",
    "    color='Goals',\n",
    ")\n",
    "\n",
    "fig.update_layout(margin=dict(t=40, l=0, r=0, b=0))\n",
    "fig.show()"
   ],
   "id": "75aec94bb84f2567",
   "outputs": [
    {
     "data": {
      "application/vnd.plotly.v1+json": {
       "data": [
        {
         "branchvalues": "total",
         "customdata": {
          "dtype": "f8",
          "bdata": "AAAAAAAACEAAAAAAAAAoQAAAAAAAAPj/AAAAAAAAIkAAAAAAAAAAQAAAAAAAAPj/AAAAAAAA+P8AAAAAAAAkQAAAAAAAAPA/AAAAAAAAFEAAAAAAAAD4/wAAAAAAACBAAAAAAAAA8D8AAAAAAAAsQAAAAAAAAPj/AAAAAAAAAEAAAAAAAAAAQAAAAAAAADZAAAAAAAAAEEAAAAAAAAAAQAAAAAAAAEBAAAAAAAAA+P8AAAAAAAAIQAAAAAAAABBAAAAAAAAAGEAAAAAAAAAQQAAAAAAAADZAAAAAAAAA8D8AAAAAAAAAQAAAAAAAAChAAAAAAAAAEEAAAAAAAADwPwAAAAAAAPj/AAAAAAAA+P8AAAAAAAD4/wAAAAAAAPj/AAAAAAAA+P8AAAAAAAAIQAAAAAAAAPj/AAAAAAAAAEAAAAAAAADwPwAAAAAAAPA/AAAAAAAA+P8AAAAAAADwPwAAAAAAAABAAAAAAAAAAEAAAAAAAAD4/wAAAAAAAAhAAAAAAAAA+P8AAAAAAAAQQAAAAAAAACxAAAAAAAAA+P8AAAAAAAAQQAAAAAAAAPj/AAAAAAAAAEAAAAAAAAD4/wAAAAAAAPj/AAAAAAAAEEAAAAAAAAD4/wAAAAAAABxAAAAAAAAA+P8AAAAAAADwPwAAAAAAAABAAAAAAAAAIkAAAAAAAAD4/wAAAAAAAAhAAAAAAAAA+P8AAAAAAAAoQAAAAAAAAAhAAAAAAAAA+P8AAAAAAAAqQAAAAAAAAPj/AAAAAAAACEAAAAAAAAAAQAAAAAAAABhAAAAAAAAA+P8AAAAAAAAIQAAAAAAAACJAAAAAAAAAGEAAAAAAAAAgQAAAAAAAADNAAAAAAAAA+P8AAAAAAAAQQAAAAAAAAPj/AAAAAAAAM0AAAAAAAAD4/wAAAAAAAPj/AAAAAAAAHEAAAAAAAAAAQAAAAAAAAPj/AAAAAAAAAEAAAAAAAADwPwAAAAAAABhAAAAAAAAA+P8AAAAAAAD4/wAAAAAAAPA/AAAAAAAACEAAAAAAAIAjQFVVVVVVVSFAbtu2bdu2GUCmpaWlpaUnQAAAAAAAADJAbzBFPusGPEDNzMzMzMwUQOQ4juM4jjJAjuM4juM4IkAAAAAAAADwPwAAAAAAAPj/zczMzMzMBEAAAAAAAADwPwAAAAAAAABAzczMzMzMBEAAAAAAAAD4/7rooosuuiRAAAAAAAAAAEAAAAAAAAAQQAAAAAAAABlAt23btm3bGkBmZmZmZmYkQAAAAAAAQCZAAAAAAAAAFEAAAAAAAAAcQHTOOeeccyxAAAAAAAAAM0AAAAAAAAAcQAAAAAAAAABASZIkSZIkFUAAAAAAAADwPwAAAAAAAAhA",
          "shape": "129, 1"
         },
         "domain": {
          "x": [
           0.0,
           1.0
          ],
          "y": [
           0.0,
           1.0
          ]
         },
         "hovertemplate": "labels=%{label}<br>Goals_sum=%{value}<br>parent=%{parent}<br>id=%{id}<br>Goals=%{color}<extra></extra>",
         "ids": [
          "Arsenal FC/Defender",
          "Arsenal FC/Forward",
          "Arsenal FC/Goalkeeper",
          "Arsenal FC/Midfielder",
          "Aston Villa/Defender",
          "Aston Villa/Forward",
          "Aston Villa/Goalkeeper",
          "Aston Villa/Midfielder",
          "Atalanta BC/Defender",
          "Atalanta BC/Forward",
          "Atalanta BC/Goalkeeper",
          "Atalanta BC/Midfielder",
          "Atletico Madrid/Defender",
          "Atletico Madrid/Forward",
          "Atletico Madrid/Goalkeeper",
          "Atletico Madrid/Midfielder",
          "BVB Dortmund/Defender",
          "BVB Dortmund/Forward",
          "BVB Dortmund/Midfielder",
          "Barcelona/Defender",
          "Barcelona/Forward",
          "Barcelona/Goalkeeper",
          "Barcelona/Midfielder",
          "Bayer Leverkusen/Defender",
          "Bayer Leverkusen/Midfielder",
          "Bayern Munich/Defender",
          "Bayern Munich/Forward",
          "Bayern Munich/Midfielder",
          "Benfica/Defender",
          "Benfica/Forward",
          "Benfica/Midfielder",
          "Bologna/Defender",
          "Bologna/Forward",
          "Bologna/Goalkeeper",
          "Brest /Defender",
          "Brest /Goalkeeper",
          "Celtic/Defender",
          "Celtic/Forward",
          "Celtic/Goalkeeper",
          "Celtic/Midfielder",
          "Club Brugge/Defender",
          "Club Brugge/Forward",
          "Club Brugge/Goalkeeper",
          "Club Brugge/Midfielder",
          "Dinamo Zagreb/Midfielder",
          "Feyenoord/Forward",
          "Feyenoord/Goalkeeper",
          "Feyenoord/Midfielder",
          "Girona/Goalkeeper",
          "Inter/Defender",
          "Inter/Forward",
          "Inter/Goalkeeper",
          "Inter/Midfielder",
          "Juventus /Defender",
          "Juventus /Forward",
          "Juventus /Goalkeeper",
          "Juventus /Midfielder",
          "Leipzig/Forward",
          "Lille /Defender",
          "Lille /Forward",
          "Lille /Goalkeeper",
          "Lille /Midfielder",
          "Liverpool FC/Defender",
          "Liverpool FC/Forward",
          "Liverpool FC/Goalkeeper",
          "Liverpool FC/Midfielder",
          "Manchester City/Defender",
          "Manchester City/Forward",
          "Manchester City/Midfielder",
          "Milan/Defender",
          "Milan/Forward",
          "Milan/Goalkeeper",
          "Milan/Midfielder",
          "Monaco/Defender",
          "Monaco/Forward",
          "Monaco/Midfielder",
          "PSV Eindhoven/Defender",
          "PSV Eindhoven/Forward",
          "PSV Eindhoven/Midfielder",
          "Paris SG/Defender",
          "Paris SG/Forward",
          "Paris SG/Goalkeeper",
          "Paris SG/Midfielder",
          "Real Madrid/Defender",
          "Real Madrid/Forward",
          "Real Madrid/Goalkeeper",
          "Real Madrid/Midfielder",
          "Real Madrid /Forward",
          "Shakhtar Donetsk/Forward",
          "Shakhtar Donetsk/Goalkeeper",
          "Shakhtar Donetsk/Midfielder",
          "Sporting CP/Defender",
          "Sporting CP/Forward",
          "Sporting CP/Goalkeeper",
          "Sporting CP/Midfielder",
          "Sturm Graz/Midfielder",
          "VfB Stuttgart/Midfielder",
          "Arsenal FC",
          "Aston Villa",
          "Atalanta BC",
          "Atletico Madrid",
          "BVB Dortmund",
          "Barcelona",
          "Bayer Leverkusen",
          "Bayern Munich",
          "Benfica",
          "Bologna",
          "Brest ",
          "Celtic",
          "Club Brugge",
          "Dinamo Zagreb",
          "Feyenoord",
          "Girona",
          "Inter",
          "Juventus ",
          "Leipzig",
          "Lille ",
          "Liverpool FC",
          "Manchester City",
          "Milan",
          "Monaco",
          "PSV Eindhoven",
          "Paris SG",
          "Real Madrid",
          "Real Madrid ",
          "Shakhtar Donetsk",
          "Sporting CP",
          "Sturm Graz",
          "VfB Stuttgart"
         ],
         "labels": [
          "Defender",
          "Forward",
          "Goalkeeper",
          "Midfielder",
          "Defender",
          "Forward",
          "Goalkeeper",
          "Midfielder",
          "Defender",
          "Forward",
          "Goalkeeper",
          "Midfielder",
          "Defender",
          "Forward",
          "Goalkeeper",
          "Midfielder",
          "Defender",
          "Forward",
          "Midfielder",
          "Defender",
          "Forward",
          "Goalkeeper",
          "Midfielder",
          "Defender",
          "Midfielder",
          "Defender",
          "Forward",
          "Midfielder",
          "Defender",
          "Forward",
          "Midfielder",
          "Defender",
          "Forward",
          "Goalkeeper",
          "Defender",
          "Goalkeeper",
          "Defender",
          "Forward",
          "Goalkeeper",
          "Midfielder",
          "Defender",
          "Forward",
          "Goalkeeper",
          "Midfielder",
          "Midfielder",
          "Forward",
          "Goalkeeper",
          "Midfielder",
          "Goalkeeper",
          "Defender",
          "Forward",
          "Goalkeeper",
          "Midfielder",
          "Defender",
          "Forward",
          "Goalkeeper",
          "Midfielder",
          "Forward",
          "Defender",
          "Forward",
          "Goalkeeper",
          "Midfielder",
          "Defender",
          "Forward",
          "Goalkeeper",
          "Midfielder",
          "Defender",
          "Forward",
          "Midfielder",
          "Defender",
          "Forward",
          "Goalkeeper",
          "Midfielder",
          "Defender",
          "Forward",
          "Midfielder",
          "Defender",
          "Forward",
          "Midfielder",
          "Defender",
          "Forward",
          "Goalkeeper",
          "Midfielder",
          "Defender",
          "Forward",
          "Goalkeeper",
          "Midfielder",
          "Forward",
          "Forward",
          "Goalkeeper",
          "Midfielder",
          "Defender",
          "Forward",
          "Goalkeeper",
          "Midfielder",
          "Midfielder",
          "Midfielder",
          "Arsenal FC",
          "Aston Villa",
          "Atalanta BC",
          "Atletico Madrid",
          "BVB Dortmund",
          "Barcelona",
          "Bayer Leverkusen",
          "Bayern Munich",
          "Benfica",
          "Bologna",
          "Brest ",
          "Celtic",
          "Club Brugge",
          "Dinamo Zagreb",
          "Feyenoord",
          "Girona",
          "Inter",
          "Juventus ",
          "Leipzig",
          "Lille ",
          "Liverpool FC",
          "Manchester City",
          "Milan",
          "Monaco",
          "PSV Eindhoven",
          "Paris SG",
          "Real Madrid",
          "Real Madrid ",
          "Shakhtar Donetsk",
          "Sporting CP",
          "Sturm Graz",
          "VfB Stuttgart"
         ],
         "marker": {
          "coloraxis": "coloraxis",
          "colors": {
           "dtype": "f8",
           "bdata": "AAAAAAAACEAAAAAAAAAoQAAAAAAAAPj/AAAAAAAAIkAAAAAAAAAAQAAAAAAAAPj/AAAAAAAA+P8AAAAAAAAkQAAAAAAAAPA/AAAAAAAAFEAAAAAAAAD4/wAAAAAAACBAAAAAAAAA8D8AAAAAAAAsQAAAAAAAAPj/AAAAAAAAAEAAAAAAAAAAQAAAAAAAADZAAAAAAAAAEEAAAAAAAAAAQAAAAAAAAEBAAAAAAAAA+P8AAAAAAAAIQAAAAAAAABBAAAAAAAAAGEAAAAAAAAAQQAAAAAAAADZAAAAAAAAA8D8AAAAAAAAAQAAAAAAAAChAAAAAAAAAEEAAAAAAAADwPwAAAAAAAPj/AAAAAAAA+P8AAAAAAAD4/wAAAAAAAPj/AAAAAAAA+P8AAAAAAAAIQAAAAAAAAPj/AAAAAAAAAEAAAAAAAADwPwAAAAAAAPA/AAAAAAAA+P8AAAAAAADwPwAAAAAAAABAAAAAAAAAAEAAAAAAAAD4/wAAAAAAAAhAAAAAAAAA+P8AAAAAAAAQQAAAAAAAACxAAAAAAAAA+P8AAAAAAAAQQAAAAAAAAPj/AAAAAAAAAEAAAAAAAAD4/wAAAAAAAPj/AAAAAAAAEEAAAAAAAAD4/wAAAAAAABxAAAAAAAAA+P8AAAAAAADwPwAAAAAAAABAAAAAAAAAIkAAAAAAAAD4/wAAAAAAAAhAAAAAAAAA+P8AAAAAAAAoQAAAAAAAAAhAAAAAAAAA+P8AAAAAAAAqQAAAAAAAAPj/AAAAAAAACEAAAAAAAAAAQAAAAAAAABhAAAAAAAAA+P8AAAAAAAAIQAAAAAAAACJAAAAAAAAAGEAAAAAAAAAgQAAAAAAAADNAAAAAAAAA+P8AAAAAAAAQQAAAAAAAAPj/AAAAAAAAM0AAAAAAAAD4/wAAAAAAAPj/AAAAAAAAHEAAAAAAAAAAQAAAAAAAAPj/AAAAAAAAAEAAAAAAAADwPwAAAAAAABhAAAAAAAAA+P8AAAAAAAD4/wAAAAAAAPA/AAAAAAAACEAAAAAAAIAjQFVVVVVVVSFAbtu2bdu2GUCmpaWlpaUnQAAAAAAAADJAbzBFPusGPEDNzMzMzMwUQOQ4juM4jjJAjuM4juM4IkAAAAAAAADwPwAAAAAAAPj/zczMzMzMBEAAAAAAAADwPwAAAAAAAABAzczMzMzMBEAAAAAAAAD4/7rooosuuiRAAAAAAAAAAEAAAAAAAAAQQAAAAAAAABlAt23btm3bGkBmZmZmZmYkQAAAAAAAQCZAAAAAAAAAFEAAAAAAAAAcQHTOOeeccyxAAAAAAAAAM0AAAAAAAAAcQAAAAAAAAABASZIkSZIkFUAAAAAAAADwPwAAAAAAAAhA"
          }
         },
         "name": "",
         "parents": [
          "Arsenal FC",
          "Arsenal FC",
          "Arsenal FC",
          "Arsenal FC",
          "Aston Villa",
          "Aston Villa",
          "Aston Villa",
          "Aston Villa",
          "Atalanta BC",
          "Atalanta BC",
          "Atalanta BC",
          "Atalanta BC",
          "Atletico Madrid",
          "Atletico Madrid",
          "Atletico Madrid",
          "Atletico Madrid",
          "BVB Dortmund",
          "BVB Dortmund",
          "BVB Dortmund",
          "Barcelona",
          "Barcelona",
          "Barcelona",
          "Barcelona",
          "Bayer Leverkusen",
          "Bayer Leverkusen",
          "Bayern Munich",
          "Bayern Munich",
          "Bayern Munich",
          "Benfica",
          "Benfica",
          "Benfica",
          "Bologna",
          "Bologna",
          "Bologna",
          "Brest ",
          "Brest ",
          "Celtic",
          "Celtic",
          "Celtic",
          "Celtic",
          "Club Brugge",
          "Club Brugge",
          "Club Brugge",
          "Club Brugge",
          "Dinamo Zagreb",
          "Feyenoord",
          "Feyenoord",
          "Feyenoord",
          "Girona",
          "Inter",
          "Inter",
          "Inter",
          "Inter",
          "Juventus ",
          "Juventus ",
          "Juventus ",
          "Juventus ",
          "Leipzig",
          "Lille ",
          "Lille ",
          "Lille ",
          "Lille ",
          "Liverpool FC",
          "Liverpool FC",
          "Liverpool FC",
          "Liverpool FC",
          "Manchester City",
          "Manchester City",
          "Manchester City",
          "Milan",
          "Milan",
          "Milan",
          "Milan",
          "Monaco",
          "Monaco",
          "Monaco",
          "PSV Eindhoven",
          "PSV Eindhoven",
          "PSV Eindhoven",
          "Paris SG",
          "Paris SG",
          "Paris SG",
          "Paris SG",
          "Real Madrid",
          "Real Madrid",
          "Real Madrid",
          "Real Madrid",
          "Real Madrid ",
          "Shakhtar Donetsk",
          "Shakhtar Donetsk",
          "Shakhtar Donetsk",
          "Sporting CP",
          "Sporting CP",
          "Sporting CP",
          "Sporting CP",
          "Sturm Graz",
          "VfB Stuttgart",
          "",
          "",
          "",
          "",
          "",
          "",
          "",
          "",
          "",
          "",
          "",
          "",
          "",
          "",
          "",
          "",
          "",
          "",
          "",
          "",
          "",
          "",
          "",
          "",
          "",
          "",
          "",
          "",
          "",
          "",
          "",
          ""
         ],
         "values": {
          "dtype": "f8",
          "bdata": "AAAAAAAACEAAAAAAAAAoQAAAAAAAAAAAAAAAAAAAIkAAAAAAAAAAQAAAAAAAAAAAAAAAAAAAAAAAAAAAAAAkQAAAAAAAAPA/AAAAAAAAFEAAAAAAAAAAAAAAAAAAACBAAAAAAAAA8D8AAAAAAAAsQAAAAAAAAAAAAAAAAAAAAEAAAAAAAAAAQAAAAAAAADZAAAAAAAAAEEAAAAAAAAAAQAAAAAAAAEBAAAAAAAAAAAAAAAAAAAAIQAAAAAAAABBAAAAAAAAAGEAAAAAAAAAQQAAAAAAAADZAAAAAAAAA8D8AAAAAAAAAQAAAAAAAAChAAAAAAAAAEEAAAAAAAADwPwAAAAAAAAAAAAAAAAAAAAAAAAAAAAAAAAAAAAAAAAAAAAAAAAAAAAAAAAAAAAAIQAAAAAAAAAAAAAAAAAAAAEAAAAAAAADwPwAAAAAAAPA/AAAAAAAAAAAAAAAAAADwPwAAAAAAAABAAAAAAAAAAEAAAAAAAAAAAAAAAAAAAAhAAAAAAAAAAAAAAAAAAAAQQAAAAAAAACxAAAAAAAAAAAAAAAAAAAAQQAAAAAAAAAAAAAAAAAAAAEAAAAAAAAAAAAAAAAAAAAAAAAAAAAAAEEAAAAAAAAAAAAAAAAAAABxAAAAAAAAAAAAAAAAAAADwPwAAAAAAAABAAAAAAAAAIkAAAAAAAAAAAAAAAAAAAAhAAAAAAAAAAAAAAAAAAAAoQAAAAAAAAAhAAAAAAAAAAAAAAAAAAAAqQAAAAAAAAAAAAAAAAAAACEAAAAAAAAAAQAAAAAAAABhAAAAAAAAAAAAAAAAAAAAIQAAAAAAAACJAAAAAAAAAGEAAAAAAAAAgQAAAAAAAADNAAAAAAAAAAAAAAAAAAAAQQAAAAAAAAAAAAAAAAAAAM0AAAAAAAAAAAAAAAAAAAAAAAAAAAAAAHEAAAAAAAAAAQAAAAAAAAAAAAAAAAAAAAEAAAAAAAADwPwAAAAAAABhAAAAAAAAAAAAAAAAAAAAAAAAAAAAAAPA/AAAAAAAACEAAAAAAAAA4QAAAAAAAAChAAAAAAAAALEAAAAAAAAAxQAAAAAAAADxAAAAAAACAQkAAAAAAAAAkQAAAAAAAADtAAAAAAAAAMkAAAAAAAADwPwAAAAAAAAAAAAAAAAAAFEAAAAAAAAAIQAAAAAAAAABAAAAAAAAAFEAAAAAAAAAAAAAAAAAAADZAAAAAAAAAAEAAAAAAAAAQQAAAAAAAACBAAAAAAAAALEAAAAAAAAAuQAAAAAAAADBAAAAAAAAAIEAAAAAAAAAyQAAAAAAAAD9AAAAAAAAAM0AAAAAAAAAcQAAAAAAAABBAAAAAAAAAHEAAAAAAAADwPwAAAAAAAAhA"
         },
         "type": "treemap"
        }
       ],
       "layout": {
        "template": {
         "data": {
          "histogram2dcontour": [
           {
            "type": "histogram2dcontour",
            "colorbar": {
             "outlinewidth": 0,
             "ticks": ""
            },
            "colorscale": [
             [
              0.0,
              "#0d0887"
             ],
             [
              0.1111111111111111,
              "#46039f"
             ],
             [
              0.2222222222222222,
              "#7201a8"
             ],
             [
              0.3333333333333333,
              "#9c179e"
             ],
             [
              0.4444444444444444,
              "#bd3786"
             ],
             [
              0.5555555555555556,
              "#d8576b"
             ],
             [
              0.6666666666666666,
              "#ed7953"
             ],
             [
              0.7777777777777778,
              "#fb9f3a"
             ],
             [
              0.8888888888888888,
              "#fdca26"
             ],
             [
              1.0,
              "#f0f921"
             ]
            ]
           }
          ],
          "choropleth": [
           {
            "type": "choropleth",
            "colorbar": {
             "outlinewidth": 0,
             "ticks": ""
            }
           }
          ],
          "histogram2d": [
           {
            "type": "histogram2d",
            "colorbar": {
             "outlinewidth": 0,
             "ticks": ""
            },
            "colorscale": [
             [
              0.0,
              "#0d0887"
             ],
             [
              0.1111111111111111,
              "#46039f"
             ],
             [
              0.2222222222222222,
              "#7201a8"
             ],
             [
              0.3333333333333333,
              "#9c179e"
             ],
             [
              0.4444444444444444,
              "#bd3786"
             ],
             [
              0.5555555555555556,
              "#d8576b"
             ],
             [
              0.6666666666666666,
              "#ed7953"
             ],
             [
              0.7777777777777778,
              "#fb9f3a"
             ],
             [
              0.8888888888888888,
              "#fdca26"
             ],
             [
              1.0,
              "#f0f921"
             ]
            ]
           }
          ],
          "heatmap": [
           {
            "type": "heatmap",
            "colorbar": {
             "outlinewidth": 0,
             "ticks": ""
            },
            "colorscale": [
             [
              0.0,
              "#0d0887"
             ],
             [
              0.1111111111111111,
              "#46039f"
             ],
             [
              0.2222222222222222,
              "#7201a8"
             ],
             [
              0.3333333333333333,
              "#9c179e"
             ],
             [
              0.4444444444444444,
              "#bd3786"
             ],
             [
              0.5555555555555556,
              "#d8576b"
             ],
             [
              0.6666666666666666,
              "#ed7953"
             ],
             [
              0.7777777777777778,
              "#fb9f3a"
             ],
             [
              0.8888888888888888,
              "#fdca26"
             ],
             [
              1.0,
              "#f0f921"
             ]
            ]
           }
          ],
          "contourcarpet": [
           {
            "type": "contourcarpet",
            "colorbar": {
             "outlinewidth": 0,
             "ticks": ""
            }
           }
          ],
          "contour": [
           {
            "type": "contour",
            "colorbar": {
             "outlinewidth": 0,
             "ticks": ""
            },
            "colorscale": [
             [
              0.0,
              "#0d0887"
             ],
             [
              0.1111111111111111,
              "#46039f"
             ],
             [
              0.2222222222222222,
              "#7201a8"
             ],
             [
              0.3333333333333333,
              "#9c179e"
             ],
             [
              0.4444444444444444,
              "#bd3786"
             ],
             [
              0.5555555555555556,
              "#d8576b"
             ],
             [
              0.6666666666666666,
              "#ed7953"
             ],
             [
              0.7777777777777778,
              "#fb9f3a"
             ],
             [
              0.8888888888888888,
              "#fdca26"
             ],
             [
              1.0,
              "#f0f921"
             ]
            ]
           }
          ],
          "surface": [
           {
            "type": "surface",
            "colorbar": {
             "outlinewidth": 0,
             "ticks": ""
            },
            "colorscale": [
             [
              0.0,
              "#0d0887"
             ],
             [
              0.1111111111111111,
              "#46039f"
             ],
             [
              0.2222222222222222,
              "#7201a8"
             ],
             [
              0.3333333333333333,
              "#9c179e"
             ],
             [
              0.4444444444444444,
              "#bd3786"
             ],
             [
              0.5555555555555556,
              "#d8576b"
             ],
             [
              0.6666666666666666,
              "#ed7953"
             ],
             [
              0.7777777777777778,
              "#fb9f3a"
             ],
             [
              0.8888888888888888,
              "#fdca26"
             ],
             [
              1.0,
              "#f0f921"
             ]
            ]
           }
          ],
          "mesh3d": [
           {
            "type": "mesh3d",
            "colorbar": {
             "outlinewidth": 0,
             "ticks": ""
            }
           }
          ],
          "scatter": [
           {
            "fillpattern": {
             "fillmode": "overlay",
             "size": 10,
             "solidity": 0.2
            },
            "type": "scatter"
           }
          ],
          "parcoords": [
           {
            "type": "parcoords",
            "line": {
             "colorbar": {
              "outlinewidth": 0,
              "ticks": ""
             }
            }
           }
          ],
          "scatterpolargl": [
           {
            "type": "scatterpolargl",
            "marker": {
             "colorbar": {
              "outlinewidth": 0,
              "ticks": ""
             }
            }
           }
          ],
          "bar": [
           {
            "error_x": {
             "color": "#2a3f5f"
            },
            "error_y": {
             "color": "#2a3f5f"
            },
            "marker": {
             "line": {
              "color": "#E5ECF6",
              "width": 0.5
             },
             "pattern": {
              "fillmode": "overlay",
              "size": 10,
              "solidity": 0.2
             }
            },
            "type": "bar"
           }
          ],
          "scattergeo": [
           {
            "type": "scattergeo",
            "marker": {
             "colorbar": {
              "outlinewidth": 0,
              "ticks": ""
             }
            }
           }
          ],
          "scatterpolar": [
           {
            "type": "scatterpolar",
            "marker": {
             "colorbar": {
              "outlinewidth": 0,
              "ticks": ""
             }
            }
           }
          ],
          "histogram": [
           {
            "marker": {
             "pattern": {
              "fillmode": "overlay",
              "size": 10,
              "solidity": 0.2
             }
            },
            "type": "histogram"
           }
          ],
          "scattergl": [
           {
            "type": "scattergl",
            "marker": {
             "colorbar": {
              "outlinewidth": 0,
              "ticks": ""
             }
            }
           }
          ],
          "scatter3d": [
           {
            "type": "scatter3d",
            "line": {
             "colorbar": {
              "outlinewidth": 0,
              "ticks": ""
             }
            },
            "marker": {
             "colorbar": {
              "outlinewidth": 0,
              "ticks": ""
             }
            }
           }
          ],
          "scattermap": [
           {
            "type": "scattermap",
            "marker": {
             "colorbar": {
              "outlinewidth": 0,
              "ticks": ""
             }
            }
           }
          ],
          "scattermapbox": [
           {
            "type": "scattermapbox",
            "marker": {
             "colorbar": {
              "outlinewidth": 0,
              "ticks": ""
             }
            }
           }
          ],
          "scatterternary": [
           {
            "type": "scatterternary",
            "marker": {
             "colorbar": {
              "outlinewidth": 0,
              "ticks": ""
             }
            }
           }
          ],
          "scattercarpet": [
           {
            "type": "scattercarpet",
            "marker": {
             "colorbar": {
              "outlinewidth": 0,
              "ticks": ""
             }
            }
           }
          ],
          "carpet": [
           {
            "aaxis": {
             "endlinecolor": "#2a3f5f",
             "gridcolor": "white",
             "linecolor": "white",
             "minorgridcolor": "white",
             "startlinecolor": "#2a3f5f"
            },
            "baxis": {
             "endlinecolor": "#2a3f5f",
             "gridcolor": "white",
             "linecolor": "white",
             "minorgridcolor": "white",
             "startlinecolor": "#2a3f5f"
            },
            "type": "carpet"
           }
          ],
          "table": [
           {
            "cells": {
             "fill": {
              "color": "#EBF0F8"
             },
             "line": {
              "color": "white"
             }
            },
            "header": {
             "fill": {
              "color": "#C8D4E3"
             },
             "line": {
              "color": "white"
             }
            },
            "type": "table"
           }
          ],
          "barpolar": [
           {
            "marker": {
             "line": {
              "color": "#E5ECF6",
              "width": 0.5
             },
             "pattern": {
              "fillmode": "overlay",
              "size": 10,
              "solidity": 0.2
             }
            },
            "type": "barpolar"
           }
          ],
          "pie": [
           {
            "automargin": true,
            "type": "pie"
           }
          ]
         },
         "layout": {
          "autotypenumbers": "strict",
          "colorway": [
           "#636efa",
           "#EF553B",
           "#00cc96",
           "#ab63fa",
           "#FFA15A",
           "#19d3f3",
           "#FF6692",
           "#B6E880",
           "#FF97FF",
           "#FECB52"
          ],
          "font": {
           "color": "#2a3f5f"
          },
          "hovermode": "closest",
          "hoverlabel": {
           "align": "left"
          },
          "paper_bgcolor": "white",
          "plot_bgcolor": "#E5ECF6",
          "polar": {
           "bgcolor": "#E5ECF6",
           "angularaxis": {
            "gridcolor": "white",
            "linecolor": "white",
            "ticks": ""
           },
           "radialaxis": {
            "gridcolor": "white",
            "linecolor": "white",
            "ticks": ""
           }
          },
          "ternary": {
           "bgcolor": "#E5ECF6",
           "aaxis": {
            "gridcolor": "white",
            "linecolor": "white",
            "ticks": ""
           },
           "baxis": {
            "gridcolor": "white",
            "linecolor": "white",
            "ticks": ""
           },
           "caxis": {
            "gridcolor": "white",
            "linecolor": "white",
            "ticks": ""
           }
          },
          "coloraxis": {
           "colorbar": {
            "outlinewidth": 0,
            "ticks": ""
           }
          },
          "colorscale": {
           "sequential": [
            [
             0.0,
             "#0d0887"
            ],
            [
             0.1111111111111111,
             "#46039f"
            ],
            [
             0.2222222222222222,
             "#7201a8"
            ],
            [
             0.3333333333333333,
             "#9c179e"
            ],
            [
             0.4444444444444444,
             "#bd3786"
            ],
            [
             0.5555555555555556,
             "#d8576b"
            ],
            [
             0.6666666666666666,
             "#ed7953"
            ],
            [
             0.7777777777777778,
             "#fb9f3a"
            ],
            [
             0.8888888888888888,
             "#fdca26"
            ],
            [
             1.0,
             "#f0f921"
            ]
           ],
           "sequentialminus": [
            [
             0.0,
             "#0d0887"
            ],
            [
             0.1111111111111111,
             "#46039f"
            ],
            [
             0.2222222222222222,
             "#7201a8"
            ],
            [
             0.3333333333333333,
             "#9c179e"
            ],
            [
             0.4444444444444444,
             "#bd3786"
            ],
            [
             0.5555555555555556,
             "#d8576b"
            ],
            [
             0.6666666666666666,
             "#ed7953"
            ],
            [
             0.7777777777777778,
             "#fb9f3a"
            ],
            [
             0.8888888888888888,
             "#fdca26"
            ],
            [
             1.0,
             "#f0f921"
            ]
           ],
           "diverging": [
            [
             0,
             "#8e0152"
            ],
            [
             0.1,
             "#c51b7d"
            ],
            [
             0.2,
             "#de77ae"
            ],
            [
             0.3,
             "#f1b6da"
            ],
            [
             0.4,
             "#fde0ef"
            ],
            [
             0.5,
             "#f7f7f7"
            ],
            [
             0.6,
             "#e6f5d0"
            ],
            [
             0.7,
             "#b8e186"
            ],
            [
             0.8,
             "#7fbc41"
            ],
            [
             0.9,
             "#4d9221"
            ],
            [
             1,
             "#276419"
            ]
           ]
          },
          "xaxis": {
           "gridcolor": "white",
           "linecolor": "white",
           "ticks": "",
           "title": {
            "standoff": 15
           },
           "zerolinecolor": "white",
           "automargin": true,
           "zerolinewidth": 2
          },
          "yaxis": {
           "gridcolor": "white",
           "linecolor": "white",
           "ticks": "",
           "title": {
            "standoff": 15
           },
           "zerolinecolor": "white",
           "automargin": true,
           "zerolinewidth": 2
          },
          "scene": {
           "xaxis": {
            "backgroundcolor": "#E5ECF6",
            "gridcolor": "white",
            "linecolor": "white",
            "showbackground": true,
            "ticks": "",
            "zerolinecolor": "white",
            "gridwidth": 2
           },
           "yaxis": {
            "backgroundcolor": "#E5ECF6",
            "gridcolor": "white",
            "linecolor": "white",
            "showbackground": true,
            "ticks": "",
            "zerolinecolor": "white",
            "gridwidth": 2
           },
           "zaxis": {
            "backgroundcolor": "#E5ECF6",
            "gridcolor": "white",
            "linecolor": "white",
            "showbackground": true,
            "ticks": "",
            "zerolinecolor": "white",
            "gridwidth": 2
           }
          },
          "shapedefaults": {
           "line": {
            "color": "#2a3f5f"
           }
          },
          "annotationdefaults": {
           "arrowcolor": "#2a3f5f",
           "arrowhead": 0,
           "arrowwidth": 1
          },
          "geo": {
           "bgcolor": "white",
           "landcolor": "#E5ECF6",
           "subunitcolor": "white",
           "showland": true,
           "showlakes": true,
           "lakecolor": "white"
          },
          "title": {
           "x": 0.05
          },
          "mapbox": {
           "style": "light"
          }
         }
        },
        "coloraxis": {
         "colorbar": {
          "title": {
           "text": "Goals"
          }
         },
         "colorscale": [
          [
           0.0,
           "#0d0887"
          ],
          [
           0.1111111111111111,
           "#46039f"
          ],
          [
           0.2222222222222222,
           "#7201a8"
          ],
          [
           0.3333333333333333,
           "#9c179e"
          ],
          [
           0.4444444444444444,
           "#bd3786"
          ],
          [
           0.5555555555555556,
           "#d8576b"
          ],
          [
           0.6666666666666666,
           "#ed7953"
          ],
          [
           0.7777777777777778,
           "#fb9f3a"
          ],
          [
           0.8888888888888888,
           "#fdca26"
          ],
          [
           1.0,
           "#f0f921"
          ]
         ]
        },
        "legend": {
         "tracegroupgap": 0
        },
        "title": {
         "text": "Treemap: Goals Scored by Team and Position"
        },
        "margin": {
         "t": 40,
         "l": 0,
         "r": 0,
         "b": 0
        }
       },
       "config": {
        "plotlyServerURL": "https://plot.ly"
       }
      }
     },
     "metadata": {},
     "output_type": "display_data"
    }
   ],
   "execution_count": 4
  },
  {
   "metadata": {
    "ExecuteTime": {
     "end_time": "2025-06-10T10:44:29.011915Z",
     "start_time": "2025-06-10T10:44:29.006463Z"
    }
   },
   "cell_type": "code",
   "source": "ucl['Total_Contrib'] = ucl['Goals'] + ucl['Assists']",
   "id": "773f46907ccfd47",
   "outputs": [],
   "execution_count": 5
  },
  {
   "metadata": {
    "ExecuteTime": {
     "end_time": "2025-06-10T10:44:29.063234Z",
     "start_time": "2025-06-10T10:44:29.053423Z"
    }
   },
   "cell_type": "code",
   "source": [
    "ucl['Defensive_Score'] = ucl['Tackles_Won'] + ucl['Balls_recovered']\n",
    "\n",
    "# 2) Grupim sipas Team → Position → Player, me Defensive_Score\n",
    "defense_team = (\n",
    "    ucl.groupby(['Team', 'Position', 'Player'])['Defensive_Score']\n",
    "    .sum()\n",
    "    .reset_index()\n",
    ")"
   ],
   "id": "16b32c72e74f0530",
   "outputs": [],
   "execution_count": 6
  },
  {
   "metadata": {
    "ExecuteTime": {
     "end_time": "2025-06-10T10:44:29.257293Z",
     "start_time": "2025-06-10T10:44:29.096397Z"
    }
   },
   "cell_type": "code",
   "source": [
    "fig = px.treemap(\n",
    "    defense_team,\n",
    "    path=['Team', 'Position', 'Player'],\n",
    "    values='Defensive_Score',\n",
    "    title='Treemap: Defensive Contributions by Team, Position and Player',\n",
    "    color='Defensive_Score',\n",
    "    color_continuous_scale='OrRd'\n",
    ")\n",
    "\n",
    "fig.update_layout(margin=dict(t=60, l=0, r=0, b=0))\n",
    "fig.show()"
   ],
   "id": "873f6481f80ecbc6",
   "outputs": [
    {
     "data": {
      "application/vnd.plotly.v1+json": {
       "data": [
        {
         "branchvalues": "total",
         "customdata": {
          "dtype": "f8",
          "bdata": "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",
          "shape": "339, 1"
         },
         "domain": {
          "x": [
           0.0,
           1.0
          ],
          "y": [
           0.0,
           1.0
          ]
         },
         "hovertemplate": "labels=%{label}<br>Defensive_Score_sum=%{value}<br>parent=%{parent}<br>id=%{id}<br>Defensive_Score=%{color}<extra></extra>",
         "ids": [
          "Arsenal FC/Defender/Calafiori",
          "Arsenal FC/Defender/Gabriel Magalhaes",
          "Arsenal FC/Defender/Jurrien Timber",
          "Arsenal FC/Defender/Saliba",
          "Arsenal FC/Forward/Bukayo Saka",
          "Arsenal FC/Forward/Kai Havertz",
          "Arsenal FC/Forward/Martinelli",
          "Arsenal FC/Goalkeeper/David Raya",
          "Arsenal FC/Midfielder/Declan Rice",
          "Arsenal FC/Midfielder/Mikel Merino",
          "Arsenal FC/Midfielder/Odegaard",
          "Arsenal FC/Midfielder/Partey",
          "Aston Villa/Defender/Ezri Konsa",
          "Aston Villa/Defender/Maatsen",
          "Aston Villa/Forward/Marcus Rashford",
          "Aston Villa/Goalkeeper/Emiliano Martinez",
          "Aston Villa/Midfielder/Jacob Ramsey",
          "Aston Villa/Midfielder/John McGinn",
          "Aston Villa/Midfielder/Rogers",
          "Aston Villa/Midfielder/Youri Tielemans",
          "Atalanta BC/Defender/Kolasinac",
          "Atalanta BC/Defender/Kossounou",
          "Atalanta BC/Defender/Marten de Roon",
          "Atalanta BC/Forward/Lookman",
          "Atalanta BC/Goalkeeper/Carnesecchi",
          "Atalanta BC/Midfielder/Charles Ketelaere",
          "Atalanta BC/Midfielder/Ederson",
          "Atalanta BC/Midfielder/Mario Pasalic",
          "Atalanta BC/Midfielder/Zappacosta",
          "Atletico Madrid/Defender/Jose Gimenez",
          "Atletico Madrid/Forward/Giuliano Simeone",
          "Atletico Madrid/Forward/Griezmann",
          "Atletico Madrid/Forward/Julian Alvarez",
          "Atletico Madrid/Forward/Lino",
          "Atletico Madrid/Goalkeeper/Jan Oblak",
          "Atletico Madrid/Midfielder/De Paul",
          "Atletico Madrid/Midfielder/Llorente",
          "BVB Dortmund/Defender/Bensebaini",
          "BVB Dortmund/Defender/Ryerson",
          "BVB Dortmund/Defender/Schlotterbeck",
          "BVB Dortmund/Defender/Waldemar Anton",
          "BVB Dortmund/Forward/Adeyemi",
          "BVB Dortmund/Forward/Gittens",
          "BVB Dortmund/Forward/Guirassy",
          "BVB Dortmund/Midfielder/Emre Can",
          "BVB Dortmund/Midfielder/Felix Nmecha",
          "BVB Dortmund/Midfielder/Julian Brandt",
          "BVB Dortmund/Midfielder/Pascal Gross",
          "Barcelona/Defender/Balde",
          "Barcelona/Defender/Inigo Martinez",
          "Barcelona/Defender/Kounde",
          "Barcelona/Forward/Ferran Torres",
          "Barcelona/Forward/Lewandowski",
          "Barcelona/Forward/Raphinha",
          "Barcelona/Forward/Yamal",
          "Barcelona/Goalkeeper/Szczesny",
          "Barcelona/Midfielder/Casado",
          "Barcelona/Midfielder/Dani Olmo",
          "Barcelona/Midfielder/Fermin Lopez",
          "Barcelona/Midfielder/Pedri",
          "Bayer Leverkusen/Defender/Frimpong",
          "Bayer Leverkusen/Defender/Grimaldo",
          "Bayer Leverkusen/Defender/Hincapie",
          "Bayer Leverkusen/Defender/Mukiele",
          "Bayer Leverkusen/Midfielder/Florian Wirtz",
          "Bayer Leverkusen/Midfielder/Granit Xhaka",
          "Bayer Leverkusen/Midfielder/Palacios",
          "Bayern Munich/Defender/Alphonso Davies",
          "Bayern Munich/Defender/Laimer",
          "Bayern Munich/Defender/Minjae Kim",
          "Bayern Munich/Defender/Upamecano",
          "Bayern Munich/Forward/Harry Kane",
          "Bayern Munich/Forward/Jamal Musiala",
          "Bayern Munich/Forward/Olise",
          "Bayern Munich/Forward/Thomas Muller",
          "Bayern Munich/Midfielder/Kimmich",
          "Bayern Munich/Midfielder/Leon Goretzka",
          "Benfica/Defender/Alexander Bah",
          "Benfica/Defender/Alvaro Carreras",
          "Benfica/Defender/Otamendi",
          "Benfica/Forward/Akturkoglu",
          "Benfica/Forward/Di Maria",
          "Benfica/Forward/Pavlidis",
          "Benfica/Midfielder/Aursnes",
          "Benfica/Midfielder/Florentino",
          "Benfica/Midfielder/Orkun Kökcü",
          "Bologna/Defender/Lucumi",
          "Bologna/Defender/Sam Beukema",
          "Bologna/Forward/Dan Ndoye",
          "Bologna/Goalkeeper/Skorupski",
          "Brest /Defender/Kenny Lala",
          "Brest /Goalkeeper/Marco Bizot",
          "Celtic/Defender/Johnston",
          "Celtic/Forward/Kuhn",
          "Celtic/Goalkeeper/Schmeichel",
          "Celtic/Midfielder/Arne Engels",
          "Celtic/Midfielder/Callum McGregor",
          "Celtic/Midfielder/Reo Hatate",
          "Club Brugge/Defender/De Cuyper",
          "Club Brugge/Forward/Christos Tzolis",
          "Club Brugge/Goalkeeper/Mignolet",
          "Club Brugge/Midfielder/Hans Vanaken",
          "Club Brugge/Midfielder/Jashari",
          "Dinamo Zagreb/Midfielder/Baturina",
          "Feyenoord/Forward/Igor Paixao",
          "Feyenoord/Goalkeeper/Wellenreuther ",
          "Feyenoord/Midfielder/Milambo",
          "Feyenoord/Midfielder/Quinten Timber",
          "Girona/Goalkeeper/Gazzaniga",
          "Inter/Defender/Bastoni",
          "Inter/Defender/Dimarco",
          "Inter/Defender/Dumfries",
          "Inter/Defender/Francesco Acerbi",
          "Inter/Defender/Pavard",
          "Inter/Defender/Stefan de Vrij",
          "Inter/Forward/Lautaro Martinez",
          "Inter/Forward/Taremi",
          "Inter/Forward/Thuram",
          "Inter/Goalkeeper/Yann Sommer",
          "Inter/Midfielder/Calhanoglu",
          "Inter/Midfielder/Mkhitaryan",
          "Inter/Midfielder/Nicolo Barella",
          "Juventus /Defender/Federico Gatti",
          "Juventus /Forward/Conceiçao",
          "Juventus /Forward/Kenan Yildiz",
          "Juventus /Goalkeeper/Di Gregorio",
          "Juventus /Midfielder/Locatelli",
          "Leipzig/Forward/Benjamin Sesko",
          "Lille /Defender/Alexsandro Ribeiro",
          "Lille /Defender/Thomas Meunier",
          "Lille /Forward/Jonathan David",
          "Lille /Goalkeeper/Chevalier",
          "Lille /Midfielder/Benjamin Andre",
          "Lille /Midfielder/Cabella",
          "Liverpool FC/Defender/Ibrahima Konate",
          "Liverpool FC/Defender/Robertson",
          "Liverpool FC/Defender/Van Dijk",
          "Liverpool FC/Forward/Gakpo",
          "Liverpool FC/Forward/Luis Diaz",
          "Liverpool FC/Forward/Salah",
          "Liverpool FC/Goalkeeper/Alisson Becker",
          "Liverpool FC/Midfielder/Gravenberch",
          "Liverpool FC/Midfielder/Mac Allister",
          "Liverpool FC/Midfielder/Szoboszlai",
          "Manchester City/Defender/Manuel Akanji",
          "Manchester City/Defender/Rico Lewis",
          "Manchester City/Forward/Haaland",
          "Manchester City/Forward/Phil Foden",
          "Manchester City/Forward/Savinho",
          "Manchester City/Midfielder/Gundogan",
          "Manchester City/Midfielder/Matheus Nunes",
          "Milan/Defender/Theo Hernandez",
          "Milan/Defender/Youssouf Fofana",
          "Milan/Forward/Pulisic",
          "Milan/Forward/Rafael Leao",
          "Milan/Forward/Santiago Gimenez",
          "Milan/Goalkeeper/Mike Maignan",
          "Milan/Midfielder/Tijjani Reijnders",
          "Monaco/Defender/Singo",
          "Monaco/Defender/Vanderson",
          "Monaco/Forward/Embolo",
          "Monaco/Forward/Maghnes Akliouche",
          "Monaco/Forward/Minamino",
          "Monaco/Midfielder/Golovin",
          "Monaco/Midfielder/Lamine Camara",
          "PSV Eindhoven/Defender/Boscagli",
          "PSV Eindhoven/Defender/Mauro Junior",
          "PSV Eindhoven/Defender/Ryan Flamingo",
          "PSV Eindhoven/Forward/Ivan Perisic",
          "PSV Eindhoven/Forward/Johan Bakayoko",
          "PSV Eindhoven/Forward/Luuk de Jong",
          "PSV Eindhoven/Forward/Noa Lang",
          "PSV Eindhoven/Midfielder/Ismael Saibari",
          "PSV Eindhoven/Midfielder/Joey Veerman",
          "PSV Eindhoven/Midfielder/Tillman",
          "Paris SG/Defender/Hakimi",
          "Paris SG/Defender/Marquinhos",
          "Paris SG/Defender/Nuno Mendes",
          "Paris SG/Defender/Pacho",
          "Paris SG/Forward/Barcola",
          "Paris SG/Forward/Dembele",
          "Paris SG/Forward/Desire Doue",
          "Paris SG/Forward/Kvaratskhelia",
          "Paris SG/Goalkeeper/Donnarumma",
          "Paris SG/Midfielder/Fabian Ruiz",
          "Paris SG/Midfielder/Joao Neves",
          "Paris SG/Midfielder/Vitinha",
          "Real Madrid/Defender/Raul Asencio",
          "Real Madrid/Forward/Brahim Diaz",
          "Real Madrid/Forward/Jude Bellingham",
          "Real Madrid/Forward/Lucas Vazquez",
          "Real Madrid/Forward/Rodrygo",
          "Real Madrid/Forward/Vinicius Jr",
          "Real Madrid/Goalkeeper/Courtois",
          "Real Madrid/Midfielder/Modric",
          "Real Madrid/Midfielder/Tchouameni",
          "Real Madrid/Midfielder/Valverde",
          "Real Madrid /Forward/Kylian Mbappe",
          "Shakhtar Donetsk/Forward/Kevin",
          "Shakhtar Donetsk/Goalkeeper/Riznyk",
          "Shakhtar Donetsk/Midfielder/Georgiy Sudakov",
          "Sporting CP/Defender/Gonçalo Inacio",
          "Sporting CP/Forward/Quenda",
          "Sporting CP/Forward/Trincao",
          "Sporting CP/Forward/Viktor Gyokeres",
          "Sporting CP/Goalkeeper/Franco Israel",
          "Sporting CP/Midfielder/Hjulmand",
          "Sturm Graz/Midfielder/Otar Kiteishvili",
          "VfB Stuttgart/Midfielder/Angelo Stiller",
          "VfB Stuttgart/Midfielder/Enzo Millot",
          "Arsenal FC/Defender",
          "Arsenal FC/Forward",
          "Arsenal FC/Goalkeeper",
          "Arsenal FC/Midfielder",
          "Aston Villa/Defender",
          "Aston Villa/Forward",
          "Aston Villa/Goalkeeper",
          "Aston Villa/Midfielder",
          "Atalanta BC/Defender",
          "Atalanta BC/Forward",
          "Atalanta BC/Goalkeeper",
          "Atalanta BC/Midfielder",
          "Atletico Madrid/Defender",
          "Atletico Madrid/Forward",
          "Atletico Madrid/Goalkeeper",
          "Atletico Madrid/Midfielder",
          "BVB Dortmund/Defender",
          "BVB Dortmund/Forward",
          "BVB Dortmund/Midfielder",
          "Barcelona/Defender",
          "Barcelona/Forward",
          "Barcelona/Goalkeeper",
          "Barcelona/Midfielder",
          "Bayer Leverkusen/Defender",
          "Bayer Leverkusen/Midfielder",
          "Bayern Munich/Defender",
          "Bayern Munich/Forward",
          "Bayern Munich/Midfielder",
          "Benfica/Defender",
          "Benfica/Forward",
          "Benfica/Midfielder",
          "Bologna/Defender",
          "Bologna/Forward",
          "Bologna/Goalkeeper",
          "Brest /Defender",
          "Brest /Goalkeeper",
          "Celtic/Defender",
          "Celtic/Forward",
          "Celtic/Goalkeeper",
          "Celtic/Midfielder",
          "Club Brugge/Defender",
          "Club Brugge/Forward",
          "Club Brugge/Goalkeeper",
          "Club Brugge/Midfielder",
          "Dinamo Zagreb/Midfielder",
          "Feyenoord/Forward",
          "Feyenoord/Goalkeeper",
          "Feyenoord/Midfielder",
          "Girona/Goalkeeper",
          "Inter/Defender",
          "Inter/Forward",
          "Inter/Goalkeeper",
          "Inter/Midfielder",
          "Juventus /Defender",
          "Juventus /Forward",
          "Juventus /Goalkeeper",
          "Juventus /Midfielder",
          "Leipzig/Forward",
          "Lille /Defender",
          "Lille /Forward",
          "Lille /Goalkeeper",
          "Lille /Midfielder",
          "Liverpool FC/Defender",
          "Liverpool FC/Forward",
          "Liverpool FC/Goalkeeper",
          "Liverpool FC/Midfielder",
          "Manchester City/Defender",
          "Manchester City/Forward",
          "Manchester City/Midfielder",
          "Milan/Defender",
          "Milan/Forward",
          "Milan/Goalkeeper",
          "Milan/Midfielder",
          "Monaco/Defender",
          "Monaco/Forward",
          "Monaco/Midfielder",
          "PSV Eindhoven/Defender",
          "PSV Eindhoven/Forward",
          "PSV Eindhoven/Midfielder",
          "Paris SG/Defender",
          "Paris SG/Forward",
          "Paris SG/Goalkeeper",
          "Paris SG/Midfielder",
          "Real Madrid/Defender",
          "Real Madrid/Forward",
          "Real Madrid/Goalkeeper",
          "Real Madrid/Midfielder",
          "Real Madrid /Forward",
          "Shakhtar Donetsk/Forward",
          "Shakhtar Donetsk/Goalkeeper",
          "Shakhtar Donetsk/Midfielder",
          "Sporting CP/Defender",
          "Sporting CP/Forward",
          "Sporting CP/Goalkeeper",
          "Sporting CP/Midfielder",
          "Sturm Graz/Midfielder",
          "VfB Stuttgart/Midfielder",
          "Arsenal FC",
          "Aston Villa",
          "Atalanta BC",
          "Atletico Madrid",
          "BVB Dortmund",
          "Barcelona",
          "Bayer Leverkusen",
          "Bayern Munich",
          "Benfica",
          "Bologna",
          "Brest ",
          "Celtic",
          "Club Brugge",
          "Dinamo Zagreb",
          "Feyenoord",
          "Girona",
          "Inter",
          "Juventus ",
          "Leipzig",
          "Lille ",
          "Liverpool FC",
          "Manchester City",
          "Milan",
          "Monaco",
          "PSV Eindhoven",
          "Paris SG",
          "Real Madrid",
          "Real Madrid ",
          "Shakhtar Donetsk",
          "Sporting CP",
          "Sturm Graz",
          "VfB Stuttgart"
         ],
         "labels": [
          "Calafiori",
          "Gabriel Magalhaes",
          "Jurrien Timber",
          "Saliba",
          "Bukayo Saka",
          "Kai Havertz",
          "Martinelli",
          "David Raya",
          "Declan Rice",
          "Mikel Merino",
          "Odegaard",
          "Partey",
          "Ezri Konsa",
          "Maatsen",
          "Marcus Rashford",
          "Emiliano Martinez",
          "Jacob Ramsey",
          "John McGinn",
          "Rogers",
          "Youri Tielemans",
          "Kolasinac",
          "Kossounou",
          "Marten de Roon",
          "Lookman",
          "Carnesecchi",
          "Charles Ketelaere",
          "Ederson",
          "Mario Pasalic",
          "Zappacosta",
          "Jose Gimenez",
          "Giuliano Simeone",
          "Griezmann",
          "Julian Alvarez",
          "Lino",
          "Jan Oblak",
          "De Paul",
          "Llorente",
          "Bensebaini",
          "Ryerson",
          "Schlotterbeck",
          "Waldemar Anton",
          "Adeyemi",
          "Gittens",
          "Guirassy",
          "Emre Can",
          "Felix Nmecha",
          "Julian Brandt",
          "Pascal Gross",
          "Balde",
          "Inigo Martinez",
          "Kounde",
          "Ferran Torres",
          "Lewandowski",
          "Raphinha",
          "Yamal",
          "Szczesny",
          "Casado",
          "Dani Olmo",
          "Fermin Lopez",
          "Pedri",
          "Frimpong",
          "Grimaldo",
          "Hincapie",
          "Mukiele",
          "Florian Wirtz",
          "Granit Xhaka",
          "Palacios",
          "Alphonso Davies",
          "Laimer",
          "Minjae Kim",
          "Upamecano",
          "Harry Kane",
          "Jamal Musiala",
          "Olise",
          "Thomas Muller",
          "Kimmich",
          "Leon Goretzka",
          "Alexander Bah",
          "Alvaro Carreras",
          "Otamendi",
          "Akturkoglu",
          "Di Maria",
          "Pavlidis",
          "Aursnes",
          "Florentino",
          "Orkun Kökcü",
          "Lucumi",
          "Sam Beukema",
          "Dan Ndoye",
          "Skorupski",
          "Kenny Lala",
          "Marco Bizot",
          "Johnston",
          "Kuhn",
          "Schmeichel",
          "Arne Engels",
          "Callum McGregor",
          "Reo Hatate",
          "De Cuyper",
          "Christos Tzolis",
          "Mignolet",
          "Hans Vanaken",
          "Jashari",
          "Baturina",
          "Igor Paixao",
          "Wellenreuther ",
          "Milambo",
          "Quinten Timber",
          "Gazzaniga",
          "Bastoni",
          "Dimarco",
          "Dumfries",
          "Francesco Acerbi",
          "Pavard",
          "Stefan de Vrij",
          "Lautaro Martinez",
          "Taremi",
          "Thuram",
          "Yann Sommer",
          "Calhanoglu",
          "Mkhitaryan",
          "Nicolo Barella",
          "Federico Gatti",
          "Conceiçao",
          "Kenan Yildiz",
          "Di Gregorio",
          "Locatelli",
          "Benjamin Sesko",
          "Alexsandro Ribeiro",
          "Thomas Meunier",
          "Jonathan David",
          "Chevalier",
          "Benjamin Andre",
          "Cabella",
          "Ibrahima Konate",
          "Robertson",
          "Van Dijk",
          "Gakpo",
          "Luis Diaz",
          "Salah",
          "Alisson Becker",
          "Gravenberch",
          "Mac Allister",
          "Szoboszlai",
          "Manuel Akanji",
          "Rico Lewis",
          "Haaland",
          "Phil Foden",
          "Savinho",
          "Gundogan",
          "Matheus Nunes",
          "Theo Hernandez",
          "Youssouf Fofana",
          "Pulisic",
          "Rafael Leao",
          "Santiago Gimenez",
          "Mike Maignan",
          "Tijjani Reijnders",
          "Singo",
          "Vanderson",
          "Embolo",
          "Maghnes Akliouche",
          "Minamino",
          "Golovin",
          "Lamine Camara",
          "Boscagli",
          "Mauro Junior",
          "Ryan Flamingo",
          "Ivan Perisic",
          "Johan Bakayoko",
          "Luuk de Jong",
          "Noa Lang",
          "Ismael Saibari",
          "Joey Veerman",
          "Tillman",
          "Hakimi",
          "Marquinhos",
          "Nuno Mendes",
          "Pacho",
          "Barcola",
          "Dembele",
          "Desire Doue",
          "Kvaratskhelia",
          "Donnarumma",
          "Fabian Ruiz",
          "Joao Neves",
          "Vitinha",
          "Raul Asencio",
          "Brahim Diaz",
          "Jude Bellingham",
          "Lucas Vazquez",
          "Rodrygo",
          "Vinicius Jr",
          "Courtois",
          "Modric",
          "Tchouameni",
          "Valverde",
          "Kylian Mbappe",
          "Kevin",
          "Riznyk",
          "Georgiy Sudakov",
          "Gonçalo Inacio",
          "Quenda",
          "Trincao",
          "Viktor Gyokeres",
          "Franco Israel",
          "Hjulmand",
          "Otar Kiteishvili",
          "Angelo Stiller",
          "Enzo Millot",
          "Defender",
          "Forward",
          "Goalkeeper",
          "Midfielder",
          "Defender",
          "Forward",
          "Goalkeeper",
          "Midfielder",
          "Defender",
          "Forward",
          "Goalkeeper",
          "Midfielder",
          "Defender",
          "Forward",
          "Goalkeeper",
          "Midfielder",
          "Defender",
          "Forward",
          "Midfielder",
          "Defender",
          "Forward",
          "Goalkeeper",
          "Midfielder",
          "Defender",
          "Midfielder",
          "Defender",
          "Forward",
          "Midfielder",
          "Defender",
          "Forward",
          "Midfielder",
          "Defender",
          "Forward",
          "Goalkeeper",
          "Defender",
          "Goalkeeper",
          "Defender",
          "Forward",
          "Goalkeeper",
          "Midfielder",
          "Defender",
          "Forward",
          "Goalkeeper",
          "Midfielder",
          "Midfielder",
          "Forward",
          "Goalkeeper",
          "Midfielder",
          "Goalkeeper",
          "Defender",
          "Forward",
          "Goalkeeper",
          "Midfielder",
          "Defender",
          "Forward",
          "Goalkeeper",
          "Midfielder",
          "Forward",
          "Defender",
          "Forward",
          "Goalkeeper",
          "Midfielder",
          "Defender",
          "Forward",
          "Goalkeeper",
          "Midfielder",
          "Defender",
          "Forward",
          "Midfielder",
          "Defender",
          "Forward",
          "Goalkeeper",
          "Midfielder",
          "Defender",
          "Forward",
          "Midfielder",
          "Defender",
          "Forward",
          "Midfielder",
          "Defender",
          "Forward",
          "Goalkeeper",
          "Midfielder",
          "Defender",
          "Forward",
          "Goalkeeper",
          "Midfielder",
          "Forward",
          "Forward",
          "Goalkeeper",
          "Midfielder",
          "Defender",
          "Forward",
          "Goalkeeper",
          "Midfielder",
          "Midfielder",
          "Midfielder",
          "Arsenal FC",
          "Aston Villa",
          "Atalanta BC",
          "Atletico Madrid",
          "BVB Dortmund",
          "Barcelona",
          "Bayer Leverkusen",
          "Bayern Munich",
          "Benfica",
          "Bologna",
          "Brest ",
          "Celtic",
          "Club Brugge",
          "Dinamo Zagreb",
          "Feyenoord",
          "Girona",
          "Inter",
          "Juventus ",
          "Leipzig",
          "Lille ",
          "Liverpool FC",
          "Manchester City",
          "Milan",
          "Monaco",
          "PSV Eindhoven",
          "Paris SG",
          "Real Madrid",
          "Real Madrid ",
          "Shakhtar Donetsk",
          "Sporting CP",
          "Sturm Graz",
          "VfB Stuttgart"
         ],
         "marker": {
          "coloraxis": "coloraxis",
          "colors": {
           "dtype": "f8",
           "bdata": "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"
          }
         },
         "name": "",
         "parents": [
          "Arsenal FC/Defender",
          "Arsenal FC/Defender",
          "Arsenal FC/Defender",
          "Arsenal FC/Defender",
          "Arsenal FC/Forward",
          "Arsenal FC/Forward",
          "Arsenal FC/Forward",
          "Arsenal FC/Goalkeeper",
          "Arsenal FC/Midfielder",
          "Arsenal FC/Midfielder",
          "Arsenal FC/Midfielder",
          "Arsenal FC/Midfielder",
          "Aston Villa/Defender",
          "Aston Villa/Defender",
          "Aston Villa/Forward",
          "Aston Villa/Goalkeeper",
          "Aston Villa/Midfielder",
          "Aston Villa/Midfielder",
          "Aston Villa/Midfielder",
          "Aston Villa/Midfielder",
          "Atalanta BC/Defender",
          "Atalanta BC/Defender",
          "Atalanta BC/Defender",
          "Atalanta BC/Forward",
          "Atalanta BC/Goalkeeper",
          "Atalanta BC/Midfielder",
          "Atalanta BC/Midfielder",
          "Atalanta BC/Midfielder",
          "Atalanta BC/Midfielder",
          "Atletico Madrid/Defender",
          "Atletico Madrid/Forward",
          "Atletico Madrid/Forward",
          "Atletico Madrid/Forward",
          "Atletico Madrid/Forward",
          "Atletico Madrid/Goalkeeper",
          "Atletico Madrid/Midfielder",
          "Atletico Madrid/Midfielder",
          "BVB Dortmund/Defender",
          "BVB Dortmund/Defender",
          "BVB Dortmund/Defender",
          "BVB Dortmund/Defender",
          "BVB Dortmund/Forward",
          "BVB Dortmund/Forward",
          "BVB Dortmund/Forward",
          "BVB Dortmund/Midfielder",
          "BVB Dortmund/Midfielder",
          "BVB Dortmund/Midfielder",
          "BVB Dortmund/Midfielder",
          "Barcelona/Defender",
          "Barcelona/Defender",
          "Barcelona/Defender",
          "Barcelona/Forward",
          "Barcelona/Forward",
          "Barcelona/Forward",
          "Barcelona/Forward",
          "Barcelona/Goalkeeper",
          "Barcelona/Midfielder",
          "Barcelona/Midfielder",
          "Barcelona/Midfielder",
          "Barcelona/Midfielder",
          "Bayer Leverkusen/Defender",
          "Bayer Leverkusen/Defender",
          "Bayer Leverkusen/Defender",
          "Bayer Leverkusen/Defender",
          "Bayer Leverkusen/Midfielder",
          "Bayer Leverkusen/Midfielder",
          "Bayer Leverkusen/Midfielder",
          "Bayern Munich/Defender",
          "Bayern Munich/Defender",
          "Bayern Munich/Defender",
          "Bayern Munich/Defender",
          "Bayern Munich/Forward",
          "Bayern Munich/Forward",
          "Bayern Munich/Forward",
          "Bayern Munich/Forward",
          "Bayern Munich/Midfielder",
          "Bayern Munich/Midfielder",
          "Benfica/Defender",
          "Benfica/Defender",
          "Benfica/Defender",
          "Benfica/Forward",
          "Benfica/Forward",
          "Benfica/Forward",
          "Benfica/Midfielder",
          "Benfica/Midfielder",
          "Benfica/Midfielder",
          "Bologna/Defender",
          "Bologna/Defender",
          "Bologna/Forward",
          "Bologna/Goalkeeper",
          "Brest /Defender",
          "Brest /Goalkeeper",
          "Celtic/Defender",
          "Celtic/Forward",
          "Celtic/Goalkeeper",
          "Celtic/Midfielder",
          "Celtic/Midfielder",
          "Celtic/Midfielder",
          "Club Brugge/Defender",
          "Club Brugge/Forward",
          "Club Brugge/Goalkeeper",
          "Club Brugge/Midfielder",
          "Club Brugge/Midfielder",
          "Dinamo Zagreb/Midfielder",
          "Feyenoord/Forward",
          "Feyenoord/Goalkeeper",
          "Feyenoord/Midfielder",
          "Feyenoord/Midfielder",
          "Girona/Goalkeeper",
          "Inter/Defender",
          "Inter/Defender",
          "Inter/Defender",
          "Inter/Defender",
          "Inter/Defender",
          "Inter/Defender",
          "Inter/Forward",
          "Inter/Forward",
          "Inter/Forward",
          "Inter/Goalkeeper",
          "Inter/Midfielder",
          "Inter/Midfielder",
          "Inter/Midfielder",
          "Juventus /Defender",
          "Juventus /Forward",
          "Juventus /Forward",
          "Juventus /Goalkeeper",
          "Juventus /Midfielder",
          "Leipzig/Forward",
          "Lille /Defender",
          "Lille /Defender",
          "Lille /Forward",
          "Lille /Goalkeeper",
          "Lille /Midfielder",
          "Lille /Midfielder",
          "Liverpool FC/Defender",
          "Liverpool FC/Defender",
          "Liverpool FC/Defender",
          "Liverpool FC/Forward",
          "Liverpool FC/Forward",
          "Liverpool FC/Forward",
          "Liverpool FC/Goalkeeper",
          "Liverpool FC/Midfielder",
          "Liverpool FC/Midfielder",
          "Liverpool FC/Midfielder",
          "Manchester City/Defender",
          "Manchester City/Defender",
          "Manchester City/Forward",
          "Manchester City/Forward",
          "Manchester City/Forward",
          "Manchester City/Midfielder",
          "Manchester City/Midfielder",
          "Milan/Defender",
          "Milan/Defender",
          "Milan/Forward",
          "Milan/Forward",
          "Milan/Forward",
          "Milan/Goalkeeper",
          "Milan/Midfielder",
          "Monaco/Defender",
          "Monaco/Defender",
          "Monaco/Forward",
          "Monaco/Forward",
          "Monaco/Forward",
          "Monaco/Midfielder",
          "Monaco/Midfielder",
          "PSV Eindhoven/Defender",
          "PSV Eindhoven/Defender",
          "PSV Eindhoven/Defender",
          "PSV Eindhoven/Forward",
          "PSV Eindhoven/Forward",
          "PSV Eindhoven/Forward",
          "PSV Eindhoven/Forward",
          "PSV Eindhoven/Midfielder",
          "PSV Eindhoven/Midfielder",
          "PSV Eindhoven/Midfielder",
          "Paris SG/Defender",
          "Paris SG/Defender",
          "Paris SG/Defender",
          "Paris SG/Defender",
          "Paris SG/Forward",
          "Paris SG/Forward",
          "Paris SG/Forward",
          "Paris SG/Forward",
          "Paris SG/Goalkeeper",
          "Paris SG/Midfielder",
          "Paris SG/Midfielder",
          "Paris SG/Midfielder",
          "Real Madrid/Defender",
          "Real Madrid/Forward",
          "Real Madrid/Forward",
          "Real Madrid/Forward",
          "Real Madrid/Forward",
          "Real Madrid/Forward",
          "Real Madrid/Goalkeeper",
          "Real Madrid/Midfielder",
          "Real Madrid/Midfielder",
          "Real Madrid/Midfielder",
          "Real Madrid /Forward",
          "Shakhtar Donetsk/Forward",
          "Shakhtar Donetsk/Goalkeeper",
          "Shakhtar Donetsk/Midfielder",
          "Sporting CP/Defender",
          "Sporting CP/Forward",
          "Sporting CP/Forward",
          "Sporting CP/Forward",
          "Sporting CP/Goalkeeper",
          "Sporting CP/Midfielder",
          "Sturm Graz/Midfielder",
          "VfB Stuttgart/Midfielder",
          "VfB Stuttgart/Midfielder",
          "Arsenal FC",
          "Arsenal FC",
          "Arsenal FC",
          "Arsenal FC",
          "Aston Villa",
          "Aston Villa",
          "Aston Villa",
          "Aston Villa",
          "Atalanta BC",
          "Atalanta BC",
          "Atalanta BC",
          "Atalanta BC",
          "Atletico Madrid",
          "Atletico Madrid",
          "Atletico Madrid",
          "Atletico Madrid",
          "BVB Dortmund",
          "BVB Dortmund",
          "BVB Dortmund",
          "Barcelona",
          "Barcelona",
          "Barcelona",
          "Barcelona",
          "Bayer Leverkusen",
          "Bayer Leverkusen",
          "Bayern Munich",
          "Bayern Munich",
          "Bayern Munich",
          "Benfica",
          "Benfica",
          "Benfica",
          "Bologna",
          "Bologna",
          "Bologna",
          "Brest ",
          "Brest ",
          "Celtic",
          "Celtic",
          "Celtic",
          "Celtic",
          "Club Brugge",
          "Club Brugge",
          "Club Brugge",
          "Club Brugge",
          "Dinamo Zagreb",
          "Feyenoord",
          "Feyenoord",
          "Feyenoord",
          "Girona",
          "Inter",
          "Inter",
          "Inter",
          "Inter",
          "Juventus ",
          "Juventus ",
          "Juventus ",
          "Juventus ",
          "Leipzig",
          "Lille ",
          "Lille ",
          "Lille ",
          "Lille ",
          "Liverpool FC",
          "Liverpool FC",
          "Liverpool FC",
          "Liverpool FC",
          "Manchester City",
          "Manchester City",
          "Manchester City",
          "Milan",
          "Milan",
          "Milan",
          "Milan",
          "Monaco",
          "Monaco",
          "Monaco",
          "PSV Eindhoven",
          "PSV Eindhoven",
          "PSV Eindhoven",
          "Paris SG",
          "Paris SG",
          "Paris SG",
          "Paris SG",
          "Real Madrid",
          "Real Madrid",
          "Real Madrid",
          "Real Madrid",
          "Real Madrid ",
          "Shakhtar Donetsk",
          "Shakhtar Donetsk",
          "Shakhtar Donetsk",
          "Sporting CP",
          "Sporting CP",
          "Sporting CP",
          "Sporting CP",
          "Sturm Graz",
          "VfB Stuttgart",
          "",
          "",
          "",
          "",
          "",
          "",
          "",
          "",
          "",
          "",
          "",
          "",
          "",
          "",
          "",
          "",
          "",
          "",
          "",
          "",
          "",
          "",
          "",
          "",
          "",
          "",
          "",
          "",
          "",
          "",
          "",
          ""
         ],
         "values": {
          "dtype": "f8",
          "bdata": "AAAAAAAAPkAAAAAAAIBLQAAAAAAAgE1AAAAAAACAU0AAAAAAAAAoQAAAAAAAABhAAAAAAAAALEAAAAAAAAAAAAAAAAAAAEdAAAAAAAAAQEAAAAAAAAAoQAAAAAAAAEhAAAAAAACAUUAAAAAAAABAQAAAAAAAAPA/AAAAAAAAAAAAAAAAAAAuQAAAAAAAAEBAAAAAAAAAMEAAAAAAAIBKQAAAAAAAAEdAAAAAAAAAOUAAAAAAAABUQAAAAAAAABxAAAAAAAAAAAAAAAAAAAAqQAAAAAAAAD9AAAAAAAAAOUAAAAAAAAAzQAAAAAAAAEpAAAAAAAAAOUAAAAAAAAA6QAAAAAAAADhAAAAAAAAAOkAAAAAAAAAAAAAAAAAAgEFAAAAAAACARUAAAAAAAIBPQAAAAAAAwFBAAAAAAADAV0AAAAAAAABCQAAAAAAAAD9AAAAAAAAANkAAAAAAAAAcQAAAAAAAgFJAAAAAAAAAQkAAAAAAAAA3QAAAAAAAAEpAAAAAAACAQkAAAAAAAABLQAAAAAAAAFBAAAAAAAAAGEAAAAAAAAAuQAAAAAAAADRAAAAAAAAAOEAAAAAAAAAAAAAAAAAAAE5AAAAAAAAAMkAAAAAAAAAzQAAAAAAAgEtAAAAAAAAAKkAAAAAAAIBBQAAAAAAAAEdAAAAAAAAANkAAAAAAAAA2QAAAAAAAAElAAAAAAAAATUAAAAAAAIBEQAAAAAAAgEhAAAAAAACAV0AAAAAAAMBWQAAAAAAAAChAAAAAAAAAQUAAAAAAAAA7QAAAAAAAABRAAAAAAADAUEAAAAAAAIBLQAAAAAAAgENAAAAAAACASkAAAAAAAIBZQAAAAAAAAD9AAAAAAAAAKkAAAAAAAAAuQAAAAAAAAEJAAAAAAAAAWEAAAAAAAABDQAAAAAAAgERAAAAAAAAAREAAAAAAAAA/QAAAAAAAAAAAAAAAAACAQkAAAAAAAAAAAAAAAAAAAFFAAAAAAAAAPkAAAAAAAAAAAAAAAAAAgEJAAAAAAACASEAAAAAAAABAQAAAAAAAAFRAAAAAAAAAM0AAAAAAAAAAAAAAAAAAAEJAAAAAAACAQEAAAAAAAAAwQAAAAAAAADFAAAAAAAAAAAAAAAAAAAA6QAAAAAAAgEFAAAAAAAAAAAAAAAAAAABTQAAAAAAAADVAAAAAAACAREAAAAAAAABJQAAAAAAAAEpAAAAAAAAAT0AAAAAAAAAyQAAAAAAAADdAAAAAAAAAMEAAAAAAAAAAAAAAAAAAAE5AAAAAAAAAR0AAAAAAAABEQAAAAAAAgE9AAAAAAAAALkAAAAAAAAAuQAAAAAAAAPA/AAAAAACAUUAAAAAAAAAgQAAAAAAAAFZAAAAAAACASEAAAAAAAAAUQAAAAAAAAAAAAAAAAACAUEAAAAAAAAAwQAAAAAAAAERAAAAAAAAAPUAAAAAAAABLQAAAAAAAAChAAAAAAAAALkAAAAAAAAAgQAAAAAAAAAAAAAAAAACAS0AAAAAAAABHQAAAAAAAADlAAAAAAAAASUAAAAAAAAA+QAAAAAAAABhAAAAAAAAALEAAAAAAAAAqQAAAAAAAAC5AAAAAAAAAQkAAAAAAAIBLQAAAAAAAgERAAAAAAAAAIEAAAAAAAAAQQAAAAAAAAPA/AAAAAAAAAAAAAAAAAIBCQAAAAAAAAExAAAAAAAAAUkAAAAAAAAAoQAAAAAAAADxAAAAAAAAAIkAAAAAAAAA1QAAAAAAAAEhAAAAAAADAU0AAAAAAAIBHQAAAAAAAQFBAAAAAAAAALEAAAAAAAABBQAAAAAAAADVAAAAAAAAAOUAAAAAAAAA7QAAAAAAAADxAAAAAAAAAQkAAAAAAAEBVQAAAAAAAwF1AAAAAAACAW0AAAAAAACBgQAAAAAAAADZAAAAAAAAALkAAAAAAAAA5QAAAAAAAADxAAAAAAAAAAAAAAAAAAIBIQAAAAAAAgFpAAAAAAADAUUAAAAAAAABCQAAAAAAAADFAAAAAAACASEAAAAAAAAA6QAAAAAAAAC5AAAAAAAAAN0AAAAAAAAAAAAAAAAAAAD1AAAAAAACARkAAAAAAAMBTQAAAAAAAAChAAAAAAAAAOEAAAAAAAAAAAAAAAAAAADlAAAAAAACAQ0AAAAAAAAAxQAAAAAAAADRAAAAAAAAAAEAAAAAAAAAAAAAAAAAAAElAAAAAAACAQEAAAAAAAAA/QAAAAAAAADRAAAAAAADAa0AAAAAAAABAQAAAAAAAAAAAAAAAAABAYUAAAAAAAIBZQAAAAAAAAPA/AAAAAAAAAAAAAAAAAABdQAAAAAAA4GJAAAAAAAAAHEAAAAAAAAAAAAAAAAAAAFZAAAAAAAAASkAAAAAAAEBZQAAAAAAAAAAAAAAAAACAU0AAAAAAAFBwQAAAAAAAAE5AAAAAAAAgZ0AAAAAAAGBjQAAAAAAAQFBAAAAAAAAAAAAAAAAAAABjQAAAAAAAAF1AAAAAAABAYEAAAAAAADBxQAAAAAAAgFNAAAAAAACAXkAAAAAAAEBoQAAAAAAAgE1AAAAAAABAZUAAAAAAAEBUQAAAAAAAAD9AAAAAAAAAAAAAAAAAAIBCQAAAAAAAAAAAAAAAAAAAUUAAAAAAAAA+QAAAAAAAAAAAAAAAAACAXUAAAAAAAABUQAAAAAAAADNAAAAAAAAAAAAAAAAAAEBRQAAAAAAAADBAAAAAAAAAMUAAAAAAAAAAAAAAAAAAgE5AAAAAAAAAAAAAAAAAAOByQAAAAAAAgExAAAAAAAAAAAAAAAAAAEBiQAAAAAAAgE9AAAAAAAAAPkAAAAAAAADwPwAAAAAAgFFAAAAAAAAAIEAAAAAAACBhQAAAAAAAABRAAAAAAAAAAAAAAAAAAIBUQAAAAAAAwF5AAAAAAACAQUAAAAAAAAAAAAAAAAAAgF9AAAAAAAAAVEAAAAAAAIBAQAAAAAAAgElAAAAAAAAAWEAAAAAAAAAqQAAAAAAAAAAAAAAAAACAQkAAAAAAAABgQAAAAAAAgEhAAAAAAABAUUAAAAAAAOBnQAAAAAAAgFdAAAAAAADAVkAAAAAAALB7QAAAAAAAgFZAAAAAAAAAAAAAAAAAAEBsQAAAAAAAAEJAAAAAAABAYEAAAAAAAAAAAAAAAAAAIGNAAAAAAAAAKEAAAAAAAAA4QAAAAAAAAAAAAAAAAAAAOUAAAAAAAIBDQAAAAAAAgENAAAAAAAAAAAAAAAAAAABJQAAAAAAAgEBAAAAAAACASUAAAAAAAIB4QAAAAAAAYGtAAAAAAADAbkAAAAAAAOBsQAAAAAAAoH9AAAAAAABAd0AAAAAAAMBuQAAAAAAAsH1AAAAAAABwekAAAAAAAABcQAAAAAAAgEJAAAAAAAAAa0AAAAAAAABlQAAAAAAAADBAAAAAAACAU0AAAAAAAAAAAAAAAAAAkH9AAAAAAACAZEAAAAAAAAAgQAAAAAAAAGxAAAAAAADAcUAAAAAAAIBkQAAAAAAAQGJAAAAAAADAbkAAAAAAAIB3QAAAAAAAuIdAAAAAAADwc0AAAAAAAAAoQAAAAAAAgEhAAAAAAAAAYEAAAAAAAIBAQAAAAAAAgElA"
         },
         "type": "treemap"
        }
       ],
       "layout": {
        "template": {
         "data": {
          "histogram2dcontour": [
           {
            "type": "histogram2dcontour",
            "colorbar": {
             "outlinewidth": 0,
             "ticks": ""
            },
            "colorscale": [
             [
              0.0,
              "#0d0887"
             ],
             [
              0.1111111111111111,
              "#46039f"
             ],
             [
              0.2222222222222222,
              "#7201a8"
             ],
             [
              0.3333333333333333,
              "#9c179e"
             ],
             [
              0.4444444444444444,
              "#bd3786"
             ],
             [
              0.5555555555555556,
              "#d8576b"
             ],
             [
              0.6666666666666666,
              "#ed7953"
             ],
             [
              0.7777777777777778,
              "#fb9f3a"
             ],
             [
              0.8888888888888888,
              "#fdca26"
             ],
             [
              1.0,
              "#f0f921"
             ]
            ]
           }
          ],
          "choropleth": [
           {
            "type": "choropleth",
            "colorbar": {
             "outlinewidth": 0,
             "ticks": ""
            }
           }
          ],
          "histogram2d": [
           {
            "type": "histogram2d",
            "colorbar": {
             "outlinewidth": 0,
             "ticks": ""
            },
            "colorscale": [
             [
              0.0,
              "#0d0887"
             ],
             [
              0.1111111111111111,
              "#46039f"
             ],
             [
              0.2222222222222222,
              "#7201a8"
             ],
             [
              0.3333333333333333,
              "#9c179e"
             ],
             [
              0.4444444444444444,
              "#bd3786"
             ],
             [
              0.5555555555555556,
              "#d8576b"
             ],
             [
              0.6666666666666666,
              "#ed7953"
             ],
             [
              0.7777777777777778,
              "#fb9f3a"
             ],
             [
              0.8888888888888888,
              "#fdca26"
             ],
             [
              1.0,
              "#f0f921"
             ]
            ]
           }
          ],
          "heatmap": [
           {
            "type": "heatmap",
            "colorbar": {
             "outlinewidth": 0,
             "ticks": ""
            },
            "colorscale": [
             [
              0.0,
              "#0d0887"
             ],
             [
              0.1111111111111111,
              "#46039f"
             ],
             [
              0.2222222222222222,
              "#7201a8"
             ],
             [
              0.3333333333333333,
              "#9c179e"
             ],
             [
              0.4444444444444444,
              "#bd3786"
             ],
             [
              0.5555555555555556,
              "#d8576b"
             ],
             [
              0.6666666666666666,
              "#ed7953"
             ],
             [
              0.7777777777777778,
              "#fb9f3a"
             ],
             [
              0.8888888888888888,
              "#fdca26"
             ],
             [
              1.0,
              "#f0f921"
             ]
            ]
           }
          ],
          "contourcarpet": [
           {
            "type": "contourcarpet",
            "colorbar": {
             "outlinewidth": 0,
             "ticks": ""
            }
           }
          ],
          "contour": [
           {
            "type": "contour",
            "colorbar": {
             "outlinewidth": 0,
             "ticks": ""
            },
            "colorscale": [
             [
              0.0,
              "#0d0887"
             ],
             [
              0.1111111111111111,
              "#46039f"
             ],
             [
              0.2222222222222222,
              "#7201a8"
             ],
             [
              0.3333333333333333,
              "#9c179e"
             ],
             [
              0.4444444444444444,
              "#bd3786"
             ],
             [
              0.5555555555555556,
              "#d8576b"
             ],
             [
              0.6666666666666666,
              "#ed7953"
             ],
             [
              0.7777777777777778,
              "#fb9f3a"
             ],
             [
              0.8888888888888888,
              "#fdca26"
             ],
             [
              1.0,
              "#f0f921"
             ]
            ]
           }
          ],
          "surface": [
           {
            "type": "surface",
            "colorbar": {
             "outlinewidth": 0,
             "ticks": ""
            },
            "colorscale": [
             [
              0.0,
              "#0d0887"
             ],
             [
              0.1111111111111111,
              "#46039f"
             ],
             [
              0.2222222222222222,
              "#7201a8"
             ],
             [
              0.3333333333333333,
              "#9c179e"
             ],
             [
              0.4444444444444444,
              "#bd3786"
             ],
             [
              0.5555555555555556,
              "#d8576b"
             ],
             [
              0.6666666666666666,
              "#ed7953"
             ],
             [
              0.7777777777777778,
              "#fb9f3a"
             ],
             [
              0.8888888888888888,
              "#fdca26"
             ],
             [
              1.0,
              "#f0f921"
             ]
            ]
           }
          ],
          "mesh3d": [
           {
            "type": "mesh3d",
            "colorbar": {
             "outlinewidth": 0,
             "ticks": ""
            }
           }
          ],
          "scatter": [
           {
            "fillpattern": {
             "fillmode": "overlay",
             "size": 10,
             "solidity": 0.2
            },
            "type": "scatter"
           }
          ],
          "parcoords": [
           {
            "type": "parcoords",
            "line": {
             "colorbar": {
              "outlinewidth": 0,
              "ticks": ""
             }
            }
           }
          ],
          "scatterpolargl": [
           {
            "type": "scatterpolargl",
            "marker": {
             "colorbar": {
              "outlinewidth": 0,
              "ticks": ""
             }
            }
           }
          ],
          "bar": [
           {
            "error_x": {
             "color": "#2a3f5f"
            },
            "error_y": {
             "color": "#2a3f5f"
            },
            "marker": {
             "line": {
              "color": "#E5ECF6",
              "width": 0.5
             },
             "pattern": {
              "fillmode": "overlay",
              "size": 10,
              "solidity": 0.2
             }
            },
            "type": "bar"
           }
          ],
          "scattergeo": [
           {
            "type": "scattergeo",
            "marker": {
             "colorbar": {
              "outlinewidth": 0,
              "ticks": ""
             }
            }
           }
          ],
          "scatterpolar": [
           {
            "type": "scatterpolar",
            "marker": {
             "colorbar": {
              "outlinewidth": 0,
              "ticks": ""
             }
            }
           }
          ],
          "histogram": [
           {
            "marker": {
             "pattern": {
              "fillmode": "overlay",
              "size": 10,
              "solidity": 0.2
             }
            },
            "type": "histogram"
           }
          ],
          "scattergl": [
           {
            "type": "scattergl",
            "marker": {
             "colorbar": {
              "outlinewidth": 0,
              "ticks": ""
             }
            }
           }
          ],
          "scatter3d": [
           {
            "type": "scatter3d",
            "line": {
             "colorbar": {
              "outlinewidth": 0,
              "ticks": ""
             }
            },
            "marker": {
             "colorbar": {
              "outlinewidth": 0,
              "ticks": ""
             }
            }
           }
          ],
          "scattermap": [
           {
            "type": "scattermap",
            "marker": {
             "colorbar": {
              "outlinewidth": 0,
              "ticks": ""
             }
            }
           }
          ],
          "scattermapbox": [
           {
            "type": "scattermapbox",
            "marker": {
             "colorbar": {
              "outlinewidth": 0,
              "ticks": ""
             }
            }
           }
          ],
          "scatterternary": [
           {
            "type": "scatterternary",
            "marker": {
             "colorbar": {
              "outlinewidth": 0,
              "ticks": ""
             }
            }
           }
          ],
          "scattercarpet": [
           {
            "type": "scattercarpet",
            "marker": {
             "colorbar": {
              "outlinewidth": 0,
              "ticks": ""
             }
            }
           }
          ],
          "carpet": [
           {
            "aaxis": {
             "endlinecolor": "#2a3f5f",
             "gridcolor": "white",
             "linecolor": "white",
             "minorgridcolor": "white",
             "startlinecolor": "#2a3f5f"
            },
            "baxis": {
             "endlinecolor": "#2a3f5f",
             "gridcolor": "white",
             "linecolor": "white",
             "minorgridcolor": "white",
             "startlinecolor": "#2a3f5f"
            },
            "type": "carpet"
           }
          ],
          "table": [
           {
            "cells": {
             "fill": {
              "color": "#EBF0F8"
             },
             "line": {
              "color": "white"
             }
            },
            "header": {
             "fill": {
              "color": "#C8D4E3"
             },
             "line": {
              "color": "white"
             }
            },
            "type": "table"
           }
          ],
          "barpolar": [
           {
            "marker": {
             "line": {
              "color": "#E5ECF6",
              "width": 0.5
             },
             "pattern": {
              "fillmode": "overlay",
              "size": 10,
              "solidity": 0.2
             }
            },
            "type": "barpolar"
           }
          ],
          "pie": [
           {
            "automargin": true,
            "type": "pie"
           }
          ]
         },
         "layout": {
          "autotypenumbers": "strict",
          "colorway": [
           "#636efa",
           "#EF553B",
           "#00cc96",
           "#ab63fa",
           "#FFA15A",
           "#19d3f3",
           "#FF6692",
           "#B6E880",
           "#FF97FF",
           "#FECB52"
          ],
          "font": {
           "color": "#2a3f5f"
          },
          "hovermode": "closest",
          "hoverlabel": {
           "align": "left"
          },
          "paper_bgcolor": "white",
          "plot_bgcolor": "#E5ECF6",
          "polar": {
           "bgcolor": "#E5ECF6",
           "angularaxis": {
            "gridcolor": "white",
            "linecolor": "white",
            "ticks": ""
           },
           "radialaxis": {
            "gridcolor": "white",
            "linecolor": "white",
            "ticks": ""
           }
          },
          "ternary": {
           "bgcolor": "#E5ECF6",
           "aaxis": {
            "gridcolor": "white",
            "linecolor": "white",
            "ticks": ""
           },
           "baxis": {
            "gridcolor": "white",
            "linecolor": "white",
            "ticks": ""
           },
           "caxis": {
            "gridcolor": "white",
            "linecolor": "white",
            "ticks": ""
           }
          },
          "coloraxis": {
           "colorbar": {
            "outlinewidth": 0,
            "ticks": ""
           }
          },
          "colorscale": {
           "sequential": [
            [
             0.0,
             "#0d0887"
            ],
            [
             0.1111111111111111,
             "#46039f"
            ],
            [
             0.2222222222222222,
             "#7201a8"
            ],
            [
             0.3333333333333333,
             "#9c179e"
            ],
            [
             0.4444444444444444,
             "#bd3786"
            ],
            [
             0.5555555555555556,
             "#d8576b"
            ],
            [
             0.6666666666666666,
             "#ed7953"
            ],
            [
             0.7777777777777778,
             "#fb9f3a"
            ],
            [
             0.8888888888888888,
             "#fdca26"
            ],
            [
             1.0,
             "#f0f921"
            ]
           ],
           "sequentialminus": [
            [
             0.0,
             "#0d0887"
            ],
            [
             0.1111111111111111,
             "#46039f"
            ],
            [
             0.2222222222222222,
             "#7201a8"
            ],
            [
             0.3333333333333333,
             "#9c179e"
            ],
            [
             0.4444444444444444,
             "#bd3786"
            ],
            [
             0.5555555555555556,
             "#d8576b"
            ],
            [
             0.6666666666666666,
             "#ed7953"
            ],
            [
             0.7777777777777778,
             "#fb9f3a"
            ],
            [
             0.8888888888888888,
             "#fdca26"
            ],
            [
             1.0,
             "#f0f921"
            ]
           ],
           "diverging": [
            [
             0,
             "#8e0152"
            ],
            [
             0.1,
             "#c51b7d"
            ],
            [
             0.2,
             "#de77ae"
            ],
            [
             0.3,
             "#f1b6da"
            ],
            [
             0.4,
             "#fde0ef"
            ],
            [
             0.5,
             "#f7f7f7"
            ],
            [
             0.6,
             "#e6f5d0"
            ],
            [
             0.7,
             "#b8e186"
            ],
            [
             0.8,
             "#7fbc41"
            ],
            [
             0.9,
             "#4d9221"
            ],
            [
             1,
             "#276419"
            ]
           ]
          },
          "xaxis": {
           "gridcolor": "white",
           "linecolor": "white",
           "ticks": "",
           "title": {
            "standoff": 15
           },
           "zerolinecolor": "white",
           "automargin": true,
           "zerolinewidth": 2
          },
          "yaxis": {
           "gridcolor": "white",
           "linecolor": "white",
           "ticks": "",
           "title": {
            "standoff": 15
           },
           "zerolinecolor": "white",
           "automargin": true,
           "zerolinewidth": 2
          },
          "scene": {
           "xaxis": {
            "backgroundcolor": "#E5ECF6",
            "gridcolor": "white",
            "linecolor": "white",
            "showbackground": true,
            "ticks": "",
            "zerolinecolor": "white",
            "gridwidth": 2
           },
           "yaxis": {
            "backgroundcolor": "#E5ECF6",
            "gridcolor": "white",
            "linecolor": "white",
            "showbackground": true,
            "ticks": "",
            "zerolinecolor": "white",
            "gridwidth": 2
           },
           "zaxis": {
            "backgroundcolor": "#E5ECF6",
            "gridcolor": "white",
            "linecolor": "white",
            "showbackground": true,
            "ticks": "",
            "zerolinecolor": "white",
            "gridwidth": 2
           }
          },
          "shapedefaults": {
           "line": {
            "color": "#2a3f5f"
           }
          },
          "annotationdefaults": {
           "arrowcolor": "#2a3f5f",
           "arrowhead": 0,
           "arrowwidth": 1
          },
          "geo": {
           "bgcolor": "white",
           "landcolor": "#E5ECF6",
           "subunitcolor": "white",
           "showland": true,
           "showlakes": true,
           "lakecolor": "white"
          },
          "title": {
           "x": 0.05
          },
          "mapbox": {
           "style": "light"
          }
         }
        },
        "coloraxis": {
         "colorbar": {
          "title": {
           "text": "Defensive_Score"
          }
         },
         "colorscale": [
          [
           0.0,
           "rgb(255,247,236)"
          ],
          [
           0.125,
           "rgb(254,232,200)"
          ],
          [
           0.25,
           "rgb(253,212,158)"
          ],
          [
           0.375,
           "rgb(253,187,132)"
          ],
          [
           0.5,
           "rgb(252,141,89)"
          ],
          [
           0.625,
           "rgb(239,101,72)"
          ],
          [
           0.75,
           "rgb(215,48,31)"
          ],
          [
           0.875,
           "rgb(179,0,0)"
          ],
          [
           1.0,
           "rgb(127,0,0)"
          ]
         ]
        },
        "legend": {
         "tracegroupgap": 0
        },
        "title": {
         "text": "Treemap: Defensive Contributions by Team, Position and Player"
        },
        "margin": {
         "t": 60,
         "l": 0,
         "r": 0,
         "b": 0
        }
       },
       "config": {
        "plotlyServerURL": "https://plot.ly"
       }
      }
     },
     "metadata": {},
     "output_type": "display_data"
    }
   ],
   "execution_count": 7
  },
  {
   "metadata": {
    "ExecuteTime": {
     "end_time": "2025-06-10T10:44:29.318318Z",
     "start_time": "2025-06-10T10:44:29.310750Z"
    }
   },
   "cell_type": "code",
   "source": [
    "nationality_counts = ucl['Nationality'].value_counts()\n",
    "print(nationality_counts)"
   ],
   "id": "7e9f5b808f69b72e",
   "outputs": [
    {
     "name": "stdout",
     "output_type": "stream",
     "text": [
      "Nationality\n",
      "France           24\n",
      "Netherlands      18\n",
      "Germany          16\n",
      "Spain            16\n",
      "Brazil           15\n",
      "Italy            11\n",
      "England          11\n",
      "Argentina        10\n",
      "Belgium           9\n",
      "Portugal          9\n",
      "Switzerland       6\n",
      "Turkey            5\n",
      "Norway            4\n",
      "Croatia           4\n",
      "Morocco           3\n",
      "Poland            3\n",
      "Denmark           3\n",
      "Canada            3\n",
      "Uruguay           3\n",
      "Scotland          3\n",
      "United States     2\n",
      "Slovenia          2\n",
      "Japan             2\n",
      "Ecuador           2\n",
      "Ukraine           2\n",
      "Ivory Coast       2\n",
      "Greece            2\n",
      "Georgia           2\n",
      "Colombia          2\n",
      "Nigeria           2\n",
      "Algeria           1\n",
      "Hungary           1\n",
      "Iran              1\n",
      "Mexico            1\n",
      "Armenia           1\n",
      "Portugal          1\n",
      "BosniaH           1\n",
      "Senegal           1\n",
      "South Korea       1\n",
      "Egypt             1\n",
      "Sweden            1\n",
      "Ghana             1\n",
      "Austria           1\n",
      "Russia            1\n",
      "Name: count, dtype: int64\n"
     ]
    }
   ],
   "execution_count": 8
  },
  {
   "metadata": {
    "ExecuteTime": {
     "end_time": "2025-06-10T10:44:29.392644Z",
     "start_time": "2025-06-10T10:44:29.379824Z"
    }
   },
   "cell_type": "code",
   "source": [
    "nationality_counts = ucl['Nationality'].value_counts().head(20).reset_index()\n",
    "nationality_counts.columns = ['Nationality', 'Count']\n",
    "\n",
    "nationality_counts"
   ],
   "id": "13b8b79bf7f508fa",
   "outputs": [
    {
     "data": {
      "text/plain": [
       "    Nationality  Count\n",
       "0        France     24\n",
       "1   Netherlands     18\n",
       "2       Germany     16\n",
       "3         Spain     16\n",
       "4        Brazil     15\n",
       "5         Italy     11\n",
       "6       England     11\n",
       "7     Argentina     10\n",
       "8       Belgium      9\n",
       "9      Portugal      9\n",
       "10  Switzerland      6\n",
       "11       Turkey      5\n",
       "12       Norway      4\n",
       "13      Croatia      4\n",
       "14      Morocco      3\n",
       "15       Poland      3\n",
       "16      Denmark      3\n",
       "17       Canada      3\n",
       "18      Uruguay      3\n",
       "19     Scotland      3"
      ],
      "text/html": [
       "<div>\n",
       "<style scoped>\n",
       "    .dataframe tbody tr th:only-of-type {\n",
       "        vertical-align: middle;\n",
       "    }\n",
       "\n",
       "    .dataframe tbody tr th {\n",
       "        vertical-align: top;\n",
       "    }\n",
       "\n",
       "    .dataframe thead th {\n",
       "        text-align: right;\n",
       "    }\n",
       "</style>\n",
       "<table border=\"1\" class=\"dataframe\">\n",
       "  <thead>\n",
       "    <tr style=\"text-align: right;\">\n",
       "      <th></th>\n",
       "      <th>Nationality</th>\n",
       "      <th>Count</th>\n",
       "    </tr>\n",
       "  </thead>\n",
       "  <tbody>\n",
       "    <tr>\n",
       "      <th>0</th>\n",
       "      <td>France</td>\n",
       "      <td>24</td>\n",
       "    </tr>\n",
       "    <tr>\n",
       "      <th>1</th>\n",
       "      <td>Netherlands</td>\n",
       "      <td>18</td>\n",
       "    </tr>\n",
       "    <tr>\n",
       "      <th>2</th>\n",
       "      <td>Germany</td>\n",
       "      <td>16</td>\n",
       "    </tr>\n",
       "    <tr>\n",
       "      <th>3</th>\n",
       "      <td>Spain</td>\n",
       "      <td>16</td>\n",
       "    </tr>\n",
       "    <tr>\n",
       "      <th>4</th>\n",
       "      <td>Brazil</td>\n",
       "      <td>15</td>\n",
       "    </tr>\n",
       "    <tr>\n",
       "      <th>5</th>\n",
       "      <td>Italy</td>\n",
       "      <td>11</td>\n",
       "    </tr>\n",
       "    <tr>\n",
       "      <th>6</th>\n",
       "      <td>England</td>\n",
       "      <td>11</td>\n",
       "    </tr>\n",
       "    <tr>\n",
       "      <th>7</th>\n",
       "      <td>Argentina</td>\n",
       "      <td>10</td>\n",
       "    </tr>\n",
       "    <tr>\n",
       "      <th>8</th>\n",
       "      <td>Belgium</td>\n",
       "      <td>9</td>\n",
       "    </tr>\n",
       "    <tr>\n",
       "      <th>9</th>\n",
       "      <td>Portugal</td>\n",
       "      <td>9</td>\n",
       "    </tr>\n",
       "    <tr>\n",
       "      <th>10</th>\n",
       "      <td>Switzerland</td>\n",
       "      <td>6</td>\n",
       "    </tr>\n",
       "    <tr>\n",
       "      <th>11</th>\n",
       "      <td>Turkey</td>\n",
       "      <td>5</td>\n",
       "    </tr>\n",
       "    <tr>\n",
       "      <th>12</th>\n",
       "      <td>Norway</td>\n",
       "      <td>4</td>\n",
       "    </tr>\n",
       "    <tr>\n",
       "      <th>13</th>\n",
       "      <td>Croatia</td>\n",
       "      <td>4</td>\n",
       "    </tr>\n",
       "    <tr>\n",
       "      <th>14</th>\n",
       "      <td>Morocco</td>\n",
       "      <td>3</td>\n",
       "    </tr>\n",
       "    <tr>\n",
       "      <th>15</th>\n",
       "      <td>Poland</td>\n",
       "      <td>3</td>\n",
       "    </tr>\n",
       "    <tr>\n",
       "      <th>16</th>\n",
       "      <td>Denmark</td>\n",
       "      <td>3</td>\n",
       "    </tr>\n",
       "    <tr>\n",
       "      <th>17</th>\n",
       "      <td>Canada</td>\n",
       "      <td>3</td>\n",
       "    </tr>\n",
       "    <tr>\n",
       "      <th>18</th>\n",
       "      <td>Uruguay</td>\n",
       "      <td>3</td>\n",
       "    </tr>\n",
       "    <tr>\n",
       "      <th>19</th>\n",
       "      <td>Scotland</td>\n",
       "      <td>3</td>\n",
       "    </tr>\n",
       "  </tbody>\n",
       "</table>\n",
       "</div>"
      ]
     },
     "execution_count": 9,
     "metadata": {},
     "output_type": "execute_result"
    }
   ],
   "execution_count": 9
  },
  {
   "metadata": {
    "ExecuteTime": {
     "end_time": "2025-06-10T10:44:29.622618Z",
     "start_time": "2025-06-10T10:44:29.614043Z"
    }
   },
   "cell_type": "code",
   "source": [
    "teams_sf = ucl.loc[ucl['Phase'] == 'Semi_finals', 'Team'].unique()\n",
    "\n",
    "print(\"Skuadrat në Semi-finals:\", teams_sf)"
   ],
   "id": "a7e2f2ebb375854e",
   "outputs": [
    {
     "name": "stdout",
     "output_type": "stream",
     "text": [
      "Skuadrat në Semi-finals: ['Arsenal FC' 'Barcelona']\n"
     ]
    }
   ],
   "execution_count": 10
  },
  {
   "metadata": {
    "ExecuteTime": {
     "end_time": "2025-06-10T10:44:29.838378Z",
     "start_time": "2025-06-10T10:44:29.828994Z"
    }
   },
   "cell_type": "code",
   "source": [
    "teams_final = ucl.loc[ucl['Phase'] == 'Final', 'Team'].unique()\n",
    "\n",
    "print(\"Skuadrat në Final:\", teams_final)"
   ],
   "id": "2496eaf79ca5c7ba",
   "outputs": [
    {
     "name": "stdout",
     "output_type": "stream",
     "text": [
      "Skuadrat në Final: ['Inter' 'Paris SG']\n"
     ]
    }
   ],
   "execution_count": 11
  },
  {
   "metadata": {
    "ExecuteTime": {
     "end_time": "2025-06-10T10:44:29.998786Z",
     "start_time": "2025-06-10T10:44:29.992265Z"
    }
   },
   "cell_type": "code",
   "source": [
    "teams_qf = ucl.loc[ucl['Phase'] == 'Quarter_finals', 'Team'].unique()\n",
    "\n",
    "print(\"Skuadrat në Quarter finals:\", teams_qf)"
   ],
   "id": "18068d512f71d584",
   "outputs": [
    {
     "name": "stdout",
     "output_type": "stream",
     "text": [
      "Skuadrat në Quarter finals: ['Real Madrid' 'BVB Dortmund' 'Aston Villa' 'Bayern Munich']\n"
     ]
    }
   ],
   "execution_count": 12
  },
  {
   "metadata": {
    "ExecuteTime": {
     "end_time": "2025-06-10T10:44:30.105645Z",
     "start_time": "2025-06-10T10:44:30.095448Z"
    }
   },
   "cell_type": "code",
   "source": [
    "teams_r16 = ucl.loc[ucl['Phase'] == 'Round16', 'Team'].unique()\n",
    "\n",
    "print(\"Skuadrat ne Round 16:\", teams_r16)"
   ],
   "id": "1290672df1419c6c",
   "outputs": [
    {
     "name": "stdout",
     "output_type": "stream",
     "text": [
      "Skuadrat ne Round 16: ['Liverpool FC' 'Club Brugge' 'Benfica' 'Atletico Madrid' 'PSV Eindhoven'\n",
      " 'Lille ' 'Bayer Leverkusen' 'Feyenoord']\n"
     ]
    }
   ],
   "execution_count": 13
  },
  {
   "metadata": {
    "ExecuteTime": {
     "end_time": "2025-06-10T10:53:19.879391Z",
     "start_time": "2025-06-10T10:53:19.661922Z"
    }
   },
   "cell_type": "code",
   "source": [
    "plt.figure(figsize=(10, 6))\n",
    "\n",
    "sns.countplot(x='Nationality', data=ucl, order=nationality_counts['Nationality'].head(20))\n",
    "plt.xlabel('Nationality')\n",
    "plt.ylabel('Count')\n",
    "plt.title('Shperndarja e Kombesive ne Champions League 2025')\n",
    "plt.xticks(rotation=45)\n",
    "plt.tight_layout()\n",
    "plt.show()"
   ],
   "id": "86f742ab3fc8c87a",
   "outputs": [
    {
     "data": {
      "text/plain": [
       "<Figure size 1000x600 with 1 Axes>"
      ],
      "image/png": "[encoded data removed]"
     },
     "metadata": {},
     "output_type": "display_data"
    }
   ],
   "execution_count": 23
  },
  {
   "metadata": {
    "ExecuteTime": {
     "end_time": "2025-06-10T10:59:19.059470Z",
     "start_time": "2025-06-10T10:59:19.043282Z"
    }
   },
   "cell_type": "code",
   "source": "ucl.groupby('Nationality')['Player'].count().sort_values(ascending=False)",
   "id": "8a70ecfed6f7f216",
   "outputs": [
    {
     "data": {
      "text/plain": [
       "Nationality\n",
       "France           24\n",
       "Netherlands      18\n",
       "Spain            16\n",
       "Germany          16\n",
       "Brazil           15\n",
       "Italy            11\n",
       "England          11\n",
       "Argentina        10\n",
       "Belgium           9\n",
       "Portugal          9\n",
       "Switzerland       6\n",
       "Turkey            5\n",
       "Croatia           4\n",
       "Norway            4\n",
       "Uruguay           3\n",
       "Poland            3\n",
       "Scotland          3\n",
       "Morocco           3\n",
       "Canada            3\n",
       "Denmark           3\n",
       "Ukraine           2\n",
       "United States     2\n",
       "Slovenia          2\n",
       "Nigeria           2\n",
       "Colombia          2\n",
       "Ecuador           2\n",
       "Greece            2\n",
       "Georgia           2\n",
       "Japan             2\n",
       "Ivory Coast       2\n",
       "Armenia           1\n",
       "Austria           1\n",
       "BosniaH           1\n",
       "Algeria           1\n",
       "Egypt             1\n",
       "Hungary           1\n",
       "Mexico            1\n",
       "Iran              1\n",
       "Ghana             1\n",
       "Portugal          1\n",
       "Senegal           1\n",
       "Russia            1\n",
       "Sweden            1\n",
       "South Korea       1\n",
       "Name: Player, dtype: int64"
      ]
     },
     "execution_count": 45,
     "metadata": {},
     "output_type": "execute_result"
    }
   ],
   "execution_count": 45
  },
  {
   "metadata": {
    "ExecuteTime": {
     "end_time": "2025-06-10T11:02:01.844468Z",
     "start_time": "2025-06-10T11:02:01.833859Z"
    }
   },
   "cell_type": "code",
   "source": [
    "unique_teams_series = pd.Series(ucl['Nationality'].unique())\n",
    "print(unique_teams_series)"
   ],
   "id": "44eddf1b528e0e7c",
   "outputs": [
    {
     "name": "stdout",
     "output_type": "stream",
     "text": [
      "0            France\n",
      "1             Italy\n",
      "2            Poland\n",
      "3            Brazil\n",
      "4       Netherlands\n",
      "5           England\n",
      "6            Norway\n",
      "7           Morocco\n",
      "8           Belgium\n",
      "9         Argentina\n",
      "10           Canada\n",
      "11    United States\n",
      "12            Spain\n",
      "13          Algeria\n",
      "14         Portugal\n",
      "15          Germany\n",
      "16          Georgia\n",
      "17          Hungary\n",
      "18         Scotland\n",
      "19           Turkey\n",
      "20           Greece\n",
      "21             Iran\n",
      "22          Ecuador\n",
      "23           Mexico\n",
      "24         Slovenia\n",
      "25            Japan\n",
      "26          Uruguay\n",
      "27          Croatia\n",
      "28      Switzerland\n",
      "29        Portugal \n",
      "30          Denmark\n",
      "31          Armenia\n",
      "32          BosniaH\n",
      "33          Senegal\n",
      "34      Ivory Coast\n",
      "35          Ukraine\n",
      "36            Egypt\n",
      "37      South Korea\n",
      "38          Nigeria\n",
      "39           Sweden\n",
      "40            Ghana\n",
      "41          Austria\n",
      "42         Colombia\n",
      "43           Russia\n",
      "dtype: object\n"
     ]
    }
   ],
   "execution_count": 56
  }
 ],
 "metadata": {
  "kernelspec": {
   "display_name": "Python 3",
   "language": "python",
   "name": "python3"
  },
  "language_info": {
   "codemirror_mode": {
    "name": "ipython",
    "version": 2
   },
   "file_extension": ".py",
   "mimetype": "text/x-python",
   "name": "python",
   "nbconvert_exporter": "python",
   "pygments_lexer": "ipython2",
   "version": "2.7.6"
  }
 },
 "nbformat": 4,
 "nbformat_minor": 5
}
