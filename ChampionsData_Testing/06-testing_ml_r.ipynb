{
 "cells": [
  {
   "cell_type": "code",
   "id": "initial_id",
   "metadata": {
    "collapsed": true,
    "ExecuteTime": {
     "end_time": "2025-06-12T19:49:55.670171Z",
     "start_time": "2025-06-12T19:49:55.665536Z"
    }
   },
   "source": [
    "import pandas as pd\n",
    "from sklearn.model_selection import train_test_split\n",
    "from sklearn.preprocessing import OneHotEncoder, StandardScaler\n",
    "from sklearn.compose import ColumnTransformer\n",
    "from sklearn.pipeline import Pipeline\n",
    "from sklearn.impute import SimpleImputer\n",
    "from sklearn.linear_model import LinearRegression"
   ],
   "outputs": [],
   "execution_count": 13
  },
  {
   "metadata": {
    "ExecuteTime": {
     "end_time": "2025-06-12T19:48:30.047010Z",
     "start_time": "2025-06-12T19:48:29.722410Z"
    }
   },
   "cell_type": "code",
   "source": "ucl = pd.read_excel('UCL_playerstats_orig.xlsx')",
   "id": "c7f1b698e0eb255",
   "outputs": [],
   "execution_count": 2
  },
  {
   "metadata": {
    "ExecuteTime": {
     "end_time": "2025-06-12T19:48:30.073460Z",
     "start_time": "2025-06-12T19:48:30.066393Z"
    }
   },
   "cell_type": "code",
   "source": [
    "#1.Targeti eshte Value^6\n",
    "target = \"Value10^6\""
   ],
   "id": "1f732fe044038e7b",
   "outputs": [],
   "execution_count": 3
  },
  {
   "metadata": {
    "ExecuteTime": {
     "end_time": "2025-06-12T19:48:30.097075Z",
     "start_time": "2025-06-12T19:48:30.090983Z"
    }
   },
   "cell_type": "code",
   "source": [
    "#2. Features\n",
    "features = [\n",
    "    'Age', 'Position', 'Nationality', 'Team', 'Phase_Tier',\n",
    "    'Rating', 'Goals', 'Assists', 'Minutes_played', 'MOTM_Awards'\n",
    "]"
   ],
   "id": "acf875755cf70018",
   "outputs": [],
   "execution_count": 4
  },
  {
   "metadata": {
    "ExecuteTime": {
     "end_time": "2025-06-12T19:48:30.121823Z",
     "start_time": "2025-06-12T19:48:30.115893Z"
    }
   },
   "cell_type": "code",
   "source": [
    "X = ucl[features]\n",
    "y = ucl[target]"
   ],
   "id": "39a15b830a74861",
   "outputs": [],
   "execution_count": 5
  },
  {
   "metadata": {
    "ExecuteTime": {
     "end_time": "2025-06-12T19:48:48.630617Z",
     "start_time": "2025-06-12T19:48:48.616132Z"
    }
   },
   "cell_type": "code",
   "source": [
    "scaler = StandardScaler()\n",
    "X_scaled = scaler.fit_transform(X)"
   ],
   "id": "a9c587b61e12bb4c",
   "outputs": [],
   "execution_count": 8
  },
  {
   "metadata": {
    "ExecuteTime": {
     "end_time": "2025-06-12T19:48:30.153894Z",
     "start_time": "2025-06-12T19:48:30.143716Z"
    }
   },
   "cell_type": "code",
   "source": [
    "# 3. Ndarja train/test\n",
    "X_train, X_test, y_train, y_test = train_test_split(X, y, test_size=0.3, random_state=42)"
   ],
   "id": "3480c6dbbe7fe471",
   "outputs": [],
   "execution_count": 6
  },
  {
   "metadata": {
    "ExecuteTime": {
     "end_time": "2025-06-12T19:50:09.555906Z",
     "start_time": "2025-06-12T19:50:09.514902Z"
    }
   },
   "cell_type": "code",
   "source": [
    "lr = LinearRegression()\n",
    "lr.fit(X_train, y_train)\n",
    "lr_preds = lr.predict(X_test)"
   ],
   "id": "2339c8df45c2b204",
   "outputs": [
    {
     "ename": "ValueError",
     "evalue": "could not convert string to float: 'Forward'",
     "output_type": "error",
     "traceback": [
      "\u001B[31m---------------------------------------------------------------------------\u001B[39m",
      "\u001B[31mValueError\u001B[39m                                Traceback (most recent call last)",
      "\u001B[32m~\\AppData\\Local\\Temp\\ipykernel_13620\\1506624741.py\u001B[39m in \u001B[36m?\u001B[39m\u001B[34m()\u001B[39m\n\u001B[32m      1\u001B[39m lr = LinearRegression()\n\u001B[32m----> \u001B[39m\u001B[32m2\u001B[39m lr.fit(X_train, y_train)\n\u001B[32m      3\u001B[39m lr_preds = lr.predict(X_test)\n",
      "\u001B[32m~\\Desktop\\Python Data Science\\ProjectUCL\\.venv\\Lib\\site-packages\\sklearn\\base.py\u001B[39m in \u001B[36m?\u001B[39m\u001B[34m(estimator, *args, **kwargs)\u001B[39m\n\u001B[32m   1359\u001B[39m                 skip_parameter_validation=(\n\u001B[32m   1360\u001B[39m                     prefer_skip_nested_validation \u001B[38;5;28;01mor\u001B[39;00m global_skip_validation\n\u001B[32m   1361\u001B[39m                 )\n\u001B[32m   1362\u001B[39m             ):\n\u001B[32m-> \u001B[39m\u001B[32m1363\u001B[39m                 \u001B[38;5;28;01mreturn\u001B[39;00m fit_method(estimator, *args, **kwargs)\n",
      "\u001B[32m~\\Desktop\\Python Data Science\\ProjectUCL\\.venv\\Lib\\site-packages\\sklearn\\linear_model\\_base.py\u001B[39m in \u001B[36m?\u001B[39m\u001B[34m(self, X, y, sample_weight)\u001B[39m\n\u001B[32m    614\u001B[39m         n_jobs_ = self.n_jobs\n\u001B[32m    615\u001B[39m \n\u001B[32m    616\u001B[39m         accept_sparse = \u001B[38;5;28;01mFalse\u001B[39;00m \u001B[38;5;28;01mif\u001B[39;00m self.positive \u001B[38;5;28;01melse\u001B[39;00m [\u001B[33m\"csr\"\u001B[39m, \u001B[33m\"csc\"\u001B[39m, \u001B[33m\"coo\"\u001B[39m]\n\u001B[32m    617\u001B[39m \n\u001B[32m--> \u001B[39m\u001B[32m618\u001B[39m         X, y = validate_data(\n\u001B[32m    619\u001B[39m             self,\n\u001B[32m    620\u001B[39m             X,\n\u001B[32m    621\u001B[39m             y,\n",
      "\u001B[32m~\\Desktop\\Python Data Science\\ProjectUCL\\.venv\\Lib\\site-packages\\sklearn\\utils\\validation.py\u001B[39m in \u001B[36m?\u001B[39m\u001B[34m(_estimator, X, y, reset, validate_separately, skip_check_array, **check_params)\u001B[39m\n\u001B[32m   2967\u001B[39m             \u001B[38;5;28;01mif\u001B[39;00m \u001B[33m\"estimator\"\u001B[39m \u001B[38;5;28;01mnot\u001B[39;00m \u001B[38;5;28;01min\u001B[39;00m check_y_params:\n\u001B[32m   2968\u001B[39m                 check_y_params = {**default_check_params, **check_y_params}\n\u001B[32m   2969\u001B[39m             y = check_array(y, input_name=\u001B[33m\"y\"\u001B[39m, **check_y_params)\n\u001B[32m   2970\u001B[39m         \u001B[38;5;28;01melse\u001B[39;00m:\n\u001B[32m-> \u001B[39m\u001B[32m2971\u001B[39m             X, y = check_X_y(X, y, **check_params)\n\u001B[32m   2972\u001B[39m         out = X, y\n\u001B[32m   2973\u001B[39m \n\u001B[32m   2974\u001B[39m     \u001B[38;5;28;01mif\u001B[39;00m \u001B[38;5;28;01mnot\u001B[39;00m no_val_X \u001B[38;5;28;01mand\u001B[39;00m check_params.get(\u001B[33m\"ensure_2d\"\u001B[39m, \u001B[38;5;28;01mTrue\u001B[39;00m):\n",
      "\u001B[32m~\\Desktop\\Python Data Science\\ProjectUCL\\.venv\\Lib\\site-packages\\sklearn\\utils\\validation.py\u001B[39m in \u001B[36m?\u001B[39m\u001B[34m(X, y, accept_sparse, accept_large_sparse, dtype, order, copy, force_writeable, force_all_finite, ensure_all_finite, ensure_2d, allow_nd, multi_output, ensure_min_samples, ensure_min_features, y_numeric, estimator)\u001B[39m\n\u001B[32m   1364\u001B[39m         )\n\u001B[32m   1365\u001B[39m \n\u001B[32m   1366\u001B[39m     ensure_all_finite = _deprecate_force_all_finite(force_all_finite, ensure_all_finite)\n\u001B[32m   1367\u001B[39m \n\u001B[32m-> \u001B[39m\u001B[32m1368\u001B[39m     X = check_array(\n\u001B[32m   1369\u001B[39m         X,\n\u001B[32m   1370\u001B[39m         accept_sparse=accept_sparse,\n\u001B[32m   1371\u001B[39m         accept_large_sparse=accept_large_sparse,\n",
      "\u001B[32m~\\Desktop\\Python Data Science\\ProjectUCL\\.venv\\Lib\\site-packages\\sklearn\\utils\\validation.py\u001B[39m in \u001B[36m?\u001B[39m\u001B[34m(array, accept_sparse, accept_large_sparse, dtype, order, copy, force_writeable, force_all_finite, ensure_all_finite, ensure_non_negative, ensure_2d, allow_nd, ensure_min_samples, ensure_min_features, estimator, input_name)\u001B[39m\n\u001B[32m   1050\u001B[39m                         )\n\u001B[32m   1051\u001B[39m                     array = xp.astype(array, dtype, copy=\u001B[38;5;28;01mFalse\u001B[39;00m)\n\u001B[32m   1052\u001B[39m                 \u001B[38;5;28;01melse\u001B[39;00m:\n\u001B[32m   1053\u001B[39m                     array = _asarray_with_order(array, order=order, dtype=dtype, xp=xp)\n\u001B[32m-> \u001B[39m\u001B[32m1054\u001B[39m             \u001B[38;5;28;01mexcept\u001B[39;00m ComplexWarning \u001B[38;5;28;01mas\u001B[39;00m complex_warning:\n\u001B[32m   1055\u001B[39m                 raise ValueError(\n\u001B[32m   1056\u001B[39m                     \u001B[33m\"Complex data not supported\\n{}\\n\"\u001B[39m.format(array)\n\u001B[32m   1057\u001B[39m                 ) \u001B[38;5;28;01mfrom\u001B[39;00m complex_warning\n",
      "\u001B[32m~\\Desktop\\Python Data Science\\ProjectUCL\\.venv\\Lib\\site-packages\\sklearn\\utils\\_array_api.py\u001B[39m in \u001B[36m?\u001B[39m\u001B[34m(array, dtype, order, copy, xp, device)\u001B[39m\n\u001B[32m    753\u001B[39m         \u001B[38;5;66;03m# Use NumPy API to support order\u001B[39;00m\n\u001B[32m    754\u001B[39m         \u001B[38;5;28;01mif\u001B[39;00m copy \u001B[38;5;28;01mis\u001B[39;00m \u001B[38;5;28;01mTrue\u001B[39;00m:\n\u001B[32m    755\u001B[39m             array = numpy.array(array, order=order, dtype=dtype)\n\u001B[32m    756\u001B[39m         \u001B[38;5;28;01melse\u001B[39;00m:\n\u001B[32m--> \u001B[39m\u001B[32m757\u001B[39m             array = numpy.asarray(array, order=order, dtype=dtype)\n\u001B[32m    758\u001B[39m \n\u001B[32m    759\u001B[39m         \u001B[38;5;66;03m# At this point array is a NumPy ndarray. We convert it to an array\u001B[39;00m\n\u001B[32m    760\u001B[39m         \u001B[38;5;66;03m# container that is consistent with the input's namespace.\u001B[39;00m\n",
      "\u001B[32m~\\Desktop\\Python Data Science\\ProjectUCL\\.venv\\Lib\\site-packages\\pandas\\core\\generic.py\u001B[39m in \u001B[36m?\u001B[39m\u001B[34m(self, dtype, copy)\u001B[39m\n\u001B[32m   2149\u001B[39m     def __array__(\n\u001B[32m   2150\u001B[39m         self, dtype: npt.DTypeLike | \u001B[38;5;28;01mNone\u001B[39;00m = \u001B[38;5;28;01mNone\u001B[39;00m, copy: bool_t | \u001B[38;5;28;01mNone\u001B[39;00m = \u001B[38;5;28;01mNone\u001B[39;00m\n\u001B[32m   2151\u001B[39m     ) -> np.ndarray:\n\u001B[32m   2152\u001B[39m         values = self._values\n\u001B[32m-> \u001B[39m\u001B[32m2153\u001B[39m         arr = np.asarray(values, dtype=dtype)\n\u001B[32m   2154\u001B[39m         if (\n\u001B[32m   2155\u001B[39m             astype_is_view(values.dtype, arr.dtype)\n\u001B[32m   2156\u001B[39m             \u001B[38;5;28;01mand\u001B[39;00m using_copy_on_write()\n",
      "\u001B[31mValueError\u001B[39m: could not convert string to float: 'Forward'"
     ]
    }
   ],
   "execution_count": 14
  }
 ],
 "metadata": {
  "kernelspec": {
   "display_name": "Python 3",
   "language": "python",
   "name": "python3"
  },
  "language_info": {
   "codemirror_mode": {
    "name": "ipython",
    "version": 2
   },
   "file_extension": ".py",
   "mimetype": "text/x-python",
   "name": "python",
   "nbconvert_exporter": "python",
   "pygments_lexer": "ipython2",
   "version": "2.7.6"
  }
 },
 "nbformat": 4,
 "nbformat_minor": 5
}
