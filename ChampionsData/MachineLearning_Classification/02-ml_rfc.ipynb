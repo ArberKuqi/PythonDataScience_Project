{
 "cells": [
  {
   "cell_type": "code",
   "id": "initial_id",
   "metadata": {
    "collapsed": true,
    "ExecuteTime": {
     "end_time": "2025-06-15T13:53:40.958686Z",
     "start_time": "2025-06-15T13:53:40.479263Z"
    }
   },
   "source": [
    "import pandas as pd\n",
    "import numpy as np\n",
    "from sklearn.model_selection import train_test_split\n",
    "from sklearn.preprocessing import OneHotEncoder, StandardScaler\n",
    "from sklearn.compose import ColumnTransformer\n",
    "from sklearn.pipeline import Pipeline\n",
    "from sklearn.impute import SimpleImputer\n",
    "from sklearn.linear_model import LinearRegression\n",
    "import matplotlib.pyplot as plt\n",
    "import plotly.express as px\n",
    "import plotly.graph_objects as go"
   ],
   "outputs": [],
   "execution_count": 1
  },
  {
   "metadata": {},
   "cell_type": "markdown",
   "source": "### Ready for Transfer Market Classification `(Random Forest Classifier)`",
   "id": "ec03af95752428c5"
  },
  {
   "metadata": {
    "ExecuteTime": {
     "end_time": "2025-06-15T13:53:42.350242Z",
     "start_time": "2025-06-15T13:53:41.981865Z"
    }
   },
   "cell_type": "code",
   "source": "ucl = pd.read_excel('UCL_playerstats_orig.xlsx')",
   "id": "cdf25b386f7fc5be",
   "outputs": [],
   "execution_count": 2
  },
  {
   "metadata": {},
   "cell_type": "markdown",
   "source": "#### HAPI 1️⃣: Krijojmë kolonen target → High_Market_Potential",
   "id": "6b5eb3d37e4b7206"
  },
  {
   "metadata": {
    "ExecuteTime": {
     "end_time": "2025-06-15T13:55:58.050945Z",
     "start_time": "2025-06-15T13:55:58.043676Z"
    }
   },
   "cell_type": "code",
   "source": [
    "ucl['High_Potential'] = (\n",
    "    (ucl['Age'] <= 23) &\n",
    "    (\n",
    "        (ucl['Goals'] >= 4) |\n",
    "        (ucl['Assists'] >= 4) |\n",
    "        (ucl['Rating'] >= 7.4) |\n",
    "        (ucl['MOTM_Awards'] > 1)\n",
    "    )\n",
    ").astype(int)\n"
   ],
   "id": "e0abaae729b63ba7",
   "outputs": [],
   "execution_count": 14
  },
  {
   "metadata": {
    "ExecuteTime": {
     "end_time": "2025-06-15T13:56:00.630832Z",
     "start_time": "2025-06-15T13:56:00.620885Z"
    }
   },
   "cell_type": "code",
   "source": "ucl['High_Potential']",
   "id": "e3bb4a98b71661e8",
   "outputs": [
    {
     "data": {
      "text/plain": [
       "0      0\n",
       "1      0\n",
       "2      0\n",
       "3      0\n",
       "4      0\n",
       "      ..\n",
       "205    0\n",
       "206    0\n",
       "207    0\n",
       "208    0\n",
       "209    0\n",
       "Name: High_Potential, Length: 210, dtype: int64"
      ]
     },
     "execution_count": 15,
     "metadata": {},
     "output_type": "execute_result"
    }
   ],
   "execution_count": 15
  },
  {
   "metadata": {},
   "cell_type": "markdown",
   "source": "#### Hapi 2️⃣ veqorit per klasifikim",
   "id": "e00de58a8ae0623c"
  },
  {
   "metadata": {
    "ExecuteTime": {
     "end_time": "2025-06-15T13:56:12.133775Z",
     "start_time": "2025-06-15T13:56:12.126827Z"
    }
   },
   "cell_type": "code",
   "source": [
    "# Veqorit\n",
    "features = ['Age', 'Goals', 'Assists', 'Rating', 'MOTM_Awards']\n",
    "X = ucl[features]\n",
    "y = ucl['High_Potential']"
   ],
   "id": "f63a550ab331b4f5",
   "outputs": [],
   "execution_count": 17
  },
  {
   "metadata": {},
   "cell_type": "markdown",
   "source": "#### HAPI 3️⃣: Train/test split dhe modelimi me Logistic Regression",
   "id": "823c23fa100b9806"
  },
  {
   "metadata": {
    "ExecuteTime": {
     "end_time": "2025-06-15T13:56:15.051235Z",
     "start_time": "2025-06-15T13:56:15.041506Z"
    }
   },
   "cell_type": "code",
   "source": "X_train, X_test, y_train, y_test = train_test_split(X, y, test_size=0.3, random_state=42)",
   "id": "5c6ee5209996bad1",
   "outputs": [],
   "execution_count": 18
  },
  {
   "metadata": {
    "ExecuteTime": {
     "end_time": "2025-06-15T13:56:16.010593Z",
     "start_time": "2025-06-15T13:56:15.873465Z"
    }
   },
   "cell_type": "code",
   "source": [
    "from sklearn.ensemble import RandomForestClassifier\n",
    "\n",
    "model = RandomForestClassifier()\n",
    "model.fit(X_train, y_train)\n",
    "preds = model.predict(X_test)"
   ],
   "id": "3b9d631d173cd253",
   "outputs": [],
   "execution_count": 19
  },
  {
   "metadata": {},
   "cell_type": "markdown",
   "source": "#### HAPI 4️⃣: Vlersimi i modelit",
   "id": "2e1cb62a6321b62"
  },
  {
   "metadata": {
    "ExecuteTime": {
     "end_time": "2025-06-15T13:56:17.389316Z",
     "start_time": "2025-06-15T13:56:17.360580Z"
    }
   },
   "cell_type": "code",
   "source": [
    "\n",
    "from sklearn.metrics import accuracy_score, f1_score, recall_score, precision_score\n",
    "\n",
    "print(\"\\nReady for Transfer Market Classification:\")\n",
    "print(\"Accuracy :\", round(accuracy_score(y_test, preds), 2))\n",
    "print(\"Precision:\", round(precision_score(y_test, preds), 2))\n",
    "print(\"Recall   :\", round(recall_score(y_test, preds), 2))\n",
    "print(\"F1-Score :\", round(f1_score(y_test, preds), 2))"
   ],
   "id": "acae54ada63deaa",
   "outputs": [
    {
     "name": "stdout",
     "output_type": "stream",
     "text": [
      "\n",
      "Ready for Transfer Market Classification:\n",
      "Accuracy : 0.97\n",
      "Precision: 1.0\n",
      "Recall   : 0.78\n",
      "F1-Score : 0.88\n"
     ]
    }
   ],
   "execution_count": 20
  },
  {
   "metadata": {
    "ExecuteTime": {
     "end_time": "2025-06-15T13:56:20.192035Z",
     "start_time": "2025-06-15T13:56:20.170275Z"
    }
   },
   "cell_type": "code",
   "source": [
    "ucl['Predicted_Potential'] = model.predict(X)\n",
    "\n",
    "potential_players = ucl[ucl['Predicted_Potential'] == 1][['Player', 'Team' ,'Age', 'Goals', 'Assists','Rating']]"
   ],
   "id": "88ac1c4ca8682c01",
   "outputs": [],
   "execution_count": 21
  },
  {
   "metadata": {
    "ExecuteTime": {
     "end_time": "2025-06-15T13:56:21.439092Z",
     "start_time": "2025-06-15T13:56:21.423740Z"
    }
   },
   "cell_type": "code",
   "source": "potential_players",
   "id": "ae1caedbd0c77fd5",
   "outputs": [
    {
     "data": {
      "text/plain": [
       "               Player              Team  Age  Goals  Assists  Rating\n",
       "5     Jude Bellingham       Real Madrid   21      3        2    7.60\n",
       "15              Yamal         Barcelona   17      5        3    7.92\n",
       "50   Santiago Gimenez             Milan   23      6        1    7.33\n",
       "56              Pedri         Barcelona   22      0        2    7.48\n",
       "63     Benjamin Sesko           Leipzig   21      4        0    6.91\n",
       "82            Barcola          Paris SG   22      3        4    7.22\n",
       "88        Bukayo Saka        Arsenal FC   23      6        2    7.49\n",
       "93        Desire Doue          Paris SG   19      5        5    7.39\n",
       "113           Adeyemi      BVB Dortmund   23      5        1    7.54\n",
       "129       Nuno Mendes          Paris SG   22      4        2    7.74\n",
       "141             Balde         Barcelona   21      0        4    7.00\n",
       "143   Georgiy Sudakov  Shakhtar Donetsk   22      2        1    7.02\n",
       "155           Tillman     PSV Eindhoven   22      3        2    7.75\n",
       "164           Gittens      BVB Dortmund   20      4        0    7.00\n",
       "167     Jamal Musiala     Bayern Munich   22      3        4    7.55\n",
       "171             Olise     Bayern Munich   23      5        1    7.44\n",
       "175        Joao Neves          Paris SG   20      1        1    7.53\n",
       "181     Florian Wirtz  Bayer Leverkusen   22      6        1    7.71\n",
       "182       Enzo Millot     VfB Stuttgart   22      2        4    7.32\n",
       "184          Baturina     Dinamo Zagreb   22      2        1    7.26\n",
       "188            Rogers       Aston Villa   22      4        3    7.20"
      ],
      "text/html": [
       "<div>\n",
       "<style scoped>\n",
       "    .dataframe tbody tr th:only-of-type {\n",
       "        vertical-align: middle;\n",
       "    }\n",
       "\n",
       "    .dataframe tbody tr th {\n",
       "        vertical-align: top;\n",
       "    }\n",
       "\n",
       "    .dataframe thead th {\n",
       "        text-align: right;\n",
       "    }\n",
       "</style>\n",
       "<table border=\"1\" class=\"dataframe\">\n",
       "  <thead>\n",
       "    <tr style=\"text-align: right;\">\n",
       "      <th></th>\n",
       "      <th>Player</th>\n",
       "      <th>Team</th>\n",
       "      <th>Age</th>\n",
       "      <th>Goals</th>\n",
       "      <th>Assists</th>\n",
       "      <th>Rating</th>\n",
       "    </tr>\n",
       "  </thead>\n",
       "  <tbody>\n",
       "    <tr>\n",
       "      <th>5</th>\n",
       "      <td>Jude Bellingham</td>\n",
       "      <td>Real Madrid</td>\n",
       "      <td>21</td>\n",
       "      <td>3</td>\n",
       "      <td>2</td>\n",
       "      <td>7.60</td>\n",
       "    </tr>\n",
       "    <tr>\n",
       "      <th>15</th>\n",
       "      <td>Yamal</td>\n",
       "      <td>Barcelona</td>\n",
       "      <td>17</td>\n",
       "      <td>5</td>\n",
       "      <td>3</td>\n",
       "      <td>7.92</td>\n",
       "    </tr>\n",
       "    <tr>\n",
       "      <th>50</th>\n",
       "      <td>Santiago Gimenez</td>\n",
       "      <td>Milan</td>\n",
       "      <td>23</td>\n",
       "      <td>6</td>\n",
       "      <td>1</td>\n",
       "      <td>7.33</td>\n",
       "    </tr>\n",
       "    <tr>\n",
       "      <th>56</th>\n",
       "      <td>Pedri</td>\n",
       "      <td>Barcelona</td>\n",
       "      <td>22</td>\n",
       "      <td>0</td>\n",
       "      <td>2</td>\n",
       "      <td>7.48</td>\n",
       "    </tr>\n",
       "    <tr>\n",
       "      <th>63</th>\n",
       "      <td>Benjamin Sesko</td>\n",
       "      <td>Leipzig</td>\n",
       "      <td>21</td>\n",
       "      <td>4</td>\n",
       "      <td>0</td>\n",
       "      <td>6.91</td>\n",
       "    </tr>\n",
       "    <tr>\n",
       "      <th>82</th>\n",
       "      <td>Barcola</td>\n",
       "      <td>Paris SG</td>\n",
       "      <td>22</td>\n",
       "      <td>3</td>\n",
       "      <td>4</td>\n",
       "      <td>7.22</td>\n",
       "    </tr>\n",
       "    <tr>\n",
       "      <th>88</th>\n",
       "      <td>Bukayo Saka</td>\n",
       "      <td>Arsenal FC</td>\n",
       "      <td>23</td>\n",
       "      <td>6</td>\n",
       "      <td>2</td>\n",
       "      <td>7.49</td>\n",
       "    </tr>\n",
       "    <tr>\n",
       "      <th>93</th>\n",
       "      <td>Desire Doue</td>\n",
       "      <td>Paris SG</td>\n",
       "      <td>19</td>\n",
       "      <td>5</td>\n",
       "      <td>5</td>\n",
       "      <td>7.39</td>\n",
       "    </tr>\n",
       "    <tr>\n",
       "      <th>113</th>\n",
       "      <td>Adeyemi</td>\n",
       "      <td>BVB Dortmund</td>\n",
       "      <td>23</td>\n",
       "      <td>5</td>\n",
       "      <td>1</td>\n",
       "      <td>7.54</td>\n",
       "    </tr>\n",
       "    <tr>\n",
       "      <th>129</th>\n",
       "      <td>Nuno Mendes</td>\n",
       "      <td>Paris SG</td>\n",
       "      <td>22</td>\n",
       "      <td>4</td>\n",
       "      <td>2</td>\n",
       "      <td>7.74</td>\n",
       "    </tr>\n",
       "    <tr>\n",
       "      <th>141</th>\n",
       "      <td>Balde</td>\n",
       "      <td>Barcelona</td>\n",
       "      <td>21</td>\n",
       "      <td>0</td>\n",
       "      <td>4</td>\n",
       "      <td>7.00</td>\n",
       "    </tr>\n",
       "    <tr>\n",
       "      <th>143</th>\n",
       "      <td>Georgiy Sudakov</td>\n",
       "      <td>Shakhtar Donetsk</td>\n",
       "      <td>22</td>\n",
       "      <td>2</td>\n",
       "      <td>1</td>\n",
       "      <td>7.02</td>\n",
       "    </tr>\n",
       "    <tr>\n",
       "      <th>155</th>\n",
       "      <td>Tillman</td>\n",
       "      <td>PSV Eindhoven</td>\n",
       "      <td>22</td>\n",
       "      <td>3</td>\n",
       "      <td>2</td>\n",
       "      <td>7.75</td>\n",
       "    </tr>\n",
       "    <tr>\n",
       "      <th>164</th>\n",
       "      <td>Gittens</td>\n",
       "      <td>BVB Dortmund</td>\n",
       "      <td>20</td>\n",
       "      <td>4</td>\n",
       "      <td>0</td>\n",
       "      <td>7.00</td>\n",
       "    </tr>\n",
       "    <tr>\n",
       "      <th>167</th>\n",
       "      <td>Jamal Musiala</td>\n",
       "      <td>Bayern Munich</td>\n",
       "      <td>22</td>\n",
       "      <td>3</td>\n",
       "      <td>4</td>\n",
       "      <td>7.55</td>\n",
       "    </tr>\n",
       "    <tr>\n",
       "      <th>171</th>\n",
       "      <td>Olise</td>\n",
       "      <td>Bayern Munich</td>\n",
       "      <td>23</td>\n",
       "      <td>5</td>\n",
       "      <td>1</td>\n",
       "      <td>7.44</td>\n",
       "    </tr>\n",
       "    <tr>\n",
       "      <th>175</th>\n",
       "      <td>Joao Neves</td>\n",
       "      <td>Paris SG</td>\n",
       "      <td>20</td>\n",
       "      <td>1</td>\n",
       "      <td>1</td>\n",
       "      <td>7.53</td>\n",
       "    </tr>\n",
       "    <tr>\n",
       "      <th>181</th>\n",
       "      <td>Florian Wirtz</td>\n",
       "      <td>Bayer Leverkusen</td>\n",
       "      <td>22</td>\n",
       "      <td>6</td>\n",
       "      <td>1</td>\n",
       "      <td>7.71</td>\n",
       "    </tr>\n",
       "    <tr>\n",
       "      <th>182</th>\n",
       "      <td>Enzo Millot</td>\n",
       "      <td>VfB Stuttgart</td>\n",
       "      <td>22</td>\n",
       "      <td>2</td>\n",
       "      <td>4</td>\n",
       "      <td>7.32</td>\n",
       "    </tr>\n",
       "    <tr>\n",
       "      <th>184</th>\n",
       "      <td>Baturina</td>\n",
       "      <td>Dinamo Zagreb</td>\n",
       "      <td>22</td>\n",
       "      <td>2</td>\n",
       "      <td>1</td>\n",
       "      <td>7.26</td>\n",
       "    </tr>\n",
       "    <tr>\n",
       "      <th>188</th>\n",
       "      <td>Rogers</td>\n",
       "      <td>Aston Villa</td>\n",
       "      <td>22</td>\n",
       "      <td>4</td>\n",
       "      <td>3</td>\n",
       "      <td>7.20</td>\n",
       "    </tr>\n",
       "  </tbody>\n",
       "</table>\n",
       "</div>"
      ]
     },
     "execution_count": 22,
     "metadata": {},
     "output_type": "execute_result"
    }
   ],
   "execution_count": 22
  },
  {
   "metadata": {
    "ExecuteTime": {
     "end_time": "2025-06-15T12:05:47.832166Z",
     "start_time": "2025-06-15T12:05:47.828436Z"
    }
   },
   "cell_type": "code",
   "source": "",
   "id": "34119dc1415072e",
   "outputs": [],
   "execution_count": null
  }
 ],
 "metadata": {
  "kernelspec": {
   "display_name": "Python 3",
   "language": "python",
   "name": "python3"
  },
  "language_info": {
   "codemirror_mode": {
    "name": "ipython",
    "version": 2
   },
   "file_extension": ".py",
   "mimetype": "text/x-python",
   "name": "python",
   "nbconvert_exporter": "python",
   "pygments_lexer": "ipython2",
   "version": "2.7.6"
  }
 },
 "nbformat": 4,
 "nbformat_minor": 5
}
