{
 "cells": [
  {
   "cell_type": "code",
   "id": "initial_id",
   "metadata": {
    "collapsed": true,
    "ExecuteTime": {
     "end_time": "2025-06-15T14:17:04.863638Z",
     "start_time": "2025-06-15T14:17:04.217259Z"
    }
   },
   "source": [
    "import pandas as pd\n",
    "import numpy as np\n",
    "from sklearn.model_selection import train_test_split\n",
    "from sklearn.preprocessing import OneHotEncoder, StandardScaler\n",
    "from sklearn.compose import ColumnTransformer\n",
    "from sklearn.pipeline import Pipeline\n",
    "from sklearn.impute import SimpleImputer\n",
    "from sklearn.linear_model import LinearRegression\n",
    "import matplotlib.pyplot as plt\n",
    "import plotly.express as px\n",
    "import plotly.graph_objects as go\n",
    "import seaborn as sns"
   ],
   "outputs": [],
   "execution_count": 2
  },
  {
   "metadata": {},
   "cell_type": "markdown",
   "source": "### Elite Player Classification `(Logistic Regression)`",
   "id": "31a552e1f98b52f4"
  },
  {
   "metadata": {
    "ExecuteTime": {
     "end_time": "2025-06-15T14:21:53.537419Z",
     "start_time": "2025-06-15T14:21:53.449205Z"
    }
   },
   "cell_type": "code",
   "source": "ucl = pd.read_excel('UCL_playerstats_orig.xlsx')",
   "id": "e078054482309913",
   "outputs": [],
   "execution_count": 43
  },
  {
   "metadata": {
    "ExecuteTime": {
     "end_time": "2025-06-15T14:21:55.095896Z",
     "start_time": "2025-06-15T14:21:55.066299Z"
    }
   },
   "cell_type": "code",
   "source": "ucl.head()",
   "id": "88b33dbb8d6a6c79",
   "outputs": [
    {
     "data": {
      "text/plain": [
       "   PlayerID          Player    Position  Age  Nationality          Team  \\\n",
       "0         1  Theo Hernandez    Defender   27       France         Milan   \n",
       "1         2  Nicolo Barella  Midfielder   28        Italy         Inter   \n",
       "2         3     Lewandowski     Forward   36       Poland     Barcelona   \n",
       "3         4        Raphinha     Forward   28       Brazil     Barcelona   \n",
       "4         5        Van Dijk    Defender   33  Netherlands  Liverpool FC   \n",
       "\n",
       "     Competitions           Phase Phase_Tier  Value10^6  ...  Balls_recovered  \\\n",
       "0         Serie A  Knockout_phase          D       40.0  ...               53   \n",
       "1         Serie A           Final          S       80.0  ...               32   \n",
       "2         La Liga    Semi_finals           A       15.0  ...               11   \n",
       "3         La Liga    Semi_finals           A       80.0  ...               18   \n",
       "4  Premier League         Round16          C       50.0  ...               51   \n",
       "\n",
       "   Tackles_Won  Tackles_Lost  Saves  Goals_Conceded  Clean_Sheets  \\\n",
       "0            2             5      0               0             0   \n",
       "1            8            15      0               0             0   \n",
       "2            4             1      0               0             0   \n",
       "3            2             7      0               0             0   \n",
       "4            3             3      0               0             0   \n",
       "\n",
       "   MOTM_Awards  Minutes_played  Match_played  DNP  \n",
       "0            0             861            10    0  \n",
       "1            2             994            13    2  \n",
       "2            2             985            13    1  \n",
       "3            3            1225            14    0  \n",
       "4            0             840             9    1  \n",
       "\n",
       "[5 rows x 30 columns]"
      ],
      "text/html": [
       "<div>\n",
       "<style scoped>\n",
       "    .dataframe tbody tr th:only-of-type {\n",
       "        vertical-align: middle;\n",
       "    }\n",
       "\n",
       "    .dataframe tbody tr th {\n",
       "        vertical-align: top;\n",
       "    }\n",
       "\n",
       "    .dataframe thead th {\n",
       "        text-align: right;\n",
       "    }\n",
       "</style>\n",
       "<table border=\"1\" class=\"dataframe\">\n",
       "  <thead>\n",
       "    <tr style=\"text-align: right;\">\n",
       "      <th></th>\n",
       "      <th>PlayerID</th>\n",
       "      <th>Player</th>\n",
       "      <th>Position</th>\n",
       "      <th>Age</th>\n",
       "      <th>Nationality</th>\n",
       "      <th>Team</th>\n",
       "      <th>Competitions</th>\n",
       "      <th>Phase</th>\n",
       "      <th>Phase_Tier</th>\n",
       "      <th>Value10^6</th>\n",
       "      <th>...</th>\n",
       "      <th>Balls_recovered</th>\n",
       "      <th>Tackles_Won</th>\n",
       "      <th>Tackles_Lost</th>\n",
       "      <th>Saves</th>\n",
       "      <th>Goals_Conceded</th>\n",
       "      <th>Clean_Sheets</th>\n",
       "      <th>MOTM_Awards</th>\n",
       "      <th>Minutes_played</th>\n",
       "      <th>Match_played</th>\n",
       "      <th>DNP</th>\n",
       "    </tr>\n",
       "  </thead>\n",
       "  <tbody>\n",
       "    <tr>\n",
       "      <th>0</th>\n",
       "      <td>1</td>\n",
       "      <td>Theo Hernandez</td>\n",
       "      <td>Defender</td>\n",
       "      <td>27</td>\n",
       "      <td>France</td>\n",
       "      <td>Milan</td>\n",
       "      <td>Serie A</td>\n",
       "      <td>Knockout_phase</td>\n",
       "      <td>D</td>\n",
       "      <td>40.0</td>\n",
       "      <td>...</td>\n",
       "      <td>53</td>\n",
       "      <td>2</td>\n",
       "      <td>5</td>\n",
       "      <td>0</td>\n",
       "      <td>0</td>\n",
       "      <td>0</td>\n",
       "      <td>0</td>\n",
       "      <td>861</td>\n",
       "      <td>10</td>\n",
       "      <td>0</td>\n",
       "    </tr>\n",
       "    <tr>\n",
       "      <th>1</th>\n",
       "      <td>2</td>\n",
       "      <td>Nicolo Barella</td>\n",
       "      <td>Midfielder</td>\n",
       "      <td>28</td>\n",
       "      <td>Italy</td>\n",
       "      <td>Inter</td>\n",
       "      <td>Serie A</td>\n",
       "      <td>Final</td>\n",
       "      <td>S</td>\n",
       "      <td>80.0</td>\n",
       "      <td>...</td>\n",
       "      <td>32</td>\n",
       "      <td>8</td>\n",
       "      <td>15</td>\n",
       "      <td>0</td>\n",
       "      <td>0</td>\n",
       "      <td>0</td>\n",
       "      <td>2</td>\n",
       "      <td>994</td>\n",
       "      <td>13</td>\n",
       "      <td>2</td>\n",
       "    </tr>\n",
       "    <tr>\n",
       "      <th>2</th>\n",
       "      <td>3</td>\n",
       "      <td>Lewandowski</td>\n",
       "      <td>Forward</td>\n",
       "      <td>36</td>\n",
       "      <td>Poland</td>\n",
       "      <td>Barcelona</td>\n",
       "      <td>La Liga</td>\n",
       "      <td>Semi_finals</td>\n",
       "      <td>A</td>\n",
       "      <td>15.0</td>\n",
       "      <td>...</td>\n",
       "      <td>11</td>\n",
       "      <td>4</td>\n",
       "      <td>1</td>\n",
       "      <td>0</td>\n",
       "      <td>0</td>\n",
       "      <td>0</td>\n",
       "      <td>2</td>\n",
       "      <td>985</td>\n",
       "      <td>13</td>\n",
       "      <td>1</td>\n",
       "    </tr>\n",
       "    <tr>\n",
       "      <th>3</th>\n",
       "      <td>4</td>\n",
       "      <td>Raphinha</td>\n",
       "      <td>Forward</td>\n",
       "      <td>28</td>\n",
       "      <td>Brazil</td>\n",
       "      <td>Barcelona</td>\n",
       "      <td>La Liga</td>\n",
       "      <td>Semi_finals</td>\n",
       "      <td>A</td>\n",
       "      <td>80.0</td>\n",
       "      <td>...</td>\n",
       "      <td>18</td>\n",
       "      <td>2</td>\n",
       "      <td>7</td>\n",
       "      <td>0</td>\n",
       "      <td>0</td>\n",
       "      <td>0</td>\n",
       "      <td>3</td>\n",
       "      <td>1225</td>\n",
       "      <td>14</td>\n",
       "      <td>0</td>\n",
       "    </tr>\n",
       "    <tr>\n",
       "      <th>4</th>\n",
       "      <td>5</td>\n",
       "      <td>Van Dijk</td>\n",
       "      <td>Defender</td>\n",
       "      <td>33</td>\n",
       "      <td>Netherlands</td>\n",
       "      <td>Liverpool FC</td>\n",
       "      <td>Premier League</td>\n",
       "      <td>Round16</td>\n",
       "      <td>C</td>\n",
       "      <td>50.0</td>\n",
       "      <td>...</td>\n",
       "      <td>51</td>\n",
       "      <td>3</td>\n",
       "      <td>3</td>\n",
       "      <td>0</td>\n",
       "      <td>0</td>\n",
       "      <td>0</td>\n",
       "      <td>0</td>\n",
       "      <td>840</td>\n",
       "      <td>9</td>\n",
       "      <td>1</td>\n",
       "    </tr>\n",
       "  </tbody>\n",
       "</table>\n",
       "<p>5 rows × 30 columns</p>\n",
       "</div>"
      ]
     },
     "execution_count": 44,
     "metadata": {},
     "output_type": "execute_result"
    }
   ],
   "execution_count": 44
  },
  {
   "metadata": {},
   "cell_type": "markdown",
   "source": "#### HAPI 1️⃣ Krijojm kolonen target → Elite_Player",
   "id": "c57f528a6b3bf6d3"
  },
  {
   "metadata": {
    "ExecuteTime": {
     "end_time": "2025-06-15T14:21:56.803106Z",
     "start_time": "2025-06-15T14:21:56.795428Z"
    }
   },
   "cell_type": "code",
   "source": [
    "ucl['Elite_Player'] = (\n",
    "    (ucl['Goals'] > 5) |\n",
    "    (ucl['Assists'] > 5) |\n",
    "    (ucl['Minutes_played'] >= 900) |\n",
    "    (ucl['Total_attempts'] > 30) |\n",
    "    (ucl['Chances_Created'] > 30) |\n",
    "    (ucl['Rating'] > 7.4)\n",
    "\n",
    ").astype(int)"
   ],
   "id": "356485d7a6d0b6b8",
   "outputs": [],
   "execution_count": 45
  },
  {
   "metadata": {},
   "cell_type": "markdown",
   "source": "#### HAPI 2️⃣ Splitimi i Train dhe Test",
   "id": "a619b95fa2c874a4"
  },
  {
   "metadata": {
    "ExecuteTime": {
     "end_time": "2025-06-15T14:21:58.286142Z",
     "start_time": "2025-06-15T14:21:58.277610Z"
    }
   },
   "cell_type": "code",
   "source": [
    "features = ['Age', 'Goals', 'Assists', 'Rating', 'Minutes_played','Total_attempts','Chances_Created']\n",
    "X = ucl[features]\n",
    "y = ucl['Elite_Player']"
   ],
   "id": "7c18035f46b18156",
   "outputs": [],
   "execution_count": 46
  },
  {
   "metadata": {
    "ExecuteTime": {
     "end_time": "2025-06-15T14:21:59.551603Z",
     "start_time": "2025-06-15T14:21:59.538701Z"
    }
   },
   "cell_type": "code",
   "source": "X_train, X_test, y_train, y_test = train_test_split(X, y, test_size=0.3, random_state=42)",
   "id": "8bc14b5cbf0216c2",
   "outputs": [],
   "execution_count": 47
  },
  {
   "metadata": {},
   "cell_type": "markdown",
   "source": "#### HAPI 3️⃣ Modelimi me Logistic Regression",
   "id": "92f77a377a40fb39"
  },
  {
   "metadata": {
    "ExecuteTime": {
     "end_time": "2025-06-15T14:22:01.476511Z",
     "start_time": "2025-06-15T14:22:01.261314Z"
    }
   },
   "cell_type": "code",
   "source": [
    "from sklearn.linear_model import LogisticRegression\n",
    "model = LogisticRegression(max_iter=1000)\n",
    "model.fit(X_train, y_train)\n",
    "preds = model.predict(X_test)"
   ],
   "id": "a69a124198cf3590",
   "outputs": [],
   "execution_count": 48
  },
  {
   "metadata": {},
   "cell_type": "markdown",
   "source": "#### HAPI 4️⃣ Metrika e Klasifikimit (Accuracy, Precision, Recall, F1-Score)",
   "id": "1431bdc5423d55e7"
  },
  {
   "metadata": {
    "ExecuteTime": {
     "end_time": "2025-06-15T14:23:50.158432Z",
     "start_time": "2025-06-15T14:23:50.151252Z"
    }
   },
   "cell_type": "code",
   "source": "model.score(X_test, y_test)",
   "id": "aae972d8489e99dc",
   "outputs": [
    {
     "data": {
      "text/plain": [
       "0.7936507936507936"
      ]
     },
     "execution_count": 59,
     "metadata": {},
     "output_type": "execute_result"
    }
   ],
   "execution_count": 59
  },
  {
   "metadata": {
    "ExecuteTime": {
     "end_time": "2025-06-15T14:23:44.995371Z",
     "start_time": "2025-06-15T14:23:44.976159Z"
    }
   },
   "cell_type": "code",
   "source": [
    "from sklearn.metrics import accuracy_score, precision_score, recall_score, f1_score\n",
    "\n",
    "print(\"Elite Player Classification:\")\n",
    "print(\"Accuracy :\", round(accuracy_score(y_test, preds), 2))\n",
    "print(\"Precision:\", round(precision_score(y_test, preds), 2))\n",
    "print(\"Recall   :\", round(recall_score(y_test, preds), 2))\n",
    "print(\"F1-Score :\", round(f1_score(y_test, preds), 2))\n",
    "\n"
   ],
   "id": "6cec8265e004c8f1",
   "outputs": [
    {
     "name": "stdout",
     "output_type": "stream",
     "text": [
      "Elite Player Classification:\n",
      "Accuracy : 0.79\n",
      "Precision: 0.85\n",
      "Recall   : 0.72\n",
      "F1-Score : 0.78\n"
     ]
    },
    {
     "data": {
      "text/plain": [
       "0.7936507936507936"
      ]
     },
     "execution_count": 58,
     "metadata": {},
     "output_type": "execute_result"
    }
   ],
   "execution_count": 58
  },
  {
   "metadata": {
    "ExecuteTime": {
     "end_time": "2025-06-15T14:22:04.974581Z",
     "start_time": "2025-06-15T14:22:04.963799Z"
    }
   },
   "cell_type": "code",
   "source": "ucl['Predicted_Elite_Player'] = model.predict(X)",
   "id": "fba844a5118b6ad3",
   "outputs": [],
   "execution_count": 50
  },
  {
   "metadata": {
    "ExecuteTime": {
     "end_time": "2025-06-15T14:22:05.814138Z",
     "start_time": "2025-06-15T14:22:05.802426Z"
    }
   },
   "cell_type": "code",
   "source": "ucl['Predicted_Elite_Player'].value_counts()",
   "id": "9f14f75fdcc7ddf2",
   "outputs": [
    {
     "data": {
      "text/plain": [
       "Predicted_Elite_Player\n",
       "0    129\n",
       "1     81\n",
       "Name: count, dtype: int64"
      ]
     },
     "execution_count": 51,
     "metadata": {},
     "output_type": "execute_result"
    }
   ],
   "execution_count": 51
  }
 ],
 "metadata": {
  "kernelspec": {
   "display_name": "Python 3",
   "language": "python",
   "name": "python3"
  },
  "language_info": {
   "codemirror_mode": {
    "name": "ipython",
    "version": 2
   },
   "file_extension": ".py",
   "mimetype": "text/x-python",
   "name": "python",
   "nbconvert_exporter": "python",
   "pygments_lexer": "ipython2",
   "version": "2.7.6"
  }
 },
 "nbformat": 4,
 "nbformat_minor": 5
}
