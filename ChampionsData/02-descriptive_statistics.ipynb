{
 "cells": [
  {
   "metadata": {},
   "cell_type": "markdown",
   "source": "## 1. Importimi librarive dhe leximi i te dhenave",
   "id": "7c160ff4a87129fe"
  },
  {
   "cell_type": "code",
   "id": "initial_id",
   "metadata": {
    "collapsed": true,
    "ExecuteTime": {
     "end_time": "2025-05-26T08:30:35.430173Z",
     "start_time": "2025-05-26T08:30:35.073231Z"
    }
   },
   "source": [
    "import pandas as pd\n",
    "import numpy as np\n",
    "import matplotlib.pyplot as plt\n",
    "import seaborn as sns\n",
    "import plotly.express as px"
   ],
   "outputs": [],
   "execution_count": 113
  },
  {
   "metadata": {
    "ExecuteTime": {
     "end_time": "2025-05-26T07:33:05.293737Z",
     "start_time": "2025-05-26T07:33:04.795686Z"
    }
   },
   "cell_type": "code",
   "source": "ftg = pd.read_excel('UCL_playerstats_.xlsx')",
   "id": "34747a5ee11300b6",
   "outputs": [],
   "execution_count": 4
  },
  {
   "metadata": {
    "ExecuteTime": {
     "end_time": "2025-05-26T07:33:11.243142Z",
     "start_time": "2025-05-26T07:33:11.219684Z"
    }
   },
   "cell_type": "code",
   "source": "ftg.head()",
   "id": "9be9f474b918044d",
   "outputs": [
    {
     "data": {
      "text/plain": [
       "   PlayerID          Player    Position  Age  Nationality          Team  \\\n",
       "0         1  Theo Hernandez    Defender   27       France         Milan   \n",
       "1         2  Nicolo Barella  Midfielder   28        Italy         Inter   \n",
       "2         3     Lewandowski     Forward   36       Poland     Barcelona   \n",
       "3         4        Raphinha     Forward   28       Brazil     Barcelona   \n",
       "4         5        Van Dijk    Defender   33  Netherlands  Liverpool FC   \n",
       "\n",
       "     Competitions           Phase Phase_Tier  Value10^6  ...  Balls_recovered  \\\n",
       "0         Serie A  Knockout_phase          D       40.0  ...               53   \n",
       "1         Serie A           Final          S       80.0  ...               29   \n",
       "2         La Liga    Semi_finals           A       15.0  ...               11   \n",
       "3         La Liga    Semi_finals           A       80.0  ...               18   \n",
       "4  Premier League         Round16          C       50.0  ...               51   \n",
       "\n",
       "   Tackles_Won  Tackles_Lost  Saves  Goals_Conceded  Clean_Sheets  \\\n",
       "0            2             5      0               0             0   \n",
       "1            7            13      0               0             0   \n",
       "2            4             1      0               0             0   \n",
       "3            2             7      0               0             0   \n",
       "4            3             3      0               0             0   \n",
       "\n",
       "   MOTM_Awards  Minutes_played  Match_played  DNP  \n",
       "0            0             861            10    0  \n",
       "1            2             904            12    2  \n",
       "2            2             985            13    1  \n",
       "3            3            1225            14    0  \n",
       "4            0             840             9    1  \n",
       "\n",
       "[5 rows x 31 columns]"
      ],
      "text/html": [
       "<div>\n",
       "<style scoped>\n",
       "    .dataframe tbody tr th:only-of-type {\n",
       "        vertical-align: middle;\n",
       "    }\n",
       "\n",
       "    .dataframe tbody tr th {\n",
       "        vertical-align: top;\n",
       "    }\n",
       "\n",
       "    .dataframe thead th {\n",
       "        text-align: right;\n",
       "    }\n",
       "</style>\n",
       "<table border=\"1\" class=\"dataframe\">\n",
       "  <thead>\n",
       "    <tr style=\"text-align: right;\">\n",
       "      <th></th>\n",
       "      <th>PlayerID</th>\n",
       "      <th>Player</th>\n",
       "      <th>Position</th>\n",
       "      <th>Age</th>\n",
       "      <th>Nationality</th>\n",
       "      <th>Team</th>\n",
       "      <th>Competitions</th>\n",
       "      <th>Phase</th>\n",
       "      <th>Phase_Tier</th>\n",
       "      <th>Value10^6</th>\n",
       "      <th>...</th>\n",
       "      <th>Balls_recovered</th>\n",
       "      <th>Tackles_Won</th>\n",
       "      <th>Tackles_Lost</th>\n",
       "      <th>Saves</th>\n",
       "      <th>Goals_Conceded</th>\n",
       "      <th>Clean_Sheets</th>\n",
       "      <th>MOTM_Awards</th>\n",
       "      <th>Minutes_played</th>\n",
       "      <th>Match_played</th>\n",
       "      <th>DNP</th>\n",
       "    </tr>\n",
       "  </thead>\n",
       "  <tbody>\n",
       "    <tr>\n",
       "      <th>0</th>\n",
       "      <td>1</td>\n",
       "      <td>Theo Hernandez</td>\n",
       "      <td>Defender</td>\n",
       "      <td>27</td>\n",
       "      <td>France</td>\n",
       "      <td>Milan</td>\n",
       "      <td>Serie A</td>\n",
       "      <td>Knockout_phase</td>\n",
       "      <td>D</td>\n",
       "      <td>40.0</td>\n",
       "      <td>...</td>\n",
       "      <td>53</td>\n",
       "      <td>2</td>\n",
       "      <td>5</td>\n",
       "      <td>0</td>\n",
       "      <td>0</td>\n",
       "      <td>0</td>\n",
       "      <td>0</td>\n",
       "      <td>861</td>\n",
       "      <td>10</td>\n",
       "      <td>0</td>\n",
       "    </tr>\n",
       "    <tr>\n",
       "      <th>1</th>\n",
       "      <td>2</td>\n",
       "      <td>Nicolo Barella</td>\n",
       "      <td>Midfielder</td>\n",
       "      <td>28</td>\n",
       "      <td>Italy</td>\n",
       "      <td>Inter</td>\n",
       "      <td>Serie A</td>\n",
       "      <td>Final</td>\n",
       "      <td>S</td>\n",
       "      <td>80.0</td>\n",
       "      <td>...</td>\n",
       "      <td>29</td>\n",
       "      <td>7</td>\n",
       "      <td>13</td>\n",
       "      <td>0</td>\n",
       "      <td>0</td>\n",
       "      <td>0</td>\n",
       "      <td>2</td>\n",
       "      <td>904</td>\n",
       "      <td>12</td>\n",
       "      <td>2</td>\n",
       "    </tr>\n",
       "    <tr>\n",
       "      <th>2</th>\n",
       "      <td>3</td>\n",
       "      <td>Lewandowski</td>\n",
       "      <td>Forward</td>\n",
       "      <td>36</td>\n",
       "      <td>Poland</td>\n",
       "      <td>Barcelona</td>\n",
       "      <td>La Liga</td>\n",
       "      <td>Semi_finals</td>\n",
       "      <td>A</td>\n",
       "      <td>15.0</td>\n",
       "      <td>...</td>\n",
       "      <td>11</td>\n",
       "      <td>4</td>\n",
       "      <td>1</td>\n",
       "      <td>0</td>\n",
       "      <td>0</td>\n",
       "      <td>0</td>\n",
       "      <td>2</td>\n",
       "      <td>985</td>\n",
       "      <td>13</td>\n",
       "      <td>1</td>\n",
       "    </tr>\n",
       "    <tr>\n",
       "      <th>3</th>\n",
       "      <td>4</td>\n",
       "      <td>Raphinha</td>\n",
       "      <td>Forward</td>\n",
       "      <td>28</td>\n",
       "      <td>Brazil</td>\n",
       "      <td>Barcelona</td>\n",
       "      <td>La Liga</td>\n",
       "      <td>Semi_finals</td>\n",
       "      <td>A</td>\n",
       "      <td>80.0</td>\n",
       "      <td>...</td>\n",
       "      <td>18</td>\n",
       "      <td>2</td>\n",
       "      <td>7</td>\n",
       "      <td>0</td>\n",
       "      <td>0</td>\n",
       "      <td>0</td>\n",
       "      <td>3</td>\n",
       "      <td>1225</td>\n",
       "      <td>14</td>\n",
       "      <td>0</td>\n",
       "    </tr>\n",
       "    <tr>\n",
       "      <th>4</th>\n",
       "      <td>5</td>\n",
       "      <td>Van Dijk</td>\n",
       "      <td>Defender</td>\n",
       "      <td>33</td>\n",
       "      <td>Netherlands</td>\n",
       "      <td>Liverpool FC</td>\n",
       "      <td>Premier League</td>\n",
       "      <td>Round16</td>\n",
       "      <td>C</td>\n",
       "      <td>50.0</td>\n",
       "      <td>...</td>\n",
       "      <td>51</td>\n",
       "      <td>3</td>\n",
       "      <td>3</td>\n",
       "      <td>0</td>\n",
       "      <td>0</td>\n",
       "      <td>0</td>\n",
       "      <td>0</td>\n",
       "      <td>840</td>\n",
       "      <td>9</td>\n",
       "      <td>1</td>\n",
       "    </tr>\n",
       "  </tbody>\n",
       "</table>\n",
       "<p>5 rows × 31 columns</p>\n",
       "</div>"
      ]
     },
     "execution_count": 5,
     "metadata": {},
     "output_type": "execute_result"
    }
   ],
   "execution_count": 5
  },
  {
   "metadata": {},
   "cell_type": "markdown",
   "source": "## 2. Mean, Median, Mode, Std",
   "id": "ae1e9a74037b682d"
  },
  {
   "metadata": {},
   "cell_type": "markdown",
   "source": "#### Rikthen mesataren e seciles kolone me metoden `mean()`",
   "id": "e99c678045f6de04"
  },
  {
   "metadata": {
    "ExecuteTime": {
     "end_time": "2025-05-26T07:39:59.063381Z",
     "start_time": "2025-05-26T07:39:59.046632Z"
    }
   },
   "cell_type": "code",
   "source": [
    "print(\"Mesatarja\")\n",
    "mean_ftg = ftg.mean(numeric_only=True).add_suffix('_mesatarja')\n",
    "\n",
    "mean_ftg\n"
   ],
   "id": "e7726d0d8291344",
   "outputs": [
    {
     "name": "stdout",
     "output_type": "stream",
     "text": [
      "Mesatarja\n"
     ]
    },
    {
     "data": {
      "text/plain": [
       "PlayerID_mesatarja               105.500000\n",
       "Age_mesatarja                     26.780952\n",
       "Value10^6_mesatarja               39.684524\n",
       "Jersey_Num_mesatarja              17.700000\n",
       "Rating_mesatarja                   7.234381\n",
       "Goals_mesatarja                    1.800000\n",
       "Assists_mesatarja                  1.328571\n",
       "TopSpeed(km/h)_mesatarja          32.468095\n",
       "DistanceCovered(km)_mesatarja     85.904286\n",
       "Total_attempts_mesatarja          12.533333\n",
       "Dribbles_mesatarja                13.842857\n",
       "Passes_completed_mesatarja       360.695238\n",
       "Key_passes_mesatarja              10.000000\n",
       "Chances_Created_mesatarja          9.885714\n",
       "Balls_recovered_mesatarja         29.390476\n",
       "Tackles_Won_mesatarja              4.547619\n",
       "Tackles_Lost_mesatarja             6.014286\n",
       "Saves_mesatarja                    3.204762\n",
       "Goals_Conceded_mesatarja           1.242857\n",
       "Clean_Sheets_mesatarja             0.271429\n",
       "MOTM_Awards_mesatarja              0.614286\n",
       "Minutes_played_mesatarja         789.380952\n",
       "Match_played_mesatarja            10.271429\n",
       "DNP_mesatarja                      1.609524\n",
       "dtype: float64"
      ]
     },
     "execution_count": 16,
     "metadata": {},
     "output_type": "execute_result"
    }
   ],
   "execution_count": 16
  },
  {
   "metadata": {
    "ExecuteTime": {
     "end_time": "2025-05-26T08:07:37.072664Z",
     "start_time": "2025-05-26T08:07:37.065570Z"
    }
   },
   "cell_type": "code",
   "source": [
    "print(\"Mesatarja per Kolonat:\")\n",
    "print(ftg[['Goals', 'Assists', 'Rating', 'Minutes_played']].mean())"
   ],
   "id": "48499e9b25438fec",
   "outputs": [
    {
     "name": "stdout",
     "output_type": "stream",
     "text": [
      "Mesatarja per Kolonat:\n",
      "Goals               1.800000\n",
      "Assists             1.328571\n",
      "Rating              7.234381\n",
      "Minutes_played    789.380952\n",
      "dtype: float64\n"
     ]
    }
   ],
   "execution_count": 77
  },
  {
   "metadata": {
    "ExecuteTime": {
     "end_time": "2025-05-26T08:14:13.269235Z",
     "start_time": "2025-05-26T08:14:13.250908Z"
    }
   },
   "cell_type": "code",
   "source": [
    "print(\"A kan mesatare me te lart te Rating mesfushoret apo sulmuesit ose pozicionet tjera\")\n",
    "ftg.groupby('Position')[['Goals', 'Assists', 'Rating', 'MOTM_Awards']].mean()"
   ],
   "id": "37bac6a57d0b74d",
   "outputs": [
    {
     "name": "stdout",
     "output_type": "stream",
     "text": [
      "A kan mesatare me te lart te Rating mesfushoret apo sulmuesit ose pozicionet tjera?\n"
     ]
    },
    {
     "data": {
      "text/plain": [
       "                Goals   Assists    Rating  MOTM_Awards\n",
       "Position                                              \n",
       "Defender     0.700000  0.966667  7.162667     0.250000\n",
       "Forward      3.921875  1.796875  7.305937     1.062500\n",
       "Goalkeeper   0.000000  0.000000  7.215500     0.350000\n",
       "Midfielder   1.261538  1.615385  7.234769     0.584615\n",
       "Midfielder   3.000000  1.000000  7.310000     1.000000"
      ],
      "text/html": [
       "<div>\n",
       "<style scoped>\n",
       "    .dataframe tbody tr th:only-of-type {\n",
       "        vertical-align: middle;\n",
       "    }\n",
       "\n",
       "    .dataframe tbody tr th {\n",
       "        vertical-align: top;\n",
       "    }\n",
       "\n",
       "    .dataframe thead th {\n",
       "        text-align: right;\n",
       "    }\n",
       "</style>\n",
       "<table border=\"1\" class=\"dataframe\">\n",
       "  <thead>\n",
       "    <tr style=\"text-align: right;\">\n",
       "      <th></th>\n",
       "      <th>Goals</th>\n",
       "      <th>Assists</th>\n",
       "      <th>Rating</th>\n",
       "      <th>MOTM_Awards</th>\n",
       "    </tr>\n",
       "    <tr>\n",
       "      <th>Position</th>\n",
       "      <th></th>\n",
       "      <th></th>\n",
       "      <th></th>\n",
       "      <th></th>\n",
       "    </tr>\n",
       "  </thead>\n",
       "  <tbody>\n",
       "    <tr>\n",
       "      <th>Defender</th>\n",
       "      <td>0.700000</td>\n",
       "      <td>0.966667</td>\n",
       "      <td>7.162667</td>\n",
       "      <td>0.250000</td>\n",
       "    </tr>\n",
       "    <tr>\n",
       "      <th>Forward</th>\n",
       "      <td>3.921875</td>\n",
       "      <td>1.796875</td>\n",
       "      <td>7.305937</td>\n",
       "      <td>1.062500</td>\n",
       "    </tr>\n",
       "    <tr>\n",
       "      <th>Goalkeeper</th>\n",
       "      <td>0.000000</td>\n",
       "      <td>0.000000</td>\n",
       "      <td>7.215500</td>\n",
       "      <td>0.350000</td>\n",
       "    </tr>\n",
       "    <tr>\n",
       "      <th>Midfielder</th>\n",
       "      <td>1.261538</td>\n",
       "      <td>1.615385</td>\n",
       "      <td>7.234769</td>\n",
       "      <td>0.584615</td>\n",
       "    </tr>\n",
       "    <tr>\n",
       "      <th>Midfielder</th>\n",
       "      <td>3.000000</td>\n",
       "      <td>1.000000</td>\n",
       "      <td>7.310000</td>\n",
       "      <td>1.000000</td>\n",
       "    </tr>\n",
       "  </tbody>\n",
       "</table>\n",
       "</div>"
      ]
     },
     "execution_count": 86,
     "metadata": {},
     "output_type": "execute_result"
    }
   ],
   "execution_count": 86
  },
  {
   "metadata": {},
   "cell_type": "markdown",
   "source": "#### Rikthen mesataren e seciles kolone me metoden `median()`",
   "id": "a3e7695030293c45"
  },
  {
   "metadata": {
    "ExecuteTime": {
     "end_time": "2025-05-26T07:42:39.937825Z",
     "start_time": "2025-05-26T07:42:39.927Z"
    }
   },
   "cell_type": "code",
   "source": "ftg.median(numeric_only=True)",
   "id": "1503657ab08509a6",
   "outputs": [
    {
     "data": {
      "text/plain": [
       "PlayerID               105.50\n",
       "Age                     26.00\n",
       "Value10^6               30.00\n",
       "Jersey_Num              12.50\n",
       "Rating                   7.18\n",
       "Goals                    1.00\n",
       "Assists                  1.00\n",
       "TopSpeed(km/h)          32.90\n",
       "DistanceCovered(km)     86.55\n",
       "Total_attempts          10.00\n",
       "Dribbles                 9.00\n",
       "Passes_completed       316.00\n",
       "Key_passes               9.00\n",
       "Chances_Created          9.00\n",
       "Balls_recovered         25.50\n",
       "Tackles_Won              3.00\n",
       "Tackles_Lost             5.00\n",
       "Saves                    0.00\n",
       "Goals_Conceded           0.00\n",
       "Clean_Sheets             0.00\n",
       "MOTM_Awards              0.00\n",
       "Minutes_played         777.50\n",
       "Match_played            10.00\n",
       "DNP                      1.00\n",
       "dtype: float64"
      ]
     },
     "execution_count": 23,
     "metadata": {},
     "output_type": "execute_result"
    }
   ],
   "execution_count": 23
  },
  {
   "metadata": {},
   "cell_type": "markdown",
   "source": "#### Metoda `moda()` per nacionalitetin me te shpeshte te lojtarëve ne champions league",
   "id": "26e5e300a249d7f2"
  },
  {
   "metadata": {
    "ExecuteTime": {
     "end_time": "2025-05-26T08:15:11.947844Z",
     "start_time": "2025-05-26T08:15:11.931312Z"
    }
   },
   "cell_type": "code",
   "source": [
    "print(\"(vlera më e shpeshta) Moda per nacionalitetin:\")\n",
    "ftg['Nationality'].mode()"
   ],
   "id": "63a502bc70feb642",
   "outputs": [
    {
     "name": "stdout",
     "output_type": "stream",
     "text": [
      "(vlera më e shpeshta) Moda per nacionalitetin:\n"
     ]
    },
    {
     "data": {
      "text/plain": [
       "0    France\n",
       "Name: Nationality, dtype: object"
      ]
     },
     "execution_count": 87,
     "metadata": {},
     "output_type": "execute_result"
    }
   ],
   "execution_count": 87
  },
  {
   "metadata": {},
   "cell_type": "markdown",
   "source": "#### Rikthen mesataren e seciles kolone me metoden `std()`",
   "id": "837d9783fb972c4a"
  },
  {
   "metadata": {
    "ExecuteTime": {
     "end_time": "2025-05-26T07:54:55.491567Z",
     "start_time": "2025-05-26T07:54:55.479458Z"
    }
   },
   "cell_type": "code",
   "source": "ftg.std(numeric_only=True).transpose()",
   "id": "ca0315c524d0c06d",
   "outputs": [
    {
     "data": {
      "text/plain": [
       "PlayerID                60.765944\n",
       "Age                      4.416110\n",
       "Value10^6               36.107141\n",
       "Jersey_Num              16.084124\n",
       "Rating                   0.244389\n",
       "Goals                    2.417639\n",
       "Assists                  1.467884\n",
       "TopSpeed(km/h)           2.454014\n",
       "DistanceCovered(km)     31.080178\n",
       "Total_attempts          11.123118\n",
       "Dribbles                16.162721\n",
       "Passes_completed       211.081114\n",
       "Key_passes               7.740405\n",
       "Chances_Created          7.665637\n",
       "Balls_recovered         22.494442\n",
       "Tackles_Won              4.546424\n",
       "Tackles_Lost             4.784823\n",
       "Saves                   10.354990\n",
       "Goals_Conceded           4.112424\n",
       "Clean_Sheets             1.001264\n",
       "MOTM_Awards              0.863278\n",
       "Minutes_played         228.913572\n",
       "Match_played             2.351350\n",
       "DNP                      1.752621\n",
       "dtype: float64"
      ]
     },
     "execution_count": 51,
     "metadata": {},
     "output_type": "execute_result"
    }
   ],
   "execution_count": 51
  },
  {
   "metadata": {},
   "cell_type": "markdown",
   "source": "#### Korrelacioni",
   "id": "f347a506f1a5aef6"
  },
  {
   "metadata": {
    "ExecuteTime": {
     "end_time": "2025-05-26T08:17:57.318811Z",
     "start_time": "2025-05-26T08:17:57.306798Z"
    }
   },
   "cell_type": "code",
   "source": [
    "print(\"Sa lidhet numri i golave me vlersimin e lojtarit\")\n",
    "ftg['Goals'].corr(ftg['Rating'])"
   ],
   "id": "74490b4b5649c4d0",
   "outputs": [
    {
     "name": "stdout",
     "output_type": "stream",
     "text": [
      "Sa lidhet numri i golave me vlersimin e lojtarit\n"
     ]
    },
    {
     "data": {
      "text/plain": [
       "np.float64(0.5928900293916031)"
      ]
     },
     "execution_count": 96,
     "metadata": {},
     "output_type": "execute_result"
    }
   ],
   "execution_count": 96
  },
  {
   "metadata": {},
   "cell_type": "markdown",
   "source": "#### Vizualizimi me HeatMap",
   "id": "db6c58b291d4bb75"
  },
  {
   "metadata": {
    "ExecuteTime": {
     "end_time": "2025-05-26T08:26:51.287900Z",
     "start_time": "2025-05-26T08:26:51.271222Z"
    }
   },
   "cell_type": "code",
   "source": [
    "corr_matrix = ftg.corr(numeric_only=True)\n",
    "\n",
    "corr_positions = ftg.groupby('Position')[['Goals', 'Assists','MOTM_Awards']].corr(numeric_only=True)"
   ],
   "id": "de61006101033a27",
   "outputs": [],
   "execution_count": 110
  },
  {
   "metadata": {
    "ExecuteTime": {
     "end_time": "2025-05-26T08:24:26.838462Z",
     "start_time": "2025-05-26T08:24:25.553883Z"
    }
   },
   "cell_type": "code",
   "source": [
    "plt.figure(figsize=(12, 10))\n",
    "sns.heatmap(corr_matrix, annot=True, cmap='coolwarm')\n",
    "plt.title(\"Heatmap e Korelacionit midis Lojtarve\")\n",
    "plt.show()"
   ],
   "id": "63eb9d0c1579585f",
   "outputs": [
    {
     "data": {
      "text/plain": [
       "<Figure size 1200x1000 with 2 Axes>"
      ],
      "image/png": "[encoded data removed]"
     },
     "metadata": {},
     "output_type": "display_data"
    }
   ],
   "execution_count": 105
  },
  {
   "metadata": {
    "ExecuteTime": {
     "end_time": "2025-05-26T08:32:48.629585Z",
     "start_time": "2025-05-26T08:32:48.623717Z"
    }
   },
   "cell_type": "code",
   "source": [
    "corr_g_r = ftg['Goals'].corr(ftg['Rating'])\n",
    "\n",
    "print(f\"Korelacioni mes Goalve dhe Rating(Vlersimit): {corr_g_r:.2f}\")"
   ],
   "id": "8356e3702e6de905",
   "outputs": [
    {
     "name": "stdout",
     "output_type": "stream",
     "text": [
      "Korelacioni mes Goalve dhe Rating(Vlersimit): 0.59\n"
     ]
    }
   ],
   "execution_count": 122
  },
  {
   "metadata": {
    "ExecuteTime": {
     "end_time": "2025-05-26T08:36:21.063685Z",
     "start_time": "2025-05-26T08:36:20.996019Z"
    }
   },
   "cell_type": "code",
   "source": [
    "fig = px.scatter(\n",
    "    ftg,\n",
    "    x='Goals',\n",
    "    y='Rating',\n",
    "    title=f'Corr between Goals and Rating (Corr = {corr_g_r:.2f})',\n",
    "    labels={'Goals': 'Golat', 'Rating': 'Vleresimi'},\n",
    "    color='Position'\n",
    ")\n",
    "\n",
    "fig.show()"
   ],
   "id": "b5e397f3d2312e64",
   "outputs": [
    {
     "data": {
      "application/vnd.plotly.v1+json": {
       "data": [
        {
         "hovertemplate": "Position=Defender<br>Golat=%{x}<br>Vleresimi=%{y}<extra></extra>",
         "legendgroup": "Defender",
         "marker": {
          "color": "#636efa",
          "symbol": "circle"
         },
         "mode": "markers",
         "name": "Defender",
         "orientation": "v",
         "showlegend": true,
         "x": {
          "dtype": "i1",
          "bdata": "AAEBAAMAAAIAAAAAAAMBAAIBAAEAAQACAAABAgEBAAABAQABAAEBAAIEAgEAAAEAAQAAAAAAAAEAAQAB"
         },
         "xaxis": "x",
         "y": {
          "dtype": "f8",
          "bdata": "FK5H4XoUHEA9CtejcD0dQK5H4XoUrhxAMzMzMzMzHEBSuB6F61EfQIXrUbgehRtAw/UoXI/CG0BmZmZmZmYcQEjhehSuRxxAMzMzMzMzHEB7FK5H4XocQClcj8L1KBxArkfhehSuHECPwvUoXI8cQD0K16NwPRxAH4XrUbgeHECF61G4HoUeQBSuR+F6FBxA9ihcj8L1HECuR+F6FK4cQHE9CtejcBxAj8L1KFyPHEApXI/C9SgdQI/C9Shcjx1AUrgehetRHUAfhetRuB4dQClcj8L1KB1A16NwPQrXHECamZmZmZkbQHE9CtejcBxAH4XrUbgeHEAK16NwPQodQKRwPQrXoxxAzczMzMzMG0DXo3A9CtcbQHsUrkfhehxAAAAAAAAAHEAK16NwPQodQD0K16NwPRxAw/UoXI/CHEBSuB6F61EdQPYoXI/C9R5AFK5H4XoUHkBSuB6F61EcQFyPwvUoXBxAAAAAAAAAHEBxPQrXo3AcQBSuR+F6FBxAMzMzMzMzHEC4HoXrUbgcQClcj8L1KBxAuB6F61G4HEDNzMzMzMwbQOxRuB6F6xxA9ihcj8L1HEAUrkfhehQdQB+F61G4Hh1AzczMzMzMHECkcD0K16McQArXo3A9ChxA"
         },
         "yaxis": "y",
         "type": "scatter"
        },
        {
         "hovertemplate": "Position=Midfielder<br>Golat=%{x}<br>Vleresimi=%{y}<extra></extra>",
         "legendgroup": "Midfielder",
         "marker": {
          "color": "#EF553B",
          "symbol": "circle"
         },
         "mode": "markers",
         "name": "Midfielder",
         "orientation": "v",
         "showlegend": true,
         "x": {
          "dtype": "i1",
          "bdata": "AAEBAAABAwQDAAQCAAEBAAEBAgEBAAIDAAQAAgABAAMAAgIBAgEAAAADAAAAAAICAQQBBgICAAQDAQAAAAABAAA="
         },
         "xaxis": "x",
         "y": {
          "dtype": "f8",
          "bdata": "cT0K16NwHEC4HoXrUbgcQAAAAAAAAB1A9ihcj8L1HEDsUbgehescQOF6FK5H4RxA9ihcj8L1HEBmZmZmZmYeQFyPwvUoXBxA4XoUrkfhG0C4HoXrUbgdQDMzMzMzMx5A7FG4HoXrHUA9CtejcD0cQKRwPQrXoxxApHA9CtejHECPwvUoXI8cQJqZmZmZmRxA16NwPQrXHEDNzMzMzMwcQKRwPQrXoxtAAAAAAAAAHUAAAAAAAAAcQM3MzMzMzBxAZmZmZmZmHEAUrkfhehQdQD0K16NwPR1ASOF6FK5HHUDNzMzMzMwdQK5H4XoUrhxAcT0K16NwHECkcD0K16McQFK4HoXrURxAj8L1KFyPHUBSuB6F61EcQEjhehSuRxxAFK5H4XoUHEA9CtejcD0cQBSuR+F6FB1AMzMzMzMzHEBxPQrXo3AcQAAAAAAAAB9AH4XrUbgeHEAUrkfhehQcQOxRuB6F6x1AH4XrUbgeHEB7FK5H4XoeQIXrUbgehR5AMzMzMzMzHkAzMzMzMzMeQLgehetRuBtA16NwPQrXHkBI4XoUrkcdQArXo3A9Ch1AzczMzMzMG0DNzMzMzMwcQIXrUbgehRxAAAAAAAAAHkCPwvUoXI8dQClcj8L1KB1ArkfhehSuG0AzMzMzMzMcQD0K16NwPRxApHA9CtejHUC4HoXrUbgdQA=="
         },
         "yaxis": "y",
         "type": "scatter"
        },
        {
         "hovertemplate": "Position=Forward<br>Golat=%{x}<br>Vleresimi=%{y}<extra></extra>",
         "legendgroup": "Forward",
         "marker": {
          "color": "#00cc96",
          "symbol": "circle"
         },
         "mode": "markers",
         "name": "Forward",
         "orientation": "v",
         "showlegend": true,
         "x": {
          "dtype": "i1",
          "bdata": "Cw0DAgACBAUHBAMCAgIIBwEBBgYHAwkBBAMDCAEAAwADBgEDBQICAQEEAw0CBQELBgQFBwMEAAMFAwgBAAMDAg=="
         },
         "xaxis": "x",
         "y": {
          "dtype": "f8",
          "bdata": "7FG4HoXrHUAfhetRuJ4gQGZmZmZmZh5AuB6F61G4G0CPwvUoXI8bQNejcD0K1xxAcT0K16NwHUCuR+F6FK4fQI/C9Shcjx1A9ihcj8L1HEBSuB6F61EdQPYoXI/C9R1AUrgehetRHECamZmZmZkcQClcj8L1KB9AZmZmZmZmHkBmZmZmZmYcQFK4HoXrURxAZmZmZmZmH0BSuB6F61EdQK5H4XoUrhxACtejcD0KHkCuR+F6FK4dQB+F61G4HhxApHA9CtejG0DNzMzMzMwbQK5H4XoUrhxApHA9CtejH0CamZmZmZkbQJqZmZmZmRtAzczMzMzMHEDhehSuR+EcQOF6FK5H4RxA9ihcj8L1HUDhehSuR+EbQAAAAAAAAB1AKVyPwvUoHkDXo3A9CtcdQBSuR+F6FB1AmpmZmZmZG0Bcj8L1KFwcQJqZmZmZmRxAhetRuB6FHkAzMzMzMzMfQI/C9ShcjxxAXI/C9ShcHkBSuB6F61EcQHsUrkfheh9ASOF6FK5HHUApXI/C9SgcQMP1KFyPwh5ApHA9CtejHUDNzMzMzMwbQAAAAAAAABxApHA9CtejHEAzMzMzMzMeQMP1KFyPwh1AMzMzMzMzHEBxPQrXo3AeQMP1KFyPwhtAw/UoXI/CG0AfhetRuB4dQLgehetRuBxAmpmZmZmZHEA="
         },
         "yaxis": "y",
         "type": "scatter"
        },
        {
         "hovertemplate": "Position=Midfielder <br>Golat=%{x}<br>Vleresimi=%{y}<extra></extra>",
         "legendgroup": "Midfielder ",
         "marker": {
          "color": "#ab63fa",
          "symbol": "circle"
         },
         "mode": "markers",
         "name": "Midfielder ",
         "orientation": "v",
         "showlegend": true,
         "x": {
          "dtype": "i1",
          "bdata": "Aw=="
         },
         "xaxis": "x",
         "y": {
          "dtype": "f8",
          "bdata": "PQrXo3A9HUA="
         },
         "yaxis": "y",
         "type": "scatter"
        },
        {
         "hovertemplate": "Position=Goalkeeper<br>Golat=%{x}<br>Vleresimi=%{y}<extra></extra>",
         "legendgroup": "Goalkeeper",
         "marker": {
          "color": "#FFA15A",
          "symbol": "circle"
         },
         "mode": "markers",
         "name": "Goalkeeper",
         "orientation": "v",
         "showlegend": true,
         "x": {
          "dtype": "i1",
          "bdata": "AAAAAAAAAAAAAAAAAAAAAAAAAAA="
         },
         "xaxis": "x",
         "y": {
          "dtype": "f8",
          "bdata": "AAAAAAAAHECPwvUoXI8cQFyPwvUoXB1ACtejcD0KHUC4HoXrUbgeQDMzMzMzMx5A4XoUrkfhG0CamZmZmZkbQLgehetRuBxAcT0K16NwHkCuR+F6FK4bQM3MzMzMzBxAexSuR+F6HEBI4XoUrkcdQDMzMzMzMxxA7FG4HoXrG0CF61G4HoUcQPYoXI/C9R1ArkfhehSuHEAzMzMzMzMdQA=="
         },
         "yaxis": "y",
         "type": "scatter"
        }
       ],
       "layout": {
        "template": {
         "data": {
          "histogram2dcontour": [
           {
            "type": "histogram2dcontour",
            "colorbar": {
             "outlinewidth": 0,
             "ticks": ""
            },
            "colorscale": [
             [
              0.0,
              "#0d0887"
             ],
             [
              0.1111111111111111,
              "#46039f"
             ],
             [
              0.2222222222222222,
              "#7201a8"
             ],
             [
              0.3333333333333333,
              "#9c179e"
             ],
             [
              0.4444444444444444,
              "#bd3786"
             ],
             [
              0.5555555555555556,
              "#d8576b"
             ],
             [
              0.6666666666666666,
              "#ed7953"
             ],
             [
              0.7777777777777778,
              "#fb9f3a"
             ],
             [
              0.8888888888888888,
              "#fdca26"
             ],
             [
              1.0,
              "#f0f921"
             ]
            ]
           }
          ],
          "choropleth": [
           {
            "type": "choropleth",
            "colorbar": {
             "outlinewidth": 0,
             "ticks": ""
            }
           }
          ],
          "histogram2d": [
           {
            "type": "histogram2d",
            "colorbar": {
             "outlinewidth": 0,
             "ticks": ""
            },
            "colorscale": [
             [
              0.0,
              "#0d0887"
             ],
             [
              0.1111111111111111,
              "#46039f"
             ],
             [
              0.2222222222222222,
              "#7201a8"
             ],
             [
              0.3333333333333333,
              "#9c179e"
             ],
             [
              0.4444444444444444,
              "#bd3786"
             ],
             [
              0.5555555555555556,
              "#d8576b"
             ],
             [
              0.6666666666666666,
              "#ed7953"
             ],
             [
              0.7777777777777778,
              "#fb9f3a"
             ],
             [
              0.8888888888888888,
              "#fdca26"
             ],
             [
              1.0,
              "#f0f921"
             ]
            ]
           }
          ],
          "heatmap": [
           {
            "type": "heatmap",
            "colorbar": {
             "outlinewidth": 0,
             "ticks": ""
            },
            "colorscale": [
             [
              0.0,
              "#0d0887"
             ],
             [
              0.1111111111111111,
              "#46039f"
             ],
             [
              0.2222222222222222,
              "#7201a8"
             ],
             [
              0.3333333333333333,
              "#9c179e"
             ],
             [
              0.4444444444444444,
              "#bd3786"
             ],
             [
              0.5555555555555556,
              "#d8576b"
             ],
             [
              0.6666666666666666,
              "#ed7953"
             ],
             [
              0.7777777777777778,
              "#fb9f3a"
             ],
             [
              0.8888888888888888,
              "#fdca26"
             ],
             [
              1.0,
              "#f0f921"
             ]
            ]
           }
          ],
          "contourcarpet": [
           {
            "type": "contourcarpet",
            "colorbar": {
             "outlinewidth": 0,
             "ticks": ""
            }
           }
          ],
          "contour": [
           {
            "type": "contour",
            "colorbar": {
             "outlinewidth": 0,
             "ticks": ""
            },
            "colorscale": [
             [
              0.0,
              "#0d0887"
             ],
             [
              0.1111111111111111,
              "#46039f"
             ],
             [
              0.2222222222222222,
              "#7201a8"
             ],
             [
              0.3333333333333333,
              "#9c179e"
             ],
             [
              0.4444444444444444,
              "#bd3786"
             ],
             [
              0.5555555555555556,
              "#d8576b"
             ],
             [
              0.6666666666666666,
              "#ed7953"
             ],
             [
              0.7777777777777778,
              "#fb9f3a"
             ],
             [
              0.8888888888888888,
              "#fdca26"
             ],
             [
              1.0,
              "#f0f921"
             ]
            ]
           }
          ],
          "surface": [
           {
            "type": "surface",
            "colorbar": {
             "outlinewidth": 0,
             "ticks": ""
            },
            "colorscale": [
             [
              0.0,
              "#0d0887"
             ],
             [
              0.1111111111111111,
              "#46039f"
             ],
             [
              0.2222222222222222,
              "#7201a8"
             ],
             [
              0.3333333333333333,
              "#9c179e"
             ],
             [
              0.4444444444444444,
              "#bd3786"
             ],
             [
              0.5555555555555556,
              "#d8576b"
             ],
             [
              0.6666666666666666,
              "#ed7953"
             ],
             [
              0.7777777777777778,
              "#fb9f3a"
             ],
             [
              0.8888888888888888,
              "#fdca26"
             ],
             [
              1.0,
              "#f0f921"
             ]
            ]
           }
          ],
          "mesh3d": [
           {
            "type": "mesh3d",
            "colorbar": {
             "outlinewidth": 0,
             "ticks": ""
            }
           }
          ],
          "scatter": [
           {
            "fillpattern": {
             "fillmode": "overlay",
             "size": 10,
             "solidity": 0.2
            },
            "type": "scatter"
           }
          ],
          "parcoords": [
           {
            "type": "parcoords",
            "line": {
             "colorbar": {
              "outlinewidth": 0,
              "ticks": ""
             }
            }
           }
          ],
          "scatterpolargl": [
           {
            "type": "scatterpolargl",
            "marker": {
             "colorbar": {
              "outlinewidth": 0,
              "ticks": ""
             }
            }
           }
          ],
          "bar": [
           {
            "error_x": {
             "color": "#2a3f5f"
            },
            "error_y": {
             "color": "#2a3f5f"
            },
            "marker": {
             "line": {
              "color": "#E5ECF6",
              "width": 0.5
             },
             "pattern": {
              "fillmode": "overlay",
              "size": 10,
              "solidity": 0.2
             }
            },
            "type": "bar"
           }
          ],
          "scattergeo": [
           {
            "type": "scattergeo",
            "marker": {
             "colorbar": {
              "outlinewidth": 0,
              "ticks": ""
             }
            }
           }
          ],
          "scatterpolar": [
           {
            "type": "scatterpolar",
            "marker": {
             "colorbar": {
              "outlinewidth": 0,
              "ticks": ""
             }
            }
           }
          ],
          "histogram": [
           {
            "marker": {
             "pattern": {
              "fillmode": "overlay",
              "size": 10,
              "solidity": 0.2
             }
            },
            "type": "histogram"
           }
          ],
          "scattergl": [
           {
            "type": "scattergl",
            "marker": {
             "colorbar": {
              "outlinewidth": 0,
              "ticks": ""
             }
            }
           }
          ],
          "scatter3d": [
           {
            "type": "scatter3d",
            "line": {
             "colorbar": {
              "outlinewidth": 0,
              "ticks": ""
             }
            },
            "marker": {
             "colorbar": {
              "outlinewidth": 0,
              "ticks": ""
             }
            }
           }
          ],
          "scattermap": [
           {
            "type": "scattermap",
            "marker": {
             "colorbar": {
              "outlinewidth": 0,
              "ticks": ""
             }
            }
           }
          ],
          "scattermapbox": [
           {
            "type": "scattermapbox",
            "marker": {
             "colorbar": {
              "outlinewidth": 0,
              "ticks": ""
             }
            }
           }
          ],
          "scatterternary": [
           {
            "type": "scatterternary",
            "marker": {
             "colorbar": {
              "outlinewidth": 0,
              "ticks": ""
             }
            }
           }
          ],
          "scattercarpet": [
           {
            "type": "scattercarpet",
            "marker": {
             "colorbar": {
              "outlinewidth": 0,
              "ticks": ""
             }
            }
           }
          ],
          "carpet": [
           {
            "aaxis": {
             "endlinecolor": "#2a3f5f",
             "gridcolor": "white",
             "linecolor": "white",
             "minorgridcolor": "white",
             "startlinecolor": "#2a3f5f"
            },
            "baxis": {
             "endlinecolor": "#2a3f5f",
             "gridcolor": "white",
             "linecolor": "white",
             "minorgridcolor": "white",
             "startlinecolor": "#2a3f5f"
            },
            "type": "carpet"
           }
          ],
          "table": [
           {
            "cells": {
             "fill": {
              "color": "#EBF0F8"
             },
             "line": {
              "color": "white"
             }
            },
            "header": {
             "fill": {
              "color": "#C8D4E3"
             },
             "line": {
              "color": "white"
             }
            },
            "type": "table"
           }
          ],
          "barpolar": [
           {
            "marker": {
             "line": {
              "color": "#E5ECF6",
              "width": 0.5
             },
             "pattern": {
              "fillmode": "overlay",
              "size": 10,
              "solidity": 0.2
             }
            },
            "type": "barpolar"
           }
          ],
          "pie": [
           {
            "automargin": true,
            "type": "pie"
           }
          ]
         },
         "layout": {
          "autotypenumbers": "strict",
          "colorway": [
           "#636efa",
           "#EF553B",
           "#00cc96",
           "#ab63fa",
           "#FFA15A",
           "#19d3f3",
           "#FF6692",
           "#B6E880",
           "#FF97FF",
           "#FECB52"
          ],
          "font": {
           "color": "#2a3f5f"
          },
          "hovermode": "closest",
          "hoverlabel": {
           "align": "left"
          },
          "paper_bgcolor": "white",
          "plot_bgcolor": "#E5ECF6",
          "polar": {
           "bgcolor": "#E5ECF6",
           "angularaxis": {
            "gridcolor": "white",
            "linecolor": "white",
            "ticks": ""
           },
           "radialaxis": {
            "gridcolor": "white",
            "linecolor": "white",
            "ticks": ""
           }
          },
          "ternary": {
           "bgcolor": "#E5ECF6",
           "aaxis": {
            "gridcolor": "white",
            "linecolor": "white",
            "ticks": ""
           },
           "baxis": {
            "gridcolor": "white",
            "linecolor": "white",
            "ticks": ""
           },
           "caxis": {
            "gridcolor": "white",
            "linecolor": "white",
            "ticks": ""
           }
          },
          "coloraxis": {
           "colorbar": {
            "outlinewidth": 0,
            "ticks": ""
           }
          },
          "colorscale": {
           "sequential": [
            [
             0.0,
             "#0d0887"
            ],
            [
             0.1111111111111111,
             "#46039f"
            ],
            [
             0.2222222222222222,
             "#7201a8"
            ],
            [
             0.3333333333333333,
             "#9c179e"
            ],
            [
             0.4444444444444444,
             "#bd3786"
            ],
            [
             0.5555555555555556,
             "#d8576b"
            ],
            [
             0.6666666666666666,
             "#ed7953"
            ],
            [
             0.7777777777777778,
             "#fb9f3a"
            ],
            [
             0.8888888888888888,
             "#fdca26"
            ],
            [
             1.0,
             "#f0f921"
            ]
           ],
           "sequentialminus": [
            [
             0.0,
             "#0d0887"
            ],
            [
             0.1111111111111111,
             "#46039f"
            ],
            [
             0.2222222222222222,
             "#7201a8"
            ],
            [
             0.3333333333333333,
             "#9c179e"
            ],
            [
             0.4444444444444444,
             "#bd3786"
            ],
            [
             0.5555555555555556,
             "#d8576b"
            ],
            [
             0.6666666666666666,
             "#ed7953"
            ],
            [
             0.7777777777777778,
             "#fb9f3a"
            ],
            [
             0.8888888888888888,
             "#fdca26"
            ],
            [
             1.0,
             "#f0f921"
            ]
           ],
           "diverging": [
            [
             0,
             "#8e0152"
            ],
            [
             0.1,
             "#c51b7d"
            ],
            [
             0.2,
             "#de77ae"
            ],
            [
             0.3,
             "#f1b6da"
            ],
            [
             0.4,
             "#fde0ef"
            ],
            [
             0.5,
             "#f7f7f7"
            ],
            [
             0.6,
             "#e6f5d0"
            ],
            [
             0.7,
             "#b8e186"
            ],
            [
             0.8,
             "#7fbc41"
            ],
            [
             0.9,
             "#4d9221"
            ],
            [
             1,
             "#276419"
            ]
           ]
          },
          "xaxis": {
           "gridcolor": "white",
           "linecolor": "white",
           "ticks": "",
           "title": {
            "standoff": 15
           },
           "zerolinecolor": "white",
           "automargin": true,
           "zerolinewidth": 2
          },
          "yaxis": {
           "gridcolor": "white",
           "linecolor": "white",
           "ticks": "",
           "title": {
            "standoff": 15
           },
           "zerolinecolor": "white",
           "automargin": true,
           "zerolinewidth": 2
          },
          "scene": {
           "xaxis": {
            "backgroundcolor": "#E5ECF6",
            "gridcolor": "white",
            "linecolor": "white",
            "showbackground": true,
            "ticks": "",
            "zerolinecolor": "white",
            "gridwidth": 2
           },
           "yaxis": {
            "backgroundcolor": "#E5ECF6",
            "gridcolor": "white",
            "linecolor": "white",
            "showbackground": true,
            "ticks": "",
            "zerolinecolor": "white",
            "gridwidth": 2
           },
           "zaxis": {
            "backgroundcolor": "#E5ECF6",
            "gridcolor": "white",
            "linecolor": "white",
            "showbackground": true,
            "ticks": "",
            "zerolinecolor": "white",
            "gridwidth": 2
           }
          },
          "shapedefaults": {
           "line": {
            "color": "#2a3f5f"
           }
          },
          "annotationdefaults": {
           "arrowcolor": "#2a3f5f",
           "arrowhead": 0,
           "arrowwidth": 1
          },
          "geo": {
           "bgcolor": "white",
           "landcolor": "#E5ECF6",
           "subunitcolor": "white",
           "showland": true,
           "showlakes": true,
           "lakecolor": "white"
          },
          "title": {
           "x": 0.05
          },
          "mapbox": {
           "style": "light"
          }
         }
        },
        "xaxis": {
         "anchor": "y",
         "domain": [
          0.0,
          1.0
         ],
         "title": {
          "text": "Golat"
         }
        },
        "yaxis": {
         "anchor": "x",
         "domain": [
          0.0,
          1.0
         ],
         "title": {
          "text": "Vleresimi"
         }
        },
        "legend": {
         "title": {
          "text": "Position"
         },
         "tracegroupgap": 0
        },
        "title": {
         "text": "Corr between Goals and Rating (Corr = 0.59)"
        }
       },
       "config": {
        "plotlyServerURL": "https://plot.ly"
       }
      }
     },
     "metadata": {},
     "output_type": "display_data"
    }
   ],
   "execution_count": 128
  },
  {
   "metadata": {
    "ExecuteTime": {
     "end_time": "2025-05-26T08:47:05.737577Z",
     "start_time": "2025-05-26T08:47:05.711019Z"
    }
   },
   "cell_type": "code",
   "source": [
    "defenders = ftg[ftg['Position'] == 'Defender'].sort_values(by='Chances_Created', ascending=False)\n",
    "\n",
    "defenders[['Player','Chances_Created','Assists']]"
   ],
   "id": "4677b2618195e050",
   "outputs": [
    {
     "data": {
      "text/plain": [
       "                 Player  Chances_Created  Assists\n",
       "12               Hakimi               34        5\n",
       "54             Grimaldo               22        2\n",
       "69              Ryerson               18        0\n",
       "20             Frimpong               17        5\n",
       "101           De Cuyper               17        0\n",
       "29              Dimarco               16        2\n",
       "192              Laimer               15        1\n",
       "21           Rico Lewis               15        1\n",
       "204          Kenny Lala               14        0\n",
       "122     Alvaro Carreras               13        2\n",
       "0        Theo Hernandez               12        0\n",
       "77      Alphonso Davies               12        0\n",
       "40               Kounde               10        3\n",
       "108     Youssouf Fofana                9        2\n",
       "131            Dumfries                9        3\n",
       "129         Nuno Mendes                9        2\n",
       "97       Jurrien Timber                9        1\n",
       "23           Bensebaini                9        1\n",
       "152           Robertson                9        1\n",
       "189      Marten de Roon                9        0\n",
       "76            Vanderson                8        1\n",
       "161          Marquinhos                8        0\n",
       "168            Boscagli                7        0\n",
       "35         Mauro Junior                7        0\n",
       "85            Upamecano                6        1\n",
       "99        Schlotterbeck                6        1\n",
       "165             Bastoni                5        1\n",
       "79   Alexsandro Ribeiro                5        1\n",
       "102         Sam Beukema                5        1\n",
       "141               Balde                4        4\n",
       "153           Calafiori                4        1\n",
       "92              Maatsen                4        0\n",
       "48             Hincapie                4        0\n",
       "87        Alexander Bah                4        2\n",
       "98        Manuel Akanji                4        1\n",
       "149    Francesco Acerbi                3        1\n",
       "104           Kolasinac                3        2\n",
       "132          Minjae Kim                3        0\n",
       "74               Pavard                3        0\n",
       "89       Inigo Martinez                3        1\n",
       "193      Thomas Meunier                3        1\n",
       "183           Kossounou                3        2\n",
       "28       Federico Gatti                2        1\n",
       "4              Van Dijk                2        0\n",
       "139               Pacho                2        0\n",
       "177      Waldemar Anton                2        0\n",
       "124               Singo                2        1\n",
       "100             Mukiele                2        1\n",
       "43        Ryan Flamingo                2        1\n",
       "10             Johnston                2        1\n",
       "57           Ezri Konsa                2        0\n",
       "9              Otamendi                1        0\n",
       "195     Ibrahima Konate                1        0\n",
       "39         Raul Asencio                1        1\n",
       "68         Jose Gimenez                1        0\n",
       "66       Stefan de Vrij                0        0\n",
       "53               Saliba                0        0\n",
       "121      Gonçalo Inacio                0        0\n",
       "109   Gabriel Magalhaes                0        0\n",
       "209              Lucumi                0        0"
      ],
      "text/html": [
       "<div>\n",
       "<style scoped>\n",
       "    .dataframe tbody tr th:only-of-type {\n",
       "        vertical-align: middle;\n",
       "    }\n",
       "\n",
       "    .dataframe tbody tr th {\n",
       "        vertical-align: top;\n",
       "    }\n",
       "\n",
       "    .dataframe thead th {\n",
       "        text-align: right;\n",
       "    }\n",
       "</style>\n",
       "<table border=\"1\" class=\"dataframe\">\n",
       "  <thead>\n",
       "    <tr style=\"text-align: right;\">\n",
       "      <th></th>\n",
       "      <th>Player</th>\n",
       "      <th>Chances_Created</th>\n",
       "      <th>Assists</th>\n",
       "    </tr>\n",
       "  </thead>\n",
       "  <tbody>\n",
       "    <tr>\n",
       "      <th>12</th>\n",
       "      <td>Hakimi</td>\n",
       "      <td>34</td>\n",
       "      <td>5</td>\n",
       "    </tr>\n",
       "    <tr>\n",
       "      <th>54</th>\n",
       "      <td>Grimaldo</td>\n",
       "      <td>22</td>\n",
       "      <td>2</td>\n",
       "    </tr>\n",
       "    <tr>\n",
       "      <th>69</th>\n",
       "      <td>Ryerson</td>\n",
       "      <td>18</td>\n",
       "      <td>0</td>\n",
       "    </tr>\n",
       "    <tr>\n",
       "      <th>20</th>\n",
       "      <td>Frimpong</td>\n",
       "      <td>17</td>\n",
       "      <td>5</td>\n",
       "    </tr>\n",
       "    <tr>\n",
       "      <th>101</th>\n",
       "      <td>De Cuyper</td>\n",
       "      <td>17</td>\n",
       "      <td>0</td>\n",
       "    </tr>\n",
       "    <tr>\n",
       "      <th>29</th>\n",
       "      <td>Dimarco</td>\n",
       "      <td>16</td>\n",
       "      <td>2</td>\n",
       "    </tr>\n",
       "    <tr>\n",
       "      <th>192</th>\n",
       "      <td>Laimer</td>\n",
       "      <td>15</td>\n",
       "      <td>1</td>\n",
       "    </tr>\n",
       "    <tr>\n",
       "      <th>21</th>\n",
       "      <td>Rico Lewis</td>\n",
       "      <td>15</td>\n",
       "      <td>1</td>\n",
       "    </tr>\n",
       "    <tr>\n",
       "      <th>204</th>\n",
       "      <td>Kenny Lala</td>\n",
       "      <td>14</td>\n",
       "      <td>0</td>\n",
       "    </tr>\n",
       "    <tr>\n",
       "      <th>122</th>\n",
       "      <td>Alvaro Carreras</td>\n",
       "      <td>13</td>\n",
       "      <td>2</td>\n",
       "    </tr>\n",
       "    <tr>\n",
       "      <th>0</th>\n",
       "      <td>Theo Hernandez</td>\n",
       "      <td>12</td>\n",
       "      <td>0</td>\n",
       "    </tr>\n",
       "    <tr>\n",
       "      <th>77</th>\n",
       "      <td>Alphonso Davies</td>\n",
       "      <td>12</td>\n",
       "      <td>0</td>\n",
       "    </tr>\n",
       "    <tr>\n",
       "      <th>40</th>\n",
       "      <td>Kounde</td>\n",
       "      <td>10</td>\n",
       "      <td>3</td>\n",
       "    </tr>\n",
       "    <tr>\n",
       "      <th>108</th>\n",
       "      <td>Youssouf Fofana</td>\n",
       "      <td>9</td>\n",
       "      <td>2</td>\n",
       "    </tr>\n",
       "    <tr>\n",
       "      <th>131</th>\n",
       "      <td>Dumfries</td>\n",
       "      <td>9</td>\n",
       "      <td>3</td>\n",
       "    </tr>\n",
       "    <tr>\n",
       "      <th>129</th>\n",
       "      <td>Nuno Mendes</td>\n",
       "      <td>9</td>\n",
       "      <td>2</td>\n",
       "    </tr>\n",
       "    <tr>\n",
       "      <th>97</th>\n",
       "      <td>Jurrien Timber</td>\n",
       "      <td>9</td>\n",
       "      <td>1</td>\n",
       "    </tr>\n",
       "    <tr>\n",
       "      <th>23</th>\n",
       "      <td>Bensebaini</td>\n",
       "      <td>9</td>\n",
       "      <td>1</td>\n",
       "    </tr>\n",
       "    <tr>\n",
       "      <th>152</th>\n",
       "      <td>Robertson</td>\n",
       "      <td>9</td>\n",
       "      <td>1</td>\n",
       "    </tr>\n",
       "    <tr>\n",
       "      <th>189</th>\n",
       "      <td>Marten de Roon</td>\n",
       "      <td>9</td>\n",
       "      <td>0</td>\n",
       "    </tr>\n",
       "    <tr>\n",
       "      <th>76</th>\n",
       "      <td>Vanderson</td>\n",
       "      <td>8</td>\n",
       "      <td>1</td>\n",
       "    </tr>\n",
       "    <tr>\n",
       "      <th>161</th>\n",
       "      <td>Marquinhos</td>\n",
       "      <td>8</td>\n",
       "      <td>0</td>\n",
       "    </tr>\n",
       "    <tr>\n",
       "      <th>168</th>\n",
       "      <td>Boscagli</td>\n",
       "      <td>7</td>\n",
       "      <td>0</td>\n",
       "    </tr>\n",
       "    <tr>\n",
       "      <th>35</th>\n",
       "      <td>Mauro Junior</td>\n",
       "      <td>7</td>\n",
       "      <td>0</td>\n",
       "    </tr>\n",
       "    <tr>\n",
       "      <th>85</th>\n",
       "      <td>Upamecano</td>\n",
       "      <td>6</td>\n",
       "      <td>1</td>\n",
       "    </tr>\n",
       "    <tr>\n",
       "      <th>99</th>\n",
       "      <td>Schlotterbeck</td>\n",
       "      <td>6</td>\n",
       "      <td>1</td>\n",
       "    </tr>\n",
       "    <tr>\n",
       "      <th>165</th>\n",
       "      <td>Bastoni</td>\n",
       "      <td>5</td>\n",
       "      <td>1</td>\n",
       "    </tr>\n",
       "    <tr>\n",
       "      <th>79</th>\n",
       "      <td>Alexsandro Ribeiro</td>\n",
       "      <td>5</td>\n",
       "      <td>1</td>\n",
       "    </tr>\n",
       "    <tr>\n",
       "      <th>102</th>\n",
       "      <td>Sam Beukema</td>\n",
       "      <td>5</td>\n",
       "      <td>1</td>\n",
       "    </tr>\n",
       "    <tr>\n",
       "      <th>141</th>\n",
       "      <td>Balde</td>\n",
       "      <td>4</td>\n",
       "      <td>4</td>\n",
       "    </tr>\n",
       "    <tr>\n",
       "      <th>153</th>\n",
       "      <td>Calafiori</td>\n",
       "      <td>4</td>\n",
       "      <td>1</td>\n",
       "    </tr>\n",
       "    <tr>\n",
       "      <th>92</th>\n",
       "      <td>Maatsen</td>\n",
       "      <td>4</td>\n",
       "      <td>0</td>\n",
       "    </tr>\n",
       "    <tr>\n",
       "      <th>48</th>\n",
       "      <td>Hincapie</td>\n",
       "      <td>4</td>\n",
       "      <td>0</td>\n",
       "    </tr>\n",
       "    <tr>\n",
       "      <th>87</th>\n",
       "      <td>Alexander Bah</td>\n",
       "      <td>4</td>\n",
       "      <td>2</td>\n",
       "    </tr>\n",
       "    <tr>\n",
       "      <th>98</th>\n",
       "      <td>Manuel Akanji</td>\n",
       "      <td>4</td>\n",
       "      <td>1</td>\n",
       "    </tr>\n",
       "    <tr>\n",
       "      <th>149</th>\n",
       "      <td>Francesco Acerbi</td>\n",
       "      <td>3</td>\n",
       "      <td>1</td>\n",
       "    </tr>\n",
       "    <tr>\n",
       "      <th>104</th>\n",
       "      <td>Kolasinac</td>\n",
       "      <td>3</td>\n",
       "      <td>2</td>\n",
       "    </tr>\n",
       "    <tr>\n",
       "      <th>132</th>\n",
       "      <td>Minjae Kim</td>\n",
       "      <td>3</td>\n",
       "      <td>0</td>\n",
       "    </tr>\n",
       "    <tr>\n",
       "      <th>74</th>\n",
       "      <td>Pavard</td>\n",
       "      <td>3</td>\n",
       "      <td>0</td>\n",
       "    </tr>\n",
       "    <tr>\n",
       "      <th>89</th>\n",
       "      <td>Inigo Martinez</td>\n",
       "      <td>3</td>\n",
       "      <td>1</td>\n",
       "    </tr>\n",
       "    <tr>\n",
       "      <th>193</th>\n",
       "      <td>Thomas Meunier</td>\n",
       "      <td>3</td>\n",
       "      <td>1</td>\n",
       "    </tr>\n",
       "    <tr>\n",
       "      <th>183</th>\n",
       "      <td>Kossounou</td>\n",
       "      <td>3</td>\n",
       "      <td>2</td>\n",
       "    </tr>\n",
       "    <tr>\n",
       "      <th>28</th>\n",
       "      <td>Federico Gatti</td>\n",
       "      <td>2</td>\n",
       "      <td>1</td>\n",
       "    </tr>\n",
       "    <tr>\n",
       "      <th>4</th>\n",
       "      <td>Van Dijk</td>\n",
       "      <td>2</td>\n",
       "      <td>0</td>\n",
       "    </tr>\n",
       "    <tr>\n",
       "      <th>139</th>\n",
       "      <td>Pacho</td>\n",
       "      <td>2</td>\n",
       "      <td>0</td>\n",
       "    </tr>\n",
       "    <tr>\n",
       "      <th>177</th>\n",
       "      <td>Waldemar Anton</td>\n",
       "      <td>2</td>\n",
       "      <td>0</td>\n",
       "    </tr>\n",
       "    <tr>\n",
       "      <th>124</th>\n",
       "      <td>Singo</td>\n",
       "      <td>2</td>\n",
       "      <td>1</td>\n",
       "    </tr>\n",
       "    <tr>\n",
       "      <th>100</th>\n",
       "      <td>Mukiele</td>\n",
       "      <td>2</td>\n",
       "      <td>1</td>\n",
       "    </tr>\n",
       "    <tr>\n",
       "      <th>43</th>\n",
       "      <td>Ryan Flamingo</td>\n",
       "      <td>2</td>\n",
       "      <td>1</td>\n",
       "    </tr>\n",
       "    <tr>\n",
       "      <th>10</th>\n",
       "      <td>Johnston</td>\n",
       "      <td>2</td>\n",
       "      <td>1</td>\n",
       "    </tr>\n",
       "    <tr>\n",
       "      <th>57</th>\n",
       "      <td>Ezri Konsa</td>\n",
       "      <td>2</td>\n",
       "      <td>0</td>\n",
       "    </tr>\n",
       "    <tr>\n",
       "      <th>9</th>\n",
       "      <td>Otamendi</td>\n",
       "      <td>1</td>\n",
       "      <td>0</td>\n",
       "    </tr>\n",
       "    <tr>\n",
       "      <th>195</th>\n",
       "      <td>Ibrahima Konate</td>\n",
       "      <td>1</td>\n",
       "      <td>0</td>\n",
       "    </tr>\n",
       "    <tr>\n",
       "      <th>39</th>\n",
       "      <td>Raul Asencio</td>\n",
       "      <td>1</td>\n",
       "      <td>1</td>\n",
       "    </tr>\n",
       "    <tr>\n",
       "      <th>68</th>\n",
       "      <td>Jose Gimenez</td>\n",
       "      <td>1</td>\n",
       "      <td>0</td>\n",
       "    </tr>\n",
       "    <tr>\n",
       "      <th>66</th>\n",
       "      <td>Stefan de Vrij</td>\n",
       "      <td>0</td>\n",
       "      <td>0</td>\n",
       "    </tr>\n",
       "    <tr>\n",
       "      <th>53</th>\n",
       "      <td>Saliba</td>\n",
       "      <td>0</td>\n",
       "      <td>0</td>\n",
       "    </tr>\n",
       "    <tr>\n",
       "      <th>121</th>\n",
       "      <td>Gonçalo Inacio</td>\n",
       "      <td>0</td>\n",
       "      <td>0</td>\n",
       "    </tr>\n",
       "    <tr>\n",
       "      <th>109</th>\n",
       "      <td>Gabriel Magalhaes</td>\n",
       "      <td>0</td>\n",
       "      <td>0</td>\n",
       "    </tr>\n",
       "    <tr>\n",
       "      <th>209</th>\n",
       "      <td>Lucumi</td>\n",
       "      <td>0</td>\n",
       "      <td>0</td>\n",
       "    </tr>\n",
       "  </tbody>\n",
       "</table>\n",
       "</div>"
      ]
     },
     "execution_count": 160,
     "metadata": {},
     "output_type": "execute_result"
    }
   ],
   "execution_count": 160
  },
  {
   "metadata": {
    "ExecuteTime": {
     "end_time": "2025-05-26T08:50:06.821703Z",
     "start_time": "2025-05-26T08:50:06.734936Z"
    }
   },
   "cell_type": "code",
   "source": [
    "fig = px.bar(\n",
    "    defenders.sort_values(by='Chances_Created', ascending=False).head(10),  # 10 mbrojtësit me më shumë gola\n",
    "    x='Player',\n",
    "    y='Chances_Created',\n",
    "    color='Assists',\n",
    "    title='Top 10 Defender me se Shumti Shanse te Krijuar (ngjyra tregon Assistat)'\n",
    ")\n",
    "fig.show()"
   ],
   "id": "1412064efa0c17e2",
   "outputs": [
    {
     "data": {
      "application/vnd.plotly.v1+json": {
       "data": [
        {
         "hovertemplate": "Player=%{x}<br>Chances_Created=%{y}<br>Assists=%{marker.color}<extra></extra>",
         "legendgroup": "",
         "marker": {
          "color": {
           "dtype": "i1",
           "bdata": "BQIABQACAQEAAg=="
          },
          "coloraxis": "coloraxis",
          "pattern": {
           "shape": ""
          }
         },
         "name": "",
         "orientation": "v",
         "showlegend": false,
         "textposition": "auto",
         "x": [
          "Hakimi",
          "Grimaldo",
          "Ryerson",
          "Frimpong",
          "De Cuyper",
          "Dimarco",
          "Laimer",
          "Rico Lewis",
          "Kenny Lala",
          "Alvaro Carreras"
         ],
         "xaxis": "x",
         "y": {
          "dtype": "i1",
          "bdata": "IhYSEREQDw8ODQ=="
         },
         "yaxis": "y",
         "type": "bar"
        }
       ],
       "layout": {
        "template": {
         "data": {
          "histogram2dcontour": [
           {
            "type": "histogram2dcontour",
            "colorbar": {
             "outlinewidth": 0,
             "ticks": ""
            },
            "colorscale": [
             [
              0.0,
              "#0d0887"
             ],
             [
              0.1111111111111111,
              "#46039f"
             ],
             [
              0.2222222222222222,
              "#7201a8"
             ],
             [
              0.3333333333333333,
              "#9c179e"
             ],
             [
              0.4444444444444444,
              "#bd3786"
             ],
             [
              0.5555555555555556,
              "#d8576b"
             ],
             [
              0.6666666666666666,
              "#ed7953"
             ],
             [
              0.7777777777777778,
              "#fb9f3a"
             ],
             [
              0.8888888888888888,
              "#fdca26"
             ],
             [
              1.0,
              "#f0f921"
             ]
            ]
           }
          ],
          "choropleth": [
           {
            "type": "choropleth",
            "colorbar": {
             "outlinewidth": 0,
             "ticks": ""
            }
           }
          ],
          "histogram2d": [
           {
            "type": "histogram2d",
            "colorbar": {
             "outlinewidth": 0,
             "ticks": ""
            },
            "colorscale": [
             [
              0.0,
              "#0d0887"
             ],
             [
              0.1111111111111111,
              "#46039f"
             ],
             [
              0.2222222222222222,
              "#7201a8"
             ],
             [
              0.3333333333333333,
              "#9c179e"
             ],
             [
              0.4444444444444444,
              "#bd3786"
             ],
             [
              0.5555555555555556,
              "#d8576b"
             ],
             [
              0.6666666666666666,
              "#ed7953"
             ],
             [
              0.7777777777777778,
              "#fb9f3a"
             ],
             [
              0.8888888888888888,
              "#fdca26"
             ],
             [
              1.0,
              "#f0f921"
             ]
            ]
           }
          ],
          "heatmap": [
           {
            "type": "heatmap",
            "colorbar": {
             "outlinewidth": 0,
             "ticks": ""
            },
            "colorscale": [
             [
              0.0,
              "#0d0887"
             ],
             [
              0.1111111111111111,
              "#46039f"
             ],
             [
              0.2222222222222222,
              "#7201a8"
             ],
             [
              0.3333333333333333,
              "#9c179e"
             ],
             [
              0.4444444444444444,
              "#bd3786"
             ],
             [
              0.5555555555555556,
              "#d8576b"
             ],
             [
              0.6666666666666666,
              "#ed7953"
             ],
             [
              0.7777777777777778,
              "#fb9f3a"
             ],
             [
              0.8888888888888888,
              "#fdca26"
             ],
             [
              1.0,
              "#f0f921"
             ]
            ]
           }
          ],
          "contourcarpet": [
           {
            "type": "contourcarpet",
            "colorbar": {
             "outlinewidth": 0,
             "ticks": ""
            }
           }
          ],
          "contour": [
           {
            "type": "contour",
            "colorbar": {
             "outlinewidth": 0,
             "ticks": ""
            },
            "colorscale": [
             [
              0.0,
              "#0d0887"
             ],
             [
              0.1111111111111111,
              "#46039f"
             ],
             [
              0.2222222222222222,
              "#7201a8"
             ],
             [
              0.3333333333333333,
              "#9c179e"
             ],
             [
              0.4444444444444444,
              "#bd3786"
             ],
             [
              0.5555555555555556,
              "#d8576b"
             ],
             [
              0.6666666666666666,
              "#ed7953"
             ],
             [
              0.7777777777777778,
              "#fb9f3a"
             ],
             [
              0.8888888888888888,
              "#fdca26"
             ],
             [
              1.0,
              "#f0f921"
             ]
            ]
           }
          ],
          "surface": [
           {
            "type": "surface",
            "colorbar": {
             "outlinewidth": 0,
             "ticks": ""
            },
            "colorscale": [
             [
              0.0,
              "#0d0887"
             ],
             [
              0.1111111111111111,
              "#46039f"
             ],
             [
              0.2222222222222222,
              "#7201a8"
             ],
             [
              0.3333333333333333,
              "#9c179e"
             ],
             [
              0.4444444444444444,
              "#bd3786"
             ],
             [
              0.5555555555555556,
              "#d8576b"
             ],
             [
              0.6666666666666666,
              "#ed7953"
             ],
             [
              0.7777777777777778,
              "#fb9f3a"
             ],
             [
              0.8888888888888888,
              "#fdca26"
             ],
             [
              1.0,
              "#f0f921"
             ]
            ]
           }
          ],
          "mesh3d": [
           {
            "type": "mesh3d",
            "colorbar": {
             "outlinewidth": 0,
             "ticks": ""
            }
           }
          ],
          "scatter": [
           {
            "fillpattern": {
             "fillmode": "overlay",
             "size": 10,
             "solidity": 0.2
            },
            "type": "scatter"
           }
          ],
          "parcoords": [
           {
            "type": "parcoords",
            "line": {
             "colorbar": {
              "outlinewidth": 0,
              "ticks": ""
             }
            }
           }
          ],
          "scatterpolargl": [
           {
            "type": "scatterpolargl",
            "marker": {
             "colorbar": {
              "outlinewidth": 0,
              "ticks": ""
             }
            }
           }
          ],
          "bar": [
           {
            "error_x": {
             "color": "#2a3f5f"
            },
            "error_y": {
             "color": "#2a3f5f"
            },
            "marker": {
             "line": {
              "color": "#E5ECF6",
              "width": 0.5
             },
             "pattern": {
              "fillmode": "overlay",
              "size": 10,
              "solidity": 0.2
             }
            },
            "type": "bar"
           }
          ],
          "scattergeo": [
           {
            "type": "scattergeo",
            "marker": {
             "colorbar": {
              "outlinewidth": 0,
              "ticks": ""
             }
            }
           }
          ],
          "scatterpolar": [
           {
            "type": "scatterpolar",
            "marker": {
             "colorbar": {
              "outlinewidth": 0,
              "ticks": ""
             }
            }
           }
          ],
          "histogram": [
           {
            "marker": {
             "pattern": {
              "fillmode": "overlay",
              "size": 10,
              "solidity": 0.2
             }
            },
            "type": "histogram"
           }
          ],
          "scattergl": [
           {
            "type": "scattergl",
            "marker": {
             "colorbar": {
              "outlinewidth": 0,
              "ticks": ""
             }
            }
           }
          ],
          "scatter3d": [
           {
            "type": "scatter3d",
            "line": {
             "colorbar": {
              "outlinewidth": 0,
              "ticks": ""
             }
            },
            "marker": {
             "colorbar": {
              "outlinewidth": 0,
              "ticks": ""
             }
            }
           }
          ],
          "scattermap": [
           {
            "type": "scattermap",
            "marker": {
             "colorbar": {
              "outlinewidth": 0,
              "ticks": ""
             }
            }
           }
          ],
          "scattermapbox": [
           {
            "type": "scattermapbox",
            "marker": {
             "colorbar": {
              "outlinewidth": 0,
              "ticks": ""
             }
            }
           }
          ],
          "scatterternary": [
           {
            "type": "scatterternary",
            "marker": {
             "colorbar": {
              "outlinewidth": 0,
              "ticks": ""
             }
            }
           }
          ],
          "scattercarpet": [
           {
            "type": "scattercarpet",
            "marker": {
             "colorbar": {
              "outlinewidth": 0,
              "ticks": ""
             }
            }
           }
          ],
          "carpet": [
           {
            "aaxis": {
             "endlinecolor": "#2a3f5f",
             "gridcolor": "white",
             "linecolor": "white",
             "minorgridcolor": "white",
             "startlinecolor": "#2a3f5f"
            },
            "baxis": {
             "endlinecolor": "#2a3f5f",
             "gridcolor": "white",
             "linecolor": "white",
             "minorgridcolor": "white",
             "startlinecolor": "#2a3f5f"
            },
            "type": "carpet"
           }
          ],
          "table": [
           {
            "cells": {
             "fill": {
              "color": "#EBF0F8"
             },
             "line": {
              "color": "white"
             }
            },
            "header": {
             "fill": {
              "color": "#C8D4E3"
             },
             "line": {
              "color": "white"
             }
            },
            "type": "table"
           }
          ],
          "barpolar": [
           {
            "marker": {
             "line": {
              "color": "#E5ECF6",
              "width": 0.5
             },
             "pattern": {
              "fillmode": "overlay",
              "size": 10,
              "solidity": 0.2
             }
            },
            "type": "barpolar"
           }
          ],
          "pie": [
           {
            "automargin": true,
            "type": "pie"
           }
          ]
         },
         "layout": {
          "autotypenumbers": "strict",
          "colorway": [
           "#636efa",
           "#EF553B",
           "#00cc96",
           "#ab63fa",
           "#FFA15A",
           "#19d3f3",
           "#FF6692",
           "#B6E880",
           "#FF97FF",
           "#FECB52"
          ],
          "font": {
           "color": "#2a3f5f"
          },
          "hovermode": "closest",
          "hoverlabel": {
           "align": "left"
          },
          "paper_bgcolor": "white",
          "plot_bgcolor": "#E5ECF6",
          "polar": {
           "bgcolor": "#E5ECF6",
           "angularaxis": {
            "gridcolor": "white",
            "linecolor": "white",
            "ticks": ""
           },
           "radialaxis": {
            "gridcolor": "white",
            "linecolor": "white",
            "ticks": ""
           }
          },
          "ternary": {
           "bgcolor": "#E5ECF6",
           "aaxis": {
            "gridcolor": "white",
            "linecolor": "white",
            "ticks": ""
           },
           "baxis": {
            "gridcolor": "white",
            "linecolor": "white",
            "ticks": ""
           },
           "caxis": {
            "gridcolor": "white",
            "linecolor": "white",
            "ticks": ""
           }
          },
          "coloraxis": {
           "colorbar": {
            "outlinewidth": 0,
            "ticks": ""
           }
          },
          "colorscale": {
           "sequential": [
            [
             0.0,
             "#0d0887"
            ],
            [
             0.1111111111111111,
             "#46039f"
            ],
            [
             0.2222222222222222,
             "#7201a8"
            ],
            [
             0.3333333333333333,
             "#9c179e"
            ],
            [
             0.4444444444444444,
             "#bd3786"
            ],
            [
             0.5555555555555556,
             "#d8576b"
            ],
            [
             0.6666666666666666,
             "#ed7953"
            ],
            [
             0.7777777777777778,
             "#fb9f3a"
            ],
            [
             0.8888888888888888,
             "#fdca26"
            ],
            [
             1.0,
             "#f0f921"
            ]
           ],
           "sequentialminus": [
            [
             0.0,
             "#0d0887"
            ],
            [
             0.1111111111111111,
             "#46039f"
            ],
            [
             0.2222222222222222,
             "#7201a8"
            ],
            [
             0.3333333333333333,
             "#9c179e"
            ],
            [
             0.4444444444444444,
             "#bd3786"
            ],
            [
             0.5555555555555556,
             "#d8576b"
            ],
            [
             0.6666666666666666,
             "#ed7953"
            ],
            [
             0.7777777777777778,
             "#fb9f3a"
            ],
            [
             0.8888888888888888,
             "#fdca26"
            ],
            [
             1.0,
             "#f0f921"
            ]
           ],
           "diverging": [
            [
             0,
             "#8e0152"
            ],
            [
             0.1,
             "#c51b7d"
            ],
            [
             0.2,
             "#de77ae"
            ],
            [
             0.3,
             "#f1b6da"
            ],
            [
             0.4,
             "#fde0ef"
            ],
            [
             0.5,
             "#f7f7f7"
            ],
            [
             0.6,
             "#e6f5d0"
            ],
            [
             0.7,
             "#b8e186"
            ],
            [
             0.8,
             "#7fbc41"
            ],
            [
             0.9,
             "#4d9221"
            ],
            [
             1,
             "#276419"
            ]
           ]
          },
          "xaxis": {
           "gridcolor": "white",
           "linecolor": "white",
           "ticks": "",
           "title": {
            "standoff": 15
           },
           "zerolinecolor": "white",
           "automargin": true,
           "zerolinewidth": 2
          },
          "yaxis": {
           "gridcolor": "white",
           "linecolor": "white",
           "ticks": "",
           "title": {
            "standoff": 15
           },
           "zerolinecolor": "white",
           "automargin": true,
           "zerolinewidth": 2
          },
          "scene": {
           "xaxis": {
            "backgroundcolor": "#E5ECF6",
            "gridcolor": "white",
            "linecolor": "white",
            "showbackground": true,
            "ticks": "",
            "zerolinecolor": "white",
            "gridwidth": 2
           },
           "yaxis": {
            "backgroundcolor": "#E5ECF6",
            "gridcolor": "white",
            "linecolor": "white",
            "showbackground": true,
            "ticks": "",
            "zerolinecolor": "white",
            "gridwidth": 2
           },
           "zaxis": {
            "backgroundcolor": "#E5ECF6",
            "gridcolor": "white",
            "linecolor": "white",
            "showbackground": true,
            "ticks": "",
            "zerolinecolor": "white",
            "gridwidth": 2
           }
          },
          "shapedefaults": {
           "line": {
            "color": "#2a3f5f"
           }
          },
          "annotationdefaults": {
           "arrowcolor": "#2a3f5f",
           "arrowhead": 0,
           "arrowwidth": 1
          },
          "geo": {
           "bgcolor": "white",
           "landcolor": "#E5ECF6",
           "subunitcolor": "white",
           "showland": true,
           "showlakes": true,
           "lakecolor": "white"
          },
          "title": {
           "x": 0.05
          },
          "mapbox": {
           "style": "light"
          }
         }
        },
        "xaxis": {
         "anchor": "y",
         "domain": [
          0.0,
          1.0
         ],
         "title": {
          "text": "Player"
         }
        },
        "yaxis": {
         "anchor": "x",
         "domain": [
          0.0,
          1.0
         ],
         "title": {
          "text": "Chances_Created"
         }
        },
        "coloraxis": {
         "colorbar": {
          "title": {
           "text": "Assists"
          }
         },
         "colorscale": [
          [
           0.0,
           "#0d0887"
          ],
          [
           0.1111111111111111,
           "#46039f"
          ],
          [
           0.2222222222222222,
           "#7201a8"
          ],
          [
           0.3333333333333333,
           "#9c179e"
          ],
          [
           0.4444444444444444,
           "#bd3786"
          ],
          [
           0.5555555555555556,
           "#d8576b"
          ],
          [
           0.6666666666666666,
           "#ed7953"
          ],
          [
           0.7777777777777778,
           "#fb9f3a"
          ],
          [
           0.8888888888888888,
           "#fdca26"
          ],
          [
           1.0,
           "#f0f921"
          ]
         ]
        },
        "legend": {
         "tracegroupgap": 0
        },
        "title": {
         "text": "Top 10 Defender me se Shumti Shanse te Krijuar (ngjyra tregon Assistat)"
        },
        "barmode": "relative"
       },
       "config": {
        "plotlyServerURL": "https://plot.ly"
       }
      }
     },
     "metadata": {},
     "output_type": "display_data"
    }
   ],
   "execution_count": 165
  },
  {
   "metadata": {
    "ExecuteTime": {
     "end_time": "2025-05-26T09:04:22.888792Z",
     "start_time": "2025-05-26T09:04:22.865624Z"
    }
   },
   "cell_type": "code",
   "source": [
    "defenders2 = ftg[(ftg['Position'] == 'Defender') & (ftg['Chances_Created'] >= 10)].copy()\n",
    "\n",
    "defenders2['Assist_Effectiveness'] = defenders2.apply(\n",
    "    lambda row: row['Assists'] / row['Chances_Created'],\n",
    "    axis=1\n",
    ")\n",
    "\n"
   ],
   "id": "65e75f0920ea0988",
   "outputs": [
    {
     "data": {
      "text/plain": [
       "<bound method DataFrame.sort_values of               Player  Chances_Created  Assists  Assist_Effectiveness\n",
       "40            Kounde               10        3              0.300000\n",
       "20          Frimpong               17        5              0.294118\n",
       "122  Alvaro Carreras               13        2              0.153846\n",
       "12            Hakimi               34        5              0.147059\n",
       "29           Dimarco               16        2              0.125000\n",
       "54          Grimaldo               22        2              0.090909\n",
       "21        Rico Lewis               15        1              0.066667\n",
       "192           Laimer               15        1              0.066667\n",
       "0     Theo Hernandez               12        0              0.000000\n",
       "77   Alphonso Davies               12        0              0.000000>"
      ]
     },
     "execution_count": 192,
     "metadata": {},
     "output_type": "execute_result"
    }
   ],
   "execution_count": 192
  },
  {
   "metadata": {
    "ExecuteTime": {
     "end_time": "2025-05-26T09:11:48.495979Z",
     "start_time": "2025-05-26T09:11:48.484288Z"
    }
   },
   "cell_type": "code",
   "source": [
    "defender_a_a = defenders2[['Player', 'Chances_Created', 'Assists', 'Assist_Effectiveness']].sort_values(\n",
    "    by='Assist_Effectiveness',\n",
    "    ascending=False\n",
    ").head(8)"
   ],
   "id": "39548ce48ad541b9",
   "outputs": [],
   "execution_count": 207
  },
  {
   "metadata": {
    "ExecuteTime": {
     "end_time": "2025-05-26T09:11:49.785753Z",
     "start_time": "2025-05-26T09:11:49.743346Z"
    }
   },
   "cell_type": "code",
   "source": "defender_a_a",
   "id": "902d9873f2ce152f",
   "outputs": [
    {
     "data": {
      "text/plain": [
       "              Player  Chances_Created  Assists  Assist_Effectiveness\n",
       "40            Kounde               10        3              0.300000\n",
       "20          Frimpong               17        5              0.294118\n",
       "122  Alvaro Carreras               13        2              0.153846\n",
       "12            Hakimi               34        5              0.147059\n",
       "29           Dimarco               16        2              0.125000\n",
       "54          Grimaldo               22        2              0.090909\n",
       "21        Rico Lewis               15        1              0.066667\n",
       "192           Laimer               15        1              0.066667"
      ],
      "text/html": [
       "<div>\n",
       "<style scoped>\n",
       "    .dataframe tbody tr th:only-of-type {\n",
       "        vertical-align: middle;\n",
       "    }\n",
       "\n",
       "    .dataframe tbody tr th {\n",
       "        vertical-align: top;\n",
       "    }\n",
       "\n",
       "    .dataframe thead th {\n",
       "        text-align: right;\n",
       "    }\n",
       "</style>\n",
       "<table border=\"1\" class=\"dataframe\">\n",
       "  <thead>\n",
       "    <tr style=\"text-align: right;\">\n",
       "      <th></th>\n",
       "      <th>Player</th>\n",
       "      <th>Chances_Created</th>\n",
       "      <th>Assists</th>\n",
       "      <th>Assist_Effectiveness</th>\n",
       "    </tr>\n",
       "  </thead>\n",
       "  <tbody>\n",
       "    <tr>\n",
       "      <th>40</th>\n",
       "      <td>Kounde</td>\n",
       "      <td>10</td>\n",
       "      <td>3</td>\n",
       "      <td>0.300000</td>\n",
       "    </tr>\n",
       "    <tr>\n",
       "      <th>20</th>\n",
       "      <td>Frimpong</td>\n",
       "      <td>17</td>\n",
       "      <td>5</td>\n",
       "      <td>0.294118</td>\n",
       "    </tr>\n",
       "    <tr>\n",
       "      <th>122</th>\n",
       "      <td>Alvaro Carreras</td>\n",
       "      <td>13</td>\n",
       "      <td>2</td>\n",
       "      <td>0.153846</td>\n",
       "    </tr>\n",
       "    <tr>\n",
       "      <th>12</th>\n",
       "      <td>Hakimi</td>\n",
       "      <td>34</td>\n",
       "      <td>5</td>\n",
       "      <td>0.147059</td>\n",
       "    </tr>\n",
       "    <tr>\n",
       "      <th>29</th>\n",
       "      <td>Dimarco</td>\n",
       "      <td>16</td>\n",
       "      <td>2</td>\n",
       "      <td>0.125000</td>\n",
       "    </tr>\n",
       "    <tr>\n",
       "      <th>54</th>\n",
       "      <td>Grimaldo</td>\n",
       "      <td>22</td>\n",
       "      <td>2</td>\n",
       "      <td>0.090909</td>\n",
       "    </tr>\n",
       "    <tr>\n",
       "      <th>21</th>\n",
       "      <td>Rico Lewis</td>\n",
       "      <td>15</td>\n",
       "      <td>1</td>\n",
       "      <td>0.066667</td>\n",
       "    </tr>\n",
       "    <tr>\n",
       "      <th>192</th>\n",
       "      <td>Laimer</td>\n",
       "      <td>15</td>\n",
       "      <td>1</td>\n",
       "      <td>0.066667</td>\n",
       "    </tr>\n",
       "  </tbody>\n",
       "</table>\n",
       "</div>"
      ]
     },
     "execution_count": 208,
     "metadata": {},
     "output_type": "execute_result"
    }
   ],
   "execution_count": 208
  },
  {
   "metadata": {
    "ExecuteTime": {
     "end_time": "2025-05-26T09:13:17.702281Z",
     "start_time": "2025-05-26T09:13:17.617867Z"
    }
   },
   "cell_type": "code",
   "source": [
    "fig = px.bar(\n",
    "    defender_a_a,\n",
    "    x='Player',\n",
    "    y='Assist_Effectiveness',\n",
    "    color='Assists',\n",
    "    labels={'Assist_Effectiveness': 'Saktesia e asistave'},\n",
    "    title='Top 8 Defender with Accuray of Assists',\n",
    "    text='Assists',\n",
    "    hover_data=['Chances_Created']\n",
    ")\n",
    "fig.show()"
   ],
   "id": "2360ded71432a7bd",
   "outputs": [
    {
     "data": {
      "application/vnd.plotly.v1+json": {
       "data": [
        {
         "customdata": {
          "dtype": "i1",
          "bdata": "ChENIhAWDw8=",
          "shape": "8, 1"
         },
         "hovertemplate": "Player=%{x}<br>Saktesia e asistave=%{y}<br>Assists=%{marker.color}<br>Chances_Created=%{customdata[0]}<extra></extra>",
         "legendgroup": "",
         "marker": {
          "color": {
           "dtype": "i1",
           "bdata": "AwUCBQICAQE="
          },
          "coloraxis": "coloraxis",
          "pattern": {
           "shape": ""
          }
         },
         "name": "",
         "orientation": "v",
         "showlegend": false,
         "text": {
          "dtype": "f8",
          "bdata": "AAAAAAAACEAAAAAAAAAUQAAAAAAAAABAAAAAAAAAFEAAAAAAAAAAQAAAAAAAAABAAAAAAAAA8D8AAAAAAADwPw=="
         },
         "textposition": "auto",
         "x": [
          "Kounde",
          "Frimpong",
          "Alvaro Carreras",
          "Hakimi",
          "Dimarco",
          "Grimaldo",
          "Rico Lewis",
          "Laimer"
         ],
         "xaxis": "x",
         "y": {
          "dtype": "f8",
          "bdata": "MzMzMzMz0z/T0tLS0tLSPxQ7sRM7scM/09LS0tLSwj8AAAAAAADAP0YXXXTRRbc/ERERERERsT8RERERERGxPw=="
         },
         "yaxis": "y",
         "type": "bar"
        }
       ],
       "layout": {
        "template": {
         "data": {
          "histogram2dcontour": [
           {
            "type": "histogram2dcontour",
            "colorbar": {
             "outlinewidth": 0,
             "ticks": ""
            },
            "colorscale": [
             [
              0.0,
              "#0d0887"
             ],
             [
              0.1111111111111111,
              "#46039f"
             ],
             [
              0.2222222222222222,
              "#7201a8"
             ],
             [
              0.3333333333333333,
              "#9c179e"
             ],
             [
              0.4444444444444444,
              "#bd3786"
             ],
             [
              0.5555555555555556,
              "#d8576b"
             ],
             [
              0.6666666666666666,
              "#ed7953"
             ],
             [
              0.7777777777777778,
              "#fb9f3a"
             ],
             [
              0.8888888888888888,
              "#fdca26"
             ],
             [
              1.0,
              "#f0f921"
             ]
            ]
           }
          ],
          "choropleth": [
           {
            "type": "choropleth",
            "colorbar": {
             "outlinewidth": 0,
             "ticks": ""
            }
           }
          ],
          "histogram2d": [
           {
            "type": "histogram2d",
            "colorbar": {
             "outlinewidth": 0,
             "ticks": ""
            },
            "colorscale": [
             [
              0.0,
              "#0d0887"
             ],
             [
              0.1111111111111111,
              "#46039f"
             ],
             [
              0.2222222222222222,
              "#7201a8"
             ],
             [
              0.3333333333333333,
              "#9c179e"
             ],
             [
              0.4444444444444444,
              "#bd3786"
             ],
             [
              0.5555555555555556,
              "#d8576b"
             ],
             [
              0.6666666666666666,
              "#ed7953"
             ],
             [
              0.7777777777777778,
              "#fb9f3a"
             ],
             [
              0.8888888888888888,
              "#fdca26"
             ],
             [
              1.0,
              "#f0f921"
             ]
            ]
           }
          ],
          "heatmap": [
           {
            "type": "heatmap",
            "colorbar": {
             "outlinewidth": 0,
             "ticks": ""
            },
            "colorscale": [
             [
              0.0,
              "#0d0887"
             ],
             [
              0.1111111111111111,
              "#46039f"
             ],
             [
              0.2222222222222222,
              "#7201a8"
             ],
             [
              0.3333333333333333,
              "#9c179e"
             ],
             [
              0.4444444444444444,
              "#bd3786"
             ],
             [
              0.5555555555555556,
              "#d8576b"
             ],
             [
              0.6666666666666666,
              "#ed7953"
             ],
             [
              0.7777777777777778,
              "#fb9f3a"
             ],
             [
              0.8888888888888888,
              "#fdca26"
             ],
             [
              1.0,
              "#f0f921"
             ]
            ]
           }
          ],
          "contourcarpet": [
           {
            "type": "contourcarpet",
            "colorbar": {
             "outlinewidth": 0,
             "ticks": ""
            }
           }
          ],
          "contour": [
           {
            "type": "contour",
            "colorbar": {
             "outlinewidth": 0,
             "ticks": ""
            },
            "colorscale": [
             [
              0.0,
              "#0d0887"
             ],
             [
              0.1111111111111111,
              "#46039f"
             ],
             [
              0.2222222222222222,
              "#7201a8"
             ],
             [
              0.3333333333333333,
              "#9c179e"
             ],
             [
              0.4444444444444444,
              "#bd3786"
             ],
             [
              0.5555555555555556,
              "#d8576b"
             ],
             [
              0.6666666666666666,
              "#ed7953"
             ],
             [
              0.7777777777777778,
              "#fb9f3a"
             ],
             [
              0.8888888888888888,
              "#fdca26"
             ],
             [
              1.0,
              "#f0f921"
             ]
            ]
           }
          ],
          "surface": [
           {
            "type": "surface",
            "colorbar": {
             "outlinewidth": 0,
             "ticks": ""
            },
            "colorscale": [
             [
              0.0,
              "#0d0887"
             ],
             [
              0.1111111111111111,
              "#46039f"
             ],
             [
              0.2222222222222222,
              "#7201a8"
             ],
             [
              0.3333333333333333,
              "#9c179e"
             ],
             [
              0.4444444444444444,
              "#bd3786"
             ],
             [
              0.5555555555555556,
              "#d8576b"
             ],
             [
              0.6666666666666666,
              "#ed7953"
             ],
             [
              0.7777777777777778,
              "#fb9f3a"
             ],
             [
              0.8888888888888888,
              "#fdca26"
             ],
             [
              1.0,
              "#f0f921"
             ]
            ]
           }
          ],
          "mesh3d": [
           {
            "type": "mesh3d",
            "colorbar": {
             "outlinewidth": 0,
             "ticks": ""
            }
           }
          ],
          "scatter": [
           {
            "fillpattern": {
             "fillmode": "overlay",
             "size": 10,
             "solidity": 0.2
            },
            "type": "scatter"
           }
          ],
          "parcoords": [
           {
            "type": "parcoords",
            "line": {
             "colorbar": {
              "outlinewidth": 0,
              "ticks": ""
             }
            }
           }
          ],
          "scatterpolargl": [
           {
            "type": "scatterpolargl",
            "marker": {
             "colorbar": {
              "outlinewidth": 0,
              "ticks": ""
             }
            }
           }
          ],
          "bar": [
           {
            "error_x": {
             "color": "#2a3f5f"
            },
            "error_y": {
             "color": "#2a3f5f"
            },
            "marker": {
             "line": {
              "color": "#E5ECF6",
              "width": 0.5
             },
             "pattern": {
              "fillmode": "overlay",
              "size": 10,
              "solidity": 0.2
             }
            },
            "type": "bar"
           }
          ],
          "scattergeo": [
           {
            "type": "scattergeo",
            "marker": {
             "colorbar": {
              "outlinewidth": 0,
              "ticks": ""
             }
            }
           }
          ],
          "scatterpolar": [
           {
            "type": "scatterpolar",
            "marker": {
             "colorbar": {
              "outlinewidth": 0,
              "ticks": ""
             }
            }
           }
          ],
          "histogram": [
           {
            "marker": {
             "pattern": {
              "fillmode": "overlay",
              "size": 10,
              "solidity": 0.2
             }
            },
            "type": "histogram"
           }
          ],
          "scattergl": [
           {
            "type": "scattergl",
            "marker": {
             "colorbar": {
              "outlinewidth": 0,
              "ticks": ""
             }
            }
           }
          ],
          "scatter3d": [
           {
            "type": "scatter3d",
            "line": {
             "colorbar": {
              "outlinewidth": 0,
              "ticks": ""
             }
            },
            "marker": {
             "colorbar": {
              "outlinewidth": 0,
              "ticks": ""
             }
            }
           }
          ],
          "scattermap": [
           {
            "type": "scattermap",
            "marker": {
             "colorbar": {
              "outlinewidth": 0,
              "ticks": ""
             }
            }
           }
          ],
          "scattermapbox": [
           {
            "type": "scattermapbox",
            "marker": {
             "colorbar": {
              "outlinewidth": 0,
              "ticks": ""
             }
            }
           }
          ],
          "scatterternary": [
           {
            "type": "scatterternary",
            "marker": {
             "colorbar": {
              "outlinewidth": 0,
              "ticks": ""
             }
            }
           }
          ],
          "scattercarpet": [
           {
            "type": "scattercarpet",
            "marker": {
             "colorbar": {
              "outlinewidth": 0,
              "ticks": ""
             }
            }
           }
          ],
          "carpet": [
           {
            "aaxis": {
             "endlinecolor": "#2a3f5f",
             "gridcolor": "white",
             "linecolor": "white",
             "minorgridcolor": "white",
             "startlinecolor": "#2a3f5f"
            },
            "baxis": {
             "endlinecolor": "#2a3f5f",
             "gridcolor": "white",
             "linecolor": "white",
             "minorgridcolor": "white",
             "startlinecolor": "#2a3f5f"
            },
            "type": "carpet"
           }
          ],
          "table": [
           {
            "cells": {
             "fill": {
              "color": "#EBF0F8"
             },
             "line": {
              "color": "white"
             }
            },
            "header": {
             "fill": {
              "color": "#C8D4E3"
             },
             "line": {
              "color": "white"
             }
            },
            "type": "table"
           }
          ],
          "barpolar": [
           {
            "marker": {
             "line": {
              "color": "#E5ECF6",
              "width": 0.5
             },
             "pattern": {
              "fillmode": "overlay",
              "size": 10,
              "solidity": 0.2
             }
            },
            "type": "barpolar"
           }
          ],
          "pie": [
           {
            "automargin": true,
            "type": "pie"
           }
          ]
         },
         "layout": {
          "autotypenumbers": "strict",
          "colorway": [
           "#636efa",
           "#EF553B",
           "#00cc96",
           "#ab63fa",
           "#FFA15A",
           "#19d3f3",
           "#FF6692",
           "#B6E880",
           "#FF97FF",
           "#FECB52"
          ],
          "font": {
           "color": "#2a3f5f"
          },
          "hovermode": "closest",
          "hoverlabel": {
           "align": "left"
          },
          "paper_bgcolor": "white",
          "plot_bgcolor": "#E5ECF6",
          "polar": {
           "bgcolor": "#E5ECF6",
           "angularaxis": {
            "gridcolor": "white",
            "linecolor": "white",
            "ticks": ""
           },
           "radialaxis": {
            "gridcolor": "white",
            "linecolor": "white",
            "ticks": ""
           }
          },
          "ternary": {
           "bgcolor": "#E5ECF6",
           "aaxis": {
            "gridcolor": "white",
            "linecolor": "white",
            "ticks": ""
           },
           "baxis": {
            "gridcolor": "white",
            "linecolor": "white",
            "ticks": ""
           },
           "caxis": {
            "gridcolor": "white",
            "linecolor": "white",
            "ticks": ""
           }
          },
          "coloraxis": {
           "colorbar": {
            "outlinewidth": 0,
            "ticks": ""
           }
          },
          "colorscale": {
           "sequential": [
            [
             0.0,
             "#0d0887"
            ],
            [
             0.1111111111111111,
             "#46039f"
            ],
            [
             0.2222222222222222,
             "#7201a8"
            ],
            [
             0.3333333333333333,
             "#9c179e"
            ],
            [
             0.4444444444444444,
             "#bd3786"
            ],
            [
             0.5555555555555556,
             "#d8576b"
            ],
            [
             0.6666666666666666,
             "#ed7953"
            ],
            [
             0.7777777777777778,
             "#fb9f3a"
            ],
            [
             0.8888888888888888,
             "#fdca26"
            ],
            [
             1.0,
             "#f0f921"
            ]
           ],
           "sequentialminus": [
            [
             0.0,
             "#0d0887"
            ],
            [
             0.1111111111111111,
             "#46039f"
            ],
            [
             0.2222222222222222,
             "#7201a8"
            ],
            [
             0.3333333333333333,
             "#9c179e"
            ],
            [
             0.4444444444444444,
             "#bd3786"
            ],
            [
             0.5555555555555556,
             "#d8576b"
            ],
            [
             0.6666666666666666,
             "#ed7953"
            ],
            [
             0.7777777777777778,
             "#fb9f3a"
            ],
            [
             0.8888888888888888,
             "#fdca26"
            ],
            [
             1.0,
             "#f0f921"
            ]
           ],
           "diverging": [
            [
             0,
             "#8e0152"
            ],
            [
             0.1,
             "#c51b7d"
            ],
            [
             0.2,
             "#de77ae"
            ],
            [
             0.3,
             "#f1b6da"
            ],
            [
             0.4,
             "#fde0ef"
            ],
            [
             0.5,
             "#f7f7f7"
            ],
            [
             0.6,
             "#e6f5d0"
            ],
            [
             0.7,
             "#b8e186"
            ],
            [
             0.8,
             "#7fbc41"
            ],
            [
             0.9,
             "#4d9221"
            ],
            [
             1,
             "#276419"
            ]
           ]
          },
          "xaxis": {
           "gridcolor": "white",
           "linecolor": "white",
           "ticks": "",
           "title": {
            "standoff": 15
           },
           "zerolinecolor": "white",
           "automargin": true,
           "zerolinewidth": 2
          },
          "yaxis": {
           "gridcolor": "white",
           "linecolor": "white",
           "ticks": "",
           "title": {
            "standoff": 15
           },
           "zerolinecolor": "white",
           "automargin": true,
           "zerolinewidth": 2
          },
          "scene": {
           "xaxis": {
            "backgroundcolor": "#E5ECF6",
            "gridcolor": "white",
            "linecolor": "white",
            "showbackground": true,
            "ticks": "",
            "zerolinecolor": "white",
            "gridwidth": 2
           },
           "yaxis": {
            "backgroundcolor": "#E5ECF6",
            "gridcolor": "white",
            "linecolor": "white",
            "showbackground": true,
            "ticks": "",
            "zerolinecolor": "white",
            "gridwidth": 2
           },
           "zaxis": {
            "backgroundcolor": "#E5ECF6",
            "gridcolor": "white",
            "linecolor": "white",
            "showbackground": true,
            "ticks": "",
            "zerolinecolor": "white",
            "gridwidth": 2
           }
          },
          "shapedefaults": {
           "line": {
            "color": "#2a3f5f"
           }
          },
          "annotationdefaults": {
           "arrowcolor": "#2a3f5f",
           "arrowhead": 0,
           "arrowwidth": 1
          },
          "geo": {
           "bgcolor": "white",
           "landcolor": "#E5ECF6",
           "subunitcolor": "white",
           "showland": true,
           "showlakes": true,
           "lakecolor": "white"
          },
          "title": {
           "x": 0.05
          },
          "mapbox": {
           "style": "light"
          }
         }
        },
        "xaxis": {
         "anchor": "y",
         "domain": [
          0.0,
          1.0
         ],
         "title": {
          "text": "Player"
         }
        },
        "yaxis": {
         "anchor": "x",
         "domain": [
          0.0,
          1.0
         ],
         "title": {
          "text": "Saktesia e asistave"
         }
        },
        "coloraxis": {
         "colorbar": {
          "title": {
           "text": "Assists"
          }
         },
         "colorscale": [
          [
           0.0,
           "#0d0887"
          ],
          [
           0.1111111111111111,
           "#46039f"
          ],
          [
           0.2222222222222222,
           "#7201a8"
          ],
          [
           0.3333333333333333,
           "#9c179e"
          ],
          [
           0.4444444444444444,
           "#bd3786"
          ],
          [
           0.5555555555555556,
           "#d8576b"
          ],
          [
           0.6666666666666666,
           "#ed7953"
          ],
          [
           0.7777777777777778,
           "#fb9f3a"
          ],
          [
           0.8888888888888888,
           "#fdca26"
          ],
          [
           1.0,
           "#f0f921"
          ]
         ]
        },
        "legend": {
         "tracegroupgap": 0
        },
        "title": {
         "text": "Top 8 Defender with Accuray of Assists"
        },
        "barmode": "relative"
       },
       "config": {
        "plotlyServerURL": "https://plot.ly"
       }
      }
     },
     "metadata": {},
     "output_type": "display_data"
    }
   ],
   "execution_count": 213
  }
 ],
 "metadata": {
  "kernelspec": {
   "display_name": "Python 3",
   "language": "python",
   "name": "python3"
  },
  "language_info": {
   "codemirror_mode": {
    "name": "ipython",
    "version": 2
   },
   "file_extension": ".py",
   "mimetype": "text/x-python",
   "name": "python",
   "nbconvert_exporter": "python",
   "pygments_lexer": "ipython2",
   "version": "2.7.6"
  }
 },
 "nbformat": 4,
 "nbformat_minor": 5
}
