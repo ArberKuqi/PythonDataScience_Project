{
 "cells": [
  {
   "cell_type": "code",
   "id": "initial_id",
   "metadata": {
    "collapsed": true,
    "ExecuteTime": {
     "end_time": "2025-06-03T14:44:58.281158Z",
     "start_time": "2025-06-03T14:44:58.278073Z"
    }
   },
   "source": [
    "import pandas as pd\n",
    "import numpy as np\n",
    "import matplotlib.pyplot as plt\n",
    "import seaborn as sns\n",
    "import plotly.express as px\n",
    "import plotly.graph_objects as go"
   ],
   "outputs": [],
   "execution_count": 44
  },
  {
   "metadata": {},
   "cell_type": "markdown",
   "source": "## Descriptive Statistics",
   "id": "780ed565a34ae27f"
  },
  {
   "metadata": {},
   "cell_type": "markdown",
   "source": "### I. Leximi i te dhenave ose keti DataFrame",
   "id": "af8e7010d8d9397"
  },
  {
   "metadata": {
    "ExecuteTime": {
     "end_time": "2025-06-03T14:15:41.850001Z",
     "start_time": "2025-06-03T14:15:41.803009Z"
    }
   },
   "cell_type": "code",
   "source": "ucl = pd.read_excel('UCL_playerstats_orig.xlsx')",
   "id": "34747a5ee11300b6",
   "outputs": [],
   "execution_count": 4
  },
  {
   "metadata": {
    "ExecuteTime": {
     "end_time": "2025-06-03T14:15:45.931634Z",
     "start_time": "2025-06-03T14:15:45.918689Z"
    }
   },
   "cell_type": "code",
   "source": "ucl.head()",
   "id": "9be9f474b918044d",
   "outputs": [
    {
     "data": {
      "text/plain": [
       "   PlayerID          Player    Position  Age  Nationality          Team  \\\n",
       "0         1  Theo Hernandez    Defender   27       France         Milan   \n",
       "1         2  Nicolo Barella  Midfielder   28        Italy         Inter   \n",
       "2         3     Lewandowski     Forward   36       Poland     Barcelona   \n",
       "3         4        Raphinha     Forward   28       Brazil     Barcelona   \n",
       "4         5        Van Dijk    Defender   33  Netherlands  Liverpool FC   \n",
       "\n",
       "     Competitions           Phase Phase_Tier  Value10^6  ...  Balls_recovered  \\\n",
       "0         Serie A  Knockout_phase          D       40.0  ...               53   \n",
       "1         Serie A           Final          S       80.0  ...               32   \n",
       "2         La Liga    Semi_finals           A       15.0  ...               11   \n",
       "3         La Liga    Semi_finals           A       80.0  ...               18   \n",
       "4  Premier League         Round16          C       50.0  ...               51   \n",
       "\n",
       "   Tackles_Won  Tackles_Lost  Saves  Goals_Conceded  Clean_Sheets  \\\n",
       "0            2             5      0               0             0   \n",
       "1            8            15      0               0             0   \n",
       "2            4             1      0               0             0   \n",
       "3            2             7      0               0             0   \n",
       "4            3             3      0               0             0   \n",
       "\n",
       "   MOTM_Awards  Minutes_played  Match_played  DNP  \n",
       "0            0             861            10    0  \n",
       "1            2             994            13    2  \n",
       "2            2             985            13    1  \n",
       "3            3            1225            14    0  \n",
       "4            0             840             9    1  \n",
       "\n",
       "[5 rows x 30 columns]"
      ],
      "text/html": [
       "<div>\n",
       "<style scoped>\n",
       "    .dataframe tbody tr th:only-of-type {\n",
       "        vertical-align: middle;\n",
       "    }\n",
       "\n",
       "    .dataframe tbody tr th {\n",
       "        vertical-align: top;\n",
       "    }\n",
       "\n",
       "    .dataframe thead th {\n",
       "        text-align: right;\n",
       "    }\n",
       "</style>\n",
       "<table border=\"1\" class=\"dataframe\">\n",
       "  <thead>\n",
       "    <tr style=\"text-align: right;\">\n",
       "      <th></th>\n",
       "      <th>PlayerID</th>\n",
       "      <th>Player</th>\n",
       "      <th>Position</th>\n",
       "      <th>Age</th>\n",
       "      <th>Nationality</th>\n",
       "      <th>Team</th>\n",
       "      <th>Competitions</th>\n",
       "      <th>Phase</th>\n",
       "      <th>Phase_Tier</th>\n",
       "      <th>Value10^6</th>\n",
       "      <th>...</th>\n",
       "      <th>Balls_recovered</th>\n",
       "      <th>Tackles_Won</th>\n",
       "      <th>Tackles_Lost</th>\n",
       "      <th>Saves</th>\n",
       "      <th>Goals_Conceded</th>\n",
       "      <th>Clean_Sheets</th>\n",
       "      <th>MOTM_Awards</th>\n",
       "      <th>Minutes_played</th>\n",
       "      <th>Match_played</th>\n",
       "      <th>DNP</th>\n",
       "    </tr>\n",
       "  </thead>\n",
       "  <tbody>\n",
       "    <tr>\n",
       "      <th>0</th>\n",
       "      <td>1</td>\n",
       "      <td>Theo Hernandez</td>\n",
       "      <td>Defender</td>\n",
       "      <td>27</td>\n",
       "      <td>France</td>\n",
       "      <td>Milan</td>\n",
       "      <td>Serie A</td>\n",
       "      <td>Knockout_phase</td>\n",
       "      <td>D</td>\n",
       "      <td>40.0</td>\n",
       "      <td>...</td>\n",
       "      <td>53</td>\n",
       "      <td>2</td>\n",
       "      <td>5</td>\n",
       "      <td>0</td>\n",
       "      <td>0</td>\n",
       "      <td>0</td>\n",
       "      <td>0</td>\n",
       "      <td>861</td>\n",
       "      <td>10</td>\n",
       "      <td>0</td>\n",
       "    </tr>\n",
       "    <tr>\n",
       "      <th>1</th>\n",
       "      <td>2</td>\n",
       "      <td>Nicolo Barella</td>\n",
       "      <td>Midfielder</td>\n",
       "      <td>28</td>\n",
       "      <td>Italy</td>\n",
       "      <td>Inter</td>\n",
       "      <td>Serie A</td>\n",
       "      <td>Final</td>\n",
       "      <td>S</td>\n",
       "      <td>80.0</td>\n",
       "      <td>...</td>\n",
       "      <td>32</td>\n",
       "      <td>8</td>\n",
       "      <td>15</td>\n",
       "      <td>0</td>\n",
       "      <td>0</td>\n",
       "      <td>0</td>\n",
       "      <td>2</td>\n",
       "      <td>994</td>\n",
       "      <td>13</td>\n",
       "      <td>2</td>\n",
       "    </tr>\n",
       "    <tr>\n",
       "      <th>2</th>\n",
       "      <td>3</td>\n",
       "      <td>Lewandowski</td>\n",
       "      <td>Forward</td>\n",
       "      <td>36</td>\n",
       "      <td>Poland</td>\n",
       "      <td>Barcelona</td>\n",
       "      <td>La Liga</td>\n",
       "      <td>Semi_finals</td>\n",
       "      <td>A</td>\n",
       "      <td>15.0</td>\n",
       "      <td>...</td>\n",
       "      <td>11</td>\n",
       "      <td>4</td>\n",
       "      <td>1</td>\n",
       "      <td>0</td>\n",
       "      <td>0</td>\n",
       "      <td>0</td>\n",
       "      <td>2</td>\n",
       "      <td>985</td>\n",
       "      <td>13</td>\n",
       "      <td>1</td>\n",
       "    </tr>\n",
       "    <tr>\n",
       "      <th>3</th>\n",
       "      <td>4</td>\n",
       "      <td>Raphinha</td>\n",
       "      <td>Forward</td>\n",
       "      <td>28</td>\n",
       "      <td>Brazil</td>\n",
       "      <td>Barcelona</td>\n",
       "      <td>La Liga</td>\n",
       "      <td>Semi_finals</td>\n",
       "      <td>A</td>\n",
       "      <td>80.0</td>\n",
       "      <td>...</td>\n",
       "      <td>18</td>\n",
       "      <td>2</td>\n",
       "      <td>7</td>\n",
       "      <td>0</td>\n",
       "      <td>0</td>\n",
       "      <td>0</td>\n",
       "      <td>3</td>\n",
       "      <td>1225</td>\n",
       "      <td>14</td>\n",
       "      <td>0</td>\n",
       "    </tr>\n",
       "    <tr>\n",
       "      <th>4</th>\n",
       "      <td>5</td>\n",
       "      <td>Van Dijk</td>\n",
       "      <td>Defender</td>\n",
       "      <td>33</td>\n",
       "      <td>Netherlands</td>\n",
       "      <td>Liverpool FC</td>\n",
       "      <td>Premier League</td>\n",
       "      <td>Round16</td>\n",
       "      <td>C</td>\n",
       "      <td>50.0</td>\n",
       "      <td>...</td>\n",
       "      <td>51</td>\n",
       "      <td>3</td>\n",
       "      <td>3</td>\n",
       "      <td>0</td>\n",
       "      <td>0</td>\n",
       "      <td>0</td>\n",
       "      <td>0</td>\n",
       "      <td>840</td>\n",
       "      <td>9</td>\n",
       "      <td>1</td>\n",
       "    </tr>\n",
       "  </tbody>\n",
       "</table>\n",
       "<p>5 rows × 30 columns</p>\n",
       "</div>"
      ]
     },
     "execution_count": 5,
     "metadata": {},
     "output_type": "execute_result"
    }
   ],
   "execution_count": 5
  },
  {
   "metadata": {},
   "cell_type": "markdown",
   "source": "#### II. **Mean** - metoda mean() – Ky osht mesatarja e numrave, dmth i mbledhim krejt vlerat edhe i ndajmë me sa copa jone.\n",
   "id": "28d82f9cd1c6b415"
  },
  {
   "metadata": {
    "ExecuteTime": {
     "end_time": "2025-06-03T14:15:48.510975Z",
     "start_time": "2025-06-03T14:15:48.505625Z"
    }
   },
   "cell_type": "code",
   "source": [
    "mesatarja_age = ucl['Value10^6'].mean()\n",
    "\n",
    "mesatarja_age"
   ],
   "id": "2995c415d405e2e7",
   "outputs": [
    {
     "data": {
      "text/plain": [
       "np.float64(39.68452380952381)"
      ]
     },
     "execution_count": 6,
     "metadata": {},
     "output_type": "execute_result"
    }
   ],
   "execution_count": 6
  },
  {
   "metadata": {
    "ExecuteTime": {
     "end_time": "2025-06-03T14:15:50.227210Z",
     "start_time": "2025-06-03T14:15:50.220210Z"
    }
   },
   "cell_type": "code",
   "source": [
    "print(\"Mesatarja per DataFrame Tone:\")\n",
    "ucl.mean(numeric_only=True)"
   ],
   "id": "6bf6c054f5f28cc",
   "outputs": [
    {
     "name": "stdout",
     "output_type": "stream",
     "text": [
      "Mesatarja per DataFrame Tone:\n"
     ]
    },
    {
     "data": {
      "text/plain": [
       "PlayerID               105.500000\n",
       "Age                     26.780952\n",
       "Value10^6               39.684524\n",
       "Jersey_Num              17.700000\n",
       "Rating                   7.232667\n",
       "Goals                    1.819048\n",
       "Assists                  1.352381\n",
       "TopSpeed(km/h)          32.495238\n",
       "DistanceCovered(km)     85.780952\n",
       "Total_attempts          12.661905\n",
       "Dribbles                13.933333\n",
       "Passes_completed       364.223810\n",
       "Chances_Created         10.123810\n",
       "Balls_recovered         29.719048\n",
       "Tackles_Won              4.590476\n",
       "Tackles_Lost             6.100000\n",
       "Saves                    3.228571\n",
       "Goals_Conceded           1.266667\n",
       "Clean_Sheets             0.276190\n",
       "MOTM_Awards              0.619048\n",
       "Minutes_played         798.100000\n",
       "Match_played            10.380952\n",
       "DNP                      1.619048\n",
       "dtype: float64"
      ]
     },
     "execution_count": 7,
     "metadata": {},
     "output_type": "execute_result"
    }
   ],
   "execution_count": 7
  },
  {
   "metadata": {},
   "cell_type": "markdown",
   "source": "#### III. **Median** - metoda median() – Ky na jep numrin e mesEm pasi i renditim numrat. Nese ka numra qift, marrim mesataren e dy te  mesmeve.\n",
   "id": "a1d4622c5b695126"
  },
  {
   "metadata": {
    "ExecuteTime": {
     "end_time": "2025-06-02T13:00:49.093483Z",
     "start_time": "2025-06-02T13:00:49.087113Z"
    }
   },
   "cell_type": "code",
   "source": [
    "median_value = ucl['Value10^6'].median()\n",
    "\n",
    "print(f\"Median Value of Player: {median_value}\")"
   ],
   "id": "ca8d05a6229a11a5",
   "outputs": [
    {
     "name": "stdout",
     "output_type": "stream",
     "text": [
      "Median Value of Player: 30.0\n"
     ]
    }
   ],
   "execution_count": 10
  },
  {
   "metadata": {},
   "cell_type": "markdown",
   "source": [
    "#### IV. **Mode** -  Metoda `mode()` per te dhenat numerike tregon se numri 25 del ma shpesh se krejt tjert dmth Numri ma i shpeshte per Value^6 eshte 25. Me nje Fjale kallxon qat numrin ma te shpeshin\n",
    "\n"
   ],
   "id": "21100c5a7571603a"
  },
  {
   "metadata": {
    "ExecuteTime": {
     "end_time": "2025-06-02T13:00:49.398352Z",
     "start_time": "2025-06-02T13:00:49.392325Z"
    }
   },
   "cell_type": "code",
   "source": [
    "mode_class = ucl['Value10^6'].mode().values[0]\n",
    "print(f\"Mode Class: {mode_class}\")"
   ],
   "id": "965c88b32c4c7fc9",
   "outputs": [
    {
     "name": "stdout",
     "output_type": "stream",
     "text": [
      "Mode Class: 25.0\n"
     ]
    }
   ],
   "execution_count": 11
  },
  {
   "metadata": {},
   "cell_type": "markdown",
   "source": [
    "#### V. Masat e Shperndarjes **(Measures of Dispersion)**\n",
    "##### Llogaritni variancen dhe devijimin standard pEr variablat sasiorë si mosha(Age) dhe Goals etj."
   ],
   "id": "e9b8e7089b32d26a"
  },
  {
   "metadata": {
    "ExecuteTime": {
     "end_time": "2025-06-02T13:00:49.551236Z",
     "start_time": "2025-06-02T13:00:49.544886Z"
    }
   },
   "cell_type": "code",
   "source": [
    "age_variance = ucl['Age'].var\n",
    "\n",
    "print(age_variance)"
   ],
   "id": "9874f994b4800fba",
   "outputs": [
    {
     "name": "stdout",
     "output_type": "stream",
     "text": [
      "<bound method Series.var of 0      27\n",
      "1      28\n",
      "2      36\n",
      "3      28\n",
      "4      33\n",
      "       ..\n",
      "205    22\n",
      "206    35\n",
      "207    27\n",
      "208    26\n",
      "209    26\n",
      "Name: Age, Length: 210, dtype: int64>\n"
     ]
    }
   ],
   "execution_count": 12
  },
  {
   "metadata": {
    "ExecuteTime": {
     "end_time": "2025-06-02T13:00:49.671209Z",
     "start_time": "2025-06-02T13:00:49.665970Z"
    }
   },
   "cell_type": "code",
   "source": [
    "goals_std = ucl['Goals'].std()\n",
    "\n",
    "print(f'Devijimi standard i Golave: {goals_std}')\n"
   ],
   "id": "94cb1d039022e716",
   "outputs": [
    {
     "name": "stdout",
     "output_type": "stream",
     "text": [
      "Devijimi standard i Golave: 2.430984018696335\n"
     ]
    }
   ],
   "execution_count": 13
  },
  {
   "metadata": {
    "ExecuteTime": {
     "end_time": "2025-06-02T13:00:49.779905Z",
     "start_time": "2025-06-02T13:00:49.774351Z"
    }
   },
   "cell_type": "code",
   "source": [
    "dribbles_std = ucl['Dribbles'].std()\n",
    "print(f'Devijimi standard i Dribbleve: {round(dribbles_std, 3)}')"
   ],
   "id": "cda7ae4dd18b6e4c",
   "outputs": [
    {
     "name": "stdout",
     "output_type": "stream",
     "text": [
      "Devijimi standard i Dribbleve: 16.274\n"
     ]
    }
   ],
   "execution_count": 14
  },
  {
   "metadata": {
    "ExecuteTime": {
     "end_time": "2025-06-03T14:16:21.081127Z",
     "start_time": "2025-06-03T14:16:21.071773Z"
    }
   },
   "cell_type": "code",
   "source": "ucl.select_dtypes(include='object').describe()",
   "id": "51fe7e03ca08897e",
   "outputs": [
    {
     "data": {
      "text/plain": [
       "                Player    Position Nationality   Team Competitions    Phase  \\\n",
       "count              210         210         210    210          210      210   \n",
       "unique             210           4          44     32           15        8   \n",
       "top     Theo Hernandez  Midfielder      France  Inter      Serie A  Round16   \n",
       "freq                 1          66          24     13           38       58   \n",
       "\n",
       "       Phase_Tier  \n",
       "count         210  \n",
       "unique          6  \n",
       "top             C  \n",
       "freq           58  "
      ],
      "text/html": [
       "<div>\n",
       "<style scoped>\n",
       "    .dataframe tbody tr th:only-of-type {\n",
       "        vertical-align: middle;\n",
       "    }\n",
       "\n",
       "    .dataframe tbody tr th {\n",
       "        vertical-align: top;\n",
       "    }\n",
       "\n",
       "    .dataframe thead th {\n",
       "        text-align: right;\n",
       "    }\n",
       "</style>\n",
       "<table border=\"1\" class=\"dataframe\">\n",
       "  <thead>\n",
       "    <tr style=\"text-align: right;\">\n",
       "      <th></th>\n",
       "      <th>Player</th>\n",
       "      <th>Position</th>\n",
       "      <th>Nationality</th>\n",
       "      <th>Team</th>\n",
       "      <th>Competitions</th>\n",
       "      <th>Phase</th>\n",
       "      <th>Phase_Tier</th>\n",
       "    </tr>\n",
       "  </thead>\n",
       "  <tbody>\n",
       "    <tr>\n",
       "      <th>count</th>\n",
       "      <td>210</td>\n",
       "      <td>210</td>\n",
       "      <td>210</td>\n",
       "      <td>210</td>\n",
       "      <td>210</td>\n",
       "      <td>210</td>\n",
       "      <td>210</td>\n",
       "    </tr>\n",
       "    <tr>\n",
       "      <th>unique</th>\n",
       "      <td>210</td>\n",
       "      <td>4</td>\n",
       "      <td>44</td>\n",
       "      <td>32</td>\n",
       "      <td>15</td>\n",
       "      <td>8</td>\n",
       "      <td>6</td>\n",
       "    </tr>\n",
       "    <tr>\n",
       "      <th>top</th>\n",
       "      <td>Theo Hernandez</td>\n",
       "      <td>Midfielder</td>\n",
       "      <td>France</td>\n",
       "      <td>Inter</td>\n",
       "      <td>Serie A</td>\n",
       "      <td>Round16</td>\n",
       "      <td>C</td>\n",
       "    </tr>\n",
       "    <tr>\n",
       "      <th>freq</th>\n",
       "      <td>1</td>\n",
       "      <td>66</td>\n",
       "      <td>24</td>\n",
       "      <td>13</td>\n",
       "      <td>38</td>\n",
       "      <td>58</td>\n",
       "      <td>58</td>\n",
       "    </tr>\n",
       "  </tbody>\n",
       "</table>\n",
       "</div>"
      ]
     },
     "execution_count": 10,
     "metadata": {},
     "output_type": "execute_result"
    }
   ],
   "execution_count": 10
  },
  {
   "metadata": {},
   "cell_type": "markdown",
   "source": [
    "#### VI. Shperndarja e frekuencave(Frequency Distribution)\n",
    "##### Ketu do krijojme histogram për të vizualizuar shperndarjen e frekuencave sasiore si mosha(Age) dhe Goals  Assists etj."
   ],
   "id": "76578910f6fef1dc"
  },
  {
   "metadata": {
    "ExecuteTime": {
     "end_time": "2025-06-02T13:00:50.031891Z",
     "start_time": "2025-06-02T13:00:49.861016Z"
    }
   },
   "cell_type": "code",
   "source": [
    "plt.hist(ucl['Age'], bins=20, edgecolor='k')\n",
    "plt.xlabel('Age')\n",
    "plt.ylabel('Frequency')\n",
    "plt.title('Histogram of Age')\n",
    "plt.show()"
   ],
   "id": "ddb7e62bef08fde0",
   "outputs": [
    {
     "data": {
      "text/plain": [
       "<Figure size 640x480 with 1 Axes>"
      ],
      "image/png": "[encoded data removed]"
     },
     "metadata": {},
     "output_type": "display_data"
    }
   ],
   "execution_count": 15
  },
  {
   "metadata": {
    "ExecuteTime": {
     "end_time": "2025-06-02T13:00:50.382975Z",
     "start_time": "2025-06-02T13:00:50.054946Z"
    }
   },
   "cell_type": "code",
   "source": [
    "fig = px.histogram(ucl, x='Age', nbins=30, title=\"Histogram of Age\",color_discrete_sequence=['blue'])\n",
    "fig.update_layout(xaxis_title=\"Age\", yaxis_title=\"Frequency\")\n",
    "fig.show()"
   ],
   "id": "50cb7d5a41429f28",
   "outputs": [
    {
     "data": {
      "application/vnd.plotly.v1+json": {
       "data": [
        {
         "bingroup": "x",
         "hovertemplate": "Age=%{x}<br>count=%{y}<extra></extra>",
         "legendgroup": "",
         "marker": {
          "color": "blue",
          "pattern": {
           "shape": ""
          }
         },
         "name": "",
         "nbinsx": 30,
         "orientation": "v",
         "showlegend": false,
         "x": {
          "dtype": "i1",
          "bdata": "GxwkHCEVGhkgJRoZGhYaESIdFxkYFBoeGRkZGBobFxgeIBkaHxgaFhoZHRYdFyAiFxgXGiAYHRkWGx0YGxglFR0eIR4eGycYIRodGxcYHxkcEhYZGRoZGxchFBcXEyQiHRcdGRsYGh4fIhgeGhsaGyQXIBsbGBcUFRcWGBggGhYaFiAdHBkdGxwiGBcYFRYWHxUaFRslHSAfFxsWGR8ZHR4eIxkUGhsWGx8eFyUjGhQYHBohFhYWGBYZIhYWIhQYGyEcGSYaGhYkHCEXIRYjGxoa"
         },
         "xaxis": "x",
         "yaxis": "y",
         "type": "histogram"
        }
       ],
       "layout": {
        "template": {
         "data": {
          "histogram2dcontour": [
           {
            "type": "histogram2dcontour",
            "colorbar": {
             "outlinewidth": 0,
             "ticks": ""
            },
            "colorscale": [
             [
              0.0,
              "#0d0887"
             ],
             [
              0.1111111111111111,
              "#46039f"
             ],
             [
              0.2222222222222222,
              "#7201a8"
             ],
             [
              0.3333333333333333,
              "#9c179e"
             ],
             [
              0.4444444444444444,
              "#bd3786"
             ],
             [
              0.5555555555555556,
              "#d8576b"
             ],
             [
              0.6666666666666666,
              "#ed7953"
             ],
             [
              0.7777777777777778,
              "#fb9f3a"
             ],
             [
              0.8888888888888888,
              "#fdca26"
             ],
             [
              1.0,
              "#f0f921"
             ]
            ]
           }
          ],
          "choropleth": [
           {
            "type": "choropleth",
            "colorbar": {
             "outlinewidth": 0,
             "ticks": ""
            }
           }
          ],
          "histogram2d": [
           {
            "type": "histogram2d",
            "colorbar": {
             "outlinewidth": 0,
             "ticks": ""
            },
            "colorscale": [
             [
              0.0,
              "#0d0887"
             ],
             [
              0.1111111111111111,
              "#46039f"
             ],
             [
              0.2222222222222222,
              "#7201a8"
             ],
             [
              0.3333333333333333,
              "#9c179e"
             ],
             [
              0.4444444444444444,
              "#bd3786"
             ],
             [
              0.5555555555555556,
              "#d8576b"
             ],
             [
              0.6666666666666666,
              "#ed7953"
             ],
             [
              0.7777777777777778,
              "#fb9f3a"
             ],
             [
              0.8888888888888888,
              "#fdca26"
             ],
             [
              1.0,
              "#f0f921"
             ]
            ]
           }
          ],
          "heatmap": [
           {
            "type": "heatmap",
            "colorbar": {
             "outlinewidth": 0,
             "ticks": ""
            },
            "colorscale": [
             [
              0.0,
              "#0d0887"
             ],
             [
              0.1111111111111111,
              "#46039f"
             ],
             [
              0.2222222222222222,
              "#7201a8"
             ],
             [
              0.3333333333333333,
              "#9c179e"
             ],
             [
              0.4444444444444444,
              "#bd3786"
             ],
             [
              0.5555555555555556,
              "#d8576b"
             ],
             [
              0.6666666666666666,
              "#ed7953"
             ],
             [
              0.7777777777777778,
              "#fb9f3a"
             ],
             [
              0.8888888888888888,
              "#fdca26"
             ],
             [
              1.0,
              "#f0f921"
             ]
            ]
           }
          ],
          "contourcarpet": [
           {
            "type": "contourcarpet",
            "colorbar": {
             "outlinewidth": 0,
             "ticks": ""
            }
           }
          ],
          "contour": [
           {
            "type": "contour",
            "colorbar": {
             "outlinewidth": 0,
             "ticks": ""
            },
            "colorscale": [
             [
              0.0,
              "#0d0887"
             ],
             [
              0.1111111111111111,
              "#46039f"
             ],
             [
              0.2222222222222222,
              "#7201a8"
             ],
             [
              0.3333333333333333,
              "#9c179e"
             ],
             [
              0.4444444444444444,
              "#bd3786"
             ],
             [
              0.5555555555555556,
              "#d8576b"
             ],
             [
              0.6666666666666666,
              "#ed7953"
             ],
             [
              0.7777777777777778,
              "#fb9f3a"
             ],
             [
              0.8888888888888888,
              "#fdca26"
             ],
             [
              1.0,
              "#f0f921"
             ]
            ]
           }
          ],
          "surface": [
           {
            "type": "surface",
            "colorbar": {
             "outlinewidth": 0,
             "ticks": ""
            },
            "colorscale": [
             [
              0.0,
              "#0d0887"
             ],
             [
              0.1111111111111111,
              "#46039f"
             ],
             [
              0.2222222222222222,
              "#7201a8"
             ],
             [
              0.3333333333333333,
              "#9c179e"
             ],
             [
              0.4444444444444444,
              "#bd3786"
             ],
             [
              0.5555555555555556,
              "#d8576b"
             ],
             [
              0.6666666666666666,
              "#ed7953"
             ],
             [
              0.7777777777777778,
              "#fb9f3a"
             ],
             [
              0.8888888888888888,
              "#fdca26"
             ],
             [
              1.0,
              "#f0f921"
             ]
            ]
           }
          ],
          "mesh3d": [
           {
            "type": "mesh3d",
            "colorbar": {
             "outlinewidth": 0,
             "ticks": ""
            }
           }
          ],
          "scatter": [
           {
            "fillpattern": {
             "fillmode": "overlay",
             "size": 10,
             "solidity": 0.2
            },
            "type": "scatter"
           }
          ],
          "parcoords": [
           {
            "type": "parcoords",
            "line": {
             "colorbar": {
              "outlinewidth": 0,
              "ticks": ""
             }
            }
           }
          ],
          "scatterpolargl": [
           {
            "type": "scatterpolargl",
            "marker": {
             "colorbar": {
              "outlinewidth": 0,
              "ticks": ""
             }
            }
           }
          ],
          "bar": [
           {
            "error_x": {
             "color": "#2a3f5f"
            },
            "error_y": {
             "color": "#2a3f5f"
            },
            "marker": {
             "line": {
              "color": "#E5ECF6",
              "width": 0.5
             },
             "pattern": {
              "fillmode": "overlay",
              "size": 10,
              "solidity": 0.2
             }
            },
            "type": "bar"
           }
          ],
          "scattergeo": [
           {
            "type": "scattergeo",
            "marker": {
             "colorbar": {
              "outlinewidth": 0,
              "ticks": ""
             }
            }
           }
          ],
          "scatterpolar": [
           {
            "type": "scatterpolar",
            "marker": {
             "colorbar": {
              "outlinewidth": 0,
              "ticks": ""
             }
            }
           }
          ],
          "histogram": [
           {
            "marker": {
             "pattern": {
              "fillmode": "overlay",
              "size": 10,
              "solidity": 0.2
             }
            },
            "type": "histogram"
           }
          ],
          "scattergl": [
           {
            "type": "scattergl",
            "marker": {
             "colorbar": {
              "outlinewidth": 0,
              "ticks": ""
             }
            }
           }
          ],
          "scatter3d": [
           {
            "type": "scatter3d",
            "line": {
             "colorbar": {
              "outlinewidth": 0,
              "ticks": ""
             }
            },
            "marker": {
             "colorbar": {
              "outlinewidth": 0,
              "ticks": ""
             }
            }
           }
          ],
          "scattermap": [
           {
            "type": "scattermap",
            "marker": {
             "colorbar": {
              "outlinewidth": 0,
              "ticks": ""
             }
            }
           }
          ],
          "scattermapbox": [
           {
            "type": "scattermapbox",
            "marker": {
             "colorbar": {
              "outlinewidth": 0,
              "ticks": ""
             }
            }
           }
          ],
          "scatterternary": [
           {
            "type": "scatterternary",
            "marker": {
             "colorbar": {
              "outlinewidth": 0,
              "ticks": ""
             }
            }
           }
          ],
          "scattercarpet": [
           {
            "type": "scattercarpet",
            "marker": {
             "colorbar": {
              "outlinewidth": 0,
              "ticks": ""
             }
            }
           }
          ],
          "carpet": [
           {
            "aaxis": {
             "endlinecolor": "#2a3f5f",
             "gridcolor": "white",
             "linecolor": "white",
             "minorgridcolor": "white",
             "startlinecolor": "#2a3f5f"
            },
            "baxis": {
             "endlinecolor": "#2a3f5f",
             "gridcolor": "white",
             "linecolor": "white",
             "minorgridcolor": "white",
             "startlinecolor": "#2a3f5f"
            },
            "type": "carpet"
           }
          ],
          "table": [
           {
            "cells": {
             "fill": {
              "color": "#EBF0F8"
             },
             "line": {
              "color": "white"
             }
            },
            "header": {
             "fill": {
              "color": "#C8D4E3"
             },
             "line": {
              "color": "white"
             }
            },
            "type": "table"
           }
          ],
          "barpolar": [
           {
            "marker": {
             "line": {
              "color": "#E5ECF6",
              "width": 0.5
             },
             "pattern": {
              "fillmode": "overlay",
              "size": 10,
              "solidity": 0.2
             }
            },
            "type": "barpolar"
           }
          ],
          "pie": [
           {
            "automargin": true,
            "type": "pie"
           }
          ]
         },
         "layout": {
          "autotypenumbers": "strict",
          "colorway": [
           "#636efa",
           "#EF553B",
           "#00cc96",
           "#ab63fa",
           "#FFA15A",
           "#19d3f3",
           "#FF6692",
           "#B6E880",
           "#FF97FF",
           "#FECB52"
          ],
          "font": {
           "color": "#2a3f5f"
          },
          "hovermode": "closest",
          "hoverlabel": {
           "align": "left"
          },
          "paper_bgcolor": "white",
          "plot_bgcolor": "#E5ECF6",
          "polar": {
           "bgcolor": "#E5ECF6",
           "angularaxis": {
            "gridcolor": "white",
            "linecolor": "white",
            "ticks": ""
           },
           "radialaxis": {
            "gridcolor": "white",
            "linecolor": "white",
            "ticks": ""
           }
          },
          "ternary": {
           "bgcolor": "#E5ECF6",
           "aaxis": {
            "gridcolor": "white",
            "linecolor": "white",
            "ticks": ""
           },
           "baxis": {
            "gridcolor": "white",
            "linecolor": "white",
            "ticks": ""
           },
           "caxis": {
            "gridcolor": "white",
            "linecolor": "white",
            "ticks": ""
           }
          },
          "coloraxis": {
           "colorbar": {
            "outlinewidth": 0,
            "ticks": ""
           }
          },
          "colorscale": {
           "sequential": [
            [
             0.0,
             "#0d0887"
            ],
            [
             0.1111111111111111,
             "#46039f"
            ],
            [
             0.2222222222222222,
             "#7201a8"
            ],
            [
             0.3333333333333333,
             "#9c179e"
            ],
            [
             0.4444444444444444,
             "#bd3786"
            ],
            [
             0.5555555555555556,
             "#d8576b"
            ],
            [
             0.6666666666666666,
             "#ed7953"
            ],
            [
             0.7777777777777778,
             "#fb9f3a"
            ],
            [
             0.8888888888888888,
             "#fdca26"
            ],
            [
             1.0,
             "#f0f921"
            ]
           ],
           "sequentialminus": [
            [
             0.0,
             "#0d0887"
            ],
            [
             0.1111111111111111,
             "#46039f"
            ],
            [
             0.2222222222222222,
             "#7201a8"
            ],
            [
             0.3333333333333333,
             "#9c179e"
            ],
            [
             0.4444444444444444,
             "#bd3786"
            ],
            [
             0.5555555555555556,
             "#d8576b"
            ],
            [
             0.6666666666666666,
             "#ed7953"
            ],
            [
             0.7777777777777778,
             "#fb9f3a"
            ],
            [
             0.8888888888888888,
             "#fdca26"
            ],
            [
             1.0,
             "#f0f921"
            ]
           ],
           "diverging": [
            [
             0,
             "#8e0152"
            ],
            [
             0.1,
             "#c51b7d"
            ],
            [
             0.2,
             "#de77ae"
            ],
            [
             0.3,
             "#f1b6da"
            ],
            [
             0.4,
             "#fde0ef"
            ],
            [
             0.5,
             "#f7f7f7"
            ],
            [
             0.6,
             "#e6f5d0"
            ],
            [
             0.7,
             "#b8e186"
            ],
            [
             0.8,
             "#7fbc41"
            ],
            [
             0.9,
             "#4d9221"
            ],
            [
             1,
             "#276419"
            ]
           ]
          },
          "xaxis": {
           "gridcolor": "white",
           "linecolor": "white",
           "ticks": "",
           "title": {
            "standoff": 15
           },
           "zerolinecolor": "white",
           "automargin": true,
           "zerolinewidth": 2
          },
          "yaxis": {
           "gridcolor": "white",
           "linecolor": "white",
           "ticks": "",
           "title": {
            "standoff": 15
           },
           "zerolinecolor": "white",
           "automargin": true,
           "zerolinewidth": 2
          },
          "scene": {
           "xaxis": {
            "backgroundcolor": "#E5ECF6",
            "gridcolor": "white",
            "linecolor": "white",
            "showbackground": true,
            "ticks": "",
            "zerolinecolor": "white",
            "gridwidth": 2
           },
           "yaxis": {
            "backgroundcolor": "#E5ECF6",
            "gridcolor": "white",
            "linecolor": "white",
            "showbackground": true,
            "ticks": "",
            "zerolinecolor": "white",
            "gridwidth": 2
           },
           "zaxis": {
            "backgroundcolor": "#E5ECF6",
            "gridcolor": "white",
            "linecolor": "white",
            "showbackground": true,
            "ticks": "",
            "zerolinecolor": "white",
            "gridwidth": 2
           }
          },
          "shapedefaults": {
           "line": {
            "color": "#2a3f5f"
           }
          },
          "annotationdefaults": {
           "arrowcolor": "#2a3f5f",
           "arrowhead": 0,
           "arrowwidth": 1
          },
          "geo": {
           "bgcolor": "white",
           "landcolor": "#E5ECF6",
           "subunitcolor": "white",
           "showland": true,
           "showlakes": true,
           "lakecolor": "white"
          },
          "title": {
           "x": 0.05
          },
          "mapbox": {
           "style": "light"
          }
         }
        },
        "xaxis": {
         "anchor": "y",
         "domain": [
          0.0,
          1.0
         ],
         "title": {
          "text": "Age"
         }
        },
        "yaxis": {
         "anchor": "x",
         "domain": [
          0.0,
          1.0
         ],
         "title": {
          "text": "Frequency"
         }
        },
        "legend": {
         "tracegroupgap": 0
        },
        "title": {
         "text": "Histogram of Age"
        },
        "barmode": "relative"
       },
       "config": {
        "plotlyServerURL": "https://plot.ly"
       }
      }
     },
     "metadata": {},
     "output_type": "display_data"
    }
   ],
   "execution_count": 16
  },
  {
   "metadata": {
    "ExecuteTime": {
     "end_time": "2025-06-02T13:00:50.421989Z",
     "start_time": "2025-06-02T13:00:50.414763Z"
    }
   },
   "cell_type": "code",
   "source": [
    "barcelonateam = ucl[ucl['Team'] == 'Barcelona']\n",
    "barcelonateam['Goals'].sum()"
   ],
   "id": "bcc8377b78648689",
   "outputs": [
    {
     "data": {
      "text/plain": [
       "np.int64(37)"
      ]
     },
     "execution_count": 17,
     "metadata": {},
     "output_type": "execute_result"
    }
   ],
   "execution_count": 17
  },
  {
   "metadata": {},
   "cell_type": "markdown",
   "source": "#### Cila kombëtare ka pasur mesatarisht më shumë \"Top Speed\"?",
   "id": "b481988c4524e0f9"
  },
  {
   "metadata": {
    "ExecuteTime": {
     "end_time": "2025-06-03T14:17:36.663163Z",
     "start_time": "2025-06-03T14:17:36.657189Z"
    }
   },
   "cell_type": "code",
   "source": "ucl.groupby('Nationality')['TopSpeed(km/h)'].mean().sort_values(ascending=False).head(10)",
   "id": "492399aa16856f49",
   "outputs": [
    {
     "data": {
      "text/plain": [
       "Nationality\n",
       "South Korea    35.000000\n",
       "Austria        34.500000\n",
       "Egypt          34.500000\n",
       "Sweden         34.500000\n",
       "Hungary        34.500000\n",
       "Ecuador        34.300000\n",
       "Ivory Coast    34.300000\n",
       "Canada         34.233333\n",
       "Morocco        34.033333\n",
       "Ghana          33.900000\n",
       "Name: TopSpeed(km/h), dtype: float64"
      ]
     },
     "execution_count": 15,
     "metadata": {},
     "output_type": "execute_result"
    }
   ],
   "execution_count": 15
  },
  {
   "metadata": {},
   "cell_type": "markdown",
   "source": "#### Sa gola mesatarisht bëjnë lojtarët sipas pozicionit?",
   "id": "42b35fd45e35f79b"
  },
  {
   "metadata": {
    "ExecuteTime": {
     "end_time": "2025-06-03T14:17:48.957089Z",
     "start_time": "2025-06-03T14:17:48.940203Z"
    }
   },
   "cell_type": "code",
   "source": "ucl.groupby('Position')['Goals'].mean().sort_values(ascending=False)",
   "id": "cb98e16ed07cd610",
   "outputs": [
    {
     "data": {
      "text/plain": [
       "Position\n",
       "Forward       3.968750\n",
       "Midfielder    1.287879\n",
       "Defender      0.716667\n",
       "Goalkeeper    0.000000\n",
       "Name: Goals, dtype: float64"
      ]
     },
     "execution_count": 16,
     "metadata": {},
     "output_type": "execute_result"
    }
   ],
   "execution_count": 16
  },
  {
   "metadata": {},
   "cell_type": "markdown",
   "source": "#### Top Scoring Teams🛡️",
   "id": "a06d03aff7b808d6"
  },
  {
   "metadata": {
    "ExecuteTime": {
     "end_time": "2025-06-03T14:37:17.328497Z",
     "start_time": "2025-06-03T14:37:17.321496Z"
    }
   },
   "cell_type": "code",
   "source": [
    "topscoring_teams = (ucl.groupby('Team')['Goals'].sum().sort_values(ascending=False).reset_index().head(10))\n",
    "topscoring_teams"
   ],
   "id": "47d752d547fc6301",
   "outputs": [
    {
     "data": {
      "text/plain": [
       "              Team  Goals\n",
       "0        Barcelona     37\n",
       "1         Paris SG     31\n",
       "2     BVB Dortmund     28\n",
       "3    Bayern Munich     27\n",
       "4       Arsenal FC     24\n",
       "5            Inter     22\n",
       "6      Real Madrid     19\n",
       "7          Benfica     18\n",
       "8    PSV Eindhoven     18\n",
       "9  Atletico Madrid     17"
      ],
      "text/html": [
       "<div>\n",
       "<style scoped>\n",
       "    .dataframe tbody tr th:only-of-type {\n",
       "        vertical-align: middle;\n",
       "    }\n",
       "\n",
       "    .dataframe tbody tr th {\n",
       "        vertical-align: top;\n",
       "    }\n",
       "\n",
       "    .dataframe thead th {\n",
       "        text-align: right;\n",
       "    }\n",
       "</style>\n",
       "<table border=\"1\" class=\"dataframe\">\n",
       "  <thead>\n",
       "    <tr style=\"text-align: right;\">\n",
       "      <th></th>\n",
       "      <th>Team</th>\n",
       "      <th>Goals</th>\n",
       "    </tr>\n",
       "  </thead>\n",
       "  <tbody>\n",
       "    <tr>\n",
       "      <th>0</th>\n",
       "      <td>Barcelona</td>\n",
       "      <td>37</td>\n",
       "    </tr>\n",
       "    <tr>\n",
       "      <th>1</th>\n",
       "      <td>Paris SG</td>\n",
       "      <td>31</td>\n",
       "    </tr>\n",
       "    <tr>\n",
       "      <th>2</th>\n",
       "      <td>BVB Dortmund</td>\n",
       "      <td>28</td>\n",
       "    </tr>\n",
       "    <tr>\n",
       "      <th>3</th>\n",
       "      <td>Bayern Munich</td>\n",
       "      <td>27</td>\n",
       "    </tr>\n",
       "    <tr>\n",
       "      <th>4</th>\n",
       "      <td>Arsenal FC</td>\n",
       "      <td>24</td>\n",
       "    </tr>\n",
       "    <tr>\n",
       "      <th>5</th>\n",
       "      <td>Inter</td>\n",
       "      <td>22</td>\n",
       "    </tr>\n",
       "    <tr>\n",
       "      <th>6</th>\n",
       "      <td>Real Madrid</td>\n",
       "      <td>19</td>\n",
       "    </tr>\n",
       "    <tr>\n",
       "      <th>7</th>\n",
       "      <td>Benfica</td>\n",
       "      <td>18</td>\n",
       "    </tr>\n",
       "    <tr>\n",
       "      <th>8</th>\n",
       "      <td>PSV Eindhoven</td>\n",
       "      <td>18</td>\n",
       "    </tr>\n",
       "    <tr>\n",
       "      <th>9</th>\n",
       "      <td>Atletico Madrid</td>\n",
       "      <td>17</td>\n",
       "    </tr>\n",
       "  </tbody>\n",
       "</table>\n",
       "</div>"
      ]
     },
     "execution_count": 35,
     "metadata": {},
     "output_type": "execute_result"
    }
   ],
   "execution_count": 35
  },
  {
   "metadata": {
    "ExecuteTime": {
     "end_time": "2025-06-03T14:38:38.015263Z",
     "start_time": "2025-06-03T14:38:37.980308Z"
    }
   },
   "cell_type": "code",
   "source": [
    "fig = px.bar(\n",
    "    topscoring_teams.sort_values(by='Goals',ascending=True ),  # e rendisim për grafik horizontal\n",
    "    x='Goals',\n",
    "    y='Team',\n",
    "    title='Top Scoring Teams Champions League 2025 ⭐🏆',\n",
    "    text='Goals',\n",
    ")\n",
    "fig.update_traces(marker_color='steelblue', textposition='inside')\n",
    "\n",
    "fig.update_layout(\n",
    "    plot_bgcolor='white',\n",
    "    xaxis_title='Goals',\n",
    "    yaxis_title='Team',\n",
    "    showlegend=False\n",
    ")\n",
    "\n",
    "fig.show()"
   ],
   "id": "4087018de3590195",
   "outputs": [
    {
     "data": {
      "application/vnd.plotly.v1+json": {
       "data": [
        {
         "hovertemplate": "Goals=%{text}<br>Team=%{y}<extra></extra>",
         "legendgroup": "",
         "marker": {
          "color": "steelblue",
          "pattern": {
           "shape": ""
          }
         },
         "name": "",
         "orientation": "h",
         "showlegend": false,
         "text": {
          "dtype": "f8",
          "bdata": "AAAAAAAAMUAAAAAAAAAyQAAAAAAAADJAAAAAAAAAM0AAAAAAAAA2QAAAAAAAADhAAAAAAAAAO0AAAAAAAAA8QAAAAAAAAD9AAAAAAACAQkA="
         },
         "textposition": "inside",
         "x": {
          "dtype": "i1",
          "bdata": "ERISExYYGxwfJQ=="
         },
         "xaxis": "x",
         "y": [
          "Atletico Madrid",
          "Benfica",
          "PSV Eindhoven",
          "Real Madrid",
          "Inter",
          "Arsenal FC",
          "Bayern Munich",
          "BVB Dortmund",
          "Paris SG",
          "Barcelona"
         ],
         "yaxis": "y",
         "type": "bar"
        }
       ],
       "layout": {
        "template": {
         "data": {
          "histogram2dcontour": [
           {
            "type": "histogram2dcontour",
            "colorbar": {
             "outlinewidth": 0,
             "ticks": ""
            },
            "colorscale": [
             [
              0.0,
              "#0d0887"
             ],
             [
              0.1111111111111111,
              "#46039f"
             ],
             [
              0.2222222222222222,
              "#7201a8"
             ],
             [
              0.3333333333333333,
              "#9c179e"
             ],
             [
              0.4444444444444444,
              "#bd3786"
             ],
             [
              0.5555555555555556,
              "#d8576b"
             ],
             [
              0.6666666666666666,
              "#ed7953"
             ],
             [
              0.7777777777777778,
              "#fb9f3a"
             ],
             [
              0.8888888888888888,
              "#fdca26"
             ],
             [
              1.0,
              "#f0f921"
             ]
            ]
           }
          ],
          "choropleth": [
           {
            "type": "choropleth",
            "colorbar": {
             "outlinewidth": 0,
             "ticks": ""
            }
           }
          ],
          "histogram2d": [
           {
            "type": "histogram2d",
            "colorbar": {
             "outlinewidth": 0,
             "ticks": ""
            },
            "colorscale": [
             [
              0.0,
              "#0d0887"
             ],
             [
              0.1111111111111111,
              "#46039f"
             ],
             [
              0.2222222222222222,
              "#7201a8"
             ],
             [
              0.3333333333333333,
              "#9c179e"
             ],
             [
              0.4444444444444444,
              "#bd3786"
             ],
             [
              0.5555555555555556,
              "#d8576b"
             ],
             [
              0.6666666666666666,
              "#ed7953"
             ],
             [
              0.7777777777777778,
              "#fb9f3a"
             ],
             [
              0.8888888888888888,
              "#fdca26"
             ],
             [
              1.0,
              "#f0f921"
             ]
            ]
           }
          ],
          "heatmap": [
           {
            "type": "heatmap",
            "colorbar": {
             "outlinewidth": 0,
             "ticks": ""
            },
            "colorscale": [
             [
              0.0,
              "#0d0887"
             ],
             [
              0.1111111111111111,
              "#46039f"
             ],
             [
              0.2222222222222222,
              "#7201a8"
             ],
             [
              0.3333333333333333,
              "#9c179e"
             ],
             [
              0.4444444444444444,
              "#bd3786"
             ],
             [
              0.5555555555555556,
              "#d8576b"
             ],
             [
              0.6666666666666666,
              "#ed7953"
             ],
             [
              0.7777777777777778,
              "#fb9f3a"
             ],
             [
              0.8888888888888888,
              "#fdca26"
             ],
             [
              1.0,
              "#f0f921"
             ]
            ]
           }
          ],
          "contourcarpet": [
           {
            "type": "contourcarpet",
            "colorbar": {
             "outlinewidth": 0,
             "ticks": ""
            }
           }
          ],
          "contour": [
           {
            "type": "contour",
            "colorbar": {
             "outlinewidth": 0,
             "ticks": ""
            },
            "colorscale": [
             [
              0.0,
              "#0d0887"
             ],
             [
              0.1111111111111111,
              "#46039f"
             ],
             [
              0.2222222222222222,
              "#7201a8"
             ],
             [
              0.3333333333333333,
              "#9c179e"
             ],
             [
              0.4444444444444444,
              "#bd3786"
             ],
             [
              0.5555555555555556,
              "#d8576b"
             ],
             [
              0.6666666666666666,
              "#ed7953"
             ],
             [
              0.7777777777777778,
              "#fb9f3a"
             ],
             [
              0.8888888888888888,
              "#fdca26"
             ],
             [
              1.0,
              "#f0f921"
             ]
            ]
           }
          ],
          "surface": [
           {
            "type": "surface",
            "colorbar": {
             "outlinewidth": 0,
             "ticks": ""
            },
            "colorscale": [
             [
              0.0,
              "#0d0887"
             ],
             [
              0.1111111111111111,
              "#46039f"
             ],
             [
              0.2222222222222222,
              "#7201a8"
             ],
             [
              0.3333333333333333,
              "#9c179e"
             ],
             [
              0.4444444444444444,
              "#bd3786"
             ],
             [
              0.5555555555555556,
              "#d8576b"
             ],
             [
              0.6666666666666666,
              "#ed7953"
             ],
             [
              0.7777777777777778,
              "#fb9f3a"
             ],
             [
              0.8888888888888888,
              "#fdca26"
             ],
             [
              1.0,
              "#f0f921"
             ]
            ]
           }
          ],
          "mesh3d": [
           {
            "type": "mesh3d",
            "colorbar": {
             "outlinewidth": 0,
             "ticks": ""
            }
           }
          ],
          "scatter": [
           {
            "fillpattern": {
             "fillmode": "overlay",
             "size": 10,
             "solidity": 0.2
            },
            "type": "scatter"
           }
          ],
          "parcoords": [
           {
            "type": "parcoords",
            "line": {
             "colorbar": {
              "outlinewidth": 0,
              "ticks": ""
             }
            }
           }
          ],
          "scatterpolargl": [
           {
            "type": "scatterpolargl",
            "marker": {
             "colorbar": {
              "outlinewidth": 0,
              "ticks": ""
             }
            }
           }
          ],
          "bar": [
           {
            "error_x": {
             "color": "#2a3f5f"
            },
            "error_y": {
             "color": "#2a3f5f"
            },
            "marker": {
             "line": {
              "color": "#E5ECF6",
              "width": 0.5
             },
             "pattern": {
              "fillmode": "overlay",
              "size": 10,
              "solidity": 0.2
             }
            },
            "type": "bar"
           }
          ],
          "scattergeo": [
           {
            "type": "scattergeo",
            "marker": {
             "colorbar": {
              "outlinewidth": 0,
              "ticks": ""
             }
            }
           }
          ],
          "scatterpolar": [
           {
            "type": "scatterpolar",
            "marker": {
             "colorbar": {
              "outlinewidth": 0,
              "ticks": ""
             }
            }
           }
          ],
          "histogram": [
           {
            "marker": {
             "pattern": {
              "fillmode": "overlay",
              "size": 10,
              "solidity": 0.2
             }
            },
            "type": "histogram"
           }
          ],
          "scattergl": [
           {
            "type": "scattergl",
            "marker": {
             "colorbar": {
              "outlinewidth": 0,
              "ticks": ""
             }
            }
           }
          ],
          "scatter3d": [
           {
            "type": "scatter3d",
            "line": {
             "colorbar": {
              "outlinewidth": 0,
              "ticks": ""
             }
            },
            "marker": {
             "colorbar": {
              "outlinewidth": 0,
              "ticks": ""
             }
            }
           }
          ],
          "scattermap": [
           {
            "type": "scattermap",
            "marker": {
             "colorbar": {
              "outlinewidth": 0,
              "ticks": ""
             }
            }
           }
          ],
          "scattermapbox": [
           {
            "type": "scattermapbox",
            "marker": {
             "colorbar": {
              "outlinewidth": 0,
              "ticks": ""
             }
            }
           }
          ],
          "scatterternary": [
           {
            "type": "scatterternary",
            "marker": {
             "colorbar": {
              "outlinewidth": 0,
              "ticks": ""
             }
            }
           }
          ],
          "scattercarpet": [
           {
            "type": "scattercarpet",
            "marker": {
             "colorbar": {
              "outlinewidth": 0,
              "ticks": ""
             }
            }
           }
          ],
          "carpet": [
           {
            "aaxis": {
             "endlinecolor": "#2a3f5f",
             "gridcolor": "white",
             "linecolor": "white",
             "minorgridcolor": "white",
             "startlinecolor": "#2a3f5f"
            },
            "baxis": {
             "endlinecolor": "#2a3f5f",
             "gridcolor": "white",
             "linecolor": "white",
             "minorgridcolor": "white",
             "startlinecolor": "#2a3f5f"
            },
            "type": "carpet"
           }
          ],
          "table": [
           {
            "cells": {
             "fill": {
              "color": "#EBF0F8"
             },
             "line": {
              "color": "white"
             }
            },
            "header": {
             "fill": {
              "color": "#C8D4E3"
             },
             "line": {
              "color": "white"
             }
            },
            "type": "table"
           }
          ],
          "barpolar": [
           {
            "marker": {
             "line": {
              "color": "#E5ECF6",
              "width": 0.5
             },
             "pattern": {
              "fillmode": "overlay",
              "size": 10,
              "solidity": 0.2
             }
            },
            "type": "barpolar"
           }
          ],
          "pie": [
           {
            "automargin": true,
            "type": "pie"
           }
          ]
         },
         "layout": {
          "autotypenumbers": "strict",
          "colorway": [
           "#636efa",
           "#EF553B",
           "#00cc96",
           "#ab63fa",
           "#FFA15A",
           "#19d3f3",
           "#FF6692",
           "#B6E880",
           "#FF97FF",
           "#FECB52"
          ],
          "font": {
           "color": "#2a3f5f"
          },
          "hovermode": "closest",
          "hoverlabel": {
           "align": "left"
          },
          "paper_bgcolor": "white",
          "plot_bgcolor": "#E5ECF6",
          "polar": {
           "bgcolor": "#E5ECF6",
           "angularaxis": {
            "gridcolor": "white",
            "linecolor": "white",
            "ticks": ""
           },
           "radialaxis": {
            "gridcolor": "white",
            "linecolor": "white",
            "ticks": ""
           }
          },
          "ternary": {
           "bgcolor": "#E5ECF6",
           "aaxis": {
            "gridcolor": "white",
            "linecolor": "white",
            "ticks": ""
           },
           "baxis": {
            "gridcolor": "white",
            "linecolor": "white",
            "ticks": ""
           },
           "caxis": {
            "gridcolor": "white",
            "linecolor": "white",
            "ticks": ""
           }
          },
          "coloraxis": {
           "colorbar": {
            "outlinewidth": 0,
            "ticks": ""
           }
          },
          "colorscale": {
           "sequential": [
            [
             0.0,
             "#0d0887"
            ],
            [
             0.1111111111111111,
             "#46039f"
            ],
            [
             0.2222222222222222,
             "#7201a8"
            ],
            [
             0.3333333333333333,
             "#9c179e"
            ],
            [
             0.4444444444444444,
             "#bd3786"
            ],
            [
             0.5555555555555556,
             "#d8576b"
            ],
            [
             0.6666666666666666,
             "#ed7953"
            ],
            [
             0.7777777777777778,
             "#fb9f3a"
            ],
            [
             0.8888888888888888,
             "#fdca26"
            ],
            [
             1.0,
             "#f0f921"
            ]
           ],
           "sequentialminus": [
            [
             0.0,
             "#0d0887"
            ],
            [
             0.1111111111111111,
             "#46039f"
            ],
            [
             0.2222222222222222,
             "#7201a8"
            ],
            [
             0.3333333333333333,
             "#9c179e"
            ],
            [
             0.4444444444444444,
             "#bd3786"
            ],
            [
             0.5555555555555556,
             "#d8576b"
            ],
            [
             0.6666666666666666,
             "#ed7953"
            ],
            [
             0.7777777777777778,
             "#fb9f3a"
            ],
            [
             0.8888888888888888,
             "#fdca26"
            ],
            [
             1.0,
             "#f0f921"
            ]
           ],
           "diverging": [
            [
             0,
             "#8e0152"
            ],
            [
             0.1,
             "#c51b7d"
            ],
            [
             0.2,
             "#de77ae"
            ],
            [
             0.3,
             "#f1b6da"
            ],
            [
             0.4,
             "#fde0ef"
            ],
            [
             0.5,
             "#f7f7f7"
            ],
            [
             0.6,
             "#e6f5d0"
            ],
            [
             0.7,
             "#b8e186"
            ],
            [
             0.8,
             "#7fbc41"
            ],
            [
             0.9,
             "#4d9221"
            ],
            [
             1,
             "#276419"
            ]
           ]
          },
          "xaxis": {
           "gridcolor": "white",
           "linecolor": "white",
           "ticks": "",
           "title": {
            "standoff": 15
           },
           "zerolinecolor": "white",
           "automargin": true,
           "zerolinewidth": 2
          },
          "yaxis": {
           "gridcolor": "white",
           "linecolor": "white",
           "ticks": "",
           "title": {
            "standoff": 15
           },
           "zerolinecolor": "white",
           "automargin": true,
           "zerolinewidth": 2
          },
          "scene": {
           "xaxis": {
            "backgroundcolor": "#E5ECF6",
            "gridcolor": "white",
            "linecolor": "white",
            "showbackground": true,
            "ticks": "",
            "zerolinecolor": "white",
            "gridwidth": 2
           },
           "yaxis": {
            "backgroundcolor": "#E5ECF6",
            "gridcolor": "white",
            "linecolor": "white",
            "showbackground": true,
            "ticks": "",
            "zerolinecolor": "white",
            "gridwidth": 2
           },
           "zaxis": {
            "backgroundcolor": "#E5ECF6",
            "gridcolor": "white",
            "linecolor": "white",
            "showbackground": true,
            "ticks": "",
            "zerolinecolor": "white",
            "gridwidth": 2
           }
          },
          "shapedefaults": {
           "line": {
            "color": "#2a3f5f"
           }
          },
          "annotationdefaults": {
           "arrowcolor": "#2a3f5f",
           "arrowhead": 0,
           "arrowwidth": 1
          },
          "geo": {
           "bgcolor": "white",
           "landcolor": "#E5ECF6",
           "subunitcolor": "white",
           "showland": true,
           "showlakes": true,
           "lakecolor": "white"
          },
          "title": {
           "x": 0.05
          },
          "mapbox": {
           "style": "light"
          }
         }
        },
        "xaxis": {
         "anchor": "y",
         "domain": [
          0.0,
          1.0
         ],
         "title": {
          "text": "Goals"
         }
        },
        "yaxis": {
         "anchor": "x",
         "domain": [
          0.0,
          1.0
         ],
         "title": {
          "text": "Team"
         }
        },
        "legend": {
         "tracegroupgap": 0
        },
        "title": {
         "text": "Top Scoring Teams Champions League 2025 ⭐🏆"
        },
        "barmode": "relative",
        "plot_bgcolor": "white",
        "showlegend": false
       },
       "config": {
        "plotlyServerURL": "https://plot.ly"
       }
      }
     },
     "metadata": {},
     "output_type": "display_data"
    }
   ],
   "execution_count": 39
  },
  {
   "metadata": {},
   "cell_type": "markdown",
   "source": "#### Goal+Assist = Total Contributions",
   "id": "6f133a781c1ed419"
  },
  {
   "metadata": {
    "ExecuteTime": {
     "end_time": "2025-06-03T14:30:36.143431Z",
     "start_time": "2025-06-03T14:30:36.134626Z"
    }
   },
   "cell_type": "code",
   "source": [
    "ucl['GoalsContributions'] = ucl['Goals'] + ucl['Assists']\n",
    "\n",
    "top_contrib_teams = (\n",
    "    ucl.groupby('Team')['GoalsContributions']\n",
    "    .sum()\n",
    "    .sort_values(ascending=False)\n",
    "    .reset_index()\n",
    ")\n",
    "\n",
    "top_contrib_teams"
   ],
   "id": "4650d67bf7ec9507",
   "outputs": [
    {
     "data": {
      "text/plain": [
       "                Team  GoalsContributions\n",
       "0          Barcelona                  68\n",
       "1           Paris SG                  62\n",
       "2       BVB Dortmund                  45\n",
       "3      Bayern Munich                  44\n",
       "4              Inter                  39\n",
       "5         Arsenal FC                  39\n",
       "6        Real Madrid                  35\n",
       "7        Atalanta BC                  31\n",
       "8    Atletico Madrid                  31\n",
       "9      PSV Eindhoven                  30\n",
       "10           Benfica                  29\n",
       "11       Aston Villa                  24\n",
       "12   Manchester City                  22\n",
       "13             Milan                  22\n",
       "14      Liverpool FC                  21\n",
       "15  Bayer Leverkusen                  19\n",
       "16            Monaco                  17\n",
       "17            Lille                   13\n",
       "18            Celtic                  12\n",
       "19         Feyenoord                  11\n",
       "20      Real Madrid                    9\n",
       "21       Sporting CP                   8\n",
       "22       Club Brugge                   7\n",
       "23     VfB Stuttgart                   7\n",
       "24         Juventus                    6\n",
       "25  Shakhtar Donetsk                   5\n",
       "26           Leipzig                   4\n",
       "27     Dinamo Zagreb                   3\n",
       "28           Bologna                   2\n",
       "29        Sturm Graz                   1\n",
       "30            Girona                   0\n",
       "31            Brest                    0"
      ],
      "text/html": [
       "<div>\n",
       "<style scoped>\n",
       "    .dataframe tbody tr th:only-of-type {\n",
       "        vertical-align: middle;\n",
       "    }\n",
       "\n",
       "    .dataframe tbody tr th {\n",
       "        vertical-align: top;\n",
       "    }\n",
       "\n",
       "    .dataframe thead th {\n",
       "        text-align: right;\n",
       "    }\n",
       "</style>\n",
       "<table border=\"1\" class=\"dataframe\">\n",
       "  <thead>\n",
       "    <tr style=\"text-align: right;\">\n",
       "      <th></th>\n",
       "      <th>Team</th>\n",
       "      <th>GoalsContributions</th>\n",
       "    </tr>\n",
       "  </thead>\n",
       "  <tbody>\n",
       "    <tr>\n",
       "      <th>0</th>\n",
       "      <td>Barcelona</td>\n",
       "      <td>68</td>\n",
       "    </tr>\n",
       "    <tr>\n",
       "      <th>1</th>\n",
       "      <td>Paris SG</td>\n",
       "      <td>62</td>\n",
       "    </tr>\n",
       "    <tr>\n",
       "      <th>2</th>\n",
       "      <td>BVB Dortmund</td>\n",
       "      <td>45</td>\n",
       "    </tr>\n",
       "    <tr>\n",
       "      <th>3</th>\n",
       "      <td>Bayern Munich</td>\n",
       "      <td>44</td>\n",
       "    </tr>\n",
       "    <tr>\n",
       "      <th>4</th>\n",
       "      <td>Inter</td>\n",
       "      <td>39</td>\n",
       "    </tr>\n",
       "    <tr>\n",
       "      <th>5</th>\n",
       "      <td>Arsenal FC</td>\n",
       "      <td>39</td>\n",
       "    </tr>\n",
       "    <tr>\n",
       "      <th>6</th>\n",
       "      <td>Real Madrid</td>\n",
       "      <td>35</td>\n",
       "    </tr>\n",
       "    <tr>\n",
       "      <th>7</th>\n",
       "      <td>Atalanta BC</td>\n",
       "      <td>31</td>\n",
       "    </tr>\n",
       "    <tr>\n",
       "      <th>8</th>\n",
       "      <td>Atletico Madrid</td>\n",
       "      <td>31</td>\n",
       "    </tr>\n",
       "    <tr>\n",
       "      <th>9</th>\n",
       "      <td>PSV Eindhoven</td>\n",
       "      <td>30</td>\n",
       "    </tr>\n",
       "    <tr>\n",
       "      <th>10</th>\n",
       "      <td>Benfica</td>\n",
       "      <td>29</td>\n",
       "    </tr>\n",
       "    <tr>\n",
       "      <th>11</th>\n",
       "      <td>Aston Villa</td>\n",
       "      <td>24</td>\n",
       "    </tr>\n",
       "    <tr>\n",
       "      <th>12</th>\n",
       "      <td>Manchester City</td>\n",
       "      <td>22</td>\n",
       "    </tr>\n",
       "    <tr>\n",
       "      <th>13</th>\n",
       "      <td>Milan</td>\n",
       "      <td>22</td>\n",
       "    </tr>\n",
       "    <tr>\n",
       "      <th>14</th>\n",
       "      <td>Liverpool FC</td>\n",
       "      <td>21</td>\n",
       "    </tr>\n",
       "    <tr>\n",
       "      <th>15</th>\n",
       "      <td>Bayer Leverkusen</td>\n",
       "      <td>19</td>\n",
       "    </tr>\n",
       "    <tr>\n",
       "      <th>16</th>\n",
       "      <td>Monaco</td>\n",
       "      <td>17</td>\n",
       "    </tr>\n",
       "    <tr>\n",
       "      <th>17</th>\n",
       "      <td>Lille</td>\n",
       "      <td>13</td>\n",
       "    </tr>\n",
       "    <tr>\n",
       "      <th>18</th>\n",
       "      <td>Celtic</td>\n",
       "      <td>12</td>\n",
       "    </tr>\n",
       "    <tr>\n",
       "      <th>19</th>\n",
       "      <td>Feyenoord</td>\n",
       "      <td>11</td>\n",
       "    </tr>\n",
       "    <tr>\n",
       "      <th>20</th>\n",
       "      <td>Real Madrid</td>\n",
       "      <td>9</td>\n",
       "    </tr>\n",
       "    <tr>\n",
       "      <th>21</th>\n",
       "      <td>Sporting CP</td>\n",
       "      <td>8</td>\n",
       "    </tr>\n",
       "    <tr>\n",
       "      <th>22</th>\n",
       "      <td>Club Brugge</td>\n",
       "      <td>7</td>\n",
       "    </tr>\n",
       "    <tr>\n",
       "      <th>23</th>\n",
       "      <td>VfB Stuttgart</td>\n",
       "      <td>7</td>\n",
       "    </tr>\n",
       "    <tr>\n",
       "      <th>24</th>\n",
       "      <td>Juventus</td>\n",
       "      <td>6</td>\n",
       "    </tr>\n",
       "    <tr>\n",
       "      <th>25</th>\n",
       "      <td>Shakhtar Donetsk</td>\n",
       "      <td>5</td>\n",
       "    </tr>\n",
       "    <tr>\n",
       "      <th>26</th>\n",
       "      <td>Leipzig</td>\n",
       "      <td>4</td>\n",
       "    </tr>\n",
       "    <tr>\n",
       "      <th>27</th>\n",
       "      <td>Dinamo Zagreb</td>\n",
       "      <td>3</td>\n",
       "    </tr>\n",
       "    <tr>\n",
       "      <th>28</th>\n",
       "      <td>Bologna</td>\n",
       "      <td>2</td>\n",
       "    </tr>\n",
       "    <tr>\n",
       "      <th>29</th>\n",
       "      <td>Sturm Graz</td>\n",
       "      <td>1</td>\n",
       "    </tr>\n",
       "    <tr>\n",
       "      <th>30</th>\n",
       "      <td>Girona</td>\n",
       "      <td>0</td>\n",
       "    </tr>\n",
       "    <tr>\n",
       "      <th>31</th>\n",
       "      <td>Brest</td>\n",
       "      <td>0</td>\n",
       "    </tr>\n",
       "  </tbody>\n",
       "</table>\n",
       "</div>"
      ]
     },
     "execution_count": 23,
     "metadata": {},
     "output_type": "execute_result"
    }
   ],
   "execution_count": 23
  },
  {
   "metadata": {
    "ExecuteTime": {
     "end_time": "2025-06-02T13:00:50.482998Z",
     "start_time": "2025-06-02T13:00:50.468739Z"
    }
   },
   "cell_type": "code",
   "source": [
    "top_player_barcelona = barcelonateam.groupby('Player')[['Age','Goals']].sum().sort_values(by='Goals', ascending=False)\n",
    "top_player_barcelona"
   ],
   "id": "8f61aa771459c12b",
   "outputs": [
    {
     "data": {
      "text/plain": [
       "                Age  Goals\n",
       "Player                    \n",
       "Raphinha         28     13\n",
       "Lewandowski      36     11\n",
       "Yamal            17      5\n",
       "Ferran Torres    25      3\n",
       "Inigo Martinez   33      2\n",
       "Dani Olmo        27      2\n",
       "Fermin Lopez     22      1\n",
       "Casado           21      0\n",
       "Balde            21      0\n",
       "Kounde           26      0\n",
       "Pedri            22      0\n",
       "Szczesny         35      0"
      ],
      "text/html": [
       "<div>\n",
       "<style scoped>\n",
       "    .dataframe tbody tr th:only-of-type {\n",
       "        vertical-align: middle;\n",
       "    }\n",
       "\n",
       "    .dataframe tbody tr th {\n",
       "        vertical-align: top;\n",
       "    }\n",
       "\n",
       "    .dataframe thead th {\n",
       "        text-align: right;\n",
       "    }\n",
       "</style>\n",
       "<table border=\"1\" class=\"dataframe\">\n",
       "  <thead>\n",
       "    <tr style=\"text-align: right;\">\n",
       "      <th></th>\n",
       "      <th>Age</th>\n",
       "      <th>Goals</th>\n",
       "    </tr>\n",
       "    <tr>\n",
       "      <th>Player</th>\n",
       "      <th></th>\n",
       "      <th></th>\n",
       "    </tr>\n",
       "  </thead>\n",
       "  <tbody>\n",
       "    <tr>\n",
       "      <th>Raphinha</th>\n",
       "      <td>28</td>\n",
       "      <td>13</td>\n",
       "    </tr>\n",
       "    <tr>\n",
       "      <th>Lewandowski</th>\n",
       "      <td>36</td>\n",
       "      <td>11</td>\n",
       "    </tr>\n",
       "    <tr>\n",
       "      <th>Yamal</th>\n",
       "      <td>17</td>\n",
       "      <td>5</td>\n",
       "    </tr>\n",
       "    <tr>\n",
       "      <th>Ferran Torres</th>\n",
       "      <td>25</td>\n",
       "      <td>3</td>\n",
       "    </tr>\n",
       "    <tr>\n",
       "      <th>Inigo Martinez</th>\n",
       "      <td>33</td>\n",
       "      <td>2</td>\n",
       "    </tr>\n",
       "    <tr>\n",
       "      <th>Dani Olmo</th>\n",
       "      <td>27</td>\n",
       "      <td>2</td>\n",
       "    </tr>\n",
       "    <tr>\n",
       "      <th>Fermin Lopez</th>\n",
       "      <td>22</td>\n",
       "      <td>1</td>\n",
       "    </tr>\n",
       "    <tr>\n",
       "      <th>Casado</th>\n",
       "      <td>21</td>\n",
       "      <td>0</td>\n",
       "    </tr>\n",
       "    <tr>\n",
       "      <th>Balde</th>\n",
       "      <td>21</td>\n",
       "      <td>0</td>\n",
       "    </tr>\n",
       "    <tr>\n",
       "      <th>Kounde</th>\n",
       "      <td>26</td>\n",
       "      <td>0</td>\n",
       "    </tr>\n",
       "    <tr>\n",
       "      <th>Pedri</th>\n",
       "      <td>22</td>\n",
       "      <td>0</td>\n",
       "    </tr>\n",
       "    <tr>\n",
       "      <th>Szczesny</th>\n",
       "      <td>35</td>\n",
       "      <td>0</td>\n",
       "    </tr>\n",
       "  </tbody>\n",
       "</table>\n",
       "</div>"
      ]
     },
     "execution_count": 18,
     "metadata": {},
     "output_type": "execute_result"
    }
   ],
   "execution_count": 18
  },
  {
   "metadata": {
    "ExecuteTime": {
     "end_time": "2025-06-02T13:00:50.659997Z",
     "start_time": "2025-06-02T13:00:50.600956Z"
    }
   },
   "cell_type": "code",
   "source": [
    "fig = px.histogram(ucl, x='Goals', y='Team', nbins=30, title=\"Teams that have scored the most goals in the Champions League 2025\",color_discrete_sequence=['blue'])\n",
    "fig.update_layout(xaxis_title=\"Goals\", yaxis_title=\"Teams\")\n",
    "fig.show()"
   ],
   "id": "4a254fa19f8c5c95",
   "outputs": [
    {
     "data": {
      "application/vnd.plotly.v1+json": {
       "data": [
        {
         "bingroup": "y",
         "histfunc": "sum",
         "hovertemplate": "sum of Goals=%{x}<br>Team=%{y}<extra></extra>",
         "legendgroup": "",
         "marker": {
          "color": "blue",
          "pattern": {
           "shape": ""
          }
         },
         "name": "",
         "nbinsy": 30,
         "orientation": "h",
         "showlegend": false,
         "x": {
          "dtype": "i1",
          "bdata": "AAALDQEDAwIBAQAABAIEBQABAAcAAAACAAQDAwAAAgEDAAIABAgDAAAHAAMAAQEGAQQGBwAAAgIAAQADCQABBAEDAAEBAAABAQMBCAACAgABAAMAAwABAQYCAQEBBQACAAEAAAEBAAMBAAQAAAEAAgAFAAABAgIAAQEAAwIAAAEEBAMCAQANAgICBQABAAECCwEGAAQBAAAAAQUDBwAAAAAAAAMEAAADAAACBQADAgEIAAQBAQYCAAIAAAAEAAMAAQADAQABAAADAAAAAAIBAAAB"
         },
         "xaxis": "x",
         "y": [
          "Milan",
          "Inter",
          "Barcelona",
          "Barcelona",
          "Liverpool FC",
          "Real Madrid",
          "Arsenal FC",
          "Real Madrid",
          "Club Brugge",
          "Benfica",
          "Celtic",
          "Atletico Madrid",
          "Paris SG",
          "PSV Eindhoven",
          "Milan",
          "Barcelona",
          "Brest ",
          "Paris SG",
          "Lille ",
          "Real Madrid ",
          "Bayer Leverkusen",
          "Manchester City",
          "PSV Eindhoven",
          "BVB Dortmund",
          "Benfica",
          "Arsenal FC",
          "Celtic",
          "Paris SG",
          "Juventus ",
          "Inter",
          "Arsenal FC",
          "Liverpool FC",
          "Aston Villa",
          "Real Madrid",
          "PSV Eindhoven",
          "PSV Eindhoven",
          "Inter",
          "Real Madrid",
          "Milan",
          "Real Madrid",
          "Barcelona",
          "Atletico Madrid",
          "Milan",
          "PSV Eindhoven",
          "Benfica",
          "Club Brugge",
          "Inter",
          "Atletico Madrid",
          "Bayer Leverkusen",
          "Atalanta BC",
          "Milan",
          "Benfica",
          "Liverpool FC",
          "Arsenal FC",
          "Bayer Leverkusen",
          "Paris SG",
          "Barcelona",
          "Aston Villa",
          "Arsenal FC",
          "Manchester City",
          "Inter",
          "Atalanta BC",
          "Benfica",
          "Leipzig",
          "Sturm Graz",
          "Monaco",
          "Inter",
          "Bayern Munich",
          "Atletico Madrid",
          "BVB Dortmund",
          "Real Madrid",
          "BVB Dortmund",
          "BVB Dortmund",
          "Liverpool FC",
          "Inter",
          "Paris SG",
          "Monaco",
          "Bayern Munich",
          "BVB Dortmund",
          "Lille ",
          "Monaco",
          "Sporting CP",
          "Paris SG",
          "Sporting CP",
          "Milan",
          "Bayern Munich",
          "Atalanta BC",
          "Benfica",
          "Arsenal FC",
          "Barcelona",
          "Juventus ",
          "Aston Villa",
          "Aston Villa",
          "Paris SG",
          "Inter",
          "Manchester City",
          "Feyenoord",
          "Arsenal FC",
          "Manchester City",
          "BVB Dortmund",
          "Bayer Leverkusen",
          "Club Brugge",
          "Bologna",
          "Atalanta BC",
          "Atalanta BC",
          "Lille ",
          "Benfica",
          "Atletico Madrid",
          "Milan",
          "Arsenal FC",
          "Paris SG",
          "Barcelona",
          "Inter",
          "BVB Dortmund",
          "Atalanta BC",
          "Juventus ",
          "Celtic",
          "Feyenoord",
          "Monaco",
          "Monaco",
          "Manchester City",
          "Sporting CP",
          "Benfica",
          "PSV Eindhoven",
          "Monaco",
          "Atletico Madrid",
          "Shakhtar Donetsk",
          "Atletico Madrid",
          "Benfica",
          "Paris SG",
          "Liverpool FC",
          "Inter",
          "Bayern Munich",
          "Real Madrid",
          "BVB Dortmund",
          "Aston Villa",
          "Arsenal FC",
          "PSV Eindhoven",
          "Real Madrid",
          "Paris SG",
          "VfB Stuttgart",
          "Barcelona",
          "Juventus ",
          "Shakhtar Donetsk",
          "Bayern Munich",
          "Celtic",
          "Sporting CP",
          "Barcelona",
          "Inter",
          "Inter",
          "BVB Dortmund",
          "Bayer Leverkusen",
          "Liverpool FC",
          "Arsenal FC",
          "Atalanta BC",
          "PSV Eindhoven",
          "Lille ",
          "Celtic",
          "Sporting CP",
          "Bayern Munich",
          "Aston Villa",
          "Paris SG",
          "Barcelona",
          "Barcelona",
          "BVB Dortmund",
          "Inter",
          "Aston Villa",
          "Bayern Munich",
          "PSV Eindhoven",
          "Arsenal FC",
          "Atletico Madrid",
          "Bayern Munich",
          "Club Brugge",
          "Bayern Munich",
          "Liverpool FC",
          "Paris SG",
          "Manchester City",
          "BVB Dortmund",
          "Arsenal FC",
          "Real Madrid",
          "Barcelona",
          "Bayer Leverkusen",
          "VfB Stuttgart",
          "Atalanta BC",
          "Dinamo Zagreb",
          "Sporting CP",
          "Bologna",
          "Club Brugge",
          "Aston Villa",
          "Atalanta BC",
          "Feyenoord",
          "Bologna",
          "Bayern Munich",
          "Lille ",
          "Liverpool FC",
          "Liverpool FC",
          "Celtic",
          "Manchester City",
          "Real Madrid",
          "Liverpool FC",
          "PSV Eindhoven",
          "Monaco",
          "Girona",
          "Feyenoord",
          "Brest ",
          "Shakhtar Donetsk",
          "Lille ",
          "Juventus ",
          "Bayer Leverkusen",
          "Bologna"
         ],
         "yaxis": "y",
         "type": "histogram"
        }
       ],
       "layout": {
        "template": {
         "data": {
          "histogram2dcontour": [
           {
            "type": "histogram2dcontour",
            "colorbar": {
             "outlinewidth": 0,
             "ticks": ""
            },
            "colorscale": [
             [
              0.0,
              "#0d0887"
             ],
             [
              0.1111111111111111,
              "#46039f"
             ],
             [
              0.2222222222222222,
              "#7201a8"
             ],
             [
              0.3333333333333333,
              "#9c179e"
             ],
             [
              0.4444444444444444,
              "#bd3786"
             ],
             [
              0.5555555555555556,
              "#d8576b"
             ],
             [
              0.6666666666666666,
              "#ed7953"
             ],
             [
              0.7777777777777778,
              "#fb9f3a"
             ],
             [
              0.8888888888888888,
              "#fdca26"
             ],
             [
              1.0,
              "#f0f921"
             ]
            ]
           }
          ],
          "choropleth": [
           {
            "type": "choropleth",
            "colorbar": {
             "outlinewidth": 0,
             "ticks": ""
            }
           }
          ],
          "histogram2d": [
           {
            "type": "histogram2d",
            "colorbar": {
             "outlinewidth": 0,
             "ticks": ""
            },
            "colorscale": [
             [
              0.0,
              "#0d0887"
             ],
             [
              0.1111111111111111,
              "#46039f"
             ],
             [
              0.2222222222222222,
              "#7201a8"
             ],
             [
              0.3333333333333333,
              "#9c179e"
             ],
             [
              0.4444444444444444,
              "#bd3786"
             ],
             [
              0.5555555555555556,
              "#d8576b"
             ],
             [
              0.6666666666666666,
              "#ed7953"
             ],
             [
              0.7777777777777778,
              "#fb9f3a"
             ],
             [
              0.8888888888888888,
              "#fdca26"
             ],
             [
              1.0,
              "#f0f921"
             ]
            ]
           }
          ],
          "heatmap": [
           {
            "type": "heatmap",
            "colorbar": {
             "outlinewidth": 0,
             "ticks": ""
            },
            "colorscale": [
             [
              0.0,
              "#0d0887"
             ],
             [
              0.1111111111111111,
              "#46039f"
             ],
             [
              0.2222222222222222,
              "#7201a8"
             ],
             [
              0.3333333333333333,
              "#9c179e"
             ],
             [
              0.4444444444444444,
              "#bd3786"
             ],
             [
              0.5555555555555556,
              "#d8576b"
             ],
             [
              0.6666666666666666,
              "#ed7953"
             ],
             [
              0.7777777777777778,
              "#fb9f3a"
             ],
             [
              0.8888888888888888,
              "#fdca26"
             ],
             [
              1.0,
              "#f0f921"
             ]
            ]
           }
          ],
          "contourcarpet": [
           {
            "type": "contourcarpet",
            "colorbar": {
             "outlinewidth": 0,
             "ticks": ""
            }
           }
          ],
          "contour": [
           {
            "type": "contour",
            "colorbar": {
             "outlinewidth": 0,
             "ticks": ""
            },
            "colorscale": [
             [
              0.0,
              "#0d0887"
             ],
             [
              0.1111111111111111,
              "#46039f"
             ],
             [
              0.2222222222222222,
              "#7201a8"
             ],
             [
              0.3333333333333333,
              "#9c179e"
             ],
             [
              0.4444444444444444,
              "#bd3786"
             ],
             [
              0.5555555555555556,
              "#d8576b"
             ],
             [
              0.6666666666666666,
              "#ed7953"
             ],
             [
              0.7777777777777778,
              "#fb9f3a"
             ],
             [
              0.8888888888888888,
              "#fdca26"
             ],
             [
              1.0,
              "#f0f921"
             ]
            ]
           }
          ],
          "surface": [
           {
            "type": "surface",
            "colorbar": {
             "outlinewidth": 0,
             "ticks": ""
            },
            "colorscale": [
             [
              0.0,
              "#0d0887"
             ],
             [
              0.1111111111111111,
              "#46039f"
             ],
             [
              0.2222222222222222,
              "#7201a8"
             ],
             [
              0.3333333333333333,
              "#9c179e"
             ],
             [
              0.4444444444444444,
              "#bd3786"
             ],
             [
              0.5555555555555556,
              "#d8576b"
             ],
             [
              0.6666666666666666,
              "#ed7953"
             ],
             [
              0.7777777777777778,
              "#fb9f3a"
             ],
             [
              0.8888888888888888,
              "#fdca26"
             ],
             [
              1.0,
              "#f0f921"
             ]
            ]
           }
          ],
          "mesh3d": [
           {
            "type": "mesh3d",
            "colorbar": {
             "outlinewidth": 0,
             "ticks": ""
            }
           }
          ],
          "scatter": [
           {
            "fillpattern": {
             "fillmode": "overlay",
             "size": 10,
             "solidity": 0.2
            },
            "type": "scatter"
           }
          ],
          "parcoords": [
           {
            "type": "parcoords",
            "line": {
             "colorbar": {
              "outlinewidth": 0,
              "ticks": ""
             }
            }
           }
          ],
          "scatterpolargl": [
           {
            "type": "scatterpolargl",
            "marker": {
             "colorbar": {
              "outlinewidth": 0,
              "ticks": ""
             }
            }
           }
          ],
          "bar": [
           {
            "error_x": {
             "color": "#2a3f5f"
            },
            "error_y": {
             "color": "#2a3f5f"
            },
            "marker": {
             "line": {
              "color": "#E5ECF6",
              "width": 0.5
             },
             "pattern": {
              "fillmode": "overlay",
              "size": 10,
              "solidity": 0.2
             }
            },
            "type": "bar"
           }
          ],
          "scattergeo": [
           {
            "type": "scattergeo",
            "marker": {
             "colorbar": {
              "outlinewidth": 0,
              "ticks": ""
             }
            }
           }
          ],
          "scatterpolar": [
           {
            "type": "scatterpolar",
            "marker": {
             "colorbar": {
              "outlinewidth": 0,
              "ticks": ""
             }
            }
           }
          ],
          "histogram": [
           {
            "marker": {
             "pattern": {
              "fillmode": "overlay",
              "size": 10,
              "solidity": 0.2
             }
            },
            "type": "histogram"
           }
          ],
          "scattergl": [
           {
            "type": "scattergl",
            "marker": {
             "colorbar": {
              "outlinewidth": 0,
              "ticks": ""
             }
            }
           }
          ],
          "scatter3d": [
           {
            "type": "scatter3d",
            "line": {
             "colorbar": {
              "outlinewidth": 0,
              "ticks": ""
             }
            },
            "marker": {
             "colorbar": {
              "outlinewidth": 0,
              "ticks": ""
             }
            }
           }
          ],
          "scattermap": [
           {
            "type": "scattermap",
            "marker": {
             "colorbar": {
              "outlinewidth": 0,
              "ticks": ""
             }
            }
           }
          ],
          "scattermapbox": [
           {
            "type": "scattermapbox",
            "marker": {
             "colorbar": {
              "outlinewidth": 0,
              "ticks": ""
             }
            }
           }
          ],
          "scatterternary": [
           {
            "type": "scatterternary",
            "marker": {
             "colorbar": {
              "outlinewidth": 0,
              "ticks": ""
             }
            }
           }
          ],
          "scattercarpet": [
           {
            "type": "scattercarpet",
            "marker": {
             "colorbar": {
              "outlinewidth": 0,
              "ticks": ""
             }
            }
           }
          ],
          "carpet": [
           {
            "aaxis": {
             "endlinecolor": "#2a3f5f",
             "gridcolor": "white",
             "linecolor": "white",
             "minorgridcolor": "white",
             "startlinecolor": "#2a3f5f"
            },
            "baxis": {
             "endlinecolor": "#2a3f5f",
             "gridcolor": "white",
             "linecolor": "white",
             "minorgridcolor": "white",
             "startlinecolor": "#2a3f5f"
            },
            "type": "carpet"
           }
          ],
          "table": [
           {
            "cells": {
             "fill": {
              "color": "#EBF0F8"
             },
             "line": {
              "color": "white"
             }
            },
            "header": {
             "fill": {
              "color": "#C8D4E3"
             },
             "line": {
              "color": "white"
             }
            },
            "type": "table"
           }
          ],
          "barpolar": [
           {
            "marker": {
             "line": {
              "color": "#E5ECF6",
              "width": 0.5
             },
             "pattern": {
              "fillmode": "overlay",
              "size": 10,
              "solidity": 0.2
             }
            },
            "type": "barpolar"
           }
          ],
          "pie": [
           {
            "automargin": true,
            "type": "pie"
           }
          ]
         },
         "layout": {
          "autotypenumbers": "strict",
          "colorway": [
           "#636efa",
           "#EF553B",
           "#00cc96",
           "#ab63fa",
           "#FFA15A",
           "#19d3f3",
           "#FF6692",
           "#B6E880",
           "#FF97FF",
           "#FECB52"
          ],
          "font": {
           "color": "#2a3f5f"
          },
          "hovermode": "closest",
          "hoverlabel": {
           "align": "left"
          },
          "paper_bgcolor": "white",
          "plot_bgcolor": "#E5ECF6",
          "polar": {
           "bgcolor": "#E5ECF6",
           "angularaxis": {
            "gridcolor": "white",
            "linecolor": "white",
            "ticks": ""
           },
           "radialaxis": {
            "gridcolor": "white",
            "linecolor": "white",
            "ticks": ""
           }
          },
          "ternary": {
           "bgcolor": "#E5ECF6",
           "aaxis": {
            "gridcolor": "white",
            "linecolor": "white",
            "ticks": ""
           },
           "baxis": {
            "gridcolor": "white",
            "linecolor": "white",
            "ticks": ""
           },
           "caxis": {
            "gridcolor": "white",
            "linecolor": "white",
            "ticks": ""
           }
          },
          "coloraxis": {
           "colorbar": {
            "outlinewidth": 0,
            "ticks": ""
           }
          },
          "colorscale": {
           "sequential": [
            [
             0.0,
             "#0d0887"
            ],
            [
             0.1111111111111111,
             "#46039f"
            ],
            [
             0.2222222222222222,
             "#7201a8"
            ],
            [
             0.3333333333333333,
             "#9c179e"
            ],
            [
             0.4444444444444444,
             "#bd3786"
            ],
            [
             0.5555555555555556,
             "#d8576b"
            ],
            [
             0.6666666666666666,
             "#ed7953"
            ],
            [
             0.7777777777777778,
             "#fb9f3a"
            ],
            [
             0.8888888888888888,
             "#fdca26"
            ],
            [
             1.0,
             "#f0f921"
            ]
           ],
           "sequentialminus": [
            [
             0.0,
             "#0d0887"
            ],
            [
             0.1111111111111111,
             "#46039f"
            ],
            [
             0.2222222222222222,
             "#7201a8"
            ],
            [
             0.3333333333333333,
             "#9c179e"
            ],
            [
             0.4444444444444444,
             "#bd3786"
            ],
            [
             0.5555555555555556,
             "#d8576b"
            ],
            [
             0.6666666666666666,
             "#ed7953"
            ],
            [
             0.7777777777777778,
             "#fb9f3a"
            ],
            [
             0.8888888888888888,
             "#fdca26"
            ],
            [
             1.0,
             "#f0f921"
            ]
           ],
           "diverging": [
            [
             0,
             "#8e0152"
            ],
            [
             0.1,
             "#c51b7d"
            ],
            [
             0.2,
             "#de77ae"
            ],
            [
             0.3,
             "#f1b6da"
            ],
            [
             0.4,
             "#fde0ef"
            ],
            [
             0.5,
             "#f7f7f7"
            ],
            [
             0.6,
             "#e6f5d0"
            ],
            [
             0.7,
             "#b8e186"
            ],
            [
             0.8,
             "#7fbc41"
            ],
            [
             0.9,
             "#4d9221"
            ],
            [
             1,
             "#276419"
            ]
           ]
          },
          "xaxis": {
           "gridcolor": "white",
           "linecolor": "white",
           "ticks": "",
           "title": {
            "standoff": 15
           },
           "zerolinecolor": "white",
           "automargin": true,
           "zerolinewidth": 2
          },
          "yaxis": {
           "gridcolor": "white",
           "linecolor": "white",
           "ticks": "",
           "title": {
            "standoff": 15
           },
           "zerolinecolor": "white",
           "automargin": true,
           "zerolinewidth": 2
          },
          "scene": {
           "xaxis": {
            "backgroundcolor": "#E5ECF6",
            "gridcolor": "white",
            "linecolor": "white",
            "showbackground": true,
            "ticks": "",
            "zerolinecolor": "white",
            "gridwidth": 2
           },
           "yaxis": {
            "backgroundcolor": "#E5ECF6",
            "gridcolor": "white",
            "linecolor": "white",
            "showbackground": true,
            "ticks": "",
            "zerolinecolor": "white",
            "gridwidth": 2
           },
           "zaxis": {
            "backgroundcolor": "#E5ECF6",
            "gridcolor": "white",
            "linecolor": "white",
            "showbackground": true,
            "ticks": "",
            "zerolinecolor": "white",
            "gridwidth": 2
           }
          },
          "shapedefaults": {
           "line": {
            "color": "#2a3f5f"
           }
          },
          "annotationdefaults": {
           "arrowcolor": "#2a3f5f",
           "arrowhead": 0,
           "arrowwidth": 1
          },
          "geo": {
           "bgcolor": "white",
           "landcolor": "#E5ECF6",
           "subunitcolor": "white",
           "showland": true,
           "showlakes": true,
           "lakecolor": "white"
          },
          "title": {
           "x": 0.05
          },
          "mapbox": {
           "style": "light"
          }
         }
        },
        "xaxis": {
         "anchor": "y",
         "domain": [
          0.0,
          1.0
         ],
         "title": {
          "text": "Goals"
         }
        },
        "yaxis": {
         "anchor": "x",
         "domain": [
          0.0,
          1.0
         ],
         "title": {
          "text": "Teams"
         }
        },
        "legend": {
         "tracegroupgap": 0
        },
        "title": {
         "text": "Teams that have scored the most goals in the Champions League 2025"
        },
        "barmode": "relative"
       },
       "config": {
        "plotlyServerURL": "https://plot.ly"
       }
      }
     },
     "metadata": {},
     "output_type": "display_data"
    }
   ],
   "execution_count": 19
  },
  {
   "metadata": {
    "ExecuteTime": {
     "end_time": "2025-06-02T13:00:50.870312Z",
     "start_time": "2025-06-02T13:00:50.795002Z"
    }
   },
   "cell_type": "code",
   "source": [
    "fig = px.bar(ucl, x='Team', y='Goals', text='Player', title=\"Teams that have scored the most goals in the Champions League 2025\",\n",
    "             color='Goals', color_continuous_scale='Blues')\n",
    "\n",
    "fig.update_layout(xaxis_title=\"Team\", yaxis_title=\"Goals Scored\")\n",
    "fig.show()"
   ],
   "id": "d8b224259c91886c",
   "outputs": [
    {
     "data": {
      "application/vnd.plotly.v1+json": {
       "data": [
        {
         "hovertemplate": "Team=%{x}<br>Goals=%{marker.color}<br>Player=%{text}<extra></extra>",
         "legendgroup": "",
         "marker": {
          "color": {
           "dtype": "i1",
           "bdata": "AAALDQEDAwIBAQAABAIEBQABAAcAAAACAAQDAwAAAgEDAAIABAgDAAAHAAMAAQEGAQQGBwAAAgIAAQADCQABBAEDAAEBAAABAQMBCAACAgABAAMAAwABAQYCAQEBBQACAAEAAAEBAAMBAAQAAAEAAgAFAAABAgIAAQEAAwIAAAEEBAMCAQANAgICBQABAAECCwEGAAQBAAAAAQUDBwAAAAAAAAMEAAADAAACBQADAgEIAAQBAQYCAAIAAAAEAAMAAQADAQABAAADAAAAAAIBAAAB"
          },
          "coloraxis": "coloraxis",
          "pattern": {
           "shape": ""
          }
         },
         "name": "",
         "orientation": "v",
         "showlegend": false,
         "text": [
          "Theo Hernandez",
          "Nicolo Barella",
          "Lewandowski",
          "Raphinha",
          "Van Dijk",
          "Jude Bellingham",
          "Odegaard",
          "Brahim Diaz",
          "Hans Vanaken",
          "Otamendi",
          "Johnston",
          "Lino",
          "Hakimi",
          "Johan Bakayoko",
          "Pulisic",
          "Yamal",
          "Marco Bizot",
          "Fabian Ruiz",
          "Chevalier",
          "Kylian Mbappe",
          "Frimpong",
          "Rico Lewis",
          "Joey Veerman",
          "Bensebaini",
          "Florentino",
          "Kai Havertz",
          "Kuhn",
          "Kvaratskhelia",
          "Federico Gatti",
          "Dimarco",
          "Martinelli",
          "Szoboszlai",
          "John McGinn",
          "Courtois",
          "Noa Lang",
          "Mauro Junior",
          "Calhanoglu",
          "Vinicius Jr",
          "Tijjani Reijnders",
          "Raul Asencio",
          "Kounde",
          "Julian Alvarez",
          "Mike Maignan",
          "Ryan Flamingo",
          "Aursnes",
          "Christos Tzolis",
          "Taremi",
          "Griezmann",
          "Hincapie",
          "Charles Ketelaere",
          "Santiago Gimenez",
          "Pavlidis",
          "Alisson Becker",
          "Saliba",
          "Grimaldo",
          "Vitinha",
          "Pedri",
          "Ezri Konsa",
          "David Raya",
          "Phil Foden",
          "Lautaro Martinez",
          "Carnesecchi",
          "Di Maria",
          "Benjamin Sesko",
          "Otar Kiteishvili",
          "Minamino",
          "Stefan de Vrij",
          "Leon Goretzka",
          "Jose Gimenez",
          "Ryerson",
          "Modric",
          "Felix Nmecha",
          "Pascal Gross",
          "Gakpo",
          "Pavard",
          "Dembele",
          "Vanderson",
          "Alphonso Davies",
          "Emre Can",
          "Alexsandro Ribeiro",
          "Embolo",
          "Quenda",
          "Barcola",
          "Trincao",
          "Rafael Leao",
          "Upamecano",
          "Ederson",
          "Alexander Bah",
          "Bukayo Saka",
          "Inigo Martinez",
          "Kenan Yildiz",
          "Jacob Ramsey",
          "Maatsen",
          "Desire Doue",
          "Mkhitaryan",
          "Gundogan",
          "Wellenreuther ",
          "Jurrien Timber",
          "Manuel Akanji",
          "Schlotterbeck",
          "Mukiele",
          "De Cuyper",
          "Sam Beukema",
          "Mario Pasalic",
          "Kolasinac",
          "Benjamin Andre",
          "Orkun Kökcü",
          "De Paul",
          "Youssouf Fofana",
          "Gabriel Magalhaes",
          "Donnarumma",
          "Dani Olmo",
          "Yann Sommer",
          "Adeyemi",
          "Zappacosta",
          "Di Gregorio",
          "Reo Hatate",
          "Igor Paixao",
          "Maghnes Akliouche",
          "Lamine Camara",
          "Savinho",
          "Gonçalo Inacio",
          "Alvaro Carreras",
          "Ismael Saibari",
          "Singo",
          "Jan Oblak",
          "Riznyk",
          "Giuliano Simeone",
          "Akturkoglu",
          "Nuno Mendes",
          "Salah",
          "Dumfries",
          "Minjae Kim",
          "Tchouameni",
          "Guirassy",
          "Youri Tielemans",
          "Mikel Merino",
          "Luuk de Jong",
          "Rodrygo",
          "Pacho",
          "Angelo Stiller",
          "Balde",
          "Conceiçao",
          "Georgiy Sudakov",
          "Harry Kane",
          "Arne Engels",
          "Viktor Gyokeres",
          "Casado",
          "Thuram",
          "Francesco Acerbi",
          "Julian Brandt",
          "Granit Xhaka",
          "Robertson",
          "Calafiori",
          "Lookman",
          "Tillman",
          "Jonathan David",
          "Callum McGregor",
          "Hjulmand",
          "Kimmich",
          "Emiliano Martinez",
          "Marquinhos",
          "Szczesny",
          "Ferran Torres",
          "Gittens",
          "Bastoni",
          "Marcus Rashford",
          "Jamal Musiala",
          "Boscagli",
          "Partey",
          "Llorente",
          "Olise",
          "Mignolet",
          "Thomas Muller",
          "Mac Allister",
          "Joao Neves",
          "Haaland",
          "Waldemar Anton",
          "Declan Rice",
          "Lucas Vazquez",
          "Fermin Lopez",
          "Florian Wirtz",
          "Enzo Millot",
          "Kossounou",
          "Baturina",
          "Franco Israel",
          "Skorupski",
          "Jashari",
          "Rogers",
          "Marten de Roon",
          "Milambo",
          "Dan Ndoye",
          "Laimer",
          "Thomas Meunier",
          "Luis Diaz",
          "Ibrahima Konate",
          "Schmeichel",
          "Matheus Nunes",
          "Valverde",
          "Gravenberch",
          "Ivan Perisic",
          "Golovin",
          "Gazzaniga",
          "Quinten Timber",
          "Kenny Lala",
          "Kevin",
          "Cabella",
          "Locatelli",
          "Palacios",
          "Lucumi"
         ],
         "textposition": "auto",
         "x": [
          "Milan",
          "Inter",
          "Barcelona",
          "Barcelona",
          "Liverpool FC",
          "Real Madrid",
          "Arsenal FC",
          "Real Madrid",
          "Club Brugge",
          "Benfica",
          "Celtic",
          "Atletico Madrid",
          "Paris SG",
          "PSV Eindhoven",
          "Milan",
          "Barcelona",
          "Brest ",
          "Paris SG",
          "Lille ",
          "Real Madrid ",
          "Bayer Leverkusen",
          "Manchester City",
          "PSV Eindhoven",
          "BVB Dortmund",
          "Benfica",
          "Arsenal FC",
          "Celtic",
          "Paris SG",
          "Juventus ",
          "Inter",
          "Arsenal FC",
          "Liverpool FC",
          "Aston Villa",
          "Real Madrid",
          "PSV Eindhoven",
          "PSV Eindhoven",
          "Inter",
          "Real Madrid",
          "Milan",
          "Real Madrid",
          "Barcelona",
          "Atletico Madrid",
          "Milan",
          "PSV Eindhoven",
          "Benfica",
          "Club Brugge",
          "Inter",
          "Atletico Madrid",
          "Bayer Leverkusen",
          "Atalanta BC",
          "Milan",
          "Benfica",
          "Liverpool FC",
          "Arsenal FC",
          "Bayer Leverkusen",
          "Paris SG",
          "Barcelona",
          "Aston Villa",
          "Arsenal FC",
          "Manchester City",
          "Inter",
          "Atalanta BC",
          "Benfica",
          "Leipzig",
          "Sturm Graz",
          "Monaco",
          "Inter",
          "Bayern Munich",
          "Atletico Madrid",
          "BVB Dortmund",
          "Real Madrid",
          "BVB Dortmund",
          "BVB Dortmund",
          "Liverpool FC",
          "Inter",
          "Paris SG",
          "Monaco",
          "Bayern Munich",
          "BVB Dortmund",
          "Lille ",
          "Monaco",
          "Sporting CP",
          "Paris SG",
          "Sporting CP",
          "Milan",
          "Bayern Munich",
          "Atalanta BC",
          "Benfica",
          "Arsenal FC",
          "Barcelona",
          "Juventus ",
          "Aston Villa",
          "Aston Villa",
          "Paris SG",
          "Inter",
          "Manchester City",
          "Feyenoord",
          "Arsenal FC",
          "Manchester City",
          "BVB Dortmund",
          "Bayer Leverkusen",
          "Club Brugge",
          "Bologna",
          "Atalanta BC",
          "Atalanta BC",
          "Lille ",
          "Benfica",
          "Atletico Madrid",
          "Milan",
          "Arsenal FC",
          "Paris SG",
          "Barcelona",
          "Inter",
          "BVB Dortmund",
          "Atalanta BC",
          "Juventus ",
          "Celtic",
          "Feyenoord",
          "Monaco",
          "Monaco",
          "Manchester City",
          "Sporting CP",
          "Benfica",
          "PSV Eindhoven",
          "Monaco",
          "Atletico Madrid",
          "Shakhtar Donetsk",
          "Atletico Madrid",
          "Benfica",
          "Paris SG",
          "Liverpool FC",
          "Inter",
          "Bayern Munich",
          "Real Madrid",
          "BVB Dortmund",
          "Aston Villa",
          "Arsenal FC",
          "PSV Eindhoven",
          "Real Madrid",
          "Paris SG",
          "VfB Stuttgart",
          "Barcelona",
          "Juventus ",
          "Shakhtar Donetsk",
          "Bayern Munich",
          "Celtic",
          "Sporting CP",
          "Barcelona",
          "Inter",
          "Inter",
          "BVB Dortmund",
          "Bayer Leverkusen",
          "Liverpool FC",
          "Arsenal FC",
          "Atalanta BC",
          "PSV Eindhoven",
          "Lille ",
          "Celtic",
          "Sporting CP",
          "Bayern Munich",
          "Aston Villa",
          "Paris SG",
          "Barcelona",
          "Barcelona",
          "BVB Dortmund",
          "Inter",
          "Aston Villa",
          "Bayern Munich",
          "PSV Eindhoven",
          "Arsenal FC",
          "Atletico Madrid",
          "Bayern Munich",
          "Club Brugge",
          "Bayern Munich",
          "Liverpool FC",
          "Paris SG",
          "Manchester City",
          "BVB Dortmund",
          "Arsenal FC",
          "Real Madrid",
          "Barcelona",
          "Bayer Leverkusen",
          "VfB Stuttgart",
          "Atalanta BC",
          "Dinamo Zagreb",
          "Sporting CP",
          "Bologna",
          "Club Brugge",
          "Aston Villa",
          "Atalanta BC",
          "Feyenoord",
          "Bologna",
          "Bayern Munich",
          "Lille ",
          "Liverpool FC",
          "Liverpool FC",
          "Celtic",
          "Manchester City",
          "Real Madrid",
          "Liverpool FC",
          "PSV Eindhoven",
          "Monaco",
          "Girona",
          "Feyenoord",
          "Brest ",
          "Shakhtar Donetsk",
          "Lille ",
          "Juventus ",
          "Bayer Leverkusen",
          "Bologna"
         ],
         "xaxis": "x",
         "y": {
          "dtype": "i1",
          "bdata": "AAALDQEDAwIBAQAABAIEBQABAAcAAAACAAQDAwAAAgEDAAIABAgDAAAHAAMAAQEGAQQGBwAAAgIAAQADCQABBAEDAAEBAAABAQMBCAACAgABAAMAAwABAQYCAQEBBQACAAEAAAEBAAMBAAQAAAEAAgAFAAABAgIAAQEAAwIAAAEEBAMCAQANAgICBQABAAECCwEGAAQBAAAAAQUDBwAAAAAAAAMEAAADAAACBQADAgEIAAQBAQYCAAIAAAAEAAMAAQADAQABAAADAAAAAAIBAAAB"
         },
         "yaxis": "y",
         "type": "bar"
        }
       ],
       "layout": {
        "template": {
         "data": {
          "histogram2dcontour": [
           {
            "type": "histogram2dcontour",
            "colorbar": {
             "outlinewidth": 0,
             "ticks": ""
            },
            "colorscale": [
             [
              0.0,
              "#0d0887"
             ],
             [
              0.1111111111111111,
              "#46039f"
             ],
             [
              0.2222222222222222,
              "#7201a8"
             ],
             [
              0.3333333333333333,
              "#9c179e"
             ],
             [
              0.4444444444444444,
              "#bd3786"
             ],
             [
              0.5555555555555556,
              "#d8576b"
             ],
             [
              0.6666666666666666,
              "#ed7953"
             ],
             [
              0.7777777777777778,
              "#fb9f3a"
             ],
             [
              0.8888888888888888,
              "#fdca26"
             ],
             [
              1.0,
              "#f0f921"
             ]
            ]
           }
          ],
          "choropleth": [
           {
            "type": "choropleth",
            "colorbar": {
             "outlinewidth": 0,
             "ticks": ""
            }
           }
          ],
          "histogram2d": [
           {
            "type": "histogram2d",
            "colorbar": {
             "outlinewidth": 0,
             "ticks": ""
            },
            "colorscale": [
             [
              0.0,
              "#0d0887"
             ],
             [
              0.1111111111111111,
              "#46039f"
             ],
             [
              0.2222222222222222,
              "#7201a8"
             ],
             [
              0.3333333333333333,
              "#9c179e"
             ],
             [
              0.4444444444444444,
              "#bd3786"
             ],
             [
              0.5555555555555556,
              "#d8576b"
             ],
             [
              0.6666666666666666,
              "#ed7953"
             ],
             [
              0.7777777777777778,
              "#fb9f3a"
             ],
             [
              0.8888888888888888,
              "#fdca26"
             ],
             [
              1.0,
              "#f0f921"
             ]
            ]
           }
          ],
          "heatmap": [
           {
            "type": "heatmap",
            "colorbar": {
             "outlinewidth": 0,
             "ticks": ""
            },
            "colorscale": [
             [
              0.0,
              "#0d0887"
             ],
             [
              0.1111111111111111,
              "#46039f"
             ],
             [
              0.2222222222222222,
              "#7201a8"
             ],
             [
              0.3333333333333333,
              "#9c179e"
             ],
             [
              0.4444444444444444,
              "#bd3786"
             ],
             [
              0.5555555555555556,
              "#d8576b"
             ],
             [
              0.6666666666666666,
              "#ed7953"
             ],
             [
              0.7777777777777778,
              "#fb9f3a"
             ],
             [
              0.8888888888888888,
              "#fdca26"
             ],
             [
              1.0,
              "#f0f921"
             ]
            ]
           }
          ],
          "contourcarpet": [
           {
            "type": "contourcarpet",
            "colorbar": {
             "outlinewidth": 0,
             "ticks": ""
            }
           }
          ],
          "contour": [
           {
            "type": "contour",
            "colorbar": {
             "outlinewidth": 0,
             "ticks": ""
            },
            "colorscale": [
             [
              0.0,
              "#0d0887"
             ],
             [
              0.1111111111111111,
              "#46039f"
             ],
             [
              0.2222222222222222,
              "#7201a8"
             ],
             [
              0.3333333333333333,
              "#9c179e"
             ],
             [
              0.4444444444444444,
              "#bd3786"
             ],
             [
              0.5555555555555556,
              "#d8576b"
             ],
             [
              0.6666666666666666,
              "#ed7953"
             ],
             [
              0.7777777777777778,
              "#fb9f3a"
             ],
             [
              0.8888888888888888,
              "#fdca26"
             ],
             [
              1.0,
              "#f0f921"
             ]
            ]
           }
          ],
          "surface": [
           {
            "type": "surface",
            "colorbar": {
             "outlinewidth": 0,
             "ticks": ""
            },
            "colorscale": [
             [
              0.0,
              "#0d0887"
             ],
             [
              0.1111111111111111,
              "#46039f"
             ],
             [
              0.2222222222222222,
              "#7201a8"
             ],
             [
              0.3333333333333333,
              "#9c179e"
             ],
             [
              0.4444444444444444,
              "#bd3786"
             ],
             [
              0.5555555555555556,
              "#d8576b"
             ],
             [
              0.6666666666666666,
              "#ed7953"
             ],
             [
              0.7777777777777778,
              "#fb9f3a"
             ],
             [
              0.8888888888888888,
              "#fdca26"
             ],
             [
              1.0,
              "#f0f921"
             ]
            ]
           }
          ],
          "mesh3d": [
           {
            "type": "mesh3d",
            "colorbar": {
             "outlinewidth": 0,
             "ticks": ""
            }
           }
          ],
          "scatter": [
           {
            "fillpattern": {
             "fillmode": "overlay",
             "size": 10,
             "solidity": 0.2
            },
            "type": "scatter"
           }
          ],
          "parcoords": [
           {
            "type": "parcoords",
            "line": {
             "colorbar": {
              "outlinewidth": 0,
              "ticks": ""
             }
            }
           }
          ],
          "scatterpolargl": [
           {
            "type": "scatterpolargl",
            "marker": {
             "colorbar": {
              "outlinewidth": 0,
              "ticks": ""
             }
            }
           }
          ],
          "bar": [
           {
            "error_x": {
             "color": "#2a3f5f"
            },
            "error_y": {
             "color": "#2a3f5f"
            },
            "marker": {
             "line": {
              "color": "#E5ECF6",
              "width": 0.5
             },
             "pattern": {
              "fillmode": "overlay",
              "size": 10,
              "solidity": 0.2
             }
            },
            "type": "bar"
           }
          ],
          "scattergeo": [
           {
            "type": "scattergeo",
            "marker": {
             "colorbar": {
              "outlinewidth": 0,
              "ticks": ""
             }
            }
           }
          ],
          "scatterpolar": [
           {
            "type": "scatterpolar",
            "marker": {
             "colorbar": {
              "outlinewidth": 0,
              "ticks": ""
             }
            }
           }
          ],
          "histogram": [
           {
            "marker": {
             "pattern": {
              "fillmode": "overlay",
              "size": 10,
              "solidity": 0.2
             }
            },
            "type": "histogram"
           }
          ],
          "scattergl": [
           {
            "type": "scattergl",
            "marker": {
             "colorbar": {
              "outlinewidth": 0,
              "ticks": ""
             }
            }
           }
          ],
          "scatter3d": [
           {
            "type": "scatter3d",
            "line": {
             "colorbar": {
              "outlinewidth": 0,
              "ticks": ""
             }
            },
            "marker": {
             "colorbar": {
              "outlinewidth": 0,
              "ticks": ""
             }
            }
           }
          ],
          "scattermap": [
           {
            "type": "scattermap",
            "marker": {
             "colorbar": {
              "outlinewidth": 0,
              "ticks": ""
             }
            }
           }
          ],
          "scattermapbox": [
           {
            "type": "scattermapbox",
            "marker": {
             "colorbar": {
              "outlinewidth": 0,
              "ticks": ""
             }
            }
           }
          ],
          "scatterternary": [
           {
            "type": "scatterternary",
            "marker": {
             "colorbar": {
              "outlinewidth": 0,
              "ticks": ""
             }
            }
           }
          ],
          "scattercarpet": [
           {
            "type": "scattercarpet",
            "marker": {
             "colorbar": {
              "outlinewidth": 0,
              "ticks": ""
             }
            }
           }
          ],
          "carpet": [
           {
            "aaxis": {
             "endlinecolor": "#2a3f5f",
             "gridcolor": "white",
             "linecolor": "white",
             "minorgridcolor": "white",
             "startlinecolor": "#2a3f5f"
            },
            "baxis": {
             "endlinecolor": "#2a3f5f",
             "gridcolor": "white",
             "linecolor": "white",
             "minorgridcolor": "white",
             "startlinecolor": "#2a3f5f"
            },
            "type": "carpet"
           }
          ],
          "table": [
           {
            "cells": {
             "fill": {
              "color": "#EBF0F8"
             },
             "line": {
              "color": "white"
             }
            },
            "header": {
             "fill": {
              "color": "#C8D4E3"
             },
             "line": {
              "color": "white"
             }
            },
            "type": "table"
           }
          ],
          "barpolar": [
           {
            "marker": {
             "line": {
              "color": "#E5ECF6",
              "width": 0.5
             },
             "pattern": {
              "fillmode": "overlay",
              "size": 10,
              "solidity": 0.2
             }
            },
            "type": "barpolar"
           }
          ],
          "pie": [
           {
            "automargin": true,
            "type": "pie"
           }
          ]
         },
         "layout": {
          "autotypenumbers": "strict",
          "colorway": [
           "#636efa",
           "#EF553B",
           "#00cc96",
           "#ab63fa",
           "#FFA15A",
           "#19d3f3",
           "#FF6692",
           "#B6E880",
           "#FF97FF",
           "#FECB52"
          ],
          "font": {
           "color": "#2a3f5f"
          },
          "hovermode": "closest",
          "hoverlabel": {
           "align": "left"
          },
          "paper_bgcolor": "white",
          "plot_bgcolor": "#E5ECF6",
          "polar": {
           "bgcolor": "#E5ECF6",
           "angularaxis": {
            "gridcolor": "white",
            "linecolor": "white",
            "ticks": ""
           },
           "radialaxis": {
            "gridcolor": "white",
            "linecolor": "white",
            "ticks": ""
           }
          },
          "ternary": {
           "bgcolor": "#E5ECF6",
           "aaxis": {
            "gridcolor": "white",
            "linecolor": "white",
            "ticks": ""
           },
           "baxis": {
            "gridcolor": "white",
            "linecolor": "white",
            "ticks": ""
           },
           "caxis": {
            "gridcolor": "white",
            "linecolor": "white",
            "ticks": ""
           }
          },
          "coloraxis": {
           "colorbar": {
            "outlinewidth": 0,
            "ticks": ""
           }
          },
          "colorscale": {
           "sequential": [
            [
             0.0,
             "#0d0887"
            ],
            [
             0.1111111111111111,
             "#46039f"
            ],
            [
             0.2222222222222222,
             "#7201a8"
            ],
            [
             0.3333333333333333,
             "#9c179e"
            ],
            [
             0.4444444444444444,
             "#bd3786"
            ],
            [
             0.5555555555555556,
             "#d8576b"
            ],
            [
             0.6666666666666666,
             "#ed7953"
            ],
            [
             0.7777777777777778,
             "#fb9f3a"
            ],
            [
             0.8888888888888888,
             "#fdca26"
            ],
            [
             1.0,
             "#f0f921"
            ]
           ],
           "sequentialminus": [
            [
             0.0,
             "#0d0887"
            ],
            [
             0.1111111111111111,
             "#46039f"
            ],
            [
             0.2222222222222222,
             "#7201a8"
            ],
            [
             0.3333333333333333,
             "#9c179e"
            ],
            [
             0.4444444444444444,
             "#bd3786"
            ],
            [
             0.5555555555555556,
             "#d8576b"
            ],
            [
             0.6666666666666666,
             "#ed7953"
            ],
            [
             0.7777777777777778,
             "#fb9f3a"
            ],
            [
             0.8888888888888888,
             "#fdca26"
            ],
            [
             1.0,
             "#f0f921"
            ]
           ],
           "diverging": [
            [
             0,
             "#8e0152"
            ],
            [
             0.1,
             "#c51b7d"
            ],
            [
             0.2,
             "#de77ae"
            ],
            [
             0.3,
             "#f1b6da"
            ],
            [
             0.4,
             "#fde0ef"
            ],
            [
             0.5,
             "#f7f7f7"
            ],
            [
             0.6,
             "#e6f5d0"
            ],
            [
             0.7,
             "#b8e186"
            ],
            [
             0.8,
             "#7fbc41"
            ],
            [
             0.9,
             "#4d9221"
            ],
            [
             1,
             "#276419"
            ]
           ]
          },
          "xaxis": {
           "gridcolor": "white",
           "linecolor": "white",
           "ticks": "",
           "title": {
            "standoff": 15
           },
           "zerolinecolor": "white",
           "automargin": true,
           "zerolinewidth": 2
          },
          "yaxis": {
           "gridcolor": "white",
           "linecolor": "white",
           "ticks": "",
           "title": {
            "standoff": 15
           },
           "zerolinecolor": "white",
           "automargin": true,
           "zerolinewidth": 2
          },
          "scene": {
           "xaxis": {
            "backgroundcolor": "#E5ECF6",
            "gridcolor": "white",
            "linecolor": "white",
            "showbackground": true,
            "ticks": "",
            "zerolinecolor": "white",
            "gridwidth": 2
           },
           "yaxis": {
            "backgroundcolor": "#E5ECF6",
            "gridcolor": "white",
            "linecolor": "white",
            "showbackground": true,
            "ticks": "",
            "zerolinecolor": "white",
            "gridwidth": 2
           },
           "zaxis": {
            "backgroundcolor": "#E5ECF6",
            "gridcolor": "white",
            "linecolor": "white",
            "showbackground": true,
            "ticks": "",
            "zerolinecolor": "white",
            "gridwidth": 2
           }
          },
          "shapedefaults": {
           "line": {
            "color": "#2a3f5f"
           }
          },
          "annotationdefaults": {
           "arrowcolor": "#2a3f5f",
           "arrowhead": 0,
           "arrowwidth": 1
          },
          "geo": {
           "bgcolor": "white",
           "landcolor": "#E5ECF6",
           "subunitcolor": "white",
           "showland": true,
           "showlakes": true,
           "lakecolor": "white"
          },
          "title": {
           "x": 0.05
          },
          "mapbox": {
           "style": "light"
          }
         }
        },
        "xaxis": {
         "anchor": "y",
         "domain": [
          0.0,
          1.0
         ],
         "title": {
          "text": "Team"
         }
        },
        "yaxis": {
         "anchor": "x",
         "domain": [
          0.0,
          1.0
         ],
         "title": {
          "text": "Goals Scored"
         }
        },
        "coloraxis": {
         "colorbar": {
          "title": {
           "text": "Goals"
          }
         },
         "colorscale": [
          [
           0.0,
           "rgb(247,251,255)"
          ],
          [
           0.125,
           "rgb(222,235,247)"
          ],
          [
           0.25,
           "rgb(198,219,239)"
          ],
          [
           0.375,
           "rgb(158,202,225)"
          ],
          [
           0.5,
           "rgb(107,174,214)"
          ],
          [
           0.625,
           "rgb(66,146,198)"
          ],
          [
           0.75,
           "rgb(33,113,181)"
          ],
          [
           0.875,
           "rgb(8,81,156)"
          ],
          [
           1.0,
           "rgb(8,48,107)"
          ]
         ]
        },
        "legend": {
         "tracegroupgap": 0
        },
        "title": {
         "text": "Teams that have scored the most goals in the Champions League 2025"
        },
        "barmode": "relative"
       },
       "config": {
        "plotlyServerURL": "https://plot.ly"
       }
      }
     },
     "metadata": {},
     "output_type": "display_data"
    }
   ],
   "execution_count": 20
  },
  {
   "metadata": {},
   "cell_type": "markdown",
   "source": "#### VII. Tabelat e numrimeve(Frequency Table)",
   "id": "b4dadd59beff36f4"
  },
  {
   "metadata": {
    "ExecuteTime": {
     "end_time": "2025-06-02T13:00:51.104256Z",
     "start_time": "2025-06-02T13:00:51.092139Z"
    }
   },
   "cell_type": "code",
   "source": [
    "teams_players = ucl[['Team']].value_counts()\n",
    "\n",
    "teams_players"
   ],
   "id": "8665de68b39210b9",
   "outputs": [
    {
     "data": {
      "text/plain": [
       "Team            \n",
       "Inter               13\n",
       "Arsenal FC          12\n",
       "Paris SG            12\n",
       "Barcelona           12\n",
       "BVB Dortmund        11\n",
       "PSV Eindhoven       10\n",
       "Liverpool FC        10\n",
       "Bayern Munich       10\n",
       "Real Madrid         10\n",
       "Atalanta BC          9\n",
       "Benfica              9\n",
       "Atletico Madrid      8\n",
       "Aston Villa          8\n",
       "Bayer Leverkusen     7\n",
       "Monaco               7\n",
       "Manchester City      7\n",
       "Milan                7\n",
       "Lille                6\n",
       "Celtic               6\n",
       "Sporting CP          6\n",
       "Juventus             5\n",
       "Club Brugge          5\n",
       "Bologna              4\n",
       "Feyenoord            4\n",
       "Shakhtar Donetsk     3\n",
       "VfB Stuttgart        2\n",
       "Brest                2\n",
       "Dinamo Zagreb        1\n",
       "Girona               1\n",
       "Leipzig              1\n",
       "Real Madrid          1\n",
       "Sturm Graz           1\n",
       "Name: count, dtype: int64"
      ]
     },
     "execution_count": 21,
     "metadata": {},
     "output_type": "execute_result"
    }
   ],
   "execution_count": 21
  },
  {
   "metadata": {
    "ExecuteTime": {
     "end_time": "2025-06-02T13:00:51.227757Z",
     "start_time": "2025-06-02T13:00:51.219815Z"
    }
   },
   "cell_type": "code",
   "source": [
    "unique_teams_ucl = pd.Series(ucl['Team'].unique(),name='Teams')\n",
    "unique_teams_ucl\n"
   ],
   "id": "7af290e0408054db",
   "outputs": [
    {
     "data": {
      "text/plain": [
       "0                Milan\n",
       "1                Inter\n",
       "2            Barcelona\n",
       "3         Liverpool FC\n",
       "4          Real Madrid\n",
       "5           Arsenal FC\n",
       "6          Club Brugge\n",
       "7              Benfica\n",
       "8               Celtic\n",
       "9      Atletico Madrid\n",
       "10            Paris SG\n",
       "11       PSV Eindhoven\n",
       "12              Brest \n",
       "13              Lille \n",
       "14        Real Madrid \n",
       "15    Bayer Leverkusen\n",
       "16     Manchester City\n",
       "17        BVB Dortmund\n",
       "18           Juventus \n",
       "19         Aston Villa\n",
       "20         Atalanta BC\n",
       "21             Leipzig\n",
       "22          Sturm Graz\n",
       "23              Monaco\n",
       "24       Bayern Munich\n",
       "25         Sporting CP\n",
       "26           Feyenoord\n",
       "27             Bologna\n",
       "28    Shakhtar Donetsk\n",
       "29       VfB Stuttgart\n",
       "30       Dinamo Zagreb\n",
       "31              Girona\n",
       "Name: Teams, dtype: object"
      ]
     },
     "execution_count": 22,
     "metadata": {},
     "output_type": "execute_result"
    }
   ],
   "execution_count": 22
  },
  {
   "metadata": {
    "ExecuteTime": {
     "end_time": "2025-06-02T13:00:51.500388Z",
     "start_time": "2025-06-02T13:00:51.479933Z"
    }
   },
   "cell_type": "code",
   "source": [
    "# Filtrimi i lojtarëve mbi moshen 30\n",
    "players_aged = ucl[(ucl['Age'] > 30) & (ucl['Position'] != 'Goalkeeper')]\n",
    "\n",
    "players_aged"
   ],
   "id": "f1d9410c798a4a71",
   "outputs": [
    {
     "data": {
      "text/plain": [
       "     PlayerID            Player    Position  Age  Nationality  \\\n",
       "2           3       Lewandowski     Forward   36       Poland   \n",
       "4           5          Van Dijk    Defender   33  Netherlands   \n",
       "8           9      Hans Vanaken  Midfielder   32      Belgium   \n",
       "9          10          Otamendi    Defender   37    Argentina   \n",
       "36         37        Calhanoglu  Midfielder   31       Turkey   \n",
       "46         47            Taremi     Forward   32         Iran   \n",
       "47         48         Griezmann     Forward   34       France   \n",
       "62         63          Di Maria     Forward   37    Argentina   \n",
       "66         67    Stefan de Vrij    Defender   33  Netherlands   \n",
       "70         71            Modric  Midfielder   39      Croatia   \n",
       "72         73      Pascal Gross  Midfielder   33      Germany   \n",
       "78         79          Emre Can  Midfielder   31      Germany   \n",
       "89         90    Inigo Martinez    Defender   33        Spain   \n",
       "94         95        Mkhitaryan  Midfielder   36      Armenia   \n",
       "95         96          Gundogan  Midfielder   34       Turkey   \n",
       "104       105         Kolasinac    Defender   31      BosniaH   \n",
       "105       106    Benjamin Andre  Midfielder   34       France   \n",
       "114       115        Zappacosta  Midfielder   32        Italy   \n",
       "130       131             Salah     Forward   32        Egypt   \n",
       "137       138      Luuk de Jong     Forward   34  Netherlands   \n",
       "144       145        Harry Kane     Forward   31      England   \n",
       "149       150  Francesco Acerbi    Defender   37        Italy   \n",
       "151       152      Granit Xhaka  Midfielder   32  Switzerland   \n",
       "152       153         Robertson    Defender   31     Scotland   \n",
       "157       158   Callum McGregor  Midfielder   31     Scotland   \n",
       "169       170            Partey  Midfielder   31        Ghana   \n",
       "173       174     Thomas Muller     Forward   35      Germany   \n",
       "179       180     Lucas Vazquez     Forward   33        Spain   \n",
       "189       190    Marten de Roon    Defender   34  Netherlands   \n",
       "193       194    Thomas Meunier    Defender   33      Belgium   \n",
       "200       201      Ivan Perisic     Forward   36      Croatia   \n",
       "204       205        Kenny Lala    Defender   33       France   \n",
       "206       207           Cabella  Midfielder   35       France   \n",
       "\n",
       "                 Team    Competitions            Phase Phase_Tier  Value10^6  \\\n",
       "2           Barcelona         La Liga     Semi_finals           A       15.0   \n",
       "4        Liverpool FC  Premier League          Round16          C       50.0   \n",
       "8         Club Brugge      Pro League          Round16          C        7.0   \n",
       "9             Benfica   Liga Portugal          Round16          C        1.0   \n",
       "36              Inter         Serie A            Final          S       50.0   \n",
       "46              Inter         Serie A            Final          S        5.0   \n",
       "47    Atletico Madrid         La Liga          Round16          C       22.0   \n",
       "62            Benfica   Liga Portugal          Round16          C        3.0   \n",
       "66              Inter         Serie A            Final          S        7.0   \n",
       "70        Real Madrid         La Liga   Quarter_finals          B        5.0   \n",
       "72       BVB Dortmund      Bundesliga   Quarter_finals          B        7.0   \n",
       "78       BVB Dortmund      Bundesliga   Quarter_finals          B        7.0   \n",
       "89          Barcelona         La Liga      Semi_finals          A        5.0   \n",
       "94              Inter         Serie A            Final          S        4.0   \n",
       "95    Manchester City  Premier League   Knockout_phase          D        7.0   \n",
       "104       Atalanta BC         Serie A   Knockout_phase          D       10.0   \n",
       "105            Lille          Ligue 1          Round16          C        6.0   \n",
       "114       Atalanta BC         Serie A   Knockout_phase          D        7.0   \n",
       "130      Liverpool FC  Premier League          Round16          C       55.0   \n",
       "137     PSV Eindhoven      Eredivisie          Round16          C        3.0   \n",
       "144     Bayern Munich      Bundesliga  Quarter_finals           B       90.0   \n",
       "149             Inter         Serie A            Final          S        3.0   \n",
       "151  Bayer Leverkusen      Bundesliga          Round16          C       17.0   \n",
       "152      Liverpool FC  Premier League          Round16          C       20.0   \n",
       "157            Celtic     Premiership   Knockout_phase          D        6.0   \n",
       "169        Arsenal FC  Premier League      Semi_finals          A       15.0   \n",
       "173     Bayern Munich      Bundesliga   Quarter_finals          B        6.0   \n",
       "179       Real Madrid         La Liga   Quarter_finals          B        3.0   \n",
       "189       Atalanta BC         Serie A   Knockout_phase          D        7.0   \n",
       "193            Lille          Ligue 1          Round16          C        2.0   \n",
       "200     PSV Eindhoven      Eredivisie          Round16          C        1.0   \n",
       "204            Brest         Ligue 1    Knockout_phase          D        2.0   \n",
       "206            Lille          Ligue 1          Round16          C        3.0   \n",
       "\n",
       "     ...  Balls_recovered  Tackles_Won  Tackles_Lost  Saves  Goals_Conceded  \\\n",
       "2    ...               11            4             1      0               0   \n",
       "4    ...               51            3             3      0               0   \n",
       "8    ...               32            4             9      0               0   \n",
       "9    ...               85           17            14      0               0   \n",
       "36   ...               52            8             8      0               0   \n",
       "46   ...               16            7             4      0               0   \n",
       "47   ...               21            5             3      0               0   \n",
       "62   ...               10            3             3      0               0   \n",
       "66   ...               58            4             2      0               0   \n",
       "70   ...               24            5            12      0               0   \n",
       "72   ...               49            3            10      0               0   \n",
       "78   ...               70            4            13      0               0   \n",
       "89   ...               50            4             8      0               0   \n",
       "94   ...               35           11            10      0               0   \n",
       "95   ...               13            2             2      0               0   \n",
       "104  ...               42            4             4      0               0   \n",
       "105  ...               54           12            17      0               0   \n",
       "114  ...               18            1             3      0               0   \n",
       "130  ...                7            1             0      0               0   \n",
       "137  ...               19            2             4      0               0   \n",
       "144  ...               10            2             6      0               0   \n",
       "149  ...               45            5             2      0               0   \n",
       "151  ...               46            4            13      0               0   \n",
       "152  ...               25            4             5      0               0   \n",
       "157  ...               44            5             6      0               0   \n",
       "169  ...               40            8             5      0               0   \n",
       "173  ...                3            2             5      0               0   \n",
       "179  ...               21            5             5      0               0   \n",
       "189  ...               71            9            13      0               0   \n",
       "193  ...               46            3             3      0               0   \n",
       "200  ...               12            2             7      0               0   \n",
       "204  ...               36            1             1      0               0   \n",
       "206  ...               13            3             4      0               0   \n",
       "\n",
       "     Clean_Sheets  MOTM_Awards  Minutes_played  Match_played  DNP  \n",
       "2               0            2             985            13    1  \n",
       "4               0            0             840             9    1  \n",
       "8               0            1            1080            12    0  \n",
       "9               0            0            1080            12    0  \n",
       "36              0            1             835            12    3  \n",
       "46              0            1             715            12    3  \n",
       "47              0            3             732            10    0  \n",
       "62              0            2             547             9    3  \n",
       "66              0            0             688             9    6  \n",
       "70              0            0             647            14    0  \n",
       "72              0            0             918            13    1  \n",
       "78              0            1             940            12    2  \n",
       "89              0            1             958            11    3  \n",
       "94              0            0             856            13    2  \n",
       "95              0            0             524            10    0  \n",
       "104             0            0             639             9    1  \n",
       "105             0            0             810             9    1  \n",
       "114             0            0             699             9    1  \n",
       "130             0            2             808             9    1  \n",
       "137             0            1             905            12    2  \n",
       "144             0            3            1120            13    1  \n",
       "149             0            0             770             9    6  \n",
       "151             0            0             819            10    0  \n",
       "152             0            1             551             8    2  \n",
       "157             0            0             900            10    0  \n",
       "169             0            0             899            12    2  \n",
       "173             0            0             370            12    2  \n",
       "179             0            0             575            10    4  \n",
       "189             0            0             874            10    0  \n",
       "193             0            0             617             9    1  \n",
       "200             0            0             333             4    8  \n",
       "204             0            0             720             8    2  \n",
       "206             0            0             388             7    3  \n",
       "\n",
       "[33 rows x 31 columns]"
      ],
      "text/html": [
       "<div>\n",
       "<style scoped>\n",
       "    .dataframe tbody tr th:only-of-type {\n",
       "        vertical-align: middle;\n",
       "    }\n",
       "\n",
       "    .dataframe tbody tr th {\n",
       "        vertical-align: top;\n",
       "    }\n",
       "\n",
       "    .dataframe thead th {\n",
       "        text-align: right;\n",
       "    }\n",
       "</style>\n",
       "<table border=\"1\" class=\"dataframe\">\n",
       "  <thead>\n",
       "    <tr style=\"text-align: right;\">\n",
       "      <th></th>\n",
       "      <th>PlayerID</th>\n",
       "      <th>Player</th>\n",
       "      <th>Position</th>\n",
       "      <th>Age</th>\n",
       "      <th>Nationality</th>\n",
       "      <th>Team</th>\n",
       "      <th>Competitions</th>\n",
       "      <th>Phase</th>\n",
       "      <th>Phase_Tier</th>\n",
       "      <th>Value10^6</th>\n",
       "      <th>...</th>\n",
       "      <th>Balls_recovered</th>\n",
       "      <th>Tackles_Won</th>\n",
       "      <th>Tackles_Lost</th>\n",
       "      <th>Saves</th>\n",
       "      <th>Goals_Conceded</th>\n",
       "      <th>Clean_Sheets</th>\n",
       "      <th>MOTM_Awards</th>\n",
       "      <th>Minutes_played</th>\n",
       "      <th>Match_played</th>\n",
       "      <th>DNP</th>\n",
       "    </tr>\n",
       "  </thead>\n",
       "  <tbody>\n",
       "    <tr>\n",
       "      <th>2</th>\n",
       "      <td>3</td>\n",
       "      <td>Lewandowski</td>\n",
       "      <td>Forward</td>\n",
       "      <td>36</td>\n",
       "      <td>Poland</td>\n",
       "      <td>Barcelona</td>\n",
       "      <td>La Liga</td>\n",
       "      <td>Semi_finals</td>\n",
       "      <td>A</td>\n",
       "      <td>15.0</td>\n",
       "      <td>...</td>\n",
       "      <td>11</td>\n",
       "      <td>4</td>\n",
       "      <td>1</td>\n",
       "      <td>0</td>\n",
       "      <td>0</td>\n",
       "      <td>0</td>\n",
       "      <td>2</td>\n",
       "      <td>985</td>\n",
       "      <td>13</td>\n",
       "      <td>1</td>\n",
       "    </tr>\n",
       "    <tr>\n",
       "      <th>4</th>\n",
       "      <td>5</td>\n",
       "      <td>Van Dijk</td>\n",
       "      <td>Defender</td>\n",
       "      <td>33</td>\n",
       "      <td>Netherlands</td>\n",
       "      <td>Liverpool FC</td>\n",
       "      <td>Premier League</td>\n",
       "      <td>Round16</td>\n",
       "      <td>C</td>\n",
       "      <td>50.0</td>\n",
       "      <td>...</td>\n",
       "      <td>51</td>\n",
       "      <td>3</td>\n",
       "      <td>3</td>\n",
       "      <td>0</td>\n",
       "      <td>0</td>\n",
       "      <td>0</td>\n",
       "      <td>0</td>\n",
       "      <td>840</td>\n",
       "      <td>9</td>\n",
       "      <td>1</td>\n",
       "    </tr>\n",
       "    <tr>\n",
       "      <th>8</th>\n",
       "      <td>9</td>\n",
       "      <td>Hans Vanaken</td>\n",
       "      <td>Midfielder</td>\n",
       "      <td>32</td>\n",
       "      <td>Belgium</td>\n",
       "      <td>Club Brugge</td>\n",
       "      <td>Pro League</td>\n",
       "      <td>Round16</td>\n",
       "      <td>C</td>\n",
       "      <td>7.0</td>\n",
       "      <td>...</td>\n",
       "      <td>32</td>\n",
       "      <td>4</td>\n",
       "      <td>9</td>\n",
       "      <td>0</td>\n",
       "      <td>0</td>\n",
       "      <td>0</td>\n",
       "      <td>1</td>\n",
       "      <td>1080</td>\n",
       "      <td>12</td>\n",
       "      <td>0</td>\n",
       "    </tr>\n",
       "    <tr>\n",
       "      <th>9</th>\n",
       "      <td>10</td>\n",
       "      <td>Otamendi</td>\n",
       "      <td>Defender</td>\n",
       "      <td>37</td>\n",
       "      <td>Argentina</td>\n",
       "      <td>Benfica</td>\n",
       "      <td>Liga Portugal</td>\n",
       "      <td>Round16</td>\n",
       "      <td>C</td>\n",
       "      <td>1.0</td>\n",
       "      <td>...</td>\n",
       "      <td>85</td>\n",
       "      <td>17</td>\n",
       "      <td>14</td>\n",
       "      <td>0</td>\n",
       "      <td>0</td>\n",
       "      <td>0</td>\n",
       "      <td>0</td>\n",
       "      <td>1080</td>\n",
       "      <td>12</td>\n",
       "      <td>0</td>\n",
       "    </tr>\n",
       "    <tr>\n",
       "      <th>36</th>\n",
       "      <td>37</td>\n",
       "      <td>Calhanoglu</td>\n",
       "      <td>Midfielder</td>\n",
       "      <td>31</td>\n",
       "      <td>Turkey</td>\n",
       "      <td>Inter</td>\n",
       "      <td>Serie A</td>\n",
       "      <td>Final</td>\n",
       "      <td>S</td>\n",
       "      <td>50.0</td>\n",
       "      <td>...</td>\n",
       "      <td>52</td>\n",
       "      <td>8</td>\n",
       "      <td>8</td>\n",
       "      <td>0</td>\n",
       "      <td>0</td>\n",
       "      <td>0</td>\n",
       "      <td>1</td>\n",
       "      <td>835</td>\n",
       "      <td>12</td>\n",
       "      <td>3</td>\n",
       "    </tr>\n",
       "    <tr>\n",
       "      <th>46</th>\n",
       "      <td>47</td>\n",
       "      <td>Taremi</td>\n",
       "      <td>Forward</td>\n",
       "      <td>32</td>\n",
       "      <td>Iran</td>\n",
       "      <td>Inter</td>\n",
       "      <td>Serie A</td>\n",
       "      <td>Final</td>\n",
       "      <td>S</td>\n",
       "      <td>5.0</td>\n",
       "      <td>...</td>\n",
       "      <td>16</td>\n",
       "      <td>7</td>\n",
       "      <td>4</td>\n",
       "      <td>0</td>\n",
       "      <td>0</td>\n",
       "      <td>0</td>\n",
       "      <td>1</td>\n",
       "      <td>715</td>\n",
       "      <td>12</td>\n",
       "      <td>3</td>\n",
       "    </tr>\n",
       "    <tr>\n",
       "      <th>47</th>\n",
       "      <td>48</td>\n",
       "      <td>Griezmann</td>\n",
       "      <td>Forward</td>\n",
       "      <td>34</td>\n",
       "      <td>France</td>\n",
       "      <td>Atletico Madrid</td>\n",
       "      <td>La Liga</td>\n",
       "      <td>Round16</td>\n",
       "      <td>C</td>\n",
       "      <td>22.0</td>\n",
       "      <td>...</td>\n",
       "      <td>21</td>\n",
       "      <td>5</td>\n",
       "      <td>3</td>\n",
       "      <td>0</td>\n",
       "      <td>0</td>\n",
       "      <td>0</td>\n",
       "      <td>3</td>\n",
       "      <td>732</td>\n",
       "      <td>10</td>\n",
       "      <td>0</td>\n",
       "    </tr>\n",
       "    <tr>\n",
       "      <th>62</th>\n",
       "      <td>63</td>\n",
       "      <td>Di Maria</td>\n",
       "      <td>Forward</td>\n",
       "      <td>37</td>\n",
       "      <td>Argentina</td>\n",
       "      <td>Benfica</td>\n",
       "      <td>Liga Portugal</td>\n",
       "      <td>Round16</td>\n",
       "      <td>C</td>\n",
       "      <td>3.0</td>\n",
       "      <td>...</td>\n",
       "      <td>10</td>\n",
       "      <td>3</td>\n",
       "      <td>3</td>\n",
       "      <td>0</td>\n",
       "      <td>0</td>\n",
       "      <td>0</td>\n",
       "      <td>2</td>\n",
       "      <td>547</td>\n",
       "      <td>9</td>\n",
       "      <td>3</td>\n",
       "    </tr>\n",
       "    <tr>\n",
       "      <th>66</th>\n",
       "      <td>67</td>\n",
       "      <td>Stefan de Vrij</td>\n",
       "      <td>Defender</td>\n",
       "      <td>33</td>\n",
       "      <td>Netherlands</td>\n",
       "      <td>Inter</td>\n",
       "      <td>Serie A</td>\n",
       "      <td>Final</td>\n",
       "      <td>S</td>\n",
       "      <td>7.0</td>\n",
       "      <td>...</td>\n",
       "      <td>58</td>\n",
       "      <td>4</td>\n",
       "      <td>2</td>\n",
       "      <td>0</td>\n",
       "      <td>0</td>\n",
       "      <td>0</td>\n",
       "      <td>0</td>\n",
       "      <td>688</td>\n",
       "      <td>9</td>\n",
       "      <td>6</td>\n",
       "    </tr>\n",
       "    <tr>\n",
       "      <th>70</th>\n",
       "      <td>71</td>\n",
       "      <td>Modric</td>\n",
       "      <td>Midfielder</td>\n",
       "      <td>39</td>\n",
       "      <td>Croatia</td>\n",
       "      <td>Real Madrid</td>\n",
       "      <td>La Liga</td>\n",
       "      <td>Quarter_finals</td>\n",
       "      <td>B</td>\n",
       "      <td>5.0</td>\n",
       "      <td>...</td>\n",
       "      <td>24</td>\n",
       "      <td>5</td>\n",
       "      <td>12</td>\n",
       "      <td>0</td>\n",
       "      <td>0</td>\n",
       "      <td>0</td>\n",
       "      <td>0</td>\n",
       "      <td>647</td>\n",
       "      <td>14</td>\n",
       "      <td>0</td>\n",
       "    </tr>\n",
       "    <tr>\n",
       "      <th>72</th>\n",
       "      <td>73</td>\n",
       "      <td>Pascal Gross</td>\n",
       "      <td>Midfielder</td>\n",
       "      <td>33</td>\n",
       "      <td>Germany</td>\n",
       "      <td>BVB Dortmund</td>\n",
       "      <td>Bundesliga</td>\n",
       "      <td>Quarter_finals</td>\n",
       "      <td>B</td>\n",
       "      <td>7.0</td>\n",
       "      <td>...</td>\n",
       "      <td>49</td>\n",
       "      <td>3</td>\n",
       "      <td>10</td>\n",
       "      <td>0</td>\n",
       "      <td>0</td>\n",
       "      <td>0</td>\n",
       "      <td>0</td>\n",
       "      <td>918</td>\n",
       "      <td>13</td>\n",
       "      <td>1</td>\n",
       "    </tr>\n",
       "    <tr>\n",
       "      <th>78</th>\n",
       "      <td>79</td>\n",
       "      <td>Emre Can</td>\n",
       "      <td>Midfielder</td>\n",
       "      <td>31</td>\n",
       "      <td>Germany</td>\n",
       "      <td>BVB Dortmund</td>\n",
       "      <td>Bundesliga</td>\n",
       "      <td>Quarter_finals</td>\n",
       "      <td>B</td>\n",
       "      <td>7.0</td>\n",
       "      <td>...</td>\n",
       "      <td>70</td>\n",
       "      <td>4</td>\n",
       "      <td>13</td>\n",
       "      <td>0</td>\n",
       "      <td>0</td>\n",
       "      <td>0</td>\n",
       "      <td>1</td>\n",
       "      <td>940</td>\n",
       "      <td>12</td>\n",
       "      <td>2</td>\n",
       "    </tr>\n",
       "    <tr>\n",
       "      <th>89</th>\n",
       "      <td>90</td>\n",
       "      <td>Inigo Martinez</td>\n",
       "      <td>Defender</td>\n",
       "      <td>33</td>\n",
       "      <td>Spain</td>\n",
       "      <td>Barcelona</td>\n",
       "      <td>La Liga</td>\n",
       "      <td>Semi_finals</td>\n",
       "      <td>A</td>\n",
       "      <td>5.0</td>\n",
       "      <td>...</td>\n",
       "      <td>50</td>\n",
       "      <td>4</td>\n",
       "      <td>8</td>\n",
       "      <td>0</td>\n",
       "      <td>0</td>\n",
       "      <td>0</td>\n",
       "      <td>1</td>\n",
       "      <td>958</td>\n",
       "      <td>11</td>\n",
       "      <td>3</td>\n",
       "    </tr>\n",
       "    <tr>\n",
       "      <th>94</th>\n",
       "      <td>95</td>\n",
       "      <td>Mkhitaryan</td>\n",
       "      <td>Midfielder</td>\n",
       "      <td>36</td>\n",
       "      <td>Armenia</td>\n",
       "      <td>Inter</td>\n",
       "      <td>Serie A</td>\n",
       "      <td>Final</td>\n",
       "      <td>S</td>\n",
       "      <td>4.0</td>\n",
       "      <td>...</td>\n",
       "      <td>35</td>\n",
       "      <td>11</td>\n",
       "      <td>10</td>\n",
       "      <td>0</td>\n",
       "      <td>0</td>\n",
       "      <td>0</td>\n",
       "      <td>0</td>\n",
       "      <td>856</td>\n",
       "      <td>13</td>\n",
       "      <td>2</td>\n",
       "    </tr>\n",
       "    <tr>\n",
       "      <th>95</th>\n",
       "      <td>96</td>\n",
       "      <td>Gundogan</td>\n",
       "      <td>Midfielder</td>\n",
       "      <td>34</td>\n",
       "      <td>Turkey</td>\n",
       "      <td>Manchester City</td>\n",
       "      <td>Premier League</td>\n",
       "      <td>Knockout_phase</td>\n",
       "      <td>D</td>\n",
       "      <td>7.0</td>\n",
       "      <td>...</td>\n",
       "      <td>13</td>\n",
       "      <td>2</td>\n",
       "      <td>2</td>\n",
       "      <td>0</td>\n",
       "      <td>0</td>\n",
       "      <td>0</td>\n",
       "      <td>0</td>\n",
       "      <td>524</td>\n",
       "      <td>10</td>\n",
       "      <td>0</td>\n",
       "    </tr>\n",
       "    <tr>\n",
       "      <th>104</th>\n",
       "      <td>105</td>\n",
       "      <td>Kolasinac</td>\n",
       "      <td>Defender</td>\n",
       "      <td>31</td>\n",
       "      <td>BosniaH</td>\n",
       "      <td>Atalanta BC</td>\n",
       "      <td>Serie A</td>\n",
       "      <td>Knockout_phase</td>\n",
       "      <td>D</td>\n",
       "      <td>10.0</td>\n",
       "      <td>...</td>\n",
       "      <td>42</td>\n",
       "      <td>4</td>\n",
       "      <td>4</td>\n",
       "      <td>0</td>\n",
       "      <td>0</td>\n",
       "      <td>0</td>\n",
       "      <td>0</td>\n",
       "      <td>639</td>\n",
       "      <td>9</td>\n",
       "      <td>1</td>\n",
       "    </tr>\n",
       "    <tr>\n",
       "      <th>105</th>\n",
       "      <td>106</td>\n",
       "      <td>Benjamin Andre</td>\n",
       "      <td>Midfielder</td>\n",
       "      <td>34</td>\n",
       "      <td>France</td>\n",
       "      <td>Lille</td>\n",
       "      <td>Ligue 1</td>\n",
       "      <td>Round16</td>\n",
       "      <td>C</td>\n",
       "      <td>6.0</td>\n",
       "      <td>...</td>\n",
       "      <td>54</td>\n",
       "      <td>12</td>\n",
       "      <td>17</td>\n",
       "      <td>0</td>\n",
       "      <td>0</td>\n",
       "      <td>0</td>\n",
       "      <td>0</td>\n",
       "      <td>810</td>\n",
       "      <td>9</td>\n",
       "      <td>1</td>\n",
       "    </tr>\n",
       "    <tr>\n",
       "      <th>114</th>\n",
       "      <td>115</td>\n",
       "      <td>Zappacosta</td>\n",
       "      <td>Midfielder</td>\n",
       "      <td>32</td>\n",
       "      <td>Italy</td>\n",
       "      <td>Atalanta BC</td>\n",
       "      <td>Serie A</td>\n",
       "      <td>Knockout_phase</td>\n",
       "      <td>D</td>\n",
       "      <td>7.0</td>\n",
       "      <td>...</td>\n",
       "      <td>18</td>\n",
       "      <td>1</td>\n",
       "      <td>3</td>\n",
       "      <td>0</td>\n",
       "      <td>0</td>\n",
       "      <td>0</td>\n",
       "      <td>0</td>\n",
       "      <td>699</td>\n",
       "      <td>9</td>\n",
       "      <td>1</td>\n",
       "    </tr>\n",
       "    <tr>\n",
       "      <th>130</th>\n",
       "      <td>131</td>\n",
       "      <td>Salah</td>\n",
       "      <td>Forward</td>\n",
       "      <td>32</td>\n",
       "      <td>Egypt</td>\n",
       "      <td>Liverpool FC</td>\n",
       "      <td>Premier League</td>\n",
       "      <td>Round16</td>\n",
       "      <td>C</td>\n",
       "      <td>55.0</td>\n",
       "      <td>...</td>\n",
       "      <td>7</td>\n",
       "      <td>1</td>\n",
       "      <td>0</td>\n",
       "      <td>0</td>\n",
       "      <td>0</td>\n",
       "      <td>0</td>\n",
       "      <td>2</td>\n",
       "      <td>808</td>\n",
       "      <td>9</td>\n",
       "      <td>1</td>\n",
       "    </tr>\n",
       "    <tr>\n",
       "      <th>137</th>\n",
       "      <td>138</td>\n",
       "      <td>Luuk de Jong</td>\n",
       "      <td>Forward</td>\n",
       "      <td>34</td>\n",
       "      <td>Netherlands</td>\n",
       "      <td>PSV Eindhoven</td>\n",
       "      <td>Eredivisie</td>\n",
       "      <td>Round16</td>\n",
       "      <td>C</td>\n",
       "      <td>3.0</td>\n",
       "      <td>...</td>\n",
       "      <td>19</td>\n",
       "      <td>2</td>\n",
       "      <td>4</td>\n",
       "      <td>0</td>\n",
       "      <td>0</td>\n",
       "      <td>0</td>\n",
       "      <td>1</td>\n",
       "      <td>905</td>\n",
       "      <td>12</td>\n",
       "      <td>2</td>\n",
       "    </tr>\n",
       "    <tr>\n",
       "      <th>144</th>\n",
       "      <td>145</td>\n",
       "      <td>Harry Kane</td>\n",
       "      <td>Forward</td>\n",
       "      <td>31</td>\n",
       "      <td>England</td>\n",
       "      <td>Bayern Munich</td>\n",
       "      <td>Bundesliga</td>\n",
       "      <td>Quarter_finals</td>\n",
       "      <td>B</td>\n",
       "      <td>90.0</td>\n",
       "      <td>...</td>\n",
       "      <td>10</td>\n",
       "      <td>2</td>\n",
       "      <td>6</td>\n",
       "      <td>0</td>\n",
       "      <td>0</td>\n",
       "      <td>0</td>\n",
       "      <td>3</td>\n",
       "      <td>1120</td>\n",
       "      <td>13</td>\n",
       "      <td>1</td>\n",
       "    </tr>\n",
       "    <tr>\n",
       "      <th>149</th>\n",
       "      <td>150</td>\n",
       "      <td>Francesco Acerbi</td>\n",
       "      <td>Defender</td>\n",
       "      <td>37</td>\n",
       "      <td>Italy</td>\n",
       "      <td>Inter</td>\n",
       "      <td>Serie A</td>\n",
       "      <td>Final</td>\n",
       "      <td>S</td>\n",
       "      <td>3.0</td>\n",
       "      <td>...</td>\n",
       "      <td>45</td>\n",
       "      <td>5</td>\n",
       "      <td>2</td>\n",
       "      <td>0</td>\n",
       "      <td>0</td>\n",
       "      <td>0</td>\n",
       "      <td>0</td>\n",
       "      <td>770</td>\n",
       "      <td>9</td>\n",
       "      <td>6</td>\n",
       "    </tr>\n",
       "    <tr>\n",
       "      <th>151</th>\n",
       "      <td>152</td>\n",
       "      <td>Granit Xhaka</td>\n",
       "      <td>Midfielder</td>\n",
       "      <td>32</td>\n",
       "      <td>Switzerland</td>\n",
       "      <td>Bayer Leverkusen</td>\n",
       "      <td>Bundesliga</td>\n",
       "      <td>Round16</td>\n",
       "      <td>C</td>\n",
       "      <td>17.0</td>\n",
       "      <td>...</td>\n",
       "      <td>46</td>\n",
       "      <td>4</td>\n",
       "      <td>13</td>\n",
       "      <td>0</td>\n",
       "      <td>0</td>\n",
       "      <td>0</td>\n",
       "      <td>0</td>\n",
       "      <td>819</td>\n",
       "      <td>10</td>\n",
       "      <td>0</td>\n",
       "    </tr>\n",
       "    <tr>\n",
       "      <th>152</th>\n",
       "      <td>153</td>\n",
       "      <td>Robertson</td>\n",
       "      <td>Defender</td>\n",
       "      <td>31</td>\n",
       "      <td>Scotland</td>\n",
       "      <td>Liverpool FC</td>\n",
       "      <td>Premier League</td>\n",
       "      <td>Round16</td>\n",
       "      <td>C</td>\n",
       "      <td>20.0</td>\n",
       "      <td>...</td>\n",
       "      <td>25</td>\n",
       "      <td>4</td>\n",
       "      <td>5</td>\n",
       "      <td>0</td>\n",
       "      <td>0</td>\n",
       "      <td>0</td>\n",
       "      <td>1</td>\n",
       "      <td>551</td>\n",
       "      <td>8</td>\n",
       "      <td>2</td>\n",
       "    </tr>\n",
       "    <tr>\n",
       "      <th>157</th>\n",
       "      <td>158</td>\n",
       "      <td>Callum McGregor</td>\n",
       "      <td>Midfielder</td>\n",
       "      <td>31</td>\n",
       "      <td>Scotland</td>\n",
       "      <td>Celtic</td>\n",
       "      <td>Premiership</td>\n",
       "      <td>Knockout_phase</td>\n",
       "      <td>D</td>\n",
       "      <td>6.0</td>\n",
       "      <td>...</td>\n",
       "      <td>44</td>\n",
       "      <td>5</td>\n",
       "      <td>6</td>\n",
       "      <td>0</td>\n",
       "      <td>0</td>\n",
       "      <td>0</td>\n",
       "      <td>0</td>\n",
       "      <td>900</td>\n",
       "      <td>10</td>\n",
       "      <td>0</td>\n",
       "    </tr>\n",
       "    <tr>\n",
       "      <th>169</th>\n",
       "      <td>170</td>\n",
       "      <td>Partey</td>\n",
       "      <td>Midfielder</td>\n",
       "      <td>31</td>\n",
       "      <td>Ghana</td>\n",
       "      <td>Arsenal FC</td>\n",
       "      <td>Premier League</td>\n",
       "      <td>Semi_finals</td>\n",
       "      <td>A</td>\n",
       "      <td>15.0</td>\n",
       "      <td>...</td>\n",
       "      <td>40</td>\n",
       "      <td>8</td>\n",
       "      <td>5</td>\n",
       "      <td>0</td>\n",
       "      <td>0</td>\n",
       "      <td>0</td>\n",
       "      <td>0</td>\n",
       "      <td>899</td>\n",
       "      <td>12</td>\n",
       "      <td>2</td>\n",
       "    </tr>\n",
       "    <tr>\n",
       "      <th>173</th>\n",
       "      <td>174</td>\n",
       "      <td>Thomas Muller</td>\n",
       "      <td>Forward</td>\n",
       "      <td>35</td>\n",
       "      <td>Germany</td>\n",
       "      <td>Bayern Munich</td>\n",
       "      <td>Bundesliga</td>\n",
       "      <td>Quarter_finals</td>\n",
       "      <td>B</td>\n",
       "      <td>6.0</td>\n",
       "      <td>...</td>\n",
       "      <td>3</td>\n",
       "      <td>2</td>\n",
       "      <td>5</td>\n",
       "      <td>0</td>\n",
       "      <td>0</td>\n",
       "      <td>0</td>\n",
       "      <td>0</td>\n",
       "      <td>370</td>\n",
       "      <td>12</td>\n",
       "      <td>2</td>\n",
       "    </tr>\n",
       "    <tr>\n",
       "      <th>179</th>\n",
       "      <td>180</td>\n",
       "      <td>Lucas Vazquez</td>\n",
       "      <td>Forward</td>\n",
       "      <td>33</td>\n",
       "      <td>Spain</td>\n",
       "      <td>Real Madrid</td>\n",
       "      <td>La Liga</td>\n",
       "      <td>Quarter_finals</td>\n",
       "      <td>B</td>\n",
       "      <td>3.0</td>\n",
       "      <td>...</td>\n",
       "      <td>21</td>\n",
       "      <td>5</td>\n",
       "      <td>5</td>\n",
       "      <td>0</td>\n",
       "      <td>0</td>\n",
       "      <td>0</td>\n",
       "      <td>0</td>\n",
       "      <td>575</td>\n",
       "      <td>10</td>\n",
       "      <td>4</td>\n",
       "    </tr>\n",
       "    <tr>\n",
       "      <th>189</th>\n",
       "      <td>190</td>\n",
       "      <td>Marten de Roon</td>\n",
       "      <td>Defender</td>\n",
       "      <td>34</td>\n",
       "      <td>Netherlands</td>\n",
       "      <td>Atalanta BC</td>\n",
       "      <td>Serie A</td>\n",
       "      <td>Knockout_phase</td>\n",
       "      <td>D</td>\n",
       "      <td>7.0</td>\n",
       "      <td>...</td>\n",
       "      <td>71</td>\n",
       "      <td>9</td>\n",
       "      <td>13</td>\n",
       "      <td>0</td>\n",
       "      <td>0</td>\n",
       "      <td>0</td>\n",
       "      <td>0</td>\n",
       "      <td>874</td>\n",
       "      <td>10</td>\n",
       "      <td>0</td>\n",
       "    </tr>\n",
       "    <tr>\n",
       "      <th>193</th>\n",
       "      <td>194</td>\n",
       "      <td>Thomas Meunier</td>\n",
       "      <td>Defender</td>\n",
       "      <td>33</td>\n",
       "      <td>Belgium</td>\n",
       "      <td>Lille</td>\n",
       "      <td>Ligue 1</td>\n",
       "      <td>Round16</td>\n",
       "      <td>C</td>\n",
       "      <td>2.0</td>\n",
       "      <td>...</td>\n",
       "      <td>46</td>\n",
       "      <td>3</td>\n",
       "      <td>3</td>\n",
       "      <td>0</td>\n",
       "      <td>0</td>\n",
       "      <td>0</td>\n",
       "      <td>0</td>\n",
       "      <td>617</td>\n",
       "      <td>9</td>\n",
       "      <td>1</td>\n",
       "    </tr>\n",
       "    <tr>\n",
       "      <th>200</th>\n",
       "      <td>201</td>\n",
       "      <td>Ivan Perisic</td>\n",
       "      <td>Forward</td>\n",
       "      <td>36</td>\n",
       "      <td>Croatia</td>\n",
       "      <td>PSV Eindhoven</td>\n",
       "      <td>Eredivisie</td>\n",
       "      <td>Round16</td>\n",
       "      <td>C</td>\n",
       "      <td>1.0</td>\n",
       "      <td>...</td>\n",
       "      <td>12</td>\n",
       "      <td>2</td>\n",
       "      <td>7</td>\n",
       "      <td>0</td>\n",
       "      <td>0</td>\n",
       "      <td>0</td>\n",
       "      <td>0</td>\n",
       "      <td>333</td>\n",
       "      <td>4</td>\n",
       "      <td>8</td>\n",
       "    </tr>\n",
       "    <tr>\n",
       "      <th>204</th>\n",
       "      <td>205</td>\n",
       "      <td>Kenny Lala</td>\n",
       "      <td>Defender</td>\n",
       "      <td>33</td>\n",
       "      <td>France</td>\n",
       "      <td>Brest</td>\n",
       "      <td>Ligue 1</td>\n",
       "      <td>Knockout_phase</td>\n",
       "      <td>D</td>\n",
       "      <td>2.0</td>\n",
       "      <td>...</td>\n",
       "      <td>36</td>\n",
       "      <td>1</td>\n",
       "      <td>1</td>\n",
       "      <td>0</td>\n",
       "      <td>0</td>\n",
       "      <td>0</td>\n",
       "      <td>0</td>\n",
       "      <td>720</td>\n",
       "      <td>8</td>\n",
       "      <td>2</td>\n",
       "    </tr>\n",
       "    <tr>\n",
       "      <th>206</th>\n",
       "      <td>207</td>\n",
       "      <td>Cabella</td>\n",
       "      <td>Midfielder</td>\n",
       "      <td>35</td>\n",
       "      <td>France</td>\n",
       "      <td>Lille</td>\n",
       "      <td>Ligue 1</td>\n",
       "      <td>Round16</td>\n",
       "      <td>C</td>\n",
       "      <td>3.0</td>\n",
       "      <td>...</td>\n",
       "      <td>13</td>\n",
       "      <td>3</td>\n",
       "      <td>4</td>\n",
       "      <td>0</td>\n",
       "      <td>0</td>\n",
       "      <td>0</td>\n",
       "      <td>0</td>\n",
       "      <td>388</td>\n",
       "      <td>7</td>\n",
       "      <td>3</td>\n",
       "    </tr>\n",
       "  </tbody>\n",
       "</table>\n",
       "<p>33 rows × 31 columns</p>\n",
       "</div>"
      ]
     },
     "execution_count": 23,
     "metadata": {},
     "output_type": "execute_result"
    }
   ],
   "execution_count": 23
  },
  {
   "metadata": {
    "ExecuteTime": {
     "end_time": "2025-06-02T13:01:06.622142Z",
     "start_time": "2025-06-02T13:01:06.600152Z"
    }
   },
   "cell_type": "code",
   "source": [
    "players_aged_sorted = players_aged[['Player','Age','Team','Position','Goals','Minutes_played','Match_played']].sort_values(by='Match_played', ascending=False)\n",
    "\n",
    "players_aged_sorted.head(20)"
   ],
   "id": "867a416739f5f4cb",
   "outputs": [
    {
     "data": {
      "text/plain": [
       "              Player  Age              Team    Position  Goals  \\\n",
       "70            Modric   39       Real Madrid  Midfielder      0   \n",
       "2        Lewandowski   36         Barcelona     Forward     11   \n",
       "72      Pascal Gross   33      BVB Dortmund  Midfielder      1   \n",
       "94        Mkhitaryan   36             Inter  Midfielder      0   \n",
       "144       Harry Kane   31     Bayern Munich     Forward     11   \n",
       "78          Emre Can   31      BVB Dortmund  Midfielder      2   \n",
       "9           Otamendi   37           Benfica    Defender      1   \n",
       "36        Calhanoglu   31             Inter  Midfielder      4   \n",
       "8       Hans Vanaken   32       Club Brugge  Midfielder      1   \n",
       "169           Partey   31        Arsenal FC  Midfielder      0   \n",
       "173    Thomas Muller   35     Bayern Munich     Forward      3   \n",
       "137     Luuk de Jong   34     PSV Eindhoven     Forward      2   \n",
       "46            Taremi   32             Inter     Forward      1   \n",
       "89    Inigo Martinez   33         Barcelona    Defender      2   \n",
       "95          Gundogan   34   Manchester City  Midfielder      2   \n",
       "47         Griezmann   34   Atletico Madrid     Forward      6   \n",
       "189   Marten de Roon   34       Atalanta BC    Defender      0   \n",
       "157  Callum McGregor   31            Celtic  Midfielder      0   \n",
       "179    Lucas Vazquez   33       Real Madrid     Forward      1   \n",
       "151     Granit Xhaka   32  Bayer Leverkusen  Midfielder      0   \n",
       "\n",
       "     Minutes_played  Match_played  \n",
       "70              647            14  \n",
       "2               985            13  \n",
       "72              918            13  \n",
       "94              856            13  \n",
       "144            1120            13  \n",
       "78              940            12  \n",
       "9              1080            12  \n",
       "36              835            12  \n",
       "8              1080            12  \n",
       "169             899            12  \n",
       "173             370            12  \n",
       "137             905            12  \n",
       "46              715            12  \n",
       "89              958            11  \n",
       "95              524            10  \n",
       "47              732            10  \n",
       "189             874            10  \n",
       "157             900            10  \n",
       "179             575            10  \n",
       "151             819            10  "
      ],
      "text/html": [
       "<div>\n",
       "<style scoped>\n",
       "    .dataframe tbody tr th:only-of-type {\n",
       "        vertical-align: middle;\n",
       "    }\n",
       "\n",
       "    .dataframe tbody tr th {\n",
       "        vertical-align: top;\n",
       "    }\n",
       "\n",
       "    .dataframe thead th {\n",
       "        text-align: right;\n",
       "    }\n",
       "</style>\n",
       "<table border=\"1\" class=\"dataframe\">\n",
       "  <thead>\n",
       "    <tr style=\"text-align: right;\">\n",
       "      <th></th>\n",
       "      <th>Player</th>\n",
       "      <th>Age</th>\n",
       "      <th>Team</th>\n",
       "      <th>Position</th>\n",
       "      <th>Goals</th>\n",
       "      <th>Minutes_played</th>\n",
       "      <th>Match_played</th>\n",
       "    </tr>\n",
       "  </thead>\n",
       "  <tbody>\n",
       "    <tr>\n",
       "      <th>70</th>\n",
       "      <td>Modric</td>\n",
       "      <td>39</td>\n",
       "      <td>Real Madrid</td>\n",
       "      <td>Midfielder</td>\n",
       "      <td>0</td>\n",
       "      <td>647</td>\n",
       "      <td>14</td>\n",
       "    </tr>\n",
       "    <tr>\n",
       "      <th>2</th>\n",
       "      <td>Lewandowski</td>\n",
       "      <td>36</td>\n",
       "      <td>Barcelona</td>\n",
       "      <td>Forward</td>\n",
       "      <td>11</td>\n",
       "      <td>985</td>\n",
       "      <td>13</td>\n",
       "    </tr>\n",
       "    <tr>\n",
       "      <th>72</th>\n",
       "      <td>Pascal Gross</td>\n",
       "      <td>33</td>\n",
       "      <td>BVB Dortmund</td>\n",
       "      <td>Midfielder</td>\n",
       "      <td>1</td>\n",
       "      <td>918</td>\n",
       "      <td>13</td>\n",
       "    </tr>\n",
       "    <tr>\n",
       "      <th>94</th>\n",
       "      <td>Mkhitaryan</td>\n",
       "      <td>36</td>\n",
       "      <td>Inter</td>\n",
       "      <td>Midfielder</td>\n",
       "      <td>0</td>\n",
       "      <td>856</td>\n",
       "      <td>13</td>\n",
       "    </tr>\n",
       "    <tr>\n",
       "      <th>144</th>\n",
       "      <td>Harry Kane</td>\n",
       "      <td>31</td>\n",
       "      <td>Bayern Munich</td>\n",
       "      <td>Forward</td>\n",
       "      <td>11</td>\n",
       "      <td>1120</td>\n",
       "      <td>13</td>\n",
       "    </tr>\n",
       "    <tr>\n",
       "      <th>78</th>\n",
       "      <td>Emre Can</td>\n",
       "      <td>31</td>\n",
       "      <td>BVB Dortmund</td>\n",
       "      <td>Midfielder</td>\n",
       "      <td>2</td>\n",
       "      <td>940</td>\n",
       "      <td>12</td>\n",
       "    </tr>\n",
       "    <tr>\n",
       "      <th>9</th>\n",
       "      <td>Otamendi</td>\n",
       "      <td>37</td>\n",
       "      <td>Benfica</td>\n",
       "      <td>Defender</td>\n",
       "      <td>1</td>\n",
       "      <td>1080</td>\n",
       "      <td>12</td>\n",
       "    </tr>\n",
       "    <tr>\n",
       "      <th>36</th>\n",
       "      <td>Calhanoglu</td>\n",
       "      <td>31</td>\n",
       "      <td>Inter</td>\n",
       "      <td>Midfielder</td>\n",
       "      <td>4</td>\n",
       "      <td>835</td>\n",
       "      <td>12</td>\n",
       "    </tr>\n",
       "    <tr>\n",
       "      <th>8</th>\n",
       "      <td>Hans Vanaken</td>\n",
       "      <td>32</td>\n",
       "      <td>Club Brugge</td>\n",
       "      <td>Midfielder</td>\n",
       "      <td>1</td>\n",
       "      <td>1080</td>\n",
       "      <td>12</td>\n",
       "    </tr>\n",
       "    <tr>\n",
       "      <th>169</th>\n",
       "      <td>Partey</td>\n",
       "      <td>31</td>\n",
       "      <td>Arsenal FC</td>\n",
       "      <td>Midfielder</td>\n",
       "      <td>0</td>\n",
       "      <td>899</td>\n",
       "      <td>12</td>\n",
       "    </tr>\n",
       "    <tr>\n",
       "      <th>173</th>\n",
       "      <td>Thomas Muller</td>\n",
       "      <td>35</td>\n",
       "      <td>Bayern Munich</td>\n",
       "      <td>Forward</td>\n",
       "      <td>3</td>\n",
       "      <td>370</td>\n",
       "      <td>12</td>\n",
       "    </tr>\n",
       "    <tr>\n",
       "      <th>137</th>\n",
       "      <td>Luuk de Jong</td>\n",
       "      <td>34</td>\n",
       "      <td>PSV Eindhoven</td>\n",
       "      <td>Forward</td>\n",
       "      <td>2</td>\n",
       "      <td>905</td>\n",
       "      <td>12</td>\n",
       "    </tr>\n",
       "    <tr>\n",
       "      <th>46</th>\n",
       "      <td>Taremi</td>\n",
       "      <td>32</td>\n",
       "      <td>Inter</td>\n",
       "      <td>Forward</td>\n",
       "      <td>1</td>\n",
       "      <td>715</td>\n",
       "      <td>12</td>\n",
       "    </tr>\n",
       "    <tr>\n",
       "      <th>89</th>\n",
       "      <td>Inigo Martinez</td>\n",
       "      <td>33</td>\n",
       "      <td>Barcelona</td>\n",
       "      <td>Defender</td>\n",
       "      <td>2</td>\n",
       "      <td>958</td>\n",
       "      <td>11</td>\n",
       "    </tr>\n",
       "    <tr>\n",
       "      <th>95</th>\n",
       "      <td>Gundogan</td>\n",
       "      <td>34</td>\n",
       "      <td>Manchester City</td>\n",
       "      <td>Midfielder</td>\n",
       "      <td>2</td>\n",
       "      <td>524</td>\n",
       "      <td>10</td>\n",
       "    </tr>\n",
       "    <tr>\n",
       "      <th>47</th>\n",
       "      <td>Griezmann</td>\n",
       "      <td>34</td>\n",
       "      <td>Atletico Madrid</td>\n",
       "      <td>Forward</td>\n",
       "      <td>6</td>\n",
       "      <td>732</td>\n",
       "      <td>10</td>\n",
       "    </tr>\n",
       "    <tr>\n",
       "      <th>189</th>\n",
       "      <td>Marten de Roon</td>\n",
       "      <td>34</td>\n",
       "      <td>Atalanta BC</td>\n",
       "      <td>Defender</td>\n",
       "      <td>0</td>\n",
       "      <td>874</td>\n",
       "      <td>10</td>\n",
       "    </tr>\n",
       "    <tr>\n",
       "      <th>157</th>\n",
       "      <td>Callum McGregor</td>\n",
       "      <td>31</td>\n",
       "      <td>Celtic</td>\n",
       "      <td>Midfielder</td>\n",
       "      <td>0</td>\n",
       "      <td>900</td>\n",
       "      <td>10</td>\n",
       "    </tr>\n",
       "    <tr>\n",
       "      <th>179</th>\n",
       "      <td>Lucas Vazquez</td>\n",
       "      <td>33</td>\n",
       "      <td>Real Madrid</td>\n",
       "      <td>Forward</td>\n",
       "      <td>1</td>\n",
       "      <td>575</td>\n",
       "      <td>10</td>\n",
       "    </tr>\n",
       "    <tr>\n",
       "      <th>151</th>\n",
       "      <td>Granit Xhaka</td>\n",
       "      <td>32</td>\n",
       "      <td>Bayer Leverkusen</td>\n",
       "      <td>Midfielder</td>\n",
       "      <td>0</td>\n",
       "      <td>819</td>\n",
       "      <td>10</td>\n",
       "    </tr>\n",
       "  </tbody>\n",
       "</table>\n",
       "</div>"
      ]
     },
     "execution_count": 24,
     "metadata": {},
     "output_type": "execute_result"
    }
   ],
   "execution_count": 24
  },
  {
   "metadata": {
    "ExecuteTime": {
     "end_time": "2025-06-02T13:01:15.330522Z",
     "start_time": "2025-06-02T13:01:15.260068Z"
    }
   },
   "cell_type": "code",
   "source": [
    "fig = px.bar(\n",
    "    players_aged_sorted.head(20),\n",
    "    x='Player',\n",
    "    y='Match_played',\n",
    "    color='Goals',\n",
    "    hover_data=['Age', 'Team', 'Position'],\n",
    "    title='Players over 30 (not goalkeepers) with the most matches played and their goals',\n",
    "    text='Match_played'\n",
    ")\n",
    "\n",
    "fig.update_layout(xaxis_tickangle=-45)\n",
    "fig.show()"
   ],
   "id": "116fe554e017f133",
   "outputs": [
    {
     "data": {
      "application/vnd.plotly.v1+json": {
       "data": [
        {
         "customdata": [
          [
           39,
           "Real Madrid",
           "Midfielder"
          ],
          [
           36,
           "Barcelona",
           "Forward"
          ],
          [
           33,
           "BVB Dortmund",
           "Midfielder"
          ],
          [
           36,
           "Inter",
           "Midfielder"
          ],
          [
           31,
           "Bayern Munich",
           "Forward"
          ],
          [
           31,
           "BVB Dortmund",
           "Midfielder"
          ],
          [
           37,
           "Benfica",
           "Defender"
          ],
          [
           31,
           "Inter",
           "Midfielder"
          ],
          [
           32,
           "Club Brugge",
           "Midfielder"
          ],
          [
           31,
           "Arsenal FC",
           "Midfielder"
          ],
          [
           35,
           "Bayern Munich",
           "Forward"
          ],
          [
           34,
           "PSV Eindhoven",
           "Forward"
          ],
          [
           32,
           "Inter",
           "Forward"
          ],
          [
           33,
           "Barcelona",
           "Defender"
          ],
          [
           34,
           "Manchester City",
           "Midfielder"
          ],
          [
           34,
           "Atletico Madrid",
           "Forward"
          ],
          [
           34,
           "Atalanta BC",
           "Defender"
          ],
          [
           31,
           "Celtic",
           "Midfielder"
          ],
          [
           33,
           "Real Madrid",
           "Forward"
          ],
          [
           32,
           "Bayer Leverkusen",
           "Midfielder"
          ]
         ],
         "hovertemplate": "Player=%{x}<br>Match_played=%{text}<br>Age=%{customdata[0]}<br>Team=%{customdata[1]}<br>Position=%{customdata[2]}<br>Goals=%{marker.color}<extra></extra>",
         "legendgroup": "",
         "marker": {
          "color": {
           "dtype": "i1",
           "bdata": "AAsBAAsCAQQBAAMCAQICBgAAAQA="
          },
          "coloraxis": "coloraxis",
          "pattern": {
           "shape": ""
          }
         },
         "name": "",
         "orientation": "v",
         "showlegend": false,
         "text": {
          "dtype": "f8",
          "bdata": "AAAAAAAALEAAAAAAAAAqQAAAAAAAACpAAAAAAAAAKkAAAAAAAAAqQAAAAAAAAChAAAAAAAAAKEAAAAAAAAAoQAAAAAAAAChAAAAAAAAAKEAAAAAAAAAoQAAAAAAAAChAAAAAAAAAKEAAAAAAAAAmQAAAAAAAACRAAAAAAAAAJEAAAAAAAAAkQAAAAAAAACRAAAAAAAAAJEAAAAAAAAAkQA=="
         },
         "textposition": "auto",
         "x": [
          "Modric",
          "Lewandowski",
          "Pascal Gross",
          "Mkhitaryan",
          "Harry Kane",
          "Emre Can",
          "Otamendi",
          "Calhanoglu",
          "Hans Vanaken",
          "Partey",
          "Thomas Muller",
          "Luuk de Jong",
          "Taremi",
          "Inigo Martinez",
          "Gundogan",
          "Griezmann",
          "Marten de Roon",
          "Callum McGregor",
          "Lucas Vazquez",
          "Granit Xhaka"
         ],
         "xaxis": "x",
         "y": {
          "dtype": "i1",
          "bdata": "Dg0NDQ0MDAwMDAwMDAsKCgoKCgo="
         },
         "yaxis": "y",
         "type": "bar"
        }
       ],
       "layout": {
        "template": {
         "data": {
          "histogram2dcontour": [
           {
            "type": "histogram2dcontour",
            "colorbar": {
             "outlinewidth": 0,
             "ticks": ""
            },
            "colorscale": [
             [
              0.0,
              "#0d0887"
             ],
             [
              0.1111111111111111,
              "#46039f"
             ],
             [
              0.2222222222222222,
              "#7201a8"
             ],
             [
              0.3333333333333333,
              "#9c179e"
             ],
             [
              0.4444444444444444,
              "#bd3786"
             ],
             [
              0.5555555555555556,
              "#d8576b"
             ],
             [
              0.6666666666666666,
              "#ed7953"
             ],
             [
              0.7777777777777778,
              "#fb9f3a"
             ],
             [
              0.8888888888888888,
              "#fdca26"
             ],
             [
              1.0,
              "#f0f921"
             ]
            ]
           }
          ],
          "choropleth": [
           {
            "type": "choropleth",
            "colorbar": {
             "outlinewidth": 0,
             "ticks": ""
            }
           }
          ],
          "histogram2d": [
           {
            "type": "histogram2d",
            "colorbar": {
             "outlinewidth": 0,
             "ticks": ""
            },
            "colorscale": [
             [
              0.0,
              "#0d0887"
             ],
             [
              0.1111111111111111,
              "#46039f"
             ],
             [
              0.2222222222222222,
              "#7201a8"
             ],
             [
              0.3333333333333333,
              "#9c179e"
             ],
             [
              0.4444444444444444,
              "#bd3786"
             ],
             [
              0.5555555555555556,
              "#d8576b"
             ],
             [
              0.6666666666666666,
              "#ed7953"
             ],
             [
              0.7777777777777778,
              "#fb9f3a"
             ],
             [
              0.8888888888888888,
              "#fdca26"
             ],
             [
              1.0,
              "#f0f921"
             ]
            ]
           }
          ],
          "heatmap": [
           {
            "type": "heatmap",
            "colorbar": {
             "outlinewidth": 0,
             "ticks": ""
            },
            "colorscale": [
             [
              0.0,
              "#0d0887"
             ],
             [
              0.1111111111111111,
              "#46039f"
             ],
             [
              0.2222222222222222,
              "#7201a8"
             ],
             [
              0.3333333333333333,
              "#9c179e"
             ],
             [
              0.4444444444444444,
              "#bd3786"
             ],
             [
              0.5555555555555556,
              "#d8576b"
             ],
             [
              0.6666666666666666,
              "#ed7953"
             ],
             [
              0.7777777777777778,
              "#fb9f3a"
             ],
             [
              0.8888888888888888,
              "#fdca26"
             ],
             [
              1.0,
              "#f0f921"
             ]
            ]
           }
          ],
          "contourcarpet": [
           {
            "type": "contourcarpet",
            "colorbar": {
             "outlinewidth": 0,
             "ticks": ""
            }
           }
          ],
          "contour": [
           {
            "type": "contour",
            "colorbar": {
             "outlinewidth": 0,
             "ticks": ""
            },
            "colorscale": [
             [
              0.0,
              "#0d0887"
             ],
             [
              0.1111111111111111,
              "#46039f"
             ],
             [
              0.2222222222222222,
              "#7201a8"
             ],
             [
              0.3333333333333333,
              "#9c179e"
             ],
             [
              0.4444444444444444,
              "#bd3786"
             ],
             [
              0.5555555555555556,
              "#d8576b"
             ],
             [
              0.6666666666666666,
              "#ed7953"
             ],
             [
              0.7777777777777778,
              "#fb9f3a"
             ],
             [
              0.8888888888888888,
              "#fdca26"
             ],
             [
              1.0,
              "#f0f921"
             ]
            ]
           }
          ],
          "surface": [
           {
            "type": "surface",
            "colorbar": {
             "outlinewidth": 0,
             "ticks": ""
            },
            "colorscale": [
             [
              0.0,
              "#0d0887"
             ],
             [
              0.1111111111111111,
              "#46039f"
             ],
             [
              0.2222222222222222,
              "#7201a8"
             ],
             [
              0.3333333333333333,
              "#9c179e"
             ],
             [
              0.4444444444444444,
              "#bd3786"
             ],
             [
              0.5555555555555556,
              "#d8576b"
             ],
             [
              0.6666666666666666,
              "#ed7953"
             ],
             [
              0.7777777777777778,
              "#fb9f3a"
             ],
             [
              0.8888888888888888,
              "#fdca26"
             ],
             [
              1.0,
              "#f0f921"
             ]
            ]
           }
          ],
          "mesh3d": [
           {
            "type": "mesh3d",
            "colorbar": {
             "outlinewidth": 0,
             "ticks": ""
            }
           }
          ],
          "scatter": [
           {
            "fillpattern": {
             "fillmode": "overlay",
             "size": 10,
             "solidity": 0.2
            },
            "type": "scatter"
           }
          ],
          "parcoords": [
           {
            "type": "parcoords",
            "line": {
             "colorbar": {
              "outlinewidth": 0,
              "ticks": ""
             }
            }
           }
          ],
          "scatterpolargl": [
           {
            "type": "scatterpolargl",
            "marker": {
             "colorbar": {
              "outlinewidth": 0,
              "ticks": ""
             }
            }
           }
          ],
          "bar": [
           {
            "error_x": {
             "color": "#2a3f5f"
            },
            "error_y": {
             "color": "#2a3f5f"
            },
            "marker": {
             "line": {
              "color": "#E5ECF6",
              "width": 0.5
             },
             "pattern": {
              "fillmode": "overlay",
              "size": 10,
              "solidity": 0.2
             }
            },
            "type": "bar"
           }
          ],
          "scattergeo": [
           {
            "type": "scattergeo",
            "marker": {
             "colorbar": {
              "outlinewidth": 0,
              "ticks": ""
             }
            }
           }
          ],
          "scatterpolar": [
           {
            "type": "scatterpolar",
            "marker": {
             "colorbar": {
              "outlinewidth": 0,
              "ticks": ""
             }
            }
           }
          ],
          "histogram": [
           {
            "marker": {
             "pattern": {
              "fillmode": "overlay",
              "size": 10,
              "solidity": 0.2
             }
            },
            "type": "histogram"
           }
          ],
          "scattergl": [
           {
            "type": "scattergl",
            "marker": {
             "colorbar": {
              "outlinewidth": 0,
              "ticks": ""
             }
            }
           }
          ],
          "scatter3d": [
           {
            "type": "scatter3d",
            "line": {
             "colorbar": {
              "outlinewidth": 0,
              "ticks": ""
             }
            },
            "marker": {
             "colorbar": {
              "outlinewidth": 0,
              "ticks": ""
             }
            }
           }
          ],
          "scattermap": [
           {
            "type": "scattermap",
            "marker": {
             "colorbar": {
              "outlinewidth": 0,
              "ticks": ""
             }
            }
           }
          ],
          "scattermapbox": [
           {
            "type": "scattermapbox",
            "marker": {
             "colorbar": {
              "outlinewidth": 0,
              "ticks": ""
             }
            }
           }
          ],
          "scatterternary": [
           {
            "type": "scatterternary",
            "marker": {
             "colorbar": {
              "outlinewidth": 0,
              "ticks": ""
             }
            }
           }
          ],
          "scattercarpet": [
           {
            "type": "scattercarpet",
            "marker": {
             "colorbar": {
              "outlinewidth": 0,
              "ticks": ""
             }
            }
           }
          ],
          "carpet": [
           {
            "aaxis": {
             "endlinecolor": "#2a3f5f",
             "gridcolor": "white",
             "linecolor": "white",
             "minorgridcolor": "white",
             "startlinecolor": "#2a3f5f"
            },
            "baxis": {
             "endlinecolor": "#2a3f5f",
             "gridcolor": "white",
             "linecolor": "white",
             "minorgridcolor": "white",
             "startlinecolor": "#2a3f5f"
            },
            "type": "carpet"
           }
          ],
          "table": [
           {
            "cells": {
             "fill": {
              "color": "#EBF0F8"
             },
             "line": {
              "color": "white"
             }
            },
            "header": {
             "fill": {
              "color": "#C8D4E3"
             },
             "line": {
              "color": "white"
             }
            },
            "type": "table"
           }
          ],
          "barpolar": [
           {
            "marker": {
             "line": {
              "color": "#E5ECF6",
              "width": 0.5
             },
             "pattern": {
              "fillmode": "overlay",
              "size": 10,
              "solidity": 0.2
             }
            },
            "type": "barpolar"
           }
          ],
          "pie": [
           {
            "automargin": true,
            "type": "pie"
           }
          ]
         },
         "layout": {
          "autotypenumbers": "strict",
          "colorway": [
           "#636efa",
           "#EF553B",
           "#00cc96",
           "#ab63fa",
           "#FFA15A",
           "#19d3f3",
           "#FF6692",
           "#B6E880",
           "#FF97FF",
           "#FECB52"
          ],
          "font": {
           "color": "#2a3f5f"
          },
          "hovermode": "closest",
          "hoverlabel": {
           "align": "left"
          },
          "paper_bgcolor": "white",
          "plot_bgcolor": "#E5ECF6",
          "polar": {
           "bgcolor": "#E5ECF6",
           "angularaxis": {
            "gridcolor": "white",
            "linecolor": "white",
            "ticks": ""
           },
           "radialaxis": {
            "gridcolor": "white",
            "linecolor": "white",
            "ticks": ""
           }
          },
          "ternary": {
           "bgcolor": "#E5ECF6",
           "aaxis": {
            "gridcolor": "white",
            "linecolor": "white",
            "ticks": ""
           },
           "baxis": {
            "gridcolor": "white",
            "linecolor": "white",
            "ticks": ""
           },
           "caxis": {
            "gridcolor": "white",
            "linecolor": "white",
            "ticks": ""
           }
          },
          "coloraxis": {
           "colorbar": {
            "outlinewidth": 0,
            "ticks": ""
           }
          },
          "colorscale": {
           "sequential": [
            [
             0.0,
             "#0d0887"
            ],
            [
             0.1111111111111111,
             "#46039f"
            ],
            [
             0.2222222222222222,
             "#7201a8"
            ],
            [
             0.3333333333333333,
             "#9c179e"
            ],
            [
             0.4444444444444444,
             "#bd3786"
            ],
            [
             0.5555555555555556,
             "#d8576b"
            ],
            [
             0.6666666666666666,
             "#ed7953"
            ],
            [
             0.7777777777777778,
             "#fb9f3a"
            ],
            [
             0.8888888888888888,
             "#fdca26"
            ],
            [
             1.0,
             "#f0f921"
            ]
           ],
           "sequentialminus": [
            [
             0.0,
             "#0d0887"
            ],
            [
             0.1111111111111111,
             "#46039f"
            ],
            [
             0.2222222222222222,
             "#7201a8"
            ],
            [
             0.3333333333333333,
             "#9c179e"
            ],
            [
             0.4444444444444444,
             "#bd3786"
            ],
            [
             0.5555555555555556,
             "#d8576b"
            ],
            [
             0.6666666666666666,
             "#ed7953"
            ],
            [
             0.7777777777777778,
             "#fb9f3a"
            ],
            [
             0.8888888888888888,
             "#fdca26"
            ],
            [
             1.0,
             "#f0f921"
            ]
           ],
           "diverging": [
            [
             0,
             "#8e0152"
            ],
            [
             0.1,
             "#c51b7d"
            ],
            [
             0.2,
             "#de77ae"
            ],
            [
             0.3,
             "#f1b6da"
            ],
            [
             0.4,
             "#fde0ef"
            ],
            [
             0.5,
             "#f7f7f7"
            ],
            [
             0.6,
             "#e6f5d0"
            ],
            [
             0.7,
             "#b8e186"
            ],
            [
             0.8,
             "#7fbc41"
            ],
            [
             0.9,
             "#4d9221"
            ],
            [
             1,
             "#276419"
            ]
           ]
          },
          "xaxis": {
           "gridcolor": "white",
           "linecolor": "white",
           "ticks": "",
           "title": {
            "standoff": 15
           },
           "zerolinecolor": "white",
           "automargin": true,
           "zerolinewidth": 2
          },
          "yaxis": {
           "gridcolor": "white",
           "linecolor": "white",
           "ticks": "",
           "title": {
            "standoff": 15
           },
           "zerolinecolor": "white",
           "automargin": true,
           "zerolinewidth": 2
          },
          "scene": {
           "xaxis": {
            "backgroundcolor": "#E5ECF6",
            "gridcolor": "white",
            "linecolor": "white",
            "showbackground": true,
            "ticks": "",
            "zerolinecolor": "white",
            "gridwidth": 2
           },
           "yaxis": {
            "backgroundcolor": "#E5ECF6",
            "gridcolor": "white",
            "linecolor": "white",
            "showbackground": true,
            "ticks": "",
            "zerolinecolor": "white",
            "gridwidth": 2
           },
           "zaxis": {
            "backgroundcolor": "#E5ECF6",
            "gridcolor": "white",
            "linecolor": "white",
            "showbackground": true,
            "ticks": "",
            "zerolinecolor": "white",
            "gridwidth": 2
           }
          },
          "shapedefaults": {
           "line": {
            "color": "#2a3f5f"
           }
          },
          "annotationdefaults": {
           "arrowcolor": "#2a3f5f",
           "arrowhead": 0,
           "arrowwidth": 1
          },
          "geo": {
           "bgcolor": "white",
           "landcolor": "#E5ECF6",
           "subunitcolor": "white",
           "showland": true,
           "showlakes": true,
           "lakecolor": "white"
          },
          "title": {
           "x": 0.05
          },
          "mapbox": {
           "style": "light"
          }
         }
        },
        "xaxis": {
         "anchor": "y",
         "domain": [
          0.0,
          1.0
         ],
         "title": {
          "text": "Player"
         },
         "tickangle": -45
        },
        "yaxis": {
         "anchor": "x",
         "domain": [
          0.0,
          1.0
         ],
         "title": {
          "text": "Match_played"
         }
        },
        "coloraxis": {
         "colorbar": {
          "title": {
           "text": "Goals"
          }
         },
         "colorscale": [
          [
           0.0,
           "#0d0887"
          ],
          [
           0.1111111111111111,
           "#46039f"
          ],
          [
           0.2222222222222222,
           "#7201a8"
          ],
          [
           0.3333333333333333,
           "#9c179e"
          ],
          [
           0.4444444444444444,
           "#bd3786"
          ],
          [
           0.5555555555555556,
           "#d8576b"
          ],
          [
           0.6666666666666666,
           "#ed7953"
          ],
          [
           0.7777777777777778,
           "#fb9f3a"
          ],
          [
           0.8888888888888888,
           "#fdca26"
          ],
          [
           1.0,
           "#f0f921"
          ]
         ]
        },
        "legend": {
         "tracegroupgap": 0
        },
        "title": {
         "text": "Players over 30 (not goalkeepers) with the most matches played and their goals"
        },
        "barmode": "relative"
       },
       "config": {
        "plotlyServerURL": "https://plot.ly"
       }
      }
     },
     "metadata": {},
     "output_type": "display_data"
    }
   ],
   "execution_count": 25
  },
  {
   "metadata": {
    "ExecuteTime": {
     "end_time": "2025-06-02T13:04:19.749541Z",
     "start_time": "2025-06-02T13:04:19.700529Z"
    }
   },
   "cell_type": "code",
   "source": [
    "goals_per_player = ucl.groupby(['Player', 'Position','Team'])['Goals'].sum().reset_index()\n",
    "goals_per_player = goals_per_player.sort_values(by='Goals', ascending=False).head(20)\n",
    "fig2 = px.pie(goals_per_player,\n",
    "              values='Goals',\n",
    "              names='Player',\n",
    "              title='Top 20 lojtaret me me se shumti gola ne Champions League 2025',\n",
    "              hover_data=['Position'])\n",
    "fig2.update_traces(textposition='inside', textinfo='label+value', textfont_size=16)\n",
    "fig2.show()"
   ],
   "id": "4f1979f23767edf6",
   "outputs": [
    {
     "data": {
      "application/vnd.plotly.v1+json": {
       "data": [
        {
         "customdata": [
          [
           "Forward"
          ],
          [
           "Forward"
          ],
          [
           "Forward"
          ],
          [
           "Forward"
          ],
          [
           "Forward"
          ],
          [
           "Forward"
          ],
          [
           "Forward"
          ],
          [
           "Forward"
          ],
          [
           "Forward"
          ],
          [
           "Forward"
          ],
          [
           "Forward"
          ],
          [
           "Forward"
          ],
          [
           "Forward"
          ],
          [
           "Midfielder"
          ],
          [
           "Forward"
          ],
          [
           "Forward"
          ],
          [
           "Forward"
          ],
          [
           "Forward"
          ],
          [
           "Forward"
          ],
          [
           "Forward"
          ]
         ],
         "domain": {
          "x": [
           0.0,
           1.0
          ],
          "y": [
           0.0,
           1.0
          ]
         },
         "hovertemplate": "Player=%{label}<br>Goals=%{value}<br>Position=%{customdata[0]}<extra></extra>",
         "labels": [
          "Guirassy",
          "Raphinha",
          "Lewandowski",
          "Harry Kane",
          "Lautaro Martinez",
          "Haaland",
          "Vinicius Jr",
          "Dembele",
          "Pavlidis",
          "Julian Alvarez",
          "Jonathan David",
          "Kylian Mbappe",
          "Bukayo Saka",
          "Florian Wirtz",
          "Griezmann",
          "Santiago Gimenez",
          "Viktor Gyokeres",
          "Desire Doue",
          "Rodrygo",
          "Yamal"
         ],
         "legendgroup": "",
         "name": "",
         "showlegend": true,
         "values": {
          "dtype": "i1",
          "bdata": "DQ0LCwkICAgHBwcHBgYGBgYFBQU="
         },
         "type": "pie",
         "textfont": {
          "size": 16
         },
         "textinfo": "label+value",
         "textposition": "inside"
        }
       ],
       "layout": {
        "template": {
         "data": {
          "histogram2dcontour": [
           {
            "type": "histogram2dcontour",
            "colorbar": {
             "outlinewidth": 0,
             "ticks": ""
            },
            "colorscale": [
             [
              0.0,
              "#0d0887"
             ],
             [
              0.1111111111111111,
              "#46039f"
             ],
             [
              0.2222222222222222,
              "#7201a8"
             ],
             [
              0.3333333333333333,
              "#9c179e"
             ],
             [
              0.4444444444444444,
              "#bd3786"
             ],
             [
              0.5555555555555556,
              "#d8576b"
             ],
             [
              0.6666666666666666,
              "#ed7953"
             ],
             [
              0.7777777777777778,
              "#fb9f3a"
             ],
             [
              0.8888888888888888,
              "#fdca26"
             ],
             [
              1.0,
              "#f0f921"
             ]
            ]
           }
          ],
          "choropleth": [
           {
            "type": "choropleth",
            "colorbar": {
             "outlinewidth": 0,
             "ticks": ""
            }
           }
          ],
          "histogram2d": [
           {
            "type": "histogram2d",
            "colorbar": {
             "outlinewidth": 0,
             "ticks": ""
            },
            "colorscale": [
             [
              0.0,
              "#0d0887"
             ],
             [
              0.1111111111111111,
              "#46039f"
             ],
             [
              0.2222222222222222,
              "#7201a8"
             ],
             [
              0.3333333333333333,
              "#9c179e"
             ],
             [
              0.4444444444444444,
              "#bd3786"
             ],
             [
              0.5555555555555556,
              "#d8576b"
             ],
             [
              0.6666666666666666,
              "#ed7953"
             ],
             [
              0.7777777777777778,
              "#fb9f3a"
             ],
             [
              0.8888888888888888,
              "#fdca26"
             ],
             [
              1.0,
              "#f0f921"
             ]
            ]
           }
          ],
          "heatmap": [
           {
            "type": "heatmap",
            "colorbar": {
             "outlinewidth": 0,
             "ticks": ""
            },
            "colorscale": [
             [
              0.0,
              "#0d0887"
             ],
             [
              0.1111111111111111,
              "#46039f"
             ],
             [
              0.2222222222222222,
              "#7201a8"
             ],
             [
              0.3333333333333333,
              "#9c179e"
             ],
             [
              0.4444444444444444,
              "#bd3786"
             ],
             [
              0.5555555555555556,
              "#d8576b"
             ],
             [
              0.6666666666666666,
              "#ed7953"
             ],
             [
              0.7777777777777778,
              "#fb9f3a"
             ],
             [
              0.8888888888888888,
              "#fdca26"
             ],
             [
              1.0,
              "#f0f921"
             ]
            ]
           }
          ],
          "contourcarpet": [
           {
            "type": "contourcarpet",
            "colorbar": {
             "outlinewidth": 0,
             "ticks": ""
            }
           }
          ],
          "contour": [
           {
            "type": "contour",
            "colorbar": {
             "outlinewidth": 0,
             "ticks": ""
            },
            "colorscale": [
             [
              0.0,
              "#0d0887"
             ],
             [
              0.1111111111111111,
              "#46039f"
             ],
             [
              0.2222222222222222,
              "#7201a8"
             ],
             [
              0.3333333333333333,
              "#9c179e"
             ],
             [
              0.4444444444444444,
              "#bd3786"
             ],
             [
              0.5555555555555556,
              "#d8576b"
             ],
             [
              0.6666666666666666,
              "#ed7953"
             ],
             [
              0.7777777777777778,
              "#fb9f3a"
             ],
             [
              0.8888888888888888,
              "#fdca26"
             ],
             [
              1.0,
              "#f0f921"
             ]
            ]
           }
          ],
          "surface": [
           {
            "type": "surface",
            "colorbar": {
             "outlinewidth": 0,
             "ticks": ""
            },
            "colorscale": [
             [
              0.0,
              "#0d0887"
             ],
             [
              0.1111111111111111,
              "#46039f"
             ],
             [
              0.2222222222222222,
              "#7201a8"
             ],
             [
              0.3333333333333333,
              "#9c179e"
             ],
             [
              0.4444444444444444,
              "#bd3786"
             ],
             [
              0.5555555555555556,
              "#d8576b"
             ],
             [
              0.6666666666666666,
              "#ed7953"
             ],
             [
              0.7777777777777778,
              "#fb9f3a"
             ],
             [
              0.8888888888888888,
              "#fdca26"
             ],
             [
              1.0,
              "#f0f921"
             ]
            ]
           }
          ],
          "mesh3d": [
           {
            "type": "mesh3d",
            "colorbar": {
             "outlinewidth": 0,
             "ticks": ""
            }
           }
          ],
          "scatter": [
           {
            "fillpattern": {
             "fillmode": "overlay",
             "size": 10,
             "solidity": 0.2
            },
            "type": "scatter"
           }
          ],
          "parcoords": [
           {
            "type": "parcoords",
            "line": {
             "colorbar": {
              "outlinewidth": 0,
              "ticks": ""
             }
            }
           }
          ],
          "scatterpolargl": [
           {
            "type": "scatterpolargl",
            "marker": {
             "colorbar": {
              "outlinewidth": 0,
              "ticks": ""
             }
            }
           }
          ],
          "bar": [
           {
            "error_x": {
             "color": "#2a3f5f"
            },
            "error_y": {
             "color": "#2a3f5f"
            },
            "marker": {
             "line": {
              "color": "#E5ECF6",
              "width": 0.5
             },
             "pattern": {
              "fillmode": "overlay",
              "size": 10,
              "solidity": 0.2
             }
            },
            "type": "bar"
           }
          ],
          "scattergeo": [
           {
            "type": "scattergeo",
            "marker": {
             "colorbar": {
              "outlinewidth": 0,
              "ticks": ""
             }
            }
           }
          ],
          "scatterpolar": [
           {
            "type": "scatterpolar",
            "marker": {
             "colorbar": {
              "outlinewidth": 0,
              "ticks": ""
             }
            }
           }
          ],
          "histogram": [
           {
            "marker": {
             "pattern": {
              "fillmode": "overlay",
              "size": 10,
              "solidity": 0.2
             }
            },
            "type": "histogram"
           }
          ],
          "scattergl": [
           {
            "type": "scattergl",
            "marker": {
             "colorbar": {
              "outlinewidth": 0,
              "ticks": ""
             }
            }
           }
          ],
          "scatter3d": [
           {
            "type": "scatter3d",
            "line": {
             "colorbar": {
              "outlinewidth": 0,
              "ticks": ""
             }
            },
            "marker": {
             "colorbar": {
              "outlinewidth": 0,
              "ticks": ""
             }
            }
           }
          ],
          "scattermap": [
           {
            "type": "scattermap",
            "marker": {
             "colorbar": {
              "outlinewidth": 0,
              "ticks": ""
             }
            }
           }
          ],
          "scattermapbox": [
           {
            "type": "scattermapbox",
            "marker": {
             "colorbar": {
              "outlinewidth": 0,
              "ticks": ""
             }
            }
           }
          ],
          "scatterternary": [
           {
            "type": "scatterternary",
            "marker": {
             "colorbar": {
              "outlinewidth": 0,
              "ticks": ""
             }
            }
           }
          ],
          "scattercarpet": [
           {
            "type": "scattercarpet",
            "marker": {
             "colorbar": {
              "outlinewidth": 0,
              "ticks": ""
             }
            }
           }
          ],
          "carpet": [
           {
            "aaxis": {
             "endlinecolor": "#2a3f5f",
             "gridcolor": "white",
             "linecolor": "white",
             "minorgridcolor": "white",
             "startlinecolor": "#2a3f5f"
            },
            "baxis": {
             "endlinecolor": "#2a3f5f",
             "gridcolor": "white",
             "linecolor": "white",
             "minorgridcolor": "white",
             "startlinecolor": "#2a3f5f"
            },
            "type": "carpet"
           }
          ],
          "table": [
           {
            "cells": {
             "fill": {
              "color": "#EBF0F8"
             },
             "line": {
              "color": "white"
             }
            },
            "header": {
             "fill": {
              "color": "#C8D4E3"
             },
             "line": {
              "color": "white"
             }
            },
            "type": "table"
           }
          ],
          "barpolar": [
           {
            "marker": {
             "line": {
              "color": "#E5ECF6",
              "width": 0.5
             },
             "pattern": {
              "fillmode": "overlay",
              "size": 10,
              "solidity": 0.2
             }
            },
            "type": "barpolar"
           }
          ],
          "pie": [
           {
            "automargin": true,
            "type": "pie"
           }
          ]
         },
         "layout": {
          "autotypenumbers": "strict",
          "colorway": [
           "#636efa",
           "#EF553B",
           "#00cc96",
           "#ab63fa",
           "#FFA15A",
           "#19d3f3",
           "#FF6692",
           "#B6E880",
           "#FF97FF",
           "#FECB52"
          ],
          "font": {
           "color": "#2a3f5f"
          },
          "hovermode": "closest",
          "hoverlabel": {
           "align": "left"
          },
          "paper_bgcolor": "white",
          "plot_bgcolor": "#E5ECF6",
          "polar": {
           "bgcolor": "#E5ECF6",
           "angularaxis": {
            "gridcolor": "white",
            "linecolor": "white",
            "ticks": ""
           },
           "radialaxis": {
            "gridcolor": "white",
            "linecolor": "white",
            "ticks": ""
           }
          },
          "ternary": {
           "bgcolor": "#E5ECF6",
           "aaxis": {
            "gridcolor": "white",
            "linecolor": "white",
            "ticks": ""
           },
           "baxis": {
            "gridcolor": "white",
            "linecolor": "white",
            "ticks": ""
           },
           "caxis": {
            "gridcolor": "white",
            "linecolor": "white",
            "ticks": ""
           }
          },
          "coloraxis": {
           "colorbar": {
            "outlinewidth": 0,
            "ticks": ""
           }
          },
          "colorscale": {
           "sequential": [
            [
             0.0,
             "#0d0887"
            ],
            [
             0.1111111111111111,
             "#46039f"
            ],
            [
             0.2222222222222222,
             "#7201a8"
            ],
            [
             0.3333333333333333,
             "#9c179e"
            ],
            [
             0.4444444444444444,
             "#bd3786"
            ],
            [
             0.5555555555555556,
             "#d8576b"
            ],
            [
             0.6666666666666666,
             "#ed7953"
            ],
            [
             0.7777777777777778,
             "#fb9f3a"
            ],
            [
             0.8888888888888888,
             "#fdca26"
            ],
            [
             1.0,
             "#f0f921"
            ]
           ],
           "sequentialminus": [
            [
             0.0,
             "#0d0887"
            ],
            [
             0.1111111111111111,
             "#46039f"
            ],
            [
             0.2222222222222222,
             "#7201a8"
            ],
            [
             0.3333333333333333,
             "#9c179e"
            ],
            [
             0.4444444444444444,
             "#bd3786"
            ],
            [
             0.5555555555555556,
             "#d8576b"
            ],
            [
             0.6666666666666666,
             "#ed7953"
            ],
            [
             0.7777777777777778,
             "#fb9f3a"
            ],
            [
             0.8888888888888888,
             "#fdca26"
            ],
            [
             1.0,
             "#f0f921"
            ]
           ],
           "diverging": [
            [
             0,
             "#8e0152"
            ],
            [
             0.1,
             "#c51b7d"
            ],
            [
             0.2,
             "#de77ae"
            ],
            [
             0.3,
             "#f1b6da"
            ],
            [
             0.4,
             "#fde0ef"
            ],
            [
             0.5,
             "#f7f7f7"
            ],
            [
             0.6,
             "#e6f5d0"
            ],
            [
             0.7,
             "#b8e186"
            ],
            [
             0.8,
             "#7fbc41"
            ],
            [
             0.9,
             "#4d9221"
            ],
            [
             1,
             "#276419"
            ]
           ]
          },
          "xaxis": {
           "gridcolor": "white",
           "linecolor": "white",
           "ticks": "",
           "title": {
            "standoff": 15
           },
           "zerolinecolor": "white",
           "automargin": true,
           "zerolinewidth": 2
          },
          "yaxis": {
           "gridcolor": "white",
           "linecolor": "white",
           "ticks": "",
           "title": {
            "standoff": 15
           },
           "zerolinecolor": "white",
           "automargin": true,
           "zerolinewidth": 2
          },
          "scene": {
           "xaxis": {
            "backgroundcolor": "#E5ECF6",
            "gridcolor": "white",
            "linecolor": "white",
            "showbackground": true,
            "ticks": "",
            "zerolinecolor": "white",
            "gridwidth": 2
           },
           "yaxis": {
            "backgroundcolor": "#E5ECF6",
            "gridcolor": "white",
            "linecolor": "white",
            "showbackground": true,
            "ticks": "",
            "zerolinecolor": "white",
            "gridwidth": 2
           },
           "zaxis": {
            "backgroundcolor": "#E5ECF6",
            "gridcolor": "white",
            "linecolor": "white",
            "showbackground": true,
            "ticks": "",
            "zerolinecolor": "white",
            "gridwidth": 2
           }
          },
          "shapedefaults": {
           "line": {
            "color": "#2a3f5f"
           }
          },
          "annotationdefaults": {
           "arrowcolor": "#2a3f5f",
           "arrowhead": 0,
           "arrowwidth": 1
          },
          "geo": {
           "bgcolor": "white",
           "landcolor": "#E5ECF6",
           "subunitcolor": "white",
           "showland": true,
           "showlakes": true,
           "lakecolor": "white"
          },
          "title": {
           "x": 0.05
          },
          "mapbox": {
           "style": "light"
          }
         }
        },
        "legend": {
         "tracegroupgap": 0
        },
        "title": {
         "text": "Top 20 lojtaret me me se shumti gola ne Champions League 2025"
        }
       },
       "config": {
        "plotlyServerURL": "https://plot.ly"
       }
      }
     },
     "metadata": {},
     "output_type": "display_data"
    }
   ],
   "execution_count": 32
  },
  {
   "metadata": {
    "ExecuteTime": {
     "end_time": "2025-06-02T13:04:33.900304Z",
     "start_time": "2025-06-02T13:04:33.894358Z"
    }
   },
   "cell_type": "code",
   "source": "ucl['Competitions'] = ucl['Competitions'].str.strip()",
   "id": "3584b3cb8d63ab79",
   "outputs": [],
   "execution_count": 34
  },
  {
   "metadata": {
    "ExecuteTime": {
     "end_time": "2025-06-02T13:04:35.328713Z",
     "start_time": "2025-06-02T13:04:35.318295Z"
    }
   },
   "cell_type": "code",
   "source": [
    "teams_per_comp = ucl.groupby(['Competitions'])['Team'].nunique().sort_values(ascending=False)\n",
    "\n",
    "print(teams_per_comp)"
   ],
   "id": "e8815e79e4682db1",
   "outputs": [
    {
     "name": "stdout",
     "output_type": "stream",
     "text": [
      "Competitions\n",
      "Bundesliga        5\n",
      "La Liga           5\n",
      "Serie A           5\n",
      "Ligue 1           4\n",
      "Premier League    4\n",
      "Eredivisie        2\n",
      "Liga Portugal     2\n",
      "ABundesliga       1\n",
      "Premier Liga      1\n",
      "Premiership       1\n",
      "Pro League        1\n",
      "SuperSport HNL    1\n",
      "Name: Team, dtype: int64\n"
     ]
    }
   ],
   "execution_count": 35
  },
  {
   "metadata": {
    "ExecuteTime": {
     "end_time": "2025-06-02T13:04:36.889732Z",
     "start_time": "2025-06-02T13:04:36.744824Z"
    }
   },
   "cell_type": "code",
   "source": [
    "teams_ucl = teams_per_comp.reset_index()\n",
    "teams_ucl.columns = ['Competitions', 'Num_Teams']\n",
    "\n",
    "fig = px.bar(teams_ucl, x='Competitions', y='Num_Teams',\n",
    "             title='Number of teams🛡️ in the Champions League⚽🏆 by Competition',\n",
    "             color='Num_Teams', text='Num_Teams')\n",
    "fig.show()"
   ],
   "id": "8a08d4816654bf2f",
   "outputs": [
    {
     "data": {
      "application/vnd.plotly.v1+json": {
       "data": [
        {
         "hovertemplate": "Competitions=%{x}<br>Num_Teams=%{marker.color}<extra></extra>",
         "legendgroup": "",
         "marker": {
          "color": {
           "dtype": "i1",
           "bdata": "BQUFBAQCAgEBAQEB"
          },
          "coloraxis": "coloraxis",
          "pattern": {
           "shape": ""
          }
         },
         "name": "",
         "orientation": "v",
         "showlegend": false,
         "text": {
          "dtype": "f8",
          "bdata": "AAAAAAAAFEAAAAAAAAAUQAAAAAAAABRAAAAAAAAAEEAAAAAAAAAQQAAAAAAAAABAAAAAAAAAAEAAAAAAAADwPwAAAAAAAPA/AAAAAAAA8D8AAAAAAADwPwAAAAAAAPA/"
         },
         "textposition": "auto",
         "x": [
          "Bundesliga",
          "La Liga",
          "Serie A",
          "Ligue 1",
          "Premier League",
          "Eredivisie",
          "Liga Portugal",
          "ABundesliga",
          "Premier Liga",
          "Premiership",
          "Pro League",
          "SuperSport HNL"
         ],
         "xaxis": "x",
         "y": {
          "dtype": "i1",
          "bdata": "BQUFBAQCAgEBAQEB"
         },
         "yaxis": "y",
         "type": "bar"
        }
       ],
       "layout": {
        "template": {
         "data": {
          "histogram2dcontour": [
           {
            "type": "histogram2dcontour",
            "colorbar": {
             "outlinewidth": 0,
             "ticks": ""
            },
            "colorscale": [
             [
              0.0,
              "#0d0887"
             ],
             [
              0.1111111111111111,
              "#46039f"
             ],
             [
              0.2222222222222222,
              "#7201a8"
             ],
             [
              0.3333333333333333,
              "#9c179e"
             ],
             [
              0.4444444444444444,
              "#bd3786"
             ],
             [
              0.5555555555555556,
              "#d8576b"
             ],
             [
              0.6666666666666666,
              "#ed7953"
             ],
             [
              0.7777777777777778,
              "#fb9f3a"
             ],
             [
              0.8888888888888888,
              "#fdca26"
             ],
             [
              1.0,
              "#f0f921"
             ]
            ]
           }
          ],
          "choropleth": [
           {
            "type": "choropleth",
            "colorbar": {
             "outlinewidth": 0,
             "ticks": ""
            }
           }
          ],
          "histogram2d": [
           {
            "type": "histogram2d",
            "colorbar": {
             "outlinewidth": 0,
             "ticks": ""
            },
            "colorscale": [
             [
              0.0,
              "#0d0887"
             ],
             [
              0.1111111111111111,
              "#46039f"
             ],
             [
              0.2222222222222222,
              "#7201a8"
             ],
             [
              0.3333333333333333,
              "#9c179e"
             ],
             [
              0.4444444444444444,
              "#bd3786"
             ],
             [
              0.5555555555555556,
              "#d8576b"
             ],
             [
              0.6666666666666666,
              "#ed7953"
             ],
             [
              0.7777777777777778,
              "#fb9f3a"
             ],
             [
              0.8888888888888888,
              "#fdca26"
             ],
             [
              1.0,
              "#f0f921"
             ]
            ]
           }
          ],
          "heatmap": [
           {
            "type": "heatmap",
            "colorbar": {
             "outlinewidth": 0,
             "ticks": ""
            },
            "colorscale": [
             [
              0.0,
              "#0d0887"
             ],
             [
              0.1111111111111111,
              "#46039f"
             ],
             [
              0.2222222222222222,
              "#7201a8"
             ],
             [
              0.3333333333333333,
              "#9c179e"
             ],
             [
              0.4444444444444444,
              "#bd3786"
             ],
             [
              0.5555555555555556,
              "#d8576b"
             ],
             [
              0.6666666666666666,
              "#ed7953"
             ],
             [
              0.7777777777777778,
              "#fb9f3a"
             ],
             [
              0.8888888888888888,
              "#fdca26"
             ],
             [
              1.0,
              "#f0f921"
             ]
            ]
           }
          ],
          "contourcarpet": [
           {
            "type": "contourcarpet",
            "colorbar": {
             "outlinewidth": 0,
             "ticks": ""
            }
           }
          ],
          "contour": [
           {
            "type": "contour",
            "colorbar": {
             "outlinewidth": 0,
             "ticks": ""
            },
            "colorscale": [
             [
              0.0,
              "#0d0887"
             ],
             [
              0.1111111111111111,
              "#46039f"
             ],
             [
              0.2222222222222222,
              "#7201a8"
             ],
             [
              0.3333333333333333,
              "#9c179e"
             ],
             [
              0.4444444444444444,
              "#bd3786"
             ],
             [
              0.5555555555555556,
              "#d8576b"
             ],
             [
              0.6666666666666666,
              "#ed7953"
             ],
             [
              0.7777777777777778,
              "#fb9f3a"
             ],
             [
              0.8888888888888888,
              "#fdca26"
             ],
             [
              1.0,
              "#f0f921"
             ]
            ]
           }
          ],
          "surface": [
           {
            "type": "surface",
            "colorbar": {
             "outlinewidth": 0,
             "ticks": ""
            },
            "colorscale": [
             [
              0.0,
              "#0d0887"
             ],
             [
              0.1111111111111111,
              "#46039f"
             ],
             [
              0.2222222222222222,
              "#7201a8"
             ],
             [
              0.3333333333333333,
              "#9c179e"
             ],
             [
              0.4444444444444444,
              "#bd3786"
             ],
             [
              0.5555555555555556,
              "#d8576b"
             ],
             [
              0.6666666666666666,
              "#ed7953"
             ],
             [
              0.7777777777777778,
              "#fb9f3a"
             ],
             [
              0.8888888888888888,
              "#fdca26"
             ],
             [
              1.0,
              "#f0f921"
             ]
            ]
           }
          ],
          "mesh3d": [
           {
            "type": "mesh3d",
            "colorbar": {
             "outlinewidth": 0,
             "ticks": ""
            }
           }
          ],
          "scatter": [
           {
            "fillpattern": {
             "fillmode": "overlay",
             "size": 10,
             "solidity": 0.2
            },
            "type": "scatter"
           }
          ],
          "parcoords": [
           {
            "type": "parcoords",
            "line": {
             "colorbar": {
              "outlinewidth": 0,
              "ticks": ""
             }
            }
           }
          ],
          "scatterpolargl": [
           {
            "type": "scatterpolargl",
            "marker": {
             "colorbar": {
              "outlinewidth": 0,
              "ticks": ""
             }
            }
           }
          ],
          "bar": [
           {
            "error_x": {
             "color": "#2a3f5f"
            },
            "error_y": {
             "color": "#2a3f5f"
            },
            "marker": {
             "line": {
              "color": "#E5ECF6",
              "width": 0.5
             },
             "pattern": {
              "fillmode": "overlay",
              "size": 10,
              "solidity": 0.2
             }
            },
            "type": "bar"
           }
          ],
          "scattergeo": [
           {
            "type": "scattergeo",
            "marker": {
             "colorbar": {
              "outlinewidth": 0,
              "ticks": ""
             }
            }
           }
          ],
          "scatterpolar": [
           {
            "type": "scatterpolar",
            "marker": {
             "colorbar": {
              "outlinewidth": 0,
              "ticks": ""
             }
            }
           }
          ],
          "histogram": [
           {
            "marker": {
             "pattern": {
              "fillmode": "overlay",
              "size": 10,
              "solidity": 0.2
             }
            },
            "type": "histogram"
           }
          ],
          "scattergl": [
           {
            "type": "scattergl",
            "marker": {
             "colorbar": {
              "outlinewidth": 0,
              "ticks": ""
             }
            }
           }
          ],
          "scatter3d": [
           {
            "type": "scatter3d",
            "line": {
             "colorbar": {
              "outlinewidth": 0,
              "ticks": ""
             }
            },
            "marker": {
             "colorbar": {
              "outlinewidth": 0,
              "ticks": ""
             }
            }
           }
          ],
          "scattermap": [
           {
            "type": "scattermap",
            "marker": {
             "colorbar": {
              "outlinewidth": 0,
              "ticks": ""
             }
            }
           }
          ],
          "scattermapbox": [
           {
            "type": "scattermapbox",
            "marker": {
             "colorbar": {
              "outlinewidth": 0,
              "ticks": ""
             }
            }
           }
          ],
          "scatterternary": [
           {
            "type": "scatterternary",
            "marker": {
             "colorbar": {
              "outlinewidth": 0,
              "ticks": ""
             }
            }
           }
          ],
          "scattercarpet": [
           {
            "type": "scattercarpet",
            "marker": {
             "colorbar": {
              "outlinewidth": 0,
              "ticks": ""
             }
            }
           }
          ],
          "carpet": [
           {
            "aaxis": {
             "endlinecolor": "#2a3f5f",
             "gridcolor": "white",
             "linecolor": "white",
             "minorgridcolor": "white",
             "startlinecolor": "#2a3f5f"
            },
            "baxis": {
             "endlinecolor": "#2a3f5f",
             "gridcolor": "white",
             "linecolor": "white",
             "minorgridcolor": "white",
             "startlinecolor": "#2a3f5f"
            },
            "type": "carpet"
           }
          ],
          "table": [
           {
            "cells": {
             "fill": {
              "color": "#EBF0F8"
             },
             "line": {
              "color": "white"
             }
            },
            "header": {
             "fill": {
              "color": "#C8D4E3"
             },
             "line": {
              "color": "white"
             }
            },
            "type": "table"
           }
          ],
          "barpolar": [
           {
            "marker": {
             "line": {
              "color": "#E5ECF6",
              "width": 0.5
             },
             "pattern": {
              "fillmode": "overlay",
              "size": 10,
              "solidity": 0.2
             }
            },
            "type": "barpolar"
           }
          ],
          "pie": [
           {
            "automargin": true,
            "type": "pie"
           }
          ]
         },
         "layout": {
          "autotypenumbers": "strict",
          "colorway": [
           "#636efa",
           "#EF553B",
           "#00cc96",
           "#ab63fa",
           "#FFA15A",
           "#19d3f3",
           "#FF6692",
           "#B6E880",
           "#FF97FF",
           "#FECB52"
          ],
          "font": {
           "color": "#2a3f5f"
          },
          "hovermode": "closest",
          "hoverlabel": {
           "align": "left"
          },
          "paper_bgcolor": "white",
          "plot_bgcolor": "#E5ECF6",
          "polar": {
           "bgcolor": "#E5ECF6",
           "angularaxis": {
            "gridcolor": "white",
            "linecolor": "white",
            "ticks": ""
           },
           "radialaxis": {
            "gridcolor": "white",
            "linecolor": "white",
            "ticks": ""
           }
          },
          "ternary": {
           "bgcolor": "#E5ECF6",
           "aaxis": {
            "gridcolor": "white",
            "linecolor": "white",
            "ticks": ""
           },
           "baxis": {
            "gridcolor": "white",
            "linecolor": "white",
            "ticks": ""
           },
           "caxis": {
            "gridcolor": "white",
            "linecolor": "white",
            "ticks": ""
           }
          },
          "coloraxis": {
           "colorbar": {
            "outlinewidth": 0,
            "ticks": ""
           }
          },
          "colorscale": {
           "sequential": [
            [
             0.0,
             "#0d0887"
            ],
            [
             0.1111111111111111,
             "#46039f"
            ],
            [
             0.2222222222222222,
             "#7201a8"
            ],
            [
             0.3333333333333333,
             "#9c179e"
            ],
            [
             0.4444444444444444,
             "#bd3786"
            ],
            [
             0.5555555555555556,
             "#d8576b"
            ],
            [
             0.6666666666666666,
             "#ed7953"
            ],
            [
             0.7777777777777778,
             "#fb9f3a"
            ],
            [
             0.8888888888888888,
             "#fdca26"
            ],
            [
             1.0,
             "#f0f921"
            ]
           ],
           "sequentialminus": [
            [
             0.0,
             "#0d0887"
            ],
            [
             0.1111111111111111,
             "#46039f"
            ],
            [
             0.2222222222222222,
             "#7201a8"
            ],
            [
             0.3333333333333333,
             "#9c179e"
            ],
            [
             0.4444444444444444,
             "#bd3786"
            ],
            [
             0.5555555555555556,
             "#d8576b"
            ],
            [
             0.6666666666666666,
             "#ed7953"
            ],
            [
             0.7777777777777778,
             "#fb9f3a"
            ],
            [
             0.8888888888888888,
             "#fdca26"
            ],
            [
             1.0,
             "#f0f921"
            ]
           ],
           "diverging": [
            [
             0,
             "#8e0152"
            ],
            [
             0.1,
             "#c51b7d"
            ],
            [
             0.2,
             "#de77ae"
            ],
            [
             0.3,
             "#f1b6da"
            ],
            [
             0.4,
             "#fde0ef"
            ],
            [
             0.5,
             "#f7f7f7"
            ],
            [
             0.6,
             "#e6f5d0"
            ],
            [
             0.7,
             "#b8e186"
            ],
            [
             0.8,
             "#7fbc41"
            ],
            [
             0.9,
             "#4d9221"
            ],
            [
             1,
             "#276419"
            ]
           ]
          },
          "xaxis": {
           "gridcolor": "white",
           "linecolor": "white",
           "ticks": "",
           "title": {
            "standoff": 15
           },
           "zerolinecolor": "white",
           "automargin": true,
           "zerolinewidth": 2
          },
          "yaxis": {
           "gridcolor": "white",
           "linecolor": "white",
           "ticks": "",
           "title": {
            "standoff": 15
           },
           "zerolinecolor": "white",
           "automargin": true,
           "zerolinewidth": 2
          },
          "scene": {
           "xaxis": {
            "backgroundcolor": "#E5ECF6",
            "gridcolor": "white",
            "linecolor": "white",
            "showbackground": true,
            "ticks": "",
            "zerolinecolor": "white",
            "gridwidth": 2
           },
           "yaxis": {
            "backgroundcolor": "#E5ECF6",
            "gridcolor": "white",
            "linecolor": "white",
            "showbackground": true,
            "ticks": "",
            "zerolinecolor": "white",
            "gridwidth": 2
           },
           "zaxis": {
            "backgroundcolor": "#E5ECF6",
            "gridcolor": "white",
            "linecolor": "white",
            "showbackground": true,
            "ticks": "",
            "zerolinecolor": "white",
            "gridwidth": 2
           }
          },
          "shapedefaults": {
           "line": {
            "color": "#2a3f5f"
           }
          },
          "annotationdefaults": {
           "arrowcolor": "#2a3f5f",
           "arrowhead": 0,
           "arrowwidth": 1
          },
          "geo": {
           "bgcolor": "white",
           "landcolor": "#E5ECF6",
           "subunitcolor": "white",
           "showland": true,
           "showlakes": true,
           "lakecolor": "white"
          },
          "title": {
           "x": 0.05
          },
          "mapbox": {
           "style": "light"
          }
         }
        },
        "xaxis": {
         "anchor": "y",
         "domain": [
          0.0,
          1.0
         ],
         "title": {
          "text": "Competitions"
         }
        },
        "yaxis": {
         "anchor": "x",
         "domain": [
          0.0,
          1.0
         ],
         "title": {
          "text": "Num_Teams"
         }
        },
        "coloraxis": {
         "colorbar": {
          "title": {
           "text": "Num_Teams"
          }
         },
         "colorscale": [
          [
           0.0,
           "#0d0887"
          ],
          [
           0.1111111111111111,
           "#46039f"
          ],
          [
           0.2222222222222222,
           "#7201a8"
          ],
          [
           0.3333333333333333,
           "#9c179e"
          ],
          [
           0.4444444444444444,
           "#bd3786"
          ],
          [
           0.5555555555555556,
           "#d8576b"
          ],
          [
           0.6666666666666666,
           "#ed7953"
          ],
          [
           0.7777777777777778,
           "#fb9f3a"
          ],
          [
           0.8888888888888888,
           "#fdca26"
          ],
          [
           1.0,
           "#f0f921"
          ]
         ]
        },
        "legend": {
         "tracegroupgap": 0
        },
        "title": {
         "text": "Number of teams🛡️ in the Champions League⚽🏆 by Competition"
        },
        "barmode": "relative"
       },
       "config": {
        "plotlyServerURL": "https://plot.ly"
       }
      }
     },
     "metadata": {},
     "output_type": "display_data"
    }
   ],
   "execution_count": 36
  },
  {
   "metadata": {
    "ExecuteTime": {
     "end_time": "2025-06-02T13:05:39.537004Z",
     "start_time": "2025-06-02T13:05:39.482943Z"
    }
   },
   "cell_type": "code",
   "source": [
    "position_counts = ucl['Position'].value_counts()\n",
    "\n",
    "fig = px.bar(position_counts, title=\"Moda e Pozicioneve të Lojtarëve\")\n",
    "fig.show()"
   ],
   "id": "609d231564098d62",
   "outputs": [
    {
     "data": {
      "application/vnd.plotly.v1+json": {
       "data": [
        {
         "hovertemplate": "variable=count<br>Position=%{x}<br>value=%{y}<extra></extra>",
         "legendgroup": "count",
         "marker": {
          "color": "#636efa",
          "pattern": {
           "shape": ""
          }
         },
         "name": "count",
         "orientation": "v",
         "showlegend": true,
         "textposition": "auto",
         "x": [
          "Midfielder",
          "Forward",
          "Defender",
          "Goalkeeper"
         ],
         "xaxis": "x",
         "y": {
          "dtype": "i1",
          "bdata": "QkA8FA=="
         },
         "yaxis": "y",
         "type": "bar"
        }
       ],
       "layout": {
        "template": {
         "data": {
          "histogram2dcontour": [
           {
            "type": "histogram2dcontour",
            "colorbar": {
             "outlinewidth": 0,
             "ticks": ""
            },
            "colorscale": [
             [
              0.0,
              "#0d0887"
             ],
             [
              0.1111111111111111,
              "#46039f"
             ],
             [
              0.2222222222222222,
              "#7201a8"
             ],
             [
              0.3333333333333333,
              "#9c179e"
             ],
             [
              0.4444444444444444,
              "#bd3786"
             ],
             [
              0.5555555555555556,
              "#d8576b"
             ],
             [
              0.6666666666666666,
              "#ed7953"
             ],
             [
              0.7777777777777778,
              "#fb9f3a"
             ],
             [
              0.8888888888888888,
              "#fdca26"
             ],
             [
              1.0,
              "#f0f921"
             ]
            ]
           }
          ],
          "choropleth": [
           {
            "type": "choropleth",
            "colorbar": {
             "outlinewidth": 0,
             "ticks": ""
            }
           }
          ],
          "histogram2d": [
           {
            "type": "histogram2d",
            "colorbar": {
             "outlinewidth": 0,
             "ticks": ""
            },
            "colorscale": [
             [
              0.0,
              "#0d0887"
             ],
             [
              0.1111111111111111,
              "#46039f"
             ],
             [
              0.2222222222222222,
              "#7201a8"
             ],
             [
              0.3333333333333333,
              "#9c179e"
             ],
             [
              0.4444444444444444,
              "#bd3786"
             ],
             [
              0.5555555555555556,
              "#d8576b"
             ],
             [
              0.6666666666666666,
              "#ed7953"
             ],
             [
              0.7777777777777778,
              "#fb9f3a"
             ],
             [
              0.8888888888888888,
              "#fdca26"
             ],
             [
              1.0,
              "#f0f921"
             ]
            ]
           }
          ],
          "heatmap": [
           {
            "type": "heatmap",
            "colorbar": {
             "outlinewidth": 0,
             "ticks": ""
            },
            "colorscale": [
             [
              0.0,
              "#0d0887"
             ],
             [
              0.1111111111111111,
              "#46039f"
             ],
             [
              0.2222222222222222,
              "#7201a8"
             ],
             [
              0.3333333333333333,
              "#9c179e"
             ],
             [
              0.4444444444444444,
              "#bd3786"
             ],
             [
              0.5555555555555556,
              "#d8576b"
             ],
             [
              0.6666666666666666,
              "#ed7953"
             ],
             [
              0.7777777777777778,
              "#fb9f3a"
             ],
             [
              0.8888888888888888,
              "#fdca26"
             ],
             [
              1.0,
              "#f0f921"
             ]
            ]
           }
          ],
          "contourcarpet": [
           {
            "type": "contourcarpet",
            "colorbar": {
             "outlinewidth": 0,
             "ticks": ""
            }
           }
          ],
          "contour": [
           {
            "type": "contour",
            "colorbar": {
             "outlinewidth": 0,
             "ticks": ""
            },
            "colorscale": [
             [
              0.0,
              "#0d0887"
             ],
             [
              0.1111111111111111,
              "#46039f"
             ],
             [
              0.2222222222222222,
              "#7201a8"
             ],
             [
              0.3333333333333333,
              "#9c179e"
             ],
             [
              0.4444444444444444,
              "#bd3786"
             ],
             [
              0.5555555555555556,
              "#d8576b"
             ],
             [
              0.6666666666666666,
              "#ed7953"
             ],
             [
              0.7777777777777778,
              "#fb9f3a"
             ],
             [
              0.8888888888888888,
              "#fdca26"
             ],
             [
              1.0,
              "#f0f921"
             ]
            ]
           }
          ],
          "surface": [
           {
            "type": "surface",
            "colorbar": {
             "outlinewidth": 0,
             "ticks": ""
            },
            "colorscale": [
             [
              0.0,
              "#0d0887"
             ],
             [
              0.1111111111111111,
              "#46039f"
             ],
             [
              0.2222222222222222,
              "#7201a8"
             ],
             [
              0.3333333333333333,
              "#9c179e"
             ],
             [
              0.4444444444444444,
              "#bd3786"
             ],
             [
              0.5555555555555556,
              "#d8576b"
             ],
             [
              0.6666666666666666,
              "#ed7953"
             ],
             [
              0.7777777777777778,
              "#fb9f3a"
             ],
             [
              0.8888888888888888,
              "#fdca26"
             ],
             [
              1.0,
              "#f0f921"
             ]
            ]
           }
          ],
          "mesh3d": [
           {
            "type": "mesh3d",
            "colorbar": {
             "outlinewidth": 0,
             "ticks": ""
            }
           }
          ],
          "scatter": [
           {
            "fillpattern": {
             "fillmode": "overlay",
             "size": 10,
             "solidity": 0.2
            },
            "type": "scatter"
           }
          ],
          "parcoords": [
           {
            "type": "parcoords",
            "line": {
             "colorbar": {
              "outlinewidth": 0,
              "ticks": ""
             }
            }
           }
          ],
          "scatterpolargl": [
           {
            "type": "scatterpolargl",
            "marker": {
             "colorbar": {
              "outlinewidth": 0,
              "ticks": ""
             }
            }
           }
          ],
          "bar": [
           {
            "error_x": {
             "color": "#2a3f5f"
            },
            "error_y": {
             "color": "#2a3f5f"
            },
            "marker": {
             "line": {
              "color": "#E5ECF6",
              "width": 0.5
             },
             "pattern": {
              "fillmode": "overlay",
              "size": 10,
              "solidity": 0.2
             }
            },
            "type": "bar"
           }
          ],
          "scattergeo": [
           {
            "type": "scattergeo",
            "marker": {
             "colorbar": {
              "outlinewidth": 0,
              "ticks": ""
             }
            }
           }
          ],
          "scatterpolar": [
           {
            "type": "scatterpolar",
            "marker": {
             "colorbar": {
              "outlinewidth": 0,
              "ticks": ""
             }
            }
           }
          ],
          "histogram": [
           {
            "marker": {
             "pattern": {
              "fillmode": "overlay",
              "size": 10,
              "solidity": 0.2
             }
            },
            "type": "histogram"
           }
          ],
          "scattergl": [
           {
            "type": "scattergl",
            "marker": {
             "colorbar": {
              "outlinewidth": 0,
              "ticks": ""
             }
            }
           }
          ],
          "scatter3d": [
           {
            "type": "scatter3d",
            "line": {
             "colorbar": {
              "outlinewidth": 0,
              "ticks": ""
             }
            },
            "marker": {
             "colorbar": {
              "outlinewidth": 0,
              "ticks": ""
             }
            }
           }
          ],
          "scattermap": [
           {
            "type": "scattermap",
            "marker": {
             "colorbar": {
              "outlinewidth": 0,
              "ticks": ""
             }
            }
           }
          ],
          "scattermapbox": [
           {
            "type": "scattermapbox",
            "marker": {
             "colorbar": {
              "outlinewidth": 0,
              "ticks": ""
             }
            }
           }
          ],
          "scatterternary": [
           {
            "type": "scatterternary",
            "marker": {
             "colorbar": {
              "outlinewidth": 0,
              "ticks": ""
             }
            }
           }
          ],
          "scattercarpet": [
           {
            "type": "scattercarpet",
            "marker": {
             "colorbar": {
              "outlinewidth": 0,
              "ticks": ""
             }
            }
           }
          ],
          "carpet": [
           {
            "aaxis": {
             "endlinecolor": "#2a3f5f",
             "gridcolor": "white",
             "linecolor": "white",
             "minorgridcolor": "white",
             "startlinecolor": "#2a3f5f"
            },
            "baxis": {
             "endlinecolor": "#2a3f5f",
             "gridcolor": "white",
             "linecolor": "white",
             "minorgridcolor": "white",
             "startlinecolor": "#2a3f5f"
            },
            "type": "carpet"
           }
          ],
          "table": [
           {
            "cells": {
             "fill": {
              "color": "#EBF0F8"
             },
             "line": {
              "color": "white"
             }
            },
            "header": {
             "fill": {
              "color": "#C8D4E3"
             },
             "line": {
              "color": "white"
             }
            },
            "type": "table"
           }
          ],
          "barpolar": [
           {
            "marker": {
             "line": {
              "color": "#E5ECF6",
              "width": 0.5
             },
             "pattern": {
              "fillmode": "overlay",
              "size": 10,
              "solidity": 0.2
             }
            },
            "type": "barpolar"
           }
          ],
          "pie": [
           {
            "automargin": true,
            "type": "pie"
           }
          ]
         },
         "layout": {
          "autotypenumbers": "strict",
          "colorway": [
           "#636efa",
           "#EF553B",
           "#00cc96",
           "#ab63fa",
           "#FFA15A",
           "#19d3f3",
           "#FF6692",
           "#B6E880",
           "#FF97FF",
           "#FECB52"
          ],
          "font": {
           "color": "#2a3f5f"
          },
          "hovermode": "closest",
          "hoverlabel": {
           "align": "left"
          },
          "paper_bgcolor": "white",
          "plot_bgcolor": "#E5ECF6",
          "polar": {
           "bgcolor": "#E5ECF6",
           "angularaxis": {
            "gridcolor": "white",
            "linecolor": "white",
            "ticks": ""
           },
           "radialaxis": {
            "gridcolor": "white",
            "linecolor": "white",
            "ticks": ""
           }
          },
          "ternary": {
           "bgcolor": "#E5ECF6",
           "aaxis": {
            "gridcolor": "white",
            "linecolor": "white",
            "ticks": ""
           },
           "baxis": {
            "gridcolor": "white",
            "linecolor": "white",
            "ticks": ""
           },
           "caxis": {
            "gridcolor": "white",
            "linecolor": "white",
            "ticks": ""
           }
          },
          "coloraxis": {
           "colorbar": {
            "outlinewidth": 0,
            "ticks": ""
           }
          },
          "colorscale": {
           "sequential": [
            [
             0.0,
             "#0d0887"
            ],
            [
             0.1111111111111111,
             "#46039f"
            ],
            [
             0.2222222222222222,
             "#7201a8"
            ],
            [
             0.3333333333333333,
             "#9c179e"
            ],
            [
             0.4444444444444444,
             "#bd3786"
            ],
            [
             0.5555555555555556,
             "#d8576b"
            ],
            [
             0.6666666666666666,
             "#ed7953"
            ],
            [
             0.7777777777777778,
             "#fb9f3a"
            ],
            [
             0.8888888888888888,
             "#fdca26"
            ],
            [
             1.0,
             "#f0f921"
            ]
           ],
           "sequentialminus": [
            [
             0.0,
             "#0d0887"
            ],
            [
             0.1111111111111111,
             "#46039f"
            ],
            [
             0.2222222222222222,
             "#7201a8"
            ],
            [
             0.3333333333333333,
             "#9c179e"
            ],
            [
             0.4444444444444444,
             "#bd3786"
            ],
            [
             0.5555555555555556,
             "#d8576b"
            ],
            [
             0.6666666666666666,
             "#ed7953"
            ],
            [
             0.7777777777777778,
             "#fb9f3a"
            ],
            [
             0.8888888888888888,
             "#fdca26"
            ],
            [
             1.0,
             "#f0f921"
            ]
           ],
           "diverging": [
            [
             0,
             "#8e0152"
            ],
            [
             0.1,
             "#c51b7d"
            ],
            [
             0.2,
             "#de77ae"
            ],
            [
             0.3,
             "#f1b6da"
            ],
            [
             0.4,
             "#fde0ef"
            ],
            [
             0.5,
             "#f7f7f7"
            ],
            [
             0.6,
             "#e6f5d0"
            ],
            [
             0.7,
             "#b8e186"
            ],
            [
             0.8,
             "#7fbc41"
            ],
            [
             0.9,
             "#4d9221"
            ],
            [
             1,
             "#276419"
            ]
           ]
          },
          "xaxis": {
           "gridcolor": "white",
           "linecolor": "white",
           "ticks": "",
           "title": {
            "standoff": 15
           },
           "zerolinecolor": "white",
           "automargin": true,
           "zerolinewidth": 2
          },
          "yaxis": {
           "gridcolor": "white",
           "linecolor": "white",
           "ticks": "",
           "title": {
            "standoff": 15
           },
           "zerolinecolor": "white",
           "automargin": true,
           "zerolinewidth": 2
          },
          "scene": {
           "xaxis": {
            "backgroundcolor": "#E5ECF6",
            "gridcolor": "white",
            "linecolor": "white",
            "showbackground": true,
            "ticks": "",
            "zerolinecolor": "white",
            "gridwidth": 2
           },
           "yaxis": {
            "backgroundcolor": "#E5ECF6",
            "gridcolor": "white",
            "linecolor": "white",
            "showbackground": true,
            "ticks": "",
            "zerolinecolor": "white",
            "gridwidth": 2
           },
           "zaxis": {
            "backgroundcolor": "#E5ECF6",
            "gridcolor": "white",
            "linecolor": "white",
            "showbackground": true,
            "ticks": "",
            "zerolinecolor": "white",
            "gridwidth": 2
           }
          },
          "shapedefaults": {
           "line": {
            "color": "#2a3f5f"
           }
          },
          "annotationdefaults": {
           "arrowcolor": "#2a3f5f",
           "arrowhead": 0,
           "arrowwidth": 1
          },
          "geo": {
           "bgcolor": "white",
           "landcolor": "#E5ECF6",
           "subunitcolor": "white",
           "showland": true,
           "showlakes": true,
           "lakecolor": "white"
          },
          "title": {
           "x": 0.05
          },
          "mapbox": {
           "style": "light"
          }
         }
        },
        "xaxis": {
         "anchor": "y",
         "domain": [
          0.0,
          1.0
         ],
         "title": {
          "text": "Position"
         }
        },
        "yaxis": {
         "anchor": "x",
         "domain": [
          0.0,
          1.0
         ],
         "title": {
          "text": "value"
         }
        },
        "legend": {
         "title": {
          "text": "variable"
         },
         "tracegroupgap": 0
        },
        "title": {
         "text": "Moda e Pozicioneve të Lojtarëve"
        },
        "barmode": "relative"
       },
       "config": {
        "plotlyServerURL": "https://plot.ly"
       }
      }
     },
     "metadata": {},
     "output_type": "display_data"
    }
   ],
   "execution_count": 37
  },
  {
   "metadata": {
    "ExecuteTime": {
     "end_time": "2025-06-02T13:37:44.074007Z",
     "start_time": "2025-06-02T13:37:44.066661Z"
    }
   },
   "cell_type": "code",
   "source": [
    "# Filtrimi i lojtarëve që kanë luajtur (p.sh. më shumë se 0 minuta)\n",
    "played = ucl[ucl['Minutes_played'] > 0]"
   ],
   "id": "9c2ce8864a0e703b",
   "outputs": [],
   "execution_count": 38
  },
  {
   "metadata": {
    "ExecuteTime": {
     "end_time": "2025-06-02T13:37:58.876776Z",
     "start_time": "2025-06-02T13:37:58.857904Z"
    }
   },
   "cell_type": "code",
   "source": [
    "# Grupi i kompeticioneve që kanë të paktën 3 skuadra\n",
    "valid_competitions = played.groupby('Competitions')['Team'].transform('nunique') >= 3\n",
    "filtered = played[valid_competitions]\n",
    "\n",
    "filtered"
   ],
   "id": "94e5d91f1262464f",
   "outputs": [
    {
     "data": {
      "text/plain": [
       "     PlayerID          Player    Position  Age  Nationality              Team  \\\n",
       "0           1  Theo Hernandez    Defender   27       France             Milan   \n",
       "1           2  Nicolo Barella  Midfielder   28        Italy             Inter   \n",
       "2           3     Lewandowski     Forward   36       Poland         Barcelona   \n",
       "3           4        Raphinha     Forward   28       Brazil         Barcelona   \n",
       "4           5        Van Dijk    Defender   33  Netherlands      Liverpool FC   \n",
       "..        ...             ...         ...  ...          ...               ...   \n",
       "204       205      Kenny Lala    Defender   33       France            Brest    \n",
       "206       207         Cabella  Midfielder   35       France            Lille    \n",
       "207       208       Locatelli  Midfielder   27        Italy         Juventus    \n",
       "208       209        Palacios  Midfielder   26    Argentina  Bayer Leverkusen   \n",
       "209       210          Lucumi    Defender   26     Colombia           Bologna   \n",
       "\n",
       "       Competitions           Phase Phase_Tier  Value10^6  ...  \\\n",
       "0           Serie A  Knockout_phase          D       40.0  ...   \n",
       "1           Serie A           Final          S       80.0  ...   \n",
       "2           La Liga    Semi_finals           A       15.0  ...   \n",
       "3           La Liga    Semi_finals           A       80.0  ...   \n",
       "4    Premier League         Round16          C       50.0  ...   \n",
       "..              ...             ...        ...        ...  ...   \n",
       "204         Ligue 1  Knockout_phase          D        2.0  ...   \n",
       "206         Ligue 1         Round16          C        3.0  ...   \n",
       "207         Serie A  Knockout_phase          D       35.0  ...   \n",
       "208      Bundesliga         Round16          C       40.0  ...   \n",
       "209         Serie A    League_phase          E       18.0  ...   \n",
       "\n",
       "     Balls_recovered  Tackles_Won  Tackles_Lost  Saves  Goals_Conceded  \\\n",
       "0                 53            2             5      0               0   \n",
       "1                 32            8            15      0               0   \n",
       "2                 11            4             1      0               0   \n",
       "3                 18            2             7      0               0   \n",
       "4                 51            3             3      0               0   \n",
       "..               ...          ...           ...    ...             ...   \n",
       "204               36            1             1      0               0   \n",
       "206               13            3             4      0               0   \n",
       "207               51           19            17      0               0   \n",
       "208               48           10            13      0               0   \n",
       "209               40            1             4      0               0   \n",
       "\n",
       "     Clean_Sheets  MOTM_Awards  Minutes_played  Match_played  DNP  \n",
       "0               0            0             861            10    0  \n",
       "1               0            2             994            13    2  \n",
       "2               0            2             985            13    1  \n",
       "3               0            3            1225            14    0  \n",
       "4               0            0             840             9    1  \n",
       "..            ...          ...             ...           ...  ...  \n",
       "204             0            0             720             8    2  \n",
       "206             0            0             388             7    3  \n",
       "207             0            0             673             9    1  \n",
       "208             0            0             666            10    0  \n",
       "209             0            0             531             7    1  \n",
       "\n",
       "[165 rows x 31 columns]"
      ],
      "text/html": [
       "<div>\n",
       "<style scoped>\n",
       "    .dataframe tbody tr th:only-of-type {\n",
       "        vertical-align: middle;\n",
       "    }\n",
       "\n",
       "    .dataframe tbody tr th {\n",
       "        vertical-align: top;\n",
       "    }\n",
       "\n",
       "    .dataframe thead th {\n",
       "        text-align: right;\n",
       "    }\n",
       "</style>\n",
       "<table border=\"1\" class=\"dataframe\">\n",
       "  <thead>\n",
       "    <tr style=\"text-align: right;\">\n",
       "      <th></th>\n",
       "      <th>PlayerID</th>\n",
       "      <th>Player</th>\n",
       "      <th>Position</th>\n",
       "      <th>Age</th>\n",
       "      <th>Nationality</th>\n",
       "      <th>Team</th>\n",
       "      <th>Competitions</th>\n",
       "      <th>Phase</th>\n",
       "      <th>Phase_Tier</th>\n",
       "      <th>Value10^6</th>\n",
       "      <th>...</th>\n",
       "      <th>Balls_recovered</th>\n",
       "      <th>Tackles_Won</th>\n",
       "      <th>Tackles_Lost</th>\n",
       "      <th>Saves</th>\n",
       "      <th>Goals_Conceded</th>\n",
       "      <th>Clean_Sheets</th>\n",
       "      <th>MOTM_Awards</th>\n",
       "      <th>Minutes_played</th>\n",
       "      <th>Match_played</th>\n",
       "      <th>DNP</th>\n",
       "    </tr>\n",
       "  </thead>\n",
       "  <tbody>\n",
       "    <tr>\n",
       "      <th>0</th>\n",
       "      <td>1</td>\n",
       "      <td>Theo Hernandez</td>\n",
       "      <td>Defender</td>\n",
       "      <td>27</td>\n",
       "      <td>France</td>\n",
       "      <td>Milan</td>\n",
       "      <td>Serie A</td>\n",
       "      <td>Knockout_phase</td>\n",
       "      <td>D</td>\n",
       "      <td>40.0</td>\n",
       "      <td>...</td>\n",
       "      <td>53</td>\n",
       "      <td>2</td>\n",
       "      <td>5</td>\n",
       "      <td>0</td>\n",
       "      <td>0</td>\n",
       "      <td>0</td>\n",
       "      <td>0</td>\n",
       "      <td>861</td>\n",
       "      <td>10</td>\n",
       "      <td>0</td>\n",
       "    </tr>\n",
       "    <tr>\n",
       "      <th>1</th>\n",
       "      <td>2</td>\n",
       "      <td>Nicolo Barella</td>\n",
       "      <td>Midfielder</td>\n",
       "      <td>28</td>\n",
       "      <td>Italy</td>\n",
       "      <td>Inter</td>\n",
       "      <td>Serie A</td>\n",
       "      <td>Final</td>\n",
       "      <td>S</td>\n",
       "      <td>80.0</td>\n",
       "      <td>...</td>\n",
       "      <td>32</td>\n",
       "      <td>8</td>\n",
       "      <td>15</td>\n",
       "      <td>0</td>\n",
       "      <td>0</td>\n",
       "      <td>0</td>\n",
       "      <td>2</td>\n",
       "      <td>994</td>\n",
       "      <td>13</td>\n",
       "      <td>2</td>\n",
       "    </tr>\n",
       "    <tr>\n",
       "      <th>2</th>\n",
       "      <td>3</td>\n",
       "      <td>Lewandowski</td>\n",
       "      <td>Forward</td>\n",
       "      <td>36</td>\n",
       "      <td>Poland</td>\n",
       "      <td>Barcelona</td>\n",
       "      <td>La Liga</td>\n",
       "      <td>Semi_finals</td>\n",
       "      <td>A</td>\n",
       "      <td>15.0</td>\n",
       "      <td>...</td>\n",
       "      <td>11</td>\n",
       "      <td>4</td>\n",
       "      <td>1</td>\n",
       "      <td>0</td>\n",
       "      <td>0</td>\n",
       "      <td>0</td>\n",
       "      <td>2</td>\n",
       "      <td>985</td>\n",
       "      <td>13</td>\n",
       "      <td>1</td>\n",
       "    </tr>\n",
       "    <tr>\n",
       "      <th>3</th>\n",
       "      <td>4</td>\n",
       "      <td>Raphinha</td>\n",
       "      <td>Forward</td>\n",
       "      <td>28</td>\n",
       "      <td>Brazil</td>\n",
       "      <td>Barcelona</td>\n",
       "      <td>La Liga</td>\n",
       "      <td>Semi_finals</td>\n",
       "      <td>A</td>\n",
       "      <td>80.0</td>\n",
       "      <td>...</td>\n",
       "      <td>18</td>\n",
       "      <td>2</td>\n",
       "      <td>7</td>\n",
       "      <td>0</td>\n",
       "      <td>0</td>\n",
       "      <td>0</td>\n",
       "      <td>3</td>\n",
       "      <td>1225</td>\n",
       "      <td>14</td>\n",
       "      <td>0</td>\n",
       "    </tr>\n",
       "    <tr>\n",
       "      <th>4</th>\n",
       "      <td>5</td>\n",
       "      <td>Van Dijk</td>\n",
       "      <td>Defender</td>\n",
       "      <td>33</td>\n",
       "      <td>Netherlands</td>\n",
       "      <td>Liverpool FC</td>\n",
       "      <td>Premier League</td>\n",
       "      <td>Round16</td>\n",
       "      <td>C</td>\n",
       "      <td>50.0</td>\n",
       "      <td>...</td>\n",
       "      <td>51</td>\n",
       "      <td>3</td>\n",
       "      <td>3</td>\n",
       "      <td>0</td>\n",
       "      <td>0</td>\n",
       "      <td>0</td>\n",
       "      <td>0</td>\n",
       "      <td>840</td>\n",
       "      <td>9</td>\n",
       "      <td>1</td>\n",
       "    </tr>\n",
       "    <tr>\n",
       "      <th>...</th>\n",
       "      <td>...</td>\n",
       "      <td>...</td>\n",
       "      <td>...</td>\n",
       "      <td>...</td>\n",
       "      <td>...</td>\n",
       "      <td>...</td>\n",
       "      <td>...</td>\n",
       "      <td>...</td>\n",
       "      <td>...</td>\n",
       "      <td>...</td>\n",
       "      <td>...</td>\n",
       "      <td>...</td>\n",
       "      <td>...</td>\n",
       "      <td>...</td>\n",
       "      <td>...</td>\n",
       "      <td>...</td>\n",
       "      <td>...</td>\n",
       "      <td>...</td>\n",
       "      <td>...</td>\n",
       "      <td>...</td>\n",
       "      <td>...</td>\n",
       "    </tr>\n",
       "    <tr>\n",
       "      <th>204</th>\n",
       "      <td>205</td>\n",
       "      <td>Kenny Lala</td>\n",
       "      <td>Defender</td>\n",
       "      <td>33</td>\n",
       "      <td>France</td>\n",
       "      <td>Brest</td>\n",
       "      <td>Ligue 1</td>\n",
       "      <td>Knockout_phase</td>\n",
       "      <td>D</td>\n",
       "      <td>2.0</td>\n",
       "      <td>...</td>\n",
       "      <td>36</td>\n",
       "      <td>1</td>\n",
       "      <td>1</td>\n",
       "      <td>0</td>\n",
       "      <td>0</td>\n",
       "      <td>0</td>\n",
       "      <td>0</td>\n",
       "      <td>720</td>\n",
       "      <td>8</td>\n",
       "      <td>2</td>\n",
       "    </tr>\n",
       "    <tr>\n",
       "      <th>206</th>\n",
       "      <td>207</td>\n",
       "      <td>Cabella</td>\n",
       "      <td>Midfielder</td>\n",
       "      <td>35</td>\n",
       "      <td>France</td>\n",
       "      <td>Lille</td>\n",
       "      <td>Ligue 1</td>\n",
       "      <td>Round16</td>\n",
       "      <td>C</td>\n",
       "      <td>3.0</td>\n",
       "      <td>...</td>\n",
       "      <td>13</td>\n",
       "      <td>3</td>\n",
       "      <td>4</td>\n",
       "      <td>0</td>\n",
       "      <td>0</td>\n",
       "      <td>0</td>\n",
       "      <td>0</td>\n",
       "      <td>388</td>\n",
       "      <td>7</td>\n",
       "      <td>3</td>\n",
       "    </tr>\n",
       "    <tr>\n",
       "      <th>207</th>\n",
       "      <td>208</td>\n",
       "      <td>Locatelli</td>\n",
       "      <td>Midfielder</td>\n",
       "      <td>27</td>\n",
       "      <td>Italy</td>\n",
       "      <td>Juventus</td>\n",
       "      <td>Serie A</td>\n",
       "      <td>Knockout_phase</td>\n",
       "      <td>D</td>\n",
       "      <td>35.0</td>\n",
       "      <td>...</td>\n",
       "      <td>51</td>\n",
       "      <td>19</td>\n",
       "      <td>17</td>\n",
       "      <td>0</td>\n",
       "      <td>0</td>\n",
       "      <td>0</td>\n",
       "      <td>0</td>\n",
       "      <td>673</td>\n",
       "      <td>9</td>\n",
       "      <td>1</td>\n",
       "    </tr>\n",
       "    <tr>\n",
       "      <th>208</th>\n",
       "      <td>209</td>\n",
       "      <td>Palacios</td>\n",
       "      <td>Midfielder</td>\n",
       "      <td>26</td>\n",
       "      <td>Argentina</td>\n",
       "      <td>Bayer Leverkusen</td>\n",
       "      <td>Bundesliga</td>\n",
       "      <td>Round16</td>\n",
       "      <td>C</td>\n",
       "      <td>40.0</td>\n",
       "      <td>...</td>\n",
       "      <td>48</td>\n",
       "      <td>10</td>\n",
       "      <td>13</td>\n",
       "      <td>0</td>\n",
       "      <td>0</td>\n",
       "      <td>0</td>\n",
       "      <td>0</td>\n",
       "      <td>666</td>\n",
       "      <td>10</td>\n",
       "      <td>0</td>\n",
       "    </tr>\n",
       "    <tr>\n",
       "      <th>209</th>\n",
       "      <td>210</td>\n",
       "      <td>Lucumi</td>\n",
       "      <td>Defender</td>\n",
       "      <td>26</td>\n",
       "      <td>Colombia</td>\n",
       "      <td>Bologna</td>\n",
       "      <td>Serie A</td>\n",
       "      <td>League_phase</td>\n",
       "      <td>E</td>\n",
       "      <td>18.0</td>\n",
       "      <td>...</td>\n",
       "      <td>40</td>\n",
       "      <td>1</td>\n",
       "      <td>4</td>\n",
       "      <td>0</td>\n",
       "      <td>0</td>\n",
       "      <td>0</td>\n",
       "      <td>0</td>\n",
       "      <td>531</td>\n",
       "      <td>7</td>\n",
       "      <td>1</td>\n",
       "    </tr>\n",
       "  </tbody>\n",
       "</table>\n",
       "<p>165 rows × 31 columns</p>\n",
       "</div>"
      ]
     },
     "execution_count": 39,
     "metadata": {},
     "output_type": "execute_result"
    }
   ],
   "execution_count": 39
  },
  {
   "metadata": {
    "ExecuteTime": {
     "end_time": "2025-06-02T13:38:05.464162Z",
     "start_time": "2025-06-02T13:38:05.454835Z"
    }
   },
   "cell_type": "code",
   "source": [
    "avg_distance = filtered.groupby('Competitions')['DistanceCovered(km)'].mean().reset_index()\n",
    "\n",
    "avg_distance"
   ],
   "id": "44192631211faf82",
   "outputs": [
    {
     "data": {
      "text/plain": [
       "     Competitions  DistanceCovered(km)\n",
       "0      Bundesliga            90.983871\n",
       "1         La Liga            81.846875\n",
       "2         Ligue 1           100.281481\n",
       "3  Premier League            83.632432\n",
       "4         Serie A            72.344737"
      ],
      "text/html": [
       "<div>\n",
       "<style scoped>\n",
       "    .dataframe tbody tr th:only-of-type {\n",
       "        vertical-align: middle;\n",
       "    }\n",
       "\n",
       "    .dataframe tbody tr th {\n",
       "        vertical-align: top;\n",
       "    }\n",
       "\n",
       "    .dataframe thead th {\n",
       "        text-align: right;\n",
       "    }\n",
       "</style>\n",
       "<table border=\"1\" class=\"dataframe\">\n",
       "  <thead>\n",
       "    <tr style=\"text-align: right;\">\n",
       "      <th></th>\n",
       "      <th>Competitions</th>\n",
       "      <th>DistanceCovered(km)</th>\n",
       "    </tr>\n",
       "  </thead>\n",
       "  <tbody>\n",
       "    <tr>\n",
       "      <th>0</th>\n",
       "      <td>Bundesliga</td>\n",
       "      <td>90.983871</td>\n",
       "    </tr>\n",
       "    <tr>\n",
       "      <th>1</th>\n",
       "      <td>La Liga</td>\n",
       "      <td>81.846875</td>\n",
       "    </tr>\n",
       "    <tr>\n",
       "      <th>2</th>\n",
       "      <td>Ligue 1</td>\n",
       "      <td>100.281481</td>\n",
       "    </tr>\n",
       "    <tr>\n",
       "      <th>3</th>\n",
       "      <td>Premier League</td>\n",
       "      <td>83.632432</td>\n",
       "    </tr>\n",
       "    <tr>\n",
       "      <th>4</th>\n",
       "      <td>Serie A</td>\n",
       "      <td>72.344737</td>\n",
       "    </tr>\n",
       "  </tbody>\n",
       "</table>\n",
       "</div>"
      ]
     },
     "execution_count": 40,
     "metadata": {},
     "output_type": "execute_result"
    }
   ],
   "execution_count": 40
  },
  {
   "metadata": {
    "ExecuteTime": {
     "end_time": "2025-06-02T13:38:20.339023Z",
     "start_time": "2025-06-02T13:38:20.335639Z"
    }
   },
   "cell_type": "code",
   "source": [
    "avg_distance = avg_distance.sort_values(by='DistanceCovered(km)', ascending=False)\n",
    "avg_distance['DistanceCovered(km)'] = avg_distance['DistanceCovered(km)'].round(1)"
   ],
   "id": "c04ae70de8678aa1",
   "outputs": [],
   "execution_count": 42
  },
  {
   "metadata": {
    "ExecuteTime": {
     "end_time": "2025-06-02T13:38:32.067577Z",
     "start_time": "2025-06-02T13:38:32.029716Z"
    }
   },
   "cell_type": "code",
   "source": [
    "fig = px.bar(\n",
    "    avg_distance,\n",
    "    x='Competitions',\n",
    "    y='DistanceCovered(km)',\n",
    "    title='Average distance per Competition Champions League⚽🏆 2025 Season',\n",
    "    text='DistanceCovered(km)',\n",
    "    color='DistanceCovered(km)',\n",
    "    color_continuous_scale='Blues'\n",
    ")\n",
    "fig.update_traces(texttemplate='%{text} km', textposition='inside')\n",
    "fig.show()"
   ],
   "id": "2bded6baa5c58e4e",
   "outputs": [
    {
     "data": {
      "application/vnd.plotly.v1+json": {
       "data": [
        {
         "hovertemplate": "Competitions=%{x}<br>DistanceCovered(km)=%{marker.color}<extra></extra>",
         "legendgroup": "",
         "marker": {
          "color": {
           "dtype": "f8",
           "bdata": "MzMzMzMTWUAAAAAAAMBWQGZmZmZm5lRAMzMzMzNzVEAzMzMzMxNSQA=="
          },
          "coloraxis": "coloraxis",
          "pattern": {
           "shape": ""
          }
         },
         "name": "",
         "orientation": "v",
         "showlegend": false,
         "text": {
          "dtype": "f8",
          "bdata": "MzMzMzMTWUAAAAAAAMBWQGZmZmZm5lRAMzMzMzNzVEAzMzMzMxNSQA=="
         },
         "textposition": "inside",
         "x": [
          "Ligue 1",
          "Bundesliga",
          "Premier League",
          "La Liga",
          "Serie A"
         ],
         "xaxis": "x",
         "y": {
          "dtype": "f8",
          "bdata": "MzMzMzMTWUAAAAAAAMBWQGZmZmZm5lRAMzMzMzNzVEAzMzMzMxNSQA=="
         },
         "yaxis": "y",
         "type": "bar",
         "texttemplate": "%{text} km"
        }
       ],
       "layout": {
        "template": {
         "data": {
          "histogram2dcontour": [
           {
            "type": "histogram2dcontour",
            "colorbar": {
             "outlinewidth": 0,
             "ticks": ""
            },
            "colorscale": [
             [
              0.0,
              "#0d0887"
             ],
             [
              0.1111111111111111,
              "#46039f"
             ],
             [
              0.2222222222222222,
              "#7201a8"
             ],
             [
              0.3333333333333333,
              "#9c179e"
             ],
             [
              0.4444444444444444,
              "#bd3786"
             ],
             [
              0.5555555555555556,
              "#d8576b"
             ],
             [
              0.6666666666666666,
              "#ed7953"
             ],
             [
              0.7777777777777778,
              "#fb9f3a"
             ],
             [
              0.8888888888888888,
              "#fdca26"
             ],
             [
              1.0,
              "#f0f921"
             ]
            ]
           }
          ],
          "choropleth": [
           {
            "type": "choropleth",
            "colorbar": {
             "outlinewidth": 0,
             "ticks": ""
            }
           }
          ],
          "histogram2d": [
           {
            "type": "histogram2d",
            "colorbar": {
             "outlinewidth": 0,
             "ticks": ""
            },
            "colorscale": [
             [
              0.0,
              "#0d0887"
             ],
             [
              0.1111111111111111,
              "#46039f"
             ],
             [
              0.2222222222222222,
              "#7201a8"
             ],
             [
              0.3333333333333333,
              "#9c179e"
             ],
             [
              0.4444444444444444,
              "#bd3786"
             ],
             [
              0.5555555555555556,
              "#d8576b"
             ],
             [
              0.6666666666666666,
              "#ed7953"
             ],
             [
              0.7777777777777778,
              "#fb9f3a"
             ],
             [
              0.8888888888888888,
              "#fdca26"
             ],
             [
              1.0,
              "#f0f921"
             ]
            ]
           }
          ],
          "heatmap": [
           {
            "type": "heatmap",
            "colorbar": {
             "outlinewidth": 0,
             "ticks": ""
            },
            "colorscale": [
             [
              0.0,
              "#0d0887"
             ],
             [
              0.1111111111111111,
              "#46039f"
             ],
             [
              0.2222222222222222,
              "#7201a8"
             ],
             [
              0.3333333333333333,
              "#9c179e"
             ],
             [
              0.4444444444444444,
              "#bd3786"
             ],
             [
              0.5555555555555556,
              "#d8576b"
             ],
             [
              0.6666666666666666,
              "#ed7953"
             ],
             [
              0.7777777777777778,
              "#fb9f3a"
             ],
             [
              0.8888888888888888,
              "#fdca26"
             ],
             [
              1.0,
              "#f0f921"
             ]
            ]
           }
          ],
          "contourcarpet": [
           {
            "type": "contourcarpet",
            "colorbar": {
             "outlinewidth": 0,
             "ticks": ""
            }
           }
          ],
          "contour": [
           {
            "type": "contour",
            "colorbar": {
             "outlinewidth": 0,
             "ticks": ""
            },
            "colorscale": [
             [
              0.0,
              "#0d0887"
             ],
             [
              0.1111111111111111,
              "#46039f"
             ],
             [
              0.2222222222222222,
              "#7201a8"
             ],
             [
              0.3333333333333333,
              "#9c179e"
             ],
             [
              0.4444444444444444,
              "#bd3786"
             ],
             [
              0.5555555555555556,
              "#d8576b"
             ],
             [
              0.6666666666666666,
              "#ed7953"
             ],
             [
              0.7777777777777778,
              "#fb9f3a"
             ],
             [
              0.8888888888888888,
              "#fdca26"
             ],
             [
              1.0,
              "#f0f921"
             ]
            ]
           }
          ],
          "surface": [
           {
            "type": "surface",
            "colorbar": {
             "outlinewidth": 0,
             "ticks": ""
            },
            "colorscale": [
             [
              0.0,
              "#0d0887"
             ],
             [
              0.1111111111111111,
              "#46039f"
             ],
             [
              0.2222222222222222,
              "#7201a8"
             ],
             [
              0.3333333333333333,
              "#9c179e"
             ],
             [
              0.4444444444444444,
              "#bd3786"
             ],
             [
              0.5555555555555556,
              "#d8576b"
             ],
             [
              0.6666666666666666,
              "#ed7953"
             ],
             [
              0.7777777777777778,
              "#fb9f3a"
             ],
             [
              0.8888888888888888,
              "#fdca26"
             ],
             [
              1.0,
              "#f0f921"
             ]
            ]
           }
          ],
          "mesh3d": [
           {
            "type": "mesh3d",
            "colorbar": {
             "outlinewidth": 0,
             "ticks": ""
            }
           }
          ],
          "scatter": [
           {
            "fillpattern": {
             "fillmode": "overlay",
             "size": 10,
             "solidity": 0.2
            },
            "type": "scatter"
           }
          ],
          "parcoords": [
           {
            "type": "parcoords",
            "line": {
             "colorbar": {
              "outlinewidth": 0,
              "ticks": ""
             }
            }
           }
          ],
          "scatterpolargl": [
           {
            "type": "scatterpolargl",
            "marker": {
             "colorbar": {
              "outlinewidth": 0,
              "ticks": ""
             }
            }
           }
          ],
          "bar": [
           {
            "error_x": {
             "color": "#2a3f5f"
            },
            "error_y": {
             "color": "#2a3f5f"
            },
            "marker": {
             "line": {
              "color": "#E5ECF6",
              "width": 0.5
             },
             "pattern": {
              "fillmode": "overlay",
              "size": 10,
              "solidity": 0.2
             }
            },
            "type": "bar"
           }
          ],
          "scattergeo": [
           {
            "type": "scattergeo",
            "marker": {
             "colorbar": {
              "outlinewidth": 0,
              "ticks": ""
             }
            }
           }
          ],
          "scatterpolar": [
           {
            "type": "scatterpolar",
            "marker": {
             "colorbar": {
              "outlinewidth": 0,
              "ticks": ""
             }
            }
           }
          ],
          "histogram": [
           {
            "marker": {
             "pattern": {
              "fillmode": "overlay",
              "size": 10,
              "solidity": 0.2
             }
            },
            "type": "histogram"
           }
          ],
          "scattergl": [
           {
            "type": "scattergl",
            "marker": {
             "colorbar": {
              "outlinewidth": 0,
              "ticks": ""
             }
            }
           }
          ],
          "scatter3d": [
           {
            "type": "scatter3d",
            "line": {
             "colorbar": {
              "outlinewidth": 0,
              "ticks": ""
             }
            },
            "marker": {
             "colorbar": {
              "outlinewidth": 0,
              "ticks": ""
             }
            }
           }
          ],
          "scattermap": [
           {
            "type": "scattermap",
            "marker": {
             "colorbar": {
              "outlinewidth": 0,
              "ticks": ""
             }
            }
           }
          ],
          "scattermapbox": [
           {
            "type": "scattermapbox",
            "marker": {
             "colorbar": {
              "outlinewidth": 0,
              "ticks": ""
             }
            }
           }
          ],
          "scatterternary": [
           {
            "type": "scatterternary",
            "marker": {
             "colorbar": {
              "outlinewidth": 0,
              "ticks": ""
             }
            }
           }
          ],
          "scattercarpet": [
           {
            "type": "scattercarpet",
            "marker": {
             "colorbar": {
              "outlinewidth": 0,
              "ticks": ""
             }
            }
           }
          ],
          "carpet": [
           {
            "aaxis": {
             "endlinecolor": "#2a3f5f",
             "gridcolor": "white",
             "linecolor": "white",
             "minorgridcolor": "white",
             "startlinecolor": "#2a3f5f"
            },
            "baxis": {
             "endlinecolor": "#2a3f5f",
             "gridcolor": "white",
             "linecolor": "white",
             "minorgridcolor": "white",
             "startlinecolor": "#2a3f5f"
            },
            "type": "carpet"
           }
          ],
          "table": [
           {
            "cells": {
             "fill": {
              "color": "#EBF0F8"
             },
             "line": {
              "color": "white"
             }
            },
            "header": {
             "fill": {
              "color": "#C8D4E3"
             },
             "line": {
              "color": "white"
             }
            },
            "type": "table"
           }
          ],
          "barpolar": [
           {
            "marker": {
             "line": {
              "color": "#E5ECF6",
              "width": 0.5
             },
             "pattern": {
              "fillmode": "overlay",
              "size": 10,
              "solidity": 0.2
             }
            },
            "type": "barpolar"
           }
          ],
          "pie": [
           {
            "automargin": true,
            "type": "pie"
           }
          ]
         },
         "layout": {
          "autotypenumbers": "strict",
          "colorway": [
           "#636efa",
           "#EF553B",
           "#00cc96",
           "#ab63fa",
           "#FFA15A",
           "#19d3f3",
           "#FF6692",
           "#B6E880",
           "#FF97FF",
           "#FECB52"
          ],
          "font": {
           "color": "#2a3f5f"
          },
          "hovermode": "closest",
          "hoverlabel": {
           "align": "left"
          },
          "paper_bgcolor": "white",
          "plot_bgcolor": "#E5ECF6",
          "polar": {
           "bgcolor": "#E5ECF6",
           "angularaxis": {
            "gridcolor": "white",
            "linecolor": "white",
            "ticks": ""
           },
           "radialaxis": {
            "gridcolor": "white",
            "linecolor": "white",
            "ticks": ""
           }
          },
          "ternary": {
           "bgcolor": "#E5ECF6",
           "aaxis": {
            "gridcolor": "white",
            "linecolor": "white",
            "ticks": ""
           },
           "baxis": {
            "gridcolor": "white",
            "linecolor": "white",
            "ticks": ""
           },
           "caxis": {
            "gridcolor": "white",
            "linecolor": "white",
            "ticks": ""
           }
          },
          "coloraxis": {
           "colorbar": {
            "outlinewidth": 0,
            "ticks": ""
           }
          },
          "colorscale": {
           "sequential": [
            [
             0.0,
             "#0d0887"
            ],
            [
             0.1111111111111111,
             "#46039f"
            ],
            [
             0.2222222222222222,
             "#7201a8"
            ],
            [
             0.3333333333333333,
             "#9c179e"
            ],
            [
             0.4444444444444444,
             "#bd3786"
            ],
            [
             0.5555555555555556,
             "#d8576b"
            ],
            [
             0.6666666666666666,
             "#ed7953"
            ],
            [
             0.7777777777777778,
             "#fb9f3a"
            ],
            [
             0.8888888888888888,
             "#fdca26"
            ],
            [
             1.0,
             "#f0f921"
            ]
           ],
           "sequentialminus": [
            [
             0.0,
             "#0d0887"
            ],
            [
             0.1111111111111111,
             "#46039f"
            ],
            [
             0.2222222222222222,
             "#7201a8"
            ],
            [
             0.3333333333333333,
             "#9c179e"
            ],
            [
             0.4444444444444444,
             "#bd3786"
            ],
            [
             0.5555555555555556,
             "#d8576b"
            ],
            [
             0.6666666666666666,
             "#ed7953"
            ],
            [
             0.7777777777777778,
             "#fb9f3a"
            ],
            [
             0.8888888888888888,
             "#fdca26"
            ],
            [
             1.0,
             "#f0f921"
            ]
           ],
           "diverging": [
            [
             0,
             "#8e0152"
            ],
            [
             0.1,
             "#c51b7d"
            ],
            [
             0.2,
             "#de77ae"
            ],
            [
             0.3,
             "#f1b6da"
            ],
            [
             0.4,
             "#fde0ef"
            ],
            [
             0.5,
             "#f7f7f7"
            ],
            [
             0.6,
             "#e6f5d0"
            ],
            [
             0.7,
             "#b8e186"
            ],
            [
             0.8,
             "#7fbc41"
            ],
            [
             0.9,
             "#4d9221"
            ],
            [
             1,
             "#276419"
            ]
           ]
          },
          "xaxis": {
           "gridcolor": "white",
           "linecolor": "white",
           "ticks": "",
           "title": {
            "standoff": 15
           },
           "zerolinecolor": "white",
           "automargin": true,
           "zerolinewidth": 2
          },
          "yaxis": {
           "gridcolor": "white",
           "linecolor": "white",
           "ticks": "",
           "title": {
            "standoff": 15
           },
           "zerolinecolor": "white",
           "automargin": true,
           "zerolinewidth": 2
          },
          "scene": {
           "xaxis": {
            "backgroundcolor": "#E5ECF6",
            "gridcolor": "white",
            "linecolor": "white",
            "showbackground": true,
            "ticks": "",
            "zerolinecolor": "white",
            "gridwidth": 2
           },
           "yaxis": {
            "backgroundcolor": "#E5ECF6",
            "gridcolor": "white",
            "linecolor": "white",
            "showbackground": true,
            "ticks": "",
            "zerolinecolor": "white",
            "gridwidth": 2
           },
           "zaxis": {
            "backgroundcolor": "#E5ECF6",
            "gridcolor": "white",
            "linecolor": "white",
            "showbackground": true,
            "ticks": "",
            "zerolinecolor": "white",
            "gridwidth": 2
           }
          },
          "shapedefaults": {
           "line": {
            "color": "#2a3f5f"
           }
          },
          "annotationdefaults": {
           "arrowcolor": "#2a3f5f",
           "arrowhead": 0,
           "arrowwidth": 1
          },
          "geo": {
           "bgcolor": "white",
           "landcolor": "#E5ECF6",
           "subunitcolor": "white",
           "showland": true,
           "showlakes": true,
           "lakecolor": "white"
          },
          "title": {
           "x": 0.05
          },
          "mapbox": {
           "style": "light"
          }
         }
        },
        "xaxis": {
         "anchor": "y",
         "domain": [
          0.0,
          1.0
         ],
         "title": {
          "text": "Competitions"
         }
        },
        "yaxis": {
         "anchor": "x",
         "domain": [
          0.0,
          1.0
         ],
         "title": {
          "text": "DistanceCovered(km)"
         }
        },
        "coloraxis": {
         "colorbar": {
          "title": {
           "text": "DistanceCovered(km)"
          }
         },
         "colorscale": [
          [
           0.0,
           "rgb(247,251,255)"
          ],
          [
           0.125,
           "rgb(222,235,247)"
          ],
          [
           0.25,
           "rgb(198,219,239)"
          ],
          [
           0.375,
           "rgb(158,202,225)"
          ],
          [
           0.5,
           "rgb(107,174,214)"
          ],
          [
           0.625,
           "rgb(66,146,198)"
          ],
          [
           0.75,
           "rgb(33,113,181)"
          ],
          [
           0.875,
           "rgb(8,81,156)"
          ],
          [
           1.0,
           "rgb(8,48,107)"
          ]
         ]
        },
        "legend": {
         "tracegroupgap": 0
        },
        "title": {
         "text": "Average distance per Competition Champions League⚽🏆 2025 Season"
        },
        "barmode": "relative"
       },
       "config": {
        "plotlyServerURL": "https://plot.ly"
       }
      }
     },
     "metadata": {},
     "output_type": "display_data"
    }
   ],
   "execution_count": 43
  },
  {
   "metadata": {},
   "cell_type": "markdown",
   "source": "#### Defensive Contribution: Tackles and Ball Recoveries",
   "id": "640a9c2140d8a0c7"
  },
  {
   "metadata": {
    "ExecuteTime": {
     "end_time": "2025-06-03T14:51:08.808114Z",
     "start_time": "2025-06-03T14:51:08.799097Z"
    }
   },
   "cell_type": "code",
   "source": [
    "top_defenders = (\n",
    "    ucl[['Player','Position','Balls_recovered', 'Tackles_Won']]\n",
    "    .sort_values(by='Balls_recovered', ascending=False)\n",
    "    .head(20)\n",
    ")\n",
    "\n",
    "top_defenders\n"
   ],
   "id": "ee4b013ea2e1d0a2",
   "outputs": [
    {
     "data": {
      "text/plain": [
       "                 Player    Position  Balls_recovered  Tackles_Won\n",
       "139               Pacho    Defender              124            5\n",
       "161          Marquinhos    Defender              109           10\n",
       "129         Nuno Mendes    Defender               87           23\n",
       "132          Minjae Kim    Defender               87            7\n",
       "175          Joao Neves  Midfielder               87           19\n",
       "79   Alexsandro Ribeiro    Defender               86            2\n",
       "9              Otamendi    Defender               85           17\n",
       "85            Upamecano    Defender               82            9\n",
       "99        Schlotterbeck    Defender               76           19\n",
       "12               Hakimi    Defender               74           11\n",
       "24           Florentino  Midfielder               73           23\n",
       "53               Saliba    Defender               72            6\n",
       "101           De Cuyper    Defender               71            9\n",
       "189      Marten de Roon    Defender               71            9\n",
       "168            Boscagli    Defender               71            8\n",
       "78             Emre Can  Midfielder               70            4\n",
       "55              Vitinha  Midfielder               66            5\n",
       "69              Ryerson    Defender               65            2\n",
       "198            Valverde  Midfielder               65           14\n",
       "76            Vanderson    Defender               63            9"
      ],
      "text/html": [
       "<div>\n",
       "<style scoped>\n",
       "    .dataframe tbody tr th:only-of-type {\n",
       "        vertical-align: middle;\n",
       "    }\n",
       "\n",
       "    .dataframe tbody tr th {\n",
       "        vertical-align: top;\n",
       "    }\n",
       "\n",
       "    .dataframe thead th {\n",
       "        text-align: right;\n",
       "    }\n",
       "</style>\n",
       "<table border=\"1\" class=\"dataframe\">\n",
       "  <thead>\n",
       "    <tr style=\"text-align: right;\">\n",
       "      <th></th>\n",
       "      <th>Player</th>\n",
       "      <th>Position</th>\n",
       "      <th>Balls_recovered</th>\n",
       "      <th>Tackles_Won</th>\n",
       "    </tr>\n",
       "  </thead>\n",
       "  <tbody>\n",
       "    <tr>\n",
       "      <th>139</th>\n",
       "      <td>Pacho</td>\n",
       "      <td>Defender</td>\n",
       "      <td>124</td>\n",
       "      <td>5</td>\n",
       "    </tr>\n",
       "    <tr>\n",
       "      <th>161</th>\n",
       "      <td>Marquinhos</td>\n",
       "      <td>Defender</td>\n",
       "      <td>109</td>\n",
       "      <td>10</td>\n",
       "    </tr>\n",
       "    <tr>\n",
       "      <th>129</th>\n",
       "      <td>Nuno Mendes</td>\n",
       "      <td>Defender</td>\n",
       "      <td>87</td>\n",
       "      <td>23</td>\n",
       "    </tr>\n",
       "    <tr>\n",
       "      <th>132</th>\n",
       "      <td>Minjae Kim</td>\n",
       "      <td>Defender</td>\n",
       "      <td>87</td>\n",
       "      <td>7</td>\n",
       "    </tr>\n",
       "    <tr>\n",
       "      <th>175</th>\n",
       "      <td>Joao Neves</td>\n",
       "      <td>Midfielder</td>\n",
       "      <td>87</td>\n",
       "      <td>19</td>\n",
       "    </tr>\n",
       "    <tr>\n",
       "      <th>79</th>\n",
       "      <td>Alexsandro Ribeiro</td>\n",
       "      <td>Defender</td>\n",
       "      <td>86</td>\n",
       "      <td>2</td>\n",
       "    </tr>\n",
       "    <tr>\n",
       "      <th>9</th>\n",
       "      <td>Otamendi</td>\n",
       "      <td>Defender</td>\n",
       "      <td>85</td>\n",
       "      <td>17</td>\n",
       "    </tr>\n",
       "    <tr>\n",
       "      <th>85</th>\n",
       "      <td>Upamecano</td>\n",
       "      <td>Defender</td>\n",
       "      <td>82</td>\n",
       "      <td>9</td>\n",
       "    </tr>\n",
       "    <tr>\n",
       "      <th>99</th>\n",
       "      <td>Schlotterbeck</td>\n",
       "      <td>Defender</td>\n",
       "      <td>76</td>\n",
       "      <td>19</td>\n",
       "    </tr>\n",
       "    <tr>\n",
       "      <th>12</th>\n",
       "      <td>Hakimi</td>\n",
       "      <td>Defender</td>\n",
       "      <td>74</td>\n",
       "      <td>11</td>\n",
       "    </tr>\n",
       "    <tr>\n",
       "      <th>24</th>\n",
       "      <td>Florentino</td>\n",
       "      <td>Midfielder</td>\n",
       "      <td>73</td>\n",
       "      <td>23</td>\n",
       "    </tr>\n",
       "    <tr>\n",
       "      <th>53</th>\n",
       "      <td>Saliba</td>\n",
       "      <td>Defender</td>\n",
       "      <td>72</td>\n",
       "      <td>6</td>\n",
       "    </tr>\n",
       "    <tr>\n",
       "      <th>101</th>\n",
       "      <td>De Cuyper</td>\n",
       "      <td>Defender</td>\n",
       "      <td>71</td>\n",
       "      <td>9</td>\n",
       "    </tr>\n",
       "    <tr>\n",
       "      <th>189</th>\n",
       "      <td>Marten de Roon</td>\n",
       "      <td>Defender</td>\n",
       "      <td>71</td>\n",
       "      <td>9</td>\n",
       "    </tr>\n",
       "    <tr>\n",
       "      <th>168</th>\n",
       "      <td>Boscagli</td>\n",
       "      <td>Defender</td>\n",
       "      <td>71</td>\n",
       "      <td>8</td>\n",
       "    </tr>\n",
       "    <tr>\n",
       "      <th>78</th>\n",
       "      <td>Emre Can</td>\n",
       "      <td>Midfielder</td>\n",
       "      <td>70</td>\n",
       "      <td>4</td>\n",
       "    </tr>\n",
       "    <tr>\n",
       "      <th>55</th>\n",
       "      <td>Vitinha</td>\n",
       "      <td>Midfielder</td>\n",
       "      <td>66</td>\n",
       "      <td>5</td>\n",
       "    </tr>\n",
       "    <tr>\n",
       "      <th>69</th>\n",
       "      <td>Ryerson</td>\n",
       "      <td>Defender</td>\n",
       "      <td>65</td>\n",
       "      <td>2</td>\n",
       "    </tr>\n",
       "    <tr>\n",
       "      <th>198</th>\n",
       "      <td>Valverde</td>\n",
       "      <td>Midfielder</td>\n",
       "      <td>65</td>\n",
       "      <td>14</td>\n",
       "    </tr>\n",
       "    <tr>\n",
       "      <th>76</th>\n",
       "      <td>Vanderson</td>\n",
       "      <td>Defender</td>\n",
       "      <td>63</td>\n",
       "      <td>9</td>\n",
       "    </tr>\n",
       "  </tbody>\n",
       "</table>\n",
       "</div>"
      ]
     },
     "execution_count": 58,
     "metadata": {},
     "output_type": "execute_result"
    }
   ],
   "execution_count": 58
  },
  {
   "metadata": {
    "ExecuteTime": {
     "end_time": "2025-06-03T14:53:33.750684Z",
     "start_time": "2025-06-03T14:53:33.744286Z"
    }
   },
   "cell_type": "code",
   "source": [
    "top_defenders['PlayerTag'] = top_defenders['Player'] + \" (\" + top_defenders['Position'] + \")\"\n",
    "\n",
    "top_defenders"
   ],
   "id": "df6d21c75dfc2172",
   "outputs": [
    {
     "data": {
      "text/plain": [
       "                 Player    Position  Balls_recovered  Tackles_Won  \\\n",
       "139               Pacho    Defender              124            5   \n",
       "161          Marquinhos    Defender              109           10   \n",
       "129         Nuno Mendes    Defender               87           23   \n",
       "132          Minjae Kim    Defender               87            7   \n",
       "175          Joao Neves  Midfielder               87           19   \n",
       "79   Alexsandro Ribeiro    Defender               86            2   \n",
       "9              Otamendi    Defender               85           17   \n",
       "85            Upamecano    Defender               82            9   \n",
       "99        Schlotterbeck    Defender               76           19   \n",
       "12               Hakimi    Defender               74           11   \n",
       "24           Florentino  Midfielder               73           23   \n",
       "53               Saliba    Defender               72            6   \n",
       "101           De Cuyper    Defender               71            9   \n",
       "189      Marten de Roon    Defender               71            9   \n",
       "168            Boscagli    Defender               71            8   \n",
       "78             Emre Can  Midfielder               70            4   \n",
       "55              Vitinha  Midfielder               66            5   \n",
       "69              Ryerson    Defender               65            2   \n",
       "198            Valverde  Midfielder               65           14   \n",
       "76            Vanderson    Defender               63            9   \n",
       "\n",
       "                         PlayerTag  \n",
       "139               Pacho (Defender)  \n",
       "161          Marquinhos (Defender)  \n",
       "129         Nuno Mendes (Defender)  \n",
       "132          Minjae Kim (Defender)  \n",
       "175        Joao Neves (Midfielder)  \n",
       "79   Alexsandro Ribeiro (Defender)  \n",
       "9              Otamendi (Defender)  \n",
       "85            Upamecano (Defender)  \n",
       "99        Schlotterbeck (Defender)  \n",
       "12               Hakimi (Defender)  \n",
       "24         Florentino (Midfielder)  \n",
       "53               Saliba (Defender)  \n",
       "101           De Cuyper (Defender)  \n",
       "189      Marten de Roon (Defender)  \n",
       "168            Boscagli (Defender)  \n",
       "78           Emre Can (Midfielder)  \n",
       "55            Vitinha (Midfielder)  \n",
       "69              Ryerson (Defender)  \n",
       "198          Valverde (Midfielder)  \n",
       "76            Vanderson (Defender)  "
      ],
      "text/html": [
       "<div>\n",
       "<style scoped>\n",
       "    .dataframe tbody tr th:only-of-type {\n",
       "        vertical-align: middle;\n",
       "    }\n",
       "\n",
       "    .dataframe tbody tr th {\n",
       "        vertical-align: top;\n",
       "    }\n",
       "\n",
       "    .dataframe thead th {\n",
       "        text-align: right;\n",
       "    }\n",
       "</style>\n",
       "<table border=\"1\" class=\"dataframe\">\n",
       "  <thead>\n",
       "    <tr style=\"text-align: right;\">\n",
       "      <th></th>\n",
       "      <th>Player</th>\n",
       "      <th>Position</th>\n",
       "      <th>Balls_recovered</th>\n",
       "      <th>Tackles_Won</th>\n",
       "      <th>PlayerTag</th>\n",
       "    </tr>\n",
       "  </thead>\n",
       "  <tbody>\n",
       "    <tr>\n",
       "      <th>139</th>\n",
       "      <td>Pacho</td>\n",
       "      <td>Defender</td>\n",
       "      <td>124</td>\n",
       "      <td>5</td>\n",
       "      <td>Pacho (Defender)</td>\n",
       "    </tr>\n",
       "    <tr>\n",
       "      <th>161</th>\n",
       "      <td>Marquinhos</td>\n",
       "      <td>Defender</td>\n",
       "      <td>109</td>\n",
       "      <td>10</td>\n",
       "      <td>Marquinhos (Defender)</td>\n",
       "    </tr>\n",
       "    <tr>\n",
       "      <th>129</th>\n",
       "      <td>Nuno Mendes</td>\n",
       "      <td>Defender</td>\n",
       "      <td>87</td>\n",
       "      <td>23</td>\n",
       "      <td>Nuno Mendes (Defender)</td>\n",
       "    </tr>\n",
       "    <tr>\n",
       "      <th>132</th>\n",
       "      <td>Minjae Kim</td>\n",
       "      <td>Defender</td>\n",
       "      <td>87</td>\n",
       "      <td>7</td>\n",
       "      <td>Minjae Kim (Defender)</td>\n",
       "    </tr>\n",
       "    <tr>\n",
       "      <th>175</th>\n",
       "      <td>Joao Neves</td>\n",
       "      <td>Midfielder</td>\n",
       "      <td>87</td>\n",
       "      <td>19</td>\n",
       "      <td>Joao Neves (Midfielder)</td>\n",
       "    </tr>\n",
       "    <tr>\n",
       "      <th>79</th>\n",
       "      <td>Alexsandro Ribeiro</td>\n",
       "      <td>Defender</td>\n",
       "      <td>86</td>\n",
       "      <td>2</td>\n",
       "      <td>Alexsandro Ribeiro (Defender)</td>\n",
       "    </tr>\n",
       "    <tr>\n",
       "      <th>9</th>\n",
       "      <td>Otamendi</td>\n",
       "      <td>Defender</td>\n",
       "      <td>85</td>\n",
       "      <td>17</td>\n",
       "      <td>Otamendi (Defender)</td>\n",
       "    </tr>\n",
       "    <tr>\n",
       "      <th>85</th>\n",
       "      <td>Upamecano</td>\n",
       "      <td>Defender</td>\n",
       "      <td>82</td>\n",
       "      <td>9</td>\n",
       "      <td>Upamecano (Defender)</td>\n",
       "    </tr>\n",
       "    <tr>\n",
       "      <th>99</th>\n",
       "      <td>Schlotterbeck</td>\n",
       "      <td>Defender</td>\n",
       "      <td>76</td>\n",
       "      <td>19</td>\n",
       "      <td>Schlotterbeck (Defender)</td>\n",
       "    </tr>\n",
       "    <tr>\n",
       "      <th>12</th>\n",
       "      <td>Hakimi</td>\n",
       "      <td>Defender</td>\n",
       "      <td>74</td>\n",
       "      <td>11</td>\n",
       "      <td>Hakimi (Defender)</td>\n",
       "    </tr>\n",
       "    <tr>\n",
       "      <th>24</th>\n",
       "      <td>Florentino</td>\n",
       "      <td>Midfielder</td>\n",
       "      <td>73</td>\n",
       "      <td>23</td>\n",
       "      <td>Florentino (Midfielder)</td>\n",
       "    </tr>\n",
       "    <tr>\n",
       "      <th>53</th>\n",
       "      <td>Saliba</td>\n",
       "      <td>Defender</td>\n",
       "      <td>72</td>\n",
       "      <td>6</td>\n",
       "      <td>Saliba (Defender)</td>\n",
       "    </tr>\n",
       "    <tr>\n",
       "      <th>101</th>\n",
       "      <td>De Cuyper</td>\n",
       "      <td>Defender</td>\n",
       "      <td>71</td>\n",
       "      <td>9</td>\n",
       "      <td>De Cuyper (Defender)</td>\n",
       "    </tr>\n",
       "    <tr>\n",
       "      <th>189</th>\n",
       "      <td>Marten de Roon</td>\n",
       "      <td>Defender</td>\n",
       "      <td>71</td>\n",
       "      <td>9</td>\n",
       "      <td>Marten de Roon (Defender)</td>\n",
       "    </tr>\n",
       "    <tr>\n",
       "      <th>168</th>\n",
       "      <td>Boscagli</td>\n",
       "      <td>Defender</td>\n",
       "      <td>71</td>\n",
       "      <td>8</td>\n",
       "      <td>Boscagli (Defender)</td>\n",
       "    </tr>\n",
       "    <tr>\n",
       "      <th>78</th>\n",
       "      <td>Emre Can</td>\n",
       "      <td>Midfielder</td>\n",
       "      <td>70</td>\n",
       "      <td>4</td>\n",
       "      <td>Emre Can (Midfielder)</td>\n",
       "    </tr>\n",
       "    <tr>\n",
       "      <th>55</th>\n",
       "      <td>Vitinha</td>\n",
       "      <td>Midfielder</td>\n",
       "      <td>66</td>\n",
       "      <td>5</td>\n",
       "      <td>Vitinha (Midfielder)</td>\n",
       "    </tr>\n",
       "    <tr>\n",
       "      <th>69</th>\n",
       "      <td>Ryerson</td>\n",
       "      <td>Defender</td>\n",
       "      <td>65</td>\n",
       "      <td>2</td>\n",
       "      <td>Ryerson (Defender)</td>\n",
       "    </tr>\n",
       "    <tr>\n",
       "      <th>198</th>\n",
       "      <td>Valverde</td>\n",
       "      <td>Midfielder</td>\n",
       "      <td>65</td>\n",
       "      <td>14</td>\n",
       "      <td>Valverde (Midfielder)</td>\n",
       "    </tr>\n",
       "    <tr>\n",
       "      <th>76</th>\n",
       "      <td>Vanderson</td>\n",
       "      <td>Defender</td>\n",
       "      <td>63</td>\n",
       "      <td>9</td>\n",
       "      <td>Vanderson (Defender)</td>\n",
       "    </tr>\n",
       "  </tbody>\n",
       "</table>\n",
       "</div>"
      ]
     },
     "execution_count": 66,
     "metadata": {},
     "output_type": "execute_result"
    }
   ],
   "execution_count": 66
  },
  {
   "metadata": {
    "ExecuteTime": {
     "end_time": "2025-06-03T14:58:51.384269Z",
     "start_time": "2025-06-03T14:58:51.346308Z"
    }
   },
   "cell_type": "code",
   "source": [
    "fig = go.Figure()\n",
    "fig.add_trace(go.Bar(\n",
    "    y=top_defenders['PlayerTag'],\n",
    "    x=top_defenders['Balls_recovered'],\n",
    "    name='Balls Recovered',\n",
    "    orientation='h',\n",
    "    marker_color='lightblue',\n",
    "    text=top_defenders['Balls_recovered'],\n",
    "    textposition='inside'\n",
    "))\n",
    "\n",
    "fig.add_trace(go.Bar(\n",
    "    y=top_defenders['PlayerTag'],\n",
    "    x=top_defenders['Tackles_Won'],\n",
    "    name='Tackles Won',\n",
    "    orientation='h',\n",
    "    marker_color='steelblue',\n",
    "    text=top_defenders['Tackles_Won'],\n",
    "    textposition='inside'\n",
    "))\n",
    "\n",
    "fig.update_layout(\n",
    "    title='Most Tackles and Ball Recovers in Champions League 2025',\n",
    "    xaxis_title='Count',\n",
    "    yaxis_title='Players ',\n",
    "    barmode='overlay',\n",
    "    plot_bgcolor='white',\n",
    "    bargap=0.2,\n",
    "    height=700\n",
    ")\n",
    "\n",
    "fig.show()\n"
   ],
   "id": "c651b56161be12c2",
   "outputs": [
    {
     "data": {
      "application/vnd.plotly.v1+json": {
       "data": [
        {
         "marker": {
          "color": "lightblue"
         },
         "name": "Balls Recovered",
         "orientation": "h",
         "text": {
          "dtype": "f8",
          "bdata": "AAAAAAAAX0AAAAAAAEBbQAAAAAAAwFVAAAAAAADAVUAAAAAAAMBVQAAAAAAAgFVAAAAAAABAVUAAAAAAAIBUQAAAAAAAAFNAAAAAAACAUkAAAAAAAEBSQAAAAAAAAFJAAAAAAADAUUAAAAAAAMBRQAAAAAAAwFFAAAAAAACAUUAAAAAAAIBQQAAAAAAAQFBAAAAAAABAUEAAAAAAAIBPQA=="
         },
         "textposition": "inside",
         "x": {
          "dtype": "i1",
          "bdata": "fG1XV1dWVVJMSklIR0dHRkJBQT8="
         },
         "y": [
          "Pacho (Defender)",
          "Marquinhos (Defender)",
          "Nuno Mendes (Defender)",
          "Minjae Kim (Defender)",
          "Joao Neves (Midfielder)",
          "Alexsandro Ribeiro (Defender)",
          "Otamendi (Defender)",
          "Upamecano (Defender)",
          "Schlotterbeck (Defender)",
          "Hakimi (Defender)",
          "Florentino (Midfielder)",
          "Saliba (Defender)",
          "De Cuyper (Defender)",
          "Marten de Roon (Defender)",
          "Boscagli (Defender)",
          "Emre Can (Midfielder)",
          "Vitinha (Midfielder)",
          "Ryerson (Defender)",
          "Valverde (Midfielder)",
          "Vanderson (Defender)"
         ],
         "type": "bar"
        },
        {
         "marker": {
          "color": "steelblue"
         },
         "name": "Tackles Won",
         "orientation": "h",
         "text": {
          "dtype": "f8",
          "bdata": "AAAAAAAAFEAAAAAAAAAkQAAAAAAAADdAAAAAAAAAHEAAAAAAAAAzQAAAAAAAAABAAAAAAAAAMUAAAAAAAAAiQAAAAAAAADNAAAAAAAAAJkAAAAAAAAA3QAAAAAAAABhAAAAAAAAAIkAAAAAAAAAiQAAAAAAAACBAAAAAAAAAEEAAAAAAAAAUQAAAAAAAAABAAAAAAAAALEAAAAAAAAAiQA=="
         },
         "textposition": "inside",
         "x": {
          "dtype": "i1",
          "bdata": "BQoXBxMCEQkTCxcGCQkIBAUCDgk="
         },
         "y": [
          "Pacho (Defender)",
          "Marquinhos (Defender)",
          "Nuno Mendes (Defender)",
          "Minjae Kim (Defender)",
          "Joao Neves (Midfielder)",
          "Alexsandro Ribeiro (Defender)",
          "Otamendi (Defender)",
          "Upamecano (Defender)",
          "Schlotterbeck (Defender)",
          "Hakimi (Defender)",
          "Florentino (Midfielder)",
          "Saliba (Defender)",
          "De Cuyper (Defender)",
          "Marten de Roon (Defender)",
          "Boscagli (Defender)",
          "Emre Can (Midfielder)",
          "Vitinha (Midfielder)",
          "Ryerson (Defender)",
          "Valverde (Midfielder)",
          "Vanderson (Defender)"
         ],
         "type": "bar"
        }
       ],
       "layout": {
        "template": {
         "data": {
          "histogram2dcontour": [
           {
            "type": "histogram2dcontour",
            "colorbar": {
             "outlinewidth": 0,
             "ticks": ""
            },
            "colorscale": [
             [
              0.0,
              "#0d0887"
             ],
             [
              0.1111111111111111,
              "#46039f"
             ],
             [
              0.2222222222222222,
              "#7201a8"
             ],
             [
              0.3333333333333333,
              "#9c179e"
             ],
             [
              0.4444444444444444,
              "#bd3786"
             ],
             [
              0.5555555555555556,
              "#d8576b"
             ],
             [
              0.6666666666666666,
              "#ed7953"
             ],
             [
              0.7777777777777778,
              "#fb9f3a"
             ],
             [
              0.8888888888888888,
              "#fdca26"
             ],
             [
              1.0,
              "#f0f921"
             ]
            ]
           }
          ],
          "choropleth": [
           {
            "type": "choropleth",
            "colorbar": {
             "outlinewidth": 0,
             "ticks": ""
            }
           }
          ],
          "histogram2d": [
           {
            "type": "histogram2d",
            "colorbar": {
             "outlinewidth": 0,
             "ticks": ""
            },
            "colorscale": [
             [
              0.0,
              "#0d0887"
             ],
             [
              0.1111111111111111,
              "#46039f"
             ],
             [
              0.2222222222222222,
              "#7201a8"
             ],
             [
              0.3333333333333333,
              "#9c179e"
             ],
             [
              0.4444444444444444,
              "#bd3786"
             ],
             [
              0.5555555555555556,
              "#d8576b"
             ],
             [
              0.6666666666666666,
              "#ed7953"
             ],
             [
              0.7777777777777778,
              "#fb9f3a"
             ],
             [
              0.8888888888888888,
              "#fdca26"
             ],
             [
              1.0,
              "#f0f921"
             ]
            ]
           }
          ],
          "heatmap": [
           {
            "type": "heatmap",
            "colorbar": {
             "outlinewidth": 0,
             "ticks": ""
            },
            "colorscale": [
             [
              0.0,
              "#0d0887"
             ],
             [
              0.1111111111111111,
              "#46039f"
             ],
             [
              0.2222222222222222,
              "#7201a8"
             ],
             [
              0.3333333333333333,
              "#9c179e"
             ],
             [
              0.4444444444444444,
              "#bd3786"
             ],
             [
              0.5555555555555556,
              "#d8576b"
             ],
             [
              0.6666666666666666,
              "#ed7953"
             ],
             [
              0.7777777777777778,
              "#fb9f3a"
             ],
             [
              0.8888888888888888,
              "#fdca26"
             ],
             [
              1.0,
              "#f0f921"
             ]
            ]
           }
          ],
          "contourcarpet": [
           {
            "type": "contourcarpet",
            "colorbar": {
             "outlinewidth": 0,
             "ticks": ""
            }
           }
          ],
          "contour": [
           {
            "type": "contour",
            "colorbar": {
             "outlinewidth": 0,
             "ticks": ""
            },
            "colorscale": [
             [
              0.0,
              "#0d0887"
             ],
             [
              0.1111111111111111,
              "#46039f"
             ],
             [
              0.2222222222222222,
              "#7201a8"
             ],
             [
              0.3333333333333333,
              "#9c179e"
             ],
             [
              0.4444444444444444,
              "#bd3786"
             ],
             [
              0.5555555555555556,
              "#d8576b"
             ],
             [
              0.6666666666666666,
              "#ed7953"
             ],
             [
              0.7777777777777778,
              "#fb9f3a"
             ],
             [
              0.8888888888888888,
              "#fdca26"
             ],
             [
              1.0,
              "#f0f921"
             ]
            ]
           }
          ],
          "surface": [
           {
            "type": "surface",
            "colorbar": {
             "outlinewidth": 0,
             "ticks": ""
            },
            "colorscale": [
             [
              0.0,
              "#0d0887"
             ],
             [
              0.1111111111111111,
              "#46039f"
             ],
             [
              0.2222222222222222,
              "#7201a8"
             ],
             [
              0.3333333333333333,
              "#9c179e"
             ],
             [
              0.4444444444444444,
              "#bd3786"
             ],
             [
              0.5555555555555556,
              "#d8576b"
             ],
             [
              0.6666666666666666,
              "#ed7953"
             ],
             [
              0.7777777777777778,
              "#fb9f3a"
             ],
             [
              0.8888888888888888,
              "#fdca26"
             ],
             [
              1.0,
              "#f0f921"
             ]
            ]
           }
          ],
          "mesh3d": [
           {
            "type": "mesh3d",
            "colorbar": {
             "outlinewidth": 0,
             "ticks": ""
            }
           }
          ],
          "scatter": [
           {
            "fillpattern": {
             "fillmode": "overlay",
             "size": 10,
             "solidity": 0.2
            },
            "type": "scatter"
           }
          ],
          "parcoords": [
           {
            "type": "parcoords",
            "line": {
             "colorbar": {
              "outlinewidth": 0,
              "ticks": ""
             }
            }
           }
          ],
          "scatterpolargl": [
           {
            "type": "scatterpolargl",
            "marker": {
             "colorbar": {
              "outlinewidth": 0,
              "ticks": ""
             }
            }
           }
          ],
          "bar": [
           {
            "error_x": {
             "color": "#2a3f5f"
            },
            "error_y": {
             "color": "#2a3f5f"
            },
            "marker": {
             "line": {
              "color": "#E5ECF6",
              "width": 0.5
             },
             "pattern": {
              "fillmode": "overlay",
              "size": 10,
              "solidity": 0.2
             }
            },
            "type": "bar"
           }
          ],
          "scattergeo": [
           {
            "type": "scattergeo",
            "marker": {
             "colorbar": {
              "outlinewidth": 0,
              "ticks": ""
             }
            }
           }
          ],
          "scatterpolar": [
           {
            "type": "scatterpolar",
            "marker": {
             "colorbar": {
              "outlinewidth": 0,
              "ticks": ""
             }
            }
           }
          ],
          "histogram": [
           {
            "marker": {
             "pattern": {
              "fillmode": "overlay",
              "size": 10,
              "solidity": 0.2
             }
            },
            "type": "histogram"
           }
          ],
          "scattergl": [
           {
            "type": "scattergl",
            "marker": {
             "colorbar": {
              "outlinewidth": 0,
              "ticks": ""
             }
            }
           }
          ],
          "scatter3d": [
           {
            "type": "scatter3d",
            "line": {
             "colorbar": {
              "outlinewidth": 0,
              "ticks": ""
             }
            },
            "marker": {
             "colorbar": {
              "outlinewidth": 0,
              "ticks": ""
             }
            }
           }
          ],
          "scattermap": [
           {
            "type": "scattermap",
            "marker": {
             "colorbar": {
              "outlinewidth": 0,
              "ticks": ""
             }
            }
           }
          ],
          "scattermapbox": [
           {
            "type": "scattermapbox",
            "marker": {
             "colorbar": {
              "outlinewidth": 0,
              "ticks": ""
             }
            }
           }
          ],
          "scatterternary": [
           {
            "type": "scatterternary",
            "marker": {
             "colorbar": {
              "outlinewidth": 0,
              "ticks": ""
             }
            }
           }
          ],
          "scattercarpet": [
           {
            "type": "scattercarpet",
            "marker": {
             "colorbar": {
              "outlinewidth": 0,
              "ticks": ""
             }
            }
           }
          ],
          "carpet": [
           {
            "aaxis": {
             "endlinecolor": "#2a3f5f",
             "gridcolor": "white",
             "linecolor": "white",
             "minorgridcolor": "white",
             "startlinecolor": "#2a3f5f"
            },
            "baxis": {
             "endlinecolor": "#2a3f5f",
             "gridcolor": "white",
             "linecolor": "white",
             "minorgridcolor": "white",
             "startlinecolor": "#2a3f5f"
            },
            "type": "carpet"
           }
          ],
          "table": [
           {
            "cells": {
             "fill": {
              "color": "#EBF0F8"
             },
             "line": {
              "color": "white"
             }
            },
            "header": {
             "fill": {
              "color": "#C8D4E3"
             },
             "line": {
              "color": "white"
             }
            },
            "type": "table"
           }
          ],
          "barpolar": [
           {
            "marker": {
             "line": {
              "color": "#E5ECF6",
              "width": 0.5
             },
             "pattern": {
              "fillmode": "overlay",
              "size": 10,
              "solidity": 0.2
             }
            },
            "type": "barpolar"
           }
          ],
          "pie": [
           {
            "automargin": true,
            "type": "pie"
           }
          ]
         },
         "layout": {
          "autotypenumbers": "strict",
          "colorway": [
           "#636efa",
           "#EF553B",
           "#00cc96",
           "#ab63fa",
           "#FFA15A",
           "#19d3f3",
           "#FF6692",
           "#B6E880",
           "#FF97FF",
           "#FECB52"
          ],
          "font": {
           "color": "#2a3f5f"
          },
          "hovermode": "closest",
          "hoverlabel": {
           "align": "left"
          },
          "paper_bgcolor": "white",
          "plot_bgcolor": "#E5ECF6",
          "polar": {
           "bgcolor": "#E5ECF6",
           "angularaxis": {
            "gridcolor": "white",
            "linecolor": "white",
            "ticks": ""
           },
           "radialaxis": {
            "gridcolor": "white",
            "linecolor": "white",
            "ticks": ""
           }
          },
          "ternary": {
           "bgcolor": "#E5ECF6",
           "aaxis": {
            "gridcolor": "white",
            "linecolor": "white",
            "ticks": ""
           },
           "baxis": {
            "gridcolor": "white",
            "linecolor": "white",
            "ticks": ""
           },
           "caxis": {
            "gridcolor": "white",
            "linecolor": "white",
            "ticks": ""
           }
          },
          "coloraxis": {
           "colorbar": {
            "outlinewidth": 0,
            "ticks": ""
           }
          },
          "colorscale": {
           "sequential": [
            [
             0.0,
             "#0d0887"
            ],
            [
             0.1111111111111111,
             "#46039f"
            ],
            [
             0.2222222222222222,
             "#7201a8"
            ],
            [
             0.3333333333333333,
             "#9c179e"
            ],
            [
             0.4444444444444444,
             "#bd3786"
            ],
            [
             0.5555555555555556,
             "#d8576b"
            ],
            [
             0.6666666666666666,
             "#ed7953"
            ],
            [
             0.7777777777777778,
             "#fb9f3a"
            ],
            [
             0.8888888888888888,
             "#fdca26"
            ],
            [
             1.0,
             "#f0f921"
            ]
           ],
           "sequentialminus": [
            [
             0.0,
             "#0d0887"
            ],
            [
             0.1111111111111111,
             "#46039f"
            ],
            [
             0.2222222222222222,
             "#7201a8"
            ],
            [
             0.3333333333333333,
             "#9c179e"
            ],
            [
             0.4444444444444444,
             "#bd3786"
            ],
            [
             0.5555555555555556,
             "#d8576b"
            ],
            [
             0.6666666666666666,
             "#ed7953"
            ],
            [
             0.7777777777777778,
             "#fb9f3a"
            ],
            [
             0.8888888888888888,
             "#fdca26"
            ],
            [
             1.0,
             "#f0f921"
            ]
           ],
           "diverging": [
            [
             0,
             "#8e0152"
            ],
            [
             0.1,
             "#c51b7d"
            ],
            [
             0.2,
             "#de77ae"
            ],
            [
             0.3,
             "#f1b6da"
            ],
            [
             0.4,
             "#fde0ef"
            ],
            [
             0.5,
             "#f7f7f7"
            ],
            [
             0.6,
             "#e6f5d0"
            ],
            [
             0.7,
             "#b8e186"
            ],
            [
             0.8,
             "#7fbc41"
            ],
            [
             0.9,
             "#4d9221"
            ],
            [
             1,
             "#276419"
            ]
           ]
          },
          "xaxis": {
           "gridcolor": "white",
           "linecolor": "white",
           "ticks": "",
           "title": {
            "standoff": 15
           },
           "zerolinecolor": "white",
           "automargin": true,
           "zerolinewidth": 2
          },
          "yaxis": {
           "gridcolor": "white",
           "linecolor": "white",
           "ticks": "",
           "title": {
            "standoff": 15
           },
           "zerolinecolor": "white",
           "automargin": true,
           "zerolinewidth": 2
          },
          "scene": {
           "xaxis": {
            "backgroundcolor": "#E5ECF6",
            "gridcolor": "white",
            "linecolor": "white",
            "showbackground": true,
            "ticks": "",
            "zerolinecolor": "white",
            "gridwidth": 2
           },
           "yaxis": {
            "backgroundcolor": "#E5ECF6",
            "gridcolor": "white",
            "linecolor": "white",
            "showbackground": true,
            "ticks": "",
            "zerolinecolor": "white",
            "gridwidth": 2
           },
           "zaxis": {
            "backgroundcolor": "#E5ECF6",
            "gridcolor": "white",
            "linecolor": "white",
            "showbackground": true,
            "ticks": "",
            "zerolinecolor": "white",
            "gridwidth": 2
           }
          },
          "shapedefaults": {
           "line": {
            "color": "#2a3f5f"
           }
          },
          "annotationdefaults": {
           "arrowcolor": "#2a3f5f",
           "arrowhead": 0,
           "arrowwidth": 1
          },
          "geo": {
           "bgcolor": "white",
           "landcolor": "#E5ECF6",
           "subunitcolor": "white",
           "showland": true,
           "showlakes": true,
           "lakecolor": "white"
          },
          "title": {
           "x": 0.05
          },
          "mapbox": {
           "style": "light"
          }
         }
        },
        "title": {
         "text": "Most Tackles and Ball Recovers in Champions League 2025"
        },
        "xaxis": {
         "title": {
          "text": "Count"
         }
        },
        "yaxis": {
         "title": {
          "text": "Players "
         }
        },
        "barmode": "overlay",
        "plot_bgcolor": "white",
        "bargap": 0.2,
        "height": 700
       },
       "config": {
        "plotlyServerURL": "https://plot.ly"
       }
      }
     },
     "metadata": {},
     "output_type": "display_data"
    }
   ],
   "execution_count": 84
  },
  {
   "metadata": {
    "ExecuteTime": {
     "end_time": "2025-06-03T15:03:02.687685Z",
     "start_time": "2025-06-03T15:03:02.681348Z"
    }
   },
   "cell_type": "code",
   "source": "ucl['Distance_per_match'] = ucl['DistanceCovered(km)'] / ucl['Match_played']",
   "id": "83cab41db65affca",
   "outputs": [],
   "execution_count": 87
  },
  {
   "metadata": {
    "ExecuteTime": {
     "end_time": "2025-06-03T15:07:32.164786Z",
     "start_time": "2025-06-03T15:07:32.144856Z"
    }
   },
   "cell_type": "code",
   "source": [
    "position_stats = (\n",
    "    ucl.groupby('Position')[['Distance_per_match', 'TopSpeed(km/h)']]\n",
    "    .mean()\n",
    "    .round(2)\n",
    "    .sort_values(by='Distance_per_match', ascending=False)\n",
    "    .reset_index()\n",
    ")\n",
    "\n",
    "position_stats"
   ],
   "id": "940ee7956312ca4d",
   "outputs": [
    {
     "data": {
      "text/plain": [
       "     Position  Distance_per_match  TopSpeed(km/h)\n",
       "0  Midfielder                9.39           32.45\n",
       "1    Defender                8.56           33.36\n",
       "2     Forward                7.94           33.56\n",
       "3  Goalkeeper                4.96           26.64"
      ],
      "text/html": [
       "<div>\n",
       "<style scoped>\n",
       "    .dataframe tbody tr th:only-of-type {\n",
       "        vertical-align: middle;\n",
       "    }\n",
       "\n",
       "    .dataframe tbody tr th {\n",
       "        vertical-align: top;\n",
       "    }\n",
       "\n",
       "    .dataframe thead th {\n",
       "        text-align: right;\n",
       "    }\n",
       "</style>\n",
       "<table border=\"1\" class=\"dataframe\">\n",
       "  <thead>\n",
       "    <tr style=\"text-align: right;\">\n",
       "      <th></th>\n",
       "      <th>Position</th>\n",
       "      <th>Distance_per_match</th>\n",
       "      <th>TopSpeed(km/h)</th>\n",
       "    </tr>\n",
       "  </thead>\n",
       "  <tbody>\n",
       "    <tr>\n",
       "      <th>0</th>\n",
       "      <td>Midfielder</td>\n",
       "      <td>9.39</td>\n",
       "      <td>32.45</td>\n",
       "    </tr>\n",
       "    <tr>\n",
       "      <th>1</th>\n",
       "      <td>Defender</td>\n",
       "      <td>8.56</td>\n",
       "      <td>33.36</td>\n",
       "    </tr>\n",
       "    <tr>\n",
       "      <th>2</th>\n",
       "      <td>Forward</td>\n",
       "      <td>7.94</td>\n",
       "      <td>33.56</td>\n",
       "    </tr>\n",
       "    <tr>\n",
       "      <th>3</th>\n",
       "      <td>Goalkeeper</td>\n",
       "      <td>4.96</td>\n",
       "      <td>26.64</td>\n",
       "    </tr>\n",
       "  </tbody>\n",
       "</table>\n",
       "</div>"
      ]
     },
     "execution_count": 95,
     "metadata": {},
     "output_type": "execute_result"
    }
   ],
   "execution_count": 95
  },
  {
   "metadata": {},
   "cell_type": "markdown",
   "source": "### Descriptive & Statistics complete✅",
   "id": "5d8a7c6f43b8a4a8"
  }
 ],
 "metadata": {
  "kernelspec": {
   "display_name": "Python 3",
   "language": "python",
   "name": "python3"
  },
  "language_info": {
   "codemirror_mode": {
    "name": "ipython",
    "version": 2
   },
   "file_extension": ".py",
   "mimetype": "text/x-python",
   "name": "python",
   "nbconvert_exporter": "python",
   "pygments_lexer": "ipython2",
   "version": "2.7.6"
  }
 },
 "nbformat": 4,
 "nbformat_minor": 5
}
