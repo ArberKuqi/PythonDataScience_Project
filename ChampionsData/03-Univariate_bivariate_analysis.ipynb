{
 "cells": [
  {
   "cell_type": "code",
   "id": "initial_id",
   "metadata": {
    "collapsed": true,
    "ExecuteTime": {
     "end_time": "2025-06-15T11:40:04.607872Z",
     "start_time": "2025-06-15T11:40:04.494251Z"
    }
   },
   "source": [
    "\n",
    "import pandas as pd\n",
    "import numpy as np\n",
    "import plotly.express as px\n",
    "import seaborn as sns\n",
    "import matplotlib.pyplot as plt\n",
    "import plotly.graph_objects as go"
   ],
   "outputs": [],
   "execution_count": 1
  },
  {
   "metadata": {},
   "cell_type": "markdown",
   "source": "### Univariate Analysis🫀",
   "id": "fb09e9e4de16434b"
  },
  {
   "metadata": {
    "ExecuteTime": {
     "end_time": "2025-06-15T11:40:05.194261Z",
     "start_time": "2025-06-15T11:40:04.886497Z"
    }
   },
   "cell_type": "code",
   "source": "ucl = pd.read_excel('UCL_playerstats_orig.xlsx')",
   "id": "9971d964d6a8308c",
   "outputs": [],
   "execution_count": 2
  },
  {
   "metadata": {},
   "cell_type": "markdown",
   "source": "#### 1. Top 10 Sulmuesit",
   "id": "a6a87d9dd23e00a9"
  },
  {
   "metadata": {
    "ExecuteTime": {
     "end_time": "2025-06-15T11:40:05.244022Z",
     "start_time": "2025-06-15T11:40:05.229479Z"
    }
   },
   "cell_type": "code",
   "source": "top_attackers = ucl[['Player','Team','Goals','Assists','Minutes_played']].sort_values(by='Goals', ascending=False).head(10).reset_index(drop=True)",
   "id": "349a958175223a6c",
   "outputs": [],
   "execution_count": 3
  },
  {
   "metadata": {
    "ExecuteTime": {
     "end_time": "2025-06-15T11:40:05.303702Z",
     "start_time": "2025-06-15T11:40:05.293253Z"
    }
   },
   "cell_type": "code",
   "source": "print(top_attackers)",
   "id": "e0d564eaf8ad64d0",
   "outputs": [
    {
     "name": "stdout",
     "output_type": "stream",
     "text": [
      "             Player             Team  Goals  Assists  Minutes_played\n",
      "0          Raphinha        Barcelona     13        9            1225\n",
      "1          Guirassy     BVB Dortmund     13        4            1084\n",
      "2        Harry Kane    Bayern Munich     11        2            1120\n",
      "3       Lewandowski        Barcelona     11        0             985\n",
      "4  Lautaro Martinez            Inter      9        0             857\n",
      "5       Vinicius Jr      Real Madrid      8        3            1104\n",
      "6           Dembele         Paris SG      8        6            1163\n",
      "7           Haaland  Manchester City      8        0             771\n",
      "8          Pavlidis          Benfica      7        3             905\n",
      "9     Kylian Mbappe      Real Madrid      7        2            1132\n"
     ]
    }
   ],
   "execution_count": 4
  },
  {
   "metadata": {},
   "cell_type": "markdown",
   "source": "#### 2. Boxplot: Rating sipas Position",
   "id": "d23f92aa5265b9ef"
  },
  {
   "metadata": {
    "ExecuteTime": {
     "end_time": "2025-06-15T11:40:05.789899Z",
     "start_time": "2025-06-15T11:40:05.367829Z"
    }
   },
   "cell_type": "code",
   "source": [
    "fig_box = px.box(\n",
    "    ucl,\n",
    "    x=\"Position\",\n",
    "    y=\"Rating\",\n",
    "    color=\"Position\",\n",
    "    title=\"Player Rating Distribution by Position\",\n",
    "    labels={\"Rating\": \"Player Rating\", \"Position\": \"Position\"}\n",
    ")\n",
    "fig_box.update_layout(\n",
    "    xaxis_tickangle=-45,\n",
    "    showlegend=False,\n",
    "\n",
    ")\n",
    "\n",
    "fig_box.show()"
   ],
   "id": "a8593fd8dfab7a35",
   "outputs": [
    {
     "data": {
      "application/vnd.plotly.v1+json": {
       "data": [
        {
         "alignmentgroup": "True",
         "hovertemplate": "Position=%{x}<br>Player Rating=%{y}<extra></extra>",
         "legendgroup": "Defender",
         "marker": {
          "color": "#636efa"
         },
         "name": "Defender",
         "notched": false,
         "offsetgroup": "Defender",
         "orientation": "v",
         "showlegend": true,
         "x": [
          "Defender",
          "Defender",
          "Defender",
          "Defender",
          "Defender",
          "Defender",
          "Defender",
          "Defender",
          "Defender",
          "Defender",
          "Defender",
          "Defender",
          "Defender",
          "Defender",
          "Defender",
          "Defender",
          "Defender",
          "Defender",
          "Defender",
          "Defender",
          "Defender",
          "Defender",
          "Defender",
          "Defender",
          "Defender",
          "Defender",
          "Defender",
          "Defender",
          "Defender",
          "Defender",
          "Defender",
          "Defender",
          "Defender",
          "Defender",
          "Defender",
          "Defender",
          "Defender",
          "Defender",
          "Defender",
          "Defender",
          "Defender",
          "Defender",
          "Defender",
          "Defender",
          "Defender",
          "Defender",
          "Defender",
          "Defender",
          "Defender",
          "Defender",
          "Defender",
          "Defender",
          "Defender",
          "Defender",
          "Defender",
          "Defender",
          "Defender",
          "Defender",
          "Defender",
          "Defender"
         ],
         "x0": " ",
         "xaxis": "x",
         "y": {
          "dtype": "f8",
          "bdata": "FK5H4XoUHEA9CtejcD0dQK5H4XoUrhxAMzMzMzMzHEB7FK5H4XofQIXrUbgehRtAw/UoXI/CG0BmZmZmZmYcQEjhehSuRxxA4XoUrkfhG0B7FK5H4XocQClcj8L1KBxArkfhehSuHECPwvUoXI8cQD0K16NwPRxAH4XrUbgeHECF61G4HoUeQBSuR+F6FBxA9ihcj8L1HECuR+F6FK4cQHE9CtejcBxAMzMzMzMzHEApXI/C9SgdQI/C9Shcjx1AUrgehetRHUAfhetRuB4dQClcj8L1KB1A16NwPQrXHECamZmZmZkbQHE9CtejcBxAH4XrUbgeHEAK16NwPQodQKRwPQrXoxxAzczMzMzMG0DXo3A9CtcbQHsUrkfhehxAAAAAAAAAHEAK16NwPQodQD0K16NwPRxAw/UoXI/CHEBSuB6F61EdQPYoXI/C9R5AmpmZmZmZHUBSuB6F61EcQFyPwvUoXBxAAAAAAAAAHEBxPQrXo3AcQBSuR+F6FBxAMzMzMzMzHEDXo3A9CtccQClcj8L1KBxAuB6F61G4HEDNzMzMzMwbQOxRuB6F6xxA9ihcj8L1HEAUrkfhehQdQB+F61G4Hh1AzczMzMzMHECkcD0K16McQArXo3A9ChxA"
         },
         "y0": " ",
         "yaxis": "y",
         "type": "box"
        },
        {
         "alignmentgroup": "True",
         "hovertemplate": "Position=%{x}<br>Player Rating=%{y}<extra></extra>",
         "legendgroup": "Midfielder",
         "marker": {
          "color": "#EF553B"
         },
         "name": "Midfielder",
         "notched": false,
         "offsetgroup": "Midfielder",
         "orientation": "v",
         "showlegend": true,
         "x": [
          "Midfielder",
          "Midfielder",
          "Midfielder",
          "Midfielder",
          "Midfielder",
          "Midfielder",
          "Midfielder",
          "Midfielder",
          "Midfielder",
          "Midfielder",
          "Midfielder",
          "Midfielder",
          "Midfielder",
          "Midfielder",
          "Midfielder",
          "Midfielder",
          "Midfielder",
          "Midfielder",
          "Midfielder",
          "Midfielder",
          "Midfielder",
          "Midfielder",
          "Midfielder",
          "Midfielder",
          "Midfielder",
          "Midfielder",
          "Midfielder",
          "Midfielder",
          "Midfielder",
          "Midfielder",
          "Midfielder",
          "Midfielder",
          "Midfielder",
          "Midfielder",
          "Midfielder",
          "Midfielder",
          "Midfielder",
          "Midfielder",
          "Midfielder",
          "Midfielder",
          "Midfielder",
          "Midfielder",
          "Midfielder",
          "Midfielder",
          "Midfielder",
          "Midfielder",
          "Midfielder",
          "Midfielder",
          "Midfielder",
          "Midfielder",
          "Midfielder",
          "Midfielder",
          "Midfielder",
          "Midfielder",
          "Midfielder",
          "Midfielder",
          "Midfielder",
          "Midfielder",
          "Midfielder",
          "Midfielder",
          "Midfielder",
          "Midfielder",
          "Midfielder",
          "Midfielder",
          "Midfielder",
          "Midfielder"
         ],
         "x0": " ",
         "xaxis": "x",
         "y": {
          "dtype": "f8",
          "bdata": "cT0K16NwHEA9CtejcD0dQLgehetRuBxAFK5H4XoUHUD2KFyPwvUcQOxRuB6F6xxA4XoUrkfhHED2KFyPwvUcQArXo3A9Ch5AXI/C9ShcHEDhehSuR+EbQLgehetRuB1AXI/C9ShcHkDsUbgehesdQD0K16NwPRxApHA9CtejHECkcD0K16McQI/C9ShcjxxAmpmZmZmZHEDXo3A9CtccQM3MzMzMzBxApHA9CtejG0DD9Shcj8IcQAAAAAAAABxAzczMzMzMHEBmZmZmZmYcQBSuR+F6FB1APQrXo3A9HUBI4XoUrkcdQM3MzMzMzB1ArkfhehSuHEBxPQrXo3AcQKRwPQrXoxxAUrgehetRHECPwvUoXI8dQFK4HoXrURxASOF6FK5HHEAUrkfhehQcQD0K16NwPRxAFK5H4XoUHUAzMzMzMzMcQHE9CtejcBxAAAAAAAAAH0AfhetRuB4cQBSuR+F6FBxA7FG4HoXrHUAfhetRuB4cQHsUrkfheh5AhetRuB6FHkAfhetRuB4eQDMzMzMzMx5AuB6F61G4G0DXo3A9CtceQEjhehSuRx1ACtejcD0KHUDNzMzMzMwbQM3MzMzMzBxAhetRuB6FHEAAAAAAAAAeQI/C9Shcjx1AKVyPwvUoHUCuR+F6FK4bQDMzMzMzMxxAPQrXo3A9HECkcD0K16MdQLgehetRuB1A"
         },
         "y0": " ",
         "yaxis": "y",
         "type": "box"
        },
        {
         "alignmentgroup": "True",
         "hovertemplate": "Position=%{x}<br>Player Rating=%{y}<extra></extra>",
         "legendgroup": "Forward",
         "marker": {
          "color": "#00cc96"
         },
         "name": "Forward",
         "notched": false,
         "offsetgroup": "Forward",
         "orientation": "v",
         "showlegend": true,
         "x": [
          "Forward",
          "Forward",
          "Forward",
          "Forward",
          "Forward",
          "Forward",
          "Forward",
          "Forward",
          "Forward",
          "Forward",
          "Forward",
          "Forward",
          "Forward",
          "Forward",
          "Forward",
          "Forward",
          "Forward",
          "Forward",
          "Forward",
          "Forward",
          "Forward",
          "Forward",
          "Forward",
          "Forward",
          "Forward",
          "Forward",
          "Forward",
          "Forward",
          "Forward",
          "Forward",
          "Forward",
          "Forward",
          "Forward",
          "Forward",
          "Forward",
          "Forward",
          "Forward",
          "Forward",
          "Forward",
          "Forward",
          "Forward",
          "Forward",
          "Forward",
          "Forward",
          "Forward",
          "Forward",
          "Forward",
          "Forward",
          "Forward",
          "Forward",
          "Forward",
          "Forward",
          "Forward",
          "Forward",
          "Forward",
          "Forward",
          "Forward",
          "Forward",
          "Forward",
          "Forward",
          "Forward",
          "Forward",
          "Forward",
          "Forward"
         ],
         "x0": " ",
         "xaxis": "x",
         "y": {
          "dtype": "f8",
          "bdata": "7FG4HoXrHUAfhetRuJ4gQGZmZmZmZh5AuB6F61G4G0CPwvUoXI8bQNejcD0K1xxAcT0K16NwHUCuR+F6FK4fQI/C9Shcjx1A9ihcj8L1HEBSuB6F61EdQDMzMzMzMx5AUrgehetRHECamZmZmZkcQClcj8L1KB9AZmZmZmZmHkBmZmZmZmYcQFK4HoXrURxAZmZmZmZmH0BSuB6F61EdQK5H4XoUrhxACtejcD0KHkCuR+F6FK4dQB+F61G4HhxApHA9CtejG0DNzMzMzMwbQK5H4XoUrhxApHA9CtejH0CamZmZmZkbQJqZmZmZmRtA4XoUrkfhHEDhehSuR+EcQOF6FK5H4RxA9ihcj8L1HUDhehSuR+EbQI/C9Shcjx1AKVyPwvUoHkDXo3A9CtcdQBSuR+F6FB1AmpmZmZmZG0Bcj8L1KFwcQJqZmZmZmRxAhetRuB6FHkAzMzMzMzMfQI/C9ShcjxxAXI/C9ShcHkBSuB6F61EcQHsUrkfheh9ASOF6FK5HHUAAAAAAAAAcQMP1KFyPwh5ApHA9CtejHUDNzMzMzMwbQAAAAAAAABxApHA9CtejHEAzMzMzMzMeQMP1KFyPwh1AMzMzMzMzHEBxPQrXo3AeQMP1KFyPwhtAw/UoXI/CG0AfhetRuB4dQLgehetRuBxAmpmZmZmZHEA="
         },
         "y0": " ",
         "yaxis": "y",
         "type": "box"
        },
        {
         "alignmentgroup": "True",
         "hovertemplate": "Position=%{x}<br>Player Rating=%{y}<extra></extra>",
         "legendgroup": "Goalkeeper",
         "marker": {
          "color": "#ab63fa"
         },
         "name": "Goalkeeper",
         "notched": false,
         "offsetgroup": "Goalkeeper",
         "orientation": "v",
         "showlegend": true,
         "x": [
          "Goalkeeper",
          "Goalkeeper",
          "Goalkeeper",
          "Goalkeeper",
          "Goalkeeper",
          "Goalkeeper",
          "Goalkeeper",
          "Goalkeeper",
          "Goalkeeper",
          "Goalkeeper",
          "Goalkeeper",
          "Goalkeeper",
          "Goalkeeper",
          "Goalkeeper",
          "Goalkeeper",
          "Goalkeeper",
          "Goalkeeper",
          "Goalkeeper",
          "Goalkeeper",
          "Goalkeeper"
         ],
         "x0": " ",
         "xaxis": "x",
         "y": {
          "dtype": "f8",
          "bdata": "AAAAAAAAHECPwvUoXI8cQFyPwvUoXB1ACtejcD0KHUC4HoXrUbgeQDMzMzMzMx5A4XoUrkfhG0CamZmZmZkbQOxRuB6F6xxAZmZmZmZmHUCuR+F6FK4bQM3MzMzMzBxAexSuR+F6HEBI4XoUrkcdQDMzMzMzMxxA7FG4HoXrG0CF61G4HoUcQPYoXI/C9R1ArkfhehSuHEAzMzMzMzMdQA=="
         },
         "y0": " ",
         "yaxis": "y",
         "type": "box"
        }
       ],
       "layout": {
        "template": {
         "data": {
          "histogram2dcontour": [
           {
            "type": "histogram2dcontour",
            "colorbar": {
             "outlinewidth": 0,
             "ticks": ""
            },
            "colorscale": [
             [
              0.0,
              "#0d0887"
             ],
             [
              0.1111111111111111,
              "#46039f"
             ],
             [
              0.2222222222222222,
              "#7201a8"
             ],
             [
              0.3333333333333333,
              "#9c179e"
             ],
             [
              0.4444444444444444,
              "#bd3786"
             ],
             [
              0.5555555555555556,
              "#d8576b"
             ],
             [
              0.6666666666666666,
              "#ed7953"
             ],
             [
              0.7777777777777778,
              "#fb9f3a"
             ],
             [
              0.8888888888888888,
              "#fdca26"
             ],
             [
              1.0,
              "#f0f921"
             ]
            ]
           }
          ],
          "choropleth": [
           {
            "type": "choropleth",
            "colorbar": {
             "outlinewidth": 0,
             "ticks": ""
            }
           }
          ],
          "histogram2d": [
           {
            "type": "histogram2d",
            "colorbar": {
             "outlinewidth": 0,
             "ticks": ""
            },
            "colorscale": [
             [
              0.0,
              "#0d0887"
             ],
             [
              0.1111111111111111,
              "#46039f"
             ],
             [
              0.2222222222222222,
              "#7201a8"
             ],
             [
              0.3333333333333333,
              "#9c179e"
             ],
             [
              0.4444444444444444,
              "#bd3786"
             ],
             [
              0.5555555555555556,
              "#d8576b"
             ],
             [
              0.6666666666666666,
              "#ed7953"
             ],
             [
              0.7777777777777778,
              "#fb9f3a"
             ],
             [
              0.8888888888888888,
              "#fdca26"
             ],
             [
              1.0,
              "#f0f921"
             ]
            ]
           }
          ],
          "heatmap": [
           {
            "type": "heatmap",
            "colorbar": {
             "outlinewidth": 0,
             "ticks": ""
            },
            "colorscale": [
             [
              0.0,
              "#0d0887"
             ],
             [
              0.1111111111111111,
              "#46039f"
             ],
             [
              0.2222222222222222,
              "#7201a8"
             ],
             [
              0.3333333333333333,
              "#9c179e"
             ],
             [
              0.4444444444444444,
              "#bd3786"
             ],
             [
              0.5555555555555556,
              "#d8576b"
             ],
             [
              0.6666666666666666,
              "#ed7953"
             ],
             [
              0.7777777777777778,
              "#fb9f3a"
             ],
             [
              0.8888888888888888,
              "#fdca26"
             ],
             [
              1.0,
              "#f0f921"
             ]
            ]
           }
          ],
          "contourcarpet": [
           {
            "type": "contourcarpet",
            "colorbar": {
             "outlinewidth": 0,
             "ticks": ""
            }
           }
          ],
          "contour": [
           {
            "type": "contour",
            "colorbar": {
             "outlinewidth": 0,
             "ticks": ""
            },
            "colorscale": [
             [
              0.0,
              "#0d0887"
             ],
             [
              0.1111111111111111,
              "#46039f"
             ],
             [
              0.2222222222222222,
              "#7201a8"
             ],
             [
              0.3333333333333333,
              "#9c179e"
             ],
             [
              0.4444444444444444,
              "#bd3786"
             ],
             [
              0.5555555555555556,
              "#d8576b"
             ],
             [
              0.6666666666666666,
              "#ed7953"
             ],
             [
              0.7777777777777778,
              "#fb9f3a"
             ],
             [
              0.8888888888888888,
              "#fdca26"
             ],
             [
              1.0,
              "#f0f921"
             ]
            ]
           }
          ],
          "surface": [
           {
            "type": "surface",
            "colorbar": {
             "outlinewidth": 0,
             "ticks": ""
            },
            "colorscale": [
             [
              0.0,
              "#0d0887"
             ],
             [
              0.1111111111111111,
              "#46039f"
             ],
             [
              0.2222222222222222,
              "#7201a8"
             ],
             [
              0.3333333333333333,
              "#9c179e"
             ],
             [
              0.4444444444444444,
              "#bd3786"
             ],
             [
              0.5555555555555556,
              "#d8576b"
             ],
             [
              0.6666666666666666,
              "#ed7953"
             ],
             [
              0.7777777777777778,
              "#fb9f3a"
             ],
             [
              0.8888888888888888,
              "#fdca26"
             ],
             [
              1.0,
              "#f0f921"
             ]
            ]
           }
          ],
          "mesh3d": [
           {
            "type": "mesh3d",
            "colorbar": {
             "outlinewidth": 0,
             "ticks": ""
            }
           }
          ],
          "scatter": [
           {
            "fillpattern": {
             "fillmode": "overlay",
             "size": 10,
             "solidity": 0.2
            },
            "type": "scatter"
           }
          ],
          "parcoords": [
           {
            "type": "parcoords",
            "line": {
             "colorbar": {
              "outlinewidth": 0,
              "ticks": ""
             }
            }
           }
          ],
          "scatterpolargl": [
           {
            "type": "scatterpolargl",
            "marker": {
             "colorbar": {
              "outlinewidth": 0,
              "ticks": ""
             }
            }
           }
          ],
          "bar": [
           {
            "error_x": {
             "color": "#2a3f5f"
            },
            "error_y": {
             "color": "#2a3f5f"
            },
            "marker": {
             "line": {
              "color": "#E5ECF6",
              "width": 0.5
             },
             "pattern": {
              "fillmode": "overlay",
              "size": 10,
              "solidity": 0.2
             }
            },
            "type": "bar"
           }
          ],
          "scattergeo": [
           {
            "type": "scattergeo",
            "marker": {
             "colorbar": {
              "outlinewidth": 0,
              "ticks": ""
             }
            }
           }
          ],
          "scatterpolar": [
           {
            "type": "scatterpolar",
            "marker": {
             "colorbar": {
              "outlinewidth": 0,
              "ticks": ""
             }
            }
           }
          ],
          "histogram": [
           {
            "marker": {
             "pattern": {
              "fillmode": "overlay",
              "size": 10,
              "solidity": 0.2
             }
            },
            "type": "histogram"
           }
          ],
          "scattergl": [
           {
            "type": "scattergl",
            "marker": {
             "colorbar": {
              "outlinewidth": 0,
              "ticks": ""
             }
            }
           }
          ],
          "scatter3d": [
           {
            "type": "scatter3d",
            "line": {
             "colorbar": {
              "outlinewidth": 0,
              "ticks": ""
             }
            },
            "marker": {
             "colorbar": {
              "outlinewidth": 0,
              "ticks": ""
             }
            }
           }
          ],
          "scattermap": [
           {
            "type": "scattermap",
            "marker": {
             "colorbar": {
              "outlinewidth": 0,
              "ticks": ""
             }
            }
           }
          ],
          "scattermapbox": [
           {
            "type": "scattermapbox",
            "marker": {
             "colorbar": {
              "outlinewidth": 0,
              "ticks": ""
             }
            }
           }
          ],
          "scatterternary": [
           {
            "type": "scatterternary",
            "marker": {
             "colorbar": {
              "outlinewidth": 0,
              "ticks": ""
             }
            }
           }
          ],
          "scattercarpet": [
           {
            "type": "scattercarpet",
            "marker": {
             "colorbar": {
              "outlinewidth": 0,
              "ticks": ""
             }
            }
           }
          ],
          "carpet": [
           {
            "aaxis": {
             "endlinecolor": "#2a3f5f",
             "gridcolor": "white",
             "linecolor": "white",
             "minorgridcolor": "white",
             "startlinecolor": "#2a3f5f"
            },
            "baxis": {
             "endlinecolor": "#2a3f5f",
             "gridcolor": "white",
             "linecolor": "white",
             "minorgridcolor": "white",
             "startlinecolor": "#2a3f5f"
            },
            "type": "carpet"
           }
          ],
          "table": [
           {
            "cells": {
             "fill": {
              "color": "#EBF0F8"
             },
             "line": {
              "color": "white"
             }
            },
            "header": {
             "fill": {
              "color": "#C8D4E3"
             },
             "line": {
              "color": "white"
             }
            },
            "type": "table"
           }
          ],
          "barpolar": [
           {
            "marker": {
             "line": {
              "color": "#E5ECF6",
              "width": 0.5
             },
             "pattern": {
              "fillmode": "overlay",
              "size": 10,
              "solidity": 0.2
             }
            },
            "type": "barpolar"
           }
          ],
          "pie": [
           {
            "automargin": true,
            "type": "pie"
           }
          ]
         },
         "layout": {
          "autotypenumbers": "strict",
          "colorway": [
           "#636efa",
           "#EF553B",
           "#00cc96",
           "#ab63fa",
           "#FFA15A",
           "#19d3f3",
           "#FF6692",
           "#B6E880",
           "#FF97FF",
           "#FECB52"
          ],
          "font": {
           "color": "#2a3f5f"
          },
          "hovermode": "closest",
          "hoverlabel": {
           "align": "left"
          },
          "paper_bgcolor": "white",
          "plot_bgcolor": "#E5ECF6",
          "polar": {
           "bgcolor": "#E5ECF6",
           "angularaxis": {
            "gridcolor": "white",
            "linecolor": "white",
            "ticks": ""
           },
           "radialaxis": {
            "gridcolor": "white",
            "linecolor": "white",
            "ticks": ""
           }
          },
          "ternary": {
           "bgcolor": "#E5ECF6",
           "aaxis": {
            "gridcolor": "white",
            "linecolor": "white",
            "ticks": ""
           },
           "baxis": {
            "gridcolor": "white",
            "linecolor": "white",
            "ticks": ""
           },
           "caxis": {
            "gridcolor": "white",
            "linecolor": "white",
            "ticks": ""
           }
          },
          "coloraxis": {
           "colorbar": {
            "outlinewidth": 0,
            "ticks": ""
           }
          },
          "colorscale": {
           "sequential": [
            [
             0.0,
             "#0d0887"
            ],
            [
             0.1111111111111111,
             "#46039f"
            ],
            [
             0.2222222222222222,
             "#7201a8"
            ],
            [
             0.3333333333333333,
             "#9c179e"
            ],
            [
             0.4444444444444444,
             "#bd3786"
            ],
            [
             0.5555555555555556,
             "#d8576b"
            ],
            [
             0.6666666666666666,
             "#ed7953"
            ],
            [
             0.7777777777777778,
             "#fb9f3a"
            ],
            [
             0.8888888888888888,
             "#fdca26"
            ],
            [
             1.0,
             "#f0f921"
            ]
           ],
           "sequentialminus": [
            [
             0.0,
             "#0d0887"
            ],
            [
             0.1111111111111111,
             "#46039f"
            ],
            [
             0.2222222222222222,
             "#7201a8"
            ],
            [
             0.3333333333333333,
             "#9c179e"
            ],
            [
             0.4444444444444444,
             "#bd3786"
            ],
            [
             0.5555555555555556,
             "#d8576b"
            ],
            [
             0.6666666666666666,
             "#ed7953"
            ],
            [
             0.7777777777777778,
             "#fb9f3a"
            ],
            [
             0.8888888888888888,
             "#fdca26"
            ],
            [
             1.0,
             "#f0f921"
            ]
           ],
           "diverging": [
            [
             0,
             "#8e0152"
            ],
            [
             0.1,
             "#c51b7d"
            ],
            [
             0.2,
             "#de77ae"
            ],
            [
             0.3,
             "#f1b6da"
            ],
            [
             0.4,
             "#fde0ef"
            ],
            [
             0.5,
             "#f7f7f7"
            ],
            [
             0.6,
             "#e6f5d0"
            ],
            [
             0.7,
             "#b8e186"
            ],
            [
             0.8,
             "#7fbc41"
            ],
            [
             0.9,
             "#4d9221"
            ],
            [
             1,
             "#276419"
            ]
           ]
          },
          "xaxis": {
           "gridcolor": "white",
           "linecolor": "white",
           "ticks": "",
           "title": {
            "standoff": 15
           },
           "zerolinecolor": "white",
           "automargin": true,
           "zerolinewidth": 2
          },
          "yaxis": {
           "gridcolor": "white",
           "linecolor": "white",
           "ticks": "",
           "title": {
            "standoff": 15
           },
           "zerolinecolor": "white",
           "automargin": true,
           "zerolinewidth": 2
          },
          "scene": {
           "xaxis": {
            "backgroundcolor": "#E5ECF6",
            "gridcolor": "white",
            "linecolor": "white",
            "showbackground": true,
            "ticks": "",
            "zerolinecolor": "white",
            "gridwidth": 2
           },
           "yaxis": {
            "backgroundcolor": "#E5ECF6",
            "gridcolor": "white",
            "linecolor": "white",
            "showbackground": true,
            "ticks": "",
            "zerolinecolor": "white",
            "gridwidth": 2
           },
           "zaxis": {
            "backgroundcolor": "#E5ECF6",
            "gridcolor": "white",
            "linecolor": "white",
            "showbackground": true,
            "ticks": "",
            "zerolinecolor": "white",
            "gridwidth": 2
           }
          },
          "shapedefaults": {
           "line": {
            "color": "#2a3f5f"
           }
          },
          "annotationdefaults": {
           "arrowcolor": "#2a3f5f",
           "arrowhead": 0,
           "arrowwidth": 1
          },
          "geo": {
           "bgcolor": "white",
           "landcolor": "#E5ECF6",
           "subunitcolor": "white",
           "showland": true,
           "showlakes": true,
           "lakecolor": "white"
          },
          "title": {
           "x": 0.05
          },
          "mapbox": {
           "style": "light"
          }
         }
        },
        "xaxis": {
         "anchor": "y",
         "domain": [
          0.0,
          1.0
         ],
         "title": {
          "text": "Position"
         },
         "categoryorder": "array",
         "categoryarray": [
          "Defender",
          "Midfielder",
          "Forward",
          "Goalkeeper"
         ],
         "tickangle": -45
        },
        "yaxis": {
         "anchor": "x",
         "domain": [
          0.0,
          1.0
         ],
         "title": {
          "text": "Player Rating"
         }
        },
        "legend": {
         "title": {
          "text": "Position"
         },
         "tracegroupgap": 0
        },
        "title": {
         "text": "Player Rating Distribution by Position"
        },
        "boxmode": "overlay",
        "showlegend": false
       },
       "config": {
        "plotlyServerURL": "https://plot.ly"
       }
      }
     },
     "metadata": {},
     "output_type": "display_data"
    }
   ],
   "execution_count": 5
  },
  {
   "metadata": {},
   "cell_type": "markdown",
   "source": "#### 3. Scatterplot: Market Value vs Player Rating",
   "id": "559276cb49d607d"
  },
  {
   "metadata": {
    "ExecuteTime": {
     "end_time": "2025-06-15T11:40:05.943054Z",
     "start_time": "2025-06-15T11:40:05.834907Z"
    }
   },
   "cell_type": "code",
   "source": [
    "fig_trend = px.scatter(\n",
    "    ucl,\n",
    "    x=\"Value10^6\",\n",
    "    y=\"Rating\",\n",
    "    title=\"Market Value vs Player Rating (with Trendline)\",\n",
    "    labels={\"Value10^6\": \"Market Value 10^6€\", \"Rating\": \"Player Rating\"}, # Ordinary Least Squares\n",
    ")\n",
    "\n",
    "fig_trend.show()"
   ],
   "id": "dc09cb7255db127",
   "outputs": [
    {
     "data": {
      "application/vnd.plotly.v1+json": {
       "data": [
        {
         "hovertemplate": "Market Value 10^6€=%{x}<br>Player Rating=%{y}<extra></extra>",
         "legendgroup": "",
         "marker": {
          "color": "#636efa",
          "symbol": "circle"
         },
         "mode": "markers",
         "name": "",
         "orientation": "v",
         "showlegend": false,
         "x": {
          "dtype": "f8",
          "bdata": "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"
         },
         "xaxis": "x",
         "y": {
          "dtype": "f8",
          "bdata": "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"
         },
         "yaxis": "y",
         "type": "scatter"
        }
       ],
       "layout": {
        "template": {
         "data": {
          "histogram2dcontour": [
           {
            "type": "histogram2dcontour",
            "colorbar": {
             "outlinewidth": 0,
             "ticks": ""
            },
            "colorscale": [
             [
              0.0,
              "#0d0887"
             ],
             [
              0.1111111111111111,
              "#46039f"
             ],
             [
              0.2222222222222222,
              "#7201a8"
             ],
             [
              0.3333333333333333,
              "#9c179e"
             ],
             [
              0.4444444444444444,
              "#bd3786"
             ],
             [
              0.5555555555555556,
              "#d8576b"
             ],
             [
              0.6666666666666666,
              "#ed7953"
             ],
             [
              0.7777777777777778,
              "#fb9f3a"
             ],
             [
              0.8888888888888888,
              "#fdca26"
             ],
             [
              1.0,
              "#f0f921"
             ]
            ]
           }
          ],
          "choropleth": [
           {
            "type": "choropleth",
            "colorbar": {
             "outlinewidth": 0,
             "ticks": ""
            }
           }
          ],
          "histogram2d": [
           {
            "type": "histogram2d",
            "colorbar": {
             "outlinewidth": 0,
             "ticks": ""
            },
            "colorscale": [
             [
              0.0,
              "#0d0887"
             ],
             [
              0.1111111111111111,
              "#46039f"
             ],
             [
              0.2222222222222222,
              "#7201a8"
             ],
             [
              0.3333333333333333,
              "#9c179e"
             ],
             [
              0.4444444444444444,
              "#bd3786"
             ],
             [
              0.5555555555555556,
              "#d8576b"
             ],
             [
              0.6666666666666666,
              "#ed7953"
             ],
             [
              0.7777777777777778,
              "#fb9f3a"
             ],
             [
              0.8888888888888888,
              "#fdca26"
             ],
             [
              1.0,
              "#f0f921"
             ]
            ]
           }
          ],
          "heatmap": [
           {
            "type": "heatmap",
            "colorbar": {
             "outlinewidth": 0,
             "ticks": ""
            },
            "colorscale": [
             [
              0.0,
              "#0d0887"
             ],
             [
              0.1111111111111111,
              "#46039f"
             ],
             [
              0.2222222222222222,
              "#7201a8"
             ],
             [
              0.3333333333333333,
              "#9c179e"
             ],
             [
              0.4444444444444444,
              "#bd3786"
             ],
             [
              0.5555555555555556,
              "#d8576b"
             ],
             [
              0.6666666666666666,
              "#ed7953"
             ],
             [
              0.7777777777777778,
              "#fb9f3a"
             ],
             [
              0.8888888888888888,
              "#fdca26"
             ],
             [
              1.0,
              "#f0f921"
             ]
            ]
           }
          ],
          "contourcarpet": [
           {
            "type": "contourcarpet",
            "colorbar": {
             "outlinewidth": 0,
             "ticks": ""
            }
           }
          ],
          "contour": [
           {
            "type": "contour",
            "colorbar": {
             "outlinewidth": 0,
             "ticks": ""
            },
            "colorscale": [
             [
              0.0,
              "#0d0887"
             ],
             [
              0.1111111111111111,
              "#46039f"
             ],
             [
              0.2222222222222222,
              "#7201a8"
             ],
             [
              0.3333333333333333,
              "#9c179e"
             ],
             [
              0.4444444444444444,
              "#bd3786"
             ],
             [
              0.5555555555555556,
              "#d8576b"
             ],
             [
              0.6666666666666666,
              "#ed7953"
             ],
             [
              0.7777777777777778,
              "#fb9f3a"
             ],
             [
              0.8888888888888888,
              "#fdca26"
             ],
             [
              1.0,
              "#f0f921"
             ]
            ]
           }
          ],
          "surface": [
           {
            "type": "surface",
            "colorbar": {
             "outlinewidth": 0,
             "ticks": ""
            },
            "colorscale": [
             [
              0.0,
              "#0d0887"
             ],
             [
              0.1111111111111111,
              "#46039f"
             ],
             [
              0.2222222222222222,
              "#7201a8"
             ],
             [
              0.3333333333333333,
              "#9c179e"
             ],
             [
              0.4444444444444444,
              "#bd3786"
             ],
             [
              0.5555555555555556,
              "#d8576b"
             ],
             [
              0.6666666666666666,
              "#ed7953"
             ],
             [
              0.7777777777777778,
              "#fb9f3a"
             ],
             [
              0.8888888888888888,
              "#fdca26"
             ],
             [
              1.0,
              "#f0f921"
             ]
            ]
           }
          ],
          "mesh3d": [
           {
            "type": "mesh3d",
            "colorbar": {
             "outlinewidth": 0,
             "ticks": ""
            }
           }
          ],
          "scatter": [
           {
            "fillpattern": {
             "fillmode": "overlay",
             "size": 10,
             "solidity": 0.2
            },
            "type": "scatter"
           }
          ],
          "parcoords": [
           {
            "type": "parcoords",
            "line": {
             "colorbar": {
              "outlinewidth": 0,
              "ticks": ""
             }
            }
           }
          ],
          "scatterpolargl": [
           {
            "type": "scatterpolargl",
            "marker": {
             "colorbar": {
              "outlinewidth": 0,
              "ticks": ""
             }
            }
           }
          ],
          "bar": [
           {
            "error_x": {
             "color": "#2a3f5f"
            },
            "error_y": {
             "color": "#2a3f5f"
            },
            "marker": {
             "line": {
              "color": "#E5ECF6",
              "width": 0.5
             },
             "pattern": {
              "fillmode": "overlay",
              "size": 10,
              "solidity": 0.2
             }
            },
            "type": "bar"
           }
          ],
          "scattergeo": [
           {
            "type": "scattergeo",
            "marker": {
             "colorbar": {
              "outlinewidth": 0,
              "ticks": ""
             }
            }
           }
          ],
          "scatterpolar": [
           {
            "type": "scatterpolar",
            "marker": {
             "colorbar": {
              "outlinewidth": 0,
              "ticks": ""
             }
            }
           }
          ],
          "histogram": [
           {
            "marker": {
             "pattern": {
              "fillmode": "overlay",
              "size": 10,
              "solidity": 0.2
             }
            },
            "type": "histogram"
           }
          ],
          "scattergl": [
           {
            "type": "scattergl",
            "marker": {
             "colorbar": {
              "outlinewidth": 0,
              "ticks": ""
             }
            }
           }
          ],
          "scatter3d": [
           {
            "type": "scatter3d",
            "line": {
             "colorbar": {
              "outlinewidth": 0,
              "ticks": ""
             }
            },
            "marker": {
             "colorbar": {
              "outlinewidth": 0,
              "ticks": ""
             }
            }
           }
          ],
          "scattermap": [
           {
            "type": "scattermap",
            "marker": {
             "colorbar": {
              "outlinewidth": 0,
              "ticks": ""
             }
            }
           }
          ],
          "scattermapbox": [
           {
            "type": "scattermapbox",
            "marker": {
             "colorbar": {
              "outlinewidth": 0,
              "ticks": ""
             }
            }
           }
          ],
          "scatterternary": [
           {
            "type": "scatterternary",
            "marker": {
             "colorbar": {
              "outlinewidth": 0,
              "ticks": ""
             }
            }
           }
          ],
          "scattercarpet": [
           {
            "type": "scattercarpet",
            "marker": {
             "colorbar": {
              "outlinewidth": 0,
              "ticks": ""
             }
            }
           }
          ],
          "carpet": [
           {
            "aaxis": {
             "endlinecolor": "#2a3f5f",
             "gridcolor": "white",
             "linecolor": "white",
             "minorgridcolor": "white",
             "startlinecolor": "#2a3f5f"
            },
            "baxis": {
             "endlinecolor": "#2a3f5f",
             "gridcolor": "white",
             "linecolor": "white",
             "minorgridcolor": "white",
             "startlinecolor": "#2a3f5f"
            },
            "type": "carpet"
           }
          ],
          "table": [
           {
            "cells": {
             "fill": {
              "color": "#EBF0F8"
             },
             "line": {
              "color": "white"
             }
            },
            "header": {
             "fill": {
              "color": "#C8D4E3"
             },
             "line": {
              "color": "white"
             }
            },
            "type": "table"
           }
          ],
          "barpolar": [
           {
            "marker": {
             "line": {
              "color": "#E5ECF6",
              "width": 0.5
             },
             "pattern": {
              "fillmode": "overlay",
              "size": 10,
              "solidity": 0.2
             }
            },
            "type": "barpolar"
           }
          ],
          "pie": [
           {
            "automargin": true,
            "type": "pie"
           }
          ]
         },
         "layout": {
          "autotypenumbers": "strict",
          "colorway": [
           "#636efa",
           "#EF553B",
           "#00cc96",
           "#ab63fa",
           "#FFA15A",
           "#19d3f3",
           "#FF6692",
           "#B6E880",
           "#FF97FF",
           "#FECB52"
          ],
          "font": {
           "color": "#2a3f5f"
          },
          "hovermode": "closest",
          "hoverlabel": {
           "align": "left"
          },
          "paper_bgcolor": "white",
          "plot_bgcolor": "#E5ECF6",
          "polar": {
           "bgcolor": "#E5ECF6",
           "angularaxis": {
            "gridcolor": "white",
            "linecolor": "white",
            "ticks": ""
           },
           "radialaxis": {
            "gridcolor": "white",
            "linecolor": "white",
            "ticks": ""
           }
          },
          "ternary": {
           "bgcolor": "#E5ECF6",
           "aaxis": {
            "gridcolor": "white",
            "linecolor": "white",
            "ticks": ""
           },
           "baxis": {
            "gridcolor": "white",
            "linecolor": "white",
            "ticks": ""
           },
           "caxis": {
            "gridcolor": "white",
            "linecolor": "white",
            "ticks": ""
           }
          },
          "coloraxis": {
           "colorbar": {
            "outlinewidth": 0,
            "ticks": ""
           }
          },
          "colorscale": {
           "sequential": [
            [
             0.0,
             "#0d0887"
            ],
            [
             0.1111111111111111,
             "#46039f"
            ],
            [
             0.2222222222222222,
             "#7201a8"
            ],
            [
             0.3333333333333333,
             "#9c179e"
            ],
            [
             0.4444444444444444,
             "#bd3786"
            ],
            [
             0.5555555555555556,
             "#d8576b"
            ],
            [
             0.6666666666666666,
             "#ed7953"
            ],
            [
             0.7777777777777778,
             "#fb9f3a"
            ],
            [
             0.8888888888888888,
             "#fdca26"
            ],
            [
             1.0,
             "#f0f921"
            ]
           ],
           "sequentialminus": [
            [
             0.0,
             "#0d0887"
            ],
            [
             0.1111111111111111,
             "#46039f"
            ],
            [
             0.2222222222222222,
             "#7201a8"
            ],
            [
             0.3333333333333333,
             "#9c179e"
            ],
            [
             0.4444444444444444,
             "#bd3786"
            ],
            [
             0.5555555555555556,
             "#d8576b"
            ],
            [
             0.6666666666666666,
             "#ed7953"
            ],
            [
             0.7777777777777778,
             "#fb9f3a"
            ],
            [
             0.8888888888888888,
             "#fdca26"
            ],
            [
             1.0,
             "#f0f921"
            ]
           ],
           "diverging": [
            [
             0,
             "#8e0152"
            ],
            [
             0.1,
             "#c51b7d"
            ],
            [
             0.2,
             "#de77ae"
            ],
            [
             0.3,
             "#f1b6da"
            ],
            [
             0.4,
             "#fde0ef"
            ],
            [
             0.5,
             "#f7f7f7"
            ],
            [
             0.6,
             "#e6f5d0"
            ],
            [
             0.7,
             "#b8e186"
            ],
            [
             0.8,
             "#7fbc41"
            ],
            [
             0.9,
             "#4d9221"
            ],
            [
             1,
             "#276419"
            ]
           ]
          },
          "xaxis": {
           "gridcolor": "white",
           "linecolor": "white",
           "ticks": "",
           "title": {
            "standoff": 15
           },
           "zerolinecolor": "white",
           "automargin": true,
           "zerolinewidth": 2
          },
          "yaxis": {
           "gridcolor": "white",
           "linecolor": "white",
           "ticks": "",
           "title": {
            "standoff": 15
           },
           "zerolinecolor": "white",
           "automargin": true,
           "zerolinewidth": 2
          },
          "scene": {
           "xaxis": {
            "backgroundcolor": "#E5ECF6",
            "gridcolor": "white",
            "linecolor": "white",
            "showbackground": true,
            "ticks": "",
            "zerolinecolor": "white",
            "gridwidth": 2
           },
           "yaxis": {
            "backgroundcolor": "#E5ECF6",
            "gridcolor": "white",
            "linecolor": "white",
            "showbackground": true,
            "ticks": "",
            "zerolinecolor": "white",
            "gridwidth": 2
           },
           "zaxis": {
            "backgroundcolor": "#E5ECF6",
            "gridcolor": "white",
            "linecolor": "white",
            "showbackground": true,
            "ticks": "",
            "zerolinecolor": "white",
            "gridwidth": 2
           }
          },
          "shapedefaults": {
           "line": {
            "color": "#2a3f5f"
           }
          },
          "annotationdefaults": {
           "arrowcolor": "#2a3f5f",
           "arrowhead": 0,
           "arrowwidth": 1
          },
          "geo": {
           "bgcolor": "white",
           "landcolor": "#E5ECF6",
           "subunitcolor": "white",
           "showland": true,
           "showlakes": true,
           "lakecolor": "white"
          },
          "title": {
           "x": 0.05
          },
          "mapbox": {
           "style": "light"
          }
         }
        },
        "xaxis": {
         "anchor": "y",
         "domain": [
          0.0,
          1.0
         ],
         "title": {
          "text": "Market Value 10^6€"
         }
        },
        "yaxis": {
         "anchor": "x",
         "domain": [
          0.0,
          1.0
         ],
         "title": {
          "text": "Player Rating"
         }
        },
        "legend": {
         "tracegroupgap": 0
        },
        "title": {
         "text": "Market Value vs Player Rating (with Trendline)"
        }
       },
       "config": {
        "plotlyServerURL": "https://plot.ly"
       }
      }
     },
     "metadata": {},
     "output_type": "display_data"
    }
   ],
   "execution_count": 6
  },
  {
   "metadata": {},
   "cell_type": "markdown",
   "source": "#### 4. The youngest players in the Champions League and their ratings",
   "id": "1a6c264d6b85648d"
  },
  {
   "metadata": {
    "ExecuteTime": {
     "end_time": "2025-06-15T11:40:05.995603Z",
     "start_time": "2025-06-15T11:40:05.974347Z"
    }
   },
   "cell_type": "code",
   "source": [
    "Youngest_Players = ucl.sort_values(by='Age', ascending=True).head(10)\n",
    "\n",
    "Youngest_Players[['Player','Age','Rating']].sort_values(by='Age', ascending=True)\n"
   ],
   "id": "115d0f1959a83df1",
   "outputs": [
    {
     "data": {
      "text/plain": [
       "            Player  Age  Rating\n",
       "15           Yamal   17    7.92\n",
       "81          Quenda   18    6.90\n",
       "93     Desire Doue   19    7.39\n",
       "21      Rico Lewis   20    6.94\n",
       "119  Lamine Camara   20    7.11\n",
       "90    Kenan Yildiz   20    6.97\n",
       "190        Milambo   20    7.13\n",
       "175     Joao Neves   20    7.53\n",
       "164        Gittens   20    7.00\n",
       "120        Savinho   21    6.90"
      ],
      "text/html": [
       "<div>\n",
       "<style scoped>\n",
       "    .dataframe tbody tr th:only-of-type {\n",
       "        vertical-align: middle;\n",
       "    }\n",
       "\n",
       "    .dataframe tbody tr th {\n",
       "        vertical-align: top;\n",
       "    }\n",
       "\n",
       "    .dataframe thead th {\n",
       "        text-align: right;\n",
       "    }\n",
       "</style>\n",
       "<table border=\"1\" class=\"dataframe\">\n",
       "  <thead>\n",
       "    <tr style=\"text-align: right;\">\n",
       "      <th></th>\n",
       "      <th>Player</th>\n",
       "      <th>Age</th>\n",
       "      <th>Rating</th>\n",
       "    </tr>\n",
       "  </thead>\n",
       "  <tbody>\n",
       "    <tr>\n",
       "      <th>15</th>\n",
       "      <td>Yamal</td>\n",
       "      <td>17</td>\n",
       "      <td>7.92</td>\n",
       "    </tr>\n",
       "    <tr>\n",
       "      <th>81</th>\n",
       "      <td>Quenda</td>\n",
       "      <td>18</td>\n",
       "      <td>6.90</td>\n",
       "    </tr>\n",
       "    <tr>\n",
       "      <th>93</th>\n",
       "      <td>Desire Doue</td>\n",
       "      <td>19</td>\n",
       "      <td>7.39</td>\n",
       "    </tr>\n",
       "    <tr>\n",
       "      <th>21</th>\n",
       "      <td>Rico Lewis</td>\n",
       "      <td>20</td>\n",
       "      <td>6.94</td>\n",
       "    </tr>\n",
       "    <tr>\n",
       "      <th>119</th>\n",
       "      <td>Lamine Camara</td>\n",
       "      <td>20</td>\n",
       "      <td>7.11</td>\n",
       "    </tr>\n",
       "    <tr>\n",
       "      <th>90</th>\n",
       "      <td>Kenan Yildiz</td>\n",
       "      <td>20</td>\n",
       "      <td>6.97</td>\n",
       "    </tr>\n",
       "    <tr>\n",
       "      <th>190</th>\n",
       "      <td>Milambo</td>\n",
       "      <td>20</td>\n",
       "      <td>7.13</td>\n",
       "    </tr>\n",
       "    <tr>\n",
       "      <th>175</th>\n",
       "      <td>Joao Neves</td>\n",
       "      <td>20</td>\n",
       "      <td>7.53</td>\n",
       "    </tr>\n",
       "    <tr>\n",
       "      <th>164</th>\n",
       "      <td>Gittens</td>\n",
       "      <td>20</td>\n",
       "      <td>7.00</td>\n",
       "    </tr>\n",
       "    <tr>\n",
       "      <th>120</th>\n",
       "      <td>Savinho</td>\n",
       "      <td>21</td>\n",
       "      <td>6.90</td>\n",
       "    </tr>\n",
       "  </tbody>\n",
       "</table>\n",
       "</div>"
      ]
     },
     "execution_count": 7,
     "metadata": {},
     "output_type": "execute_result"
    }
   ],
   "execution_count": 7
  },
  {
   "metadata": {},
   "cell_type": "markdown",
   "source": "#### 5. Countries with the most goals in Champions League",
   "id": "12d17a61d8a8843e"
  },
  {
   "metadata": {
    "ExecuteTime": {
     "end_time": "2025-06-15T11:40:06.092559Z",
     "start_time": "2025-06-15T11:40:06.083114Z"
    }
   },
   "cell_type": "code",
   "source": [
    "goals_by_country = ucl.groupby(\"Nationality\")[\"Goals\"].sum().reset_index()\n",
    "\n",
    "#  Rendit sipas numrit të golave\n",
    "goals_by_country = goals_by_country.sort_values(\"Goals\", ascending=False).head(20)\n"
   ],
   "id": "d8e1e7b3322a052f",
   "outputs": [],
   "execution_count": 8
  },
  {
   "metadata": {
    "ExecuteTime": {
     "end_time": "2025-06-15T11:40:06.333306Z",
     "start_time": "2025-06-15T11:40:06.269845Z"
    }
   },
   "cell_type": "code",
   "source": [
    "fig = px.bar(\n",
    "    goals_by_country,\n",
    "    x=\"Nationality\",\n",
    "    y=\"Goals\",\n",
    "    title=\"Countries Hits Number of Goals in Champions League 2025\",\n",
    "    color_discrete_sequence=[\"orange\"]\n",
    ")\n",
    "\n",
    "fig.update_layout(xaxis_title=\"\", yaxis_title=\"Goals\")\n",
    "fig.show()\n"
   ],
   "id": "9dda787898f59bea",
   "outputs": [
    {
     "data": {
      "application/vnd.plotly.v1+json": {
       "data": [
        {
         "hovertemplate": "Nationality=%{x}<br>Goals=%{y}<extra></extra>",
         "legendgroup": "",
         "marker": {
          "color": "orange",
          "pattern": {
           "shape": ""
          }
         },
         "name": "",
         "orientation": "v",
         "showlegend": false,
         "textposition": "auto",
         "x": [
          "France",
          "England",
          "Brazil",
          "Germany",
          "Netherlands",
          "Argentina",
          "Spain",
          "Nigeria",
          "Turkey",
          "Portugal",
          "Belgium",
          "Norway",
          "Poland",
          "Canada",
          "Morocco",
          "Greece",
          "Croatia",
          "United States",
          "Mexico",
          "Sweden"
         ],
         "xaxis": "x",
         "y": {
          "dtype": "i1",
          "bdata": "LiUjHhUVFRIPDQsLCwkJCAgHBgY="
         },
         "yaxis": "y",
         "type": "bar"
        }
       ],
       "layout": {
        "template": {
         "data": {
          "histogram2dcontour": [
           {
            "type": "histogram2dcontour",
            "colorbar": {
             "outlinewidth": 0,
             "ticks": ""
            },
            "colorscale": [
             [
              0.0,
              "#0d0887"
             ],
             [
              0.1111111111111111,
              "#46039f"
             ],
             [
              0.2222222222222222,
              "#7201a8"
             ],
             [
              0.3333333333333333,
              "#9c179e"
             ],
             [
              0.4444444444444444,
              "#bd3786"
             ],
             [
              0.5555555555555556,
              "#d8576b"
             ],
             [
              0.6666666666666666,
              "#ed7953"
             ],
             [
              0.7777777777777778,
              "#fb9f3a"
             ],
             [
              0.8888888888888888,
              "#fdca26"
             ],
             [
              1.0,
              "#f0f921"
             ]
            ]
           }
          ],
          "choropleth": [
           {
            "type": "choropleth",
            "colorbar": {
             "outlinewidth": 0,
             "ticks": ""
            }
           }
          ],
          "histogram2d": [
           {
            "type": "histogram2d",
            "colorbar": {
             "outlinewidth": 0,
             "ticks": ""
            },
            "colorscale": [
             [
              0.0,
              "#0d0887"
             ],
             [
              0.1111111111111111,
              "#46039f"
             ],
             [
              0.2222222222222222,
              "#7201a8"
             ],
             [
              0.3333333333333333,
              "#9c179e"
             ],
             [
              0.4444444444444444,
              "#bd3786"
             ],
             [
              0.5555555555555556,
              "#d8576b"
             ],
             [
              0.6666666666666666,
              "#ed7953"
             ],
             [
              0.7777777777777778,
              "#fb9f3a"
             ],
             [
              0.8888888888888888,
              "#fdca26"
             ],
             [
              1.0,
              "#f0f921"
             ]
            ]
           }
          ],
          "heatmap": [
           {
            "type": "heatmap",
            "colorbar": {
             "outlinewidth": 0,
             "ticks": ""
            },
            "colorscale": [
             [
              0.0,
              "#0d0887"
             ],
             [
              0.1111111111111111,
              "#46039f"
             ],
             [
              0.2222222222222222,
              "#7201a8"
             ],
             [
              0.3333333333333333,
              "#9c179e"
             ],
             [
              0.4444444444444444,
              "#bd3786"
             ],
             [
              0.5555555555555556,
              "#d8576b"
             ],
             [
              0.6666666666666666,
              "#ed7953"
             ],
             [
              0.7777777777777778,
              "#fb9f3a"
             ],
             [
              0.8888888888888888,
              "#fdca26"
             ],
             [
              1.0,
              "#f0f921"
             ]
            ]
           }
          ],
          "contourcarpet": [
           {
            "type": "contourcarpet",
            "colorbar": {
             "outlinewidth": 0,
             "ticks": ""
            }
           }
          ],
          "contour": [
           {
            "type": "contour",
            "colorbar": {
             "outlinewidth": 0,
             "ticks": ""
            },
            "colorscale": [
             [
              0.0,
              "#0d0887"
             ],
             [
              0.1111111111111111,
              "#46039f"
             ],
             [
              0.2222222222222222,
              "#7201a8"
             ],
             [
              0.3333333333333333,
              "#9c179e"
             ],
             [
              0.4444444444444444,
              "#bd3786"
             ],
             [
              0.5555555555555556,
              "#d8576b"
             ],
             [
              0.6666666666666666,
              "#ed7953"
             ],
             [
              0.7777777777777778,
              "#fb9f3a"
             ],
             [
              0.8888888888888888,
              "#fdca26"
             ],
             [
              1.0,
              "#f0f921"
             ]
            ]
           }
          ],
          "surface": [
           {
            "type": "surface",
            "colorbar": {
             "outlinewidth": 0,
             "ticks": ""
            },
            "colorscale": [
             [
              0.0,
              "#0d0887"
             ],
             [
              0.1111111111111111,
              "#46039f"
             ],
             [
              0.2222222222222222,
              "#7201a8"
             ],
             [
              0.3333333333333333,
              "#9c179e"
             ],
             [
              0.4444444444444444,
              "#bd3786"
             ],
             [
              0.5555555555555556,
              "#d8576b"
             ],
             [
              0.6666666666666666,
              "#ed7953"
             ],
             [
              0.7777777777777778,
              "#fb9f3a"
             ],
             [
              0.8888888888888888,
              "#fdca26"
             ],
             [
              1.0,
              "#f0f921"
             ]
            ]
           }
          ],
          "mesh3d": [
           {
            "type": "mesh3d",
            "colorbar": {
             "outlinewidth": 0,
             "ticks": ""
            }
           }
          ],
          "scatter": [
           {
            "fillpattern": {
             "fillmode": "overlay",
             "size": 10,
             "solidity": 0.2
            },
            "type": "scatter"
           }
          ],
          "parcoords": [
           {
            "type": "parcoords",
            "line": {
             "colorbar": {
              "outlinewidth": 0,
              "ticks": ""
             }
            }
           }
          ],
          "scatterpolargl": [
           {
            "type": "scatterpolargl",
            "marker": {
             "colorbar": {
              "outlinewidth": 0,
              "ticks": ""
             }
            }
           }
          ],
          "bar": [
           {
            "error_x": {
             "color": "#2a3f5f"
            },
            "error_y": {
             "color": "#2a3f5f"
            },
            "marker": {
             "line": {
              "color": "#E5ECF6",
              "width": 0.5
             },
             "pattern": {
              "fillmode": "overlay",
              "size": 10,
              "solidity": 0.2
             }
            },
            "type": "bar"
           }
          ],
          "scattergeo": [
           {
            "type": "scattergeo",
            "marker": {
             "colorbar": {
              "outlinewidth": 0,
              "ticks": ""
             }
            }
           }
          ],
          "scatterpolar": [
           {
            "type": "scatterpolar",
            "marker": {
             "colorbar": {
              "outlinewidth": 0,
              "ticks": ""
             }
            }
           }
          ],
          "histogram": [
           {
            "marker": {
             "pattern": {
              "fillmode": "overlay",
              "size": 10,
              "solidity": 0.2
             }
            },
            "type": "histogram"
           }
          ],
          "scattergl": [
           {
            "type": "scattergl",
            "marker": {
             "colorbar": {
              "outlinewidth": 0,
              "ticks": ""
             }
            }
           }
          ],
          "scatter3d": [
           {
            "type": "scatter3d",
            "line": {
             "colorbar": {
              "outlinewidth": 0,
              "ticks": ""
             }
            },
            "marker": {
             "colorbar": {
              "outlinewidth": 0,
              "ticks": ""
             }
            }
           }
          ],
          "scattermap": [
           {
            "type": "scattermap",
            "marker": {
             "colorbar": {
              "outlinewidth": 0,
              "ticks": ""
             }
            }
           }
          ],
          "scattermapbox": [
           {
            "type": "scattermapbox",
            "marker": {
             "colorbar": {
              "outlinewidth": 0,
              "ticks": ""
             }
            }
           }
          ],
          "scatterternary": [
           {
            "type": "scatterternary",
            "marker": {
             "colorbar": {
              "outlinewidth": 0,
              "ticks": ""
             }
            }
           }
          ],
          "scattercarpet": [
           {
            "type": "scattercarpet",
            "marker": {
             "colorbar": {
              "outlinewidth": 0,
              "ticks": ""
             }
            }
           }
          ],
          "carpet": [
           {
            "aaxis": {
             "endlinecolor": "#2a3f5f",
             "gridcolor": "white",
             "linecolor": "white",
             "minorgridcolor": "white",
             "startlinecolor": "#2a3f5f"
            },
            "baxis": {
             "endlinecolor": "#2a3f5f",
             "gridcolor": "white",
             "linecolor": "white",
             "minorgridcolor": "white",
             "startlinecolor": "#2a3f5f"
            },
            "type": "carpet"
           }
          ],
          "table": [
           {
            "cells": {
             "fill": {
              "color": "#EBF0F8"
             },
             "line": {
              "color": "white"
             }
            },
            "header": {
             "fill": {
              "color": "#C8D4E3"
             },
             "line": {
              "color": "white"
             }
            },
            "type": "table"
           }
          ],
          "barpolar": [
           {
            "marker": {
             "line": {
              "color": "#E5ECF6",
              "width": 0.5
             },
             "pattern": {
              "fillmode": "overlay",
              "size": 10,
              "solidity": 0.2
             }
            },
            "type": "barpolar"
           }
          ],
          "pie": [
           {
            "automargin": true,
            "type": "pie"
           }
          ]
         },
         "layout": {
          "autotypenumbers": "strict",
          "colorway": [
           "#636efa",
           "#EF553B",
           "#00cc96",
           "#ab63fa",
           "#FFA15A",
           "#19d3f3",
           "#FF6692",
           "#B6E880",
           "#FF97FF",
           "#FECB52"
          ],
          "font": {
           "color": "#2a3f5f"
          },
          "hovermode": "closest",
          "hoverlabel": {
           "align": "left"
          },
          "paper_bgcolor": "white",
          "plot_bgcolor": "#E5ECF6",
          "polar": {
           "bgcolor": "#E5ECF6",
           "angularaxis": {
            "gridcolor": "white",
            "linecolor": "white",
            "ticks": ""
           },
           "radialaxis": {
            "gridcolor": "white",
            "linecolor": "white",
            "ticks": ""
           }
          },
          "ternary": {
           "bgcolor": "#E5ECF6",
           "aaxis": {
            "gridcolor": "white",
            "linecolor": "white",
            "ticks": ""
           },
           "baxis": {
            "gridcolor": "white",
            "linecolor": "white",
            "ticks": ""
           },
           "caxis": {
            "gridcolor": "white",
            "linecolor": "white",
            "ticks": ""
           }
          },
          "coloraxis": {
           "colorbar": {
            "outlinewidth": 0,
            "ticks": ""
           }
          },
          "colorscale": {
           "sequential": [
            [
             0.0,
             "#0d0887"
            ],
            [
             0.1111111111111111,
             "#46039f"
            ],
            [
             0.2222222222222222,
             "#7201a8"
            ],
            [
             0.3333333333333333,
             "#9c179e"
            ],
            [
             0.4444444444444444,
             "#bd3786"
            ],
            [
             0.5555555555555556,
             "#d8576b"
            ],
            [
             0.6666666666666666,
             "#ed7953"
            ],
            [
             0.7777777777777778,
             "#fb9f3a"
            ],
            [
             0.8888888888888888,
             "#fdca26"
            ],
            [
             1.0,
             "#f0f921"
            ]
           ],
           "sequentialminus": [
            [
             0.0,
             "#0d0887"
            ],
            [
             0.1111111111111111,
             "#46039f"
            ],
            [
             0.2222222222222222,
             "#7201a8"
            ],
            [
             0.3333333333333333,
             "#9c179e"
            ],
            [
             0.4444444444444444,
             "#bd3786"
            ],
            [
             0.5555555555555556,
             "#d8576b"
            ],
            [
             0.6666666666666666,
             "#ed7953"
            ],
            [
             0.7777777777777778,
             "#fb9f3a"
            ],
            [
             0.8888888888888888,
             "#fdca26"
            ],
            [
             1.0,
             "#f0f921"
            ]
           ],
           "diverging": [
            [
             0,
             "#8e0152"
            ],
            [
             0.1,
             "#c51b7d"
            ],
            [
             0.2,
             "#de77ae"
            ],
            [
             0.3,
             "#f1b6da"
            ],
            [
             0.4,
             "#fde0ef"
            ],
            [
             0.5,
             "#f7f7f7"
            ],
            [
             0.6,
             "#e6f5d0"
            ],
            [
             0.7,
             "#b8e186"
            ],
            [
             0.8,
             "#7fbc41"
            ],
            [
             0.9,
             "#4d9221"
            ],
            [
             1,
             "#276419"
            ]
           ]
          },
          "xaxis": {
           "gridcolor": "white",
           "linecolor": "white",
           "ticks": "",
           "title": {
            "standoff": 15
           },
           "zerolinecolor": "white",
           "automargin": true,
           "zerolinewidth": 2
          },
          "yaxis": {
           "gridcolor": "white",
           "linecolor": "white",
           "ticks": "",
           "title": {
            "standoff": 15
           },
           "zerolinecolor": "white",
           "automargin": true,
           "zerolinewidth": 2
          },
          "scene": {
           "xaxis": {
            "backgroundcolor": "#E5ECF6",
            "gridcolor": "white",
            "linecolor": "white",
            "showbackground": true,
            "ticks": "",
            "zerolinecolor": "white",
            "gridwidth": 2
           },
           "yaxis": {
            "backgroundcolor": "#E5ECF6",
            "gridcolor": "white",
            "linecolor": "white",
            "showbackground": true,
            "ticks": "",
            "zerolinecolor": "white",
            "gridwidth": 2
           },
           "zaxis": {
            "backgroundcolor": "#E5ECF6",
            "gridcolor": "white",
            "linecolor": "white",
            "showbackground": true,
            "ticks": "",
            "zerolinecolor": "white",
            "gridwidth": 2
           }
          },
          "shapedefaults": {
           "line": {
            "color": "#2a3f5f"
           }
          },
          "annotationdefaults": {
           "arrowcolor": "#2a3f5f",
           "arrowhead": 0,
           "arrowwidth": 1
          },
          "geo": {
           "bgcolor": "white",
           "landcolor": "#E5ECF6",
           "subunitcolor": "white",
           "showland": true,
           "showlakes": true,
           "lakecolor": "white"
          },
          "title": {
           "x": 0.05
          },
          "mapbox": {
           "style": "light"
          }
         }
        },
        "xaxis": {
         "anchor": "y",
         "domain": [
          0.0,
          1.0
         ],
         "title": {
          "text": ""
         }
        },
        "yaxis": {
         "anchor": "x",
         "domain": [
          0.0,
          1.0
         ],
         "title": {
          "text": "Goals"
         }
        },
        "legend": {
         "tracegroupgap": 0
        },
        "title": {
         "text": "Countries Hits Number of Goals in Champions League 2025"
        },
        "barmode": "relative"
       },
       "config": {
        "plotlyServerURL": "https://plot.ly"
       }
      }
     },
     "metadata": {},
     "output_type": "display_data"
    }
   ],
   "execution_count": 9
  },
  {
   "metadata": {},
   "cell_type": "markdown",
   "source": "#### 6. (Treemap): Teams in the Champions League",
   "id": "dfdef68dcc6f880a"
  },
  {
   "metadata": {
    "ExecuteTime": {
     "end_time": "2025-06-15T11:40:06.587316Z",
     "start_time": "2025-06-15T11:40:06.575228Z"
    }
   },
   "cell_type": "code",
   "source": [
    "# Calculate the total number of teams in the dataet using groupby and nunique\n",
    "total_teams_ucl = ucl.groupby('Team')['Team'].nunique().count()\n",
    "total_teams_ucl"
   ],
   "id": "b70f83a3d08618ec",
   "outputs": [
    {
     "data": {
      "text/plain": [
       "np.int64(31)"
      ]
     },
     "execution_count": 10,
     "metadata": {},
     "output_type": "execute_result"
    }
   ],
   "execution_count": 10
  },
  {
   "metadata": {
    "ExecuteTime": {
     "end_time": "2025-06-15T11:40:06.793163Z",
     "start_time": "2025-06-15T11:40:06.687556Z"
    }
   },
   "cell_type": "code",
   "source": [
    "# Create a treemap\n",
    "fig_treemap = px.treemap(\n",
    "    ucl,\n",
    "    path=['Team'],\n",
    "\n",
    "    title='Teams in the Champions League 2025 - Tree Map'\n",
    ")\n",
    "fig_treemap.update_layout(margin=dict(l=0, r=0, b=0, t=30))\n",
    "fig_treemap.show()"
   ],
   "id": "1f473c419d0b2b80",
   "outputs": [
    {
     "data": {
      "application/vnd.plotly.v1+json": {
       "data": [
        {
         "branchvalues": "total",
         "domain": {
          "x": [
           0.0,
           1.0
          ],
          "y": [
           0.0,
           1.0
          ]
         },
         "hovertemplate": "labels=%{label}<br>count=%{value}<br>parent=%{parent}<br>id=%{id}<extra></extra>",
         "ids": [
          "Milan",
          "Inter",
          "Barcelona",
          "Liverpool FC",
          "Real Madrid",
          "Arsenal FC",
          "Club Brugge",
          "Benfica",
          "Celtic",
          "Atletico Madrid",
          "Paris SG",
          "PSV Eindhoven",
          "Brest",
          "Lille",
          "Bayer Leverkusen",
          "Manchester City",
          "BVB Dortmund",
          "Juventus",
          "Aston Villa",
          "Atalanta BC",
          "Leipzig",
          "Sturm Graz",
          "Monaco",
          "Bayern Munich",
          "Sporting CP",
          "Feyenoord",
          "Bologna",
          "Shakhtar Donetsk",
          "VfB Stuttgart",
          "Dinamo Zagreb",
          "Girona"
         ],
         "labels": [
          "Milan",
          "Inter",
          "Barcelona",
          "Liverpool FC",
          "Real Madrid",
          "Arsenal FC",
          "Club Brugge",
          "Benfica",
          "Celtic",
          "Atletico Madrid",
          "Paris SG",
          "PSV Eindhoven",
          "Brest",
          "Lille",
          "Bayer Leverkusen",
          "Manchester City",
          "BVB Dortmund",
          "Juventus",
          "Aston Villa",
          "Atalanta BC",
          "Leipzig",
          "Sturm Graz",
          "Monaco",
          "Bayern Munich",
          "Sporting CP",
          "Feyenoord",
          "Bologna",
          "Shakhtar Donetsk",
          "VfB Stuttgart",
          "Dinamo Zagreb",
          "Girona"
         ],
         "name": "",
         "parents": [
          "",
          "",
          "",
          "",
          "",
          "",
          "",
          "",
          "",
          "",
          "",
          "",
          "",
          "",
          "",
          "",
          "",
          "",
          "",
          "",
          "",
          "",
          "",
          "",
          "",
          "",
          "",
          "",
          "",
          "",
          ""
         ],
         "values": {
          "dtype": "i1",
          "bdata": "Bw0MCgsMBQkGCAwKAgYHBwsFCAkBAQcKBgQEAwIBAQ=="
         },
         "type": "treemap"
        }
       ],
       "layout": {
        "template": {
         "data": {
          "histogram2dcontour": [
           {
            "type": "histogram2dcontour",
            "colorbar": {
             "outlinewidth": 0,
             "ticks": ""
            },
            "colorscale": [
             [
              0.0,
              "#0d0887"
             ],
             [
              0.1111111111111111,
              "#46039f"
             ],
             [
              0.2222222222222222,
              "#7201a8"
             ],
             [
              0.3333333333333333,
              "#9c179e"
             ],
             [
              0.4444444444444444,
              "#bd3786"
             ],
             [
              0.5555555555555556,
              "#d8576b"
             ],
             [
              0.6666666666666666,
              "#ed7953"
             ],
             [
              0.7777777777777778,
              "#fb9f3a"
             ],
             [
              0.8888888888888888,
              "#fdca26"
             ],
             [
              1.0,
              "#f0f921"
             ]
            ]
           }
          ],
          "choropleth": [
           {
            "type": "choropleth",
            "colorbar": {
             "outlinewidth": 0,
             "ticks": ""
            }
           }
          ],
          "histogram2d": [
           {
            "type": "histogram2d",
            "colorbar": {
             "outlinewidth": 0,
             "ticks": ""
            },
            "colorscale": [
             [
              0.0,
              "#0d0887"
             ],
             [
              0.1111111111111111,
              "#46039f"
             ],
             [
              0.2222222222222222,
              "#7201a8"
             ],
             [
              0.3333333333333333,
              "#9c179e"
             ],
             [
              0.4444444444444444,
              "#bd3786"
             ],
             [
              0.5555555555555556,
              "#d8576b"
             ],
             [
              0.6666666666666666,
              "#ed7953"
             ],
             [
              0.7777777777777778,
              "#fb9f3a"
             ],
             [
              0.8888888888888888,
              "#fdca26"
             ],
             [
              1.0,
              "#f0f921"
             ]
            ]
           }
          ],
          "heatmap": [
           {
            "type": "heatmap",
            "colorbar": {
             "outlinewidth": 0,
             "ticks": ""
            },
            "colorscale": [
             [
              0.0,
              "#0d0887"
             ],
             [
              0.1111111111111111,
              "#46039f"
             ],
             [
              0.2222222222222222,
              "#7201a8"
             ],
             [
              0.3333333333333333,
              "#9c179e"
             ],
             [
              0.4444444444444444,
              "#bd3786"
             ],
             [
              0.5555555555555556,
              "#d8576b"
             ],
             [
              0.6666666666666666,
              "#ed7953"
             ],
             [
              0.7777777777777778,
              "#fb9f3a"
             ],
             [
              0.8888888888888888,
              "#fdca26"
             ],
             [
              1.0,
              "#f0f921"
             ]
            ]
           }
          ],
          "contourcarpet": [
           {
            "type": "contourcarpet",
            "colorbar": {
             "outlinewidth": 0,
             "ticks": ""
            }
           }
          ],
          "contour": [
           {
            "type": "contour",
            "colorbar": {
             "outlinewidth": 0,
             "ticks": ""
            },
            "colorscale": [
             [
              0.0,
              "#0d0887"
             ],
             [
              0.1111111111111111,
              "#46039f"
             ],
             [
              0.2222222222222222,
              "#7201a8"
             ],
             [
              0.3333333333333333,
              "#9c179e"
             ],
             [
              0.4444444444444444,
              "#bd3786"
             ],
             [
              0.5555555555555556,
              "#d8576b"
             ],
             [
              0.6666666666666666,
              "#ed7953"
             ],
             [
              0.7777777777777778,
              "#fb9f3a"
             ],
             [
              0.8888888888888888,
              "#fdca26"
             ],
             [
              1.0,
              "#f0f921"
             ]
            ]
           }
          ],
          "surface": [
           {
            "type": "surface",
            "colorbar": {
             "outlinewidth": 0,
             "ticks": ""
            },
            "colorscale": [
             [
              0.0,
              "#0d0887"
             ],
             [
              0.1111111111111111,
              "#46039f"
             ],
             [
              0.2222222222222222,
              "#7201a8"
             ],
             [
              0.3333333333333333,
              "#9c179e"
             ],
             [
              0.4444444444444444,
              "#bd3786"
             ],
             [
              0.5555555555555556,
              "#d8576b"
             ],
             [
              0.6666666666666666,
              "#ed7953"
             ],
             [
              0.7777777777777778,
              "#fb9f3a"
             ],
             [
              0.8888888888888888,
              "#fdca26"
             ],
             [
              1.0,
              "#f0f921"
             ]
            ]
           }
          ],
          "mesh3d": [
           {
            "type": "mesh3d",
            "colorbar": {
             "outlinewidth": 0,
             "ticks": ""
            }
           }
          ],
          "scatter": [
           {
            "fillpattern": {
             "fillmode": "overlay",
             "size": 10,
             "solidity": 0.2
            },
            "type": "scatter"
           }
          ],
          "parcoords": [
           {
            "type": "parcoords",
            "line": {
             "colorbar": {
              "outlinewidth": 0,
              "ticks": ""
             }
            }
           }
          ],
          "scatterpolargl": [
           {
            "type": "scatterpolargl",
            "marker": {
             "colorbar": {
              "outlinewidth": 0,
              "ticks": ""
             }
            }
           }
          ],
          "bar": [
           {
            "error_x": {
             "color": "#2a3f5f"
            },
            "error_y": {
             "color": "#2a3f5f"
            },
            "marker": {
             "line": {
              "color": "#E5ECF6",
              "width": 0.5
             },
             "pattern": {
              "fillmode": "overlay",
              "size": 10,
              "solidity": 0.2
             }
            },
            "type": "bar"
           }
          ],
          "scattergeo": [
           {
            "type": "scattergeo",
            "marker": {
             "colorbar": {
              "outlinewidth": 0,
              "ticks": ""
             }
            }
           }
          ],
          "scatterpolar": [
           {
            "type": "scatterpolar",
            "marker": {
             "colorbar": {
              "outlinewidth": 0,
              "ticks": ""
             }
            }
           }
          ],
          "histogram": [
           {
            "marker": {
             "pattern": {
              "fillmode": "overlay",
              "size": 10,
              "solidity": 0.2
             }
            },
            "type": "histogram"
           }
          ],
          "scattergl": [
           {
            "type": "scattergl",
            "marker": {
             "colorbar": {
              "outlinewidth": 0,
              "ticks": ""
             }
            }
           }
          ],
          "scatter3d": [
           {
            "type": "scatter3d",
            "line": {
             "colorbar": {
              "outlinewidth": 0,
              "ticks": ""
             }
            },
            "marker": {
             "colorbar": {
              "outlinewidth": 0,
              "ticks": ""
             }
            }
           }
          ],
          "scattermap": [
           {
            "type": "scattermap",
            "marker": {
             "colorbar": {
              "outlinewidth": 0,
              "ticks": ""
             }
            }
           }
          ],
          "scattermapbox": [
           {
            "type": "scattermapbox",
            "marker": {
             "colorbar": {
              "outlinewidth": 0,
              "ticks": ""
             }
            }
           }
          ],
          "scatterternary": [
           {
            "type": "scatterternary",
            "marker": {
             "colorbar": {
              "outlinewidth": 0,
              "ticks": ""
             }
            }
           }
          ],
          "scattercarpet": [
           {
            "type": "scattercarpet",
            "marker": {
             "colorbar": {
              "outlinewidth": 0,
              "ticks": ""
             }
            }
           }
          ],
          "carpet": [
           {
            "aaxis": {
             "endlinecolor": "#2a3f5f",
             "gridcolor": "white",
             "linecolor": "white",
             "minorgridcolor": "white",
             "startlinecolor": "#2a3f5f"
            },
            "baxis": {
             "endlinecolor": "#2a3f5f",
             "gridcolor": "white",
             "linecolor": "white",
             "minorgridcolor": "white",
             "startlinecolor": "#2a3f5f"
            },
            "type": "carpet"
           }
          ],
          "table": [
           {
            "cells": {
             "fill": {
              "color": "#EBF0F8"
             },
             "line": {
              "color": "white"
             }
            },
            "header": {
             "fill": {
              "color": "#C8D4E3"
             },
             "line": {
              "color": "white"
             }
            },
            "type": "table"
           }
          ],
          "barpolar": [
           {
            "marker": {
             "line": {
              "color": "#E5ECF6",
              "width": 0.5
             },
             "pattern": {
              "fillmode": "overlay",
              "size": 10,
              "solidity": 0.2
             }
            },
            "type": "barpolar"
           }
          ],
          "pie": [
           {
            "automargin": true,
            "type": "pie"
           }
          ]
         },
         "layout": {
          "autotypenumbers": "strict",
          "colorway": [
           "#636efa",
           "#EF553B",
           "#00cc96",
           "#ab63fa",
           "#FFA15A",
           "#19d3f3",
           "#FF6692",
           "#B6E880",
           "#FF97FF",
           "#FECB52"
          ],
          "font": {
           "color": "#2a3f5f"
          },
          "hovermode": "closest",
          "hoverlabel": {
           "align": "left"
          },
          "paper_bgcolor": "white",
          "plot_bgcolor": "#E5ECF6",
          "polar": {
           "bgcolor": "#E5ECF6",
           "angularaxis": {
            "gridcolor": "white",
            "linecolor": "white",
            "ticks": ""
           },
           "radialaxis": {
            "gridcolor": "white",
            "linecolor": "white",
            "ticks": ""
           }
          },
          "ternary": {
           "bgcolor": "#E5ECF6",
           "aaxis": {
            "gridcolor": "white",
            "linecolor": "white",
            "ticks": ""
           },
           "baxis": {
            "gridcolor": "white",
            "linecolor": "white",
            "ticks": ""
           },
           "caxis": {
            "gridcolor": "white",
            "linecolor": "white",
            "ticks": ""
           }
          },
          "coloraxis": {
           "colorbar": {
            "outlinewidth": 0,
            "ticks": ""
           }
          },
          "colorscale": {
           "sequential": [
            [
             0.0,
             "#0d0887"
            ],
            [
             0.1111111111111111,
             "#46039f"
            ],
            [
             0.2222222222222222,
             "#7201a8"
            ],
            [
             0.3333333333333333,
             "#9c179e"
            ],
            [
             0.4444444444444444,
             "#bd3786"
            ],
            [
             0.5555555555555556,
             "#d8576b"
            ],
            [
             0.6666666666666666,
             "#ed7953"
            ],
            [
             0.7777777777777778,
             "#fb9f3a"
            ],
            [
             0.8888888888888888,
             "#fdca26"
            ],
            [
             1.0,
             "#f0f921"
            ]
           ],
           "sequentialminus": [
            [
             0.0,
             "#0d0887"
            ],
            [
             0.1111111111111111,
             "#46039f"
            ],
            [
             0.2222222222222222,
             "#7201a8"
            ],
            [
             0.3333333333333333,
             "#9c179e"
            ],
            [
             0.4444444444444444,
             "#bd3786"
            ],
            [
             0.5555555555555556,
             "#d8576b"
            ],
            [
             0.6666666666666666,
             "#ed7953"
            ],
            [
             0.7777777777777778,
             "#fb9f3a"
            ],
            [
             0.8888888888888888,
             "#fdca26"
            ],
            [
             1.0,
             "#f0f921"
            ]
           ],
           "diverging": [
            [
             0,
             "#8e0152"
            ],
            [
             0.1,
             "#c51b7d"
            ],
            [
             0.2,
             "#de77ae"
            ],
            [
             0.3,
             "#f1b6da"
            ],
            [
             0.4,
             "#fde0ef"
            ],
            [
             0.5,
             "#f7f7f7"
            ],
            [
             0.6,
             "#e6f5d0"
            ],
            [
             0.7,
             "#b8e186"
            ],
            [
             0.8,
             "#7fbc41"
            ],
            [
             0.9,
             "#4d9221"
            ],
            [
             1,
             "#276419"
            ]
           ]
          },
          "xaxis": {
           "gridcolor": "white",
           "linecolor": "white",
           "ticks": "",
           "title": {
            "standoff": 15
           },
           "zerolinecolor": "white",
           "automargin": true,
           "zerolinewidth": 2
          },
          "yaxis": {
           "gridcolor": "white",
           "linecolor": "white",
           "ticks": "",
           "title": {
            "standoff": 15
           },
           "zerolinecolor": "white",
           "automargin": true,
           "zerolinewidth": 2
          },
          "scene": {
           "xaxis": {
            "backgroundcolor": "#E5ECF6",
            "gridcolor": "white",
            "linecolor": "white",
            "showbackground": true,
            "ticks": "",
            "zerolinecolor": "white",
            "gridwidth": 2
           },
           "yaxis": {
            "backgroundcolor": "#E5ECF6",
            "gridcolor": "white",
            "linecolor": "white",
            "showbackground": true,
            "ticks": "",
            "zerolinecolor": "white",
            "gridwidth": 2
           },
           "zaxis": {
            "backgroundcolor": "#E5ECF6",
            "gridcolor": "white",
            "linecolor": "white",
            "showbackground": true,
            "ticks": "",
            "zerolinecolor": "white",
            "gridwidth": 2
           }
          },
          "shapedefaults": {
           "line": {
            "color": "#2a3f5f"
           }
          },
          "annotationdefaults": {
           "arrowcolor": "#2a3f5f",
           "arrowhead": 0,
           "arrowwidth": 1
          },
          "geo": {
           "bgcolor": "white",
           "landcolor": "#E5ECF6",
           "subunitcolor": "white",
           "showland": true,
           "showlakes": true,
           "lakecolor": "white"
          },
          "title": {
           "x": 0.05
          },
          "mapbox": {
           "style": "light"
          }
         }
        },
        "legend": {
         "tracegroupgap": 0
        },
        "title": {
         "text": "Teams in the Champions League 2025 - Tree Map"
        },
        "margin": {
         "l": 0,
         "r": 0,
         "b": 0,
         "t": 30
        }
       },
       "config": {
        "plotlyServerURL": "https://plot.ly"
       }
      }
     },
     "metadata": {},
     "output_type": "display_data"
    }
   ],
   "execution_count": 11
  },
  {
   "metadata": {},
   "cell_type": "markdown",
   "source": "#### 7 (FunnelChart). top 5 Teams with the best records of tackles won",
   "id": "e66f3013355fd961"
  },
  {
   "metadata": {
    "ExecuteTime": {
     "end_time": "2025-06-15T11:40:06.837530Z",
     "start_time": "2025-06-15T11:40:06.824721Z"
    }
   },
   "cell_type": "code",
   "source": [
    "    # Get the top 5 Teams with the best records of tackles won\n",
    "top_teams_tackles = ucl.groupby('Team')['Tackles_Won'].sum().nlargest(5).reset_index()\n",
    "top_teams_tackles"
   ],
   "id": "f5115dd846559d0f",
   "outputs": [
    {
     "data": {
      "text/plain": [
       "          Team  Tackles_Won\n",
       "0     Paris SG           97\n",
       "1        Inter           80\n",
       "2  Real Madrid           66\n",
       "3      Benfica           63\n",
       "4    Barcelona           62"
      ],
      "text/html": [
       "<div>\n",
       "<style scoped>\n",
       "    .dataframe tbody tr th:only-of-type {\n",
       "        vertical-align: middle;\n",
       "    }\n",
       "\n",
       "    .dataframe tbody tr th {\n",
       "        vertical-align: top;\n",
       "    }\n",
       "\n",
       "    .dataframe thead th {\n",
       "        text-align: right;\n",
       "    }\n",
       "</style>\n",
       "<table border=\"1\" class=\"dataframe\">\n",
       "  <thead>\n",
       "    <tr style=\"text-align: right;\">\n",
       "      <th></th>\n",
       "      <th>Team</th>\n",
       "      <th>Tackles_Won</th>\n",
       "    </tr>\n",
       "  </thead>\n",
       "  <tbody>\n",
       "    <tr>\n",
       "      <th>0</th>\n",
       "      <td>Paris SG</td>\n",
       "      <td>97</td>\n",
       "    </tr>\n",
       "    <tr>\n",
       "      <th>1</th>\n",
       "      <td>Inter</td>\n",
       "      <td>80</td>\n",
       "    </tr>\n",
       "    <tr>\n",
       "      <th>2</th>\n",
       "      <td>Real Madrid</td>\n",
       "      <td>66</td>\n",
       "    </tr>\n",
       "    <tr>\n",
       "      <th>3</th>\n",
       "      <td>Benfica</td>\n",
       "      <td>63</td>\n",
       "    </tr>\n",
       "    <tr>\n",
       "      <th>4</th>\n",
       "      <td>Barcelona</td>\n",
       "      <td>62</td>\n",
       "    </tr>\n",
       "  </tbody>\n",
       "</table>\n",
       "</div>"
      ]
     },
     "execution_count": 12,
     "metadata": {},
     "output_type": "execute_result"
    }
   ],
   "execution_count": 12
  },
  {
   "metadata": {
    "ExecuteTime": {
     "end_time": "2025-06-15T11:40:07.034966Z",
     "start_time": "2025-06-15T11:40:06.947201Z"
    }
   },
   "cell_type": "code",
   "source": [
    "\n",
    "fig_funnel = px.funnel(top_teams_tackles,x='Tackles_Won',y='Team',title='Top 5 Teams with the Most Tackles Won in Champions League 2025',orientation='h',labels={'Tackles_Won':'Tackles Won'})\n",
    "fig_funnel.show()\n"
   ],
   "id": "a020fb54de3e6bcc",
   "outputs": [
    {
     "data": {
      "application/vnd.plotly.v1+json": {
       "data": [
        {
         "hovertemplate": "Tackles Won=%{x}<br>Team=%{y}<extra></extra>",
         "legendgroup": "",
         "marker": {
          "color": "#636efa"
         },
         "name": "",
         "orientation": "h",
         "showlegend": false,
         "x": {
          "dtype": "i1",
          "bdata": "YVBCPz4="
         },
         "xaxis": "x",
         "y": [
          "Paris SG",
          "Inter",
          "Real Madrid",
          "Benfica",
          "Barcelona"
         ],
         "yaxis": "y",
         "type": "funnel"
        }
       ],
       "layout": {
        "template": {
         "data": {
          "histogram2dcontour": [
           {
            "type": "histogram2dcontour",
            "colorbar": {
             "outlinewidth": 0,
             "ticks": ""
            },
            "colorscale": [
             [
              0.0,
              "#0d0887"
             ],
             [
              0.1111111111111111,
              "#46039f"
             ],
             [
              0.2222222222222222,
              "#7201a8"
             ],
             [
              0.3333333333333333,
              "#9c179e"
             ],
             [
              0.4444444444444444,
              "#bd3786"
             ],
             [
              0.5555555555555556,
              "#d8576b"
             ],
             [
              0.6666666666666666,
              "#ed7953"
             ],
             [
              0.7777777777777778,
              "#fb9f3a"
             ],
             [
              0.8888888888888888,
              "#fdca26"
             ],
             [
              1.0,
              "#f0f921"
             ]
            ]
           }
          ],
          "choropleth": [
           {
            "type": "choropleth",
            "colorbar": {
             "outlinewidth": 0,
             "ticks": ""
            }
           }
          ],
          "histogram2d": [
           {
            "type": "histogram2d",
            "colorbar": {
             "outlinewidth": 0,
             "ticks": ""
            },
            "colorscale": [
             [
              0.0,
              "#0d0887"
             ],
             [
              0.1111111111111111,
              "#46039f"
             ],
             [
              0.2222222222222222,
              "#7201a8"
             ],
             [
              0.3333333333333333,
              "#9c179e"
             ],
             [
              0.4444444444444444,
              "#bd3786"
             ],
             [
              0.5555555555555556,
              "#d8576b"
             ],
             [
              0.6666666666666666,
              "#ed7953"
             ],
             [
              0.7777777777777778,
              "#fb9f3a"
             ],
             [
              0.8888888888888888,
              "#fdca26"
             ],
             [
              1.0,
              "#f0f921"
             ]
            ]
           }
          ],
          "heatmap": [
           {
            "type": "heatmap",
            "colorbar": {
             "outlinewidth": 0,
             "ticks": ""
            },
            "colorscale": [
             [
              0.0,
              "#0d0887"
             ],
             [
              0.1111111111111111,
              "#46039f"
             ],
             [
              0.2222222222222222,
              "#7201a8"
             ],
             [
              0.3333333333333333,
              "#9c179e"
             ],
             [
              0.4444444444444444,
              "#bd3786"
             ],
             [
              0.5555555555555556,
              "#d8576b"
             ],
             [
              0.6666666666666666,
              "#ed7953"
             ],
             [
              0.7777777777777778,
              "#fb9f3a"
             ],
             [
              0.8888888888888888,
              "#fdca26"
             ],
             [
              1.0,
              "#f0f921"
             ]
            ]
           }
          ],
          "contourcarpet": [
           {
            "type": "contourcarpet",
            "colorbar": {
             "outlinewidth": 0,
             "ticks": ""
            }
           }
          ],
          "contour": [
           {
            "type": "contour",
            "colorbar": {
             "outlinewidth": 0,
             "ticks": ""
            },
            "colorscale": [
             [
              0.0,
              "#0d0887"
             ],
             [
              0.1111111111111111,
              "#46039f"
             ],
             [
              0.2222222222222222,
              "#7201a8"
             ],
             [
              0.3333333333333333,
              "#9c179e"
             ],
             [
              0.4444444444444444,
              "#bd3786"
             ],
             [
              0.5555555555555556,
              "#d8576b"
             ],
             [
              0.6666666666666666,
              "#ed7953"
             ],
             [
              0.7777777777777778,
              "#fb9f3a"
             ],
             [
              0.8888888888888888,
              "#fdca26"
             ],
             [
              1.0,
              "#f0f921"
             ]
            ]
           }
          ],
          "surface": [
           {
            "type": "surface",
            "colorbar": {
             "outlinewidth": 0,
             "ticks": ""
            },
            "colorscale": [
             [
              0.0,
              "#0d0887"
             ],
             [
              0.1111111111111111,
              "#46039f"
             ],
             [
              0.2222222222222222,
              "#7201a8"
             ],
             [
              0.3333333333333333,
              "#9c179e"
             ],
             [
              0.4444444444444444,
              "#bd3786"
             ],
             [
              0.5555555555555556,
              "#d8576b"
             ],
             [
              0.6666666666666666,
              "#ed7953"
             ],
             [
              0.7777777777777778,
              "#fb9f3a"
             ],
             [
              0.8888888888888888,
              "#fdca26"
             ],
             [
              1.0,
              "#f0f921"
             ]
            ]
           }
          ],
          "mesh3d": [
           {
            "type": "mesh3d",
            "colorbar": {
             "outlinewidth": 0,
             "ticks": ""
            }
           }
          ],
          "scatter": [
           {
            "fillpattern": {
             "fillmode": "overlay",
             "size": 10,
             "solidity": 0.2
            },
            "type": "scatter"
           }
          ],
          "parcoords": [
           {
            "type": "parcoords",
            "line": {
             "colorbar": {
              "outlinewidth": 0,
              "ticks": ""
             }
            }
           }
          ],
          "scatterpolargl": [
           {
            "type": "scatterpolargl",
            "marker": {
             "colorbar": {
              "outlinewidth": 0,
              "ticks": ""
             }
            }
           }
          ],
          "bar": [
           {
            "error_x": {
             "color": "#2a3f5f"
            },
            "error_y": {
             "color": "#2a3f5f"
            },
            "marker": {
             "line": {
              "color": "#E5ECF6",
              "width": 0.5
             },
             "pattern": {
              "fillmode": "overlay",
              "size": 10,
              "solidity": 0.2
             }
            },
            "type": "bar"
           }
          ],
          "scattergeo": [
           {
            "type": "scattergeo",
            "marker": {
             "colorbar": {
              "outlinewidth": 0,
              "ticks": ""
             }
            }
           }
          ],
          "scatterpolar": [
           {
            "type": "scatterpolar",
            "marker": {
             "colorbar": {
              "outlinewidth": 0,
              "ticks": ""
             }
            }
           }
          ],
          "histogram": [
           {
            "marker": {
             "pattern": {
              "fillmode": "overlay",
              "size": 10,
              "solidity": 0.2
             }
            },
            "type": "histogram"
           }
          ],
          "scattergl": [
           {
            "type": "scattergl",
            "marker": {
             "colorbar": {
              "outlinewidth": 0,
              "ticks": ""
             }
            }
           }
          ],
          "scatter3d": [
           {
            "type": "scatter3d",
            "line": {
             "colorbar": {
              "outlinewidth": 0,
              "ticks": ""
             }
            },
            "marker": {
             "colorbar": {
              "outlinewidth": 0,
              "ticks": ""
             }
            }
           }
          ],
          "scattermap": [
           {
            "type": "scattermap",
            "marker": {
             "colorbar": {
              "outlinewidth": 0,
              "ticks": ""
             }
            }
           }
          ],
          "scattermapbox": [
           {
            "type": "scattermapbox",
            "marker": {
             "colorbar": {
              "outlinewidth": 0,
              "ticks": ""
             }
            }
           }
          ],
          "scatterternary": [
           {
            "type": "scatterternary",
            "marker": {
             "colorbar": {
              "outlinewidth": 0,
              "ticks": ""
             }
            }
           }
          ],
          "scattercarpet": [
           {
            "type": "scattercarpet",
            "marker": {
             "colorbar": {
              "outlinewidth": 0,
              "ticks": ""
             }
            }
           }
          ],
          "carpet": [
           {
            "aaxis": {
             "endlinecolor": "#2a3f5f",
             "gridcolor": "white",
             "linecolor": "white",
             "minorgridcolor": "white",
             "startlinecolor": "#2a3f5f"
            },
            "baxis": {
             "endlinecolor": "#2a3f5f",
             "gridcolor": "white",
             "linecolor": "white",
             "minorgridcolor": "white",
             "startlinecolor": "#2a3f5f"
            },
            "type": "carpet"
           }
          ],
          "table": [
           {
            "cells": {
             "fill": {
              "color": "#EBF0F8"
             },
             "line": {
              "color": "white"
             }
            },
            "header": {
             "fill": {
              "color": "#C8D4E3"
             },
             "line": {
              "color": "white"
             }
            },
            "type": "table"
           }
          ],
          "barpolar": [
           {
            "marker": {
             "line": {
              "color": "#E5ECF6",
              "width": 0.5
             },
             "pattern": {
              "fillmode": "overlay",
              "size": 10,
              "solidity": 0.2
             }
            },
            "type": "barpolar"
           }
          ],
          "pie": [
           {
            "automargin": true,
            "type": "pie"
           }
          ]
         },
         "layout": {
          "autotypenumbers": "strict",
          "colorway": [
           "#636efa",
           "#EF553B",
           "#00cc96",
           "#ab63fa",
           "#FFA15A",
           "#19d3f3",
           "#FF6692",
           "#B6E880",
           "#FF97FF",
           "#FECB52"
          ],
          "font": {
           "color": "#2a3f5f"
          },
          "hovermode": "closest",
          "hoverlabel": {
           "align": "left"
          },
          "paper_bgcolor": "white",
          "plot_bgcolor": "#E5ECF6",
          "polar": {
           "bgcolor": "#E5ECF6",
           "angularaxis": {
            "gridcolor": "white",
            "linecolor": "white",
            "ticks": ""
           },
           "radialaxis": {
            "gridcolor": "white",
            "linecolor": "white",
            "ticks": ""
           }
          },
          "ternary": {
           "bgcolor": "#E5ECF6",
           "aaxis": {
            "gridcolor": "white",
            "linecolor": "white",
            "ticks": ""
           },
           "baxis": {
            "gridcolor": "white",
            "linecolor": "white",
            "ticks": ""
           },
           "caxis": {
            "gridcolor": "white",
            "linecolor": "white",
            "ticks": ""
           }
          },
          "coloraxis": {
           "colorbar": {
            "outlinewidth": 0,
            "ticks": ""
           }
          },
          "colorscale": {
           "sequential": [
            [
             0.0,
             "#0d0887"
            ],
            [
             0.1111111111111111,
             "#46039f"
            ],
            [
             0.2222222222222222,
             "#7201a8"
            ],
            [
             0.3333333333333333,
             "#9c179e"
            ],
            [
             0.4444444444444444,
             "#bd3786"
            ],
            [
             0.5555555555555556,
             "#d8576b"
            ],
            [
             0.6666666666666666,
             "#ed7953"
            ],
            [
             0.7777777777777778,
             "#fb9f3a"
            ],
            [
             0.8888888888888888,
             "#fdca26"
            ],
            [
             1.0,
             "#f0f921"
            ]
           ],
           "sequentialminus": [
            [
             0.0,
             "#0d0887"
            ],
            [
             0.1111111111111111,
             "#46039f"
            ],
            [
             0.2222222222222222,
             "#7201a8"
            ],
            [
             0.3333333333333333,
             "#9c179e"
            ],
            [
             0.4444444444444444,
             "#bd3786"
            ],
            [
             0.5555555555555556,
             "#d8576b"
            ],
            [
             0.6666666666666666,
             "#ed7953"
            ],
            [
             0.7777777777777778,
             "#fb9f3a"
            ],
            [
             0.8888888888888888,
             "#fdca26"
            ],
            [
             1.0,
             "#f0f921"
            ]
           ],
           "diverging": [
            [
             0,
             "#8e0152"
            ],
            [
             0.1,
             "#c51b7d"
            ],
            [
             0.2,
             "#de77ae"
            ],
            [
             0.3,
             "#f1b6da"
            ],
            [
             0.4,
             "#fde0ef"
            ],
            [
             0.5,
             "#f7f7f7"
            ],
            [
             0.6,
             "#e6f5d0"
            ],
            [
             0.7,
             "#b8e186"
            ],
            [
             0.8,
             "#7fbc41"
            ],
            [
             0.9,
             "#4d9221"
            ],
            [
             1,
             "#276419"
            ]
           ]
          },
          "xaxis": {
           "gridcolor": "white",
           "linecolor": "white",
           "ticks": "",
           "title": {
            "standoff": 15
           },
           "zerolinecolor": "white",
           "automargin": true,
           "zerolinewidth": 2
          },
          "yaxis": {
           "gridcolor": "white",
           "linecolor": "white",
           "ticks": "",
           "title": {
            "standoff": 15
           },
           "zerolinecolor": "white",
           "automargin": true,
           "zerolinewidth": 2
          },
          "scene": {
           "xaxis": {
            "backgroundcolor": "#E5ECF6",
            "gridcolor": "white",
            "linecolor": "white",
            "showbackground": true,
            "ticks": "",
            "zerolinecolor": "white",
            "gridwidth": 2
           },
           "yaxis": {
            "backgroundcolor": "#E5ECF6",
            "gridcolor": "white",
            "linecolor": "white",
            "showbackground": true,
            "ticks": "",
            "zerolinecolor": "white",
            "gridwidth": 2
           },
           "zaxis": {
            "backgroundcolor": "#E5ECF6",
            "gridcolor": "white",
            "linecolor": "white",
            "showbackground": true,
            "ticks": "",
            "zerolinecolor": "white",
            "gridwidth": 2
           }
          },
          "shapedefaults": {
           "line": {
            "color": "#2a3f5f"
           }
          },
          "annotationdefaults": {
           "arrowcolor": "#2a3f5f",
           "arrowhead": 0,
           "arrowwidth": 1
          },
          "geo": {
           "bgcolor": "white",
           "landcolor": "#E5ECF6",
           "subunitcolor": "white",
           "showland": true,
           "showlakes": true,
           "lakecolor": "white"
          },
          "title": {
           "x": 0.05
          },
          "mapbox": {
           "style": "light"
          }
         }
        },
        "xaxis": {
         "anchor": "y",
         "domain": [
          0.0,
          1.0
         ],
         "title": {
          "text": "Tackles Won"
         }
        },
        "yaxis": {
         "anchor": "x",
         "domain": [
          0.0,
          1.0
         ],
         "title": {
          "text": "Team"
         }
        },
        "legend": {
         "tracegroupgap": 0
        },
        "title": {
         "text": "Top 5 Teams with the Most Tackles Won in Champions League 2025"
        }
       },
       "config": {
        "plotlyServerURL": "https://plot.ly"
       }
      }
     },
     "metadata": {},
     "output_type": "display_data"
    }
   ],
   "execution_count": 13
  },
  {
   "metadata": {},
   "cell_type": "markdown",
   "source": "#### 8. (Heatmap): Mean Total Goals per Phase_Tier",
   "id": "827f6c4f105bf62"
  },
  {
   "metadata": {
    "ExecuteTime": {
     "end_time": "2025-06-15T11:40:07.507607Z",
     "start_time": "2025-06-15T11:40:07.205870Z"
    }
   },
   "cell_type": "code",
   "source": [
    "# Mean Total Goals per Phase_Tier\n",
    "plt.figure(figsize=(10,6))\n",
    "sns.heatmap(ucl.pivot_table(index='Phase_Tier', columns='Position', values='Goals', aggfunc='mean').round(2), annot=True, fmt=\".3f\", cmap=\"YlGnBu\", cbar=True,\n",
    "            cbar_kws={'orientation': 'horizontal'})\n",
    "plt.title('Mean Total Goals per Phase_Tier', fontsize=20)\n",
    "plt.xlabel('Position', fontsize=15)\n",
    "plt.ylabel('Phase_Tier', fontsize=15)\n",
    "plt.show()"
   ],
   "id": "1b4273a143b18ba4",
   "outputs": [
    {
     "data": {
      "text/plain": [
       "<Figure size 1000x600 with 2 Axes>"
      ],
      "image/png": "[encoded data removed]"
     },
     "metadata": {},
     "output_type": "display_data"
    }
   ],
   "execution_count": 14
  },
  {
   "metadata": {},
   "cell_type": "markdown",
   "source": "#### 9. (Pie Chart): Total Players by Age Groups",
   "id": "ff12781893b81413"
  },
  {
   "metadata": {
    "ExecuteTime": {
     "end_time": "2025-06-15T11:40:07.560555Z",
     "start_time": "2025-06-15T11:40:07.552066Z"
    }
   },
   "cell_type": "code",
   "source": [
    "def age_group(age):\n",
    "    if age <= 20:\n",
    "        return '17 & 20'\n",
    "    elif 20 < age <= 25:\n",
    "        return '20 & 25'\n",
    "    elif 25 < age <= 30:\n",
    "        return '25 & 32'\n",
    "    else:\n",
    "        return '32'"
   ],
   "id": "b6dca0c2b5129003",
   "outputs": [],
   "execution_count": 15
  },
  {
   "metadata": {
    "ExecuteTime": {
     "end_time": "2025-06-15T11:40:07.634957Z",
     "start_time": "2025-06-15T11:40:07.625918Z"
    }
   },
   "cell_type": "code",
   "source": [
    "ucl_group_age = ucl['Age'].apply(age_group)\n",
    "age_group_counts = ucl_group_age.value_counts().reset_index()"
   ],
   "id": "2df26012843a72d7",
   "outputs": [],
   "execution_count": 16
  },
  {
   "metadata": {
    "ExecuteTime": {
     "end_time": "2025-06-15T11:40:07.745687Z",
     "start_time": "2025-06-15T11:40:07.693073Z"
    }
   },
   "cell_type": "code",
   "source": [
    "age_group_counts.columns = ['Age Group', 'Count']\n",
    "\n",
    "# Pie chart\n",
    "fig = px.pie(\n",
    "    age_group_counts,\n",
    "    names='Age Group',\n",
    "    values='Count',\n",
    "    title='Total Players by Age Groups',\n",
    "    color_discrete_sequence=px.colors.qualitative.Bold\n",
    ")\n",
    "\n",
    "fig.update_traces(textposition='inside', textinfo='percent+label')\n",
    "fig.show()"
   ],
   "id": "2106725013f35970",
   "outputs": [
    {
     "data": {
      "application/vnd.plotly.v1+json": {
       "data": [
        {
         "domain": {
          "x": [
           0.0,
           1.0
          ],
          "y": [
           0.0,
           1.0
          ]
         },
         "hovertemplate": "Age Group=%{label}<br>Count=%{value}<extra></extra>",
         "labels": [
          "20 & 25",
          "25 & 32",
          "32",
          "17 & 20"
         ],
         "legendgroup": "",
         "name": "",
         "showlegend": true,
         "values": {
          "dtype": "i1",
          "bdata": "U0srCQ=="
         },
         "type": "pie",
         "textinfo": "percent+label",
         "textposition": "inside"
        }
       ],
       "layout": {
        "template": {
         "data": {
          "histogram2dcontour": [
           {
            "type": "histogram2dcontour",
            "colorbar": {
             "outlinewidth": 0,
             "ticks": ""
            },
            "colorscale": [
             [
              0.0,
              "#0d0887"
             ],
             [
              0.1111111111111111,
              "#46039f"
             ],
             [
              0.2222222222222222,
              "#7201a8"
             ],
             [
              0.3333333333333333,
              "#9c179e"
             ],
             [
              0.4444444444444444,
              "#bd3786"
             ],
             [
              0.5555555555555556,
              "#d8576b"
             ],
             [
              0.6666666666666666,
              "#ed7953"
             ],
             [
              0.7777777777777778,
              "#fb9f3a"
             ],
             [
              0.8888888888888888,
              "#fdca26"
             ],
             [
              1.0,
              "#f0f921"
             ]
            ]
           }
          ],
          "choropleth": [
           {
            "type": "choropleth",
            "colorbar": {
             "outlinewidth": 0,
             "ticks": ""
            }
           }
          ],
          "histogram2d": [
           {
            "type": "histogram2d",
            "colorbar": {
             "outlinewidth": 0,
             "ticks": ""
            },
            "colorscale": [
             [
              0.0,
              "#0d0887"
             ],
             [
              0.1111111111111111,
              "#46039f"
             ],
             [
              0.2222222222222222,
              "#7201a8"
             ],
             [
              0.3333333333333333,
              "#9c179e"
             ],
             [
              0.4444444444444444,
              "#bd3786"
             ],
             [
              0.5555555555555556,
              "#d8576b"
             ],
             [
              0.6666666666666666,
              "#ed7953"
             ],
             [
              0.7777777777777778,
              "#fb9f3a"
             ],
             [
              0.8888888888888888,
              "#fdca26"
             ],
             [
              1.0,
              "#f0f921"
             ]
            ]
           }
          ],
          "heatmap": [
           {
            "type": "heatmap",
            "colorbar": {
             "outlinewidth": 0,
             "ticks": ""
            },
            "colorscale": [
             [
              0.0,
              "#0d0887"
             ],
             [
              0.1111111111111111,
              "#46039f"
             ],
             [
              0.2222222222222222,
              "#7201a8"
             ],
             [
              0.3333333333333333,
              "#9c179e"
             ],
             [
              0.4444444444444444,
              "#bd3786"
             ],
             [
              0.5555555555555556,
              "#d8576b"
             ],
             [
              0.6666666666666666,
              "#ed7953"
             ],
             [
              0.7777777777777778,
              "#fb9f3a"
             ],
             [
              0.8888888888888888,
              "#fdca26"
             ],
             [
              1.0,
              "#f0f921"
             ]
            ]
           }
          ],
          "contourcarpet": [
           {
            "type": "contourcarpet",
            "colorbar": {
             "outlinewidth": 0,
             "ticks": ""
            }
           }
          ],
          "contour": [
           {
            "type": "contour",
            "colorbar": {
             "outlinewidth": 0,
             "ticks": ""
            },
            "colorscale": [
             [
              0.0,
              "#0d0887"
             ],
             [
              0.1111111111111111,
              "#46039f"
             ],
             [
              0.2222222222222222,
              "#7201a8"
             ],
             [
              0.3333333333333333,
              "#9c179e"
             ],
             [
              0.4444444444444444,
              "#bd3786"
             ],
             [
              0.5555555555555556,
              "#d8576b"
             ],
             [
              0.6666666666666666,
              "#ed7953"
             ],
             [
              0.7777777777777778,
              "#fb9f3a"
             ],
             [
              0.8888888888888888,
              "#fdca26"
             ],
             [
              1.0,
              "#f0f921"
             ]
            ]
           }
          ],
          "surface": [
           {
            "type": "surface",
            "colorbar": {
             "outlinewidth": 0,
             "ticks": ""
            },
            "colorscale": [
             [
              0.0,
              "#0d0887"
             ],
             [
              0.1111111111111111,
              "#46039f"
             ],
             [
              0.2222222222222222,
              "#7201a8"
             ],
             [
              0.3333333333333333,
              "#9c179e"
             ],
             [
              0.4444444444444444,
              "#bd3786"
             ],
             [
              0.5555555555555556,
              "#d8576b"
             ],
             [
              0.6666666666666666,
              "#ed7953"
             ],
             [
              0.7777777777777778,
              "#fb9f3a"
             ],
             [
              0.8888888888888888,
              "#fdca26"
             ],
             [
              1.0,
              "#f0f921"
             ]
            ]
           }
          ],
          "mesh3d": [
           {
            "type": "mesh3d",
            "colorbar": {
             "outlinewidth": 0,
             "ticks": ""
            }
           }
          ],
          "scatter": [
           {
            "fillpattern": {
             "fillmode": "overlay",
             "size": 10,
             "solidity": 0.2
            },
            "type": "scatter"
           }
          ],
          "parcoords": [
           {
            "type": "parcoords",
            "line": {
             "colorbar": {
              "outlinewidth": 0,
              "ticks": ""
             }
            }
           }
          ],
          "scatterpolargl": [
           {
            "type": "scatterpolargl",
            "marker": {
             "colorbar": {
              "outlinewidth": 0,
              "ticks": ""
             }
            }
           }
          ],
          "bar": [
           {
            "error_x": {
             "color": "#2a3f5f"
            },
            "error_y": {
             "color": "#2a3f5f"
            },
            "marker": {
             "line": {
              "color": "#E5ECF6",
              "width": 0.5
             },
             "pattern": {
              "fillmode": "overlay",
              "size": 10,
              "solidity": 0.2
             }
            },
            "type": "bar"
           }
          ],
          "scattergeo": [
           {
            "type": "scattergeo",
            "marker": {
             "colorbar": {
              "outlinewidth": 0,
              "ticks": ""
             }
            }
           }
          ],
          "scatterpolar": [
           {
            "type": "scatterpolar",
            "marker": {
             "colorbar": {
              "outlinewidth": 0,
              "ticks": ""
             }
            }
           }
          ],
          "histogram": [
           {
            "marker": {
             "pattern": {
              "fillmode": "overlay",
              "size": 10,
              "solidity": 0.2
             }
            },
            "type": "histogram"
           }
          ],
          "scattergl": [
           {
            "type": "scattergl",
            "marker": {
             "colorbar": {
              "outlinewidth": 0,
              "ticks": ""
             }
            }
           }
          ],
          "scatter3d": [
           {
            "type": "scatter3d",
            "line": {
             "colorbar": {
              "outlinewidth": 0,
              "ticks": ""
             }
            },
            "marker": {
             "colorbar": {
              "outlinewidth": 0,
              "ticks": ""
             }
            }
           }
          ],
          "scattermap": [
           {
            "type": "scattermap",
            "marker": {
             "colorbar": {
              "outlinewidth": 0,
              "ticks": ""
             }
            }
           }
          ],
          "scattermapbox": [
           {
            "type": "scattermapbox",
            "marker": {
             "colorbar": {
              "outlinewidth": 0,
              "ticks": ""
             }
            }
           }
          ],
          "scatterternary": [
           {
            "type": "scatterternary",
            "marker": {
             "colorbar": {
              "outlinewidth": 0,
              "ticks": ""
             }
            }
           }
          ],
          "scattercarpet": [
           {
            "type": "scattercarpet",
            "marker": {
             "colorbar": {
              "outlinewidth": 0,
              "ticks": ""
             }
            }
           }
          ],
          "carpet": [
           {
            "aaxis": {
             "endlinecolor": "#2a3f5f",
             "gridcolor": "white",
             "linecolor": "white",
             "minorgridcolor": "white",
             "startlinecolor": "#2a3f5f"
            },
            "baxis": {
             "endlinecolor": "#2a3f5f",
             "gridcolor": "white",
             "linecolor": "white",
             "minorgridcolor": "white",
             "startlinecolor": "#2a3f5f"
            },
            "type": "carpet"
           }
          ],
          "table": [
           {
            "cells": {
             "fill": {
              "color": "#EBF0F8"
             },
             "line": {
              "color": "white"
             }
            },
            "header": {
             "fill": {
              "color": "#C8D4E3"
             },
             "line": {
              "color": "white"
             }
            },
            "type": "table"
           }
          ],
          "barpolar": [
           {
            "marker": {
             "line": {
              "color": "#E5ECF6",
              "width": 0.5
             },
             "pattern": {
              "fillmode": "overlay",
              "size": 10,
              "solidity": 0.2
             }
            },
            "type": "barpolar"
           }
          ],
          "pie": [
           {
            "automargin": true,
            "type": "pie"
           }
          ]
         },
         "layout": {
          "autotypenumbers": "strict",
          "colorway": [
           "#636efa",
           "#EF553B",
           "#00cc96",
           "#ab63fa",
           "#FFA15A",
           "#19d3f3",
           "#FF6692",
           "#B6E880",
           "#FF97FF",
           "#FECB52"
          ],
          "font": {
           "color": "#2a3f5f"
          },
          "hovermode": "closest",
          "hoverlabel": {
           "align": "left"
          },
          "paper_bgcolor": "white",
          "plot_bgcolor": "#E5ECF6",
          "polar": {
           "bgcolor": "#E5ECF6",
           "angularaxis": {
            "gridcolor": "white",
            "linecolor": "white",
            "ticks": ""
           },
           "radialaxis": {
            "gridcolor": "white",
            "linecolor": "white",
            "ticks": ""
           }
          },
          "ternary": {
           "bgcolor": "#E5ECF6",
           "aaxis": {
            "gridcolor": "white",
            "linecolor": "white",
            "ticks": ""
           },
           "baxis": {
            "gridcolor": "white",
            "linecolor": "white",
            "ticks": ""
           },
           "caxis": {
            "gridcolor": "white",
            "linecolor": "white",
            "ticks": ""
           }
          },
          "coloraxis": {
           "colorbar": {
            "outlinewidth": 0,
            "ticks": ""
           }
          },
          "colorscale": {
           "sequential": [
            [
             0.0,
             "#0d0887"
            ],
            [
             0.1111111111111111,
             "#46039f"
            ],
            [
             0.2222222222222222,
             "#7201a8"
            ],
            [
             0.3333333333333333,
             "#9c179e"
            ],
            [
             0.4444444444444444,
             "#bd3786"
            ],
            [
             0.5555555555555556,
             "#d8576b"
            ],
            [
             0.6666666666666666,
             "#ed7953"
            ],
            [
             0.7777777777777778,
             "#fb9f3a"
            ],
            [
             0.8888888888888888,
             "#fdca26"
            ],
            [
             1.0,
             "#f0f921"
            ]
           ],
           "sequentialminus": [
            [
             0.0,
             "#0d0887"
            ],
            [
             0.1111111111111111,
             "#46039f"
            ],
            [
             0.2222222222222222,
             "#7201a8"
            ],
            [
             0.3333333333333333,
             "#9c179e"
            ],
            [
             0.4444444444444444,
             "#bd3786"
            ],
            [
             0.5555555555555556,
             "#d8576b"
            ],
            [
             0.6666666666666666,
             "#ed7953"
            ],
            [
             0.7777777777777778,
             "#fb9f3a"
            ],
            [
             0.8888888888888888,
             "#fdca26"
            ],
            [
             1.0,
             "#f0f921"
            ]
           ],
           "diverging": [
            [
             0,
             "#8e0152"
            ],
            [
             0.1,
             "#c51b7d"
            ],
            [
             0.2,
             "#de77ae"
            ],
            [
             0.3,
             "#f1b6da"
            ],
            [
             0.4,
             "#fde0ef"
            ],
            [
             0.5,
             "#f7f7f7"
            ],
            [
             0.6,
             "#e6f5d0"
            ],
            [
             0.7,
             "#b8e186"
            ],
            [
             0.8,
             "#7fbc41"
            ],
            [
             0.9,
             "#4d9221"
            ],
            [
             1,
             "#276419"
            ]
           ]
          },
          "xaxis": {
           "gridcolor": "white",
           "linecolor": "white",
           "ticks": "",
           "title": {
            "standoff": 15
           },
           "zerolinecolor": "white",
           "automargin": true,
           "zerolinewidth": 2
          },
          "yaxis": {
           "gridcolor": "white",
           "linecolor": "white",
           "ticks": "",
           "title": {
            "standoff": 15
           },
           "zerolinecolor": "white",
           "automargin": true,
           "zerolinewidth": 2
          },
          "scene": {
           "xaxis": {
            "backgroundcolor": "#E5ECF6",
            "gridcolor": "white",
            "linecolor": "white",
            "showbackground": true,
            "ticks": "",
            "zerolinecolor": "white",
            "gridwidth": 2
           },
           "yaxis": {
            "backgroundcolor": "#E5ECF6",
            "gridcolor": "white",
            "linecolor": "white",
            "showbackground": true,
            "ticks": "",
            "zerolinecolor": "white",
            "gridwidth": 2
           },
           "zaxis": {
            "backgroundcolor": "#E5ECF6",
            "gridcolor": "white",
            "linecolor": "white",
            "showbackground": true,
            "ticks": "",
            "zerolinecolor": "white",
            "gridwidth": 2
           }
          },
          "shapedefaults": {
           "line": {
            "color": "#2a3f5f"
           }
          },
          "annotationdefaults": {
           "arrowcolor": "#2a3f5f",
           "arrowhead": 0,
           "arrowwidth": 1
          },
          "geo": {
           "bgcolor": "white",
           "landcolor": "#E5ECF6",
           "subunitcolor": "white",
           "showland": true,
           "showlakes": true,
           "lakecolor": "white"
          },
          "title": {
           "x": 0.05
          },
          "mapbox": {
           "style": "light"
          }
         }
        },
        "legend": {
         "tracegroupgap": 0
        },
        "title": {
         "text": "Total Players by Age Groups"
        },
        "piecolorway": [
         "rgb(127, 60, 141)",
         "rgb(17, 165, 121)",
         "rgb(57, 105, 172)",
         "rgb(242, 183, 1)",
         "rgb(231, 63, 116)",
         "rgb(128, 186, 90)",
         "rgb(230, 131, 16)",
         "rgb(0, 134, 149)",
         "rgb(207, 28, 144)",
         "rgb(249, 123, 114)",
         "rgb(165, 170, 153)"
        ]
       },
       "config": {
        "plotlyServerURL": "https://plot.ly"
       }
      }
     },
     "metadata": {},
     "output_type": "display_data"
    }
   ],
   "execution_count": 17
  },
  {
   "metadata": {},
   "cell_type": "markdown",
   "source": "#### 10 (Bar Chart). Highest Values Teams in Champions League 2025",
   "id": "59c8b263285e7b22"
  },
  {
   "metadata": {
    "ExecuteTime": {
     "end_time": "2025-06-15T11:40:07.794197Z",
     "start_time": "2025-06-15T11:40:07.783615Z"
    }
   },
   "cell_type": "code",
   "source": [
    "team_counts = ucl['Team'].value_counts()\n",
    "valid_teams = team_counts[team_counts >= 8].index\n",
    "\n",
    "winner_team_probabilities = ucl[ucl['Team'].isin(valid_teams)].groupby('Team').head(8)\n",
    "\n",
    "balanced_team_counts = winner_team_probabilities['Team'].value_counts()"
   ],
   "id": "fccdb0d5a741e3a0",
   "outputs": [],
   "execution_count": 18
  },
  {
   "metadata": {
    "ExecuteTime": {
     "end_time": "2025-06-15T11:40:07.855007Z",
     "start_time": "2025-06-15T11:40:07.847661Z"
    }
   },
   "cell_type": "code",
   "source": "balanced_team_counts",
   "id": "9cb5efdc158b233",
   "outputs": [
    {
     "data": {
      "text/plain": [
       "Team\n",
       "Inter              8\n",
       "Barcelona          8\n",
       "Liverpool FC       8\n",
       "Real Madrid        8\n",
       "Arsenal FC         8\n",
       "Benfica            8\n",
       "Atletico Madrid    8\n",
       "Paris SG           8\n",
       "PSV Eindhoven      8\n",
       "BVB Dortmund       8\n",
       "Aston Villa        8\n",
       "Atalanta BC        8\n",
       "Bayern Munich      8\n",
       "Name: count, dtype: int64"
      ]
     },
     "execution_count": 19,
     "metadata": {},
     "output_type": "execute_result"
    }
   ],
   "execution_count": 19
  },
  {
   "metadata": {
    "ExecuteTime": {
     "end_time": "2025-06-15T11:40:07.948543Z",
     "start_time": "2025-06-15T11:40:07.938356Z"
    }
   },
   "cell_type": "code",
   "source": [
    "winner_team_probabilities = (\n",
    "    ucl[ucl['Team'].isin(valid_teams)]\n",
    "    .sort_values(by='Value10^6', ascending=False)\n",
    "    .groupby('Team')\n",
    "    .head(8)\n",
    "    .groupby('Team')['Value10^6']\n",
    "    .sum()\n",
    "    .sort_values(ascending=False)\n",
    ")\n",
    "\n",
    "winner_team_probabilities"
   ],
   "id": "50ee2c6e9680bb61",
   "outputs": [
    {
     "data": {
      "text/plain": [
       "Team\n",
       "Real Madrid        945.0\n",
       "Arsenal FC         740.0\n",
       "Barcelona          600.0\n",
       "Bayern Munich      522.0\n",
       "Liverpool FC       505.0\n",
       "Inter              503.0\n",
       "Paris SG           490.0\n",
       "Aston Villa        281.0\n",
       "Atletico Madrid    260.0\n",
       "BVB Dortmund       256.0\n",
       "Atalanta BC        220.0\n",
       "PSV Eindhoven      192.0\n",
       "Benfica            163.0\n",
       "Name: Value10^6, dtype: float64"
      ]
     },
     "execution_count": 20,
     "metadata": {},
     "output_type": "execute_result"
    }
   ],
   "execution_count": 20
  },
  {
   "metadata": {
    "ExecuteTime": {
     "end_time": "2025-06-15T11:40:08.102248Z",
     "start_time": "2025-06-15T11:40:08.096366Z"
    }
   },
   "cell_type": "code",
   "source": "type(winner_team_probabilities)",
   "id": "e26a2cb2d6cba48",
   "outputs": [
    {
     "data": {
      "text/plain": [
       "pandas.core.series.Series"
      ]
     },
     "execution_count": 21,
     "metadata": {},
     "output_type": "execute_result"
    }
   ],
   "execution_count": 21
  },
  {
   "metadata": {
    "ExecuteTime": {
     "end_time": "2025-06-15T11:40:08.410241Z",
     "start_time": "2025-06-15T11:40:08.354385Z"
    }
   },
   "cell_type": "code",
   "source": [
    "fig = px.bar(\n",
    "    winner_team_probabilities,\n",
    "    x=winner_team_probabilities.index,\n",
    "    y=winner_team_probabilities.values,\n",
    "    title='Highest Values Teams in Champions League 2025',\n",
    "    labels={'x': 'Team', 'y': 'Value10^6'},\n",
    ")\n",
    "\n",
    "fig.update_layout(xaxis_title='Team', yaxis_title='Value10^6')\n",
    "fig.show()"
   ],
   "id": "eb4fc6b120aa5bd2",
   "outputs": [
    {
     "data": {
      "application/vnd.plotly.v1+json": {
       "data": [
        {
         "hovertemplate": "Team=%{x}<br>Value10^6=%{y}<extra></extra>",
         "legendgroup": "",
         "marker": {
          "color": "#636efa",
          "pattern": {
           "shape": ""
          }
         },
         "name": "",
         "orientation": "v",
         "showlegend": false,
         "textposition": "auto",
         "x": [
          "Real Madrid",
          "Arsenal FC",
          "Barcelona",
          "Bayern Munich",
          "Liverpool FC",
          "Inter",
          "Paris SG",
          "Aston Villa",
          "Atletico Madrid",
          "BVB Dortmund",
          "Atalanta BC",
          "PSV Eindhoven",
          "Benfica"
         ],
         "xaxis": "x",
         "y": {
          "dtype": "f8",
          "bdata": "AAAAAACIjUAAAAAAACCHQAAAAAAAwIJAAAAAAABQgEAAAAAAAJB/QAAAAAAAcH9AAAAAAACgfkAAAAAAAJBxQAAAAAAAQHBAAAAAAAAAcEAAAAAAAIBrQAAAAAAAAGhAAAAAAABgZEA="
         },
         "yaxis": "y",
         "type": "bar"
        }
       ],
       "layout": {
        "template": {
         "data": {
          "histogram2dcontour": [
           {
            "type": "histogram2dcontour",
            "colorbar": {
             "outlinewidth": 0,
             "ticks": ""
            },
            "colorscale": [
             [
              0.0,
              "#0d0887"
             ],
             [
              0.1111111111111111,
              "#46039f"
             ],
             [
              0.2222222222222222,
              "#7201a8"
             ],
             [
              0.3333333333333333,
              "#9c179e"
             ],
             [
              0.4444444444444444,
              "#bd3786"
             ],
             [
              0.5555555555555556,
              "#d8576b"
             ],
             [
              0.6666666666666666,
              "#ed7953"
             ],
             [
              0.7777777777777778,
              "#fb9f3a"
             ],
             [
              0.8888888888888888,
              "#fdca26"
             ],
             [
              1.0,
              "#f0f921"
             ]
            ]
           }
          ],
          "choropleth": [
           {
            "type": "choropleth",
            "colorbar": {
             "outlinewidth": 0,
             "ticks": ""
            }
           }
          ],
          "histogram2d": [
           {
            "type": "histogram2d",
            "colorbar": {
             "outlinewidth": 0,
             "ticks": ""
            },
            "colorscale": [
             [
              0.0,
              "#0d0887"
             ],
             [
              0.1111111111111111,
              "#46039f"
             ],
             [
              0.2222222222222222,
              "#7201a8"
             ],
             [
              0.3333333333333333,
              "#9c179e"
             ],
             [
              0.4444444444444444,
              "#bd3786"
             ],
             [
              0.5555555555555556,
              "#d8576b"
             ],
             [
              0.6666666666666666,
              "#ed7953"
             ],
             [
              0.7777777777777778,
              "#fb9f3a"
             ],
             [
              0.8888888888888888,
              "#fdca26"
             ],
             [
              1.0,
              "#f0f921"
             ]
            ]
           }
          ],
          "heatmap": [
           {
            "type": "heatmap",
            "colorbar": {
             "outlinewidth": 0,
             "ticks": ""
            },
            "colorscale": [
             [
              0.0,
              "#0d0887"
             ],
             [
              0.1111111111111111,
              "#46039f"
             ],
             [
              0.2222222222222222,
              "#7201a8"
             ],
             [
              0.3333333333333333,
              "#9c179e"
             ],
             [
              0.4444444444444444,
              "#bd3786"
             ],
             [
              0.5555555555555556,
              "#d8576b"
             ],
             [
              0.6666666666666666,
              "#ed7953"
             ],
             [
              0.7777777777777778,
              "#fb9f3a"
             ],
             [
              0.8888888888888888,
              "#fdca26"
             ],
             [
              1.0,
              "#f0f921"
             ]
            ]
           }
          ],
          "contourcarpet": [
           {
            "type": "contourcarpet",
            "colorbar": {
             "outlinewidth": 0,
             "ticks": ""
            }
           }
          ],
          "contour": [
           {
            "type": "contour",
            "colorbar": {
             "outlinewidth": 0,
             "ticks": ""
            },
            "colorscale": [
             [
              0.0,
              "#0d0887"
             ],
             [
              0.1111111111111111,
              "#46039f"
             ],
             [
              0.2222222222222222,
              "#7201a8"
             ],
             [
              0.3333333333333333,
              "#9c179e"
             ],
             [
              0.4444444444444444,
              "#bd3786"
             ],
             [
              0.5555555555555556,
              "#d8576b"
             ],
             [
              0.6666666666666666,
              "#ed7953"
             ],
             [
              0.7777777777777778,
              "#fb9f3a"
             ],
             [
              0.8888888888888888,
              "#fdca26"
             ],
             [
              1.0,
              "#f0f921"
             ]
            ]
           }
          ],
          "surface": [
           {
            "type": "surface",
            "colorbar": {
             "outlinewidth": 0,
             "ticks": ""
            },
            "colorscale": [
             [
              0.0,
              "#0d0887"
             ],
             [
              0.1111111111111111,
              "#46039f"
             ],
             [
              0.2222222222222222,
              "#7201a8"
             ],
             [
              0.3333333333333333,
              "#9c179e"
             ],
             [
              0.4444444444444444,
              "#bd3786"
             ],
             [
              0.5555555555555556,
              "#d8576b"
             ],
             [
              0.6666666666666666,
              "#ed7953"
             ],
             [
              0.7777777777777778,
              "#fb9f3a"
             ],
             [
              0.8888888888888888,
              "#fdca26"
             ],
             [
              1.0,
              "#f0f921"
             ]
            ]
           }
          ],
          "mesh3d": [
           {
            "type": "mesh3d",
            "colorbar": {
             "outlinewidth": 0,
             "ticks": ""
            }
           }
          ],
          "scatter": [
           {
            "fillpattern": {
             "fillmode": "overlay",
             "size": 10,
             "solidity": 0.2
            },
            "type": "scatter"
           }
          ],
          "parcoords": [
           {
            "type": "parcoords",
            "line": {
             "colorbar": {
              "outlinewidth": 0,
              "ticks": ""
             }
            }
           }
          ],
          "scatterpolargl": [
           {
            "type": "scatterpolargl",
            "marker": {
             "colorbar": {
              "outlinewidth": 0,
              "ticks": ""
             }
            }
           }
          ],
          "bar": [
           {
            "error_x": {
             "color": "#2a3f5f"
            },
            "error_y": {
             "color": "#2a3f5f"
            },
            "marker": {
             "line": {
              "color": "#E5ECF6",
              "width": 0.5
             },
             "pattern": {
              "fillmode": "overlay",
              "size": 10,
              "solidity": 0.2
             }
            },
            "type": "bar"
           }
          ],
          "scattergeo": [
           {
            "type": "scattergeo",
            "marker": {
             "colorbar": {
              "outlinewidth": 0,
              "ticks": ""
             }
            }
           }
          ],
          "scatterpolar": [
           {
            "type": "scatterpolar",
            "marker": {
             "colorbar": {
              "outlinewidth": 0,
              "ticks": ""
             }
            }
           }
          ],
          "histogram": [
           {
            "marker": {
             "pattern": {
              "fillmode": "overlay",
              "size": 10,
              "solidity": 0.2
             }
            },
            "type": "histogram"
           }
          ],
          "scattergl": [
           {
            "type": "scattergl",
            "marker": {
             "colorbar": {
              "outlinewidth": 0,
              "ticks": ""
             }
            }
           }
          ],
          "scatter3d": [
           {
            "type": "scatter3d",
            "line": {
             "colorbar": {
              "outlinewidth": 0,
              "ticks": ""
             }
            },
            "marker": {
             "colorbar": {
              "outlinewidth": 0,
              "ticks": ""
             }
            }
           }
          ],
          "scattermap": [
           {
            "type": "scattermap",
            "marker": {
             "colorbar": {
              "outlinewidth": 0,
              "ticks": ""
             }
            }
           }
          ],
          "scattermapbox": [
           {
            "type": "scattermapbox",
            "marker": {
             "colorbar": {
              "outlinewidth": 0,
              "ticks": ""
             }
            }
           }
          ],
          "scatterternary": [
           {
            "type": "scatterternary",
            "marker": {
             "colorbar": {
              "outlinewidth": 0,
              "ticks": ""
             }
            }
           }
          ],
          "scattercarpet": [
           {
            "type": "scattercarpet",
            "marker": {
             "colorbar": {
              "outlinewidth": 0,
              "ticks": ""
             }
            }
           }
          ],
          "carpet": [
           {
            "aaxis": {
             "endlinecolor": "#2a3f5f",
             "gridcolor": "white",
             "linecolor": "white",
             "minorgridcolor": "white",
             "startlinecolor": "#2a3f5f"
            },
            "baxis": {
             "endlinecolor": "#2a3f5f",
             "gridcolor": "white",
             "linecolor": "white",
             "minorgridcolor": "white",
             "startlinecolor": "#2a3f5f"
            },
            "type": "carpet"
           }
          ],
          "table": [
           {
            "cells": {
             "fill": {
              "color": "#EBF0F8"
             },
             "line": {
              "color": "white"
             }
            },
            "header": {
             "fill": {
              "color": "#C8D4E3"
             },
             "line": {
              "color": "white"
             }
            },
            "type": "table"
           }
          ],
          "barpolar": [
           {
            "marker": {
             "line": {
              "color": "#E5ECF6",
              "width": 0.5
             },
             "pattern": {
              "fillmode": "overlay",
              "size": 10,
              "solidity": 0.2
             }
            },
            "type": "barpolar"
           }
          ],
          "pie": [
           {
            "automargin": true,
            "type": "pie"
           }
          ]
         },
         "layout": {
          "autotypenumbers": "strict",
          "colorway": [
           "#636efa",
           "#EF553B",
           "#00cc96",
           "#ab63fa",
           "#FFA15A",
           "#19d3f3",
           "#FF6692",
           "#B6E880",
           "#FF97FF",
           "#FECB52"
          ],
          "font": {
           "color": "#2a3f5f"
          },
          "hovermode": "closest",
          "hoverlabel": {
           "align": "left"
          },
          "paper_bgcolor": "white",
          "plot_bgcolor": "#E5ECF6",
          "polar": {
           "bgcolor": "#E5ECF6",
           "angularaxis": {
            "gridcolor": "white",
            "linecolor": "white",
            "ticks": ""
           },
           "radialaxis": {
            "gridcolor": "white",
            "linecolor": "white",
            "ticks": ""
           }
          },
          "ternary": {
           "bgcolor": "#E5ECF6",
           "aaxis": {
            "gridcolor": "white",
            "linecolor": "white",
            "ticks": ""
           },
           "baxis": {
            "gridcolor": "white",
            "linecolor": "white",
            "ticks": ""
           },
           "caxis": {
            "gridcolor": "white",
            "linecolor": "white",
            "ticks": ""
           }
          },
          "coloraxis": {
           "colorbar": {
            "outlinewidth": 0,
            "ticks": ""
           }
          },
          "colorscale": {
           "sequential": [
            [
             0.0,
             "#0d0887"
            ],
            [
             0.1111111111111111,
             "#46039f"
            ],
            [
             0.2222222222222222,
             "#7201a8"
            ],
            [
             0.3333333333333333,
             "#9c179e"
            ],
            [
             0.4444444444444444,
             "#bd3786"
            ],
            [
             0.5555555555555556,
             "#d8576b"
            ],
            [
             0.6666666666666666,
             "#ed7953"
            ],
            [
             0.7777777777777778,
             "#fb9f3a"
            ],
            [
             0.8888888888888888,
             "#fdca26"
            ],
            [
             1.0,
             "#f0f921"
            ]
           ],
           "sequentialminus": [
            [
             0.0,
             "#0d0887"
            ],
            [
             0.1111111111111111,
             "#46039f"
            ],
            [
             0.2222222222222222,
             "#7201a8"
            ],
            [
             0.3333333333333333,
             "#9c179e"
            ],
            [
             0.4444444444444444,
             "#bd3786"
            ],
            [
             0.5555555555555556,
             "#d8576b"
            ],
            [
             0.6666666666666666,
             "#ed7953"
            ],
            [
             0.7777777777777778,
             "#fb9f3a"
            ],
            [
             0.8888888888888888,
             "#fdca26"
            ],
            [
             1.0,
             "#f0f921"
            ]
           ],
           "diverging": [
            [
             0,
             "#8e0152"
            ],
            [
             0.1,
             "#c51b7d"
            ],
            [
             0.2,
             "#de77ae"
            ],
            [
             0.3,
             "#f1b6da"
            ],
            [
             0.4,
             "#fde0ef"
            ],
            [
             0.5,
             "#f7f7f7"
            ],
            [
             0.6,
             "#e6f5d0"
            ],
            [
             0.7,
             "#b8e186"
            ],
            [
             0.8,
             "#7fbc41"
            ],
            [
             0.9,
             "#4d9221"
            ],
            [
             1,
             "#276419"
            ]
           ]
          },
          "xaxis": {
           "gridcolor": "white",
           "linecolor": "white",
           "ticks": "",
           "title": {
            "standoff": 15
           },
           "zerolinecolor": "white",
           "automargin": true,
           "zerolinewidth": 2
          },
          "yaxis": {
           "gridcolor": "white",
           "linecolor": "white",
           "ticks": "",
           "title": {
            "standoff": 15
           },
           "zerolinecolor": "white",
           "automargin": true,
           "zerolinewidth": 2
          },
          "scene": {
           "xaxis": {
            "backgroundcolor": "#E5ECF6",
            "gridcolor": "white",
            "linecolor": "white",
            "showbackground": true,
            "ticks": "",
            "zerolinecolor": "white",
            "gridwidth": 2
           },
           "yaxis": {
            "backgroundcolor": "#E5ECF6",
            "gridcolor": "white",
            "linecolor": "white",
            "showbackground": true,
            "ticks": "",
            "zerolinecolor": "white",
            "gridwidth": 2
           },
           "zaxis": {
            "backgroundcolor": "#E5ECF6",
            "gridcolor": "white",
            "linecolor": "white",
            "showbackground": true,
            "ticks": "",
            "zerolinecolor": "white",
            "gridwidth": 2
           }
          },
          "shapedefaults": {
           "line": {
            "color": "#2a3f5f"
           }
          },
          "annotationdefaults": {
           "arrowcolor": "#2a3f5f",
           "arrowhead": 0,
           "arrowwidth": 1
          },
          "geo": {
           "bgcolor": "white",
           "landcolor": "#E5ECF6",
           "subunitcolor": "white",
           "showland": true,
           "showlakes": true,
           "lakecolor": "white"
          },
          "title": {
           "x": 0.05
          },
          "mapbox": {
           "style": "light"
          }
         }
        },
        "xaxis": {
         "anchor": "y",
         "domain": [
          0.0,
          1.0
         ],
         "title": {
          "text": "Team"
         }
        },
        "yaxis": {
         "anchor": "x",
         "domain": [
          0.0,
          1.0
         ],
         "title": {
          "text": "Value10^6"
         }
        },
        "legend": {
         "tracegroupgap": 0
        },
        "title": {
         "text": "Highest Values Teams in Champions League 2025"
        },
        "barmode": "relative"
       },
       "config": {
        "plotlyServerURL": "https://plot.ly"
       }
      }
     },
     "metadata": {},
     "output_type": "display_data"
    }
   ],
   "execution_count": 22
  },
  {
   "metadata": {},
   "cell_type": "markdown",
   "source": "#### 11 (Bar Chart). Top Dribblers in Champions League 2025",
   "id": "f75aa85c51666c5e"
  },
  {
   "metadata": {
    "ExecuteTime": {
     "end_time": "2025-06-15T11:40:08.558889Z",
     "start_time": "2025-06-15T11:40:08.545745Z"
    }
   },
   "cell_type": "code",
   "source": "top_dribblers = ucl.sort_values(by='Dribbles', ascending=False).head(20)",
   "id": "42ad10c7f41b5cf9",
   "outputs": [],
   "execution_count": 23
  },
  {
   "metadata": {
    "ExecuteTime": {
     "end_time": "2025-06-15T11:40:08.633571Z",
     "start_time": "2025-06-15T11:40:08.615647Z"
    }
   },
   "cell_type": "code",
   "source": "top_dribblers",
   "id": "c61503ebfb340bf",
   "outputs": [
    {
     "data": {
      "text/plain": [
       "     PlayerID          Player    Position  Age Nationality              Team  \\\n",
       "15         16           Yamal     Forward   17       Spain         Barcelona   \n",
       "37         38     Vinicius Jr     Forward   24      Brazil       Real Madrid   \n",
       "84         85     Rafael Leao     Forward   25    Portugal             Milan   \n",
       "75         76         Dembele     Forward   27      France          Paris SG   \n",
       "167       168   Jamal Musiala     Forward   22     Germany     Bayern Munich   \n",
       "164       165         Gittens     Forward   20     England      BVB Dortmund   \n",
       "82         83         Barcola     Forward   22      France          Paris SG   \n",
       "188       189          Rogers  Midfielder   22     England       Aston Villa   \n",
       "93         94     Desire Doue     Forward   19      France          Paris SG   \n",
       "171       172           Olise     Forward   23      France     Bayern Munich   \n",
       "142       143       Conceiçao     Forward   22    Portugal          Juventus   \n",
       "19         20   Kylian Mbappe     Forward   25      France       Real Madrid   \n",
       "13         14  Johan Bakayoko     Forward   22     Belgium     PSV Eindhoven   \n",
       "88         89     Bukayo Saka     Forward   23     England        Arsenal FC   \n",
       "181       182   Florian Wirtz  Midfielder   22     Germany  Bayer Leverkusen   \n",
       "141       142           Balde    Defender   21       Spain         Barcelona   \n",
       "120       121         Savinho     Forward   21      Brazil   Manchester City   \n",
       "12         13          Hakimi    Defender   26     Morocco          Paris SG   \n",
       "27         28   Kvaratskhelia     Forward   24     Georgia          Paris SG   \n",
       "26         27            Kuhn     Forward   25     Germany            Celtic   \n",
       "\n",
       "       Competitions           Phase Phase_Tier  Value10^6  ...  \\\n",
       "15          La Liga     Semi_finals          A      180.0  ...   \n",
       "37          La Liga  Quarter_finals          B      200.0  ...   \n",
       "84          Serie A  Knockout_phase          D       75.0  ...   \n",
       "75          Ligue 1           Final          S       75.0  ...   \n",
       "167      Bundesliga  Quarter_finals          B      150.0  ...   \n",
       "164      Bundesliga  Quarter_finals          B       50.0  ...   \n",
       "82          Ligue 1           Final          S       45.0  ...   \n",
       "188  Premier League  Quarter_finals          B       50.0  ...   \n",
       "93          Ligue 1           Final          S       60.0  ...   \n",
       "171      Bundesliga  Quarter_finals          B       58.0  ...   \n",
       "142         Serie A  Knockout_phase          D       36.0  ...   \n",
       "19          La Liga  Quarter_finals          B      180.0  ...   \n",
       "13       Eredivisie         Round16          C       35.0  ...   \n",
       "88   Premier League     Semi_finals          A      150.0  ...   \n",
       "181      Bundesliga         Round16          C      140.0  ...   \n",
       "141         La Liga     Semi_finals          A       60.0  ...   \n",
       "120  Premier League  Knockout_phase          D       55.0  ...   \n",
       "12          Ligue 1           Final          S       60.0  ...   \n",
       "27          Ligue 1           Final          S       80.0  ...   \n",
       "26      Premiership  Knockout_phase          D       12.0  ...   \n",
       "\n",
       "     Balls_recovered  Tackles_Won  Tackles_Lost  Saves  Goals_Conceded  \\\n",
       "15                19            5             5      0               0   \n",
       "37                20            3            11      0               0   \n",
       "84                 3            1             8      0               0   \n",
       "75                14            1             5      0               0   \n",
       "167               29            5             6      0               0   \n",
       "164               21            1             3      0               0   \n",
       "82                18            4             5      0               0   \n",
       "188               12            4             4      0               0   \n",
       "93                20            5             9      0               0   \n",
       "171               24            3            11      0               0   \n",
       "142               11            4             6      0               0   \n",
       "19                 9            3             3      0               0   \n",
       "13                32            2             2      0               0   \n",
       "88                10            2             7      0               0   \n",
       "181               22            0             2      0               0   \n",
       "141               31            6             3      0               0   \n",
       "120               10            3             2      0               0   \n",
       "12                74           11            15      0               0   \n",
       "27                22            6             5      0               0   \n",
       "26                26            4             7      0               0   \n",
       "\n",
       "     Clean_Sheets  MOTM_Awards  Minutes_played  Match_played  DNP  \n",
       "15              0            1            1101            13    1  \n",
       "37              0            3            1104            12    2  \n",
       "84              0            3             797            10    0  \n",
       "75              0            2            1163            15    2  \n",
       "167             0            1             866            12    2  \n",
       "164             0            1             848            14    0  \n",
       "82              0            1            1096            17    0  \n",
       "188             0            2            1025            12    0  \n",
       "93              0            1             742            16    1  \n",
       "171             0            1            1033            14    0  \n",
       "142             0            1             606             9    1  \n",
       "19              0            1            1132            14    0  \n",
       "13              0            1             860            12    0  \n",
       "88              0            2             763             9    5  \n",
       "181             0            2             765             9    1  \n",
       "141             0            0             804            10    4  \n",
       "120             0            0             578             9    1  \n",
       "12              0            2            1540            17    0  \n",
       "27              0            1             735             9    8  \n",
       "26              0            1             792            10    0  \n",
       "\n",
       "[20 rows x 30 columns]"
      ],
      "text/html": [
       "<div>\n",
       "<style scoped>\n",
       "    .dataframe tbody tr th:only-of-type {\n",
       "        vertical-align: middle;\n",
       "    }\n",
       "\n",
       "    .dataframe tbody tr th {\n",
       "        vertical-align: top;\n",
       "    }\n",
       "\n",
       "    .dataframe thead th {\n",
       "        text-align: right;\n",
       "    }\n",
       "</style>\n",
       "<table border=\"1\" class=\"dataframe\">\n",
       "  <thead>\n",
       "    <tr style=\"text-align: right;\">\n",
       "      <th></th>\n",
       "      <th>PlayerID</th>\n",
       "      <th>Player</th>\n",
       "      <th>Position</th>\n",
       "      <th>Age</th>\n",
       "      <th>Nationality</th>\n",
       "      <th>Team</th>\n",
       "      <th>Competitions</th>\n",
       "      <th>Phase</th>\n",
       "      <th>Phase_Tier</th>\n",
       "      <th>Value10^6</th>\n",
       "      <th>...</th>\n",
       "      <th>Balls_recovered</th>\n",
       "      <th>Tackles_Won</th>\n",
       "      <th>Tackles_Lost</th>\n",
       "      <th>Saves</th>\n",
       "      <th>Goals_Conceded</th>\n",
       "      <th>Clean_Sheets</th>\n",
       "      <th>MOTM_Awards</th>\n",
       "      <th>Minutes_played</th>\n",
       "      <th>Match_played</th>\n",
       "      <th>DNP</th>\n",
       "    </tr>\n",
       "  </thead>\n",
       "  <tbody>\n",
       "    <tr>\n",
       "      <th>15</th>\n",
       "      <td>16</td>\n",
       "      <td>Yamal</td>\n",
       "      <td>Forward</td>\n",
       "      <td>17</td>\n",
       "      <td>Spain</td>\n",
       "      <td>Barcelona</td>\n",
       "      <td>La Liga</td>\n",
       "      <td>Semi_finals</td>\n",
       "      <td>A</td>\n",
       "      <td>180.0</td>\n",
       "      <td>...</td>\n",
       "      <td>19</td>\n",
       "      <td>5</td>\n",
       "      <td>5</td>\n",
       "      <td>0</td>\n",
       "      <td>0</td>\n",
       "      <td>0</td>\n",
       "      <td>1</td>\n",
       "      <td>1101</td>\n",
       "      <td>13</td>\n",
       "      <td>1</td>\n",
       "    </tr>\n",
       "    <tr>\n",
       "      <th>37</th>\n",
       "      <td>38</td>\n",
       "      <td>Vinicius Jr</td>\n",
       "      <td>Forward</td>\n",
       "      <td>24</td>\n",
       "      <td>Brazil</td>\n",
       "      <td>Real Madrid</td>\n",
       "      <td>La Liga</td>\n",
       "      <td>Quarter_finals</td>\n",
       "      <td>B</td>\n",
       "      <td>200.0</td>\n",
       "      <td>...</td>\n",
       "      <td>20</td>\n",
       "      <td>3</td>\n",
       "      <td>11</td>\n",
       "      <td>0</td>\n",
       "      <td>0</td>\n",
       "      <td>0</td>\n",
       "      <td>3</td>\n",
       "      <td>1104</td>\n",
       "      <td>12</td>\n",
       "      <td>2</td>\n",
       "    </tr>\n",
       "    <tr>\n",
       "      <th>84</th>\n",
       "      <td>85</td>\n",
       "      <td>Rafael Leao</td>\n",
       "      <td>Forward</td>\n",
       "      <td>25</td>\n",
       "      <td>Portugal</td>\n",
       "      <td>Milan</td>\n",
       "      <td>Serie A</td>\n",
       "      <td>Knockout_phase</td>\n",
       "      <td>D</td>\n",
       "      <td>75.0</td>\n",
       "      <td>...</td>\n",
       "      <td>3</td>\n",
       "      <td>1</td>\n",
       "      <td>8</td>\n",
       "      <td>0</td>\n",
       "      <td>0</td>\n",
       "      <td>0</td>\n",
       "      <td>3</td>\n",
       "      <td>797</td>\n",
       "      <td>10</td>\n",
       "      <td>0</td>\n",
       "    </tr>\n",
       "    <tr>\n",
       "      <th>75</th>\n",
       "      <td>76</td>\n",
       "      <td>Dembele</td>\n",
       "      <td>Forward</td>\n",
       "      <td>27</td>\n",
       "      <td>France</td>\n",
       "      <td>Paris SG</td>\n",
       "      <td>Ligue 1</td>\n",
       "      <td>Final</td>\n",
       "      <td>S</td>\n",
       "      <td>75.0</td>\n",
       "      <td>...</td>\n",
       "      <td>14</td>\n",
       "      <td>1</td>\n",
       "      <td>5</td>\n",
       "      <td>0</td>\n",
       "      <td>0</td>\n",
       "      <td>0</td>\n",
       "      <td>2</td>\n",
       "      <td>1163</td>\n",
       "      <td>15</td>\n",
       "      <td>2</td>\n",
       "    </tr>\n",
       "    <tr>\n",
       "      <th>167</th>\n",
       "      <td>168</td>\n",
       "      <td>Jamal Musiala</td>\n",
       "      <td>Forward</td>\n",
       "      <td>22</td>\n",
       "      <td>Germany</td>\n",
       "      <td>Bayern Munich</td>\n",
       "      <td>Bundesliga</td>\n",
       "      <td>Quarter_finals</td>\n",
       "      <td>B</td>\n",
       "      <td>150.0</td>\n",
       "      <td>...</td>\n",
       "      <td>29</td>\n",
       "      <td>5</td>\n",
       "      <td>6</td>\n",
       "      <td>0</td>\n",
       "      <td>0</td>\n",
       "      <td>0</td>\n",
       "      <td>1</td>\n",
       "      <td>866</td>\n",
       "      <td>12</td>\n",
       "      <td>2</td>\n",
       "    </tr>\n",
       "    <tr>\n",
       "      <th>164</th>\n",
       "      <td>165</td>\n",
       "      <td>Gittens</td>\n",
       "      <td>Forward</td>\n",
       "      <td>20</td>\n",
       "      <td>England</td>\n",
       "      <td>BVB Dortmund</td>\n",
       "      <td>Bundesliga</td>\n",
       "      <td>Quarter_finals</td>\n",
       "      <td>B</td>\n",
       "      <td>50.0</td>\n",
       "      <td>...</td>\n",
       "      <td>21</td>\n",
       "      <td>1</td>\n",
       "      <td>3</td>\n",
       "      <td>0</td>\n",
       "      <td>0</td>\n",
       "      <td>0</td>\n",
       "      <td>1</td>\n",
       "      <td>848</td>\n",
       "      <td>14</td>\n",
       "      <td>0</td>\n",
       "    </tr>\n",
       "    <tr>\n",
       "      <th>82</th>\n",
       "      <td>83</td>\n",
       "      <td>Barcola</td>\n",
       "      <td>Forward</td>\n",
       "      <td>22</td>\n",
       "      <td>France</td>\n",
       "      <td>Paris SG</td>\n",
       "      <td>Ligue 1</td>\n",
       "      <td>Final</td>\n",
       "      <td>S</td>\n",
       "      <td>45.0</td>\n",
       "      <td>...</td>\n",
       "      <td>18</td>\n",
       "      <td>4</td>\n",
       "      <td>5</td>\n",
       "      <td>0</td>\n",
       "      <td>0</td>\n",
       "      <td>0</td>\n",
       "      <td>1</td>\n",
       "      <td>1096</td>\n",
       "      <td>17</td>\n",
       "      <td>0</td>\n",
       "    </tr>\n",
       "    <tr>\n",
       "      <th>188</th>\n",
       "      <td>189</td>\n",
       "      <td>Rogers</td>\n",
       "      <td>Midfielder</td>\n",
       "      <td>22</td>\n",
       "      <td>England</td>\n",
       "      <td>Aston Villa</td>\n",
       "      <td>Premier League</td>\n",
       "      <td>Quarter_finals</td>\n",
       "      <td>B</td>\n",
       "      <td>50.0</td>\n",
       "      <td>...</td>\n",
       "      <td>12</td>\n",
       "      <td>4</td>\n",
       "      <td>4</td>\n",
       "      <td>0</td>\n",
       "      <td>0</td>\n",
       "      <td>0</td>\n",
       "      <td>2</td>\n",
       "      <td>1025</td>\n",
       "      <td>12</td>\n",
       "      <td>0</td>\n",
       "    </tr>\n",
       "    <tr>\n",
       "      <th>93</th>\n",
       "      <td>94</td>\n",
       "      <td>Desire Doue</td>\n",
       "      <td>Forward</td>\n",
       "      <td>19</td>\n",
       "      <td>France</td>\n",
       "      <td>Paris SG</td>\n",
       "      <td>Ligue 1</td>\n",
       "      <td>Final</td>\n",
       "      <td>S</td>\n",
       "      <td>60.0</td>\n",
       "      <td>...</td>\n",
       "      <td>20</td>\n",
       "      <td>5</td>\n",
       "      <td>9</td>\n",
       "      <td>0</td>\n",
       "      <td>0</td>\n",
       "      <td>0</td>\n",
       "      <td>1</td>\n",
       "      <td>742</td>\n",
       "      <td>16</td>\n",
       "      <td>1</td>\n",
       "    </tr>\n",
       "    <tr>\n",
       "      <th>171</th>\n",
       "      <td>172</td>\n",
       "      <td>Olise</td>\n",
       "      <td>Forward</td>\n",
       "      <td>23</td>\n",
       "      <td>France</td>\n",
       "      <td>Bayern Munich</td>\n",
       "      <td>Bundesliga</td>\n",
       "      <td>Quarter_finals</td>\n",
       "      <td>B</td>\n",
       "      <td>58.0</td>\n",
       "      <td>...</td>\n",
       "      <td>24</td>\n",
       "      <td>3</td>\n",
       "      <td>11</td>\n",
       "      <td>0</td>\n",
       "      <td>0</td>\n",
       "      <td>0</td>\n",
       "      <td>1</td>\n",
       "      <td>1033</td>\n",
       "      <td>14</td>\n",
       "      <td>0</td>\n",
       "    </tr>\n",
       "    <tr>\n",
       "      <th>142</th>\n",
       "      <td>143</td>\n",
       "      <td>Conceiçao</td>\n",
       "      <td>Forward</td>\n",
       "      <td>22</td>\n",
       "      <td>Portugal</td>\n",
       "      <td>Juventus</td>\n",
       "      <td>Serie A</td>\n",
       "      <td>Knockout_phase</td>\n",
       "      <td>D</td>\n",
       "      <td>36.0</td>\n",
       "      <td>...</td>\n",
       "      <td>11</td>\n",
       "      <td>4</td>\n",
       "      <td>6</td>\n",
       "      <td>0</td>\n",
       "      <td>0</td>\n",
       "      <td>0</td>\n",
       "      <td>1</td>\n",
       "      <td>606</td>\n",
       "      <td>9</td>\n",
       "      <td>1</td>\n",
       "    </tr>\n",
       "    <tr>\n",
       "      <th>19</th>\n",
       "      <td>20</td>\n",
       "      <td>Kylian Mbappe</td>\n",
       "      <td>Forward</td>\n",
       "      <td>25</td>\n",
       "      <td>France</td>\n",
       "      <td>Real Madrid</td>\n",
       "      <td>La Liga</td>\n",
       "      <td>Quarter_finals</td>\n",
       "      <td>B</td>\n",
       "      <td>180.0</td>\n",
       "      <td>...</td>\n",
       "      <td>9</td>\n",
       "      <td>3</td>\n",
       "      <td>3</td>\n",
       "      <td>0</td>\n",
       "      <td>0</td>\n",
       "      <td>0</td>\n",
       "      <td>1</td>\n",
       "      <td>1132</td>\n",
       "      <td>14</td>\n",
       "      <td>0</td>\n",
       "    </tr>\n",
       "    <tr>\n",
       "      <th>13</th>\n",
       "      <td>14</td>\n",
       "      <td>Johan Bakayoko</td>\n",
       "      <td>Forward</td>\n",
       "      <td>22</td>\n",
       "      <td>Belgium</td>\n",
       "      <td>PSV Eindhoven</td>\n",
       "      <td>Eredivisie</td>\n",
       "      <td>Round16</td>\n",
       "      <td>C</td>\n",
       "      <td>35.0</td>\n",
       "      <td>...</td>\n",
       "      <td>32</td>\n",
       "      <td>2</td>\n",
       "      <td>2</td>\n",
       "      <td>0</td>\n",
       "      <td>0</td>\n",
       "      <td>0</td>\n",
       "      <td>1</td>\n",
       "      <td>860</td>\n",
       "      <td>12</td>\n",
       "      <td>0</td>\n",
       "    </tr>\n",
       "    <tr>\n",
       "      <th>88</th>\n",
       "      <td>89</td>\n",
       "      <td>Bukayo Saka</td>\n",
       "      <td>Forward</td>\n",
       "      <td>23</td>\n",
       "      <td>England</td>\n",
       "      <td>Arsenal FC</td>\n",
       "      <td>Premier League</td>\n",
       "      <td>Semi_finals</td>\n",
       "      <td>A</td>\n",
       "      <td>150.0</td>\n",
       "      <td>...</td>\n",
       "      <td>10</td>\n",
       "      <td>2</td>\n",
       "      <td>7</td>\n",
       "      <td>0</td>\n",
       "      <td>0</td>\n",
       "      <td>0</td>\n",
       "      <td>2</td>\n",
       "      <td>763</td>\n",
       "      <td>9</td>\n",
       "      <td>5</td>\n",
       "    </tr>\n",
       "    <tr>\n",
       "      <th>181</th>\n",
       "      <td>182</td>\n",
       "      <td>Florian Wirtz</td>\n",
       "      <td>Midfielder</td>\n",
       "      <td>22</td>\n",
       "      <td>Germany</td>\n",
       "      <td>Bayer Leverkusen</td>\n",
       "      <td>Bundesliga</td>\n",
       "      <td>Round16</td>\n",
       "      <td>C</td>\n",
       "      <td>140.0</td>\n",
       "      <td>...</td>\n",
       "      <td>22</td>\n",
       "      <td>0</td>\n",
       "      <td>2</td>\n",
       "      <td>0</td>\n",
       "      <td>0</td>\n",
       "      <td>0</td>\n",
       "      <td>2</td>\n",
       "      <td>765</td>\n",
       "      <td>9</td>\n",
       "      <td>1</td>\n",
       "    </tr>\n",
       "    <tr>\n",
       "      <th>141</th>\n",
       "      <td>142</td>\n",
       "      <td>Balde</td>\n",
       "      <td>Defender</td>\n",
       "      <td>21</td>\n",
       "      <td>Spain</td>\n",
       "      <td>Barcelona</td>\n",
       "      <td>La Liga</td>\n",
       "      <td>Semi_finals</td>\n",
       "      <td>A</td>\n",
       "      <td>60.0</td>\n",
       "      <td>...</td>\n",
       "      <td>31</td>\n",
       "      <td>6</td>\n",
       "      <td>3</td>\n",
       "      <td>0</td>\n",
       "      <td>0</td>\n",
       "      <td>0</td>\n",
       "      <td>0</td>\n",
       "      <td>804</td>\n",
       "      <td>10</td>\n",
       "      <td>4</td>\n",
       "    </tr>\n",
       "    <tr>\n",
       "      <th>120</th>\n",
       "      <td>121</td>\n",
       "      <td>Savinho</td>\n",
       "      <td>Forward</td>\n",
       "      <td>21</td>\n",
       "      <td>Brazil</td>\n",
       "      <td>Manchester City</td>\n",
       "      <td>Premier League</td>\n",
       "      <td>Knockout_phase</td>\n",
       "      <td>D</td>\n",
       "      <td>55.0</td>\n",
       "      <td>...</td>\n",
       "      <td>10</td>\n",
       "      <td>3</td>\n",
       "      <td>2</td>\n",
       "      <td>0</td>\n",
       "      <td>0</td>\n",
       "      <td>0</td>\n",
       "      <td>0</td>\n",
       "      <td>578</td>\n",
       "      <td>9</td>\n",
       "      <td>1</td>\n",
       "    </tr>\n",
       "    <tr>\n",
       "      <th>12</th>\n",
       "      <td>13</td>\n",
       "      <td>Hakimi</td>\n",
       "      <td>Defender</td>\n",
       "      <td>26</td>\n",
       "      <td>Morocco</td>\n",
       "      <td>Paris SG</td>\n",
       "      <td>Ligue 1</td>\n",
       "      <td>Final</td>\n",
       "      <td>S</td>\n",
       "      <td>60.0</td>\n",
       "      <td>...</td>\n",
       "      <td>74</td>\n",
       "      <td>11</td>\n",
       "      <td>15</td>\n",
       "      <td>0</td>\n",
       "      <td>0</td>\n",
       "      <td>0</td>\n",
       "      <td>2</td>\n",
       "      <td>1540</td>\n",
       "      <td>17</td>\n",
       "      <td>0</td>\n",
       "    </tr>\n",
       "    <tr>\n",
       "      <th>27</th>\n",
       "      <td>28</td>\n",
       "      <td>Kvaratskhelia</td>\n",
       "      <td>Forward</td>\n",
       "      <td>24</td>\n",
       "      <td>Georgia</td>\n",
       "      <td>Paris SG</td>\n",
       "      <td>Ligue 1</td>\n",
       "      <td>Final</td>\n",
       "      <td>S</td>\n",
       "      <td>80.0</td>\n",
       "      <td>...</td>\n",
       "      <td>22</td>\n",
       "      <td>6</td>\n",
       "      <td>5</td>\n",
       "      <td>0</td>\n",
       "      <td>0</td>\n",
       "      <td>0</td>\n",
       "      <td>1</td>\n",
       "      <td>735</td>\n",
       "      <td>9</td>\n",
       "      <td>8</td>\n",
       "    </tr>\n",
       "    <tr>\n",
       "      <th>26</th>\n",
       "      <td>27</td>\n",
       "      <td>Kuhn</td>\n",
       "      <td>Forward</td>\n",
       "      <td>25</td>\n",
       "      <td>Germany</td>\n",
       "      <td>Celtic</td>\n",
       "      <td>Premiership</td>\n",
       "      <td>Knockout_phase</td>\n",
       "      <td>D</td>\n",
       "      <td>12.0</td>\n",
       "      <td>...</td>\n",
       "      <td>26</td>\n",
       "      <td>4</td>\n",
       "      <td>7</td>\n",
       "      <td>0</td>\n",
       "      <td>0</td>\n",
       "      <td>0</td>\n",
       "      <td>1</td>\n",
       "      <td>792</td>\n",
       "      <td>10</td>\n",
       "      <td>0</td>\n",
       "    </tr>\n",
       "  </tbody>\n",
       "</table>\n",
       "<p>20 rows × 30 columns</p>\n",
       "</div>"
      ]
     },
     "execution_count": 24,
     "metadata": {},
     "output_type": "execute_result"
    }
   ],
   "execution_count": 24
  },
  {
   "metadata": {
    "ExecuteTime": {
     "end_time": "2025-06-15T11:40:08.802110Z",
     "start_time": "2025-06-15T11:40:08.739132Z"
    }
   },
   "cell_type": "code",
   "source": [
    "fig = px.bar(\n",
    "    top_dribblers,\n",
    "    x='Player',\n",
    "    y='Dribbles',\n",
    "    color='Dribbles',\n",
    "    text='Dribbles',\n",
    "    hover_name='Team',\n",
    "    title='Top Dribblers Players in Champions League 2025 Season',\n",
    "\n",
    ")\n",
    "\n",
    "fig.update_traces(textposition='inside')\n",
    "fig.update_layout(xaxis_tickangle=-50, uniformtext_minsize=10)\n",
    "\n",
    "fig.show()"
   ],
   "id": "3588c8bba249067",
   "outputs": [
    {
     "data": {
      "application/vnd.plotly.v1+json": {
       "data": [
        {
         "hovertemplate": "<b>%{hovertext}</b><br><br>Player=%{x}<br>Dribbles=%{marker.color}<extra></extra>",
         "hovertext": [
          "Barcelona",
          "Real Madrid",
          "Milan",
          "Paris SG",
          "Bayern Munich",
          "BVB Dortmund",
          "Paris SG",
          "Aston Villa",
          "Paris SG",
          "Bayern Munich",
          "Juventus",
          "Real Madrid",
          "PSV Eindhoven",
          "Arsenal FC",
          "Bayer Leverkusen",
          "Barcelona",
          "Manchester City",
          "Paris SG",
          "Paris SG",
          "Celtic"
         ],
         "legendgroup": "",
         "marker": {
          "color": {
           "dtype": "i1",
           "bdata": "bVJAPj46OjY0MS8uKioqJiYlIyM="
          },
          "coloraxis": "coloraxis",
          "pattern": {
           "shape": ""
          }
         },
         "name": "",
         "orientation": "v",
         "showlegend": false,
         "text": {
          "dtype": "f8",
          "bdata": "AAAAAABAW0AAAAAAAIBUQAAAAAAAAFBAAAAAAAAAT0AAAAAAAABPQAAAAAAAAE1AAAAAAAAATUAAAAAAAABLQAAAAAAAAEpAAAAAAACASEAAAAAAAIBHQAAAAAAAAEdAAAAAAAAARUAAAAAAAABFQAAAAAAAAEVAAAAAAAAAQ0AAAAAAAABDQAAAAAAAgEJAAAAAAACAQUAAAAAAAIBBQA=="
         },
         "textposition": "inside",
         "x": [
          "Yamal",
          "Vinicius Jr",
          "Rafael Leao",
          "Dembele",
          "Jamal Musiala",
          "Gittens",
          "Barcola",
          "Rogers",
          "Desire Doue",
          "Olise",
          "Conceiçao",
          "Kylian Mbappe",
          "Johan Bakayoko",
          "Bukayo Saka",
          "Florian Wirtz",
          "Balde",
          "Savinho",
          "Hakimi",
          "Kvaratskhelia",
          "Kuhn"
         ],
         "xaxis": "x",
         "y": {
          "dtype": "i1",
          "bdata": "bVJAPj46OjY0MS8uKioqJiYlIyM="
         },
         "yaxis": "y",
         "type": "bar"
        }
       ],
       "layout": {
        "template": {
         "data": {
          "histogram2dcontour": [
           {
            "type": "histogram2dcontour",
            "colorbar": {
             "outlinewidth": 0,
             "ticks": ""
            },
            "colorscale": [
             [
              0.0,
              "#0d0887"
             ],
             [
              0.1111111111111111,
              "#46039f"
             ],
             [
              0.2222222222222222,
              "#7201a8"
             ],
             [
              0.3333333333333333,
              "#9c179e"
             ],
             [
              0.4444444444444444,
              "#bd3786"
             ],
             [
              0.5555555555555556,
              "#d8576b"
             ],
             [
              0.6666666666666666,
              "#ed7953"
             ],
             [
              0.7777777777777778,
              "#fb9f3a"
             ],
             [
              0.8888888888888888,
              "#fdca26"
             ],
             [
              1.0,
              "#f0f921"
             ]
            ]
           }
          ],
          "choropleth": [
           {
            "type": "choropleth",
            "colorbar": {
             "outlinewidth": 0,
             "ticks": ""
            }
           }
          ],
          "histogram2d": [
           {
            "type": "histogram2d",
            "colorbar": {
             "outlinewidth": 0,
             "ticks": ""
            },
            "colorscale": [
             [
              0.0,
              "#0d0887"
             ],
             [
              0.1111111111111111,
              "#46039f"
             ],
             [
              0.2222222222222222,
              "#7201a8"
             ],
             [
              0.3333333333333333,
              "#9c179e"
             ],
             [
              0.4444444444444444,
              "#bd3786"
             ],
             [
              0.5555555555555556,
              "#d8576b"
             ],
             [
              0.6666666666666666,
              "#ed7953"
             ],
             [
              0.7777777777777778,
              "#fb9f3a"
             ],
             [
              0.8888888888888888,
              "#fdca26"
             ],
             [
              1.0,
              "#f0f921"
             ]
            ]
           }
          ],
          "heatmap": [
           {
            "type": "heatmap",
            "colorbar": {
             "outlinewidth": 0,
             "ticks": ""
            },
            "colorscale": [
             [
              0.0,
              "#0d0887"
             ],
             [
              0.1111111111111111,
              "#46039f"
             ],
             [
              0.2222222222222222,
              "#7201a8"
             ],
             [
              0.3333333333333333,
              "#9c179e"
             ],
             [
              0.4444444444444444,
              "#bd3786"
             ],
             [
              0.5555555555555556,
              "#d8576b"
             ],
             [
              0.6666666666666666,
              "#ed7953"
             ],
             [
              0.7777777777777778,
              "#fb9f3a"
             ],
             [
              0.8888888888888888,
              "#fdca26"
             ],
             [
              1.0,
              "#f0f921"
             ]
            ]
           }
          ],
          "contourcarpet": [
           {
            "type": "contourcarpet",
            "colorbar": {
             "outlinewidth": 0,
             "ticks": ""
            }
           }
          ],
          "contour": [
           {
            "type": "contour",
            "colorbar": {
             "outlinewidth": 0,
             "ticks": ""
            },
            "colorscale": [
             [
              0.0,
              "#0d0887"
             ],
             [
              0.1111111111111111,
              "#46039f"
             ],
             [
              0.2222222222222222,
              "#7201a8"
             ],
             [
              0.3333333333333333,
              "#9c179e"
             ],
             [
              0.4444444444444444,
              "#bd3786"
             ],
             [
              0.5555555555555556,
              "#d8576b"
             ],
             [
              0.6666666666666666,
              "#ed7953"
             ],
             [
              0.7777777777777778,
              "#fb9f3a"
             ],
             [
              0.8888888888888888,
              "#fdca26"
             ],
             [
              1.0,
              "#f0f921"
             ]
            ]
           }
          ],
          "surface": [
           {
            "type": "surface",
            "colorbar": {
             "outlinewidth": 0,
             "ticks": ""
            },
            "colorscale": [
             [
              0.0,
              "#0d0887"
             ],
             [
              0.1111111111111111,
              "#46039f"
             ],
             [
              0.2222222222222222,
              "#7201a8"
             ],
             [
              0.3333333333333333,
              "#9c179e"
             ],
             [
              0.4444444444444444,
              "#bd3786"
             ],
             [
              0.5555555555555556,
              "#d8576b"
             ],
             [
              0.6666666666666666,
              "#ed7953"
             ],
             [
              0.7777777777777778,
              "#fb9f3a"
             ],
             [
              0.8888888888888888,
              "#fdca26"
             ],
             [
              1.0,
              "#f0f921"
             ]
            ]
           }
          ],
          "mesh3d": [
           {
            "type": "mesh3d",
            "colorbar": {
             "outlinewidth": 0,
             "ticks": ""
            }
           }
          ],
          "scatter": [
           {
            "fillpattern": {
             "fillmode": "overlay",
             "size": 10,
             "solidity": 0.2
            },
            "type": "scatter"
           }
          ],
          "parcoords": [
           {
            "type": "parcoords",
            "line": {
             "colorbar": {
              "outlinewidth": 0,
              "ticks": ""
             }
            }
           }
          ],
          "scatterpolargl": [
           {
            "type": "scatterpolargl",
            "marker": {
             "colorbar": {
              "outlinewidth": 0,
              "ticks": ""
             }
            }
           }
          ],
          "bar": [
           {
            "error_x": {
             "color": "#2a3f5f"
            },
            "error_y": {
             "color": "#2a3f5f"
            },
            "marker": {
             "line": {
              "color": "#E5ECF6",
              "width": 0.5
             },
             "pattern": {
              "fillmode": "overlay",
              "size": 10,
              "solidity": 0.2
             }
            },
            "type": "bar"
           }
          ],
          "scattergeo": [
           {
            "type": "scattergeo",
            "marker": {
             "colorbar": {
              "outlinewidth": 0,
              "ticks": ""
             }
            }
           }
          ],
          "scatterpolar": [
           {
            "type": "scatterpolar",
            "marker": {
             "colorbar": {
              "outlinewidth": 0,
              "ticks": ""
             }
            }
           }
          ],
          "histogram": [
           {
            "marker": {
             "pattern": {
              "fillmode": "overlay",
              "size": 10,
              "solidity": 0.2
             }
            },
            "type": "histogram"
           }
          ],
          "scattergl": [
           {
            "type": "scattergl",
            "marker": {
             "colorbar": {
              "outlinewidth": 0,
              "ticks": ""
             }
            }
           }
          ],
          "scatter3d": [
           {
            "type": "scatter3d",
            "line": {
             "colorbar": {
              "outlinewidth": 0,
              "ticks": ""
             }
            },
            "marker": {
             "colorbar": {
              "outlinewidth": 0,
              "ticks": ""
             }
            }
           }
          ],
          "scattermap": [
           {
            "type": "scattermap",
            "marker": {
             "colorbar": {
              "outlinewidth": 0,
              "ticks": ""
             }
            }
           }
          ],
          "scattermapbox": [
           {
            "type": "scattermapbox",
            "marker": {
             "colorbar": {
              "outlinewidth": 0,
              "ticks": ""
             }
            }
           }
          ],
          "scatterternary": [
           {
            "type": "scatterternary",
            "marker": {
             "colorbar": {
              "outlinewidth": 0,
              "ticks": ""
             }
            }
           }
          ],
          "scattercarpet": [
           {
            "type": "scattercarpet",
            "marker": {
             "colorbar": {
              "outlinewidth": 0,
              "ticks": ""
             }
            }
           }
          ],
          "carpet": [
           {
            "aaxis": {
             "endlinecolor": "#2a3f5f",
             "gridcolor": "white",
             "linecolor": "white",
             "minorgridcolor": "white",
             "startlinecolor": "#2a3f5f"
            },
            "baxis": {
             "endlinecolor": "#2a3f5f",
             "gridcolor": "white",
             "linecolor": "white",
             "minorgridcolor": "white",
             "startlinecolor": "#2a3f5f"
            },
            "type": "carpet"
           }
          ],
          "table": [
           {
            "cells": {
             "fill": {
              "color": "#EBF0F8"
             },
             "line": {
              "color": "white"
             }
            },
            "header": {
             "fill": {
              "color": "#C8D4E3"
             },
             "line": {
              "color": "white"
             }
            },
            "type": "table"
           }
          ],
          "barpolar": [
           {
            "marker": {
             "line": {
              "color": "#E5ECF6",
              "width": 0.5
             },
             "pattern": {
              "fillmode": "overlay",
              "size": 10,
              "solidity": 0.2
             }
            },
            "type": "barpolar"
           }
          ],
          "pie": [
           {
            "automargin": true,
            "type": "pie"
           }
          ]
         },
         "layout": {
          "autotypenumbers": "strict",
          "colorway": [
           "#636efa",
           "#EF553B",
           "#00cc96",
           "#ab63fa",
           "#FFA15A",
           "#19d3f3",
           "#FF6692",
           "#B6E880",
           "#FF97FF",
           "#FECB52"
          ],
          "font": {
           "color": "#2a3f5f"
          },
          "hovermode": "closest",
          "hoverlabel": {
           "align": "left"
          },
          "paper_bgcolor": "white",
          "plot_bgcolor": "#E5ECF6",
          "polar": {
           "bgcolor": "#E5ECF6",
           "angularaxis": {
            "gridcolor": "white",
            "linecolor": "white",
            "ticks": ""
           },
           "radialaxis": {
            "gridcolor": "white",
            "linecolor": "white",
            "ticks": ""
           }
          },
          "ternary": {
           "bgcolor": "#E5ECF6",
           "aaxis": {
            "gridcolor": "white",
            "linecolor": "white",
            "ticks": ""
           },
           "baxis": {
            "gridcolor": "white",
            "linecolor": "white",
            "ticks": ""
           },
           "caxis": {
            "gridcolor": "white",
            "linecolor": "white",
            "ticks": ""
           }
          },
          "coloraxis": {
           "colorbar": {
            "outlinewidth": 0,
            "ticks": ""
           }
          },
          "colorscale": {
           "sequential": [
            [
             0.0,
             "#0d0887"
            ],
            [
             0.1111111111111111,
             "#46039f"
            ],
            [
             0.2222222222222222,
             "#7201a8"
            ],
            [
             0.3333333333333333,
             "#9c179e"
            ],
            [
             0.4444444444444444,
             "#bd3786"
            ],
            [
             0.5555555555555556,
             "#d8576b"
            ],
            [
             0.6666666666666666,
             "#ed7953"
            ],
            [
             0.7777777777777778,
             "#fb9f3a"
            ],
            [
             0.8888888888888888,
             "#fdca26"
            ],
            [
             1.0,
             "#f0f921"
            ]
           ],
           "sequentialminus": [
            [
             0.0,
             "#0d0887"
            ],
            [
             0.1111111111111111,
             "#46039f"
            ],
            [
             0.2222222222222222,
             "#7201a8"
            ],
            [
             0.3333333333333333,
             "#9c179e"
            ],
            [
             0.4444444444444444,
             "#bd3786"
            ],
            [
             0.5555555555555556,
             "#d8576b"
            ],
            [
             0.6666666666666666,
             "#ed7953"
            ],
            [
             0.7777777777777778,
             "#fb9f3a"
            ],
            [
             0.8888888888888888,
             "#fdca26"
            ],
            [
             1.0,
             "#f0f921"
            ]
           ],
           "diverging": [
            [
             0,
             "#8e0152"
            ],
            [
             0.1,
             "#c51b7d"
            ],
            [
             0.2,
             "#de77ae"
            ],
            [
             0.3,
             "#f1b6da"
            ],
            [
             0.4,
             "#fde0ef"
            ],
            [
             0.5,
             "#f7f7f7"
            ],
            [
             0.6,
             "#e6f5d0"
            ],
            [
             0.7,
             "#b8e186"
            ],
            [
             0.8,
             "#7fbc41"
            ],
            [
             0.9,
             "#4d9221"
            ],
            [
             1,
             "#276419"
            ]
           ]
          },
          "xaxis": {
           "gridcolor": "white",
           "linecolor": "white",
           "ticks": "",
           "title": {
            "standoff": 15
           },
           "zerolinecolor": "white",
           "automargin": true,
           "zerolinewidth": 2
          },
          "yaxis": {
           "gridcolor": "white",
           "linecolor": "white",
           "ticks": "",
           "title": {
            "standoff": 15
           },
           "zerolinecolor": "white",
           "automargin": true,
           "zerolinewidth": 2
          },
          "scene": {
           "xaxis": {
            "backgroundcolor": "#E5ECF6",
            "gridcolor": "white",
            "linecolor": "white",
            "showbackground": true,
            "ticks": "",
            "zerolinecolor": "white",
            "gridwidth": 2
           },
           "yaxis": {
            "backgroundcolor": "#E5ECF6",
            "gridcolor": "white",
            "linecolor": "white",
            "showbackground": true,
            "ticks": "",
            "zerolinecolor": "white",
            "gridwidth": 2
           },
           "zaxis": {
            "backgroundcolor": "#E5ECF6",
            "gridcolor": "white",
            "linecolor": "white",
            "showbackground": true,
            "ticks": "",
            "zerolinecolor": "white",
            "gridwidth": 2
           }
          },
          "shapedefaults": {
           "line": {
            "color": "#2a3f5f"
           }
          },
          "annotationdefaults": {
           "arrowcolor": "#2a3f5f",
           "arrowhead": 0,
           "arrowwidth": 1
          },
          "geo": {
           "bgcolor": "white",
           "landcolor": "#E5ECF6",
           "subunitcolor": "white",
           "showland": true,
           "showlakes": true,
           "lakecolor": "white"
          },
          "title": {
           "x": 0.05
          },
          "mapbox": {
           "style": "light"
          }
         }
        },
        "xaxis": {
         "anchor": "y",
         "domain": [
          0.0,
          1.0
         ],
         "title": {
          "text": "Player"
         },
         "tickangle": -50
        },
        "yaxis": {
         "anchor": "x",
         "domain": [
          0.0,
          1.0
         ],
         "title": {
          "text": "Dribbles"
         }
        },
        "coloraxis": {
         "colorbar": {
          "title": {
           "text": "Dribbles"
          }
         },
         "colorscale": [
          [
           0.0,
           "#0d0887"
          ],
          [
           0.1111111111111111,
           "#46039f"
          ],
          [
           0.2222222222222222,
           "#7201a8"
          ],
          [
           0.3333333333333333,
           "#9c179e"
          ],
          [
           0.4444444444444444,
           "#bd3786"
          ],
          [
           0.5555555555555556,
           "#d8576b"
          ],
          [
           0.6666666666666666,
           "#ed7953"
          ],
          [
           0.7777777777777778,
           "#fb9f3a"
          ],
          [
           0.8888888888888888,
           "#fdca26"
          ],
          [
           1.0,
           "#f0f921"
          ]
         ]
        },
        "legend": {
         "tracegroupgap": 0
        },
        "title": {
         "text": "Top Dribblers Players in Champions League 2025 Season"
        },
        "barmode": "relative",
        "uniformtext": {
         "minsize": 10
        }
       },
       "config": {
        "plotlyServerURL": "https://plot.ly"
       }
      }
     },
     "metadata": {},
     "output_type": "display_data"
    }
   ],
   "execution_count": 25
  },
  {
   "metadata": {},
   "cell_type": "markdown",
   "source": "#### 12 (Scatter Plot). Goals vs Assists by Player Position",
   "id": "29334094ee1b1e9f"
  },
  {
   "metadata": {
    "ExecuteTime": {
     "end_time": "2025-06-15T11:40:09.186840Z",
     "start_time": "2025-06-15T11:40:09.127397Z"
    }
   },
   "cell_type": "code",
   "source": [
    "fig_scatter = px.scatter(\n",
    "    ucl,\n",
    "    x=\"Goals\",\n",
    "    y=\"Assists\",\n",
    "    color=\"Position\",\n",
    "    title=\"Goals vs Assists by Player Position\",\n",
    "    labels={\"Goals\": \"Goals Scored\", \"Assists\": \"Assists Made\"},\n",
    "    hover_data=[\"Player\", \"Team\"]  # tregon emrin e lojtarit dhe skuadrën kur kalon me mouse\n",
    ")\n",
    "fig_scatter.show()"
   ],
   "id": "3641e2f6d0373593",
   "outputs": [
    {
     "data": {
      "application/vnd.plotly.v1+json": {
       "data": [
        {
         "customdata": [
          [
           "Theo Hernandez",
           "Milan"
          ],
          [
           "Van Dijk",
           "Liverpool FC"
          ],
          [
           "Otamendi",
           "Benfica"
          ],
          [
           "Johnston",
           "Celtic"
          ],
          [
           "Hakimi",
           "Paris SG"
          ],
          [
           "Frimpong",
           "Bayer Leverkusen"
          ],
          [
           "Rico Lewis",
           "Manchester City"
          ],
          [
           "Bensebaini",
           "BVB Dortmund"
          ],
          [
           "Federico Gatti",
           "Juventus"
          ],
          [
           "Dimarco",
           "Inter"
          ],
          [
           "Mauro Junior",
           "PSV Eindhoven"
          ],
          [
           "Raul Asencio",
           "Real Madrid"
          ],
          [
           "Kounde",
           "Barcelona"
          ],
          [
           "Ryan Flamingo",
           "PSV Eindhoven"
          ],
          [
           "Hincapie",
           "Bayer Leverkusen"
          ],
          [
           "Saliba",
           "Arsenal FC"
          ],
          [
           "Grimaldo",
           "Bayer Leverkusen"
          ],
          [
           "Ezri Konsa",
           "Aston Villa"
          ],
          [
           "Stefan de Vrij",
           "Inter"
          ],
          [
           "Jose Gimenez",
           "Atletico Madrid"
          ],
          [
           "Ryerson",
           "BVB Dortmund"
          ],
          [
           "Pavard",
           "Inter"
          ],
          [
           "Vanderson",
           "Monaco"
          ],
          [
           "Alphonso Davies",
           "Bayern Munich"
          ],
          [
           "Alexsandro Ribeiro",
           "Lille"
          ],
          [
           "Upamecano",
           "Bayern Munich"
          ],
          [
           "Alexander Bah",
           "Benfica"
          ],
          [
           "Inigo Martinez",
           "Barcelona"
          ],
          [
           "Maatsen",
           "Aston Villa"
          ],
          [
           "Jurrien Timber",
           "Arsenal FC"
          ],
          [
           "Manuel Akanji",
           "Manchester City"
          ],
          [
           "Schlotterbeck",
           "BVB Dortmund"
          ],
          [
           "Mukiele",
           "Bayer Leverkusen"
          ],
          [
           "De Cuyper",
           "Club Brugge"
          ],
          [
           "Sam Beukema",
           "Bologna"
          ],
          [
           "Kolasinac",
           "Atalanta BC"
          ],
          [
           "Youssouf Fofana",
           "Milan"
          ],
          [
           "Gabriel Magalhaes",
           "Arsenal FC"
          ],
          [
           "Gonçalo Inacio",
           "Sporting CP"
          ],
          [
           "Alvaro Carreras",
           "Benfica"
          ],
          [
           "Singo",
           "Monaco"
          ],
          [
           "Nuno Mendes",
           "Paris SG"
          ],
          [
           "Dumfries",
           "Inter"
          ],
          [
           "Minjae Kim",
           "Bayern Munich"
          ],
          [
           "Pacho",
           "Paris SG"
          ],
          [
           "Balde",
           "Barcelona"
          ],
          [
           "Francesco Acerbi",
           "Inter"
          ],
          [
           "Robertson",
           "Liverpool FC"
          ],
          [
           "Calafiori",
           "Arsenal FC"
          ],
          [
           "Marquinhos",
           "Paris SG"
          ],
          [
           "Bastoni",
           "Inter"
          ],
          [
           "Boscagli",
           "PSV Eindhoven"
          ],
          [
           "Waldemar Anton",
           "BVB Dortmund"
          ],
          [
           "Kossounou",
           "Atalanta BC"
          ],
          [
           "Marten de Roon",
           "Atalanta BC"
          ],
          [
           "Laimer",
           "Bayern Munich"
          ],
          [
           "Thomas Meunier",
           "Lille"
          ],
          [
           "Ibrahima Konate",
           "Liverpool FC"
          ],
          [
           "Kenny Lala",
           "Brest"
          ],
          [
           "Lucumi",
           "Bologna"
          ]
         ],
         "hovertemplate": "Position=Defender<br>Goals Scored=%{x}<br>Assists Made=%{y}<br>Player=%{customdata[0]}<br>Team=%{customdata[1]}<extra></extra>",
         "legendgroup": "Defender",
         "marker": {
          "color": "#636efa",
          "symbol": "circle"
         },
         "mode": "markers",
         "name": "Defender",
         "orientation": "v",
         "showlegend": true,
         "x": {
          "dtype": "i1",
          "bdata": "AAEBAAQAAAIAAAAAAAMBAAIBAAEAAQACAAABAgEBAAABAQABAAEBAAIEAgEAAAEAAQAAAAAAAAEAAQAB"
         },
         "xaxis": "x",
         "y": {
          "dtype": "i1",
          "bdata": "AAAAAQUFAQEBAgABAwEAAAIAAAAAAAEAAQECAQABAQEBAAECAgAAAgECAwAABAEBAQABAAACAAEBAAAA"
         },
         "yaxis": "y",
         "type": "scatter"
        },
        {
         "customdata": [
          [
           "Nicolo Barella",
           "Inter"
          ],
          [
           "Odegaard",
           "Arsenal FC"
          ],
          [
           "Hans Vanaken",
           "Club Brugge"
          ],
          [
           "Fabian Ruiz",
           "Paris SG"
          ],
          [
           "Joey Veerman",
           "PSV Eindhoven"
          ],
          [
           "Florentino",
           "Benfica"
          ],
          [
           "Szoboszlai",
           "Liverpool FC"
          ],
          [
           "John McGinn",
           "Aston Villa"
          ],
          [
           "Calhanoglu",
           "Inter"
          ],
          [
           "Tijjani Reijnders",
           "Milan"
          ],
          [
           "Aursnes",
           "Benfica"
          ],
          [
           "Charles Ketelaere",
           "Atalanta BC"
          ],
          [
           "Vitinha",
           "Paris SG"
          ],
          [
           "Pedri",
           "Barcelona"
          ],
          [
           "Otar Kiteishvili",
           "Sturm Graz"
          ],
          [
           "Leon Goretzka",
           "Bayern Munich"
          ],
          [
           "Modric",
           "Real Madrid"
          ],
          [
           "Felix Nmecha",
           "BVB Dortmund"
          ],
          [
           "Pascal Gross",
           "BVB Dortmund"
          ],
          [
           "Emre Can",
           "BVB Dortmund"
          ],
          [
           "Ederson",
           "Atalanta BC"
          ],
          [
           "Jacob Ramsey",
           "Aston Villa"
          ],
          [
           "Mkhitaryan",
           "Inter"
          ],
          [
           "Gundogan",
           "Manchester City"
          ],
          [
           "Mario Pasalic",
           "Atalanta BC"
          ],
          [
           "Benjamin Andre",
           "Lille"
          ],
          [
           "Orkun Kökcü",
           "Benfica"
          ],
          [
           "De Paul",
           "Atletico Madrid"
          ],
          [
           "Dani Olmo",
           "Barcelona"
          ],
          [
           "Zappacosta",
           "Atalanta BC"
          ],
          [
           "Reo Hatate",
           "Celtic"
          ],
          [
           "Lamine Camara",
           "Monaco"
          ],
          [
           "Ismael Saibari",
           "PSV Eindhoven"
          ],
          [
           "Tchouameni",
           "Real Madrid"
          ],
          [
           "Youri Tielemans",
           "Aston Villa"
          ],
          [
           "Mikel Merino",
           "Arsenal FC"
          ],
          [
           "Angelo Stiller",
           "VfB Stuttgart"
          ],
          [
           "Georgiy Sudakov",
           "Shakhtar Donetsk"
          ],
          [
           "Arne Engels",
           "Celtic"
          ],
          [
           "Casado",
           "Barcelona"
          ],
          [
           "Julian Brandt",
           "BVB Dortmund"
          ],
          [
           "Granit Xhaka",
           "Bayer Leverkusen"
          ],
          [
           "Tillman",
           "PSV Eindhoven"
          ],
          [
           "Callum McGregor",
           "Celtic"
          ],
          [
           "Hjulmand",
           "Sporting CP"
          ],
          [
           "Kimmich",
           "Bayern Munich"
          ],
          [
           "Partey",
           "Arsenal FC"
          ],
          [
           "Llorente",
           "Atletico Madrid"
          ],
          [
           "Mac Allister",
           "Liverpool FC"
          ],
          [
           "Joao Neves",
           "Paris SG"
          ],
          [
           "Declan Rice",
           "Arsenal FC"
          ],
          [
           "Fermin Lopez",
           "Barcelona"
          ],
          [
           "Florian Wirtz",
           "Bayer Leverkusen"
          ],
          [
           "Enzo Millot",
           "VfB Stuttgart"
          ],
          [
           "Baturina",
           "Dinamo Zagreb"
          ],
          [
           "Jashari",
           "Club Brugge"
          ],
          [
           "Rogers",
           "Aston Villa"
          ],
          [
           "Milambo",
           "Feyenoord"
          ],
          [
           "Matheus Nunes",
           "Manchester City"
          ],
          [
           "Valverde",
           "Real Madrid"
          ],
          [
           "Gravenberch",
           "Liverpool FC"
          ],
          [
           "Golovin",
           "Monaco"
          ],
          [
           "Quinten Timber",
           "Feyenoord"
          ],
          [
           "Cabella",
           "Lille"
          ],
          [
           "Locatelli",
           "Juventus"
          ],
          [
           "Palacios",
           "Bayer Leverkusen"
          ]
         ],
         "hovertemplate": "Position=Midfielder<br>Goals Scored=%{x}<br>Assists Made=%{y}<br>Player=%{customdata[0]}<br>Team=%{customdata[1]}<extra></extra>",
         "legendgroup": "Midfielder",
         "marker": {
          "color": "#EF553B",
          "symbol": "circle"
         },
         "mode": "markers",
         "name": "Midfielder",
         "orientation": "v",
         "showlegend": true,
         "x": {
          "dtype": "i1",
          "bdata": "AAMBAQAAAQMEAwAEAgABAQABAQIBAQACAwAEAAIAAQADAAICAQIBAAAAAwAAAAACAgEEAQYCAgAEAwEAAAAAAQAA"
         },
         "xaxis": "x",
         "y": {
          "dtype": "i1",
          "bdata": "AgEBBAMAAQICAAEFAgIAAQMBAwEAAgEAAQAAAQEFAgABAAMEAAEDAgUAAgAABgEEAAECBQEEAQADAQMDAAEBAQAA"
         },
         "yaxis": "y",
         "type": "scatter"
        },
        {
         "customdata": [
          [
           "Lewandowski",
           "Barcelona"
          ],
          [
           "Raphinha",
           "Barcelona"
          ],
          [
           "Jude Bellingham",
           "Real Madrid"
          ],
          [
           "Brahim Diaz",
           "Real Madrid"
          ],
          [
           "Lino",
           "Atletico Madrid"
          ],
          [
           "Johan Bakayoko",
           "PSV Eindhoven"
          ],
          [
           "Pulisic",
           "Milan"
          ],
          [
           "Yamal",
           "Barcelona"
          ],
          [
           "Kylian Mbappe",
           "Real Madrid"
          ],
          [
           "Kai Havertz",
           "Arsenal FC"
          ],
          [
           "Kuhn",
           "Celtic"
          ],
          [
           "Kvaratskhelia",
           "Paris SG"
          ],
          [
           "Martinelli",
           "Arsenal FC"
          ],
          [
           "Noa Lang",
           "PSV Eindhoven"
          ],
          [
           "Vinicius Jr",
           "Real Madrid"
          ],
          [
           "Julian Alvarez",
           "Atletico Madrid"
          ],
          [
           "Christos Tzolis",
           "Club Brugge"
          ],
          [
           "Taremi",
           "Inter"
          ],
          [
           "Griezmann",
           "Atletico Madrid"
          ],
          [
           "Santiago Gimenez",
           "Milan"
          ],
          [
           "Pavlidis",
           "Benfica"
          ],
          [
           "Phil Foden",
           "Manchester City"
          ],
          [
           "Lautaro Martinez",
           "Inter"
          ],
          [
           "Di Maria",
           "Benfica"
          ],
          [
           "Benjamin Sesko",
           "Leipzig"
          ],
          [
           "Minamino",
           "Monaco"
          ],
          [
           "Gakpo",
           "Liverpool FC"
          ],
          [
           "Dembele",
           "Paris SG"
          ],
          [
           "Embolo",
           "Monaco"
          ],
          [
           "Quenda",
           "Sporting CP"
          ],
          [
           "Barcola",
           "Paris SG"
          ],
          [
           "Trincao",
           "Sporting CP"
          ],
          [
           "Rafael Leao",
           "Milan"
          ],
          [
           "Bukayo Saka",
           "Arsenal FC"
          ],
          [
           "Kenan Yildiz",
           "Juventus"
          ],
          [
           "Desire Doue",
           "Paris SG"
          ],
          [
           "Adeyemi",
           "BVB Dortmund"
          ],
          [
           "Igor Paixao",
           "Feyenoord"
          ],
          [
           "Maghnes Akliouche",
           "Monaco"
          ],
          [
           "Savinho",
           "Manchester City"
          ],
          [
           "Giuliano Simeone",
           "Atletico Madrid"
          ],
          [
           "Akturkoglu",
           "Benfica"
          ],
          [
           "Salah",
           "Liverpool FC"
          ],
          [
           "Guirassy",
           "BVB Dortmund"
          ],
          [
           "Luuk de Jong",
           "PSV Eindhoven"
          ],
          [
           "Rodrygo",
           "Real Madrid"
          ],
          [
           "Conceiçao",
           "Juventus"
          ],
          [
           "Harry Kane",
           "Bayern Munich"
          ],
          [
           "Viktor Gyokeres",
           "Sporting CP"
          ],
          [
           "Thuram",
           "Inter"
          ],
          [
           "Lookman",
           "Atalanta BC"
          ],
          [
           "Jonathan David",
           "Lille"
          ],
          [
           "Ferran Torres",
           "Barcelona"
          ],
          [
           "Gittens",
           "BVB Dortmund"
          ],
          [
           "Marcus Rashford",
           "Aston Villa"
          ],
          [
           "Jamal Musiala",
           "Bayern Munich"
          ],
          [
           "Olise",
           "Bayern Munich"
          ],
          [
           "Thomas Muller",
           "Bayern Munich"
          ],
          [
           "Haaland",
           "Manchester City"
          ],
          [
           "Lucas Vazquez",
           "Real Madrid"
          ],
          [
           "Dan Ndoye",
           "Bologna"
          ],
          [
           "Luis Diaz",
           "Liverpool FC"
          ],
          [
           "Ivan Perisic",
           "PSV Eindhoven"
          ],
          [
           "Kevin",
           "Shakhtar Donetsk"
          ]
         ],
         "hovertemplate": "Position=Forward<br>Goals Scored=%{x}<br>Assists Made=%{y}<br>Player=%{customdata[0]}<br>Team=%{customdata[1]}<extra></extra>",
         "legendgroup": "Forward",
         "marker": {
          "color": "#00cc96",
          "symbol": "circle"
         },
         "mode": "markers",
         "name": "Forward",
         "orientation": "v",
         "showlegend": true,
         "x": {
          "dtype": "i1",
          "bdata": "Cw0DAgACBAUHBAMDAgIIBwEBBgYHAwkBBAMDCAEAAwADBgEFBQICAQEEAw0CBQELBgQFBwMEAAMFAwgBAAMDAg=="
         },
         "xaxis": "x",
         "y": {
          "dtype": "i1",
          "bdata": "AAkCAQMBAQMCAQECAgIDAQMEAwEDAQACAAEBBgMABAECAgEFAQQCAQIBBAQCAgICAAECAgEAAgQBAQABAAAAAA=="
         },
         "yaxis": "y",
         "type": "scatter"
        },
        {
         "customdata": [
          [
           "Marco Bizot",
           "Brest"
          ],
          [
           "Chevalier",
           "Lille"
          ],
          [
           "Courtois",
           "Real Madrid"
          ],
          [
           "Mike Maignan",
           "Milan"
          ],
          [
           "Alisson Becker",
           "Liverpool FC"
          ],
          [
           "David Raya",
           "Arsenal FC"
          ],
          [
           "Carnesecchi",
           "Atalanta BC"
          ],
          [
           "Wellenreuther ",
           "Feyenoord"
          ],
          [
           "Donnarumma",
           "Paris SG"
          ],
          [
           "Yann Sommer",
           "Inter"
          ],
          [
           "Di Gregorio",
           "Juventus"
          ],
          [
           "Jan Oblak",
           "Atletico Madrid"
          ],
          [
           "Riznyk",
           "Shakhtar Donetsk"
          ],
          [
           "Emiliano Martinez",
           "Aston Villa"
          ],
          [
           "Szczesny",
           "Barcelona"
          ],
          [
           "Mignolet",
           "Club Brugge"
          ],
          [
           "Franco Israel",
           "Sporting CP"
          ],
          [
           "Skorupski",
           "Bologna"
          ],
          [
           "Schmeichel",
           "Celtic"
          ],
          [
           "Gazzaniga",
           "Girona"
          ]
         ],
         "hovertemplate": "Position=Goalkeeper<br>Goals Scored=%{x}<br>Assists Made=%{y}<br>Player=%{customdata[0]}<br>Team=%{customdata[1]}<extra></extra>",
         "legendgroup": "Goalkeeper",
         "marker": {
          "color": "#ab63fa",
          "symbol": "circle"
         },
         "mode": "markers",
         "name": "Goalkeeper",
         "orientation": "v",
         "showlegend": true,
         "x": {
          "dtype": "i1",
          "bdata": "AAAAAAAAAAAAAAAAAAAAAAAAAAA="
         },
         "xaxis": "x",
         "y": {
          "dtype": "i1",
          "bdata": "AAAAAAAAAAAAAAAAAAAAAAAAAAA="
         },
         "yaxis": "y",
         "type": "scatter"
        }
       ],
       "layout": {
        "template": {
         "data": {
          "histogram2dcontour": [
           {
            "type": "histogram2dcontour",
            "colorbar": {
             "outlinewidth": 0,
             "ticks": ""
            },
            "colorscale": [
             [
              0.0,
              "#0d0887"
             ],
             [
              0.1111111111111111,
              "#46039f"
             ],
             [
              0.2222222222222222,
              "#7201a8"
             ],
             [
              0.3333333333333333,
              "#9c179e"
             ],
             [
              0.4444444444444444,
              "#bd3786"
             ],
             [
              0.5555555555555556,
              "#d8576b"
             ],
             [
              0.6666666666666666,
              "#ed7953"
             ],
             [
              0.7777777777777778,
              "#fb9f3a"
             ],
             [
              0.8888888888888888,
              "#fdca26"
             ],
             [
              1.0,
              "#f0f921"
             ]
            ]
           }
          ],
          "choropleth": [
           {
            "type": "choropleth",
            "colorbar": {
             "outlinewidth": 0,
             "ticks": ""
            }
           }
          ],
          "histogram2d": [
           {
            "type": "histogram2d",
            "colorbar": {
             "outlinewidth": 0,
             "ticks": ""
            },
            "colorscale": [
             [
              0.0,
              "#0d0887"
             ],
             [
              0.1111111111111111,
              "#46039f"
             ],
             [
              0.2222222222222222,
              "#7201a8"
             ],
             [
              0.3333333333333333,
              "#9c179e"
             ],
             [
              0.4444444444444444,
              "#bd3786"
             ],
             [
              0.5555555555555556,
              "#d8576b"
             ],
             [
              0.6666666666666666,
              "#ed7953"
             ],
             [
              0.7777777777777778,
              "#fb9f3a"
             ],
             [
              0.8888888888888888,
              "#fdca26"
             ],
             [
              1.0,
              "#f0f921"
             ]
            ]
           }
          ],
          "heatmap": [
           {
            "type": "heatmap",
            "colorbar": {
             "outlinewidth": 0,
             "ticks": ""
            },
            "colorscale": [
             [
              0.0,
              "#0d0887"
             ],
             [
              0.1111111111111111,
              "#46039f"
             ],
             [
              0.2222222222222222,
              "#7201a8"
             ],
             [
              0.3333333333333333,
              "#9c179e"
             ],
             [
              0.4444444444444444,
              "#bd3786"
             ],
             [
              0.5555555555555556,
              "#d8576b"
             ],
             [
              0.6666666666666666,
              "#ed7953"
             ],
             [
              0.7777777777777778,
              "#fb9f3a"
             ],
             [
              0.8888888888888888,
              "#fdca26"
             ],
             [
              1.0,
              "#f0f921"
             ]
            ]
           }
          ],
          "contourcarpet": [
           {
            "type": "contourcarpet",
            "colorbar": {
             "outlinewidth": 0,
             "ticks": ""
            }
           }
          ],
          "contour": [
           {
            "type": "contour",
            "colorbar": {
             "outlinewidth": 0,
             "ticks": ""
            },
            "colorscale": [
             [
              0.0,
              "#0d0887"
             ],
             [
              0.1111111111111111,
              "#46039f"
             ],
             [
              0.2222222222222222,
              "#7201a8"
             ],
             [
              0.3333333333333333,
              "#9c179e"
             ],
             [
              0.4444444444444444,
              "#bd3786"
             ],
             [
              0.5555555555555556,
              "#d8576b"
             ],
             [
              0.6666666666666666,
              "#ed7953"
             ],
             [
              0.7777777777777778,
              "#fb9f3a"
             ],
             [
              0.8888888888888888,
              "#fdca26"
             ],
             [
              1.0,
              "#f0f921"
             ]
            ]
           }
          ],
          "surface": [
           {
            "type": "surface",
            "colorbar": {
             "outlinewidth": 0,
             "ticks": ""
            },
            "colorscale": [
             [
              0.0,
              "#0d0887"
             ],
             [
              0.1111111111111111,
              "#46039f"
             ],
             [
              0.2222222222222222,
              "#7201a8"
             ],
             [
              0.3333333333333333,
              "#9c179e"
             ],
             [
              0.4444444444444444,
              "#bd3786"
             ],
             [
              0.5555555555555556,
              "#d8576b"
             ],
             [
              0.6666666666666666,
              "#ed7953"
             ],
             [
              0.7777777777777778,
              "#fb9f3a"
             ],
             [
              0.8888888888888888,
              "#fdca26"
             ],
             [
              1.0,
              "#f0f921"
             ]
            ]
           }
          ],
          "mesh3d": [
           {
            "type": "mesh3d",
            "colorbar": {
             "outlinewidth": 0,
             "ticks": ""
            }
           }
          ],
          "scatter": [
           {
            "fillpattern": {
             "fillmode": "overlay",
             "size": 10,
             "solidity": 0.2
            },
            "type": "scatter"
           }
          ],
          "parcoords": [
           {
            "type": "parcoords",
            "line": {
             "colorbar": {
              "outlinewidth": 0,
              "ticks": ""
             }
            }
           }
          ],
          "scatterpolargl": [
           {
            "type": "scatterpolargl",
            "marker": {
             "colorbar": {
              "outlinewidth": 0,
              "ticks": ""
             }
            }
           }
          ],
          "bar": [
           {
            "error_x": {
             "color": "#2a3f5f"
            },
            "error_y": {
             "color": "#2a3f5f"
            },
            "marker": {
             "line": {
              "color": "#E5ECF6",
              "width": 0.5
             },
             "pattern": {
              "fillmode": "overlay",
              "size": 10,
              "solidity": 0.2
             }
            },
            "type": "bar"
           }
          ],
          "scattergeo": [
           {
            "type": "scattergeo",
            "marker": {
             "colorbar": {
              "outlinewidth": 0,
              "ticks": ""
             }
            }
           }
          ],
          "scatterpolar": [
           {
            "type": "scatterpolar",
            "marker": {
             "colorbar": {
              "outlinewidth": 0,
              "ticks": ""
             }
            }
           }
          ],
          "histogram": [
           {
            "marker": {
             "pattern": {
              "fillmode": "overlay",
              "size": 10,
              "solidity": 0.2
             }
            },
            "type": "histogram"
           }
          ],
          "scattergl": [
           {
            "type": "scattergl",
            "marker": {
             "colorbar": {
              "outlinewidth": 0,
              "ticks": ""
             }
            }
           }
          ],
          "scatter3d": [
           {
            "type": "scatter3d",
            "line": {
             "colorbar": {
              "outlinewidth": 0,
              "ticks": ""
             }
            },
            "marker": {
             "colorbar": {
              "outlinewidth": 0,
              "ticks": ""
             }
            }
           }
          ],
          "scattermap": [
           {
            "type": "scattermap",
            "marker": {
             "colorbar": {
              "outlinewidth": 0,
              "ticks": ""
             }
            }
           }
          ],
          "scattermapbox": [
           {
            "type": "scattermapbox",
            "marker": {
             "colorbar": {
              "outlinewidth": 0,
              "ticks": ""
             }
            }
           }
          ],
          "scatterternary": [
           {
            "type": "scatterternary",
            "marker": {
             "colorbar": {
              "outlinewidth": 0,
              "ticks": ""
             }
            }
           }
          ],
          "scattercarpet": [
           {
            "type": "scattercarpet",
            "marker": {
             "colorbar": {
              "outlinewidth": 0,
              "ticks": ""
             }
            }
           }
          ],
          "carpet": [
           {
            "aaxis": {
             "endlinecolor": "#2a3f5f",
             "gridcolor": "white",
             "linecolor": "white",
             "minorgridcolor": "white",
             "startlinecolor": "#2a3f5f"
            },
            "baxis": {
             "endlinecolor": "#2a3f5f",
             "gridcolor": "white",
             "linecolor": "white",
             "minorgridcolor": "white",
             "startlinecolor": "#2a3f5f"
            },
            "type": "carpet"
           }
          ],
          "table": [
           {
            "cells": {
             "fill": {
              "color": "#EBF0F8"
             },
             "line": {
              "color": "white"
             }
            },
            "header": {
             "fill": {
              "color": "#C8D4E3"
             },
             "line": {
              "color": "white"
             }
            },
            "type": "table"
           }
          ],
          "barpolar": [
           {
            "marker": {
             "line": {
              "color": "#E5ECF6",
              "width": 0.5
             },
             "pattern": {
              "fillmode": "overlay",
              "size": 10,
              "solidity": 0.2
             }
            },
            "type": "barpolar"
           }
          ],
          "pie": [
           {
            "automargin": true,
            "type": "pie"
           }
          ]
         },
         "layout": {
          "autotypenumbers": "strict",
          "colorway": [
           "#636efa",
           "#EF553B",
           "#00cc96",
           "#ab63fa",
           "#FFA15A",
           "#19d3f3",
           "#FF6692",
           "#B6E880",
           "#FF97FF",
           "#FECB52"
          ],
          "font": {
           "color": "#2a3f5f"
          },
          "hovermode": "closest",
          "hoverlabel": {
           "align": "left"
          },
          "paper_bgcolor": "white",
          "plot_bgcolor": "#E5ECF6",
          "polar": {
           "bgcolor": "#E5ECF6",
           "angularaxis": {
            "gridcolor": "white",
            "linecolor": "white",
            "ticks": ""
           },
           "radialaxis": {
            "gridcolor": "white",
            "linecolor": "white",
            "ticks": ""
           }
          },
          "ternary": {
           "bgcolor": "#E5ECF6",
           "aaxis": {
            "gridcolor": "white",
            "linecolor": "white",
            "ticks": ""
           },
           "baxis": {
            "gridcolor": "white",
            "linecolor": "white",
            "ticks": ""
           },
           "caxis": {
            "gridcolor": "white",
            "linecolor": "white",
            "ticks": ""
           }
          },
          "coloraxis": {
           "colorbar": {
            "outlinewidth": 0,
            "ticks": ""
           }
          },
          "colorscale": {
           "sequential": [
            [
             0.0,
             "#0d0887"
            ],
            [
             0.1111111111111111,
             "#46039f"
            ],
            [
             0.2222222222222222,
             "#7201a8"
            ],
            [
             0.3333333333333333,
             "#9c179e"
            ],
            [
             0.4444444444444444,
             "#bd3786"
            ],
            [
             0.5555555555555556,
             "#d8576b"
            ],
            [
             0.6666666666666666,
             "#ed7953"
            ],
            [
             0.7777777777777778,
             "#fb9f3a"
            ],
            [
             0.8888888888888888,
             "#fdca26"
            ],
            [
             1.0,
             "#f0f921"
            ]
           ],
           "sequentialminus": [
            [
             0.0,
             "#0d0887"
            ],
            [
             0.1111111111111111,
             "#46039f"
            ],
            [
             0.2222222222222222,
             "#7201a8"
            ],
            [
             0.3333333333333333,
             "#9c179e"
            ],
            [
             0.4444444444444444,
             "#bd3786"
            ],
            [
             0.5555555555555556,
             "#d8576b"
            ],
            [
             0.6666666666666666,
             "#ed7953"
            ],
            [
             0.7777777777777778,
             "#fb9f3a"
            ],
            [
             0.8888888888888888,
             "#fdca26"
            ],
            [
             1.0,
             "#f0f921"
            ]
           ],
           "diverging": [
            [
             0,
             "#8e0152"
            ],
            [
             0.1,
             "#c51b7d"
            ],
            [
             0.2,
             "#de77ae"
            ],
            [
             0.3,
             "#f1b6da"
            ],
            [
             0.4,
             "#fde0ef"
            ],
            [
             0.5,
             "#f7f7f7"
            ],
            [
             0.6,
             "#e6f5d0"
            ],
            [
             0.7,
             "#b8e186"
            ],
            [
             0.8,
             "#7fbc41"
            ],
            [
             0.9,
             "#4d9221"
            ],
            [
             1,
             "#276419"
            ]
           ]
          },
          "xaxis": {
           "gridcolor": "white",
           "linecolor": "white",
           "ticks": "",
           "title": {
            "standoff": 15
           },
           "zerolinecolor": "white",
           "automargin": true,
           "zerolinewidth": 2
          },
          "yaxis": {
           "gridcolor": "white",
           "linecolor": "white",
           "ticks": "",
           "title": {
            "standoff": 15
           },
           "zerolinecolor": "white",
           "automargin": true,
           "zerolinewidth": 2
          },
          "scene": {
           "xaxis": {
            "backgroundcolor": "#E5ECF6",
            "gridcolor": "white",
            "linecolor": "white",
            "showbackground": true,
            "ticks": "",
            "zerolinecolor": "white",
            "gridwidth": 2
           },
           "yaxis": {
            "backgroundcolor": "#E5ECF6",
            "gridcolor": "white",
            "linecolor": "white",
            "showbackground": true,
            "ticks": "",
            "zerolinecolor": "white",
            "gridwidth": 2
           },
           "zaxis": {
            "backgroundcolor": "#E5ECF6",
            "gridcolor": "white",
            "linecolor": "white",
            "showbackground": true,
            "ticks": "",
            "zerolinecolor": "white",
            "gridwidth": 2
           }
          },
          "shapedefaults": {
           "line": {
            "color": "#2a3f5f"
           }
          },
          "annotationdefaults": {
           "arrowcolor": "#2a3f5f",
           "arrowhead": 0,
           "arrowwidth": 1
          },
          "geo": {
           "bgcolor": "white",
           "landcolor": "#E5ECF6",
           "subunitcolor": "white",
           "showland": true,
           "showlakes": true,
           "lakecolor": "white"
          },
          "title": {
           "x": 0.05
          },
          "mapbox": {
           "style": "light"
          }
         }
        },
        "xaxis": {
         "anchor": "y",
         "domain": [
          0.0,
          1.0
         ],
         "title": {
          "text": "Goals Scored"
         }
        },
        "yaxis": {
         "anchor": "x",
         "domain": [
          0.0,
          1.0
         ],
         "title": {
          "text": "Assists Made"
         }
        },
        "legend": {
         "title": {
          "text": "Position"
         },
         "tracegroupgap": 0
        },
        "title": {
         "text": "Goals vs Assists by Player Position"
        }
       },
       "config": {
        "plotlyServerURL": "https://plot.ly"
       }
      }
     },
     "metadata": {},
     "output_type": "display_data"
    }
   ],
   "execution_count": 26
  },
  {
   "metadata": {},
   "cell_type": "markdown",
   "source": "#### 13  Mean Rating per Phase",
   "id": "b47115075c042e77"
  },
  {
   "metadata": {
    "ExecuteTime": {
     "end_time": "2025-06-15T11:40:09.361910Z",
     "start_time": "2025-06-15T11:40:09.351078Z"
    }
   },
   "cell_type": "code",
   "source": "ucl.groupby('Phase')['Rating'].mean().sort_values(ascending=False)",
   "id": "4ffefd0f2635a9da",
   "outputs": [
    {
     "data": {
      "text/plain": [
       "Phase\n",
       "Final             7.322800\n",
       "Semi_finals       7.286250\n",
       "Quarter_finals    7.256750\n",
       "Round16           7.238103\n",
       "Knockout_phase    7.164600\n",
       "League_phase      7.123846\n",
       "Name: Rating, dtype: float64"
      ]
     },
     "execution_count": 27,
     "metadata": {},
     "output_type": "execute_result"
    }
   ],
   "execution_count": 27
  },
  {
   "metadata": {},
   "cell_type": "markdown",
   "source": "#### 14 (Box Plot). Boxplot of Distance Covered by Position",
   "id": "72e4dc7f52c472a2"
  },
  {
   "metadata": {
    "ExecuteTime": {
     "end_time": "2025-06-15T11:40:09.530282Z",
     "start_time": "2025-06-15T11:40:09.476947Z"
    }
   },
   "cell_type": "code",
   "source": [
    "fig = px.box(ucl, x='Position', y='DistanceCovered(km)', title='Boxplot of Distance Covered by Position',color='Position')\n",
    "fig.show()"
   ],
   "id": "7cd1ed823e732051",
   "outputs": [
    {
     "data": {
      "application/vnd.plotly.v1+json": {
       "data": [
        {
         "alignmentgroup": "True",
         "hovertemplate": "Position=%{x}<br>DistanceCovered(km)=%{y}<extra></extra>",
         "legendgroup": "Defender",
         "marker": {
          "color": "#636efa"
         },
         "name": "Defender",
         "notched": false,
         "offsetgroup": "Defender",
         "orientation": "v",
         "showlegend": true,
         "x": [
          "Defender",
          "Defender",
          "Defender",
          "Defender",
          "Defender",
          "Defender",
          "Defender",
          "Defender",
          "Defender",
          "Defender",
          "Defender",
          "Defender",
          "Defender",
          "Defender",
          "Defender",
          "Defender",
          "Defender",
          "Defender",
          "Defender",
          "Defender",
          "Defender",
          "Defender",
          "Defender",
          "Defender",
          "Defender",
          "Defender",
          "Defender",
          "Defender",
          "Defender",
          "Defender",
          "Defender",
          "Defender",
          "Defender",
          "Defender",
          "Defender",
          "Defender",
          "Defender",
          "Defender",
          "Defender",
          "Defender",
          "Defender",
          "Defender",
          "Defender",
          "Defender",
          "Defender",
          "Defender",
          "Defender",
          "Defender",
          "Defender",
          "Defender",
          "Defender",
          "Defender",
          "Defender",
          "Defender",
          "Defender",
          "Defender",
          "Defender",
          "Defender",
          "Defender",
          "Defender"
         ],
         "x0": " ",
         "xaxis": "x",
         "y": {
          "dtype": "f8",
          "bdata": "MzMzMzPzWEAAAAAAAOBVQDMzMzMzM11AMzMzMzMTWUCamZmZmRlmQAAAAAAAYFZAAAAAAACgU0BmZmZmZuZPQAAAAAAAYFRAZmZmZmZmQUBmZmZmZqZWQAAAAAAAYFNAzczMzMxMXEAzMzMzMxNXQDMzMzMzk1dAZmZmZmaGW0CamZmZmflbQAAAAAAAAFtAMzMzMzPzRkDNzMzMzOxUQJqZmZmZeVhAZmZmZmamUUBmZmZmZoZUQGZmZmZmxlVAAAAAAABAV0AzMzMzMzMpQAAAAAAAIFBAzczMzMxsWUBmZmZmZqZHQJqZmZmZGVdAZmZmZmYGUkAAAAAAAABcQAAAAAAAwERAmpmZmZl5YEDNzMzMzCxTQM3MzMzM7FJAzczMzMyMWEDNzMzMzKxWQGZmZmZmZkpAAAAAAAAAW0DNzMzMzMxKQM3MzMzMLGJAzczMzMzMUkAzMzMzM7NfQGZmZmZm5mNAzczMzMyMVUAAAAAAACBTQDMzMzMzk1BAAAAAAACAS0AzMzMzM8NjQAAAAAAAYFVAmpmZmZl5V0DNzMzMzExFQM3MzMzMTEBAAAAAAAAAXEAzMzMzMzNYQJqZmZmZ+VFAAAAAAABgUUDNzMzMzAxWQM3MzMzMDExA"
         },
         "y0": " ",
         "yaxis": "y",
         "type": "box"
        },
        {
         "alignmentgroup": "True",
         "hovertemplate": "Position=%{x}<br>DistanceCovered(km)=%{y}<extra></extra>",
         "legendgroup": "Midfielder",
         "marker": {
          "color": "#EF553B"
         },
         "name": "Midfielder",
         "notched": false,
         "offsetgroup": "Midfielder",
         "orientation": "v",
         "showlegend": true,
         "x": [
          "Midfielder",
          "Midfielder",
          "Midfielder",
          "Midfielder",
          "Midfielder",
          "Midfielder",
          "Midfielder",
          "Midfielder",
          "Midfielder",
          "Midfielder",
          "Midfielder",
          "Midfielder",
          "Midfielder",
          "Midfielder",
          "Midfielder",
          "Midfielder",
          "Midfielder",
          "Midfielder",
          "Midfielder",
          "Midfielder",
          "Midfielder",
          "Midfielder",
          "Midfielder",
          "Midfielder",
          "Midfielder",
          "Midfielder",
          "Midfielder",
          "Midfielder",
          "Midfielder",
          "Midfielder",
          "Midfielder",
          "Midfielder",
          "Midfielder",
          "Midfielder",
          "Midfielder",
          "Midfielder",
          "Midfielder",
          "Midfielder",
          "Midfielder",
          "Midfielder",
          "Midfielder",
          "Midfielder",
          "Midfielder",
          "Midfielder",
          "Midfielder",
          "Midfielder",
          "Midfielder",
          "Midfielder",
          "Midfielder",
          "Midfielder",
          "Midfielder",
          "Midfielder",
          "Midfielder",
          "Midfielder",
          "Midfielder",
          "Midfielder",
          "Midfielder",
          "Midfielder",
          "Midfielder",
          "Midfielder",
          "Midfielder",
          "Midfielder",
          "Midfielder",
          "Midfielder",
          "Midfielder",
          "Midfielder"
         ],
         "x0": " ",
         "xaxis": "x",
         "y": {
          "dtype": "f8",
          "bdata": "mpmZmZlZWECamZmZmZlaQGZmZmZmtmFAZmZmZmYWYkBmZmZmZiZNQM3MzMzMzFhAmpmZmZm5VEBmZmZmZmZWQGZmZmZm5lVAMzMzMzPTW0CamZmZmblhQAAAAAAAIFVAZmZmZmaGZkAzMzMzM6NhQAAAAAAAoFRAzczMzMzMWkCamZmZmVlTQJqZmZmZWU9AmpmZmZmZWkAzMzMzM5NWQM3MzMzMDFlAAAAAAABASUAzMzMzM3NUQAAAAAAAIFFAMzMzMzOzU0BmZmZmZmZXQM3MzMzMLF5AmpmZmZlZV0AAAAAAAEBKQGZmZmZmhlZAmpmZmZlZWkAAAAAAAKBRQGZmZmZmplNAAAAAAABAWEAzMzMzM5NgQM3MzMzMbFxAAAAAAACgVkDNzMzMzExXQAAAAAAA4FlAMzMzMzMzVUAAAAAAAMBWQDMzMzMzk1pAAAAAAAAgUUAAAAAAABBgQM3MzMzMLFhAZmZmZmZmZkAAAAAAAEBbQM3MzMzMbFVAmpmZmZn5VUCamZmZmQlnQDMzMzMzo2BAZmZmZmZmRUBmZmZmZmZYQAAAAAAA4FVAZmZmZmamU0AzMzMzM1NfQAAAAAAAQGBAmpmZmZk5WUAzMzMzM1NQQAAAAAAAgGFAAAAAAADgV0BmZmZmZqZQQGZmZmZmJlJAMzMzMzNzRUAzMzMzM5NTQGZmZmZmhlVA"
         },
         "y0": " ",
         "yaxis": "y",
         "type": "box"
        },
        {
         "alignmentgroup": "True",
         "hovertemplate": "Position=%{x}<br>DistanceCovered(km)=%{y}<extra></extra>",
         "legendgroup": "Forward",
         "marker": {
          "color": "#00cc96"
         },
         "name": "Forward",
         "notched": false,
         "offsetgroup": "Forward",
         "orientation": "v",
         "showlegend": true,
         "x": [
          "Forward",
          "Forward",
          "Forward",
          "Forward",
          "Forward",
          "Forward",
          "Forward",
          "Forward",
          "Forward",
          "Forward",
          "Forward",
          "Forward",
          "Forward",
          "Forward",
          "Forward",
          "Forward",
          "Forward",
          "Forward",
          "Forward",
          "Forward",
          "Forward",
          "Forward",
          "Forward",
          "Forward",
          "Forward",
          "Forward",
          "Forward",
          "Forward",
          "Forward",
          "Forward",
          "Forward",
          "Forward",
          "Forward",
          "Forward",
          "Forward",
          "Forward",
          "Forward",
          "Forward",
          "Forward",
          "Forward",
          "Forward",
          "Forward",
          "Forward",
          "Forward",
          "Forward",
          "Forward",
          "Forward",
          "Forward",
          "Forward",
          "Forward",
          "Forward",
          "Forward",
          "Forward",
          "Forward",
          "Forward",
          "Forward",
          "Forward",
          "Forward",
          "Forward",
          "Forward",
          "Forward",
          "Forward",
          "Forward",
          "Forward"
         ],
         "x0": " ",
         "xaxis": "x",
         "y": {
          "dtype": "f8",
          "bdata": "AAAAAAAgV0AzMzMzM7NfQDMzMzMzMypAZmZmZmbmTUDNzMzMzExMQM3MzMzM7FhAMzMzMzPTVUAzMzMzM1NZQJqZmZmZeVtAAAAAAABgUkAzMzMzMzNYQM3MzMzMrFNAMzMzMzNTXEAAAAAAAABSQJqZmZmZuV1AAAAAAAAgWECamZmZmRldQM3MzMzMjFJAZmZmZmZmVkDNzMzMzAxLQDMzMzMz01xAzczMzMxsVkAAAAAAAABPQJqZmZmZGVBAzczMzMxMT0CamZmZmVlPQGZmZmZmpkZAZmZmZmaGX0BmZmZmZkZRQDMzMzMz01VAAAAAAAAgXkCamZmZmTlYQJqZmZmZOVVAzczMzMysVUDNzMzMzCxTQM3MzMzMzFZAzczMzMyMTUBmZmZmZgZdQAAAAAAAoFhAzczMzMzMUEAAAAAAAKBTQDMzMzMz01pAMzMzMzMzVkBmZmZmZiZXQAAAAAAAoFhAmpmZmZm5WUCamZmZmVlQQGZmZmZmdmFAmpmZmZnZUUBmZmZmZmZUQJqZmZmZWUlAMzMzMzNTVUAAAAAAAMBGQM3MzMzMzFZAZmZmZmamQUBmZmZmZgZbQM3MzMzM3GBAmpmZmZlZSUCamZmZmZlVQAAAAAAAwFJAAAAAAABgUUBmZmZmZoZUQGZmZmZmZj5AMzMzMzOzSkA="
         },
         "y0": " ",
         "yaxis": "y",
         "type": "box"
        },
        {
         "alignmentgroup": "True",
         "hovertemplate": "Position=%{x}<br>DistanceCovered(km)=%{y}<extra></extra>",
         "legendgroup": "Goalkeeper",
         "marker": {
          "color": "#ab63fa"
         },
         "name": "Goalkeeper",
         "notched": false,
         "offsetgroup": "Goalkeeper",
         "orientation": "v",
         "showlegend": true,
         "x": [
          "Goalkeeper",
          "Goalkeeper",
          "Goalkeeper",
          "Goalkeeper",
          "Goalkeeper",
          "Goalkeeper",
          "Goalkeeper",
          "Goalkeeper",
          "Goalkeeper",
          "Goalkeeper",
          "Goalkeeper",
          "Goalkeeper",
          "Goalkeeper",
          "Goalkeeper",
          "Goalkeeper",
          "Goalkeeper",
          "Goalkeeper",
          "Goalkeeper",
          "Goalkeeper",
          "Goalkeeper"
         ],
         "x0": " ",
         "xaxis": "x",
         "y": {
          "dtype": "f8",
          "bdata": "zczMzMzMSEDNzMzMzIxFQM3MzMzMDExAMzMzMzMzSkAAAAAAAMBBQDMzMzMzk1VAmpmZmZmZREAzMzMzM/NMQM3MzMzM7FFAAAAAAADASUDNzMzMzAxBQAAAAAAAQEpAzczMzMwMREAzMzMzM/NOQGZmZmZmZkFAZmZmZmZGUECamZmZmZlDQDMzMzMzM0BAzczMzMwMSEDNzMzMzMw/QA=="
         },
         "y0": " ",
         "yaxis": "y",
         "type": "box"
        }
       ],
       "layout": {
        "template": {
         "data": {
          "histogram2dcontour": [
           {
            "type": "histogram2dcontour",
            "colorbar": {
             "outlinewidth": 0,
             "ticks": ""
            },
            "colorscale": [
             [
              0.0,
              "#0d0887"
             ],
             [
              0.1111111111111111,
              "#46039f"
             ],
             [
              0.2222222222222222,
              "#7201a8"
             ],
             [
              0.3333333333333333,
              "#9c179e"
             ],
             [
              0.4444444444444444,
              "#bd3786"
             ],
             [
              0.5555555555555556,
              "#d8576b"
             ],
             [
              0.6666666666666666,
              "#ed7953"
             ],
             [
              0.7777777777777778,
              "#fb9f3a"
             ],
             [
              0.8888888888888888,
              "#fdca26"
             ],
             [
              1.0,
              "#f0f921"
             ]
            ]
           }
          ],
          "choropleth": [
           {
            "type": "choropleth",
            "colorbar": {
             "outlinewidth": 0,
             "ticks": ""
            }
           }
          ],
          "histogram2d": [
           {
            "type": "histogram2d",
            "colorbar": {
             "outlinewidth": 0,
             "ticks": ""
            },
            "colorscale": [
             [
              0.0,
              "#0d0887"
             ],
             [
              0.1111111111111111,
              "#46039f"
             ],
             [
              0.2222222222222222,
              "#7201a8"
             ],
             [
              0.3333333333333333,
              "#9c179e"
             ],
             [
              0.4444444444444444,
              "#bd3786"
             ],
             [
              0.5555555555555556,
              "#d8576b"
             ],
             [
              0.6666666666666666,
              "#ed7953"
             ],
             [
              0.7777777777777778,
              "#fb9f3a"
             ],
             [
              0.8888888888888888,
              "#fdca26"
             ],
             [
              1.0,
              "#f0f921"
             ]
            ]
           }
          ],
          "heatmap": [
           {
            "type": "heatmap",
            "colorbar": {
             "outlinewidth": 0,
             "ticks": ""
            },
            "colorscale": [
             [
              0.0,
              "#0d0887"
             ],
             [
              0.1111111111111111,
              "#46039f"
             ],
             [
              0.2222222222222222,
              "#7201a8"
             ],
             [
              0.3333333333333333,
              "#9c179e"
             ],
             [
              0.4444444444444444,
              "#bd3786"
             ],
             [
              0.5555555555555556,
              "#d8576b"
             ],
             [
              0.6666666666666666,
              "#ed7953"
             ],
             [
              0.7777777777777778,
              "#fb9f3a"
             ],
             [
              0.8888888888888888,
              "#fdca26"
             ],
             [
              1.0,
              "#f0f921"
             ]
            ]
           }
          ],
          "contourcarpet": [
           {
            "type": "contourcarpet",
            "colorbar": {
             "outlinewidth": 0,
             "ticks": ""
            }
           }
          ],
          "contour": [
           {
            "type": "contour",
            "colorbar": {
             "outlinewidth": 0,
             "ticks": ""
            },
            "colorscale": [
             [
              0.0,
              "#0d0887"
             ],
             [
              0.1111111111111111,
              "#46039f"
             ],
             [
              0.2222222222222222,
              "#7201a8"
             ],
             [
              0.3333333333333333,
              "#9c179e"
             ],
             [
              0.4444444444444444,
              "#bd3786"
             ],
             [
              0.5555555555555556,
              "#d8576b"
             ],
             [
              0.6666666666666666,
              "#ed7953"
             ],
             [
              0.7777777777777778,
              "#fb9f3a"
             ],
             [
              0.8888888888888888,
              "#fdca26"
             ],
             [
              1.0,
              "#f0f921"
             ]
            ]
           }
          ],
          "surface": [
           {
            "type": "surface",
            "colorbar": {
             "outlinewidth": 0,
             "ticks": ""
            },
            "colorscale": [
             [
              0.0,
              "#0d0887"
             ],
             [
              0.1111111111111111,
              "#46039f"
             ],
             [
              0.2222222222222222,
              "#7201a8"
             ],
             [
              0.3333333333333333,
              "#9c179e"
             ],
             [
              0.4444444444444444,
              "#bd3786"
             ],
             [
              0.5555555555555556,
              "#d8576b"
             ],
             [
              0.6666666666666666,
              "#ed7953"
             ],
             [
              0.7777777777777778,
              "#fb9f3a"
             ],
             [
              0.8888888888888888,
              "#fdca26"
             ],
             [
              1.0,
              "#f0f921"
             ]
            ]
           }
          ],
          "mesh3d": [
           {
            "type": "mesh3d",
            "colorbar": {
             "outlinewidth": 0,
             "ticks": ""
            }
           }
          ],
          "scatter": [
           {
            "fillpattern": {
             "fillmode": "overlay",
             "size": 10,
             "solidity": 0.2
            },
            "type": "scatter"
           }
          ],
          "parcoords": [
           {
            "type": "parcoords",
            "line": {
             "colorbar": {
              "outlinewidth": 0,
              "ticks": ""
             }
            }
           }
          ],
          "scatterpolargl": [
           {
            "type": "scatterpolargl",
            "marker": {
             "colorbar": {
              "outlinewidth": 0,
              "ticks": ""
             }
            }
           }
          ],
          "bar": [
           {
            "error_x": {
             "color": "#2a3f5f"
            },
            "error_y": {
             "color": "#2a3f5f"
            },
            "marker": {
             "line": {
              "color": "#E5ECF6",
              "width": 0.5
             },
             "pattern": {
              "fillmode": "overlay",
              "size": 10,
              "solidity": 0.2
             }
            },
            "type": "bar"
           }
          ],
          "scattergeo": [
           {
            "type": "scattergeo",
            "marker": {
             "colorbar": {
              "outlinewidth": 0,
              "ticks": ""
             }
            }
           }
          ],
          "scatterpolar": [
           {
            "type": "scatterpolar",
            "marker": {
             "colorbar": {
              "outlinewidth": 0,
              "ticks": ""
             }
            }
           }
          ],
          "histogram": [
           {
            "marker": {
             "pattern": {
              "fillmode": "overlay",
              "size": 10,
              "solidity": 0.2
             }
            },
            "type": "histogram"
           }
          ],
          "scattergl": [
           {
            "type": "scattergl",
            "marker": {
             "colorbar": {
              "outlinewidth": 0,
              "ticks": ""
             }
            }
           }
          ],
          "scatter3d": [
           {
            "type": "scatter3d",
            "line": {
             "colorbar": {
              "outlinewidth": 0,
              "ticks": ""
             }
            },
            "marker": {
             "colorbar": {
              "outlinewidth": 0,
              "ticks": ""
             }
            }
           }
          ],
          "scattermap": [
           {
            "type": "scattermap",
            "marker": {
             "colorbar": {
              "outlinewidth": 0,
              "ticks": ""
             }
            }
           }
          ],
          "scattermapbox": [
           {
            "type": "scattermapbox",
            "marker": {
             "colorbar": {
              "outlinewidth": 0,
              "ticks": ""
             }
            }
           }
          ],
          "scatterternary": [
           {
            "type": "scatterternary",
            "marker": {
             "colorbar": {
              "outlinewidth": 0,
              "ticks": ""
             }
            }
           }
          ],
          "scattercarpet": [
           {
            "type": "scattercarpet",
            "marker": {
             "colorbar": {
              "outlinewidth": 0,
              "ticks": ""
             }
            }
           }
          ],
          "carpet": [
           {
            "aaxis": {
             "endlinecolor": "#2a3f5f",
             "gridcolor": "white",
             "linecolor": "white",
             "minorgridcolor": "white",
             "startlinecolor": "#2a3f5f"
            },
            "baxis": {
             "endlinecolor": "#2a3f5f",
             "gridcolor": "white",
             "linecolor": "white",
             "minorgridcolor": "white",
             "startlinecolor": "#2a3f5f"
            },
            "type": "carpet"
           }
          ],
          "table": [
           {
            "cells": {
             "fill": {
              "color": "#EBF0F8"
             },
             "line": {
              "color": "white"
             }
            },
            "header": {
             "fill": {
              "color": "#C8D4E3"
             },
             "line": {
              "color": "white"
             }
            },
            "type": "table"
           }
          ],
          "barpolar": [
           {
            "marker": {
             "line": {
              "color": "#E5ECF6",
              "width": 0.5
             },
             "pattern": {
              "fillmode": "overlay",
              "size": 10,
              "solidity": 0.2
             }
            },
            "type": "barpolar"
           }
          ],
          "pie": [
           {
            "automargin": true,
            "type": "pie"
           }
          ]
         },
         "layout": {
          "autotypenumbers": "strict",
          "colorway": [
           "#636efa",
           "#EF553B",
           "#00cc96",
           "#ab63fa",
           "#FFA15A",
           "#19d3f3",
           "#FF6692",
           "#B6E880",
           "#FF97FF",
           "#FECB52"
          ],
          "font": {
           "color": "#2a3f5f"
          },
          "hovermode": "closest",
          "hoverlabel": {
           "align": "left"
          },
          "paper_bgcolor": "white",
          "plot_bgcolor": "#E5ECF6",
          "polar": {
           "bgcolor": "#E5ECF6",
           "angularaxis": {
            "gridcolor": "white",
            "linecolor": "white",
            "ticks": ""
           },
           "radialaxis": {
            "gridcolor": "white",
            "linecolor": "white",
            "ticks": ""
           }
          },
          "ternary": {
           "bgcolor": "#E5ECF6",
           "aaxis": {
            "gridcolor": "white",
            "linecolor": "white",
            "ticks": ""
           },
           "baxis": {
            "gridcolor": "white",
            "linecolor": "white",
            "ticks": ""
           },
           "caxis": {
            "gridcolor": "white",
            "linecolor": "white",
            "ticks": ""
           }
          },
          "coloraxis": {
           "colorbar": {
            "outlinewidth": 0,
            "ticks": ""
           }
          },
          "colorscale": {
           "sequential": [
            [
             0.0,
             "#0d0887"
            ],
            [
             0.1111111111111111,
             "#46039f"
            ],
            [
             0.2222222222222222,
             "#7201a8"
            ],
            [
             0.3333333333333333,
             "#9c179e"
            ],
            [
             0.4444444444444444,
             "#bd3786"
            ],
            [
             0.5555555555555556,
             "#d8576b"
            ],
            [
             0.6666666666666666,
             "#ed7953"
            ],
            [
             0.7777777777777778,
             "#fb9f3a"
            ],
            [
             0.8888888888888888,
             "#fdca26"
            ],
            [
             1.0,
             "#f0f921"
            ]
           ],
           "sequentialminus": [
            [
             0.0,
             "#0d0887"
            ],
            [
             0.1111111111111111,
             "#46039f"
            ],
            [
             0.2222222222222222,
             "#7201a8"
            ],
            [
             0.3333333333333333,
             "#9c179e"
            ],
            [
             0.4444444444444444,
             "#bd3786"
            ],
            [
             0.5555555555555556,
             "#d8576b"
            ],
            [
             0.6666666666666666,
             "#ed7953"
            ],
            [
             0.7777777777777778,
             "#fb9f3a"
            ],
            [
             0.8888888888888888,
             "#fdca26"
            ],
            [
             1.0,
             "#f0f921"
            ]
           ],
           "diverging": [
            [
             0,
             "#8e0152"
            ],
            [
             0.1,
             "#c51b7d"
            ],
            [
             0.2,
             "#de77ae"
            ],
            [
             0.3,
             "#f1b6da"
            ],
            [
             0.4,
             "#fde0ef"
            ],
            [
             0.5,
             "#f7f7f7"
            ],
            [
             0.6,
             "#e6f5d0"
            ],
            [
             0.7,
             "#b8e186"
            ],
            [
             0.8,
             "#7fbc41"
            ],
            [
             0.9,
             "#4d9221"
            ],
            [
             1,
             "#276419"
            ]
           ]
          },
          "xaxis": {
           "gridcolor": "white",
           "linecolor": "white",
           "ticks": "",
           "title": {
            "standoff": 15
           },
           "zerolinecolor": "white",
           "automargin": true,
           "zerolinewidth": 2
          },
          "yaxis": {
           "gridcolor": "white",
           "linecolor": "white",
           "ticks": "",
           "title": {
            "standoff": 15
           },
           "zerolinecolor": "white",
           "automargin": true,
           "zerolinewidth": 2
          },
          "scene": {
           "xaxis": {
            "backgroundcolor": "#E5ECF6",
            "gridcolor": "white",
            "linecolor": "white",
            "showbackground": true,
            "ticks": "",
            "zerolinecolor": "white",
            "gridwidth": 2
           },
           "yaxis": {
            "backgroundcolor": "#E5ECF6",
            "gridcolor": "white",
            "linecolor": "white",
            "showbackground": true,
            "ticks": "",
            "zerolinecolor": "white",
            "gridwidth": 2
           },
           "zaxis": {
            "backgroundcolor": "#E5ECF6",
            "gridcolor": "white",
            "linecolor": "white",
            "showbackground": true,
            "ticks": "",
            "zerolinecolor": "white",
            "gridwidth": 2
           }
          },
          "shapedefaults": {
           "line": {
            "color": "#2a3f5f"
           }
          },
          "annotationdefaults": {
           "arrowcolor": "#2a3f5f",
           "arrowhead": 0,
           "arrowwidth": 1
          },
          "geo": {
           "bgcolor": "white",
           "landcolor": "#E5ECF6",
           "subunitcolor": "white",
           "showland": true,
           "showlakes": true,
           "lakecolor": "white"
          },
          "title": {
           "x": 0.05
          },
          "mapbox": {
           "style": "light"
          }
         }
        },
        "xaxis": {
         "anchor": "y",
         "domain": [
          0.0,
          1.0
         ],
         "title": {
          "text": "Position"
         },
         "categoryorder": "array",
         "categoryarray": [
          "Defender",
          "Midfielder",
          "Forward",
          "Goalkeeper"
         ]
        },
        "yaxis": {
         "anchor": "x",
         "domain": [
          0.0,
          1.0
         ],
         "title": {
          "text": "DistanceCovered(km)"
         }
        },
        "legend": {
         "title": {
          "text": "Position"
         },
         "tracegroupgap": 0
        },
        "title": {
         "text": "Boxplot of Distance Covered by Position"
        },
        "boxmode": "overlay"
       },
       "config": {
        "plotlyServerURL": "https://plot.ly"
       }
      }
     },
     "metadata": {},
     "output_type": "display_data"
    }
   ],
   "execution_count": 28
  },
  {
   "metadata": {},
   "cell_type": "markdown",
   "source": "#### 15 (Histogram). Histogram of Top Speed of Players",
   "id": "4f378f7ddfc5eedb"
  },
  {
   "metadata": {
    "ExecuteTime": {
     "end_time": "2025-06-15T11:40:09.933341Z",
     "start_time": "2025-06-15T11:40:09.780188Z"
    }
   },
   "cell_type": "code",
   "source": "sns.histplot(ucl['TopSpeed(km/h)'], bins=20, kde=True)",
   "id": "4a892e005be9ad66",
   "outputs": [
    {
     "data": {
      "text/plain": [
       "<Axes: xlabel='TopSpeed(km/h)', ylabel='Count'>"
      ]
     },
     "execution_count": 29,
     "metadata": {},
     "output_type": "execute_result"
    },
    {
     "data": {
      "text/plain": [
       "<Figure size 640x480 with 1 Axes>"
      ],
      "image/png": "[encoded data removed]"
     },
     "metadata": {},
     "output_type": "display_data"
    }
   ],
   "execution_count": 29
  },
  {
   "metadata": {
    "ExecuteTime": {
     "end_time": "2025-06-15T11:40:10.095436Z",
     "start_time": "2025-06-15T11:40:10.026724Z"
    }
   },
   "cell_type": "code",
   "source": [
    "fig = px.histogram(ucl, x='TopSpeed(km/h)', nbins=20, title='Histogram of Top Speed',color_discrete_sequence=['blue'])\n",
    "fig.show()"
   ],
   "id": "992eafa15772cba4",
   "outputs": [
    {
     "data": {
      "application/vnd.plotly.v1+json": {
       "data": [
        {
         "bingroup": "x",
         "hovertemplate": "TopSpeed(km/h)=%{x}<br>count=%{y}<extra></extra>",
         "legendgroup": "",
         "marker": {
          "color": "blue",
          "pattern": {
           "shape": ""
          }
         },
         "name": "",
         "nbinsx": 20,
         "orientation": "v",
         "showlegend": false,
         "x": {
          "dtype": "f8",
          "bdata": "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"
         },
         "xaxis": "x",
         "yaxis": "y",
         "type": "histogram"
        }
       ],
       "layout": {
        "template": {
         "data": {
          "histogram2dcontour": [
           {
            "type": "histogram2dcontour",
            "colorbar": {
             "outlinewidth": 0,
             "ticks": ""
            },
            "colorscale": [
             [
              0.0,
              "#0d0887"
             ],
             [
              0.1111111111111111,
              "#46039f"
             ],
             [
              0.2222222222222222,
              "#7201a8"
             ],
             [
              0.3333333333333333,
              "#9c179e"
             ],
             [
              0.4444444444444444,
              "#bd3786"
             ],
             [
              0.5555555555555556,
              "#d8576b"
             ],
             [
              0.6666666666666666,
              "#ed7953"
             ],
             [
              0.7777777777777778,
              "#fb9f3a"
             ],
             [
              0.8888888888888888,
              "#fdca26"
             ],
             [
              1.0,
              "#f0f921"
             ]
            ]
           }
          ],
          "choropleth": [
           {
            "type": "choropleth",
            "colorbar": {
             "outlinewidth": 0,
             "ticks": ""
            }
           }
          ],
          "histogram2d": [
           {
            "type": "histogram2d",
            "colorbar": {
             "outlinewidth": 0,
             "ticks": ""
            },
            "colorscale": [
             [
              0.0,
              "#0d0887"
             ],
             [
              0.1111111111111111,
              "#46039f"
             ],
             [
              0.2222222222222222,
              "#7201a8"
             ],
             [
              0.3333333333333333,
              "#9c179e"
             ],
             [
              0.4444444444444444,
              "#bd3786"
             ],
             [
              0.5555555555555556,
              "#d8576b"
             ],
             [
              0.6666666666666666,
              "#ed7953"
             ],
             [
              0.7777777777777778,
              "#fb9f3a"
             ],
             [
              0.8888888888888888,
              "#fdca26"
             ],
             [
              1.0,
              "#f0f921"
             ]
            ]
           }
          ],
          "heatmap": [
           {
            "type": "heatmap",
            "colorbar": {
             "outlinewidth": 0,
             "ticks": ""
            },
            "colorscale": [
             [
              0.0,
              "#0d0887"
             ],
             [
              0.1111111111111111,
              "#46039f"
             ],
             [
              0.2222222222222222,
              "#7201a8"
             ],
             [
              0.3333333333333333,
              "#9c179e"
             ],
             [
              0.4444444444444444,
              "#bd3786"
             ],
             [
              0.5555555555555556,
              "#d8576b"
             ],
             [
              0.6666666666666666,
              "#ed7953"
             ],
             [
              0.7777777777777778,
              "#fb9f3a"
             ],
             [
              0.8888888888888888,
              "#fdca26"
             ],
             [
              1.0,
              "#f0f921"
             ]
            ]
           }
          ],
          "contourcarpet": [
           {
            "type": "contourcarpet",
            "colorbar": {
             "outlinewidth": 0,
             "ticks": ""
            }
           }
          ],
          "contour": [
           {
            "type": "contour",
            "colorbar": {
             "outlinewidth": 0,
             "ticks": ""
            },
            "colorscale": [
             [
              0.0,
              "#0d0887"
             ],
             [
              0.1111111111111111,
              "#46039f"
             ],
             [
              0.2222222222222222,
              "#7201a8"
             ],
             [
              0.3333333333333333,
              "#9c179e"
             ],
             [
              0.4444444444444444,
              "#bd3786"
             ],
             [
              0.5555555555555556,
              "#d8576b"
             ],
             [
              0.6666666666666666,
              "#ed7953"
             ],
             [
              0.7777777777777778,
              "#fb9f3a"
             ],
             [
              0.8888888888888888,
              "#fdca26"
             ],
             [
              1.0,
              "#f0f921"
             ]
            ]
           }
          ],
          "surface": [
           {
            "type": "surface",
            "colorbar": {
             "outlinewidth": 0,
             "ticks": ""
            },
            "colorscale": [
             [
              0.0,
              "#0d0887"
             ],
             [
              0.1111111111111111,
              "#46039f"
             ],
             [
              0.2222222222222222,
              "#7201a8"
             ],
             [
              0.3333333333333333,
              "#9c179e"
             ],
             [
              0.4444444444444444,
              "#bd3786"
             ],
             [
              0.5555555555555556,
              "#d8576b"
             ],
             [
              0.6666666666666666,
              "#ed7953"
             ],
             [
              0.7777777777777778,
              "#fb9f3a"
             ],
             [
              0.8888888888888888,
              "#fdca26"
             ],
             [
              1.0,
              "#f0f921"
             ]
            ]
           }
          ],
          "mesh3d": [
           {
            "type": "mesh3d",
            "colorbar": {
             "outlinewidth": 0,
             "ticks": ""
            }
           }
          ],
          "scatter": [
           {
            "fillpattern": {
             "fillmode": "overlay",
             "size": 10,
             "solidity": 0.2
            },
            "type": "scatter"
           }
          ],
          "parcoords": [
           {
            "type": "parcoords",
            "line": {
             "colorbar": {
              "outlinewidth": 0,
              "ticks": ""
             }
            }
           }
          ],
          "scatterpolargl": [
           {
            "type": "scatterpolargl",
            "marker": {
             "colorbar": {
              "outlinewidth": 0,
              "ticks": ""
             }
            }
           }
          ],
          "bar": [
           {
            "error_x": {
             "color": "#2a3f5f"
            },
            "error_y": {
             "color": "#2a3f5f"
            },
            "marker": {
             "line": {
              "color": "#E5ECF6",
              "width": 0.5
             },
             "pattern": {
              "fillmode": "overlay",
              "size": 10,
              "solidity": 0.2
             }
            },
            "type": "bar"
           }
          ],
          "scattergeo": [
           {
            "type": "scattergeo",
            "marker": {
             "colorbar": {
              "outlinewidth": 0,
              "ticks": ""
             }
            }
           }
          ],
          "scatterpolar": [
           {
            "type": "scatterpolar",
            "marker": {
             "colorbar": {
              "outlinewidth": 0,
              "ticks": ""
             }
            }
           }
          ],
          "histogram": [
           {
            "marker": {
             "pattern": {
              "fillmode": "overlay",
              "size": 10,
              "solidity": 0.2
             }
            },
            "type": "histogram"
           }
          ],
          "scattergl": [
           {
            "type": "scattergl",
            "marker": {
             "colorbar": {
              "outlinewidth": 0,
              "ticks": ""
             }
            }
           }
          ],
          "scatter3d": [
           {
            "type": "scatter3d",
            "line": {
             "colorbar": {
              "outlinewidth": 0,
              "ticks": ""
             }
            },
            "marker": {
             "colorbar": {
              "outlinewidth": 0,
              "ticks": ""
             }
            }
           }
          ],
          "scattermap": [
           {
            "type": "scattermap",
            "marker": {
             "colorbar": {
              "outlinewidth": 0,
              "ticks": ""
             }
            }
           }
          ],
          "scattermapbox": [
           {
            "type": "scattermapbox",
            "marker": {
             "colorbar": {
              "outlinewidth": 0,
              "ticks": ""
             }
            }
           }
          ],
          "scatterternary": [
           {
            "type": "scatterternary",
            "marker": {
             "colorbar": {
              "outlinewidth": 0,
              "ticks": ""
             }
            }
           }
          ],
          "scattercarpet": [
           {
            "type": "scattercarpet",
            "marker": {
             "colorbar": {
              "outlinewidth": 0,
              "ticks": ""
             }
            }
           }
          ],
          "carpet": [
           {
            "aaxis": {
             "endlinecolor": "#2a3f5f",
             "gridcolor": "white",
             "linecolor": "white",
             "minorgridcolor": "white",
             "startlinecolor": "#2a3f5f"
            },
            "baxis": {
             "endlinecolor": "#2a3f5f",
             "gridcolor": "white",
             "linecolor": "white",
             "minorgridcolor": "white",
             "startlinecolor": "#2a3f5f"
            },
            "type": "carpet"
           }
          ],
          "table": [
           {
            "cells": {
             "fill": {
              "color": "#EBF0F8"
             },
             "line": {
              "color": "white"
             }
            },
            "header": {
             "fill": {
              "color": "#C8D4E3"
             },
             "line": {
              "color": "white"
             }
            },
            "type": "table"
           }
          ],
          "barpolar": [
           {
            "marker": {
             "line": {
              "color": "#E5ECF6",
              "width": 0.5
             },
             "pattern": {
              "fillmode": "overlay",
              "size": 10,
              "solidity": 0.2
             }
            },
            "type": "barpolar"
           }
          ],
          "pie": [
           {
            "automargin": true,
            "type": "pie"
           }
          ]
         },
         "layout": {
          "autotypenumbers": "strict",
          "colorway": [
           "#636efa",
           "#EF553B",
           "#00cc96",
           "#ab63fa",
           "#FFA15A",
           "#19d3f3",
           "#FF6692",
           "#B6E880",
           "#FF97FF",
           "#FECB52"
          ],
          "font": {
           "color": "#2a3f5f"
          },
          "hovermode": "closest",
          "hoverlabel": {
           "align": "left"
          },
          "paper_bgcolor": "white",
          "plot_bgcolor": "#E5ECF6",
          "polar": {
           "bgcolor": "#E5ECF6",
           "angularaxis": {
            "gridcolor": "white",
            "linecolor": "white",
            "ticks": ""
           },
           "radialaxis": {
            "gridcolor": "white",
            "linecolor": "white",
            "ticks": ""
           }
          },
          "ternary": {
           "bgcolor": "#E5ECF6",
           "aaxis": {
            "gridcolor": "white",
            "linecolor": "white",
            "ticks": ""
           },
           "baxis": {
            "gridcolor": "white",
            "linecolor": "white",
            "ticks": ""
           },
           "caxis": {
            "gridcolor": "white",
            "linecolor": "white",
            "ticks": ""
           }
          },
          "coloraxis": {
           "colorbar": {
            "outlinewidth": 0,
            "ticks": ""
           }
          },
          "colorscale": {
           "sequential": [
            [
             0.0,
             "#0d0887"
            ],
            [
             0.1111111111111111,
             "#46039f"
            ],
            [
             0.2222222222222222,
             "#7201a8"
            ],
            [
             0.3333333333333333,
             "#9c179e"
            ],
            [
             0.4444444444444444,
             "#bd3786"
            ],
            [
             0.5555555555555556,
             "#d8576b"
            ],
            [
             0.6666666666666666,
             "#ed7953"
            ],
            [
             0.7777777777777778,
             "#fb9f3a"
            ],
            [
             0.8888888888888888,
             "#fdca26"
            ],
            [
             1.0,
             "#f0f921"
            ]
           ],
           "sequentialminus": [
            [
             0.0,
             "#0d0887"
            ],
            [
             0.1111111111111111,
             "#46039f"
            ],
            [
             0.2222222222222222,
             "#7201a8"
            ],
            [
             0.3333333333333333,
             "#9c179e"
            ],
            [
             0.4444444444444444,
             "#bd3786"
            ],
            [
             0.5555555555555556,
             "#d8576b"
            ],
            [
             0.6666666666666666,
             "#ed7953"
            ],
            [
             0.7777777777777778,
             "#fb9f3a"
            ],
            [
             0.8888888888888888,
             "#fdca26"
            ],
            [
             1.0,
             "#f0f921"
            ]
           ],
           "diverging": [
            [
             0,
             "#8e0152"
            ],
            [
             0.1,
             "#c51b7d"
            ],
            [
             0.2,
             "#de77ae"
            ],
            [
             0.3,
             "#f1b6da"
            ],
            [
             0.4,
             "#fde0ef"
            ],
            [
             0.5,
             "#f7f7f7"
            ],
            [
             0.6,
             "#e6f5d0"
            ],
            [
             0.7,
             "#b8e186"
            ],
            [
             0.8,
             "#7fbc41"
            ],
            [
             0.9,
             "#4d9221"
            ],
            [
             1,
             "#276419"
            ]
           ]
          },
          "xaxis": {
           "gridcolor": "white",
           "linecolor": "white",
           "ticks": "",
           "title": {
            "standoff": 15
           },
           "zerolinecolor": "white",
           "automargin": true,
           "zerolinewidth": 2
          },
          "yaxis": {
           "gridcolor": "white",
           "linecolor": "white",
           "ticks": "",
           "title": {
            "standoff": 15
           },
           "zerolinecolor": "white",
           "automargin": true,
           "zerolinewidth": 2
          },
          "scene": {
           "xaxis": {
            "backgroundcolor": "#E5ECF6",
            "gridcolor": "white",
            "linecolor": "white",
            "showbackground": true,
            "ticks": "",
            "zerolinecolor": "white",
            "gridwidth": 2
           },
           "yaxis": {
            "backgroundcolor": "#E5ECF6",
            "gridcolor": "white",
            "linecolor": "white",
            "showbackground": true,
            "ticks": "",
            "zerolinecolor": "white",
            "gridwidth": 2
           },
           "zaxis": {
            "backgroundcolor": "#E5ECF6",
            "gridcolor": "white",
            "linecolor": "white",
            "showbackground": true,
            "ticks": "",
            "zerolinecolor": "white",
            "gridwidth": 2
           }
          },
          "shapedefaults": {
           "line": {
            "color": "#2a3f5f"
           }
          },
          "annotationdefaults": {
           "arrowcolor": "#2a3f5f",
           "arrowhead": 0,
           "arrowwidth": 1
          },
          "geo": {
           "bgcolor": "white",
           "landcolor": "#E5ECF6",
           "subunitcolor": "white",
           "showland": true,
           "showlakes": true,
           "lakecolor": "white"
          },
          "title": {
           "x": 0.05
          },
          "mapbox": {
           "style": "light"
          }
         }
        },
        "xaxis": {
         "anchor": "y",
         "domain": [
          0.0,
          1.0
         ],
         "title": {
          "text": "TopSpeed(km/h)"
         }
        },
        "yaxis": {
         "anchor": "x",
         "domain": [
          0.0,
          1.0
         ],
         "title": {
          "text": "count"
         }
        },
        "legend": {
         "tracegroupgap": 0
        },
        "title": {
         "text": "Histogram of Top Speed"
        },
        "barmode": "relative"
       },
       "config": {
        "plotlyServerURL": "https://plot.ly"
       }
      }
     },
     "metadata": {},
     "output_type": "display_data"
    }
   ],
   "execution_count": 30
  },
  {
   "metadata": {},
   "cell_type": "markdown",
   "source": "#### 16 (Scatter Plot). Scatter Plot of Goals vs Minutes Played",
   "id": "4e2a609248dbc222"
  },
  {
   "metadata": {
    "ExecuteTime": {
     "end_time": "2025-06-15T11:40:10.246616Z",
     "start_time": "2025-06-15T11:40:10.103900Z"
    }
   },
   "cell_type": "code",
   "source": "sns.scatterplot(x='Minutes_played', y='Goals', hue='Position', data=ucl)",
   "id": "4e0ac5dbe19abc5b",
   "outputs": [
    {
     "data": {
      "text/plain": [
       "<Axes: xlabel='Minutes_played', ylabel='Goals'>"
      ]
     },
     "execution_count": 31,
     "metadata": {},
     "output_type": "execute_result"
    },
    {
     "data": {
      "text/plain": [
       "<Figure size 640x480 with 1 Axes>"
      ],
      "image/png": "[encoded data removed]"
     },
     "metadata": {},
     "output_type": "display_data"
    }
   ],
   "execution_count": 31
  },
  {
   "metadata": {
    "ExecuteTime": {
     "end_time": "2025-06-15T11:40:10.428184Z",
     "start_time": "2025-06-15T11:40:10.363296Z"
    }
   },
   "cell_type": "code",
   "source": "px.scatter(ucl, x='Minutes_played', y='Goals', color='Position', title='Goals vs Minutes Played by Player Position', hover_data=['Player', 'Team'])",
   "id": "4b81dac2037f5a42",
   "outputs": [
    {
     "data": {
      "application/vnd.plotly.v1+json": {
       "data": [
        {
         "customdata": [
          [
           "Theo Hernandez",
           "Milan"
          ],
          [
           "Van Dijk",
           "Liverpool FC"
          ],
          [
           "Otamendi",
           "Benfica"
          ],
          [
           "Johnston",
           "Celtic"
          ],
          [
           "Hakimi",
           "Paris SG"
          ],
          [
           "Frimpong",
           "Bayer Leverkusen"
          ],
          [
           "Rico Lewis",
           "Manchester City"
          ],
          [
           "Bensebaini",
           "BVB Dortmund"
          ],
          [
           "Federico Gatti",
           "Juventus"
          ],
          [
           "Dimarco",
           "Inter"
          ],
          [
           "Mauro Junior",
           "PSV Eindhoven"
          ],
          [
           "Raul Asencio",
           "Real Madrid"
          ],
          [
           "Kounde",
           "Barcelona"
          ],
          [
           "Ryan Flamingo",
           "PSV Eindhoven"
          ],
          [
           "Hincapie",
           "Bayer Leverkusen"
          ],
          [
           "Saliba",
           "Arsenal FC"
          ],
          [
           "Grimaldo",
           "Bayer Leverkusen"
          ],
          [
           "Ezri Konsa",
           "Aston Villa"
          ],
          [
           "Stefan de Vrij",
           "Inter"
          ],
          [
           "Jose Gimenez",
           "Atletico Madrid"
          ],
          [
           "Ryerson",
           "BVB Dortmund"
          ],
          [
           "Pavard",
           "Inter"
          ],
          [
           "Vanderson",
           "Monaco"
          ],
          [
           "Alphonso Davies",
           "Bayern Munich"
          ],
          [
           "Alexsandro Ribeiro",
           "Lille"
          ],
          [
           "Upamecano",
           "Bayern Munich"
          ],
          [
           "Alexander Bah",
           "Benfica"
          ],
          [
           "Inigo Martinez",
           "Barcelona"
          ],
          [
           "Maatsen",
           "Aston Villa"
          ],
          [
           "Jurrien Timber",
           "Arsenal FC"
          ],
          [
           "Manuel Akanji",
           "Manchester City"
          ],
          [
           "Schlotterbeck",
           "BVB Dortmund"
          ],
          [
           "Mukiele",
           "Bayer Leverkusen"
          ],
          [
           "De Cuyper",
           "Club Brugge"
          ],
          [
           "Sam Beukema",
           "Bologna"
          ],
          [
           "Kolasinac",
           "Atalanta BC"
          ],
          [
           "Youssouf Fofana",
           "Milan"
          ],
          [
           "Gabriel Magalhaes",
           "Arsenal FC"
          ],
          [
           "Gonçalo Inacio",
           "Sporting CP"
          ],
          [
           "Alvaro Carreras",
           "Benfica"
          ],
          [
           "Singo",
           "Monaco"
          ],
          [
           "Nuno Mendes",
           "Paris SG"
          ],
          [
           "Dumfries",
           "Inter"
          ],
          [
           "Minjae Kim",
           "Bayern Munich"
          ],
          [
           "Pacho",
           "Paris SG"
          ],
          [
           "Balde",
           "Barcelona"
          ],
          [
           "Francesco Acerbi",
           "Inter"
          ],
          [
           "Robertson",
           "Liverpool FC"
          ],
          [
           "Calafiori",
           "Arsenal FC"
          ],
          [
           "Marquinhos",
           "Paris SG"
          ],
          [
           "Bastoni",
           "Inter"
          ],
          [
           "Boscagli",
           "PSV Eindhoven"
          ],
          [
           "Waldemar Anton",
           "BVB Dortmund"
          ],
          [
           "Kossounou",
           "Atalanta BC"
          ],
          [
           "Marten de Roon",
           "Atalanta BC"
          ],
          [
           "Laimer",
           "Bayern Munich"
          ],
          [
           "Thomas Meunier",
           "Lille"
          ],
          [
           "Ibrahima Konate",
           "Liverpool FC"
          ],
          [
           "Kenny Lala",
           "Brest"
          ],
          [
           "Lucumi",
           "Bologna"
          ]
         ],
         "hovertemplate": "Position=Defender<br>Minutes_played=%{x}<br>Goals=%{y}<br>Player=%{customdata[0]}<br>Team=%{customdata[1]}<extra></extra>",
         "legendgroup": "Defender",
         "marker": {
          "color": "#636efa",
          "symbol": "circle"
         },
         "mode": "markers",
         "name": "Defender",
         "orientation": "v",
         "showlegend": true,
         "x": {
          "dtype": "i2",
          "bdata": "XQNIAzgERgMEBhwDfwLnAiEDOgI9A+wCUgRaAwYD3gNnA94DsALuArwDjQMNA7wChAPeA/QBvgN1AVQDhgI4BGgBNwSHAn8CIAMkA+gBhAP8AakFzgMyBAYGJAMCAycCrwGfBTYEkQNPAgsBagMNA2kCiQLQAhMC"
         },
         "xaxis": "x",
         "y": {
          "dtype": "i1",
          "bdata": "AAEBAAQAAAIAAAAAAAMBAAIBAAEAAQACAAABAgEBAAABAQABAAEBAAIEAgEAAAEAAQAAAAAAAAEAAQAB"
         },
         "yaxis": "y",
         "type": "scatter"
        },
        {
         "customdata": [
          [
           "Nicolo Barella",
           "Inter"
          ],
          [
           "Odegaard",
           "Arsenal FC"
          ],
          [
           "Hans Vanaken",
           "Club Brugge"
          ],
          [
           "Fabian Ruiz",
           "Paris SG"
          ],
          [
           "Joey Veerman",
           "PSV Eindhoven"
          ],
          [
           "Florentino",
           "Benfica"
          ],
          [
           "Szoboszlai",
           "Liverpool FC"
          ],
          [
           "John McGinn",
           "Aston Villa"
          ],
          [
           "Calhanoglu",
           "Inter"
          ],
          [
           "Tijjani Reijnders",
           "Milan"
          ],
          [
           "Aursnes",
           "Benfica"
          ],
          [
           "Charles Ketelaere",
           "Atalanta BC"
          ],
          [
           "Vitinha",
           "Paris SG"
          ],
          [
           "Pedri",
           "Barcelona"
          ],
          [
           "Otar Kiteishvili",
           "Sturm Graz"
          ],
          [
           "Leon Goretzka",
           "Bayern Munich"
          ],
          [
           "Modric",
           "Real Madrid"
          ],
          [
           "Felix Nmecha",
           "BVB Dortmund"
          ],
          [
           "Pascal Gross",
           "BVB Dortmund"
          ],
          [
           "Emre Can",
           "BVB Dortmund"
          ],
          [
           "Ederson",
           "Atalanta BC"
          ],
          [
           "Jacob Ramsey",
           "Aston Villa"
          ],
          [
           "Mkhitaryan",
           "Inter"
          ],
          [
           "Gundogan",
           "Manchester City"
          ],
          [
           "Mario Pasalic",
           "Atalanta BC"
          ],
          [
           "Benjamin Andre",
           "Lille"
          ],
          [
           "Orkun Kökcü",
           "Benfica"
          ],
          [
           "De Paul",
           "Atletico Madrid"
          ],
          [
           "Dani Olmo",
           "Barcelona"
          ],
          [
           "Zappacosta",
           "Atalanta BC"
          ],
          [
           "Reo Hatate",
           "Celtic"
          ],
          [
           "Lamine Camara",
           "Monaco"
          ],
          [
           "Ismael Saibari",
           "PSV Eindhoven"
          ],
          [
           "Tchouameni",
           "Real Madrid"
          ],
          [
           "Youri Tielemans",
           "Aston Villa"
          ],
          [
           "Mikel Merino",
           "Arsenal FC"
          ],
          [
           "Angelo Stiller",
           "VfB Stuttgart"
          ],
          [
           "Georgiy Sudakov",
           "Shakhtar Donetsk"
          ],
          [
           "Arne Engels",
           "Celtic"
          ],
          [
           "Casado",
           "Barcelona"
          ],
          [
           "Julian Brandt",
           "BVB Dortmund"
          ],
          [
           "Granit Xhaka",
           "Bayer Leverkusen"
          ],
          [
           "Tillman",
           "PSV Eindhoven"
          ],
          [
           "Callum McGregor",
           "Celtic"
          ],
          [
           "Hjulmand",
           "Sporting CP"
          ],
          [
           "Kimmich",
           "Bayern Munich"
          ],
          [
           "Partey",
           "Arsenal FC"
          ],
          [
           "Llorente",
           "Atletico Madrid"
          ],
          [
           "Mac Allister",
           "Liverpool FC"
          ],
          [
           "Joao Neves",
           "Paris SG"
          ],
          [
           "Declan Rice",
           "Arsenal FC"
          ],
          [
           "Fermin Lopez",
           "Barcelona"
          ],
          [
           "Florian Wirtz",
           "Bayer Leverkusen"
          ],
          [
           "Enzo Millot",
           "VfB Stuttgart"
          ],
          [
           "Baturina",
           "Dinamo Zagreb"
          ],
          [
           "Jashari",
           "Club Brugge"
          ],
          [
           "Rogers",
           "Aston Villa"
          ],
          [
           "Milambo",
           "Feyenoord"
          ],
          [
           "Matheus Nunes",
           "Manchester City"
          ],
          [
           "Valverde",
           "Real Madrid"
          ],
          [
           "Gravenberch",
           "Liverpool FC"
          ],
          [
           "Golovin",
           "Monaco"
          ],
          [
           "Quinten Timber",
           "Feyenoord"
          ],
          [
           "Cabella",
           "Lille"
          ],
          [
           "Locatelli",
           "Juventus"
          ],
          [
           "Palacios",
           "Bayer Leverkusen"
          ]
         ],
         "hovertemplate": "Position=Midfielder<br>Minutes_played=%{x}<br>Goals=%{y}<br>Player=%{customdata[0]}<br>Team=%{customdata[1]}<extra></extra>",
         "legendgroup": "Midfielder",
         "marker": {
          "color": "#EF553B",
          "symbol": "circle"
         },
         "mode": "markers",
         "name": "Midfielder",
         "orientation": "v",
         "showlegend": true,
         "x": {
          "dtype": "i2",
          "bdata": "4gMeAzgEfwQhAs0CfQLjAkMDZgPeA74CqAVdBGgCRwOHAmsClgOsA+MCiAFYAwwCXgIqA+MD7AK4AbsCFANiAtgCIAMWBDIDtwK+AtkCdwJ0AzMDFgKEA/0C7ASDA7UCogKbBe0DwwH9ArICcQK3AwEE/QITAtQEEANBAlUChAGhApoC"
         },
         "xaxis": "x",
         "y": {
          "dtype": "i1",
          "bdata": "AAMBAQAAAQMEAwAEAgABAQABAQIBAQACAwAEAAIAAQADAAICAQIBAAAAAwAAAAACAgEEAQYCAgAEAwEAAAAAAQAA"
         },
         "yaxis": "y",
         "type": "scatter"
        },
        {
         "customdata": [
          [
           "Lewandowski",
           "Barcelona"
          ],
          [
           "Raphinha",
           "Barcelona"
          ],
          [
           "Jude Bellingham",
           "Real Madrid"
          ],
          [
           "Brahim Diaz",
           "Real Madrid"
          ],
          [
           "Lino",
           "Atletico Madrid"
          ],
          [
           "Johan Bakayoko",
           "PSV Eindhoven"
          ],
          [
           "Pulisic",
           "Milan"
          ],
          [
           "Yamal",
           "Barcelona"
          ],
          [
           "Kylian Mbappe",
           "Real Madrid"
          ],
          [
           "Kai Havertz",
           "Arsenal FC"
          ],
          [
           "Kuhn",
           "Celtic"
          ],
          [
           "Kvaratskhelia",
           "Paris SG"
          ],
          [
           "Martinelli",
           "Arsenal FC"
          ],
          [
           "Noa Lang",
           "PSV Eindhoven"
          ],
          [
           "Vinicius Jr",
           "Real Madrid"
          ],
          [
           "Julian Alvarez",
           "Atletico Madrid"
          ],
          [
           "Christos Tzolis",
           "Club Brugge"
          ],
          [
           "Taremi",
           "Inter"
          ],
          [
           "Griezmann",
           "Atletico Madrid"
          ],
          [
           "Santiago Gimenez",
           "Milan"
          ],
          [
           "Pavlidis",
           "Benfica"
          ],
          [
           "Phil Foden",
           "Manchester City"
          ],
          [
           "Lautaro Martinez",
           "Inter"
          ],
          [
           "Di Maria",
           "Benfica"
          ],
          [
           "Benjamin Sesko",
           "Leipzig"
          ],
          [
           "Minamino",
           "Monaco"
          ],
          [
           "Gakpo",
           "Liverpool FC"
          ],
          [
           "Dembele",
           "Paris SG"
          ],
          [
           "Embolo",
           "Monaco"
          ],
          [
           "Quenda",
           "Sporting CP"
          ],
          [
           "Barcola",
           "Paris SG"
          ],
          [
           "Trincao",
           "Sporting CP"
          ],
          [
           "Rafael Leao",
           "Milan"
          ],
          [
           "Bukayo Saka",
           "Arsenal FC"
          ],
          [
           "Kenan Yildiz",
           "Juventus"
          ],
          [
           "Desire Doue",
           "Paris SG"
          ],
          [
           "Adeyemi",
           "BVB Dortmund"
          ],
          [
           "Igor Paixao",
           "Feyenoord"
          ],
          [
           "Maghnes Akliouche",
           "Monaco"
          ],
          [
           "Savinho",
           "Manchester City"
          ],
          [
           "Giuliano Simeone",
           "Atletico Madrid"
          ],
          [
           "Akturkoglu",
           "Benfica"
          ],
          [
           "Salah",
           "Liverpool FC"
          ],
          [
           "Guirassy",
           "BVB Dortmund"
          ],
          [
           "Luuk de Jong",
           "PSV Eindhoven"
          ],
          [
           "Rodrygo",
           "Real Madrid"
          ],
          [
           "Conceiçao",
           "Juventus"
          ],
          [
           "Harry Kane",
           "Bayern Munich"
          ],
          [
           "Viktor Gyokeres",
           "Sporting CP"
          ],
          [
           "Thuram",
           "Inter"
          ],
          [
           "Lookman",
           "Atalanta BC"
          ],
          [
           "Jonathan David",
           "Lille"
          ],
          [
           "Ferran Torres",
           "Barcelona"
          ],
          [
           "Gittens",
           "BVB Dortmund"
          ],
          [
           "Marcus Rashford",
           "Aston Villa"
          ],
          [
           "Jamal Musiala",
           "Bayern Munich"
          ],
          [
           "Olise",
           "Bayern Munich"
          ],
          [
           "Thomas Muller",
           "Bayern Munich"
          ],
          [
           "Haaland",
           "Manchester City"
          ],
          [
           "Lucas Vazquez",
           "Real Madrid"
          ],
          [
           "Dan Ndoye",
           "Bologna"
          ],
          [
           "Luis Diaz",
           "Liverpool FC"
          ],
          [
           "Ivan Perisic",
           "PSV Eindhoven"
          ],
          [
           "Kevin",
           "Shakhtar Donetsk"
          ]
         ],
         "hovertemplate": "Position=Forward<br>Minutes_played=%{x}<br>Goals=%{y}<br>Player=%{customdata[0]}<br>Team=%{customdata[1]}<extra></extra>",
         "legendgroup": "Forward",
         "marker": {
          "color": "#00cc96",
          "symbol": "circle"
         },
         "mode": "markers",
         "name": "Forward",
         "orientation": "v",
         "showlegend": true,
         "x": {
          "dtype": "i2",
          "bdata": "2QPJBHAE3wGbAVwDeAJNBGwEMAIYA98CpwOuAlAEFgOrA8sC3ALBAYkDsQJZAyMCCgI5AnEBiwTuAtICSAQXAx0D+wKcAuYCtAKZAycDQgI7AlUDKAM8BIkDcANeAmAEXgK5A+MB6gKlAVADNQFiAwkEcgEDAz8CawJ5Ak0BzAE="
         },
         "xaxis": "x",
         "y": {
          "dtype": "i1",
          "bdata": "Cw0DAgACBAUHBAMDAgIIBwEBBgYHAwkBBAMDCAEAAwADBgEFBQICAQEEAw0CBQELBgQFBwMEAAMFAwgBAAMDAg=="
         },
         "yaxis": "y",
         "type": "scatter"
        },
        {
         "customdata": [
          [
           "Marco Bizot",
           "Brest"
          ],
          [
           "Chevalier",
           "Lille"
          ],
          [
           "Courtois",
           "Real Madrid"
          ],
          [
           "Mike Maignan",
           "Milan"
          ],
          [
           "Alisson Becker",
           "Liverpool FC"
          ],
          [
           "David Raya",
           "Arsenal FC"
          ],
          [
           "Carnesecchi",
           "Atalanta BC"
          ],
          [
           "Wellenreuther ",
           "Feyenoord"
          ],
          [
           "Donnarumma",
           "Paris SG"
          ],
          [
           "Yann Sommer",
           "Inter"
          ],
          [
           "Di Gregorio",
           "Juventus"
          ],
          [
           "Jan Oblak",
           "Atletico Madrid"
          ],
          [
           "Riznyk",
           "Shakhtar Donetsk"
          ],
          [
           "Emiliano Martinez",
           "Aston Villa"
          ],
          [
           "Szczesny",
           "Barcelona"
          ],
          [
           "Mignolet",
           "Club Brugge"
          ],
          [
           "Franco Israel",
           "Sporting CP"
          ],
          [
           "Skorupski",
           "Bologna"
          ],
          [
           "Schmeichel",
           "Celtic"
          ],
          [
           "Gazzaniga",
           "Girona"
          ]
         ],
         "hovertemplate": "Position=Goalkeeper<br>Minutes_played=%{x}<br>Goals=%{y}<br>Player=%{customdata[0]}<br>Team=%{customdata[1]}<extra></extra>",
         "legendgroup": "Goalkeeper",
         "marker": {
          "color": "#ab63fa",
          "symbol": "circle"
         },
         "mode": "markers",
         "name": "Goalkeeper",
         "orientation": "v",
         "showlegend": true,
         "x": {
          "dtype": "i2",
          "bdata": "KgOEA1YEXQM6ApIEKgO7A2QFCgXPAqID0AI4BO4COATQAnYChAN2Ag=="
         },
         "xaxis": "x",
         "y": {
          "dtype": "i1",
          "bdata": "AAAAAAAAAAAAAAAAAAAAAAAAAAA="
         },
         "yaxis": "y",
         "type": "scatter"
        }
       ],
       "layout": {
        "template": {
         "data": {
          "histogram2dcontour": [
           {
            "type": "histogram2dcontour",
            "colorbar": {
             "outlinewidth": 0,
             "ticks": ""
            },
            "colorscale": [
             [
              0.0,
              "#0d0887"
             ],
             [
              0.1111111111111111,
              "#46039f"
             ],
             [
              0.2222222222222222,
              "#7201a8"
             ],
             [
              0.3333333333333333,
              "#9c179e"
             ],
             [
              0.4444444444444444,
              "#bd3786"
             ],
             [
              0.5555555555555556,
              "#d8576b"
             ],
             [
              0.6666666666666666,
              "#ed7953"
             ],
             [
              0.7777777777777778,
              "#fb9f3a"
             ],
             [
              0.8888888888888888,
              "#fdca26"
             ],
             [
              1.0,
              "#f0f921"
             ]
            ]
           }
          ],
          "choropleth": [
           {
            "type": "choropleth",
            "colorbar": {
             "outlinewidth": 0,
             "ticks": ""
            }
           }
          ],
          "histogram2d": [
           {
            "type": "histogram2d",
            "colorbar": {
             "outlinewidth": 0,
             "ticks": ""
            },
            "colorscale": [
             [
              0.0,
              "#0d0887"
             ],
             [
              0.1111111111111111,
              "#46039f"
             ],
             [
              0.2222222222222222,
              "#7201a8"
             ],
             [
              0.3333333333333333,
              "#9c179e"
             ],
             [
              0.4444444444444444,
              "#bd3786"
             ],
             [
              0.5555555555555556,
              "#d8576b"
             ],
             [
              0.6666666666666666,
              "#ed7953"
             ],
             [
              0.7777777777777778,
              "#fb9f3a"
             ],
             [
              0.8888888888888888,
              "#fdca26"
             ],
             [
              1.0,
              "#f0f921"
             ]
            ]
           }
          ],
          "heatmap": [
           {
            "type": "heatmap",
            "colorbar": {
             "outlinewidth": 0,
             "ticks": ""
            },
            "colorscale": [
             [
              0.0,
              "#0d0887"
             ],
             [
              0.1111111111111111,
              "#46039f"
             ],
             [
              0.2222222222222222,
              "#7201a8"
             ],
             [
              0.3333333333333333,
              "#9c179e"
             ],
             [
              0.4444444444444444,
              "#bd3786"
             ],
             [
              0.5555555555555556,
              "#d8576b"
             ],
             [
              0.6666666666666666,
              "#ed7953"
             ],
             [
              0.7777777777777778,
              "#fb9f3a"
             ],
             [
              0.8888888888888888,
              "#fdca26"
             ],
             [
              1.0,
              "#f0f921"
             ]
            ]
           }
          ],
          "contourcarpet": [
           {
            "type": "contourcarpet",
            "colorbar": {
             "outlinewidth": 0,
             "ticks": ""
            }
           }
          ],
          "contour": [
           {
            "type": "contour",
            "colorbar": {
             "outlinewidth": 0,
             "ticks": ""
            },
            "colorscale": [
             [
              0.0,
              "#0d0887"
             ],
             [
              0.1111111111111111,
              "#46039f"
             ],
             [
              0.2222222222222222,
              "#7201a8"
             ],
             [
              0.3333333333333333,
              "#9c179e"
             ],
             [
              0.4444444444444444,
              "#bd3786"
             ],
             [
              0.5555555555555556,
              "#d8576b"
             ],
             [
              0.6666666666666666,
              "#ed7953"
             ],
             [
              0.7777777777777778,
              "#fb9f3a"
             ],
             [
              0.8888888888888888,
              "#fdca26"
             ],
             [
              1.0,
              "#f0f921"
             ]
            ]
           }
          ],
          "surface": [
           {
            "type": "surface",
            "colorbar": {
             "outlinewidth": 0,
             "ticks": ""
            },
            "colorscale": [
             [
              0.0,
              "#0d0887"
             ],
             [
              0.1111111111111111,
              "#46039f"
             ],
             [
              0.2222222222222222,
              "#7201a8"
             ],
             [
              0.3333333333333333,
              "#9c179e"
             ],
             [
              0.4444444444444444,
              "#bd3786"
             ],
             [
              0.5555555555555556,
              "#d8576b"
             ],
             [
              0.6666666666666666,
              "#ed7953"
             ],
             [
              0.7777777777777778,
              "#fb9f3a"
             ],
             [
              0.8888888888888888,
              "#fdca26"
             ],
             [
              1.0,
              "#f0f921"
             ]
            ]
           }
          ],
          "mesh3d": [
           {
            "type": "mesh3d",
            "colorbar": {
             "outlinewidth": 0,
             "ticks": ""
            }
           }
          ],
          "scatter": [
           {
            "fillpattern": {
             "fillmode": "overlay",
             "size": 10,
             "solidity": 0.2
            },
            "type": "scatter"
           }
          ],
          "parcoords": [
           {
            "type": "parcoords",
            "line": {
             "colorbar": {
              "outlinewidth": 0,
              "ticks": ""
             }
            }
           }
          ],
          "scatterpolargl": [
           {
            "type": "scatterpolargl",
            "marker": {
             "colorbar": {
              "outlinewidth": 0,
              "ticks": ""
             }
            }
           }
          ],
          "bar": [
           {
            "error_x": {
             "color": "#2a3f5f"
            },
            "error_y": {
             "color": "#2a3f5f"
            },
            "marker": {
             "line": {
              "color": "#E5ECF6",
              "width": 0.5
             },
             "pattern": {
              "fillmode": "overlay",
              "size": 10,
              "solidity": 0.2
             }
            },
            "type": "bar"
           }
          ],
          "scattergeo": [
           {
            "type": "scattergeo",
            "marker": {
             "colorbar": {
              "outlinewidth": 0,
              "ticks": ""
             }
            }
           }
          ],
          "scatterpolar": [
           {
            "type": "scatterpolar",
            "marker": {
             "colorbar": {
              "outlinewidth": 0,
              "ticks": ""
             }
            }
           }
          ],
          "histogram": [
           {
            "marker": {
             "pattern": {
              "fillmode": "overlay",
              "size": 10,
              "solidity": 0.2
             }
            },
            "type": "histogram"
           }
          ],
          "scattergl": [
           {
            "type": "scattergl",
            "marker": {
             "colorbar": {
              "outlinewidth": 0,
              "ticks": ""
             }
            }
           }
          ],
          "scatter3d": [
           {
            "type": "scatter3d",
            "line": {
             "colorbar": {
              "outlinewidth": 0,
              "ticks": ""
             }
            },
            "marker": {
             "colorbar": {
              "outlinewidth": 0,
              "ticks": ""
             }
            }
           }
          ],
          "scattermap": [
           {
            "type": "scattermap",
            "marker": {
             "colorbar": {
              "outlinewidth": 0,
              "ticks": ""
             }
            }
           }
          ],
          "scattermapbox": [
           {
            "type": "scattermapbox",
            "marker": {
             "colorbar": {
              "outlinewidth": 0,
              "ticks": ""
             }
            }
           }
          ],
          "scatterternary": [
           {
            "type": "scatterternary",
            "marker": {
             "colorbar": {
              "outlinewidth": 0,
              "ticks": ""
             }
            }
           }
          ],
          "scattercarpet": [
           {
            "type": "scattercarpet",
            "marker": {
             "colorbar": {
              "outlinewidth": 0,
              "ticks": ""
             }
            }
           }
          ],
          "carpet": [
           {
            "aaxis": {
             "endlinecolor": "#2a3f5f",
             "gridcolor": "white",
             "linecolor": "white",
             "minorgridcolor": "white",
             "startlinecolor": "#2a3f5f"
            },
            "baxis": {
             "endlinecolor": "#2a3f5f",
             "gridcolor": "white",
             "linecolor": "white",
             "minorgridcolor": "white",
             "startlinecolor": "#2a3f5f"
            },
            "type": "carpet"
           }
          ],
          "table": [
           {
            "cells": {
             "fill": {
              "color": "#EBF0F8"
             },
             "line": {
              "color": "white"
             }
            },
            "header": {
             "fill": {
              "color": "#C8D4E3"
             },
             "line": {
              "color": "white"
             }
            },
            "type": "table"
           }
          ],
          "barpolar": [
           {
            "marker": {
             "line": {
              "color": "#E5ECF6",
              "width": 0.5
             },
             "pattern": {
              "fillmode": "overlay",
              "size": 10,
              "solidity": 0.2
             }
            },
            "type": "barpolar"
           }
          ],
          "pie": [
           {
            "automargin": true,
            "type": "pie"
           }
          ]
         },
         "layout": {
          "autotypenumbers": "strict",
          "colorway": [
           "#636efa",
           "#EF553B",
           "#00cc96",
           "#ab63fa",
           "#FFA15A",
           "#19d3f3",
           "#FF6692",
           "#B6E880",
           "#FF97FF",
           "#FECB52"
          ],
          "font": {
           "color": "#2a3f5f"
          },
          "hovermode": "closest",
          "hoverlabel": {
           "align": "left"
          },
          "paper_bgcolor": "white",
          "plot_bgcolor": "#E5ECF6",
          "polar": {
           "bgcolor": "#E5ECF6",
           "angularaxis": {
            "gridcolor": "white",
            "linecolor": "white",
            "ticks": ""
           },
           "radialaxis": {
            "gridcolor": "white",
            "linecolor": "white",
            "ticks": ""
           }
          },
          "ternary": {
           "bgcolor": "#E5ECF6",
           "aaxis": {
            "gridcolor": "white",
            "linecolor": "white",
            "ticks": ""
           },
           "baxis": {
            "gridcolor": "white",
            "linecolor": "white",
            "ticks": ""
           },
           "caxis": {
            "gridcolor": "white",
            "linecolor": "white",
            "ticks": ""
           }
          },
          "coloraxis": {
           "colorbar": {
            "outlinewidth": 0,
            "ticks": ""
           }
          },
          "colorscale": {
           "sequential": [
            [
             0.0,
             "#0d0887"
            ],
            [
             0.1111111111111111,
             "#46039f"
            ],
            [
             0.2222222222222222,
             "#7201a8"
            ],
            [
             0.3333333333333333,
             "#9c179e"
            ],
            [
             0.4444444444444444,
             "#bd3786"
            ],
            [
             0.5555555555555556,
             "#d8576b"
            ],
            [
             0.6666666666666666,
             "#ed7953"
            ],
            [
             0.7777777777777778,
             "#fb9f3a"
            ],
            [
             0.8888888888888888,
             "#fdca26"
            ],
            [
             1.0,
             "#f0f921"
            ]
           ],
           "sequentialminus": [
            [
             0.0,
             "#0d0887"
            ],
            [
             0.1111111111111111,
             "#46039f"
            ],
            [
             0.2222222222222222,
             "#7201a8"
            ],
            [
             0.3333333333333333,
             "#9c179e"
            ],
            [
             0.4444444444444444,
             "#bd3786"
            ],
            [
             0.5555555555555556,
             "#d8576b"
            ],
            [
             0.6666666666666666,
             "#ed7953"
            ],
            [
             0.7777777777777778,
             "#fb9f3a"
            ],
            [
             0.8888888888888888,
             "#fdca26"
            ],
            [
             1.0,
             "#f0f921"
            ]
           ],
           "diverging": [
            [
             0,
             "#8e0152"
            ],
            [
             0.1,
             "#c51b7d"
            ],
            [
             0.2,
             "#de77ae"
            ],
            [
             0.3,
             "#f1b6da"
            ],
            [
             0.4,
             "#fde0ef"
            ],
            [
             0.5,
             "#f7f7f7"
            ],
            [
             0.6,
             "#e6f5d0"
            ],
            [
             0.7,
             "#b8e186"
            ],
            [
             0.8,
             "#7fbc41"
            ],
            [
             0.9,
             "#4d9221"
            ],
            [
             1,
             "#276419"
            ]
           ]
          },
          "xaxis": {
           "gridcolor": "white",
           "linecolor": "white",
           "ticks": "",
           "title": {
            "standoff": 15
           },
           "zerolinecolor": "white",
           "automargin": true,
           "zerolinewidth": 2
          },
          "yaxis": {
           "gridcolor": "white",
           "linecolor": "white",
           "ticks": "",
           "title": {
            "standoff": 15
           },
           "zerolinecolor": "white",
           "automargin": true,
           "zerolinewidth": 2
          },
          "scene": {
           "xaxis": {
            "backgroundcolor": "#E5ECF6",
            "gridcolor": "white",
            "linecolor": "white",
            "showbackground": true,
            "ticks": "",
            "zerolinecolor": "white",
            "gridwidth": 2
           },
           "yaxis": {
            "backgroundcolor": "#E5ECF6",
            "gridcolor": "white",
            "linecolor": "white",
            "showbackground": true,
            "ticks": "",
            "zerolinecolor": "white",
            "gridwidth": 2
           },
           "zaxis": {
            "backgroundcolor": "#E5ECF6",
            "gridcolor": "white",
            "linecolor": "white",
            "showbackground": true,
            "ticks": "",
            "zerolinecolor": "white",
            "gridwidth": 2
           }
          },
          "shapedefaults": {
           "line": {
            "color": "#2a3f5f"
           }
          },
          "annotationdefaults": {
           "arrowcolor": "#2a3f5f",
           "arrowhead": 0,
           "arrowwidth": 1
          },
          "geo": {
           "bgcolor": "white",
           "landcolor": "#E5ECF6",
           "subunitcolor": "white",
           "showland": true,
           "showlakes": true,
           "lakecolor": "white"
          },
          "title": {
           "x": 0.05
          },
          "mapbox": {
           "style": "light"
          }
         }
        },
        "xaxis": {
         "anchor": "y",
         "domain": [
          0.0,
          1.0
         ],
         "title": {
          "text": "Minutes_played"
         }
        },
        "yaxis": {
         "anchor": "x",
         "domain": [
          0.0,
          1.0
         ],
         "title": {
          "text": "Goals"
         }
        },
        "legend": {
         "title": {
          "text": "Position"
         },
         "tracegroupgap": 0
        },
        "title": {
         "text": "Goals vs Minutes Played by Player Position"
        }
       },
       "config": {
        "plotlyServerURL": "https://plot.ly"
       }
      }
     },
     "metadata": {},
     "output_type": "display_data"
    }
   ],
   "execution_count": 32
  },
  {
   "metadata": {},
   "cell_type": "markdown",
   "source": "#### 17 (Bar chart). Top MOTM Awards Winners in Champions League 2025\n",
   "id": "23bea49a477d785e"
  },
  {
   "metadata": {
    "ExecuteTime": {
     "end_time": "2025-06-15T11:40:10.484948Z",
     "start_time": "2025-06-15T11:40:10.477802Z"
    }
   },
   "cell_type": "code",
   "source": "top_motm_rating = ucl[['Player', 'Team', 'MOTM_Awards','Rating']].sort_values(by='MOTM_Awards', ascending=False).head(10)",
   "id": "e837f6269651e2d8",
   "outputs": [],
   "execution_count": 33
  },
  {
   "metadata": {
    "ExecuteTime": {
     "end_time": "2025-06-15T11:40:10.594698Z",
     "start_time": "2025-06-15T11:40:10.542919Z"
    }
   },
   "cell_type": "code",
   "source": "px.bar(top_motm_rating, x='Player', y='MOTM_Awards', color='MOTM_Awards', title='Top MOTM Awards Winners', text='Rating', hover_name='Team')",
   "id": "5161774934c57003",
   "outputs": [
    {
     "data": {
      "application/vnd.plotly.v1+json": {
       "data": [
        {
         "hovertemplate": "<b>%{hovertext}</b><br><br>Player=%{x}<br>MOTM_Awards=%{marker.color}<br>Rating=%{text}<extra></extra>",
         "hovertext": [
          "Inter",
          "Barcelona",
          "Atletico Madrid",
          "Real Madrid",
          "Atletico Madrid",
          "Paris SG",
          "Bayern Munich",
          "BVB Dortmund",
          "Milan",
          "Paris SG"
         ],
         "legendgroup": "",
         "marker": {
          "color": {
           "dtype": "i1",
           "bdata": "BAMDAwMDAwMDAg=="
          },
          "coloraxis": "coloraxis",
          "pattern": {
           "shape": ""
          }
         },
         "name": "",
         "orientation": "v",
         "showlegend": false,
         "text": {
          "dtype": "f8",
          "bdata": "rkfhehSuHUAfhetRuJ4gQGZmZmZmZh9AKVyPwvUoH0BmZmZmZmYeQFyPwvUoXB5AexSuR+F6H0AzMzMzMzMfQOF6FK5H4RxAexSuR+F6H0A="
         },
         "textposition": "auto",
         "x": [
          "Lautaro Martinez",
          "Raphinha",
          "Griezmann",
          "Vinicius Jr",
          "Julian Alvarez",
          "Vitinha",
          "Harry Kane",
          "Guirassy",
          "Rafael Leao",
          "Hakimi"
         ],
         "xaxis": "x",
         "y": {
          "dtype": "i1",
          "bdata": "BAMDAwMDAwMDAg=="
         },
         "yaxis": "y",
         "type": "bar"
        }
       ],
       "layout": {
        "template": {
         "data": {
          "histogram2dcontour": [
           {
            "type": "histogram2dcontour",
            "colorbar": {
             "outlinewidth": 0,
             "ticks": ""
            },
            "colorscale": [
             [
              0.0,
              "#0d0887"
             ],
             [
              0.1111111111111111,
              "#46039f"
             ],
             [
              0.2222222222222222,
              "#7201a8"
             ],
             [
              0.3333333333333333,
              "#9c179e"
             ],
             [
              0.4444444444444444,
              "#bd3786"
             ],
             [
              0.5555555555555556,
              "#d8576b"
             ],
             [
              0.6666666666666666,
              "#ed7953"
             ],
             [
              0.7777777777777778,
              "#fb9f3a"
             ],
             [
              0.8888888888888888,
              "#fdca26"
             ],
             [
              1.0,
              "#f0f921"
             ]
            ]
           }
          ],
          "choropleth": [
           {
            "type": "choropleth",
            "colorbar": {
             "outlinewidth": 0,
             "ticks": ""
            }
           }
          ],
          "histogram2d": [
           {
            "type": "histogram2d",
            "colorbar": {
             "outlinewidth": 0,
             "ticks": ""
            },
            "colorscale": [
             [
              0.0,
              "#0d0887"
             ],
             [
              0.1111111111111111,
              "#46039f"
             ],
             [
              0.2222222222222222,
              "#7201a8"
             ],
             [
              0.3333333333333333,
              "#9c179e"
             ],
             [
              0.4444444444444444,
              "#bd3786"
             ],
             [
              0.5555555555555556,
              "#d8576b"
             ],
             [
              0.6666666666666666,
              "#ed7953"
             ],
             [
              0.7777777777777778,
              "#fb9f3a"
             ],
             [
              0.8888888888888888,
              "#fdca26"
             ],
             [
              1.0,
              "#f0f921"
             ]
            ]
           }
          ],
          "heatmap": [
           {
            "type": "heatmap",
            "colorbar": {
             "outlinewidth": 0,
             "ticks": ""
            },
            "colorscale": [
             [
              0.0,
              "#0d0887"
             ],
             [
              0.1111111111111111,
              "#46039f"
             ],
             [
              0.2222222222222222,
              "#7201a8"
             ],
             [
              0.3333333333333333,
              "#9c179e"
             ],
             [
              0.4444444444444444,
              "#bd3786"
             ],
             [
              0.5555555555555556,
              "#d8576b"
             ],
             [
              0.6666666666666666,
              "#ed7953"
             ],
             [
              0.7777777777777778,
              "#fb9f3a"
             ],
             [
              0.8888888888888888,
              "#fdca26"
             ],
             [
              1.0,
              "#f0f921"
             ]
            ]
           }
          ],
          "contourcarpet": [
           {
            "type": "contourcarpet",
            "colorbar": {
             "outlinewidth": 0,
             "ticks": ""
            }
           }
          ],
          "contour": [
           {
            "type": "contour",
            "colorbar": {
             "outlinewidth": 0,
             "ticks": ""
            },
            "colorscale": [
             [
              0.0,
              "#0d0887"
             ],
             [
              0.1111111111111111,
              "#46039f"
             ],
             [
              0.2222222222222222,
              "#7201a8"
             ],
             [
              0.3333333333333333,
              "#9c179e"
             ],
             [
              0.4444444444444444,
              "#bd3786"
             ],
             [
              0.5555555555555556,
              "#d8576b"
             ],
             [
              0.6666666666666666,
              "#ed7953"
             ],
             [
              0.7777777777777778,
              "#fb9f3a"
             ],
             [
              0.8888888888888888,
              "#fdca26"
             ],
             [
              1.0,
              "#f0f921"
             ]
            ]
           }
          ],
          "surface": [
           {
            "type": "surface",
            "colorbar": {
             "outlinewidth": 0,
             "ticks": ""
            },
            "colorscale": [
             [
              0.0,
              "#0d0887"
             ],
             [
              0.1111111111111111,
              "#46039f"
             ],
             [
              0.2222222222222222,
              "#7201a8"
             ],
             [
              0.3333333333333333,
              "#9c179e"
             ],
             [
              0.4444444444444444,
              "#bd3786"
             ],
             [
              0.5555555555555556,
              "#d8576b"
             ],
             [
              0.6666666666666666,
              "#ed7953"
             ],
             [
              0.7777777777777778,
              "#fb9f3a"
             ],
             [
              0.8888888888888888,
              "#fdca26"
             ],
             [
              1.0,
              "#f0f921"
             ]
            ]
           }
          ],
          "mesh3d": [
           {
            "type": "mesh3d",
            "colorbar": {
             "outlinewidth": 0,
             "ticks": ""
            }
           }
          ],
          "scatter": [
           {
            "fillpattern": {
             "fillmode": "overlay",
             "size": 10,
             "solidity": 0.2
            },
            "type": "scatter"
           }
          ],
          "parcoords": [
           {
            "type": "parcoords",
            "line": {
             "colorbar": {
              "outlinewidth": 0,
              "ticks": ""
             }
            }
           }
          ],
          "scatterpolargl": [
           {
            "type": "scatterpolargl",
            "marker": {
             "colorbar": {
              "outlinewidth": 0,
              "ticks": ""
             }
            }
           }
          ],
          "bar": [
           {
            "error_x": {
             "color": "#2a3f5f"
            },
            "error_y": {
             "color": "#2a3f5f"
            },
            "marker": {
             "line": {
              "color": "#E5ECF6",
              "width": 0.5
             },
             "pattern": {
              "fillmode": "overlay",
              "size": 10,
              "solidity": 0.2
             }
            },
            "type": "bar"
           }
          ],
          "scattergeo": [
           {
            "type": "scattergeo",
            "marker": {
             "colorbar": {
              "outlinewidth": 0,
              "ticks": ""
             }
            }
           }
          ],
          "scatterpolar": [
           {
            "type": "scatterpolar",
            "marker": {
             "colorbar": {
              "outlinewidth": 0,
              "ticks": ""
             }
            }
           }
          ],
          "histogram": [
           {
            "marker": {
             "pattern": {
              "fillmode": "overlay",
              "size": 10,
              "solidity": 0.2
             }
            },
            "type": "histogram"
           }
          ],
          "scattergl": [
           {
            "type": "scattergl",
            "marker": {
             "colorbar": {
              "outlinewidth": 0,
              "ticks": ""
             }
            }
           }
          ],
          "scatter3d": [
           {
            "type": "scatter3d",
            "line": {
             "colorbar": {
              "outlinewidth": 0,
              "ticks": ""
             }
            },
            "marker": {
             "colorbar": {
              "outlinewidth": 0,
              "ticks": ""
             }
            }
           }
          ],
          "scattermap": [
           {
            "type": "scattermap",
            "marker": {
             "colorbar": {
              "outlinewidth": 0,
              "ticks": ""
             }
            }
           }
          ],
          "scattermapbox": [
           {
            "type": "scattermapbox",
            "marker": {
             "colorbar": {
              "outlinewidth": 0,
              "ticks": ""
             }
            }
           }
          ],
          "scatterternary": [
           {
            "type": "scatterternary",
            "marker": {
             "colorbar": {
              "outlinewidth": 0,
              "ticks": ""
             }
            }
           }
          ],
          "scattercarpet": [
           {
            "type": "scattercarpet",
            "marker": {
             "colorbar": {
              "outlinewidth": 0,
              "ticks": ""
             }
            }
           }
          ],
          "carpet": [
           {
            "aaxis": {
             "endlinecolor": "#2a3f5f",
             "gridcolor": "white",
             "linecolor": "white",
             "minorgridcolor": "white",
             "startlinecolor": "#2a3f5f"
            },
            "baxis": {
             "endlinecolor": "#2a3f5f",
             "gridcolor": "white",
             "linecolor": "white",
             "minorgridcolor": "white",
             "startlinecolor": "#2a3f5f"
            },
            "type": "carpet"
           }
          ],
          "table": [
           {
            "cells": {
             "fill": {
              "color": "#EBF0F8"
             },
             "line": {
              "color": "white"
             }
            },
            "header": {
             "fill": {
              "color": "#C8D4E3"
             },
             "line": {
              "color": "white"
             }
            },
            "type": "table"
           }
          ],
          "barpolar": [
           {
            "marker": {
             "line": {
              "color": "#E5ECF6",
              "width": 0.5
             },
             "pattern": {
              "fillmode": "overlay",
              "size": 10,
              "solidity": 0.2
             }
            },
            "type": "barpolar"
           }
          ],
          "pie": [
           {
            "automargin": true,
            "type": "pie"
           }
          ]
         },
         "layout": {
          "autotypenumbers": "strict",
          "colorway": [
           "#636efa",
           "#EF553B",
           "#00cc96",
           "#ab63fa",
           "#FFA15A",
           "#19d3f3",
           "#FF6692",
           "#B6E880",
           "#FF97FF",
           "#FECB52"
          ],
          "font": {
           "color": "#2a3f5f"
          },
          "hovermode": "closest",
          "hoverlabel": {
           "align": "left"
          },
          "paper_bgcolor": "white",
          "plot_bgcolor": "#E5ECF6",
          "polar": {
           "bgcolor": "#E5ECF6",
           "angularaxis": {
            "gridcolor": "white",
            "linecolor": "white",
            "ticks": ""
           },
           "radialaxis": {
            "gridcolor": "white",
            "linecolor": "white",
            "ticks": ""
           }
          },
          "ternary": {
           "bgcolor": "#E5ECF6",
           "aaxis": {
            "gridcolor": "white",
            "linecolor": "white",
            "ticks": ""
           },
           "baxis": {
            "gridcolor": "white",
            "linecolor": "white",
            "ticks": ""
           },
           "caxis": {
            "gridcolor": "white",
            "linecolor": "white",
            "ticks": ""
           }
          },
          "coloraxis": {
           "colorbar": {
            "outlinewidth": 0,
            "ticks": ""
           }
          },
          "colorscale": {
           "sequential": [
            [
             0.0,
             "#0d0887"
            ],
            [
             0.1111111111111111,
             "#46039f"
            ],
            [
             0.2222222222222222,
             "#7201a8"
            ],
            [
             0.3333333333333333,
             "#9c179e"
            ],
            [
             0.4444444444444444,
             "#bd3786"
            ],
            [
             0.5555555555555556,
             "#d8576b"
            ],
            [
             0.6666666666666666,
             "#ed7953"
            ],
            [
             0.7777777777777778,
             "#fb9f3a"
            ],
            [
             0.8888888888888888,
             "#fdca26"
            ],
            [
             1.0,
             "#f0f921"
            ]
           ],
           "sequentialminus": [
            [
             0.0,
             "#0d0887"
            ],
            [
             0.1111111111111111,
             "#46039f"
            ],
            [
             0.2222222222222222,
             "#7201a8"
            ],
            [
             0.3333333333333333,
             "#9c179e"
            ],
            [
             0.4444444444444444,
             "#bd3786"
            ],
            [
             0.5555555555555556,
             "#d8576b"
            ],
            [
             0.6666666666666666,
             "#ed7953"
            ],
            [
             0.7777777777777778,
             "#fb9f3a"
            ],
            [
             0.8888888888888888,
             "#fdca26"
            ],
            [
             1.0,
             "#f0f921"
            ]
           ],
           "diverging": [
            [
             0,
             "#8e0152"
            ],
            [
             0.1,
             "#c51b7d"
            ],
            [
             0.2,
             "#de77ae"
            ],
            [
             0.3,
             "#f1b6da"
            ],
            [
             0.4,
             "#fde0ef"
            ],
            [
             0.5,
             "#f7f7f7"
            ],
            [
             0.6,
             "#e6f5d0"
            ],
            [
             0.7,
             "#b8e186"
            ],
            [
             0.8,
             "#7fbc41"
            ],
            [
             0.9,
             "#4d9221"
            ],
            [
             1,
             "#276419"
            ]
           ]
          },
          "xaxis": {
           "gridcolor": "white",
           "linecolor": "white",
           "ticks": "",
           "title": {
            "standoff": 15
           },
           "zerolinecolor": "white",
           "automargin": true,
           "zerolinewidth": 2
          },
          "yaxis": {
           "gridcolor": "white",
           "linecolor": "white",
           "ticks": "",
           "title": {
            "standoff": 15
           },
           "zerolinecolor": "white",
           "automargin": true,
           "zerolinewidth": 2
          },
          "scene": {
           "xaxis": {
            "backgroundcolor": "#E5ECF6",
            "gridcolor": "white",
            "linecolor": "white",
            "showbackground": true,
            "ticks": "",
            "zerolinecolor": "white",
            "gridwidth": 2
           },
           "yaxis": {
            "backgroundcolor": "#E5ECF6",
            "gridcolor": "white",
            "linecolor": "white",
            "showbackground": true,
            "ticks": "",
            "zerolinecolor": "white",
            "gridwidth": 2
           },
           "zaxis": {
            "backgroundcolor": "#E5ECF6",
            "gridcolor": "white",
            "linecolor": "white",
            "showbackground": true,
            "ticks": "",
            "zerolinecolor": "white",
            "gridwidth": 2
           }
          },
          "shapedefaults": {
           "line": {
            "color": "#2a3f5f"
           }
          },
          "annotationdefaults": {
           "arrowcolor": "#2a3f5f",
           "arrowhead": 0,
           "arrowwidth": 1
          },
          "geo": {
           "bgcolor": "white",
           "landcolor": "#E5ECF6",
           "subunitcolor": "white",
           "showland": true,
           "showlakes": true,
           "lakecolor": "white"
          },
          "title": {
           "x": 0.05
          },
          "mapbox": {
           "style": "light"
          }
         }
        },
        "xaxis": {
         "anchor": "y",
         "domain": [
          0.0,
          1.0
         ],
         "title": {
          "text": "Player"
         }
        },
        "yaxis": {
         "anchor": "x",
         "domain": [
          0.0,
          1.0
         ],
         "title": {
          "text": "MOTM_Awards"
         }
        },
        "coloraxis": {
         "colorbar": {
          "title": {
           "text": "MOTM_Awards"
          }
         },
         "colorscale": [
          [
           0.0,
           "#0d0887"
          ],
          [
           0.1111111111111111,
           "#46039f"
          ],
          [
           0.2222222222222222,
           "#7201a8"
          ],
          [
           0.3333333333333333,
           "#9c179e"
          ],
          [
           0.4444444444444444,
           "#bd3786"
          ],
          [
           0.5555555555555556,
           "#d8576b"
          ],
          [
           0.6666666666666666,
           "#ed7953"
          ],
          [
           0.7777777777777778,
           "#fb9f3a"
          ],
          [
           0.8888888888888888,
           "#fdca26"
          ],
          [
           1.0,
           "#f0f921"
          ]
         ]
        },
        "legend": {
         "tracegroupgap": 0
        },
        "title": {
         "text": "Top MOTM Awards Winners"
        },
        "barmode": "relative"
       },
       "config": {
        "plotlyServerURL": "https://plot.ly"
       }
      }
     },
     "metadata": {},
     "output_type": "display_data"
    }
   ],
   "execution_count": 34
  },
  {
   "metadata": {},
   "cell_type": "markdown",
   "source": "#### 18. (Bar Chart). Top 15 Nationalities of Players in Champions League 2025",
   "id": "cf1a1d627f4494ad"
  },
  {
   "metadata": {
    "ExecuteTime": {
     "end_time": "2025-06-15T11:40:10.644411Z",
     "start_time": "2025-06-15T11:40:10.638129Z"
    }
   },
   "cell_type": "code",
   "source": [
    "names_nationality = list(dict(ucl['Nationality'].value_counts()).keys())[:15]\n",
    "values_nationality = ucl['Nationality'].value_counts().tolist()[:15]"
   ],
   "id": "b2012225417a6fb3",
   "outputs": [],
   "execution_count": 35
  },
  {
   "metadata": {
    "ExecuteTime": {
     "end_time": "2025-06-15T11:40:10.710736Z",
     "start_time": "2025-06-15T11:40:10.703810Z"
    }
   },
   "cell_type": "code",
   "source": "names_nationality",
   "id": "1773986c17e01718",
   "outputs": [
    {
     "data": {
      "text/plain": [
       "['France',\n",
       " 'Netherlands',\n",
       " 'Germany',\n",
       " 'Spain',\n",
       " 'Brazil',\n",
       " 'Italy',\n",
       " 'England',\n",
       " 'Argentina',\n",
       " 'Belgium',\n",
       " 'Portugal',\n",
       " 'Switzerland',\n",
       " 'Turkey',\n",
       " 'Norway',\n",
       " 'Croatia',\n",
       " 'Morocco']"
      ]
     },
     "execution_count": 36,
     "metadata": {},
     "output_type": "execute_result"
    }
   ],
   "execution_count": 36
  },
  {
   "metadata": {
    "ExecuteTime": {
     "end_time": "2025-06-15T11:40:10.821150Z",
     "start_time": "2025-06-15T11:40:10.804987Z"
    }
   },
   "cell_type": "code",
   "source": "values_nationality",
   "id": "406c6ce37c5ad4ed",
   "outputs": [
    {
     "data": {
      "text/plain": [
       "[24, 18, 16, 16, 15, 11, 11, 10, 9, 9, 6, 5, 4, 4, 3]"
      ]
     },
     "execution_count": 37,
     "metadata": {},
     "output_type": "execute_result"
    }
   ],
   "execution_count": 37
  },
  {
   "metadata": {
    "ExecuteTime": {
     "end_time": "2025-06-15T11:40:10.917934Z",
     "start_time": "2025-06-15T11:40:10.876547Z"
    }
   },
   "cell_type": "code",
   "source": [
    "fig = go.Bar(x = names_nationality,\n",
    "            y = values_nationality,\n",
    "            marker = dict(color = 'rgba(255, 0, 0, 0.5)',\n",
    "                         line=dict(color='rgb(0,0,1)',width=1.5)),\n",
    "            text = names_nationality)\n",
    "\n",
    "layout = go.Layout()\n",
    "fig = go.Figure(data = fig, layout = layout)\n",
    "fig.update_layout(title_text='Top 15 Nationalities of Players in Champions League 2025 Season')\n",
    "fig.show()"
   ],
   "id": "968f0864789d3cb0",
   "outputs": [
    {
     "data": {
      "application/vnd.plotly.v1+json": {
       "data": [
        {
         "marker": {
          "color": "rgba(255, 0, 0, 0.5)",
          "line": {
           "color": "rgb(0,0,1)",
           "width": 1.5
          }
         },
         "text": [
          "France",
          "Netherlands",
          "Germany",
          "Spain",
          "Brazil",
          "Italy",
          "England",
          "Argentina",
          "Belgium",
          "Portugal",
          "Switzerland",
          "Turkey",
          "Norway",
          "Croatia",
          "Morocco"
         ],
         "x": [
          "France",
          "Netherlands",
          "Germany",
          "Spain",
          "Brazil",
          "Italy",
          "England",
          "Argentina",
          "Belgium",
          "Portugal",
          "Switzerland",
          "Turkey",
          "Norway",
          "Croatia",
          "Morocco"
         ],
         "y": [
          24,
          18,
          16,
          16,
          15,
          11,
          11,
          10,
          9,
          9,
          6,
          5,
          4,
          4,
          3
         ],
         "type": "bar"
        }
       ],
       "layout": {
        "template": {
         "data": {
          "histogram2dcontour": [
           {
            "type": "histogram2dcontour",
            "colorbar": {
             "outlinewidth": 0,
             "ticks": ""
            },
            "colorscale": [
             [
              0.0,
              "#0d0887"
             ],
             [
              0.1111111111111111,
              "#46039f"
             ],
             [
              0.2222222222222222,
              "#7201a8"
             ],
             [
              0.3333333333333333,
              "#9c179e"
             ],
             [
              0.4444444444444444,
              "#bd3786"
             ],
             [
              0.5555555555555556,
              "#d8576b"
             ],
             [
              0.6666666666666666,
              "#ed7953"
             ],
             [
              0.7777777777777778,
              "#fb9f3a"
             ],
             [
              0.8888888888888888,
              "#fdca26"
             ],
             [
              1.0,
              "#f0f921"
             ]
            ]
           }
          ],
          "choropleth": [
           {
            "type": "choropleth",
            "colorbar": {
             "outlinewidth": 0,
             "ticks": ""
            }
           }
          ],
          "histogram2d": [
           {
            "type": "histogram2d",
            "colorbar": {
             "outlinewidth": 0,
             "ticks": ""
            },
            "colorscale": [
             [
              0.0,
              "#0d0887"
             ],
             [
              0.1111111111111111,
              "#46039f"
             ],
             [
              0.2222222222222222,
              "#7201a8"
             ],
             [
              0.3333333333333333,
              "#9c179e"
             ],
             [
              0.4444444444444444,
              "#bd3786"
             ],
             [
              0.5555555555555556,
              "#d8576b"
             ],
             [
              0.6666666666666666,
              "#ed7953"
             ],
             [
              0.7777777777777778,
              "#fb9f3a"
             ],
             [
              0.8888888888888888,
              "#fdca26"
             ],
             [
              1.0,
              "#f0f921"
             ]
            ]
           }
          ],
          "heatmap": [
           {
            "type": "heatmap",
            "colorbar": {
             "outlinewidth": 0,
             "ticks": ""
            },
            "colorscale": [
             [
              0.0,
              "#0d0887"
             ],
             [
              0.1111111111111111,
              "#46039f"
             ],
             [
              0.2222222222222222,
              "#7201a8"
             ],
             [
              0.3333333333333333,
              "#9c179e"
             ],
             [
              0.4444444444444444,
              "#bd3786"
             ],
             [
              0.5555555555555556,
              "#d8576b"
             ],
             [
              0.6666666666666666,
              "#ed7953"
             ],
             [
              0.7777777777777778,
              "#fb9f3a"
             ],
             [
              0.8888888888888888,
              "#fdca26"
             ],
             [
              1.0,
              "#f0f921"
             ]
            ]
           }
          ],
          "contourcarpet": [
           {
            "type": "contourcarpet",
            "colorbar": {
             "outlinewidth": 0,
             "ticks": ""
            }
           }
          ],
          "contour": [
           {
            "type": "contour",
            "colorbar": {
             "outlinewidth": 0,
             "ticks": ""
            },
            "colorscale": [
             [
              0.0,
              "#0d0887"
             ],
             [
              0.1111111111111111,
              "#46039f"
             ],
             [
              0.2222222222222222,
              "#7201a8"
             ],
             [
              0.3333333333333333,
              "#9c179e"
             ],
             [
              0.4444444444444444,
              "#bd3786"
             ],
             [
              0.5555555555555556,
              "#d8576b"
             ],
             [
              0.6666666666666666,
              "#ed7953"
             ],
             [
              0.7777777777777778,
              "#fb9f3a"
             ],
             [
              0.8888888888888888,
              "#fdca26"
             ],
             [
              1.0,
              "#f0f921"
             ]
            ]
           }
          ],
          "surface": [
           {
            "type": "surface",
            "colorbar": {
             "outlinewidth": 0,
             "ticks": ""
            },
            "colorscale": [
             [
              0.0,
              "#0d0887"
             ],
             [
              0.1111111111111111,
              "#46039f"
             ],
             [
              0.2222222222222222,
              "#7201a8"
             ],
             [
              0.3333333333333333,
              "#9c179e"
             ],
             [
              0.4444444444444444,
              "#bd3786"
             ],
             [
              0.5555555555555556,
              "#d8576b"
             ],
             [
              0.6666666666666666,
              "#ed7953"
             ],
             [
              0.7777777777777778,
              "#fb9f3a"
             ],
             [
              0.8888888888888888,
              "#fdca26"
             ],
             [
              1.0,
              "#f0f921"
             ]
            ]
           }
          ],
          "mesh3d": [
           {
            "type": "mesh3d",
            "colorbar": {
             "outlinewidth": 0,
             "ticks": ""
            }
           }
          ],
          "scatter": [
           {
            "fillpattern": {
             "fillmode": "overlay",
             "size": 10,
             "solidity": 0.2
            },
            "type": "scatter"
           }
          ],
          "parcoords": [
           {
            "type": "parcoords",
            "line": {
             "colorbar": {
              "outlinewidth": 0,
              "ticks": ""
             }
            }
           }
          ],
          "scatterpolargl": [
           {
            "type": "scatterpolargl",
            "marker": {
             "colorbar": {
              "outlinewidth": 0,
              "ticks": ""
             }
            }
           }
          ],
          "bar": [
           {
            "error_x": {
             "color": "#2a3f5f"
            },
            "error_y": {
             "color": "#2a3f5f"
            },
            "marker": {
             "line": {
              "color": "#E5ECF6",
              "width": 0.5
             },
             "pattern": {
              "fillmode": "overlay",
              "size": 10,
              "solidity": 0.2
             }
            },
            "type": "bar"
           }
          ],
          "scattergeo": [
           {
            "type": "scattergeo",
            "marker": {
             "colorbar": {
              "outlinewidth": 0,
              "ticks": ""
             }
            }
           }
          ],
          "scatterpolar": [
           {
            "type": "scatterpolar",
            "marker": {
             "colorbar": {
              "outlinewidth": 0,
              "ticks": ""
             }
            }
           }
          ],
          "histogram": [
           {
            "marker": {
             "pattern": {
              "fillmode": "overlay",
              "size": 10,
              "solidity": 0.2
             }
            },
            "type": "histogram"
           }
          ],
          "scattergl": [
           {
            "type": "scattergl",
            "marker": {
             "colorbar": {
              "outlinewidth": 0,
              "ticks": ""
             }
            }
           }
          ],
          "scatter3d": [
           {
            "type": "scatter3d",
            "line": {
             "colorbar": {
              "outlinewidth": 0,
              "ticks": ""
             }
            },
            "marker": {
             "colorbar": {
              "outlinewidth": 0,
              "ticks": ""
             }
            }
           }
          ],
          "scattermap": [
           {
            "type": "scattermap",
            "marker": {
             "colorbar": {
              "outlinewidth": 0,
              "ticks": ""
             }
            }
           }
          ],
          "scattermapbox": [
           {
            "type": "scattermapbox",
            "marker": {
             "colorbar": {
              "outlinewidth": 0,
              "ticks": ""
             }
            }
           }
          ],
          "scatterternary": [
           {
            "type": "scatterternary",
            "marker": {
             "colorbar": {
              "outlinewidth": 0,
              "ticks": ""
             }
            }
           }
          ],
          "scattercarpet": [
           {
            "type": "scattercarpet",
            "marker": {
             "colorbar": {
              "outlinewidth": 0,
              "ticks": ""
             }
            }
           }
          ],
          "carpet": [
           {
            "aaxis": {
             "endlinecolor": "#2a3f5f",
             "gridcolor": "white",
             "linecolor": "white",
             "minorgridcolor": "white",
             "startlinecolor": "#2a3f5f"
            },
            "baxis": {
             "endlinecolor": "#2a3f5f",
             "gridcolor": "white",
             "linecolor": "white",
             "minorgridcolor": "white",
             "startlinecolor": "#2a3f5f"
            },
            "type": "carpet"
           }
          ],
          "table": [
           {
            "cells": {
             "fill": {
              "color": "#EBF0F8"
             },
             "line": {
              "color": "white"
             }
            },
            "header": {
             "fill": {
              "color": "#C8D4E3"
             },
             "line": {
              "color": "white"
             }
            },
            "type": "table"
           }
          ],
          "barpolar": [
           {
            "marker": {
             "line": {
              "color": "#E5ECF6",
              "width": 0.5
             },
             "pattern": {
              "fillmode": "overlay",
              "size": 10,
              "solidity": 0.2
             }
            },
            "type": "barpolar"
           }
          ],
          "pie": [
           {
            "automargin": true,
            "type": "pie"
           }
          ]
         },
         "layout": {
          "autotypenumbers": "strict",
          "colorway": [
           "#636efa",
           "#EF553B",
           "#00cc96",
           "#ab63fa",
           "#FFA15A",
           "#19d3f3",
           "#FF6692",
           "#B6E880",
           "#FF97FF",
           "#FECB52"
          ],
          "font": {
           "color": "#2a3f5f"
          },
          "hovermode": "closest",
          "hoverlabel": {
           "align": "left"
          },
          "paper_bgcolor": "white",
          "plot_bgcolor": "#E5ECF6",
          "polar": {
           "bgcolor": "#E5ECF6",
           "angularaxis": {
            "gridcolor": "white",
            "linecolor": "white",
            "ticks": ""
           },
           "radialaxis": {
            "gridcolor": "white",
            "linecolor": "white",
            "ticks": ""
           }
          },
          "ternary": {
           "bgcolor": "#E5ECF6",
           "aaxis": {
            "gridcolor": "white",
            "linecolor": "white",
            "ticks": ""
           },
           "baxis": {
            "gridcolor": "white",
            "linecolor": "white",
            "ticks": ""
           },
           "caxis": {
            "gridcolor": "white",
            "linecolor": "white",
            "ticks": ""
           }
          },
          "coloraxis": {
           "colorbar": {
            "outlinewidth": 0,
            "ticks": ""
           }
          },
          "colorscale": {
           "sequential": [
            [
             0.0,
             "#0d0887"
            ],
            [
             0.1111111111111111,
             "#46039f"
            ],
            [
             0.2222222222222222,
             "#7201a8"
            ],
            [
             0.3333333333333333,
             "#9c179e"
            ],
            [
             0.4444444444444444,
             "#bd3786"
            ],
            [
             0.5555555555555556,
             "#d8576b"
            ],
            [
             0.6666666666666666,
             "#ed7953"
            ],
            [
             0.7777777777777778,
             "#fb9f3a"
            ],
            [
             0.8888888888888888,
             "#fdca26"
            ],
            [
             1.0,
             "#f0f921"
            ]
           ],
           "sequentialminus": [
            [
             0.0,
             "#0d0887"
            ],
            [
             0.1111111111111111,
             "#46039f"
            ],
            [
             0.2222222222222222,
             "#7201a8"
            ],
            [
             0.3333333333333333,
             "#9c179e"
            ],
            [
             0.4444444444444444,
             "#bd3786"
            ],
            [
             0.5555555555555556,
             "#d8576b"
            ],
            [
             0.6666666666666666,
             "#ed7953"
            ],
            [
             0.7777777777777778,
             "#fb9f3a"
            ],
            [
             0.8888888888888888,
             "#fdca26"
            ],
            [
             1.0,
             "#f0f921"
            ]
           ],
           "diverging": [
            [
             0,
             "#8e0152"
            ],
            [
             0.1,
             "#c51b7d"
            ],
            [
             0.2,
             "#de77ae"
            ],
            [
             0.3,
             "#f1b6da"
            ],
            [
             0.4,
             "#fde0ef"
            ],
            [
             0.5,
             "#f7f7f7"
            ],
            [
             0.6,
             "#e6f5d0"
            ],
            [
             0.7,
             "#b8e186"
            ],
            [
             0.8,
             "#7fbc41"
            ],
            [
             0.9,
             "#4d9221"
            ],
            [
             1,
             "#276419"
            ]
           ]
          },
          "xaxis": {
           "gridcolor": "white",
           "linecolor": "white",
           "ticks": "",
           "title": {
            "standoff": 15
           },
           "zerolinecolor": "white",
           "automargin": true,
           "zerolinewidth": 2
          },
          "yaxis": {
           "gridcolor": "white",
           "linecolor": "white",
           "ticks": "",
           "title": {
            "standoff": 15
           },
           "zerolinecolor": "white",
           "automargin": true,
           "zerolinewidth": 2
          },
          "scene": {
           "xaxis": {
            "backgroundcolor": "#E5ECF6",
            "gridcolor": "white",
            "linecolor": "white",
            "showbackground": true,
            "ticks": "",
            "zerolinecolor": "white",
            "gridwidth": 2
           },
           "yaxis": {
            "backgroundcolor": "#E5ECF6",
            "gridcolor": "white",
            "linecolor": "white",
            "showbackground": true,
            "ticks": "",
            "zerolinecolor": "white",
            "gridwidth": 2
           },
           "zaxis": {
            "backgroundcolor": "#E5ECF6",
            "gridcolor": "white",
            "linecolor": "white",
            "showbackground": true,
            "ticks": "",
            "zerolinecolor": "white",
            "gridwidth": 2
           }
          },
          "shapedefaults": {
           "line": {
            "color": "#2a3f5f"
           }
          },
          "annotationdefaults": {
           "arrowcolor": "#2a3f5f",
           "arrowhead": 0,
           "arrowwidth": 1
          },
          "geo": {
           "bgcolor": "white",
           "landcolor": "#E5ECF6",
           "subunitcolor": "white",
           "showland": true,
           "showlakes": true,
           "lakecolor": "white"
          },
          "title": {
           "x": 0.05
          },
          "mapbox": {
           "style": "light"
          }
         }
        },
        "title": {
         "text": "Top 15 Nationalities of Players in Champions League 2025 Season"
        }
       },
       "config": {
        "plotlyServerURL": "https://plot.ly"
       }
      }
     },
     "metadata": {},
     "output_type": "display_data"
    }
   ],
   "execution_count": 38
  },
  {
   "metadata": {},
   "cell_type": "markdown",
   "source": "#### 19 (Bar Chart). All competitions by number of players (210 players) in the 2025 Champions League season",
   "id": "55100babe48bc2fd"
  },
  {
   "metadata": {
    "ExecuteTime": {
     "end_time": "2025-06-15T11:40:10.989607Z",
     "start_time": "2025-06-15T11:40:10.979465Z"
    }
   },
   "cell_type": "code",
   "source": "ucl['Competitions'].unique()",
   "id": "ee059d8185d1d1f0",
   "outputs": [
    {
     "data": {
      "text/plain": [
       "array(['Serie A', 'La Liga', 'Premier League', 'Pro League',\n",
       "       'Liga Portugal', 'Premiership', 'Ligue 1', 'Eredivisie',\n",
       "       'Bundesliga', 'ABundesliga', 'Premier Liga', 'SuperSport HNL'],\n",
       "      dtype=object)"
      ]
     },
     "execution_count": 39,
     "metadata": {},
     "output_type": "execute_result"
    }
   ],
   "execution_count": 39
  },
  {
   "metadata": {
    "ExecuteTime": {
     "end_time": "2025-06-15T11:40:11.084528Z",
     "start_time": "2025-06-15T11:40:11.077489Z"
    }
   },
   "cell_type": "code",
   "source": [
    "names_Competitions = list(dict(ucl['Competitions'].value_counts()).keys())\n",
    "values_Competitions = ucl['Competitions'].value_counts().tolist()"
   ],
   "id": "2c5f2a75843ad3af",
   "outputs": [],
   "execution_count": 40
  },
  {
   "metadata": {
    "ExecuteTime": {
     "end_time": "2025-06-15T11:40:11.191271Z",
     "start_time": "2025-06-15T11:40:11.152161Z"
    }
   },
   "cell_type": "code",
   "source": [
    "fig = go.Bar(x = names_Competitions,\n",
    "             y = values_Competitions,\n",
    "             marker = dict(color = 'rgba(0, 0, 255, 0.5)',\n",
    "                         line=dict(color='rgb(0,0,50)',width=1.5)),\n",
    "             )\n",
    "layout = go.Layout()\n",
    "fig = go.Figure(data = fig, layout = layout)\n",
    "fig.update_layout(title_text='All competitions by number of players (210 players) in the 2025 Champions League season')\n",
    "fig.show()"
   ],
   "id": "a096cd5e44ef2793",
   "outputs": [
    {
     "data": {
      "application/vnd.plotly.v1+json": {
       "data": [
        {
         "marker": {
          "color": "rgba(0, 0, 255, 0.5)",
          "line": {
           "color": "rgb(0,0,50)",
           "width": 1.5
          }
         },
         "x": [
          "Serie A",
          "Premier League",
          "La Liga",
          "Bundesliga",
          "Ligue 1",
          "Liga Portugal",
          "Eredivisie",
          "Premiership",
          "Pro League",
          "Premier Liga",
          "ABundesliga",
          "SuperSport HNL"
         ],
         "y": [
          38,
          37,
          32,
          31,
          27,
          15,
          14,
          6,
          5,
          3,
          1,
          1
         ],
         "type": "bar"
        }
       ],
       "layout": {
        "template": {
         "data": {
          "histogram2dcontour": [
           {
            "type": "histogram2dcontour",
            "colorbar": {
             "outlinewidth": 0,
             "ticks": ""
            },
            "colorscale": [
             [
              0.0,
              "#0d0887"
             ],
             [
              0.1111111111111111,
              "#46039f"
             ],
             [
              0.2222222222222222,
              "#7201a8"
             ],
             [
              0.3333333333333333,
              "#9c179e"
             ],
             [
              0.4444444444444444,
              "#bd3786"
             ],
             [
              0.5555555555555556,
              "#d8576b"
             ],
             [
              0.6666666666666666,
              "#ed7953"
             ],
             [
              0.7777777777777778,
              "#fb9f3a"
             ],
             [
              0.8888888888888888,
              "#fdca26"
             ],
             [
              1.0,
              "#f0f921"
             ]
            ]
           }
          ],
          "choropleth": [
           {
            "type": "choropleth",
            "colorbar": {
             "outlinewidth": 0,
             "ticks": ""
            }
           }
          ],
          "histogram2d": [
           {
            "type": "histogram2d",
            "colorbar": {
             "outlinewidth": 0,
             "ticks": ""
            },
            "colorscale": [
             [
              0.0,
              "#0d0887"
             ],
             [
              0.1111111111111111,
              "#46039f"
             ],
             [
              0.2222222222222222,
              "#7201a8"
             ],
             [
              0.3333333333333333,
              "#9c179e"
             ],
             [
              0.4444444444444444,
              "#bd3786"
             ],
             [
              0.5555555555555556,
              "#d8576b"
             ],
             [
              0.6666666666666666,
              "#ed7953"
             ],
             [
              0.7777777777777778,
              "#fb9f3a"
             ],
             [
              0.8888888888888888,
              "#fdca26"
             ],
             [
              1.0,
              "#f0f921"
             ]
            ]
           }
          ],
          "heatmap": [
           {
            "type": "heatmap",
            "colorbar": {
             "outlinewidth": 0,
             "ticks": ""
            },
            "colorscale": [
             [
              0.0,
              "#0d0887"
             ],
             [
              0.1111111111111111,
              "#46039f"
             ],
             [
              0.2222222222222222,
              "#7201a8"
             ],
             [
              0.3333333333333333,
              "#9c179e"
             ],
             [
              0.4444444444444444,
              "#bd3786"
             ],
             [
              0.5555555555555556,
              "#d8576b"
             ],
             [
              0.6666666666666666,
              "#ed7953"
             ],
             [
              0.7777777777777778,
              "#fb9f3a"
             ],
             [
              0.8888888888888888,
              "#fdca26"
             ],
             [
              1.0,
              "#f0f921"
             ]
            ]
           }
          ],
          "contourcarpet": [
           {
            "type": "contourcarpet",
            "colorbar": {
             "outlinewidth": 0,
             "ticks": ""
            }
           }
          ],
          "contour": [
           {
            "type": "contour",
            "colorbar": {
             "outlinewidth": 0,
             "ticks": ""
            },
            "colorscale": [
             [
              0.0,
              "#0d0887"
             ],
             [
              0.1111111111111111,
              "#46039f"
             ],
             [
              0.2222222222222222,
              "#7201a8"
             ],
             [
              0.3333333333333333,
              "#9c179e"
             ],
             [
              0.4444444444444444,
              "#bd3786"
             ],
             [
              0.5555555555555556,
              "#d8576b"
             ],
             [
              0.6666666666666666,
              "#ed7953"
             ],
             [
              0.7777777777777778,
              "#fb9f3a"
             ],
             [
              0.8888888888888888,
              "#fdca26"
             ],
             [
              1.0,
              "#f0f921"
             ]
            ]
           }
          ],
          "surface": [
           {
            "type": "surface",
            "colorbar": {
             "outlinewidth": 0,
             "ticks": ""
            },
            "colorscale": [
             [
              0.0,
              "#0d0887"
             ],
             [
              0.1111111111111111,
              "#46039f"
             ],
             [
              0.2222222222222222,
              "#7201a8"
             ],
             [
              0.3333333333333333,
              "#9c179e"
             ],
             [
              0.4444444444444444,
              "#bd3786"
             ],
             [
              0.5555555555555556,
              "#d8576b"
             ],
             [
              0.6666666666666666,
              "#ed7953"
             ],
             [
              0.7777777777777778,
              "#fb9f3a"
             ],
             [
              0.8888888888888888,
              "#fdca26"
             ],
             [
              1.0,
              "#f0f921"
             ]
            ]
           }
          ],
          "mesh3d": [
           {
            "type": "mesh3d",
            "colorbar": {
             "outlinewidth": 0,
             "ticks": ""
            }
           }
          ],
          "scatter": [
           {
            "fillpattern": {
             "fillmode": "overlay",
             "size": 10,
             "solidity": 0.2
            },
            "type": "scatter"
           }
          ],
          "parcoords": [
           {
            "type": "parcoords",
            "line": {
             "colorbar": {
              "outlinewidth": 0,
              "ticks": ""
             }
            }
           }
          ],
          "scatterpolargl": [
           {
            "type": "scatterpolargl",
            "marker": {
             "colorbar": {
              "outlinewidth": 0,
              "ticks": ""
             }
            }
           }
          ],
          "bar": [
           {
            "error_x": {
             "color": "#2a3f5f"
            },
            "error_y": {
             "color": "#2a3f5f"
            },
            "marker": {
             "line": {
              "color": "#E5ECF6",
              "width": 0.5
             },
             "pattern": {
              "fillmode": "overlay",
              "size": 10,
              "solidity": 0.2
             }
            },
            "type": "bar"
           }
          ],
          "scattergeo": [
           {
            "type": "scattergeo",
            "marker": {
             "colorbar": {
              "outlinewidth": 0,
              "ticks": ""
             }
            }
           }
          ],
          "scatterpolar": [
           {
            "type": "scatterpolar",
            "marker": {
             "colorbar": {
              "outlinewidth": 0,
              "ticks": ""
             }
            }
           }
          ],
          "histogram": [
           {
            "marker": {
             "pattern": {
              "fillmode": "overlay",
              "size": 10,
              "solidity": 0.2
             }
            },
            "type": "histogram"
           }
          ],
          "scattergl": [
           {
            "type": "scattergl",
            "marker": {
             "colorbar": {
              "outlinewidth": 0,
              "ticks": ""
             }
            }
           }
          ],
          "scatter3d": [
           {
            "type": "scatter3d",
            "line": {
             "colorbar": {
              "outlinewidth": 0,
              "ticks": ""
             }
            },
            "marker": {
             "colorbar": {
              "outlinewidth": 0,
              "ticks": ""
             }
            }
           }
          ],
          "scattermap": [
           {
            "type": "scattermap",
            "marker": {
             "colorbar": {
              "outlinewidth": 0,
              "ticks": ""
             }
            }
           }
          ],
          "scattermapbox": [
           {
            "type": "scattermapbox",
            "marker": {
             "colorbar": {
              "outlinewidth": 0,
              "ticks": ""
             }
            }
           }
          ],
          "scatterternary": [
           {
            "type": "scatterternary",
            "marker": {
             "colorbar": {
              "outlinewidth": 0,
              "ticks": ""
             }
            }
           }
          ],
          "scattercarpet": [
           {
            "type": "scattercarpet",
            "marker": {
             "colorbar": {
              "outlinewidth": 0,
              "ticks": ""
             }
            }
           }
          ],
          "carpet": [
           {
            "aaxis": {
             "endlinecolor": "#2a3f5f",
             "gridcolor": "white",
             "linecolor": "white",
             "minorgridcolor": "white",
             "startlinecolor": "#2a3f5f"
            },
            "baxis": {
             "endlinecolor": "#2a3f5f",
             "gridcolor": "white",
             "linecolor": "white",
             "minorgridcolor": "white",
             "startlinecolor": "#2a3f5f"
            },
            "type": "carpet"
           }
          ],
          "table": [
           {
            "cells": {
             "fill": {
              "color": "#EBF0F8"
             },
             "line": {
              "color": "white"
             }
            },
            "header": {
             "fill": {
              "color": "#C8D4E3"
             },
             "line": {
              "color": "white"
             }
            },
            "type": "table"
           }
          ],
          "barpolar": [
           {
            "marker": {
             "line": {
              "color": "#E5ECF6",
              "width": 0.5
             },
             "pattern": {
              "fillmode": "overlay",
              "size": 10,
              "solidity": 0.2
             }
            },
            "type": "barpolar"
           }
          ],
          "pie": [
           {
            "automargin": true,
            "type": "pie"
           }
          ]
         },
         "layout": {
          "autotypenumbers": "strict",
          "colorway": [
           "#636efa",
           "#EF553B",
           "#00cc96",
           "#ab63fa",
           "#FFA15A",
           "#19d3f3",
           "#FF6692",
           "#B6E880",
           "#FF97FF",
           "#FECB52"
          ],
          "font": {
           "color": "#2a3f5f"
          },
          "hovermode": "closest",
          "hoverlabel": {
           "align": "left"
          },
          "paper_bgcolor": "white",
          "plot_bgcolor": "#E5ECF6",
          "polar": {
           "bgcolor": "#E5ECF6",
           "angularaxis": {
            "gridcolor": "white",
            "linecolor": "white",
            "ticks": ""
           },
           "radialaxis": {
            "gridcolor": "white",
            "linecolor": "white",
            "ticks": ""
           }
          },
          "ternary": {
           "bgcolor": "#E5ECF6",
           "aaxis": {
            "gridcolor": "white",
            "linecolor": "white",
            "ticks": ""
           },
           "baxis": {
            "gridcolor": "white",
            "linecolor": "white",
            "ticks": ""
           },
           "caxis": {
            "gridcolor": "white",
            "linecolor": "white",
            "ticks": ""
           }
          },
          "coloraxis": {
           "colorbar": {
            "outlinewidth": 0,
            "ticks": ""
           }
          },
          "colorscale": {
           "sequential": [
            [
             0.0,
             "#0d0887"
            ],
            [
             0.1111111111111111,
             "#46039f"
            ],
            [
             0.2222222222222222,
             "#7201a8"
            ],
            [
             0.3333333333333333,
             "#9c179e"
            ],
            [
             0.4444444444444444,
             "#bd3786"
            ],
            [
             0.5555555555555556,
             "#d8576b"
            ],
            [
             0.6666666666666666,
             "#ed7953"
            ],
            [
             0.7777777777777778,
             "#fb9f3a"
            ],
            [
             0.8888888888888888,
             "#fdca26"
            ],
            [
             1.0,
             "#f0f921"
            ]
           ],
           "sequentialminus": [
            [
             0.0,
             "#0d0887"
            ],
            [
             0.1111111111111111,
             "#46039f"
            ],
            [
             0.2222222222222222,
             "#7201a8"
            ],
            [
             0.3333333333333333,
             "#9c179e"
            ],
            [
             0.4444444444444444,
             "#bd3786"
            ],
            [
             0.5555555555555556,
             "#d8576b"
            ],
            [
             0.6666666666666666,
             "#ed7953"
            ],
            [
             0.7777777777777778,
             "#fb9f3a"
            ],
            [
             0.8888888888888888,
             "#fdca26"
            ],
            [
             1.0,
             "#f0f921"
            ]
           ],
           "diverging": [
            [
             0,
             "#8e0152"
            ],
            [
             0.1,
             "#c51b7d"
            ],
            [
             0.2,
             "#de77ae"
            ],
            [
             0.3,
             "#f1b6da"
            ],
            [
             0.4,
             "#fde0ef"
            ],
            [
             0.5,
             "#f7f7f7"
            ],
            [
             0.6,
             "#e6f5d0"
            ],
            [
             0.7,
             "#b8e186"
            ],
            [
             0.8,
             "#7fbc41"
            ],
            [
             0.9,
             "#4d9221"
            ],
            [
             1,
             "#276419"
            ]
           ]
          },
          "xaxis": {
           "gridcolor": "white",
           "linecolor": "white",
           "ticks": "",
           "title": {
            "standoff": 15
           },
           "zerolinecolor": "white",
           "automargin": true,
           "zerolinewidth": 2
          },
          "yaxis": {
           "gridcolor": "white",
           "linecolor": "white",
           "ticks": "",
           "title": {
            "standoff": 15
           },
           "zerolinecolor": "white",
           "automargin": true,
           "zerolinewidth": 2
          },
          "scene": {
           "xaxis": {
            "backgroundcolor": "#E5ECF6",
            "gridcolor": "white",
            "linecolor": "white",
            "showbackground": true,
            "ticks": "",
            "zerolinecolor": "white",
            "gridwidth": 2
           },
           "yaxis": {
            "backgroundcolor": "#E5ECF6",
            "gridcolor": "white",
            "linecolor": "white",
            "showbackground": true,
            "ticks": "",
            "zerolinecolor": "white",
            "gridwidth": 2
           },
           "zaxis": {
            "backgroundcolor": "#E5ECF6",
            "gridcolor": "white",
            "linecolor": "white",
            "showbackground": true,
            "ticks": "",
            "zerolinecolor": "white",
            "gridwidth": 2
           }
          },
          "shapedefaults": {
           "line": {
            "color": "#2a3f5f"
           }
          },
          "annotationdefaults": {
           "arrowcolor": "#2a3f5f",
           "arrowhead": 0,
           "arrowwidth": 1
          },
          "geo": {
           "bgcolor": "white",
           "landcolor": "#E5ECF6",
           "subunitcolor": "white",
           "showland": true,
           "showlakes": true,
           "lakecolor": "white"
          },
          "title": {
           "x": 0.05
          },
          "mapbox": {
           "style": "light"
          }
         }
        },
        "title": {
         "text": "All competitions by number of players (210 players) in the 2025 Champions League season"
        }
       },
       "config": {
        "plotlyServerURL": "https://plot.ly"
       }
      }
     },
     "metadata": {},
     "output_type": "display_data"
    }
   ],
   "execution_count": 41
  },
  {
   "metadata": {},
   "cell_type": "markdown",
   "source": "#### 20 (Bar Chart). Top 12 Players by Passes Completed",
   "id": "4e4523f6b3f4f389"
  },
  {
   "metadata": {
    "ExecuteTime": {
     "end_time": "2025-06-15T11:40:11.247201Z",
     "start_time": "2025-06-15T11:40:11.240061Z"
    }
   },
   "cell_type": "code",
   "source": "ucl_top_passes = ucl[['Player','Passes_completed','Team']].sort_values(by='Passes_completed', ascending=False).head(12)",
   "id": "29a2aafafe1b0e4f",
   "outputs": [],
   "execution_count": 42
  },
  {
   "metadata": {
    "ExecuteTime": {
     "end_time": "2025-06-15T11:40:11.379485Z",
     "start_time": "2025-06-15T11:40:11.323297Z"
    }
   },
   "cell_type": "code",
   "source": "px.bar(ucl_top_passes, x='Player', y='Passes_completed', color='Passes_completed', title='Top 12 Players by Passes Completed', text='Team', hover_name='Team')",
   "id": "ac9440d3c32994f8",
   "outputs": [
    {
     "data": {
      "application/vnd.plotly.v1+json": {
       "data": [
        {
         "hovertemplate": "<b>%{hovertext}</b><br><br>Player=%{x}<br>Passes_completed=%{marker.color}<br>Team=%{text}<extra></extra>",
         "hovertext": [
          "Paris SG",
          "Bayern Munich",
          "Paris SG",
          "Paris SG",
          "Paris SG",
          "Paris SG",
          "BVB Dortmund",
          "Bayern Munich",
          "Bayern Munich",
          "Paris SG",
          "Barcelona",
          "Barcelona"
         ],
         "legendgroup": "",
         "marker": {
          "color": {
           "dtype": "i2",
           "bdata": "HAWRBFUEQAQqBMQDqAOHA4IDZQMqAxED"
          },
          "coloraxis": "coloraxis",
          "pattern": {
           "shape": ""
          }
         },
         "name": "",
         "orientation": "v",
         "showlegend": false,
         "text": [
          "Paris SG",
          "Bayern Munich",
          "Paris SG",
          "Paris SG",
          "Paris SG",
          "Paris SG",
          "BVB Dortmund",
          "Bayern Munich",
          "Bayern Munich",
          "Paris SG",
          "Barcelona",
          "Barcelona"
         ],
         "textposition": "auto",
         "x": [
          "Vitinha",
          "Kimmich",
          "Marquinhos",
          "Pacho",
          "Hakimi",
          "Joao Neves",
          "Schlotterbeck",
          "Minjae Kim",
          "Upamecano",
          "Nuno Mendes",
          "Pedri",
          "Inigo Martinez"
         ],
         "xaxis": "x",
         "y": {
          "dtype": "i2",
          "bdata": "HAWRBFUEQAQqBMQDqAOHA4IDZQMqAxED"
         },
         "yaxis": "y",
         "type": "bar"
        }
       ],
       "layout": {
        "template": {
         "data": {
          "histogram2dcontour": [
           {
            "type": "histogram2dcontour",
            "colorbar": {
             "outlinewidth": 0,
             "ticks": ""
            },
            "colorscale": [
             [
              0.0,
              "#0d0887"
             ],
             [
              0.1111111111111111,
              "#46039f"
             ],
             [
              0.2222222222222222,
              "#7201a8"
             ],
             [
              0.3333333333333333,
              "#9c179e"
             ],
             [
              0.4444444444444444,
              "#bd3786"
             ],
             [
              0.5555555555555556,
              "#d8576b"
             ],
             [
              0.6666666666666666,
              "#ed7953"
             ],
             [
              0.7777777777777778,
              "#fb9f3a"
             ],
             [
              0.8888888888888888,
              "#fdca26"
             ],
             [
              1.0,
              "#f0f921"
             ]
            ]
           }
          ],
          "choropleth": [
           {
            "type": "choropleth",
            "colorbar": {
             "outlinewidth": 0,
             "ticks": ""
            }
           }
          ],
          "histogram2d": [
           {
            "type": "histogram2d",
            "colorbar": {
             "outlinewidth": 0,
             "ticks": ""
            },
            "colorscale": [
             [
              0.0,
              "#0d0887"
             ],
             [
              0.1111111111111111,
              "#46039f"
             ],
             [
              0.2222222222222222,
              "#7201a8"
             ],
             [
              0.3333333333333333,
              "#9c179e"
             ],
             [
              0.4444444444444444,
              "#bd3786"
             ],
             [
              0.5555555555555556,
              "#d8576b"
             ],
             [
              0.6666666666666666,
              "#ed7953"
             ],
             [
              0.7777777777777778,
              "#fb9f3a"
             ],
             [
              0.8888888888888888,
              "#fdca26"
             ],
             [
              1.0,
              "#f0f921"
             ]
            ]
           }
          ],
          "heatmap": [
           {
            "type": "heatmap",
            "colorbar": {
             "outlinewidth": 0,
             "ticks": ""
            },
            "colorscale": [
             [
              0.0,
              "#0d0887"
             ],
             [
              0.1111111111111111,
              "#46039f"
             ],
             [
              0.2222222222222222,
              "#7201a8"
             ],
             [
              0.3333333333333333,
              "#9c179e"
             ],
             [
              0.4444444444444444,
              "#bd3786"
             ],
             [
              0.5555555555555556,
              "#d8576b"
             ],
             [
              0.6666666666666666,
              "#ed7953"
             ],
             [
              0.7777777777777778,
              "#fb9f3a"
             ],
             [
              0.8888888888888888,
              "#fdca26"
             ],
             [
              1.0,
              "#f0f921"
             ]
            ]
           }
          ],
          "contourcarpet": [
           {
            "type": "contourcarpet",
            "colorbar": {
             "outlinewidth": 0,
             "ticks": ""
            }
           }
          ],
          "contour": [
           {
            "type": "contour",
            "colorbar": {
             "outlinewidth": 0,
             "ticks": ""
            },
            "colorscale": [
             [
              0.0,
              "#0d0887"
             ],
             [
              0.1111111111111111,
              "#46039f"
             ],
             [
              0.2222222222222222,
              "#7201a8"
             ],
             [
              0.3333333333333333,
              "#9c179e"
             ],
             [
              0.4444444444444444,
              "#bd3786"
             ],
             [
              0.5555555555555556,
              "#d8576b"
             ],
             [
              0.6666666666666666,
              "#ed7953"
             ],
             [
              0.7777777777777778,
              "#fb9f3a"
             ],
             [
              0.8888888888888888,
              "#fdca26"
             ],
             [
              1.0,
              "#f0f921"
             ]
            ]
           }
          ],
          "surface": [
           {
            "type": "surface",
            "colorbar": {
             "outlinewidth": 0,
             "ticks": ""
            },
            "colorscale": [
             [
              0.0,
              "#0d0887"
             ],
             [
              0.1111111111111111,
              "#46039f"
             ],
             [
              0.2222222222222222,
              "#7201a8"
             ],
             [
              0.3333333333333333,
              "#9c179e"
             ],
             [
              0.4444444444444444,
              "#bd3786"
             ],
             [
              0.5555555555555556,
              "#d8576b"
             ],
             [
              0.6666666666666666,
              "#ed7953"
             ],
             [
              0.7777777777777778,
              "#fb9f3a"
             ],
             [
              0.8888888888888888,
              "#fdca26"
             ],
             [
              1.0,
              "#f0f921"
             ]
            ]
           }
          ],
          "mesh3d": [
           {
            "type": "mesh3d",
            "colorbar": {
             "outlinewidth": 0,
             "ticks": ""
            }
           }
          ],
          "scatter": [
           {
            "fillpattern": {
             "fillmode": "overlay",
             "size": 10,
             "solidity": 0.2
            },
            "type": "scatter"
           }
          ],
          "parcoords": [
           {
            "type": "parcoords",
            "line": {
             "colorbar": {
              "outlinewidth": 0,
              "ticks": ""
             }
            }
           }
          ],
          "scatterpolargl": [
           {
            "type": "scatterpolargl",
            "marker": {
             "colorbar": {
              "outlinewidth": 0,
              "ticks": ""
             }
            }
           }
          ],
          "bar": [
           {
            "error_x": {
             "color": "#2a3f5f"
            },
            "error_y": {
             "color": "#2a3f5f"
            },
            "marker": {
             "line": {
              "color": "#E5ECF6",
              "width": 0.5
             },
             "pattern": {
              "fillmode": "overlay",
              "size": 10,
              "solidity": 0.2
             }
            },
            "type": "bar"
           }
          ],
          "scattergeo": [
           {
            "type": "scattergeo",
            "marker": {
             "colorbar": {
              "outlinewidth": 0,
              "ticks": ""
             }
            }
           }
          ],
          "scatterpolar": [
           {
            "type": "scatterpolar",
            "marker": {
             "colorbar": {
              "outlinewidth": 0,
              "ticks": ""
             }
            }
           }
          ],
          "histogram": [
           {
            "marker": {
             "pattern": {
              "fillmode": "overlay",
              "size": 10,
              "solidity": 0.2
             }
            },
            "type": "histogram"
           }
          ],
          "scattergl": [
           {
            "type": "scattergl",
            "marker": {
             "colorbar": {
              "outlinewidth": 0,
              "ticks": ""
             }
            }
           }
          ],
          "scatter3d": [
           {
            "type": "scatter3d",
            "line": {
             "colorbar": {
              "outlinewidth": 0,
              "ticks": ""
             }
            },
            "marker": {
             "colorbar": {
              "outlinewidth": 0,
              "ticks": ""
             }
            }
           }
          ],
          "scattermap": [
           {
            "type": "scattermap",
            "marker": {
             "colorbar": {
              "outlinewidth": 0,
              "ticks": ""
             }
            }
           }
          ],
          "scattermapbox": [
           {
            "type": "scattermapbox",
            "marker": {
             "colorbar": {
              "outlinewidth": 0,
              "ticks": ""
             }
            }
           }
          ],
          "scatterternary": [
           {
            "type": "scatterternary",
            "marker": {
             "colorbar": {
              "outlinewidth": 0,
              "ticks": ""
             }
            }
           }
          ],
          "scattercarpet": [
           {
            "type": "scattercarpet",
            "marker": {
             "colorbar": {
              "outlinewidth": 0,
              "ticks": ""
             }
            }
           }
          ],
          "carpet": [
           {
            "aaxis": {
             "endlinecolor": "#2a3f5f",
             "gridcolor": "white",
             "linecolor": "white",
             "minorgridcolor": "white",
             "startlinecolor": "#2a3f5f"
            },
            "baxis": {
             "endlinecolor": "#2a3f5f",
             "gridcolor": "white",
             "linecolor": "white",
             "minorgridcolor": "white",
             "startlinecolor": "#2a3f5f"
            },
            "type": "carpet"
           }
          ],
          "table": [
           {
            "cells": {
             "fill": {
              "color": "#EBF0F8"
             },
             "line": {
              "color": "white"
             }
            },
            "header": {
             "fill": {
              "color": "#C8D4E3"
             },
             "line": {
              "color": "white"
             }
            },
            "type": "table"
           }
          ],
          "barpolar": [
           {
            "marker": {
             "line": {
              "color": "#E5ECF6",
              "width": 0.5
             },
             "pattern": {
              "fillmode": "overlay",
              "size": 10,
              "solidity": 0.2
             }
            },
            "type": "barpolar"
           }
          ],
          "pie": [
           {
            "automargin": true,
            "type": "pie"
           }
          ]
         },
         "layout": {
          "autotypenumbers": "strict",
          "colorway": [
           "#636efa",
           "#EF553B",
           "#00cc96",
           "#ab63fa",
           "#FFA15A",
           "#19d3f3",
           "#FF6692",
           "#B6E880",
           "#FF97FF",
           "#FECB52"
          ],
          "font": {
           "color": "#2a3f5f"
          },
          "hovermode": "closest",
          "hoverlabel": {
           "align": "left"
          },
          "paper_bgcolor": "white",
          "plot_bgcolor": "#E5ECF6",
          "polar": {
           "bgcolor": "#E5ECF6",
           "angularaxis": {
            "gridcolor": "white",
            "linecolor": "white",
            "ticks": ""
           },
           "radialaxis": {
            "gridcolor": "white",
            "linecolor": "white",
            "ticks": ""
           }
          },
          "ternary": {
           "bgcolor": "#E5ECF6",
           "aaxis": {
            "gridcolor": "white",
            "linecolor": "white",
            "ticks": ""
           },
           "baxis": {
            "gridcolor": "white",
            "linecolor": "white",
            "ticks": ""
           },
           "caxis": {
            "gridcolor": "white",
            "linecolor": "white",
            "ticks": ""
           }
          },
          "coloraxis": {
           "colorbar": {
            "outlinewidth": 0,
            "ticks": ""
           }
          },
          "colorscale": {
           "sequential": [
            [
             0.0,
             "#0d0887"
            ],
            [
             0.1111111111111111,
             "#46039f"
            ],
            [
             0.2222222222222222,
             "#7201a8"
            ],
            [
             0.3333333333333333,
             "#9c179e"
            ],
            [
             0.4444444444444444,
             "#bd3786"
            ],
            [
             0.5555555555555556,
             "#d8576b"
            ],
            [
             0.6666666666666666,
             "#ed7953"
            ],
            [
             0.7777777777777778,
             "#fb9f3a"
            ],
            [
             0.8888888888888888,
             "#fdca26"
            ],
            [
             1.0,
             "#f0f921"
            ]
           ],
           "sequentialminus": [
            [
             0.0,
             "#0d0887"
            ],
            [
             0.1111111111111111,
             "#46039f"
            ],
            [
             0.2222222222222222,
             "#7201a8"
            ],
            [
             0.3333333333333333,
             "#9c179e"
            ],
            [
             0.4444444444444444,
             "#bd3786"
            ],
            [
             0.5555555555555556,
             "#d8576b"
            ],
            [
             0.6666666666666666,
             "#ed7953"
            ],
            [
             0.7777777777777778,
             "#fb9f3a"
            ],
            [
             0.8888888888888888,
             "#fdca26"
            ],
            [
             1.0,
             "#f0f921"
            ]
           ],
           "diverging": [
            [
             0,
             "#8e0152"
            ],
            [
             0.1,
             "#c51b7d"
            ],
            [
             0.2,
             "#de77ae"
            ],
            [
             0.3,
             "#f1b6da"
            ],
            [
             0.4,
             "#fde0ef"
            ],
            [
             0.5,
             "#f7f7f7"
            ],
            [
             0.6,
             "#e6f5d0"
            ],
            [
             0.7,
             "#b8e186"
            ],
            [
             0.8,
             "#7fbc41"
            ],
            [
             0.9,
             "#4d9221"
            ],
            [
             1,
             "#276419"
            ]
           ]
          },
          "xaxis": {
           "gridcolor": "white",
           "linecolor": "white",
           "ticks": "",
           "title": {
            "standoff": 15
           },
           "zerolinecolor": "white",
           "automargin": true,
           "zerolinewidth": 2
          },
          "yaxis": {
           "gridcolor": "white",
           "linecolor": "white",
           "ticks": "",
           "title": {
            "standoff": 15
           },
           "zerolinecolor": "white",
           "automargin": true,
           "zerolinewidth": 2
          },
          "scene": {
           "xaxis": {
            "backgroundcolor": "#E5ECF6",
            "gridcolor": "white",
            "linecolor": "white",
            "showbackground": true,
            "ticks": "",
            "zerolinecolor": "white",
            "gridwidth": 2
           },
           "yaxis": {
            "backgroundcolor": "#E5ECF6",
            "gridcolor": "white",
            "linecolor": "white",
            "showbackground": true,
            "ticks": "",
            "zerolinecolor": "white",
            "gridwidth": 2
           },
           "zaxis": {
            "backgroundcolor": "#E5ECF6",
            "gridcolor": "white",
            "linecolor": "white",
            "showbackground": true,
            "ticks": "",
            "zerolinecolor": "white",
            "gridwidth": 2
           }
          },
          "shapedefaults": {
           "line": {
            "color": "#2a3f5f"
           }
          },
          "annotationdefaults": {
           "arrowcolor": "#2a3f5f",
           "arrowhead": 0,
           "arrowwidth": 1
          },
          "geo": {
           "bgcolor": "white",
           "landcolor": "#E5ECF6",
           "subunitcolor": "white",
           "showland": true,
           "showlakes": true,
           "lakecolor": "white"
          },
          "title": {
           "x": 0.05
          },
          "mapbox": {
           "style": "light"
          }
         }
        },
        "xaxis": {
         "anchor": "y",
         "domain": [
          0.0,
          1.0
         ],
         "title": {
          "text": "Player"
         }
        },
        "yaxis": {
         "anchor": "x",
         "domain": [
          0.0,
          1.0
         ],
         "title": {
          "text": "Passes_completed"
         }
        },
        "coloraxis": {
         "colorbar": {
          "title": {
           "text": "Passes_completed"
          }
         },
         "colorscale": [
          [
           0.0,
           "#0d0887"
          ],
          [
           0.1111111111111111,
           "#46039f"
          ],
          [
           0.2222222222222222,
           "#7201a8"
          ],
          [
           0.3333333333333333,
           "#9c179e"
          ],
          [
           0.4444444444444444,
           "#bd3786"
          ],
          [
           0.5555555555555556,
           "#d8576b"
          ],
          [
           0.6666666666666666,
           "#ed7953"
          ],
          [
           0.7777777777777778,
           "#fb9f3a"
          ],
          [
           0.8888888888888888,
           "#fdca26"
          ],
          [
           1.0,
           "#f0f921"
          ]
         ]
        },
        "legend": {
         "tracegroupgap": 0
        },
        "title": {
         "text": "Top 12 Players by Passes Completed"
        },
        "barmode": "relative"
       },
       "config": {
        "plotlyServerURL": "https://plot.ly"
       }
      }
     },
     "metadata": {},
     "output_type": "display_data"
    }
   ],
   "execution_count": 43
  },
  {
   "metadata": {},
   "cell_type": "markdown",
   "source": "#### 21 (Bubble Chart). Best Goalkeepers in Champions League 2025 Season",
   "id": "f2d5db592f960bef"
  },
  {
   "metadata": {
    "ExecuteTime": {
     "end_time": "2025-06-15T11:40:11.396290Z",
     "start_time": "2025-06-15T11:40:11.386513Z"
    }
   },
   "cell_type": "code",
   "source": [
    "goalkeepers = ucl[ucl['Position'] == 'Goalkeeper']\n",
    "top_saves = goalkeepers.sort_values('Saves', ascending=False).head(10)"
   ],
   "id": "1ce9e88f17c3a3b6",
   "outputs": [],
   "execution_count": 44
  },
  {
   "metadata": {
    "ExecuteTime": {
     "end_time": "2025-06-15T11:40:11.602140Z",
     "start_time": "2025-06-15T11:40:11.505482Z"
    }
   },
   "cell_type": "code",
   "source": [
    "fig = px.scatter(\n",
    "    top_saves,\n",
    "    x='Saves',\n",
    "    y='Clean_Sheets',\n",
    "    size='Minutes_played',\n",
    "    color='Player',\n",
    "    size_max=25,\n",
    "    hover_name='Team',\n",
    "    title='Goalkeepers: Saves vs Clean Sheets'\n",
    ")\n",
    "fig.show()"
   ],
   "id": "7f5c62518c03d40d",
   "outputs": [
    {
     "data": {
      "application/vnd.plotly.v1+json": {
       "data": [
        {
         "hovertemplate": "<b>%{hovertext}</b><br><br>Player=Yann Sommer<br>Saves=%{x}<br>Clean_Sheets=%{y}<br>Minutes_played=%{marker.size}<extra></extra>",
         "hovertext": [
          "Inter"
         ],
         "legendgroup": "Yann Sommer",
         "marker": {
          "color": "#636efa",
          "size": {
           "dtype": "i2",
           "bdata": "CgU="
          },
          "sizemode": "area",
          "sizeref": 2.208,
          "symbol": "circle"
         },
         "mode": "markers",
         "name": "Yann Sommer",
         "orientation": "v",
         "showlegend": true,
         "x": {
          "dtype": "i1",
          "bdata": "Ng=="
         },
         "xaxis": "x",
         "y": {
          "dtype": "i1",
          "bdata": "Bw=="
         },
         "yaxis": "y",
         "type": "scatter"
        },
        {
         "hovertemplate": "<b>%{hovertext}</b><br><br>Player=Courtois<br>Saves=%{x}<br>Clean_Sheets=%{y}<br>Minutes_played=%{marker.size}<extra></extra>",
         "hovertext": [
          "Real Madrid"
         ],
         "legendgroup": "Courtois",
         "marker": {
          "color": "#EF553B",
          "size": {
           "dtype": "i2",
           "bdata": "VgQ="
          },
          "sizemode": "area",
          "sizeref": 2.208,
          "symbol": "circle"
         },
         "mode": "markers",
         "name": "Courtois",
         "orientation": "v",
         "showlegend": true,
         "x": {
          "dtype": "i1",
          "bdata": "NA=="
         },
         "xaxis": "x",
         "y": {
          "dtype": "i1",
          "bdata": "AQ=="
         },
         "yaxis": "y",
         "type": "scatter"
        },
        {
         "hovertemplate": "<b>%{hovertext}</b><br><br>Player=Emiliano Martinez<br>Saves=%{x}<br>Clean_Sheets=%{y}<br>Minutes_played=%{marker.size}<extra></extra>",
         "hovertext": [
          "Aston Villa"
         ],
         "legendgroup": "Emiliano Martinez",
         "marker": {
          "color": "#00cc96",
          "size": {
           "dtype": "i2",
           "bdata": "OAQ="
          },
          "sizemode": "area",
          "sizeref": 2.208,
          "symbol": "circle"
         },
         "mode": "markers",
         "name": "Emiliano Martinez",
         "orientation": "v",
         "showlegend": true,
         "x": {
          "dtype": "i1",
          "bdata": "Mg=="
         },
         "xaxis": "x",
         "y": {
          "dtype": "i1",
          "bdata": "BQ=="
         },
         "yaxis": "y",
         "type": "scatter"
        },
        {
         "hovertemplate": "<b>%{hovertext}</b><br><br>Player=Schmeichel<br>Saves=%{x}<br>Clean_Sheets=%{y}<br>Minutes_played=%{marker.size}<extra></extra>",
         "hovertext": [
          "Celtic"
         ],
         "legendgroup": "Schmeichel",
         "marker": {
          "color": "#ab63fa",
          "size": {
           "dtype": "i2",
           "bdata": "hAM="
          },
          "sizemode": "area",
          "sizeref": 2.208,
          "symbol": "circle"
         },
         "mode": "markers",
         "name": "Schmeichel",
         "orientation": "v",
         "showlegend": true,
         "x": {
          "dtype": "i1",
          "bdata": "KQ=="
         },
         "xaxis": "x",
         "y": {
          "dtype": "i1",
          "bdata": "Aw=="
         },
         "yaxis": "y",
         "type": "scatter"
        },
        {
         "hovertemplate": "<b>%{hovertext}</b><br><br>Player=Wellenreuther <br>Saves=%{x}<br>Clean_Sheets=%{y}<br>Minutes_played=%{marker.size}<extra></extra>",
         "hovertext": [
          "Feyenoord"
         ],
         "legendgroup": "Wellenreuther ",
         "marker": {
          "color": "#FFA15A",
          "size": {
           "dtype": "i2",
           "bdata": "uwM="
          },
          "sizemode": "area",
          "sizeref": 2.208,
          "symbol": "circle"
         },
         "mode": "markers",
         "name": "Wellenreuther ",
         "orientation": "v",
         "showlegend": true,
         "x": {
          "dtype": "i1",
          "bdata": "KQ=="
         },
         "xaxis": "x",
         "y": {
          "dtype": "i1",
          "bdata": "AQ=="
         },
         "yaxis": "y",
         "type": "scatter"
        },
        {
         "hovertemplate": "<b>%{hovertext}</b><br><br>Player=Donnarumma<br>Saves=%{x}<br>Clean_Sheets=%{y}<br>Minutes_played=%{marker.size}<extra></extra>",
         "hovertext": [
          "Paris SG"
         ],
         "legendgroup": "Donnarumma",
         "marker": {
          "color": "#19d3f3",
          "size": {
           "dtype": "i2",
           "bdata": "ZAU="
          },
          "sizemode": "area",
          "sizeref": 2.208,
          "symbol": "circle"
         },
         "mode": "markers",
         "name": "Donnarumma",
         "orientation": "v",
         "showlegend": true,
         "x": {
          "dtype": "i1",
          "bdata": "Jw=="
         },
         "xaxis": "x",
         "y": {
          "dtype": "i1",
          "bdata": "Bg=="
         },
         "yaxis": "y",
         "type": "scatter"
        },
        {
         "hovertemplate": "<b>%{hovertext}</b><br><br>Player=Riznyk<br>Saves=%{x}<br>Clean_Sheets=%{y}<br>Minutes_played=%{marker.size}<extra></extra>",
         "hovertext": [
          "Shakhtar Donetsk"
         ],
         "legendgroup": "Riznyk",
         "marker": {
          "color": "#FF6692",
          "size": {
           "dtype": "i2",
           "bdata": "0AI="
          },
          "sizemode": "area",
          "sizeref": 2.208,
          "symbol": "circle"
         },
         "mode": "markers",
         "name": "Riznyk",
         "orientation": "v",
         "showlegend": true,
         "x": {
          "dtype": "i1",
          "bdata": "JQ=="
         },
         "xaxis": "x",
         "y": {
          "dtype": "i1",
          "bdata": "Ag=="
         },
         "yaxis": "y",
         "type": "scatter"
        },
        {
         "hovertemplate": "<b>%{hovertext}</b><br><br>Player=Mike Maignan<br>Saves=%{x}<br>Clean_Sheets=%{y}<br>Minutes_played=%{marker.size}<extra></extra>",
         "hovertext": [
          "Milan"
         ],
         "legendgroup": "Mike Maignan",
         "marker": {
          "color": "#B6E880",
          "size": {
           "dtype": "i2",
           "bdata": "XQM="
          },
          "sizemode": "area",
          "sizeref": 2.208,
          "symbol": "circle"
         },
         "mode": "markers",
         "name": "Mike Maignan",
         "orientation": "v",
         "showlegend": true,
         "x": {
          "dtype": "i1",
          "bdata": "JA=="
         },
         "xaxis": "x",
         "y": {
          "dtype": "i1",
          "bdata": "AQ=="
         },
         "yaxis": "y",
         "type": "scatter"
        },
        {
         "hovertemplate": "<b>%{hovertext}</b><br><br>Player=Mignolet<br>Saves=%{x}<br>Clean_Sheets=%{y}<br>Minutes_played=%{marker.size}<extra></extra>",
         "hovertext": [
          "Club Brugge"
         ],
         "legendgroup": "Mignolet",
         "marker": {
          "color": "#FF97FF",
          "size": {
           "dtype": "i2",
           "bdata": "OAQ="
          },
          "sizemode": "area",
          "sizeref": 2.208,
          "symbol": "circle"
         },
         "mode": "markers",
         "name": "Mignolet",
         "orientation": "v",
         "showlegend": true,
         "x": {
          "dtype": "i1",
          "bdata": "JA=="
         },
         "xaxis": "x",
         "y": {
          "dtype": "i1",
          "bdata": "Aw=="
         },
         "yaxis": "y",
         "type": "scatter"
        },
        {
         "hovertemplate": "<b>%{hovertext}</b><br><br>Player=David Raya<br>Saves=%{x}<br>Clean_Sheets=%{y}<br>Minutes_played=%{marker.size}<extra></extra>",
         "hovertext": [
          "Arsenal FC"
         ],
         "legendgroup": "David Raya",
         "marker": {
          "color": "#FECB52",
          "size": {
           "dtype": "i2",
           "bdata": "kgQ="
          },
          "sizemode": "area",
          "sizeref": 2.208,
          "symbol": "circle"
         },
         "mode": "markers",
         "name": "David Raya",
         "orientation": "v",
         "showlegend": true,
         "x": {
          "dtype": "i1",
          "bdata": "IA=="
         },
         "xaxis": "x",
         "y": {
          "dtype": "i1",
          "bdata": "Bg=="
         },
         "yaxis": "y",
         "type": "scatter"
        }
       ],
       "layout": {
        "template": {
         "data": {
          "histogram2dcontour": [
           {
            "type": "histogram2dcontour",
            "colorbar": {
             "outlinewidth": 0,
             "ticks": ""
            },
            "colorscale": [
             [
              0.0,
              "#0d0887"
             ],
             [
              0.1111111111111111,
              "#46039f"
             ],
             [
              0.2222222222222222,
              "#7201a8"
             ],
             [
              0.3333333333333333,
              "#9c179e"
             ],
             [
              0.4444444444444444,
              "#bd3786"
             ],
             [
              0.5555555555555556,
              "#d8576b"
             ],
             [
              0.6666666666666666,
              "#ed7953"
             ],
             [
              0.7777777777777778,
              "#fb9f3a"
             ],
             [
              0.8888888888888888,
              "#fdca26"
             ],
             [
              1.0,
              "#f0f921"
             ]
            ]
           }
          ],
          "choropleth": [
           {
            "type": "choropleth",
            "colorbar": {
             "outlinewidth": 0,
             "ticks": ""
            }
           }
          ],
          "histogram2d": [
           {
            "type": "histogram2d",
            "colorbar": {
             "outlinewidth": 0,
             "ticks": ""
            },
            "colorscale": [
             [
              0.0,
              "#0d0887"
             ],
             [
              0.1111111111111111,
              "#46039f"
             ],
             [
              0.2222222222222222,
              "#7201a8"
             ],
             [
              0.3333333333333333,
              "#9c179e"
             ],
             [
              0.4444444444444444,
              "#bd3786"
             ],
             [
              0.5555555555555556,
              "#d8576b"
             ],
             [
              0.6666666666666666,
              "#ed7953"
             ],
             [
              0.7777777777777778,
              "#fb9f3a"
             ],
             [
              0.8888888888888888,
              "#fdca26"
             ],
             [
              1.0,
              "#f0f921"
             ]
            ]
           }
          ],
          "heatmap": [
           {
            "type": "heatmap",
            "colorbar": {
             "outlinewidth": 0,
             "ticks": ""
            },
            "colorscale": [
             [
              0.0,
              "#0d0887"
             ],
             [
              0.1111111111111111,
              "#46039f"
             ],
             [
              0.2222222222222222,
              "#7201a8"
             ],
             [
              0.3333333333333333,
              "#9c179e"
             ],
             [
              0.4444444444444444,
              "#bd3786"
             ],
             [
              0.5555555555555556,
              "#d8576b"
             ],
             [
              0.6666666666666666,
              "#ed7953"
             ],
             [
              0.7777777777777778,
              "#fb9f3a"
             ],
             [
              0.8888888888888888,
              "#fdca26"
             ],
             [
              1.0,
              "#f0f921"
             ]
            ]
           }
          ],
          "contourcarpet": [
           {
            "type": "contourcarpet",
            "colorbar": {
             "outlinewidth": 0,
             "ticks": ""
            }
           }
          ],
          "contour": [
           {
            "type": "contour",
            "colorbar": {
             "outlinewidth": 0,
             "ticks": ""
            },
            "colorscale": [
             [
              0.0,
              "#0d0887"
             ],
             [
              0.1111111111111111,
              "#46039f"
             ],
             [
              0.2222222222222222,
              "#7201a8"
             ],
             [
              0.3333333333333333,
              "#9c179e"
             ],
             [
              0.4444444444444444,
              "#bd3786"
             ],
             [
              0.5555555555555556,
              "#d8576b"
             ],
             [
              0.6666666666666666,
              "#ed7953"
             ],
             [
              0.7777777777777778,
              "#fb9f3a"
             ],
             [
              0.8888888888888888,
              "#fdca26"
             ],
             [
              1.0,
              "#f0f921"
             ]
            ]
           }
          ],
          "surface": [
           {
            "type": "surface",
            "colorbar": {
             "outlinewidth": 0,
             "ticks": ""
            },
            "colorscale": [
             [
              0.0,
              "#0d0887"
             ],
             [
              0.1111111111111111,
              "#46039f"
             ],
             [
              0.2222222222222222,
              "#7201a8"
             ],
             [
              0.3333333333333333,
              "#9c179e"
             ],
             [
              0.4444444444444444,
              "#bd3786"
             ],
             [
              0.5555555555555556,
              "#d8576b"
             ],
             [
              0.6666666666666666,
              "#ed7953"
             ],
             [
              0.7777777777777778,
              "#fb9f3a"
             ],
             [
              0.8888888888888888,
              "#fdca26"
             ],
             [
              1.0,
              "#f0f921"
             ]
            ]
           }
          ],
          "mesh3d": [
           {
            "type": "mesh3d",
            "colorbar": {
             "outlinewidth": 0,
             "ticks": ""
            }
           }
          ],
          "scatter": [
           {
            "fillpattern": {
             "fillmode": "overlay",
             "size": 10,
             "solidity": 0.2
            },
            "type": "scatter"
           }
          ],
          "parcoords": [
           {
            "type": "parcoords",
            "line": {
             "colorbar": {
              "outlinewidth": 0,
              "ticks": ""
             }
            }
           }
          ],
          "scatterpolargl": [
           {
            "type": "scatterpolargl",
            "marker": {
             "colorbar": {
              "outlinewidth": 0,
              "ticks": ""
             }
            }
           }
          ],
          "bar": [
           {
            "error_x": {
             "color": "#2a3f5f"
            },
            "error_y": {
             "color": "#2a3f5f"
            },
            "marker": {
             "line": {
              "color": "#E5ECF6",
              "width": 0.5
             },
             "pattern": {
              "fillmode": "overlay",
              "size": 10,
              "solidity": 0.2
             }
            },
            "type": "bar"
           }
          ],
          "scattergeo": [
           {
            "type": "scattergeo",
            "marker": {
             "colorbar": {
              "outlinewidth": 0,
              "ticks": ""
             }
            }
           }
          ],
          "scatterpolar": [
           {
            "type": "scatterpolar",
            "marker": {
             "colorbar": {
              "outlinewidth": 0,
              "ticks": ""
             }
            }
           }
          ],
          "histogram": [
           {
            "marker": {
             "pattern": {
              "fillmode": "overlay",
              "size": 10,
              "solidity": 0.2
             }
            },
            "type": "histogram"
           }
          ],
          "scattergl": [
           {
            "type": "scattergl",
            "marker": {
             "colorbar": {
              "outlinewidth": 0,
              "ticks": ""
             }
            }
           }
          ],
          "scatter3d": [
           {
            "type": "scatter3d",
            "line": {
             "colorbar": {
              "outlinewidth": 0,
              "ticks": ""
             }
            },
            "marker": {
             "colorbar": {
              "outlinewidth": 0,
              "ticks": ""
             }
            }
           }
          ],
          "scattermap": [
           {
            "type": "scattermap",
            "marker": {
             "colorbar": {
              "outlinewidth": 0,
              "ticks": ""
             }
            }
           }
          ],
          "scattermapbox": [
           {
            "type": "scattermapbox",
            "marker": {
             "colorbar": {
              "outlinewidth": 0,
              "ticks": ""
             }
            }
           }
          ],
          "scatterternary": [
           {
            "type": "scatterternary",
            "marker": {
             "colorbar": {
              "outlinewidth": 0,
              "ticks": ""
             }
            }
           }
          ],
          "scattercarpet": [
           {
            "type": "scattercarpet",
            "marker": {
             "colorbar": {
              "outlinewidth": 0,
              "ticks": ""
             }
            }
           }
          ],
          "carpet": [
           {
            "aaxis": {
             "endlinecolor": "#2a3f5f",
             "gridcolor": "white",
             "linecolor": "white",
             "minorgridcolor": "white",
             "startlinecolor": "#2a3f5f"
            },
            "baxis": {
             "endlinecolor": "#2a3f5f",
             "gridcolor": "white",
             "linecolor": "white",
             "minorgridcolor": "white",
             "startlinecolor": "#2a3f5f"
            },
            "type": "carpet"
           }
          ],
          "table": [
           {
            "cells": {
             "fill": {
              "color": "#EBF0F8"
             },
             "line": {
              "color": "white"
             }
            },
            "header": {
             "fill": {
              "color": "#C8D4E3"
             },
             "line": {
              "color": "white"
             }
            },
            "type": "table"
           }
          ],
          "barpolar": [
           {
            "marker": {
             "line": {
              "color": "#E5ECF6",
              "width": 0.5
             },
             "pattern": {
              "fillmode": "overlay",
              "size": 10,
              "solidity": 0.2
             }
            },
            "type": "barpolar"
           }
          ],
          "pie": [
           {
            "automargin": true,
            "type": "pie"
           }
          ]
         },
         "layout": {
          "autotypenumbers": "strict",
          "colorway": [
           "#636efa",
           "#EF553B",
           "#00cc96",
           "#ab63fa",
           "#FFA15A",
           "#19d3f3",
           "#FF6692",
           "#B6E880",
           "#FF97FF",
           "#FECB52"
          ],
          "font": {
           "color": "#2a3f5f"
          },
          "hovermode": "closest",
          "hoverlabel": {
           "align": "left"
          },
          "paper_bgcolor": "white",
          "plot_bgcolor": "#E5ECF6",
          "polar": {
           "bgcolor": "#E5ECF6",
           "angularaxis": {
            "gridcolor": "white",
            "linecolor": "white",
            "ticks": ""
           },
           "radialaxis": {
            "gridcolor": "white",
            "linecolor": "white",
            "ticks": ""
           }
          },
          "ternary": {
           "bgcolor": "#E5ECF6",
           "aaxis": {
            "gridcolor": "white",
            "linecolor": "white",
            "ticks": ""
           },
           "baxis": {
            "gridcolor": "white",
            "linecolor": "white",
            "ticks": ""
           },
           "caxis": {
            "gridcolor": "white",
            "linecolor": "white",
            "ticks": ""
           }
          },
          "coloraxis": {
           "colorbar": {
            "outlinewidth": 0,
            "ticks": ""
           }
          },
          "colorscale": {
           "sequential": [
            [
             0.0,
             "#0d0887"
            ],
            [
             0.1111111111111111,
             "#46039f"
            ],
            [
             0.2222222222222222,
             "#7201a8"
            ],
            [
             0.3333333333333333,
             "#9c179e"
            ],
            [
             0.4444444444444444,
             "#bd3786"
            ],
            [
             0.5555555555555556,
             "#d8576b"
            ],
            [
             0.6666666666666666,
             "#ed7953"
            ],
            [
             0.7777777777777778,
             "#fb9f3a"
            ],
            [
             0.8888888888888888,
             "#fdca26"
            ],
            [
             1.0,
             "#f0f921"
            ]
           ],
           "sequentialminus": [
            [
             0.0,
             "#0d0887"
            ],
            [
             0.1111111111111111,
             "#46039f"
            ],
            [
             0.2222222222222222,
             "#7201a8"
            ],
            [
             0.3333333333333333,
             "#9c179e"
            ],
            [
             0.4444444444444444,
             "#bd3786"
            ],
            [
             0.5555555555555556,
             "#d8576b"
            ],
            [
             0.6666666666666666,
             "#ed7953"
            ],
            [
             0.7777777777777778,
             "#fb9f3a"
            ],
            [
             0.8888888888888888,
             "#fdca26"
            ],
            [
             1.0,
             "#f0f921"
            ]
           ],
           "diverging": [
            [
             0,
             "#8e0152"
            ],
            [
             0.1,
             "#c51b7d"
            ],
            [
             0.2,
             "#de77ae"
            ],
            [
             0.3,
             "#f1b6da"
            ],
            [
             0.4,
             "#fde0ef"
            ],
            [
             0.5,
             "#f7f7f7"
            ],
            [
             0.6,
             "#e6f5d0"
            ],
            [
             0.7,
             "#b8e186"
            ],
            [
             0.8,
             "#7fbc41"
            ],
            [
             0.9,
             "#4d9221"
            ],
            [
             1,
             "#276419"
            ]
           ]
          },
          "xaxis": {
           "gridcolor": "white",
           "linecolor": "white",
           "ticks": "",
           "title": {
            "standoff": 15
           },
           "zerolinecolor": "white",
           "automargin": true,
           "zerolinewidth": 2
          },
          "yaxis": {
           "gridcolor": "white",
           "linecolor": "white",
           "ticks": "",
           "title": {
            "standoff": 15
           },
           "zerolinecolor": "white",
           "automargin": true,
           "zerolinewidth": 2
          },
          "scene": {
           "xaxis": {
            "backgroundcolor": "#E5ECF6",
            "gridcolor": "white",
            "linecolor": "white",
            "showbackground": true,
            "ticks": "",
            "zerolinecolor": "white",
            "gridwidth": 2
           },
           "yaxis": {
            "backgroundcolor": "#E5ECF6",
            "gridcolor": "white",
            "linecolor": "white",
            "showbackground": true,
            "ticks": "",
            "zerolinecolor": "white",
            "gridwidth": 2
           },
           "zaxis": {
            "backgroundcolor": "#E5ECF6",
            "gridcolor": "white",
            "linecolor": "white",
            "showbackground": true,
            "ticks": "",
            "zerolinecolor": "white",
            "gridwidth": 2
           }
          },
          "shapedefaults": {
           "line": {
            "color": "#2a3f5f"
           }
          },
          "annotationdefaults": {
           "arrowcolor": "#2a3f5f",
           "arrowhead": 0,
           "arrowwidth": 1
          },
          "geo": {
           "bgcolor": "white",
           "landcolor": "#E5ECF6",
           "subunitcolor": "white",
           "showland": true,
           "showlakes": true,
           "lakecolor": "white"
          },
          "title": {
           "x": 0.05
          },
          "mapbox": {
           "style": "light"
          }
         }
        },
        "xaxis": {
         "anchor": "y",
         "domain": [
          0.0,
          1.0
         ],
         "title": {
          "text": "Saves"
         }
        },
        "yaxis": {
         "anchor": "x",
         "domain": [
          0.0,
          1.0
         ],
         "title": {
          "text": "Clean_Sheets"
         }
        },
        "legend": {
         "title": {
          "text": "Player"
         },
         "tracegroupgap": 0,
         "itemsizing": "constant"
        },
        "title": {
         "text": "Goalkeepers: Saves vs Clean Sheets"
        }
       },
       "config": {
        "plotlyServerURL": "https://plot.ly"
       }
      }
     },
     "metadata": {},
     "output_type": "display_data"
    }
   ],
   "execution_count": 45
  },
  {
   "metadata": {
    "ExecuteTime": {
     "end_time": "2025-06-15T11:40:11.670030Z",
     "start_time": "2025-06-15T11:40:11.661742Z"
    }
   },
   "cell_type": "code",
   "source": [
    "goalkeepers['Gk_Level'] = (\n",
    "    goalkeepers['Saves'] * 1.5 +\n",
    "    goalkeepers['Clean_Sheets'] * 4 -\n",
    "    goalkeepers['Goals_Conceded'] * 1.2\n",
    ")\n",
    "\n",
    "best_gks = goalkeepers.sort_values('Gk_Level', ascending=False).head(10)"
   ],
   "id": "bcf5f4e1a3cd557b",
   "outputs": [
    {
     "name": "stderr",
     "output_type": "stream",
     "text": [
      "C:\\Users\\arber\\AppData\\Local\\Temp\\ipykernel_3888\\1610042829.py:1: SettingWithCopyWarning:\n",
      "\n",
      "\n",
      "A value is trying to be set on a copy of a slice from a DataFrame.\n",
      "Try using .loc[row_indexer,col_indexer] = value instead\n",
      "\n",
      "See the caveats in the documentation: https://pandas.pydata.org/pandas-docs/stable/user_guide/indexing.html#returning-a-view-versus-a-copy\n",
      "\n"
     ]
    }
   ],
   "execution_count": 46
  },
  {
   "metadata": {
    "ExecuteTime": {
     "end_time": "2025-06-15T11:40:11.814178Z",
     "start_time": "2025-06-15T11:40:11.780852Z"
    }
   },
   "cell_type": "code",
   "source": "best_gks[['Player','Age', 'Team', 'Saves', 'Clean_Sheets', 'Goals_Conceded', 'Gk_Level']].head(10)",
   "id": "9c15aee81f0156a7",
   "outputs": [
    {
     "data": {
      "text/plain": [
       "                Player  Age              Team  Saves  Clean_Sheets  \\\n",
       "112        Yann Sommer   36             Inter     54             7   \n",
       "160  Emiliano Martinez   30       Aston Villa     50             5   \n",
       "110         Donnarumma   26          Paris SG     39             6   \n",
       "58          David Raya   29        Arsenal FC     32             6   \n",
       "33            Courtois   32       Real Madrid     52             1   \n",
       "196         Schmeichel   38            Celtic     41             3   \n",
       "52      Alisson Becker   32      Liverpool FC     24             3   \n",
       "126             Riznyk   26  Shakhtar Donetsk     37             2   \n",
       "42        Mike Maignan   29             Milan     36             1   \n",
       "172           Mignolet   37       Club Brugge     36             3   \n",
       "\n",
       "     Goals_Conceded  Gk_Level  \n",
       "112              16      89.8  \n",
       "160              12      80.6  \n",
       "110              14      65.7  \n",
       "58                9      61.2  \n",
       "33               18      60.4  \n",
       "196              17      53.1  \n",
       "52                3      44.4  \n",
       "126              16      44.3  \n",
       "42               12      43.6  \n",
       "172              19      43.2  "
      ],
      "text/html": [
       "<div>\n",
       "<style scoped>\n",
       "    .dataframe tbody tr th:only-of-type {\n",
       "        vertical-align: middle;\n",
       "    }\n",
       "\n",
       "    .dataframe tbody tr th {\n",
       "        vertical-align: top;\n",
       "    }\n",
       "\n",
       "    .dataframe thead th {\n",
       "        text-align: right;\n",
       "    }\n",
       "</style>\n",
       "<table border=\"1\" class=\"dataframe\">\n",
       "  <thead>\n",
       "    <tr style=\"text-align: right;\">\n",
       "      <th></th>\n",
       "      <th>Player</th>\n",
       "      <th>Age</th>\n",
       "      <th>Team</th>\n",
       "      <th>Saves</th>\n",
       "      <th>Clean_Sheets</th>\n",
       "      <th>Goals_Conceded</th>\n",
       "      <th>Gk_Level</th>\n",
       "    </tr>\n",
       "  </thead>\n",
       "  <tbody>\n",
       "    <tr>\n",
       "      <th>112</th>\n",
       "      <td>Yann Sommer</td>\n",
       "      <td>36</td>\n",
       "      <td>Inter</td>\n",
       "      <td>54</td>\n",
       "      <td>7</td>\n",
       "      <td>16</td>\n",
       "      <td>89.8</td>\n",
       "    </tr>\n",
       "    <tr>\n",
       "      <th>160</th>\n",
       "      <td>Emiliano Martinez</td>\n",
       "      <td>30</td>\n",
       "      <td>Aston Villa</td>\n",
       "      <td>50</td>\n",
       "      <td>5</td>\n",
       "      <td>12</td>\n",
       "      <td>80.6</td>\n",
       "    </tr>\n",
       "    <tr>\n",
       "      <th>110</th>\n",
       "      <td>Donnarumma</td>\n",
       "      <td>26</td>\n",
       "      <td>Paris SG</td>\n",
       "      <td>39</td>\n",
       "      <td>6</td>\n",
       "      <td>14</td>\n",
       "      <td>65.7</td>\n",
       "    </tr>\n",
       "    <tr>\n",
       "      <th>58</th>\n",
       "      <td>David Raya</td>\n",
       "      <td>29</td>\n",
       "      <td>Arsenal FC</td>\n",
       "      <td>32</td>\n",
       "      <td>6</td>\n",
       "      <td>9</td>\n",
       "      <td>61.2</td>\n",
       "    </tr>\n",
       "    <tr>\n",
       "      <th>33</th>\n",
       "      <td>Courtois</td>\n",
       "      <td>32</td>\n",
       "      <td>Real Madrid</td>\n",
       "      <td>52</td>\n",
       "      <td>1</td>\n",
       "      <td>18</td>\n",
       "      <td>60.4</td>\n",
       "    </tr>\n",
       "    <tr>\n",
       "      <th>196</th>\n",
       "      <td>Schmeichel</td>\n",
       "      <td>38</td>\n",
       "      <td>Celtic</td>\n",
       "      <td>41</td>\n",
       "      <td>3</td>\n",
       "      <td>17</td>\n",
       "      <td>53.1</td>\n",
       "    </tr>\n",
       "    <tr>\n",
       "      <th>52</th>\n",
       "      <td>Alisson Becker</td>\n",
       "      <td>32</td>\n",
       "      <td>Liverpool FC</td>\n",
       "      <td>24</td>\n",
       "      <td>3</td>\n",
       "      <td>3</td>\n",
       "      <td>44.4</td>\n",
       "    </tr>\n",
       "    <tr>\n",
       "      <th>126</th>\n",
       "      <td>Riznyk</td>\n",
       "      <td>26</td>\n",
       "      <td>Shakhtar Donetsk</td>\n",
       "      <td>37</td>\n",
       "      <td>2</td>\n",
       "      <td>16</td>\n",
       "      <td>44.3</td>\n",
       "    </tr>\n",
       "    <tr>\n",
       "      <th>42</th>\n",
       "      <td>Mike Maignan</td>\n",
       "      <td>29</td>\n",
       "      <td>Milan</td>\n",
       "      <td>36</td>\n",
       "      <td>1</td>\n",
       "      <td>12</td>\n",
       "      <td>43.6</td>\n",
       "    </tr>\n",
       "    <tr>\n",
       "      <th>172</th>\n",
       "      <td>Mignolet</td>\n",
       "      <td>37</td>\n",
       "      <td>Club Brugge</td>\n",
       "      <td>36</td>\n",
       "      <td>3</td>\n",
       "      <td>19</td>\n",
       "      <td>43.2</td>\n",
       "    </tr>\n",
       "  </tbody>\n",
       "</table>\n",
       "</div>"
      ]
     },
     "execution_count": 47,
     "metadata": {},
     "output_type": "execute_result"
    }
   ],
   "execution_count": 47
  },
  {
   "metadata": {
    "ExecuteTime": {
     "end_time": "2025-06-15T11:40:12.016075Z",
     "start_time": "2025-06-15T11:40:11.941968Z"
    }
   },
   "cell_type": "code",
   "source": [
    "fig = px.bar(\n",
    "    best_gks[['Player', 'Gk_Level', 'Team']],\n",
    "    x= 'Player',\n",
    "    y='Gk_Level',\n",
    "    color='Team',\n",
    "    title='Best Goalkeepers in Champions League 2025',\n",
    "    text='Gk_Level'\n",
    ")\n",
    "fig.show()"
   ],
   "id": "601ff956dfc58f54",
   "outputs": [
    {
     "data": {
      "application/vnd.plotly.v1+json": {
       "data": [
        {
         "hovertemplate": "Team=Inter<br>Player=%{x}<br>Gk_Level=%{text}<extra></extra>",
         "legendgroup": "Inter",
         "marker": {
          "color": "#636efa",
          "pattern": {
           "shape": ""
          }
         },
         "name": "Inter",
         "orientation": "v",
         "showlegend": true,
         "text": {
          "dtype": "f8",
          "bdata": "MzMzMzNzVkA="
         },
         "textposition": "auto",
         "x": [
          "Yann Sommer"
         ],
         "xaxis": "x",
         "y": {
          "dtype": "f8",
          "bdata": "MzMzMzNzVkA="
         },
         "yaxis": "y",
         "type": "bar"
        },
        {
         "hovertemplate": "Team=Aston Villa<br>Player=%{x}<br>Gk_Level=%{text}<extra></extra>",
         "legendgroup": "Aston Villa",
         "marker": {
          "color": "#EF553B",
          "pattern": {
           "shape": ""
          }
         },
         "name": "Aston Villa",
         "orientation": "v",
         "showlegend": true,
         "text": {
          "dtype": "f8",
          "bdata": "ZmZmZmYmVEA="
         },
         "textposition": "auto",
         "x": [
          "Emiliano Martinez"
         ],
         "xaxis": "x",
         "y": {
          "dtype": "f8",
          "bdata": "ZmZmZmYmVEA="
         },
         "yaxis": "y",
         "type": "bar"
        },
        {
         "hovertemplate": "Team=Paris SG<br>Player=%{x}<br>Gk_Level=%{text}<extra></extra>",
         "legendgroup": "Paris SG",
         "marker": {
          "color": "#00cc96",
          "pattern": {
           "shape": ""
          }
         },
         "name": "Paris SG",
         "orientation": "v",
         "showlegend": true,
         "text": {
          "dtype": "f8",
          "bdata": "zczMzMxsUEA="
         },
         "textposition": "auto",
         "x": [
          "Donnarumma"
         ],
         "xaxis": "x",
         "y": {
          "dtype": "f8",
          "bdata": "zczMzMxsUEA="
         },
         "yaxis": "y",
         "type": "bar"
        },
        {
         "hovertemplate": "Team=Arsenal FC<br>Player=%{x}<br>Gk_Level=%{text}<extra></extra>",
         "legendgroup": "Arsenal FC",
         "marker": {
          "color": "#ab63fa",
          "pattern": {
           "shape": ""
          }
         },
         "name": "Arsenal FC",
         "orientation": "v",
         "showlegend": true,
         "text": {
          "dtype": "f8",
          "bdata": "mpmZmZmZTkA="
         },
         "textposition": "auto",
         "x": [
          "David Raya"
         ],
         "xaxis": "x",
         "y": {
          "dtype": "f8",
          "bdata": "mpmZmZmZTkA="
         },
         "yaxis": "y",
         "type": "bar"
        },
        {
         "hovertemplate": "Team=Real Madrid<br>Player=%{x}<br>Gk_Level=%{text}<extra></extra>",
         "legendgroup": "Real Madrid",
         "marker": {
          "color": "#FFA15A",
          "pattern": {
           "shape": ""
          }
         },
         "name": "Real Madrid",
         "orientation": "v",
         "showlegend": true,
         "text": {
          "dtype": "f8",
          "bdata": "NDMzMzMzTkA="
         },
         "textposition": "auto",
         "x": [
          "Courtois"
         ],
         "xaxis": "x",
         "y": {
          "dtype": "f8",
          "bdata": "NDMzMzMzTkA="
         },
         "yaxis": "y",
         "type": "bar"
        },
        {
         "hovertemplate": "Team=Celtic<br>Player=%{x}<br>Gk_Level=%{text}<extra></extra>",
         "legendgroup": "Celtic",
         "marker": {
          "color": "#19d3f3",
          "pattern": {
           "shape": ""
          }
         },
         "name": "Celtic",
         "orientation": "v",
         "showlegend": true,
         "text": {
          "dtype": "f8",
          "bdata": "zczMzMyMSkA="
         },
         "textposition": "auto",
         "x": [
          "Schmeichel"
         ],
         "xaxis": "x",
         "y": {
          "dtype": "f8",
          "bdata": "zczMzMyMSkA="
         },
         "yaxis": "y",
         "type": "bar"
        },
        {
         "hovertemplate": "Team=Liverpool FC<br>Player=%{x}<br>Gk_Level=%{text}<extra></extra>",
         "legendgroup": "Liverpool FC",
         "marker": {
          "color": "#FF6692",
          "pattern": {
           "shape": ""
          }
         },
         "name": "Liverpool FC",
         "orientation": "v",
         "showlegend": true,
         "text": {
          "dtype": "f8",
          "bdata": "MzMzMzMzRkA="
         },
         "textposition": "auto",
         "x": [
          "Alisson Becker"
         ],
         "xaxis": "x",
         "y": {
          "dtype": "f8",
          "bdata": "MzMzMzMzRkA="
         },
         "yaxis": "y",
         "type": "bar"
        },
        {
         "hovertemplate": "Team=Shakhtar Donetsk<br>Player=%{x}<br>Gk_Level=%{text}<extra></extra>",
         "legendgroup": "Shakhtar Donetsk",
         "marker": {
          "color": "#B6E880",
          "pattern": {
           "shape": ""
          }
         },
         "name": "Shakhtar Donetsk",
         "orientation": "v",
         "showlegend": true,
         "text": {
          "dtype": "f8",
          "bdata": "ZmZmZmYmRkA="
         },
         "textposition": "auto",
         "x": [
          "Riznyk"
         ],
         "xaxis": "x",
         "y": {
          "dtype": "f8",
          "bdata": "ZmZmZmYmRkA="
         },
         "yaxis": "y",
         "type": "bar"
        },
        {
         "hovertemplate": "Team=Milan<br>Player=%{x}<br>Gk_Level=%{text}<extra></extra>",
         "legendgroup": "Milan",
         "marker": {
          "color": "#FF97FF",
          "pattern": {
           "shape": ""
          }
         },
         "name": "Milan",
         "orientation": "v",
         "showlegend": true,
         "text": {
          "dtype": "f8",
          "bdata": "zczMzMzMRUA="
         },
         "textposition": "auto",
         "x": [
          "Mike Maignan"
         ],
         "xaxis": "x",
         "y": {
          "dtype": "f8",
          "bdata": "zczMzMzMRUA="
         },
         "yaxis": "y",
         "type": "bar"
        },
        {
         "hovertemplate": "Team=Club Brugge<br>Player=%{x}<br>Gk_Level=%{text}<extra></extra>",
         "legendgroup": "Club Brugge",
         "marker": {
          "color": "#FECB52",
          "pattern": {
           "shape": ""
          }
         },
         "name": "Club Brugge",
         "orientation": "v",
         "showlegend": true,
         "text": {
          "dtype": "f8",
          "bdata": "mpmZmZmZRUA="
         },
         "textposition": "auto",
         "x": [
          "Mignolet"
         ],
         "xaxis": "x",
         "y": {
          "dtype": "f8",
          "bdata": "mpmZmZmZRUA="
         },
         "yaxis": "y",
         "type": "bar"
        }
       ],
       "layout": {
        "template": {
         "data": {
          "histogram2dcontour": [
           {
            "type": "histogram2dcontour",
            "colorbar": {
             "outlinewidth": 0,
             "ticks": ""
            },
            "colorscale": [
             [
              0.0,
              "#0d0887"
             ],
             [
              0.1111111111111111,
              "#46039f"
             ],
             [
              0.2222222222222222,
              "#7201a8"
             ],
             [
              0.3333333333333333,
              "#9c179e"
             ],
             [
              0.4444444444444444,
              "#bd3786"
             ],
             [
              0.5555555555555556,
              "#d8576b"
             ],
             [
              0.6666666666666666,
              "#ed7953"
             ],
             [
              0.7777777777777778,
              "#fb9f3a"
             ],
             [
              0.8888888888888888,
              "#fdca26"
             ],
             [
              1.0,
              "#f0f921"
             ]
            ]
           }
          ],
          "choropleth": [
           {
            "type": "choropleth",
            "colorbar": {
             "outlinewidth": 0,
             "ticks": ""
            }
           }
          ],
          "histogram2d": [
           {
            "type": "histogram2d",
            "colorbar": {
             "outlinewidth": 0,
             "ticks": ""
            },
            "colorscale": [
             [
              0.0,
              "#0d0887"
             ],
             [
              0.1111111111111111,
              "#46039f"
             ],
             [
              0.2222222222222222,
              "#7201a8"
             ],
             [
              0.3333333333333333,
              "#9c179e"
             ],
             [
              0.4444444444444444,
              "#bd3786"
             ],
             [
              0.5555555555555556,
              "#d8576b"
             ],
             [
              0.6666666666666666,
              "#ed7953"
             ],
             [
              0.7777777777777778,
              "#fb9f3a"
             ],
             [
              0.8888888888888888,
              "#fdca26"
             ],
             [
              1.0,
              "#f0f921"
             ]
            ]
           }
          ],
          "heatmap": [
           {
            "type": "heatmap",
            "colorbar": {
             "outlinewidth": 0,
             "ticks": ""
            },
            "colorscale": [
             [
              0.0,
              "#0d0887"
             ],
             [
              0.1111111111111111,
              "#46039f"
             ],
             [
              0.2222222222222222,
              "#7201a8"
             ],
             [
              0.3333333333333333,
              "#9c179e"
             ],
             [
              0.4444444444444444,
              "#bd3786"
             ],
             [
              0.5555555555555556,
              "#d8576b"
             ],
             [
              0.6666666666666666,
              "#ed7953"
             ],
             [
              0.7777777777777778,
              "#fb9f3a"
             ],
             [
              0.8888888888888888,
              "#fdca26"
             ],
             [
              1.0,
              "#f0f921"
             ]
            ]
           }
          ],
          "contourcarpet": [
           {
            "type": "contourcarpet",
            "colorbar": {
             "outlinewidth": 0,
             "ticks": ""
            }
           }
          ],
          "contour": [
           {
            "type": "contour",
            "colorbar": {
             "outlinewidth": 0,
             "ticks": ""
            },
            "colorscale": [
             [
              0.0,
              "#0d0887"
             ],
             [
              0.1111111111111111,
              "#46039f"
             ],
             [
              0.2222222222222222,
              "#7201a8"
             ],
             [
              0.3333333333333333,
              "#9c179e"
             ],
             [
              0.4444444444444444,
              "#bd3786"
             ],
             [
              0.5555555555555556,
              "#d8576b"
             ],
             [
              0.6666666666666666,
              "#ed7953"
             ],
             [
              0.7777777777777778,
              "#fb9f3a"
             ],
             [
              0.8888888888888888,
              "#fdca26"
             ],
             [
              1.0,
              "#f0f921"
             ]
            ]
           }
          ],
          "surface": [
           {
            "type": "surface",
            "colorbar": {
             "outlinewidth": 0,
             "ticks": ""
            },
            "colorscale": [
             [
              0.0,
              "#0d0887"
             ],
             [
              0.1111111111111111,
              "#46039f"
             ],
             [
              0.2222222222222222,
              "#7201a8"
             ],
             [
              0.3333333333333333,
              "#9c179e"
             ],
             [
              0.4444444444444444,
              "#bd3786"
             ],
             [
              0.5555555555555556,
              "#d8576b"
             ],
             [
              0.6666666666666666,
              "#ed7953"
             ],
             [
              0.7777777777777778,
              "#fb9f3a"
             ],
             [
              0.8888888888888888,
              "#fdca26"
             ],
             [
              1.0,
              "#f0f921"
             ]
            ]
           }
          ],
          "mesh3d": [
           {
            "type": "mesh3d",
            "colorbar": {
             "outlinewidth": 0,
             "ticks": ""
            }
           }
          ],
          "scatter": [
           {
            "fillpattern": {
             "fillmode": "overlay",
             "size": 10,
             "solidity": 0.2
            },
            "type": "scatter"
           }
          ],
          "parcoords": [
           {
            "type": "parcoords",
            "line": {
             "colorbar": {
              "outlinewidth": 0,
              "ticks": ""
             }
            }
           }
          ],
          "scatterpolargl": [
           {
            "type": "scatterpolargl",
            "marker": {
             "colorbar": {
              "outlinewidth": 0,
              "ticks": ""
             }
            }
           }
          ],
          "bar": [
           {
            "error_x": {
             "color": "#2a3f5f"
            },
            "error_y": {
             "color": "#2a3f5f"
            },
            "marker": {
             "line": {
              "color": "#E5ECF6",
              "width": 0.5
             },
             "pattern": {
              "fillmode": "overlay",
              "size": 10,
              "solidity": 0.2
             }
            },
            "type": "bar"
           }
          ],
          "scattergeo": [
           {
            "type": "scattergeo",
            "marker": {
             "colorbar": {
              "outlinewidth": 0,
              "ticks": ""
             }
            }
           }
          ],
          "scatterpolar": [
           {
            "type": "scatterpolar",
            "marker": {
             "colorbar": {
              "outlinewidth": 0,
              "ticks": ""
             }
            }
           }
          ],
          "histogram": [
           {
            "marker": {
             "pattern": {
              "fillmode": "overlay",
              "size": 10,
              "solidity": 0.2
             }
            },
            "type": "histogram"
           }
          ],
          "scattergl": [
           {
            "type": "scattergl",
            "marker": {
             "colorbar": {
              "outlinewidth": 0,
              "ticks": ""
             }
            }
           }
          ],
          "scatter3d": [
           {
            "type": "scatter3d",
            "line": {
             "colorbar": {
              "outlinewidth": 0,
              "ticks": ""
             }
            },
            "marker": {
             "colorbar": {
              "outlinewidth": 0,
              "ticks": ""
             }
            }
           }
          ],
          "scattermap": [
           {
            "type": "scattermap",
            "marker": {
             "colorbar": {
              "outlinewidth": 0,
              "ticks": ""
             }
            }
           }
          ],
          "scattermapbox": [
           {
            "type": "scattermapbox",
            "marker": {
             "colorbar": {
              "outlinewidth": 0,
              "ticks": ""
             }
            }
           }
          ],
          "scatterternary": [
           {
            "type": "scatterternary",
            "marker": {
             "colorbar": {
              "outlinewidth": 0,
              "ticks": ""
             }
            }
           }
          ],
          "scattercarpet": [
           {
            "type": "scattercarpet",
            "marker": {
             "colorbar": {
              "outlinewidth": 0,
              "ticks": ""
             }
            }
           }
          ],
          "carpet": [
           {
            "aaxis": {
             "endlinecolor": "#2a3f5f",
             "gridcolor": "white",
             "linecolor": "white",
             "minorgridcolor": "white",
             "startlinecolor": "#2a3f5f"
            },
            "baxis": {
             "endlinecolor": "#2a3f5f",
             "gridcolor": "white",
             "linecolor": "white",
             "minorgridcolor": "white",
             "startlinecolor": "#2a3f5f"
            },
            "type": "carpet"
           }
          ],
          "table": [
           {
            "cells": {
             "fill": {
              "color": "#EBF0F8"
             },
             "line": {
              "color": "white"
             }
            },
            "header": {
             "fill": {
              "color": "#C8D4E3"
             },
             "line": {
              "color": "white"
             }
            },
            "type": "table"
           }
          ],
          "barpolar": [
           {
            "marker": {
             "line": {
              "color": "#E5ECF6",
              "width": 0.5
             },
             "pattern": {
              "fillmode": "overlay",
              "size": 10,
              "solidity": 0.2
             }
            },
            "type": "barpolar"
           }
          ],
          "pie": [
           {
            "automargin": true,
            "type": "pie"
           }
          ]
         },
         "layout": {
          "autotypenumbers": "strict",
          "colorway": [
           "#636efa",
           "#EF553B",
           "#00cc96",
           "#ab63fa",
           "#FFA15A",
           "#19d3f3",
           "#FF6692",
           "#B6E880",
           "#FF97FF",
           "#FECB52"
          ],
          "font": {
           "color": "#2a3f5f"
          },
          "hovermode": "closest",
          "hoverlabel": {
           "align": "left"
          },
          "paper_bgcolor": "white",
          "plot_bgcolor": "#E5ECF6",
          "polar": {
           "bgcolor": "#E5ECF6",
           "angularaxis": {
            "gridcolor": "white",
            "linecolor": "white",
            "ticks": ""
           },
           "radialaxis": {
            "gridcolor": "white",
            "linecolor": "white",
            "ticks": ""
           }
          },
          "ternary": {
           "bgcolor": "#E5ECF6",
           "aaxis": {
            "gridcolor": "white",
            "linecolor": "white",
            "ticks": ""
           },
           "baxis": {
            "gridcolor": "white",
            "linecolor": "white",
            "ticks": ""
           },
           "caxis": {
            "gridcolor": "white",
            "linecolor": "white",
            "ticks": ""
           }
          },
          "coloraxis": {
           "colorbar": {
            "outlinewidth": 0,
            "ticks": ""
           }
          },
          "colorscale": {
           "sequential": [
            [
             0.0,
             "#0d0887"
            ],
            [
             0.1111111111111111,
             "#46039f"
            ],
            [
             0.2222222222222222,
             "#7201a8"
            ],
            [
             0.3333333333333333,
             "#9c179e"
            ],
            [
             0.4444444444444444,
             "#bd3786"
            ],
            [
             0.5555555555555556,
             "#d8576b"
            ],
            [
             0.6666666666666666,
             "#ed7953"
            ],
            [
             0.7777777777777778,
             "#fb9f3a"
            ],
            [
             0.8888888888888888,
             "#fdca26"
            ],
            [
             1.0,
             "#f0f921"
            ]
           ],
           "sequentialminus": [
            [
             0.0,
             "#0d0887"
            ],
            [
             0.1111111111111111,
             "#46039f"
            ],
            [
             0.2222222222222222,
             "#7201a8"
            ],
            [
             0.3333333333333333,
             "#9c179e"
            ],
            [
             0.4444444444444444,
             "#bd3786"
            ],
            [
             0.5555555555555556,
             "#d8576b"
            ],
            [
             0.6666666666666666,
             "#ed7953"
            ],
            [
             0.7777777777777778,
             "#fb9f3a"
            ],
            [
             0.8888888888888888,
             "#fdca26"
            ],
            [
             1.0,
             "#f0f921"
            ]
           ],
           "diverging": [
            [
             0,
             "#8e0152"
            ],
            [
             0.1,
             "#c51b7d"
            ],
            [
             0.2,
             "#de77ae"
            ],
            [
             0.3,
             "#f1b6da"
            ],
            [
             0.4,
             "#fde0ef"
            ],
            [
             0.5,
             "#f7f7f7"
            ],
            [
             0.6,
             "#e6f5d0"
            ],
            [
             0.7,
             "#b8e186"
            ],
            [
             0.8,
             "#7fbc41"
            ],
            [
             0.9,
             "#4d9221"
            ],
            [
             1,
             "#276419"
            ]
           ]
          },
          "xaxis": {
           "gridcolor": "white",
           "linecolor": "white",
           "ticks": "",
           "title": {
            "standoff": 15
           },
           "zerolinecolor": "white",
           "automargin": true,
           "zerolinewidth": 2
          },
          "yaxis": {
           "gridcolor": "white",
           "linecolor": "white",
           "ticks": "",
           "title": {
            "standoff": 15
           },
           "zerolinecolor": "white",
           "automargin": true,
           "zerolinewidth": 2
          },
          "scene": {
           "xaxis": {
            "backgroundcolor": "#E5ECF6",
            "gridcolor": "white",
            "linecolor": "white",
            "showbackground": true,
            "ticks": "",
            "zerolinecolor": "white",
            "gridwidth": 2
           },
           "yaxis": {
            "backgroundcolor": "#E5ECF6",
            "gridcolor": "white",
            "linecolor": "white",
            "showbackground": true,
            "ticks": "",
            "zerolinecolor": "white",
            "gridwidth": 2
           },
           "zaxis": {
            "backgroundcolor": "#E5ECF6",
            "gridcolor": "white",
            "linecolor": "white",
            "showbackground": true,
            "ticks": "",
            "zerolinecolor": "white",
            "gridwidth": 2
           }
          },
          "shapedefaults": {
           "line": {
            "color": "#2a3f5f"
           }
          },
          "annotationdefaults": {
           "arrowcolor": "#2a3f5f",
           "arrowhead": 0,
           "arrowwidth": 1
          },
          "geo": {
           "bgcolor": "white",
           "landcolor": "#E5ECF6",
           "subunitcolor": "white",
           "showland": true,
           "showlakes": true,
           "lakecolor": "white"
          },
          "title": {
           "x": 0.05
          },
          "mapbox": {
           "style": "light"
          }
         }
        },
        "xaxis": {
         "anchor": "y",
         "domain": [
          0.0,
          1.0
         ],
         "title": {
          "text": "Player"
         }
        },
        "yaxis": {
         "anchor": "x",
         "domain": [
          0.0,
          1.0
         ],
         "title": {
          "text": "Gk_Level"
         }
        },
        "legend": {
         "title": {
          "text": "Team"
         },
         "tracegroupgap": 0
        },
        "title": {
         "text": "Best Goalkeepers in Champions League 2025"
        },
        "barmode": "relative"
       },
       "config": {
        "plotlyServerURL": "https://plot.ly"
       }
      }
     },
     "metadata": {},
     "output_type": "display_data"
    }
   ],
   "execution_count": 48
  },
  {
   "metadata": {},
   "cell_type": "markdown",
   "source": "#### 22 (Bar Chart). Aggresive Players in Champions League 2025",
   "id": "3b03fad88f41d6db"
  },
  {
   "metadata": {
    "ExecuteTime": {
     "end_time": "2025-06-15T11:40:12.144192Z",
     "start_time": "2025-06-15T11:40:12.135617Z"
    }
   },
   "cell_type": "code",
   "source": "aggresive_players_scouting =  ucl[(ucl['Balls_recovered'] > 30) & (ucl['Tackles_Won'] > 12) & (ucl['Age']< 25)]",
   "id": "ef1314249b92c996",
   "outputs": [],
   "execution_count": 49
  },
  {
   "metadata": {
    "ExecuteTime": {
     "end_time": "2025-06-15T11:40:12.337896Z",
     "start_time": "2025-06-15T11:40:12.324119Z"
    }
   },
   "cell_type": "code",
   "source": "aggresive_players_scouting[['Player','Position','Age','Balls_recovered','Tackles_Won']]",
   "id": "206c72db6c6ba3cd",
   "outputs": [
    {
     "data": {
      "text/plain": [
       "             Player    Position  Age  Balls_recovered  Tackles_Won\n",
       "43    Ryan Flamingo    Defender   22               49           16\n",
       "97   Jurrien Timber    Defender   23               44           15\n",
       "129     Nuno Mendes    Defender   22               87           23\n",
       "147          Casado  Midfielder   21               40           20\n",
       "175      Joao Neves  Midfielder   20               87           19"
      ],
      "text/html": [
       "<div>\n",
       "<style scoped>\n",
       "    .dataframe tbody tr th:only-of-type {\n",
       "        vertical-align: middle;\n",
       "    }\n",
       "\n",
       "    .dataframe tbody tr th {\n",
       "        vertical-align: top;\n",
       "    }\n",
       "\n",
       "    .dataframe thead th {\n",
       "        text-align: right;\n",
       "    }\n",
       "</style>\n",
       "<table border=\"1\" class=\"dataframe\">\n",
       "  <thead>\n",
       "    <tr style=\"text-align: right;\">\n",
       "      <th></th>\n",
       "      <th>Player</th>\n",
       "      <th>Position</th>\n",
       "      <th>Age</th>\n",
       "      <th>Balls_recovered</th>\n",
       "      <th>Tackles_Won</th>\n",
       "    </tr>\n",
       "  </thead>\n",
       "  <tbody>\n",
       "    <tr>\n",
       "      <th>43</th>\n",
       "      <td>Ryan Flamingo</td>\n",
       "      <td>Defender</td>\n",
       "      <td>22</td>\n",
       "      <td>49</td>\n",
       "      <td>16</td>\n",
       "    </tr>\n",
       "    <tr>\n",
       "      <th>97</th>\n",
       "      <td>Jurrien Timber</td>\n",
       "      <td>Defender</td>\n",
       "      <td>23</td>\n",
       "      <td>44</td>\n",
       "      <td>15</td>\n",
       "    </tr>\n",
       "    <tr>\n",
       "      <th>129</th>\n",
       "      <td>Nuno Mendes</td>\n",
       "      <td>Defender</td>\n",
       "      <td>22</td>\n",
       "      <td>87</td>\n",
       "      <td>23</td>\n",
       "    </tr>\n",
       "    <tr>\n",
       "      <th>147</th>\n",
       "      <td>Casado</td>\n",
       "      <td>Midfielder</td>\n",
       "      <td>21</td>\n",
       "      <td>40</td>\n",
       "      <td>20</td>\n",
       "    </tr>\n",
       "    <tr>\n",
       "      <th>175</th>\n",
       "      <td>Joao Neves</td>\n",
       "      <td>Midfielder</td>\n",
       "      <td>20</td>\n",
       "      <td>87</td>\n",
       "      <td>19</td>\n",
       "    </tr>\n",
       "  </tbody>\n",
       "</table>\n",
       "</div>"
      ]
     },
     "execution_count": 50,
     "metadata": {},
     "output_type": "execute_result"
    }
   ],
   "execution_count": 50
  },
  {
   "metadata": {
    "ExecuteTime": {
     "end_time": "2025-06-15T11:40:12.591983Z",
     "start_time": "2025-06-15T11:40:12.536756Z"
    }
   },
   "cell_type": "code",
   "source": "px.bar(aggresive_players_scouting, x='Player', y='Value10^6', color='Team',text='Age', title='Aggresive Players in Champions League 2025', hover_name='Team')",
   "id": "2717752211800249",
   "outputs": [
    {
     "data": {
      "application/vnd.plotly.v1+json": {
       "data": [
        {
         "hovertemplate": "<b>%{hovertext}</b><br><br>Team=PSV Eindhoven<br>Player=%{x}<br>Value10^6=%{y}<br>Age=%{text}<extra></extra>",
         "hovertext": [
          "PSV Eindhoven"
         ],
         "legendgroup": "PSV Eindhoven",
         "marker": {
          "color": "#636efa",
          "pattern": {
           "shape": ""
          }
         },
         "name": "PSV Eindhoven",
         "orientation": "v",
         "showlegend": true,
         "text": {
          "dtype": "f8",
          "bdata": "AAAAAAAANkA="
         },
         "textposition": "auto",
         "x": [
          "Ryan Flamingo"
         ],
         "xaxis": "x",
         "y": {
          "dtype": "f8",
          "bdata": "AAAAAAAAMEA="
         },
         "yaxis": "y",
         "type": "bar"
        },
        {
         "hovertemplate": "<b>%{hovertext}</b><br><br>Team=Arsenal FC<br>Player=%{x}<br>Value10^6=%{y}<br>Age=%{text}<extra></extra>",
         "hovertext": [
          "Arsenal FC"
         ],
         "legendgroup": "Arsenal FC",
         "marker": {
          "color": "#EF553B",
          "pattern": {
           "shape": ""
          }
         },
         "name": "Arsenal FC",
         "orientation": "v",
         "showlegend": true,
         "text": {
          "dtype": "f8",
          "bdata": "AAAAAAAAN0A="
         },
         "textposition": "auto",
         "x": [
          "Jurrien Timber"
         ],
         "xaxis": "x",
         "y": {
          "dtype": "f8",
          "bdata": "AAAAAAAASUA="
         },
         "yaxis": "y",
         "type": "bar"
        },
        {
         "hovertemplate": "<b>%{hovertext}</b><br><br>Team=Paris SG<br>Player=%{x}<br>Value10^6=%{y}<br>Age=%{text}<extra></extra>",
         "hovertext": [
          "Paris SG",
          "Paris SG"
         ],
         "legendgroup": "Paris SG",
         "marker": {
          "color": "#00cc96",
          "pattern": {
           "shape": ""
          }
         },
         "name": "Paris SG",
         "orientation": "v",
         "showlegend": true,
         "text": {
          "dtype": "f8",
          "bdata": "AAAAAAAANkAAAAAAAAA0QA=="
         },
         "textposition": "auto",
         "x": [
          "Nuno Mendes",
          "Joao Neves"
         ],
         "xaxis": "x",
         "y": {
          "dtype": "f8",
          "bdata": "AAAAAACAS0AAAAAAAABOQA=="
         },
         "yaxis": "y",
         "type": "bar"
        },
        {
         "hovertemplate": "<b>%{hovertext}</b><br><br>Team=Barcelona<br>Player=%{x}<br>Value10^6=%{y}<br>Age=%{text}<extra></extra>",
         "hovertext": [
          "Barcelona"
         ],
         "legendgroup": "Barcelona",
         "marker": {
          "color": "#ab63fa",
          "pattern": {
           "shape": ""
          }
         },
         "name": "Barcelona",
         "orientation": "v",
         "showlegend": true,
         "text": {
          "dtype": "f8",
          "bdata": "AAAAAAAANUA="
         },
         "textposition": "auto",
         "x": [
          "Casado"
         ],
         "xaxis": "x",
         "y": {
          "dtype": "f8",
          "bdata": "AAAAAAAAPkA="
         },
         "yaxis": "y",
         "type": "bar"
        }
       ],
       "layout": {
        "template": {
         "data": {
          "histogram2dcontour": [
           {
            "type": "histogram2dcontour",
            "colorbar": {
             "outlinewidth": 0,
             "ticks": ""
            },
            "colorscale": [
             [
              0.0,
              "#0d0887"
             ],
             [
              0.1111111111111111,
              "#46039f"
             ],
             [
              0.2222222222222222,
              "#7201a8"
             ],
             [
              0.3333333333333333,
              "#9c179e"
             ],
             [
              0.4444444444444444,
              "#bd3786"
             ],
             [
              0.5555555555555556,
              "#d8576b"
             ],
             [
              0.6666666666666666,
              "#ed7953"
             ],
             [
              0.7777777777777778,
              "#fb9f3a"
             ],
             [
              0.8888888888888888,
              "#fdca26"
             ],
             [
              1.0,
              "#f0f921"
             ]
            ]
           }
          ],
          "choropleth": [
           {
            "type": "choropleth",
            "colorbar": {
             "outlinewidth": 0,
             "ticks": ""
            }
           }
          ],
          "histogram2d": [
           {
            "type": "histogram2d",
            "colorbar": {
             "outlinewidth": 0,
             "ticks": ""
            },
            "colorscale": [
             [
              0.0,
              "#0d0887"
             ],
             [
              0.1111111111111111,
              "#46039f"
             ],
             [
              0.2222222222222222,
              "#7201a8"
             ],
             [
              0.3333333333333333,
              "#9c179e"
             ],
             [
              0.4444444444444444,
              "#bd3786"
             ],
             [
              0.5555555555555556,
              "#d8576b"
             ],
             [
              0.6666666666666666,
              "#ed7953"
             ],
             [
              0.7777777777777778,
              "#fb9f3a"
             ],
             [
              0.8888888888888888,
              "#fdca26"
             ],
             [
              1.0,
              "#f0f921"
             ]
            ]
           }
          ],
          "heatmap": [
           {
            "type": "heatmap",
            "colorbar": {
             "outlinewidth": 0,
             "ticks": ""
            },
            "colorscale": [
             [
              0.0,
              "#0d0887"
             ],
             [
              0.1111111111111111,
              "#46039f"
             ],
             [
              0.2222222222222222,
              "#7201a8"
             ],
             [
              0.3333333333333333,
              "#9c179e"
             ],
             [
              0.4444444444444444,
              "#bd3786"
             ],
             [
              0.5555555555555556,
              "#d8576b"
             ],
             [
              0.6666666666666666,
              "#ed7953"
             ],
             [
              0.7777777777777778,
              "#fb9f3a"
             ],
             [
              0.8888888888888888,
              "#fdca26"
             ],
             [
              1.0,
              "#f0f921"
             ]
            ]
           }
          ],
          "contourcarpet": [
           {
            "type": "contourcarpet",
            "colorbar": {
             "outlinewidth": 0,
             "ticks": ""
            }
           }
          ],
          "contour": [
           {
            "type": "contour",
            "colorbar": {
             "outlinewidth": 0,
             "ticks": ""
            },
            "colorscale": [
             [
              0.0,
              "#0d0887"
             ],
             [
              0.1111111111111111,
              "#46039f"
             ],
             [
              0.2222222222222222,
              "#7201a8"
             ],
             [
              0.3333333333333333,
              "#9c179e"
             ],
             [
              0.4444444444444444,
              "#bd3786"
             ],
             [
              0.5555555555555556,
              "#d8576b"
             ],
             [
              0.6666666666666666,
              "#ed7953"
             ],
             [
              0.7777777777777778,
              "#fb9f3a"
             ],
             [
              0.8888888888888888,
              "#fdca26"
             ],
             [
              1.0,
              "#f0f921"
             ]
            ]
           }
          ],
          "surface": [
           {
            "type": "surface",
            "colorbar": {
             "outlinewidth": 0,
             "ticks": ""
            },
            "colorscale": [
             [
              0.0,
              "#0d0887"
             ],
             [
              0.1111111111111111,
              "#46039f"
             ],
             [
              0.2222222222222222,
              "#7201a8"
             ],
             [
              0.3333333333333333,
              "#9c179e"
             ],
             [
              0.4444444444444444,
              "#bd3786"
             ],
             [
              0.5555555555555556,
              "#d8576b"
             ],
             [
              0.6666666666666666,
              "#ed7953"
             ],
             [
              0.7777777777777778,
              "#fb9f3a"
             ],
             [
              0.8888888888888888,
              "#fdca26"
             ],
             [
              1.0,
              "#f0f921"
             ]
            ]
           }
          ],
          "mesh3d": [
           {
            "type": "mesh3d",
            "colorbar": {
             "outlinewidth": 0,
             "ticks": ""
            }
           }
          ],
          "scatter": [
           {
            "fillpattern": {
             "fillmode": "overlay",
             "size": 10,
             "solidity": 0.2
            },
            "type": "scatter"
           }
          ],
          "parcoords": [
           {
            "type": "parcoords",
            "line": {
             "colorbar": {
              "outlinewidth": 0,
              "ticks": ""
             }
            }
           }
          ],
          "scatterpolargl": [
           {
            "type": "scatterpolargl",
            "marker": {
             "colorbar": {
              "outlinewidth": 0,
              "ticks": ""
             }
            }
           }
          ],
          "bar": [
           {
            "error_x": {
             "color": "#2a3f5f"
            },
            "error_y": {
             "color": "#2a3f5f"
            },
            "marker": {
             "line": {
              "color": "#E5ECF6",
              "width": 0.5
             },
             "pattern": {
              "fillmode": "overlay",
              "size": 10,
              "solidity": 0.2
             }
            },
            "type": "bar"
           }
          ],
          "scattergeo": [
           {
            "type": "scattergeo",
            "marker": {
             "colorbar": {
              "outlinewidth": 0,
              "ticks": ""
             }
            }
           }
          ],
          "scatterpolar": [
           {
            "type": "scatterpolar",
            "marker": {
             "colorbar": {
              "outlinewidth": 0,
              "ticks": ""
             }
            }
           }
          ],
          "histogram": [
           {
            "marker": {
             "pattern": {
              "fillmode": "overlay",
              "size": 10,
              "solidity": 0.2
             }
            },
            "type": "histogram"
           }
          ],
          "scattergl": [
           {
            "type": "scattergl",
            "marker": {
             "colorbar": {
              "outlinewidth": 0,
              "ticks": ""
             }
            }
           }
          ],
          "scatter3d": [
           {
            "type": "scatter3d",
            "line": {
             "colorbar": {
              "outlinewidth": 0,
              "ticks": ""
             }
            },
            "marker": {
             "colorbar": {
              "outlinewidth": 0,
              "ticks": ""
             }
            }
           }
          ],
          "scattermap": [
           {
            "type": "scattermap",
            "marker": {
             "colorbar": {
              "outlinewidth": 0,
              "ticks": ""
             }
            }
           }
          ],
          "scattermapbox": [
           {
            "type": "scattermapbox",
            "marker": {
             "colorbar": {
              "outlinewidth": 0,
              "ticks": ""
             }
            }
           }
          ],
          "scatterternary": [
           {
            "type": "scatterternary",
            "marker": {
             "colorbar": {
              "outlinewidth": 0,
              "ticks": ""
             }
            }
           }
          ],
          "scattercarpet": [
           {
            "type": "scattercarpet",
            "marker": {
             "colorbar": {
              "outlinewidth": 0,
              "ticks": ""
             }
            }
           }
          ],
          "carpet": [
           {
            "aaxis": {
             "endlinecolor": "#2a3f5f",
             "gridcolor": "white",
             "linecolor": "white",
             "minorgridcolor": "white",
             "startlinecolor": "#2a3f5f"
            },
            "baxis": {
             "endlinecolor": "#2a3f5f",
             "gridcolor": "white",
             "linecolor": "white",
             "minorgridcolor": "white",
             "startlinecolor": "#2a3f5f"
            },
            "type": "carpet"
           }
          ],
          "table": [
           {
            "cells": {
             "fill": {
              "color": "#EBF0F8"
             },
             "line": {
              "color": "white"
             }
            },
            "header": {
             "fill": {
              "color": "#C8D4E3"
             },
             "line": {
              "color": "white"
             }
            },
            "type": "table"
           }
          ],
          "barpolar": [
           {
            "marker": {
             "line": {
              "color": "#E5ECF6",
              "width": 0.5
             },
             "pattern": {
              "fillmode": "overlay",
              "size": 10,
              "solidity": 0.2
             }
            },
            "type": "barpolar"
           }
          ],
          "pie": [
           {
            "automargin": true,
            "type": "pie"
           }
          ]
         },
         "layout": {
          "autotypenumbers": "strict",
          "colorway": [
           "#636efa",
           "#EF553B",
           "#00cc96",
           "#ab63fa",
           "#FFA15A",
           "#19d3f3",
           "#FF6692",
           "#B6E880",
           "#FF97FF",
           "#FECB52"
          ],
          "font": {
           "color": "#2a3f5f"
          },
          "hovermode": "closest",
          "hoverlabel": {
           "align": "left"
          },
          "paper_bgcolor": "white",
          "plot_bgcolor": "#E5ECF6",
          "polar": {
           "bgcolor": "#E5ECF6",
           "angularaxis": {
            "gridcolor": "white",
            "linecolor": "white",
            "ticks": ""
           },
           "radialaxis": {
            "gridcolor": "white",
            "linecolor": "white",
            "ticks": ""
           }
          },
          "ternary": {
           "bgcolor": "#E5ECF6",
           "aaxis": {
            "gridcolor": "white",
            "linecolor": "white",
            "ticks": ""
           },
           "baxis": {
            "gridcolor": "white",
            "linecolor": "white",
            "ticks": ""
           },
           "caxis": {
            "gridcolor": "white",
            "linecolor": "white",
            "ticks": ""
           }
          },
          "coloraxis": {
           "colorbar": {
            "outlinewidth": 0,
            "ticks": ""
           }
          },
          "colorscale": {
           "sequential": [
            [
             0.0,
             "#0d0887"
            ],
            [
             0.1111111111111111,
             "#46039f"
            ],
            [
             0.2222222222222222,
             "#7201a8"
            ],
            [
             0.3333333333333333,
             "#9c179e"
            ],
            [
             0.4444444444444444,
             "#bd3786"
            ],
            [
             0.5555555555555556,
             "#d8576b"
            ],
            [
             0.6666666666666666,
             "#ed7953"
            ],
            [
             0.7777777777777778,
             "#fb9f3a"
            ],
            [
             0.8888888888888888,
             "#fdca26"
            ],
            [
             1.0,
             "#f0f921"
            ]
           ],
           "sequentialminus": [
            [
             0.0,
             "#0d0887"
            ],
            [
             0.1111111111111111,
             "#46039f"
            ],
            [
             0.2222222222222222,
             "#7201a8"
            ],
            [
             0.3333333333333333,
             "#9c179e"
            ],
            [
             0.4444444444444444,
             "#bd3786"
            ],
            [
             0.5555555555555556,
             "#d8576b"
            ],
            [
             0.6666666666666666,
             "#ed7953"
            ],
            [
             0.7777777777777778,
             "#fb9f3a"
            ],
            [
             0.8888888888888888,
             "#fdca26"
            ],
            [
             1.0,
             "#f0f921"
            ]
           ],
           "diverging": [
            [
             0,
             "#8e0152"
            ],
            [
             0.1,
             "#c51b7d"
            ],
            [
             0.2,
             "#de77ae"
            ],
            [
             0.3,
             "#f1b6da"
            ],
            [
             0.4,
             "#fde0ef"
            ],
            [
             0.5,
             "#f7f7f7"
            ],
            [
             0.6,
             "#e6f5d0"
            ],
            [
             0.7,
             "#b8e186"
            ],
            [
             0.8,
             "#7fbc41"
            ],
            [
             0.9,
             "#4d9221"
            ],
            [
             1,
             "#276419"
            ]
           ]
          },
          "xaxis": {
           "gridcolor": "white",
           "linecolor": "white",
           "ticks": "",
           "title": {
            "standoff": 15
           },
           "zerolinecolor": "white",
           "automargin": true,
           "zerolinewidth": 2
          },
          "yaxis": {
           "gridcolor": "white",
           "linecolor": "white",
           "ticks": "",
           "title": {
            "standoff": 15
           },
           "zerolinecolor": "white",
           "automargin": true,
           "zerolinewidth": 2
          },
          "scene": {
           "xaxis": {
            "backgroundcolor": "#E5ECF6",
            "gridcolor": "white",
            "linecolor": "white",
            "showbackground": true,
            "ticks": "",
            "zerolinecolor": "white",
            "gridwidth": 2
           },
           "yaxis": {
            "backgroundcolor": "#E5ECF6",
            "gridcolor": "white",
            "linecolor": "white",
            "showbackground": true,
            "ticks": "",
            "zerolinecolor": "white",
            "gridwidth": 2
           },
           "zaxis": {
            "backgroundcolor": "#E5ECF6",
            "gridcolor": "white",
            "linecolor": "white",
            "showbackground": true,
            "ticks": "",
            "zerolinecolor": "white",
            "gridwidth": 2
           }
          },
          "shapedefaults": {
           "line": {
            "color": "#2a3f5f"
           }
          },
          "annotationdefaults": {
           "arrowcolor": "#2a3f5f",
           "arrowhead": 0,
           "arrowwidth": 1
          },
          "geo": {
           "bgcolor": "white",
           "landcolor": "#E5ECF6",
           "subunitcolor": "white",
           "showland": true,
           "showlakes": true,
           "lakecolor": "white"
          },
          "title": {
           "x": 0.05
          },
          "mapbox": {
           "style": "light"
          }
         }
        },
        "xaxis": {
         "anchor": "y",
         "domain": [
          0.0,
          1.0
         ],
         "title": {
          "text": "Player"
         }
        },
        "yaxis": {
         "anchor": "x",
         "domain": [
          0.0,
          1.0
         ],
         "title": {
          "text": "Value10^6"
         }
        },
        "legend": {
         "title": {
          "text": "Team"
         },
         "tracegroupgap": 0
        },
        "title": {
         "text": "Aggresive Players in Champions League 2025"
        },
        "barmode": "relative"
       },
       "config": {
        "plotlyServerURL": "https://plot.ly"
       }
      }
     },
     "metadata": {},
     "output_type": "display_data"
    }
   ],
   "execution_count": 51
  },
  {
   "metadata": {},
   "cell_type": "markdown",
   "source": "#### 23 (Bar Chart). Top 15 Highest Value Players in Champions League 2025",
   "id": "30d9f58eb0a2d275"
  },
  {
   "metadata": {
    "ExecuteTime": {
     "end_time": "2025-06-15T11:40:12.825789Z",
     "start_time": "2025-06-15T11:40:12.819530Z"
    }
   },
   "cell_type": "code",
   "source": "top_12_values  = ucl.nlargest(12, 'Value10^6')[['Player','Age','Team','Value10^6']].head(12)",
   "id": "aefedc1ee8f48262",
   "outputs": [],
   "execution_count": 52
  },
  {
   "metadata": {
    "ExecuteTime": {
     "end_time": "2025-06-15T11:40:13.337701Z",
     "start_time": "2025-06-15T11:40:13.075790Z"
    }
   },
   "cell_type": "code",
   "source": [
    "plt.figure(figsize=(14,8))\n",
    "sns.barplot(x=top_12_values['Player'], y=top_12_values['Value10^6'], hue=top_12_values['Team'])\n",
    "plt.title('Top 10 Highest Value Players in Champions League 2025')\n",
    "plt.ylabel('Value (in Millions)')\n",
    "plt.xlabel('Players')\n",
    "plt.show()"
   ],
   "id": "d6ec3159edd4e332",
   "outputs": [
    {
     "data": {
      "text/plain": [
       "<Figure size 1400x800 with 1 Axes>"
      ],
      "image/png": "[encoded data removed]"
     },
     "metadata": {},
     "output_type": "display_data"
    }
   ],
   "execution_count": 53
  },
  {
   "metadata": {},
   "cell_type": "markdown",
   "source": "#### 24. Players attempting more than 34 and Goals per Attempt",
   "id": "f447d86c256ddd5c"
  },
  {
   "metadata": {
    "ExecuteTime": {
     "end_time": "2025-06-15T11:40:13.356264Z",
     "start_time": "2025-06-15T11:40:13.349524Z"
    }
   },
   "cell_type": "code",
   "source": [
    "attempting_players = ucl[ucl['Total_attempts'] > 34]\n",
    "ucl['Goals_per_attempt'] = ucl['Goals'] / ucl['Total_attempts']"
   ],
   "id": "ee92d56ea4f03fcf",
   "outputs": [],
   "execution_count": 54
  },
  {
   "metadata": {
    "ExecuteTime": {
     "end_time": "2025-06-15T11:40:13.510926Z",
     "start_time": "2025-06-15T11:40:13.499141Z"
    }
   },
   "cell_type": "code",
   "source": "ucl[['Player','Age', 'Goals_per_attempt', 'Total_attempts', 'Goals']].sort_values(by='Goals', ascending=False).head(15)",
   "id": "fd1116babf9d5ab1",
   "outputs": [
    {
     "data": {
      "text/plain": [
       "               Player  Age  Goals_per_attempt  Total_attempts  Goals\n",
       "3            Raphinha   28           0.250000              52     13\n",
       "134          Guirassy   29           0.325000              40     13\n",
       "144        Harry Kane   31           0.224490              49     11\n",
       "2         Lewandowski   36           0.323529              34     11\n",
       "60   Lautaro Martinez   27           0.391304              23      9\n",
       "37        Vinicius Jr   24           0.190476              42      8\n",
       "75            Dembele   27           0.125000              64      8\n",
       "176           Haaland   24           0.210526              38      8\n",
       "51           Pavlidis   26           0.225806              31      7\n",
       "19      Kylian Mbappe   25           0.137255              51      7\n",
       "156    Jonathan David   25           0.350000              20      7\n",
       "41     Julian Alvarez   25           0.333333              21      7\n",
       "146   Viktor Gyokeres   26           0.240000              25      6\n",
       "181     Florian Wirtz   22           0.230769              26      6\n",
       "47          Griezmann   34           0.315789              19      6"
      ],
      "text/html": [
       "<div>\n",
       "<style scoped>\n",
       "    .dataframe tbody tr th:only-of-type {\n",
       "        vertical-align: middle;\n",
       "    }\n",
       "\n",
       "    .dataframe tbody tr th {\n",
       "        vertical-align: top;\n",
       "    }\n",
       "\n",
       "    .dataframe thead th {\n",
       "        text-align: right;\n",
       "    }\n",
       "</style>\n",
       "<table border=\"1\" class=\"dataframe\">\n",
       "  <thead>\n",
       "    <tr style=\"text-align: right;\">\n",
       "      <th></th>\n",
       "      <th>Player</th>\n",
       "      <th>Age</th>\n",
       "      <th>Goals_per_attempt</th>\n",
       "      <th>Total_attempts</th>\n",
       "      <th>Goals</th>\n",
       "    </tr>\n",
       "  </thead>\n",
       "  <tbody>\n",
       "    <tr>\n",
       "      <th>3</th>\n",
       "      <td>Raphinha</td>\n",
       "      <td>28</td>\n",
       "      <td>0.250000</td>\n",
       "      <td>52</td>\n",
       "      <td>13</td>\n",
       "    </tr>\n",
       "    <tr>\n",
       "      <th>134</th>\n",
       "      <td>Guirassy</td>\n",
       "      <td>29</td>\n",
       "      <td>0.325000</td>\n",
       "      <td>40</td>\n",
       "      <td>13</td>\n",
       "    </tr>\n",
       "    <tr>\n",
       "      <th>144</th>\n",
       "      <td>Harry Kane</td>\n",
       "      <td>31</td>\n",
       "      <td>0.224490</td>\n",
       "      <td>49</td>\n",
       "      <td>11</td>\n",
       "    </tr>\n",
       "    <tr>\n",
       "      <th>2</th>\n",
       "      <td>Lewandowski</td>\n",
       "      <td>36</td>\n",
       "      <td>0.323529</td>\n",
       "      <td>34</td>\n",
       "      <td>11</td>\n",
       "    </tr>\n",
       "    <tr>\n",
       "      <th>60</th>\n",
       "      <td>Lautaro Martinez</td>\n",
       "      <td>27</td>\n",
       "      <td>0.391304</td>\n",
       "      <td>23</td>\n",
       "      <td>9</td>\n",
       "    </tr>\n",
       "    <tr>\n",
       "      <th>37</th>\n",
       "      <td>Vinicius Jr</td>\n",
       "      <td>24</td>\n",
       "      <td>0.190476</td>\n",
       "      <td>42</td>\n",
       "      <td>8</td>\n",
       "    </tr>\n",
       "    <tr>\n",
       "      <th>75</th>\n",
       "      <td>Dembele</td>\n",
       "      <td>27</td>\n",
       "      <td>0.125000</td>\n",
       "      <td>64</td>\n",
       "      <td>8</td>\n",
       "    </tr>\n",
       "    <tr>\n",
       "      <th>176</th>\n",
       "      <td>Haaland</td>\n",
       "      <td>24</td>\n",
       "      <td>0.210526</td>\n",
       "      <td>38</td>\n",
       "      <td>8</td>\n",
       "    </tr>\n",
       "    <tr>\n",
       "      <th>51</th>\n",
       "      <td>Pavlidis</td>\n",
       "      <td>26</td>\n",
       "      <td>0.225806</td>\n",
       "      <td>31</td>\n",
       "      <td>7</td>\n",
       "    </tr>\n",
       "    <tr>\n",
       "      <th>19</th>\n",
       "      <td>Kylian Mbappe</td>\n",
       "      <td>25</td>\n",
       "      <td>0.137255</td>\n",
       "      <td>51</td>\n",
       "      <td>7</td>\n",
       "    </tr>\n",
       "    <tr>\n",
       "      <th>156</th>\n",
       "      <td>Jonathan David</td>\n",
       "      <td>25</td>\n",
       "      <td>0.350000</td>\n",
       "      <td>20</td>\n",
       "      <td>7</td>\n",
       "    </tr>\n",
       "    <tr>\n",
       "      <th>41</th>\n",
       "      <td>Julian Alvarez</td>\n",
       "      <td>25</td>\n",
       "      <td>0.333333</td>\n",
       "      <td>21</td>\n",
       "      <td>7</td>\n",
       "    </tr>\n",
       "    <tr>\n",
       "      <th>146</th>\n",
       "      <td>Viktor Gyokeres</td>\n",
       "      <td>26</td>\n",
       "      <td>0.240000</td>\n",
       "      <td>25</td>\n",
       "      <td>6</td>\n",
       "    </tr>\n",
       "    <tr>\n",
       "      <th>181</th>\n",
       "      <td>Florian Wirtz</td>\n",
       "      <td>22</td>\n",
       "      <td>0.230769</td>\n",
       "      <td>26</td>\n",
       "      <td>6</td>\n",
       "    </tr>\n",
       "    <tr>\n",
       "      <th>47</th>\n",
       "      <td>Griezmann</td>\n",
       "      <td>34</td>\n",
       "      <td>0.315789</td>\n",
       "      <td>19</td>\n",
       "      <td>6</td>\n",
       "    </tr>\n",
       "  </tbody>\n",
       "</table>\n",
       "</div>"
      ]
     },
     "execution_count": 55,
     "metadata": {},
     "output_type": "execute_result"
    }
   ],
   "execution_count": 55
  },
  {
   "metadata": {},
   "cell_type": "markdown",
   "source": "#### 25. Players with most matches played",
   "id": "a18772d44fc0ba1f"
  },
  {
   "metadata": {
    "ExecuteTime": {
     "end_time": "2025-06-15T11:40:13.770200Z",
     "start_time": "2025-06-15T11:40:13.756837Z"
    }
   },
   "cell_type": "code",
   "source": "ucl.groupby(['Player','Team'])['Match_played'].sum().sort_values(ascending=False).head(15)",
   "id": "454d87382c6198a6",
   "outputs": [
    {
     "data": {
      "text/plain": [
       "Player            Team        \n",
       "Barcola           Paris SG        17\n",
       "Hakimi            Paris SG        17\n",
       "Fabian Ruiz       Paris SG        17\n",
       "Vitinha           Paris SG        17\n",
       "Pacho             Paris SG        17\n",
       "Joao Neves        Paris SG        17\n",
       "Marquinhos        Paris SG        16\n",
       "Desire Doue       Paris SG        16\n",
       "Nuno Mendes       Paris SG        16\n",
       "Dembele           Paris SG        15\n",
       "Kylian Mbappe     Real Madrid     14\n",
       "Lautaro Martinez  Inter           14\n",
       "Modric            Real Madrid     14\n",
       "Gittens           BVB Dortmund    14\n",
       "Guirassy          BVB Dortmund    14\n",
       "Name: Match_played, dtype: int64"
      ]
     },
     "execution_count": 56,
     "metadata": {},
     "output_type": "execute_result"
    }
   ],
   "execution_count": 56
  },
  {
   "metadata": {},
   "cell_type": "markdown",
   "source": "#### 26. Top 10 Players with Most Assists & Top 10 Players with Most Goals",
   "id": "9e8c9d01dc2a83d6"
  },
  {
   "metadata": {
    "ExecuteTime": {
     "end_time": "2025-06-15T11:40:14.042914Z",
     "start_time": "2025-06-15T11:40:14.033598Z"
    }
   },
   "cell_type": "code",
   "source": "top_assists = ucl[ucl['Assists'] > 0].sort_values('Assists', ascending=False).head(10)",
   "id": "e104de1f002eeb39",
   "outputs": [],
   "execution_count": 57
  },
  {
   "metadata": {
    "ExecuteTime": {
     "end_time": "2025-06-15T11:40:14.451296Z",
     "start_time": "2025-06-15T11:40:14.436786Z"
    }
   },
   "cell_type": "code",
   "source": "top_assists",
   "id": "40b54efdb64ca4bd",
   "outputs": [
    {
     "data": {
      "text/plain": [
       "     PlayerID             Player    Position  Age  Nationality  \\\n",
       "3           4           Raphinha     Forward   28       Brazil   \n",
       "75         76            Dembele     Forward   27       France   \n",
       "159       160            Kimmich  Midfielder   29      Germany   \n",
       "114       115         Zappacosta  Midfielder   32        Italy   \n",
       "12         13             Hakimi    Defender   26      Morocco   \n",
       "49         50  Charles Ketelaere  Midfielder   24      Belgium   \n",
       "150       151      Julian Brandt  Midfielder   29      Germany   \n",
       "93         94        Desire Doue     Forward   19       France   \n",
       "180       181       Fermin Lopez  Midfielder   22        Spain   \n",
       "20         21           Frimpong    Defender   24  Netherlands   \n",
       "\n",
       "                 Team Competitions           Phase Phase_Tier  Value10^6  ...  \\\n",
       "3           Barcelona      La Liga     Semi_finals          A       80.0  ...   \n",
       "75           Paris SG      Ligue 1           Final          S       75.0  ...   \n",
       "159     Bayern Munich   Bundesliga  Quarter_finals          B       50.0  ...   \n",
       "114       Atalanta BC      Serie A  Knockout_phase          D        7.0  ...   \n",
       "12           Paris SG      Ligue 1           Final          S       60.0  ...   \n",
       "49        Atalanta BC      Serie A  Knockout_phase          D       38.0  ...   \n",
       "150      BVB Dortmund   Bundesliga  Quarter_finals          B       25.0  ...   \n",
       "93           Paris SG      Ligue 1           Final          S       60.0  ...   \n",
       "180         Barcelona      La Liga     Semi_finals          A       50.0  ...   \n",
       "20   Bayer Leverkusen   Bundesliga         Round16          C       50.0  ...   \n",
       "\n",
       "     Tackles_Won  Tackles_Lost  Saves  Goals_Conceded  Clean_Sheets  \\\n",
       "3              2             7      0               0             0   \n",
       "75             1             5      0               0             0   \n",
       "159            8             8      0               0             0   \n",
       "114            1             3      0               0             0   \n",
       "12            11            15      0               0             0   \n",
       "49             1             6      0               0             0   \n",
       "150            3             8      0               0             0   \n",
       "93             5             9      0               0             0   \n",
       "180            5             7      0               0             0   \n",
       "20             1             5      0               0             0   \n",
       "\n",
       "     MOTM_Awards  Minutes_played  Match_played  DNP  Goals_per_attempt  \n",
       "3              3            1225            14    0           0.250000  \n",
       "75             2            1163            15    2           0.125000  \n",
       "159            0            1260            14    0           0.000000  \n",
       "114            0             699             9    1           0.000000  \n",
       "12             2            1540            17    0           0.111111  \n",
       "49             1             702            10    0           0.235294  \n",
       "150            0             884            13    1           0.000000  \n",
       "93             1             742            16    1           0.156250  \n",
       "180            0             451            11    3           0.062500  \n",
       "20             0             796            10    0           0.000000  \n",
       "\n",
       "[10 rows x 31 columns]"
      ],
      "text/html": [
       "<div>\n",
       "<style scoped>\n",
       "    .dataframe tbody tr th:only-of-type {\n",
       "        vertical-align: middle;\n",
       "    }\n",
       "\n",
       "    .dataframe tbody tr th {\n",
       "        vertical-align: top;\n",
       "    }\n",
       "\n",
       "    .dataframe thead th {\n",
       "        text-align: right;\n",
       "    }\n",
       "</style>\n",
       "<table border=\"1\" class=\"dataframe\">\n",
       "  <thead>\n",
       "    <tr style=\"text-align: right;\">\n",
       "      <th></th>\n",
       "      <th>PlayerID</th>\n",
       "      <th>Player</th>\n",
       "      <th>Position</th>\n",
       "      <th>Age</th>\n",
       "      <th>Nationality</th>\n",
       "      <th>Team</th>\n",
       "      <th>Competitions</th>\n",
       "      <th>Phase</th>\n",
       "      <th>Phase_Tier</th>\n",
       "      <th>Value10^6</th>\n",
       "      <th>...</th>\n",
       "      <th>Tackles_Won</th>\n",
       "      <th>Tackles_Lost</th>\n",
       "      <th>Saves</th>\n",
       "      <th>Goals_Conceded</th>\n",
       "      <th>Clean_Sheets</th>\n",
       "      <th>MOTM_Awards</th>\n",
       "      <th>Minutes_played</th>\n",
       "      <th>Match_played</th>\n",
       "      <th>DNP</th>\n",
       "      <th>Goals_per_attempt</th>\n",
       "    </tr>\n",
       "  </thead>\n",
       "  <tbody>\n",
       "    <tr>\n",
       "      <th>3</th>\n",
       "      <td>4</td>\n",
       "      <td>Raphinha</td>\n",
       "      <td>Forward</td>\n",
       "      <td>28</td>\n",
       "      <td>Brazil</td>\n",
       "      <td>Barcelona</td>\n",
       "      <td>La Liga</td>\n",
       "      <td>Semi_finals</td>\n",
       "      <td>A</td>\n",
       "      <td>80.0</td>\n",
       "      <td>...</td>\n",
       "      <td>2</td>\n",
       "      <td>7</td>\n",
       "      <td>0</td>\n",
       "      <td>0</td>\n",
       "      <td>0</td>\n",
       "      <td>3</td>\n",
       "      <td>1225</td>\n",
       "      <td>14</td>\n",
       "      <td>0</td>\n",
       "      <td>0.250000</td>\n",
       "    </tr>\n",
       "    <tr>\n",
       "      <th>75</th>\n",
       "      <td>76</td>\n",
       "      <td>Dembele</td>\n",
       "      <td>Forward</td>\n",
       "      <td>27</td>\n",
       "      <td>France</td>\n",
       "      <td>Paris SG</td>\n",
       "      <td>Ligue 1</td>\n",
       "      <td>Final</td>\n",
       "      <td>S</td>\n",
       "      <td>75.0</td>\n",
       "      <td>...</td>\n",
       "      <td>1</td>\n",
       "      <td>5</td>\n",
       "      <td>0</td>\n",
       "      <td>0</td>\n",
       "      <td>0</td>\n",
       "      <td>2</td>\n",
       "      <td>1163</td>\n",
       "      <td>15</td>\n",
       "      <td>2</td>\n",
       "      <td>0.125000</td>\n",
       "    </tr>\n",
       "    <tr>\n",
       "      <th>159</th>\n",
       "      <td>160</td>\n",
       "      <td>Kimmich</td>\n",
       "      <td>Midfielder</td>\n",
       "      <td>29</td>\n",
       "      <td>Germany</td>\n",
       "      <td>Bayern Munich</td>\n",
       "      <td>Bundesliga</td>\n",
       "      <td>Quarter_finals</td>\n",
       "      <td>B</td>\n",
       "      <td>50.0</td>\n",
       "      <td>...</td>\n",
       "      <td>8</td>\n",
       "      <td>8</td>\n",
       "      <td>0</td>\n",
       "      <td>0</td>\n",
       "      <td>0</td>\n",
       "      <td>0</td>\n",
       "      <td>1260</td>\n",
       "      <td>14</td>\n",
       "      <td>0</td>\n",
       "      <td>0.000000</td>\n",
       "    </tr>\n",
       "    <tr>\n",
       "      <th>114</th>\n",
       "      <td>115</td>\n",
       "      <td>Zappacosta</td>\n",
       "      <td>Midfielder</td>\n",
       "      <td>32</td>\n",
       "      <td>Italy</td>\n",
       "      <td>Atalanta BC</td>\n",
       "      <td>Serie A</td>\n",
       "      <td>Knockout_phase</td>\n",
       "      <td>D</td>\n",
       "      <td>7.0</td>\n",
       "      <td>...</td>\n",
       "      <td>1</td>\n",
       "      <td>3</td>\n",
       "      <td>0</td>\n",
       "      <td>0</td>\n",
       "      <td>0</td>\n",
       "      <td>0</td>\n",
       "      <td>699</td>\n",
       "      <td>9</td>\n",
       "      <td>1</td>\n",
       "      <td>0.000000</td>\n",
       "    </tr>\n",
       "    <tr>\n",
       "      <th>12</th>\n",
       "      <td>13</td>\n",
       "      <td>Hakimi</td>\n",
       "      <td>Defender</td>\n",
       "      <td>26</td>\n",
       "      <td>Morocco</td>\n",
       "      <td>Paris SG</td>\n",
       "      <td>Ligue 1</td>\n",
       "      <td>Final</td>\n",
       "      <td>S</td>\n",
       "      <td>60.0</td>\n",
       "      <td>...</td>\n",
       "      <td>11</td>\n",
       "      <td>15</td>\n",
       "      <td>0</td>\n",
       "      <td>0</td>\n",
       "      <td>0</td>\n",
       "      <td>2</td>\n",
       "      <td>1540</td>\n",
       "      <td>17</td>\n",
       "      <td>0</td>\n",
       "      <td>0.111111</td>\n",
       "    </tr>\n",
       "    <tr>\n",
       "      <th>49</th>\n",
       "      <td>50</td>\n",
       "      <td>Charles Ketelaere</td>\n",
       "      <td>Midfielder</td>\n",
       "      <td>24</td>\n",
       "      <td>Belgium</td>\n",
       "      <td>Atalanta BC</td>\n",
       "      <td>Serie A</td>\n",
       "      <td>Knockout_phase</td>\n",
       "      <td>D</td>\n",
       "      <td>38.0</td>\n",
       "      <td>...</td>\n",
       "      <td>1</td>\n",
       "      <td>6</td>\n",
       "      <td>0</td>\n",
       "      <td>0</td>\n",
       "      <td>0</td>\n",
       "      <td>1</td>\n",
       "      <td>702</td>\n",
       "      <td>10</td>\n",
       "      <td>0</td>\n",
       "      <td>0.235294</td>\n",
       "    </tr>\n",
       "    <tr>\n",
       "      <th>150</th>\n",
       "      <td>151</td>\n",
       "      <td>Julian Brandt</td>\n",
       "      <td>Midfielder</td>\n",
       "      <td>29</td>\n",
       "      <td>Germany</td>\n",
       "      <td>BVB Dortmund</td>\n",
       "      <td>Bundesliga</td>\n",
       "      <td>Quarter_finals</td>\n",
       "      <td>B</td>\n",
       "      <td>25.0</td>\n",
       "      <td>...</td>\n",
       "      <td>3</td>\n",
       "      <td>8</td>\n",
       "      <td>0</td>\n",
       "      <td>0</td>\n",
       "      <td>0</td>\n",
       "      <td>0</td>\n",
       "      <td>884</td>\n",
       "      <td>13</td>\n",
       "      <td>1</td>\n",
       "      <td>0.000000</td>\n",
       "    </tr>\n",
       "    <tr>\n",
       "      <th>93</th>\n",
       "      <td>94</td>\n",
       "      <td>Desire Doue</td>\n",
       "      <td>Forward</td>\n",
       "      <td>19</td>\n",
       "      <td>France</td>\n",
       "      <td>Paris SG</td>\n",
       "      <td>Ligue 1</td>\n",
       "      <td>Final</td>\n",
       "      <td>S</td>\n",
       "      <td>60.0</td>\n",
       "      <td>...</td>\n",
       "      <td>5</td>\n",
       "      <td>9</td>\n",
       "      <td>0</td>\n",
       "      <td>0</td>\n",
       "      <td>0</td>\n",
       "      <td>1</td>\n",
       "      <td>742</td>\n",
       "      <td>16</td>\n",
       "      <td>1</td>\n",
       "      <td>0.156250</td>\n",
       "    </tr>\n",
       "    <tr>\n",
       "      <th>180</th>\n",
       "      <td>181</td>\n",
       "      <td>Fermin Lopez</td>\n",
       "      <td>Midfielder</td>\n",
       "      <td>22</td>\n",
       "      <td>Spain</td>\n",
       "      <td>Barcelona</td>\n",
       "      <td>La Liga</td>\n",
       "      <td>Semi_finals</td>\n",
       "      <td>A</td>\n",
       "      <td>50.0</td>\n",
       "      <td>...</td>\n",
       "      <td>5</td>\n",
       "      <td>7</td>\n",
       "      <td>0</td>\n",
       "      <td>0</td>\n",
       "      <td>0</td>\n",
       "      <td>0</td>\n",
       "      <td>451</td>\n",
       "      <td>11</td>\n",
       "      <td>3</td>\n",
       "      <td>0.062500</td>\n",
       "    </tr>\n",
       "    <tr>\n",
       "      <th>20</th>\n",
       "      <td>21</td>\n",
       "      <td>Frimpong</td>\n",
       "      <td>Defender</td>\n",
       "      <td>24</td>\n",
       "      <td>Netherlands</td>\n",
       "      <td>Bayer Leverkusen</td>\n",
       "      <td>Bundesliga</td>\n",
       "      <td>Round16</td>\n",
       "      <td>C</td>\n",
       "      <td>50.0</td>\n",
       "      <td>...</td>\n",
       "      <td>1</td>\n",
       "      <td>5</td>\n",
       "      <td>0</td>\n",
       "      <td>0</td>\n",
       "      <td>0</td>\n",
       "      <td>0</td>\n",
       "      <td>796</td>\n",
       "      <td>10</td>\n",
       "      <td>0</td>\n",
       "      <td>0.000000</td>\n",
       "    </tr>\n",
       "  </tbody>\n",
       "</table>\n",
       "<p>10 rows × 31 columns</p>\n",
       "</div>"
      ]
     },
     "execution_count": 58,
     "metadata": {},
     "output_type": "execute_result"
    }
   ],
   "execution_count": 58
  },
  {
   "metadata": {
    "ExecuteTime": {
     "end_time": "2025-06-15T11:40:14.591352Z",
     "start_time": "2025-06-15T11:40:14.584788Z"
    }
   },
   "cell_type": "code",
   "source": [
    "#  Qitu kemi Kriju  kolonen me emrin dhe ekipin per afishim te ngjashem\n",
    "top_assists['Label'] = top_assists['Player'] + \" (\" + top_assists['Team'] + \")\""
   ],
   "id": "a363211ac1dd7b37",
   "outputs": [],
   "execution_count": 59
  },
  {
   "metadata": {
    "ExecuteTime": {
     "end_time": "2025-06-15T11:40:14.901417Z",
     "start_time": "2025-06-15T11:40:14.820846Z"
    }
   },
   "cell_type": "code",
   "source": [
    "fig = px.bar(\n",
    "    top_assists,\n",
    "    x='Assists',\n",
    "    y='Label',\n",
    "    orientation='h',\n",
    "    color='Player',\n",
    "    title='Top 10 Players with Most Assists in Champions League 2025',\n",
    "    text='Assists'\n",
    ")\n",
    "\n",
    "fig.update_layout(yaxis=dict(autorange=\"reversed\"))  # qe lojtari me ma shum gola te jete me nelt\n",
    "fig.update_traces(textposition='outside')\n",
    "fig.show()"
   ],
   "id": "64d5937243a2a3ed",
   "outputs": [
    {
     "data": {
      "application/vnd.plotly.v1+json": {
       "data": [
        {
         "hovertemplate": "Player=Raphinha<br>Assists=%{text}<br>Label=%{y}<extra></extra>",
         "legendgroup": "Raphinha",
         "marker": {
          "color": "#636efa",
          "pattern": {
           "shape": ""
          }
         },
         "name": "Raphinha",
         "orientation": "h",
         "showlegend": true,
         "text": {
          "dtype": "f8",
          "bdata": "AAAAAAAAIkA="
         },
         "textposition": "outside",
         "x": {
          "dtype": "i1",
          "bdata": "CQ=="
         },
         "xaxis": "x",
         "y": [
          "Raphinha (Barcelona)"
         ],
         "yaxis": "y",
         "type": "bar"
        },
        {
         "hovertemplate": "Player=Dembele<br>Assists=%{text}<br>Label=%{y}<extra></extra>",
         "legendgroup": "Dembele",
         "marker": {
          "color": "#EF553B",
          "pattern": {
           "shape": ""
          }
         },
         "name": "Dembele",
         "orientation": "h",
         "showlegend": true,
         "text": {
          "dtype": "f8",
          "bdata": "AAAAAAAAGEA="
         },
         "textposition": "outside",
         "x": {
          "dtype": "i1",
          "bdata": "Bg=="
         },
         "xaxis": "x",
         "y": [
          "Dembele (Paris SG)"
         ],
         "yaxis": "y",
         "type": "bar"
        },
        {
         "hovertemplate": "Player=Kimmich<br>Assists=%{text}<br>Label=%{y}<extra></extra>",
         "legendgroup": "Kimmich",
         "marker": {
          "color": "#00cc96",
          "pattern": {
           "shape": ""
          }
         },
         "name": "Kimmich",
         "orientation": "h",
         "showlegend": true,
         "text": {
          "dtype": "f8",
          "bdata": "AAAAAAAAGEA="
         },
         "textposition": "outside",
         "x": {
          "dtype": "i1",
          "bdata": "Bg=="
         },
         "xaxis": "x",
         "y": [
          "Kimmich (Bayern Munich)"
         ],
         "yaxis": "y",
         "type": "bar"
        },
        {
         "hovertemplate": "Player=Zappacosta<br>Assists=%{text}<br>Label=%{y}<extra></extra>",
         "legendgroup": "Zappacosta",
         "marker": {
          "color": "#ab63fa",
          "pattern": {
           "shape": ""
          }
         },
         "name": "Zappacosta",
         "orientation": "h",
         "showlegend": true,
         "text": {
          "dtype": "f8",
          "bdata": "AAAAAAAAFEA="
         },
         "textposition": "outside",
         "x": {
          "dtype": "i1",
          "bdata": "BQ=="
         },
         "xaxis": "x",
         "y": [
          "Zappacosta (Atalanta BC)"
         ],
         "yaxis": "y",
         "type": "bar"
        },
        {
         "hovertemplate": "Player=Hakimi<br>Assists=%{text}<br>Label=%{y}<extra></extra>",
         "legendgroup": "Hakimi",
         "marker": {
          "color": "#FFA15A",
          "pattern": {
           "shape": ""
          }
         },
         "name": "Hakimi",
         "orientation": "h",
         "showlegend": true,
         "text": {
          "dtype": "f8",
          "bdata": "AAAAAAAAFEA="
         },
         "textposition": "outside",
         "x": {
          "dtype": "i1",
          "bdata": "BQ=="
         },
         "xaxis": "x",
         "y": [
          "Hakimi (Paris SG)"
         ],
         "yaxis": "y",
         "type": "bar"
        },
        {
         "hovertemplate": "Player=Charles Ketelaere<br>Assists=%{text}<br>Label=%{y}<extra></extra>",
         "legendgroup": "Charles Ketelaere",
         "marker": {
          "color": "#19d3f3",
          "pattern": {
           "shape": ""
          }
         },
         "name": "Charles Ketelaere",
         "orientation": "h",
         "showlegend": true,
         "text": {
          "dtype": "f8",
          "bdata": "AAAAAAAAFEA="
         },
         "textposition": "outside",
         "x": {
          "dtype": "i1",
          "bdata": "BQ=="
         },
         "xaxis": "x",
         "y": [
          "Charles Ketelaere (Atalanta BC)"
         ],
         "yaxis": "y",
         "type": "bar"
        },
        {
         "hovertemplate": "Player=Julian Brandt<br>Assists=%{text}<br>Label=%{y}<extra></extra>",
         "legendgroup": "Julian Brandt",
         "marker": {
          "color": "#FF6692",
          "pattern": {
           "shape": ""
          }
         },
         "name": "Julian Brandt",
         "orientation": "h",
         "showlegend": true,
         "text": {
          "dtype": "f8",
          "bdata": "AAAAAAAAFEA="
         },
         "textposition": "outside",
         "x": {
          "dtype": "i1",
          "bdata": "BQ=="
         },
         "xaxis": "x",
         "y": [
          "Julian Brandt (BVB Dortmund)"
         ],
         "yaxis": "y",
         "type": "bar"
        },
        {
         "hovertemplate": "Player=Desire Doue<br>Assists=%{text}<br>Label=%{y}<extra></extra>",
         "legendgroup": "Desire Doue",
         "marker": {
          "color": "#B6E880",
          "pattern": {
           "shape": ""
          }
         },
         "name": "Desire Doue",
         "orientation": "h",
         "showlegend": true,
         "text": {
          "dtype": "f8",
          "bdata": "AAAAAAAAFEA="
         },
         "textposition": "outside",
         "x": {
          "dtype": "i1",
          "bdata": "BQ=="
         },
         "xaxis": "x",
         "y": [
          "Desire Doue (Paris SG)"
         ],
         "yaxis": "y",
         "type": "bar"
        },
        {
         "hovertemplate": "Player=Fermin Lopez<br>Assists=%{text}<br>Label=%{y}<extra></extra>",
         "legendgroup": "Fermin Lopez",
         "marker": {
          "color": "#FF97FF",
          "pattern": {
           "shape": ""
          }
         },
         "name": "Fermin Lopez",
         "orientation": "h",
         "showlegend": true,
         "text": {
          "dtype": "f8",
          "bdata": "AAAAAAAAFEA="
         },
         "textposition": "outside",
         "x": {
          "dtype": "i1",
          "bdata": "BQ=="
         },
         "xaxis": "x",
         "y": [
          "Fermin Lopez (Barcelona)"
         ],
         "yaxis": "y",
         "type": "bar"
        },
        {
         "hovertemplate": "Player=Frimpong<br>Assists=%{text}<br>Label=%{y}<extra></extra>",
         "legendgroup": "Frimpong",
         "marker": {
          "color": "#FECB52",
          "pattern": {
           "shape": ""
          }
         },
         "name": "Frimpong",
         "orientation": "h",
         "showlegend": true,
         "text": {
          "dtype": "f8",
          "bdata": "AAAAAAAAFEA="
         },
         "textposition": "outside",
         "x": {
          "dtype": "i1",
          "bdata": "BQ=="
         },
         "xaxis": "x",
         "y": [
          "Frimpong (Bayer Leverkusen)"
         ],
         "yaxis": "y",
         "type": "bar"
        }
       ],
       "layout": {
        "template": {
         "data": {
          "histogram2dcontour": [
           {
            "type": "histogram2dcontour",
            "colorbar": {
             "outlinewidth": 0,
             "ticks": ""
            },
            "colorscale": [
             [
              0.0,
              "#0d0887"
             ],
             [
              0.1111111111111111,
              "#46039f"
             ],
             [
              0.2222222222222222,
              "#7201a8"
             ],
             [
              0.3333333333333333,
              "#9c179e"
             ],
             [
              0.4444444444444444,
              "#bd3786"
             ],
             [
              0.5555555555555556,
              "#d8576b"
             ],
             [
              0.6666666666666666,
              "#ed7953"
             ],
             [
              0.7777777777777778,
              "#fb9f3a"
             ],
             [
              0.8888888888888888,
              "#fdca26"
             ],
             [
              1.0,
              "#f0f921"
             ]
            ]
           }
          ],
          "choropleth": [
           {
            "type": "choropleth",
            "colorbar": {
             "outlinewidth": 0,
             "ticks": ""
            }
           }
          ],
          "histogram2d": [
           {
            "type": "histogram2d",
            "colorbar": {
             "outlinewidth": 0,
             "ticks": ""
            },
            "colorscale": [
             [
              0.0,
              "#0d0887"
             ],
             [
              0.1111111111111111,
              "#46039f"
             ],
             [
              0.2222222222222222,
              "#7201a8"
             ],
             [
              0.3333333333333333,
              "#9c179e"
             ],
             [
              0.4444444444444444,
              "#bd3786"
             ],
             [
              0.5555555555555556,
              "#d8576b"
             ],
             [
              0.6666666666666666,
              "#ed7953"
             ],
             [
              0.7777777777777778,
              "#fb9f3a"
             ],
             [
              0.8888888888888888,
              "#fdca26"
             ],
             [
              1.0,
              "#f0f921"
             ]
            ]
           }
          ],
          "heatmap": [
           {
            "type": "heatmap",
            "colorbar": {
             "outlinewidth": 0,
             "ticks": ""
            },
            "colorscale": [
             [
              0.0,
              "#0d0887"
             ],
             [
              0.1111111111111111,
              "#46039f"
             ],
             [
              0.2222222222222222,
              "#7201a8"
             ],
             [
              0.3333333333333333,
              "#9c179e"
             ],
             [
              0.4444444444444444,
              "#bd3786"
             ],
             [
              0.5555555555555556,
              "#d8576b"
             ],
             [
              0.6666666666666666,
              "#ed7953"
             ],
             [
              0.7777777777777778,
              "#fb9f3a"
             ],
             [
              0.8888888888888888,
              "#fdca26"
             ],
             [
              1.0,
              "#f0f921"
             ]
            ]
           }
          ],
          "contourcarpet": [
           {
            "type": "contourcarpet",
            "colorbar": {
             "outlinewidth": 0,
             "ticks": ""
            }
           }
          ],
          "contour": [
           {
            "type": "contour",
            "colorbar": {
             "outlinewidth": 0,
             "ticks": ""
            },
            "colorscale": [
             [
              0.0,
              "#0d0887"
             ],
             [
              0.1111111111111111,
              "#46039f"
             ],
             [
              0.2222222222222222,
              "#7201a8"
             ],
             [
              0.3333333333333333,
              "#9c179e"
             ],
             [
              0.4444444444444444,
              "#bd3786"
             ],
             [
              0.5555555555555556,
              "#d8576b"
             ],
             [
              0.6666666666666666,
              "#ed7953"
             ],
             [
              0.7777777777777778,
              "#fb9f3a"
             ],
             [
              0.8888888888888888,
              "#fdca26"
             ],
             [
              1.0,
              "#f0f921"
             ]
            ]
           }
          ],
          "surface": [
           {
            "type": "surface",
            "colorbar": {
             "outlinewidth": 0,
             "ticks": ""
            },
            "colorscale": [
             [
              0.0,
              "#0d0887"
             ],
             [
              0.1111111111111111,
              "#46039f"
             ],
             [
              0.2222222222222222,
              "#7201a8"
             ],
             [
              0.3333333333333333,
              "#9c179e"
             ],
             [
              0.4444444444444444,
              "#bd3786"
             ],
             [
              0.5555555555555556,
              "#d8576b"
             ],
             [
              0.6666666666666666,
              "#ed7953"
             ],
             [
              0.7777777777777778,
              "#fb9f3a"
             ],
             [
              0.8888888888888888,
              "#fdca26"
             ],
             [
              1.0,
              "#f0f921"
             ]
            ]
           }
          ],
          "mesh3d": [
           {
            "type": "mesh3d",
            "colorbar": {
             "outlinewidth": 0,
             "ticks": ""
            }
           }
          ],
          "scatter": [
           {
            "fillpattern": {
             "fillmode": "overlay",
             "size": 10,
             "solidity": 0.2
            },
            "type": "scatter"
           }
          ],
          "parcoords": [
           {
            "type": "parcoords",
            "line": {
             "colorbar": {
              "outlinewidth": 0,
              "ticks": ""
             }
            }
           }
          ],
          "scatterpolargl": [
           {
            "type": "scatterpolargl",
            "marker": {
             "colorbar": {
              "outlinewidth": 0,
              "ticks": ""
             }
            }
           }
          ],
          "bar": [
           {
            "error_x": {
             "color": "#2a3f5f"
            },
            "error_y": {
             "color": "#2a3f5f"
            },
            "marker": {
             "line": {
              "color": "#E5ECF6",
              "width": 0.5
             },
             "pattern": {
              "fillmode": "overlay",
              "size": 10,
              "solidity": 0.2
             }
            },
            "type": "bar"
           }
          ],
          "scattergeo": [
           {
            "type": "scattergeo",
            "marker": {
             "colorbar": {
              "outlinewidth": 0,
              "ticks": ""
             }
            }
           }
          ],
          "scatterpolar": [
           {
            "type": "scatterpolar",
            "marker": {
             "colorbar": {
              "outlinewidth": 0,
              "ticks": ""
             }
            }
           }
          ],
          "histogram": [
           {
            "marker": {
             "pattern": {
              "fillmode": "overlay",
              "size": 10,
              "solidity": 0.2
             }
            },
            "type": "histogram"
           }
          ],
          "scattergl": [
           {
            "type": "scattergl",
            "marker": {
             "colorbar": {
              "outlinewidth": 0,
              "ticks": ""
             }
            }
           }
          ],
          "scatter3d": [
           {
            "type": "scatter3d",
            "line": {
             "colorbar": {
              "outlinewidth": 0,
              "ticks": ""
             }
            },
            "marker": {
             "colorbar": {
              "outlinewidth": 0,
              "ticks": ""
             }
            }
           }
          ],
          "scattermap": [
           {
            "type": "scattermap",
            "marker": {
             "colorbar": {
              "outlinewidth": 0,
              "ticks": ""
             }
            }
           }
          ],
          "scattermapbox": [
           {
            "type": "scattermapbox",
            "marker": {
             "colorbar": {
              "outlinewidth": 0,
              "ticks": ""
             }
            }
           }
          ],
          "scatterternary": [
           {
            "type": "scatterternary",
            "marker": {
             "colorbar": {
              "outlinewidth": 0,
              "ticks": ""
             }
            }
           }
          ],
          "scattercarpet": [
           {
            "type": "scattercarpet",
            "marker": {
             "colorbar": {
              "outlinewidth": 0,
              "ticks": ""
             }
            }
           }
          ],
          "carpet": [
           {
            "aaxis": {
             "endlinecolor": "#2a3f5f",
             "gridcolor": "white",
             "linecolor": "white",
             "minorgridcolor": "white",
             "startlinecolor": "#2a3f5f"
            },
            "baxis": {
             "endlinecolor": "#2a3f5f",
             "gridcolor": "white",
             "linecolor": "white",
             "minorgridcolor": "white",
             "startlinecolor": "#2a3f5f"
            },
            "type": "carpet"
           }
          ],
          "table": [
           {
            "cells": {
             "fill": {
              "color": "#EBF0F8"
             },
             "line": {
              "color": "white"
             }
            },
            "header": {
             "fill": {
              "color": "#C8D4E3"
             },
             "line": {
              "color": "white"
             }
            },
            "type": "table"
           }
          ],
          "barpolar": [
           {
            "marker": {
             "line": {
              "color": "#E5ECF6",
              "width": 0.5
             },
             "pattern": {
              "fillmode": "overlay",
              "size": 10,
              "solidity": 0.2
             }
            },
            "type": "barpolar"
           }
          ],
          "pie": [
           {
            "automargin": true,
            "type": "pie"
           }
          ]
         },
         "layout": {
          "autotypenumbers": "strict",
          "colorway": [
           "#636efa",
           "#EF553B",
           "#00cc96",
           "#ab63fa",
           "#FFA15A",
           "#19d3f3",
           "#FF6692",
           "#B6E880",
           "#FF97FF",
           "#FECB52"
          ],
          "font": {
           "color": "#2a3f5f"
          },
          "hovermode": "closest",
          "hoverlabel": {
           "align": "left"
          },
          "paper_bgcolor": "white",
          "plot_bgcolor": "#E5ECF6",
          "polar": {
           "bgcolor": "#E5ECF6",
           "angularaxis": {
            "gridcolor": "white",
            "linecolor": "white",
            "ticks": ""
           },
           "radialaxis": {
            "gridcolor": "white",
            "linecolor": "white",
            "ticks": ""
           }
          },
          "ternary": {
           "bgcolor": "#E5ECF6",
           "aaxis": {
            "gridcolor": "white",
            "linecolor": "white",
            "ticks": ""
           },
           "baxis": {
            "gridcolor": "white",
            "linecolor": "white",
            "ticks": ""
           },
           "caxis": {
            "gridcolor": "white",
            "linecolor": "white",
            "ticks": ""
           }
          },
          "coloraxis": {
           "colorbar": {
            "outlinewidth": 0,
            "ticks": ""
           }
          },
          "colorscale": {
           "sequential": [
            [
             0.0,
             "#0d0887"
            ],
            [
             0.1111111111111111,
             "#46039f"
            ],
            [
             0.2222222222222222,
             "#7201a8"
            ],
            [
             0.3333333333333333,
             "#9c179e"
            ],
            [
             0.4444444444444444,
             "#bd3786"
            ],
            [
             0.5555555555555556,
             "#d8576b"
            ],
            [
             0.6666666666666666,
             "#ed7953"
            ],
            [
             0.7777777777777778,
             "#fb9f3a"
            ],
            [
             0.8888888888888888,
             "#fdca26"
            ],
            [
             1.0,
             "#f0f921"
            ]
           ],
           "sequentialminus": [
            [
             0.0,
             "#0d0887"
            ],
            [
             0.1111111111111111,
             "#46039f"
            ],
            [
             0.2222222222222222,
             "#7201a8"
            ],
            [
             0.3333333333333333,
             "#9c179e"
            ],
            [
             0.4444444444444444,
             "#bd3786"
            ],
            [
             0.5555555555555556,
             "#d8576b"
            ],
            [
             0.6666666666666666,
             "#ed7953"
            ],
            [
             0.7777777777777778,
             "#fb9f3a"
            ],
            [
             0.8888888888888888,
             "#fdca26"
            ],
            [
             1.0,
             "#f0f921"
            ]
           ],
           "diverging": [
            [
             0,
             "#8e0152"
            ],
            [
             0.1,
             "#c51b7d"
            ],
            [
             0.2,
             "#de77ae"
            ],
            [
             0.3,
             "#f1b6da"
            ],
            [
             0.4,
             "#fde0ef"
            ],
            [
             0.5,
             "#f7f7f7"
            ],
            [
             0.6,
             "#e6f5d0"
            ],
            [
             0.7,
             "#b8e186"
            ],
            [
             0.8,
             "#7fbc41"
            ],
            [
             0.9,
             "#4d9221"
            ],
            [
             1,
             "#276419"
            ]
           ]
          },
          "xaxis": {
           "gridcolor": "white",
           "linecolor": "white",
           "ticks": "",
           "title": {
            "standoff": 15
           },
           "zerolinecolor": "white",
           "automargin": true,
           "zerolinewidth": 2
          },
          "yaxis": {
           "gridcolor": "white",
           "linecolor": "white",
           "ticks": "",
           "title": {
            "standoff": 15
           },
           "zerolinecolor": "white",
           "automargin": true,
           "zerolinewidth": 2
          },
          "scene": {
           "xaxis": {
            "backgroundcolor": "#E5ECF6",
            "gridcolor": "white",
            "linecolor": "white",
            "showbackground": true,
            "ticks": "",
            "zerolinecolor": "white",
            "gridwidth": 2
           },
           "yaxis": {
            "backgroundcolor": "#E5ECF6",
            "gridcolor": "white",
            "linecolor": "white",
            "showbackground": true,
            "ticks": "",
            "zerolinecolor": "white",
            "gridwidth": 2
           },
           "zaxis": {
            "backgroundcolor": "#E5ECF6",
            "gridcolor": "white",
            "linecolor": "white",
            "showbackground": true,
            "ticks": "",
            "zerolinecolor": "white",
            "gridwidth": 2
           }
          },
          "shapedefaults": {
           "line": {
            "color": "#2a3f5f"
           }
          },
          "annotationdefaults": {
           "arrowcolor": "#2a3f5f",
           "arrowhead": 0,
           "arrowwidth": 1
          },
          "geo": {
           "bgcolor": "white",
           "landcolor": "#E5ECF6",
           "subunitcolor": "white",
           "showland": true,
           "showlakes": true,
           "lakecolor": "white"
          },
          "title": {
           "x": 0.05
          },
          "mapbox": {
           "style": "light"
          }
         }
        },
        "xaxis": {
         "anchor": "y",
         "domain": [
          0.0,
          1.0
         ],
         "title": {
          "text": "Assists"
         }
        },
        "yaxis": {
         "anchor": "x",
         "domain": [
          0.0,
          1.0
         ],
         "title": {
          "text": "Label"
         },
         "autorange": "reversed"
        },
        "legend": {
         "title": {
          "text": "Player"
         },
         "tracegroupgap": 0
        },
        "title": {
         "text": "Top 10 Players with Most Assists in Champions League 2025"
        },
        "barmode": "relative"
       },
       "config": {
        "plotlyServerURL": "https://plot.ly"
       }
      }
     },
     "metadata": {},
     "output_type": "display_data"
    }
   ],
   "execution_count": 60
  },
  {
   "metadata": {
    "ExecuteTime": {
     "end_time": "2025-06-15T11:40:15.120816Z",
     "start_time": "2025-06-15T11:40:15.114082Z"
    }
   },
   "cell_type": "code",
   "source": "top_goals = ucl[ucl['Goals'] > 0].sort_values('Goals', ascending=False).head(10)",
   "id": "f0c621e63d58dd64",
   "outputs": [],
   "execution_count": 61
  },
  {
   "metadata": {
    "ExecuteTime": {
     "end_time": "2025-06-15T11:40:15.266234Z",
     "start_time": "2025-06-15T11:40:15.260143Z"
    }
   },
   "cell_type": "code",
   "source": "top_goals['Label'] = top_goals['Player'] + \" (\" + top_goals['Team'] + \")\"",
   "id": "49ee628793ccddd1",
   "outputs": [],
   "execution_count": 62
  },
  {
   "metadata": {
    "ExecuteTime": {
     "end_time": "2025-06-15T11:40:15.437603Z",
     "start_time": "2025-06-15T11:40:15.351147Z"
    }
   },
   "cell_type": "code",
   "source": [
    "fig = px.bar(\n",
    "    top_goals,\n",
    "    x='Goals',\n",
    "    y='Label',\n",
    "    orientation='h',\n",
    "    color='Player',\n",
    "    title='Top 10 Players with Most Goals in Champions League 2025',\n",
    "    text='Goals'\n",
    ")\n",
    "\n",
    "fig.update_layout(yaxis=dict(autorange=\"reversed\"))\n",
    "fig.update_traces(textposition='outside')\n",
    "fig.show()"
   ],
   "id": "24a7de2b1ad7629d",
   "outputs": [
    {
     "data": {
      "application/vnd.plotly.v1+json": {
       "data": [
        {
         "hovertemplate": "Player=Raphinha<br>Goals=%{text}<br>Label=%{y}<extra></extra>",
         "legendgroup": "Raphinha",
         "marker": {
          "color": "#636efa",
          "pattern": {
           "shape": ""
          }
         },
         "name": "Raphinha",
         "orientation": "h",
         "showlegend": true,
         "text": {
          "dtype": "f8",
          "bdata": "AAAAAAAAKkA="
         },
         "textposition": "outside",
         "x": {
          "dtype": "i1",
          "bdata": "DQ=="
         },
         "xaxis": "x",
         "y": [
          "Raphinha (Barcelona)"
         ],
         "yaxis": "y",
         "type": "bar"
        },
        {
         "hovertemplate": "Player=Guirassy<br>Goals=%{text}<br>Label=%{y}<extra></extra>",
         "legendgroup": "Guirassy",
         "marker": {
          "color": "#EF553B",
          "pattern": {
           "shape": ""
          }
         },
         "name": "Guirassy",
         "orientation": "h",
         "showlegend": true,
         "text": {
          "dtype": "f8",
          "bdata": "AAAAAAAAKkA="
         },
         "textposition": "outside",
         "x": {
          "dtype": "i1",
          "bdata": "DQ=="
         },
         "xaxis": "x",
         "y": [
          "Guirassy (BVB Dortmund)"
         ],
         "yaxis": "y",
         "type": "bar"
        },
        {
         "hovertemplate": "Player=Harry Kane<br>Goals=%{text}<br>Label=%{y}<extra></extra>",
         "legendgroup": "Harry Kane",
         "marker": {
          "color": "#00cc96",
          "pattern": {
           "shape": ""
          }
         },
         "name": "Harry Kane",
         "orientation": "h",
         "showlegend": true,
         "text": {
          "dtype": "f8",
          "bdata": "AAAAAAAAJkA="
         },
         "textposition": "outside",
         "x": {
          "dtype": "i1",
          "bdata": "Cw=="
         },
         "xaxis": "x",
         "y": [
          "Harry Kane (Bayern Munich)"
         ],
         "yaxis": "y",
         "type": "bar"
        },
        {
         "hovertemplate": "Player=Lewandowski<br>Goals=%{text}<br>Label=%{y}<extra></extra>",
         "legendgroup": "Lewandowski",
         "marker": {
          "color": "#ab63fa",
          "pattern": {
           "shape": ""
          }
         },
         "name": "Lewandowski",
         "orientation": "h",
         "showlegend": true,
         "text": {
          "dtype": "f8",
          "bdata": "AAAAAAAAJkA="
         },
         "textposition": "outside",
         "x": {
          "dtype": "i1",
          "bdata": "Cw=="
         },
         "xaxis": "x",
         "y": [
          "Lewandowski (Barcelona)"
         ],
         "yaxis": "y",
         "type": "bar"
        },
        {
         "hovertemplate": "Player=Lautaro Martinez<br>Goals=%{text}<br>Label=%{y}<extra></extra>",
         "legendgroup": "Lautaro Martinez",
         "marker": {
          "color": "#FFA15A",
          "pattern": {
           "shape": ""
          }
         },
         "name": "Lautaro Martinez",
         "orientation": "h",
         "showlegend": true,
         "text": {
          "dtype": "f8",
          "bdata": "AAAAAAAAIkA="
         },
         "textposition": "outside",
         "x": {
          "dtype": "i1",
          "bdata": "CQ=="
         },
         "xaxis": "x",
         "y": [
          "Lautaro Martinez (Inter)"
         ],
         "yaxis": "y",
         "type": "bar"
        },
        {
         "hovertemplate": "Player=Haaland<br>Goals=%{text}<br>Label=%{y}<extra></extra>",
         "legendgroup": "Haaland",
         "marker": {
          "color": "#19d3f3",
          "pattern": {
           "shape": ""
          }
         },
         "name": "Haaland",
         "orientation": "h",
         "showlegend": true,
         "text": {
          "dtype": "f8",
          "bdata": "AAAAAAAAIEA="
         },
         "textposition": "outside",
         "x": {
          "dtype": "i1",
          "bdata": "CA=="
         },
         "xaxis": "x",
         "y": [
          "Haaland (Manchester City)"
         ],
         "yaxis": "y",
         "type": "bar"
        },
        {
         "hovertemplate": "Player=Dembele<br>Goals=%{text}<br>Label=%{y}<extra></extra>",
         "legendgroup": "Dembele",
         "marker": {
          "color": "#FF6692",
          "pattern": {
           "shape": ""
          }
         },
         "name": "Dembele",
         "orientation": "h",
         "showlegend": true,
         "text": {
          "dtype": "f8",
          "bdata": "AAAAAAAAIEA="
         },
         "textposition": "outside",
         "x": {
          "dtype": "i1",
          "bdata": "CA=="
         },
         "xaxis": "x",
         "y": [
          "Dembele (Paris SG)"
         ],
         "yaxis": "y",
         "type": "bar"
        },
        {
         "hovertemplate": "Player=Vinicius Jr<br>Goals=%{text}<br>Label=%{y}<extra></extra>",
         "legendgroup": "Vinicius Jr",
         "marker": {
          "color": "#B6E880",
          "pattern": {
           "shape": ""
          }
         },
         "name": "Vinicius Jr",
         "orientation": "h",
         "showlegend": true,
         "text": {
          "dtype": "f8",
          "bdata": "AAAAAAAAIEA="
         },
         "textposition": "outside",
         "x": {
          "dtype": "i1",
          "bdata": "CA=="
         },
         "xaxis": "x",
         "y": [
          "Vinicius Jr (Real Madrid)"
         ],
         "yaxis": "y",
         "type": "bar"
        },
        {
         "hovertemplate": "Player=Jonathan David<br>Goals=%{text}<br>Label=%{y}<extra></extra>",
         "legendgroup": "Jonathan David",
         "marker": {
          "color": "#FF97FF",
          "pattern": {
           "shape": ""
          }
         },
         "name": "Jonathan David",
         "orientation": "h",
         "showlegend": true,
         "text": {
          "dtype": "f8",
          "bdata": "AAAAAAAAHEA="
         },
         "textposition": "outside",
         "x": {
          "dtype": "i1",
          "bdata": "Bw=="
         },
         "xaxis": "x",
         "y": [
          "Jonathan David (Lille)"
         ],
         "yaxis": "y",
         "type": "bar"
        },
        {
         "hovertemplate": "Player=Pavlidis<br>Goals=%{text}<br>Label=%{y}<extra></extra>",
         "legendgroup": "Pavlidis",
         "marker": {
          "color": "#FECB52",
          "pattern": {
           "shape": ""
          }
         },
         "name": "Pavlidis",
         "orientation": "h",
         "showlegend": true,
         "text": {
          "dtype": "f8",
          "bdata": "AAAAAAAAHEA="
         },
         "textposition": "outside",
         "x": {
          "dtype": "i1",
          "bdata": "Bw=="
         },
         "xaxis": "x",
         "y": [
          "Pavlidis (Benfica)"
         ],
         "yaxis": "y",
         "type": "bar"
        }
       ],
       "layout": {
        "template": {
         "data": {
          "histogram2dcontour": [
           {
            "type": "histogram2dcontour",
            "colorbar": {
             "outlinewidth": 0,
             "ticks": ""
            },
            "colorscale": [
             [
              0.0,
              "#0d0887"
             ],
             [
              0.1111111111111111,
              "#46039f"
             ],
             [
              0.2222222222222222,
              "#7201a8"
             ],
             [
              0.3333333333333333,
              "#9c179e"
             ],
             [
              0.4444444444444444,
              "#bd3786"
             ],
             [
              0.5555555555555556,
              "#d8576b"
             ],
             [
              0.6666666666666666,
              "#ed7953"
             ],
             [
              0.7777777777777778,
              "#fb9f3a"
             ],
             [
              0.8888888888888888,
              "#fdca26"
             ],
             [
              1.0,
              "#f0f921"
             ]
            ]
           }
          ],
          "choropleth": [
           {
            "type": "choropleth",
            "colorbar": {
             "outlinewidth": 0,
             "ticks": ""
            }
           }
          ],
          "histogram2d": [
           {
            "type": "histogram2d",
            "colorbar": {
             "outlinewidth": 0,
             "ticks": ""
            },
            "colorscale": [
             [
              0.0,
              "#0d0887"
             ],
             [
              0.1111111111111111,
              "#46039f"
             ],
             [
              0.2222222222222222,
              "#7201a8"
             ],
             [
              0.3333333333333333,
              "#9c179e"
             ],
             [
              0.4444444444444444,
              "#bd3786"
             ],
             [
              0.5555555555555556,
              "#d8576b"
             ],
             [
              0.6666666666666666,
              "#ed7953"
             ],
             [
              0.7777777777777778,
              "#fb9f3a"
             ],
             [
              0.8888888888888888,
              "#fdca26"
             ],
             [
              1.0,
              "#f0f921"
             ]
            ]
           }
          ],
          "heatmap": [
           {
            "type": "heatmap",
            "colorbar": {
             "outlinewidth": 0,
             "ticks": ""
            },
            "colorscale": [
             [
              0.0,
              "#0d0887"
             ],
             [
              0.1111111111111111,
              "#46039f"
             ],
             [
              0.2222222222222222,
              "#7201a8"
             ],
             [
              0.3333333333333333,
              "#9c179e"
             ],
             [
              0.4444444444444444,
              "#bd3786"
             ],
             [
              0.5555555555555556,
              "#d8576b"
             ],
             [
              0.6666666666666666,
              "#ed7953"
             ],
             [
              0.7777777777777778,
              "#fb9f3a"
             ],
             [
              0.8888888888888888,
              "#fdca26"
             ],
             [
              1.0,
              "#f0f921"
             ]
            ]
           }
          ],
          "contourcarpet": [
           {
            "type": "contourcarpet",
            "colorbar": {
             "outlinewidth": 0,
             "ticks": ""
            }
           }
          ],
          "contour": [
           {
            "type": "contour",
            "colorbar": {
             "outlinewidth": 0,
             "ticks": ""
            },
            "colorscale": [
             [
              0.0,
              "#0d0887"
             ],
             [
              0.1111111111111111,
              "#46039f"
             ],
             [
              0.2222222222222222,
              "#7201a8"
             ],
             [
              0.3333333333333333,
              "#9c179e"
             ],
             [
              0.4444444444444444,
              "#bd3786"
             ],
             [
              0.5555555555555556,
              "#d8576b"
             ],
             [
              0.6666666666666666,
              "#ed7953"
             ],
             [
              0.7777777777777778,
              "#fb9f3a"
             ],
             [
              0.8888888888888888,
              "#fdca26"
             ],
             [
              1.0,
              "#f0f921"
             ]
            ]
           }
          ],
          "surface": [
           {
            "type": "surface",
            "colorbar": {
             "outlinewidth": 0,
             "ticks": ""
            },
            "colorscale": [
             [
              0.0,
              "#0d0887"
             ],
             [
              0.1111111111111111,
              "#46039f"
             ],
             [
              0.2222222222222222,
              "#7201a8"
             ],
             [
              0.3333333333333333,
              "#9c179e"
             ],
             [
              0.4444444444444444,
              "#bd3786"
             ],
             [
              0.5555555555555556,
              "#d8576b"
             ],
             [
              0.6666666666666666,
              "#ed7953"
             ],
             [
              0.7777777777777778,
              "#fb9f3a"
             ],
             [
              0.8888888888888888,
              "#fdca26"
             ],
             [
              1.0,
              "#f0f921"
             ]
            ]
           }
          ],
          "mesh3d": [
           {
            "type": "mesh3d",
            "colorbar": {
             "outlinewidth": 0,
             "ticks": ""
            }
           }
          ],
          "scatter": [
           {
            "fillpattern": {
             "fillmode": "overlay",
             "size": 10,
             "solidity": 0.2
            },
            "type": "scatter"
           }
          ],
          "parcoords": [
           {
            "type": "parcoords",
            "line": {
             "colorbar": {
              "outlinewidth": 0,
              "ticks": ""
             }
            }
           }
          ],
          "scatterpolargl": [
           {
            "type": "scatterpolargl",
            "marker": {
             "colorbar": {
              "outlinewidth": 0,
              "ticks": ""
             }
            }
           }
          ],
          "bar": [
           {
            "error_x": {
             "color": "#2a3f5f"
            },
            "error_y": {
             "color": "#2a3f5f"
            },
            "marker": {
             "line": {
              "color": "#E5ECF6",
              "width": 0.5
             },
             "pattern": {
              "fillmode": "overlay",
              "size": 10,
              "solidity": 0.2
             }
            },
            "type": "bar"
           }
          ],
          "scattergeo": [
           {
            "type": "scattergeo",
            "marker": {
             "colorbar": {
              "outlinewidth": 0,
              "ticks": ""
             }
            }
           }
          ],
          "scatterpolar": [
           {
            "type": "scatterpolar",
            "marker": {
             "colorbar": {
              "outlinewidth": 0,
              "ticks": ""
             }
            }
           }
          ],
          "histogram": [
           {
            "marker": {
             "pattern": {
              "fillmode": "overlay",
              "size": 10,
              "solidity": 0.2
             }
            },
            "type": "histogram"
           }
          ],
          "scattergl": [
           {
            "type": "scattergl",
            "marker": {
             "colorbar": {
              "outlinewidth": 0,
              "ticks": ""
             }
            }
           }
          ],
          "scatter3d": [
           {
            "type": "scatter3d",
            "line": {
             "colorbar": {
              "outlinewidth": 0,
              "ticks": ""
             }
            },
            "marker": {
             "colorbar": {
              "outlinewidth": 0,
              "ticks": ""
             }
            }
           }
          ],
          "scattermap": [
           {
            "type": "scattermap",
            "marker": {
             "colorbar": {
              "outlinewidth": 0,
              "ticks": ""
             }
            }
           }
          ],
          "scattermapbox": [
           {
            "type": "scattermapbox",
            "marker": {
             "colorbar": {
              "outlinewidth": 0,
              "ticks": ""
             }
            }
           }
          ],
          "scatterternary": [
           {
            "type": "scatterternary",
            "marker": {
             "colorbar": {
              "outlinewidth": 0,
              "ticks": ""
             }
            }
           }
          ],
          "scattercarpet": [
           {
            "type": "scattercarpet",
            "marker": {
             "colorbar": {
              "outlinewidth": 0,
              "ticks": ""
             }
            }
           }
          ],
          "carpet": [
           {
            "aaxis": {
             "endlinecolor": "#2a3f5f",
             "gridcolor": "white",
             "linecolor": "white",
             "minorgridcolor": "white",
             "startlinecolor": "#2a3f5f"
            },
            "baxis": {
             "endlinecolor": "#2a3f5f",
             "gridcolor": "white",
             "linecolor": "white",
             "minorgridcolor": "white",
             "startlinecolor": "#2a3f5f"
            },
            "type": "carpet"
           }
          ],
          "table": [
           {
            "cells": {
             "fill": {
              "color": "#EBF0F8"
             },
             "line": {
              "color": "white"
             }
            },
            "header": {
             "fill": {
              "color": "#C8D4E3"
             },
             "line": {
              "color": "white"
             }
            },
            "type": "table"
           }
          ],
          "barpolar": [
           {
            "marker": {
             "line": {
              "color": "#E5ECF6",
              "width": 0.5
             },
             "pattern": {
              "fillmode": "overlay",
              "size": 10,
              "solidity": 0.2
             }
            },
            "type": "barpolar"
           }
          ],
          "pie": [
           {
            "automargin": true,
            "type": "pie"
           }
          ]
         },
         "layout": {
          "autotypenumbers": "strict",
          "colorway": [
           "#636efa",
           "#EF553B",
           "#00cc96",
           "#ab63fa",
           "#FFA15A",
           "#19d3f3",
           "#FF6692",
           "#B6E880",
           "#FF97FF",
           "#FECB52"
          ],
          "font": {
           "color": "#2a3f5f"
          },
          "hovermode": "closest",
          "hoverlabel": {
           "align": "left"
          },
          "paper_bgcolor": "white",
          "plot_bgcolor": "#E5ECF6",
          "polar": {
           "bgcolor": "#E5ECF6",
           "angularaxis": {
            "gridcolor": "white",
            "linecolor": "white",
            "ticks": ""
           },
           "radialaxis": {
            "gridcolor": "white",
            "linecolor": "white",
            "ticks": ""
           }
          },
          "ternary": {
           "bgcolor": "#E5ECF6",
           "aaxis": {
            "gridcolor": "white",
            "linecolor": "white",
            "ticks": ""
           },
           "baxis": {
            "gridcolor": "white",
            "linecolor": "white",
            "ticks": ""
           },
           "caxis": {
            "gridcolor": "white",
            "linecolor": "white",
            "ticks": ""
           }
          },
          "coloraxis": {
           "colorbar": {
            "outlinewidth": 0,
            "ticks": ""
           }
          },
          "colorscale": {
           "sequential": [
            [
             0.0,
             "#0d0887"
            ],
            [
             0.1111111111111111,
             "#46039f"
            ],
            [
             0.2222222222222222,
             "#7201a8"
            ],
            [
             0.3333333333333333,
             "#9c179e"
            ],
            [
             0.4444444444444444,
             "#bd3786"
            ],
            [
             0.5555555555555556,
             "#d8576b"
            ],
            [
             0.6666666666666666,
             "#ed7953"
            ],
            [
             0.7777777777777778,
             "#fb9f3a"
            ],
            [
             0.8888888888888888,
             "#fdca26"
            ],
            [
             1.0,
             "#f0f921"
            ]
           ],
           "sequentialminus": [
            [
             0.0,
             "#0d0887"
            ],
            [
             0.1111111111111111,
             "#46039f"
            ],
            [
             0.2222222222222222,
             "#7201a8"
            ],
            [
             0.3333333333333333,
             "#9c179e"
            ],
            [
             0.4444444444444444,
             "#bd3786"
            ],
            [
             0.5555555555555556,
             "#d8576b"
            ],
            [
             0.6666666666666666,
             "#ed7953"
            ],
            [
             0.7777777777777778,
             "#fb9f3a"
            ],
            [
             0.8888888888888888,
             "#fdca26"
            ],
            [
             1.0,
             "#f0f921"
            ]
           ],
           "diverging": [
            [
             0,
             "#8e0152"
            ],
            [
             0.1,
             "#c51b7d"
            ],
            [
             0.2,
             "#de77ae"
            ],
            [
             0.3,
             "#f1b6da"
            ],
            [
             0.4,
             "#fde0ef"
            ],
            [
             0.5,
             "#f7f7f7"
            ],
            [
             0.6,
             "#e6f5d0"
            ],
            [
             0.7,
             "#b8e186"
            ],
            [
             0.8,
             "#7fbc41"
            ],
            [
             0.9,
             "#4d9221"
            ],
            [
             1,
             "#276419"
            ]
           ]
          },
          "xaxis": {
           "gridcolor": "white",
           "linecolor": "white",
           "ticks": "",
           "title": {
            "standoff": 15
           },
           "zerolinecolor": "white",
           "automargin": true,
           "zerolinewidth": 2
          },
          "yaxis": {
           "gridcolor": "white",
           "linecolor": "white",
           "ticks": "",
           "title": {
            "standoff": 15
           },
           "zerolinecolor": "white",
           "automargin": true,
           "zerolinewidth": 2
          },
          "scene": {
           "xaxis": {
            "backgroundcolor": "#E5ECF6",
            "gridcolor": "white",
            "linecolor": "white",
            "showbackground": true,
            "ticks": "",
            "zerolinecolor": "white",
            "gridwidth": 2
           },
           "yaxis": {
            "backgroundcolor": "#E5ECF6",
            "gridcolor": "white",
            "linecolor": "white",
            "showbackground": true,
            "ticks": "",
            "zerolinecolor": "white",
            "gridwidth": 2
           },
           "zaxis": {
            "backgroundcolor": "#E5ECF6",
            "gridcolor": "white",
            "linecolor": "white",
            "showbackground": true,
            "ticks": "",
            "zerolinecolor": "white",
            "gridwidth": 2
           }
          },
          "shapedefaults": {
           "line": {
            "color": "#2a3f5f"
           }
          },
          "annotationdefaults": {
           "arrowcolor": "#2a3f5f",
           "arrowhead": 0,
           "arrowwidth": 1
          },
          "geo": {
           "bgcolor": "white",
           "landcolor": "#E5ECF6",
           "subunitcolor": "white",
           "showland": true,
           "showlakes": true,
           "lakecolor": "white"
          },
          "title": {
           "x": 0.05
          },
          "mapbox": {
           "style": "light"
          }
         }
        },
        "xaxis": {
         "anchor": "y",
         "domain": [
          0.0,
          1.0
         ],
         "title": {
          "text": "Goals"
         }
        },
        "yaxis": {
         "anchor": "x",
         "domain": [
          0.0,
          1.0
         ],
         "title": {
          "text": "Label"
         },
         "autorange": "reversed"
        },
        "legend": {
         "title": {
          "text": "Player"
         },
         "tracegroupgap": 0
        },
        "title": {
         "text": "Top 10 Players with Most Goals in Champions League 2025"
        },
        "barmode": "relative"
       },
       "config": {
        "plotlyServerURL": "https://plot.ly"
       }
      }
     },
     "metadata": {},
     "output_type": "display_data"
    }
   ],
   "execution_count": 63
  },
  {
   "metadata": {
    "ExecuteTime": {
     "end_time": "2025-06-15T11:40:15.552503Z",
     "start_time": "2025-06-15T11:40:15.544234Z"
    }
   },
   "cell_type": "code",
   "source": "",
   "id": "86da8be7ab256072",
   "outputs": [],
   "execution_count": null
  },
  {
   "metadata": {
    "ExecuteTime": {
     "end_time": "2025-06-15T11:40:15.664478Z",
     "start_time": "2025-06-15T11:40:15.655664Z"
    }
   },
   "cell_type": "code",
   "source": [
    "efficient_players = ucl[ucl['Match_played'] >= 5].copy()\n",
    "efficient_players['G_A_per_game'] = (efficient_players['Goals'] + efficient_players['Assists']) / efficient_players['Match_played']"
   ],
   "id": "c53994abbfb340b",
   "outputs": [],
   "execution_count": 64
  },
  {
   "metadata": {
    "ExecuteTime": {
     "end_time": "2025-06-15T11:40:15.688277Z",
     "start_time": "2025-06-15T11:40:15.672068Z"
    }
   },
   "cell_type": "code",
   "source": [
    "top_eff = efficient_players.sort_values('G_A_per_game', ascending=False).head(10)\n",
    "top_eff['Label'] = top_eff['Player'] + \" (\" + top_eff['Team'] + \")\""
   ],
   "id": "ed3bcbe657be8b7e",
   "outputs": [],
   "execution_count": 65
  },
  {
   "metadata": {
    "ExecuteTime": {
     "end_time": "2025-06-15T11:40:15.930869Z",
     "start_time": "2025-06-15T11:40:15.852001Z"
    }
   },
   "cell_type": "code",
   "source": [
    "fig = px.bar(\n",
    "    top_eff,\n",
    "    x='G_A_per_game',\n",
    "    y='Label',\n",
    "    orientation='h',\n",
    "    color='Team',\n",
    "    title='Top 6 Lojtaret me Efikas ne Champions League (Goal+Assist per Ndeshje)',\n",
    "    text=top_eff['G_A_per_game'].round(2)\n",
    ")\n",
    "\n",
    "fig.update_layout(yaxis=dict(autorange='reversed'))\n",
    "fig.update_traces(textposition='outside')\n",
    "fig.show()"
   ],
   "id": "27c42394d2870d82",
   "outputs": [
    {
     "data": {
      "application/vnd.plotly.v1+json": {
       "data": [
        {
         "hovertemplate": "Team=Barcelona<br>G_A_per_game=%{x}<br>Label=%{y}<br>text=%{text}<extra></extra>",
         "legendgroup": "Barcelona",
         "marker": {
          "color": "#636efa",
          "pattern": {
           "shape": ""
          }
         },
         "name": "Barcelona",
         "orientation": "h",
         "showlegend": true,
         "text": {
          "dtype": "f8",
          "bdata": "H4XrUbge+T8="
         },
         "textposition": "outside",
         "x": {
          "dtype": "f8",
          "bdata": "SZIkSZIk+T8="
         },
         "xaxis": "x",
         "y": [
          "Raphinha (Barcelona)"
         ],
         "yaxis": "y",
         "type": "bar"
        },
        {
         "hovertemplate": "Team=BVB Dortmund<br>G_A_per_game=%{x}<br>Label=%{y}<br>text=%{text}<extra></extra>",
         "legendgroup": "BVB Dortmund",
         "marker": {
          "color": "#EF553B",
          "pattern": {
           "shape": ""
          }
         },
         "name": "BVB Dortmund",
         "orientation": "h",
         "showlegend": true,
         "text": {
          "dtype": "f8",
          "bdata": "XI/C9Shc8z8="
         },
         "textposition": "outside",
         "x": {
          "dtype": "f8",
          "bdata": "27Zt27Zt8z8="
         },
         "xaxis": "x",
         "y": [
          "Guirassy (BVB Dortmund)"
         ],
         "yaxis": "y",
         "type": "bar"
        },
        {
         "hovertemplate": "Team=Milan<br>G_A_per_game=%{x}<br>Label=%{y}<br>text=%{text}<extra></extra>",
         "legendgroup": "Milan",
         "marker": {
          "color": "#00cc96",
          "pattern": {
           "shape": ""
          }
         },
         "name": "Milan",
         "orientation": "h",
         "showlegend": true,
         "text": {
          "dtype": "f8",
          "bdata": "AAAAAAAA8D8="
         },
         "textposition": "outside",
         "x": {
          "dtype": "f8",
          "bdata": "AAAAAAAA8D8="
         },
         "xaxis": "x",
         "y": [
          "Santiago Gimenez (Milan)"
         ],
         "yaxis": "y",
         "type": "bar"
        },
        {
         "hovertemplate": "Team=Bayern Munich<br>G_A_per_game=%{x}<br>Label=%{y}<br>text=%{text}<extra></extra>",
         "legendgroup": "Bayern Munich",
         "marker": {
          "color": "#ab63fa",
          "pattern": {
           "shape": ""
          }
         },
         "name": "Bayern Munich",
         "orientation": "h",
         "showlegend": true,
         "text": {
          "dtype": "f8",
          "bdata": "AAAAAAAA8D8="
         },
         "textposition": "outside",
         "x": {
          "dtype": "f8",
          "bdata": "AAAAAAAA8D8="
         },
         "xaxis": "x",
         "y": [
          "Harry Kane (Bayern Munich)"
         ],
         "yaxis": "y",
         "type": "bar"
        },
        {
         "hovertemplate": "Team=Atalanta BC<br>G_A_per_game=%{x}<br>Label=%{y}<br>text=%{text}<extra></extra>",
         "legendgroup": "Atalanta BC",
         "marker": {
          "color": "#FFA15A",
          "pattern": {
           "shape": ""
          }
         },
         "name": "Atalanta BC",
         "orientation": "h",
         "showlegend": true,
         "text": {
          "dtype": "f8",
          "bdata": "AAAAAAAA8D/NzMzMzMzsPw=="
         },
         "textposition": "outside",
         "x": {
          "dtype": "f8",
          "bdata": "AAAAAAAA8D/NzMzMzMzsPw=="
         },
         "xaxis": "x",
         "y": [
          "Lookman (Atalanta BC)",
          "Charles Ketelaere (Atalanta BC)"
         ],
         "yaxis": "y",
         "type": "bar"
        },
        {
         "hovertemplate": "Team=Paris SG<br>G_A_per_game=%{x}<br>Label=%{y}<br>text=%{text}<extra></extra>",
         "legendgroup": "Paris SG",
         "marker": {
          "color": "#19d3f3",
          "pattern": {
           "shape": ""
          }
         },
         "name": "Paris SG",
         "orientation": "h",
         "showlegend": true,
         "text": {
          "dtype": "f8",
          "bdata": "w/UoXI/C7T8="
         },
         "textposition": "outside",
         "x": {
          "dtype": "f8",
          "bdata": "3t3d3d3d7T8="
         },
         "xaxis": "x",
         "y": [
          "Dembele (Paris SG)"
         ],
         "yaxis": "y",
         "type": "bar"
        },
        {
         "hovertemplate": "Team=Real Madrid<br>G_A_per_game=%{x}<br>Label=%{y}<br>text=%{text}<extra></extra>",
         "legendgroup": "Real Madrid",
         "marker": {
          "color": "#FF6692",
          "pattern": {
           "shape": ""
          }
         },
         "name": "Real Madrid",
         "orientation": "h",
         "showlegend": true,
         "text": {
          "dtype": "f8",
          "bdata": "cT0K16Nw7T8="
         },
         "textposition": "outside",
         "x": {
          "dtype": "f8",
          "bdata": "VVVVVVVV7T8="
         },
         "xaxis": "x",
         "y": [
          "Vinicius Jr (Real Madrid)"
         ],
         "yaxis": "y",
         "type": "bar"
        },
        {
         "hovertemplate": "Team=Lille<br>G_A_per_game=%{x}<br>Label=%{y}<br>text=%{text}<extra></extra>",
         "legendgroup": "Lille",
         "marker": {
          "color": "#B6E880",
          "pattern": {
           "shape": ""
          }
         },
         "name": "Lille",
         "orientation": "h",
         "showlegend": true,
         "text": {
          "dtype": "f8",
          "bdata": "zczMzMzM7D8="
         },
         "textposition": "outside",
         "x": {
          "dtype": "f8",
          "bdata": "zczMzMzM7D8="
         },
         "xaxis": "x",
         "y": [
          "Jonathan David (Lille)"
         ],
         "yaxis": "y",
         "type": "bar"
        },
        {
         "hovertemplate": "Team=Atletico Madrid<br>G_A_per_game=%{x}<br>Label=%{y}<br>text=%{text}<extra></extra>",
         "legendgroup": "Atletico Madrid",
         "marker": {
          "color": "#FF97FF",
          "pattern": {
           "shape": ""
          }
         },
         "name": "Atletico Madrid",
         "orientation": "h",
         "showlegend": true,
         "text": {
          "dtype": "f8",
          "bdata": "zczMzMzM7D8="
         },
         "textposition": "outside",
         "x": {
          "dtype": "f8",
          "bdata": "zczMzMzM7D8="
         },
         "xaxis": "x",
         "y": [
          "Griezmann (Atletico Madrid)"
         ],
         "yaxis": "y",
         "type": "bar"
        }
       ],
       "layout": {
        "template": {
         "data": {
          "histogram2dcontour": [
           {
            "type": "histogram2dcontour",
            "colorbar": {
             "outlinewidth": 0,
             "ticks": ""
            },
            "colorscale": [
             [
              0.0,
              "#0d0887"
             ],
             [
              0.1111111111111111,
              "#46039f"
             ],
             [
              0.2222222222222222,
              "#7201a8"
             ],
             [
              0.3333333333333333,
              "#9c179e"
             ],
             [
              0.4444444444444444,
              "#bd3786"
             ],
             [
              0.5555555555555556,
              "#d8576b"
             ],
             [
              0.6666666666666666,
              "#ed7953"
             ],
             [
              0.7777777777777778,
              "#fb9f3a"
             ],
             [
              0.8888888888888888,
              "#fdca26"
             ],
             [
              1.0,
              "#f0f921"
             ]
            ]
           }
          ],
          "choropleth": [
           {
            "type": "choropleth",
            "colorbar": {
             "outlinewidth": 0,
             "ticks": ""
            }
           }
          ],
          "histogram2d": [
           {
            "type": "histogram2d",
            "colorbar": {
             "outlinewidth": 0,
             "ticks": ""
            },
            "colorscale": [
             [
              0.0,
              "#0d0887"
             ],
             [
              0.1111111111111111,
              "#46039f"
             ],
             [
              0.2222222222222222,
              "#7201a8"
             ],
             [
              0.3333333333333333,
              "#9c179e"
             ],
             [
              0.4444444444444444,
              "#bd3786"
             ],
             [
              0.5555555555555556,
              "#d8576b"
             ],
             [
              0.6666666666666666,
              "#ed7953"
             ],
             [
              0.7777777777777778,
              "#fb9f3a"
             ],
             [
              0.8888888888888888,
              "#fdca26"
             ],
             [
              1.0,
              "#f0f921"
             ]
            ]
           }
          ],
          "heatmap": [
           {
            "type": "heatmap",
            "colorbar": {
             "outlinewidth": 0,
             "ticks": ""
            },
            "colorscale": [
             [
              0.0,
              "#0d0887"
             ],
             [
              0.1111111111111111,
              "#46039f"
             ],
             [
              0.2222222222222222,
              "#7201a8"
             ],
             [
              0.3333333333333333,
              "#9c179e"
             ],
             [
              0.4444444444444444,
              "#bd3786"
             ],
             [
              0.5555555555555556,
              "#d8576b"
             ],
             [
              0.6666666666666666,
              "#ed7953"
             ],
             [
              0.7777777777777778,
              "#fb9f3a"
             ],
             [
              0.8888888888888888,
              "#fdca26"
             ],
             [
              1.0,
              "#f0f921"
             ]
            ]
           }
          ],
          "contourcarpet": [
           {
            "type": "contourcarpet",
            "colorbar": {
             "outlinewidth": 0,
             "ticks": ""
            }
           }
          ],
          "contour": [
           {
            "type": "contour",
            "colorbar": {
             "outlinewidth": 0,
             "ticks": ""
            },
            "colorscale": [
             [
              0.0,
              "#0d0887"
             ],
             [
              0.1111111111111111,
              "#46039f"
             ],
             [
              0.2222222222222222,
              "#7201a8"
             ],
             [
              0.3333333333333333,
              "#9c179e"
             ],
             [
              0.4444444444444444,
              "#bd3786"
             ],
             [
              0.5555555555555556,
              "#d8576b"
             ],
             [
              0.6666666666666666,
              "#ed7953"
             ],
             [
              0.7777777777777778,
              "#fb9f3a"
             ],
             [
              0.8888888888888888,
              "#fdca26"
             ],
             [
              1.0,
              "#f0f921"
             ]
            ]
           }
          ],
          "surface": [
           {
            "type": "surface",
            "colorbar": {
             "outlinewidth": 0,
             "ticks": ""
            },
            "colorscale": [
             [
              0.0,
              "#0d0887"
             ],
             [
              0.1111111111111111,
              "#46039f"
             ],
             [
              0.2222222222222222,
              "#7201a8"
             ],
             [
              0.3333333333333333,
              "#9c179e"
             ],
             [
              0.4444444444444444,
              "#bd3786"
             ],
             [
              0.5555555555555556,
              "#d8576b"
             ],
             [
              0.6666666666666666,
              "#ed7953"
             ],
             [
              0.7777777777777778,
              "#fb9f3a"
             ],
             [
              0.8888888888888888,
              "#fdca26"
             ],
             [
              1.0,
              "#f0f921"
             ]
            ]
           }
          ],
          "mesh3d": [
           {
            "type": "mesh3d",
            "colorbar": {
             "outlinewidth": 0,
             "ticks": ""
            }
           }
          ],
          "scatter": [
           {
            "fillpattern": {
             "fillmode": "overlay",
             "size": 10,
             "solidity": 0.2
            },
            "type": "scatter"
           }
          ],
          "parcoords": [
           {
            "type": "parcoords",
            "line": {
             "colorbar": {
              "outlinewidth": 0,
              "ticks": ""
             }
            }
           }
          ],
          "scatterpolargl": [
           {
            "type": "scatterpolargl",
            "marker": {
             "colorbar": {
              "outlinewidth": 0,
              "ticks": ""
             }
            }
           }
          ],
          "bar": [
           {
            "error_x": {
             "color": "#2a3f5f"
            },
            "error_y": {
             "color": "#2a3f5f"
            },
            "marker": {
             "line": {
              "color": "#E5ECF6",
              "width": 0.5
             },
             "pattern": {
              "fillmode": "overlay",
              "size": 10,
              "solidity": 0.2
             }
            },
            "type": "bar"
           }
          ],
          "scattergeo": [
           {
            "type": "scattergeo",
            "marker": {
             "colorbar": {
              "outlinewidth": 0,
              "ticks": ""
             }
            }
           }
          ],
          "scatterpolar": [
           {
            "type": "scatterpolar",
            "marker": {
             "colorbar": {
              "outlinewidth": 0,
              "ticks": ""
             }
            }
           }
          ],
          "histogram": [
           {
            "marker": {
             "pattern": {
              "fillmode": "overlay",
              "size": 10,
              "solidity": 0.2
             }
            },
            "type": "histogram"
           }
          ],
          "scattergl": [
           {
            "type": "scattergl",
            "marker": {
             "colorbar": {
              "outlinewidth": 0,
              "ticks": ""
             }
            }
           }
          ],
          "scatter3d": [
           {
            "type": "scatter3d",
            "line": {
             "colorbar": {
              "outlinewidth": 0,
              "ticks": ""
             }
            },
            "marker": {
             "colorbar": {
              "outlinewidth": 0,
              "ticks": ""
             }
            }
           }
          ],
          "scattermap": [
           {
            "type": "scattermap",
            "marker": {
             "colorbar": {
              "outlinewidth": 0,
              "ticks": ""
             }
            }
           }
          ],
          "scattermapbox": [
           {
            "type": "scattermapbox",
            "marker": {
             "colorbar": {
              "outlinewidth": 0,
              "ticks": ""
             }
            }
           }
          ],
          "scatterternary": [
           {
            "type": "scatterternary",
            "marker": {
             "colorbar": {
              "outlinewidth": 0,
              "ticks": ""
             }
            }
           }
          ],
          "scattercarpet": [
           {
            "type": "scattercarpet",
            "marker": {
             "colorbar": {
              "outlinewidth": 0,
              "ticks": ""
             }
            }
           }
          ],
          "carpet": [
           {
            "aaxis": {
             "endlinecolor": "#2a3f5f",
             "gridcolor": "white",
             "linecolor": "white",
             "minorgridcolor": "white",
             "startlinecolor": "#2a3f5f"
            },
            "baxis": {
             "endlinecolor": "#2a3f5f",
             "gridcolor": "white",
             "linecolor": "white",
             "minorgridcolor": "white",
             "startlinecolor": "#2a3f5f"
            },
            "type": "carpet"
           }
          ],
          "table": [
           {
            "cells": {
             "fill": {
              "color": "#EBF0F8"
             },
             "line": {
              "color": "white"
             }
            },
            "header": {
             "fill": {
              "color": "#C8D4E3"
             },
             "line": {
              "color": "white"
             }
            },
            "type": "table"
           }
          ],
          "barpolar": [
           {
            "marker": {
             "line": {
              "color": "#E5ECF6",
              "width": 0.5
             },
             "pattern": {
              "fillmode": "overlay",
              "size": 10,
              "solidity": 0.2
             }
            },
            "type": "barpolar"
           }
          ],
          "pie": [
           {
            "automargin": true,
            "type": "pie"
           }
          ]
         },
         "layout": {
          "autotypenumbers": "strict",
          "colorway": [
           "#636efa",
           "#EF553B",
           "#00cc96",
           "#ab63fa",
           "#FFA15A",
           "#19d3f3",
           "#FF6692",
           "#B6E880",
           "#FF97FF",
           "#FECB52"
          ],
          "font": {
           "color": "#2a3f5f"
          },
          "hovermode": "closest",
          "hoverlabel": {
           "align": "left"
          },
          "paper_bgcolor": "white",
          "plot_bgcolor": "#E5ECF6",
          "polar": {
           "bgcolor": "#E5ECF6",
           "angularaxis": {
            "gridcolor": "white",
            "linecolor": "white",
            "ticks": ""
           },
           "radialaxis": {
            "gridcolor": "white",
            "linecolor": "white",
            "ticks": ""
           }
          },
          "ternary": {
           "bgcolor": "#E5ECF6",
           "aaxis": {
            "gridcolor": "white",
            "linecolor": "white",
            "ticks": ""
           },
           "baxis": {
            "gridcolor": "white",
            "linecolor": "white",
            "ticks": ""
           },
           "caxis": {
            "gridcolor": "white",
            "linecolor": "white",
            "ticks": ""
           }
          },
          "coloraxis": {
           "colorbar": {
            "outlinewidth": 0,
            "ticks": ""
           }
          },
          "colorscale": {
           "sequential": [
            [
             0.0,
             "#0d0887"
            ],
            [
             0.1111111111111111,
             "#46039f"
            ],
            [
             0.2222222222222222,
             "#7201a8"
            ],
            [
             0.3333333333333333,
             "#9c179e"
            ],
            [
             0.4444444444444444,
             "#bd3786"
            ],
            [
             0.5555555555555556,
             "#d8576b"
            ],
            [
             0.6666666666666666,
             "#ed7953"
            ],
            [
             0.7777777777777778,
             "#fb9f3a"
            ],
            [
             0.8888888888888888,
             "#fdca26"
            ],
            [
             1.0,
             "#f0f921"
            ]
           ],
           "sequentialminus": [
            [
             0.0,
             "#0d0887"
            ],
            [
             0.1111111111111111,
             "#46039f"
            ],
            [
             0.2222222222222222,
             "#7201a8"
            ],
            [
             0.3333333333333333,
             "#9c179e"
            ],
            [
             0.4444444444444444,
             "#bd3786"
            ],
            [
             0.5555555555555556,
             "#d8576b"
            ],
            [
             0.6666666666666666,
             "#ed7953"
            ],
            [
             0.7777777777777778,
             "#fb9f3a"
            ],
            [
             0.8888888888888888,
             "#fdca26"
            ],
            [
             1.0,
             "#f0f921"
            ]
           ],
           "diverging": [
            [
             0,
             "#8e0152"
            ],
            [
             0.1,
             "#c51b7d"
            ],
            [
             0.2,
             "#de77ae"
            ],
            [
             0.3,
             "#f1b6da"
            ],
            [
             0.4,
             "#fde0ef"
            ],
            [
             0.5,
             "#f7f7f7"
            ],
            [
             0.6,
             "#e6f5d0"
            ],
            [
             0.7,
             "#b8e186"
            ],
            [
             0.8,
             "#7fbc41"
            ],
            [
             0.9,
             "#4d9221"
            ],
            [
             1,
             "#276419"
            ]
           ]
          },
          "xaxis": {
           "gridcolor": "white",
           "linecolor": "white",
           "ticks": "",
           "title": {
            "standoff": 15
           },
           "zerolinecolor": "white",
           "automargin": true,
           "zerolinewidth": 2
          },
          "yaxis": {
           "gridcolor": "white",
           "linecolor": "white",
           "ticks": "",
           "title": {
            "standoff": 15
           },
           "zerolinecolor": "white",
           "automargin": true,
           "zerolinewidth": 2
          },
          "scene": {
           "xaxis": {
            "backgroundcolor": "#E5ECF6",
            "gridcolor": "white",
            "linecolor": "white",
            "showbackground": true,
            "ticks": "",
            "zerolinecolor": "white",
            "gridwidth": 2
           },
           "yaxis": {
            "backgroundcolor": "#E5ECF6",
            "gridcolor": "white",
            "linecolor": "white",
            "showbackground": true,
            "ticks": "",
            "zerolinecolor": "white",
            "gridwidth": 2
           },
           "zaxis": {
            "backgroundcolor": "#E5ECF6",
            "gridcolor": "white",
            "linecolor": "white",
            "showbackground": true,
            "ticks": "",
            "zerolinecolor": "white",
            "gridwidth": 2
           }
          },
          "shapedefaults": {
           "line": {
            "color": "#2a3f5f"
           }
          },
          "annotationdefaults": {
           "arrowcolor": "#2a3f5f",
           "arrowhead": 0,
           "arrowwidth": 1
          },
          "geo": {
           "bgcolor": "white",
           "landcolor": "#E5ECF6",
           "subunitcolor": "white",
           "showland": true,
           "showlakes": true,
           "lakecolor": "white"
          },
          "title": {
           "x": 0.05
          },
          "mapbox": {
           "style": "light"
          }
         }
        },
        "xaxis": {
         "anchor": "y",
         "domain": [
          0.0,
          1.0
         ],
         "title": {
          "text": "G_A_per_game"
         }
        },
        "yaxis": {
         "anchor": "x",
         "domain": [
          0.0,
          1.0
         ],
         "title": {
          "text": "Label"
         },
         "autorange": "reversed"
        },
        "legend": {
         "title": {
          "text": "Team"
         },
         "tracegroupgap": 0
        },
        "title": {
         "text": "Top 6 Lojtaret me Efikas ne Champions League (Goal+Assist per Ndeshje)"
        },
        "barmode": "relative"
       },
       "config": {
        "plotlyServerURL": "https://plot.ly"
       }
      }
     },
     "metadata": {},
     "output_type": "display_data"
    }
   ],
   "execution_count": 66
  },
  {
   "metadata": {},
   "cell_type": "markdown",
   "source": "#### 27. Top 20 Teams with Most Attacks based in Assists, Dribbles and Total Attempts",
   "id": "bcfe7c2384d0c383"
  },
  {
   "metadata": {
    "ExecuteTime": {
     "end_time": "2025-06-15T11:40:16.034599Z",
     "start_time": "2025-06-15T11:40:16.027077Z"
    }
   },
   "cell_type": "code",
   "source": "team_attack = ucl.groupby('Team')[['Assists', 'Dribbles', 'Total_attempts']].sum().reset_index()",
   "id": "6c1b55ebb160eb75",
   "outputs": [],
   "execution_count": 67
  },
  {
   "metadata": {
    "ExecuteTime": {
     "end_time": "2025-06-15T11:40:16.135438Z",
     "start_time": "2025-06-15T11:40:16.126267Z"
    }
   },
   "cell_type": "code",
   "source": "team_attack['Attack_Score'] = (team_attack['Assists'] + team_attack['Dribbles'] + team_attack['Total_attempts'])",
   "id": "93a2de13028a61b",
   "outputs": [],
   "execution_count": 68
  },
  {
   "metadata": {
    "ExecuteTime": {
     "end_time": "2025-06-15T11:40:16.252037Z",
     "start_time": "2025-06-15T11:40:16.247365Z"
    }
   },
   "cell_type": "code",
   "source": [
    "# Merr top 25 skuadrat më sulmuese\n",
    "top_attack_team = team_attack.sort_values('Attack_Score', ascending=False).head(20)"
   ],
   "id": "f60c3939dc0b9164",
   "outputs": [],
   "execution_count": 69
  },
  {
   "metadata": {
    "ExecuteTime": {
     "end_time": "2025-06-15T11:40:16.368271Z",
     "start_time": "2025-06-15T11:40:16.359053Z"
    }
   },
   "cell_type": "code",
   "source": "top_attack_team",
   "id": "28f220334afde9fd",
   "outputs": [
    {
     "data": {
      "text/plain": [
       "                Team  Assists  Dribbles  Total_attempts  Attack_Score\n",
       "25          Paris SG       31       319             279           629\n",
       "5          Barcelona       31       273             202           506\n",
       "26       Real Madrid       18       238             181           437\n",
       "7      Bayern Munich       17       166             194           377\n",
       "4       BVB Dortmund       17       161             144           322\n",
       "24     PSV Eindhoven       12       133             157           302\n",
       "0         Arsenal FC       15       151             128           294\n",
       "16             Inter       17       119             138           274\n",
       "8            Benfica       11       104             123           238\n",
       "2        Atalanta BC       17       104             105           226\n",
       "1        Aston Villa       12       125              75           212\n",
       "22             Milan        6       116              85           207\n",
       "21   Manchester City        7        87             111           205\n",
       "20      Liverpool FC        7       108              85           200\n",
       "6   Bayer Leverkusen        9        88              91           188\n",
       "23            Monaco        9        78              75           162\n",
       "3    Atletico Madrid       14        55              83           152\n",
       "28       Sporting CP        1        70              62           133\n",
       "11            Celtic        7        70              47           124\n",
       "17          Juventus        4        85              34           123"
      ],
      "text/html": [
       "<div>\n",
       "<style scoped>\n",
       "    .dataframe tbody tr th:only-of-type {\n",
       "        vertical-align: middle;\n",
       "    }\n",
       "\n",
       "    .dataframe tbody tr th {\n",
       "        vertical-align: top;\n",
       "    }\n",
       "\n",
       "    .dataframe thead th {\n",
       "        text-align: right;\n",
       "    }\n",
       "</style>\n",
       "<table border=\"1\" class=\"dataframe\">\n",
       "  <thead>\n",
       "    <tr style=\"text-align: right;\">\n",
       "      <th></th>\n",
       "      <th>Team</th>\n",
       "      <th>Assists</th>\n",
       "      <th>Dribbles</th>\n",
       "      <th>Total_attempts</th>\n",
       "      <th>Attack_Score</th>\n",
       "    </tr>\n",
       "  </thead>\n",
       "  <tbody>\n",
       "    <tr>\n",
       "      <th>25</th>\n",
       "      <td>Paris SG</td>\n",
       "      <td>31</td>\n",
       "      <td>319</td>\n",
       "      <td>279</td>\n",
       "      <td>629</td>\n",
       "    </tr>\n",
       "    <tr>\n",
       "      <th>5</th>\n",
       "      <td>Barcelona</td>\n",
       "      <td>31</td>\n",
       "      <td>273</td>\n",
       "      <td>202</td>\n",
       "      <td>506</td>\n",
       "    </tr>\n",
       "    <tr>\n",
       "      <th>26</th>\n",
       "      <td>Real Madrid</td>\n",
       "      <td>18</td>\n",
       "      <td>238</td>\n",
       "      <td>181</td>\n",
       "      <td>437</td>\n",
       "    </tr>\n",
       "    <tr>\n",
       "      <th>7</th>\n",
       "      <td>Bayern Munich</td>\n",
       "      <td>17</td>\n",
       "      <td>166</td>\n",
       "      <td>194</td>\n",
       "      <td>377</td>\n",
       "    </tr>\n",
       "    <tr>\n",
       "      <th>4</th>\n",
       "      <td>BVB Dortmund</td>\n",
       "      <td>17</td>\n",
       "      <td>161</td>\n",
       "      <td>144</td>\n",
       "      <td>322</td>\n",
       "    </tr>\n",
       "    <tr>\n",
       "      <th>24</th>\n",
       "      <td>PSV Eindhoven</td>\n",
       "      <td>12</td>\n",
       "      <td>133</td>\n",
       "      <td>157</td>\n",
       "      <td>302</td>\n",
       "    </tr>\n",
       "    <tr>\n",
       "      <th>0</th>\n",
       "      <td>Arsenal FC</td>\n",
       "      <td>15</td>\n",
       "      <td>151</td>\n",
       "      <td>128</td>\n",
       "      <td>294</td>\n",
       "    </tr>\n",
       "    <tr>\n",
       "      <th>16</th>\n",
       "      <td>Inter</td>\n",
       "      <td>17</td>\n",
       "      <td>119</td>\n",
       "      <td>138</td>\n",
       "      <td>274</td>\n",
       "    </tr>\n",
       "    <tr>\n",
       "      <th>8</th>\n",
       "      <td>Benfica</td>\n",
       "      <td>11</td>\n",
       "      <td>104</td>\n",
       "      <td>123</td>\n",
       "      <td>238</td>\n",
       "    </tr>\n",
       "    <tr>\n",
       "      <th>2</th>\n",
       "      <td>Atalanta BC</td>\n",
       "      <td>17</td>\n",
       "      <td>104</td>\n",
       "      <td>105</td>\n",
       "      <td>226</td>\n",
       "    </tr>\n",
       "    <tr>\n",
       "      <th>1</th>\n",
       "      <td>Aston Villa</td>\n",
       "      <td>12</td>\n",
       "      <td>125</td>\n",
       "      <td>75</td>\n",
       "      <td>212</td>\n",
       "    </tr>\n",
       "    <tr>\n",
       "      <th>22</th>\n",
       "      <td>Milan</td>\n",
       "      <td>6</td>\n",
       "      <td>116</td>\n",
       "      <td>85</td>\n",
       "      <td>207</td>\n",
       "    </tr>\n",
       "    <tr>\n",
       "      <th>21</th>\n",
       "      <td>Manchester City</td>\n",
       "      <td>7</td>\n",
       "      <td>87</td>\n",
       "      <td>111</td>\n",
       "      <td>205</td>\n",
       "    </tr>\n",
       "    <tr>\n",
       "      <th>20</th>\n",
       "      <td>Liverpool FC</td>\n",
       "      <td>7</td>\n",
       "      <td>108</td>\n",
       "      <td>85</td>\n",
       "      <td>200</td>\n",
       "    </tr>\n",
       "    <tr>\n",
       "      <th>6</th>\n",
       "      <td>Bayer Leverkusen</td>\n",
       "      <td>9</td>\n",
       "      <td>88</td>\n",
       "      <td>91</td>\n",
       "      <td>188</td>\n",
       "    </tr>\n",
       "    <tr>\n",
       "      <th>23</th>\n",
       "      <td>Monaco</td>\n",
       "      <td>9</td>\n",
       "      <td>78</td>\n",
       "      <td>75</td>\n",
       "      <td>162</td>\n",
       "    </tr>\n",
       "    <tr>\n",
       "      <th>3</th>\n",
       "      <td>Atletico Madrid</td>\n",
       "      <td>14</td>\n",
       "      <td>55</td>\n",
       "      <td>83</td>\n",
       "      <td>152</td>\n",
       "    </tr>\n",
       "    <tr>\n",
       "      <th>28</th>\n",
       "      <td>Sporting CP</td>\n",
       "      <td>1</td>\n",
       "      <td>70</td>\n",
       "      <td>62</td>\n",
       "      <td>133</td>\n",
       "    </tr>\n",
       "    <tr>\n",
       "      <th>11</th>\n",
       "      <td>Celtic</td>\n",
       "      <td>7</td>\n",
       "      <td>70</td>\n",
       "      <td>47</td>\n",
       "      <td>124</td>\n",
       "    </tr>\n",
       "    <tr>\n",
       "      <th>17</th>\n",
       "      <td>Juventus</td>\n",
       "      <td>4</td>\n",
       "      <td>85</td>\n",
       "      <td>34</td>\n",
       "      <td>123</td>\n",
       "    </tr>\n",
       "  </tbody>\n",
       "</table>\n",
       "</div>"
      ]
     },
     "execution_count": 70,
     "metadata": {},
     "output_type": "execute_result"
    }
   ],
   "execution_count": 70
  },
  {
   "metadata": {
    "ExecuteTime": {
     "end_time": "2025-06-15T11:40:17.043057Z",
     "start_time": "2025-06-15T11:40:16.626986Z"
    }
   },
   "cell_type": "code",
   "source": [
    "sns.relplot(data=top_attack_team, x='Attack_Score', y='Assists', size='Attack_Score', hue='Team',sizes=(40,400),alpha=.5, palette=\"muted\", height=6)\n",
    "\n",
    "plt.title('Top 20 Teams with Most Attacks', fontsize=16)\n",
    "plt.xlabel('Attack Score', fontsize=12)\n",
    "plt.ylabel('Assists', fontsize=12)\n",
    "plt.show()"
   ],
   "id": "94d962b4fa07d3dd",
   "outputs": [
    {
     "data": {
      "text/plain": [
       "<Figure size 762x600 with 1 Axes>"
      ],
      "image/png": "[encoded data removed]"
     },
     "metadata": {},
     "output_type": "display_data"
    }
   ],
   "execution_count": 71
  },
  {
   "metadata": {},
   "cell_type": "code",
   "outputs": [],
   "execution_count": null,
   "source": "",
   "id": "828170f4e7ba1e7"
  },
  {
   "metadata": {
    "ExecuteTime": {
     "end_time": "2025-06-15T11:43:24.341704Z",
     "start_time": "2025-06-15T11:43:24.289466Z"
    }
   },
   "cell_type": "code",
   "source": [
    "top10_value = ucl.sort_values('Value10^6', ascending=False).head(10)\n",
    "\n",
    "fig2 = px.box(\n",
    "    ucl,\n",
    "    x='Position',\n",
    "    y='Value10^6',\n",
    "    color='Position',\n",
    "    points='all',\n",
    "    title='Vlerave se Tregut sipas Pozicionit(vlerat e lojtarve jane bazuar ne baze te Transfermarkt)',\n",
    "    labels={'Value10^6': 'Value €', 'Position': 'Position⚽'}\n",
    ")\n",
    "fig2.update_layout(showlegend=False)\n",
    "fig2.show()"
   ],
   "id": "9edcf6c8fa23c33d",
   "outputs": [
    {
     "data": {
      "application/vnd.plotly.v1+json": {
       "data": [
        {
         "alignmentgroup": "True",
         "boxpoints": "all",
         "hovertemplate": "Position⚽=%{x}<br>Value €=%{y}<extra></extra>",
         "legendgroup": "Defender",
         "marker": {
          "color": "#636efa"
         },
         "name": "Defender",
         "notched": false,
         "offsetgroup": "Defender",
         "orientation": "v",
         "showlegend": true,
         "x": [
          "Defender",
          "Defender",
          "Defender",
          "Defender",
          "Defender",
          "Defender",
          "Defender",
          "Defender",
          "Defender",
          "Defender",
          "Defender",
          "Defender",
          "Defender",
          "Defender",
          "Defender",
          "Defender",
          "Defender",
          "Defender",
          "Defender",
          "Defender",
          "Defender",
          "Defender",
          "Defender",
          "Defender",
          "Defender",
          "Defender",
          "Defender",
          "Defender",
          "Defender",
          "Defender",
          "Defender",
          "Defender",
          "Defender",
          "Defender",
          "Defender",
          "Defender",
          "Defender",
          "Defender",
          "Defender",
          "Defender",
          "Defender",
          "Defender",
          "Defender",
          "Defender",
          "Defender",
          "Defender",
          "Defender",
          "Defender",
          "Defender",
          "Defender",
          "Defender",
          "Defender",
          "Defender",
          "Defender",
          "Defender",
          "Defender",
          "Defender",
          "Defender",
          "Defender",
          "Defender"
         ],
         "x0": " ",
         "xaxis": "x",
         "y": {
          "dtype": "f8",
          "bdata": "AAAAAAAAREAAAAAAAABJQAAAAAAAAPA/AAAAAAAAJEAAAAAAAABOQAAAAAAAAElAAAAAAAAAREAAAAAAAAAcQAAAAAAAADlAAAAAAAAATkAAAAAAAAAoQAAAAAAAAD5AAAAAAAAATkAAAAAAAAAwQAAAAAAAAElAAAAAAAAAVEAAAAAAAIBHQAAAAAAAgEFAAAAAAAAAHEAAAAAAAAA0QAAAAAAAADRAAAAAAAAAPkAAAAAAAAA0QAAAAAAAAEtAAAAAAAAALkAAAAAAAABJQAAAAAAAAChAAAAAAAAAFEAAAAAAAAA8QAAAAAAAAElAAAAAAAAAQEAAAAAAAABEQAAAAAAAACRAAAAAAAAAMEAAAAAAAAA5QAAAAAAAACRAAAAAAAAAPkAAAAAAAMBSQAAAAAAAgEZAAAAAAAAAPEAAAAAAAAA5QAAAAAAAgEtAAAAAAAAAPEAAAAAAAIBGQAAAAAAAgEZAAAAAAAAATkAAAAAAAAAIQAAAAAAAADRAAAAAAAAAREAAAAAAAABJQAAAAAAAAFRAAAAAAAAAN0AAAAAAAAAyQAAAAAAAADlAAAAAAAAAHEAAAAAAAAA5QAAAAAAAAABAAAAAAAAATkAAAAAAAAAAQAAAAAAAADJA"
         },
         "y0": " ",
         "yaxis": "y",
         "type": "box"
        },
        {
         "alignmentgroup": "True",
         "boxpoints": "all",
         "hovertemplate": "Position⚽=%{x}<br>Value €=%{y}<extra></extra>",
         "legendgroup": "Midfielder",
         "marker": {
          "color": "#EF553B"
         },
         "name": "Midfielder",
         "notched": false,
         "offsetgroup": "Midfielder",
         "orientation": "v",
         "showlegend": true,
         "x": [
          "Midfielder",
          "Midfielder",
          "Midfielder",
          "Midfielder",
          "Midfielder",
          "Midfielder",
          "Midfielder",
          "Midfielder",
          "Midfielder",
          "Midfielder",
          "Midfielder",
          "Midfielder",
          "Midfielder",
          "Midfielder",
          "Midfielder",
          "Midfielder",
          "Midfielder",
          "Midfielder",
          "Midfielder",
          "Midfielder",
          "Midfielder",
          "Midfielder",
          "Midfielder",
          "Midfielder",
          "Midfielder",
          "Midfielder",
          "Midfielder",
          "Midfielder",
          "Midfielder",
          "Midfielder",
          "Midfielder",
          "Midfielder",
          "Midfielder",
          "Midfielder",
          "Midfielder",
          "Midfielder",
          "Midfielder",
          "Midfielder",
          "Midfielder",
          "Midfielder",
          "Midfielder",
          "Midfielder",
          "Midfielder",
          "Midfielder",
          "Midfielder",
          "Midfielder",
          "Midfielder",
          "Midfielder",
          "Midfielder",
          "Midfielder",
          "Midfielder",
          "Midfielder",
          "Midfielder",
          "Midfielder",
          "Midfielder",
          "Midfielder",
          "Midfielder",
          "Midfielder",
          "Midfielder",
          "Midfielder",
          "Midfielder",
          "Midfielder",
          "Midfielder",
          "Midfielder",
          "Midfielder",
          "Midfielder"
         ],
         "x0": " ",
         "xaxis": "x",
         "y": {
          "dtype": "f8",
          "bdata": "AAAAAAAAVEAAAAAAAABZQAAAAAAAABxAAAAAAACAQUAAAAAAAAA8QAAAAAAAADZAAAAAAAAAVEAAAAAAAAA6QAAAAAAAAElAAAAAAAAASUAAAAAAAAA0QAAAAAAAAENAAAAAAAAASUAAAAAAAABUQAAAAAAAABRAAAAAAAAANkAAAAAAAAAUQAAAAAAAADxAAAAAAAAAHEAAAAAAAAAcQAAAAAAAAEZAAAAAAAAAQEAAAAAAAAAQQAAAAAAAABxAAAAAAAAAKkAAAAAAAAAYQAAAAAAAADxAAAAAAAAAOUAAAAAAAABOQAAAAAAAABxAAAAAAAAAJkAAAAAAAAA0QAAAAAAAADdAAAAAAAAAVEAAAAAAAIBBQAAAAAAAgEFAAAAAAAAAQ0AAAAAAAABAQAAAAAAAAChAAAAAAAAAPkAAAAAAAAA5QAAAAAAAADFAAAAAAAAAPkAAAAAAAAAYQAAAAAAAgEZAAAAAAAAASUAAAAAAAAAuQAAAAAAAADxAAAAAAACAUUAAAAAAAABOQAAAAAAAAGRAAAAAAAAASUAAAAAAAIBhQAAAAAAAgEFAAAAAAAAANkAAAAAAAAA5QAAAAAAAAElAAAAAAAAAMEAAAAAAAIBBQAAAAAAAQGBAAAAAAAAAPkAAAAAAAAA5QAAAAAAAAEBAAAAAAAAACEAAAAAAAIBBQAAAAAAAAERA"
         },
         "y0": " ",
         "yaxis": "y",
         "type": "box"
        },
        {
         "alignmentgroup": "True",
         "boxpoints": "all",
         "hovertemplate": "Position⚽=%{x}<br>Value €=%{y}<extra></extra>",
         "legendgroup": "Forward",
         "marker": {
          "color": "#00cc96"
         },
         "name": "Forward",
         "notched": false,
         "offsetgroup": "Forward",
         "orientation": "v",
         "showlegend": true,
         "x": [
          "Forward",
          "Forward",
          "Forward",
          "Forward",
          "Forward",
          "Forward",
          "Forward",
          "Forward",
          "Forward",
          "Forward",
          "Forward",
          "Forward",
          "Forward",
          "Forward",
          "Forward",
          "Forward",
          "Forward",
          "Forward",
          "Forward",
          "Forward",
          "Forward",
          "Forward",
          "Forward",
          "Forward",
          "Forward",
          "Forward",
          "Forward",
          "Forward",
          "Forward",
          "Forward",
          "Forward",
          "Forward",
          "Forward",
          "Forward",
          "Forward",
          "Forward",
          "Forward",
          "Forward",
          "Forward",
          "Forward",
          "Forward",
          "Forward",
          "Forward",
          "Forward",
          "Forward",
          "Forward",
          "Forward",
          "Forward",
          "Forward",
          "Forward",
          "Forward",
          "Forward",
          "Forward",
          "Forward",
          "Forward",
          "Forward",
          "Forward",
          "Forward",
          "Forward",
          "Forward",
          "Forward",
          "Forward",
          "Forward",
          "Forward"
         ],
         "x0": " ",
         "xaxis": "x",
         "y": {
          "dtype": "f8",
          "bdata": "AAAAAAAALkAAAAAAAABUQAAAAAAAgGZAAAAAAACARkAAAAAAAAA5QAAAAAAAgEFAAAAAAAAASUAAAAAAAIBmQAAAAAAAgGZAAAAAAACAUUAAAAAAAAAoQAAAAAAAAFRAAAAAAACAS0AAAAAAAAA5QAAAAAAAAGlAAAAAAACAVkAAAAAAAAAyQAAAAAAAABRAAAAAAAAANkAAAAAAAIBCQAAAAAAAADxAAAAAAADAYkAAAAAAAABZQAAAAAAAAAhAAAAAAABAUEAAAAAAAAAuQAAAAAAAgFFAAAAAAADAUkAAAAAAAAAoQAAAAAAAgEZAAAAAAACARkAAAAAAAAA+QAAAAAAAwFJAAAAAAADAYkAAAAAAAIBGQAAAAAAAAE5AAAAAAACAQUAAAAAAAAAxQAAAAAAAAERAAAAAAACAS0AAAAAAAAA5QAAAAAAAADZAAAAAAACAS0AAAAAAAABEQAAAAAAAAAhAAAAAAAAAWUAAAAAAAABCQAAAAAAAgFZAAAAAAADAUkAAAAAAAMBSQAAAAAAAAE1AAAAAAACARkAAAAAAAAA8QAAAAAAAAElAAAAAAAAASUAAAAAAAMBiQAAAAAAAAE1AAAAAAAAAGEAAAAAAAAA0QAAAAAAAAAhAAAAAAAAAOUAAAAAAAEBVQAAAAAAAAPA/AAAAAAAAKEA="
         },
         "y0": " ",
         "yaxis": "y",
         "type": "box"
        },
        {
         "alignmentgroup": "True",
         "boxpoints": "all",
         "hovertemplate": "Position⚽=%{x}<br>Value €=%{y}<extra></extra>",
         "legendgroup": "Goalkeeper",
         "marker": {
          "color": "#ab63fa"
         },
         "name": "Goalkeeper",
         "notched": false,
         "offsetgroup": "Goalkeeper",
         "orientation": "v",
         "showlegend": true,
         "x": [
          "Goalkeeper",
          "Goalkeeper",
          "Goalkeeper",
          "Goalkeeper",
          "Goalkeeper",
          "Goalkeeper",
          "Goalkeeper",
          "Goalkeeper",
          "Goalkeeper",
          "Goalkeeper",
          "Goalkeeper",
          "Goalkeeper",
          "Goalkeeper",
          "Goalkeeper",
          "Goalkeeper",
          "Goalkeeper",
          "Goalkeeper",
          "Goalkeeper",
          "Goalkeeper",
          "Goalkeeper"
         ],
         "x0": " ",
         "xaxis": "x",
         "y": {
          "dtype": "f8",
          "bdata": "AAAAAAAACEAAAAAAAAA+QAAAAAAAADlAAAAAAACAQUAAAAAAAIBBQAAAAAAAgEBAAAAAAAAAOUAAAAAAAAAYQAAAAAAAgEFAAAAAAAAAFEAAAAAAAAAyQAAAAAAAADlAAAAAAAAAHEAAAAAAAAA5QAAAAAAAAPA/AAAAAAAA8D8AAAAAAAAYQAAAAAAAAABAAAAAAAAA6D8AAAAAAAAIQA=="
         },
         "y0": " ",
         "yaxis": "y",
         "type": "box"
        }
       ],
       "layout": {
        "template": {
         "data": {
          "histogram2dcontour": [
           {
            "type": "histogram2dcontour",
            "colorbar": {
             "outlinewidth": 0,
             "ticks": ""
            },
            "colorscale": [
             [
              0.0,
              "#0d0887"
             ],
             [
              0.1111111111111111,
              "#46039f"
             ],
             [
              0.2222222222222222,
              "#7201a8"
             ],
             [
              0.3333333333333333,
              "#9c179e"
             ],
             [
              0.4444444444444444,
              "#bd3786"
             ],
             [
              0.5555555555555556,
              "#d8576b"
             ],
             [
              0.6666666666666666,
              "#ed7953"
             ],
             [
              0.7777777777777778,
              "#fb9f3a"
             ],
             [
              0.8888888888888888,
              "#fdca26"
             ],
             [
              1.0,
              "#f0f921"
             ]
            ]
           }
          ],
          "choropleth": [
           {
            "type": "choropleth",
            "colorbar": {
             "outlinewidth": 0,
             "ticks": ""
            }
           }
          ],
          "histogram2d": [
           {
            "type": "histogram2d",
            "colorbar": {
             "outlinewidth": 0,
             "ticks": ""
            },
            "colorscale": [
             [
              0.0,
              "#0d0887"
             ],
             [
              0.1111111111111111,
              "#46039f"
             ],
             [
              0.2222222222222222,
              "#7201a8"
             ],
             [
              0.3333333333333333,
              "#9c179e"
             ],
             [
              0.4444444444444444,
              "#bd3786"
             ],
             [
              0.5555555555555556,
              "#d8576b"
             ],
             [
              0.6666666666666666,
              "#ed7953"
             ],
             [
              0.7777777777777778,
              "#fb9f3a"
             ],
             [
              0.8888888888888888,
              "#fdca26"
             ],
             [
              1.0,
              "#f0f921"
             ]
            ]
           }
          ],
          "heatmap": [
           {
            "type": "heatmap",
            "colorbar": {
             "outlinewidth": 0,
             "ticks": ""
            },
            "colorscale": [
             [
              0.0,
              "#0d0887"
             ],
             [
              0.1111111111111111,
              "#46039f"
             ],
             [
              0.2222222222222222,
              "#7201a8"
             ],
             [
              0.3333333333333333,
              "#9c179e"
             ],
             [
              0.4444444444444444,
              "#bd3786"
             ],
             [
              0.5555555555555556,
              "#d8576b"
             ],
             [
              0.6666666666666666,
              "#ed7953"
             ],
             [
              0.7777777777777778,
              "#fb9f3a"
             ],
             [
              0.8888888888888888,
              "#fdca26"
             ],
             [
              1.0,
              "#f0f921"
             ]
            ]
           }
          ],
          "contourcarpet": [
           {
            "type": "contourcarpet",
            "colorbar": {
             "outlinewidth": 0,
             "ticks": ""
            }
           }
          ],
          "contour": [
           {
            "type": "contour",
            "colorbar": {
             "outlinewidth": 0,
             "ticks": ""
            },
            "colorscale": [
             [
              0.0,
              "#0d0887"
             ],
             [
              0.1111111111111111,
              "#46039f"
             ],
             [
              0.2222222222222222,
              "#7201a8"
             ],
             [
              0.3333333333333333,
              "#9c179e"
             ],
             [
              0.4444444444444444,
              "#bd3786"
             ],
             [
              0.5555555555555556,
              "#d8576b"
             ],
             [
              0.6666666666666666,
              "#ed7953"
             ],
             [
              0.7777777777777778,
              "#fb9f3a"
             ],
             [
              0.8888888888888888,
              "#fdca26"
             ],
             [
              1.0,
              "#f0f921"
             ]
            ]
           }
          ],
          "surface": [
           {
            "type": "surface",
            "colorbar": {
             "outlinewidth": 0,
             "ticks": ""
            },
            "colorscale": [
             [
              0.0,
              "#0d0887"
             ],
             [
              0.1111111111111111,
              "#46039f"
             ],
             [
              0.2222222222222222,
              "#7201a8"
             ],
             [
              0.3333333333333333,
              "#9c179e"
             ],
             [
              0.4444444444444444,
              "#bd3786"
             ],
             [
              0.5555555555555556,
              "#d8576b"
             ],
             [
              0.6666666666666666,
              "#ed7953"
             ],
             [
              0.7777777777777778,
              "#fb9f3a"
             ],
             [
              0.8888888888888888,
              "#fdca26"
             ],
             [
              1.0,
              "#f0f921"
             ]
            ]
           }
          ],
          "mesh3d": [
           {
            "type": "mesh3d",
            "colorbar": {
             "outlinewidth": 0,
             "ticks": ""
            }
           }
          ],
          "scatter": [
           {
            "fillpattern": {
             "fillmode": "overlay",
             "size": 10,
             "solidity": 0.2
            },
            "type": "scatter"
           }
          ],
          "parcoords": [
           {
            "type": "parcoords",
            "line": {
             "colorbar": {
              "outlinewidth": 0,
              "ticks": ""
             }
            }
           }
          ],
          "scatterpolargl": [
           {
            "type": "scatterpolargl",
            "marker": {
             "colorbar": {
              "outlinewidth": 0,
              "ticks": ""
             }
            }
           }
          ],
          "bar": [
           {
            "error_x": {
             "color": "#2a3f5f"
            },
            "error_y": {
             "color": "#2a3f5f"
            },
            "marker": {
             "line": {
              "color": "#E5ECF6",
              "width": 0.5
             },
             "pattern": {
              "fillmode": "overlay",
              "size": 10,
              "solidity": 0.2
             }
            },
            "type": "bar"
           }
          ],
          "scattergeo": [
           {
            "type": "scattergeo",
            "marker": {
             "colorbar": {
              "outlinewidth": 0,
              "ticks": ""
             }
            }
           }
          ],
          "scatterpolar": [
           {
            "type": "scatterpolar",
            "marker": {
             "colorbar": {
              "outlinewidth": 0,
              "ticks": ""
             }
            }
           }
          ],
          "histogram": [
           {
            "marker": {
             "pattern": {
              "fillmode": "overlay",
              "size": 10,
              "solidity": 0.2
             }
            },
            "type": "histogram"
           }
          ],
          "scattergl": [
           {
            "type": "scattergl",
            "marker": {
             "colorbar": {
              "outlinewidth": 0,
              "ticks": ""
             }
            }
           }
          ],
          "scatter3d": [
           {
            "type": "scatter3d",
            "line": {
             "colorbar": {
              "outlinewidth": 0,
              "ticks": ""
             }
            },
            "marker": {
             "colorbar": {
              "outlinewidth": 0,
              "ticks": ""
             }
            }
           }
          ],
          "scattermap": [
           {
            "type": "scattermap",
            "marker": {
             "colorbar": {
              "outlinewidth": 0,
              "ticks": ""
             }
            }
           }
          ],
          "scattermapbox": [
           {
            "type": "scattermapbox",
            "marker": {
             "colorbar": {
              "outlinewidth": 0,
              "ticks": ""
             }
            }
           }
          ],
          "scatterternary": [
           {
            "type": "scatterternary",
            "marker": {
             "colorbar": {
              "outlinewidth": 0,
              "ticks": ""
             }
            }
           }
          ],
          "scattercarpet": [
           {
            "type": "scattercarpet",
            "marker": {
             "colorbar": {
              "outlinewidth": 0,
              "ticks": ""
             }
            }
           }
          ],
          "carpet": [
           {
            "aaxis": {
             "endlinecolor": "#2a3f5f",
             "gridcolor": "white",
             "linecolor": "white",
             "minorgridcolor": "white",
             "startlinecolor": "#2a3f5f"
            },
            "baxis": {
             "endlinecolor": "#2a3f5f",
             "gridcolor": "white",
             "linecolor": "white",
             "minorgridcolor": "white",
             "startlinecolor": "#2a3f5f"
            },
            "type": "carpet"
           }
          ],
          "table": [
           {
            "cells": {
             "fill": {
              "color": "#EBF0F8"
             },
             "line": {
              "color": "white"
             }
            },
            "header": {
             "fill": {
              "color": "#C8D4E3"
             },
             "line": {
              "color": "white"
             }
            },
            "type": "table"
           }
          ],
          "barpolar": [
           {
            "marker": {
             "line": {
              "color": "#E5ECF6",
              "width": 0.5
             },
             "pattern": {
              "fillmode": "overlay",
              "size": 10,
              "solidity": 0.2
             }
            },
            "type": "barpolar"
           }
          ],
          "pie": [
           {
            "automargin": true,
            "type": "pie"
           }
          ]
         },
         "layout": {
          "autotypenumbers": "strict",
          "colorway": [
           "#636efa",
           "#EF553B",
           "#00cc96",
           "#ab63fa",
           "#FFA15A",
           "#19d3f3",
           "#FF6692",
           "#B6E880",
           "#FF97FF",
           "#FECB52"
          ],
          "font": {
           "color": "#2a3f5f"
          },
          "hovermode": "closest",
          "hoverlabel": {
           "align": "left"
          },
          "paper_bgcolor": "white",
          "plot_bgcolor": "#E5ECF6",
          "polar": {
           "bgcolor": "#E5ECF6",
           "angularaxis": {
            "gridcolor": "white",
            "linecolor": "white",
            "ticks": ""
           },
           "radialaxis": {
            "gridcolor": "white",
            "linecolor": "white",
            "ticks": ""
           }
          },
          "ternary": {
           "bgcolor": "#E5ECF6",
           "aaxis": {
            "gridcolor": "white",
            "linecolor": "white",
            "ticks": ""
           },
           "baxis": {
            "gridcolor": "white",
            "linecolor": "white",
            "ticks": ""
           },
           "caxis": {
            "gridcolor": "white",
            "linecolor": "white",
            "ticks": ""
           }
          },
          "coloraxis": {
           "colorbar": {
            "outlinewidth": 0,
            "ticks": ""
           }
          },
          "colorscale": {
           "sequential": [
            [
             0.0,
             "#0d0887"
            ],
            [
             0.1111111111111111,
             "#46039f"
            ],
            [
             0.2222222222222222,
             "#7201a8"
            ],
            [
             0.3333333333333333,
             "#9c179e"
            ],
            [
             0.4444444444444444,
             "#bd3786"
            ],
            [
             0.5555555555555556,
             "#d8576b"
            ],
            [
             0.6666666666666666,
             "#ed7953"
            ],
            [
             0.7777777777777778,
             "#fb9f3a"
            ],
            [
             0.8888888888888888,
             "#fdca26"
            ],
            [
             1.0,
             "#f0f921"
            ]
           ],
           "sequentialminus": [
            [
             0.0,
             "#0d0887"
            ],
            [
             0.1111111111111111,
             "#46039f"
            ],
            [
             0.2222222222222222,
             "#7201a8"
            ],
            [
             0.3333333333333333,
             "#9c179e"
            ],
            [
             0.4444444444444444,
             "#bd3786"
            ],
            [
             0.5555555555555556,
             "#d8576b"
            ],
            [
             0.6666666666666666,
             "#ed7953"
            ],
            [
             0.7777777777777778,
             "#fb9f3a"
            ],
            [
             0.8888888888888888,
             "#fdca26"
            ],
            [
             1.0,
             "#f0f921"
            ]
           ],
           "diverging": [
            [
             0,
             "#8e0152"
            ],
            [
             0.1,
             "#c51b7d"
            ],
            [
             0.2,
             "#de77ae"
            ],
            [
             0.3,
             "#f1b6da"
            ],
            [
             0.4,
             "#fde0ef"
            ],
            [
             0.5,
             "#f7f7f7"
            ],
            [
             0.6,
             "#e6f5d0"
            ],
            [
             0.7,
             "#b8e186"
            ],
            [
             0.8,
             "#7fbc41"
            ],
            [
             0.9,
             "#4d9221"
            ],
            [
             1,
             "#276419"
            ]
           ]
          },
          "xaxis": {
           "gridcolor": "white",
           "linecolor": "white",
           "ticks": "",
           "title": {
            "standoff": 15
           },
           "zerolinecolor": "white",
           "automargin": true,
           "zerolinewidth": 2
          },
          "yaxis": {
           "gridcolor": "white",
           "linecolor": "white",
           "ticks": "",
           "title": {
            "standoff": 15
           },
           "zerolinecolor": "white",
           "automargin": true,
           "zerolinewidth": 2
          },
          "scene": {
           "xaxis": {
            "backgroundcolor": "#E5ECF6",
            "gridcolor": "white",
            "linecolor": "white",
            "showbackground": true,
            "ticks": "",
            "zerolinecolor": "white",
            "gridwidth": 2
           },
           "yaxis": {
            "backgroundcolor": "#E5ECF6",
            "gridcolor": "white",
            "linecolor": "white",
            "showbackground": true,
            "ticks": "",
            "zerolinecolor": "white",
            "gridwidth": 2
           },
           "zaxis": {
            "backgroundcolor": "#E5ECF6",
            "gridcolor": "white",
            "linecolor": "white",
            "showbackground": true,
            "ticks": "",
            "zerolinecolor": "white",
            "gridwidth": 2
           }
          },
          "shapedefaults": {
           "line": {
            "color": "#2a3f5f"
           }
          },
          "annotationdefaults": {
           "arrowcolor": "#2a3f5f",
           "arrowhead": 0,
           "arrowwidth": 1
          },
          "geo": {
           "bgcolor": "white",
           "landcolor": "#E5ECF6",
           "subunitcolor": "white",
           "showland": true,
           "showlakes": true,
           "lakecolor": "white"
          },
          "title": {
           "x": 0.05
          },
          "mapbox": {
           "style": "light"
          }
         }
        },
        "xaxis": {
         "anchor": "y",
         "domain": [
          0.0,
          1.0
         ],
         "title": {
          "text": "Position⚽"
         },
         "categoryorder": "array",
         "categoryarray": [
          "Defender",
          "Midfielder",
          "Forward",
          "Goalkeeper"
         ]
        },
        "yaxis": {
         "anchor": "x",
         "domain": [
          0.0,
          1.0
         ],
         "title": {
          "text": "Value €"
         }
        },
        "legend": {
         "title": {
          "text": "Position⚽"
         },
         "tracegroupgap": 0
        },
        "title": {
         "text": "Vlerave se Tregut sipas Pozicionit(vlerat e lojtarve jane bazuar ne baze te Transfermarkt)"
        },
        "boxmode": "overlay",
        "showlegend": false
       },
       "config": {
        "plotlyServerURL": "https://plot.ly"
       }
      }
     },
     "metadata": {},
     "output_type": "display_data"
    }
   ],
   "execution_count": 78
  },
  {
   "metadata": {},
   "cell_type": "markdown",
   "source": "#### Done with Univariate and Bivariate Analysis✅",
   "id": "aca5072825919c46"
  }
 ],
 "metadata": {
  "kernelspec": {
   "display_name": "Python 3",
   "language": "python",
   "name": "python3"
  },
  "language_info": {
   "codemirror_mode": {
    "name": "ipython",
    "version": 2
   },
   "file_extension": ".py",
   "mimetype": "text/x-python",
   "name": "python",
   "nbconvert_exporter": "python",
   "pygments_lexer": "ipython2",
   "version": "2.7.6"
  }
 },
 "nbformat": 4,
 "nbformat_minor": 5
}
