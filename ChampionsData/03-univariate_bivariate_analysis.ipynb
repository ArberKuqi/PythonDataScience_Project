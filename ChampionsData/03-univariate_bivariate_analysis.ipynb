{
 "cells": [
  {
   "cell_type": "code",
   "id": "initial_id",
   "metadata": {
    "collapsed": true,
    "ExecuteTime": {
     "end_time": "2025-06-10T17:38:40.866634Z",
     "start_time": "2025-06-10T17:38:40.862506Z"
    }
   },
   "source": [
    "\n",
    "import pandas as pd\n",
    "import numpy as np\n",
    "import plotly.express as px\n",
    "import seaborn as sns\n",
    "import matplotlib.pyplot as plt"
   ],
   "outputs": [],
   "execution_count": 84
  },
  {
   "metadata": {
    "ExecuteTime": {
     "end_time": "2025-06-10T17:12:14.541738Z",
     "start_time": "2025-06-10T17:12:14.089639Z"
    }
   },
   "cell_type": "code",
   "source": "ucl = pd.read_excel('UCL_playerstats_orig.xlsx')",
   "id": "9971d964d6a8308c",
   "outputs": [],
   "execution_count": 3
  },
  {
   "metadata": {},
   "cell_type": "markdown",
   "source": "#### ℹ️Info  Remove leading/trailing spaces from the 3rd row",
   "id": "b6dbd863b8e40c78"
  },
  {
   "metadata": {
    "ExecuteTime": {
     "end_time": "2025-06-10T17:30:44.295528Z",
     "start_time": "2025-06-10T17:30:44.284513Z"
    }
   },
   "cell_type": "code",
   "outputs": [],
   "execution_count": 67,
   "source": "ucl.iloc[19] = ucl.iloc[19].str.strip()",
   "id": "d61cc1e618303264"
  },
  {
   "metadata": {
    "ExecuteTime": {
     "end_time": "2025-06-10T17:28:28.650184Z",
     "start_time": "2025-06-10T17:28:28.643003Z"
    }
   },
   "cell_type": "code",
   "source": "ucl[ucl['Player'] == 'Kylian Mbappe']['Team'].unique()",
   "id": "a70a54f7614cc844",
   "outputs": [
    {
     "data": {
      "text/plain": [
       "array(['Real Madrid'], dtype=object)"
      ]
     },
     "execution_count": 57,
     "metadata": {},
     "output_type": "execute_result"
    }
   ],
   "execution_count": 57
  },
  {
   "metadata": {
    "ExecuteTime": {
     "end_time": "2025-06-10T17:12:14.586547Z",
     "start_time": "2025-06-10T17:12:14.575741Z"
    }
   },
   "cell_type": "code",
   "source": "top_attackers = ucl[['Player','Team','Goals','Assists','Minutes_played']].sort_values(by='Goals', ascending=False).head(10).reset_index(drop=True)",
   "id": "349a958175223a6c",
   "outputs": [],
   "execution_count": 4
  },
  {
   "metadata": {
    "ExecuteTime": {
     "end_time": "2025-06-10T17:12:14.630101Z",
     "start_time": "2025-06-10T17:12:14.620059Z"
    }
   },
   "cell_type": "code",
   "source": "print(top_attackers)",
   "id": "e0d564eaf8ad64d0",
   "outputs": [
    {
     "name": "stdout",
     "output_type": "stream",
     "text": [
      "             Player             Team  Goals  Assists  Minutes_played\n",
      "0          Raphinha        Barcelona     13        9            1225\n",
      "1          Guirassy     BVB Dortmund     13        4            1084\n",
      "2        Harry Kane    Bayern Munich     11        2            1120\n",
      "3       Lewandowski        Barcelona     11        0             985\n",
      "4  Lautaro Martinez            Inter      9        0             857\n",
      "5       Vinicius Jr      Real Madrid      8        3            1104\n",
      "6           Dembele         Paris SG      8        6            1163\n",
      "7           Haaland  Manchester City      8        0             771\n",
      "8          Pavlidis          Benfica      7        3             905\n",
      "9     Kylian Mbappe     Real Madrid       7        2            1132\n"
     ]
    }
   ],
   "execution_count": 5
  },
  {
   "metadata": {},
   "cell_type": "markdown",
   "source": "#### Boxplot: Rating sipas Position",
   "id": "d23f92aa5265b9ef"
  },
  {
   "metadata": {
    "ExecuteTime": {
     "end_time": "2025-06-10T17:12:15.354402Z",
     "start_time": "2025-06-10T17:12:14.668142Z"
    }
   },
   "cell_type": "code",
   "source": [
    "fig_box = px.box(\n",
    "    ucl,\n",
    "    x=\"Position\",\n",
    "    y=\"Rating\",\n",
    "    color=\"Position\",\n",
    "    title=\"Player Rating Distribution by Position\",\n",
    "    labels={\"Rating\": \"Player Rating\", \"Position\": \"Position\"}\n",
    ")\n",
    "fig_box.update_layout(\n",
    "    xaxis_tickangle=-45,\n",
    "    showlegend=False,\n",
    "\n",
    ")\n",
    "\n",
    "fig_box.show()"
   ],
   "id": "a8593fd8dfab7a35",
   "outputs": [
    {
     "data": {
      "application/vnd.plotly.v1+json": {
       "data": [
        {
         "alignmentgroup": "True",
         "hovertemplate": "Position=%{x}<br>Player Rating=%{y}<extra></extra>",
         "legendgroup": "Defender",
         "marker": {
          "color": "#636efa"
         },
         "name": "Defender",
         "notched": false,
         "offsetgroup": "Defender",
         "orientation": "v",
         "showlegend": true,
         "x": [
          "Defender",
          "Defender",
          "Defender",
          "Defender",
          "Defender",
          "Defender",
          "Defender",
          "Defender",
          "Defender",
          "Defender",
          "Defender",
          "Defender",
          "Defender",
          "Defender",
          "Defender",
          "Defender",
          "Defender",
          "Defender",
          "Defender",
          "Defender",
          "Defender",
          "Defender",
          "Defender",
          "Defender",
          "Defender",
          "Defender",
          "Defender",
          "Defender",
          "Defender",
          "Defender",
          "Defender",
          "Defender",
          "Defender",
          "Defender",
          "Defender",
          "Defender",
          "Defender",
          "Defender",
          "Defender",
          "Defender",
          "Defender",
          "Defender",
          "Defender",
          "Defender",
          "Defender",
          "Defender",
          "Defender",
          "Defender",
          "Defender",
          "Defender",
          "Defender",
          "Defender",
          "Defender",
          "Defender",
          "Defender",
          "Defender",
          "Defender",
          "Defender",
          "Defender",
          "Defender"
         ],
         "x0": " ",
         "xaxis": "x",
         "y": {
          "dtype": "f8",
          "bdata": "FK5H4XoUHEA9CtejcD0dQK5H4XoUrhxAMzMzMzMzHEB7FK5H4XofQIXrUbgehRtAw/UoXI/CG0BmZmZmZmYcQEjhehSuRxxA4XoUrkfhG0B7FK5H4XocQClcj8L1KBxArkfhehSuHECPwvUoXI8cQD0K16NwPRxAH4XrUbgeHECF61G4HoUeQBSuR+F6FBxA9ihcj8L1HECuR+F6FK4cQHE9CtejcBxAMzMzMzMzHEApXI/C9SgdQI/C9Shcjx1AUrgehetRHUAfhetRuB4dQClcj8L1KB1A16NwPQrXHECamZmZmZkbQHE9CtejcBxAH4XrUbgeHEAK16NwPQodQKRwPQrXoxxAzczMzMzMG0DXo3A9CtcbQHsUrkfhehxAAAAAAAAAHEAK16NwPQodQD0K16NwPRxAw/UoXI/CHEBSuB6F61EdQPYoXI/C9R5AmpmZmZmZHUBSuB6F61EcQFyPwvUoXBxAAAAAAAAAHEBxPQrXo3AcQBSuR+F6FBxAMzMzMzMzHEDXo3A9CtccQClcj8L1KBxAuB6F61G4HEDNzMzMzMwbQOxRuB6F6xxA9ihcj8L1HEAUrkfhehQdQB+F61G4Hh1AzczMzMzMHECkcD0K16McQArXo3A9ChxA"
         },
         "y0": " ",
         "yaxis": "y",
         "type": "box"
        },
        {
         "alignmentgroup": "True",
         "hovertemplate": "Position=%{x}<br>Player Rating=%{y}<extra></extra>",
         "legendgroup": "Midfielder",
         "marker": {
          "color": "#EF553B"
         },
         "name": "Midfielder",
         "notched": false,
         "offsetgroup": "Midfielder",
         "orientation": "v",
         "showlegend": true,
         "x": [
          "Midfielder",
          "Midfielder",
          "Midfielder",
          "Midfielder",
          "Midfielder",
          "Midfielder",
          "Midfielder",
          "Midfielder",
          "Midfielder",
          "Midfielder",
          "Midfielder",
          "Midfielder",
          "Midfielder",
          "Midfielder",
          "Midfielder",
          "Midfielder",
          "Midfielder",
          "Midfielder",
          "Midfielder",
          "Midfielder",
          "Midfielder",
          "Midfielder",
          "Midfielder",
          "Midfielder",
          "Midfielder",
          "Midfielder",
          "Midfielder",
          "Midfielder",
          "Midfielder",
          "Midfielder",
          "Midfielder",
          "Midfielder",
          "Midfielder",
          "Midfielder",
          "Midfielder",
          "Midfielder",
          "Midfielder",
          "Midfielder",
          "Midfielder",
          "Midfielder",
          "Midfielder",
          "Midfielder",
          "Midfielder",
          "Midfielder",
          "Midfielder",
          "Midfielder",
          "Midfielder",
          "Midfielder",
          "Midfielder",
          "Midfielder",
          "Midfielder",
          "Midfielder",
          "Midfielder",
          "Midfielder",
          "Midfielder",
          "Midfielder",
          "Midfielder",
          "Midfielder",
          "Midfielder",
          "Midfielder",
          "Midfielder",
          "Midfielder",
          "Midfielder",
          "Midfielder",
          "Midfielder",
          "Midfielder"
         ],
         "x0": " ",
         "xaxis": "x",
         "y": {
          "dtype": "f8",
          "bdata": "cT0K16NwHEA9CtejcD0dQLgehetRuBxAFK5H4XoUHUD2KFyPwvUcQOxRuB6F6xxA4XoUrkfhHED2KFyPwvUcQArXo3A9Ch5AXI/C9ShcHEDhehSuR+EbQLgehetRuB1AXI/C9ShcHkDsUbgehesdQD0K16NwPRxApHA9CtejHECkcD0K16McQI/C9ShcjxxAmpmZmZmZHEDXo3A9CtccQM3MzMzMzBxApHA9CtejG0DD9Shcj8IcQAAAAAAAABxAzczMzMzMHEBmZmZmZmYcQBSuR+F6FB1APQrXo3A9HUBI4XoUrkcdQM3MzMzMzB1ArkfhehSuHEBxPQrXo3AcQKRwPQrXoxxAUrgehetRHECPwvUoXI8dQFK4HoXrURxASOF6FK5HHEAUrkfhehQcQD0K16NwPRxAFK5H4XoUHUAzMzMzMzMcQHE9CtejcBxAAAAAAAAAH0AfhetRuB4cQBSuR+F6FBxA7FG4HoXrHUAfhetRuB4cQHsUrkfheh5AhetRuB6FHkAfhetRuB4eQDMzMzMzMx5AuB6F61G4G0DXo3A9CtceQEjhehSuRx1ACtejcD0KHUDNzMzMzMwbQM3MzMzMzBxAhetRuB6FHEAAAAAAAAAeQI/C9Shcjx1AKVyPwvUoHUCuR+F6FK4bQDMzMzMzMxxAPQrXo3A9HECkcD0K16MdQLgehetRuB1A"
         },
         "y0": " ",
         "yaxis": "y",
         "type": "box"
        },
        {
         "alignmentgroup": "True",
         "hovertemplate": "Position=%{x}<br>Player Rating=%{y}<extra></extra>",
         "legendgroup": "Forward",
         "marker": {
          "color": "#00cc96"
         },
         "name": "Forward",
         "notched": false,
         "offsetgroup": "Forward",
         "orientation": "v",
         "showlegend": true,
         "x": [
          "Forward",
          "Forward",
          "Forward",
          "Forward",
          "Forward",
          "Forward",
          "Forward",
          "Forward",
          "Forward",
          "Forward",
          "Forward",
          "Forward",
          "Forward",
          "Forward",
          "Forward",
          "Forward",
          "Forward",
          "Forward",
          "Forward",
          "Forward",
          "Forward",
          "Forward",
          "Forward",
          "Forward",
          "Forward",
          "Forward",
          "Forward",
          "Forward",
          "Forward",
          "Forward",
          "Forward",
          "Forward",
          "Forward",
          "Forward",
          "Forward",
          "Forward",
          "Forward",
          "Forward",
          "Forward",
          "Forward",
          "Forward",
          "Forward",
          "Forward",
          "Forward",
          "Forward",
          "Forward",
          "Forward",
          "Forward",
          "Forward",
          "Forward",
          "Forward",
          "Forward",
          "Forward",
          "Forward",
          "Forward",
          "Forward",
          "Forward",
          "Forward",
          "Forward",
          "Forward",
          "Forward",
          "Forward",
          "Forward",
          "Forward"
         ],
         "x0": " ",
         "xaxis": "x",
         "y": {
          "dtype": "f8",
          "bdata": "7FG4HoXrHUAfhetRuJ4gQGZmZmZmZh5AuB6F61G4G0CPwvUoXI8bQNejcD0K1xxAcT0K16NwHUCuR+F6FK4fQI/C9Shcjx1A9ihcj8L1HEBSuB6F61EdQDMzMzMzMx5AUrgehetRHECamZmZmZkcQClcj8L1KB9AZmZmZmZmHkBmZmZmZmYcQFK4HoXrURxAZmZmZmZmH0BSuB6F61EdQK5H4XoUrhxACtejcD0KHkCuR+F6FK4dQB+F61G4HhxApHA9CtejG0DNzMzMzMwbQK5H4XoUrhxApHA9CtejH0CamZmZmZkbQJqZmZmZmRtA4XoUrkfhHEDhehSuR+EcQOF6FK5H4RxA9ihcj8L1HUDhehSuR+EbQI/C9Shcjx1AKVyPwvUoHkDXo3A9CtcdQBSuR+F6FB1AmpmZmZmZG0Bcj8L1KFwcQJqZmZmZmRxAhetRuB6FHkAzMzMzMzMfQI/C9ShcjxxAXI/C9ShcHkBSuB6F61EcQHsUrkfheh9ASOF6FK5HHUAAAAAAAAAcQMP1KFyPwh5ApHA9CtejHUDNzMzMzMwbQAAAAAAAABxApHA9CtejHEAzMzMzMzMeQMP1KFyPwh1AMzMzMzMzHEBxPQrXo3AeQMP1KFyPwhtAw/UoXI/CG0AfhetRuB4dQLgehetRuBxAmpmZmZmZHEA="
         },
         "y0": " ",
         "yaxis": "y",
         "type": "box"
        },
        {
         "alignmentgroup": "True",
         "hovertemplate": "Position=%{x}<br>Player Rating=%{y}<extra></extra>",
         "legendgroup": "Goalkeeper",
         "marker": {
          "color": "#ab63fa"
         },
         "name": "Goalkeeper",
         "notched": false,
         "offsetgroup": "Goalkeeper",
         "orientation": "v",
         "showlegend": true,
         "x": [
          "Goalkeeper",
          "Goalkeeper",
          "Goalkeeper",
          "Goalkeeper",
          "Goalkeeper",
          "Goalkeeper",
          "Goalkeeper",
          "Goalkeeper",
          "Goalkeeper",
          "Goalkeeper",
          "Goalkeeper",
          "Goalkeeper",
          "Goalkeeper",
          "Goalkeeper",
          "Goalkeeper",
          "Goalkeeper",
          "Goalkeeper",
          "Goalkeeper",
          "Goalkeeper",
          "Goalkeeper"
         ],
         "x0": " ",
         "xaxis": "x",
         "y": {
          "dtype": "f8",
          "bdata": "AAAAAAAAHECPwvUoXI8cQFyPwvUoXB1ACtejcD0KHUC4HoXrUbgeQDMzMzMzMx5A4XoUrkfhG0CamZmZmZkbQOxRuB6F6xxAZmZmZmZmHUCuR+F6FK4bQM3MzMzMzBxAexSuR+F6HEBI4XoUrkcdQDMzMzMzMxxA7FG4HoXrG0CF61G4HoUcQPYoXI/C9R1ArkfhehSuHEAzMzMzMzMdQA=="
         },
         "y0": " ",
         "yaxis": "y",
         "type": "box"
        }
       ],
       "layout": {
        "template": {
         "data": {
          "histogram2dcontour": [
           {
            "type": "histogram2dcontour",
            "colorbar": {
             "outlinewidth": 0,
             "ticks": ""
            },
            "colorscale": [
             [
              0.0,
              "#0d0887"
             ],
             [
              0.1111111111111111,
              "#46039f"
             ],
             [
              0.2222222222222222,
              "#7201a8"
             ],
             [
              0.3333333333333333,
              "#9c179e"
             ],
             [
              0.4444444444444444,
              "#bd3786"
             ],
             [
              0.5555555555555556,
              "#d8576b"
             ],
             [
              0.6666666666666666,
              "#ed7953"
             ],
             [
              0.7777777777777778,
              "#fb9f3a"
             ],
             [
              0.8888888888888888,
              "#fdca26"
             ],
             [
              1.0,
              "#f0f921"
             ]
            ]
           }
          ],
          "choropleth": [
           {
            "type": "choropleth",
            "colorbar": {
             "outlinewidth": 0,
             "ticks": ""
            }
           }
          ],
          "histogram2d": [
           {
            "type": "histogram2d",
            "colorbar": {
             "outlinewidth": 0,
             "ticks": ""
            },
            "colorscale": [
             [
              0.0,
              "#0d0887"
             ],
             [
              0.1111111111111111,
              "#46039f"
             ],
             [
              0.2222222222222222,
              "#7201a8"
             ],
             [
              0.3333333333333333,
              "#9c179e"
             ],
             [
              0.4444444444444444,
              "#bd3786"
             ],
             [
              0.5555555555555556,
              "#d8576b"
             ],
             [
              0.6666666666666666,
              "#ed7953"
             ],
             [
              0.7777777777777778,
              "#fb9f3a"
             ],
             [
              0.8888888888888888,
              "#fdca26"
             ],
             [
              1.0,
              "#f0f921"
             ]
            ]
           }
          ],
          "heatmap": [
           {
            "type": "heatmap",
            "colorbar": {
             "outlinewidth": 0,
             "ticks": ""
            },
            "colorscale": [
             [
              0.0,
              "#0d0887"
             ],
             [
              0.1111111111111111,
              "#46039f"
             ],
             [
              0.2222222222222222,
              "#7201a8"
             ],
             [
              0.3333333333333333,
              "#9c179e"
             ],
             [
              0.4444444444444444,
              "#bd3786"
             ],
             [
              0.5555555555555556,
              "#d8576b"
             ],
             [
              0.6666666666666666,
              "#ed7953"
             ],
             [
              0.7777777777777778,
              "#fb9f3a"
             ],
             [
              0.8888888888888888,
              "#fdca26"
             ],
             [
              1.0,
              "#f0f921"
             ]
            ]
           }
          ],
          "contourcarpet": [
           {
            "type": "contourcarpet",
            "colorbar": {
             "outlinewidth": 0,
             "ticks": ""
            }
           }
          ],
          "contour": [
           {
            "type": "contour",
            "colorbar": {
             "outlinewidth": 0,
             "ticks": ""
            },
            "colorscale": [
             [
              0.0,
              "#0d0887"
             ],
             [
              0.1111111111111111,
              "#46039f"
             ],
             [
              0.2222222222222222,
              "#7201a8"
             ],
             [
              0.3333333333333333,
              "#9c179e"
             ],
             [
              0.4444444444444444,
              "#bd3786"
             ],
             [
              0.5555555555555556,
              "#d8576b"
             ],
             [
              0.6666666666666666,
              "#ed7953"
             ],
             [
              0.7777777777777778,
              "#fb9f3a"
             ],
             [
              0.8888888888888888,
              "#fdca26"
             ],
             [
              1.0,
              "#f0f921"
             ]
            ]
           }
          ],
          "surface": [
           {
            "type": "surface",
            "colorbar": {
             "outlinewidth": 0,
             "ticks": ""
            },
            "colorscale": [
             [
              0.0,
              "#0d0887"
             ],
             [
              0.1111111111111111,
              "#46039f"
             ],
             [
              0.2222222222222222,
              "#7201a8"
             ],
             [
              0.3333333333333333,
              "#9c179e"
             ],
             [
              0.4444444444444444,
              "#bd3786"
             ],
             [
              0.5555555555555556,
              "#d8576b"
             ],
             [
              0.6666666666666666,
              "#ed7953"
             ],
             [
              0.7777777777777778,
              "#fb9f3a"
             ],
             [
              0.8888888888888888,
              "#fdca26"
             ],
             [
              1.0,
              "#f0f921"
             ]
            ]
           }
          ],
          "mesh3d": [
           {
            "type": "mesh3d",
            "colorbar": {
             "outlinewidth": 0,
             "ticks": ""
            }
           }
          ],
          "scatter": [
           {
            "fillpattern": {
             "fillmode": "overlay",
             "size": 10,
             "solidity": 0.2
            },
            "type": "scatter"
           }
          ],
          "parcoords": [
           {
            "type": "parcoords",
            "line": {
             "colorbar": {
              "outlinewidth": 0,
              "ticks": ""
             }
            }
           }
          ],
          "scatterpolargl": [
           {
            "type": "scatterpolargl",
            "marker": {
             "colorbar": {
              "outlinewidth": 0,
              "ticks": ""
             }
            }
           }
          ],
          "bar": [
           {
            "error_x": {
             "color": "#2a3f5f"
            },
            "error_y": {
             "color": "#2a3f5f"
            },
            "marker": {
             "line": {
              "color": "#E5ECF6",
              "width": 0.5
             },
             "pattern": {
              "fillmode": "overlay",
              "size": 10,
              "solidity": 0.2
             }
            },
            "type": "bar"
           }
          ],
          "scattergeo": [
           {
            "type": "scattergeo",
            "marker": {
             "colorbar": {
              "outlinewidth": 0,
              "ticks": ""
             }
            }
           }
          ],
          "scatterpolar": [
           {
            "type": "scatterpolar",
            "marker": {
             "colorbar": {
              "outlinewidth": 0,
              "ticks": ""
             }
            }
           }
          ],
          "histogram": [
           {
            "marker": {
             "pattern": {
              "fillmode": "overlay",
              "size": 10,
              "solidity": 0.2
             }
            },
            "type": "histogram"
           }
          ],
          "scattergl": [
           {
            "type": "scattergl",
            "marker": {
             "colorbar": {
              "outlinewidth": 0,
              "ticks": ""
             }
            }
           }
          ],
          "scatter3d": [
           {
            "type": "scatter3d",
            "line": {
             "colorbar": {
              "outlinewidth": 0,
              "ticks": ""
             }
            },
            "marker": {
             "colorbar": {
              "outlinewidth": 0,
              "ticks": ""
             }
            }
           }
          ],
          "scattermap": [
           {
            "type": "scattermap",
            "marker": {
             "colorbar": {
              "outlinewidth": 0,
              "ticks": ""
             }
            }
           }
          ],
          "scattermapbox": [
           {
            "type": "scattermapbox",
            "marker": {
             "colorbar": {
              "outlinewidth": 0,
              "ticks": ""
             }
            }
           }
          ],
          "scatterternary": [
           {
            "type": "scatterternary",
            "marker": {
             "colorbar": {
              "outlinewidth": 0,
              "ticks": ""
             }
            }
           }
          ],
          "scattercarpet": [
           {
            "type": "scattercarpet",
            "marker": {
             "colorbar": {
              "outlinewidth": 0,
              "ticks": ""
             }
            }
           }
          ],
          "carpet": [
           {
            "aaxis": {
             "endlinecolor": "#2a3f5f",
             "gridcolor": "white",
             "linecolor": "white",
             "minorgridcolor": "white",
             "startlinecolor": "#2a3f5f"
            },
            "baxis": {
             "endlinecolor": "#2a3f5f",
             "gridcolor": "white",
             "linecolor": "white",
             "minorgridcolor": "white",
             "startlinecolor": "#2a3f5f"
            },
            "type": "carpet"
           }
          ],
          "table": [
           {
            "cells": {
             "fill": {
              "color": "#EBF0F8"
             },
             "line": {
              "color": "white"
             }
            },
            "header": {
             "fill": {
              "color": "#C8D4E3"
             },
             "line": {
              "color": "white"
             }
            },
            "type": "table"
           }
          ],
          "barpolar": [
           {
            "marker": {
             "line": {
              "color": "#E5ECF6",
              "width": 0.5
             },
             "pattern": {
              "fillmode": "overlay",
              "size": 10,
              "solidity": 0.2
             }
            },
            "type": "barpolar"
           }
          ],
          "pie": [
           {
            "automargin": true,
            "type": "pie"
           }
          ]
         },
         "layout": {
          "autotypenumbers": "strict",
          "colorway": [
           "#636efa",
           "#EF553B",
           "#00cc96",
           "#ab63fa",
           "#FFA15A",
           "#19d3f3",
           "#FF6692",
           "#B6E880",
           "#FF97FF",
           "#FECB52"
          ],
          "font": {
           "color": "#2a3f5f"
          },
          "hovermode": "closest",
          "hoverlabel": {
           "align": "left"
          },
          "paper_bgcolor": "white",
          "plot_bgcolor": "#E5ECF6",
          "polar": {
           "bgcolor": "#E5ECF6",
           "angularaxis": {
            "gridcolor": "white",
            "linecolor": "white",
            "ticks": ""
           },
           "radialaxis": {
            "gridcolor": "white",
            "linecolor": "white",
            "ticks": ""
           }
          },
          "ternary": {
           "bgcolor": "#E5ECF6",
           "aaxis": {
            "gridcolor": "white",
            "linecolor": "white",
            "ticks": ""
           },
           "baxis": {
            "gridcolor": "white",
            "linecolor": "white",
            "ticks": ""
           },
           "caxis": {
            "gridcolor": "white",
            "linecolor": "white",
            "ticks": ""
           }
          },
          "coloraxis": {
           "colorbar": {
            "outlinewidth": 0,
            "ticks": ""
           }
          },
          "colorscale": {
           "sequential": [
            [
             0.0,
             "#0d0887"
            ],
            [
             0.1111111111111111,
             "#46039f"
            ],
            [
             0.2222222222222222,
             "#7201a8"
            ],
            [
             0.3333333333333333,
             "#9c179e"
            ],
            [
             0.4444444444444444,
             "#bd3786"
            ],
            [
             0.5555555555555556,
             "#d8576b"
            ],
            [
             0.6666666666666666,
             "#ed7953"
            ],
            [
             0.7777777777777778,
             "#fb9f3a"
            ],
            [
             0.8888888888888888,
             "#fdca26"
            ],
            [
             1.0,
             "#f0f921"
            ]
           ],
           "sequentialminus": [
            [
             0.0,
             "#0d0887"
            ],
            [
             0.1111111111111111,
             "#46039f"
            ],
            [
             0.2222222222222222,
             "#7201a8"
            ],
            [
             0.3333333333333333,
             "#9c179e"
            ],
            [
             0.4444444444444444,
             "#bd3786"
            ],
            [
             0.5555555555555556,
             "#d8576b"
            ],
            [
             0.6666666666666666,
             "#ed7953"
            ],
            [
             0.7777777777777778,
             "#fb9f3a"
            ],
            [
             0.8888888888888888,
             "#fdca26"
            ],
            [
             1.0,
             "#f0f921"
            ]
           ],
           "diverging": [
            [
             0,
             "#8e0152"
            ],
            [
             0.1,
             "#c51b7d"
            ],
            [
             0.2,
             "#de77ae"
            ],
            [
             0.3,
             "#f1b6da"
            ],
            [
             0.4,
             "#fde0ef"
            ],
            [
             0.5,
             "#f7f7f7"
            ],
            [
             0.6,
             "#e6f5d0"
            ],
            [
             0.7,
             "#b8e186"
            ],
            [
             0.8,
             "#7fbc41"
            ],
            [
             0.9,
             "#4d9221"
            ],
            [
             1,
             "#276419"
            ]
           ]
          },
          "xaxis": {
           "gridcolor": "white",
           "linecolor": "white",
           "ticks": "",
           "title": {
            "standoff": 15
           },
           "zerolinecolor": "white",
           "automargin": true,
           "zerolinewidth": 2
          },
          "yaxis": {
           "gridcolor": "white",
           "linecolor": "white",
           "ticks": "",
           "title": {
            "standoff": 15
           },
           "zerolinecolor": "white",
           "automargin": true,
           "zerolinewidth": 2
          },
          "scene": {
           "xaxis": {
            "backgroundcolor": "#E5ECF6",
            "gridcolor": "white",
            "linecolor": "white",
            "showbackground": true,
            "ticks": "",
            "zerolinecolor": "white",
            "gridwidth": 2
           },
           "yaxis": {
            "backgroundcolor": "#E5ECF6",
            "gridcolor": "white",
            "linecolor": "white",
            "showbackground": true,
            "ticks": "",
            "zerolinecolor": "white",
            "gridwidth": 2
           },
           "zaxis": {
            "backgroundcolor": "#E5ECF6",
            "gridcolor": "white",
            "linecolor": "white",
            "showbackground": true,
            "ticks": "",
            "zerolinecolor": "white",
            "gridwidth": 2
           }
          },
          "shapedefaults": {
           "line": {
            "color": "#2a3f5f"
           }
          },
          "annotationdefaults": {
           "arrowcolor": "#2a3f5f",
           "arrowhead": 0,
           "arrowwidth": 1
          },
          "geo": {
           "bgcolor": "white",
           "landcolor": "#E5ECF6",
           "subunitcolor": "white",
           "showland": true,
           "showlakes": true,
           "lakecolor": "white"
          },
          "title": {
           "x": 0.05
          },
          "mapbox": {
           "style": "light"
          }
         }
        },
        "xaxis": {
         "anchor": "y",
         "domain": [
          0.0,
          1.0
         ],
         "title": {
          "text": "Position"
         },
         "categoryorder": "array",
         "categoryarray": [
          "Defender",
          "Midfielder",
          "Forward",
          "Goalkeeper"
         ],
         "tickangle": -45
        },
        "yaxis": {
         "anchor": "x",
         "domain": [
          0.0,
          1.0
         ],
         "title": {
          "text": "Player Rating"
         }
        },
        "legend": {
         "title": {
          "text": "Position"
         },
         "tracegroupgap": 0
        },
        "title": {
         "text": "Player Rating Distribution by Position"
        },
        "boxmode": "overlay",
        "showlegend": false
       },
       "config": {
        "plotlyServerURL": "https://plot.ly"
       }
      }
     },
     "metadata": {},
     "output_type": "display_data"
    }
   ],
   "execution_count": 6
  },
  {
   "metadata": {
    "ExecuteTime": {
     "end_time": "2025-06-10T17:12:15.522335Z",
     "start_time": "2025-06-10T17:12:15.429975Z"
    }
   },
   "cell_type": "code",
   "source": [
    "fig_trend = px.scatter(\n",
    "    ucl,\n",
    "    x=\"Value10^6\",\n",
    "    y=\"Rating\",\n",
    "    title=\"Market Value vs Player Rating (with Trendline)\",\n",
    "    labels={\"Value10^6\": \"Market Value 10^6€\", \"Rating\": \"Player Rating\"}, # Ordinary Least Squares\n",
    ")\n",
    "\n",
    "fig_trend.show()"
   ],
   "id": "dc09cb7255db127",
   "outputs": [
    {
     "data": {
      "application/vnd.plotly.v1+json": {
       "data": [
        {
         "hovertemplate": "Market Value 10^6€=%{x}<br>Player Rating=%{y}<extra></extra>",
         "legendgroup": "",
         "marker": {
          "color": "#636efa",
          "symbol": "circle"
         },
         "mode": "markers",
         "name": "",
         "orientation": "v",
         "showlegend": false,
         "x": {
          "dtype": "f8",
          "bdata": "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"
         },
         "xaxis": "x",
         "y": {
          "dtype": "f8",
          "bdata": "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"
         },
         "yaxis": "y",
         "type": "scatter"
        }
       ],
       "layout": {
        "template": {
         "data": {
          "histogram2dcontour": [
           {
            "type": "histogram2dcontour",
            "colorbar": {
             "outlinewidth": 0,
             "ticks": ""
            },
            "colorscale": [
             [
              0.0,
              "#0d0887"
             ],
             [
              0.1111111111111111,
              "#46039f"
             ],
             [
              0.2222222222222222,
              "#7201a8"
             ],
             [
              0.3333333333333333,
              "#9c179e"
             ],
             [
              0.4444444444444444,
              "#bd3786"
             ],
             [
              0.5555555555555556,
              "#d8576b"
             ],
             [
              0.6666666666666666,
              "#ed7953"
             ],
             [
              0.7777777777777778,
              "#fb9f3a"
             ],
             [
              0.8888888888888888,
              "#fdca26"
             ],
             [
              1.0,
              "#f0f921"
             ]
            ]
           }
          ],
          "choropleth": [
           {
            "type": "choropleth",
            "colorbar": {
             "outlinewidth": 0,
             "ticks": ""
            }
           }
          ],
          "histogram2d": [
           {
            "type": "histogram2d",
            "colorbar": {
             "outlinewidth": 0,
             "ticks": ""
            },
            "colorscale": [
             [
              0.0,
              "#0d0887"
             ],
             [
              0.1111111111111111,
              "#46039f"
             ],
             [
              0.2222222222222222,
              "#7201a8"
             ],
             [
              0.3333333333333333,
              "#9c179e"
             ],
             [
              0.4444444444444444,
              "#bd3786"
             ],
             [
              0.5555555555555556,
              "#d8576b"
             ],
             [
              0.6666666666666666,
              "#ed7953"
             ],
             [
              0.7777777777777778,
              "#fb9f3a"
             ],
             [
              0.8888888888888888,
              "#fdca26"
             ],
             [
              1.0,
              "#f0f921"
             ]
            ]
           }
          ],
          "heatmap": [
           {
            "type": "heatmap",
            "colorbar": {
             "outlinewidth": 0,
             "ticks": ""
            },
            "colorscale": [
             [
              0.0,
              "#0d0887"
             ],
             [
              0.1111111111111111,
              "#46039f"
             ],
             [
              0.2222222222222222,
              "#7201a8"
             ],
             [
              0.3333333333333333,
              "#9c179e"
             ],
             [
              0.4444444444444444,
              "#bd3786"
             ],
             [
              0.5555555555555556,
              "#d8576b"
             ],
             [
              0.6666666666666666,
              "#ed7953"
             ],
             [
              0.7777777777777778,
              "#fb9f3a"
             ],
             [
              0.8888888888888888,
              "#fdca26"
             ],
             [
              1.0,
              "#f0f921"
             ]
            ]
           }
          ],
          "contourcarpet": [
           {
            "type": "contourcarpet",
            "colorbar": {
             "outlinewidth": 0,
             "ticks": ""
            }
           }
          ],
          "contour": [
           {
            "type": "contour",
            "colorbar": {
             "outlinewidth": 0,
             "ticks": ""
            },
            "colorscale": [
             [
              0.0,
              "#0d0887"
             ],
             [
              0.1111111111111111,
              "#46039f"
             ],
             [
              0.2222222222222222,
              "#7201a8"
             ],
             [
              0.3333333333333333,
              "#9c179e"
             ],
             [
              0.4444444444444444,
              "#bd3786"
             ],
             [
              0.5555555555555556,
              "#d8576b"
             ],
             [
              0.6666666666666666,
              "#ed7953"
             ],
             [
              0.7777777777777778,
              "#fb9f3a"
             ],
             [
              0.8888888888888888,
              "#fdca26"
             ],
             [
              1.0,
              "#f0f921"
             ]
            ]
           }
          ],
          "surface": [
           {
            "type": "surface",
            "colorbar": {
             "outlinewidth": 0,
             "ticks": ""
            },
            "colorscale": [
             [
              0.0,
              "#0d0887"
             ],
             [
              0.1111111111111111,
              "#46039f"
             ],
             [
              0.2222222222222222,
              "#7201a8"
             ],
             [
              0.3333333333333333,
              "#9c179e"
             ],
             [
              0.4444444444444444,
              "#bd3786"
             ],
             [
              0.5555555555555556,
              "#d8576b"
             ],
             [
              0.6666666666666666,
              "#ed7953"
             ],
             [
              0.7777777777777778,
              "#fb9f3a"
             ],
             [
              0.8888888888888888,
              "#fdca26"
             ],
             [
              1.0,
              "#f0f921"
             ]
            ]
           }
          ],
          "mesh3d": [
           {
            "type": "mesh3d",
            "colorbar": {
             "outlinewidth": 0,
             "ticks": ""
            }
           }
          ],
          "scatter": [
           {
            "fillpattern": {
             "fillmode": "overlay",
             "size": 10,
             "solidity": 0.2
            },
            "type": "scatter"
           }
          ],
          "parcoords": [
           {
            "type": "parcoords",
            "line": {
             "colorbar": {
              "outlinewidth": 0,
              "ticks": ""
             }
            }
           }
          ],
          "scatterpolargl": [
           {
            "type": "scatterpolargl",
            "marker": {
             "colorbar": {
              "outlinewidth": 0,
              "ticks": ""
             }
            }
           }
          ],
          "bar": [
           {
            "error_x": {
             "color": "#2a3f5f"
            },
            "error_y": {
             "color": "#2a3f5f"
            },
            "marker": {
             "line": {
              "color": "#E5ECF6",
              "width": 0.5
             },
             "pattern": {
              "fillmode": "overlay",
              "size": 10,
              "solidity": 0.2
             }
            },
            "type": "bar"
           }
          ],
          "scattergeo": [
           {
            "type": "scattergeo",
            "marker": {
             "colorbar": {
              "outlinewidth": 0,
              "ticks": ""
             }
            }
           }
          ],
          "scatterpolar": [
           {
            "type": "scatterpolar",
            "marker": {
             "colorbar": {
              "outlinewidth": 0,
              "ticks": ""
             }
            }
           }
          ],
          "histogram": [
           {
            "marker": {
             "pattern": {
              "fillmode": "overlay",
              "size": 10,
              "solidity": 0.2
             }
            },
            "type": "histogram"
           }
          ],
          "scattergl": [
           {
            "type": "scattergl",
            "marker": {
             "colorbar": {
              "outlinewidth": 0,
              "ticks": ""
             }
            }
           }
          ],
          "scatter3d": [
           {
            "type": "scatter3d",
            "line": {
             "colorbar": {
              "outlinewidth": 0,
              "ticks": ""
             }
            },
            "marker": {
             "colorbar": {
              "outlinewidth": 0,
              "ticks": ""
             }
            }
           }
          ],
          "scattermap": [
           {
            "type": "scattermap",
            "marker": {
             "colorbar": {
              "outlinewidth": 0,
              "ticks": ""
             }
            }
           }
          ],
          "scattermapbox": [
           {
            "type": "scattermapbox",
            "marker": {
             "colorbar": {
              "outlinewidth": 0,
              "ticks": ""
             }
            }
           }
          ],
          "scatterternary": [
           {
            "type": "scatterternary",
            "marker": {
             "colorbar": {
              "outlinewidth": 0,
              "ticks": ""
             }
            }
           }
          ],
          "scattercarpet": [
           {
            "type": "scattercarpet",
            "marker": {
             "colorbar": {
              "outlinewidth": 0,
              "ticks": ""
             }
            }
           }
          ],
          "carpet": [
           {
            "aaxis": {
             "endlinecolor": "#2a3f5f",
             "gridcolor": "white",
             "linecolor": "white",
             "minorgridcolor": "white",
             "startlinecolor": "#2a3f5f"
            },
            "baxis": {
             "endlinecolor": "#2a3f5f",
             "gridcolor": "white",
             "linecolor": "white",
             "minorgridcolor": "white",
             "startlinecolor": "#2a3f5f"
            },
            "type": "carpet"
           }
          ],
          "table": [
           {
            "cells": {
             "fill": {
              "color": "#EBF0F8"
             },
             "line": {
              "color": "white"
             }
            },
            "header": {
             "fill": {
              "color": "#C8D4E3"
             },
             "line": {
              "color": "white"
             }
            },
            "type": "table"
           }
          ],
          "barpolar": [
           {
            "marker": {
             "line": {
              "color": "#E5ECF6",
              "width": 0.5
             },
             "pattern": {
              "fillmode": "overlay",
              "size": 10,
              "solidity": 0.2
             }
            },
            "type": "barpolar"
           }
          ],
          "pie": [
           {
            "automargin": true,
            "type": "pie"
           }
          ]
         },
         "layout": {
          "autotypenumbers": "strict",
          "colorway": [
           "#636efa",
           "#EF553B",
           "#00cc96",
           "#ab63fa",
           "#FFA15A",
           "#19d3f3",
           "#FF6692",
           "#B6E880",
           "#FF97FF",
           "#FECB52"
          ],
          "font": {
           "color": "#2a3f5f"
          },
          "hovermode": "closest",
          "hoverlabel": {
           "align": "left"
          },
          "paper_bgcolor": "white",
          "plot_bgcolor": "#E5ECF6",
          "polar": {
           "bgcolor": "#E5ECF6",
           "angularaxis": {
            "gridcolor": "white",
            "linecolor": "white",
            "ticks": ""
           },
           "radialaxis": {
            "gridcolor": "white",
            "linecolor": "white",
            "ticks": ""
           }
          },
          "ternary": {
           "bgcolor": "#E5ECF6",
           "aaxis": {
            "gridcolor": "white",
            "linecolor": "white",
            "ticks": ""
           },
           "baxis": {
            "gridcolor": "white",
            "linecolor": "white",
            "ticks": ""
           },
           "caxis": {
            "gridcolor": "white",
            "linecolor": "white",
            "ticks": ""
           }
          },
          "coloraxis": {
           "colorbar": {
            "outlinewidth": 0,
            "ticks": ""
           }
          },
          "colorscale": {
           "sequential": [
            [
             0.0,
             "#0d0887"
            ],
            [
             0.1111111111111111,
             "#46039f"
            ],
            [
             0.2222222222222222,
             "#7201a8"
            ],
            [
             0.3333333333333333,
             "#9c179e"
            ],
            [
             0.4444444444444444,
             "#bd3786"
            ],
            [
             0.5555555555555556,
             "#d8576b"
            ],
            [
             0.6666666666666666,
             "#ed7953"
            ],
            [
             0.7777777777777778,
             "#fb9f3a"
            ],
            [
             0.8888888888888888,
             "#fdca26"
            ],
            [
             1.0,
             "#f0f921"
            ]
           ],
           "sequentialminus": [
            [
             0.0,
             "#0d0887"
            ],
            [
             0.1111111111111111,
             "#46039f"
            ],
            [
             0.2222222222222222,
             "#7201a8"
            ],
            [
             0.3333333333333333,
             "#9c179e"
            ],
            [
             0.4444444444444444,
             "#bd3786"
            ],
            [
             0.5555555555555556,
             "#d8576b"
            ],
            [
             0.6666666666666666,
             "#ed7953"
            ],
            [
             0.7777777777777778,
             "#fb9f3a"
            ],
            [
             0.8888888888888888,
             "#fdca26"
            ],
            [
             1.0,
             "#f0f921"
            ]
           ],
           "diverging": [
            [
             0,
             "#8e0152"
            ],
            [
             0.1,
             "#c51b7d"
            ],
            [
             0.2,
             "#de77ae"
            ],
            [
             0.3,
             "#f1b6da"
            ],
            [
             0.4,
             "#fde0ef"
            ],
            [
             0.5,
             "#f7f7f7"
            ],
            [
             0.6,
             "#e6f5d0"
            ],
            [
             0.7,
             "#b8e186"
            ],
            [
             0.8,
             "#7fbc41"
            ],
            [
             0.9,
             "#4d9221"
            ],
            [
             1,
             "#276419"
            ]
           ]
          },
          "xaxis": {
           "gridcolor": "white",
           "linecolor": "white",
           "ticks": "",
           "title": {
            "standoff": 15
           },
           "zerolinecolor": "white",
           "automargin": true,
           "zerolinewidth": 2
          },
          "yaxis": {
           "gridcolor": "white",
           "linecolor": "white",
           "ticks": "",
           "title": {
            "standoff": 15
           },
           "zerolinecolor": "white",
           "automargin": true,
           "zerolinewidth": 2
          },
          "scene": {
           "xaxis": {
            "backgroundcolor": "#E5ECF6",
            "gridcolor": "white",
            "linecolor": "white",
            "showbackground": true,
            "ticks": "",
            "zerolinecolor": "white",
            "gridwidth": 2
           },
           "yaxis": {
            "backgroundcolor": "#E5ECF6",
            "gridcolor": "white",
            "linecolor": "white",
            "showbackground": true,
            "ticks": "",
            "zerolinecolor": "white",
            "gridwidth": 2
           },
           "zaxis": {
            "backgroundcolor": "#E5ECF6",
            "gridcolor": "white",
            "linecolor": "white",
            "showbackground": true,
            "ticks": "",
            "zerolinecolor": "white",
            "gridwidth": 2
           }
          },
          "shapedefaults": {
           "line": {
            "color": "#2a3f5f"
           }
          },
          "annotationdefaults": {
           "arrowcolor": "#2a3f5f",
           "arrowhead": 0,
           "arrowwidth": 1
          },
          "geo": {
           "bgcolor": "white",
           "landcolor": "#E5ECF6",
           "subunitcolor": "white",
           "showland": true,
           "showlakes": true,
           "lakecolor": "white"
          },
          "title": {
           "x": 0.05
          },
          "mapbox": {
           "style": "light"
          }
         }
        },
        "xaxis": {
         "anchor": "y",
         "domain": [
          0.0,
          1.0
         ],
         "title": {
          "text": "Market Value 10^6€"
         }
        },
        "yaxis": {
         "anchor": "x",
         "domain": [
          0.0,
          1.0
         ],
         "title": {
          "text": "Player Rating"
         }
        },
        "legend": {
         "tracegroupgap": 0
        },
        "title": {
         "text": "Market Value vs Player Rating (with Trendline)"
        }
       },
       "config": {
        "plotlyServerURL": "https://plot.ly"
       }
      }
     },
     "metadata": {},
     "output_type": "display_data"
    }
   ],
   "execution_count": 7
  },
  {
   "metadata": {
    "ExecuteTime": {
     "end_time": "2025-06-10T17:28:41.257607Z",
     "start_time": "2025-06-10T17:28:41.248014Z"
    }
   },
   "cell_type": "code",
   "source": [
    "# Calculate the total number of teams in the dataet using groupby and nunique\n",
    "total_teams_ucl = ucl.groupby('Team')['Team'].nunique().count()\n",
    "total_teams_ucl"
   ],
   "id": "b70f83a3d08618ec",
   "outputs": [
    {
     "data": {
      "text/plain": [
       "np.int64(31)"
      ]
     },
     "execution_count": 58,
     "metadata": {},
     "output_type": "execute_result"
    }
   ],
   "execution_count": 58
  },
  {
   "metadata": {
    "ExecuteTime": {
     "end_time": "2025-06-10T17:29:24.399801Z",
     "start_time": "2025-06-10T17:29:24.330621Z"
    }
   },
   "cell_type": "code",
   "source": [
    "# Create a treemap\n",
    "fig_treemap = px.treemap(\n",
    "    ucl,\n",
    "    path=['Team'],\n",
    "\n",
    "    title='Teams in the Champions League 2025 - Tree Map'\n",
    ")\n",
    "fig_treemap.update_layout(margin=dict(l=0, r=0, b=0, t=30))\n",
    "fig_treemap.show()"
   ],
   "id": "1f473c419d0b2b80",
   "outputs": [
    {
     "data": {
      "application/vnd.plotly.v1+json": {
       "data": [
        {
         "branchvalues": "total",
         "domain": {
          "x": [
           0.0,
           1.0
          ],
          "y": [
           0.0,
           1.0
          ]
         },
         "hovertemplate": "labels=%{label}<br>count=%{value}<br>parent=%{parent}<br>id=%{id}<extra></extra>",
         "ids": [
          "Milan",
          "Inter",
          "Barcelona",
          "Liverpool FC",
          "Real Madrid",
          "Arsenal FC",
          "Club Brugge",
          "Benfica",
          "Celtic",
          "Atletico Madrid",
          "Paris SG",
          "PSV Eindhoven",
          "Brest ",
          "Lille ",
          "Bayer Leverkusen",
          "Manchester City",
          "BVB Dortmund",
          "Juventus ",
          "Aston Villa",
          "Atalanta BC",
          "Leipzig",
          "Sturm Graz",
          "Monaco",
          "Bayern Munich",
          "Sporting CP",
          "Feyenoord",
          "Bologna",
          "Shakhtar Donetsk",
          "VfB Stuttgart",
          "Dinamo Zagreb",
          "Girona"
         ],
         "labels": [
          "Milan",
          "Inter",
          "Barcelona",
          "Liverpool FC",
          "Real Madrid",
          "Arsenal FC",
          "Club Brugge",
          "Benfica",
          "Celtic",
          "Atletico Madrid",
          "Paris SG",
          "PSV Eindhoven",
          "Brest ",
          "Lille ",
          "Bayer Leverkusen",
          "Manchester City",
          "BVB Dortmund",
          "Juventus ",
          "Aston Villa",
          "Atalanta BC",
          "Leipzig",
          "Sturm Graz",
          "Monaco",
          "Bayern Munich",
          "Sporting CP",
          "Feyenoord",
          "Bologna",
          "Shakhtar Donetsk",
          "VfB Stuttgart",
          "Dinamo Zagreb",
          "Girona"
         ],
         "name": "",
         "parents": [
          "",
          "",
          "",
          "",
          "",
          "",
          "",
          "",
          "",
          "",
          "",
          "",
          "",
          "",
          "",
          "",
          "",
          "",
          "",
          "",
          "",
          "",
          "",
          "",
          "",
          "",
          "",
          "",
          "",
          "",
          ""
         ],
         "values": {
          "dtype": "i1",
          "bdata": "Bw0MCgsMBQkGCAwKAgYHBwsFCAkBAQcKBgQEAwIBAQ=="
         },
         "type": "treemap"
        }
       ],
       "layout": {
        "template": {
         "data": {
          "histogram2dcontour": [
           {
            "type": "histogram2dcontour",
            "colorbar": {
             "outlinewidth": 0,
             "ticks": ""
            },
            "colorscale": [
             [
              0.0,
              "#0d0887"
             ],
             [
              0.1111111111111111,
              "#46039f"
             ],
             [
              0.2222222222222222,
              "#7201a8"
             ],
             [
              0.3333333333333333,
              "#9c179e"
             ],
             [
              0.4444444444444444,
              "#bd3786"
             ],
             [
              0.5555555555555556,
              "#d8576b"
             ],
             [
              0.6666666666666666,
              "#ed7953"
             ],
             [
              0.7777777777777778,
              "#fb9f3a"
             ],
             [
              0.8888888888888888,
              "#fdca26"
             ],
             [
              1.0,
              "#f0f921"
             ]
            ]
           }
          ],
          "choropleth": [
           {
            "type": "choropleth",
            "colorbar": {
             "outlinewidth": 0,
             "ticks": ""
            }
           }
          ],
          "histogram2d": [
           {
            "type": "histogram2d",
            "colorbar": {
             "outlinewidth": 0,
             "ticks": ""
            },
            "colorscale": [
             [
              0.0,
              "#0d0887"
             ],
             [
              0.1111111111111111,
              "#46039f"
             ],
             [
              0.2222222222222222,
              "#7201a8"
             ],
             [
              0.3333333333333333,
              "#9c179e"
             ],
             [
              0.4444444444444444,
              "#bd3786"
             ],
             [
              0.5555555555555556,
              "#d8576b"
             ],
             [
              0.6666666666666666,
              "#ed7953"
             ],
             [
              0.7777777777777778,
              "#fb9f3a"
             ],
             [
              0.8888888888888888,
              "#fdca26"
             ],
             [
              1.0,
              "#f0f921"
             ]
            ]
           }
          ],
          "heatmap": [
           {
            "type": "heatmap",
            "colorbar": {
             "outlinewidth": 0,
             "ticks": ""
            },
            "colorscale": [
             [
              0.0,
              "#0d0887"
             ],
             [
              0.1111111111111111,
              "#46039f"
             ],
             [
              0.2222222222222222,
              "#7201a8"
             ],
             [
              0.3333333333333333,
              "#9c179e"
             ],
             [
              0.4444444444444444,
              "#bd3786"
             ],
             [
              0.5555555555555556,
              "#d8576b"
             ],
             [
              0.6666666666666666,
              "#ed7953"
             ],
             [
              0.7777777777777778,
              "#fb9f3a"
             ],
             [
              0.8888888888888888,
              "#fdca26"
             ],
             [
              1.0,
              "#f0f921"
             ]
            ]
           }
          ],
          "contourcarpet": [
           {
            "type": "contourcarpet",
            "colorbar": {
             "outlinewidth": 0,
             "ticks": ""
            }
           }
          ],
          "contour": [
           {
            "type": "contour",
            "colorbar": {
             "outlinewidth": 0,
             "ticks": ""
            },
            "colorscale": [
             [
              0.0,
              "#0d0887"
             ],
             [
              0.1111111111111111,
              "#46039f"
             ],
             [
              0.2222222222222222,
              "#7201a8"
             ],
             [
              0.3333333333333333,
              "#9c179e"
             ],
             [
              0.4444444444444444,
              "#bd3786"
             ],
             [
              0.5555555555555556,
              "#d8576b"
             ],
             [
              0.6666666666666666,
              "#ed7953"
             ],
             [
              0.7777777777777778,
              "#fb9f3a"
             ],
             [
              0.8888888888888888,
              "#fdca26"
             ],
             [
              1.0,
              "#f0f921"
             ]
            ]
           }
          ],
          "surface": [
           {
            "type": "surface",
            "colorbar": {
             "outlinewidth": 0,
             "ticks": ""
            },
            "colorscale": [
             [
              0.0,
              "#0d0887"
             ],
             [
              0.1111111111111111,
              "#46039f"
             ],
             [
              0.2222222222222222,
              "#7201a8"
             ],
             [
              0.3333333333333333,
              "#9c179e"
             ],
             [
              0.4444444444444444,
              "#bd3786"
             ],
             [
              0.5555555555555556,
              "#d8576b"
             ],
             [
              0.6666666666666666,
              "#ed7953"
             ],
             [
              0.7777777777777778,
              "#fb9f3a"
             ],
             [
              0.8888888888888888,
              "#fdca26"
             ],
             [
              1.0,
              "#f0f921"
             ]
            ]
           }
          ],
          "mesh3d": [
           {
            "type": "mesh3d",
            "colorbar": {
             "outlinewidth": 0,
             "ticks": ""
            }
           }
          ],
          "scatter": [
           {
            "fillpattern": {
             "fillmode": "overlay",
             "size": 10,
             "solidity": 0.2
            },
            "type": "scatter"
           }
          ],
          "parcoords": [
           {
            "type": "parcoords",
            "line": {
             "colorbar": {
              "outlinewidth": 0,
              "ticks": ""
             }
            }
           }
          ],
          "scatterpolargl": [
           {
            "type": "scatterpolargl",
            "marker": {
             "colorbar": {
              "outlinewidth": 0,
              "ticks": ""
             }
            }
           }
          ],
          "bar": [
           {
            "error_x": {
             "color": "#2a3f5f"
            },
            "error_y": {
             "color": "#2a3f5f"
            },
            "marker": {
             "line": {
              "color": "#E5ECF6",
              "width": 0.5
             },
             "pattern": {
              "fillmode": "overlay",
              "size": 10,
              "solidity": 0.2
             }
            },
            "type": "bar"
           }
          ],
          "scattergeo": [
           {
            "type": "scattergeo",
            "marker": {
             "colorbar": {
              "outlinewidth": 0,
              "ticks": ""
             }
            }
           }
          ],
          "scatterpolar": [
           {
            "type": "scatterpolar",
            "marker": {
             "colorbar": {
              "outlinewidth": 0,
              "ticks": ""
             }
            }
           }
          ],
          "histogram": [
           {
            "marker": {
             "pattern": {
              "fillmode": "overlay",
              "size": 10,
              "solidity": 0.2
             }
            },
            "type": "histogram"
           }
          ],
          "scattergl": [
           {
            "type": "scattergl",
            "marker": {
             "colorbar": {
              "outlinewidth": 0,
              "ticks": ""
             }
            }
           }
          ],
          "scatter3d": [
           {
            "type": "scatter3d",
            "line": {
             "colorbar": {
              "outlinewidth": 0,
              "ticks": ""
             }
            },
            "marker": {
             "colorbar": {
              "outlinewidth": 0,
              "ticks": ""
             }
            }
           }
          ],
          "scattermap": [
           {
            "type": "scattermap",
            "marker": {
             "colorbar": {
              "outlinewidth": 0,
              "ticks": ""
             }
            }
           }
          ],
          "scattermapbox": [
           {
            "type": "scattermapbox",
            "marker": {
             "colorbar": {
              "outlinewidth": 0,
              "ticks": ""
             }
            }
           }
          ],
          "scatterternary": [
           {
            "type": "scatterternary",
            "marker": {
             "colorbar": {
              "outlinewidth": 0,
              "ticks": ""
             }
            }
           }
          ],
          "scattercarpet": [
           {
            "type": "scattercarpet",
            "marker": {
             "colorbar": {
              "outlinewidth": 0,
              "ticks": ""
             }
            }
           }
          ],
          "carpet": [
           {
            "aaxis": {
             "endlinecolor": "#2a3f5f",
             "gridcolor": "white",
             "linecolor": "white",
             "minorgridcolor": "white",
             "startlinecolor": "#2a3f5f"
            },
            "baxis": {
             "endlinecolor": "#2a3f5f",
             "gridcolor": "white",
             "linecolor": "white",
             "minorgridcolor": "white",
             "startlinecolor": "#2a3f5f"
            },
            "type": "carpet"
           }
          ],
          "table": [
           {
            "cells": {
             "fill": {
              "color": "#EBF0F8"
             },
             "line": {
              "color": "white"
             }
            },
            "header": {
             "fill": {
              "color": "#C8D4E3"
             },
             "line": {
              "color": "white"
             }
            },
            "type": "table"
           }
          ],
          "barpolar": [
           {
            "marker": {
             "line": {
              "color": "#E5ECF6",
              "width": 0.5
             },
             "pattern": {
              "fillmode": "overlay",
              "size": 10,
              "solidity": 0.2
             }
            },
            "type": "barpolar"
           }
          ],
          "pie": [
           {
            "automargin": true,
            "type": "pie"
           }
          ]
         },
         "layout": {
          "autotypenumbers": "strict",
          "colorway": [
           "#636efa",
           "#EF553B",
           "#00cc96",
           "#ab63fa",
           "#FFA15A",
           "#19d3f3",
           "#FF6692",
           "#B6E880",
           "#FF97FF",
           "#FECB52"
          ],
          "font": {
           "color": "#2a3f5f"
          },
          "hovermode": "closest",
          "hoverlabel": {
           "align": "left"
          },
          "paper_bgcolor": "white",
          "plot_bgcolor": "#E5ECF6",
          "polar": {
           "bgcolor": "#E5ECF6",
           "angularaxis": {
            "gridcolor": "white",
            "linecolor": "white",
            "ticks": ""
           },
           "radialaxis": {
            "gridcolor": "white",
            "linecolor": "white",
            "ticks": ""
           }
          },
          "ternary": {
           "bgcolor": "#E5ECF6",
           "aaxis": {
            "gridcolor": "white",
            "linecolor": "white",
            "ticks": ""
           },
           "baxis": {
            "gridcolor": "white",
            "linecolor": "white",
            "ticks": ""
           },
           "caxis": {
            "gridcolor": "white",
            "linecolor": "white",
            "ticks": ""
           }
          },
          "coloraxis": {
           "colorbar": {
            "outlinewidth": 0,
            "ticks": ""
           }
          },
          "colorscale": {
           "sequential": [
            [
             0.0,
             "#0d0887"
            ],
            [
             0.1111111111111111,
             "#46039f"
            ],
            [
             0.2222222222222222,
             "#7201a8"
            ],
            [
             0.3333333333333333,
             "#9c179e"
            ],
            [
             0.4444444444444444,
             "#bd3786"
            ],
            [
             0.5555555555555556,
             "#d8576b"
            ],
            [
             0.6666666666666666,
             "#ed7953"
            ],
            [
             0.7777777777777778,
             "#fb9f3a"
            ],
            [
             0.8888888888888888,
             "#fdca26"
            ],
            [
             1.0,
             "#f0f921"
            ]
           ],
           "sequentialminus": [
            [
             0.0,
             "#0d0887"
            ],
            [
             0.1111111111111111,
             "#46039f"
            ],
            [
             0.2222222222222222,
             "#7201a8"
            ],
            [
             0.3333333333333333,
             "#9c179e"
            ],
            [
             0.4444444444444444,
             "#bd3786"
            ],
            [
             0.5555555555555556,
             "#d8576b"
            ],
            [
             0.6666666666666666,
             "#ed7953"
            ],
            [
             0.7777777777777778,
             "#fb9f3a"
            ],
            [
             0.8888888888888888,
             "#fdca26"
            ],
            [
             1.0,
             "#f0f921"
            ]
           ],
           "diverging": [
            [
             0,
             "#8e0152"
            ],
            [
             0.1,
             "#c51b7d"
            ],
            [
             0.2,
             "#de77ae"
            ],
            [
             0.3,
             "#f1b6da"
            ],
            [
             0.4,
             "#fde0ef"
            ],
            [
             0.5,
             "#f7f7f7"
            ],
            [
             0.6,
             "#e6f5d0"
            ],
            [
             0.7,
             "#b8e186"
            ],
            [
             0.8,
             "#7fbc41"
            ],
            [
             0.9,
             "#4d9221"
            ],
            [
             1,
             "#276419"
            ]
           ]
          },
          "xaxis": {
           "gridcolor": "white",
           "linecolor": "white",
           "ticks": "",
           "title": {
            "standoff": 15
           },
           "zerolinecolor": "white",
           "automargin": true,
           "zerolinewidth": 2
          },
          "yaxis": {
           "gridcolor": "white",
           "linecolor": "white",
           "ticks": "",
           "title": {
            "standoff": 15
           },
           "zerolinecolor": "white",
           "automargin": true,
           "zerolinewidth": 2
          },
          "scene": {
           "xaxis": {
            "backgroundcolor": "#E5ECF6",
            "gridcolor": "white",
            "linecolor": "white",
            "showbackground": true,
            "ticks": "",
            "zerolinecolor": "white",
            "gridwidth": 2
           },
           "yaxis": {
            "backgroundcolor": "#E5ECF6",
            "gridcolor": "white",
            "linecolor": "white",
            "showbackground": true,
            "ticks": "",
            "zerolinecolor": "white",
            "gridwidth": 2
           },
           "zaxis": {
            "backgroundcolor": "#E5ECF6",
            "gridcolor": "white",
            "linecolor": "white",
            "showbackground": true,
            "ticks": "",
            "zerolinecolor": "white",
            "gridwidth": 2
           }
          },
          "shapedefaults": {
           "line": {
            "color": "#2a3f5f"
           }
          },
          "annotationdefaults": {
           "arrowcolor": "#2a3f5f",
           "arrowhead": 0,
           "arrowwidth": 1
          },
          "geo": {
           "bgcolor": "white",
           "landcolor": "#E5ECF6",
           "subunitcolor": "white",
           "showland": true,
           "showlakes": true,
           "lakecolor": "white"
          },
          "title": {
           "x": 0.05
          },
          "mapbox": {
           "style": "light"
          }
         }
        },
        "legend": {
         "tracegroupgap": 0
        },
        "title": {
         "text": "Teams in the Champions League 2025 - Tree Map"
        },
        "margin": {
         "l": 0,
         "r": 0,
         "b": 0,
         "t": 30
        }
       },
       "config": {
        "plotlyServerURL": "https://plot.ly"
       }
      }
     },
     "metadata": {},
     "output_type": "display_data"
    }
   ],
   "execution_count": 64
  },
  {
   "metadata": {
    "ExecuteTime": {
     "end_time": "2025-06-10T17:32:40.738537Z",
     "start_time": "2025-06-10T17:32:40.722555Z"
    }
   },
   "cell_type": "code",
   "source": [
    "# Get the top 5 Teams with the best records of tackles won\n",
    "top_teams_tackles = ucl.groupby('Team')['Tackles_Won'].sum().nlargest(5).reset_index()\n",
    "top_teams_tackles"
   ],
   "id": "f5115dd846559d0f",
   "outputs": [
    {
     "data": {
      "text/plain": [
       "          Team  Tackles_Won\n",
       "0     Paris SG         97.0\n",
       "1        Inter         80.0\n",
       "2      Benfica         63.0\n",
       "3  Real Madrid         63.0\n",
       "4    Barcelona         62.0"
      ],
      "text/html": [
       "<div>\n",
       "<style scoped>\n",
       "    .dataframe tbody tr th:only-of-type {\n",
       "        vertical-align: middle;\n",
       "    }\n",
       "\n",
       "    .dataframe tbody tr th {\n",
       "        vertical-align: top;\n",
       "    }\n",
       "\n",
       "    .dataframe thead th {\n",
       "        text-align: right;\n",
       "    }\n",
       "</style>\n",
       "<table border=\"1\" class=\"dataframe\">\n",
       "  <thead>\n",
       "    <tr style=\"text-align: right;\">\n",
       "      <th></th>\n",
       "      <th>Team</th>\n",
       "      <th>Tackles_Won</th>\n",
       "    </tr>\n",
       "  </thead>\n",
       "  <tbody>\n",
       "    <tr>\n",
       "      <th>0</th>\n",
       "      <td>Paris SG</td>\n",
       "      <td>97.0</td>\n",
       "    </tr>\n",
       "    <tr>\n",
       "      <th>1</th>\n",
       "      <td>Inter</td>\n",
       "      <td>80.0</td>\n",
       "    </tr>\n",
       "    <tr>\n",
       "      <th>2</th>\n",
       "      <td>Benfica</td>\n",
       "      <td>63.0</td>\n",
       "    </tr>\n",
       "    <tr>\n",
       "      <th>3</th>\n",
       "      <td>Real Madrid</td>\n",
       "      <td>63.0</td>\n",
       "    </tr>\n",
       "    <tr>\n",
       "      <th>4</th>\n",
       "      <td>Barcelona</td>\n",
       "      <td>62.0</td>\n",
       "    </tr>\n",
       "  </tbody>\n",
       "</table>\n",
       "</div>"
      ]
     },
     "execution_count": 71,
     "metadata": {},
     "output_type": "execute_result"
    }
   ],
   "execution_count": 71
  },
  {
   "metadata": {
    "ExecuteTime": {
     "end_time": "2025-06-10T17:34:10.961077Z",
     "start_time": "2025-06-10T17:34:10.909765Z"
    }
   },
   "cell_type": "code",
   "source": [
    "# Create a funnel chart for the top 5 teams\n",
    "fig_funnel = px.funnel(top_teams_tackles,x='Tackles_Won',y='Team',title='Top 5 Teams with the Most Tackles Won in Champions League 2025',orientation='h',labels={'Tackles_Won':'Tackles Won'})\n",
    "fig_funnel.show()\n"
   ],
   "id": "a020fb54de3e6bcc",
   "outputs": [
    {
     "data": {
      "application/vnd.plotly.v1+json": {
       "data": [
        {
         "hovertemplate": "Tackles Won=%{x}<br>Team=%{y}<extra></extra>",
         "legendgroup": "",
         "marker": {
          "color": "#636efa"
         },
         "name": "",
         "orientation": "h",
         "showlegend": false,
         "x": {
          "dtype": "f8",
          "bdata": "AAAAAABAWEAAAAAAAABUQAAAAAAAgE9AAAAAAACAT0AAAAAAAABPQA=="
         },
         "xaxis": "x",
         "y": [
          "Paris SG",
          "Inter",
          "Benfica",
          "Real Madrid",
          "Barcelona"
         ],
         "yaxis": "y",
         "type": "funnel"
        }
       ],
       "layout": {
        "template": {
         "data": {
          "histogram2dcontour": [
           {
            "type": "histogram2dcontour",
            "colorbar": {
             "outlinewidth": 0,
             "ticks": ""
            },
            "colorscale": [
             [
              0.0,
              "#0d0887"
             ],
             [
              0.1111111111111111,
              "#46039f"
             ],
             [
              0.2222222222222222,
              "#7201a8"
             ],
             [
              0.3333333333333333,
              "#9c179e"
             ],
             [
              0.4444444444444444,
              "#bd3786"
             ],
             [
              0.5555555555555556,
              "#d8576b"
             ],
             [
              0.6666666666666666,
              "#ed7953"
             ],
             [
              0.7777777777777778,
              "#fb9f3a"
             ],
             [
              0.8888888888888888,
              "#fdca26"
             ],
             [
              1.0,
              "#f0f921"
             ]
            ]
           }
          ],
          "choropleth": [
           {
            "type": "choropleth",
            "colorbar": {
             "outlinewidth": 0,
             "ticks": ""
            }
           }
          ],
          "histogram2d": [
           {
            "type": "histogram2d",
            "colorbar": {
             "outlinewidth": 0,
             "ticks": ""
            },
            "colorscale": [
             [
              0.0,
              "#0d0887"
             ],
             [
              0.1111111111111111,
              "#46039f"
             ],
             [
              0.2222222222222222,
              "#7201a8"
             ],
             [
              0.3333333333333333,
              "#9c179e"
             ],
             [
              0.4444444444444444,
              "#bd3786"
             ],
             [
              0.5555555555555556,
              "#d8576b"
             ],
             [
              0.6666666666666666,
              "#ed7953"
             ],
             [
              0.7777777777777778,
              "#fb9f3a"
             ],
             [
              0.8888888888888888,
              "#fdca26"
             ],
             [
              1.0,
              "#f0f921"
             ]
            ]
           }
          ],
          "heatmap": [
           {
            "type": "heatmap",
            "colorbar": {
             "outlinewidth": 0,
             "ticks": ""
            },
            "colorscale": [
             [
              0.0,
              "#0d0887"
             ],
             [
              0.1111111111111111,
              "#46039f"
             ],
             [
              0.2222222222222222,
              "#7201a8"
             ],
             [
              0.3333333333333333,
              "#9c179e"
             ],
             [
              0.4444444444444444,
              "#bd3786"
             ],
             [
              0.5555555555555556,
              "#d8576b"
             ],
             [
              0.6666666666666666,
              "#ed7953"
             ],
             [
              0.7777777777777778,
              "#fb9f3a"
             ],
             [
              0.8888888888888888,
              "#fdca26"
             ],
             [
              1.0,
              "#f0f921"
             ]
            ]
           }
          ],
          "contourcarpet": [
           {
            "type": "contourcarpet",
            "colorbar": {
             "outlinewidth": 0,
             "ticks": ""
            }
           }
          ],
          "contour": [
           {
            "type": "contour",
            "colorbar": {
             "outlinewidth": 0,
             "ticks": ""
            },
            "colorscale": [
             [
              0.0,
              "#0d0887"
             ],
             [
              0.1111111111111111,
              "#46039f"
             ],
             [
              0.2222222222222222,
              "#7201a8"
             ],
             [
              0.3333333333333333,
              "#9c179e"
             ],
             [
              0.4444444444444444,
              "#bd3786"
             ],
             [
              0.5555555555555556,
              "#d8576b"
             ],
             [
              0.6666666666666666,
              "#ed7953"
             ],
             [
              0.7777777777777778,
              "#fb9f3a"
             ],
             [
              0.8888888888888888,
              "#fdca26"
             ],
             [
              1.0,
              "#f0f921"
             ]
            ]
           }
          ],
          "surface": [
           {
            "type": "surface",
            "colorbar": {
             "outlinewidth": 0,
             "ticks": ""
            },
            "colorscale": [
             [
              0.0,
              "#0d0887"
             ],
             [
              0.1111111111111111,
              "#46039f"
             ],
             [
              0.2222222222222222,
              "#7201a8"
             ],
             [
              0.3333333333333333,
              "#9c179e"
             ],
             [
              0.4444444444444444,
              "#bd3786"
             ],
             [
              0.5555555555555556,
              "#d8576b"
             ],
             [
              0.6666666666666666,
              "#ed7953"
             ],
             [
              0.7777777777777778,
              "#fb9f3a"
             ],
             [
              0.8888888888888888,
              "#fdca26"
             ],
             [
              1.0,
              "#f0f921"
             ]
            ]
           }
          ],
          "mesh3d": [
           {
            "type": "mesh3d",
            "colorbar": {
             "outlinewidth": 0,
             "ticks": ""
            }
           }
          ],
          "scatter": [
           {
            "fillpattern": {
             "fillmode": "overlay",
             "size": 10,
             "solidity": 0.2
            },
            "type": "scatter"
           }
          ],
          "parcoords": [
           {
            "type": "parcoords",
            "line": {
             "colorbar": {
              "outlinewidth": 0,
              "ticks": ""
             }
            }
           }
          ],
          "scatterpolargl": [
           {
            "type": "scatterpolargl",
            "marker": {
             "colorbar": {
              "outlinewidth": 0,
              "ticks": ""
             }
            }
           }
          ],
          "bar": [
           {
            "error_x": {
             "color": "#2a3f5f"
            },
            "error_y": {
             "color": "#2a3f5f"
            },
            "marker": {
             "line": {
              "color": "#E5ECF6",
              "width": 0.5
             },
             "pattern": {
              "fillmode": "overlay",
              "size": 10,
              "solidity": 0.2
             }
            },
            "type": "bar"
           }
          ],
          "scattergeo": [
           {
            "type": "scattergeo",
            "marker": {
             "colorbar": {
              "outlinewidth": 0,
              "ticks": ""
             }
            }
           }
          ],
          "scatterpolar": [
           {
            "type": "scatterpolar",
            "marker": {
             "colorbar": {
              "outlinewidth": 0,
              "ticks": ""
             }
            }
           }
          ],
          "histogram": [
           {
            "marker": {
             "pattern": {
              "fillmode": "overlay",
              "size": 10,
              "solidity": 0.2
             }
            },
            "type": "histogram"
           }
          ],
          "scattergl": [
           {
            "type": "scattergl",
            "marker": {
             "colorbar": {
              "outlinewidth": 0,
              "ticks": ""
             }
            }
           }
          ],
          "scatter3d": [
           {
            "type": "scatter3d",
            "line": {
             "colorbar": {
              "outlinewidth": 0,
              "ticks": ""
             }
            },
            "marker": {
             "colorbar": {
              "outlinewidth": 0,
              "ticks": ""
             }
            }
           }
          ],
          "scattermap": [
           {
            "type": "scattermap",
            "marker": {
             "colorbar": {
              "outlinewidth": 0,
              "ticks": ""
             }
            }
           }
          ],
          "scattermapbox": [
           {
            "type": "scattermapbox",
            "marker": {
             "colorbar": {
              "outlinewidth": 0,
              "ticks": ""
             }
            }
           }
          ],
          "scatterternary": [
           {
            "type": "scatterternary",
            "marker": {
             "colorbar": {
              "outlinewidth": 0,
              "ticks": ""
             }
            }
           }
          ],
          "scattercarpet": [
           {
            "type": "scattercarpet",
            "marker": {
             "colorbar": {
              "outlinewidth": 0,
              "ticks": ""
             }
            }
           }
          ],
          "carpet": [
           {
            "aaxis": {
             "endlinecolor": "#2a3f5f",
             "gridcolor": "white",
             "linecolor": "white",
             "minorgridcolor": "white",
             "startlinecolor": "#2a3f5f"
            },
            "baxis": {
             "endlinecolor": "#2a3f5f",
             "gridcolor": "white",
             "linecolor": "white",
             "minorgridcolor": "white",
             "startlinecolor": "#2a3f5f"
            },
            "type": "carpet"
           }
          ],
          "table": [
           {
            "cells": {
             "fill": {
              "color": "#EBF0F8"
             },
             "line": {
              "color": "white"
             }
            },
            "header": {
             "fill": {
              "color": "#C8D4E3"
             },
             "line": {
              "color": "white"
             }
            },
            "type": "table"
           }
          ],
          "barpolar": [
           {
            "marker": {
             "line": {
              "color": "#E5ECF6",
              "width": 0.5
             },
             "pattern": {
              "fillmode": "overlay",
              "size": 10,
              "solidity": 0.2
             }
            },
            "type": "barpolar"
           }
          ],
          "pie": [
           {
            "automargin": true,
            "type": "pie"
           }
          ]
         },
         "layout": {
          "autotypenumbers": "strict",
          "colorway": [
           "#636efa",
           "#EF553B",
           "#00cc96",
           "#ab63fa",
           "#FFA15A",
           "#19d3f3",
           "#FF6692",
           "#B6E880",
           "#FF97FF",
           "#FECB52"
          ],
          "font": {
           "color": "#2a3f5f"
          },
          "hovermode": "closest",
          "hoverlabel": {
           "align": "left"
          },
          "paper_bgcolor": "white",
          "plot_bgcolor": "#E5ECF6",
          "polar": {
           "bgcolor": "#E5ECF6",
           "angularaxis": {
            "gridcolor": "white",
            "linecolor": "white",
            "ticks": ""
           },
           "radialaxis": {
            "gridcolor": "white",
            "linecolor": "white",
            "ticks": ""
           }
          },
          "ternary": {
           "bgcolor": "#E5ECF6",
           "aaxis": {
            "gridcolor": "white",
            "linecolor": "white",
            "ticks": ""
           },
           "baxis": {
            "gridcolor": "white",
            "linecolor": "white",
            "ticks": ""
           },
           "caxis": {
            "gridcolor": "white",
            "linecolor": "white",
            "ticks": ""
           }
          },
          "coloraxis": {
           "colorbar": {
            "outlinewidth": 0,
            "ticks": ""
           }
          },
          "colorscale": {
           "sequential": [
            [
             0.0,
             "#0d0887"
            ],
            [
             0.1111111111111111,
             "#46039f"
            ],
            [
             0.2222222222222222,
             "#7201a8"
            ],
            [
             0.3333333333333333,
             "#9c179e"
            ],
            [
             0.4444444444444444,
             "#bd3786"
            ],
            [
             0.5555555555555556,
             "#d8576b"
            ],
            [
             0.6666666666666666,
             "#ed7953"
            ],
            [
             0.7777777777777778,
             "#fb9f3a"
            ],
            [
             0.8888888888888888,
             "#fdca26"
            ],
            [
             1.0,
             "#f0f921"
            ]
           ],
           "sequentialminus": [
            [
             0.0,
             "#0d0887"
            ],
            [
             0.1111111111111111,
             "#46039f"
            ],
            [
             0.2222222222222222,
             "#7201a8"
            ],
            [
             0.3333333333333333,
             "#9c179e"
            ],
            [
             0.4444444444444444,
             "#bd3786"
            ],
            [
             0.5555555555555556,
             "#d8576b"
            ],
            [
             0.6666666666666666,
             "#ed7953"
            ],
            [
             0.7777777777777778,
             "#fb9f3a"
            ],
            [
             0.8888888888888888,
             "#fdca26"
            ],
            [
             1.0,
             "#f0f921"
            ]
           ],
           "diverging": [
            [
             0,
             "#8e0152"
            ],
            [
             0.1,
             "#c51b7d"
            ],
            [
             0.2,
             "#de77ae"
            ],
            [
             0.3,
             "#f1b6da"
            ],
            [
             0.4,
             "#fde0ef"
            ],
            [
             0.5,
             "#f7f7f7"
            ],
            [
             0.6,
             "#e6f5d0"
            ],
            [
             0.7,
             "#b8e186"
            ],
            [
             0.8,
             "#7fbc41"
            ],
            [
             0.9,
             "#4d9221"
            ],
            [
             1,
             "#276419"
            ]
           ]
          },
          "xaxis": {
           "gridcolor": "white",
           "linecolor": "white",
           "ticks": "",
           "title": {
            "standoff": 15
           },
           "zerolinecolor": "white",
           "automargin": true,
           "zerolinewidth": 2
          },
          "yaxis": {
           "gridcolor": "white",
           "linecolor": "white",
           "ticks": "",
           "title": {
            "standoff": 15
           },
           "zerolinecolor": "white",
           "automargin": true,
           "zerolinewidth": 2
          },
          "scene": {
           "xaxis": {
            "backgroundcolor": "#E5ECF6",
            "gridcolor": "white",
            "linecolor": "white",
            "showbackground": true,
            "ticks": "",
            "zerolinecolor": "white",
            "gridwidth": 2
           },
           "yaxis": {
            "backgroundcolor": "#E5ECF6",
            "gridcolor": "white",
            "linecolor": "white",
            "showbackground": true,
            "ticks": "",
            "zerolinecolor": "white",
            "gridwidth": 2
           },
           "zaxis": {
            "backgroundcolor": "#E5ECF6",
            "gridcolor": "white",
            "linecolor": "white",
            "showbackground": true,
            "ticks": "",
            "zerolinecolor": "white",
            "gridwidth": 2
           }
          },
          "shapedefaults": {
           "line": {
            "color": "#2a3f5f"
           }
          },
          "annotationdefaults": {
           "arrowcolor": "#2a3f5f",
           "arrowhead": 0,
           "arrowwidth": 1
          },
          "geo": {
           "bgcolor": "white",
           "landcolor": "#E5ECF6",
           "subunitcolor": "white",
           "showland": true,
           "showlakes": true,
           "lakecolor": "white"
          },
          "title": {
           "x": 0.05
          },
          "mapbox": {
           "style": "light"
          }
         }
        },
        "xaxis": {
         "anchor": "y",
         "domain": [
          0.0,
          1.0
         ],
         "title": {
          "text": "Tackles Won"
         }
        },
        "yaxis": {
         "anchor": "x",
         "domain": [
          0.0,
          1.0
         ],
         "title": {
          "text": "Team"
         }
        },
        "legend": {
         "tracegroupgap": 0
        },
        "title": {
         "text": "Top 5 Teams with the Most Tackles Won in Champions League 2025"
        }
       },
       "config": {
        "plotlyServerURL": "https://plot.ly"
       }
      }
     },
     "metadata": {},
     "output_type": "display_data"
    }
   ],
   "execution_count": 74
  },
  {
   "metadata": {},
   "cell_type": "markdown",
   "source": "#### # Mean Total Goals per Phase_Tier - Heatmap",
   "id": "827f6c4f105bf62"
  },
  {
   "metadata": {
    "ExecuteTime": {
     "end_time": "2025-06-10T17:55:32.760220Z",
     "start_time": "2025-06-10T17:55:32.564597Z"
    }
   },
   "cell_type": "code",
   "source": [
    "# Mean Total Goals per Phase_Tier\n",
    "plt.figure(figsize=(10,6))\n",
    "sns.heatmap(ucl.pivot_table(index='Phase_Tier', columns='Position', values='Goals', aggfunc='mean').round(2), annot=True, fmt=\".3f\", cmap=\"YlGnBu\", cbar=True,\n",
    "            cbar_kws={'orientation': 'horizontal'})\n",
    "plt.title('Mean Total Goals per Phase_Tier', fontsize=20)\n",
    "plt.xlabel('Position', fontsize=15)\n",
    "plt.ylabel('Phase_Tier', fontsize=15)\n",
    "plt.show()"
   ],
   "id": "1b4273a143b18ba4",
   "outputs": [
    {
     "data": {
      "text/plain": [
       "<Figure size 1000x600 with 2 Axes>"
      ],
      "image/png": "[encoded data removed]"
     },
     "metadata": {},
     "output_type": "display_data"
    }
   ],
   "execution_count": 124
  }
 ],
 "metadata": {
  "kernelspec": {
   "display_name": "Python 3",
   "language": "python",
   "name": "python3"
  },
  "language_info": {
   "codemirror_mode": {
    "name": "ipython",
    "version": 2
   },
   "file_extension": ".py",
   "mimetype": "text/x-python",
   "name": "python",
   "nbconvert_exporter": "python",
   "pygments_lexer": "ipython2",
   "version": "2.7.6"
  }
 },
 "nbformat": 4,
 "nbformat_minor": 5
}
